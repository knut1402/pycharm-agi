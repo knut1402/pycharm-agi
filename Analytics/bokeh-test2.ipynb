{
 "cells": [
  {
   "cell_type": "code",
   "execution_count": 1,
   "metadata": {
    "collapsed": true,
    "ExecuteTime": {
     "end_time": "2024-03-13T11:55:56.284747100Z",
     "start_time": "2024-03-13T11:55:54.468732200Z"
    }
   },
   "outputs": [],
   "source": [
    "import os\n",
    "from importlib import reload\n",
    "import warnings\n",
    "warnings.simplefilter(action='ignore', category=FutureWarning)\n",
    "import pandas as pd\n",
    "import numpy as np\n",
    "import math\n",
    "import datetime\n",
    "import pdblp\n",
    "import runpy\n",
    "import QuantLib as ql\n",
    "import matplotlib as mpl\n",
    "#import matplotlib\n",
    "mpl.get_backend()\n",
    "import matplotlib.pyplot as plt\n",
    "plt.interactive(False)\n",
    "import seaborn as sns\n",
    "from tabulate import tabulate\n",
    "from sklearn.preprocessing import minmax_scale\n",
    "from sklearn.mixture import GaussianMixture\n",
    "from scipy.stats import zscore\n",
    "import pickle\n",
    "import re\n",
    "import concurrent.futures\n",
    "import time\n",
    "from datetime import datetime, timedelta, time\n",
    "from scipy import stats"
   ]
  },
  {
   "cell_type": "code",
   "execution_count": 2,
   "outputs": [],
   "source": [
    "pd.set_option('display.max_columns', 10000)\n",
    "pd.set_option('display.width', 10000)\n",
    "pd.options.display.float_format = '{:,}'.format\n",
    "pd.options.mode.chained_assignment = None\n",
    "\n",
    "## BBG API\n",
    "con = pdblp.BCon(debug=False, port=8194, timeout=50000)\n",
    "con.start()\n",
    "\n",
    "from Utilities import *\n",
    "from Conventions import FUT_CT,FUT_CT_Q, ccy, ccy_infl, hist\n",
    "from OIS_DC_BUILD import ois_dc_build, get_wirp, ois_from_nodes\n",
    "from SWAP_BUILD import swap_build, libor_from_nodes\n",
    "from SWAP_PRICER import Swap_Pricer, Swap_curve_fwd, quick_swap\n",
    "from SWAP_TABLE import swap_table, swap_table2, curve_hmap\n",
    "from INF_ZC_BUILD import infl_zc_swap_build, Infl_ZC_Pricer, inf_swap_table\n",
    "from BOND_CURVES import bond_curve_build\n",
    "from VOL_BUILD import build_vol_surf, build_vol_spline, bond_fut_opt_strat, get_sim_option_px, build_stir_vol_surf, stir_opt_strat\n",
    "from PLOT import plt_curve, plt_inf_curve, plt_opt_strat, rates_hm, curve_hm, plt_ois_curve, plot_opt_vol_surf, plt_stir_opt_strat, plotool, ecfc_plot\n"
   ],
   "metadata": {
    "collapsed": false,
    "ExecuteTime": {
     "end_time": "2024-03-13T11:56:30.530746300Z",
     "start_time": "2024-03-13T11:55:56.288744900Z"
    }
   }
  },
  {
   "cell_type": "code",
   "execution_count": 126,
   "outputs": [],
   "source": [
    "# bokeh imports\n",
    "from bokeh.plotting import figure, show\n",
    "from bokeh.models import HoverTool, BoxZoomTool, ResetTool, Legend, DatetimeTickFormatter, SingleIntervalTicker, LinearAxis, FuncTickFormatter\n",
    "from bokeh.models import ColumnDataSource, TabPanel, Tabs, LabelSet, Span, Range1d, FactorRange, Range, Label, LinearColorMapper\n",
    "from bokeh.layouts import row, column, gridplot, layout\n",
    "from bokeh.palettes import Category10, brewer, Category20, Bright6, Blues8, Blues4, Cividis256\n",
    "from bokeh.transform import factor_cmap\n",
    "from bokeh.models.renderers import GlyphRenderer\n",
    "from itertools import accumulate\n",
    "from bokeh.colors import RGB\n",
    "from matplotlib import cm"
   ],
   "metadata": {
    "collapsed": false,
    "ExecuteTime": {
     "end_time": "2024-03-13T14:06:06.876444200Z",
     "start_time": "2024-03-13T14:06:06.808447600Z"
    }
   }
  },
  {
   "cell_type": "code",
   "execution_count": 4,
   "outputs": [
    {
     "name": "stdout",
     "output_type": "stream",
     "text": [
      "0 USH4P 113.0 Comdty\n",
      "1 USH4P 113.5 Comdty\n",
      "2 USH4P 114.0 Comdty\n",
      "3 USH4P 114.5 Comdty\n",
      "4 USH4P 115.0 Comdty\n",
      "5 USH4P 115.5 Comdty\n",
      "6 USH4P 116.0 Comdty\n",
      "7 USH4P 116.5 Comdty\n",
      "8 USH4P 117.0 Comdty\n",
      "9 USH4P 117.5 Comdty\n",
      "10 USH4P 118.0 Comdty\n",
      "11 USH4P 118.5 Comdty\n",
      "12 USH4P 119.0 Comdty\n",
      "13 USH4P 119.5 Comdty\n",
      "14 USH4P 120.0 Comdty\n",
      "15 USH4P 120.5 Comdty\n",
      "16 USH4P 121.0 Comdty\n",
      "17 USH4P 121.5 Comdty\n",
      "18 USH4C 116.5 Comdty\n",
      "19 USH4C 117.0 Comdty\n",
      "20 USH4C 117.5 Comdty\n",
      "21 USH4C 118.0 Comdty\n",
      "22 USH4C 118.5 Comdty\n",
      "23 USH4C 119.0 Comdty\n",
      "24 USH4C 119.5 Comdty\n",
      "25 USH4C 120.0 Comdty\n",
      "26 USH4C 120.5 Comdty\n",
      "27 USH4C 121.0 Comdty\n",
      "28 USH4C 121.5 Comdty\n",
      "29 USH4C 122.0 Comdty\n",
      "30 USH4C 122.5 Comdty\n",
      "31 USH4C 123.0 Comdty\n",
      "32 USH4C 123.5 Comdty\n",
      "33 USH4C 124.0 Comdty\n",
      "34 USH4C 124.5 Comdty\n",
      "35 USH4C 125.0 Comdty\n",
      "36 USH4C 125.5 Comdty\n",
      "*** !!! listed_vol surf built !!! ***\n"
     ]
    }
   ],
   "source": [
    "#v1 = build_stir_vol_surf(['SFRM4P 96'], chain_len=[20,20], b=0)\n",
    "v2 = build_vol_surf(['USH4P 117'], chain_len=[12,12], b=0)"
   ],
   "metadata": {
    "collapsed": false,
    "ExecuteTime": {
     "end_time": "2024-02-15T14:12:34.346762700Z",
     "start_time": "2024-02-15T14:12:30.000495Z"
    }
   }
  },
  {
   "cell_type": "code",
   "execution_count": 72,
   "outputs": [
    {
     "data": {
      "text/plain": "'USH4 Comdty'"
     },
     "execution_count": 72,
     "metadata": {},
     "output_type": "execute_result"
    }
   ],
   "source": [
    "v2.fut"
   ],
   "metadata": {
    "collapsed": false,
    "ExecuteTime": {
     "end_time": "2024-02-15T03:34:35.312629100Z",
     "start_time": "2024-02-15T03:34:35.265630400Z"
    }
   }
  },
  {
   "cell_type": "code",
   "execution_count": 12,
   "outputs": [
    {
     "data": {
      "text/plain": "                ticker  strikes  opt_type        px px_64                Yld               ATM_K                bs_px                 iv               delta                gamma               theta               vega\n0   USH4P 113.0 Comdty    113.0        -1 0.0234375  0'01          4.8522009  48.773449999999926 0.023432173780820815 17.764652818178156 -2.0152952170261527 0.015539524824108284 -3.4838162011489753 0.8599648678515578\n1   USH4P 113.5 Comdty    113.5        -1 0.0234375  0'01 4.8117491999999995   44.72827999999991  0.02343456424784946 16.513617384023327  -2.151565140313758  0.01766885168734106 -3.4228986233440293 0.9089433019476555\n2   USH4P 114.0 Comdty    114.0        -1 0.0234375  0'01          4.7715218            40.70554  0.02345543438734075 15.257553097671654  -2.310808967097238 0.020310691559973778 -3.3588655079513297 0.9653745634805355\n3   USH4P 114.5 Comdty    114.5        -1   0.03125  0'02          4.7315161   36.70496999999999  0.03128058288614855 14.684353154994831  -3.080741182066164 0.026831699923379318    -4.1099967940616  1.227408875541678\n4   USH4P 115.0 Comdty    115.0        -1 0.0390625  0'02            4.69173   32.72635999999993 0.039062664301719785 13.914120745756781  -3.921936017547382  0.03452400043462796  -4.747905775810169  1.496453173854636\n5   USH4P 115.5 Comdty    115.5        -1 0.0546875  0'03          4.6521611   28.76946999999994  0.05468535915904161 13.416125290977737  -5.413924357344854 0.046384718935135634  -5.930286431577803 1.9386003430999112\n6   USH4P 116.0 Comdty    116.0        -1 0.0859375  0'05          4.6128072  24.834079999999936  0.08588920194748118 13.269778537913062  -8.021319352285314  0.06358516621131635  -7.952309839532749 2.6284864118325553\n7   USH4P 116.5 Comdty    116.5        -1     0.125  0'08           4.573666  20.919959999999982  0.12500069712226447 12.927214812080907 -11.206388782678532  0.08348908919782998  -9.908500999725051 3.3621798364765385\n8   USH4P 117.0 Comdty    117.0        -1 0.1796875  0'11          4.5347354  17.026899999999934  0.17978839220290524 12.574137614821757  -15.40484727427607  0.10689110085021691 -12.000842966711872 4.1870293901799664\n9   USH4P 117.5 Comdty    117.5        -1  0.265625  0'17          4.4960132  13.154679999999974  0.26561541975162006  12.41172239281169 -21.175987169398958  0.13214060528951396 -14.452264560779648  5.109219907229104\n10  USH4P 118.0 Comdty    118.0        -1     0.375  0'24          4.4574974   9.303099999999986  0.37502240855487834 12.124596462036074 -28.015254318512987  0.15724896688029552  -16.40796621269319  5.939383175019725\n11  USH4P 118.5 Comdty    118.5        -1  0.515625  0'33          4.4191857   5.471929999999947   0.5155305301128755 11.769910879756395 -36.059470804711566   0.1800557042551641 -17.698691481742298  6.601859986684568\n12  USH4P 119.0 Comdty    119.0        -1   0.71875  0'46          4.3810763  1.6609899999999733   0.7187398898839634 11.718059420152096  -45.38771090659627  0.19140666299953601 -18.639714698056768  6.987132807860281\n13  USH4P 119.5 Comdty    119.5        -1  0.953125  0'61          4.3431669  -2.129950000000047   0.9530813514770108 11.430087831429901  -55.13859137102241  0.19583827832562994 -18.131985737879393   6.97322053750257\n14  USH4P 120.0 Comdty    120.0        -1      1.25  1'16 4.3054556999999996  -5.901070000000086   1.2498738745132345 11.336020126694024  -64.75714155556477  0.18523031138205762 -16.849426399273224  6.541222404511856\n15  USH4P 120.5 Comdty    120.5        -1   1.59375  1'38          4.2679407  -9.652570000000082   1.5937309211636619 11.249106317724314  -73.59545597065848  0.16420434992491795  -14.68194983822926  5.754252693603206\n16  USH4P 121.0 Comdty    121.0        -1 1.9765625  1'62          4.2306199 -13.384650000000065    1.976557404654634 11.106073264488954  -81.33273813291359   0.1363460988169303 -11.846558586972227  4.717256600666622\n17  USH4P 121.5 Comdty    121.5        -1 2.3984375  2'25          4.1934914 -17.097500000000032   2.3984382239591917 11.045023494160521  -87.41112540540645  0.10539728478520909  -9.010026226621427 3.6264552052715264\n18  USH4C 116.5 Comdty    116.5         1   2.84375  2'54           4.573666  20.919959999999982    2.843750776668982 13.020783211090517   88.51275681677505  0.08375589465012907  -9.940334320921243  3.397337873350618\n19  USH4C 117.0 Comdty    117.0         1 2.3984375  2'25          4.5347354  17.026899999999934    2.398337298869629 12.630842007535852   84.37211425800713  0.10689771328898295 -11.992356190828087  4.206171422250642\n20  USH4C 117.5 Comdty    117.5         1 1.9765625  1'62          4.4960132  13.154679999999974   1.9765494096439824 12.297542323641245   78.91704873748108  0.13259288807528302  -14.14508296250984  5.079544936662836\n21  USH4C 118.0 Comdty    118.0         1   1.59375  1'38          4.4574974   9.303099999999986   1.5937810998618387 12.148602814364123    71.8309501767123   0.1570397649341354 -16.386425921625484  5.943225660977787\n22  USH4C 118.5 Comdty    118.5         1 1.2421875  1'15          4.4191857   5.471929999999947   1.2421017276315618 11.900957015056287   63.68481442876997  0.17830789335241792 -17.881110997187324  6.610566920196281\n23  USH4C 119.0 Comdty    119.0         1    0.9375  0'60          4.3810763  1.6609899999999733   0.9374899045873248 11.721701188800077  54.494777903176896   0.1913478573024295  -18.63396843977896  6.987156969290106\n24  USH4C 119.5 Comdty    119.5         1    0.6875  0'44          4.3431669  -2.129950000000047   0.6874599924714112 11.649480284308366   44.85513694640329   0.1922193451979806 -18.501771169201014 6.9757337273334725\n25  USH4C 120.0 Comdty    120.0         1 0.4765625  0'30 4.3054556999999996  -5.901070000000086    0.476417832393311 11.441206115285254   35.26213007807299  0.18378183377568694 -17.071128259829358 6.5502917008891695\n26  USH4C 120.5 Comdty    120.5         1 0.3203125  0'20          4.2679407  -9.652570000000082  0.32029764955991397 11.358831299257423   26.49342978543268   0.1632633972154332 -14.952766765426526  5.777084622158049\n27  USH4C 121.0 Comdty    121.0         1  0.203125  0'13          4.2306199 -13.384650000000065  0.20312193312410884 11.227276615417079  18.814742029889928  0.13605742461345635 -12.177151881243061  4.758640751085057\n28  USH4C 121.5 Comdty    121.5         1 0.1328125  0'08          4.1934914 -17.097500000000032     0.13281306699779 11.395375221005597  13.225416827814836  0.10639751663021565  -9.811509554043969  3.776994669331837\n29  USH4C 122.0 Comdty    122.0         1 0.0859375  0'05          4.1565533 -20.791310000000074  0.08595151942330712 11.600929597115686    9.09735529989854  0.07992151246186485  -7.639220018839013 2.8883028959724917\n30  USH4C 122.5 Comdty    122.5         1 0.0546875  0'03          4.1198039 -24.466250000000045 0.054689308667146413 11.806368603044666   6.114841963606817  0.05800522493251705 -5.7430073795496845 2.1333872919922996\n31  USH4C 123.0 Comdty    123.0         1 0.0390625  0'02          4.0832411           -28.12253 0.039066610591373126 12.312732559627317   4.415623445061778 0.042946757290233985  -4.624913880520763 1.6472938413169937\n32  USH4C 123.5 Comdty    123.5         1 0.0234375  0'01          4.0468634 -31.760300000000008 0.023435601897853958 12.417961104603675  2.8041070943107904  0.02934459075266669 -3.2145463059755404  1.135179665011049\n33  USH4C 124.0 Comdty    124.0         1 0.0234375  0'01          4.0106688 -35.379760000000005 0.023436954089907293  13.59142389091561  2.5909753686339307 0.025099111632371534 -3.2936946393085536 1.0626972534802694\n34  USH4C 124.5 Comdty    124.5         1 0.0234375  0'01          3.9746556  -38.98108000000002 0.023435839949853866 14.744995322209395   2.412104391771512  0.02178885780319286 -3.3652885506030037 1.0008416131324032\n35  USH4C 125.0 Comdty    125.0         1 0.0234375  0'01          3.9388221  -42.56443000000005 0.023428919840684823  15.88018986963339   2.259287622910825  0.01914713549703193  -3.430179449212921 0.9472088602718478\n36  USH4C 125.5 Comdty    125.5         1  0.015625  0'01          3.9031665  -46.12999000000002   0.0156189293751009 16.017247146721587  1.5623781738595726 0.013870558249482488  -2.528054155673162 0.6920987546774867",
      "text/html": "<div>\n<style scoped>\n    .dataframe tbody tr th:only-of-type {\n        vertical-align: middle;\n    }\n\n    .dataframe tbody tr th {\n        vertical-align: top;\n    }\n\n    .dataframe thead th {\n        text-align: right;\n    }\n</style>\n<table border=\"1\" class=\"dataframe\">\n  <thead>\n    <tr style=\"text-align: right;\">\n      <th></th>\n      <th>ticker</th>\n      <th>strikes</th>\n      <th>opt_type</th>\n      <th>px</th>\n      <th>px_64</th>\n      <th>Yld</th>\n      <th>ATM_K</th>\n      <th>bs_px</th>\n      <th>iv</th>\n      <th>delta</th>\n      <th>gamma</th>\n      <th>theta</th>\n      <th>vega</th>\n    </tr>\n  </thead>\n  <tbody>\n    <tr>\n      <th>0</th>\n      <td>USH4P 113.0 Comdty</td>\n      <td>113.0</td>\n      <td>-1</td>\n      <td>0.0234375</td>\n      <td>0'01</td>\n      <td>4.8522009</td>\n      <td>48.773449999999926</td>\n      <td>0.023432173780820815</td>\n      <td>17.764652818178156</td>\n      <td>-2.0152952170261527</td>\n      <td>0.015539524824108284</td>\n      <td>-3.4838162011489753</td>\n      <td>0.8599648678515578</td>\n    </tr>\n    <tr>\n      <th>1</th>\n      <td>USH4P 113.5 Comdty</td>\n      <td>113.5</td>\n      <td>-1</td>\n      <td>0.0234375</td>\n      <td>0'01</td>\n      <td>4.8117491999999995</td>\n      <td>44.72827999999991</td>\n      <td>0.02343456424784946</td>\n      <td>16.513617384023327</td>\n      <td>-2.151565140313758</td>\n      <td>0.01766885168734106</td>\n      <td>-3.4228986233440293</td>\n      <td>0.9089433019476555</td>\n    </tr>\n    <tr>\n      <th>2</th>\n      <td>USH4P 114.0 Comdty</td>\n      <td>114.0</td>\n      <td>-1</td>\n      <td>0.0234375</td>\n      <td>0'01</td>\n      <td>4.7715218</td>\n      <td>40.70554</td>\n      <td>0.02345543438734075</td>\n      <td>15.257553097671654</td>\n      <td>-2.310808967097238</td>\n      <td>0.020310691559973778</td>\n      <td>-3.3588655079513297</td>\n      <td>0.9653745634805355</td>\n    </tr>\n    <tr>\n      <th>3</th>\n      <td>USH4P 114.5 Comdty</td>\n      <td>114.5</td>\n      <td>-1</td>\n      <td>0.03125</td>\n      <td>0'02</td>\n      <td>4.7315161</td>\n      <td>36.70496999999999</td>\n      <td>0.03128058288614855</td>\n      <td>14.684353154994831</td>\n      <td>-3.080741182066164</td>\n      <td>0.026831699923379318</td>\n      <td>-4.1099967940616</td>\n      <td>1.227408875541678</td>\n    </tr>\n    <tr>\n      <th>4</th>\n      <td>USH4P 115.0 Comdty</td>\n      <td>115.0</td>\n      <td>-1</td>\n      <td>0.0390625</td>\n      <td>0'02</td>\n      <td>4.69173</td>\n      <td>32.72635999999993</td>\n      <td>0.039062664301719785</td>\n      <td>13.914120745756781</td>\n      <td>-3.921936017547382</td>\n      <td>0.03452400043462796</td>\n      <td>-4.747905775810169</td>\n      <td>1.496453173854636</td>\n    </tr>\n    <tr>\n      <th>5</th>\n      <td>USH4P 115.5 Comdty</td>\n      <td>115.5</td>\n      <td>-1</td>\n      <td>0.0546875</td>\n      <td>0'03</td>\n      <td>4.6521611</td>\n      <td>28.76946999999994</td>\n      <td>0.05468535915904161</td>\n      <td>13.416125290977737</td>\n      <td>-5.413924357344854</td>\n      <td>0.046384718935135634</td>\n      <td>-5.930286431577803</td>\n      <td>1.9386003430999112</td>\n    </tr>\n    <tr>\n      <th>6</th>\n      <td>USH4P 116.0 Comdty</td>\n      <td>116.0</td>\n      <td>-1</td>\n      <td>0.0859375</td>\n      <td>0'05</td>\n      <td>4.6128072</td>\n      <td>24.834079999999936</td>\n      <td>0.08588920194748118</td>\n      <td>13.269778537913062</td>\n      <td>-8.021319352285314</td>\n      <td>0.06358516621131635</td>\n      <td>-7.952309839532749</td>\n      <td>2.6284864118325553</td>\n    </tr>\n    <tr>\n      <th>7</th>\n      <td>USH4P 116.5 Comdty</td>\n      <td>116.5</td>\n      <td>-1</td>\n      <td>0.125</td>\n      <td>0'08</td>\n      <td>4.573666</td>\n      <td>20.919959999999982</td>\n      <td>0.12500069712226447</td>\n      <td>12.927214812080907</td>\n      <td>-11.206388782678532</td>\n      <td>0.08348908919782998</td>\n      <td>-9.908500999725051</td>\n      <td>3.3621798364765385</td>\n    </tr>\n    <tr>\n      <th>8</th>\n      <td>USH4P 117.0 Comdty</td>\n      <td>117.0</td>\n      <td>-1</td>\n      <td>0.1796875</td>\n      <td>0'11</td>\n      <td>4.5347354</td>\n      <td>17.026899999999934</td>\n      <td>0.17978839220290524</td>\n      <td>12.574137614821757</td>\n      <td>-15.40484727427607</td>\n      <td>0.10689110085021691</td>\n      <td>-12.000842966711872</td>\n      <td>4.1870293901799664</td>\n    </tr>\n    <tr>\n      <th>9</th>\n      <td>USH4P 117.5 Comdty</td>\n      <td>117.5</td>\n      <td>-1</td>\n      <td>0.265625</td>\n      <td>0'17</td>\n      <td>4.4960132</td>\n      <td>13.154679999999974</td>\n      <td>0.26561541975162006</td>\n      <td>12.41172239281169</td>\n      <td>-21.175987169398958</td>\n      <td>0.13214060528951396</td>\n      <td>-14.452264560779648</td>\n      <td>5.109219907229104</td>\n    </tr>\n    <tr>\n      <th>10</th>\n      <td>USH4P 118.0 Comdty</td>\n      <td>118.0</td>\n      <td>-1</td>\n      <td>0.375</td>\n      <td>0'24</td>\n      <td>4.4574974</td>\n      <td>9.303099999999986</td>\n      <td>0.37502240855487834</td>\n      <td>12.124596462036074</td>\n      <td>-28.015254318512987</td>\n      <td>0.15724896688029552</td>\n      <td>-16.40796621269319</td>\n      <td>5.939383175019725</td>\n    </tr>\n    <tr>\n      <th>11</th>\n      <td>USH4P 118.5 Comdty</td>\n      <td>118.5</td>\n      <td>-1</td>\n      <td>0.515625</td>\n      <td>0'33</td>\n      <td>4.4191857</td>\n      <td>5.471929999999947</td>\n      <td>0.5155305301128755</td>\n      <td>11.769910879756395</td>\n      <td>-36.059470804711566</td>\n      <td>0.1800557042551641</td>\n      <td>-17.698691481742298</td>\n      <td>6.601859986684568</td>\n    </tr>\n    <tr>\n      <th>12</th>\n      <td>USH4P 119.0 Comdty</td>\n      <td>119.0</td>\n      <td>-1</td>\n      <td>0.71875</td>\n      <td>0'46</td>\n      <td>4.3810763</td>\n      <td>1.6609899999999733</td>\n      <td>0.7187398898839634</td>\n      <td>11.718059420152096</td>\n      <td>-45.38771090659627</td>\n      <td>0.19140666299953601</td>\n      <td>-18.639714698056768</td>\n      <td>6.987132807860281</td>\n    </tr>\n    <tr>\n      <th>13</th>\n      <td>USH4P 119.5 Comdty</td>\n      <td>119.5</td>\n      <td>-1</td>\n      <td>0.953125</td>\n      <td>0'61</td>\n      <td>4.3431669</td>\n      <td>-2.129950000000047</td>\n      <td>0.9530813514770108</td>\n      <td>11.430087831429901</td>\n      <td>-55.13859137102241</td>\n      <td>0.19583827832562994</td>\n      <td>-18.131985737879393</td>\n      <td>6.97322053750257</td>\n    </tr>\n    <tr>\n      <th>14</th>\n      <td>USH4P 120.0 Comdty</td>\n      <td>120.0</td>\n      <td>-1</td>\n      <td>1.25</td>\n      <td>1'16</td>\n      <td>4.3054556999999996</td>\n      <td>-5.901070000000086</td>\n      <td>1.2498738745132345</td>\n      <td>11.336020126694024</td>\n      <td>-64.75714155556477</td>\n      <td>0.18523031138205762</td>\n      <td>-16.849426399273224</td>\n      <td>6.541222404511856</td>\n    </tr>\n    <tr>\n      <th>15</th>\n      <td>USH4P 120.5 Comdty</td>\n      <td>120.5</td>\n      <td>-1</td>\n      <td>1.59375</td>\n      <td>1'38</td>\n      <td>4.2679407</td>\n      <td>-9.652570000000082</td>\n      <td>1.5937309211636619</td>\n      <td>11.249106317724314</td>\n      <td>-73.59545597065848</td>\n      <td>0.16420434992491795</td>\n      <td>-14.68194983822926</td>\n      <td>5.754252693603206</td>\n    </tr>\n    <tr>\n      <th>16</th>\n      <td>USH4P 121.0 Comdty</td>\n      <td>121.0</td>\n      <td>-1</td>\n      <td>1.9765625</td>\n      <td>1'62</td>\n      <td>4.2306199</td>\n      <td>-13.384650000000065</td>\n      <td>1.976557404654634</td>\n      <td>11.106073264488954</td>\n      <td>-81.33273813291359</td>\n      <td>0.1363460988169303</td>\n      <td>-11.846558586972227</td>\n      <td>4.717256600666622</td>\n    </tr>\n    <tr>\n      <th>17</th>\n      <td>USH4P 121.5 Comdty</td>\n      <td>121.5</td>\n      <td>-1</td>\n      <td>2.3984375</td>\n      <td>2'25</td>\n      <td>4.1934914</td>\n      <td>-17.097500000000032</td>\n      <td>2.3984382239591917</td>\n      <td>11.045023494160521</td>\n      <td>-87.41112540540645</td>\n      <td>0.10539728478520909</td>\n      <td>-9.010026226621427</td>\n      <td>3.6264552052715264</td>\n    </tr>\n    <tr>\n      <th>18</th>\n      <td>USH4C 116.5 Comdty</td>\n      <td>116.5</td>\n      <td>1</td>\n      <td>2.84375</td>\n      <td>2'54</td>\n      <td>4.573666</td>\n      <td>20.919959999999982</td>\n      <td>2.843750776668982</td>\n      <td>13.020783211090517</td>\n      <td>88.51275681677505</td>\n      <td>0.08375589465012907</td>\n      <td>-9.940334320921243</td>\n      <td>3.397337873350618</td>\n    </tr>\n    <tr>\n      <th>19</th>\n      <td>USH4C 117.0 Comdty</td>\n      <td>117.0</td>\n      <td>1</td>\n      <td>2.3984375</td>\n      <td>2'25</td>\n      <td>4.5347354</td>\n      <td>17.026899999999934</td>\n      <td>2.398337298869629</td>\n      <td>12.630842007535852</td>\n      <td>84.37211425800713</td>\n      <td>0.10689771328898295</td>\n      <td>-11.992356190828087</td>\n      <td>4.206171422250642</td>\n    </tr>\n    <tr>\n      <th>20</th>\n      <td>USH4C 117.5 Comdty</td>\n      <td>117.5</td>\n      <td>1</td>\n      <td>1.9765625</td>\n      <td>1'62</td>\n      <td>4.4960132</td>\n      <td>13.154679999999974</td>\n      <td>1.9765494096439824</td>\n      <td>12.297542323641245</td>\n      <td>78.91704873748108</td>\n      <td>0.13259288807528302</td>\n      <td>-14.14508296250984</td>\n      <td>5.079544936662836</td>\n    </tr>\n    <tr>\n      <th>21</th>\n      <td>USH4C 118.0 Comdty</td>\n      <td>118.0</td>\n      <td>1</td>\n      <td>1.59375</td>\n      <td>1'38</td>\n      <td>4.4574974</td>\n      <td>9.303099999999986</td>\n      <td>1.5937810998618387</td>\n      <td>12.148602814364123</td>\n      <td>71.8309501767123</td>\n      <td>0.1570397649341354</td>\n      <td>-16.386425921625484</td>\n      <td>5.943225660977787</td>\n    </tr>\n    <tr>\n      <th>22</th>\n      <td>USH4C 118.5 Comdty</td>\n      <td>118.5</td>\n      <td>1</td>\n      <td>1.2421875</td>\n      <td>1'15</td>\n      <td>4.4191857</td>\n      <td>5.471929999999947</td>\n      <td>1.2421017276315618</td>\n      <td>11.900957015056287</td>\n      <td>63.68481442876997</td>\n      <td>0.17830789335241792</td>\n      <td>-17.881110997187324</td>\n      <td>6.610566920196281</td>\n    </tr>\n    <tr>\n      <th>23</th>\n      <td>USH4C 119.0 Comdty</td>\n      <td>119.0</td>\n      <td>1</td>\n      <td>0.9375</td>\n      <td>0'60</td>\n      <td>4.3810763</td>\n      <td>1.6609899999999733</td>\n      <td>0.9374899045873248</td>\n      <td>11.721701188800077</td>\n      <td>54.494777903176896</td>\n      <td>0.1913478573024295</td>\n      <td>-18.63396843977896</td>\n      <td>6.987156969290106</td>\n    </tr>\n    <tr>\n      <th>24</th>\n      <td>USH4C 119.5 Comdty</td>\n      <td>119.5</td>\n      <td>1</td>\n      <td>0.6875</td>\n      <td>0'44</td>\n      <td>4.3431669</td>\n      <td>-2.129950000000047</td>\n      <td>0.6874599924714112</td>\n      <td>11.649480284308366</td>\n      <td>44.85513694640329</td>\n      <td>0.1922193451979806</td>\n      <td>-18.501771169201014</td>\n      <td>6.9757337273334725</td>\n    </tr>\n    <tr>\n      <th>25</th>\n      <td>USH4C 120.0 Comdty</td>\n      <td>120.0</td>\n      <td>1</td>\n      <td>0.4765625</td>\n      <td>0'30</td>\n      <td>4.3054556999999996</td>\n      <td>-5.901070000000086</td>\n      <td>0.476417832393311</td>\n      <td>11.441206115285254</td>\n      <td>35.26213007807299</td>\n      <td>0.18378183377568694</td>\n      <td>-17.071128259829358</td>\n      <td>6.5502917008891695</td>\n    </tr>\n    <tr>\n      <th>26</th>\n      <td>USH4C 120.5 Comdty</td>\n      <td>120.5</td>\n      <td>1</td>\n      <td>0.3203125</td>\n      <td>0'20</td>\n      <td>4.2679407</td>\n      <td>-9.652570000000082</td>\n      <td>0.32029764955991397</td>\n      <td>11.358831299257423</td>\n      <td>26.49342978543268</td>\n      <td>0.1632633972154332</td>\n      <td>-14.952766765426526</td>\n      <td>5.777084622158049</td>\n    </tr>\n    <tr>\n      <th>27</th>\n      <td>USH4C 121.0 Comdty</td>\n      <td>121.0</td>\n      <td>1</td>\n      <td>0.203125</td>\n      <td>0'13</td>\n      <td>4.2306199</td>\n      <td>-13.384650000000065</td>\n      <td>0.20312193312410884</td>\n      <td>11.227276615417079</td>\n      <td>18.814742029889928</td>\n      <td>0.13605742461345635</td>\n      <td>-12.177151881243061</td>\n      <td>4.758640751085057</td>\n    </tr>\n    <tr>\n      <th>28</th>\n      <td>USH4C 121.5 Comdty</td>\n      <td>121.5</td>\n      <td>1</td>\n      <td>0.1328125</td>\n      <td>0'08</td>\n      <td>4.1934914</td>\n      <td>-17.097500000000032</td>\n      <td>0.13281306699779</td>\n      <td>11.395375221005597</td>\n      <td>13.225416827814836</td>\n      <td>0.10639751663021565</td>\n      <td>-9.811509554043969</td>\n      <td>3.776994669331837</td>\n    </tr>\n    <tr>\n      <th>29</th>\n      <td>USH4C 122.0 Comdty</td>\n      <td>122.0</td>\n      <td>1</td>\n      <td>0.0859375</td>\n      <td>0'05</td>\n      <td>4.1565533</td>\n      <td>-20.791310000000074</td>\n      <td>0.08595151942330712</td>\n      <td>11.600929597115686</td>\n      <td>9.09735529989854</td>\n      <td>0.07992151246186485</td>\n      <td>-7.639220018839013</td>\n      <td>2.8883028959724917</td>\n    </tr>\n    <tr>\n      <th>30</th>\n      <td>USH4C 122.5 Comdty</td>\n      <td>122.5</td>\n      <td>1</td>\n      <td>0.0546875</td>\n      <td>0'03</td>\n      <td>4.1198039</td>\n      <td>-24.466250000000045</td>\n      <td>0.054689308667146413</td>\n      <td>11.806368603044666</td>\n      <td>6.114841963606817</td>\n      <td>0.05800522493251705</td>\n      <td>-5.7430073795496845</td>\n      <td>2.1333872919922996</td>\n    </tr>\n    <tr>\n      <th>31</th>\n      <td>USH4C 123.0 Comdty</td>\n      <td>123.0</td>\n      <td>1</td>\n      <td>0.0390625</td>\n      <td>0'02</td>\n      <td>4.0832411</td>\n      <td>-28.12253</td>\n      <td>0.039066610591373126</td>\n      <td>12.312732559627317</td>\n      <td>4.415623445061778</td>\n      <td>0.042946757290233985</td>\n      <td>-4.624913880520763</td>\n      <td>1.6472938413169937</td>\n    </tr>\n    <tr>\n      <th>32</th>\n      <td>USH4C 123.5 Comdty</td>\n      <td>123.5</td>\n      <td>1</td>\n      <td>0.0234375</td>\n      <td>0'01</td>\n      <td>4.0468634</td>\n      <td>-31.760300000000008</td>\n      <td>0.023435601897853958</td>\n      <td>12.417961104603675</td>\n      <td>2.8041070943107904</td>\n      <td>0.02934459075266669</td>\n      <td>-3.2145463059755404</td>\n      <td>1.135179665011049</td>\n    </tr>\n    <tr>\n      <th>33</th>\n      <td>USH4C 124.0 Comdty</td>\n      <td>124.0</td>\n      <td>1</td>\n      <td>0.0234375</td>\n      <td>0'01</td>\n      <td>4.0106688</td>\n      <td>-35.379760000000005</td>\n      <td>0.023436954089907293</td>\n      <td>13.59142389091561</td>\n      <td>2.5909753686339307</td>\n      <td>0.025099111632371534</td>\n      <td>-3.2936946393085536</td>\n      <td>1.0626972534802694</td>\n    </tr>\n    <tr>\n      <th>34</th>\n      <td>USH4C 124.5 Comdty</td>\n      <td>124.5</td>\n      <td>1</td>\n      <td>0.0234375</td>\n      <td>0'01</td>\n      <td>3.9746556</td>\n      <td>-38.98108000000002</td>\n      <td>0.023435839949853866</td>\n      <td>14.744995322209395</td>\n      <td>2.412104391771512</td>\n      <td>0.02178885780319286</td>\n      <td>-3.3652885506030037</td>\n      <td>1.0008416131324032</td>\n    </tr>\n    <tr>\n      <th>35</th>\n      <td>USH4C 125.0 Comdty</td>\n      <td>125.0</td>\n      <td>1</td>\n      <td>0.0234375</td>\n      <td>0'01</td>\n      <td>3.9388221</td>\n      <td>-42.56443000000005</td>\n      <td>0.023428919840684823</td>\n      <td>15.88018986963339</td>\n      <td>2.259287622910825</td>\n      <td>0.01914713549703193</td>\n      <td>-3.430179449212921</td>\n      <td>0.9472088602718478</td>\n    </tr>\n    <tr>\n      <th>36</th>\n      <td>USH4C 125.5 Comdty</td>\n      <td>125.5</td>\n      <td>1</td>\n      <td>0.015625</td>\n      <td>0'01</td>\n      <td>3.9031665</td>\n      <td>-46.12999000000002</td>\n      <td>0.0156189293751009</td>\n      <td>16.017247146721587</td>\n      <td>1.5623781738595726</td>\n      <td>0.013870558249482488</td>\n      <td>-2.528054155673162</td>\n      <td>0.6920987546774867</td>\n    </tr>\n  </tbody>\n</table>\n</div>"
     },
     "execution_count": 12,
     "metadata": {},
     "output_type": "execute_result"
    }
   ],
   "source": [
    "v2.tab"
   ],
   "metadata": {
    "collapsed": false,
    "ExecuteTime": {
     "end_time": "2024-02-15T12:35:25.112896400Z",
     "start_time": "2024-02-15T12:35:25.075297400Z"
    }
   }
  },
  {
   "cell_type": "code",
   "execution_count": 83,
   "outputs": [],
   "source": [
    "opt_w = [1]"
   ],
   "metadata": {
    "collapsed": false,
    "ExecuteTime": {
     "end_time": "2024-02-15T03:54:37.914934300Z",
     "start_time": "2024-02-15T03:54:37.860899300Z"
    }
   }
  },
  {
   "cell_type": "code",
   "execution_count": 84,
   "outputs": [
    {
     "data": {
      "text/plain": "['USH4 Comdty', 'USH4P 115.5 Comdty']"
     },
     "execution_count": 84,
     "metadata": {},
     "output_type": "execute_result"
    }
   ],
   "source": [
    "ticker_list = [v2.fut]+ v2.tab.loc[[6]]['ticker'].tolist()\n",
    "st_date = '20230801'\n",
    "\n",
    "ticker_list"
   ],
   "metadata": {
    "collapsed": false,
    "ExecuteTime": {
     "end_time": "2024-02-15T03:54:38.796173300Z",
     "start_time": "2024-02-15T03:54:38.740902900Z"
    }
   }
  },
  {
   "cell_type": "code",
   "execution_count": 92,
   "outputs": [
    {
     "data": {
      "text/plain": "ticker     USH4 Comdty USH4P 115.5 Comdty\nfield          PX_LAST            PX_LAST\ndate                                     \n2024-01-29   120.53125             0.1875\n2024-01-30      121.25           0.109375\n2024-01-31   122.34375             0.0625\n2024-02-01   124.03125           0.046875\n2024-02-02   121.90625           0.078125\n2024-02-05     120.125           0.140625\n2024-02-06       121.0           0.078125\n2024-02-07   120.84375             0.0625\n2024-02-08    119.6875            0.09375\n2024-02-09     119.625             0.0625\n2024-02-12   119.84375           0.046875\n2024-02-13   117.96875             0.1875\n2024-02-14   118.53125            0.09375\n2024-02-15       119.0             0.0625",
      "text/html": "<div>\n<style scoped>\n    .dataframe tbody tr th:only-of-type {\n        vertical-align: middle;\n    }\n\n    .dataframe tbody tr th {\n        vertical-align: top;\n    }\n\n    .dataframe thead tr th {\n        text-align: left;\n    }\n\n    .dataframe thead tr:last-of-type th {\n        text-align: right;\n    }\n</style>\n<table border=\"1\" class=\"dataframe\">\n  <thead>\n    <tr>\n      <th>ticker</th>\n      <th>USH4 Comdty</th>\n      <th>USH4P 115.5 Comdty</th>\n    </tr>\n    <tr>\n      <th>field</th>\n      <th>PX_LAST</th>\n      <th>PX_LAST</th>\n    </tr>\n    <tr>\n      <th>date</th>\n      <th></th>\n      <th></th>\n    </tr>\n  </thead>\n  <tbody>\n    <tr>\n      <th>2024-01-29</th>\n      <td>120.53125</td>\n      <td>0.1875</td>\n    </tr>\n    <tr>\n      <th>2024-01-30</th>\n      <td>121.25</td>\n      <td>0.109375</td>\n    </tr>\n    <tr>\n      <th>2024-01-31</th>\n      <td>122.34375</td>\n      <td>0.0625</td>\n    </tr>\n    <tr>\n      <th>2024-02-01</th>\n      <td>124.03125</td>\n      <td>0.046875</td>\n    </tr>\n    <tr>\n      <th>2024-02-02</th>\n      <td>121.90625</td>\n      <td>0.078125</td>\n    </tr>\n    <tr>\n      <th>2024-02-05</th>\n      <td>120.125</td>\n      <td>0.140625</td>\n    </tr>\n    <tr>\n      <th>2024-02-06</th>\n      <td>121.0</td>\n      <td>0.078125</td>\n    </tr>\n    <tr>\n      <th>2024-02-07</th>\n      <td>120.84375</td>\n      <td>0.0625</td>\n    </tr>\n    <tr>\n      <th>2024-02-08</th>\n      <td>119.6875</td>\n      <td>0.09375</td>\n    </tr>\n    <tr>\n      <th>2024-02-09</th>\n      <td>119.625</td>\n      <td>0.0625</td>\n    </tr>\n    <tr>\n      <th>2024-02-12</th>\n      <td>119.84375</td>\n      <td>0.046875</td>\n    </tr>\n    <tr>\n      <th>2024-02-13</th>\n      <td>117.96875</td>\n      <td>0.1875</td>\n    </tr>\n    <tr>\n      <th>2024-02-14</th>\n      <td>118.53125</td>\n      <td>0.09375</td>\n    </tr>\n    <tr>\n      <th>2024-02-15</th>\n      <td>119.0</td>\n      <td>0.0625</td>\n    </tr>\n  </tbody>\n</table>\n</div>"
     },
     "execution_count": 92,
     "metadata": {},
     "output_type": "execute_result"
    }
   ],
   "source": [
    "df1 = con.bdh(ticker_list , 'PX_LAST', st_date, datetime.datetime.now().strftime('%Y%m%d'))\n",
    "df1.dropna(inplace=True)\n",
    "px_series = np.round(100*np.sum([ np.array(df1.iloc[:,i+1])*opt_w[i] for i in np.arange(len(opt_w)) ], axis=0),1)\n",
    "\n",
    "df1"
   ],
   "metadata": {
    "collapsed": false,
    "ExecuteTime": {
     "end_time": "2024-02-15T03:56:41.212071100Z",
     "start_time": "2024-02-15T03:56:40.652963Z"
    }
   }
  },
  {
   "cell_type": "code",
   "execution_count": 67,
   "outputs": [],
   "source": [
    "s1 = figure(width=550, height=400,tools=[\"pan\", \"crosshair\", \"wheel_zoom\", \"box_zoom\", \"save\", \"reset\", \"help\"], toolbar_location='right')\n",
    "s1.xaxis.formatter=DatetimeTickFormatter(days=\"%d-%b-%y\", months=\"%d-%b-%y\")\n",
    "s1.add_tools(HoverTool(tooltips=[('date', '$x{%d.%b.%y}'), ('y', '$y{0.0}')], formatters={'$x': 'datetime'}))\n",
    "s1.xgrid.visible = False\n",
    "s1.ygrid.visible = False\n",
    "s1.line(x=df1.index , y=px_series , width=0.7, color='royalblue', legend_label=\"strat\")\n",
    "s1.legend.location = 'bottom_right'\n",
    "s1.legend.label_text_font = \"calibri\"\n",
    "s1.legend.label_text_font_size = \"9pt\"\n",
    "s1.legend.spacing = 1\n",
    "s1.legend.click_policy = \"mute\"\n",
    "s1.legend.background_fill_alpha = 0.0\n",
    "s1.yaxis.axis_label = 'px (bps)'\n",
    "s1.xaxis.axis_label = 'date'\n",
    "\n",
    "s2 = figure(width=550, height=400,tools=[\"pan\", \"crosshair\", \"wheel_zoom\", \"box_zoom\", \"save\", \"reset\", \"help\"], toolbar_location='right')\n",
    "s2.xaxis.formatter=DatetimeTickFormatter(days=\"%d-%b-%y\", months=\"%d-%b-%y\")\n",
    "s2.add_tools(HoverTool(tooltips=[('date', '$x{%d.%b.%y}'), ('y', '$y{0.0}')], formatters={'$x': 'datetime'}))\n",
    "s2.xgrid.visible = False\n",
    "s2.ygrid.visible = False\n",
    "s2.line(x=df1.index , y=df1.iloc[:,0] , width=0.7, color='royalblue', legend_label=\"fut\")\n",
    "s2.legend.location = 'bottom_right'\n",
    "s2.legend.label_text_font = \"calibri\"\n",
    "s2.legend.label_text_font_size = \"9pt\"\n",
    "s2.legend.spacing = 1\n",
    "s2.legend.click_policy = \"mute\"\n",
    "s2.legend.background_fill_alpha = 0.0\n",
    "s2.yaxis.axis_label = 'px (bps)'\n",
    "s2.xaxis.axis_label = 'date'\n",
    "\n",
    "s_plot = []\n",
    "s_plot.append(s1)\n",
    "s_plot.append(s2)\n",
    "layout = column(*s_plot)\n",
    "show(layout)\n",
    "\n",
    "\n"
   ],
   "metadata": {
    "collapsed": false,
    "ExecuteTime": {
     "end_time": "2024-02-15T03:32:23.921181Z",
     "start_time": "2024-02-15T03:32:23.522209200Z"
    }
   }
  },
  {
   "cell_type": "code",
   "execution_count": 93,
   "outputs": [],
   "source": [
    "s1 = figure(width=550, height=400,tools=[\"pan\", \"crosshair\", \"wheel_zoom\", \"box_zoom\", \"save\", \"reset\", \"help\"], toolbar_location='right')\n",
    "s1.xaxis.formatter=DatetimeTickFormatter(days=\"%d-%b-%y\", months=\"%d-%b-%y\")\n",
    "s1.add_tools(HoverTool(tooltips=[('date', '$x{%d.%b.%y}'), ('y', '$y{0.0}')], formatters={'$x': 'datetime'}))\n",
    "s1.xgrid.visible = False\n",
    "s1.ygrid.visible = False\n",
    "s1.line(x=df1.index , y=px_series , width=0.7, color='navy', legend_label=\"strat\", alpha=1.0)\n",
    "s1.legend.location = 'top_right'\n",
    "s1.legend.label_text_font = \"calibri\"\n",
    "s1.legend.label_text_font_size = \"9pt\"\n",
    "s1.legend.spacing = 1\n",
    "s1.legend.click_policy = \"mute\"\n",
    "s1.legend.background_fill_alpha = 0.0\n",
    "s1.yaxis.axis_label = 'px (bps)'\n",
    "s1.xaxis.axis_label = 'date'\n",
    "\n",
    "s1.y_range = Range1d(min(px_series)-2, max(px_series)+2)\n",
    "# SECOND AXIS\n",
    "s1.extra_y_ranges = {\"y2_range\": Range1d( start=min(df1.iloc[:,0])-0.05, end=max(df1.iloc[:,0])+0.05)}\n",
    "s1.add_layout(LinearAxis(y_range_name=\"y2_range\"), \"right\")\n",
    "s1.line(x=df1.index , y=df1.iloc[:,0] , width=0.7, color='green', legend_label=\"fut\", alpha=0.2, y_range_name = 'y2_range')\n",
    "\n",
    "show(s1)"
   ],
   "metadata": {
    "collapsed": false,
    "ExecuteTime": {
     "end_time": "2024-02-15T03:56:52.749322100Z",
     "start_time": "2024-02-15T03:56:52.505320200Z"
    }
   }
  },
  {
   "cell_type": "code",
   "execution_count": 70,
   "outputs": [
    {
     "data": {
      "text/plain": "DatetimeIndex(['2023-09-20', '2023-09-21', '2023-09-22', '2023-09-25', '2023-09-26', '2023-09-27', '2023-09-28', '2023-09-29', '2023-10-02', '2023-10-03',\n               ...\n               '2024-02-02', '2024-02-05', '2024-02-06', '2024-02-07', '2024-02-08', '2024-02-09', '2024-02-12', '2024-02-13', '2024-02-14', '2024-02-15'], dtype='datetime64[ns]', name='date', length=103, freq=None)"
     },
     "execution_count": 70,
     "metadata": {},
     "output_type": "execute_result"
    }
   ],
   "source": [
    "df1.index"
   ],
   "metadata": {
    "collapsed": false,
    "ExecuteTime": {
     "end_time": "2024-02-15T03:33:50.193279200Z",
     "start_time": "2024-02-15T03:33:50.153181Z"
    }
   }
  },
  {
   "cell_type": "code",
   "execution_count": 91,
   "outputs": [
    {
     "data": {
      "text/plain": "nan"
     },
     "execution_count": 91,
     "metadata": {},
     "output_type": "execute_result"
    }
   ],
   "source": [
    "min(px_series)-2"
   ],
   "metadata": {
    "collapsed": false,
    "ExecuteTime": {
     "end_time": "2024-02-15T03:56:19.518653500Z",
     "start_time": "2024-02-15T03:56:19.455447500Z"
    }
   }
  },
  {
   "cell_type": "code",
   "execution_count": 5,
   "outputs": [
    {
     "name": "stdout",
     "output_type": "stream",
     "text": [
      "SFRM4P 93.75 Comdty\n",
      "SFRM4P 93.8125 Comdty\n",
      "SFRM4P 93.875 Comdty\n",
      "SFRM4P 93.9375 Comdty\n",
      "SFRM4P 94.0 Comdty\n",
      "SFRM4P 94.0625 Comdty\n",
      "SFRM4P 94.125 Comdty\n",
      "SFRM4P 94.1875 Comdty\n",
      "SFRM4P 94.25 Comdty\n",
      "SFRM4P 94.3125 Comdty\n",
      "SFRM4P 94.375 Comdty\n",
      "SFRM4P 94.4375 Comdty\n",
      "SFRM4P 94.5 Comdty\n",
      "SFRM4P 94.5625 Comdty\n",
      "SFRM4P 94.625 Comdty\n",
      "SFRM4P 94.6875 Comdty\n",
      "SFRM4P 94.75 Comdty\n",
      "SFRM4P 94.8125 Comdty\n",
      "SFRM4P 94.875 Comdty\n",
      "SFRM4P 94.9375 Comdty\n",
      "SFRM4P 95.0 Comdty\n",
      "SFRM4P 95.0625 Comdty\n",
      "SFRM4P 95.125 Comdty\n",
      "SFRM4P 95.1875 Comdty\n",
      "SFRM4P 95.25 Comdty\n",
      "SFRM4P 95.3125 Comdty\n",
      "SFRM4P 95.375 Comdty\n",
      "SFRM4P 95.4375 Comdty\n",
      "SFRM4P 95.5 Comdty\n",
      "SFRM4P 95.5625 Comdty\n",
      "SFRM4P 95.625 Comdty\n",
      "SFRM4C 94.375 Comdty\n",
      "SFRM4C 94.4375 Comdty\n",
      "SFRM4C 94.5 Comdty\n",
      "SFRM4C 94.5625 Comdty\n",
      "SFRM4C 94.625 Comdty\n",
      "SFRM4C 94.6875 Comdty\n",
      "SFRM4C 94.75 Comdty\n",
      "SFRM4C 94.8125 Comdty\n",
      "SFRM4C 94.875 Comdty\n",
      "SFRM4C 94.9375 Comdty\n",
      "SFRM4C 95.0 Comdty\n",
      "SFRM4C 95.0625 Comdty\n",
      "SFRM4C 95.125 Comdty\n",
      "SFRM4C 95.1875 Comdty\n",
      "SFRM4C 95.25 Comdty\n",
      "SFRM4C 95.3125 Comdty\n",
      "SFRM4C 95.375 Comdty\n",
      "SFRM4C 95.4375 Comdty\n",
      "SFRM4C 95.5 Comdty\n",
      "SFRM4C 95.5625 Comdty\n",
      "SFRM4C 95.625 Comdty\n",
      "SFRM4C 95.6875 Comdty\n",
      "SFRM4C 95.75 Comdty\n",
      "SFRM4C 95.8125 Comdty\n",
      "SFRM4C 95.875 Comdty\n",
      "SFRM4C 95.9375 Comdty\n",
      "SFRM4C 96.0 Comdty\n",
      "SFRM4C 96.0625 Comdty\n",
      "SFRM4C 96.125 Comdty\n",
      "SFRM4C 96.1875 Comdty\n",
      "SFRM4C 96.25 Comdty\n",
      "SFRM4C 96.3125 Comdty\n"
     ]
    }
   ],
   "source": [
    "v2 = build_stir_vol_surf(['SFRM4P 96'], chain_len=[20,20], b=0)\n"
   ],
   "metadata": {
    "collapsed": false,
    "ExecuteTime": {
     "end_time": "2024-02-15T14:12:38.545221300Z",
     "start_time": "2024-02-15T14:12:34.351861400Z"
    }
   }
  },
  {
   "cell_type": "code",
   "execution_count": 6,
   "outputs": [
    {
     "name": "stdout",
     "output_type": "stream",
     "text": [
      "94.875\n",
      "94.9375\n",
      "95.0\n",
      "95.0625\n",
      "95.125\n",
      "95.1875\n",
      "95.25\n",
      "95.3125\n",
      "95.375\n",
      "95.4375\n",
      "95.5\n",
      "95.5625\n"
     ]
    }
   ],
   "source": [
    "st = stir_opt_strat(['SFRM4'], ['C', 'C'], [95.125, 95.375], [1, -1], s_range=[-0.25, 0.25], increm=0.0625, built_surf=v2)"
   ],
   "metadata": {
    "collapsed": false,
    "ExecuteTime": {
     "end_time": "2024-02-15T14:12:41.261371400Z",
     "start_time": "2024-02-15T14:12:38.550183300Z"
    }
   }
  },
  {
   "cell_type": "code",
   "execution_count": 9,
   "outputs": [],
   "source": [
    "#    v2 = build_vol_surf(['RXJ4P 133'], chain_len=[12,12], b=0)\n",
    "#    st = bond_fut_opt_strat(['RXJ4'], ['C', 'C'], [135, 136.5], [1, -1], s_range=[-1, 1], increm=0.5, built_surf=v2)\n",
    "add_delta = [0]\n",
    "payoff_increm_calc = 100\n",
    "\n",
    "\n",
    "spot_idx = st.strat.loc[st.strat['ATM_K'] == 0].index[0]\n",
    "if st.currency == 'USD1':\n",
    "    px_label = px_dec_to_opt_frac(st.strat_px)\n",
    "else:\n",
    "    px_label = str(np.round(st.strat_px, 3))\n",
    "\n",
    "x_spot = st.strat['fut_px'][spot_idx]\n",
    "#### payoff at expiry\n",
    "x1 = np.linspace(min(st.strat['fut_px']), max(st.strat['fut_px']), num=payoff_increm_calc)\n",
    "if len(add_delta) > 1:\n",
    "    d_payoff1 = fut_payoff(x1, [st.fut], add_delta)\n",
    "    y1 = opt_payoff(x1, st.opt_dets, st.strat_px) + d_payoff1\n",
    "    y1_fmt = [convert_to_64(px_dec_to_opt_frac(y1[i])) for i in np.arange(len(y1))]\n",
    "    st.strat['strat_delta'] = st.strat['strat_delta'] + 100*np.array(add_delta[0])   #### needs testing\n",
    "else:\n",
    "    y1 = opt_payoff(x1, st.opt_dets, st.strat_px)\n",
    "    y1_fmt = [convert_to_64(px_dec_to_opt_frac(y1[i])) for i in np.arange(len(y1))]\n",
    "\n",
    "p1 = figure(width=700, height=350, tools=[\"pan\", \"crosshair\", \"wheel_zoom\", \"box_zoom\", \"save\", \"reset\", \"help\"],toolbar_location='right')\n",
    "main_source = ColumnDataSource(data={'x2': st.strat['fut_px'],\n",
    "                                     'y2': st.strat['strat_px'],\n",
    "#                                     'y3': [convert_to_64(st.strat['strat_px_fmt'][i]) for i in np.arange(len(st.strat))],\n",
    "                                     'k_dist': st.strat['ATM_K'],\n",
    "                                     'y2_fmt': st.strat['strat_px_fmt'] })\n",
    "p1.add_tools(HoverTool(tooltips=[('fut', '$x{0.00}'), ('px', '@y2{0.00}'), ('px_fmt', '@y2_fmt'), ('y_dist', '@k_dist{0.0}')]))\n",
    "p1.xgrid.visible = False\n",
    "p1.ygrid.visible = False\n",
    "if st.currency == 'USD1':\n",
    "    p1.line(x=x1, y=y1_fmt, width=0.7, color='black', alpha=1.0, muted_alpha=0.1, legend_label=\"@expiry\")\n",
    "    p1.line(x='x2', y='y3', width=0.7, color='navy', alpha=1.0, muted_alpha=0.1, legend_label=\"opt_px: \"+px_label, source=main_source, name = 'payoff')\n",
    "    p1.yaxis.axis_label = 'strat_px (64th)'\n",
    "else:\n",
    "    p1.line(x=x1, y=y1, width=0.7, color='black', alpha=1.0, muted_alpha=0.1, legend_label=\"@expiry\")\n",
    "    p1.line(x='x2', y='y2', width=0.7, color='navy', alpha=1.0, muted_alpha=0.1, legend_label=\"opt_px: \"+px_label, source=main_source)\n",
    "    p1.yaxis.axis_label = 'strat_px'\n",
    "live_line = Span(location=x_spot, dimension='height', line_color='goldenrod', line_width=1)\n",
    "zero_line = Span(location=0, dimension='width', line_color='darkseagreen', line_width=1)\n",
    "p1.add_layout(live_line)\n",
    "p1.add_layout(zero_line)\n",
    "p1_source = ColumnDataSource(data=dict(x=np.round(st.strat['fut_px'][::int(len(st.strat) / 6)], 1).tolist(),z=np.round(st.strat['ATM_K'][::int(len(st.strat) / 6)], 1).tolist()))\n",
    "labels_yld = LabelSet(x='x', y=5, y_units='screen', text='z', source=p1_source, text_font='calibri', text_color='firebrick', text_font_size='9px', text_align='center', x_offset=0)\n",
    "p1.add_layout(labels_yld)\n",
    "p1.xaxis.ticker = np.round(st.strat['fut_px'][::int(len(st.strat) / 6)], 2)\n",
    "p1.legend.location = 'top_left'\n",
    "p1.legend.label_text_font = \"calibri\"\n",
    "p1.legend.label_text_font_size = \"9pt\"\n",
    "p1.legend.spacing = 1\n",
    "p1.legend.click_policy = \"mute\"\n",
    "p1.legend.background_fill_alpha = 0.0\n",
    "\n",
    "p2_source = ColumnDataSource(data=dict(x=np.round(st.strat['fut_px'][::int(len(st.strat) / 6)], 1).tolist(), z=np.round(0.01 * st.strat['strat_delta'][::int(len(st.strat) / 6)],2).tolist()))\n",
    "p2 = figure(width=700, height=225, tools=[\"pan\", \"crosshair\", \"wheel_zoom\", \"box_zoom\", \"save\", \"reset\", \"help\"], toolbar_location='right')\n",
    "p2.add_tools(HoverTool(tooltips=[('x', '$x{0.00}'), ('y', '$y{0.00}')]))\n",
    "p2.xgrid.visible = False\n",
    "p2.ygrid.visible = False\n",
    "p2.line(x=st.strat['fut_px'], y=st.strat['strat_delta'] / 100, width=0.7, color='green', alpha=1.0, muted_alpha=0.1, legend_label=\"delta\")\n",
    "live_line = Span(location=x_spot, dimension='height', line_color='goldenrod', line_width=1)\n",
    "labels_delta = LabelSet(x='x', y=5, y_units='screen', text='z', source=p2_source, text_font='calibri', text_color='firebrick', text_font_size='9px', text_align='right', x_offset=0)\n",
    "p2.xaxis.ticker = np.round(st.strat['fut_px'][::int(len(st.strat) / 6)], 2)\n",
    "p2.add_layout(live_line)\n",
    "p2.add_layout(labels_delta)\n",
    "p2.legend.location = 'top_left'\n",
    "p2.legend.label_text_font = \"calibri\"\n",
    "p2.legend.label_text_font_size = \"9pt\"\n",
    "p2.legend.spacing = 1\n",
    "p2.legend.click_policy = \"mute\"\n",
    "p2.legend.background_fill_alpha = 0.0\n",
    "p2.yaxis.axis_label = 'strat_delta'\n",
    "\n",
    "\n",
    "s_plot = [p1,p2]\n",
    "layout = column(*s_plot)\n",
    "show(layout)\n",
    "\n",
    "\n",
    "\n"
   ],
   "metadata": {
    "collapsed": false,
    "ExecuteTime": {
     "end_time": "2024-02-15T14:15:19.163704800Z",
     "start_time": "2024-02-15T14:15:18.008449500Z"
    }
   }
  },
  {
   "cell_type": "code",
   "execution_count": 8,
   "outputs": [
    {
     "data": {
      "text/plain": "    fut_px               ATM_K             strat_px        strat_delta          strat_gamma            strat_theta           strat_vega      strat_px_fmt\n0   94.875  14.000000000000057 0.030638867170341186  10.26033097143673  0.23173139398461629  -0.006384865639119497  0.21101425563723963              3.06\n1  94.9375   7.750000000000057 0.036201373714449814 11.980018933007592   0.2593635587074289 -0.0024383111092169396    0.213543200297165              3.62\n2     95.0  1.5000000000000568  0.04684187350521034 14.326211529265713   0.2750083014685891 -0.0037619449847076103   0.2139674581571126              4.68\n3   95.015                 0.0  0.05001582587374767 14.956361201386876  0.27621820482021575  -0.004320278414090495  0.21260905694205812               5.0\n4  95.0625  -4.749999999999943  0.05748484627306613 16.848017974965646   0.2871353929350897  0.0009330079734223284   0.1989879207579044              5.75\n5   95.125 -10.999999999999943  0.06958001428285815 19.319433455142356   0.2768707695321071    0.01141667364014351  0.16004127817477043 6.959999999999999\n6  95.1875 -17.249999999999943  0.08252518188539944  21.94852758982588    0.251279164006212   0.027271103324327806  0.09897448924642549              8.25\n7    95.25 -23.499999999999943  0.09597718690943391  24.48803011840686  0.20031481533761886    0.04983568842969338  0.00926343166910204               9.6\n8  95.3125 -29.749999999999943   0.1171631047988099 26.176625042925913  0.07390990478799864    0.06568302485719774  -0.1002528861309685             11.72\n9   95.375  -35.99999999999994   0.1372998859185816 26.808203349240266 -0.07232977806908791    0.08500097875767418 -0.22097806152502208             13.73\n10 95.4375  -42.24999999999994  0.15999584913112108 26.034039347529408 -0.24765256257904678     0.0975919513812265 -0.33328930414002145              16.0\n11    95.5  -48.49999999999994   0.1833822660080828 23.266087582600754 -0.41111907888404875    0.09907462438984166 -0.40438280929034187             18.34\n12 95.5625  -54.74999999999994   0.2022700461393492   19.0331941833646  -0.4849068221469015    0.09166340527651619 -0.40877524597659426             20.23",
      "text/html": "<div>\n<style scoped>\n    .dataframe tbody tr th:only-of-type {\n        vertical-align: middle;\n    }\n\n    .dataframe tbody tr th {\n        vertical-align: top;\n    }\n\n    .dataframe thead th {\n        text-align: right;\n    }\n</style>\n<table border=\"1\" class=\"dataframe\">\n  <thead>\n    <tr style=\"text-align: right;\">\n      <th></th>\n      <th>fut_px</th>\n      <th>ATM_K</th>\n      <th>strat_px</th>\n      <th>strat_delta</th>\n      <th>strat_gamma</th>\n      <th>strat_theta</th>\n      <th>strat_vega</th>\n      <th>strat_px_fmt</th>\n    </tr>\n  </thead>\n  <tbody>\n    <tr>\n      <th>0</th>\n      <td>94.875</td>\n      <td>14.000000000000057</td>\n      <td>0.030638867170341186</td>\n      <td>10.26033097143673</td>\n      <td>0.23173139398461629</td>\n      <td>-0.006384865639119497</td>\n      <td>0.21101425563723963</td>\n      <td>3.06</td>\n    </tr>\n    <tr>\n      <th>1</th>\n      <td>94.9375</td>\n      <td>7.750000000000057</td>\n      <td>0.036201373714449814</td>\n      <td>11.980018933007592</td>\n      <td>0.2593635587074289</td>\n      <td>-0.0024383111092169396</td>\n      <td>0.213543200297165</td>\n      <td>3.62</td>\n    </tr>\n    <tr>\n      <th>2</th>\n      <td>95.0</td>\n      <td>1.5000000000000568</td>\n      <td>0.04684187350521034</td>\n      <td>14.326211529265713</td>\n      <td>0.2750083014685891</td>\n      <td>-0.0037619449847076103</td>\n      <td>0.2139674581571126</td>\n      <td>4.68</td>\n    </tr>\n    <tr>\n      <th>3</th>\n      <td>95.015</td>\n      <td>0.0</td>\n      <td>0.05001582587374767</td>\n      <td>14.956361201386876</td>\n      <td>0.27621820482021575</td>\n      <td>-0.004320278414090495</td>\n      <td>0.21260905694205812</td>\n      <td>5.0</td>\n    </tr>\n    <tr>\n      <th>4</th>\n      <td>95.0625</td>\n      <td>-4.749999999999943</td>\n      <td>0.05748484627306613</td>\n      <td>16.848017974965646</td>\n      <td>0.2871353929350897</td>\n      <td>0.0009330079734223284</td>\n      <td>0.1989879207579044</td>\n      <td>5.75</td>\n    </tr>\n    <tr>\n      <th>5</th>\n      <td>95.125</td>\n      <td>-10.999999999999943</td>\n      <td>0.06958001428285815</td>\n      <td>19.319433455142356</td>\n      <td>0.2768707695321071</td>\n      <td>0.01141667364014351</td>\n      <td>0.16004127817477043</td>\n      <td>6.959999999999999</td>\n    </tr>\n    <tr>\n      <th>6</th>\n      <td>95.1875</td>\n      <td>-17.249999999999943</td>\n      <td>0.08252518188539944</td>\n      <td>21.94852758982588</td>\n      <td>0.251279164006212</td>\n      <td>0.027271103324327806</td>\n      <td>0.09897448924642549</td>\n      <td>8.25</td>\n    </tr>\n    <tr>\n      <th>7</th>\n      <td>95.25</td>\n      <td>-23.499999999999943</td>\n      <td>0.09597718690943391</td>\n      <td>24.48803011840686</td>\n      <td>0.20031481533761886</td>\n      <td>0.04983568842969338</td>\n      <td>0.00926343166910204</td>\n      <td>9.6</td>\n    </tr>\n    <tr>\n      <th>8</th>\n      <td>95.3125</td>\n      <td>-29.749999999999943</td>\n      <td>0.1171631047988099</td>\n      <td>26.176625042925913</td>\n      <td>0.07390990478799864</td>\n      <td>0.06568302485719774</td>\n      <td>-0.1002528861309685</td>\n      <td>11.72</td>\n    </tr>\n    <tr>\n      <th>9</th>\n      <td>95.375</td>\n      <td>-35.99999999999994</td>\n      <td>0.1372998859185816</td>\n      <td>26.808203349240266</td>\n      <td>-0.07232977806908791</td>\n      <td>0.08500097875767418</td>\n      <td>-0.22097806152502208</td>\n      <td>13.73</td>\n    </tr>\n    <tr>\n      <th>10</th>\n      <td>95.4375</td>\n      <td>-42.24999999999994</td>\n      <td>0.15999584913112108</td>\n      <td>26.034039347529408</td>\n      <td>-0.24765256257904678</td>\n      <td>0.0975919513812265</td>\n      <td>-0.33328930414002145</td>\n      <td>16.0</td>\n    </tr>\n    <tr>\n      <th>11</th>\n      <td>95.5</td>\n      <td>-48.49999999999994</td>\n      <td>0.1833822660080828</td>\n      <td>23.266087582600754</td>\n      <td>-0.41111907888404875</td>\n      <td>0.09907462438984166</td>\n      <td>-0.40438280929034187</td>\n      <td>18.34</td>\n    </tr>\n    <tr>\n      <th>12</th>\n      <td>95.5625</td>\n      <td>-54.74999999999994</td>\n      <td>0.2022700461393492</td>\n      <td>19.0331941833646</td>\n      <td>-0.4849068221469015</td>\n      <td>0.09166340527651619</td>\n      <td>-0.40877524597659426</td>\n      <td>20.23</td>\n    </tr>\n  </tbody>\n</table>\n</div>"
     },
     "execution_count": 8,
     "metadata": {},
     "output_type": "execute_result"
    }
   ],
   "source": [
    "st.strat"
   ],
   "metadata": {
    "collapsed": false,
    "ExecuteTime": {
     "end_time": "2024-02-15T14:12:59.065413100Z",
     "start_time": "2024-02-15T14:12:59.010868Z"
    }
   }
  },
  {
   "cell_type": "code",
   "execution_count": 6,
   "outputs": [
    {
     "data": {
      "text/plain": "{'SOFR_DC':               Ref_Date                                              Dates                                              Rates                                         Swap_Rates    Index  Fixing                                              Table\n Date                                                                                                                                                                                                                                               \n 08/11/1996  1996-11-08  [1996-11-13 00:00:00, 1996-11-14 00:00:00, 199...  [1.0, 0.9998532715324022, 0.9989767148519539, ...     Tenor  Rate\n 0     2Y 5.643\n 1     3Y 5.785\n 2...  SOFR_DC   5.283     Tenor  Rate  TenorNum  TenorUnit           ...\n 11/11/1996  1996-11-11  [1996-11-13 00:00:00, 1996-11-15 00:00:00, 199...  [1.0, 0.9997065820785709, 0.9988310408668177, ...     Tenor  Rate\n 0     2Y 5.642\n 1     3Y 5.784\n 2...  SOFR_DC    5.28     Tenor  Rate  TenorNum  TenorUnit           ...\n 12/11/1996  1996-11-12  [1996-11-14 00:00:00, 1996-11-15 00:00:00, 199...  [1.0, 0.9998564095100785, 0.9989827303357562, ...     Tenor  Rate\n 0     2Y 5.606\n 1     3Y 5.736\n 2...  SOFR_DC    5.17     Tenor  Rate  TenorNum  TenorUnit           ...\n 13/11/1996  1996-11-13  [1996-11-15 00:00:00, 1996-11-18 00:00:00, 199...  [1.0, 0.9995585283166215, 0.998974968434239, 0...     Tenor  Rate\n 0     2Y   5.6\n 1     3Y 5.741\n 2...  SOFR_DC     5.3     Tenor  Rate  TenorNum  TenorUnit           ...\n 14/11/1996  1996-11-14  [1996-11-18 00:00:00, 1996-11-19 00:00:00, 199...  [1.0, 0.9998552987192684, 0.9989792374652565, ...     Tenor  Rate\n 0     2Y 5.554\n 1     3Y 5.684\n 2...  SOFR_DC    5.21     Tenor  Rate  TenorNum  TenorUnit           ...\n ...                ...                                                ...                                                ...                                                ...      ...     ...                                                ...\n 12/02/2024  2024-02-12  [2024-02-14 00:00:00, 2024-02-15 00:00:00, 202...  [1.0, 0.9998521607485644, 0.9989656543120977, ...     Tenor  Rate\n 0     2Y 4.311\n 1     3Y 4.041\n 2...  SOFR_DC   5.323     Tenor  Rate  TenorNum  TenorUnit           ...\n 13/02/2024  2024-02-13  [2024-02-15 00:00:00, 2024-02-16 00:00:00, 202...  [1.0, 0.9998521607485644, 0.9989654602697285, ...     Tenor  Rate\n 0     2Y 4.513\n 1     3Y 4.251\n 2...  SOFR_DC   5.323     Tenor  Rate  TenorNum  TenorUnit           ...\n 14/02/2024  2024-02-14  [2024-02-16 00:00:00, 2024-02-20 00:00:00, 202...  [1.0, 0.9994086831956333, 0.9989654602697284, ...     Tenor  Rate\n 0     2Y 4.444\n 1     3Y 4.179\n 2...  SOFR_DC   5.325     Tenor  Rate  TenorNum  TenorUnit           ...\n 15/02/2024  2024-02-15  [2024-02-20 00:00:00, 2024-02-21 00:00:00, 202...  [1.0, 0.9998521329790001, 0.9989654602697284, ...     Tenor  Rate\n 0     2Y 4.427\n 1     3Y 4.156\n 2...  SOFR_DC   5.324     Tenor  Rate  TenorNum  TenorUnit           ...\n 16/02/2024  2024-02-16  [2024-02-21 00:00:00, 2024-02-22 00:00:00, 202...  [1.0, 0.9998521329790001, 0.9989652662274345, ...     Tenor  Rate\n 0     2Y 4.495\n 1     3Y 4.228\n 2...  SOFR_DC   5.324     Tenor  Rate  TenorNum  TenorUnit           ...\n \n [6811 rows x 7 columns],\n 'SONIA_DC':               Ref_Date                                              Dates                                              Rates                                         Swap_Rates     Index  Fixing                                              Table\n Date                                                                                                                                                                                                                                                \n 15/12/2008  2008-12-15  [2008-12-15 00:00:00, 2008-12-16 00:00:00, 200...  [1.0, 0.9999580127219098, 0.9996764841482063, ...     Tenor    Rate\n 0     2Y 1.69178\n 1     3Y 2.1...  SONIA_DC  1.5326     Tenor    Rate  TenorNum  TenorUnit         ...\n 16/12/2008  2008-12-16  [2008-12-16 00:00:00, 2008-12-17 00:00:00, 200...  [1.0, 0.9999571525209165, 0.9996788089501445, ...     Tenor    Rate\n 0     2Y 1.69239\n 1     3Y 2.1...  SONIA_DC   1.564     Tenor    Rate  TenorNum  TenorUnit         ...\n 17/12/2008  2008-12-17  [2008-12-17 00:00:00, 2008-12-18 00:00:00, 200...  [1.0, 0.9999562704055118, 0.9996850953605328, ...     Tenor    Rate\n 0     2Y 1.42255\n 1     3Y 1.9...  SONIA_DC  1.5962     Tenor    Rate  TenorNum  TenorUnit         ...\n 18/12/2008  2008-12-18  [2008-12-18 00:00:00, 2008-12-19 00:00:00, 200...  [1.0, 0.9999597386073464, 0.9995078250951442, ...     Tenor    Rate\n 0     2Y 1.50528\n 1     3Y 2.0...  SONIA_DC  1.4696     Tenor    Rate  TenorNum  TenorUnit         ...\n 19/12/2008  2008-12-19  [2008-12-19 00:00:00, 2008-12-22 00:00:00, 200...  [1.0, 0.9998759386807917, 0.9995557672935866, ...     Tenor    Rate\n 0     2Y  1.6478\n 1     3Y 2.1...  SONIA_DC  1.5096     Tenor    Rate  TenorNum  TenorUnit         ...\n ...                ...                                                ...                                                ...                                                ...       ...     ...                                                ...\n 14/02/2024  2024-02-14  [2024-02-14 00:00:00, 2024-02-15 00:00:00, 202...  [1.0, 0.9998579106032245, 0.9990058386554115, ...     Tenor  Rate\n 0     2Y 4.516\n 1     3Y 4.239\n 2...  SONIA_DC   5.187     Tenor  Rate  TenorNum  TenorUnit           ...\n 15/02/2024  2024-02-15  [2024-02-15 00:00:00, 2024-02-16 00:00:00, 202...  [1.0, 0.9998579106032245, 0.9990058386554115, ...     Tenor  Rate\n 0     2Y 4.494\n 1     3Y 4.214\n 2...  SONIA_DC   5.187     Tenor  Rate  TenorNum  TenorUnit           ...\n 16/02/2024  2024-02-16  [2024-02-16 00:00:00, 2024-02-19 00:00:00, 202...  [1.0, 0.9995738529116251, 0.9990058386554115, ...     Tenor  Rate\n 0     2Y 4.576\n 1     3Y 4.299\n 2...  SONIA_DC   5.187     Tenor  Rate  TenorNum  TenorUnit           ...\n 19/02/2024  2024-02-19  [2024-02-19 00:00:00, 2024-02-20 00:00:00, 202...  [1.0, 0.9998579106032245, 0.9990056472557588, ...     Tenor  Rate\n 0     2Y 4.565\n 1     3Y 4.297\n 2...  SONIA_DC   5.187     Tenor  Rate  TenorNum  TenorUnit           ...\n 20/02/2024  2024-02-20  [2024-02-20 00:00:00, 2024-02-21 00:00:00, 202...  [1.0, 0.9998578558242772, 0.9990060300551441, ...     Tenor  Rate\n 0     2Y 4.495\n 1     3Y 4.225\n 2...  SONIA_DC   5.189     Tenor  Rate  TenorNum  TenorUnit           ...\n \n [3826 rows x 7 columns],\n 'ESTER_DC':               Ref_Date                                              Dates                                              Rates                                         Swap_Rates     Index  Fixing                                              Table\n Date                                                                                                                                                                                                                                                \n 02/01/2007  2007-01-02  [2007-01-04 00:00:00, 2007-01-05 00:00:00, 200...  [1.0, 0.9999022317817813, 0.9993199072851097, ...     Tenor  Rate\n 0     2Y  3.96\n 1     3Y 3.954\n 2...  ESTER_DC    3.52     Tenor   Rate  TenorNum  TenorUnit          ...\n 03/01/2007  2007-01-03  [2007-01-05 00:00:00, 2007-01-08 00:00:00, 200...  [1.0, 0.9997067526858787, 0.9993204898260657, ...     Tenor  Rate\n 0     2Y 3.969\n 1     3Y 3.966\n 2...  ESTER_DC    3.52     Tenor   Rate  TenorNum  TenorUnit          ...\n 04/01/2007  2007-01-04  [2007-01-08 00:00:00, 2007-01-09 00:00:00, 200...  [1.0, 0.9999022317817813, 0.9993208781864767, ...     Tenor  Rate\n 0     2Y 3.959\n 1     3Y 3.953\n 2...  ESTER_DC    3.52     Tenor   Rate  TenorNum  TenorUnit          ...\n 05/01/2007  2007-01-05  [2007-01-09 00:00:00, 2007-01-10 00:00:00, 200...  [1.0, 0.9999025095053231, 0.9993233442840943, ...     Tenor  Rate\n 0     2Y 3.998\n 1     3Y 3.996\n 2...  ESTER_DC    3.51     Tenor   Rate  TenorNum  TenorUnit          ...\n 08/01/2007  2007-01-08  [2007-01-10 00:00:00, 2007-01-11 00:00:00, 200...  [1.0, 0.9999027872290194, 0.9993268978161597, ...     Tenor  Rate\n 0     2Y  3.99\n 1     3Y 3.992\n 2...  ESTER_DC     3.5     Tenor   Rate  TenorNum  TenorUnit          ...\n ...                ...                                                ...                                                ...                                                ...       ...     ...                                                ...\n 14/02/2024  2024-02-14  [2024-02-16 00:00:00, 2024-02-19 00:00:00, 202...  [1.0, 0.9996747724740218, 0.9992412705519296, ...     Tenor  Rate\n 0     2Y 2.881\n 1     3Y 2.655\n 2...  ESTER_DC   3.904     Tenor  Rate  TenorNum  TenorUnit           ...\n 15/02/2024  2024-02-15  [2024-02-19 00:00:00, 2024-02-20 00:00:00, 202...  [1.0, 0.9998915673144779, 0.9992412705519297, ...     Tenor  Rate\n 0     2Y 2.875\n 1     3Y  2.65\n 2...  ESTER_DC   3.904     Tenor  Rate  TenorNum  TenorUnit           ...\n 16/02/2024  2024-02-16  [2024-02-20 00:00:00, 2024-02-21 00:00:00, 202...  [1.0, 0.9998915395427246, 0.9992410764024724, ...     Tenor  Rate\n 0     2Y 2.946\n 1     3Y 2.721\n 2...  ESTER_DC   3.905     Tenor  Rate  TenorNum  TenorUnit           ...\n 19/02/2024  2024-02-19  [2024-02-21 00:00:00, 2024-02-22 00:00:00, 202...  [1.0, 0.9998914839992228, 0.9992404939545534, ...     Tenor  Rate\n 0     2Y 2.935\n 1     3Y 2.711\n 2...  ESTER_DC   3.907     Tenor  Rate  TenorNum  TenorUnit           ...\n 20/02/2024  2024-02-20  [2024-02-22 00:00:00, 2024-02-23 00:00:00, 202...  [1.0, 0.9998914839992228, 0.9992406881037842, ...     Tenor  Rate\n 0     2Y 2.909\n 1     3Y 2.686\n 2...  ESTER_DC   3.907     Tenor  Rate  TenorNum  TenorUnit           ...\n \n [4406 rows x 7 columns],\n 'USD_3M':               Ref_Date                                              Dates                                              Rates                                         Swap_Rates   Index  Fixing                                              Table\n 01/05/1991  1991-05-01  [1991-05-03 00:00:00, 1991-05-06 00:00:00, 199...  [1.0, 0.999508574950807, 0.9988537043904671, 0...     Tenor  Rate\n 0     2Y  7.29\n 1     3Y  7.79\n 2...  USD_3M     5.9     Tenor  Rate  TenorNum  TenorUnit           ...\n 02/05/1991  1991-05-02  [1991-05-06 00:00:00, 1991-05-07 00:00:00, 199...  [1.0, 0.9998361101975991, 0.998853122394051, 0...     Tenor  Rate\n 0     2Y 7.314\n 1     3Y 7.825\n 2...  USD_3M   5.901     Tenor  Rate  TenorNum  TenorUnit           ...\n 03/05/1991  1991-05-03  [1991-05-07 00:00:00, 1991-05-08 00:00:00, 199...  [1.0, 0.9998357214363206, 0.9988506004174197, ...     Tenor  Rate\n 0     2Y 7.287\n 1     3Y 7.792\n 2...  USD_3M   5.915     Tenor  Rate  TenorNum  TenorUnit           ...\n 07/05/1991  1991-05-07  [1991-05-09 00:00:00, 1991-05-10 00:00:00, 199...  [1.0, 0.9998362490409861, 0.9988540923884544, ...     Tenor  Rate\n 0     2Y  7.31\n 1     3Y  7.82\n 2...  USD_3M   5.896     Tenor  Rate  TenorNum  TenorUnit           ...\n 08/05/1991  1991-05-08  [1991-05-10 00:00:00, 1991-05-13 00:00:00, 199...  [1.0, 0.999508574950807, 0.9988537043904671, 0...     Tenor  Rate\n 0     2Y  7.32\n 1     3Y  7.82\n 2...  USD_3M     5.9     Tenor  Rate  TenorNum  TenorUnit           ...\n ...                ...                                                ...                                                ...                                                ...     ...     ...                                                ...\n 21/12/2012  2012-12-21  [2012-12-26 00:00:00, 2012-12-27 00:00:00, 201...  [1.0, 0.9999920833960064, 0.999935253742418, 0...     Tenor  Rate\n 0     2Y 0.401\n 1     3Y 0.501\n 2...  USD_3M   0.285     Tenor  Rate  TenorNum  TenorUnit           ...\n 24/12/2012  2012-12-24  [2012-12-27 00:00:00, 2012-12-28 00:00:00, 201...  [1.0, 0.9999921111733451, 0.9999361147509188, ...     Tenor  Rate\n 0     2Y 0.411\n 1     3Y 0.513\n 2...  USD_3M   0.284     Tenor  Rate  TenorNum  TenorUnit           ...\n 27/12/2012  2012-12-27  [2012-12-31 00:00:00, 2013-01-02 00:00:00, 201...  [1.0, 0.9999817225562933, 0.9999368095488494, ...     Tenor  Rate\n 0     2Y 0.405\n 1     3Y 0.498\n 2...  USD_3M   0.329     Tenor  Rate  TenorNum  TenorUnit           ...\n 28/12/2012  2012-12-28  [2013-01-02 00:00:00, 2013-01-03 00:00:00, 201...  [1.0, 0.9999908334173604, 0.999936809548857, 0...     Tenor  Rate\n 0     2Y 0.395\n 1     3Y  0.49\n 2...  USD_3M    0.33     Tenor  Rate  TenorNum  TenorUnit           ...\n 31/12/2012  2012-12-31  [2013-01-03 00:00:00, 2013-01-04 00:00:00, 201...  [1.0, 0.9999905278675, 0.9999356430310389, 0.9...     Tenor  Rate\n 0     2Y 0.386\n 1     3Y 0.483\n 2...  USD_3M   0.341     Tenor  Rate  TenorNum  TenorUnit           ...\n \n [5180 rows x 7 columns],\n 'GBP_6M':               Ref_Date                                              Dates                                              Rates                                         Swap_Rates   Index  Fixing                                              Table\n Date                                                                                                                                                                                                                                              \n 02/01/1990  1990-01-02  [1990-01-02 00:00:00, 1990-01-03 00:00:00, 199...  [1.0, 0.9995866366933961, 0.9971101834617178, ...     Tenor   Rate\n 0     2Y 13.407\n 1     3Y  12.9...  GBP_6M  15.094     Tenor   Rate  TenorNum  TenorUnit          ...\n 03/01/1990  1990-01-03  [1990-01-03 00:00:00, 1990-01-04 00:00:00, 199...  [1.0, 0.9995884981706815, 0.9971231494623678, ...     Tenor   Rate\n 0     2Y   13.4\n 1     3Y 12.97...  GBP_6M  15.026     Tenor   Rate  TenorNum  TenorUnit          ...\n 04/01/1990  1990-01-04  [1990-01-04 00:00:00, 1990-01-05 00:00:00, 199...  [1.0, 0.9995884160465375, 0.997122577425817, 0...     Tenor   Rate\n 0     2Y 13.358\n 1     3Y  12.9...  GBP_6M  15.029     Tenor   Rate  TenorNum  TenorUnit          ...\n 05/01/1990  1990-01-05  [1990-01-05 00:00:00, 1990-01-08 00:00:00, 199...  [1.0, 0.9987655258100989, 0.9971220053899226, ...     Tenor   Rate\n 0     2Y 13.376\n 1     3Y 12.96...  GBP_6M  15.038     Tenor   Rate  TenorNum  TenorUnit          ...\n 08/01/1990  1990-01-08  [1990-01-08 00:00:00, 1990-01-09 00:00:00, 199...  [1.0, 0.9995866366933961, 0.9971101834617178, ...     Tenor   Rate\n 0     2Y 13.395\n 1     3Y 12.99...  GBP_6M  15.094     Tenor   Rate  TenorNum  TenorUnit          ...\n ...                ...                                                ...                                                ...                                                ...     ...     ...                                                ...\n 21/12/2012  2012-12-21  [2012-12-21 00:00:00, 2012-12-24 00:00:00, 201...  [1.0, 0.9999595632790302, 0.9999056527378622, ...     Tenor  Rate\n 0     2Y  0.71\n 1     3Y 0.782\n 2...  GBP_6M   0.492     Tenor  Rate  TenorNum  TenorUnit           ...\n 24/12/2012  2012-12-24  [2012-12-24 00:00:00, 2012-12-27 00:00:00, 201...  [1.0, 0.9999595632790302, 0.9999056527378622, ...     Tenor  Rate\n 0     2Y  0.71\n 1     3Y 0.783\n 2...  GBP_6M   0.492     Tenor  Rate  TenorNum  TenorUnit           ...\n 27/12/2012  2012-12-27  [2012-12-27 00:00:00, 2012-12-28 00:00:00, 201...  [1.0, 0.9999865207296385, 0.9999056527378621, ...     Tenor  Rate\n 0     2Y  0.71\n 1     3Y 0.775\n 2...  GBP_6M   0.492     Tenor  Rate  TenorNum  TenorUnit           ...\n 28/12/2012  2012-12-28  [2012-12-28 00:00:00, 2012-12-31 00:00:00, 201...  [1.0, 0.9999595632790302, 0.9999056527378622, ...     Tenor  Rate\n 0     2Y 0.705\n 1     3Y 0.768\n 2...  GBP_6M   0.492     Tenor  Rate  TenorNum  TenorUnit           ...\n 31/12/2012  2012-12-31  [2012-12-31 00:00:00, 2013-01-02 00:00:00, 201...  [1.0, 0.9999730966142225, 0.9999058444825347, ...     Tenor  Rate\n 0     2Y 0.705\n 1     3Y 0.768\n 2...  GBP_6M   0.491     Tenor  Rate  TenorNum  TenorUnit           ...\n \n [5638 rows x 7 columns],\n 'EUR_6M':               Ref_Date                                              Dates                                              Rates                                         Swap_Rates   Index  Fixing                                              Table\n Date                                                                                                                                                                                                                                              \n 02/07/1990  1990-07-02  [1990-07-04 00:00:00, 1990-07-11 00:00:00, 199...  [1.0, 0.9984406575685807, 0.9968838518440083, ...     Tenor  Rate\n 0     2Y 9.003\n 1     3Y 8.989\n 2...  EUR_6M   8.026     Tenor  Rate  TenorNum  TenorUnit           ...\n 03/07/1990  1990-07-03  [1990-07-05 00:00:00, 1990-07-12 00:00:00, 199...  [1.0, 0.9984406575685807, 0.9968838518440083, ...     Tenor  Rate\n 0     2Y  8.95\n 1     3Y 8.931\n 2...  EUR_6M   8.026     Tenor  Rate  TenorNum  TenorUnit           ...\n 05/07/1990  1990-07-05  [1990-07-09 00:00:00, 1990-07-16 00:00:00, 199...  [1.0, 0.9984391068629388, 0.9968803736351945, ...     Tenor  Rate\n 0     2Y 8.942\n 1     3Y 8.944\n 2...  EUR_6M   8.035     Tenor  Rate  TenorNum  TenorUnit           ...\n 06/07/1990  1990-07-06  [1990-07-10 00:00:00, 1990-07-17 00:00:00, 199...  [1.0, 0.9984373623248491, 0.9968768954506526, ...     Tenor  Rate\n 0     2Y 8.987\n 1     3Y 8.986\n 2...  EUR_6M   8.044     Tenor  Rate  TenorNum  TenorUnit           ...\n 09/07/1990  1990-07-09  [1990-07-11 00:00:00, 1990-07-18 00:00:00, 199...  [1.0, 0.9984298027302407, 0.9968618235981007, ...     Tenor  Rate\n 0     2Y   9.0\n 1     3Y 9.007\n 2...  EUR_6M   8.083     Tenor  Rate  TenorNum  TenorUnit           ...\n ...                ...                                                ...                                                ...                                                ...     ...     ...                                                ...\n 19/12/2012  2012-12-19  [2012-12-21 00:00:00, 2012-12-28 00:00:00, 201...  [1.0, 0.999982305868643, 0.9999646123634403, 0...     Tenor  Rate\n 0     2Y 0.377\n 1     3Y 0.492\n 2...  EUR_6M   0.091     Tenor  Rate  TenorNum  TenorUnit           ...\n 20/12/2012  2012-12-20  [2012-12-24 00:00:00, 2012-12-31 00:00:00, 201...  [1.0, 0.9999793893136977, 0.9999646123634403, ...     Tenor  Rate\n 0     2Y  0.38\n 1     3Y  0.49\n 2...  EUR_6M   0.091     Tenor  Rate  TenorNum  TenorUnit           ...\n 21/12/2012  2012-12-21  [2012-12-27 00:00:00, 2013-01-03 00:00:00, 201...  [1.0, 0.9999823336454386, 0.9999646123634401, ...     Tenor  Rate\n 0     2Y 0.378\n 1     3Y 0.481\n 2...  EUR_6M   0.091     Tenor  Rate  TenorNum  TenorUnit           ...\n 27/12/2012  2012-12-27  [2012-12-31 00:00:00, 2013-01-07 00:00:00, 201...  [1.0, 0.9999821114311175, 0.9999642235022258, ...     Tenor  Rate\n 0     2Y 0.398\n 1     3Y 0.497\n 2...  EUR_6M   0.092     Tenor  Rate  TenorNum  TenorUnit           ...\n 28/12/2012  2012-12-28  [2013-01-02 00:00:00, 2013-01-09 00:00:00, 201...  [1.0, 0.9999828891816738, 0.9999657789488982, ...     Tenor  Rate\n 0     2Y 0.377\n 1     3Y 0.472\n 2...  EUR_6M   0.088     Tenor  Rate  TenorNum  TenorUnit           ...\n \n [5383 rows x 7 columns]}"
     },
     "execution_count": 6,
     "metadata": {},
     "output_type": "execute_result"
    }
   ],
   "source": [
    "hist\n"
   ],
   "metadata": {
    "collapsed": false,
    "ExecuteTime": {
     "end_time": "2024-02-22T10:57:39.688802100Z",
     "start_time": "2024-02-22T10:57:38.188792400Z"
    }
   }
  },
  {
   "cell_type": "code",
   "execution_count": 4,
   "outputs": [
    {
     "data": {
      "text/plain": "              Ref_Date                                              Dates                                              Rates                                         Swap_Rates   Index  Fixing                                              Table\n03/12/2012  2012-12-03  [2012-12-05 00:00:00, 2012-12-06 00:00:00, 201...  [1.0, 0.9999917222907432, 0.9999416700692461, ...     Tenor  Rate\n0     2Y 0.371\n1     3Y 0.445\n2...  USD_3M   0.298     Tenor  Rate  TenorNum  TenorUnit           ...\n04/12/2012  2012-12-04  [2012-12-06 00:00:00, 2012-12-07 00:00:00, 201...  [1.0, 0.9999918334000273, 0.9999422533348697, ...     Tenor  Rate\n0     2Y 0.367\n1     3Y 0.441\n2...  USD_3M   0.294     Tenor  Rate  TenorNum  TenorUnit           ...\n05/12/2012  2012-12-05  [2012-12-07 00:00:00, 2012-12-10 00:00:00, 201...  [1.0, 0.9999765005522371, 0.9999440031358242, ...     Tenor  Rate\n0     2Y 0.362\n1     3Y 0.433\n2...  USD_3M   0.282     Tenor  Rate  TenorNum  TenorUnit           ...\n06/12/2012  2012-12-06  [2012-12-10 00:00:00, 2012-12-11 00:00:00, 201...  [1.0, 0.9999908056400926, 0.9999362262895736, ...     Tenor  Rate\n0     2Y 0.359\n1     3Y 0.429\n2...  USD_3M   0.331     Tenor  Rate  TenorNum  TenorUnit           ...\n07/12/2012  2012-12-07  [2012-12-11 00:00:00, 2012-12-12 00:00:00, 201...  [1.0, 0.9999921667280273, 0.9999434198681582, ...     Tenor  Rate\n0     2Y 0.353\n1     3Y 0.428\n2...  USD_3M   0.282     Tenor  Rate  TenorNum  TenorUnit           ...\n10/12/2012  2012-12-10  [2012-12-12 00:00:00, 2012-12-13 00:00:00, 201...  [1.0, 0.9999917222907432, 0.9999410868043023, ...     Tenor  Rate\n0     2Y 0.355\n1     3Y 0.427\n2...  USD_3M   0.298     Tenor  Rate  TenorNum  TenorUnit           ...\n11/12/2012  2012-12-11  [2012-12-13 00:00:00, 2012-12-14 00:00:00, 201...  [1.0, 0.9999916945134261, 0.9999410868043024, ...     Tenor  Rate\n0     2Y 0.355\n1     3Y  0.43\n2...  USD_3M   0.299     Tenor  Rate  TenorNum  TenorUnit           ...\n12/12/2012  2012-12-12  [2012-12-14 00:00:00, 2012-12-17 00:00:00, 201...  [1.0, 0.9999755006002352, 0.9999416700692457, ...     Tenor  Rate\n0     2Y 0.355\n1     3Y  0.44\n2...  USD_3M   0.294     Tenor  Rate  TenorNum  TenorUnit           ...\n13/12/2012  2012-12-13  [2012-12-17 00:00:00, 2012-12-18 00:00:00, 201...  [1.0, 0.9999936944842043, 0.9999508079755229, ...     Tenor  Rate\n0     2Y 0.362\n1     3Y 0.456\n2...  USD_3M   0.227     Tenor  Rate  TenorNum  TenorUnit           ...\n14/12/2012  2012-12-14  [2012-12-18 00:00:00, 2012-12-19 00:00:00, 201...  [1.0, 0.9999905556447524, 0.999918506641485, 0...     Tenor  Rate\n0     2Y 0.361\n1     3Y 0.456\n2...  USD_3M    0.34     Tenor  Rate  TenorNum  TenorUnit           ...\n17/12/2012  2012-12-17  [2012-12-19 00:00:00, 2012-12-20 00:00:00, 201...  [1.0, 0.9999916389587965, 0.9999326712001391, ...     Tenor  Rate\n0     2Y 0.372\n1     3Y 0.476\n2...  USD_3M   0.301     Tenor  Rate  TenorNum  TenorUnit           ...\n18/12/2012  2012-12-18  [2012-12-20 00:00:00, 2012-12-21 00:00:00, 201...  [1.0, 0.9999917222907432, 0.9999410868043023, ...     Tenor  Rate\n0     2Y 0.392\n1     3Y   0.5\n2...  USD_3M   0.298     Tenor  Rate  TenorNum  TenorUnit           ...\n19/12/2012  2012-12-19  [2012-12-21 00:00:00, 2012-12-24 00:00:00, 201...  [1.0, 0.9999755839294923, 0.9999424477568957, ...     Tenor  Rate\n0     2Y 0.399\n1     3Y 0.502\n2...  USD_3M   0.293     Tenor  Rate  TenorNum  TenorUnit           ...\n20/12/2012  2012-12-20  [2012-12-24 00:00:00, 2012-12-26 00:00:00, 201...  [1.0, 0.9999842224711566, 0.9999436142906383, ...     Tenor  Rate\n0     2Y 0.401\n1     3Y 0.505\n2...  USD_3M   0.284     Tenor  Rate  TenorNum  TenorUnit           ...\n21/12/2012  2012-12-21  [2012-12-26 00:00:00, 2012-12-27 00:00:00, 201...  [1.0, 0.9999920833960064, 0.999935253742418, 0...     Tenor  Rate\n0     2Y 0.401\n1     3Y 0.501\n2...  USD_3M   0.285     Tenor  Rate  TenorNum  TenorUnit           ...\n24/12/2012  2012-12-24  [2012-12-27 00:00:00, 2012-12-28 00:00:00, 201...  [1.0, 0.9999921111733451, 0.9999361147509188, ...     Tenor  Rate\n0     2Y 0.411\n1     3Y 0.513\n2...  USD_3M   0.284     Tenor  Rate  TenorNum  TenorUnit           ...\n27/12/2012  2012-12-27  [2012-12-31 00:00:00, 2013-01-02 00:00:00, 201...  [1.0, 0.9999817225562933, 0.9999368095488494, ...     Tenor  Rate\n0     2Y 0.405\n1     3Y 0.498\n2...  USD_3M   0.329     Tenor  Rate  TenorNum  TenorUnit           ...\n28/12/2012  2012-12-28  [2013-01-02 00:00:00, 2013-01-03 00:00:00, 201...  [1.0, 0.9999908334173604, 0.999936809548857, 0...     Tenor  Rate\n0     2Y 0.395\n1     3Y  0.49\n2...  USD_3M    0.33     Tenor  Rate  TenorNum  TenorUnit           ...\n31/12/2012  2012-12-31  [2013-01-03 00:00:00, 2013-01-04 00:00:00, 201...  [1.0, 0.9999905278675, 0.9999356430310389, 0.9...     Tenor  Rate\n0     2Y 0.386\n1     3Y 0.483\n2...  USD_3M   0.341     Tenor  Rate  TenorNum  TenorUnit           ...",
      "text/html": "<div>\n<style scoped>\n    .dataframe tbody tr th:only-of-type {\n        vertical-align: middle;\n    }\n\n    .dataframe tbody tr th {\n        vertical-align: top;\n    }\n\n    .dataframe thead th {\n        text-align: right;\n    }\n</style>\n<table border=\"1\" class=\"dataframe\">\n  <thead>\n    <tr style=\"text-align: right;\">\n      <th></th>\n      <th>Ref_Date</th>\n      <th>Dates</th>\n      <th>Rates</th>\n      <th>Swap_Rates</th>\n      <th>Index</th>\n      <th>Fixing</th>\n      <th>Table</th>\n    </tr>\n  </thead>\n  <tbody>\n    <tr>\n      <th>03/12/2012</th>\n      <td>2012-12-03</td>\n      <td>[2012-12-05 00:00:00, 2012-12-06 00:00:00, 201...</td>\n      <td>[1.0, 0.9999917222907432, 0.9999416700692461, ...</td>\n      <td>Tenor  Rate\n0     2Y 0.371\n1     3Y 0.445\n2...</td>\n      <td>USD_3M</td>\n      <td>0.298</td>\n      <td>Tenor  Rate  TenorNum  TenorUnit           ...</td>\n    </tr>\n    <tr>\n      <th>04/12/2012</th>\n      <td>2012-12-04</td>\n      <td>[2012-12-06 00:00:00, 2012-12-07 00:00:00, 201...</td>\n      <td>[1.0, 0.9999918334000273, 0.9999422533348697, ...</td>\n      <td>Tenor  Rate\n0     2Y 0.367\n1     3Y 0.441\n2...</td>\n      <td>USD_3M</td>\n      <td>0.294</td>\n      <td>Tenor  Rate  TenorNum  TenorUnit           ...</td>\n    </tr>\n    <tr>\n      <th>05/12/2012</th>\n      <td>2012-12-05</td>\n      <td>[2012-12-07 00:00:00, 2012-12-10 00:00:00, 201...</td>\n      <td>[1.0, 0.9999765005522371, 0.9999440031358242, ...</td>\n      <td>Tenor  Rate\n0     2Y 0.362\n1     3Y 0.433\n2...</td>\n      <td>USD_3M</td>\n      <td>0.282</td>\n      <td>Tenor  Rate  TenorNum  TenorUnit           ...</td>\n    </tr>\n    <tr>\n      <th>06/12/2012</th>\n      <td>2012-12-06</td>\n      <td>[2012-12-10 00:00:00, 2012-12-11 00:00:00, 201...</td>\n      <td>[1.0, 0.9999908056400926, 0.9999362262895736, ...</td>\n      <td>Tenor  Rate\n0     2Y 0.359\n1     3Y 0.429\n2...</td>\n      <td>USD_3M</td>\n      <td>0.331</td>\n      <td>Tenor  Rate  TenorNum  TenorUnit           ...</td>\n    </tr>\n    <tr>\n      <th>07/12/2012</th>\n      <td>2012-12-07</td>\n      <td>[2012-12-11 00:00:00, 2012-12-12 00:00:00, 201...</td>\n      <td>[1.0, 0.9999921667280273, 0.9999434198681582, ...</td>\n      <td>Tenor  Rate\n0     2Y 0.353\n1     3Y 0.428\n2...</td>\n      <td>USD_3M</td>\n      <td>0.282</td>\n      <td>Tenor  Rate  TenorNum  TenorUnit           ...</td>\n    </tr>\n    <tr>\n      <th>10/12/2012</th>\n      <td>2012-12-10</td>\n      <td>[2012-12-12 00:00:00, 2012-12-13 00:00:00, 201...</td>\n      <td>[1.0, 0.9999917222907432, 0.9999410868043023, ...</td>\n      <td>Tenor  Rate\n0     2Y 0.355\n1     3Y 0.427\n2...</td>\n      <td>USD_3M</td>\n      <td>0.298</td>\n      <td>Tenor  Rate  TenorNum  TenorUnit           ...</td>\n    </tr>\n    <tr>\n      <th>11/12/2012</th>\n      <td>2012-12-11</td>\n      <td>[2012-12-13 00:00:00, 2012-12-14 00:00:00, 201...</td>\n      <td>[1.0, 0.9999916945134261, 0.9999410868043024, ...</td>\n      <td>Tenor  Rate\n0     2Y 0.355\n1     3Y  0.43\n2...</td>\n      <td>USD_3M</td>\n      <td>0.299</td>\n      <td>Tenor  Rate  TenorNum  TenorUnit           ...</td>\n    </tr>\n    <tr>\n      <th>12/12/2012</th>\n      <td>2012-12-12</td>\n      <td>[2012-12-14 00:00:00, 2012-12-17 00:00:00, 201...</td>\n      <td>[1.0, 0.9999755006002352, 0.9999416700692457, ...</td>\n      <td>Tenor  Rate\n0     2Y 0.355\n1     3Y  0.44\n2...</td>\n      <td>USD_3M</td>\n      <td>0.294</td>\n      <td>Tenor  Rate  TenorNum  TenorUnit           ...</td>\n    </tr>\n    <tr>\n      <th>13/12/2012</th>\n      <td>2012-12-13</td>\n      <td>[2012-12-17 00:00:00, 2012-12-18 00:00:00, 201...</td>\n      <td>[1.0, 0.9999936944842043, 0.9999508079755229, ...</td>\n      <td>Tenor  Rate\n0     2Y 0.362\n1     3Y 0.456\n2...</td>\n      <td>USD_3M</td>\n      <td>0.227</td>\n      <td>Tenor  Rate  TenorNum  TenorUnit           ...</td>\n    </tr>\n    <tr>\n      <th>14/12/2012</th>\n      <td>2012-12-14</td>\n      <td>[2012-12-18 00:00:00, 2012-12-19 00:00:00, 201...</td>\n      <td>[1.0, 0.9999905556447524, 0.999918506641485, 0...</td>\n      <td>Tenor  Rate\n0     2Y 0.361\n1     3Y 0.456\n2...</td>\n      <td>USD_3M</td>\n      <td>0.34</td>\n      <td>Tenor  Rate  TenorNum  TenorUnit           ...</td>\n    </tr>\n    <tr>\n      <th>17/12/2012</th>\n      <td>2012-12-17</td>\n      <td>[2012-12-19 00:00:00, 2012-12-20 00:00:00, 201...</td>\n      <td>[1.0, 0.9999916389587965, 0.9999326712001391, ...</td>\n      <td>Tenor  Rate\n0     2Y 0.372\n1     3Y 0.476\n2...</td>\n      <td>USD_3M</td>\n      <td>0.301</td>\n      <td>Tenor  Rate  TenorNum  TenorUnit           ...</td>\n    </tr>\n    <tr>\n      <th>18/12/2012</th>\n      <td>2012-12-18</td>\n      <td>[2012-12-20 00:00:00, 2012-12-21 00:00:00, 201...</td>\n      <td>[1.0, 0.9999917222907432, 0.9999410868043023, ...</td>\n      <td>Tenor  Rate\n0     2Y 0.392\n1     3Y   0.5\n2...</td>\n      <td>USD_3M</td>\n      <td>0.298</td>\n      <td>Tenor  Rate  TenorNum  TenorUnit           ...</td>\n    </tr>\n    <tr>\n      <th>19/12/2012</th>\n      <td>2012-12-19</td>\n      <td>[2012-12-21 00:00:00, 2012-12-24 00:00:00, 201...</td>\n      <td>[1.0, 0.9999755839294923, 0.9999424477568957, ...</td>\n      <td>Tenor  Rate\n0     2Y 0.399\n1     3Y 0.502\n2...</td>\n      <td>USD_3M</td>\n      <td>0.293</td>\n      <td>Tenor  Rate  TenorNum  TenorUnit           ...</td>\n    </tr>\n    <tr>\n      <th>20/12/2012</th>\n      <td>2012-12-20</td>\n      <td>[2012-12-24 00:00:00, 2012-12-26 00:00:00, 201...</td>\n      <td>[1.0, 0.9999842224711566, 0.9999436142906383, ...</td>\n      <td>Tenor  Rate\n0     2Y 0.401\n1     3Y 0.505\n2...</td>\n      <td>USD_3M</td>\n      <td>0.284</td>\n      <td>Tenor  Rate  TenorNum  TenorUnit           ...</td>\n    </tr>\n    <tr>\n      <th>21/12/2012</th>\n      <td>2012-12-21</td>\n      <td>[2012-12-26 00:00:00, 2012-12-27 00:00:00, 201...</td>\n      <td>[1.0, 0.9999920833960064, 0.999935253742418, 0...</td>\n      <td>Tenor  Rate\n0     2Y 0.401\n1     3Y 0.501\n2...</td>\n      <td>USD_3M</td>\n      <td>0.285</td>\n      <td>Tenor  Rate  TenorNum  TenorUnit           ...</td>\n    </tr>\n    <tr>\n      <th>24/12/2012</th>\n      <td>2012-12-24</td>\n      <td>[2012-12-27 00:00:00, 2012-12-28 00:00:00, 201...</td>\n      <td>[1.0, 0.9999921111733451, 0.9999361147509188, ...</td>\n      <td>Tenor  Rate\n0     2Y 0.411\n1     3Y 0.513\n2...</td>\n      <td>USD_3M</td>\n      <td>0.284</td>\n      <td>Tenor  Rate  TenorNum  TenorUnit           ...</td>\n    </tr>\n    <tr>\n      <th>27/12/2012</th>\n      <td>2012-12-27</td>\n      <td>[2012-12-31 00:00:00, 2013-01-02 00:00:00, 201...</td>\n      <td>[1.0, 0.9999817225562933, 0.9999368095488494, ...</td>\n      <td>Tenor  Rate\n0     2Y 0.405\n1     3Y 0.498\n2...</td>\n      <td>USD_3M</td>\n      <td>0.329</td>\n      <td>Tenor  Rate  TenorNum  TenorUnit           ...</td>\n    </tr>\n    <tr>\n      <th>28/12/2012</th>\n      <td>2012-12-28</td>\n      <td>[2013-01-02 00:00:00, 2013-01-03 00:00:00, 201...</td>\n      <td>[1.0, 0.9999908334173604, 0.999936809548857, 0...</td>\n      <td>Tenor  Rate\n0     2Y 0.395\n1     3Y  0.49\n2...</td>\n      <td>USD_3M</td>\n      <td>0.33</td>\n      <td>Tenor  Rate  TenorNum  TenorUnit           ...</td>\n    </tr>\n    <tr>\n      <th>31/12/2012</th>\n      <td>2012-12-31</td>\n      <td>[2013-01-03 00:00:00, 2013-01-04 00:00:00, 201...</td>\n      <td>[1.0, 0.9999905278675, 0.9999356430310389, 0.9...</td>\n      <td>Tenor  Rate\n0     2Y 0.386\n1     3Y 0.483\n2...</td>\n      <td>USD_3M</td>\n      <td>0.341</td>\n      <td>Tenor  Rate  TenorNum  TenorUnit           ...</td>\n    </tr>\n  </tbody>\n</table>\n</div>"
     },
     "execution_count": 4,
     "metadata": {},
     "output_type": "execute_result"
    }
   ],
   "source": [
    "hist['USD_3M'].loc['03/12/2012':,:]\n"
   ],
   "metadata": {
    "collapsed": false,
    "ExecuteTime": {
     "end_time": "2024-02-22T11:16:12.464426800Z",
     "start_time": "2024-02-22T11:16:11.581793900Z"
    }
   }
  },
  {
   "cell_type": "code",
   "execution_count": 4,
   "outputs": [],
   "source": [
    "d1 = datetime.date(2010,1,1)\n",
    "feeder = hist['USD_3M'][ hist['USD_3M']['Ref_Date'] > d1 ]"
   ],
   "metadata": {
    "collapsed": false,
    "ExecuteTime": {
     "end_time": "2024-02-22T12:17:03.582018500Z",
     "start_time": "2024-02-22T12:17:03.498018700Z"
    }
   }
  },
  {
   "cell_type": "code",
   "execution_count": 13,
   "outputs": [],
   "source": [
    "a = [ [ libor_from_nodes( hist['USD_3M'].iloc[1000], hist['SOFR_DC']), 0, 2] ]\n"
   ],
   "metadata": {
    "collapsed": false,
    "ExecuteTime": {
     "end_time": "2024-02-22T12:12:12.460414500Z",
     "start_time": "2024-02-22T12:12:12.215516600Z"
    }
   }
  },
  {
   "cell_type": "code",
   "execution_count": 14,
   "outputs": [
    {
     "data": {
      "text/plain": "   Tenor  SwapRate\n0     2Y     5.829\n1     3Y     5.948\n2     4Y     6.071\n3     5Y     6.184\n4     6Y     6.265\n5     7Y      6.34\n6     8Y     6.421\n7     9Y     6.499\n8    10Y     6.567\n9    12Y      6.69\n10   15Y     6.821\n11   20Y     6.925\n12   25Y     6.978\n13   30Y     7.008",
      "text/html": "<div>\n<style scoped>\n    .dataframe tbody tr th:only-of-type {\n        vertical-align: middle;\n    }\n\n    .dataframe tbody tr th {\n        vertical-align: top;\n    }\n\n    .dataframe thead th {\n        text-align: right;\n    }\n</style>\n<table border=\"1\" class=\"dataframe\">\n  <thead>\n    <tr style=\"text-align: right;\">\n      <th></th>\n      <th>Tenor</th>\n      <th>SwapRate</th>\n    </tr>\n  </thead>\n  <tbody>\n    <tr>\n      <th>0</th>\n      <td>2Y</td>\n      <td>5.829</td>\n    </tr>\n    <tr>\n      <th>1</th>\n      <td>3Y</td>\n      <td>5.948</td>\n    </tr>\n    <tr>\n      <th>2</th>\n      <td>4Y</td>\n      <td>6.071</td>\n    </tr>\n    <tr>\n      <th>3</th>\n      <td>5Y</td>\n      <td>6.184</td>\n    </tr>\n    <tr>\n      <th>4</th>\n      <td>6Y</td>\n      <td>6.265</td>\n    </tr>\n    <tr>\n      <th>5</th>\n      <td>7Y</td>\n      <td>6.34</td>\n    </tr>\n    <tr>\n      <th>6</th>\n      <td>8Y</td>\n      <td>6.421</td>\n    </tr>\n    <tr>\n      <th>7</th>\n      <td>9Y</td>\n      <td>6.499</td>\n    </tr>\n    <tr>\n      <th>8</th>\n      <td>10Y</td>\n      <td>6.567</td>\n    </tr>\n    <tr>\n      <th>9</th>\n      <td>12Y</td>\n      <td>6.69</td>\n    </tr>\n    <tr>\n      <th>10</th>\n      <td>15Y</td>\n      <td>6.821</td>\n    </tr>\n    <tr>\n      <th>11</th>\n      <td>20Y</td>\n      <td>6.925</td>\n    </tr>\n    <tr>\n      <th>12</th>\n      <td>25Y</td>\n      <td>6.978</td>\n    </tr>\n    <tr>\n      <th>13</th>\n      <td>30Y</td>\n      <td>7.008</td>\n    </tr>\n  </tbody>\n</table>\n</div>"
     },
     "execution_count": 14,
     "metadata": {},
     "output_type": "execute_result"
    }
   ],
   "source": [
    "a[0][0].rates"
   ],
   "metadata": {
    "collapsed": false,
    "ExecuteTime": {
     "end_time": "2024-02-22T12:12:13.206641200Z",
     "start_time": "2024-02-22T12:12:13.105094Z"
    }
   }
  },
  {
   "cell_type": "code",
   "execution_count": 5,
   "outputs": [
    {
     "ename": "RuntimeError",
     "evalue": "2nd leg: Missing USDLibor3M Actual/360 fixing for March 31st, 2010",
     "output_type": "error",
     "traceback": [
      "\u001B[1;31m---------------------------------------------------------------------------\u001B[0m",
      "\u001B[1;31mRuntimeError\u001B[0m                              Traceback (most recent call last)",
      "Cell \u001B[1;32mIn[5], line 1\u001B[0m\n\u001B[1;32m----> 1\u001B[0m [Swap_Pricer([[ libor_from_nodes( feeder\u001B[38;5;241m.\u001B[39miloc[i], hist[\u001B[38;5;124m'\u001B[39m\u001B[38;5;124mSOFR_DC\u001B[39m\u001B[38;5;124m'\u001B[39m]), \u001B[38;5;241m0\u001B[39m, \u001B[38;5;241m2\u001B[39m] ])\u001B[38;5;241m.\u001B[39mrate \u001B[38;5;28;01mfor\u001B[39;00m i \u001B[38;5;129;01min\u001B[39;00m np\u001B[38;5;241m.\u001B[39marange(\u001B[38;5;28mlen\u001B[39m(feeder))]\n",
      "Cell \u001B[1;32mIn[5], line 1\u001B[0m, in \u001B[0;36m<listcomp>\u001B[1;34m(.0)\u001B[0m\n\u001B[1;32m----> 1\u001B[0m [\u001B[43mSwap_Pricer\u001B[49m\u001B[43m(\u001B[49m\u001B[43m[\u001B[49m\u001B[43m[\u001B[49m\u001B[43m \u001B[49m\u001B[43mlibor_from_nodes\u001B[49m\u001B[43m(\u001B[49m\u001B[43m \u001B[49m\u001B[43mfeeder\u001B[49m\u001B[38;5;241;43m.\u001B[39;49m\u001B[43miloc\u001B[49m\u001B[43m[\u001B[49m\u001B[43mi\u001B[49m\u001B[43m]\u001B[49m\u001B[43m,\u001B[49m\u001B[43m \u001B[49m\u001B[43mhist\u001B[49m\u001B[43m[\u001B[49m\u001B[38;5;124;43m'\u001B[39;49m\u001B[38;5;124;43mSOFR_DC\u001B[39;49m\u001B[38;5;124;43m'\u001B[39;49m\u001B[43m]\u001B[49m\u001B[43m)\u001B[49m\u001B[43m,\u001B[49m\u001B[43m \u001B[49m\u001B[38;5;241;43m0\u001B[39;49m\u001B[43m,\u001B[49m\u001B[43m \u001B[49m\u001B[38;5;241;43m2\u001B[39;49m\u001B[43m]\u001B[49m\u001B[43m \u001B[49m\u001B[43m]\u001B[49m\u001B[43m)\u001B[49m\u001B[38;5;241m.\u001B[39mrate \u001B[38;5;28;01mfor\u001B[39;00m i \u001B[38;5;129;01min\u001B[39;00m np\u001B[38;5;241m.\u001B[39marange(\u001B[38;5;28mlen\u001B[39m(feeder))]\n",
      "File \u001B[1;32m~\\PycharmProjects\\pythonProject\\Builds\\SWAP_PRICER.py:137\u001B[0m, in \u001B[0;36mSwap_Pricer\u001B[1;34m(a, fixed_leg_freq)\u001B[0m\n\u001B[0;32m    135\u001B[0m         swap \u001B[38;5;241m=\u001B[39m ql\u001B[38;5;241m.\u001B[39mVanillaSwap(ql\u001B[38;5;241m.\u001B[39mVanillaSwap\u001B[38;5;241m.\u001B[39mPayer, sw\u001B[38;5;241m.\u001B[39mn,fixed_schedule,sw\u001B[38;5;241m.\u001B[39mrate_x\u001B[38;5;241m/\u001B[39m\u001B[38;5;241m100\u001B[39m, t\u001B[38;5;241m.\u001B[39mfixed[\u001B[38;5;241m1\u001B[39m],floating_schedule, index,\u001B[38;5;241m0.0\u001B[39m, t\u001B[38;5;241m.\u001B[39mfloating[\u001B[38;5;241m1\u001B[39m])\n\u001B[0;32m    136\u001B[0m         swap\u001B[38;5;241m.\u001B[39msetPricingEngine(ql\u001B[38;5;241m.\u001B[39mDiscountingSwapEngine(discount_curve))\n\u001B[1;32m--> 137\u001B[0m         output_rate\u001B[38;5;241m.\u001B[39mappend(\u001B[38;5;28mround\u001B[39m(\u001B[43mswap\u001B[49m\u001B[38;5;241;43m.\u001B[39;49m\u001B[43mfairRate\u001B[49m\u001B[43m(\u001B[49m\u001B[43m)\u001B[49m\u001B[38;5;241m*\u001B[39m\u001B[38;5;241m100\u001B[39m,\u001B[38;5;241m7\u001B[39m))\n\u001B[0;32m    140\u001B[0m \u001B[38;5;66;03m#calc pv01\u001B[39;00m\n\u001B[0;32m    141\u001B[0m         bp \u001B[38;5;241m=\u001B[39m \u001B[38;5;241m-\u001B[39m\u001B[38;5;241m0.00005\u001B[39m\n",
      "File \u001B[1;32mC:\\winapp\\Anaconda\\envs\\pythonProject\\lib\\site-packages\\QuantLib\\QuantLib.py:20311\u001B[0m, in \u001B[0;36mVanillaSwap.fairRate\u001B[1;34m(self)\u001B[0m\n\u001B[0;32m  20309\u001B[0m \u001B[38;5;28;01mdef\u001B[39;00m \u001B[38;5;21mfairRate\u001B[39m(\u001B[38;5;28mself\u001B[39m):\n\u001B[0;32m  20310\u001B[0m \u001B[38;5;250m    \u001B[39m\u001B[38;5;124mr\u001B[39m\u001B[38;5;124;03m\"\"\"fairRate(VanillaSwap self) -> Rate\"\"\"\u001B[39;00m\n\u001B[1;32m> 20311\u001B[0m     \u001B[38;5;28;01mreturn\u001B[39;00m \u001B[43m_QuantLib\u001B[49m\u001B[38;5;241;43m.\u001B[39;49m\u001B[43mVanillaSwap_fairRate\u001B[49m\u001B[43m(\u001B[49m\u001B[38;5;28;43mself\u001B[39;49m\u001B[43m)\u001B[49m\n",
      "\u001B[1;31mRuntimeError\u001B[0m: 2nd leg: Missing USDLibor3M Actual/360 fixing for March 31st, 2010"
     ]
    }
   ],
   "source": [
    "[Swap_Pricer([[ libor_from_nodes( feeder.iloc[i], hist['SOFR_DC']), 0, 2] ]).rate for i in np.arange(len(feeder))]"
   ],
   "metadata": {
    "collapsed": false,
    "ExecuteTime": {
     "end_time": "2024-02-22T12:17:42.706553Z",
     "start_time": "2024-02-22T12:17:08.044751700Z"
    }
   }
  },
  {
   "cell_type": "code",
   "execution_count": 7,
   "outputs": [
    {
     "name": "stdout",
     "output_type": "stream",
     "text": [
      "0 04/01/2010\n",
      "1 05/01/2010\n",
      "2 06/01/2010\n",
      "3 07/01/2010\n",
      "4 08/01/2010\n",
      "5 11/01/2010\n",
      "6 12/01/2010\n",
      "7 13/01/2010\n",
      "8 14/01/2010\n",
      "9 19/01/2010\n",
      "10 20/01/2010\n",
      "11 21/01/2010\n",
      "12 22/01/2010\n",
      "13 25/01/2010\n",
      "14 26/01/2010\n",
      "15 27/01/2010\n",
      "16 28/01/2010\n",
      "17 29/01/2010\n",
      "18 01/02/2010\n",
      "19 02/02/2010\n",
      "20 03/02/2010\n",
      "21 04/02/2010\n",
      "22 05/02/2010\n",
      "23 08/02/2010\n",
      "24 09/02/2010\n",
      "25 10/02/2010\n",
      "26 11/02/2010\n",
      "27 16/02/2010\n",
      "28 17/02/2010\n",
      "29 18/02/2010\n",
      "30 19/02/2010\n",
      "31 22/02/2010\n",
      "32 23/02/2010\n",
      "33 24/02/2010\n",
      "34 25/02/2010\n",
      "35 26/02/2010\n",
      "36 01/03/2010\n",
      "37 02/03/2010\n",
      "38 03/03/2010\n",
      "39 04/03/2010\n",
      "40 05/03/2010\n",
      "41 08/03/2010\n",
      "42 09/03/2010\n",
      "43 10/03/2010\n",
      "44 11/03/2010\n",
      "45 12/03/2010\n",
      "46 15/03/2010\n",
      "47 16/03/2010\n",
      "48 17/03/2010\n",
      "49 18/03/2010\n",
      "50 19/03/2010\n",
      "51 22/03/2010\n",
      "52 23/03/2010\n",
      "53 24/03/2010\n",
      "54 25/03/2010\n",
      "55 26/03/2010\n",
      "56 29/03/2010\n",
      "57 30/03/2010\n",
      "58 31/03/2010\n",
      "59 01/04/2010\n",
      "60 06/04/2010\n",
      "61 07/04/2010\n",
      "62 08/04/2010\n",
      "63 09/04/2010\n",
      "64 12/04/2010\n",
      "65 13/04/2010\n",
      "66 14/04/2010\n",
      "67 15/04/2010\n",
      "68 16/04/2010\n",
      "69 19/04/2010\n",
      "70 20/04/2010\n",
      "71 21/04/2010\n",
      "72 22/04/2010\n",
      "73 23/04/2010\n",
      "74 26/04/2010\n",
      "75 27/04/2010\n",
      "76 28/04/2010\n",
      "77 29/04/2010\n",
      "78 30/04/2010\n",
      "79 04/05/2010\n",
      "80 05/05/2010\n",
      "81 06/05/2010\n",
      "82 07/05/2010\n",
      "83 10/05/2010\n",
      "84 11/05/2010\n",
      "85 12/05/2010\n",
      "86 13/05/2010\n",
      "87 14/05/2010\n",
      "88 17/05/2010\n",
      "89 18/05/2010\n",
      "90 19/05/2010\n",
      "91 20/05/2010\n",
      "92 21/05/2010\n",
      "93 24/05/2010\n",
      "94 25/05/2010\n",
      "95 26/05/2010\n",
      "96 27/05/2010\n",
      "97 28/05/2010\n",
      "98 01/06/2010\n",
      "99 02/06/2010\n",
      "100 03/06/2010\n",
      "101 04/06/2010\n",
      "102 07/06/2010\n",
      "103 08/06/2010\n",
      "104 09/06/2010\n",
      "105 10/06/2010\n",
      "106 11/06/2010\n",
      "107 14/06/2010\n",
      "108 15/06/2010\n",
      "109 16/06/2010\n",
      "110 17/06/2010\n",
      "111 18/06/2010\n",
      "112 21/06/2010\n",
      "113 22/06/2010\n",
      "114 23/06/2010\n",
      "115 24/06/2010\n",
      "116 25/06/2010\n",
      "117 28/06/2010\n",
      "118 29/06/2010\n",
      "119 30/06/2010\n",
      "120 01/07/2010\n",
      "121 06/07/2010\n",
      "122 07/07/2010\n",
      "123 08/07/2010\n",
      "124 09/07/2010\n",
      "125 12/07/2010\n",
      "126 13/07/2010\n",
      "127 14/07/2010\n",
      "128 15/07/2010\n",
      "129 16/07/2010\n",
      "130 19/07/2010\n",
      "131 20/07/2010\n",
      "132 21/07/2010\n",
      "133 22/07/2010\n",
      "134 23/07/2010\n",
      "135 26/07/2010\n",
      "136 27/07/2010\n",
      "137 28/07/2010\n",
      "138 29/07/2010\n",
      "139 30/07/2010\n",
      "140 02/08/2010\n",
      "141 03/08/2010\n",
      "142 04/08/2010\n",
      "143 05/08/2010\n",
      "144 06/08/2010\n",
      "145 09/08/2010\n",
      "146 10/08/2010\n",
      "147 11/08/2010\n",
      "148 12/08/2010\n",
      "149 13/08/2010\n",
      "150 16/08/2010\n",
      "151 17/08/2010\n",
      "152 18/08/2010\n",
      "153 19/08/2010\n",
      "154 20/08/2010\n",
      "155 23/08/2010\n",
      "156 24/08/2010\n",
      "157 25/08/2010\n",
      "158 26/08/2010\n",
      "159 27/08/2010\n",
      "160 31/08/2010\n",
      "161 01/09/2010\n",
      "162 02/09/2010\n",
      "163 07/09/2010\n",
      "164 08/09/2010\n",
      "165 09/09/2010\n",
      "166 10/09/2010\n",
      "167 13/09/2010\n",
      "168 14/09/2010\n",
      "169 15/09/2010\n",
      "170 16/09/2010\n",
      "171 17/09/2010\n",
      "172 20/09/2010\n",
      "173 21/09/2010\n",
      "174 22/09/2010\n",
      "175 23/09/2010\n",
      "176 24/09/2010\n",
      "177 27/09/2010\n",
      "178 28/09/2010\n",
      "179 29/09/2010\n",
      "180 30/09/2010\n",
      "181 01/10/2010\n",
      "182 04/10/2010\n",
      "183 05/10/2010\n",
      "184 06/10/2010\n",
      "185 07/10/2010\n",
      "186 12/10/2010\n",
      "187 13/10/2010\n",
      "188 14/10/2010\n",
      "189 15/10/2010\n",
      "190 18/10/2010\n",
      "191 19/10/2010\n",
      "192 20/10/2010\n",
      "193 21/10/2010\n",
      "194 22/10/2010\n",
      "195 25/10/2010\n",
      "196 26/10/2010\n",
      "197 27/10/2010\n",
      "198 28/10/2010\n",
      "199 29/10/2010\n",
      "200 01/11/2010\n",
      "201 02/11/2010\n",
      "202 03/11/2010\n",
      "203 04/11/2010\n",
      "204 05/11/2010\n",
      "205 08/11/2010\n",
      "206 09/11/2010\n",
      "207 12/11/2010\n",
      "208 15/11/2010\n",
      "209 16/11/2010\n",
      "210 17/11/2010\n",
      "211 18/11/2010\n",
      "212 19/11/2010\n",
      "213 22/11/2010\n",
      "214 23/11/2010\n",
      "215 26/11/2010\n",
      "216 29/11/2010\n",
      "217 30/11/2010\n",
      "218 01/12/2010\n",
      "219 02/12/2010\n",
      "220 03/12/2010\n",
      "221 06/12/2010\n",
      "222 07/12/2010\n",
      "223 08/12/2010\n",
      "224 09/12/2010\n",
      "225 10/12/2010\n",
      "226 13/12/2010\n",
      "227 14/12/2010\n",
      "228 15/12/2010\n",
      "229 16/12/2010\n",
      "230 17/12/2010\n",
      "231 20/12/2010\n",
      "232 21/12/2010\n",
      "233 22/12/2010\n",
      "234 23/12/2010\n",
      "235 29/12/2010\n",
      "236 30/12/2010\n"
     ]
    },
    {
     "ename": "KeyboardInterrupt",
     "evalue": "",
     "output_type": "error",
     "traceback": [
      "\u001B[1;31m---------------------------------------------------------------------------\u001B[0m",
      "\u001B[1;31mKeyboardInterrupt\u001B[0m                         Traceback (most recent call last)",
      "Cell \u001B[1;32mIn[7], line 3\u001B[0m\n\u001B[0;32m      1\u001B[0m \u001B[38;5;28;01mfor\u001B[39;00m i \u001B[38;5;129;01min\u001B[39;00m np\u001B[38;5;241m.\u001B[39marange(\u001B[38;5;28mlen\u001B[39m(feeder)):\n\u001B[0;32m      2\u001B[0m     \u001B[38;5;28mprint\u001B[39m(i, feeder\u001B[38;5;241m.\u001B[39miloc[i]\u001B[38;5;241m.\u001B[39mname)\n\u001B[1;32m----> 3\u001B[0m     \u001B[43mlibor_from_nodes\u001B[49m\u001B[43m(\u001B[49m\u001B[43m \u001B[49m\u001B[43mfeeder\u001B[49m\u001B[38;5;241;43m.\u001B[39;49m\u001B[43miloc\u001B[49m\u001B[43m[\u001B[49m\u001B[43mi\u001B[49m\u001B[43m]\u001B[49m\u001B[43m,\u001B[49m\u001B[43m \u001B[49m\u001B[43mhist\u001B[49m\u001B[43m[\u001B[49m\u001B[38;5;124;43m'\u001B[39;49m\u001B[38;5;124;43mSOFR_DC\u001B[39;49m\u001B[38;5;124;43m'\u001B[39;49m\u001B[43m]\u001B[49m\u001B[43m)\u001B[49m\n",
      "File \u001B[1;32m~\\PycharmProjects\\pythonProject\\Builds\\SWAP_BUILD.py:353\u001B[0m, in \u001B[0;36mlibor_from_nodes\u001B[1;34m(a, ois_hist)\u001B[0m\n\u001B[0;32m    350\u001B[0m libor_curve\u001B[38;5;241m.\u001B[39menableExtrapolation()\n\u001B[0;32m    352\u001B[0m \u001B[38;5;28;01mif\u001B[39;00m ql_to_datetime(trade_date)\u001B[38;5;241m.\u001B[39mstrftime(\u001B[38;5;124m'\u001B[39m\u001B[38;5;132;01m%d\u001B[39;00m\u001B[38;5;124m/\u001B[39m\u001B[38;5;124m%\u001B[39m\u001B[38;5;124mm/\u001B[39m\u001B[38;5;124m%\u001B[39m\u001B[38;5;124mY\u001B[39m\u001B[38;5;124m'\u001B[39m) \u001B[38;5;129;01min\u001B[39;00m  ois_hist\u001B[38;5;241m.\u001B[39mindex:\n\u001B[1;32m--> 353\u001B[0m     dc_curve \u001B[38;5;241m=\u001B[39m \u001B[43mois_from_nodes\u001B[49m\u001B[43m(\u001B[49m\u001B[43m  \u001B[49m\u001B[43mois_hist\u001B[49m\u001B[38;5;241;43m.\u001B[39;49m\u001B[43mloc\u001B[49m\u001B[43m[\u001B[49m\u001B[43mql_to_datetime\u001B[49m\u001B[43m(\u001B[49m\u001B[43mtrade_date\u001B[49m\u001B[43m)\u001B[49m\u001B[38;5;241;43m.\u001B[39;49m\u001B[43mstrftime\u001B[49m\u001B[43m(\u001B[49m\u001B[38;5;124;43m'\u001B[39;49m\u001B[38;5;132;43;01m%d\u001B[39;49;00m\u001B[38;5;124;43m/\u001B[39;49m\u001B[38;5;124;43m%\u001B[39;49m\u001B[38;5;124;43mm/\u001B[39;49m\u001B[38;5;124;43m%\u001B[39;49m\u001B[38;5;124;43mY\u001B[39;49m\u001B[38;5;124;43m'\u001B[39;49m\u001B[43m)\u001B[49m\u001B[43m]\u001B[49m\u001B[43m \u001B[49m\u001B[43m,\u001B[49m\u001B[43m \u001B[49m\u001B[43mccy\u001B[49m\u001B[43m(\u001B[49m\u001B[43mc\u001B[49m\u001B[38;5;241;43m.\u001B[39;49m\u001B[43mdc_index\u001B[49m\u001B[43m,\u001B[49m\u001B[43m \u001B[49m\u001B[43mtoday\u001B[49m\u001B[43m)\u001B[49m\u001B[43m)\u001B[49m\u001B[38;5;241m.\u001B[39mcurve\n\u001B[0;32m    354\u001B[0m \u001B[38;5;28;01melse\u001B[39;00m:\n\u001B[0;32m    355\u001B[0m     dc_curve \u001B[38;5;241m=\u001B[39m libor_curve\n",
      "File \u001B[1;32m~\\PycharmProjects\\pythonProject\\Builds\\OIS_DC_BUILD.py:32\u001B[0m, in \u001B[0;36mois_from_nodes\u001B[1;34m(a, conv)\u001B[0m\n\u001B[0;32m     30\u001B[0m swap_rates \u001B[38;5;241m=\u001B[39m a[\u001B[38;5;124m'\u001B[39m\u001B[38;5;124mSwap_Rates\u001B[39m\u001B[38;5;124m'\u001B[39m]\n\u001B[0;32m     31\u001B[0m swap_rates\u001B[38;5;241m.\u001B[39mcolumns \u001B[38;5;241m=\u001B[39m [\u001B[38;5;124m'\u001B[39m\u001B[38;5;124mTenor\u001B[39m\u001B[38;5;124m'\u001B[39m,\u001B[38;5;124m'\u001B[39m\u001B[38;5;124mSwapRate\u001B[39m\u001B[38;5;124m'\u001B[39m]\n\u001B[1;32m---> 32\u001B[0m curve_ccy \u001B[38;5;241m=\u001B[39m \u001B[43mcon\u001B[49m\u001B[38;5;241;43m.\u001B[39;49m\u001B[43mref\u001B[49m\u001B[43m(\u001B[49m\u001B[43mc\u001B[49m\u001B[38;5;241;43m.\u001B[39;49m\u001B[43mbbg_curve\u001B[49m\u001B[43m,\u001B[49m\u001B[38;5;124;43m'\u001B[39;49m\u001B[38;5;124;43mCRNCY\u001B[39;49m\u001B[38;5;124;43m'\u001B[39;49m\u001B[43m)\u001B[49m[\u001B[38;5;124m'\u001B[39m\u001B[38;5;124mvalue\u001B[39m\u001B[38;5;124m'\u001B[39m][\u001B[38;5;241m0\u001B[39m]\n\u001B[0;32m     34\u001B[0m q_dates \u001B[38;5;241m=\u001B[39m [datetime_to_ql(a[\u001B[38;5;124m'\u001B[39m\u001B[38;5;124mDates\u001B[39m\u001B[38;5;124m'\u001B[39m][j]) \u001B[38;5;28;01mfor\u001B[39;00m j \u001B[38;5;129;01min\u001B[39;00m np\u001B[38;5;241m.\u001B[39marange(\u001B[38;5;28mlen\u001B[39m(a[\u001B[38;5;124m'\u001B[39m\u001B[38;5;124mDates\u001B[39m\u001B[38;5;124m'\u001B[39m]))]\n\u001B[0;32m     35\u001B[0m l_rates \u001B[38;5;241m=\u001B[39m a[\u001B[38;5;124m'\u001B[39m\u001B[38;5;124mRates\u001B[39m\u001B[38;5;124m'\u001B[39m]\n",
      "File \u001B[1;32mC:\\winapp\\Anaconda\\envs\\pythonProject\\lib\\site-packages\\pdblp\\pdblp.py:364\u001B[0m, in \u001B[0;36mBCon.ref\u001B[1;34m(self, tickers, flds, ovrds)\u001B[0m\n\u001B[0;32m    362\u001B[0m logger\u001B[38;5;241m.\u001B[39minfo(\u001B[38;5;124m'\u001B[39m\u001B[38;5;124mSending Request:\u001B[39m\u001B[38;5;130;01m\\n\u001B[39;00m\u001B[38;5;132;01m{}\u001B[39;00m\u001B[38;5;124m'\u001B[39m\u001B[38;5;241m.\u001B[39mformat(request))\n\u001B[0;32m    363\u001B[0m \u001B[38;5;28mself\u001B[39m\u001B[38;5;241m.\u001B[39m_session\u001B[38;5;241m.\u001B[39msendRequest(request, identity\u001B[38;5;241m=\u001B[39m\u001B[38;5;28mself\u001B[39m\u001B[38;5;241m.\u001B[39m_identity)\n\u001B[1;32m--> 364\u001B[0m data \u001B[38;5;241m=\u001B[39m \u001B[38;5;28;43mself\u001B[39;49m\u001B[38;5;241;43m.\u001B[39;49m\u001B[43m_parse_ref\u001B[49m\u001B[43m(\u001B[49m\u001B[43mflds\u001B[49m\u001B[43m)\u001B[49m\n\u001B[0;32m    365\u001B[0m data \u001B[38;5;241m=\u001B[39m pd\u001B[38;5;241m.\u001B[39mDataFrame(data)\n\u001B[0;32m    366\u001B[0m data\u001B[38;5;241m.\u001B[39mcolumns \u001B[38;5;241m=\u001B[39m [\u001B[38;5;124m'\u001B[39m\u001B[38;5;124mticker\u001B[39m\u001B[38;5;124m'\u001B[39m, \u001B[38;5;124m'\u001B[39m\u001B[38;5;124mfield\u001B[39m\u001B[38;5;124m'\u001B[39m, \u001B[38;5;124m'\u001B[39m\u001B[38;5;124mvalue\u001B[39m\u001B[38;5;124m'\u001B[39m]\n",
      "File \u001B[1;32mC:\\winapp\\Anaconda\\envs\\pythonProject\\lib\\site-packages\\pdblp\\pdblp.py:372\u001B[0m, in \u001B[0;36mBCon._parse_ref\u001B[1;34m(self, flds, keep_corrId, sent_events)\u001B[0m\n\u001B[0;32m    370\u001B[0m data \u001B[38;5;241m=\u001B[39m []\n\u001B[0;32m    371\u001B[0m \u001B[38;5;66;03m# Process received events\u001B[39;00m\n\u001B[1;32m--> 372\u001B[0m \u001B[38;5;28;01mfor\u001B[39;00m msg \u001B[38;5;129;01min\u001B[39;00m \u001B[38;5;28mself\u001B[39m\u001B[38;5;241m.\u001B[39m_receive_events(sent_events):\n\u001B[0;32m    373\u001B[0m     \u001B[38;5;28;01mif\u001B[39;00m keep_corrId:\n\u001B[0;32m    374\u001B[0m         corrId \u001B[38;5;241m=\u001B[39m msg[\u001B[38;5;124m'\u001B[39m\u001B[38;5;124mcorrelationIds\u001B[39m\u001B[38;5;124m'\u001B[39m]\n",
      "File \u001B[1;32mC:\\winapp\\Anaconda\\envs\\pythonProject\\lib\\site-packages\\pdblp\\pdblp.py:212\u001B[0m, in \u001B[0;36mBCon._receive_events\u001B[1;34m(self, sent_events, to_dict)\u001B[0m\n\u001B[0;32m    210\u001B[0m logger \u001B[38;5;241m=\u001B[39m _get_logger(\u001B[38;5;28mself\u001B[39m\u001B[38;5;241m.\u001B[39mdebug)\n\u001B[0;32m    211\u001B[0m \u001B[38;5;28;01mwhile\u001B[39;00m \u001B[38;5;28;01mTrue\u001B[39;00m:\n\u001B[1;32m--> 212\u001B[0m     ev \u001B[38;5;241m=\u001B[39m \u001B[38;5;28;43mself\u001B[39;49m\u001B[38;5;241;43m.\u001B[39;49m\u001B[43m_session\u001B[49m\u001B[38;5;241;43m.\u001B[39;49m\u001B[43mnextEvent\u001B[49m\u001B[43m(\u001B[49m\u001B[38;5;28;43mself\u001B[39;49m\u001B[38;5;241;43m.\u001B[39;49m\u001B[43mtimeout\u001B[49m\u001B[43m)\u001B[49m\n\u001B[0;32m    213\u001B[0m     ev_name \u001B[38;5;241m=\u001B[39m _EVENT_DICT[ev\u001B[38;5;241m.\u001B[39meventType()]\n\u001B[0;32m    214\u001B[0m     logger\u001B[38;5;241m.\u001B[39minfo(\u001B[38;5;124m'\u001B[39m\u001B[38;5;124mEvent Type: \u001B[39m\u001B[38;5;132;01m{!r}\u001B[39;00m\u001B[38;5;124m'\u001B[39m\u001B[38;5;241m.\u001B[39mformat(ev_name))\n",
      "File \u001B[1;32mC:\\winapp\\Anaconda\\envs\\pythonProject\\lib\\site-packages\\blpapi\\session.py:298\u001B[0m, in \u001B[0;36mSession.nextEvent\u001B[1;34m(self, timeout)\u001B[0m\n\u001B[0;32m    277\u001B[0m \u001B[38;5;28;01mdef\u001B[39;00m \u001B[38;5;21mnextEvent\u001B[39m(\u001B[38;5;28mself\u001B[39m, timeout: \u001B[38;5;28mint\u001B[39m \u001B[38;5;241m=\u001B[39m \u001B[38;5;241m0\u001B[39m) \u001B[38;5;241m-\u001B[39m\u001B[38;5;241m>\u001B[39m Event:\n\u001B[0;32m    278\u001B[0m \u001B[38;5;250m    \u001B[39m\u001B[38;5;124;03m\"\"\"\u001B[39;00m\n\u001B[0;32m    279\u001B[0m \u001B[38;5;124;03m    Args:\u001B[39;00m\n\u001B[0;32m    280\u001B[0m \u001B[38;5;124;03m        timeout: Timeout threshold in milliseconds\u001B[39;00m\n\u001B[1;32m   (...)\u001B[0m\n\u001B[0;32m    296\u001B[0m \u001B[38;5;124;03m    of type :attr:`~Event.TIMEOUT`.\u001B[39;00m\n\u001B[0;32m    297\u001B[0m \u001B[38;5;124;03m    \"\"\"\u001B[39;00m\n\u001B[1;32m--> 298\u001B[0m     retCode, event \u001B[38;5;241m=\u001B[39m \u001B[43minternals\u001B[49m\u001B[38;5;241;43m.\u001B[39;49m\u001B[43mblpapi_Session_nextEvent\u001B[49m\u001B[43m(\u001B[49m\n\u001B[0;32m    299\u001B[0m \u001B[43m        \u001B[49m\u001B[38;5;28;43mself\u001B[39;49m\u001B[38;5;241;43m.\u001B[39;49m\u001B[43m__handle\u001B[49m\u001B[43m,\u001B[49m\u001B[43m \u001B[49m\u001B[43mtimeout\u001B[49m\n\u001B[0;32m    300\u001B[0m \u001B[43m    \u001B[49m\u001B[43m)\u001B[49m\n\u001B[0;32m    302\u001B[0m     _ExceptionUtil\u001B[38;5;241m.\u001B[39mraiseOnError(retCode)\n\u001B[0;32m    304\u001B[0m     \u001B[38;5;28;01mreturn\u001B[39;00m Event(event, {\u001B[38;5;28mself\u001B[39m})\n",
      "File \u001B[1;32mC:\\winapp\\Anaconda\\envs\\pythonProject\\lib\\site-packages\\blpapi\\internals.py:1526\u001B[0m, in \u001B[0;36mblpapi_Session_nextEvent\u001B[1;34m(session, timeoutInMilliseconds)\u001B[0m\n\u001B[0;32m   1525\u001B[0m \u001B[38;5;28;01mdef\u001B[39;00m \u001B[38;5;21mblpapi_Session_nextEvent\u001B[39m(session, timeoutInMilliseconds):\n\u001B[1;32m-> 1526\u001B[0m     \u001B[38;5;28;01mreturn\u001B[39;00m \u001B[43m_internals\u001B[49m\u001B[38;5;241;43m.\u001B[39;49m\u001B[43mblpapi_Session_nextEvent\u001B[49m\u001B[43m(\u001B[49m\u001B[43msession\u001B[49m\u001B[43m,\u001B[49m\u001B[43m \u001B[49m\u001B[43mtimeoutInMilliseconds\u001B[49m\u001B[43m)\u001B[49m\n",
      "\u001B[1;31mKeyboardInterrupt\u001B[0m: "
     ]
    }
   ],
   "source": [
    "for i in np.arange(len(feeder)):\n",
    "    print(i, feeder.iloc[i].name)\n",
    "    libor_from_nodes( feeder.iloc[i], hist['SOFR_DC'])"
   ],
   "metadata": {
    "collapsed": false,
    "ExecuteTime": {
     "end_time": "2024-02-22T12:21:21.633222900Z",
     "start_time": "2024-02-22T12:19:47.491894200Z"
    }
   }
  },
  {
   "cell_type": "code",
   "execution_count": 6,
   "outputs": [
    {
     "data": {
      "text/plain": "              Ref_Date                                              Dates                                              Rates                                         Swap_Rates   Index  Fixing                                              Table\n04/01/2010  2010-01-04  [2010-01-06 00:00:00, 2010-01-07 00:00:00, 201...  [1.0, 0.9999916389587965, 0.9999455585193723, ...     Tenor  SwapRate\n0     2Y     1.355\n1     3Y...  USD_3M   0.301     Tenor  Rate  TenorNum  TenorUnit           ...\n05/01/2010  2010-01-05  [2010-01-07 00:00:00, 2010-01-08 00:00:00, 201...  [1.0, 0.99999291671684, 0.9999508079755324, 0....     Tenor  SwapRate\n0     2Y     1.292\n1     3Y...  USD_3M   0.255     Tenor  Rate  TenorNum  TenorUnit           ...\n06/01/2010  2010-01-06  [2010-01-08 00:00:00, 2010-01-11 00:00:00, 201...  [1.0, 0.9999794170903314, 0.9999529466585763, ...     Tenor  SwapRate\n0     2Y     1.267\n1     3Y...  USD_3M   0.247     Tenor  Rate  TenorNum  TenorUnit           ...\n07/01/2010  2010-01-07  [2010-01-11 00:00:00, 2010-01-12 00:00:00, 201...  [1.0, 0.9999927222751879, 0.9999437809386172, ...     Tenor  SwapRate\n0     2Y      1.29\n1     3Y...  USD_3M   0.262     Tenor  Rate  TenorNum  TenorUnit           ...\n08/01/2010  2010-01-08  [2010-01-12 00:00:00, 2010-01-13 00:00:00, 201...  [1.0, 0.9999919722866669, 0.9999467250607361, ...     Tenor  SwapRate\n0     2Y     1.231\n1     3Y...  USD_3M   0.289     Tenor  Rate  TenorNum  TenorUnit           ...\n...                ...                                                ...                                                ...                                                ...     ...     ...                                                ...\n21/12/2012  2012-12-21  [2012-12-26 00:00:00, 2012-12-27 00:00:00, 201...  [1.0, 0.9999920833960064, 0.999935253742418, 0...     Tenor  Rate\n0     2Y 0.401\n1     3Y 0.501\n2...  USD_3M   0.285     Tenor  Rate  TenorNum  TenorUnit           ...\n24/12/2012  2012-12-24  [2012-12-27 00:00:00, 2012-12-28 00:00:00, 201...  [1.0, 0.9999921111733451, 0.9999361147509188, ...     Tenor  Rate\n0     2Y 0.411\n1     3Y 0.513\n2...  USD_3M   0.284     Tenor  Rate  TenorNum  TenorUnit           ...\n27/12/2012  2012-12-27  [2012-12-31 00:00:00, 2013-01-02 00:00:00, 201...  [1.0, 0.9999817225562933, 0.9999368095488494, ...     Tenor  Rate\n0     2Y 0.405\n1     3Y 0.498\n2...  USD_3M   0.329     Tenor  Rate  TenorNum  TenorUnit           ...\n28/12/2012  2012-12-28  [2013-01-02 00:00:00, 2013-01-03 00:00:00, 201...  [1.0, 0.9999908334173604, 0.999936809548857, 0...     Tenor  Rate\n0     2Y 0.395\n1     3Y  0.49\n2...  USD_3M    0.33     Tenor  Rate  TenorNum  TenorUnit           ...\n31/12/2012  2012-12-31  [2013-01-03 00:00:00, 2013-01-04 00:00:00, 201...  [1.0, 0.9999905278675, 0.9999356430310389, 0.9...     Tenor  Rate\n0     2Y 0.386\n1     3Y 0.483\n2...  USD_3M   0.341     Tenor  Rate  TenorNum  TenorUnit           ...\n\n[709 rows x 7 columns]",
      "text/html": "<div>\n<style scoped>\n    .dataframe tbody tr th:only-of-type {\n        vertical-align: middle;\n    }\n\n    .dataframe tbody tr th {\n        vertical-align: top;\n    }\n\n    .dataframe thead th {\n        text-align: right;\n    }\n</style>\n<table border=\"1\" class=\"dataframe\">\n  <thead>\n    <tr style=\"text-align: right;\">\n      <th></th>\n      <th>Ref_Date</th>\n      <th>Dates</th>\n      <th>Rates</th>\n      <th>Swap_Rates</th>\n      <th>Index</th>\n      <th>Fixing</th>\n      <th>Table</th>\n    </tr>\n  </thead>\n  <tbody>\n    <tr>\n      <th>04/01/2010</th>\n      <td>2010-01-04</td>\n      <td>[2010-01-06 00:00:00, 2010-01-07 00:00:00, 201...</td>\n      <td>[1.0, 0.9999916389587965, 0.9999455585193723, ...</td>\n      <td>Tenor  SwapRate\n0     2Y     1.355\n1     3Y...</td>\n      <td>USD_3M</td>\n      <td>0.301</td>\n      <td>Tenor  Rate  TenorNum  TenorUnit           ...</td>\n    </tr>\n    <tr>\n      <th>05/01/2010</th>\n      <td>2010-01-05</td>\n      <td>[2010-01-07 00:00:00, 2010-01-08 00:00:00, 201...</td>\n      <td>[1.0, 0.99999291671684, 0.9999508079755324, 0....</td>\n      <td>Tenor  SwapRate\n0     2Y     1.292\n1     3Y...</td>\n      <td>USD_3M</td>\n      <td>0.255</td>\n      <td>Tenor  Rate  TenorNum  TenorUnit           ...</td>\n    </tr>\n    <tr>\n      <th>06/01/2010</th>\n      <td>2010-01-06</td>\n      <td>[2010-01-08 00:00:00, 2010-01-11 00:00:00, 201...</td>\n      <td>[1.0, 0.9999794170903314, 0.9999529466585763, ...</td>\n      <td>Tenor  SwapRate\n0     2Y     1.267\n1     3Y...</td>\n      <td>USD_3M</td>\n      <td>0.247</td>\n      <td>Tenor  Rate  TenorNum  TenorUnit           ...</td>\n    </tr>\n    <tr>\n      <th>07/01/2010</th>\n      <td>2010-01-07</td>\n      <td>[2010-01-11 00:00:00, 2010-01-12 00:00:00, 201...</td>\n      <td>[1.0, 0.9999927222751879, 0.9999437809386172, ...</td>\n      <td>Tenor  SwapRate\n0     2Y      1.29\n1     3Y...</td>\n      <td>USD_3M</td>\n      <td>0.262</td>\n      <td>Tenor  Rate  TenorNum  TenorUnit           ...</td>\n    </tr>\n    <tr>\n      <th>08/01/2010</th>\n      <td>2010-01-08</td>\n      <td>[2010-01-12 00:00:00, 2010-01-13 00:00:00, 201...</td>\n      <td>[1.0, 0.9999919722866669, 0.9999467250607361, ...</td>\n      <td>Tenor  SwapRate\n0     2Y     1.231\n1     3Y...</td>\n      <td>USD_3M</td>\n      <td>0.289</td>\n      <td>Tenor  Rate  TenorNum  TenorUnit           ...</td>\n    </tr>\n    <tr>\n      <th>...</th>\n      <td>...</td>\n      <td>...</td>\n      <td>...</td>\n      <td>...</td>\n      <td>...</td>\n      <td>...</td>\n      <td>...</td>\n    </tr>\n    <tr>\n      <th>21/12/2012</th>\n      <td>2012-12-21</td>\n      <td>[2012-12-26 00:00:00, 2012-12-27 00:00:00, 201...</td>\n      <td>[1.0, 0.9999920833960064, 0.999935253742418, 0...</td>\n      <td>Tenor  Rate\n0     2Y 0.401\n1     3Y 0.501\n2...</td>\n      <td>USD_3M</td>\n      <td>0.285</td>\n      <td>Tenor  Rate  TenorNum  TenorUnit           ...</td>\n    </tr>\n    <tr>\n      <th>24/12/2012</th>\n      <td>2012-12-24</td>\n      <td>[2012-12-27 00:00:00, 2012-12-28 00:00:00, 201...</td>\n      <td>[1.0, 0.9999921111733451, 0.9999361147509188, ...</td>\n      <td>Tenor  Rate\n0     2Y 0.411\n1     3Y 0.513\n2...</td>\n      <td>USD_3M</td>\n      <td>0.284</td>\n      <td>Tenor  Rate  TenorNum  TenorUnit           ...</td>\n    </tr>\n    <tr>\n      <th>27/12/2012</th>\n      <td>2012-12-27</td>\n      <td>[2012-12-31 00:00:00, 2013-01-02 00:00:00, 201...</td>\n      <td>[1.0, 0.9999817225562933, 0.9999368095488494, ...</td>\n      <td>Tenor  Rate\n0     2Y 0.405\n1     3Y 0.498\n2...</td>\n      <td>USD_3M</td>\n      <td>0.329</td>\n      <td>Tenor  Rate  TenorNum  TenorUnit           ...</td>\n    </tr>\n    <tr>\n      <th>28/12/2012</th>\n      <td>2012-12-28</td>\n      <td>[2013-01-02 00:00:00, 2013-01-03 00:00:00, 201...</td>\n      <td>[1.0, 0.9999908334173604, 0.999936809548857, 0...</td>\n      <td>Tenor  Rate\n0     2Y 0.395\n1     3Y  0.49\n2...</td>\n      <td>USD_3M</td>\n      <td>0.33</td>\n      <td>Tenor  Rate  TenorNum  TenorUnit           ...</td>\n    </tr>\n    <tr>\n      <th>31/12/2012</th>\n      <td>2012-12-31</td>\n      <td>[2013-01-03 00:00:00, 2013-01-04 00:00:00, 201...</td>\n      <td>[1.0, 0.9999905278675, 0.9999356430310389, 0.9...</td>\n      <td>Tenor  Rate\n0     2Y 0.386\n1     3Y 0.483\n2...</td>\n      <td>USD_3M</td>\n      <td>0.341</td>\n      <td>Tenor  Rate  TenorNum  TenorUnit           ...</td>\n    </tr>\n  </tbody>\n</table>\n<p>709 rows × 7 columns</p>\n</div>"
     },
     "execution_count": 6,
     "metadata": {},
     "output_type": "execute_result"
    }
   ],
   "source": [
    "feeder"
   ],
   "metadata": {
    "collapsed": false,
    "ExecuteTime": {
     "end_time": "2024-02-22T12:18:18.789364900Z",
     "start_time": "2024-02-22T12:18:18.467915Z"
    }
   }
  },
  {
   "cell_type": "code",
   "execution_count": 4,
   "outputs": [
    {
     "name": "stdout",
     "output_type": "stream",
     "text": [
      "*** !!! ois_curve built !!! ***\n",
      "*** !!! inflation_curve built !!! ***\n",
      "*** !!! ois_curve retrieved from hist !!! ***\n",
      "*** !!! inflation_curve built !!! ***\n"
     ]
    }
   ],
   "source": [
    "ukrpi1 = infl_zc_swap_build('UKRPI', b=0)\n",
    "ukrpi2 = infl_zc_swap_build('UKRPI', b=-90)"
   ],
   "metadata": {
    "collapsed": false,
    "ExecuteTime": {
     "end_time": "2024-03-07T17:11:25.939538Z",
     "start_time": "2024-03-07T17:10:59.476669400Z"
    }
   }
  },
  {
   "cell_type": "code",
   "execution_count": 5,
   "outputs": [
    {
     "data": {
      "text/plain": "Date(30,10,2023)"
     },
     "execution_count": 5,
     "metadata": {},
     "output_type": "execute_result"
    }
   ],
   "source": [
    "ukrpi2.ref_date\n"
   ],
   "metadata": {
    "collapsed": false,
    "ExecuteTime": {
     "end_time": "2024-03-07T17:11:28.899222800Z",
     "start_time": "2024-03-07T17:11:28.857697700Z"
    }
   }
  },
  {
   "cell_type": "code",
   "execution_count": 6,
   "outputs": [
    {
     "ename": "NameError",
     "evalue": "name 'crv' is not defined",
     "output_type": "error",
     "traceback": [
      "\u001B[1;31m---------------------------------------------------------------------------\u001B[0m",
      "\u001B[1;31mNameError\u001B[0m                                 Traceback (most recent call last)",
      "Cell \u001B[1;32mIn[6], line 1\u001B[0m\n\u001B[1;32m----> 1\u001B[0m \u001B[43mcrv\u001B[49m[\u001B[38;5;241m1\u001B[39m]\u001B[38;5;241m.\u001B[39mcurve[\u001B[38;5;241m1\u001B[39m][\u001B[38;5;241m270\u001B[39m:\u001B[38;5;241m300\u001B[39m]\n",
      "\u001B[1;31mNameError\u001B[0m: name 'crv' is not defined"
     ]
    }
   ],
   "source": [
    "crv[1].curve[1][270:300]"
   ],
   "metadata": {
    "collapsed": false,
    "ExecuteTime": {
     "end_time": "2024-03-07T17:11:33.604912400Z",
     "start_time": "2024-03-07T17:11:29.666713700Z"
    }
   }
  },
  {
   "cell_type": "code",
   "execution_count": 7,
   "outputs": [],
   "source": [
    "crv = [ukrpi1, ukrpi2]\n",
    "\n",
    "for inf_crv in crv:\n",
    "    inf_crv.curve[1]['yoy'] = inf_crv.curve[1]['index'].pct_change(periods=12)*100\n",
    "\n",
    "fix_df = []\n",
    "for i in np.arange(len(crv)):\n",
    "    fix_df.append(crv[i].curve[1][crv[i].curve[1]['months'] > crv[i].base_month][:12]['months'].tolist())\n",
    "\n",
    "fix_months = np.unique(fix_df)\n",
    "fix_months = [ql_to_datetime(fix_months[i]).strftime('%b-%y') for i in np.arange(len(fix_months))]\n",
    "\n",
    "\n",
    "fixings = np.round( crv[0].curve[1][crv[0].curve[1]['months'].isin(np.unique(fix_df))]['yoy'] ,2).tolist()\n",
    "fixings_chg = np.round(100*(crv[0].curve[1][crv[0].curve[1]['months'].isin(np.unique(fix_df))]['yoy'] - crv[1].curve[1][crv[1].curve[1]['months'].isin(np.unique(fix_df))]['yoy']),1).tolist()\n",
    "\n",
    "\n",
    "crv[0].curve[2]['yoy'] = crv[0].curve[2]['index'].pct_change(periods=12)*100  ##### getting barcap forecasts\n",
    "barcap_f = np.round( crv[0].curve[2][crv[0].curve[2]['months'].isin(np.unique(fix_df))]['yoy'] ,2).tolist()\n"
   ],
   "metadata": {
    "collapsed": false,
    "ExecuteTime": {
     "end_time": "2024-03-07T17:11:37.290870200Z",
     "start_time": "2024-03-07T17:11:37.230833600Z"
    }
   }
  },
  {
   "cell_type": "code",
   "execution_count": 10,
   "outputs": [
    {
     "data": {
      "text/plain": "['Oct-23',\n 'Nov-23',\n 'Dec-23',\n 'Jan-24',\n 'Feb-24',\n 'Mar-24',\n 'Apr-24',\n 'May-24',\n 'Jun-24',\n 'Jul-24',\n 'Aug-24',\n 'Sep-24',\n 'Oct-24',\n 'Nov-24',\n 'Dec-24',\n 'Jan-25']"
     },
     "execution_count": 10,
     "metadata": {},
     "output_type": "execute_result"
    }
   ],
   "source": [
    "fix_months"
   ],
   "metadata": {
    "collapsed": false,
    "ExecuteTime": {
     "end_time": "2024-03-07T17:39:53.135336900Z",
     "start_time": "2024-03-07T17:39:53.084306100Z"
    }
   }
  },
  {
   "cell_type": "code",
   "execution_count": 9,
   "outputs": [],
   "source": [
    "s_plot = []\n",
    "s1_source = ColumnDataSource(data=dict(x=fix_months, y=fixings, z=fixings_chg, b=barcap_f ))\n",
    "\n",
    "s1 = figure(x_range=fix_months, width=550, height=300, tools=[\"pan\", \"tap\", \"wheel_zoom\", \"box_zoom\", \"save\", \"reset\", \"help\"], toolbar_location='right')\n",
    "s1.xgrid.visible = False\n",
    "s1.ygrid.visible = False\n",
    "s1.vbar(x='x', top='y', width=0.7, source=s1_source, color='lightsteelblue')\n",
    "s1.y_range = Range1d( min(1, min(fixings)-1.5) , max(fixings) + 0.2)\n",
    "labels_1 = LabelSet(x='x', y='y', text='y', level='glyph', text_align='center', y_offset=-10, source=s1_source, text_font_size='10px', text_color='midnightblue')\n",
    "labels_2 = LabelSet(x='x', y=min(1, min(fixings)-1.5), text='b', level='glyph', text_align='center', y_offset=8, source=s1_source, text_font_size='10px', text_color='darkgreen')\n",
    "s1.add_layout((labels_1))\n",
    "s1.add_layout((labels_2))\n",
    "s1.xaxis.major_label_orientation = math.pi / 2\n",
    "\n",
    "s2 = figure(x_range=fix_months, width=550, height=125, tools=[\"pan\", \"tap\", \"wheel_zoom\", \"box_zoom\", \"save\", \"reset\", \"help\"], toolbar_location='right')\n",
    "s2.xgrid.visible = False\n",
    "s2.ygrid.visible = False\n",
    "s2.circle(x='x', y='z', size=8, source=s1_source, color='firebrick', alpha=0.8)\n",
    "zero_line = Span(location=0, dimension='width', line_color='darkseagreen', line_width=1)\n",
    "s2.renderers.extend([zero_line])\n",
    "labels_1a = LabelSet(x='x', y='z', text='z', level='glyph', text_align='center', y_offset=-14, source=s1_source, text_font_size='8px', text_color='firebrick')\n",
    "s2.add_layout((labels_1a))\n",
    "s2.y_range = Range1d( min(fixings_chg)*1.2 , max(fixings_chg)*1.2)\n",
    "s2.xaxis.visible = False\n",
    "\n",
    "\n",
    "s_plot.append(s1)\n",
    "s_plot.append(s2)\n",
    "\n",
    "layout = column(*s_plot)\n",
    "show(layout)\n"
   ],
   "metadata": {
    "collapsed": false,
    "ExecuteTime": {
     "end_time": "2024-03-07T17:11:41.962873800Z",
     "start_time": "2024-03-07T17:11:39.475495500Z"
    }
   }
  },
  {
   "cell_type": "code",
   "execution_count": 247,
   "outputs": [
    {
     "name": "stdout",
     "output_type": "stream",
     "text": [
      "SOFR_DC\n",
      "*** !!! ois_curve built !!! ***\n",
      "*** !!! ois_curve retrieved from hist !!! ***\n",
      "SONIA_DC\n",
      "*** !!! ois_curve built !!! ***\n",
      "*** !!! ois_curve retrieved from hist !!! ***\n"
     ]
    }
   ],
   "source": [
    "h1 = curve_hmap(['SOFR_DC','SONIA_DC'],b='12-03-2024', offset=['01-03-2024'], ois_flag = 1)\n",
    "\n"
   ],
   "metadata": {
    "collapsed": false,
    "ExecuteTime": {
     "end_time": "2024-03-13T18:27:21.809274900Z",
     "start_time": "2024-03-13T18:26:40.899016600Z"
    }
   }
  },
  {
   "cell_type": "code",
   "execution_count": 157,
   "outputs": [
    {
     "data": {
      "text/plain": "<Figure size 1200x800 with 4 Axes>",
      "image/png": "[encoded data removed]"
     },
     "metadata": {},
     "output_type": "display_data"
    }
   ],
   "source": [
    "offset = [-10]\n",
    "ois_flag = 1\n",
    "z_offset = 0\n",
    "z_roll = ['3M','6M']\n",
    "\n",
    "#fig, axs = plt.subplots(2, 2, figsize=(12, 8))\n",
    "#ax1 = plt.subplot(2, 2, 1)\n",
    "#ax1.set_title('Rates', fontdict={'fontsize':9})\n",
    "#df_rates = h1.rates[:-1]\n",
    "# for i in list(df_rates.index):\n",
    "#     if any(x == i for x in ['11Y', '13Y', '40Y']):\n",
    "#         df_rates = df_rates.drop([i])\n",
    "#\n",
    "# mask = df_rates.isnull()\n",
    "# sns.heatmap(df_rates[::-1], cmap='coolwarm', linewidths=1, annot=True, fmt=\".5g\", cbar=False, mask = mask[::-1], ax=ax1)\n",
    "#\n",
    "# ax2 = plt.subplot(2, 2, 2)\n",
    "# ax2.set_title('Chg: '+str(h1.offset[z_offset])+' /  '+str(h1.dates[z_offset+1]), fontdict={'fontsize':9})\n",
    "# df_rates_chg = h1.rates_chg[h1.offset[z_offset]][:-1]\n",
    "# for i in list(df_rates_chg.index):\n",
    "#     if any(x == i for x in ['11Y', '13Y', '40Y']):\n",
    "#         df_rates_chg = df_rates_chg.drop([i])\n",
    "#\n",
    "# mask = df_rates_chg.isnull()\n",
    "# sns.heatmap(df_rates_chg[::-1], cmap='Purples_r', linewidths=1, annot=True, fmt=\".5g\", cbar=False, mask = mask[::-1], ax=ax2)\n",
    "#\n",
    "# ax3 = plt.subplot(2, 2, 3)\n",
    "# ax3.set_title('Fwds', fontdict={'fontsize':9})\n",
    "# sns.heatmap(h1.curves[::-1], cmap='coolwarm', linewidths=1, annot=True, fmt=\".5g\", cbar=False, ax=ax3)\n",
    "#\n",
    "# ax4 = plt.subplot(2, 2, 4)\n",
    "# ax4.set_title('Chg: '+str(h1.offset[z_offset])+' /  '+str(h1.dates[z_offset+1]), fontdict={'fontsize':9})\n",
    "# sns.heatmap(h1.chg[h1.offset[z_offset]][::-1], cmap='Purples_r', linewidths=1, annot=True, fmt=\".5g\", cbar=False, ax=ax4)\n",
    "\n",
    "\n",
    "\n",
    "fig, axs = plt.subplots(2, 2, figsize=(12, 8))\n",
    "fig.subplots_adjust(hspace=0.5)\n",
    "ax1 = plt.subplot(2, 2, 1)\n",
    "ax1.set_title('Curve', fontdict={'fontsize':9})\n",
    "scaled_df = minmax_scale(h1.steep.transpose())\n",
    "sns.heatmap(scaled_df, cmap='Blues', linewidths=1, annot=h1.steep.transpose(), xticklabels=h1.steep.index, yticklabels=h1.steep.columns, fmt=\".5g\", cbar=False, ax=ax1)\n",
    "\n",
    "ax2 = plt.subplot(2, 2, 2)\n",
    "ax2.set_title('Chg: '+str(h1.offset[z_offset])+' /  '+str(h1.dates[z_offset+1]),  fontdict={'fontsize':9})\n",
    "df2 = h1.steep_chg[h1.offset[z_offset]].transpose()\n",
    "scaled_df2 = minmax_scale(df2)\n",
    "sns.heatmap(scaled_df2, cmap='Purples_r', linewidths=1, annot=df2, xticklabels=df2.columns, yticklabels=df2.index, fmt=\".5g\", cbar=False, ax=ax2)\n",
    "\n",
    "ax3 = plt.subplot(2, 2, 3)\n",
    "ax3.set_title('Roll: '+str(z_roll[0]), fontdict={'fontsize':9} )\n",
    "sns.heatmap(h1.roll[z_roll[0]].transpose(), cmap='coolwarm_r', linewidths=1, annot=True, fmt=\".5g\", cbar=False, ax=ax3)\n",
    "\n",
    "ax4 = plt.subplot(2, 2, 4)\n",
    "ax4.set_title('Roll: '+str(z_roll[1]), fontdict={'fontsize':9})\n",
    "sns.heatmap(h1.roll[z_roll[1]].transpose(), cmap='coolwarm_r', linewidths=1, annot=True, fmt=\".5g\", cbar=False, ax=ax4)\n",
    "\n",
    "plt.tight_layout()\n",
    "plt.show()\n",
    "\n",
    "\n",
    "\n"
   ],
   "metadata": {
    "collapsed": false,
    "ExecuteTime": {
     "end_time": "2024-03-13T14:54:02.040319900Z",
     "start_time": "2024-03-13T14:53:57.354340100Z"
    }
   }
  },
  {
   "cell_type": "code",
   "execution_count": 230,
   "outputs": [
    {
     "name": "stdout",
     "output_type": "stream",
     "text": [
      "        USD   GBP   EUR   CAD\n",
      "Tenor                        \n",
      "2Y    4.506 4.502 2.965 4.166\n",
      "3Y    4.206 4.215 2.712 3.831\n",
      "4Y    4.039 4.027 2.576 3.611\n",
      "5Y    3.942 3.896 2.502 3.486\n",
      "6Y    3.888  3.81 2.467 3.431\n",
      "7Y    3.854 3.757 2.452 3.408\n",
      "8Y    3.832 3.728 2.449   NaN\n",
      "9Y     3.82 3.717 2.458   NaN\n",
      "10Y   3.814 3.717 2.473 3.414\n",
      "12Y   3.814 3.732 2.511 3.448\n",
      "15Y    3.82 3.755 2.556 3.504\n",
      "20Y   3.789 3.761 2.535 3.516\n",
      "25Y   3.701 3.742 2.456 3.424\n",
      "30Y   3.608 3.706 2.379  3.31\n",
      "50Y   3.186 3.515 2.145   NaN        USD  GBP  EUR  CAD\n",
      "Tenor                    \n",
      "2Y     5.6 -5.2 -3.3  1.8\n",
      "3Y     4.5 -7.6 -5.0 -0.2\n",
      "4Y     3.2 -8.6 -6.1 -2.3\n",
      "5Y     2.2 -9.2 -6.8 -3.5\n",
      "6Y     1.8 -9.3 -7.2 -3.0\n",
      "7Y     1.5 -9.3 -7.4 -2.9\n",
      "8Y     1.3 -9.1 -7.7  NaN\n",
      "9Y     1.1 -9.0 -7.7  NaN\n",
      "10Y    1.1 -8.9 -7.9 -2.6\n",
      "12Y    1.0 -8.8 -7.6 -2.2\n",
      "15Y    1.1 -8.8 -7.1 -1.9\n",
      "20Y    1.3 -8.9 -5.9 -1.0\n",
      "25Y    1.5 -8.9 -4.8 -0.1\n",
      "30Y    1.6 -8.8 -3.6  0.6\n",
      "50Y    1.5 -8.0 -1.6  NaN\n"
     ]
    }
   ],
   "source": [
    "df_rates = h1.rates[:-1]\n",
    "for i in list(df_rates.index):\n",
    "    if any(x == i for x in ['11Y', '13Y', '40Y']):\n",
    "        df_rates = df_rates.drop([i])\n",
    "\n",
    "mask1 = df_rates.isnull()\n",
    "\n",
    "df_rates_chg = h1.rates_chg[h1.offset[z_offset]][:-1]\n",
    "for i in list(df_rates_chg.index):\n",
    "    if any(x == i for x in ['11Y', '13Y', '40Y']):\n",
    "        df_rates_chg = df_rates_chg.drop([i])\n",
    "\n",
    "mask2 = df_rates_chg.isnull()\n",
    "\n",
    "\n",
    "print(df_rates, df_rates_chg)"
   ],
   "metadata": {
    "collapsed": false,
    "ExecuteTime": {
     "end_time": "2024-03-13T16:09:26.306396400Z",
     "start_time": "2024-03-13T16:09:26.209400700Z"
    }
   }
  },
  {
   "cell_type": "code",
   "execution_count": 199,
   "outputs": [
    {
     "data": {
      "text/plain": "['#3a4cc0',\n '#3b4dc1',\n '#3c4fc3',\n '#3e51c4',\n '#3f53c6',\n '#4054c7',\n '#4156c9',\n '#4258ca',\n '#435acc',\n '#455bcd',\n '#465dcf',\n '#475fd0',\n '#4860d1',\n '#4962d3',\n '#4b64d4',\n '#4c66d6',\n '#4d67d7',\n '#4e69d8',\n '#506bda',\n '#516cdb',\n '#526edc',\n '#5370dd',\n '#5571de',\n '#5673e0',\n '#5775e1',\n '#5876e2',\n '#5a78e3',\n '#5b79e4',\n '#5c7be5',\n '#5d7de6',\n '#5f7ee7',\n '#6080e8',\n '#6182ea',\n '#6383ea',\n '#6485eb',\n '#6586ec',\n '#6788ed',\n '#6889ee',\n '#698bef',\n '#6b8df0',\n '#6c8ef1',\n '#6d90f1',\n '#6f91f2',\n '#7093f3',\n '#7194f4',\n '#7395f4',\n '#7497f5',\n '#7598f6',\n '#779af6',\n '#789bf7',\n '#7a9df8',\n '#7b9ef8',\n '#7ca0f9',\n '#7ea1f9',\n '#7fa2fa',\n '#80a4fa',\n '#82a5fb',\n '#83a6fb',\n '#85a8fb',\n '#86a9fc',\n '#87aafc',\n '#89acfc',\n '#8aadfd',\n '#8baefd',\n '#8daffd',\n '#8eb1fd',\n '#90b2fe',\n '#91b3fe',\n '#92b4fe',\n '#94b5fe',\n '#95b7fe',\n '#97b8fe',\n '#98b9fe',\n '#99bafe',\n '#9bbbfe',\n '#9cbcfe',\n '#9dbdfe',\n '#9fbefe',\n '#a0bffe',\n '#a2c0fe',\n '#a3c1fe',\n '#a4c2fe',\n '#a6c3fd',\n '#a7c4fd',\n '#a8c5fd',\n '#aac6fd',\n '#abc7fc',\n '#acc8fc',\n '#aec9fc',\n '#afcafb',\n '#b0cbfb',\n '#b2cbfb',\n '#b3ccfa',\n '#b4cdfa',\n '#b6cef9',\n '#b7cff9',\n '#b8cff8',\n '#b9d0f8',\n '#bbd1f7',\n '#bcd1f6',\n '#bdd2f6',\n '#bed3f5',\n '#c0d3f5',\n '#c1d4f4',\n '#c2d4f3',\n '#c3d5f2',\n '#c5d5f2',\n '#c6d6f1',\n '#c7d6f0',\n '#c8d7ef',\n '#c9d7ee',\n '#cad8ee',\n '#ccd8ed',\n '#cdd9ec',\n '#ced9eb',\n '#cfd9ea',\n '#d0dae9',\n '#d1dae8',\n '#d2dae7',\n '#d3dbe6',\n '#d5dbe5',\n '#d6dbe4',\n '#d7dbe2',\n '#d8dbe1',\n '#d9dce0',\n '#dadcdf',\n '#dbdcde',\n '#dcdcdd',\n '#dddcdb',\n '#dedbda',\n '#dfdbd9',\n '#e0dad7',\n '#e1dad6',\n '#e2d9d4',\n '#e3d9d3',\n '#e4d8d1',\n '#e5d8d0',\n '#e6d7cf',\n '#e7d6cd',\n '#e7d6cc',\n '#e8d5ca',\n '#e9d4c9',\n '#ead3c7',\n '#ebd3c6',\n '#ecd2c4',\n '#ecd1c3',\n '#edd0c1',\n '#edcfc0',\n '#eecfbe',\n '#efcebc',\n '#efcdbb',\n '#f0ccb9',\n '#f1cbb8',\n '#f1cab6',\n '#f2c9b5',\n '#f2c8b3',\n '#f2c7b2',\n '#f3c6b0',\n '#f3c5af',\n '#f4c4ad',\n '#f4c3ab',\n '#f4c2aa',\n '#f5c1a8',\n '#f5c0a7',\n '#f5bfa5',\n '#f6bda4',\n '#f6bca2',\n '#f6bba0',\n '#f6ba9f',\n '#f6b99d',\n '#f6b79c',\n '#f6b69a',\n '#f7b598',\n '#f7b397',\n '#f7b295',\n '#f7b194',\n '#f7b092',\n '#f7ae91',\n '#f7ad8f',\n '#f6ab8d',\n '#f6aa8c',\n '#f6a98a',\n '#f6a789',\n '#f6a687',\n '#f6a486',\n '#f6a384',\n '#f5a182',\n '#f5a081',\n '#f59e7f',\n '#f49d7e',\n '#f49b7c',\n '#f49a7b',\n '#f39879',\n '#f39678',\n '#f39576',\n '#f29375',\n '#f29173',\n '#f19072',\n '#f18e70',\n '#f08d6f',\n '#f08b6d',\n '#ef896c',\n '#ee876a',\n '#ee8669',\n '#ed8467',\n '#ec8266',\n '#ec8064',\n '#eb7f63',\n '#ea7d61',\n '#ea7b60',\n '#e9795e',\n '#e8775d',\n '#e7755c',\n '#e6745a',\n '#e67259',\n '#e57057',\n '#e46e56',\n '#e36c54',\n '#e26a53',\n '#e16852',\n '#e06650',\n '#df644f',\n '#de624e',\n '#dd604c',\n '#dc5e4b',\n '#db5c4a',\n '#da5a48',\n '#d95847',\n '#d85646',\n '#d75444',\n '#d65243',\n '#d44f42',\n '#d34d40',\n '#d24b3f',\n '#d1493e',\n '#cf463d',\n '#ce443c',\n '#cd423a',\n '#cc3f39',\n '#ca3d38',\n '#c93b37',\n '#c83835',\n '#c63534',\n '#c53233',\n '#c43032',\n '#c22d31',\n '#c12a30',\n '#bf282e',\n '#be232d',\n '#bc1f2c',\n '#bb1a2b',\n '#b9162a',\n '#b81129',\n '#b60d28',\n '#b50827',\n '#b30326']"
     },
     "execution_count": 199,
     "metadata": {},
     "output_type": "execute_result"
    }
   ],
   "source": [
    "coolwarm_palette"
   ],
   "metadata": {
    "collapsed": false,
    "ExecuteTime": {
     "end_time": "2024-03-13T15:39:18.328569600Z",
     "start_time": "2024-03-13T15:39:18.165569500Z"
    }
   }
  },
  {
   "cell_type": "code",
   "execution_count": 245,
   "outputs": [],
   "source": [
    "m_coolwarm_rgb = (255 * cm.coolwarm(range(256))).astype('int')\n",
    "coolwarm_palette = [RGB(*tuple(rgb)).to_hex() for rgb in m_coolwarm_rgb]\n",
    "TOOLS = \"hover,save,pan,box_zoom,reset,wheel_zoom\"\n",
    "\n",
    "df1 = pd.DataFrame(df_rates.stack(), columns=['rate']).reset_index()\n",
    "df2 = pd.DataFrame(df_rates_chg.stack(), columns=['chg']).reset_index()\n",
    "df1.columns = ['Tenor','Curve','Rate']\n",
    "df1['Chg'] = df2['chg']\n",
    "n_crv = df_rates.shape[1]\n",
    "s1_source = ColumnDataSource(df1)\n",
    "\n",
    "df3 = pd.DataFrame(h1.curves.stack(), columns=['fwds']).reset_index()\n",
    "df4 = pd.DataFrame(h1.chg[h1.offset[z_offset]].stack(), columns=['chg']).reset_index()\n",
    "df3.columns = ['Fwds','Curve','Rate']\n",
    "df3['Chg'] = df4['chg']\n",
    "s2_source = ColumnDataSource(df3)\n",
    "\n",
    "f1 = df1['Chg'].tolist()+df3['Chg'].tolist()\n",
    "mapper_rates = LinearColorMapper(palette=coolwarm_palette, low=1, high=6.5)\n",
    "mapper_chg = LinearColorMapper(palette=coolwarm_palette, low=min(f1), high=max(f1))\n",
    "\n",
    "\n",
    "s1 = figure(title=\"Rate\",x_range=df_rates.columns.tolist(), y_range=df_rates.index.tolist(), x_axis_location=\"below\", width=100*n_crv, height=400,toolbar_location=None)\n",
    "s1.grid.grid_line_color = None\n",
    "s1.axis.axis_line_color = None\n",
    "s1.axis.major_tick_line_color = None\n",
    "s1.axis.major_label_text_font_size = \"12px\"\n",
    "s1.yaxis.axis_label = 'Tenor'\n",
    "\n",
    "s1.rect(x=\"Curve\", y=\"Tenor\", width=1, height=1, source=s1_source, fill_color={'field': 'Rate', 'transform': mapper_rates}, line_color=None)\n",
    "#s1.multi_line(xs=[[0,1], [1,2], [2,3], [3,4]], ys=[[0,0], [0,0], [0,0], [0,0]], color=['green', 'yellow', 'red', 'blue'], line_width=4)\n",
    "labels = LabelSet(x='Curve',y='Tenor', text='Rate', source=s1_source, level='glyph', text_align='center', y_offset=-7, text_color = 'black', text_font_size='9pt')\n",
    "s1.add_layout(labels)\n",
    "\n",
    "\n",
    "s2 = figure(title='Chg: '+str(h1.dates[z_offset+1]),x_range=df_rates.columns.tolist(), y_range=df_rates.index.tolist(), x_axis_location=\"below\", y_axis_location=\"right\", width=100*n_crv-75, height=400,toolbar_location=None)\n",
    "s2.grid.grid_line_color = None\n",
    "s2.axis.axis_line_color = None\n",
    "s2.axis.major_tick_line_color = None\n",
    "s2.axis.major_label_text_font_size = \"12px\"\n",
    "s2.yaxis.visible = False\n",
    "\n",
    "s2.rect(x=\"Curve\", y=\"Tenor\", width=1, height=1, source=s1_source, fill_color={'field': 'Chg', 'transform': mapper_chg}, line_color=None)\n",
    "labels_chg = LabelSet(x='Curve',y='Tenor', text='Chg', source=s1_source, level='glyph', text_align='center', y_offset=-7, text_color = 'black', text_font_size='9pt')\n",
    "s2.add_layout(labels_chg)\n",
    "\n",
    "s3 = figure(title=\"Fwds\",x_range=df_rates.columns.tolist(), y_range=df3.Fwds.unique().tolist(), x_axis_location=\"below\", width=100*n_crv-50, height=400,toolbar_location=None)\n",
    "s3.grid.grid_line_color = None\n",
    "s3.axis.axis_line_color = None\n",
    "s3.axis.major_tick_line_color = None\n",
    "s3.axis.major_label_text_font_size = \"12px\"\n",
    "#s3.yaxis.axis_label = 'Fwd'\n",
    "\n",
    "s3.rect(x=\"Curve\", y=\"Fwds\", width=1, height=1, source=s2_source, fill_color={'field': 'Rate', 'transform': mapper_rates}, line_color=None)\n",
    "labels2 = LabelSet(x='Curve',y='Fwds', text='Rate', source=s2_source, level='glyph', text_align='center', y_offset=-7, text_color = 'black', text_font_size='9pt')\n",
    "s3.add_layout(labels2)\n",
    "\n",
    "s4 = figure(title=\"Chg\",x_range=df_rates.columns.tolist(), y_range=df3.Fwds.unique().tolist(), x_axis_location=\"below\", y_axis_location=\"right\", width=100*n_crv-75, height=400,toolbar_location=None)\n",
    "s4.grid.grid_line_color = None\n",
    "s4.axis.axis_line_color = None\n",
    "s4.axis.major_tick_line_color = None\n",
    "s4.axis.major_label_text_font_size = \"12px\"\n",
    "s4.yaxis.visible = False\n",
    "\n",
    "s4.rect(x=\"Curve\", y=\"Fwds\", width=1, height=1, source=s2_source, fill_color={'field': 'Chg', 'transform': mapper_chg}, line_color=None)\n",
    "labels_chg2 = LabelSet(x='Curve',y='Fwds', text='Chg', source=s2_source, level='glyph', text_align='center', y_offset=-7, text_color = 'black', text_font_size='9pt')\n",
    "s4.add_layout(labels_chg2)\n",
    "\n",
    "\n",
    "df5 = pd.DataFrame(h1.steep[::-1].stack(), columns=['spread']).reset_index()\n",
    "df6 = pd.DataFrame(pd.DataFrame(h1.steep_chg[h1.offset[0]])[::-1].stack(), columns=['chg']).reset_index()\n",
    "df5.columns = ['Steep','Curve','Spread']\n",
    "df5['Chg'] = np.round(df6['chg'],1)\n",
    "s3_source = ColumnDataSource(df5)\n",
    "\n",
    "df7 = pd.DataFrame(h1.roll[z_roll[0]][::-1].stack(), columns=['roll_1']).reset_index()\n",
    "df8 = pd.DataFrame(h1.roll[z_roll[1]][::-1].stack(), columns=['roll_2']).reset_index()\n",
    "df7.columns = ['Steep','Curve','Roll_1']\n",
    "df7['Roll_1'] = np.round(df7['Roll_1'],1)\n",
    "df7['Roll_2'] = np.round(df8['roll_2'],1)\n",
    "s4_source = ColumnDataSource(df7)\n",
    "\n",
    "f2 = df5['Chg'].tolist()\n",
    "f3 = df7['Roll_1'].tolist()+df7['Roll_2'].tolist()\n",
    "mapper_curve = LinearColorMapper(palette=coolwarm_palette, low=-50, high=50)\n",
    "mapper_curve_chg = LinearColorMapper(palette=coolwarm_palette[::-1], low=min(f2), high=max(f2))\n",
    "mapper_roll = LinearColorMapper(palette=coolwarm_palette[::-1], low=min(f3), high=max(f3))\n",
    "\n",
    "\n",
    "s5 = figure(title=\"Curve\",x_range=df_rates.columns.tolist(), y_range=df5.Steep.unique().tolist(), x_axis_location=\"below\", width=100*n_crv, height=400,toolbar_location=None)\n",
    "s5.grid.grid_line_color = None\n",
    "s5.axis.axis_line_color = None\n",
    "s5.axis.major_tick_line_color = None\n",
    "s5.axis.major_label_text_font_size = \"12px\"\n",
    "s5.yaxis.axis_label = 'Curve'\n",
    "\n",
    "s5.rect(x=\"Curve\", y=\"Steep\", width=1, height=1, source=s3_source, fill_color={'field': 'Spread', 'transform': mapper_curve}, line_color=None)\n",
    "labels3 = LabelSet(x='Curve',y='Steep', text='Spread', source=s3_source, level='glyph', text_align='center', y_offset=-7, text_color = 'black', text_font_size='9pt')\n",
    "s5.add_layout(labels3)\n",
    "\n",
    "s6 = figure(title=\"Chg\",x_range=df_rates.columns.tolist(), y_range=df5.Steep.unique().tolist(), x_axis_location=\"below\", y_axis_location=\"right\", width=100*n_crv-75, height=400,toolbar_location=None)\n",
    "s6.grid.grid_line_color = None\n",
    "s6.axis.axis_line_color = None\n",
    "s6.axis.major_tick_line_color = None\n",
    "s6.axis.major_label_text_font_size = \"12px\"\n",
    "s6.yaxis.visible = False\n",
    "\n",
    "s6.rect(x=\"Curve\", y=\"Steep\", width=1, height=1, source=s3_source, fill_color={'field': 'Chg', 'transform': mapper_curve_chg}, line_color=None)\n",
    "labels_chg3 = LabelSet(x='Curve',y='Steep', text='Chg', source=s3_source, level='glyph', text_align='center', y_offset=-7, text_color = 'black', text_font_size='9pt')\n",
    "s6.add_layout(labels_chg3)\n",
    "\n",
    "\n",
    "s7 = figure(title='Roll: '+z_roll[0],x_range=df_rates.columns.tolist(), y_range=df5.Steep.unique().tolist(), x_axis_location=\"below\", width=100*n_crv-50, height=400,toolbar_location=None)\n",
    "s7.grid.grid_line_color = None\n",
    "s7.axis.axis_line_color = None\n",
    "s7.axis.major_tick_line_color = None\n",
    "s7.axis.major_label_text_font_size = \"12px\"\n",
    "#s7.yaxis.visible = False\n",
    "\n",
    "s7.rect(x=\"Curve\", y=\"Steep\", width=1, height=1, source=s4_source, fill_color={'field': 'Roll_1', 'transform': mapper_roll}, line_color=None)\n",
    "labels_roll1 = LabelSet(x='Curve',y='Steep', text='Roll_1', source=s4_source, level='glyph', text_align='center', y_offset=-7, text_color = 'black', text_font_size='9pt')\n",
    "s7.add_layout(labels_roll1)\n",
    "\n",
    "s8 = figure(title='Roll: '+z_roll[1],x_range=df_rates.columns.tolist(), y_range=df5.Steep.unique().tolist(), x_axis_location=\"below\", y_axis_location=\"right\", width=100*n_crv-75, height=400,toolbar_location=None)\n",
    "s8.grid.grid_line_color = None\n",
    "s8.axis.axis_line_color = None\n",
    "s8.axis.major_tick_line_color = None\n",
    "s8.axis.major_label_text_font_size = \"12px\"\n",
    "s8.yaxis.visible = False\n",
    "\n",
    "s8.rect(x=\"Curve\", y=\"Steep\", width=1, height=1, source=s4_source, fill_color={'field': 'Roll_2', 'transform': mapper_roll}, line_color=None)\n",
    "labels_roll2 = LabelSet(x='Curve',y='Steep', text='Roll_2', source=s4_source, level='glyph', text_align='center', y_offset=-7, text_color = 'black', text_font_size='9pt')\n",
    "s8.add_layout(labels_roll2)\n",
    "\n",
    "\n",
    "\n",
    "p = layout(children=[[s1, s2, s3, s4], [s5, s6, s7, s8]])\n",
    "\n",
    "#grid = gridplot([[s1, s2, s3, s4]], width=300, height=500)\n",
    "show(p)\n",
    "\n"
   ],
   "metadata": {
    "collapsed": false,
    "ExecuteTime": {
     "end_time": "2024-03-13T16:48:43.241558700Z",
     "start_time": "2024-03-13T16:48:42.265242100Z"
    }
   }
  },
  {
   "cell_type": "code",
   "execution_count": 252,
   "outputs": [
    {
     "data": {
      "text/plain": "                        USD                 GBP\n2-3     -21.799999999999997               -17.0\n2-5                   -43.5               -35.8\n2-10    -59.699999999999996  -55.99999999999999\n5-10                  -16.3               -20.3\n5-30                  -21.5 -27.099999999999998\n10-30    -5.199999999999999  -6.800000000000001\n2-3-5                   0.0  1.9000000000000001\n2-5-10  -27.300000000000004               -15.5\n3-5-7   -12.500000000000002                -7.4\n5-10-30               -11.0               -13.5",
      "text/html": "<div>\n<style scoped>\n    .dataframe tbody tr th:only-of-type {\n        vertical-align: middle;\n    }\n\n    .dataframe tbody tr th {\n        vertical-align: top;\n    }\n\n    .dataframe thead th {\n        text-align: right;\n    }\n</style>\n<table border=\"1\" class=\"dataframe\">\n  <thead>\n    <tr style=\"text-align: right;\">\n      <th></th>\n      <th>USD</th>\n      <th>GBP</th>\n    </tr>\n  </thead>\n  <tbody>\n    <tr>\n      <th>2-3</th>\n      <td>-21.799999999999997</td>\n      <td>-17.0</td>\n    </tr>\n    <tr>\n      <th>2-5</th>\n      <td>-43.5</td>\n      <td>-35.8</td>\n    </tr>\n    <tr>\n      <th>2-10</th>\n      <td>-59.699999999999996</td>\n      <td>-55.99999999999999</td>\n    </tr>\n    <tr>\n      <th>5-10</th>\n      <td>-16.3</td>\n      <td>-20.3</td>\n    </tr>\n    <tr>\n      <th>5-30</th>\n      <td>-21.5</td>\n      <td>-27.099999999999998</td>\n    </tr>\n    <tr>\n      <th>10-30</th>\n      <td>-5.199999999999999</td>\n      <td>-6.800000000000001</td>\n    </tr>\n    <tr>\n      <th>2-3-5</th>\n      <td>0.0</td>\n      <td>1.9000000000000001</td>\n    </tr>\n    <tr>\n      <th>2-5-10</th>\n      <td>-27.300000000000004</td>\n      <td>-15.5</td>\n    </tr>\n    <tr>\n      <th>3-5-7</th>\n      <td>-12.500000000000002</td>\n      <td>-7.4</td>\n    </tr>\n    <tr>\n      <th>5-10-30</th>\n      <td>-11.0</td>\n      <td>-13.5</td>\n    </tr>\n  </tbody>\n</table>\n</div>"
     },
     "execution_count": 252,
     "metadata": {},
     "output_type": "execute_result"
    }
   ],
   "source": [
    "h1.roll[1]"
   ],
   "metadata": {
    "collapsed": false,
    "ExecuteTime": {
     "end_time": "2024-03-13T18:36:15.728169100Z",
     "start_time": "2024-03-13T18:36:15.678170100Z"
    }
   }
  },
  {
   "cell_type": "code",
   "execution_count": 173,
   "outputs": [
    {
     "data": {
      "text/plain": "      Curve level_1                 chg\n0   5.10.30     USD -1.6000000000000005\n1   5.10.30     GBP  1.3000000000000007\n2   5.10.30     EUR                -4.8\n3     3.5.7     USD -1.4000000000000021\n4     3.5.7     GBP -1.9000000000000004\n5     3.5.7     EUR                -2.0\n6    2.5.10     USD  -2.799999999999997\n7    2.5.10     GBP                -6.0\n8    2.5.10     EUR  -4.299999999999997\n9     2.3.5     USD 0.20000000000000018\n10    2.3.5     GBP -1.9000000000000004\n11    2.3.5     EUR -0.2999999999999998\n12  10 - 30     USD  0.8999999999999986\n13  10 - 30     GBP                -1.2\n14  10 - 30     EUR   3.299999999999999\n15   5 - 30     USD 0.10000000000000142\n16   5 - 30     GBP -1.1000000000000014\n17   5 - 30     EUR  1.9000000000000004\n18   5 - 10     USD -0.7000000000000011\n19   5 - 10     GBP 0.10000000000000142\n20   5 - 10     EUR                -1.5\n21   2 - 10     USD  -4.299999999999997\n22   2 - 10     GBP  -5.599999999999994\n23   2 - 10     EUR  -7.199999999999996\n24    2 - 5     USD                -3.5\n25    2 - 5     GBP  -5.799999999999997\n26    2 - 5     EUR  -5.699999999999996\n27    2 - 3     USD -1.7000000000000028\n28    2 - 3     GBP  -3.799999999999997\n29    2 - 3     EUR                -3.0",
      "text/html": "<div>\n<style scoped>\n    .dataframe tbody tr th:only-of-type {\n        vertical-align: middle;\n    }\n\n    .dataframe tbody tr th {\n        vertical-align: top;\n    }\n\n    .dataframe thead th {\n        text-align: right;\n    }\n</style>\n<table border=\"1\" class=\"dataframe\">\n  <thead>\n    <tr style=\"text-align: right;\">\n      <th></th>\n      <th>Curve</th>\n      <th>level_1</th>\n      <th>chg</th>\n    </tr>\n  </thead>\n  <tbody>\n    <tr>\n      <th>0</th>\n      <td>5.10.30</td>\n      <td>USD</td>\n      <td>-1.6000000000000005</td>\n    </tr>\n    <tr>\n      <th>1</th>\n      <td>5.10.30</td>\n      <td>GBP</td>\n      <td>1.3000000000000007</td>\n    </tr>\n    <tr>\n      <th>2</th>\n      <td>5.10.30</td>\n      <td>EUR</td>\n      <td>-4.8</td>\n    </tr>\n    <tr>\n      <th>3</th>\n      <td>3.5.7</td>\n      <td>USD</td>\n      <td>-1.4000000000000021</td>\n    </tr>\n    <tr>\n      <th>4</th>\n      <td>3.5.7</td>\n      <td>GBP</td>\n      <td>-1.9000000000000004</td>\n    </tr>\n    <tr>\n      <th>5</th>\n      <td>3.5.7</td>\n      <td>EUR</td>\n      <td>-2.0</td>\n    </tr>\n    <tr>\n      <th>6</th>\n      <td>2.5.10</td>\n      <td>USD</td>\n      <td>-2.799999999999997</td>\n    </tr>\n    <tr>\n      <th>7</th>\n      <td>2.5.10</td>\n      <td>GBP</td>\n      <td>-6.0</td>\n    </tr>\n    <tr>\n      <th>8</th>\n      <td>2.5.10</td>\n      <td>EUR</td>\n      <td>-4.299999999999997</td>\n    </tr>\n    <tr>\n      <th>9</th>\n      <td>2.3.5</td>\n      <td>USD</td>\n      <td>0.20000000000000018</td>\n    </tr>\n    <tr>\n      <th>10</th>\n      <td>2.3.5</td>\n      <td>GBP</td>\n      <td>-1.9000000000000004</td>\n    </tr>\n    <tr>\n      <th>11</th>\n      <td>2.3.5</td>\n      <td>EUR</td>\n      <td>-0.2999999999999998</td>\n    </tr>\n    <tr>\n      <th>12</th>\n      <td>10 - 30</td>\n      <td>USD</td>\n      <td>0.8999999999999986</td>\n    </tr>\n    <tr>\n      <th>13</th>\n      <td>10 - 30</td>\n      <td>GBP</td>\n      <td>-1.2</td>\n    </tr>\n    <tr>\n      <th>14</th>\n      <td>10 - 30</td>\n      <td>EUR</td>\n      <td>3.299999999999999</td>\n    </tr>\n    <tr>\n      <th>15</th>\n      <td>5 - 30</td>\n      <td>USD</td>\n      <td>0.10000000000000142</td>\n    </tr>\n    <tr>\n      <th>16</th>\n      <td>5 - 30</td>\n      <td>GBP</td>\n      <td>-1.1000000000000014</td>\n    </tr>\n    <tr>\n      <th>17</th>\n      <td>5 - 30</td>\n      <td>EUR</td>\n      <td>1.9000000000000004</td>\n    </tr>\n    <tr>\n      <th>18</th>\n      <td>5 - 10</td>\n      <td>USD</td>\n      <td>-0.7000000000000011</td>\n    </tr>\n    <tr>\n      <th>19</th>\n      <td>5 - 10</td>\n      <td>GBP</td>\n      <td>0.10000000000000142</td>\n    </tr>\n    <tr>\n      <th>20</th>\n      <td>5 - 10</td>\n      <td>EUR</td>\n      <td>-1.5</td>\n    </tr>\n    <tr>\n      <th>21</th>\n      <td>2 - 10</td>\n      <td>USD</td>\n      <td>-4.299999999999997</td>\n    </tr>\n    <tr>\n      <th>22</th>\n      <td>2 - 10</td>\n      <td>GBP</td>\n      <td>-5.599999999999994</td>\n    </tr>\n    <tr>\n      <th>23</th>\n      <td>2 - 10</td>\n      <td>EUR</td>\n      <td>-7.199999999999996</td>\n    </tr>\n    <tr>\n      <th>24</th>\n      <td>2 - 5</td>\n      <td>USD</td>\n      <td>-3.5</td>\n    </tr>\n    <tr>\n      <th>25</th>\n      <td>2 - 5</td>\n      <td>GBP</td>\n      <td>-5.799999999999997</td>\n    </tr>\n    <tr>\n      <th>26</th>\n      <td>2 - 5</td>\n      <td>EUR</td>\n      <td>-5.699999999999996</td>\n    </tr>\n    <tr>\n      <th>27</th>\n      <td>2 - 3</td>\n      <td>USD</td>\n      <td>-1.7000000000000028</td>\n    </tr>\n    <tr>\n      <th>28</th>\n      <td>2 - 3</td>\n      <td>GBP</td>\n      <td>-3.799999999999997</td>\n    </tr>\n    <tr>\n      <th>29</th>\n      <td>2 - 3</td>\n      <td>EUR</td>\n      <td>-3.0</td>\n    </tr>\n  </tbody>\n</table>\n</div>"
     },
     "execution_count": 173,
     "metadata": {},
     "output_type": "execute_result"
    }
   ],
   "source": [
    "\n",
    "pd.DataFrame(h1.steep[::-1].stack(), columns=['spread']).reset_index()\n",
    "\n",
    "pd.DataFrame(pd.DataFrame(h1.steep_chg[-10])[::-1].stack(), columns=['chg']).reset_index()\n",
    "\n",
    "\n"
   ],
   "metadata": {
    "collapsed": false,
    "ExecuteTime": {
     "end_time": "2024-03-13T15:00:06.134359200Z",
     "start_time": "2024-03-13T15:00:06.067403300Z"
    }
   }
  },
  {
   "cell_type": "code",
   "execution_count": 17,
   "outputs": [],
   "source": [
    "from bokeh.sampledata.unemployment1948 import data\n",
    "\n",
    "data['Year'] = data['Year'].astype(str)\n",
    "data = data.set_index('Year')\n",
    "data.drop('Annual', axis=1, inplace=True)\n",
    "data.columns.name = 'Month'\n",
    "\n",
    "years = list(data.index)\n",
    "months = list(data.columns)\n",
    "\n",
    "# reshape to 1D array or rates with a month and year for each row.\n",
    "df = pd.DataFrame(data.stack(), columns=['rate']).reset_index()"
   ],
   "metadata": {
    "collapsed": false,
    "ExecuteTime": {
     "end_time": "2024-03-13T12:33:11.232257900Z",
     "start_time": "2024-03-13T12:33:11.143253100Z"
    }
   }
  },
  {
   "cell_type": "code",
   "execution_count": 19,
   "outputs": [
    {
     "data": {
      "text/plain": "Month  Jan  Feb  Mar  Apr  May  Jun  Jul  Aug  Sep  Oct  Nov  Dec\nYear                                                             \n1948   4.0  4.7  4.5  4.0  3.4  3.9  3.9  3.6  3.4  2.9  3.3  3.6\n1949   5.0  5.8  5.6  5.4  5.7  6.4  7.0  6.3  5.9  6.1  5.7  6.0\n1950   7.6  7.9  7.1  6.0  5.3  5.6  5.3  4.1  4.0  3.3  3.8  3.9\n1951   4.4  4.2  3.8  3.2  2.9  3.4  3.3  2.9  3.0  2.8  3.2  2.9\n1952   3.7  3.8  3.3  3.0  2.9  3.2  3.3  3.1  2.7  2.4  2.5  2.5\n...    ...  ...  ...  ...  ...  ...  ...  ...  ...  ...  ...  ...\n2012   8.8  8.7  8.4  7.7  7.9  8.4  8.6  8.2  7.6  7.5  7.4  7.6\n2013   8.5  8.1  7.6  7.1  7.3  7.8  7.7  7.3  7.0  7.0  6.6  6.5\n2014   7.0  7.0  6.8  5.9  6.1  6.3  6.5  6.3  5.7  5.5  5.5  5.4\n2015   6.1  5.8  5.6  5.1  5.3  5.5  5.6  5.2  4.9  4.8  4.8  4.8\n2016   5.3  5.2  5.1  4.7  4.5  5.1  5.1  5.0  4.8  4.7  4.4  4.5\n\n[69 rows x 12 columns]",
      "text/html": "<div>\n<style scoped>\n    .dataframe tbody tr th:only-of-type {\n        vertical-align: middle;\n    }\n\n    .dataframe tbody tr th {\n        vertical-align: top;\n    }\n\n    .dataframe thead th {\n        text-align: right;\n    }\n</style>\n<table border=\"1\" class=\"dataframe\">\n  <thead>\n    <tr style=\"text-align: right;\">\n      <th>Month</th>\n      <th>Jan</th>\n      <th>Feb</th>\n      <th>Mar</th>\n      <th>Apr</th>\n      <th>May</th>\n      <th>Jun</th>\n      <th>Jul</th>\n      <th>Aug</th>\n      <th>Sep</th>\n      <th>Oct</th>\n      <th>Nov</th>\n      <th>Dec</th>\n    </tr>\n    <tr>\n      <th>Year</th>\n      <th></th>\n      <th></th>\n      <th></th>\n      <th></th>\n      <th></th>\n      <th></th>\n      <th></th>\n      <th></th>\n      <th></th>\n      <th></th>\n      <th></th>\n      <th></th>\n    </tr>\n  </thead>\n  <tbody>\n    <tr>\n      <th>1948</th>\n      <td>4.0</td>\n      <td>4.7</td>\n      <td>4.5</td>\n      <td>4.0</td>\n      <td>3.4</td>\n      <td>3.9</td>\n      <td>3.9</td>\n      <td>3.6</td>\n      <td>3.4</td>\n      <td>2.9</td>\n      <td>3.3</td>\n      <td>3.6</td>\n    </tr>\n    <tr>\n      <th>1949</th>\n      <td>5.0</td>\n      <td>5.8</td>\n      <td>5.6</td>\n      <td>5.4</td>\n      <td>5.7</td>\n      <td>6.4</td>\n      <td>7.0</td>\n      <td>6.3</td>\n      <td>5.9</td>\n      <td>6.1</td>\n      <td>5.7</td>\n      <td>6.0</td>\n    </tr>\n    <tr>\n      <th>1950</th>\n      <td>7.6</td>\n      <td>7.9</td>\n      <td>7.1</td>\n      <td>6.0</td>\n      <td>5.3</td>\n      <td>5.6</td>\n      <td>5.3</td>\n      <td>4.1</td>\n      <td>4.0</td>\n      <td>3.3</td>\n      <td>3.8</td>\n      <td>3.9</td>\n    </tr>\n    <tr>\n      <th>1951</th>\n      <td>4.4</td>\n      <td>4.2</td>\n      <td>3.8</td>\n      <td>3.2</td>\n      <td>2.9</td>\n      <td>3.4</td>\n      <td>3.3</td>\n      <td>2.9</td>\n      <td>3.0</td>\n      <td>2.8</td>\n      <td>3.2</td>\n      <td>2.9</td>\n    </tr>\n    <tr>\n      <th>1952</th>\n      <td>3.7</td>\n      <td>3.8</td>\n      <td>3.3</td>\n      <td>3.0</td>\n      <td>2.9</td>\n      <td>3.2</td>\n      <td>3.3</td>\n      <td>3.1</td>\n      <td>2.7</td>\n      <td>2.4</td>\n      <td>2.5</td>\n      <td>2.5</td>\n    </tr>\n    <tr>\n      <th>...</th>\n      <td>...</td>\n      <td>...</td>\n      <td>...</td>\n      <td>...</td>\n      <td>...</td>\n      <td>...</td>\n      <td>...</td>\n      <td>...</td>\n      <td>...</td>\n      <td>...</td>\n      <td>...</td>\n      <td>...</td>\n    </tr>\n    <tr>\n      <th>2012</th>\n      <td>8.8</td>\n      <td>8.7</td>\n      <td>8.4</td>\n      <td>7.7</td>\n      <td>7.9</td>\n      <td>8.4</td>\n      <td>8.6</td>\n      <td>8.2</td>\n      <td>7.6</td>\n      <td>7.5</td>\n      <td>7.4</td>\n      <td>7.6</td>\n    </tr>\n    <tr>\n      <th>2013</th>\n      <td>8.5</td>\n      <td>8.1</td>\n      <td>7.6</td>\n      <td>7.1</td>\n      <td>7.3</td>\n      <td>7.8</td>\n      <td>7.7</td>\n      <td>7.3</td>\n      <td>7.0</td>\n      <td>7.0</td>\n      <td>6.6</td>\n      <td>6.5</td>\n    </tr>\n    <tr>\n      <th>2014</th>\n      <td>7.0</td>\n      <td>7.0</td>\n      <td>6.8</td>\n      <td>5.9</td>\n      <td>6.1</td>\n      <td>6.3</td>\n      <td>6.5</td>\n      <td>6.3</td>\n      <td>5.7</td>\n      <td>5.5</td>\n      <td>5.5</td>\n      <td>5.4</td>\n    </tr>\n    <tr>\n      <th>2015</th>\n      <td>6.1</td>\n      <td>5.8</td>\n      <td>5.6</td>\n      <td>5.1</td>\n      <td>5.3</td>\n      <td>5.5</td>\n      <td>5.6</td>\n      <td>5.2</td>\n      <td>4.9</td>\n      <td>4.8</td>\n      <td>4.8</td>\n      <td>4.8</td>\n    </tr>\n    <tr>\n      <th>2016</th>\n      <td>5.3</td>\n      <td>5.2</td>\n      <td>5.1</td>\n      <td>4.7</td>\n      <td>4.5</td>\n      <td>5.1</td>\n      <td>5.1</td>\n      <td>5.0</td>\n      <td>4.8</td>\n      <td>4.7</td>\n      <td>4.4</td>\n      <td>4.5</td>\n    </tr>\n  </tbody>\n</table>\n<p>69 rows × 12 columns</p>\n</div>"
     },
     "execution_count": 19,
     "metadata": {},
     "output_type": "execute_result"
    }
   ],
   "source": [
    "data"
   ],
   "metadata": {
    "collapsed": false,
    "ExecuteTime": {
     "end_time": "2024-03-13T12:33:25.815768900Z",
     "start_time": "2024-03-13T12:33:25.757770700Z"
    }
   }
  },
  {
   "cell_type": "code",
   "execution_count": 20,
   "outputs": [
    {
     "data": {
      "text/plain": "     Year Month  rate\n0    1948   Jan   4.0\n1    1948   Feb   4.7\n2    1948   Mar   4.5\n3    1948   Apr   4.0\n4    1948   May   3.4\n..    ...   ...   ...\n823  2016   Aug   5.0\n824  2016   Sep   4.8\n825  2016   Oct   4.7\n826  2016   Nov   4.4\n827  2016   Dec   4.5\n\n[828 rows x 3 columns]",
      "text/html": "<div>\n<style scoped>\n    .dataframe tbody tr th:only-of-type {\n        vertical-align: middle;\n    }\n\n    .dataframe tbody tr th {\n        vertical-align: top;\n    }\n\n    .dataframe thead th {\n        text-align: right;\n    }\n</style>\n<table border=\"1\" class=\"dataframe\">\n  <thead>\n    <tr style=\"text-align: right;\">\n      <th></th>\n      <th>Year</th>\n      <th>Month</th>\n      <th>rate</th>\n    </tr>\n  </thead>\n  <tbody>\n    <tr>\n      <th>0</th>\n      <td>1948</td>\n      <td>Jan</td>\n      <td>4.0</td>\n    </tr>\n    <tr>\n      <th>1</th>\n      <td>1948</td>\n      <td>Feb</td>\n      <td>4.7</td>\n    </tr>\n    <tr>\n      <th>2</th>\n      <td>1948</td>\n      <td>Mar</td>\n      <td>4.5</td>\n    </tr>\n    <tr>\n      <th>3</th>\n      <td>1948</td>\n      <td>Apr</td>\n      <td>4.0</td>\n    </tr>\n    <tr>\n      <th>4</th>\n      <td>1948</td>\n      <td>May</td>\n      <td>3.4</td>\n    </tr>\n    <tr>\n      <th>...</th>\n      <td>...</td>\n      <td>...</td>\n      <td>...</td>\n    </tr>\n    <tr>\n      <th>823</th>\n      <td>2016</td>\n      <td>Aug</td>\n      <td>5.0</td>\n    </tr>\n    <tr>\n      <th>824</th>\n      <td>2016</td>\n      <td>Sep</td>\n      <td>4.8</td>\n    </tr>\n    <tr>\n      <th>825</th>\n      <td>2016</td>\n      <td>Oct</td>\n      <td>4.7</td>\n    </tr>\n    <tr>\n      <th>826</th>\n      <td>2016</td>\n      <td>Nov</td>\n      <td>4.4</td>\n    </tr>\n    <tr>\n      <th>827</th>\n      <td>2016</td>\n      <td>Dec</td>\n      <td>4.5</td>\n    </tr>\n  </tbody>\n</table>\n<p>828 rows × 3 columns</p>\n</div>"
     },
     "execution_count": 20,
     "metadata": {},
     "output_type": "execute_result"
    }
   ],
   "source": [
    "df"
   ],
   "metadata": {
    "collapsed": false,
    "ExecuteTime": {
     "end_time": "2024-03-13T12:33:30.072302400Z",
     "start_time": "2024-03-13T12:33:29.921975800Z"
    }
   }
  },
  {
   "cell_type": "code",
   "execution_count": 23,
   "outputs": [
    {
     "data": {
      "text/plain": "        USD   GBP\nTenor            \n2Y    4.503 4.501\n3Y    4.198 4.208\n4Y    4.029 4.016\n5Y     3.93 3.887\n6Y    3.875 3.799\n7Y     3.84 3.746\n8Y    3.818 3.717\n9Y    3.806 3.706\n10Y   3.798 3.706\n12Y   3.798  3.72\n15Y   3.804 3.742\n20Y   3.772 3.748\n25Y   3.684 3.728\n30Y    3.59 3.691",
      "text/html": "<div>\n<style scoped>\n    .dataframe tbody tr th:only-of-type {\n        vertical-align: middle;\n    }\n\n    .dataframe tbody tr th {\n        vertical-align: top;\n    }\n\n    .dataframe thead th {\n        text-align: right;\n    }\n</style>\n<table border=\"1\" class=\"dataframe\">\n  <thead>\n    <tr style=\"text-align: right;\">\n      <th></th>\n      <th>USD</th>\n      <th>GBP</th>\n    </tr>\n    <tr>\n      <th>Tenor</th>\n      <th></th>\n      <th></th>\n    </tr>\n  </thead>\n  <tbody>\n    <tr>\n      <th>2Y</th>\n      <td>4.503</td>\n      <td>4.501</td>\n    </tr>\n    <tr>\n      <th>3Y</th>\n      <td>4.198</td>\n      <td>4.208</td>\n    </tr>\n    <tr>\n      <th>4Y</th>\n      <td>4.029</td>\n      <td>4.016</td>\n    </tr>\n    <tr>\n      <th>5Y</th>\n      <td>3.93</td>\n      <td>3.887</td>\n    </tr>\n    <tr>\n      <th>6Y</th>\n      <td>3.875</td>\n      <td>3.799</td>\n    </tr>\n    <tr>\n      <th>7Y</th>\n      <td>3.84</td>\n      <td>3.746</td>\n    </tr>\n    <tr>\n      <th>8Y</th>\n      <td>3.818</td>\n      <td>3.717</td>\n    </tr>\n    <tr>\n      <th>9Y</th>\n      <td>3.806</td>\n      <td>3.706</td>\n    </tr>\n    <tr>\n      <th>10Y</th>\n      <td>3.798</td>\n      <td>3.706</td>\n    </tr>\n    <tr>\n      <th>12Y</th>\n      <td>3.798</td>\n      <td>3.72</td>\n    </tr>\n    <tr>\n      <th>15Y</th>\n      <td>3.804</td>\n      <td>3.742</td>\n    </tr>\n    <tr>\n      <th>20Y</th>\n      <td>3.772</td>\n      <td>3.748</td>\n    </tr>\n    <tr>\n      <th>25Y</th>\n      <td>3.684</td>\n      <td>3.728</td>\n    </tr>\n    <tr>\n      <th>30Y</th>\n      <td>3.59</td>\n      <td>3.691</td>\n    </tr>\n  </tbody>\n</table>\n</div>"
     },
     "execution_count": 23,
     "metadata": {},
     "output_type": "execute_result"
    }
   ],
   "source": [
    "df_rates"
   ],
   "metadata": {
    "collapsed": false,
    "ExecuteTime": {
     "end_time": "2024-03-13T12:34:48.009823100Z",
     "start_time": "2024-03-13T12:34:47.957823700Z"
    }
   }
  },
  {
   "cell_type": "code",
   "execution_count": 24,
   "outputs": [
    {
     "data": {
      "text/plain": "   Tenor level_1  rate\n0     2Y     USD 4.503\n1     2Y     GBP 4.501\n2     3Y     USD 4.198\n3     3Y     GBP 4.208\n4     4Y     USD 4.029\n5     4Y     GBP 4.016\n6     5Y     USD  3.93\n7     5Y     GBP 3.887\n8     6Y     USD 3.875\n9     6Y     GBP 3.799\n10    7Y     USD  3.84\n11    7Y     GBP 3.746\n12    8Y     USD 3.818\n13    8Y     GBP 3.717\n14    9Y     USD 3.806\n15    9Y     GBP 3.706\n16   10Y     USD 3.798\n17   10Y     GBP 3.706\n18   12Y     USD 3.798\n19   12Y     GBP  3.72\n20   15Y     USD 3.804\n21   15Y     GBP 3.742\n22   20Y     USD 3.772\n23   20Y     GBP 3.748\n24   25Y     USD 3.684\n25   25Y     GBP 3.728\n26   30Y     USD  3.59\n27   30Y     GBP 3.691",
      "text/html": "<div>\n<style scoped>\n    .dataframe tbody tr th:only-of-type {\n        vertical-align: middle;\n    }\n\n    .dataframe tbody tr th {\n        vertical-align: top;\n    }\n\n    .dataframe thead th {\n        text-align: right;\n    }\n</style>\n<table border=\"1\" class=\"dataframe\">\n  <thead>\n    <tr style=\"text-align: right;\">\n      <th></th>\n      <th>Tenor</th>\n      <th>level_1</th>\n      <th>rate</th>\n    </tr>\n  </thead>\n  <tbody>\n    <tr>\n      <th>0</th>\n      <td>2Y</td>\n      <td>USD</td>\n      <td>4.503</td>\n    </tr>\n    <tr>\n      <th>1</th>\n      <td>2Y</td>\n      <td>GBP</td>\n      <td>4.501</td>\n    </tr>\n    <tr>\n      <th>2</th>\n      <td>3Y</td>\n      <td>USD</td>\n      <td>4.198</td>\n    </tr>\n    <tr>\n      <th>3</th>\n      <td>3Y</td>\n      <td>GBP</td>\n      <td>4.208</td>\n    </tr>\n    <tr>\n      <th>4</th>\n      <td>4Y</td>\n      <td>USD</td>\n      <td>4.029</td>\n    </tr>\n    <tr>\n      <th>5</th>\n      <td>4Y</td>\n      <td>GBP</td>\n      <td>4.016</td>\n    </tr>\n    <tr>\n      <th>6</th>\n      <td>5Y</td>\n      <td>USD</td>\n      <td>3.93</td>\n    </tr>\n    <tr>\n      <th>7</th>\n      <td>5Y</td>\n      <td>GBP</td>\n      <td>3.887</td>\n    </tr>\n    <tr>\n      <th>8</th>\n      <td>6Y</td>\n      <td>USD</td>\n      <td>3.875</td>\n    </tr>\n    <tr>\n      <th>9</th>\n      <td>6Y</td>\n      <td>GBP</td>\n      <td>3.799</td>\n    </tr>\n    <tr>\n      <th>10</th>\n      <td>7Y</td>\n      <td>USD</td>\n      <td>3.84</td>\n    </tr>\n    <tr>\n      <th>11</th>\n      <td>7Y</td>\n      <td>GBP</td>\n      <td>3.746</td>\n    </tr>\n    <tr>\n      <th>12</th>\n      <td>8Y</td>\n      <td>USD</td>\n      <td>3.818</td>\n    </tr>\n    <tr>\n      <th>13</th>\n      <td>8Y</td>\n      <td>GBP</td>\n      <td>3.717</td>\n    </tr>\n    <tr>\n      <th>14</th>\n      <td>9Y</td>\n      <td>USD</td>\n      <td>3.806</td>\n    </tr>\n    <tr>\n      <th>15</th>\n      <td>9Y</td>\n      <td>GBP</td>\n      <td>3.706</td>\n    </tr>\n    <tr>\n      <th>16</th>\n      <td>10Y</td>\n      <td>USD</td>\n      <td>3.798</td>\n    </tr>\n    <tr>\n      <th>17</th>\n      <td>10Y</td>\n      <td>GBP</td>\n      <td>3.706</td>\n    </tr>\n    <tr>\n      <th>18</th>\n      <td>12Y</td>\n      <td>USD</td>\n      <td>3.798</td>\n    </tr>\n    <tr>\n      <th>19</th>\n      <td>12Y</td>\n      <td>GBP</td>\n      <td>3.72</td>\n    </tr>\n    <tr>\n      <th>20</th>\n      <td>15Y</td>\n      <td>USD</td>\n      <td>3.804</td>\n    </tr>\n    <tr>\n      <th>21</th>\n      <td>15Y</td>\n      <td>GBP</td>\n      <td>3.742</td>\n    </tr>\n    <tr>\n      <th>22</th>\n      <td>20Y</td>\n      <td>USD</td>\n      <td>3.772</td>\n    </tr>\n    <tr>\n      <th>23</th>\n      <td>20Y</td>\n      <td>GBP</td>\n      <td>3.748</td>\n    </tr>\n    <tr>\n      <th>24</th>\n      <td>25Y</td>\n      <td>USD</td>\n      <td>3.684</td>\n    </tr>\n    <tr>\n      <th>25</th>\n      <td>25Y</td>\n      <td>GBP</td>\n      <td>3.728</td>\n    </tr>\n    <tr>\n      <th>26</th>\n      <td>30Y</td>\n      <td>USD</td>\n      <td>3.59</td>\n    </tr>\n    <tr>\n      <th>27</th>\n      <td>30Y</td>\n      <td>GBP</td>\n      <td>3.691</td>\n    </tr>\n  </tbody>\n</table>\n</div>"
     },
     "execution_count": 24,
     "metadata": {},
     "output_type": "execute_result"
    }
   ],
   "source": [
    "pd.DataFrame(df_rates.stack(), columns=['rate']).reset_index()"
   ],
   "metadata": {
    "collapsed": false,
    "ExecuteTime": {
     "end_time": "2024-03-13T12:35:26.806363100Z",
     "start_time": "2024-03-13T12:35:26.687363300Z"
    }
   }
  },
  {
   "cell_type": "code",
   "execution_count": null,
   "outputs": [],
   "source": [],
   "metadata": {
    "collapsed": false
   }
  }
 ],
 "metadata": {
  "kernelspec": {
   "display_name": "Python 3",
   "language": "python",
   "name": "python3"
  },
  "language_info": {
   "codemirror_mode": {
    "name": "ipython",
    "version": 2
   },
   "file_extension": ".py",
   "mimetype": "text/x-python",
   "name": "python",
   "nbconvert_exporter": "python",
   "pygments_lexer": "ipython2",
   "version": "2.7.6"
  }
 },
 "nbformat": 4,
 "nbformat_minor": 0
}
