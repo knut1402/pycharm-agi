{
 "cells": [
  {
   "cell_type": "code",
   "execution_count": 1,
   "metadata": {
    "collapsed": true
   },
   "outputs": [],
   "source": [
    "import os\n",
    "from importlib import reload\n",
    "import warnings\n",
    "warnings.simplefilter(action='ignore', category=FutureWarning)\n",
    "import pandas as pd\n",
    "import numpy as np\n",
    "import math\n",
    "import datetime\n",
    "import pdblp\n",
    "import runpy\n",
    "import QuantLib as ql\n",
    "import matplotlib as mpl\n",
    "#import matplotlib\n",
    "mpl.get_backend()\n",
    "import matplotlib.pyplot as plt\n",
    "plt.interactive(False)\n",
    "import seaborn as sns\n",
    "from tabulate import tabulate\n",
    "from sklearn.preprocessing import minmax_scale\n",
    "from sklearn.mixture import GaussianMixture\n",
    "from scipy.stats import zscore\n",
    "import pickle\n",
    "import re\n",
    "import concurrent.futures\n",
    "import time\n",
    "from datetime import datetime, timedelta, time\n",
    "from scipy import stats"
   ]
  },
  {
   "cell_type": "code",
   "execution_count": 2,
   "outputs": [],
   "source": [
    "pd.set_option('display.max_columns', 10000)\n",
    "pd.set_option('display.width', 10000)\n",
    "pd.options.display.float_format = '{:,}'.format\n",
    "pd.options.mode.chained_assignment = None\n",
    "\n",
    "## BBG API\n",
    "con = pdblp.BCon(debug=False, port=8194, timeout=50000)\n",
    "con.start()\n",
    "\n",
    "from Utilities import *\n",
    "from Conventions import FUT_CT,FUT_CT_Q, ccy, ccy_infl, hist\n",
    "from OIS_DC_BUILD import ois_dc_build, get_wirp, ois_from_nodes\n",
    "from SWAP_BUILD import swap_build, libor_from_nodes\n",
    "from SWAP_PRICER import Swap_Pricer, Swap_curve_fwd, quick_swap\n",
    "from SWAP_TABLE import swap_table, swap_table2, curve_hmap\n",
    "from INF_ZC_BUILD import infl_zc_swap_build, Infl_ZC_Pricer, inf_swap_table\n",
    "from BOND_CURVES import bond_curve_build\n",
    "from VOL_BUILD import build_vol_surf, build_vol_spline, bond_fut_opt_strat, get_sim_option_px, build_stir_vol_surf, stir_opt_strat\n",
    "from PLOT import plt_curve, plt_inf_curve, plt_opt_strat, rates_hm, curve_hm, plt_ois_curve, plot_opt_vol_surf, plt_stir_opt_strat, plotool, ecfc_plot\n"
   ],
   "metadata": {
    "collapsed": false
   }
  },
  {
   "cell_type": "code",
   "execution_count": 3,
   "outputs": [],
   "source": [
    "# bokeh imports\n",
    "from bokeh.plotting import figure, show\n",
    "from bokeh.models import HoverTool, BoxZoomTool, ResetTool, Legend, DatetimeTickFormatter, SingleIntervalTicker, LinearAxis, FuncTickFormatter\n",
    "from bokeh.models import ColumnDataSource, TabPanel, Tabs, LabelSet, Span, Range1d, FactorRange, Range, Label\n",
    "from bokeh.layouts import row, column, gridplot\n",
    "from bokeh.palettes import Category10, brewer, Category20, Bright6\n",
    "from bokeh.transform import factor_cmap\n",
    "from bokeh.models.renderers import GlyphRenderer\n",
    "from itertools import accumulate"
   ],
   "metadata": {
    "collapsed": false
   }
  },
  {
   "cell_type": "code",
   "execution_count": 4,
   "outputs": [
    {
     "name": "stdout",
     "output_type": "stream",
     "text": [
      "0 USH4P 113.0 Comdty\n",
      "1 USH4P 113.5 Comdty\n",
      "2 USH4P 114.0 Comdty\n",
      "3 USH4P 114.5 Comdty\n",
      "4 USH4P 115.0 Comdty\n",
      "5 USH4P 115.5 Comdty\n",
      "6 USH4P 116.0 Comdty\n",
      "7 USH4P 116.5 Comdty\n",
      "8 USH4P 117.0 Comdty\n",
      "9 USH4P 117.5 Comdty\n",
      "10 USH4P 118.0 Comdty\n",
      "11 USH4P 118.5 Comdty\n",
      "12 USH4P 119.0 Comdty\n",
      "13 USH4P 119.5 Comdty\n",
      "14 USH4P 120.0 Comdty\n",
      "15 USH4P 120.5 Comdty\n",
      "16 USH4P 121.0 Comdty\n",
      "17 USH4P 121.5 Comdty\n",
      "18 USH4C 116.5 Comdty\n",
      "19 USH4C 117.0 Comdty\n",
      "20 USH4C 117.5 Comdty\n",
      "21 USH4C 118.0 Comdty\n",
      "22 USH4C 118.5 Comdty\n",
      "23 USH4C 119.0 Comdty\n",
      "24 USH4C 119.5 Comdty\n",
      "25 USH4C 120.0 Comdty\n",
      "26 USH4C 120.5 Comdty\n",
      "27 USH4C 121.0 Comdty\n",
      "28 USH4C 121.5 Comdty\n",
      "29 USH4C 122.0 Comdty\n",
      "30 USH4C 122.5 Comdty\n",
      "31 USH4C 123.0 Comdty\n",
      "32 USH4C 123.5 Comdty\n",
      "33 USH4C 124.0 Comdty\n",
      "34 USH4C 124.5 Comdty\n",
      "35 USH4C 125.0 Comdty\n",
      "36 USH4C 125.5 Comdty\n",
      "*** !!! listed_vol surf built !!! ***\n"
     ]
    }
   ],
   "source": [
    "#v1 = build_stir_vol_surf(['SFRM4P 96'], chain_len=[20,20], b=0)\n",
    "v2 = build_vol_surf(['USH4P 117'], chain_len=[12,12], b=0)"
   ],
   "metadata": {
    "collapsed": false,
    "ExecuteTime": {
     "end_time": "2024-02-15T14:12:34.346762700Z",
     "start_time": "2024-02-15T14:12:30.000495Z"
    }
   }
  },
  {
   "cell_type": "code",
   "execution_count": 72,
   "outputs": [
    {
     "data": {
      "text/plain": "'USH4 Comdty'"
     },
     "execution_count": 72,
     "metadata": {},
     "output_type": "execute_result"
    }
   ],
   "source": [
    "v2.fut"
   ],
   "metadata": {
    "collapsed": false,
    "ExecuteTime": {
     "end_time": "2024-02-15T03:34:35.312629100Z",
     "start_time": "2024-02-15T03:34:35.265630400Z"
    }
   }
  },
  {
   "cell_type": "code",
   "execution_count": 12,
   "outputs": [
    {
     "data": {
      "text/plain": "                ticker  strikes  opt_type        px px_64                Yld               ATM_K                bs_px                 iv               delta                gamma               theta               vega\n0   USH4P 113.0 Comdty    113.0        -1 0.0234375  0'01          4.8522009  48.773449999999926 0.023432173780820815 17.764652818178156 -2.0152952170261527 0.015539524824108284 -3.4838162011489753 0.8599648678515578\n1   USH4P 113.5 Comdty    113.5        -1 0.0234375  0'01 4.8117491999999995   44.72827999999991  0.02343456424784946 16.513617384023327  -2.151565140313758  0.01766885168734106 -3.4228986233440293 0.9089433019476555\n2   USH4P 114.0 Comdty    114.0        -1 0.0234375  0'01          4.7715218            40.70554  0.02345543438734075 15.257553097671654  -2.310808967097238 0.020310691559973778 -3.3588655079513297 0.9653745634805355\n3   USH4P 114.5 Comdty    114.5        -1   0.03125  0'02          4.7315161   36.70496999999999  0.03128058288614855 14.684353154994831  -3.080741182066164 0.026831699923379318    -4.1099967940616  1.227408875541678\n4   USH4P 115.0 Comdty    115.0        -1 0.0390625  0'02            4.69173   32.72635999999993 0.039062664301719785 13.914120745756781  -3.921936017547382  0.03452400043462796  -4.747905775810169  1.496453173854636\n5   USH4P 115.5 Comdty    115.5        -1 0.0546875  0'03          4.6521611   28.76946999999994  0.05468535915904161 13.416125290977737  -5.413924357344854 0.046384718935135634  -5.930286431577803 1.9386003430999112\n6   USH4P 116.0 Comdty    116.0        -1 0.0859375  0'05          4.6128072  24.834079999999936  0.08588920194748118 13.269778537913062  -8.021319352285314  0.06358516621131635  -7.952309839532749 2.6284864118325553\n7   USH4P 116.5 Comdty    116.5        -1     0.125  0'08           4.573666  20.919959999999982  0.12500069712226447 12.927214812080907 -11.206388782678532  0.08348908919782998  -9.908500999725051 3.3621798364765385\n8   USH4P 117.0 Comdty    117.0        -1 0.1796875  0'11          4.5347354  17.026899999999934  0.17978839220290524 12.574137614821757  -15.40484727427607  0.10689110085021691 -12.000842966711872 4.1870293901799664\n9   USH4P 117.5 Comdty    117.5        -1  0.265625  0'17          4.4960132  13.154679999999974  0.26561541975162006  12.41172239281169 -21.175987169398958  0.13214060528951396 -14.452264560779648  5.109219907229104\n10  USH4P 118.0 Comdty    118.0        -1     0.375  0'24          4.4574974   9.303099999999986  0.37502240855487834 12.124596462036074 -28.015254318512987  0.15724896688029552  -16.40796621269319  5.939383175019725\n11  USH4P 118.5 Comdty    118.5        -1  0.515625  0'33          4.4191857   5.471929999999947   0.5155305301128755 11.769910879756395 -36.059470804711566   0.1800557042551641 -17.698691481742298  6.601859986684568\n12  USH4P 119.0 Comdty    119.0        -1   0.71875  0'46          4.3810763  1.6609899999999733   0.7187398898839634 11.718059420152096  -45.38771090659627  0.19140666299953601 -18.639714698056768  6.987132807860281\n13  USH4P 119.5 Comdty    119.5        -1  0.953125  0'61          4.3431669  -2.129950000000047   0.9530813514770108 11.430087831429901  -55.13859137102241  0.19583827832562994 -18.131985737879393   6.97322053750257\n14  USH4P 120.0 Comdty    120.0        -1      1.25  1'16 4.3054556999999996  -5.901070000000086   1.2498738745132345 11.336020126694024  -64.75714155556477  0.18523031138205762 -16.849426399273224  6.541222404511856\n15  USH4P 120.5 Comdty    120.5        -1   1.59375  1'38          4.2679407  -9.652570000000082   1.5937309211636619 11.249106317724314  -73.59545597065848  0.16420434992491795  -14.68194983822926  5.754252693603206\n16  USH4P 121.0 Comdty    121.0        -1 1.9765625  1'62          4.2306199 -13.384650000000065    1.976557404654634 11.106073264488954  -81.33273813291359   0.1363460988169303 -11.846558586972227  4.717256600666622\n17  USH4P 121.5 Comdty    121.5        -1 2.3984375  2'25          4.1934914 -17.097500000000032   2.3984382239591917 11.045023494160521  -87.41112540540645  0.10539728478520909  -9.010026226621427 3.6264552052715264\n18  USH4C 116.5 Comdty    116.5         1   2.84375  2'54           4.573666  20.919959999999982    2.843750776668982 13.020783211090517   88.51275681677505  0.08375589465012907  -9.940334320921243  3.397337873350618\n19  USH4C 117.0 Comdty    117.0         1 2.3984375  2'25          4.5347354  17.026899999999934    2.398337298869629 12.630842007535852   84.37211425800713  0.10689771328898295 -11.992356190828087  4.206171422250642\n20  USH4C 117.5 Comdty    117.5         1 1.9765625  1'62          4.4960132  13.154679999999974   1.9765494096439824 12.297542323641245   78.91704873748108  0.13259288807528302  -14.14508296250984  5.079544936662836\n21  USH4C 118.0 Comdty    118.0         1   1.59375  1'38          4.4574974   9.303099999999986   1.5937810998618387 12.148602814364123    71.8309501767123   0.1570397649341354 -16.386425921625484  5.943225660977787\n22  USH4C 118.5 Comdty    118.5         1 1.2421875  1'15          4.4191857   5.471929999999947   1.2421017276315618 11.900957015056287   63.68481442876997  0.17830789335241792 -17.881110997187324  6.610566920196281\n23  USH4C 119.0 Comdty    119.0         1    0.9375  0'60          4.3810763  1.6609899999999733   0.9374899045873248 11.721701188800077  54.494777903176896   0.1913478573024295  -18.63396843977896  6.987156969290106\n24  USH4C 119.5 Comdty    119.5         1    0.6875  0'44          4.3431669  -2.129950000000047   0.6874599924714112 11.649480284308366   44.85513694640329   0.1922193451979806 -18.501771169201014 6.9757337273334725\n25  USH4C 120.0 Comdty    120.0         1 0.4765625  0'30 4.3054556999999996  -5.901070000000086    0.476417832393311 11.441206115285254   35.26213007807299  0.18378183377568694 -17.071128259829358 6.5502917008891695\n26  USH4C 120.5 Comdty    120.5         1 0.3203125  0'20          4.2679407  -9.652570000000082  0.32029764955991397 11.358831299257423   26.49342978543268   0.1632633972154332 -14.952766765426526  5.777084622158049\n27  USH4C 121.0 Comdty    121.0         1  0.203125  0'13          4.2306199 -13.384650000000065  0.20312193312410884 11.227276615417079  18.814742029889928  0.13605742461345635 -12.177151881243061  4.758640751085057\n28  USH4C 121.5 Comdty    121.5         1 0.1328125  0'08          4.1934914 -17.097500000000032     0.13281306699779 11.395375221005597  13.225416827814836  0.10639751663021565  -9.811509554043969  3.776994669331837\n29  USH4C 122.0 Comdty    122.0         1 0.0859375  0'05          4.1565533 -20.791310000000074  0.08595151942330712 11.600929597115686    9.09735529989854  0.07992151246186485  -7.639220018839013 2.8883028959724917\n30  USH4C 122.5 Comdty    122.5         1 0.0546875  0'03          4.1198039 -24.466250000000045 0.054689308667146413 11.806368603044666   6.114841963606817  0.05800522493251705 -5.7430073795496845 2.1333872919922996\n31  USH4C 123.0 Comdty    123.0         1 0.0390625  0'02          4.0832411           -28.12253 0.039066610591373126 12.312732559627317   4.415623445061778 0.042946757290233985  -4.624913880520763 1.6472938413169937\n32  USH4C 123.5 Comdty    123.5         1 0.0234375  0'01          4.0468634 -31.760300000000008 0.023435601897853958 12.417961104603675  2.8041070943107904  0.02934459075266669 -3.2145463059755404  1.135179665011049\n33  USH4C 124.0 Comdty    124.0         1 0.0234375  0'01          4.0106688 -35.379760000000005 0.023436954089907293  13.59142389091561  2.5909753686339307 0.025099111632371534 -3.2936946393085536 1.0626972534802694\n34  USH4C 124.5 Comdty    124.5         1 0.0234375  0'01          3.9746556  -38.98108000000002 0.023435839949853866 14.744995322209395   2.412104391771512  0.02178885780319286 -3.3652885506030037 1.0008416131324032\n35  USH4C 125.0 Comdty    125.0         1 0.0234375  0'01          3.9388221  -42.56443000000005 0.023428919840684823  15.88018986963339   2.259287622910825  0.01914713549703193  -3.430179449212921 0.9472088602718478\n36  USH4C 125.5 Comdty    125.5         1  0.015625  0'01          3.9031665  -46.12999000000002   0.0156189293751009 16.017247146721587  1.5623781738595726 0.013870558249482488  -2.528054155673162 0.6920987546774867",
      "text/html": "<div>\n<style scoped>\n    .dataframe tbody tr th:only-of-type {\n        vertical-align: middle;\n    }\n\n    .dataframe tbody tr th {\n        vertical-align: top;\n    }\n\n    .dataframe thead th {\n        text-align: right;\n    }\n</style>\n<table border=\"1\" class=\"dataframe\">\n  <thead>\n    <tr style=\"text-align: right;\">\n      <th></th>\n      <th>ticker</th>\n      <th>strikes</th>\n      <th>opt_type</th>\n      <th>px</th>\n      <th>px_64</th>\n      <th>Yld</th>\n      <th>ATM_K</th>\n      <th>bs_px</th>\n      <th>iv</th>\n      <th>delta</th>\n      <th>gamma</th>\n      <th>theta</th>\n      <th>vega</th>\n    </tr>\n  </thead>\n  <tbody>\n    <tr>\n      <th>0</th>\n      <td>USH4P 113.0 Comdty</td>\n      <td>113.0</td>\n      <td>-1</td>\n      <td>0.0234375</td>\n      <td>0'01</td>\n      <td>4.8522009</td>\n      <td>48.773449999999926</td>\n      <td>0.023432173780820815</td>\n      <td>17.764652818178156</td>\n      <td>-2.0152952170261527</td>\n      <td>0.015539524824108284</td>\n      <td>-3.4838162011489753</td>\n      <td>0.8599648678515578</td>\n    </tr>\n    <tr>\n      <th>1</th>\n      <td>USH4P 113.5 Comdty</td>\n      <td>113.5</td>\n      <td>-1</td>\n      <td>0.0234375</td>\n      <td>0'01</td>\n      <td>4.8117491999999995</td>\n      <td>44.72827999999991</td>\n      <td>0.02343456424784946</td>\n      <td>16.513617384023327</td>\n      <td>-2.151565140313758</td>\n      <td>0.01766885168734106</td>\n      <td>-3.4228986233440293</td>\n      <td>0.9089433019476555</td>\n    </tr>\n    <tr>\n      <th>2</th>\n      <td>USH4P 114.0 Comdty</td>\n      <td>114.0</td>\n      <td>-1</td>\n      <td>0.0234375</td>\n      <td>0'01</td>\n      <td>4.7715218</td>\n      <td>40.70554</td>\n      <td>0.02345543438734075</td>\n      <td>15.257553097671654</td>\n      <td>-2.310808967097238</td>\n      <td>0.020310691559973778</td>\n      <td>-3.3588655079513297</td>\n      <td>0.9653745634805355</td>\n    </tr>\n    <tr>\n      <th>3</th>\n      <td>USH4P 114.5 Comdty</td>\n      <td>114.5</td>\n      <td>-1</td>\n      <td>0.03125</td>\n      <td>0'02</td>\n      <td>4.7315161</td>\n      <td>36.70496999999999</td>\n      <td>0.03128058288614855</td>\n      <td>14.684353154994831</td>\n      <td>-3.080741182066164</td>\n      <td>0.026831699923379318</td>\n      <td>-4.1099967940616</td>\n      <td>1.227408875541678</td>\n    </tr>\n    <tr>\n      <th>4</th>\n      <td>USH4P 115.0 Comdty</td>\n      <td>115.0</td>\n      <td>-1</td>\n      <td>0.0390625</td>\n      <td>0'02</td>\n      <td>4.69173</td>\n      <td>32.72635999999993</td>\n      <td>0.039062664301719785</td>\n      <td>13.914120745756781</td>\n      <td>-3.921936017547382</td>\n      <td>0.03452400043462796</td>\n      <td>-4.747905775810169</td>\n      <td>1.496453173854636</td>\n    </tr>\n    <tr>\n      <th>5</th>\n      <td>USH4P 115.5 Comdty</td>\n      <td>115.5</td>\n      <td>-1</td>\n      <td>0.0546875</td>\n      <td>0'03</td>\n      <td>4.6521611</td>\n      <td>28.76946999999994</td>\n      <td>0.05468535915904161</td>\n      <td>13.416125290977737</td>\n      <td>-5.413924357344854</td>\n      <td>0.046384718935135634</td>\n      <td>-5.930286431577803</td>\n      <td>1.9386003430999112</td>\n    </tr>\n    <tr>\n      <th>6</th>\n      <td>USH4P 116.0 Comdty</td>\n      <td>116.0</td>\n      <td>-1</td>\n      <td>0.0859375</td>\n      <td>0'05</td>\n      <td>4.6128072</td>\n      <td>24.834079999999936</td>\n      <td>0.08588920194748118</td>\n      <td>13.269778537913062</td>\n      <td>-8.021319352285314</td>\n      <td>0.06358516621131635</td>\n      <td>-7.952309839532749</td>\n      <td>2.6284864118325553</td>\n    </tr>\n    <tr>\n      <th>7</th>\n      <td>USH4P 116.5 Comdty</td>\n      <td>116.5</td>\n      <td>-1</td>\n      <td>0.125</td>\n      <td>0'08</td>\n      <td>4.573666</td>\n      <td>20.919959999999982</td>\n      <td>0.12500069712226447</td>\n      <td>12.927214812080907</td>\n      <td>-11.206388782678532</td>\n      <td>0.08348908919782998</td>\n      <td>-9.908500999725051</td>\n      <td>3.3621798364765385</td>\n    </tr>\n    <tr>\n      <th>8</th>\n      <td>USH4P 117.0 Comdty</td>\n      <td>117.0</td>\n      <td>-1</td>\n      <td>0.1796875</td>\n      <td>0'11</td>\n      <td>4.5347354</td>\n      <td>17.026899999999934</td>\n      <td>0.17978839220290524</td>\n      <td>12.574137614821757</td>\n      <td>-15.40484727427607</td>\n      <td>0.10689110085021691</td>\n      <td>-12.000842966711872</td>\n      <td>4.1870293901799664</td>\n    </tr>\n    <tr>\n      <th>9</th>\n      <td>USH4P 117.5 Comdty</td>\n      <td>117.5</td>\n      <td>-1</td>\n      <td>0.265625</td>\n      <td>0'17</td>\n      <td>4.4960132</td>\n      <td>13.154679999999974</td>\n      <td>0.26561541975162006</td>\n      <td>12.41172239281169</td>\n      <td>-21.175987169398958</td>\n      <td>0.13214060528951396</td>\n      <td>-14.452264560779648</td>\n      <td>5.109219907229104</td>\n    </tr>\n    <tr>\n      <th>10</th>\n      <td>USH4P 118.0 Comdty</td>\n      <td>118.0</td>\n      <td>-1</td>\n      <td>0.375</td>\n      <td>0'24</td>\n      <td>4.4574974</td>\n      <td>9.303099999999986</td>\n      <td>0.37502240855487834</td>\n      <td>12.124596462036074</td>\n      <td>-28.015254318512987</td>\n      <td>0.15724896688029552</td>\n      <td>-16.40796621269319</td>\n      <td>5.939383175019725</td>\n    </tr>\n    <tr>\n      <th>11</th>\n      <td>USH4P 118.5 Comdty</td>\n      <td>118.5</td>\n      <td>-1</td>\n      <td>0.515625</td>\n      <td>0'33</td>\n      <td>4.4191857</td>\n      <td>5.471929999999947</td>\n      <td>0.5155305301128755</td>\n      <td>11.769910879756395</td>\n      <td>-36.059470804711566</td>\n      <td>0.1800557042551641</td>\n      <td>-17.698691481742298</td>\n      <td>6.601859986684568</td>\n    </tr>\n    <tr>\n      <th>12</th>\n      <td>USH4P 119.0 Comdty</td>\n      <td>119.0</td>\n      <td>-1</td>\n      <td>0.71875</td>\n      <td>0'46</td>\n      <td>4.3810763</td>\n      <td>1.6609899999999733</td>\n      <td>0.7187398898839634</td>\n      <td>11.718059420152096</td>\n      <td>-45.38771090659627</td>\n      <td>0.19140666299953601</td>\n      <td>-18.639714698056768</td>\n      <td>6.987132807860281</td>\n    </tr>\n    <tr>\n      <th>13</th>\n      <td>USH4P 119.5 Comdty</td>\n      <td>119.5</td>\n      <td>-1</td>\n      <td>0.953125</td>\n      <td>0'61</td>\n      <td>4.3431669</td>\n      <td>-2.129950000000047</td>\n      <td>0.9530813514770108</td>\n      <td>11.430087831429901</td>\n      <td>-55.13859137102241</td>\n      <td>0.19583827832562994</td>\n      <td>-18.131985737879393</td>\n      <td>6.97322053750257</td>\n    </tr>\n    <tr>\n      <th>14</th>\n      <td>USH4P 120.0 Comdty</td>\n      <td>120.0</td>\n      <td>-1</td>\n      <td>1.25</td>\n      <td>1'16</td>\n      <td>4.3054556999999996</td>\n      <td>-5.901070000000086</td>\n      <td>1.2498738745132345</td>\n      <td>11.336020126694024</td>\n      <td>-64.75714155556477</td>\n      <td>0.18523031138205762</td>\n      <td>-16.849426399273224</td>\n      <td>6.541222404511856</td>\n    </tr>\n    <tr>\n      <th>15</th>\n      <td>USH4P 120.5 Comdty</td>\n      <td>120.5</td>\n      <td>-1</td>\n      <td>1.59375</td>\n      <td>1'38</td>\n      <td>4.2679407</td>\n      <td>-9.652570000000082</td>\n      <td>1.5937309211636619</td>\n      <td>11.249106317724314</td>\n      <td>-73.59545597065848</td>\n      <td>0.16420434992491795</td>\n      <td>-14.68194983822926</td>\n      <td>5.754252693603206</td>\n    </tr>\n    <tr>\n      <th>16</th>\n      <td>USH4P 121.0 Comdty</td>\n      <td>121.0</td>\n      <td>-1</td>\n      <td>1.9765625</td>\n      <td>1'62</td>\n      <td>4.2306199</td>\n      <td>-13.384650000000065</td>\n      <td>1.976557404654634</td>\n      <td>11.106073264488954</td>\n      <td>-81.33273813291359</td>\n      <td>0.1363460988169303</td>\n      <td>-11.846558586972227</td>\n      <td>4.717256600666622</td>\n    </tr>\n    <tr>\n      <th>17</th>\n      <td>USH4P 121.5 Comdty</td>\n      <td>121.5</td>\n      <td>-1</td>\n      <td>2.3984375</td>\n      <td>2'25</td>\n      <td>4.1934914</td>\n      <td>-17.097500000000032</td>\n      <td>2.3984382239591917</td>\n      <td>11.045023494160521</td>\n      <td>-87.41112540540645</td>\n      <td>0.10539728478520909</td>\n      <td>-9.010026226621427</td>\n      <td>3.6264552052715264</td>\n    </tr>\n    <tr>\n      <th>18</th>\n      <td>USH4C 116.5 Comdty</td>\n      <td>116.5</td>\n      <td>1</td>\n      <td>2.84375</td>\n      <td>2'54</td>\n      <td>4.573666</td>\n      <td>20.919959999999982</td>\n      <td>2.843750776668982</td>\n      <td>13.020783211090517</td>\n      <td>88.51275681677505</td>\n      <td>0.08375589465012907</td>\n      <td>-9.940334320921243</td>\n      <td>3.397337873350618</td>\n    </tr>\n    <tr>\n      <th>19</th>\n      <td>USH4C 117.0 Comdty</td>\n      <td>117.0</td>\n      <td>1</td>\n      <td>2.3984375</td>\n      <td>2'25</td>\n      <td>4.5347354</td>\n      <td>17.026899999999934</td>\n      <td>2.398337298869629</td>\n      <td>12.630842007535852</td>\n      <td>84.37211425800713</td>\n      <td>0.10689771328898295</td>\n      <td>-11.992356190828087</td>\n      <td>4.206171422250642</td>\n    </tr>\n    <tr>\n      <th>20</th>\n      <td>USH4C 117.5 Comdty</td>\n      <td>117.5</td>\n      <td>1</td>\n      <td>1.9765625</td>\n      <td>1'62</td>\n      <td>4.4960132</td>\n      <td>13.154679999999974</td>\n      <td>1.9765494096439824</td>\n      <td>12.297542323641245</td>\n      <td>78.91704873748108</td>\n      <td>0.13259288807528302</td>\n      <td>-14.14508296250984</td>\n      <td>5.079544936662836</td>\n    </tr>\n    <tr>\n      <th>21</th>\n      <td>USH4C 118.0 Comdty</td>\n      <td>118.0</td>\n      <td>1</td>\n      <td>1.59375</td>\n      <td>1'38</td>\n      <td>4.4574974</td>\n      <td>9.303099999999986</td>\n      <td>1.5937810998618387</td>\n      <td>12.148602814364123</td>\n      <td>71.8309501767123</td>\n      <td>0.1570397649341354</td>\n      <td>-16.386425921625484</td>\n      <td>5.943225660977787</td>\n    </tr>\n    <tr>\n      <th>22</th>\n      <td>USH4C 118.5 Comdty</td>\n      <td>118.5</td>\n      <td>1</td>\n      <td>1.2421875</td>\n      <td>1'15</td>\n      <td>4.4191857</td>\n      <td>5.471929999999947</td>\n      <td>1.2421017276315618</td>\n      <td>11.900957015056287</td>\n      <td>63.68481442876997</td>\n      <td>0.17830789335241792</td>\n      <td>-17.881110997187324</td>\n      <td>6.610566920196281</td>\n    </tr>\n    <tr>\n      <th>23</th>\n      <td>USH4C 119.0 Comdty</td>\n      <td>119.0</td>\n      <td>1</td>\n      <td>0.9375</td>\n      <td>0'60</td>\n      <td>4.3810763</td>\n      <td>1.6609899999999733</td>\n      <td>0.9374899045873248</td>\n      <td>11.721701188800077</td>\n      <td>54.494777903176896</td>\n      <td>0.1913478573024295</td>\n      <td>-18.63396843977896</td>\n      <td>6.987156969290106</td>\n    </tr>\n    <tr>\n      <th>24</th>\n      <td>USH4C 119.5 Comdty</td>\n      <td>119.5</td>\n      <td>1</td>\n      <td>0.6875</td>\n      <td>0'44</td>\n      <td>4.3431669</td>\n      <td>-2.129950000000047</td>\n      <td>0.6874599924714112</td>\n      <td>11.649480284308366</td>\n      <td>44.85513694640329</td>\n      <td>0.1922193451979806</td>\n      <td>-18.501771169201014</td>\n      <td>6.9757337273334725</td>\n    </tr>\n    <tr>\n      <th>25</th>\n      <td>USH4C 120.0 Comdty</td>\n      <td>120.0</td>\n      <td>1</td>\n      <td>0.4765625</td>\n      <td>0'30</td>\n      <td>4.3054556999999996</td>\n      <td>-5.901070000000086</td>\n      <td>0.476417832393311</td>\n      <td>11.441206115285254</td>\n      <td>35.26213007807299</td>\n      <td>0.18378183377568694</td>\n      <td>-17.071128259829358</td>\n      <td>6.5502917008891695</td>\n    </tr>\n    <tr>\n      <th>26</th>\n      <td>USH4C 120.5 Comdty</td>\n      <td>120.5</td>\n      <td>1</td>\n      <td>0.3203125</td>\n      <td>0'20</td>\n      <td>4.2679407</td>\n      <td>-9.652570000000082</td>\n      <td>0.32029764955991397</td>\n      <td>11.358831299257423</td>\n      <td>26.49342978543268</td>\n      <td>0.1632633972154332</td>\n      <td>-14.952766765426526</td>\n      <td>5.777084622158049</td>\n    </tr>\n    <tr>\n      <th>27</th>\n      <td>USH4C 121.0 Comdty</td>\n      <td>121.0</td>\n      <td>1</td>\n      <td>0.203125</td>\n      <td>0'13</td>\n      <td>4.2306199</td>\n      <td>-13.384650000000065</td>\n      <td>0.20312193312410884</td>\n      <td>11.227276615417079</td>\n      <td>18.814742029889928</td>\n      <td>0.13605742461345635</td>\n      <td>-12.177151881243061</td>\n      <td>4.758640751085057</td>\n    </tr>\n    <tr>\n      <th>28</th>\n      <td>USH4C 121.5 Comdty</td>\n      <td>121.5</td>\n      <td>1</td>\n      <td>0.1328125</td>\n      <td>0'08</td>\n      <td>4.1934914</td>\n      <td>-17.097500000000032</td>\n      <td>0.13281306699779</td>\n      <td>11.395375221005597</td>\n      <td>13.225416827814836</td>\n      <td>0.10639751663021565</td>\n      <td>-9.811509554043969</td>\n      <td>3.776994669331837</td>\n    </tr>\n    <tr>\n      <th>29</th>\n      <td>USH4C 122.0 Comdty</td>\n      <td>122.0</td>\n      <td>1</td>\n      <td>0.0859375</td>\n      <td>0'05</td>\n      <td>4.1565533</td>\n      <td>-20.791310000000074</td>\n      <td>0.08595151942330712</td>\n      <td>11.600929597115686</td>\n      <td>9.09735529989854</td>\n      <td>0.07992151246186485</td>\n      <td>-7.639220018839013</td>\n      <td>2.8883028959724917</td>\n    </tr>\n    <tr>\n      <th>30</th>\n      <td>USH4C 122.5 Comdty</td>\n      <td>122.5</td>\n      <td>1</td>\n      <td>0.0546875</td>\n      <td>0'03</td>\n      <td>4.1198039</td>\n      <td>-24.466250000000045</td>\n      <td>0.054689308667146413</td>\n      <td>11.806368603044666</td>\n      <td>6.114841963606817</td>\n      <td>0.05800522493251705</td>\n      <td>-5.7430073795496845</td>\n      <td>2.1333872919922996</td>\n    </tr>\n    <tr>\n      <th>31</th>\n      <td>USH4C 123.0 Comdty</td>\n      <td>123.0</td>\n      <td>1</td>\n      <td>0.0390625</td>\n      <td>0'02</td>\n      <td>4.0832411</td>\n      <td>-28.12253</td>\n      <td>0.039066610591373126</td>\n      <td>12.312732559627317</td>\n      <td>4.415623445061778</td>\n      <td>0.042946757290233985</td>\n      <td>-4.624913880520763</td>\n      <td>1.6472938413169937</td>\n    </tr>\n    <tr>\n      <th>32</th>\n      <td>USH4C 123.5 Comdty</td>\n      <td>123.5</td>\n      <td>1</td>\n      <td>0.0234375</td>\n      <td>0'01</td>\n      <td>4.0468634</td>\n      <td>-31.760300000000008</td>\n      <td>0.023435601897853958</td>\n      <td>12.417961104603675</td>\n      <td>2.8041070943107904</td>\n      <td>0.02934459075266669</td>\n      <td>-3.2145463059755404</td>\n      <td>1.135179665011049</td>\n    </tr>\n    <tr>\n      <th>33</th>\n      <td>USH4C 124.0 Comdty</td>\n      <td>124.0</td>\n      <td>1</td>\n      <td>0.0234375</td>\n      <td>0'01</td>\n      <td>4.0106688</td>\n      <td>-35.379760000000005</td>\n      <td>0.023436954089907293</td>\n      <td>13.59142389091561</td>\n      <td>2.5909753686339307</td>\n      <td>0.025099111632371534</td>\n      <td>-3.2936946393085536</td>\n      <td>1.0626972534802694</td>\n    </tr>\n    <tr>\n      <th>34</th>\n      <td>USH4C 124.5 Comdty</td>\n      <td>124.5</td>\n      <td>1</td>\n      <td>0.0234375</td>\n      <td>0'01</td>\n      <td>3.9746556</td>\n      <td>-38.98108000000002</td>\n      <td>0.023435839949853866</td>\n      <td>14.744995322209395</td>\n      <td>2.412104391771512</td>\n      <td>0.02178885780319286</td>\n      <td>-3.3652885506030037</td>\n      <td>1.0008416131324032</td>\n    </tr>\n    <tr>\n      <th>35</th>\n      <td>USH4C 125.0 Comdty</td>\n      <td>125.0</td>\n      <td>1</td>\n      <td>0.0234375</td>\n      <td>0'01</td>\n      <td>3.9388221</td>\n      <td>-42.56443000000005</td>\n      <td>0.023428919840684823</td>\n      <td>15.88018986963339</td>\n      <td>2.259287622910825</td>\n      <td>0.01914713549703193</td>\n      <td>-3.430179449212921</td>\n      <td>0.9472088602718478</td>\n    </tr>\n    <tr>\n      <th>36</th>\n      <td>USH4C 125.5 Comdty</td>\n      <td>125.5</td>\n      <td>1</td>\n      <td>0.015625</td>\n      <td>0'01</td>\n      <td>3.9031665</td>\n      <td>-46.12999000000002</td>\n      <td>0.0156189293751009</td>\n      <td>16.017247146721587</td>\n      <td>1.5623781738595726</td>\n      <td>0.013870558249482488</td>\n      <td>-2.528054155673162</td>\n      <td>0.6920987546774867</td>\n    </tr>\n  </tbody>\n</table>\n</div>"
     },
     "execution_count": 12,
     "metadata": {},
     "output_type": "execute_result"
    }
   ],
   "source": [
    "v2.tab"
   ],
   "metadata": {
    "collapsed": false,
    "ExecuteTime": {
     "end_time": "2024-02-15T12:35:25.112896400Z",
     "start_time": "2024-02-15T12:35:25.075297400Z"
    }
   }
  },
  {
   "cell_type": "code",
   "execution_count": 83,
   "outputs": [],
   "source": [
    "opt_w = [1]"
   ],
   "metadata": {
    "collapsed": false,
    "ExecuteTime": {
     "end_time": "2024-02-15T03:54:37.914934300Z",
     "start_time": "2024-02-15T03:54:37.860899300Z"
    }
   }
  },
  {
   "cell_type": "code",
   "execution_count": 84,
   "outputs": [
    {
     "data": {
      "text/plain": "['USH4 Comdty', 'USH4P 115.5 Comdty']"
     },
     "execution_count": 84,
     "metadata": {},
     "output_type": "execute_result"
    }
   ],
   "source": [
    "ticker_list = [v2.fut]+ v2.tab.loc[[6]]['ticker'].tolist()\n",
    "st_date = '20230801'\n",
    "\n",
    "ticker_list"
   ],
   "metadata": {
    "collapsed": false,
    "ExecuteTime": {
     "end_time": "2024-02-15T03:54:38.796173300Z",
     "start_time": "2024-02-15T03:54:38.740902900Z"
    }
   }
  },
  {
   "cell_type": "code",
   "execution_count": 92,
   "outputs": [
    {
     "data": {
      "text/plain": "ticker     USH4 Comdty USH4P 115.5 Comdty\nfield          PX_LAST            PX_LAST\ndate                                     \n2024-01-29   120.53125             0.1875\n2024-01-30      121.25           0.109375\n2024-01-31   122.34375             0.0625\n2024-02-01   124.03125           0.046875\n2024-02-02   121.90625           0.078125\n2024-02-05     120.125           0.140625\n2024-02-06       121.0           0.078125\n2024-02-07   120.84375             0.0625\n2024-02-08    119.6875            0.09375\n2024-02-09     119.625             0.0625\n2024-02-12   119.84375           0.046875\n2024-02-13   117.96875             0.1875\n2024-02-14   118.53125            0.09375\n2024-02-15       119.0             0.0625",
      "text/html": "<div>\n<style scoped>\n    .dataframe tbody tr th:only-of-type {\n        vertical-align: middle;\n    }\n\n    .dataframe tbody tr th {\n        vertical-align: top;\n    }\n\n    .dataframe thead tr th {\n        text-align: left;\n    }\n\n    .dataframe thead tr:last-of-type th {\n        text-align: right;\n    }\n</style>\n<table border=\"1\" class=\"dataframe\">\n  <thead>\n    <tr>\n      <th>ticker</th>\n      <th>USH4 Comdty</th>\n      <th>USH4P 115.5 Comdty</th>\n    </tr>\n    <tr>\n      <th>field</th>\n      <th>PX_LAST</th>\n      <th>PX_LAST</th>\n    </tr>\n    <tr>\n      <th>date</th>\n      <th></th>\n      <th></th>\n    </tr>\n  </thead>\n  <tbody>\n    <tr>\n      <th>2024-01-29</th>\n      <td>120.53125</td>\n      <td>0.1875</td>\n    </tr>\n    <tr>\n      <th>2024-01-30</th>\n      <td>121.25</td>\n      <td>0.109375</td>\n    </tr>\n    <tr>\n      <th>2024-01-31</th>\n      <td>122.34375</td>\n      <td>0.0625</td>\n    </tr>\n    <tr>\n      <th>2024-02-01</th>\n      <td>124.03125</td>\n      <td>0.046875</td>\n    </tr>\n    <tr>\n      <th>2024-02-02</th>\n      <td>121.90625</td>\n      <td>0.078125</td>\n    </tr>\n    <tr>\n      <th>2024-02-05</th>\n      <td>120.125</td>\n      <td>0.140625</td>\n    </tr>\n    <tr>\n      <th>2024-02-06</th>\n      <td>121.0</td>\n      <td>0.078125</td>\n    </tr>\n    <tr>\n      <th>2024-02-07</th>\n      <td>120.84375</td>\n      <td>0.0625</td>\n    </tr>\n    <tr>\n      <th>2024-02-08</th>\n      <td>119.6875</td>\n      <td>0.09375</td>\n    </tr>\n    <tr>\n      <th>2024-02-09</th>\n      <td>119.625</td>\n      <td>0.0625</td>\n    </tr>\n    <tr>\n      <th>2024-02-12</th>\n      <td>119.84375</td>\n      <td>0.046875</td>\n    </tr>\n    <tr>\n      <th>2024-02-13</th>\n      <td>117.96875</td>\n      <td>0.1875</td>\n    </tr>\n    <tr>\n      <th>2024-02-14</th>\n      <td>118.53125</td>\n      <td>0.09375</td>\n    </tr>\n    <tr>\n      <th>2024-02-15</th>\n      <td>119.0</td>\n      <td>0.0625</td>\n    </tr>\n  </tbody>\n</table>\n</div>"
     },
     "execution_count": 92,
     "metadata": {},
     "output_type": "execute_result"
    }
   ],
   "source": [
    "df1 = con.bdh(ticker_list , 'PX_LAST', st_date, datetime.datetime.now().strftime('%Y%m%d'))\n",
    "df1.dropna(inplace=True)\n",
    "px_series = np.round(100*np.sum([ np.array(df1.iloc[:,i+1])*opt_w[i] for i in np.arange(len(opt_w)) ], axis=0),1)\n",
    "\n",
    "df1"
   ],
   "metadata": {
    "collapsed": false,
    "ExecuteTime": {
     "end_time": "2024-02-15T03:56:41.212071100Z",
     "start_time": "2024-02-15T03:56:40.652963Z"
    }
   }
  },
  {
   "cell_type": "code",
   "execution_count": 67,
   "outputs": [],
   "source": [
    "s1 = figure(width=550, height=400,tools=[\"pan\", \"crosshair\", \"wheel_zoom\", \"box_zoom\", \"save\", \"reset\", \"help\"], toolbar_location='right')\n",
    "s1.xaxis.formatter=DatetimeTickFormatter(days=\"%d-%b-%y\", months=\"%d-%b-%y\")\n",
    "s1.add_tools(HoverTool(tooltips=[('date', '$x{%d.%b.%y}'), ('y', '$y{0.0}')], formatters={'$x': 'datetime'}))\n",
    "s1.xgrid.visible = False\n",
    "s1.ygrid.visible = False\n",
    "s1.line(x=df1.index , y=px_series , width=0.7, color='royalblue', legend_label=\"strat\")\n",
    "s1.legend.location = 'bottom_right'\n",
    "s1.legend.label_text_font = \"calibri\"\n",
    "s1.legend.label_text_font_size = \"9pt\"\n",
    "s1.legend.spacing = 1\n",
    "s1.legend.click_policy = \"mute\"\n",
    "s1.legend.background_fill_alpha = 0.0\n",
    "s1.yaxis.axis_label = 'px (bps)'\n",
    "s1.xaxis.axis_label = 'date'\n",
    "\n",
    "s2 = figure(width=550, height=400,tools=[\"pan\", \"crosshair\", \"wheel_zoom\", \"box_zoom\", \"save\", \"reset\", \"help\"], toolbar_location='right')\n",
    "s2.xaxis.formatter=DatetimeTickFormatter(days=\"%d-%b-%y\", months=\"%d-%b-%y\")\n",
    "s2.add_tools(HoverTool(tooltips=[('date', '$x{%d.%b.%y}'), ('y', '$y{0.0}')], formatters={'$x': 'datetime'}))\n",
    "s2.xgrid.visible = False\n",
    "s2.ygrid.visible = False\n",
    "s2.line(x=df1.index , y=df1.iloc[:,0] , width=0.7, color='royalblue', legend_label=\"fut\")\n",
    "s2.legend.location = 'bottom_right'\n",
    "s2.legend.label_text_font = \"calibri\"\n",
    "s2.legend.label_text_font_size = \"9pt\"\n",
    "s2.legend.spacing = 1\n",
    "s2.legend.click_policy = \"mute\"\n",
    "s2.legend.background_fill_alpha = 0.0\n",
    "s2.yaxis.axis_label = 'px (bps)'\n",
    "s2.xaxis.axis_label = 'date'\n",
    "\n",
    "s_plot = []\n",
    "s_plot.append(s1)\n",
    "s_plot.append(s2)\n",
    "layout = column(*s_plot)\n",
    "show(layout)\n",
    "\n",
    "\n"
   ],
   "metadata": {
    "collapsed": false,
    "ExecuteTime": {
     "end_time": "2024-02-15T03:32:23.921181Z",
     "start_time": "2024-02-15T03:32:23.522209200Z"
    }
   }
  },
  {
   "cell_type": "code",
   "execution_count": 93,
   "outputs": [],
   "source": [
    "s1 = figure(width=550, height=400,tools=[\"pan\", \"crosshair\", \"wheel_zoom\", \"box_zoom\", \"save\", \"reset\", \"help\"], toolbar_location='right')\n",
    "s1.xaxis.formatter=DatetimeTickFormatter(days=\"%d-%b-%y\", months=\"%d-%b-%y\")\n",
    "s1.add_tools(HoverTool(tooltips=[('date', '$x{%d.%b.%y}'), ('y', '$y{0.0}')], formatters={'$x': 'datetime'}))\n",
    "s1.xgrid.visible = False\n",
    "s1.ygrid.visible = False\n",
    "s1.line(x=df1.index , y=px_series , width=0.7, color='navy', legend_label=\"strat\", alpha=1.0)\n",
    "s1.legend.location = 'top_right'\n",
    "s1.legend.label_text_font = \"calibri\"\n",
    "s1.legend.label_text_font_size = \"9pt\"\n",
    "s1.legend.spacing = 1\n",
    "s1.legend.click_policy = \"mute\"\n",
    "s1.legend.background_fill_alpha = 0.0\n",
    "s1.yaxis.axis_label = 'px (bps)'\n",
    "s1.xaxis.axis_label = 'date'\n",
    "\n",
    "s1.y_range = Range1d(min(px_series)-2, max(px_series)+2)\n",
    "# SECOND AXIS\n",
    "s1.extra_y_ranges = {\"y2_range\": Range1d( start=min(df1.iloc[:,0])-0.05, end=max(df1.iloc[:,0])+0.05)}\n",
    "s1.add_layout(LinearAxis(y_range_name=\"y2_range\"), \"right\")\n",
    "s1.line(x=df1.index , y=df1.iloc[:,0] , width=0.7, color='green', legend_label=\"fut\", alpha=0.2, y_range_name = 'y2_range')\n",
    "\n",
    "show(s1)"
   ],
   "metadata": {
    "collapsed": false,
    "ExecuteTime": {
     "end_time": "2024-02-15T03:56:52.749322100Z",
     "start_time": "2024-02-15T03:56:52.505320200Z"
    }
   }
  },
  {
   "cell_type": "code",
   "execution_count": 70,
   "outputs": [
    {
     "data": {
      "text/plain": "DatetimeIndex(['2023-09-20', '2023-09-21', '2023-09-22', '2023-09-25', '2023-09-26', '2023-09-27', '2023-09-28', '2023-09-29', '2023-10-02', '2023-10-03',\n               ...\n               '2024-02-02', '2024-02-05', '2024-02-06', '2024-02-07', '2024-02-08', '2024-02-09', '2024-02-12', '2024-02-13', '2024-02-14', '2024-02-15'], dtype='datetime64[ns]', name='date', length=103, freq=None)"
     },
     "execution_count": 70,
     "metadata": {},
     "output_type": "execute_result"
    }
   ],
   "source": [
    "df1.index"
   ],
   "metadata": {
    "collapsed": false,
    "ExecuteTime": {
     "end_time": "2024-02-15T03:33:50.193279200Z",
     "start_time": "2024-02-15T03:33:50.153181Z"
    }
   }
  },
  {
   "cell_type": "code",
   "execution_count": 91,
   "outputs": [
    {
     "data": {
      "text/plain": "nan"
     },
     "execution_count": 91,
     "metadata": {},
     "output_type": "execute_result"
    }
   ],
   "source": [
    "min(px_series)-2"
   ],
   "metadata": {
    "collapsed": false,
    "ExecuteTime": {
     "end_time": "2024-02-15T03:56:19.518653500Z",
     "start_time": "2024-02-15T03:56:19.455447500Z"
    }
   }
  },
  {
   "cell_type": "code",
   "execution_count": 5,
   "outputs": [
    {
     "name": "stdout",
     "output_type": "stream",
     "text": [
      "SFRM4P 93.75 Comdty\n",
      "SFRM4P 93.8125 Comdty\n",
      "SFRM4P 93.875 Comdty\n",
      "SFRM4P 93.9375 Comdty\n",
      "SFRM4P 94.0 Comdty\n",
      "SFRM4P 94.0625 Comdty\n",
      "SFRM4P 94.125 Comdty\n",
      "SFRM4P 94.1875 Comdty\n",
      "SFRM4P 94.25 Comdty\n",
      "SFRM4P 94.3125 Comdty\n",
      "SFRM4P 94.375 Comdty\n",
      "SFRM4P 94.4375 Comdty\n",
      "SFRM4P 94.5 Comdty\n",
      "SFRM4P 94.5625 Comdty\n",
      "SFRM4P 94.625 Comdty\n",
      "SFRM4P 94.6875 Comdty\n",
      "SFRM4P 94.75 Comdty\n",
      "SFRM4P 94.8125 Comdty\n",
      "SFRM4P 94.875 Comdty\n",
      "SFRM4P 94.9375 Comdty\n",
      "SFRM4P 95.0 Comdty\n",
      "SFRM4P 95.0625 Comdty\n",
      "SFRM4P 95.125 Comdty\n",
      "SFRM4P 95.1875 Comdty\n",
      "SFRM4P 95.25 Comdty\n",
      "SFRM4P 95.3125 Comdty\n",
      "SFRM4P 95.375 Comdty\n",
      "SFRM4P 95.4375 Comdty\n",
      "SFRM4P 95.5 Comdty\n",
      "SFRM4P 95.5625 Comdty\n",
      "SFRM4P 95.625 Comdty\n",
      "SFRM4C 94.375 Comdty\n",
      "SFRM4C 94.4375 Comdty\n",
      "SFRM4C 94.5 Comdty\n",
      "SFRM4C 94.5625 Comdty\n",
      "SFRM4C 94.625 Comdty\n",
      "SFRM4C 94.6875 Comdty\n",
      "SFRM4C 94.75 Comdty\n",
      "SFRM4C 94.8125 Comdty\n",
      "SFRM4C 94.875 Comdty\n",
      "SFRM4C 94.9375 Comdty\n",
      "SFRM4C 95.0 Comdty\n",
      "SFRM4C 95.0625 Comdty\n",
      "SFRM4C 95.125 Comdty\n",
      "SFRM4C 95.1875 Comdty\n",
      "SFRM4C 95.25 Comdty\n",
      "SFRM4C 95.3125 Comdty\n",
      "SFRM4C 95.375 Comdty\n",
      "SFRM4C 95.4375 Comdty\n",
      "SFRM4C 95.5 Comdty\n",
      "SFRM4C 95.5625 Comdty\n",
      "SFRM4C 95.625 Comdty\n",
      "SFRM4C 95.6875 Comdty\n",
      "SFRM4C 95.75 Comdty\n",
      "SFRM4C 95.8125 Comdty\n",
      "SFRM4C 95.875 Comdty\n",
      "SFRM4C 95.9375 Comdty\n",
      "SFRM4C 96.0 Comdty\n",
      "SFRM4C 96.0625 Comdty\n",
      "SFRM4C 96.125 Comdty\n",
      "SFRM4C 96.1875 Comdty\n",
      "SFRM4C 96.25 Comdty\n",
      "SFRM4C 96.3125 Comdty\n"
     ]
    }
   ],
   "source": [
    "v2 = build_stir_vol_surf(['SFRM4P 96'], chain_len=[20,20], b=0)\n"
   ],
   "metadata": {
    "collapsed": false,
    "ExecuteTime": {
     "end_time": "2024-02-15T14:12:38.545221300Z",
     "start_time": "2024-02-15T14:12:34.351861400Z"
    }
   }
  },
  {
   "cell_type": "code",
   "execution_count": 6,
   "outputs": [
    {
     "name": "stdout",
     "output_type": "stream",
     "text": [
      "94.875\n",
      "94.9375\n",
      "95.0\n",
      "95.0625\n",
      "95.125\n",
      "95.1875\n",
      "95.25\n",
      "95.3125\n",
      "95.375\n",
      "95.4375\n",
      "95.5\n",
      "95.5625\n"
     ]
    }
   ],
   "source": [
    "st = stir_opt_strat(['SFRM4'], ['C', 'C'], [95.125, 95.375], [1, -1], s_range=[-0.25, 0.25], increm=0.0625, built_surf=v2)"
   ],
   "metadata": {
    "collapsed": false,
    "ExecuteTime": {
     "end_time": "2024-02-15T14:12:41.261371400Z",
     "start_time": "2024-02-15T14:12:38.550183300Z"
    }
   }
  },
  {
   "cell_type": "code",
   "execution_count": 9,
   "outputs": [],
   "source": [
    "#    v2 = build_vol_surf(['RXJ4P 133'], chain_len=[12,12], b=0)\n",
    "#    st = bond_fut_opt_strat(['RXJ4'], ['C', 'C'], [135, 136.5], [1, -1], s_range=[-1, 1], increm=0.5, built_surf=v2)\n",
    "add_delta = [0]\n",
    "payoff_increm_calc = 100\n",
    "\n",
    "\n",
    "spot_idx = st.strat.loc[st.strat['ATM_K'] == 0].index[0]\n",
    "if st.currency == 'USD1':\n",
    "    px_label = px_dec_to_opt_frac(st.strat_px)\n",
    "else:\n",
    "    px_label = str(np.round(st.strat_px, 3))\n",
    "\n",
    "x_spot = st.strat['fut_px'][spot_idx]\n",
    "#### payoff at expiry\n",
    "x1 = np.linspace(min(st.strat['fut_px']), max(st.strat['fut_px']), num=payoff_increm_calc)\n",
    "if len(add_delta) > 1:\n",
    "    d_payoff1 = fut_payoff(x1, [st.fut], add_delta)\n",
    "    y1 = opt_payoff(x1, st.opt_dets, st.strat_px) + d_payoff1\n",
    "    y1_fmt = [convert_to_64(px_dec_to_opt_frac(y1[i])) for i in np.arange(len(y1))]\n",
    "    st.strat['strat_delta'] = st.strat['strat_delta'] + 100*np.array(add_delta[0])   #### needs testing\n",
    "else:\n",
    "    y1 = opt_payoff(x1, st.opt_dets, st.strat_px)\n",
    "    y1_fmt = [convert_to_64(px_dec_to_opt_frac(y1[i])) for i in np.arange(len(y1))]\n",
    "\n",
    "p1 = figure(width=700, height=350, tools=[\"pan\", \"crosshair\", \"wheel_zoom\", \"box_zoom\", \"save\", \"reset\", \"help\"],toolbar_location='right')\n",
    "main_source = ColumnDataSource(data={'x2': st.strat['fut_px'],\n",
    "                                     'y2': st.strat['strat_px'],\n",
    "#                                     'y3': [convert_to_64(st.strat['strat_px_fmt'][i]) for i in np.arange(len(st.strat))],\n",
    "                                     'k_dist': st.strat['ATM_K'],\n",
    "                                     'y2_fmt': st.strat['strat_px_fmt'] })\n",
    "p1.add_tools(HoverTool(tooltips=[('fut', '$x{0.00}'), ('px', '@y2{0.00}'), ('px_fmt', '@y2_fmt'), ('y_dist', '@k_dist{0.0}')]))\n",
    "p1.xgrid.visible = False\n",
    "p1.ygrid.visible = False\n",
    "if st.currency == 'USD1':\n",
    "    p1.line(x=x1, y=y1_fmt, width=0.7, color='black', alpha=1.0, muted_alpha=0.1, legend_label=\"@expiry\")\n",
    "    p1.line(x='x2', y='y3', width=0.7, color='navy', alpha=1.0, muted_alpha=0.1, legend_label=\"opt_px: \"+px_label, source=main_source, name = 'payoff')\n",
    "    p1.yaxis.axis_label = 'strat_px (64th)'\n",
    "else:\n",
    "    p1.line(x=x1, y=y1, width=0.7, color='black', alpha=1.0, muted_alpha=0.1, legend_label=\"@expiry\")\n",
    "    p1.line(x='x2', y='y2', width=0.7, color='navy', alpha=1.0, muted_alpha=0.1, legend_label=\"opt_px: \"+px_label, source=main_source)\n",
    "    p1.yaxis.axis_label = 'strat_px'\n",
    "live_line = Span(location=x_spot, dimension='height', line_color='goldenrod', line_width=1)\n",
    "zero_line = Span(location=0, dimension='width', line_color='darkseagreen', line_width=1)\n",
    "p1.add_layout(live_line)\n",
    "p1.add_layout(zero_line)\n",
    "p1_source = ColumnDataSource(data=dict(x=np.round(st.strat['fut_px'][::int(len(st.strat) / 6)], 1).tolist(),z=np.round(st.strat['ATM_K'][::int(len(st.strat) / 6)], 1).tolist()))\n",
    "labels_yld = LabelSet(x='x', y=5, y_units='screen', text='z', source=p1_source, text_font='calibri', text_color='firebrick', text_font_size='9px', text_align='center', x_offset=0)\n",
    "p1.add_layout(labels_yld)\n",
    "p1.xaxis.ticker = np.round(st.strat['fut_px'][::int(len(st.strat) / 6)], 2)\n",
    "p1.legend.location = 'top_left'\n",
    "p1.legend.label_text_font = \"calibri\"\n",
    "p1.legend.label_text_font_size = \"9pt\"\n",
    "p1.legend.spacing = 1\n",
    "p1.legend.click_policy = \"mute\"\n",
    "p1.legend.background_fill_alpha = 0.0\n",
    "\n",
    "p2_source = ColumnDataSource(data=dict(x=np.round(st.strat['fut_px'][::int(len(st.strat) / 6)], 1).tolist(), z=np.round(0.01 * st.strat['strat_delta'][::int(len(st.strat) / 6)],2).tolist()))\n",
    "p2 = figure(width=700, height=225, tools=[\"pan\", \"crosshair\", \"wheel_zoom\", \"box_zoom\", \"save\", \"reset\", \"help\"], toolbar_location='right')\n",
    "p2.add_tools(HoverTool(tooltips=[('x', '$x{0.00}'), ('y', '$y{0.00}')]))\n",
    "p2.xgrid.visible = False\n",
    "p2.ygrid.visible = False\n",
    "p2.line(x=st.strat['fut_px'], y=st.strat['strat_delta'] / 100, width=0.7, color='green', alpha=1.0, muted_alpha=0.1, legend_label=\"delta\")\n",
    "live_line = Span(location=x_spot, dimension='height', line_color='goldenrod', line_width=1)\n",
    "labels_delta = LabelSet(x='x', y=5, y_units='screen', text='z', source=p2_source, text_font='calibri', text_color='firebrick', text_font_size='9px', text_align='right', x_offset=0)\n",
    "p2.xaxis.ticker = np.round(st.strat['fut_px'][::int(len(st.strat) / 6)], 2)\n",
    "p2.add_layout(live_line)\n",
    "p2.add_layout(labels_delta)\n",
    "p2.legend.location = 'top_left'\n",
    "p2.legend.label_text_font = \"calibri\"\n",
    "p2.legend.label_text_font_size = \"9pt\"\n",
    "p2.legend.spacing = 1\n",
    "p2.legend.click_policy = \"mute\"\n",
    "p2.legend.background_fill_alpha = 0.0\n",
    "p2.yaxis.axis_label = 'strat_delta'\n",
    "\n",
    "\n",
    "s_plot = [p1,p2]\n",
    "layout = column(*s_plot)\n",
    "show(layout)\n",
    "\n",
    "\n",
    "\n"
   ],
   "metadata": {
    "collapsed": false,
    "ExecuteTime": {
     "end_time": "2024-02-15T14:15:19.163704800Z",
     "start_time": "2024-02-15T14:15:18.008449500Z"
    }
   }
  },
  {
   "cell_type": "code",
   "execution_count": 8,
   "outputs": [
    {
     "data": {
      "text/plain": "    fut_px               ATM_K             strat_px        strat_delta          strat_gamma            strat_theta           strat_vega      strat_px_fmt\n0   94.875  14.000000000000057 0.030638867170341186  10.26033097143673  0.23173139398461629  -0.006384865639119497  0.21101425563723963              3.06\n1  94.9375   7.750000000000057 0.036201373714449814 11.980018933007592   0.2593635587074289 -0.0024383111092169396    0.213543200297165              3.62\n2     95.0  1.5000000000000568  0.04684187350521034 14.326211529265713   0.2750083014685891 -0.0037619449847076103   0.2139674581571126              4.68\n3   95.015                 0.0  0.05001582587374767 14.956361201386876  0.27621820482021575  -0.004320278414090495  0.21260905694205812               5.0\n4  95.0625  -4.749999999999943  0.05748484627306613 16.848017974965646   0.2871353929350897  0.0009330079734223284   0.1989879207579044              5.75\n5   95.125 -10.999999999999943  0.06958001428285815 19.319433455142356   0.2768707695321071    0.01141667364014351  0.16004127817477043 6.959999999999999\n6  95.1875 -17.249999999999943  0.08252518188539944  21.94852758982588    0.251279164006212   0.027271103324327806  0.09897448924642549              8.25\n7    95.25 -23.499999999999943  0.09597718690943391  24.48803011840686  0.20031481533761886    0.04983568842969338  0.00926343166910204               9.6\n8  95.3125 -29.749999999999943   0.1171631047988099 26.176625042925913  0.07390990478799864    0.06568302485719774  -0.1002528861309685             11.72\n9   95.375  -35.99999999999994   0.1372998859185816 26.808203349240266 -0.07232977806908791    0.08500097875767418 -0.22097806152502208             13.73\n10 95.4375  -42.24999999999994  0.15999584913112108 26.034039347529408 -0.24765256257904678     0.0975919513812265 -0.33328930414002145              16.0\n11    95.5  -48.49999999999994   0.1833822660080828 23.266087582600754 -0.41111907888404875    0.09907462438984166 -0.40438280929034187             18.34\n12 95.5625  -54.74999999999994   0.2022700461393492   19.0331941833646  -0.4849068221469015    0.09166340527651619 -0.40877524597659426             20.23",
      "text/html": "<div>\n<style scoped>\n    .dataframe tbody tr th:only-of-type {\n        vertical-align: middle;\n    }\n\n    .dataframe tbody tr th {\n        vertical-align: top;\n    }\n\n    .dataframe thead th {\n        text-align: right;\n    }\n</style>\n<table border=\"1\" class=\"dataframe\">\n  <thead>\n    <tr style=\"text-align: right;\">\n      <th></th>\n      <th>fut_px</th>\n      <th>ATM_K</th>\n      <th>strat_px</th>\n      <th>strat_delta</th>\n      <th>strat_gamma</th>\n      <th>strat_theta</th>\n      <th>strat_vega</th>\n      <th>strat_px_fmt</th>\n    </tr>\n  </thead>\n  <tbody>\n    <tr>\n      <th>0</th>\n      <td>94.875</td>\n      <td>14.000000000000057</td>\n      <td>0.030638867170341186</td>\n      <td>10.26033097143673</td>\n      <td>0.23173139398461629</td>\n      <td>-0.006384865639119497</td>\n      <td>0.21101425563723963</td>\n      <td>3.06</td>\n    </tr>\n    <tr>\n      <th>1</th>\n      <td>94.9375</td>\n      <td>7.750000000000057</td>\n      <td>0.036201373714449814</td>\n      <td>11.980018933007592</td>\n      <td>0.2593635587074289</td>\n      <td>-0.0024383111092169396</td>\n      <td>0.213543200297165</td>\n      <td>3.62</td>\n    </tr>\n    <tr>\n      <th>2</th>\n      <td>95.0</td>\n      <td>1.5000000000000568</td>\n      <td>0.04684187350521034</td>\n      <td>14.326211529265713</td>\n      <td>0.2750083014685891</td>\n      <td>-0.0037619449847076103</td>\n      <td>0.2139674581571126</td>\n      <td>4.68</td>\n    </tr>\n    <tr>\n      <th>3</th>\n      <td>95.015</td>\n      <td>0.0</td>\n      <td>0.05001582587374767</td>\n      <td>14.956361201386876</td>\n      <td>0.27621820482021575</td>\n      <td>-0.004320278414090495</td>\n      <td>0.21260905694205812</td>\n      <td>5.0</td>\n    </tr>\n    <tr>\n      <th>4</th>\n      <td>95.0625</td>\n      <td>-4.749999999999943</td>\n      <td>0.05748484627306613</td>\n      <td>16.848017974965646</td>\n      <td>0.2871353929350897</td>\n      <td>0.0009330079734223284</td>\n      <td>0.1989879207579044</td>\n      <td>5.75</td>\n    </tr>\n    <tr>\n      <th>5</th>\n      <td>95.125</td>\n      <td>-10.999999999999943</td>\n      <td>0.06958001428285815</td>\n      <td>19.319433455142356</td>\n      <td>0.2768707695321071</td>\n      <td>0.01141667364014351</td>\n      <td>0.16004127817477043</td>\n      <td>6.959999999999999</td>\n    </tr>\n    <tr>\n      <th>6</th>\n      <td>95.1875</td>\n      <td>-17.249999999999943</td>\n      <td>0.08252518188539944</td>\n      <td>21.94852758982588</td>\n      <td>0.251279164006212</td>\n      <td>0.027271103324327806</td>\n      <td>0.09897448924642549</td>\n      <td>8.25</td>\n    </tr>\n    <tr>\n      <th>7</th>\n      <td>95.25</td>\n      <td>-23.499999999999943</td>\n      <td>0.09597718690943391</td>\n      <td>24.48803011840686</td>\n      <td>0.20031481533761886</td>\n      <td>0.04983568842969338</td>\n      <td>0.00926343166910204</td>\n      <td>9.6</td>\n    </tr>\n    <tr>\n      <th>8</th>\n      <td>95.3125</td>\n      <td>-29.749999999999943</td>\n      <td>0.1171631047988099</td>\n      <td>26.176625042925913</td>\n      <td>0.07390990478799864</td>\n      <td>0.06568302485719774</td>\n      <td>-0.1002528861309685</td>\n      <td>11.72</td>\n    </tr>\n    <tr>\n      <th>9</th>\n      <td>95.375</td>\n      <td>-35.99999999999994</td>\n      <td>0.1372998859185816</td>\n      <td>26.808203349240266</td>\n      <td>-0.07232977806908791</td>\n      <td>0.08500097875767418</td>\n      <td>-0.22097806152502208</td>\n      <td>13.73</td>\n    </tr>\n    <tr>\n      <th>10</th>\n      <td>95.4375</td>\n      <td>-42.24999999999994</td>\n      <td>0.15999584913112108</td>\n      <td>26.034039347529408</td>\n      <td>-0.24765256257904678</td>\n      <td>0.0975919513812265</td>\n      <td>-0.33328930414002145</td>\n      <td>16.0</td>\n    </tr>\n    <tr>\n      <th>11</th>\n      <td>95.5</td>\n      <td>-48.49999999999994</td>\n      <td>0.1833822660080828</td>\n      <td>23.266087582600754</td>\n      <td>-0.41111907888404875</td>\n      <td>0.09907462438984166</td>\n      <td>-0.40438280929034187</td>\n      <td>18.34</td>\n    </tr>\n    <tr>\n      <th>12</th>\n      <td>95.5625</td>\n      <td>-54.74999999999994</td>\n      <td>0.2022700461393492</td>\n      <td>19.0331941833646</td>\n      <td>-0.4849068221469015</td>\n      <td>0.09166340527651619</td>\n      <td>-0.40877524597659426</td>\n      <td>20.23</td>\n    </tr>\n  </tbody>\n</table>\n</div>"
     },
     "execution_count": 8,
     "metadata": {},
     "output_type": "execute_result"
    }
   ],
   "source": [
    "st.strat"
   ],
   "metadata": {
    "collapsed": false,
    "ExecuteTime": {
     "end_time": "2024-02-15T14:12:59.065413100Z",
     "start_time": "2024-02-15T14:12:59.010868Z"
    }
   }
  },
  {
   "cell_type": "code",
   "execution_count": 6,
   "outputs": [
    {
     "data": {
      "text/plain": "{'SOFR_DC':               Ref_Date                                              Dates                                              Rates                                         Swap_Rates    Index  Fixing                                              Table\n Date                                                                                                                                                                                                                                               \n 08/11/1996  1996-11-08  [1996-11-13 00:00:00, 1996-11-14 00:00:00, 199...  [1.0, 0.9998532715324022, 0.9989767148519539, ...     Tenor  Rate\n 0     2Y 5.643\n 1     3Y 5.785\n 2...  SOFR_DC   5.283     Tenor  Rate  TenorNum  TenorUnit           ...\n 11/11/1996  1996-11-11  [1996-11-13 00:00:00, 1996-11-15 00:00:00, 199...  [1.0, 0.9997065820785709, 0.9988310408668177, ...     Tenor  Rate\n 0     2Y 5.642\n 1     3Y 5.784\n 2...  SOFR_DC    5.28     Tenor  Rate  TenorNum  TenorUnit           ...\n 12/11/1996  1996-11-12  [1996-11-14 00:00:00, 1996-11-15 00:00:00, 199...  [1.0, 0.9998564095100785, 0.9989827303357562, ...     Tenor  Rate\n 0     2Y 5.606\n 1     3Y 5.736\n 2...  SOFR_DC    5.17     Tenor  Rate  TenorNum  TenorUnit           ...\n 13/11/1996  1996-11-13  [1996-11-15 00:00:00, 1996-11-18 00:00:00, 199...  [1.0, 0.9995585283166215, 0.998974968434239, 0...     Tenor  Rate\n 0     2Y   5.6\n 1     3Y 5.741\n 2...  SOFR_DC     5.3     Tenor  Rate  TenorNum  TenorUnit           ...\n 14/11/1996  1996-11-14  [1996-11-18 00:00:00, 1996-11-19 00:00:00, 199...  [1.0, 0.9998552987192684, 0.9989792374652565, ...     Tenor  Rate\n 0     2Y 5.554\n 1     3Y 5.684\n 2...  SOFR_DC    5.21     Tenor  Rate  TenorNum  TenorUnit           ...\n ...                ...                                                ...                                                ...                                                ...      ...     ...                                                ...\n 12/02/2024  2024-02-12  [2024-02-14 00:00:00, 2024-02-15 00:00:00, 202...  [1.0, 0.9998521607485644, 0.9989656543120977, ...     Tenor  Rate\n 0     2Y 4.311\n 1     3Y 4.041\n 2...  SOFR_DC   5.323     Tenor  Rate  TenorNum  TenorUnit           ...\n 13/02/2024  2024-02-13  [2024-02-15 00:00:00, 2024-02-16 00:00:00, 202...  [1.0, 0.9998521607485644, 0.9989654602697285, ...     Tenor  Rate\n 0     2Y 4.513\n 1     3Y 4.251\n 2...  SOFR_DC   5.323     Tenor  Rate  TenorNum  TenorUnit           ...\n 14/02/2024  2024-02-14  [2024-02-16 00:00:00, 2024-02-20 00:00:00, 202...  [1.0, 0.9994086831956333, 0.9989654602697284, ...     Tenor  Rate\n 0     2Y 4.444\n 1     3Y 4.179\n 2...  SOFR_DC   5.325     Tenor  Rate  TenorNum  TenorUnit           ...\n 15/02/2024  2024-02-15  [2024-02-20 00:00:00, 2024-02-21 00:00:00, 202...  [1.0, 0.9998521329790001, 0.9989654602697284, ...     Tenor  Rate\n 0     2Y 4.427\n 1     3Y 4.156\n 2...  SOFR_DC   5.324     Tenor  Rate  TenorNum  TenorUnit           ...\n 16/02/2024  2024-02-16  [2024-02-21 00:00:00, 2024-02-22 00:00:00, 202...  [1.0, 0.9998521329790001, 0.9989652662274345, ...     Tenor  Rate\n 0     2Y 4.495\n 1     3Y 4.228\n 2...  SOFR_DC   5.324     Tenor  Rate  TenorNum  TenorUnit           ...\n \n [6811 rows x 7 columns],\n 'SONIA_DC':               Ref_Date                                              Dates                                              Rates                                         Swap_Rates     Index  Fixing                                              Table\n Date                                                                                                                                                                                                                                                \n 15/12/2008  2008-12-15  [2008-12-15 00:00:00, 2008-12-16 00:00:00, 200...  [1.0, 0.9999580127219098, 0.9996764841482063, ...     Tenor    Rate\n 0     2Y 1.69178\n 1     3Y 2.1...  SONIA_DC  1.5326     Tenor    Rate  TenorNum  TenorUnit         ...\n 16/12/2008  2008-12-16  [2008-12-16 00:00:00, 2008-12-17 00:00:00, 200...  [1.0, 0.9999571525209165, 0.9996788089501445, ...     Tenor    Rate\n 0     2Y 1.69239\n 1     3Y 2.1...  SONIA_DC   1.564     Tenor    Rate  TenorNum  TenorUnit         ...\n 17/12/2008  2008-12-17  [2008-12-17 00:00:00, 2008-12-18 00:00:00, 200...  [1.0, 0.9999562704055118, 0.9996850953605328, ...     Tenor    Rate\n 0     2Y 1.42255\n 1     3Y 1.9...  SONIA_DC  1.5962     Tenor    Rate  TenorNum  TenorUnit         ...\n 18/12/2008  2008-12-18  [2008-12-18 00:00:00, 2008-12-19 00:00:00, 200...  [1.0, 0.9999597386073464, 0.9995078250951442, ...     Tenor    Rate\n 0     2Y 1.50528\n 1     3Y 2.0...  SONIA_DC  1.4696     Tenor    Rate  TenorNum  TenorUnit         ...\n 19/12/2008  2008-12-19  [2008-12-19 00:00:00, 2008-12-22 00:00:00, 200...  [1.0, 0.9998759386807917, 0.9995557672935866, ...     Tenor    Rate\n 0     2Y  1.6478\n 1     3Y 2.1...  SONIA_DC  1.5096     Tenor    Rate  TenorNum  TenorUnit         ...\n ...                ...                                                ...                                                ...                                                ...       ...     ...                                                ...\n 14/02/2024  2024-02-14  [2024-02-14 00:00:00, 2024-02-15 00:00:00, 202...  [1.0, 0.9998579106032245, 0.9990058386554115, ...     Tenor  Rate\n 0     2Y 4.516\n 1     3Y 4.239\n 2...  SONIA_DC   5.187     Tenor  Rate  TenorNum  TenorUnit           ...\n 15/02/2024  2024-02-15  [2024-02-15 00:00:00, 2024-02-16 00:00:00, 202...  [1.0, 0.9998579106032245, 0.9990058386554115, ...     Tenor  Rate\n 0     2Y 4.494\n 1     3Y 4.214\n 2...  SONIA_DC   5.187     Tenor  Rate  TenorNum  TenorUnit           ...\n 16/02/2024  2024-02-16  [2024-02-16 00:00:00, 2024-02-19 00:00:00, 202...  [1.0, 0.9995738529116251, 0.9990058386554115, ...     Tenor  Rate\n 0     2Y 4.576\n 1     3Y 4.299\n 2...  SONIA_DC   5.187     Tenor  Rate  TenorNum  TenorUnit           ...\n 19/02/2024  2024-02-19  [2024-02-19 00:00:00, 2024-02-20 00:00:00, 202...  [1.0, 0.9998579106032245, 0.9990056472557588, ...     Tenor  Rate\n 0     2Y 4.565\n 1     3Y 4.297\n 2...  SONIA_DC   5.187     Tenor  Rate  TenorNum  TenorUnit           ...\n 20/02/2024  2024-02-20  [2024-02-20 00:00:00, 2024-02-21 00:00:00, 202...  [1.0, 0.9998578558242772, 0.9990060300551441, ...     Tenor  Rate\n 0     2Y 4.495\n 1     3Y 4.225\n 2...  SONIA_DC   5.189     Tenor  Rate  TenorNum  TenorUnit           ...\n \n [3826 rows x 7 columns],\n 'ESTER_DC':               Ref_Date                                              Dates                                              Rates                                         Swap_Rates     Index  Fixing                                              Table\n Date                                                                                                                                                                                                                                                \n 02/01/2007  2007-01-02  [2007-01-04 00:00:00, 2007-01-05 00:00:00, 200...  [1.0, 0.9999022317817813, 0.9993199072851097, ...     Tenor  Rate\n 0     2Y  3.96\n 1     3Y 3.954\n 2...  ESTER_DC    3.52     Tenor   Rate  TenorNum  TenorUnit          ...\n 03/01/2007  2007-01-03  [2007-01-05 00:00:00, 2007-01-08 00:00:00, 200...  [1.0, 0.9997067526858787, 0.9993204898260657, ...     Tenor  Rate\n 0     2Y 3.969\n 1     3Y 3.966\n 2...  ESTER_DC    3.52     Tenor   Rate  TenorNum  TenorUnit          ...\n 04/01/2007  2007-01-04  [2007-01-08 00:00:00, 2007-01-09 00:00:00, 200...  [1.0, 0.9999022317817813, 0.9993208781864767, ...     Tenor  Rate\n 0     2Y 3.959\n 1     3Y 3.953\n 2...  ESTER_DC    3.52     Tenor   Rate  TenorNum  TenorUnit          ...\n 05/01/2007  2007-01-05  [2007-01-09 00:00:00, 2007-01-10 00:00:00, 200...  [1.0, 0.9999025095053231, 0.9993233442840943, ...     Tenor  Rate\n 0     2Y 3.998\n 1     3Y 3.996\n 2...  ESTER_DC    3.51     Tenor   Rate  TenorNum  TenorUnit          ...\n 08/01/2007  2007-01-08  [2007-01-10 00:00:00, 2007-01-11 00:00:00, 200...  [1.0, 0.9999027872290194, 0.9993268978161597, ...     Tenor  Rate\n 0     2Y  3.99\n 1     3Y 3.992\n 2...  ESTER_DC     3.5     Tenor   Rate  TenorNum  TenorUnit          ...\n ...                ...                                                ...                                                ...                                                ...       ...     ...                                                ...\n 14/02/2024  2024-02-14  [2024-02-16 00:00:00, 2024-02-19 00:00:00, 202...  [1.0, 0.9996747724740218, 0.9992412705519296, ...     Tenor  Rate\n 0     2Y 2.881\n 1     3Y 2.655\n 2...  ESTER_DC   3.904     Tenor  Rate  TenorNum  TenorUnit           ...\n 15/02/2024  2024-02-15  [2024-02-19 00:00:00, 2024-02-20 00:00:00, 202...  [1.0, 0.9998915673144779, 0.9992412705519297, ...     Tenor  Rate\n 0     2Y 2.875\n 1     3Y  2.65\n 2...  ESTER_DC   3.904     Tenor  Rate  TenorNum  TenorUnit           ...\n 16/02/2024  2024-02-16  [2024-02-20 00:00:00, 2024-02-21 00:00:00, 202...  [1.0, 0.9998915395427246, 0.9992410764024724, ...     Tenor  Rate\n 0     2Y 2.946\n 1     3Y 2.721\n 2...  ESTER_DC   3.905     Tenor  Rate  TenorNum  TenorUnit           ...\n 19/02/2024  2024-02-19  [2024-02-21 00:00:00, 2024-02-22 00:00:00, 202...  [1.0, 0.9998914839992228, 0.9992404939545534, ...     Tenor  Rate\n 0     2Y 2.935\n 1     3Y 2.711\n 2...  ESTER_DC   3.907     Tenor  Rate  TenorNum  TenorUnit           ...\n 20/02/2024  2024-02-20  [2024-02-22 00:00:00, 2024-02-23 00:00:00, 202...  [1.0, 0.9998914839992228, 0.9992406881037842, ...     Tenor  Rate\n 0     2Y 2.909\n 1     3Y 2.686\n 2...  ESTER_DC   3.907     Tenor  Rate  TenorNum  TenorUnit           ...\n \n [4406 rows x 7 columns],\n 'USD_3M':               Ref_Date                                              Dates                                              Rates                                         Swap_Rates   Index  Fixing                                              Table\n 01/05/1991  1991-05-01  [1991-05-03 00:00:00, 1991-05-06 00:00:00, 199...  [1.0, 0.999508574950807, 0.9988537043904671, 0...     Tenor  Rate\n 0     2Y  7.29\n 1     3Y  7.79\n 2...  USD_3M     5.9     Tenor  Rate  TenorNum  TenorUnit           ...\n 02/05/1991  1991-05-02  [1991-05-06 00:00:00, 1991-05-07 00:00:00, 199...  [1.0, 0.9998361101975991, 0.998853122394051, 0...     Tenor  Rate\n 0     2Y 7.314\n 1     3Y 7.825\n 2...  USD_3M   5.901     Tenor  Rate  TenorNum  TenorUnit           ...\n 03/05/1991  1991-05-03  [1991-05-07 00:00:00, 1991-05-08 00:00:00, 199...  [1.0, 0.9998357214363206, 0.9988506004174197, ...     Tenor  Rate\n 0     2Y 7.287\n 1     3Y 7.792\n 2...  USD_3M   5.915     Tenor  Rate  TenorNum  TenorUnit           ...\n 07/05/1991  1991-05-07  [1991-05-09 00:00:00, 1991-05-10 00:00:00, 199...  [1.0, 0.9998362490409861, 0.9988540923884544, ...     Tenor  Rate\n 0     2Y  7.31\n 1     3Y  7.82\n 2...  USD_3M   5.896     Tenor  Rate  TenorNum  TenorUnit           ...\n 08/05/1991  1991-05-08  [1991-05-10 00:00:00, 1991-05-13 00:00:00, 199...  [1.0, 0.999508574950807, 0.9988537043904671, 0...     Tenor  Rate\n 0     2Y  7.32\n 1     3Y  7.82\n 2...  USD_3M     5.9     Tenor  Rate  TenorNum  TenorUnit           ...\n ...                ...                                                ...                                                ...                                                ...     ...     ...                                                ...\n 21/12/2012  2012-12-21  [2012-12-26 00:00:00, 2012-12-27 00:00:00, 201...  [1.0, 0.9999920833960064, 0.999935253742418, 0...     Tenor  Rate\n 0     2Y 0.401\n 1     3Y 0.501\n 2...  USD_3M   0.285     Tenor  Rate  TenorNum  TenorUnit           ...\n 24/12/2012  2012-12-24  [2012-12-27 00:00:00, 2012-12-28 00:00:00, 201...  [1.0, 0.9999921111733451, 0.9999361147509188, ...     Tenor  Rate\n 0     2Y 0.411\n 1     3Y 0.513\n 2...  USD_3M   0.284     Tenor  Rate  TenorNum  TenorUnit           ...\n 27/12/2012  2012-12-27  [2012-12-31 00:00:00, 2013-01-02 00:00:00, 201...  [1.0, 0.9999817225562933, 0.9999368095488494, ...     Tenor  Rate\n 0     2Y 0.405\n 1     3Y 0.498\n 2...  USD_3M   0.329     Tenor  Rate  TenorNum  TenorUnit           ...\n 28/12/2012  2012-12-28  [2013-01-02 00:00:00, 2013-01-03 00:00:00, 201...  [1.0, 0.9999908334173604, 0.999936809548857, 0...     Tenor  Rate\n 0     2Y 0.395\n 1     3Y  0.49\n 2...  USD_3M    0.33     Tenor  Rate  TenorNum  TenorUnit           ...\n 31/12/2012  2012-12-31  [2013-01-03 00:00:00, 2013-01-04 00:00:00, 201...  [1.0, 0.9999905278675, 0.9999356430310389, 0.9...     Tenor  Rate\n 0     2Y 0.386\n 1     3Y 0.483\n 2...  USD_3M   0.341     Tenor  Rate  TenorNum  TenorUnit           ...\n \n [5180 rows x 7 columns],\n 'GBP_6M':               Ref_Date                                              Dates                                              Rates                                         Swap_Rates   Index  Fixing                                              Table\n Date                                                                                                                                                                                                                                              \n 02/01/1990  1990-01-02  [1990-01-02 00:00:00, 1990-01-03 00:00:00, 199...  [1.0, 0.9995866366933961, 0.9971101834617178, ...     Tenor   Rate\n 0     2Y 13.407\n 1     3Y  12.9...  GBP_6M  15.094     Tenor   Rate  TenorNum  TenorUnit          ...\n 03/01/1990  1990-01-03  [1990-01-03 00:00:00, 1990-01-04 00:00:00, 199...  [1.0, 0.9995884981706815, 0.9971231494623678, ...     Tenor   Rate\n 0     2Y   13.4\n 1     3Y 12.97...  GBP_6M  15.026     Tenor   Rate  TenorNum  TenorUnit          ...\n 04/01/1990  1990-01-04  [1990-01-04 00:00:00, 1990-01-05 00:00:00, 199...  [1.0, 0.9995884160465375, 0.997122577425817, 0...     Tenor   Rate\n 0     2Y 13.358\n 1     3Y  12.9...  GBP_6M  15.029     Tenor   Rate  TenorNum  TenorUnit          ...\n 05/01/1990  1990-01-05  [1990-01-05 00:00:00, 1990-01-08 00:00:00, 199...  [1.0, 0.9987655258100989, 0.9971220053899226, ...     Tenor   Rate\n 0     2Y 13.376\n 1     3Y 12.96...  GBP_6M  15.038     Tenor   Rate  TenorNum  TenorUnit          ...\n 08/01/1990  1990-01-08  [1990-01-08 00:00:00, 1990-01-09 00:00:00, 199...  [1.0, 0.9995866366933961, 0.9971101834617178, ...     Tenor   Rate\n 0     2Y 13.395\n 1     3Y 12.99...  GBP_6M  15.094     Tenor   Rate  TenorNum  TenorUnit          ...\n ...                ...                                                ...                                                ...                                                ...     ...     ...                                                ...\n 21/12/2012  2012-12-21  [2012-12-21 00:00:00, 2012-12-24 00:00:00, 201...  [1.0, 0.9999595632790302, 0.9999056527378622, ...     Tenor  Rate\n 0     2Y  0.71\n 1     3Y 0.782\n 2...  GBP_6M   0.492     Tenor  Rate  TenorNum  TenorUnit           ...\n 24/12/2012  2012-12-24  [2012-12-24 00:00:00, 2012-12-27 00:00:00, 201...  [1.0, 0.9999595632790302, 0.9999056527378622, ...     Tenor  Rate\n 0     2Y  0.71\n 1     3Y 0.783\n 2...  GBP_6M   0.492     Tenor  Rate  TenorNum  TenorUnit           ...\n 27/12/2012  2012-12-27  [2012-12-27 00:00:00, 2012-12-28 00:00:00, 201...  [1.0, 0.9999865207296385, 0.9999056527378621, ...     Tenor  Rate\n 0     2Y  0.71\n 1     3Y 0.775\n 2...  GBP_6M   0.492     Tenor  Rate  TenorNum  TenorUnit           ...\n 28/12/2012  2012-12-28  [2012-12-28 00:00:00, 2012-12-31 00:00:00, 201...  [1.0, 0.9999595632790302, 0.9999056527378622, ...     Tenor  Rate\n 0     2Y 0.705\n 1     3Y 0.768\n 2...  GBP_6M   0.492     Tenor  Rate  TenorNum  TenorUnit           ...\n 31/12/2012  2012-12-31  [2012-12-31 00:00:00, 2013-01-02 00:00:00, 201...  [1.0, 0.9999730966142225, 0.9999058444825347, ...     Tenor  Rate\n 0     2Y 0.705\n 1     3Y 0.768\n 2...  GBP_6M   0.491     Tenor  Rate  TenorNum  TenorUnit           ...\n \n [5638 rows x 7 columns],\n 'EUR_6M':               Ref_Date                                              Dates                                              Rates                                         Swap_Rates   Index  Fixing                                              Table\n Date                                                                                                                                                                                                                                              \n 02/07/1990  1990-07-02  [1990-07-04 00:00:00, 1990-07-11 00:00:00, 199...  [1.0, 0.9984406575685807, 0.9968838518440083, ...     Tenor  Rate\n 0     2Y 9.003\n 1     3Y 8.989\n 2...  EUR_6M   8.026     Tenor  Rate  TenorNum  TenorUnit           ...\n 03/07/1990  1990-07-03  [1990-07-05 00:00:00, 1990-07-12 00:00:00, 199...  [1.0, 0.9984406575685807, 0.9968838518440083, ...     Tenor  Rate\n 0     2Y  8.95\n 1     3Y 8.931\n 2...  EUR_6M   8.026     Tenor  Rate  TenorNum  TenorUnit           ...\n 05/07/1990  1990-07-05  [1990-07-09 00:00:00, 1990-07-16 00:00:00, 199...  [1.0, 0.9984391068629388, 0.9968803736351945, ...     Tenor  Rate\n 0     2Y 8.942\n 1     3Y 8.944\n 2...  EUR_6M   8.035     Tenor  Rate  TenorNum  TenorUnit           ...\n 06/07/1990  1990-07-06  [1990-07-10 00:00:00, 1990-07-17 00:00:00, 199...  [1.0, 0.9984373623248491, 0.9968768954506526, ...     Tenor  Rate\n 0     2Y 8.987\n 1     3Y 8.986\n 2...  EUR_6M   8.044     Tenor  Rate  TenorNum  TenorUnit           ...\n 09/07/1990  1990-07-09  [1990-07-11 00:00:00, 1990-07-18 00:00:00, 199...  [1.0, 0.9984298027302407, 0.9968618235981007, ...     Tenor  Rate\n 0     2Y   9.0\n 1     3Y 9.007\n 2...  EUR_6M   8.083     Tenor  Rate  TenorNum  TenorUnit           ...\n ...                ...                                                ...                                                ...                                                ...     ...     ...                                                ...\n 19/12/2012  2012-12-19  [2012-12-21 00:00:00, 2012-12-28 00:00:00, 201...  [1.0, 0.999982305868643, 0.9999646123634403, 0...     Tenor  Rate\n 0     2Y 0.377\n 1     3Y 0.492\n 2...  EUR_6M   0.091     Tenor  Rate  TenorNum  TenorUnit           ...\n 20/12/2012  2012-12-20  [2012-12-24 00:00:00, 2012-12-31 00:00:00, 201...  [1.0, 0.9999793893136977, 0.9999646123634403, ...     Tenor  Rate\n 0     2Y  0.38\n 1     3Y  0.49\n 2...  EUR_6M   0.091     Tenor  Rate  TenorNum  TenorUnit           ...\n 21/12/2012  2012-12-21  [2012-12-27 00:00:00, 2013-01-03 00:00:00, 201...  [1.0, 0.9999823336454386, 0.9999646123634401, ...     Tenor  Rate\n 0     2Y 0.378\n 1     3Y 0.481\n 2...  EUR_6M   0.091     Tenor  Rate  TenorNum  TenorUnit           ...\n 27/12/2012  2012-12-27  [2012-12-31 00:00:00, 2013-01-07 00:00:00, 201...  [1.0, 0.9999821114311175, 0.9999642235022258, ...     Tenor  Rate\n 0     2Y 0.398\n 1     3Y 0.497\n 2...  EUR_6M   0.092     Tenor  Rate  TenorNum  TenorUnit           ...\n 28/12/2012  2012-12-28  [2013-01-02 00:00:00, 2013-01-09 00:00:00, 201...  [1.0, 0.9999828891816738, 0.9999657789488982, ...     Tenor  Rate\n 0     2Y 0.377\n 1     3Y 0.472\n 2...  EUR_6M   0.088     Tenor  Rate  TenorNum  TenorUnit           ...\n \n [5383 rows x 7 columns]}"
     },
     "execution_count": 6,
     "metadata": {},
     "output_type": "execute_result"
    }
   ],
   "source": [
    "hist\n"
   ],
   "metadata": {
    "collapsed": false,
    "ExecuteTime": {
     "end_time": "2024-02-22T10:57:39.688802100Z",
     "start_time": "2024-02-22T10:57:38.188792400Z"
    }
   }
  },
  {
   "cell_type": "code",
   "execution_count": 4,
   "outputs": [
    {
     "data": {
      "text/plain": "              Ref_Date                                              Dates                                              Rates                                         Swap_Rates   Index  Fixing                                              Table\n03/12/2012  2012-12-03  [2012-12-05 00:00:00, 2012-12-06 00:00:00, 201...  [1.0, 0.9999917222907432, 0.9999416700692461, ...     Tenor  Rate\n0     2Y 0.371\n1     3Y 0.445\n2...  USD_3M   0.298     Tenor  Rate  TenorNum  TenorUnit           ...\n04/12/2012  2012-12-04  [2012-12-06 00:00:00, 2012-12-07 00:00:00, 201...  [1.0, 0.9999918334000273, 0.9999422533348697, ...     Tenor  Rate\n0     2Y 0.367\n1     3Y 0.441\n2...  USD_3M   0.294     Tenor  Rate  TenorNum  TenorUnit           ...\n05/12/2012  2012-12-05  [2012-12-07 00:00:00, 2012-12-10 00:00:00, 201...  [1.0, 0.9999765005522371, 0.9999440031358242, ...     Tenor  Rate\n0     2Y 0.362\n1     3Y 0.433\n2...  USD_3M   0.282     Tenor  Rate  TenorNum  TenorUnit           ...\n06/12/2012  2012-12-06  [2012-12-10 00:00:00, 2012-12-11 00:00:00, 201...  [1.0, 0.9999908056400926, 0.9999362262895736, ...     Tenor  Rate\n0     2Y 0.359\n1     3Y 0.429\n2...  USD_3M   0.331     Tenor  Rate  TenorNum  TenorUnit           ...\n07/12/2012  2012-12-07  [2012-12-11 00:00:00, 2012-12-12 00:00:00, 201...  [1.0, 0.9999921667280273, 0.9999434198681582, ...     Tenor  Rate\n0     2Y 0.353\n1     3Y 0.428\n2...  USD_3M   0.282     Tenor  Rate  TenorNum  TenorUnit           ...\n10/12/2012  2012-12-10  [2012-12-12 00:00:00, 2012-12-13 00:00:00, 201...  [1.0, 0.9999917222907432, 0.9999410868043023, ...     Tenor  Rate\n0     2Y 0.355\n1     3Y 0.427\n2...  USD_3M   0.298     Tenor  Rate  TenorNum  TenorUnit           ...\n11/12/2012  2012-12-11  [2012-12-13 00:00:00, 2012-12-14 00:00:00, 201...  [1.0, 0.9999916945134261, 0.9999410868043024, ...     Tenor  Rate\n0     2Y 0.355\n1     3Y  0.43\n2...  USD_3M   0.299     Tenor  Rate  TenorNum  TenorUnit           ...\n12/12/2012  2012-12-12  [2012-12-14 00:00:00, 2012-12-17 00:00:00, 201...  [1.0, 0.9999755006002352, 0.9999416700692457, ...     Tenor  Rate\n0     2Y 0.355\n1     3Y  0.44\n2...  USD_3M   0.294     Tenor  Rate  TenorNum  TenorUnit           ...\n13/12/2012  2012-12-13  [2012-12-17 00:00:00, 2012-12-18 00:00:00, 201...  [1.0, 0.9999936944842043, 0.9999508079755229, ...     Tenor  Rate\n0     2Y 0.362\n1     3Y 0.456\n2...  USD_3M   0.227     Tenor  Rate  TenorNum  TenorUnit           ...\n14/12/2012  2012-12-14  [2012-12-18 00:00:00, 2012-12-19 00:00:00, 201...  [1.0, 0.9999905556447524, 0.999918506641485, 0...     Tenor  Rate\n0     2Y 0.361\n1     3Y 0.456\n2...  USD_3M    0.34     Tenor  Rate  TenorNum  TenorUnit           ...\n17/12/2012  2012-12-17  [2012-12-19 00:00:00, 2012-12-20 00:00:00, 201...  [1.0, 0.9999916389587965, 0.9999326712001391, ...     Tenor  Rate\n0     2Y 0.372\n1     3Y 0.476\n2...  USD_3M   0.301     Tenor  Rate  TenorNum  TenorUnit           ...\n18/12/2012  2012-12-18  [2012-12-20 00:00:00, 2012-12-21 00:00:00, 201...  [1.0, 0.9999917222907432, 0.9999410868043023, ...     Tenor  Rate\n0     2Y 0.392\n1     3Y   0.5\n2...  USD_3M   0.298     Tenor  Rate  TenorNum  TenorUnit           ...\n19/12/2012  2012-12-19  [2012-12-21 00:00:00, 2012-12-24 00:00:00, 201...  [1.0, 0.9999755839294923, 0.9999424477568957, ...     Tenor  Rate\n0     2Y 0.399\n1     3Y 0.502\n2...  USD_3M   0.293     Tenor  Rate  TenorNum  TenorUnit           ...\n20/12/2012  2012-12-20  [2012-12-24 00:00:00, 2012-12-26 00:00:00, 201...  [1.0, 0.9999842224711566, 0.9999436142906383, ...     Tenor  Rate\n0     2Y 0.401\n1     3Y 0.505\n2...  USD_3M   0.284     Tenor  Rate  TenorNum  TenorUnit           ...\n21/12/2012  2012-12-21  [2012-12-26 00:00:00, 2012-12-27 00:00:00, 201...  [1.0, 0.9999920833960064, 0.999935253742418, 0...     Tenor  Rate\n0     2Y 0.401\n1     3Y 0.501\n2...  USD_3M   0.285     Tenor  Rate  TenorNum  TenorUnit           ...\n24/12/2012  2012-12-24  [2012-12-27 00:00:00, 2012-12-28 00:00:00, 201...  [1.0, 0.9999921111733451, 0.9999361147509188, ...     Tenor  Rate\n0     2Y 0.411\n1     3Y 0.513\n2...  USD_3M   0.284     Tenor  Rate  TenorNum  TenorUnit           ...\n27/12/2012  2012-12-27  [2012-12-31 00:00:00, 2013-01-02 00:00:00, 201...  [1.0, 0.9999817225562933, 0.9999368095488494, ...     Tenor  Rate\n0     2Y 0.405\n1     3Y 0.498\n2...  USD_3M   0.329     Tenor  Rate  TenorNum  TenorUnit           ...\n28/12/2012  2012-12-28  [2013-01-02 00:00:00, 2013-01-03 00:00:00, 201...  [1.0, 0.9999908334173604, 0.999936809548857, 0...     Tenor  Rate\n0     2Y 0.395\n1     3Y  0.49\n2...  USD_3M    0.33     Tenor  Rate  TenorNum  TenorUnit           ...\n31/12/2012  2012-12-31  [2013-01-03 00:00:00, 2013-01-04 00:00:00, 201...  [1.0, 0.9999905278675, 0.9999356430310389, 0.9...     Tenor  Rate\n0     2Y 0.386\n1     3Y 0.483\n2...  USD_3M   0.341     Tenor  Rate  TenorNum  TenorUnit           ...",
      "text/html": "<div>\n<style scoped>\n    .dataframe tbody tr th:only-of-type {\n        vertical-align: middle;\n    }\n\n    .dataframe tbody tr th {\n        vertical-align: top;\n    }\n\n    .dataframe thead th {\n        text-align: right;\n    }\n</style>\n<table border=\"1\" class=\"dataframe\">\n  <thead>\n    <tr style=\"text-align: right;\">\n      <th></th>\n      <th>Ref_Date</th>\n      <th>Dates</th>\n      <th>Rates</th>\n      <th>Swap_Rates</th>\n      <th>Index</th>\n      <th>Fixing</th>\n      <th>Table</th>\n    </tr>\n  </thead>\n  <tbody>\n    <tr>\n      <th>03/12/2012</th>\n      <td>2012-12-03</td>\n      <td>[2012-12-05 00:00:00, 2012-12-06 00:00:00, 201...</td>\n      <td>[1.0, 0.9999917222907432, 0.9999416700692461, ...</td>\n      <td>Tenor  Rate\n0     2Y 0.371\n1     3Y 0.445\n2...</td>\n      <td>USD_3M</td>\n      <td>0.298</td>\n      <td>Tenor  Rate  TenorNum  TenorUnit           ...</td>\n    </tr>\n    <tr>\n      <th>04/12/2012</th>\n      <td>2012-12-04</td>\n      <td>[2012-12-06 00:00:00, 2012-12-07 00:00:00, 201...</td>\n      <td>[1.0, 0.9999918334000273, 0.9999422533348697, ...</td>\n      <td>Tenor  Rate\n0     2Y 0.367\n1     3Y 0.441\n2...</td>\n      <td>USD_3M</td>\n      <td>0.294</td>\n      <td>Tenor  Rate  TenorNum  TenorUnit           ...</td>\n    </tr>\n    <tr>\n      <th>05/12/2012</th>\n      <td>2012-12-05</td>\n      <td>[2012-12-07 00:00:00, 2012-12-10 00:00:00, 201...</td>\n      <td>[1.0, 0.9999765005522371, 0.9999440031358242, ...</td>\n      <td>Tenor  Rate\n0     2Y 0.362\n1     3Y 0.433\n2...</td>\n      <td>USD_3M</td>\n      <td>0.282</td>\n      <td>Tenor  Rate  TenorNum  TenorUnit           ...</td>\n    </tr>\n    <tr>\n      <th>06/12/2012</th>\n      <td>2012-12-06</td>\n      <td>[2012-12-10 00:00:00, 2012-12-11 00:00:00, 201...</td>\n      <td>[1.0, 0.9999908056400926, 0.9999362262895736, ...</td>\n      <td>Tenor  Rate\n0     2Y 0.359\n1     3Y 0.429\n2...</td>\n      <td>USD_3M</td>\n      <td>0.331</td>\n      <td>Tenor  Rate  TenorNum  TenorUnit           ...</td>\n    </tr>\n    <tr>\n      <th>07/12/2012</th>\n      <td>2012-12-07</td>\n      <td>[2012-12-11 00:00:00, 2012-12-12 00:00:00, 201...</td>\n      <td>[1.0, 0.9999921667280273, 0.9999434198681582, ...</td>\n      <td>Tenor  Rate\n0     2Y 0.353\n1     3Y 0.428\n2...</td>\n      <td>USD_3M</td>\n      <td>0.282</td>\n      <td>Tenor  Rate  TenorNum  TenorUnit           ...</td>\n    </tr>\n    <tr>\n      <th>10/12/2012</th>\n      <td>2012-12-10</td>\n      <td>[2012-12-12 00:00:00, 2012-12-13 00:00:00, 201...</td>\n      <td>[1.0, 0.9999917222907432, 0.9999410868043023, ...</td>\n      <td>Tenor  Rate\n0     2Y 0.355\n1     3Y 0.427\n2...</td>\n      <td>USD_3M</td>\n      <td>0.298</td>\n      <td>Tenor  Rate  TenorNum  TenorUnit           ...</td>\n    </tr>\n    <tr>\n      <th>11/12/2012</th>\n      <td>2012-12-11</td>\n      <td>[2012-12-13 00:00:00, 2012-12-14 00:00:00, 201...</td>\n      <td>[1.0, 0.9999916945134261, 0.9999410868043024, ...</td>\n      <td>Tenor  Rate\n0     2Y 0.355\n1     3Y  0.43\n2...</td>\n      <td>USD_3M</td>\n      <td>0.299</td>\n      <td>Tenor  Rate  TenorNum  TenorUnit           ...</td>\n    </tr>\n    <tr>\n      <th>12/12/2012</th>\n      <td>2012-12-12</td>\n      <td>[2012-12-14 00:00:00, 2012-12-17 00:00:00, 201...</td>\n      <td>[1.0, 0.9999755006002352, 0.9999416700692457, ...</td>\n      <td>Tenor  Rate\n0     2Y 0.355\n1     3Y  0.44\n2...</td>\n      <td>USD_3M</td>\n      <td>0.294</td>\n      <td>Tenor  Rate  TenorNum  TenorUnit           ...</td>\n    </tr>\n    <tr>\n      <th>13/12/2012</th>\n      <td>2012-12-13</td>\n      <td>[2012-12-17 00:00:00, 2012-12-18 00:00:00, 201...</td>\n      <td>[1.0, 0.9999936944842043, 0.9999508079755229, ...</td>\n      <td>Tenor  Rate\n0     2Y 0.362\n1     3Y 0.456\n2...</td>\n      <td>USD_3M</td>\n      <td>0.227</td>\n      <td>Tenor  Rate  TenorNum  TenorUnit           ...</td>\n    </tr>\n    <tr>\n      <th>14/12/2012</th>\n      <td>2012-12-14</td>\n      <td>[2012-12-18 00:00:00, 2012-12-19 00:00:00, 201...</td>\n      <td>[1.0, 0.9999905556447524, 0.999918506641485, 0...</td>\n      <td>Tenor  Rate\n0     2Y 0.361\n1     3Y 0.456\n2...</td>\n      <td>USD_3M</td>\n      <td>0.34</td>\n      <td>Tenor  Rate  TenorNum  TenorUnit           ...</td>\n    </tr>\n    <tr>\n      <th>17/12/2012</th>\n      <td>2012-12-17</td>\n      <td>[2012-12-19 00:00:00, 2012-12-20 00:00:00, 201...</td>\n      <td>[1.0, 0.9999916389587965, 0.9999326712001391, ...</td>\n      <td>Tenor  Rate\n0     2Y 0.372\n1     3Y 0.476\n2...</td>\n      <td>USD_3M</td>\n      <td>0.301</td>\n      <td>Tenor  Rate  TenorNum  TenorUnit           ...</td>\n    </tr>\n    <tr>\n      <th>18/12/2012</th>\n      <td>2012-12-18</td>\n      <td>[2012-12-20 00:00:00, 2012-12-21 00:00:00, 201...</td>\n      <td>[1.0, 0.9999917222907432, 0.9999410868043023, ...</td>\n      <td>Tenor  Rate\n0     2Y 0.392\n1     3Y   0.5\n2...</td>\n      <td>USD_3M</td>\n      <td>0.298</td>\n      <td>Tenor  Rate  TenorNum  TenorUnit           ...</td>\n    </tr>\n    <tr>\n      <th>19/12/2012</th>\n      <td>2012-12-19</td>\n      <td>[2012-12-21 00:00:00, 2012-12-24 00:00:00, 201...</td>\n      <td>[1.0, 0.9999755839294923, 0.9999424477568957, ...</td>\n      <td>Tenor  Rate\n0     2Y 0.399\n1     3Y 0.502\n2...</td>\n      <td>USD_3M</td>\n      <td>0.293</td>\n      <td>Tenor  Rate  TenorNum  TenorUnit           ...</td>\n    </tr>\n    <tr>\n      <th>20/12/2012</th>\n      <td>2012-12-20</td>\n      <td>[2012-12-24 00:00:00, 2012-12-26 00:00:00, 201...</td>\n      <td>[1.0, 0.9999842224711566, 0.9999436142906383, ...</td>\n      <td>Tenor  Rate\n0     2Y 0.401\n1     3Y 0.505\n2...</td>\n      <td>USD_3M</td>\n      <td>0.284</td>\n      <td>Tenor  Rate  TenorNum  TenorUnit           ...</td>\n    </tr>\n    <tr>\n      <th>21/12/2012</th>\n      <td>2012-12-21</td>\n      <td>[2012-12-26 00:00:00, 2012-12-27 00:00:00, 201...</td>\n      <td>[1.0, 0.9999920833960064, 0.999935253742418, 0...</td>\n      <td>Tenor  Rate\n0     2Y 0.401\n1     3Y 0.501\n2...</td>\n      <td>USD_3M</td>\n      <td>0.285</td>\n      <td>Tenor  Rate  TenorNum  TenorUnit           ...</td>\n    </tr>\n    <tr>\n      <th>24/12/2012</th>\n      <td>2012-12-24</td>\n      <td>[2012-12-27 00:00:00, 2012-12-28 00:00:00, 201...</td>\n      <td>[1.0, 0.9999921111733451, 0.9999361147509188, ...</td>\n      <td>Tenor  Rate\n0     2Y 0.411\n1     3Y 0.513\n2...</td>\n      <td>USD_3M</td>\n      <td>0.284</td>\n      <td>Tenor  Rate  TenorNum  TenorUnit           ...</td>\n    </tr>\n    <tr>\n      <th>27/12/2012</th>\n      <td>2012-12-27</td>\n      <td>[2012-12-31 00:00:00, 2013-01-02 00:00:00, 201...</td>\n      <td>[1.0, 0.9999817225562933, 0.9999368095488494, ...</td>\n      <td>Tenor  Rate\n0     2Y 0.405\n1     3Y 0.498\n2...</td>\n      <td>USD_3M</td>\n      <td>0.329</td>\n      <td>Tenor  Rate  TenorNum  TenorUnit           ...</td>\n    </tr>\n    <tr>\n      <th>28/12/2012</th>\n      <td>2012-12-28</td>\n      <td>[2013-01-02 00:00:00, 2013-01-03 00:00:00, 201...</td>\n      <td>[1.0, 0.9999908334173604, 0.999936809548857, 0...</td>\n      <td>Tenor  Rate\n0     2Y 0.395\n1     3Y  0.49\n2...</td>\n      <td>USD_3M</td>\n      <td>0.33</td>\n      <td>Tenor  Rate  TenorNum  TenorUnit           ...</td>\n    </tr>\n    <tr>\n      <th>31/12/2012</th>\n      <td>2012-12-31</td>\n      <td>[2013-01-03 00:00:00, 2013-01-04 00:00:00, 201...</td>\n      <td>[1.0, 0.9999905278675, 0.9999356430310389, 0.9...</td>\n      <td>Tenor  Rate\n0     2Y 0.386\n1     3Y 0.483\n2...</td>\n      <td>USD_3M</td>\n      <td>0.341</td>\n      <td>Tenor  Rate  TenorNum  TenorUnit           ...</td>\n    </tr>\n  </tbody>\n</table>\n</div>"
     },
     "execution_count": 4,
     "metadata": {},
     "output_type": "execute_result"
    }
   ],
   "source": [
    "hist['USD_3M'].loc['03/12/2012':,:]\n"
   ],
   "metadata": {
    "collapsed": false,
    "ExecuteTime": {
     "end_time": "2024-02-22T11:16:12.464426800Z",
     "start_time": "2024-02-22T11:16:11.581793900Z"
    }
   }
  },
  {
   "cell_type": "code",
   "execution_count": 4,
   "outputs": [],
   "source": [
    "d1 = datetime.date(2010,1,1)\n",
    "feeder = hist['USD_3M'][ hist['USD_3M']['Ref_Date'] > d1 ]"
   ],
   "metadata": {
    "collapsed": false,
    "ExecuteTime": {
     "end_time": "2024-02-22T12:17:03.582018500Z",
     "start_time": "2024-02-22T12:17:03.498018700Z"
    }
   }
  },
  {
   "cell_type": "code",
   "execution_count": 13,
   "outputs": [],
   "source": [
    "a = [ [ libor_from_nodes( hist['USD_3M'].iloc[1000], hist['SOFR_DC']), 0, 2] ]\n"
   ],
   "metadata": {
    "collapsed": false,
    "ExecuteTime": {
     "end_time": "2024-02-22T12:12:12.460414500Z",
     "start_time": "2024-02-22T12:12:12.215516600Z"
    }
   }
  },
  {
   "cell_type": "code",
   "execution_count": 14,
   "outputs": [
    {
     "data": {
      "text/plain": "   Tenor  SwapRate\n0     2Y     5.829\n1     3Y     5.948\n2     4Y     6.071\n3     5Y     6.184\n4     6Y     6.265\n5     7Y      6.34\n6     8Y     6.421\n7     9Y     6.499\n8    10Y     6.567\n9    12Y      6.69\n10   15Y     6.821\n11   20Y     6.925\n12   25Y     6.978\n13   30Y     7.008",
      "text/html": "<div>\n<style scoped>\n    .dataframe tbody tr th:only-of-type {\n        vertical-align: middle;\n    }\n\n    .dataframe tbody tr th {\n        vertical-align: top;\n    }\n\n    .dataframe thead th {\n        text-align: right;\n    }\n</style>\n<table border=\"1\" class=\"dataframe\">\n  <thead>\n    <tr style=\"text-align: right;\">\n      <th></th>\n      <th>Tenor</th>\n      <th>SwapRate</th>\n    </tr>\n  </thead>\n  <tbody>\n    <tr>\n      <th>0</th>\n      <td>2Y</td>\n      <td>5.829</td>\n    </tr>\n    <tr>\n      <th>1</th>\n      <td>3Y</td>\n      <td>5.948</td>\n    </tr>\n    <tr>\n      <th>2</th>\n      <td>4Y</td>\n      <td>6.071</td>\n    </tr>\n    <tr>\n      <th>3</th>\n      <td>5Y</td>\n      <td>6.184</td>\n    </tr>\n    <tr>\n      <th>4</th>\n      <td>6Y</td>\n      <td>6.265</td>\n    </tr>\n    <tr>\n      <th>5</th>\n      <td>7Y</td>\n      <td>6.34</td>\n    </tr>\n    <tr>\n      <th>6</th>\n      <td>8Y</td>\n      <td>6.421</td>\n    </tr>\n    <tr>\n      <th>7</th>\n      <td>9Y</td>\n      <td>6.499</td>\n    </tr>\n    <tr>\n      <th>8</th>\n      <td>10Y</td>\n      <td>6.567</td>\n    </tr>\n    <tr>\n      <th>9</th>\n      <td>12Y</td>\n      <td>6.69</td>\n    </tr>\n    <tr>\n      <th>10</th>\n      <td>15Y</td>\n      <td>6.821</td>\n    </tr>\n    <tr>\n      <th>11</th>\n      <td>20Y</td>\n      <td>6.925</td>\n    </tr>\n    <tr>\n      <th>12</th>\n      <td>25Y</td>\n      <td>6.978</td>\n    </tr>\n    <tr>\n      <th>13</th>\n      <td>30Y</td>\n      <td>7.008</td>\n    </tr>\n  </tbody>\n</table>\n</div>"
     },
     "execution_count": 14,
     "metadata": {},
     "output_type": "execute_result"
    }
   ],
   "source": [
    "a[0][0].rates"
   ],
   "metadata": {
    "collapsed": false,
    "ExecuteTime": {
     "end_time": "2024-02-22T12:12:13.206641200Z",
     "start_time": "2024-02-22T12:12:13.105094Z"
    }
   }
  },
  {
   "cell_type": "code",
   "execution_count": 5,
   "outputs": [
    {
     "ename": "RuntimeError",
     "evalue": "2nd leg: Missing USDLibor3M Actual/360 fixing for March 31st, 2010",
     "output_type": "error",
     "traceback": [
      "\u001B[1;31m---------------------------------------------------------------------------\u001B[0m",
      "\u001B[1;31mRuntimeError\u001B[0m                              Traceback (most recent call last)",
      "Cell \u001B[1;32mIn[5], line 1\u001B[0m\n\u001B[1;32m----> 1\u001B[0m [Swap_Pricer([[ libor_from_nodes( feeder\u001B[38;5;241m.\u001B[39miloc[i], hist[\u001B[38;5;124m'\u001B[39m\u001B[38;5;124mSOFR_DC\u001B[39m\u001B[38;5;124m'\u001B[39m]), \u001B[38;5;241m0\u001B[39m, \u001B[38;5;241m2\u001B[39m] ])\u001B[38;5;241m.\u001B[39mrate \u001B[38;5;28;01mfor\u001B[39;00m i \u001B[38;5;129;01min\u001B[39;00m np\u001B[38;5;241m.\u001B[39marange(\u001B[38;5;28mlen\u001B[39m(feeder))]\n",
      "Cell \u001B[1;32mIn[5], line 1\u001B[0m, in \u001B[0;36m<listcomp>\u001B[1;34m(.0)\u001B[0m\n\u001B[1;32m----> 1\u001B[0m [\u001B[43mSwap_Pricer\u001B[49m\u001B[43m(\u001B[49m\u001B[43m[\u001B[49m\u001B[43m[\u001B[49m\u001B[43m \u001B[49m\u001B[43mlibor_from_nodes\u001B[49m\u001B[43m(\u001B[49m\u001B[43m \u001B[49m\u001B[43mfeeder\u001B[49m\u001B[38;5;241;43m.\u001B[39;49m\u001B[43miloc\u001B[49m\u001B[43m[\u001B[49m\u001B[43mi\u001B[49m\u001B[43m]\u001B[49m\u001B[43m,\u001B[49m\u001B[43m \u001B[49m\u001B[43mhist\u001B[49m\u001B[43m[\u001B[49m\u001B[38;5;124;43m'\u001B[39;49m\u001B[38;5;124;43mSOFR_DC\u001B[39;49m\u001B[38;5;124;43m'\u001B[39;49m\u001B[43m]\u001B[49m\u001B[43m)\u001B[49m\u001B[43m,\u001B[49m\u001B[43m \u001B[49m\u001B[38;5;241;43m0\u001B[39;49m\u001B[43m,\u001B[49m\u001B[43m \u001B[49m\u001B[38;5;241;43m2\u001B[39;49m\u001B[43m]\u001B[49m\u001B[43m \u001B[49m\u001B[43m]\u001B[49m\u001B[43m)\u001B[49m\u001B[38;5;241m.\u001B[39mrate \u001B[38;5;28;01mfor\u001B[39;00m i \u001B[38;5;129;01min\u001B[39;00m np\u001B[38;5;241m.\u001B[39marange(\u001B[38;5;28mlen\u001B[39m(feeder))]\n",
      "File \u001B[1;32m~\\PycharmProjects\\pythonProject\\Builds\\SWAP_PRICER.py:137\u001B[0m, in \u001B[0;36mSwap_Pricer\u001B[1;34m(a, fixed_leg_freq)\u001B[0m\n\u001B[0;32m    135\u001B[0m         swap \u001B[38;5;241m=\u001B[39m ql\u001B[38;5;241m.\u001B[39mVanillaSwap(ql\u001B[38;5;241m.\u001B[39mVanillaSwap\u001B[38;5;241m.\u001B[39mPayer, sw\u001B[38;5;241m.\u001B[39mn,fixed_schedule,sw\u001B[38;5;241m.\u001B[39mrate_x\u001B[38;5;241m/\u001B[39m\u001B[38;5;241m100\u001B[39m, t\u001B[38;5;241m.\u001B[39mfixed[\u001B[38;5;241m1\u001B[39m],floating_schedule, index,\u001B[38;5;241m0.0\u001B[39m, t\u001B[38;5;241m.\u001B[39mfloating[\u001B[38;5;241m1\u001B[39m])\n\u001B[0;32m    136\u001B[0m         swap\u001B[38;5;241m.\u001B[39msetPricingEngine(ql\u001B[38;5;241m.\u001B[39mDiscountingSwapEngine(discount_curve))\n\u001B[1;32m--> 137\u001B[0m         output_rate\u001B[38;5;241m.\u001B[39mappend(\u001B[38;5;28mround\u001B[39m(\u001B[43mswap\u001B[49m\u001B[38;5;241;43m.\u001B[39;49m\u001B[43mfairRate\u001B[49m\u001B[43m(\u001B[49m\u001B[43m)\u001B[49m\u001B[38;5;241m*\u001B[39m\u001B[38;5;241m100\u001B[39m,\u001B[38;5;241m7\u001B[39m))\n\u001B[0;32m    140\u001B[0m \u001B[38;5;66;03m#calc pv01\u001B[39;00m\n\u001B[0;32m    141\u001B[0m         bp \u001B[38;5;241m=\u001B[39m \u001B[38;5;241m-\u001B[39m\u001B[38;5;241m0.00005\u001B[39m\n",
      "File \u001B[1;32mC:\\winapp\\Anaconda\\envs\\pythonProject\\lib\\site-packages\\QuantLib\\QuantLib.py:20311\u001B[0m, in \u001B[0;36mVanillaSwap.fairRate\u001B[1;34m(self)\u001B[0m\n\u001B[0;32m  20309\u001B[0m \u001B[38;5;28;01mdef\u001B[39;00m \u001B[38;5;21mfairRate\u001B[39m(\u001B[38;5;28mself\u001B[39m):\n\u001B[0;32m  20310\u001B[0m \u001B[38;5;250m    \u001B[39m\u001B[38;5;124mr\u001B[39m\u001B[38;5;124;03m\"\"\"fairRate(VanillaSwap self) -> Rate\"\"\"\u001B[39;00m\n\u001B[1;32m> 20311\u001B[0m     \u001B[38;5;28;01mreturn\u001B[39;00m \u001B[43m_QuantLib\u001B[49m\u001B[38;5;241;43m.\u001B[39;49m\u001B[43mVanillaSwap_fairRate\u001B[49m\u001B[43m(\u001B[49m\u001B[38;5;28;43mself\u001B[39;49m\u001B[43m)\u001B[49m\n",
      "\u001B[1;31mRuntimeError\u001B[0m: 2nd leg: Missing USDLibor3M Actual/360 fixing for March 31st, 2010"
     ]
    }
   ],
   "source": [
    "[Swap_Pricer([[ libor_from_nodes( feeder.iloc[i], hist['SOFR_DC']), 0, 2] ]).rate for i in np.arange(len(feeder))]"
   ],
   "metadata": {
    "collapsed": false,
    "ExecuteTime": {
     "end_time": "2024-02-22T12:17:42.706553Z",
     "start_time": "2024-02-22T12:17:08.044751700Z"
    }
   }
  },
  {
   "cell_type": "code",
   "execution_count": 7,
   "outputs": [
    {
     "name": "stdout",
     "output_type": "stream",
     "text": [
      "0 04/01/2010\n",
      "1 05/01/2010\n",
      "2 06/01/2010\n",
      "3 07/01/2010\n",
      "4 08/01/2010\n",
      "5 11/01/2010\n",
      "6 12/01/2010\n",
      "7 13/01/2010\n",
      "8 14/01/2010\n",
      "9 19/01/2010\n",
      "10 20/01/2010\n",
      "11 21/01/2010\n",
      "12 22/01/2010\n",
      "13 25/01/2010\n",
      "14 26/01/2010\n",
      "15 27/01/2010\n",
      "16 28/01/2010\n",
      "17 29/01/2010\n",
      "18 01/02/2010\n",
      "19 02/02/2010\n",
      "20 03/02/2010\n",
      "21 04/02/2010\n",
      "22 05/02/2010\n",
      "23 08/02/2010\n",
      "24 09/02/2010\n",
      "25 10/02/2010\n",
      "26 11/02/2010\n",
      "27 16/02/2010\n",
      "28 17/02/2010\n",
      "29 18/02/2010\n",
      "30 19/02/2010\n",
      "31 22/02/2010\n",
      "32 23/02/2010\n",
      "33 24/02/2010\n",
      "34 25/02/2010\n",
      "35 26/02/2010\n",
      "36 01/03/2010\n",
      "37 02/03/2010\n",
      "38 03/03/2010\n",
      "39 04/03/2010\n",
      "40 05/03/2010\n",
      "41 08/03/2010\n",
      "42 09/03/2010\n",
      "43 10/03/2010\n",
      "44 11/03/2010\n",
      "45 12/03/2010\n",
      "46 15/03/2010\n",
      "47 16/03/2010\n",
      "48 17/03/2010\n",
      "49 18/03/2010\n",
      "50 19/03/2010\n",
      "51 22/03/2010\n",
      "52 23/03/2010\n",
      "53 24/03/2010\n",
      "54 25/03/2010\n",
      "55 26/03/2010\n",
      "56 29/03/2010\n",
      "57 30/03/2010\n",
      "58 31/03/2010\n",
      "59 01/04/2010\n",
      "60 06/04/2010\n",
      "61 07/04/2010\n",
      "62 08/04/2010\n",
      "63 09/04/2010\n",
      "64 12/04/2010\n",
      "65 13/04/2010\n",
      "66 14/04/2010\n",
      "67 15/04/2010\n",
      "68 16/04/2010\n",
      "69 19/04/2010\n",
      "70 20/04/2010\n",
      "71 21/04/2010\n",
      "72 22/04/2010\n",
      "73 23/04/2010\n",
      "74 26/04/2010\n",
      "75 27/04/2010\n",
      "76 28/04/2010\n",
      "77 29/04/2010\n",
      "78 30/04/2010\n",
      "79 04/05/2010\n",
      "80 05/05/2010\n",
      "81 06/05/2010\n",
      "82 07/05/2010\n",
      "83 10/05/2010\n",
      "84 11/05/2010\n",
      "85 12/05/2010\n",
      "86 13/05/2010\n",
      "87 14/05/2010\n",
      "88 17/05/2010\n",
      "89 18/05/2010\n",
      "90 19/05/2010\n",
      "91 20/05/2010\n",
      "92 21/05/2010\n",
      "93 24/05/2010\n",
      "94 25/05/2010\n",
      "95 26/05/2010\n",
      "96 27/05/2010\n",
      "97 28/05/2010\n",
      "98 01/06/2010\n",
      "99 02/06/2010\n",
      "100 03/06/2010\n",
      "101 04/06/2010\n",
      "102 07/06/2010\n",
      "103 08/06/2010\n",
      "104 09/06/2010\n",
      "105 10/06/2010\n",
      "106 11/06/2010\n",
      "107 14/06/2010\n",
      "108 15/06/2010\n",
      "109 16/06/2010\n",
      "110 17/06/2010\n",
      "111 18/06/2010\n",
      "112 21/06/2010\n",
      "113 22/06/2010\n",
      "114 23/06/2010\n",
      "115 24/06/2010\n",
      "116 25/06/2010\n",
      "117 28/06/2010\n",
      "118 29/06/2010\n",
      "119 30/06/2010\n",
      "120 01/07/2010\n",
      "121 06/07/2010\n",
      "122 07/07/2010\n",
      "123 08/07/2010\n",
      "124 09/07/2010\n",
      "125 12/07/2010\n",
      "126 13/07/2010\n",
      "127 14/07/2010\n",
      "128 15/07/2010\n",
      "129 16/07/2010\n",
      "130 19/07/2010\n",
      "131 20/07/2010\n",
      "132 21/07/2010\n",
      "133 22/07/2010\n",
      "134 23/07/2010\n",
      "135 26/07/2010\n",
      "136 27/07/2010\n",
      "137 28/07/2010\n",
      "138 29/07/2010\n",
      "139 30/07/2010\n",
      "140 02/08/2010\n",
      "141 03/08/2010\n",
      "142 04/08/2010\n",
      "143 05/08/2010\n",
      "144 06/08/2010\n",
      "145 09/08/2010\n",
      "146 10/08/2010\n",
      "147 11/08/2010\n",
      "148 12/08/2010\n",
      "149 13/08/2010\n",
      "150 16/08/2010\n",
      "151 17/08/2010\n",
      "152 18/08/2010\n",
      "153 19/08/2010\n",
      "154 20/08/2010\n",
      "155 23/08/2010\n",
      "156 24/08/2010\n",
      "157 25/08/2010\n",
      "158 26/08/2010\n",
      "159 27/08/2010\n",
      "160 31/08/2010\n",
      "161 01/09/2010\n",
      "162 02/09/2010\n",
      "163 07/09/2010\n",
      "164 08/09/2010\n",
      "165 09/09/2010\n",
      "166 10/09/2010\n",
      "167 13/09/2010\n",
      "168 14/09/2010\n",
      "169 15/09/2010\n",
      "170 16/09/2010\n",
      "171 17/09/2010\n",
      "172 20/09/2010\n",
      "173 21/09/2010\n",
      "174 22/09/2010\n",
      "175 23/09/2010\n",
      "176 24/09/2010\n",
      "177 27/09/2010\n",
      "178 28/09/2010\n",
      "179 29/09/2010\n",
      "180 30/09/2010\n",
      "181 01/10/2010\n",
      "182 04/10/2010\n",
      "183 05/10/2010\n",
      "184 06/10/2010\n",
      "185 07/10/2010\n",
      "186 12/10/2010\n",
      "187 13/10/2010\n",
      "188 14/10/2010\n",
      "189 15/10/2010\n",
      "190 18/10/2010\n",
      "191 19/10/2010\n",
      "192 20/10/2010\n",
      "193 21/10/2010\n",
      "194 22/10/2010\n",
      "195 25/10/2010\n",
      "196 26/10/2010\n",
      "197 27/10/2010\n",
      "198 28/10/2010\n",
      "199 29/10/2010\n",
      "200 01/11/2010\n",
      "201 02/11/2010\n",
      "202 03/11/2010\n",
      "203 04/11/2010\n",
      "204 05/11/2010\n",
      "205 08/11/2010\n",
      "206 09/11/2010\n",
      "207 12/11/2010\n",
      "208 15/11/2010\n",
      "209 16/11/2010\n",
      "210 17/11/2010\n",
      "211 18/11/2010\n",
      "212 19/11/2010\n",
      "213 22/11/2010\n",
      "214 23/11/2010\n",
      "215 26/11/2010\n",
      "216 29/11/2010\n",
      "217 30/11/2010\n",
      "218 01/12/2010\n",
      "219 02/12/2010\n",
      "220 03/12/2010\n",
      "221 06/12/2010\n",
      "222 07/12/2010\n",
      "223 08/12/2010\n",
      "224 09/12/2010\n",
      "225 10/12/2010\n",
      "226 13/12/2010\n",
      "227 14/12/2010\n",
      "228 15/12/2010\n",
      "229 16/12/2010\n",
      "230 17/12/2010\n",
      "231 20/12/2010\n",
      "232 21/12/2010\n",
      "233 22/12/2010\n",
      "234 23/12/2010\n",
      "235 29/12/2010\n",
      "236 30/12/2010\n"
     ]
    },
    {
     "ename": "KeyboardInterrupt",
     "evalue": "",
     "output_type": "error",
     "traceback": [
      "\u001B[1;31m---------------------------------------------------------------------------\u001B[0m",
      "\u001B[1;31mKeyboardInterrupt\u001B[0m                         Traceback (most recent call last)",
      "Cell \u001B[1;32mIn[7], line 3\u001B[0m\n\u001B[0;32m      1\u001B[0m \u001B[38;5;28;01mfor\u001B[39;00m i \u001B[38;5;129;01min\u001B[39;00m np\u001B[38;5;241m.\u001B[39marange(\u001B[38;5;28mlen\u001B[39m(feeder)):\n\u001B[0;32m      2\u001B[0m     \u001B[38;5;28mprint\u001B[39m(i, feeder\u001B[38;5;241m.\u001B[39miloc[i]\u001B[38;5;241m.\u001B[39mname)\n\u001B[1;32m----> 3\u001B[0m     \u001B[43mlibor_from_nodes\u001B[49m\u001B[43m(\u001B[49m\u001B[43m \u001B[49m\u001B[43mfeeder\u001B[49m\u001B[38;5;241;43m.\u001B[39;49m\u001B[43miloc\u001B[49m\u001B[43m[\u001B[49m\u001B[43mi\u001B[49m\u001B[43m]\u001B[49m\u001B[43m,\u001B[49m\u001B[43m \u001B[49m\u001B[43mhist\u001B[49m\u001B[43m[\u001B[49m\u001B[38;5;124;43m'\u001B[39;49m\u001B[38;5;124;43mSOFR_DC\u001B[39;49m\u001B[38;5;124;43m'\u001B[39;49m\u001B[43m]\u001B[49m\u001B[43m)\u001B[49m\n",
      "File \u001B[1;32m~\\PycharmProjects\\pythonProject\\Builds\\SWAP_BUILD.py:353\u001B[0m, in \u001B[0;36mlibor_from_nodes\u001B[1;34m(a, ois_hist)\u001B[0m\n\u001B[0;32m    350\u001B[0m libor_curve\u001B[38;5;241m.\u001B[39menableExtrapolation()\n\u001B[0;32m    352\u001B[0m \u001B[38;5;28;01mif\u001B[39;00m ql_to_datetime(trade_date)\u001B[38;5;241m.\u001B[39mstrftime(\u001B[38;5;124m'\u001B[39m\u001B[38;5;132;01m%d\u001B[39;00m\u001B[38;5;124m/\u001B[39m\u001B[38;5;124m%\u001B[39m\u001B[38;5;124mm/\u001B[39m\u001B[38;5;124m%\u001B[39m\u001B[38;5;124mY\u001B[39m\u001B[38;5;124m'\u001B[39m) \u001B[38;5;129;01min\u001B[39;00m  ois_hist\u001B[38;5;241m.\u001B[39mindex:\n\u001B[1;32m--> 353\u001B[0m     dc_curve \u001B[38;5;241m=\u001B[39m \u001B[43mois_from_nodes\u001B[49m\u001B[43m(\u001B[49m\u001B[43m  \u001B[49m\u001B[43mois_hist\u001B[49m\u001B[38;5;241;43m.\u001B[39;49m\u001B[43mloc\u001B[49m\u001B[43m[\u001B[49m\u001B[43mql_to_datetime\u001B[49m\u001B[43m(\u001B[49m\u001B[43mtrade_date\u001B[49m\u001B[43m)\u001B[49m\u001B[38;5;241;43m.\u001B[39;49m\u001B[43mstrftime\u001B[49m\u001B[43m(\u001B[49m\u001B[38;5;124;43m'\u001B[39;49m\u001B[38;5;132;43;01m%d\u001B[39;49;00m\u001B[38;5;124;43m/\u001B[39;49m\u001B[38;5;124;43m%\u001B[39;49m\u001B[38;5;124;43mm/\u001B[39;49m\u001B[38;5;124;43m%\u001B[39;49m\u001B[38;5;124;43mY\u001B[39;49m\u001B[38;5;124;43m'\u001B[39;49m\u001B[43m)\u001B[49m\u001B[43m]\u001B[49m\u001B[43m \u001B[49m\u001B[43m,\u001B[49m\u001B[43m \u001B[49m\u001B[43mccy\u001B[49m\u001B[43m(\u001B[49m\u001B[43mc\u001B[49m\u001B[38;5;241;43m.\u001B[39;49m\u001B[43mdc_index\u001B[49m\u001B[43m,\u001B[49m\u001B[43m \u001B[49m\u001B[43mtoday\u001B[49m\u001B[43m)\u001B[49m\u001B[43m)\u001B[49m\u001B[38;5;241m.\u001B[39mcurve\n\u001B[0;32m    354\u001B[0m \u001B[38;5;28;01melse\u001B[39;00m:\n\u001B[0;32m    355\u001B[0m     dc_curve \u001B[38;5;241m=\u001B[39m libor_curve\n",
      "File \u001B[1;32m~\\PycharmProjects\\pythonProject\\Builds\\OIS_DC_BUILD.py:32\u001B[0m, in \u001B[0;36mois_from_nodes\u001B[1;34m(a, conv)\u001B[0m\n\u001B[0;32m     30\u001B[0m swap_rates \u001B[38;5;241m=\u001B[39m a[\u001B[38;5;124m'\u001B[39m\u001B[38;5;124mSwap_Rates\u001B[39m\u001B[38;5;124m'\u001B[39m]\n\u001B[0;32m     31\u001B[0m swap_rates\u001B[38;5;241m.\u001B[39mcolumns \u001B[38;5;241m=\u001B[39m [\u001B[38;5;124m'\u001B[39m\u001B[38;5;124mTenor\u001B[39m\u001B[38;5;124m'\u001B[39m,\u001B[38;5;124m'\u001B[39m\u001B[38;5;124mSwapRate\u001B[39m\u001B[38;5;124m'\u001B[39m]\n\u001B[1;32m---> 32\u001B[0m curve_ccy \u001B[38;5;241m=\u001B[39m \u001B[43mcon\u001B[49m\u001B[38;5;241;43m.\u001B[39;49m\u001B[43mref\u001B[49m\u001B[43m(\u001B[49m\u001B[43mc\u001B[49m\u001B[38;5;241;43m.\u001B[39;49m\u001B[43mbbg_curve\u001B[49m\u001B[43m,\u001B[49m\u001B[38;5;124;43m'\u001B[39;49m\u001B[38;5;124;43mCRNCY\u001B[39;49m\u001B[38;5;124;43m'\u001B[39;49m\u001B[43m)\u001B[49m[\u001B[38;5;124m'\u001B[39m\u001B[38;5;124mvalue\u001B[39m\u001B[38;5;124m'\u001B[39m][\u001B[38;5;241m0\u001B[39m]\n\u001B[0;32m     34\u001B[0m q_dates \u001B[38;5;241m=\u001B[39m [datetime_to_ql(a[\u001B[38;5;124m'\u001B[39m\u001B[38;5;124mDates\u001B[39m\u001B[38;5;124m'\u001B[39m][j]) \u001B[38;5;28;01mfor\u001B[39;00m j \u001B[38;5;129;01min\u001B[39;00m np\u001B[38;5;241m.\u001B[39marange(\u001B[38;5;28mlen\u001B[39m(a[\u001B[38;5;124m'\u001B[39m\u001B[38;5;124mDates\u001B[39m\u001B[38;5;124m'\u001B[39m]))]\n\u001B[0;32m     35\u001B[0m l_rates \u001B[38;5;241m=\u001B[39m a[\u001B[38;5;124m'\u001B[39m\u001B[38;5;124mRates\u001B[39m\u001B[38;5;124m'\u001B[39m]\n",
      "File \u001B[1;32mC:\\winapp\\Anaconda\\envs\\pythonProject\\lib\\site-packages\\pdblp\\pdblp.py:364\u001B[0m, in \u001B[0;36mBCon.ref\u001B[1;34m(self, tickers, flds, ovrds)\u001B[0m\n\u001B[0;32m    362\u001B[0m logger\u001B[38;5;241m.\u001B[39minfo(\u001B[38;5;124m'\u001B[39m\u001B[38;5;124mSending Request:\u001B[39m\u001B[38;5;130;01m\\n\u001B[39;00m\u001B[38;5;132;01m{}\u001B[39;00m\u001B[38;5;124m'\u001B[39m\u001B[38;5;241m.\u001B[39mformat(request))\n\u001B[0;32m    363\u001B[0m \u001B[38;5;28mself\u001B[39m\u001B[38;5;241m.\u001B[39m_session\u001B[38;5;241m.\u001B[39msendRequest(request, identity\u001B[38;5;241m=\u001B[39m\u001B[38;5;28mself\u001B[39m\u001B[38;5;241m.\u001B[39m_identity)\n\u001B[1;32m--> 364\u001B[0m data \u001B[38;5;241m=\u001B[39m \u001B[38;5;28;43mself\u001B[39;49m\u001B[38;5;241;43m.\u001B[39;49m\u001B[43m_parse_ref\u001B[49m\u001B[43m(\u001B[49m\u001B[43mflds\u001B[49m\u001B[43m)\u001B[49m\n\u001B[0;32m    365\u001B[0m data \u001B[38;5;241m=\u001B[39m pd\u001B[38;5;241m.\u001B[39mDataFrame(data)\n\u001B[0;32m    366\u001B[0m data\u001B[38;5;241m.\u001B[39mcolumns \u001B[38;5;241m=\u001B[39m [\u001B[38;5;124m'\u001B[39m\u001B[38;5;124mticker\u001B[39m\u001B[38;5;124m'\u001B[39m, \u001B[38;5;124m'\u001B[39m\u001B[38;5;124mfield\u001B[39m\u001B[38;5;124m'\u001B[39m, \u001B[38;5;124m'\u001B[39m\u001B[38;5;124mvalue\u001B[39m\u001B[38;5;124m'\u001B[39m]\n",
      "File \u001B[1;32mC:\\winapp\\Anaconda\\envs\\pythonProject\\lib\\site-packages\\pdblp\\pdblp.py:372\u001B[0m, in \u001B[0;36mBCon._parse_ref\u001B[1;34m(self, flds, keep_corrId, sent_events)\u001B[0m\n\u001B[0;32m    370\u001B[0m data \u001B[38;5;241m=\u001B[39m []\n\u001B[0;32m    371\u001B[0m \u001B[38;5;66;03m# Process received events\u001B[39;00m\n\u001B[1;32m--> 372\u001B[0m \u001B[38;5;28;01mfor\u001B[39;00m msg \u001B[38;5;129;01min\u001B[39;00m \u001B[38;5;28mself\u001B[39m\u001B[38;5;241m.\u001B[39m_receive_events(sent_events):\n\u001B[0;32m    373\u001B[0m     \u001B[38;5;28;01mif\u001B[39;00m keep_corrId:\n\u001B[0;32m    374\u001B[0m         corrId \u001B[38;5;241m=\u001B[39m msg[\u001B[38;5;124m'\u001B[39m\u001B[38;5;124mcorrelationIds\u001B[39m\u001B[38;5;124m'\u001B[39m]\n",
      "File \u001B[1;32mC:\\winapp\\Anaconda\\envs\\pythonProject\\lib\\site-packages\\pdblp\\pdblp.py:212\u001B[0m, in \u001B[0;36mBCon._receive_events\u001B[1;34m(self, sent_events, to_dict)\u001B[0m\n\u001B[0;32m    210\u001B[0m logger \u001B[38;5;241m=\u001B[39m _get_logger(\u001B[38;5;28mself\u001B[39m\u001B[38;5;241m.\u001B[39mdebug)\n\u001B[0;32m    211\u001B[0m \u001B[38;5;28;01mwhile\u001B[39;00m \u001B[38;5;28;01mTrue\u001B[39;00m:\n\u001B[1;32m--> 212\u001B[0m     ev \u001B[38;5;241m=\u001B[39m \u001B[38;5;28;43mself\u001B[39;49m\u001B[38;5;241;43m.\u001B[39;49m\u001B[43m_session\u001B[49m\u001B[38;5;241;43m.\u001B[39;49m\u001B[43mnextEvent\u001B[49m\u001B[43m(\u001B[49m\u001B[38;5;28;43mself\u001B[39;49m\u001B[38;5;241;43m.\u001B[39;49m\u001B[43mtimeout\u001B[49m\u001B[43m)\u001B[49m\n\u001B[0;32m    213\u001B[0m     ev_name \u001B[38;5;241m=\u001B[39m _EVENT_DICT[ev\u001B[38;5;241m.\u001B[39meventType()]\n\u001B[0;32m    214\u001B[0m     logger\u001B[38;5;241m.\u001B[39minfo(\u001B[38;5;124m'\u001B[39m\u001B[38;5;124mEvent Type: \u001B[39m\u001B[38;5;132;01m{!r}\u001B[39;00m\u001B[38;5;124m'\u001B[39m\u001B[38;5;241m.\u001B[39mformat(ev_name))\n",
      "File \u001B[1;32mC:\\winapp\\Anaconda\\envs\\pythonProject\\lib\\site-packages\\blpapi\\session.py:298\u001B[0m, in \u001B[0;36mSession.nextEvent\u001B[1;34m(self, timeout)\u001B[0m\n\u001B[0;32m    277\u001B[0m \u001B[38;5;28;01mdef\u001B[39;00m \u001B[38;5;21mnextEvent\u001B[39m(\u001B[38;5;28mself\u001B[39m, timeout: \u001B[38;5;28mint\u001B[39m \u001B[38;5;241m=\u001B[39m \u001B[38;5;241m0\u001B[39m) \u001B[38;5;241m-\u001B[39m\u001B[38;5;241m>\u001B[39m Event:\n\u001B[0;32m    278\u001B[0m \u001B[38;5;250m    \u001B[39m\u001B[38;5;124;03m\"\"\"\u001B[39;00m\n\u001B[0;32m    279\u001B[0m \u001B[38;5;124;03m    Args:\u001B[39;00m\n\u001B[0;32m    280\u001B[0m \u001B[38;5;124;03m        timeout: Timeout threshold in milliseconds\u001B[39;00m\n\u001B[1;32m   (...)\u001B[0m\n\u001B[0;32m    296\u001B[0m \u001B[38;5;124;03m    of type :attr:`~Event.TIMEOUT`.\u001B[39;00m\n\u001B[0;32m    297\u001B[0m \u001B[38;5;124;03m    \"\"\"\u001B[39;00m\n\u001B[1;32m--> 298\u001B[0m     retCode, event \u001B[38;5;241m=\u001B[39m \u001B[43minternals\u001B[49m\u001B[38;5;241;43m.\u001B[39;49m\u001B[43mblpapi_Session_nextEvent\u001B[49m\u001B[43m(\u001B[49m\n\u001B[0;32m    299\u001B[0m \u001B[43m        \u001B[49m\u001B[38;5;28;43mself\u001B[39;49m\u001B[38;5;241;43m.\u001B[39;49m\u001B[43m__handle\u001B[49m\u001B[43m,\u001B[49m\u001B[43m \u001B[49m\u001B[43mtimeout\u001B[49m\n\u001B[0;32m    300\u001B[0m \u001B[43m    \u001B[49m\u001B[43m)\u001B[49m\n\u001B[0;32m    302\u001B[0m     _ExceptionUtil\u001B[38;5;241m.\u001B[39mraiseOnError(retCode)\n\u001B[0;32m    304\u001B[0m     \u001B[38;5;28;01mreturn\u001B[39;00m Event(event, {\u001B[38;5;28mself\u001B[39m})\n",
      "File \u001B[1;32mC:\\winapp\\Anaconda\\envs\\pythonProject\\lib\\site-packages\\blpapi\\internals.py:1526\u001B[0m, in \u001B[0;36mblpapi_Session_nextEvent\u001B[1;34m(session, timeoutInMilliseconds)\u001B[0m\n\u001B[0;32m   1525\u001B[0m \u001B[38;5;28;01mdef\u001B[39;00m \u001B[38;5;21mblpapi_Session_nextEvent\u001B[39m(session, timeoutInMilliseconds):\n\u001B[1;32m-> 1526\u001B[0m     \u001B[38;5;28;01mreturn\u001B[39;00m \u001B[43m_internals\u001B[49m\u001B[38;5;241;43m.\u001B[39;49m\u001B[43mblpapi_Session_nextEvent\u001B[49m\u001B[43m(\u001B[49m\u001B[43msession\u001B[49m\u001B[43m,\u001B[49m\u001B[43m \u001B[49m\u001B[43mtimeoutInMilliseconds\u001B[49m\u001B[43m)\u001B[49m\n",
      "\u001B[1;31mKeyboardInterrupt\u001B[0m: "
     ]
    }
   ],
   "source": [
    "for i in np.arange(len(feeder)):\n",
    "    print(i, feeder.iloc[i].name)\n",
    "    libor_from_nodes( feeder.iloc[i], hist['SOFR_DC'])"
   ],
   "metadata": {
    "collapsed": false,
    "ExecuteTime": {
     "end_time": "2024-02-22T12:21:21.633222900Z",
     "start_time": "2024-02-22T12:19:47.491894200Z"
    }
   }
  },
  {
   "cell_type": "code",
   "execution_count": 6,
   "outputs": [
    {
     "data": {
      "text/plain": "              Ref_Date                                              Dates                                              Rates                                         Swap_Rates   Index  Fixing                                              Table\n04/01/2010  2010-01-04  [2010-01-06 00:00:00, 2010-01-07 00:00:00, 201...  [1.0, 0.9999916389587965, 0.9999455585193723, ...     Tenor  SwapRate\n0     2Y     1.355\n1     3Y...  USD_3M   0.301     Tenor  Rate  TenorNum  TenorUnit           ...\n05/01/2010  2010-01-05  [2010-01-07 00:00:00, 2010-01-08 00:00:00, 201...  [1.0, 0.99999291671684, 0.9999508079755324, 0....     Tenor  SwapRate\n0     2Y     1.292\n1     3Y...  USD_3M   0.255     Tenor  Rate  TenorNum  TenorUnit           ...\n06/01/2010  2010-01-06  [2010-01-08 00:00:00, 2010-01-11 00:00:00, 201...  [1.0, 0.9999794170903314, 0.9999529466585763, ...     Tenor  SwapRate\n0     2Y     1.267\n1     3Y...  USD_3M   0.247     Tenor  Rate  TenorNum  TenorUnit           ...\n07/01/2010  2010-01-07  [2010-01-11 00:00:00, 2010-01-12 00:00:00, 201...  [1.0, 0.9999927222751879, 0.9999437809386172, ...     Tenor  SwapRate\n0     2Y      1.29\n1     3Y...  USD_3M   0.262     Tenor  Rate  TenorNum  TenorUnit           ...\n08/01/2010  2010-01-08  [2010-01-12 00:00:00, 2010-01-13 00:00:00, 201...  [1.0, 0.9999919722866669, 0.9999467250607361, ...     Tenor  SwapRate\n0     2Y     1.231\n1     3Y...  USD_3M   0.289     Tenor  Rate  TenorNum  TenorUnit           ...\n...                ...                                                ...                                                ...                                                ...     ...     ...                                                ...\n21/12/2012  2012-12-21  [2012-12-26 00:00:00, 2012-12-27 00:00:00, 201...  [1.0, 0.9999920833960064, 0.999935253742418, 0...     Tenor  Rate\n0     2Y 0.401\n1     3Y 0.501\n2...  USD_3M   0.285     Tenor  Rate  TenorNum  TenorUnit           ...\n24/12/2012  2012-12-24  [2012-12-27 00:00:00, 2012-12-28 00:00:00, 201...  [1.0, 0.9999921111733451, 0.9999361147509188, ...     Tenor  Rate\n0     2Y 0.411\n1     3Y 0.513\n2...  USD_3M   0.284     Tenor  Rate  TenorNum  TenorUnit           ...\n27/12/2012  2012-12-27  [2012-12-31 00:00:00, 2013-01-02 00:00:00, 201...  [1.0, 0.9999817225562933, 0.9999368095488494, ...     Tenor  Rate\n0     2Y 0.405\n1     3Y 0.498\n2...  USD_3M   0.329     Tenor  Rate  TenorNum  TenorUnit           ...\n28/12/2012  2012-12-28  [2013-01-02 00:00:00, 2013-01-03 00:00:00, 201...  [1.0, 0.9999908334173604, 0.999936809548857, 0...     Tenor  Rate\n0     2Y 0.395\n1     3Y  0.49\n2...  USD_3M    0.33     Tenor  Rate  TenorNum  TenorUnit           ...\n31/12/2012  2012-12-31  [2013-01-03 00:00:00, 2013-01-04 00:00:00, 201...  [1.0, 0.9999905278675, 0.9999356430310389, 0.9...     Tenor  Rate\n0     2Y 0.386\n1     3Y 0.483\n2...  USD_3M   0.341     Tenor  Rate  TenorNum  TenorUnit           ...\n\n[709 rows x 7 columns]",
      "text/html": "<div>\n<style scoped>\n    .dataframe tbody tr th:only-of-type {\n        vertical-align: middle;\n    }\n\n    .dataframe tbody tr th {\n        vertical-align: top;\n    }\n\n    .dataframe thead th {\n        text-align: right;\n    }\n</style>\n<table border=\"1\" class=\"dataframe\">\n  <thead>\n    <tr style=\"text-align: right;\">\n      <th></th>\n      <th>Ref_Date</th>\n      <th>Dates</th>\n      <th>Rates</th>\n      <th>Swap_Rates</th>\n      <th>Index</th>\n      <th>Fixing</th>\n      <th>Table</th>\n    </tr>\n  </thead>\n  <tbody>\n    <tr>\n      <th>04/01/2010</th>\n      <td>2010-01-04</td>\n      <td>[2010-01-06 00:00:00, 2010-01-07 00:00:00, 201...</td>\n      <td>[1.0, 0.9999916389587965, 0.9999455585193723, ...</td>\n      <td>Tenor  SwapRate\n0     2Y     1.355\n1     3Y...</td>\n      <td>USD_3M</td>\n      <td>0.301</td>\n      <td>Tenor  Rate  TenorNum  TenorUnit           ...</td>\n    </tr>\n    <tr>\n      <th>05/01/2010</th>\n      <td>2010-01-05</td>\n      <td>[2010-01-07 00:00:00, 2010-01-08 00:00:00, 201...</td>\n      <td>[1.0, 0.99999291671684, 0.9999508079755324, 0....</td>\n      <td>Tenor  SwapRate\n0     2Y     1.292\n1     3Y...</td>\n      <td>USD_3M</td>\n      <td>0.255</td>\n      <td>Tenor  Rate  TenorNum  TenorUnit           ...</td>\n    </tr>\n    <tr>\n      <th>06/01/2010</th>\n      <td>2010-01-06</td>\n      <td>[2010-01-08 00:00:00, 2010-01-11 00:00:00, 201...</td>\n      <td>[1.0, 0.9999794170903314, 0.9999529466585763, ...</td>\n      <td>Tenor  SwapRate\n0     2Y     1.267\n1     3Y...</td>\n      <td>USD_3M</td>\n      <td>0.247</td>\n      <td>Tenor  Rate  TenorNum  TenorUnit           ...</td>\n    </tr>\n    <tr>\n      <th>07/01/2010</th>\n      <td>2010-01-07</td>\n      <td>[2010-01-11 00:00:00, 2010-01-12 00:00:00, 201...</td>\n      <td>[1.0, 0.9999927222751879, 0.9999437809386172, ...</td>\n      <td>Tenor  SwapRate\n0     2Y      1.29\n1     3Y...</td>\n      <td>USD_3M</td>\n      <td>0.262</td>\n      <td>Tenor  Rate  TenorNum  TenorUnit           ...</td>\n    </tr>\n    <tr>\n      <th>08/01/2010</th>\n      <td>2010-01-08</td>\n      <td>[2010-01-12 00:00:00, 2010-01-13 00:00:00, 201...</td>\n      <td>[1.0, 0.9999919722866669, 0.9999467250607361, ...</td>\n      <td>Tenor  SwapRate\n0     2Y     1.231\n1     3Y...</td>\n      <td>USD_3M</td>\n      <td>0.289</td>\n      <td>Tenor  Rate  TenorNum  TenorUnit           ...</td>\n    </tr>\n    <tr>\n      <th>...</th>\n      <td>...</td>\n      <td>...</td>\n      <td>...</td>\n      <td>...</td>\n      <td>...</td>\n      <td>...</td>\n      <td>...</td>\n    </tr>\n    <tr>\n      <th>21/12/2012</th>\n      <td>2012-12-21</td>\n      <td>[2012-12-26 00:00:00, 2012-12-27 00:00:00, 201...</td>\n      <td>[1.0, 0.9999920833960064, 0.999935253742418, 0...</td>\n      <td>Tenor  Rate\n0     2Y 0.401\n1     3Y 0.501\n2...</td>\n      <td>USD_3M</td>\n      <td>0.285</td>\n      <td>Tenor  Rate  TenorNum  TenorUnit           ...</td>\n    </tr>\n    <tr>\n      <th>24/12/2012</th>\n      <td>2012-12-24</td>\n      <td>[2012-12-27 00:00:00, 2012-12-28 00:00:00, 201...</td>\n      <td>[1.0, 0.9999921111733451, 0.9999361147509188, ...</td>\n      <td>Tenor  Rate\n0     2Y 0.411\n1     3Y 0.513\n2...</td>\n      <td>USD_3M</td>\n      <td>0.284</td>\n      <td>Tenor  Rate  TenorNum  TenorUnit           ...</td>\n    </tr>\n    <tr>\n      <th>27/12/2012</th>\n      <td>2012-12-27</td>\n      <td>[2012-12-31 00:00:00, 2013-01-02 00:00:00, 201...</td>\n      <td>[1.0, 0.9999817225562933, 0.9999368095488494, ...</td>\n      <td>Tenor  Rate\n0     2Y 0.405\n1     3Y 0.498\n2...</td>\n      <td>USD_3M</td>\n      <td>0.329</td>\n      <td>Tenor  Rate  TenorNum  TenorUnit           ...</td>\n    </tr>\n    <tr>\n      <th>28/12/2012</th>\n      <td>2012-12-28</td>\n      <td>[2013-01-02 00:00:00, 2013-01-03 00:00:00, 201...</td>\n      <td>[1.0, 0.9999908334173604, 0.999936809548857, 0...</td>\n      <td>Tenor  Rate\n0     2Y 0.395\n1     3Y  0.49\n2...</td>\n      <td>USD_3M</td>\n      <td>0.33</td>\n      <td>Tenor  Rate  TenorNum  TenorUnit           ...</td>\n    </tr>\n    <tr>\n      <th>31/12/2012</th>\n      <td>2012-12-31</td>\n      <td>[2013-01-03 00:00:00, 2013-01-04 00:00:00, 201...</td>\n      <td>[1.0, 0.9999905278675, 0.9999356430310389, 0.9...</td>\n      <td>Tenor  Rate\n0     2Y 0.386\n1     3Y 0.483\n2...</td>\n      <td>USD_3M</td>\n      <td>0.341</td>\n      <td>Tenor  Rate  TenorNum  TenorUnit           ...</td>\n    </tr>\n  </tbody>\n</table>\n<p>709 rows × 7 columns</p>\n</div>"
     },
     "execution_count": 6,
     "metadata": {},
     "output_type": "execute_result"
    }
   ],
   "source": [
    "feeder"
   ],
   "metadata": {
    "collapsed": false,
    "ExecuteTime": {
     "end_time": "2024-02-22T12:18:18.789364900Z",
     "start_time": "2024-02-22T12:18:18.467915Z"
    }
   }
  },
  {
   "cell_type": "code",
   "execution_count": null,
   "outputs": [],
   "source": [],
   "metadata": {
    "collapsed": false
   }
  }
 ],
 "metadata": {
  "kernelspec": {
   "display_name": "Python 3",
   "language": "python",
   "name": "python3"
  },
  "language_info": {
   "codemirror_mode": {
    "name": "ipython",
    "version": 2
   },
   "file_extension": ".py",
   "mimetype": "text/x-python",
   "name": "python",
   "nbconvert_exporter": "python",
   "pygments_lexer": "ipython2",
   "version": "2.7.6"
  }
 },
 "nbformat": 4,
 "nbformat_minor": 0
}
