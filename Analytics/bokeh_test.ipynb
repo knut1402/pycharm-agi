{
 "cells": [
  {
   "cell_type": "code",
   "execution_count": 1,
   "metadata": {
    "collapsed": true,
    "ExecuteTime": {
     "end_time": "2024-02-15T09:45:51.583757500Z",
     "start_time": "2024-02-15T09:45:48.758498800Z"
    }
   },
   "outputs": [],
   "source": [
    "import os\n",
    "from importlib import reload\n",
    "import warnings\n",
    "warnings.simplefilter(action='ignore', category=FutureWarning)\n",
    "import pandas as pd\n",
    "import numpy as np\n",
    "import math\n",
    "import datetime\n",
    "import pdblp\n",
    "import runpy\n",
    "import QuantLib as ql\n",
    "import matplotlib as mpl\n",
    "#import matplotlib\n",
    "mpl.get_backend()\n",
    "import matplotlib.pyplot as plt\n",
    "plt.interactive(False)\n",
    "import seaborn as sns\n",
    "from tabulate import tabulate\n",
    "from sklearn.preprocessing import minmax_scale\n",
    "from sklearn.mixture import GaussianMixture\n",
    "from scipy.stats import zscore\n",
    "import pickle\n",
    "import re\n",
    "import concurrent.futures\n",
    "import time\n",
    "from datetime import datetime, timedelta, time\n",
    "from scipy import stats"
   ]
  },
  {
   "cell_type": "code",
   "execution_count": 2,
   "outputs": [],
   "source": [
    "pd.set_option('display.max_columns', 10000)\n",
    "pd.set_option('display.width', 10000)\n",
    "pd.options.display.float_format = '{:,}'.format\n",
    "pd.options.mode.chained_assignment = None\n",
    "\n",
    "## BBG API\n",
    "con = pdblp.BCon(debug=False, port=8194, timeout=50000)\n",
    "con.start()\n",
    "\n",
    "from Utilities import *\n",
    "from Conventions import FUT_CT,FUT_CT_Q, ccy, ccy_infl\n",
    "from OIS_DC_BUILD import ois_dc_build, get_wirp\n",
    "from SWAP_BUILD import swap_build\n",
    "from SWAP_PRICER import Swap_Pricer, Swap_curve_fwd\n",
    "from SWAP_TABLE import swap_table, swap_table2, curve_hmap\n",
    "from INF_ZC_BUILD import infl_zc_swap_build, Infl_ZC_Pricer, inf_swap_table\n",
    "from BOND_CURVES import bond_curve_build\n",
    "from VOL_BUILD import build_vol_surf, build_vol_spline, bond_fut_opt_strat, get_sim_option_px, build_stir_vol_surf, stir_opt_strat\n",
    "from PLOT import plt_curve, plt_inf_curve, plt_opt_strat, rates_hm, curve_hm, plt_ois_curve, plot_opt_vol_surf, plt_stir_opt_strat, plotool, ecfc_plot\n"
   ],
   "metadata": {
    "collapsed": false,
    "ExecuteTime": {
     "end_time": "2024-02-15T09:45:57.199381100Z",
     "start_time": "2024-02-15T09:45:51.588913400Z"
    }
   }
  },
  {
   "cell_type": "code",
   "execution_count": 3,
   "outputs": [
    {
     "name": "stdout",
     "output_type": "stream",
     "text": [
      "*** !!! ois_curve built !!! ***\n"
     ]
    },
    {
     "data": {
      "text/plain": "   Tenor  SwapRate\n0     2Y    4.4615\n1     3Y    4.2015\n2     4Y    4.0671\n3     5Y    3.9902\n4     6Y    3.9502\n5     7Y    3.9257\n6     8Y    3.9115\n7     9Y    3.9047\n8    10Y    3.9014\n9    12Y     3.908\n10   15Y    3.9193\n11   20Y    3.8899\n12   25Y     3.802\n13   30Y    3.7085\n14   40Y    3.5065\n15   50Y     3.291",
      "text/html": "<div>\n<style scoped>\n    .dataframe tbody tr th:only-of-type {\n        vertical-align: middle;\n    }\n\n    .dataframe tbody tr th {\n        vertical-align: top;\n    }\n\n    .dataframe thead th {\n        text-align: right;\n    }\n</style>\n<table border=\"1\" class=\"dataframe\">\n  <thead>\n    <tr style=\"text-align: right;\">\n      <th></th>\n      <th>Tenor</th>\n      <th>SwapRate</th>\n    </tr>\n  </thead>\n  <tbody>\n    <tr>\n      <th>0</th>\n      <td>2Y</td>\n      <td>4.4615</td>\n    </tr>\n    <tr>\n      <th>1</th>\n      <td>3Y</td>\n      <td>4.2015</td>\n    </tr>\n    <tr>\n      <th>2</th>\n      <td>4Y</td>\n      <td>4.0671</td>\n    </tr>\n    <tr>\n      <th>3</th>\n      <td>5Y</td>\n      <td>3.9902</td>\n    </tr>\n    <tr>\n      <th>4</th>\n      <td>6Y</td>\n      <td>3.9502</td>\n    </tr>\n    <tr>\n      <th>5</th>\n      <td>7Y</td>\n      <td>3.9257</td>\n    </tr>\n    <tr>\n      <th>6</th>\n      <td>8Y</td>\n      <td>3.9115</td>\n    </tr>\n    <tr>\n      <th>7</th>\n      <td>9Y</td>\n      <td>3.9047</td>\n    </tr>\n    <tr>\n      <th>8</th>\n      <td>10Y</td>\n      <td>3.9014</td>\n    </tr>\n    <tr>\n      <th>9</th>\n      <td>12Y</td>\n      <td>3.908</td>\n    </tr>\n    <tr>\n      <th>10</th>\n      <td>15Y</td>\n      <td>3.9193</td>\n    </tr>\n    <tr>\n      <th>11</th>\n      <td>20Y</td>\n      <td>3.8899</td>\n    </tr>\n    <tr>\n      <th>12</th>\n      <td>25Y</td>\n      <td>3.802</td>\n    </tr>\n    <tr>\n      <th>13</th>\n      <td>30Y</td>\n      <td>3.7085</td>\n    </tr>\n    <tr>\n      <th>14</th>\n      <td>40Y</td>\n      <td>3.5065</td>\n    </tr>\n    <tr>\n      <th>15</th>\n      <td>50Y</td>\n      <td>3.291</td>\n    </tr>\n  </tbody>\n</table>\n</div>"
     },
     "execution_count": 3,
     "metadata": {},
     "output_type": "execute_result"
    }
   ],
   "source": [
    "sofr = ois_dc_build('SOFR_DC', b=0)\n",
    "sofr.rates"
   ],
   "metadata": {
    "collapsed": false,
    "ExecuteTime": {
     "end_time": "2024-02-14T18:43:31.633525500Z",
     "start_time": "2024-02-14T18:43:27.294514400Z"
    }
   }
  },
  {
   "cell_type": "code",
   "execution_count": 3,
   "outputs": [],
   "source": [
    "# bokeh imports\n",
    "from bokeh.plotting import figure, show\n",
    "from bokeh.models import HoverTool, BoxZoomTool, ResetTool, Legend, DatetimeTickFormatter, SingleIntervalTicker, LinearAxis, FuncTickFormatter\n",
    "from bokeh.models import ColumnDataSource, TabPanel, Tabs, LabelSet, Span, Range1d, FactorRange, Range, Label\n",
    "from bokeh.layouts import row, column, gridplot\n",
    "from bokeh.palettes import Category10, brewer, Category20, Bright6\n",
    "from bokeh.transform import factor_cmap\n",
    "from bokeh.models.renderers import GlyphRenderer\n",
    "from itertools import accumulate"
   ],
   "metadata": {
    "collapsed": false,
    "ExecuteTime": {
     "end_time": "2024-02-15T09:45:57.371639900Z",
     "start_time": "2024-02-15T09:45:57.205383900Z"
    }
   }
  },
  {
   "cell_type": "code",
   "execution_count": 20,
   "outputs": [],
   "source": [
    "#p = figure(title=\"Simple Line Example\", x_axis_label='x', y_axis_label='y')\n",
    "p = figure(tools=[\"pan\",\"hover\",\"wheel_zoom\",\"box_zoom\",\"save\",\"reset\",\"help\"])\n",
    "p.line([1, 2, 3, 4, 5], [6, 7, 2, 4, 5], legend_label=\"Temp.\", line_width=2,  color=\"firebrick\", alpha=0.8)\n",
    "p.title.text = \"Customized Line Plot\"\n",
    "p.title.text_color = \"olive\"\n",
    "p.title.text_font = \"times\"\n",
    "p.title.text_font_style = \"italic\"\n",
    "\n",
    "show(p)"
   ],
   "metadata": {
    "collapsed": false,
    "ExecuteTime": {
     "end_time": "2024-01-23T08:02:41.842438800Z",
     "start_time": "2024-01-23T08:02:41.794405200Z"
    }
   }
  },
  {
   "cell_type": "code",
   "execution_count": 12,
   "outputs": [],
   "source": [
    "## Scatter\n",
    "\n",
    "p = figure(title=\"Simple Scatter Example\")\n",
    "p.scatter(x=[1, 2, 3, 4, 5], y=[6, 7, 2, 4, 5], size=15, line_color=\"navy\", fill_color=\"orange\", alpha=0.5)\n",
    "\n",
    "\n",
    "show(p)"
   ],
   "metadata": {
    "collapsed": false,
    "ExecuteTime": {
     "end_time": "2024-01-23T07:58:56.412013200Z",
     "start_time": "2024-01-23T07:58:56.177484700Z"
    }
   }
  },
  {
   "cell_type": "code",
   "execution_count": 16,
   "outputs": [],
   "source": [
    "## Bar plot\n",
    "\n",
    "source = ColumnDataSource(data=dict(x=[\"A\", \"B\", \"C\", \"D\"], counts=[50, 40, 65, 10]))\n",
    "p = figure(x_range=[\"A\", \"B\", \"C\", \"D\"], title=\"Bar Example\", toolbar_location=None, tools=\"\")\n",
    "p.vbar(x='x', top='counts', width=0.9, source=source)\n",
    "show(p)"
   ],
   "metadata": {
    "collapsed": false,
    "ExecuteTime": {
     "end_time": "2024-01-23T08:00:28.040600800Z",
     "start_time": "2024-01-23T08:00:27.852324300Z"
    }
   }
  },
  {
   "cell_type": "code",
   "execution_count": 25,
   "outputs": [],
   "source": [
    "## Layout\n",
    "t=[\"pan\",\"hover\",\"wheel_zoom\",\"box_zoom\",\"save\",\"reset\",\"help\"]\n",
    "s1 = figure(min_width=250, min_height=250, tools = t)\n",
    "s1.circle([1, 2, 3, 4, 5], [6, 7, 2, 4, 5])\n",
    "\n",
    "s2 = figure(min_width=250, min_height=250, tools = t)\n",
    "s2.line([1, 2, 3, 4, 5], [6, 7, 2, 4, 5])\n",
    "\n",
    "layout = row(s1, s2)\n",
    "show(layout)"
   ],
   "metadata": {
    "collapsed": false,
    "ExecuteTime": {
     "end_time": "2024-01-23T08:04:43.448758900Z",
     "start_time": "2024-01-23T08:04:43.143236500Z"
    }
   }
  },
  {
   "cell_type": "code",
   "execution_count": 74,
   "outputs": [],
   "source": [
    "p = figure(title=\"Fill Below Line with VArea\")\n",
    "x = [1, 2, 3, 4, 5]\n",
    "y = [6, 7, 2, 4, 5]\n",
    "\n",
    "p.line(x, y, line_color=\"blue\")\n",
    "p.varea(x=x, y1=[0]*len(x), y2=y, color=\"blue\", alpha=0.3)\n",
    "show(p)"
   ],
   "metadata": {
    "collapsed": false,
    "ExecuteTime": {
     "end_time": "2024-01-23T09:03:22.028828400Z",
     "start_time": "2024-01-23T09:03:21.791480800Z"
    }
   }
  },
  {
   "cell_type": "code",
   "execution_count": 10,
   "outputs": [
    {
     "name": "stdout",
     "output_type": "stream",
     "text": [
      "*** !!! ois_curve built !!! ***\n",
      "*** !!! ois_curve built !!! ***\n"
     ]
    }
   ],
   "source": [
    "sofr=ois_dc_build('SOFR_DC', b=0)\n",
    "swtb1 = swap_table(sofr, offset = [-1])\n",
    "\n"
   ],
   "metadata": {
    "collapsed": false,
    "ExecuteTime": {
     "end_time": "2024-01-24T20:18:26.341491500Z",
     "start_time": "2024-01-24T20:18:04.450036700Z"
    }
   }
  },
  {
   "cell_type": "code",
   "execution_count": 8,
   "outputs": [
    {
     "data": {
      "text/plain": "Date(26,1,2024)"
     },
     "execution_count": 8,
     "metadata": {},
     "output_type": "execute_result"
    }
   ],
   "source": [
    "swtb1.all_curves[0].ref_date"
   ],
   "metadata": {
    "collapsed": false,
    "ExecuteTime": {
     "end_time": "2024-01-24T20:16:19.690915600Z",
     "start_time": "2024-01-24T20:16:19.650623500Z"
    }
   }
  },
  {
   "cell_type": "code",
   "execution_count": 4,
   "outputs": [
    {
     "data": {
      "text/plain": "0.3434206113045937"
     },
     "execution_count": 4,
     "metadata": {},
     "output_type": "execute_result"
    }
   ],
   "source": [
    "#built_curve = swtb1.all_curves\n",
    "#built_curve ==0\n",
    "\n",
    "swtb1.all_curves[1].curve.discount(ql.Date(25,1,2054))"
   ],
   "metadata": {
    "collapsed": false,
    "ExecuteTime": {
     "end_time": "2024-01-24T20:08:40.524458100Z",
     "start_time": "2024-01-24T20:08:40.377045Z"
    }
   }
  },
  {
   "cell_type": "code",
   "execution_count": 5,
   "outputs": [
    {
     "name": "stdout",
     "output_type": "stream",
     "text": [
      "*** !!! ois_curve built !!! ***\n",
      "0.34338845486062636\n",
      "3.295973219685777\n",
      "3.2959732199078218\n"
     ]
    }
   ],
   "source": [
    "cur_1 = ois_dc_build('SOFR_DC', b=-1)\n",
    "\n",
    "print(cur_1.curve.discount(ql.Date(25,1,2054)))\n",
    "\n",
    "print(100*cur_1.curve.forwardRate(ql.Date(24,1,2026), ql.Date(24,1,2026), ql.Actual365Fixed(), ql.Simple).rate())\n",
    "print(100*swtb1.all_curves[1].curve.forwardRate(ql.Date(24,1,2026), ql.Date(24,1,2026), ql.Actual365Fixed(), ql.Simple).rate())"
   ],
   "metadata": {
    "collapsed": false,
    "ExecuteTime": {
     "end_time": "2024-01-24T20:08:54.322612400Z",
     "start_time": "2024-01-24T20:08:43.207801100Z"
    }
   }
  },
  {
   "cell_type": "code",
   "execution_count": 6,
   "outputs": [
    {
     "name": "stdout",
     "output_type": "stream",
     "text": [
      "d2: January 25th, 2024\n",
      "January 25th, 2024\n",
      "January 25th, 2024\n",
      "January 27th, 2025\n",
      "4.8869444444424115\n",
      "January 25th, 2025\n",
      "January 25th, 2024\n",
      "January 26th, 2026\n",
      "3.6132023151837327\n",
      "January 25th, 2026\n",
      "January 25th, 2024\n",
      "January 25th, 2027\n",
      "3.4299941006026735\n",
      "January 25th, 2027\n",
      "January 25th, 2024\n",
      "January 25th, 2028\n",
      "3.5072366313834147\n",
      "January 25th, 2028\n",
      "January 25th, 2024\n",
      "January 25th, 2029\n",
      "3.6057911572521055\n",
      "January 25th, 2029\n",
      "January 25th, 2024\n",
      "January 25th, 2030\n",
      "3.696356761258901\n",
      "January 25th, 2030\n",
      "January 25th, 2024\n",
      "January 27th, 2031\n",
      "3.7519625386279642\n",
      "January 25th, 2031\n",
      "January 25th, 2024\n",
      "January 26th, 2032\n",
      "3.798013860566534\n",
      "January 25th, 2032\n",
      "January 25th, 2024\n",
      "January 25th, 2033\n",
      "3.8648821096239376\n",
      "January 25th, 2033\n",
      "January 25th, 2024\n",
      "January 25th, 2034\n",
      "3.9095404321894733\n",
      "January 25th, 2034\n",
      "January 25th, 2024\n",
      "January 25th, 2035\n",
      "3.9774149897416455\n",
      "January 25th, 2035\n",
      "January 25th, 2024\n",
      "January 25th, 2036\n",
      "4.02808092779825\n",
      "January 25th, 2036\n",
      "January 25th, 2024\n",
      "January 26th, 2037\n",
      "4.048949168661745\n",
      "January 25th, 2037\n",
      "January 25th, 2024\n",
      "January 25th, 2038\n",
      "4.046506805813643\n",
      "January 25th, 2038\n",
      "January 25th, 2024\n",
      "January 25th, 2039\n",
      "4.024111341729708\n",
      "January 25th, 2039\n",
      "January 25th, 2024\n",
      "January 25th, 2040\n",
      "3.9817264217619774\n",
      "January 25th, 2040\n",
      "January 25th, 2024\n",
      "January 25th, 2041\n",
      "3.9210208317277333\n",
      "January 25th, 2041\n",
      "January 25th, 2024\n",
      "January 27th, 2042\n",
      "3.84199595060585\n",
      "January 25th, 2042\n",
      "January 25th, 2024\n",
      "January 26th, 2043\n",
      "3.7450393329155474\n",
      "January 25th, 2043\n",
      "January 25th, 2024\n",
      "January 25th, 2044\n",
      "3.6302305288589576\n",
      "January 25th, 2044\n",
      "January 25th, 2024\n",
      "January 25th, 2045\n",
      "3.5035460925633046\n",
      "January 25th, 2045\n",
      "January 25th, 2024\n",
      "January 25th, 2046\n",
      "3.3884455418002446\n",
      "January 25th, 2046\n",
      "January 25th, 2024\n",
      "January 25th, 2047\n",
      "3.2914530168406175\n",
      "January 25th, 2047\n",
      "January 25th, 2024\n",
      "January 27th, 2048\n",
      "3.2122739332613226\n",
      "January 25th, 2048\n",
      "January 25th, 2024\n",
      "January 25th, 2049\n",
      "3.1506493221350538\n",
      "January 25th, 2049\n",
      "January 25th, 2024\n",
      "January 25th, 2050\n",
      "3.1021931013918813\n",
      "January 25th, 2050\n",
      "January 25th, 2024\n",
      "January 25th, 2051\n",
      "3.0498632996478703\n",
      "January 25th, 2051\n",
      "January 25th, 2024\n",
      "January 25th, 2052\n",
      "2.9891161467228144\n",
      "January 25th, 2052\n",
      "January 25th, 2024\n",
      "January 27th, 2053\n",
      "2.9200062541354286\n",
      "January 25th, 2053\n",
      "January 25th, 2024\n",
      "January 26th, 2054\n",
      "2.842203300503704\n",
      "January 25th, 2054\n",
      "January 25th, 2024\n",
      "January 25th, 2055\n",
      "2.7574574317445144\n",
      "d2: January 25th, 2024\n",
      "January 25th, 2024\n",
      "January 25th, 2024\n",
      "January 27th, 2025\n",
      "4.8869444444424115\n",
      "January 25th, 2025\n",
      "January 25th, 2024\n",
      "January 26th, 2026\n",
      "3.6132023151837327\n",
      "January 25th, 2026\n",
      "January 25th, 2024\n",
      "January 25th, 2027\n",
      "3.4299941006026735\n",
      "January 25th, 2027\n",
      "January 25th, 2024\n",
      "January 25th, 2028\n",
      "3.5072366313834147\n",
      "January 25th, 2028\n",
      "January 25th, 2024\n",
      "January 25th, 2029\n",
      "3.6057911572521055\n",
      "January 25th, 2029\n",
      "January 25th, 2024\n",
      "January 25th, 2030\n",
      "3.696356761258901\n",
      "January 25th, 2030\n",
      "January 25th, 2024\n",
      "January 27th, 2031\n",
      "3.7519625386279642\n",
      "January 25th, 2031\n",
      "January 25th, 2024\n",
      "January 26th, 2032\n",
      "3.798013860566534\n",
      "January 25th, 2032\n",
      "January 25th, 2024\n",
      "January 25th, 2033\n",
      "3.8648821096239376\n",
      "January 25th, 2033\n",
      "January 25th, 2024\n",
      "January 25th, 2034\n",
      "3.9095404321894733\n",
      "January 25th, 2034\n",
      "January 25th, 2024\n",
      "January 25th, 2035\n",
      "3.9774149897416455\n",
      "January 25th, 2035\n",
      "January 25th, 2024\n",
      "January 25th, 2036\n",
      "4.02808092779825\n",
      "January 25th, 2036\n",
      "January 25th, 2024\n",
      "January 26th, 2037\n",
      "4.048949168661745\n",
      "January 25th, 2037\n",
      "January 25th, 2024\n",
      "January 25th, 2038\n",
      "4.046506805813643\n",
      "January 25th, 2038\n",
      "January 25th, 2024\n",
      "January 25th, 2039\n",
      "4.024111341729708\n",
      "January 25th, 2039\n",
      "January 25th, 2024\n",
      "January 25th, 2040\n",
      "3.9817264217619774\n",
      "January 25th, 2040\n",
      "January 25th, 2024\n",
      "January 25th, 2041\n",
      "3.9210208317277333\n",
      "January 25th, 2041\n",
      "January 25th, 2024\n",
      "January 27th, 2042\n",
      "3.84199595060585\n",
      "January 25th, 2042\n",
      "January 25th, 2024\n",
      "January 26th, 2043\n",
      "3.7450393329155474\n",
      "January 25th, 2043\n",
      "January 25th, 2024\n",
      "January 25th, 2044\n",
      "3.6302305288589576\n",
      "January 25th, 2044\n",
      "January 25th, 2024\n",
      "January 25th, 2045\n",
      "3.5035460925633046\n",
      "January 25th, 2045\n",
      "January 25th, 2024\n",
      "January 25th, 2046\n",
      "3.3884455418002446\n",
      "January 25th, 2046\n",
      "January 25th, 2024\n",
      "January 25th, 2047\n",
      "3.2914530168406175\n",
      "January 25th, 2047\n",
      "January 25th, 2024\n",
      "January 27th, 2048\n",
      "3.2122739332613226\n",
      "January 25th, 2048\n",
      "January 25th, 2024\n",
      "January 25th, 2049\n",
      "3.1506493221350538\n",
      "January 25th, 2049\n",
      "January 25th, 2024\n",
      "January 25th, 2050\n",
      "3.1021931013918813\n",
      "January 25th, 2050\n",
      "January 25th, 2024\n",
      "January 25th, 2051\n",
      "3.0498632996478703\n",
      "January 25th, 2051\n",
      "January 25th, 2024\n",
      "January 25th, 2052\n",
      "2.9891161467228144\n",
      "January 25th, 2052\n",
      "January 25th, 2024\n",
      "January 27th, 2053\n",
      "2.9200062541354286\n",
      "January 25th, 2053\n",
      "January 25th, 2024\n",
      "January 26th, 2054\n",
      "2.842203300503704\n",
      "January 25th, 2054\n",
      "January 25th, 2024\n",
      "January 25th, 2055\n",
      "2.7574574317445144\n"
     ]
    },
    {
     "ename": "NameError",
     "evalue": "name 'figure' is not defined",
     "output_type": "error",
     "traceback": [
      "\u001B[1;31m---------------------------------------------------------------------------\u001B[0m",
      "\u001B[1;31mNameError\u001B[0m                                 Traceback (most recent call last)",
      "Cell \u001B[1;32mIn[6], line 138\u001B[0m\n\u001B[0;32m    136\u001B[0m s_plot \u001B[38;5;241m=\u001B[39m []\n\u001B[0;32m    137\u001B[0m yr_axis2 \u001B[38;5;241m=\u001B[39m np\u001B[38;5;241m.\u001B[39marray(yr_axis)\n\u001B[1;32m--> 138\u001B[0m s1 \u001B[38;5;241m=\u001B[39m \u001B[43mfigure\u001B[49m(width\u001B[38;5;241m=\u001B[39m\u001B[38;5;241m700\u001B[39m, height\u001B[38;5;241m=\u001B[39m\u001B[38;5;241m400\u001B[39m, tools \u001B[38;5;241m=\u001B[39m [\u001B[38;5;124m\"\u001B[39m\u001B[38;5;124mpan\u001B[39m\u001B[38;5;124m\"\u001B[39m,\u001B[38;5;124m\"\u001B[39m\u001B[38;5;124mhover\u001B[39m\u001B[38;5;124m\"\u001B[39m,\u001B[38;5;124m\"\u001B[39m\u001B[38;5;124mwheel_zoom\u001B[39m\u001B[38;5;124m\"\u001B[39m,\u001B[38;5;124m\"\u001B[39m\u001B[38;5;124mbox_zoom\u001B[39m\u001B[38;5;124m\"\u001B[39m,\u001B[38;5;124m\"\u001B[39m\u001B[38;5;124msave\u001B[39m\u001B[38;5;124m\"\u001B[39m,\u001B[38;5;124m\"\u001B[39m\u001B[38;5;124mreset\u001B[39m\u001B[38;5;124m\"\u001B[39m,\u001B[38;5;124m\"\u001B[39m\u001B[38;5;124mhelp\u001B[39m\u001B[38;5;124m\"\u001B[39m])\n\u001B[0;32m    139\u001B[0m s1\u001B[38;5;241m.\u001B[39mxgrid\u001B[38;5;241m.\u001B[39mvisible \u001B[38;5;241m=\u001B[39m \u001B[38;5;28;01mFalse\u001B[39;00m\n\u001B[0;32m    140\u001B[0m s1\u001B[38;5;241m.\u001B[39mygrid\u001B[38;5;241m.\u001B[39mvisible \u001B[38;5;241m=\u001B[39m \u001B[38;5;28;01mFalse\u001B[39;00m\n",
      "\u001B[1;31mNameError\u001B[0m: name 'figure' is not defined"
     ]
    }
   ],
   "source": [
    "#def plt_ois_curve(c1, h1=[0], max_tenor=30, bar_chg = 0, sprd = 0, name = '',fwd_tenor = '1y',int_tenor = '1y', tail = 1, curve_fill = \"\", label_curve_name = 1):\n",
    "#    mpl.rcParams.update(mpl.rcParamsDefault)\n",
    "    #### build curves\n",
    "c1 = ['SOFR_DC']\n",
    "#    h1 = [0,'15-03-2019']\n",
    "h1 = [0, -1]\n",
    "bar_chg = 1\n",
    "sprd = 0\n",
    "max_tenor = 30\n",
    "tail = 1\n",
    "fwd_tenor = '1y'\n",
    "int_tenor = '1y'\n",
    "name = 'Fwd Tenors: '+fwd_tenor\n",
    "curve_fill = ''\n",
    "label_curve_name = 1\n",
    "built_curve = swtb1.all_curves\n",
    "#built_curve = 0\n",
    "\n",
    "n_ccy = len(c1)\n",
    "n_chg = len(h1)\n",
    "\n",
    "today = ql.Date(datetime.datetime.now().day,datetime.datetime.now().month,datetime.datetime.now().year)\n",
    "if built_curve == 0:\n",
    "    crv_list = {}\n",
    "    for k in np.arange(n_ccy):\n",
    "        c2 = ccy(c1[k], today)\n",
    "        if c2.ois_trigger == 0:\n",
    "            crv_list[c1[k]] = [swap_build(c1[k], i) for i in h1]\n",
    "        else:\n",
    "            crv_list[c1[k]] = [ois_dc_build(c1[k], b=h1[i]) for i in np.arange(len(h1))]\n",
    "\n",
    "    crv = flat_lst(list(crv_list.values()))\n",
    "else:\n",
    "    crv = built_curve\n",
    "\n",
    "h2 = [crv[i].trade_date for i in np.arange(len(crv))]\n",
    "\n",
    "if fwd_tenor[-1] == 'd':\n",
    "    fwd_tenor2 = ql.Days\n",
    "elif fwd_tenor[-1] == 'm':\n",
    "    fwd_tenor2 = ql.Months\n",
    "else:\n",
    "    fwd_tenor2 = ql.Years\n",
    "\n",
    "if ((bar_chg == 0 ) & (sprd == 0)):\n",
    "    n_plots = 1\n",
    "    n_obj = {'curve': [n_ccy*n_chg]}\n",
    "elif ((bar_chg == 1 ) & (sprd == 0)):\n",
    "    if (n_chg < 3):\n",
    "        n_plots = 2\n",
    "        n_obj = {'curve':[n_ccy*n_chg], 'chg':[n_ccy]}\n",
    "\n",
    "    elif ((n_ccy == 1) & (n_chg > 3)):\n",
    "        n_plots = 2\n",
    "        n_obj = {'curve': [n_ccy*n_chg], 'chg': [n_chg-1]}\n",
    "    else:\n",
    "        n_plots = 1 + n_ccy\n",
    "        n_obj = {'curve': [n_ccy*n_chg], 'chg' : [n_chg-1]*n_ccy }\n",
    "\n",
    "elif ((bar_chg == 0 ) & (sprd == 1)):\n",
    "    n_plots = 2\n",
    "    n_obj = {'curve ': [n_ccy*n_chg], 'chg': [n_ccy-1] }\n",
    "\n",
    "else:\n",
    "    if (n_chg < 3):\n",
    "        n_plots = 3\n",
    "        n_obj = {'curve': [n_ccy*n_chg], 'sprd': [n_ccy-1], 'chg': [n_ccy-1] }\n",
    "    elif ((n_ccy == 2) & (n_chg > 3)):\n",
    "        n_plots = 3\n",
    "        n_obj = { 'curve': [n_ccy*n_chg], 'sprd': [n_ccy-1], 'chg': [n_chg-1] }\n",
    "    else:\n",
    "        n_plots = 1 + n_ccy\n",
    "        n_obj = { 'curve': [n_ccy*n_chg], 'sprd' : [n_ccy-1],  'chg' : [n_chg-1]*(n_ccy-1) }\n",
    "\n",
    "#### Set Layout?\n",
    "\n",
    "\n",
    "\n",
    "#### Get ALL Data\n",
    "rates = dict([(key, []) for key in c1])\n",
    "for i in np.arange(len(crv)):\n",
    "    if crv[i].ois_trigger == 1:\n",
    "        i=1\n",
    "        d2 = crv[i].ref_date\n",
    "        print('d2:', d2)\n",
    "        d3 = d2 + ql.Period(max_tenor,ql.Years)\n",
    "#       dates_in = [ ql.Date(serial) for serial in range(d2.serialNumber(),d3.serialNumber()+1) ]   #### dates for plotting !!\n",
    "#       yr_axis = [(dates_in[i]-dates_in[0])/365.25 for i in range(len(dates_in)) ]\n",
    "        dates_in2 = ql.MakeSchedule(d2, d3, ql.Period(int_tenor))  #### dates for pricing !!\n",
    "        yr_axis = [(dates_in2[i]-dates_in2[0])/365.25 for i in range(len(dates_in2)) ]\n",
    "        for d in dates_in2:\n",
    "            print(d)\n",
    "            print(crv[i].ref_date)\n",
    "            print(crv[i].cal.advance(d,int(fwd_tenor[0]),fwd_tenor2))\n",
    "            print(100*crv[i].curve.forwardRate(d, crv[i].cal.advance(d,int(fwd_tenor[0]),fwd_tenor2), ql.Actual365Fixed(), ql.Simple).rate())\n",
    "\n",
    "\n",
    "        rates_c = [100*crv[i].curve.forwardRate(d, crv[i].cal.advance(d,int(fwd_tenor[0]),fwd_tenor2), ql.Actual365Fixed(), ql.Simple).rate() for d in dates_in2]\n",
    "        rates[c1[int(np.floor(i/len(h1)))]].append(rates_c)\n",
    "\n",
    "    else:\n",
    "        yr_axis = np.arange(max_tenor)\n",
    "        rates_c = []\n",
    "        j = 0\n",
    "        while j < max_tenor:\n",
    "            rates_c.append(Swap_Pricer([[crv[i],j,tail]]).rate[0])\n",
    "            j+=1\n",
    "        rates[c1[int(np.floor(i/len(h1)))]].append(rates_c)\n",
    "\n",
    "rates_change = dict([(key, []) for key in c1])\n",
    "for j in rates.keys():\n",
    "    k = 1\n",
    "    while k < n_chg:\n",
    "        rates_diff = 100*( np.array(rates[j][0]) - np.array(rates[j][k]))\n",
    "        rates_change[j].append(rates_diff.tolist())\n",
    "        k+=1\n",
    "bar_dict = rates_change\n",
    "\n",
    "if sprd == 1:\n",
    "    c2 = [c1[0]+' - '+c1[i] for i in np.arange(1,n_ccy)]\n",
    "    spreads = dict([(key, []) for key in c2])\n",
    "    for i,j in enumerate(spreads.keys()):\n",
    "        spreads[j] = 100*(np.array(rates[list(rates.keys())[0]]) - np.array(rates[list(rates.keys())[i+1]]))\n",
    "\n",
    "    spreads_change = dict([(key, []) for key in c2])\n",
    "    for j in spreads.keys():\n",
    "        k = 1\n",
    "        while k < n_chg:\n",
    "            sprd_chg = 1*( np.array(spreads[j][0]) - np.array(spreads[j][k]))\n",
    "            spreads_change[j].append(sprd_chg.tolist())\n",
    "            k+=1\n",
    "    bar_dict = spreads_change\n",
    "\n",
    "\n",
    "## Plot curve\n",
    "s_plot = []\n",
    "yr_axis2 = np.array(yr_axis)\n",
    "s1 = figure(width=700, height=400, tools = [\"pan\",\"hover\",\"wheel_zoom\",\"box_zoom\",\"save\",\"reset\",\"help\"])\n",
    "s1.xgrid.visible = False\n",
    "s1.ygrid.visible = False\n",
    "\n",
    "for i in rates.keys():\n",
    "    [s1.line(yr_axis2, rates[i][j],\n",
    "             legend_label = [str(ccy(i,today).curncy)+': '+str(h2[j]), i+': '+str(h2[j])][label_curve_name],\n",
    "             line_width = 2,\n",
    "             color =  Category20[20][(j+2*(list(rates.keys()).index(i))+1)]) for j in np.arange(n_chg)]\n",
    "#   [s1.circle(yr_axis2, rates[i][j], size=0.5, fill_color= Category20[20][2*list(rates.keys()).index(i)]) for j in np.arange(n_chg)]\n",
    "#   print(Category20[20][2*list(rates.keys()).index(i)])\n",
    "    if len(curve_fill) > 0:\n",
    "        for j in np.arange(len(curve_fill)):\n",
    "            x_0 = np.where([(yr_axis2 > curve_fill[j][0])])[1][0]\n",
    "            x_1 = np.where([(yr_axis2 < curve_fill[j][1])])[1][-1]\n",
    "            s1.varea(x=yr_axis2[x_0:x_1+1], y1=[0]*len(yr_axis2[x_0:x_1+1]), y2=rates[i][0][x_0:x_1+1], color=\"green\", alpha=0.7)\n",
    "s1.legend.label_text_font = \"calibri\"\n",
    "s1.legend.label_text_font_size = \"9pt\"\n",
    "s1.legend.spacing = 1\n",
    "s1.xaxis.axis_label = 'Rate'\n",
    "s1.yaxis.axis_label = 'Tenor'\n",
    "s_plot.append(s1)\n",
    "#layout = row(s1)\n",
    "\n",
    "## Plot Sprd\n",
    "if sprd == 1:\n",
    "    s2 = figure(width=700, height=300, tools = [\"pan\",\"hover\",\"wheel_zoom\",\"box_zoom\",\"save\",\"reset\",\"help\"])\n",
    "    s2.xgrid.grid_line_dash = 'dotted'\n",
    "    s2.ygrid.grid_line_dash = 'dotted'\n",
    "#    plt.setp(axs[1], xlim=axs[0].get_xlim())\n",
    "    for j in spreads.keys():\n",
    "        s2.line( yr_axis , spreads[j][0],\n",
    "                 line_width = 2,\n",
    "                 legend_label = str(j),\n",
    "                 color = Category20[20][(2*(list(bar_dict.keys()).index(j))+1)] )\n",
    "    s2.legend.label_text_font = \"calibri\"\n",
    "    s2.legend.label_text_font_size = \"9pt\"\n",
    "    s2.legend.spacing = 1\n",
    "    s2.xaxis.axis_label = 'Spread'\n",
    "    s2.yaxis.axis_label = 'Tenor'\n",
    "    s_plot.append(s2)\n",
    "\n",
    "\n",
    "## Plot Chg\n",
    "if sprd == 1:\n",
    "    start_sub_chg = 2\n",
    "else:\n",
    "    start_sub_chg = 1\n",
    "\n",
    "if bar_chg == 1:\n",
    "    n_sub_chg = len(n_obj['chg'])\n",
    "    if n_sub_chg == 1:\n",
    "        s3 = figure(width=700, height=300, tools = [\"pan\",\"hover\",\"wheel_zoom\",\"box_zoom\",\"save\",\"reset\",\"help\"])\n",
    "        s3.xgrid.grid_line_dash = 'dotted'\n",
    "        s3.ygrid.grid_line_dash = 'dotted'\n",
    "        width = 0.15\n",
    "        bar_yr_axis = yr_axis\n",
    "        for i in bar_dict.keys():\n",
    "            for j in np.arange(len(bar_dict[i])):\n",
    "                s3.vbar(x=np.array(bar_yr_axis), top=bar_dict[i][j],\n",
    "                        legend_label=i+': '+str(h1[j+1]),\n",
    "                        width=width,\n",
    "                        color = Category20[20][(j+2*(list(bar_dict.keys()).index(i))+1)] )\n",
    "                bar_yr_axis = np.array(bar_yr_axis)+width+0.1\n",
    "        s3.legend.label_text_font = \"calibri\"\n",
    "        s3.legend.label_text_font_size = \"9pt\"\n",
    "        s3.legend.spacing = 1\n",
    "        s3.xaxis.axis_label = 'Chg'\n",
    "        s3.yaxis.axis_label = 'Tenor'\n",
    "        s_plot.append(s3)\n",
    "    else:\n",
    "        for j in np.arange(n_sub_chg):\n",
    "            s4 = figure(width=700, height=300, tools = [\"pan\",\"hover\",\"wheel_zoom\",\"box_zoom\",\"save\",\"reset\",\"help\"])\n",
    "            s4.xgrid.grid_line_dash = 'dotted'\n",
    "            s4.ygrid.grid_line_dash = 'dotted'\n",
    "            width = 0.15\n",
    "            bar_yr_axis = yr_axis\n",
    "            for i in np.arange(len(bar_dict[ list(bar_dict.keys())[j]  ])):\n",
    "                s4.vbar(x=np.array(bar_yr_axis)+1, top=bar_dict[list(bar_dict.keys())[j]][i],\n",
    "                        legend_label= list(bar_dict.keys())[j]+': '+str(h1[i+1]),\n",
    "                        width=width,\n",
    "                        color = Category20[20][(j+(2*i)+1)] )\n",
    "                bar_yr_axis = np.array(bar_yr_axis)+width+0.1\n",
    "                s4.legend.label_text_font = \"calibri\"\n",
    "                s4.legend.label_text_font_size = \"9pt\"\n",
    "                s4.legend.spacing = 1\n",
    "                s_plot.append(s4)\n",
    "\n",
    "\n",
    "\n",
    "\n",
    "layout = column(*s_plot)\n",
    "show(layout)\n"
   ],
   "metadata": {
    "collapsed": false,
    "ExecuteTime": {
     "end_time": "2024-01-24T20:09:05.374684300Z",
     "start_time": "2024-01-24T20:09:00.368547900Z"
    }
   }
  },
  {
   "cell_type": "code",
   "execution_count": 104,
   "outputs": [],
   "source": [
    "a = 'GDP'\n",
    "b = 'US'\n",
    "c = '2024'\n",
    "contrib1 = 'GS'\n",
    "off = 'FED'\n",
    "\n",
    "contrib = ['BAR', 'BOA', 'BNP', 'CE', 'CIT', 'CAG', 'CSU', 'DNS', 'FTC', 'GS', 'HSB', 'IG', 'JPM', 'MS', 'NTX', 'NS', 'NDA', 'PMA', 'UBS', 'WF', 'SCB' ]\n",
    "today = ql.Date(datetime.datetime.now().day,datetime.datetime.now().month,datetime.datetime.now().year)\n",
    "t_stg = bbg_date_str(today)\n",
    "cal = ql.TARGET()\n",
    "start = bbg_date_str(cal.advance(today, ql.Period( -1, ql.Years)))\n",
    "\n",
    "if a == 'GDP':\n",
    "    e = 'GD'\n",
    "elif a == 'CPI':\n",
    "    e = 'PI'\n",
    "elif a == 'PCE':\n",
    "    e = 'PC'\n",
    "elif a == 'Core-PCE':\n",
    "    e = 'CC'\n",
    "elif a == 'UNEMP':\n",
    "    e = 'UP'\n",
    "elif a == 'FISC':\n",
    "    e = 'BB'\n",
    "\n",
    "g1 = [\"EC\"+e+b+\" \"+c[-2:]+\" \"+i+\" Index\" for i in contrib]\n",
    "\n",
    "df1 = con.bdh(g1, 'PX_LAST',start, t_stg, longdata=True)\n",
    "df1['date'] = [df1['date'][i].date() for i in np.arange(len(df1))]\n",
    "df2 = con.bdh(\"EC\"+e+b+\" \"+c[-2:]+\" \"+off+\" Index\", 'PX_LAST',start, t_stg, longdata=True)\n",
    "\n",
    "d1 = [ql_to_datetime(cal.advance(today, ql.Period( int(-10-i), ql.Days))) for i in np.arange(240)]\n",
    "m1 = [df1[(df1['date'] > d1[i]) & (df1['date'] < ql_to_datetime(cal.advance(today, ql.Period( int(0-i), ql.Days)))) ]['value'].mean()  for i in np.arange(len(d1))]\n",
    "\n",
    "c1 = df1['ticker'].unique()\n",
    "\n",
    "#HoverTool(tooltips=[('date', '@DateTime{%F}')],formatters={'@DateTime': 'datetime'})\n",
    "\n",
    "s1 = figure(width=1000, height=400, tools = [\"pan\",\"wheel_zoom\",\"box_zoom\",\"save\",\"reset\",\"help\"], toolbar_location='left', x_axis_type='datetime')\n",
    "s1.xaxis.formatter=DatetimeTickFormatter(days=\"%d-%b-%y\", months=\"%d-%b-%y\")\n",
    "s1.add_tools(HoverTool(tooltips=[('date', '$x{%b-%y}'), ('y', '$y')],\n",
    "                       formatters={'$x': 'datetime'}))\n",
    "s1.xgrid.visible = False\n",
    "s1.ygrid.visible = False\n",
    "s1.add_layout(Legend(), 'right')\n",
    "\n",
    "for i in np.arange(len(c1)):\n",
    "    if c1[i].split()[2] == contrib1:\n",
    "        c2 = 'red'\n",
    "        c3 = contrib1+\": \"+str(df1[df1['ticker'] == \"EC\"+e+b+\" \"+c[-2:]+\" \"+contrib1+\" Index\"].iloc[-1]['value'])\n",
    "    else:\n",
    "        c2 = 'silver'\n",
    "        c3 = ''\n",
    "    a1 = df1[df1['ticker'] == c1[i]]\n",
    "    s1.line(a1['date'], a1['value'], legend_label=c3, color=c2, alpha=1.0, muted_alpha = 0.25)\n",
    "\n",
    "    s1.legend.label_text_font = \"calibri\"\n",
    "    s1.legend.label_text_font_size = \"9pt\"\n",
    "    s1.legend.spacing = 1\n",
    "    s1.legend.click_policy = \"mute\"\n",
    "    s1.xaxis.axis_label = 'Value'\n",
    "    s1.yaxis.axis_label = 'Date'\n",
    "\n",
    "s1.line(df2['date'], df2['value'], color = 'forestgreen', legend_label = off+\": \"+str(df2['value'][len(df2)-1]), alpha=1.0)\n",
    "s1.line( np.array(d1), np.array(m1), color = 'blue', legend_label = 'Avg: '+str(np.round(m1[0],2)), alpha=1.0)\n",
    "s1.title.text = b+\" \"+a+\" forecast: \"+c\n",
    "s1.title.text_font = \"calibri\"\n",
    "s1.title.text_font_size = '10pt'\n",
    "s1.title.align = 'left'\n",
    "\n",
    "layout = row(s1)\n",
    "show(layout)\n",
    "\n",
    "\n",
    "\n",
    "\n",
    "\n"
   ],
   "metadata": {
    "collapsed": false,
    "ExecuteTime": {
     "end_time": "2024-01-24T07:57:15.244706200Z",
     "start_time": "2024-01-24T07:57:13.212714700Z"
    }
   }
  },
  {
   "cell_type": "code",
   "execution_count": 28,
   "outputs": [],
   "source": [
    "rpi1 = infl_zc_swap_build('UKRPI', b=0)\n",
    "rpi2 = infl_zc_swap_build('UKRPI', b=-1)\n"
   ],
   "metadata": {
    "collapsed": false,
    "ExecuteTime": {
     "end_time": "2024-01-24T15:37:19.948216900Z",
     "start_time": "2024-01-24T15:36:11.397922800Z"
    }
   }
  },
  {
   "cell_type": "code",
   "execution_count": 33,
   "outputs": [],
   "source": [
    "\n",
    "c1 = ['UKRPI']\n",
    "h1 = [0,-10]\n",
    "bar_chg = 1\n",
    "sprd = 0\n",
    "max_tenor = 30\n",
    "built_curve = [rpi1, rpi2]\n",
    "name = ''\n",
    "\n",
    "n_ccy = len(c1)\n",
    "n_chg = len(h1)\n",
    "\n",
    "os.chdir('C:\\\\Users\\A00007579\\PycharmProjects\\pythonProject')\n",
    "today = ql.Date(datetime.datetime.now().day,datetime.datetime.now().month,datetime.datetime.now().year)\n",
    "if built_curve == 0:\n",
    "    crv_list = {}\n",
    "    for k in np.arange(n_ccy):\n",
    "        c2 = ccy_infl(c1[k], today)\n",
    "        crv_list[c1[k]] = [infl_zc_swap_build( c1[k] ,i ,base_month_offset=0) for i in h1]\n",
    "\n",
    "    crv = flat_lst(list(crv_list.values()))\n",
    "else:\n",
    "    crv = built_curve\n",
    "\n",
    "ref_dates = [crv[i].ref_date for i in np.arange(len(crv))]\n",
    "\n",
    "    ###### define number of subplots and number of objects !!!!!\n",
    "if ((bar_chg == 0 ) & (sprd == 0)):\n",
    "    n_plots = 1\n",
    "    n_obj = {'curve': [n_ccy*n_chg]}\n",
    "elif ((bar_chg == 1 ) & (sprd == 0)):\n",
    "    if (n_chg < 3):\n",
    "        n_plots = 2\n",
    "        n_obj = {'curve':[n_ccy*n_chg], 'chg':[n_ccy]}\n",
    "\n",
    "    elif ((n_ccy == 1) & (n_chg > 3)):\n",
    "        n_plots = 2\n",
    "        n_obj = {'curve': [n_ccy*n_chg], 'chg': [n_chg-1]}\n",
    "    else:\n",
    "        n_plots = 1 + n_ccy\n",
    "        n_obj = {'curve': [n_ccy*n_chg], 'chg' : [n_chg-1]*n_ccy }\n",
    "\n",
    "elif ((bar_chg == 0 ) & (sprd == 1)):\n",
    "    n_plots = 2\n",
    "    n_obj = {'curve ': [n_ccy*n_chg], 'chg': [n_ccy-1] }\n",
    "\n",
    "else:\n",
    "    if (n_chg < 3):\n",
    "        n_plots = 3\n",
    "        n_obj = {'curve': [n_ccy*n_chg], 'sprd': [n_ccy-1], 'chg': [n_ccy-1] }\n",
    "    elif ((n_ccy == 2) & (n_chg > 3)):\n",
    "        n_plots = 3\n",
    "        n_obj = { 'curve': [n_ccy*n_chg], 'sprd': [n_ccy-1], 'chg': [n_chg-1] }\n",
    "    else:\n",
    "        n_plots = 1 + n_ccy\n",
    "        n_obj = { 'curve': [n_ccy*n_chg], 'sprd' : [n_ccy-1],  'chg' : [n_chg-1]*(n_ccy-1) }\n",
    "\n",
    "### Get ALL Data\n",
    "inf_bases_dict = dict([(key, []) for key in c1])\n",
    "for i in np.arange(len(crv)):\n",
    "    infl_base = crv[i].base_month\n",
    "    inf_bases_dict[c1[int(np.floor(i/len(h1)))]].append(infl_base)\n",
    "\n",
    "rates = dict([(key, []) for key in c1])\n",
    "for i in np.arange(len(crv)):\n",
    "    yr_axis = np.arange(max_tenor)\n",
    "    rates_c = []\n",
    "    j = 0\n",
    "    while j < max_tenor:\n",
    "        start_sw = inf_bases_dict[list(inf_bases_dict.keys())[int(np.floor(i/len(h1)))]][0] +  ql.Period(str(j)+\"Y\")\n",
    "        rates_c.append(Infl_ZC_Pricer(crv[i], start_sw, 1, lag = 0).zc_rate)\n",
    "        j+=1\n",
    "    rates[c1[int(np.floor(i/len(h1)))]].append(rates_c)\n",
    "\n",
    "rates_change = dict([(key, []) for key in c1])\n",
    "for j in rates.keys():\n",
    "    k = 1\n",
    "    while k < n_chg:\n",
    "        rates_diff = 100*( np.array(rates[j][0]) - np.array(rates[j][k]))\n",
    "        rates_change[j].append(rates_diff.tolist())\n",
    "        k+=1\n",
    "bar_dict = rates_change\n",
    "\n",
    "if sprd == 1:\n",
    "    c2 = [c1[0]+' - '+c1[i] for i in np.arange(1,n_ccy)]\n",
    "    spreads = dict([(key, []) for key in c2])\n",
    "    for i,j in enumerate(spreads.keys()):\n",
    "        spreads[j] = 100*(np.array(rates[list(rates.keys())[0]]) - np.array(rates[list(rates.keys())[i+1]]))\n",
    "\n",
    "    spreads_change = dict([(key, []) for key in c2])\n",
    "    for j in spreads.keys():\n",
    "        k = 1\n",
    "        while k < n_chg:\n",
    "            sprd_chg = 1*( np.array(spreads[j][0]) - np.array(spreads[j][k]))\n",
    "            spreads_change[j].append(sprd_chg.tolist())\n",
    "            k+=1\n",
    "    bar_dict = spreads_change\n",
    "\n",
    "### Plot Curve\n",
    "s_plot = []\n",
    "s1 = figure(width=1000, height=400, tools = [\"pan\",\"hover\",\"wheel_zoom\",\"box_zoom\",\"save\",\"reset\",\"help\"], toolbar_location='left')\n",
    "s1.xgrid.visible = False\n",
    "s1.ygrid.visible = False\n",
    "s1.add_layout(Legend(), 'right')\n",
    "\n",
    "for i in rates.keys():\n",
    "    [s1.line(yr_axis+1, rates[i][j],\n",
    "             legend_label = i+': '+str(ref_dates[j]),\n",
    "             line_width = 2,\n",
    "             color =  Category20[20][ 2*(list(rates.keys()).index(i)+ (j* (len(list(rates.keys())) == 1))) ], alpha = (1.0-(0.4*j)),\n",
    "             muted_color = Category20[20][ 2*(list(rates.keys()).index(i)+ (j* (len(list(rates.keys())) == 1))) ], muted_alpha=0.2) for j in np.arange(n_chg)]\n",
    "\n",
    "s1.legend.label_text_font = \"calibri\"\n",
    "s1.legend.label_text_font_size = \"9pt\"\n",
    "s1.legend.spacing = 1\n",
    "s1.legend.click_policy = \"mute\"\n",
    "s1.xaxis.axis_label = 'ZC_Rate'\n",
    "s1.yaxis.axis_label = 'Tenor'\n",
    "s_plot.append(s1)\n",
    "\n",
    "### Plot Sprd\n",
    "if sprd == 1:\n",
    "    s2 = figure(width=1000, height=300, tools = [\"pan\",\"hover\",\"wheel_zoom\",\"box_zoom\",\"save\",\"reset\",\"help\"], toolbar_location='left')\n",
    "    s2.xgrid.grid_line_dash = 'dotted'\n",
    "    s2.ygrid.grid_line_dash = 'dotted'\n",
    "    s2.add_layout(Legend(), 'right')\n",
    "    for j in spreads.keys():\n",
    "        s2.line( yr_axis+1 , spreads[j][0],\n",
    "                     line_width = 2,\n",
    "                     legend_label = str(j),\n",
    "                     color = Category20[20][2*list(bar_dict.keys()).index(j)], alpha = 1.0,\n",
    "                     muted_color = Category20[20][2*list(bar_dict.keys()).index(j)], muted_alpha=0.2)\n",
    "    s2.legend.label_text_font = \"calibri\"\n",
    "    s2.legend.label_text_font_size = \"9pt\"\n",
    "    s2.legend.spacing = 1\n",
    "    s2.legend.click_policy = \"mute\"\n",
    "    s2.xaxis.axis_label = 'Spread'\n",
    "    s2.yaxis.axis_label = 'Tenor'\n",
    "    s_plot.append(s2)\n",
    "\n",
    "### Plot Chg\n",
    "if sprd == 1:\n",
    "    start_sub_chg = 2\n",
    "else:\n",
    "    start_sub_chg = 1\n",
    "\n",
    "if bar_chg == 1:\n",
    "    n_sub_chg = len(n_obj['chg'])\n",
    "    if n_sub_chg == 1:\n",
    "        s3 = figure(width=1000, height=300, tools = [\"pan\",\"hover\",\"wheel_zoom\",\"box_zoom\",\"save\",\"reset\",\"help\"], toolbar_location='left')\n",
    "        s3.xgrid.grid_line_dash = 'dotted'\n",
    "        s3.ygrid.grid_line_dash = 'dotted'\n",
    "        s3.add_layout(Legend(), 'right')\n",
    "        width = 0.15\n",
    "        bar_yr_axis = yr_axis\n",
    "        for i in bar_dict.keys():\n",
    "            for j in np.arange(len(bar_dict[i])):\n",
    "                s3.vbar(x=np.array(bar_yr_axis)+1, top=bar_dict[i][j],\n",
    "                            legend_label = i+': '+str(h1[j+1]),\n",
    "                            width = width,\n",
    "                            color = Category20[20][ 2*(list(bar_dict.keys()).index(i)+ (j* (len(list(bar_dict.keys())) == 1))) ], alpha = (1.0-(0.4*j)),\n",
    "                            muted_color = Category20[20][ 2*(list(bar_dict.keys()).index(i)+ (j* (len(list(bar_dict.keys())) == 1))) ], muted_alpha=0.2)\n",
    "                bar_yr_axis = bar_yr_axis+width+0.1\n",
    "        s3.legend.label_text_font = \"calibri\"\n",
    "        s3.legend.label_text_font_size = \"9pt\"\n",
    "        s3.legend.spacing = 1\n",
    "        s3.legend.click_policy = \"mute\"\n",
    "        s3.xaxis.axis_label = 'Chg'\n",
    "        s3.yaxis.axis_label = 'Tenor'\n",
    "        s_plot.append(s3)\n",
    "\n",
    "    else:\n",
    "        for j in np.arange(n_sub_chg):\n",
    "            s4 = figure(width=1000, height=300, tools = [\"pan\",\"hover\",\"wheel_zoom\",\"box_zoom\",\"save\",\"reset\",\"help\"], toolbar_location='left')\n",
    "            s4.xgrid.grid_line_dash = 'dotted'\n",
    "            s4.ygrid.grid_line_dash = 'dotted'\n",
    "            s4.add_layout(Legend(), 'right')\n",
    "            width = 0.15\n",
    "            bar_yr_axis = yr_axis\n",
    "            for i in np.arange(len(bar_dict[ list(bar_dict.keys())[j]  ])):\n",
    "                s4.vbar(x=np.array(bar_yr_axis)+1, top=bar_dict[list(bar_dict.keys())[j]][i],\n",
    "                            legend_label= list(bar_dict.keys())[j]+': '+str(h1[i+1]),\n",
    "                            width = width,\n",
    "                            color = Category20[20][(j+(2*i)+1)],alpha = 1.0,\n",
    "                            muted_color = Category20[20][(j+(2*i)+1)], muted_alpha=0.2)\n",
    "                bar_yr_axis = bar_yr_axis+width+0.1\n",
    "                s4.legend.label_text_font = \"calibri\"\n",
    "                s4.legend.label_text_font_size = \"9pt\"\n",
    "                s4.legend.spacing = 1\n",
    "                s4.legend.click_policy = \"mute\"\n",
    "                s_plot.append(s4)\n",
    "\n",
    "\n",
    "\n",
    "layout = column(*s_plot)\n",
    "show(layout)\n",
    "\n",
    "\n",
    "\n",
    "\n",
    "\n",
    "\n",
    "\n",
    "\n",
    "\n",
    "\n",
    "\n",
    "\n",
    "\n",
    "\n",
    "\n",
    "\n",
    "\n",
    "\n"
   ],
   "metadata": {
    "collapsed": false,
    "ExecuteTime": {
     "end_time": "2024-01-24T15:47:43.814996800Z",
     "start_time": "2024-01-24T15:47:41.986952500Z"
    }
   }
  },
  {
   "cell_type": "code",
   "execution_count": 106,
   "outputs": [],
   "source": [
    "p1 = ['S0490FS 1Y1Y BLC Curncy']\n",
    "p2 = ['USOSFR10 Curncy']\n",
    "p3 = ['S0490FS 2Y1Y BLC Curncy', 'S0490FS 3Y1Y BLC Curncy']\n",
    "p4 = ['USOSFR5 Curncy', 'USOSFR30 Curncy']\n"
   ],
   "metadata": {
    "collapsed": false,
    "ExecuteTime": {
     "end_time": "2024-02-01T12:03:45.142518500Z",
     "start_time": "2024-02-01T12:03:45.099352900Z"
    }
   }
  },
  {
   "cell_type": "code",
   "execution_count": 144,
   "outputs": [],
   "source": [
    "st = sofr.ref_date\n",
    "et = sofr.cal.advance(st, ql.Period('1Y'))\n",
    "schedule = ql.MakeSchedule(st, et, ql.Period('1W'))\n",
    "\n",
    "[ql_to_datetime(schedule[int(i)]) for i in np.arange(len(schedule))]\n",
    "\n",
    "fwd_curve = [Swap_Pricer([[sofr, ql_to_datetime(schedule[int(i)]).strftime('%d-%m-%Y'),5],[sofr,ql_to_datetime(schedule[int(i)]).strftime('%d-%m-%Y'),30]]).spread for i in np.arange(len(schedule))]"
   ],
   "metadata": {
    "collapsed": false,
    "ExecuteTime": {
     "end_time": "2024-02-01T12:29:55.475425300Z",
     "start_time": "2024-02-01T12:29:53.567863300Z"
    }
   }
  },
  {
   "cell_type": "markdown",
   "source": [],
   "metadata": {
    "collapsed": false
   }
  },
  {
   "cell_type": "code",
   "execution_count": 244,
   "outputs": [],
   "source": [
    "\n",
    "def plot_tool_bbg(a, crv):\n",
    "#    a = [2,5,10]\n",
    "#    crv = ois_dc_build('SOFR_DC', b=0)\n",
    "\n",
    "    min_y = []\n",
    "    max_y = []\n",
    "\n",
    "    v_reg = []\n",
    "    fwd_reg = []\n",
    "    lab_reg = []\n",
    "\n",
    "    s1 = figure(width=550, height=275, tools = [\"pan\",'crosshair',\"wheel_zoom\",\"box_zoom\",\"save\",\"reset\",\"help\"], toolbar_location='right')\n",
    "    s1.xgrid.visible = False\n",
    "    s1.ygrid.visible = False\n",
    "    s1.xaxis.formatter=DatetimeTickFormatter(days=\"%d-%b-%y\", months=\"%d-%b-%y\")\n",
    "#    s1.add_tools(HoverTool(tooltips=[('date', '$x{%d.%b.%y}'), ('y', '$y')], formatters={'$x': 'datetime'}))\n",
    "\n",
    "    for j in np.arange(len(a)):\n",
    "        print(j)\n",
    "\n",
    "        if len(a[j]) == 4:\n",
    "            tk = []\n",
    "            if a[j][0] == 0:\n",
    "                tk.append(crv.bbgplot_tickers[0]+str(a[j][1])+' Curncy')\n",
    "            else:\n",
    "                tk.append(crv.bbgplot_tickers[1]+' '+str(a[j][0])+'Y'+str(a[j][1])+'Y'+ ' BLC Curncy')\n",
    "            if a[j][3] != 0:\n",
    "                if a[j][2] ==0:\n",
    "                    tk.append(crv.bbgplot_tickers[0]+str(a[j][3]) + ' Curncy')\n",
    "                else:\n",
    "                    tk.append(crv.bbgplot_tickers[1] + ' ' + str(a[j][2]) + 'Y' + str(a[j][3]) + 'Y' + ' BLC Curncy')\n",
    "            print(tk)\n",
    "\n",
    "            x1 = con.bdh(tk , 'PX_LAST', '20210101', datetime.now().strftime('%Y%m%d'))\n",
    "            x1 = x1.dropna()\n",
    "\n",
    "            if len(tk) == 1:\n",
    "                y = x1[(tk[0], 'PX_LAST')]\n",
    "                lab1 = tk[0].split(' ')[len(tk[0].split(' '))//3]\n",
    "            else:\n",
    "                y = 100*(x1.iloc[:,1] - x1.iloc[:,0])\n",
    "                lab1 = ' - '.join([tk[i].split(' ')[len(tk[i].split(' '))//3] for i in np.arange(len(tk))])\n",
    "\n",
    "            v_reg.append(y)\n",
    "            lab_reg.append(lab1)\n",
    "            ### mkt pricing\n",
    "            t1 = crv.ref_date\n",
    "            t2 = crv.cal.advance(t1, ql.Period('1Y'))\n",
    "            schedule = ql.MakeSchedule(t1, t2, ql.Period('1W'))\n",
    "            sch2 = [ datetime.combine(ql_to_datetime(schedule[int(i)]), time()) for i in np.arange(len(schedule))]\n",
    "\n",
    "            if len(tk) == 1:\n",
    "                fwd_curve = [Swap_Pricer([[crv, ql_to_datetime( crv.cal.advance(schedule[int(i)], ql.Period(str(a[j][0])+'Y'))  ).strftime('%d-%m-%Y')  ,a[j][1]]]).rate[0] for i in np.arange(len(schedule))]\n",
    "            else:\n",
    "                fwd_curve = [Swap_Pricer([[crv, ql_to_datetime(  crv.cal.advance(schedule[int(i)], ql.Period(str(a[j][0])+'Y'))   ).strftime('%d-%m-%Y'),a[j][1]],\n",
    "                                          [crv, ql_to_datetime(  crv.cal.advance(schedule[int(i)], ql.Period(str(a[j][2])+'Y'))   ).strftime('%d-%m-%Y'),a[j][3]]]).spread for i in np.arange(len(schedule))]\n",
    "            fwd_reg.append(fwd_curve)\n",
    "\n",
    "            min_y.append(min(min(fwd_curve),min(y)))\n",
    "            max_y.append(max(max(fwd_curve),max(y)))\n",
    "            ratio = (max_y[0] - min_y[0]) / (max_y[j] - min_y[j])\n",
    "            print('min_y: ', min_y, 'max_y: ', max_y, 'ratio: ', ratio)\n",
    "            z = [ min_y[0]  + (y[k] - min_y[j])*ratio for k in np.arange(len(y))]\n",
    "            fwd_curve_z = [ min_y[0]  + (fwd_curve[k] - min_y[j])*ratio for k in np.arange(len(fwd_curve))]\n",
    "\n",
    "            s1.add_tools(HoverTool(tooltips=[('date', '$x{%d.%b.%y}'), ('y', '@ht')], formatters={'$x': 'datetime'}))\n",
    "\n",
    "            s1.line('x', 'y', legend_label=lab1 , color=Category20[20][2*j], alpha=1.0, muted_alpha = 0.25, source = ColumnDataSource( data=dict(x= list(x1.index), y=z, ht=y)))\n",
    "            s1.line('x', 'y', legend_label=lab1 , color=Category20[20][(2*j)+1], alpha=0.8, muted_alpha = 0.25, source = ColumnDataSource( data=dict(x= sch2, y=fwd_curve_z, ht=fwd_curve)))\n",
    "\n",
    "        else:\n",
    "            tk=[]\n",
    "            for i in np.arange(len(a[j])):\n",
    "                if a[j][i] != 0:\n",
    "                    tk.append(crv.bbgplot_tickers[0]+str(a[j][i])+' Curncy')\n",
    "            print(tk)\n",
    "\n",
    "            x1 = con.bdh(tk, 'PX_LAST', '20210101', datetime.now().strftime('%Y%m%d'))\n",
    "#            print(x1)\n",
    "            x1 = x1.dropna()\n",
    "\n",
    "            if len(tk) == 2:\n",
    "                y = 100 * (x1.iloc[:, 1] - x1.iloc[:, 0])\n",
    "            else:\n",
    "                y = -100*(x1.iloc[:,2] + x1.iloc[:,0] - 2* x1.iloc[:,1])\n",
    "            lab1 = '-'.join([str(a[j][i]) for i in np.arange(len(tk))])\n",
    "\n",
    "            v_reg.append(y)\n",
    "            lab_reg.append(lab1)\n",
    "            ### mkt pricing\n",
    "            t1 = crv.ref_date\n",
    "            t2 = crv.cal.advance(t1, ql.Period('1Y'))\n",
    "            schedule = ql.MakeSchedule(t1, t2, ql.Period('1W'))\n",
    "            sch2 = [datetime.combine(ql_to_datetime(schedule[int(i)]), time()) for i in\n",
    "                    np.arange(len(schedule))]\n",
    "\n",
    "            if len(tk) == 2:\n",
    "                fwd_curve = [Swap_Pricer([[crv, ql_to_datetime( schedule[int(i)]).strftime('%d-%m-%Y'), a[j][0]],\n",
    "                                          [crv, ql_to_datetime( schedule[int(i)]).strftime('%d-%m-%Y'), a[j][1]]]).spread for i in np.arange(len(schedule))]\n",
    "            else:\n",
    "                fwd_curve = [Swap_Pricer([[crv, ql_to_datetime(schedule[int(i)]).strftime('%d-%m-%Y'), a[j][0]],\n",
    "                                          [crv, ql_to_datetime(schedule[int(i)]).strftime('%d-%m-%Y'), a[j][1]],\n",
    "                                          [crv, ql_to_datetime(schedule[int(i)]).strftime('%d-%m-%Y'), a[j][2]]]).fly for i in np.arange(len(schedule))]\n",
    "            fwd_reg.append(fwd_curve)\n",
    "\n",
    "            min_y.append(min(min(fwd_curve),min(y)))\n",
    "            max_y.append(max(max(fwd_curve),max(y)))\n",
    "            ratio = (max_y[0] - min_y[0]) / (max_y[j] - min_y[j])\n",
    "            print('min_y: ', min_y, 'max_y: ', max_y, 'ratio: ', ratio)\n",
    "            z = [ min_y[0]  + (y[k] - min_y[j])*ratio for k in np.arange(len(y))]\n",
    "            fwd_curve_z = [ min_y[0]  + (fwd_curve[k] - min_y[j])*ratio for k in np.arange(len(fwd_curve))]\n",
    "\n",
    "            s1.add_tools(HoverTool(tooltips=[('date', '$x{%d.%b.%y}'), ('y', '@ht')], formatters={'$x': 'datetime'}))\n",
    "\n",
    "            s1.line('x', 'y', legend_label=lab1, color=Category20[20][2*j], alpha=1.0, muted_alpha=0.25, source = ColumnDataSource( data=dict(x= list(x1.index), y=z, ht=y)  ))\n",
    "            s1.line('x', 'y', legend_label=lab1, color=Category20[20][(2*j)+1], alpha=0.8, muted_alpha=0.25, source = ColumnDataSource( data=dict(x= sch2, y=fwd_curve_z, ht=fwd_curve)))\n",
    "\n",
    "\n",
    "        s1.legend.label_text_font = \"calibri\"\n",
    "        s1.legend.label_text_font_size = \"9pt\"\n",
    "        s1.legend.location = 'top_left'\n",
    "        s1.legend.click_policy = \"mute\"\n",
    "        s1.legend.spacing = 1\n",
    "        s1.yaxis.major_label_text_color = Category20[20][0]\n",
    "        s1.yaxis.axis_line_color = \"red\"\n",
    "\n",
    "        s1.xaxis.axis_label = 'Date'\n",
    "        s1.yaxis.axis_label = 'Rate'\n",
    "\n",
    "    if len(a) == 2:\n",
    "#        print('v_reg:', v_reg)\n",
    "#        print('len_v_reg ===', len(v_reg))\n",
    "        df_x1 = pd.DataFrame(v_reg[0])\n",
    "        df_x2 = pd.DataFrame(v_reg[1])\n",
    "        df_reg = pd.merge(df_x1, df_x2, left_index=True, right_index=True)\n",
    "        df_reg = df_reg.dropna()\n",
    "\n",
    "        x = df_reg.iloc[:,0]\n",
    "        y = df_reg.iloc[:,1]\n",
    "#        print('x_reg', x)\n",
    "#        print('y_reg', y)\n",
    "\n",
    "        tab1 = TabPanel(child=s1, title=\"plot\")\n",
    "\n",
    "        slope, intercept, r_value, p_value, std_err = stats.linregress(x, y)\n",
    "        y_reg_fit = intercept + (slope * x)\n",
    "        residuals = y - y_reg_fit\n",
    "#        print('x_fwd:', fwd_reg[0])\n",
    "#        print('y_fwd:', fwd_reg[1])\n",
    "#        print('int:', intercept, 'slope:', slope)\n",
    "        residuals_fwds = fwd_reg[1] - intercept - (slope * np.array(fwd_reg[0]))\n",
    "\n",
    "        s2 = figure(width=800, height=425, tools = [\"pan\",'crosshair',\"wheel_zoom\",\"box_zoom\",\"save\",\"reset\",\"help\"], toolbar_location='right')\n",
    "        s2.add_tools(HoverTool(tooltips=[('x', '$x'), ('y', '$y')]))\n",
    "        s2.xgrid.visible = False\n",
    "        s2.ygrid.visible = False\n",
    "        s2_alphas = np.linspace(0.1, 1.0, len(df_reg))\n",
    "        s2_source = ColumnDataSource(data=dict(x=x, y=y, s2_alphas=s2_alphas))\n",
    "        s2.circle('x', 'y', size=5, alpha='s2_alphas', color=\"navy\", source=s2_source)\n",
    "        s2.circle(fwd_reg[0], fwd_reg[1], size=5, alpha=0.9, color=\"darkseagreen\")\n",
    "        s2.line(x, y_reg_fit, color=\"red\")\n",
    "        s2.xaxis.axis_label = lab_reg[0]\n",
    "        s2.yaxis.axis_label = lab_reg[1]\n",
    "        tab2 = TabPanel(child=s2, title=\"regression\")\n",
    "\n",
    "\n",
    "        s3 = figure(width=800, height=425, tools = [\"pan\",'crosshair',\"wheel_zoom\",\"box_zoom\",\"save\",\"reset\",\"help\"], toolbar_location='right')\n",
    "        s3.xgrid.visible = False\n",
    "        s3.ygrid.visible = False\n",
    "        s3.xaxis.formatter=DatetimeTickFormatter(days=\"%d-%b-%y\", months=\"%d-%b-%y\")\n",
    "        s3.circle(df_reg.index, residuals, size=2)\n",
    "        s3.circle(sch2, residuals_fwds, size=2, color = 'darkseagreen', alpha=0.3)\n",
    "        s3.line([min(df_reg.index), max(sch2)], [0, 0], color=\"lightsteelblue\", line_width=1)  # Zero line for reference\n",
    "        tab3 = TabPanel(child=s3, title=\"residuals\")\n",
    "\n",
    "        tabs = Tabs(tabs=[tab1, tab2, tab3])\n",
    "        show(tabs)\n",
    "    else:\n",
    "        show(s1)\n",
    "\n",
    "    return\n"
   ],
   "metadata": {
    "collapsed": false,
    "ExecuteTime": {
     "end_time": "2024-02-06T21:48:48.745610800Z",
     "start_time": "2024-02-06T21:48:47.159097Z"
    }
   }
  },
  {
   "cell_type": "code",
   "execution_count": 245,
   "outputs": [
    {
     "name": "stdout",
     "output_type": "stream",
     "text": [
      "0\n",
      "['S0490FS 1Y1Y BLC Curncy']\n",
      "min_y:  [0.058] max_y:  [4.72892] ratio:  1.0\n",
      "1\n",
      "['USOSFR2 Curncy', 'USOSFR5 Curncy', 'USOSFR10 Curncy']\n",
      "min_y:  [0.058, -71.71000000000004] max_y:  [4.72892, 30.95000000000003] ratio:  0.045498928501850736\n"
     ]
    }
   ],
   "source": [
    "plot_tool_bbg([ [1,1,0,0], [2,5,10] ], sofr)\n",
    "\n"
   ],
   "metadata": {
    "collapsed": false,
    "ExecuteTime": {
     "end_time": "2024-02-06T21:48:52.890690600Z",
     "start_time": "2024-02-06T21:48:48.704613200Z"
    }
   }
  },
  {
   "cell_type": "code",
   "execution_count": 166,
   "outputs": [
    {
     "data": {
      "text/plain": "date\n2021-01-04   15.763999999999998\n2021-01-05   19.465000000000003\n2021-01-06               24.136\n2021-01-07   25.568999999999996\n2021-01-08                27.91\n                    ...        \n2024-01-31    5.064000000000002\n2024-02-01    3.232999999999997\n2024-02-02   1.6259999999999941\n2024-02-05    1.684999999999981\n2024-02-06   0.5139999999999922\nName: 0_x, Length: 783, dtype: float64"
     },
     "execution_count": 166,
     "metadata": {},
     "output_type": "execute_result"
    }
   ],
   "source": [
    "#d6 = pd.DataFrame(d5[1])\n",
    "#d7 = pd.DataFrame(d5[3])\n",
    "\n",
    "#d8 = pd.merge(d6, d7, left_index=True, right_index=True)\n",
    "#d8 = d8.dropna()\n",
    "d5.iloc[:,0]\n"
   ],
   "metadata": {
    "collapsed": false,
    "ExecuteTime": {
     "end_time": "2024-02-06T19:49:27.143820100Z",
     "start_time": "2024-02-06T19:49:27.108820300Z"
    }
   }
  },
  {
   "cell_type": "code",
   "execution_count": 75,
   "outputs": [
    {
     "data": {
      "text/plain": "             0       1          2      3      4\n0   2021-01-01 0.33234 2021-01-04  0.058 0.6937\n1   2021-01-04 0.30243 2021-01-05  0.058  0.736\n2   2021-01-05 0.36119 2021-01-06 0.0715  0.811\n3   2021-01-06 0.43177 2021-01-07 0.0831 0.8647\n4   2021-01-07 0.50071 2021-01-08 0.0804 0.9096\n..         ...     ...        ...    ...    ...\n778 2023-12-27 3.06017 2024-01-31 4.0715 3.5487\n779 2023-12-28  3.1062 2024-02-01 4.0579 3.5208\n780 2023-12-29 3.12715 2024-02-02  4.237 3.6605\n781 2024-01-01 3.12715 2024-02-05 4.3362 3.7905\n782 2024-01-02 3.17042 2024-02-06 4.2585 3.7187\n\n[783 rows x 5 columns]",
      "text/html": "<div>\n<style scoped>\n    .dataframe tbody tr th:only-of-type {\n        vertical-align: middle;\n    }\n\n    .dataframe tbody tr th {\n        vertical-align: top;\n    }\n\n    .dataframe thead th {\n        text-align: right;\n    }\n</style>\n<table border=\"1\" class=\"dataframe\">\n  <thead>\n    <tr style=\"text-align: right;\">\n      <th></th>\n      <th>0</th>\n      <th>1</th>\n      <th>2</th>\n      <th>3</th>\n      <th>4</th>\n    </tr>\n  </thead>\n  <tbody>\n    <tr>\n      <th>0</th>\n      <td>2021-01-01</td>\n      <td>0.33234</td>\n      <td>2021-01-04</td>\n      <td>0.058</td>\n      <td>0.6937</td>\n    </tr>\n    <tr>\n      <th>1</th>\n      <td>2021-01-04</td>\n      <td>0.30243</td>\n      <td>2021-01-05</td>\n      <td>0.058</td>\n      <td>0.736</td>\n    </tr>\n    <tr>\n      <th>2</th>\n      <td>2021-01-05</td>\n      <td>0.36119</td>\n      <td>2021-01-06</td>\n      <td>0.0715</td>\n      <td>0.811</td>\n    </tr>\n    <tr>\n      <th>3</th>\n      <td>2021-01-06</td>\n      <td>0.43177</td>\n      <td>2021-01-07</td>\n      <td>0.0831</td>\n      <td>0.8647</td>\n    </tr>\n    <tr>\n      <th>4</th>\n      <td>2021-01-07</td>\n      <td>0.50071</td>\n      <td>2021-01-08</td>\n      <td>0.0804</td>\n      <td>0.9096</td>\n    </tr>\n    <tr>\n      <th>...</th>\n      <td>...</td>\n      <td>...</td>\n      <td>...</td>\n      <td>...</td>\n      <td>...</td>\n    </tr>\n    <tr>\n      <th>778</th>\n      <td>2023-12-27</td>\n      <td>3.06017</td>\n      <td>2024-01-31</td>\n      <td>4.0715</td>\n      <td>3.5487</td>\n    </tr>\n    <tr>\n      <th>779</th>\n      <td>2023-12-28</td>\n      <td>3.1062</td>\n      <td>2024-02-01</td>\n      <td>4.0579</td>\n      <td>3.5208</td>\n    </tr>\n    <tr>\n      <th>780</th>\n      <td>2023-12-29</td>\n      <td>3.12715</td>\n      <td>2024-02-02</td>\n      <td>4.237</td>\n      <td>3.6605</td>\n    </tr>\n    <tr>\n      <th>781</th>\n      <td>2024-01-01</td>\n      <td>3.12715</td>\n      <td>2024-02-05</td>\n      <td>4.3362</td>\n      <td>3.7905</td>\n    </tr>\n    <tr>\n      <th>782</th>\n      <td>2024-01-02</td>\n      <td>3.17042</td>\n      <td>2024-02-06</td>\n      <td>4.2585</td>\n      <td>3.7187</td>\n    </tr>\n  </tbody>\n</table>\n<p>783 rows × 5 columns</p>\n</div>"
     },
     "execution_count": 75,
     "metadata": {},
     "output_type": "execute_result"
    }
   ],
   "source": [
    "x1 = con.bdh(['S0490FS 2Y1Y BLC Curncy', 'S0490FS 3Y1Y BLC Curncy'], 'PX_LAST', '20210101', datetime.now().strftime('%Y%m%d'))\n",
    "x1 = x1.dropna()\n",
    "x2 = con.bdh(['USOSFR2 Curncy', 'USOSFR5 Curncy', 'USOSFR10 Curncy'], 'PX_LAST', '20210101', datetime.now().strftime('%Y%m%d'))\n",
    "x2 = x2.dropna()\n",
    "\n",
    "x3 = [x1.index, x1.iloc[:,1], x2.index, x2.iloc[:,0], x2.iloc[:,2]]\n",
    "\n",
    "x4 = pd.DataFrame(x3).transpose()\n",
    "\n",
    "x5 = x4.dropna()\n",
    "x5"
   ],
   "metadata": {
    "collapsed": false,
    "ExecuteTime": {
     "end_time": "2024-02-06T18:25:08.149834700Z",
     "start_time": "2024-02-06T18:25:05.509739400Z"
    }
   }
  },
  {
   "cell_type": "code",
   "execution_count": null,
   "outputs": [],
   "source": [],
   "metadata": {
    "collapsed": false
   }
  },
  {
   "cell_type": "code",
   "execution_count": 81,
   "outputs": [
    {
     "name": "stdout",
     "output_type": "stream",
     "text": [
      "792\n",
      "779\n"
     ]
    }
   ],
   "source": [
    "##### old tool  #########\n",
    "\n",
    "def plot_tool_bbg(a, crv):\n",
    "#    a = [2,5,10]\n",
    "#    crv = ois_dc_build('SOFR_DC', b=0)\n",
    "\n",
    "    if len(a) == 4:\n",
    "        tk = []\n",
    "        if a[0] == 0:\n",
    "            tk.append(crv.bbgplot_tickers[0]+str(a[1])+' Curncy')\n",
    "        else:\n",
    "            tk.append(crv.bbgplot_tickers[1]+' '+str(a[0])+'Y'+str(a[1])+'Y'+ ' BLC Curncy')\n",
    "        if a[3] != 0:\n",
    "            if a[2] ==0:\n",
    "                tk.append(crv.bbgplot_tickers[0]+str(a[3]) + ' Curncy')\n",
    "            else:\n",
    "                tk.append(crv.bbgplot_tickers[1] + ' ' + str(a[2]) + 'Y' + str(a[3]) + 'Y' + ' BLC Curncy')\n",
    "        print(tk)\n",
    "\n",
    "        x1 = con.bdh(tk , 'PX_LAST', '20210101', '20240131')\n",
    "\n",
    "        s1 = figure(width=550, height=275, tools = [\"pan\",'crosshair',\"wheel_zoom\",\"box_zoom\",\"save\",\"reset\",\"help\"], toolbar_location='right')\n",
    "        s1.xgrid.visible = False\n",
    "        s1.ygrid.visible = False\n",
    "        s1.xaxis.formatter=DatetimeTickFormatter(days=\"%d-%b-%y\", months=\"%d-%b-%y\")\n",
    "        s1.add_tools(HoverTool(tooltips=[('date', '$x{%d.%b.%y}'), ('y', '$y')], formatters={'$x': 'datetime'}))\n",
    "\n",
    "        if len(tk) == 1:\n",
    "            y = x1[(tk[0], 'PX_LAST')]\n",
    "            lab1 = tk[0].split(' ')[len(tk[0].split(' '))//3]\n",
    "        else:\n",
    "            y = 100*(x1.iloc[:,1] - x1.iloc[:,0])\n",
    "            lab1 = ' - '.join([tk[i].split(' ')[len(tk[i].split(' '))//3] for i in np.arange(len(tk))])\n",
    "\n",
    "        ### mkt pricing\n",
    "        t1 = crv.ref_date\n",
    "        t2 = crv.cal.advance(t1, ql.Period('1Y'))\n",
    "        schedule = ql.MakeSchedule(t1, t2, ql.Period('1W'))\n",
    "        sch2 = [ datetime.datetime.combine(ql_to_datetime(schedule[int(i)]), datetime.time()) for i in np.arange(len(schedule))]\n",
    "\n",
    "        if len(tk) == 1:\n",
    "            fwd_curve = [Swap_Pricer([[crv, ql_to_datetime( crv.cal.advance(schedule[int(i)], ql.Period(str(a[0])+'Y'))  ).strftime('%d-%m-%Y')  ,a[1]]]).rate for i in np.arange(len(schedule))]\n",
    "        else:\n",
    "            fwd_curve = [Swap_Pricer([[crv, ql_to_datetime(  crv.cal.advance(schedule[int(i)], ql.Period(str(a[0])+'Y'))   ).strftime('%d-%m-%Y'),a[1]],\n",
    "                                      [crv, ql_to_datetime(  crv.cal.advance(schedule[int(i)], ql.Period(str(a[2])+'Y'))   ).strftime('%d-%m-%Y'),a[3]]]).spread for i in np.arange(len(schedule))]\n",
    "\n",
    "\n",
    "        s1.line(x1.index, y, legend_label=lab1 , color='red', alpha=1.0, muted_alpha = 0.25)\n",
    "        s1.line(sch2, fwd_curve, legend_label=lab1 , color='blue', alpha=0.8, muted_alpha = 0.25)\n",
    "\n",
    "    else:\n",
    "        tk=[]\n",
    "        for i in np.arange(len(a)):\n",
    "            if a[i] != 0:\n",
    "                tk.append(crv.bbgplot_tickers[0]+str(a[i])+' Curncy')\n",
    "        print(tk)\n",
    "\n",
    "        x1 = con.bdh(tk, 'PX_LAST', '20210101', '20240131')\n",
    "\n",
    "        s1 = figure(width=550, height=275,\n",
    "                    tools=[\"pan\", 'crosshair', \"wheel_zoom\", \"box_zoom\", \"save\", \"reset\", \"help\"],\n",
    "                    toolbar_location='right')\n",
    "        s1.xgrid.visible = False\n",
    "        s1.ygrid.visible = False\n",
    "        s1.xaxis.formatter = DatetimeTickFormatter(days=\"%d-%b-%y\", months=\"%d-%b-%y\")\n",
    "        s1.add_tools(HoverTool(tooltips=[('date', '$x{%d.%b.%y}'), ('y', '$y')], formatters={'$x': 'datetime'}))\n",
    "\n",
    "        if len(tk) == 2:\n",
    "            y = 100 * (x1.iloc[:, 1] - x1.iloc[:, 0])\n",
    "        else:\n",
    "            y = -100*(x1.iloc[:,2] + x1.iloc[:,0] - 2* x1.iloc[:,1])\n",
    "        lab1 = '-'.join([str(a[i]) for i in np.arange(len(tk))])\n",
    "\n",
    "        s1.line(x1.index, y, legend_label=lab1, color='green', alpha=1.0, muted_alpha=0.25)\n",
    "\n",
    "        ### mkt pricing\n",
    "        t1 = crv.ref_date\n",
    "        t2 = crv.cal.advance(t1, ql.Period('1Y'))\n",
    "        schedule = ql.MakeSchedule(t1, t2, ql.Period('1W'))\n",
    "        sch2 = [datetime.datetime.combine(ql_to_datetime(schedule[int(i)]), datetime.time()) for i in\n",
    "                np.arange(len(schedule))]\n",
    "\n",
    "        if len(tk) == 2:\n",
    "            fwd_curve = [Swap_Pricer([[crv, ql_to_datetime( schedule[int(i)]).strftime('%d-%m-%Y'), a[0]],\n",
    "                                      [crv, ql_to_datetime( schedule[int(i)]).strftime('%d-%m-%Y'), a[1]]]).spread for i in np.arange(len(schedule))]\n",
    "        else:\n",
    "            fwd_curve = [Swap_Pricer([[crv, ql_to_datetime(schedule[int(i)]).strftime('%d-%m-%Y'), a[0]],\n",
    "                                      [crv, ql_to_datetime(schedule[int(i)]).strftime('%d-%m-%Y'), a[1]],\n",
    "                                      [crv, ql_to_datetime(schedule[int(i)]).strftime('%d-%m-%Y'), a[2]]]).fly for i in np.arange(len(schedule))]\n",
    "\n",
    "        s1.line(sch2, fwd_curve, legend_label=lab1, color='blue', alpha=0.8, muted_alpha=0.25)\n",
    "\n",
    "\n",
    "    s1.legend.label_text_font = \"calibri\"\n",
    "    s1.legend.label_text_font_size = \"9pt\"\n",
    "    s1.legend.location = 'top_left'\n",
    "    s1.legend.click_policy = \"mute\"\n",
    "#    s1.xaxis.axis_label = 'Date'\n",
    "#    s1.yaxis.axis_label = 'Rate'\n",
    "\n",
    "    return [s1]\n",
    "\n"
   ],
   "metadata": {
    "collapsed": false,
    "ExecuteTime": {
     "end_time": "2024-02-06T09:06:28.010670900Z",
     "start_time": "2024-02-06T09:06:26.509972Z"
    }
   }
  },
  {
   "cell_type": "code",
   "execution_count": 153,
   "outputs": [
    {
     "data": {
      "text/plain": "'20240206'"
     },
     "execution_count": 153,
     "metadata": {},
     "output_type": "execute_result"
    }
   ],
   "source": [
    "today = ql.Date(datetime.datetime.now().day, datetime.datetime.now().month, datetime.datetime.now().year)\n",
    "\n",
    "str(datetime.datetime.now())[:10]\n",
    "\n",
    "datetime.datetime.now().strftime('%Y%m%d')\n"
   ],
   "metadata": {
    "collapsed": false,
    "ExecuteTime": {
     "end_time": "2024-02-06T10:10:32.213328500Z",
     "start_time": "2024-02-06T10:10:32.189327600Z"
    }
   }
  },
  {
   "cell_type": "code",
   "execution_count": 13,
   "outputs": [
    {
     "ename": "NameError",
     "evalue": "name 'pn' is not defined",
     "output_type": "error",
     "traceback": [
      "\u001B[1;31m---------------------------------------------------------------------------\u001B[0m",
      "\u001B[1;31mNameError\u001B[0m                                 Traceback (most recent call last)",
      "Cell \u001B[1;32mIn[13], line 22\u001B[0m\n\u001B[0;32m     19\u001B[0m     time_series_pane\u001B[38;5;241m.\u001B[39mobject \u001B[38;5;241m=\u001B[39m new_plot\n\u001B[0;32m     21\u001B[0m \u001B[38;5;66;03m# Radio button group for selecting time range\u001B[39;00m\n\u001B[1;32m---> 22\u001B[0m time_range_buttons \u001B[38;5;241m=\u001B[39m \u001B[43mpn\u001B[49m\u001B[38;5;241m.\u001B[39mwidgets\u001B[38;5;241m.\u001B[39mRadioButtonGroup(name\u001B[38;5;241m=\u001B[39m\u001B[38;5;124m'\u001B[39m\u001B[38;5;124mTime Range\u001B[39m\u001B[38;5;124m'\u001B[39m, options\u001B[38;5;241m=\u001B[39m[\u001B[38;5;124m'\u001B[39m\u001B[38;5;124m1m\u001B[39m\u001B[38;5;124m'\u001B[39m, \u001B[38;5;124m'\u001B[39m\u001B[38;5;124m3m\u001B[39m\u001B[38;5;124m'\u001B[39m, \u001B[38;5;124m'\u001B[39m\u001B[38;5;124m6m\u001B[39m\u001B[38;5;124m'\u001B[39m, \u001B[38;5;124m'\u001B[39m\u001B[38;5;124m1y\u001B[39m\u001B[38;5;124m'\u001B[39m], button_type\u001B[38;5;241m=\u001B[39m\u001B[38;5;124m'\u001B[39m\u001B[38;5;124msuccess\u001B[39m\u001B[38;5;124m'\u001B[39m)\n\u001B[0;32m     23\u001B[0m time_range_buttons\u001B[38;5;241m.\u001B[39mparam\u001B[38;5;241m.\u001B[39mwatch(update_plot, \u001B[38;5;124m'\u001B[39m\u001B[38;5;124mvalue\u001B[39m\u001B[38;5;124m'\u001B[39m)\n\u001B[0;32m     25\u001B[0m \u001B[38;5;66;03m# Initial plot\u001B[39;00m\n",
      "\u001B[1;31mNameError\u001B[0m: name 'pn' is not defined"
     ]
    }
   ],
   "source": [
    "now = datetime.now()\n",
    "dates = [now - timedelta(days=x) for x in range(365)]\n",
    "data = np.random.randn(365).cumsum()\n",
    "\n",
    "#df = pd.DataFrame({'date': dates, 'value': data})\n",
    "df =  con.bdh(p2 , 'PX_LAST', '20210101', '20240131', longdata=True)\n",
    "\n",
    "# Function to create a time series plot\n",
    "def create_time_series_plot(time_range):\n",
    "    filtered_df = df[df['date'] > (now - timedelta(days=time_range))]\n",
    "    p = figure(x_axis_type='datetime', title='Time Series Plot')\n",
    "    p.line(filtered_df['date'], filtered_df['value'])\n",
    "    return p\n",
    "\n",
    "# Callback for updating the plot\n",
    "def update_plot(event):\n",
    "    time_range_dict = {'1m': 30, '3m': 90, '6m': 180, '1y': 365}\n",
    "    new_plot = create_time_series_plot(time_range_dict[event.new])\n",
    "    time_series_pane.object = new_plot\n",
    "\n",
    "# Radio button group for selecting time range\n",
    "time_range_buttons = pn.widgets.RadioButtonGroup(name='Time Range', options=['1m', '3m', '6m', '1y'], button_type='success')\n",
    "time_range_buttons.param.watch(update_plot, 'value')\n",
    "\n",
    "# Initial plot\n",
    "initial_plot = create_time_series_plot(365)\n",
    "time_series_pane = pn.pane.Bokeh(initial_plot)\n",
    "\n",
    "# Layout\n",
    "layout = pn.Column(time_range_buttons, time_series_pane)\n",
    "layout.servable()"
   ],
   "metadata": {
    "collapsed": false,
    "ExecuteTime": {
     "end_time": "2024-02-01T10:06:16.495547200Z",
     "start_time": "2024-02-01T10:06:15.441509600Z"
    }
   }
  },
  {
   "cell_type": "code",
   "execution_count": 181,
   "outputs": [],
   "source": [
    "df = pd.DataFrame([[3,2,1],[3,2,1],[3,2,1]])"
   ],
   "metadata": {
    "collapsed": false,
    "ExecuteTime": {
     "end_time": "2024-02-01T13:09:02.014872600Z",
     "start_time": "2024-02-01T13:09:01.948804500Z"
    }
   }
  },
  {
   "cell_type": "code",
   "execution_count": 182,
   "outputs": [
    {
     "data": {
      "text/plain": "   0  1  2\n0  3  2  1\n1  3  2  1\n2  3  2  1",
      "text/html": "<div>\n<style scoped>\n    .dataframe tbody tr th:only-of-type {\n        vertical-align: middle;\n    }\n\n    .dataframe tbody tr th {\n        vertical-align: top;\n    }\n\n    .dataframe thead th {\n        text-align: right;\n    }\n</style>\n<table border=\"1\" class=\"dataframe\">\n  <thead>\n    <tr style=\"text-align: right;\">\n      <th></th>\n      <th>0</th>\n      <th>1</th>\n      <th>2</th>\n    </tr>\n  </thead>\n  <tbody>\n    <tr>\n      <th>0</th>\n      <td>3</td>\n      <td>2</td>\n      <td>1</td>\n    </tr>\n    <tr>\n      <th>1</th>\n      <td>3</td>\n      <td>2</td>\n      <td>1</td>\n    </tr>\n    <tr>\n      <th>2</th>\n      <td>3</td>\n      <td>2</td>\n      <td>1</td>\n    </tr>\n  </tbody>\n</table>\n</div>"
     },
     "execution_count": 182,
     "metadata": {},
     "output_type": "execute_result"
    }
   ],
   "source": [
    "df"
   ],
   "metadata": {
    "collapsed": false,
    "ExecuteTime": {
     "end_time": "2024-02-01T13:09:04.980978400Z",
     "start_time": "2024-02-01T13:09:04.881288Z"
    }
   }
  },
  {
   "cell_type": "code",
   "execution_count": 190,
   "outputs": [
    {
     "data": {
      "text/plain": "[3, 2, 1]"
     },
     "execution_count": 190,
     "metadata": {},
     "output_type": "execute_result"
    }
   ],
   "source": [
    "df.iloc[0].tolist()"
   ],
   "metadata": {
    "collapsed": false,
    "ExecuteTime": {
     "end_time": "2024-02-01T13:14:22.798992300Z",
     "start_time": "2024-02-01T13:14:22.773987500Z"
    }
   }
  },
  {
   "cell_type": "code",
   "execution_count": 255,
   "outputs": [
    {
     "data": {
      "text/plain": "'20240206'"
     },
     "execution_count": 255,
     "metadata": {},
     "output_type": "execute_result"
    }
   ],
   "source": [
    "\n",
    "datetime.combine( datetime.now().date(), datetime.min.time()).strftime('%Y%m%d')"
   ],
   "metadata": {
    "collapsed": false,
    "ExecuteTime": {
     "end_time": "2024-02-06T22:31:05.626347600Z",
     "start_time": "2024-02-06T22:31:05.591349Z"
    }
   }
  },
  {
   "cell_type": "code",
   "execution_count": 4,
   "outputs": [
    {
     "data": {
      "text/plain": "         date                ticker    field  value meet_date    cb                step                 cum\n0  2024-02-07   USSOSR1 GFUS Curncy  PX_LAST  5.286    Mar-24 5.476  -2.400000000000002  -2.400000000000002\n1  2024-02-07   USSOSR2 GFUS Curncy  PX_LAST  5.133    May-24 5.323 -15.299999999999958  -17.69999999999996\n2  2024-02-07   USSOSR3 GFUS Curncy  PX_LAST  4.913    Jun-24 5.103 -22.000000000000064 -39.700000000000024\n3  2024-02-07   USSOSR4 GFUS Curncy  PX_LAST  4.697    Jul-24 4.887  -21.60000000000002  -61.30000000000004\n4  2024-02-07   USSOSR5 GFUS Curncy  PX_LAST  4.465    Sep-24 4.655 -23.199999999999932  -84.49999999999997\n5  2024-02-07   USSOSR6 GFUS Curncy  PX_LAST  4.297    Nov-24 4.487 -16.800000000000015 -101.29999999999998\n6  2024-02-07   USSOSR7 GFUS Curncy  PX_LAST   4.14    Dec-24  4.33 -15.700000000000003 -116.99999999999999\n7  2024-02-07   USSOSR8 GFUS Curncy  PX_LAST  3.958    Jan-25 4.148  -18.20000000000004 -135.20000000000002\n8  2024-02-07   USSOSR9 GFUS Curncy  PX_LAST  3.808    Mar-25 3.998 -14.999999999999947 -150.19999999999996\n9  2024-02-07  USSOSR10 GFUS Curncy  PX_LAST  3.689    May-25 3.879 -11.900000000000022              -162.1\n10 2024-02-07  USSOSR11 GFUS Curncy  PX_LAST  3.569    Jun-25 3.759  -12.00000000000001              -174.1\n11 2024-02-07  USSOSR12 GFUS Curncy  PX_LAST    3.5    Aug-25  3.69  -6.899999999999995              -181.0\n12 2024-02-07  USSOSR13 GFUS Curncy  PX_LAST  3.407    Oct-25 3.597  -9.299999999999997              -190.3\n13 2024-02-07  USSOSR14 GFUS Curncy  PX_LAST  3.345    Nov-25 3.535  -6.199999999999983              -196.5\n14 2024-02-07  USSOSR15 GFUS Curncy  PX_LAST  3.333    Jan-26 3.523  -1.200000000000001              -197.7",
      "text/html": "<div>\n<style scoped>\n    .dataframe tbody tr th:only-of-type {\n        vertical-align: middle;\n    }\n\n    .dataframe tbody tr th {\n        vertical-align: top;\n    }\n\n    .dataframe thead th {\n        text-align: right;\n    }\n</style>\n<table border=\"1\" class=\"dataframe\">\n  <thead>\n    <tr style=\"text-align: right;\">\n      <th></th>\n      <th>date</th>\n      <th>ticker</th>\n      <th>field</th>\n      <th>value</th>\n      <th>meet_date</th>\n      <th>cb</th>\n      <th>step</th>\n      <th>cum</th>\n    </tr>\n  </thead>\n  <tbody>\n    <tr>\n      <th>0</th>\n      <td>2024-02-07</td>\n      <td>USSOSR1 GFUS Curncy</td>\n      <td>PX_LAST</td>\n      <td>5.286</td>\n      <td>Mar-24</td>\n      <td>5.476</td>\n      <td>-2.400000000000002</td>\n      <td>-2.400000000000002</td>\n    </tr>\n    <tr>\n      <th>1</th>\n      <td>2024-02-07</td>\n      <td>USSOSR2 GFUS Curncy</td>\n      <td>PX_LAST</td>\n      <td>5.133</td>\n      <td>May-24</td>\n      <td>5.323</td>\n      <td>-15.299999999999958</td>\n      <td>-17.69999999999996</td>\n    </tr>\n    <tr>\n      <th>2</th>\n      <td>2024-02-07</td>\n      <td>USSOSR3 GFUS Curncy</td>\n      <td>PX_LAST</td>\n      <td>4.913</td>\n      <td>Jun-24</td>\n      <td>5.103</td>\n      <td>-22.000000000000064</td>\n      <td>-39.700000000000024</td>\n    </tr>\n    <tr>\n      <th>3</th>\n      <td>2024-02-07</td>\n      <td>USSOSR4 GFUS Curncy</td>\n      <td>PX_LAST</td>\n      <td>4.697</td>\n      <td>Jul-24</td>\n      <td>4.887</td>\n      <td>-21.60000000000002</td>\n      <td>-61.30000000000004</td>\n    </tr>\n    <tr>\n      <th>4</th>\n      <td>2024-02-07</td>\n      <td>USSOSR5 GFUS Curncy</td>\n      <td>PX_LAST</td>\n      <td>4.465</td>\n      <td>Sep-24</td>\n      <td>4.655</td>\n      <td>-23.199999999999932</td>\n      <td>-84.49999999999997</td>\n    </tr>\n    <tr>\n      <th>5</th>\n      <td>2024-02-07</td>\n      <td>USSOSR6 GFUS Curncy</td>\n      <td>PX_LAST</td>\n      <td>4.297</td>\n      <td>Nov-24</td>\n      <td>4.487</td>\n      <td>-16.800000000000015</td>\n      <td>-101.29999999999998</td>\n    </tr>\n    <tr>\n      <th>6</th>\n      <td>2024-02-07</td>\n      <td>USSOSR7 GFUS Curncy</td>\n      <td>PX_LAST</td>\n      <td>4.14</td>\n      <td>Dec-24</td>\n      <td>4.33</td>\n      <td>-15.700000000000003</td>\n      <td>-116.99999999999999</td>\n    </tr>\n    <tr>\n      <th>7</th>\n      <td>2024-02-07</td>\n      <td>USSOSR8 GFUS Curncy</td>\n      <td>PX_LAST</td>\n      <td>3.958</td>\n      <td>Jan-25</td>\n      <td>4.148</td>\n      <td>-18.20000000000004</td>\n      <td>-135.20000000000002</td>\n    </tr>\n    <tr>\n      <th>8</th>\n      <td>2024-02-07</td>\n      <td>USSOSR9 GFUS Curncy</td>\n      <td>PX_LAST</td>\n      <td>3.808</td>\n      <td>Mar-25</td>\n      <td>3.998</td>\n      <td>-14.999999999999947</td>\n      <td>-150.19999999999996</td>\n    </tr>\n    <tr>\n      <th>9</th>\n      <td>2024-02-07</td>\n      <td>USSOSR10 GFUS Curncy</td>\n      <td>PX_LAST</td>\n      <td>3.689</td>\n      <td>May-25</td>\n      <td>3.879</td>\n      <td>-11.900000000000022</td>\n      <td>-162.1</td>\n    </tr>\n    <tr>\n      <th>10</th>\n      <td>2024-02-07</td>\n      <td>USSOSR11 GFUS Curncy</td>\n      <td>PX_LAST</td>\n      <td>3.569</td>\n      <td>Jun-25</td>\n      <td>3.759</td>\n      <td>-12.00000000000001</td>\n      <td>-174.1</td>\n    </tr>\n    <tr>\n      <th>11</th>\n      <td>2024-02-07</td>\n      <td>USSOSR12 GFUS Curncy</td>\n      <td>PX_LAST</td>\n      <td>3.5</td>\n      <td>Aug-25</td>\n      <td>3.69</td>\n      <td>-6.899999999999995</td>\n      <td>-181.0</td>\n    </tr>\n    <tr>\n      <th>12</th>\n      <td>2024-02-07</td>\n      <td>USSOSR13 GFUS Curncy</td>\n      <td>PX_LAST</td>\n      <td>3.407</td>\n      <td>Oct-25</td>\n      <td>3.597</td>\n      <td>-9.299999999999997</td>\n      <td>-190.3</td>\n    </tr>\n    <tr>\n      <th>13</th>\n      <td>2024-02-07</td>\n      <td>USSOSR14 GFUS Curncy</td>\n      <td>PX_LAST</td>\n      <td>3.345</td>\n      <td>Nov-25</td>\n      <td>3.535</td>\n      <td>-6.199999999999983</td>\n      <td>-196.5</td>\n    </tr>\n    <tr>\n      <th>14</th>\n      <td>2024-02-07</td>\n      <td>USSOSR15 GFUS Curncy</td>\n      <td>PX_LAST</td>\n      <td>3.333</td>\n      <td>Jan-26</td>\n      <td>3.523</td>\n      <td>-1.200000000000001</td>\n      <td>-197.7</td>\n    </tr>\n  </tbody>\n</table>\n</div>"
     },
     "execution_count": 4,
     "metadata": {},
     "output_type": "execute_result"
    }
   ],
   "source": [
    "today = ql.Date(datetime.datetime.now().day, datetime.datetime.now().month, datetime.datetime.now().year)\n",
    "c = ccy('SOFR_DC', today)\n",
    "\n",
    "ticker = 'USSOSR'\n",
    "contrib = 'GFUS'\n",
    "base_ticker = 'FDTR Index'\n",
    "ois_fix = con.ref(c.fixing, 'PX_LAST')['value'][0]\n",
    "base_fix = con.ref(base_ticker, 'PX_LAST')['value'][0]\n",
    "basis = base_fix - ois_fix\n",
    "\n",
    "### Get bbg tickers\n",
    "t_list = [ticker+str(i)+' '+contrib+' Curncy' for i in range(1,16) ]\n",
    "df1 = con.bdh(t_list, 'PX_LAST', bbg_date_str(today), bbg_date_str(today), longdata=True)\n",
    "df1.ticker = df1.ticker.astype(\"category\")\n",
    "df1.ticker = df1.ticker.cat.set_categories(t_list)\n",
    "df1 = df1.sort_values([\"ticker\"])\n",
    "df1.reset_index(inplace=True, drop=True)\n",
    "\n",
    "### Get FOMC Dates and set index\n",
    "x = con.bulkref(base_ticker,'ECO_FUTURE_RELEASE_DATE_LIST')['value']\n",
    "y = pd.Series([ pd.datetime(int(x[i][0:4]),int(x[i][5:7]),int(x[i][8:10])) for i in range(len(x)) ])\n",
    "y = pd.DataFrame(y[y > (pd.datetime.now()+pd.DateOffset(days=-1))], columns = ['Meets'])\n",
    "y1 = y['Meets'].append( pd.Series( [   y[-1:]['Meets'].values[0]+np.timedelta64(50*i,'D') for i in range(1, len(t_list)-len(y)+1 )] ) )\n",
    "y2 = pd.DataFrame(y1)\n",
    "meet_index = pd.Series( [y2.iloc[i,][0].strftime('%b') +'-'+ y2.iloc[i,][0].strftime('%y') for i in range(len((y2))) ] )\n",
    "\n",
    "### Set df\n",
    "df1['meet_date'] = meet_index\n",
    "df1['cb'] = np.round(df1['value']+basis,3)\n",
    "df1['step'] = 100*np.array([df1['cb'][0]-base_fix] +df1['cb'].diff()[1:].tolist())\n",
    "df1['cum'] = df1['step'].cumsum()\n",
    "\n",
    "df1\n"
   ],
   "metadata": {
    "collapsed": false,
    "ExecuteTime": {
     "end_time": "2024-02-07T04:30:41.421613800Z",
     "start_time": "2024-02-07T04:30:39.174561400Z"
    }
   }
  },
  {
   "cell_type": "code",
   "execution_count": 31,
   "outputs": [],
   "source": [
    "month = df1['meet_date']\n",
    "step = np.round(df1['step'],1)\n",
    "cum = np.round(df1['cum'],0)\n",
    "fwd_base = df1['cb']\n",
    "s1_source = ColumnDataSource(data=dict(x=month, y=step, z=cum, k=fwd_base))\n",
    "\n",
    "s1 = figure(x_range=month, width=800, height=450, tools = [\"pan\", \"wheel_zoom\",\"box_zoom\",\"save\",\"reset\",\"help\"], toolbar_location='right')\n",
    "s1.xgrid.visible = False\n",
    "s1.ygrid.visible = False\n",
    "s1.vbar(x='x', top='y', width=0.7, source=s1_source, color = 'lightsteelblue')\n",
    "zero_line = Span(location=0, dimension='width', line_color='darkseagreen', line_width=1)\n",
    "s1.renderers.extend([zero_line])\n",
    "labels = LabelSet(x='x', y='y', text='y', level='glyph', text_align='center', y_offset=-16, source=s1_source, text_font_size='12px', text_color='midnightblue')\n",
    "s1.add_layout((labels))\n",
    "\n",
    "s2 = figure(x_range=month, width=800, height=450, tools = [\"pan\", \"wheel_zoom\",\"box_zoom\",\"save\",\"reset\",\"help\"], toolbar_location='right')\n",
    "s2.xgrid.visible = False\n",
    "s2.ygrid.visible = False\n",
    "s2.vbar(x='x', top='z', width=0.7, source=s1_source, color = 'lightsteelblue')\n",
    "zero_line = Span(location=0, dimension='width', line_color='darkseagreen', line_width=1)\n",
    "s2.renderers.extend([zero_line])\n",
    "labels_1 = LabelSet(x='x', y='z', text='z', level='glyph', text_align='center', y_offset=-16, source=s1_source, text_font_size='10px', text_color='midnightblue')\n",
    "labels_2 = LabelSet(x='x', y='z', text='k', level='glyph', text_align='center', y_offset=10, source=s1_source, text_font_size='10px', text_color='firebrick')\n",
    "s2.add_layout((labels_1))\n",
    "s2.add_layout((labels_2))\n",
    "\n",
    "tab1 = TabPanel(child=s1, title=\"step\")\n",
    "tab2 = TabPanel(child=s2, title=\"cum\")\n",
    "tabs = Tabs(tabs=[tab1, tab2])\n",
    "show(tabs)\n",
    "\n"
   ],
   "metadata": {
    "collapsed": false,
    "ExecuteTime": {
     "end_time": "2024-02-07T05:05:14.760299400Z",
     "start_time": "2024-02-07T05:05:14.237300Z"
    }
   }
  },
  {
   "cell_type": "code",
   "execution_count": 6,
   "outputs": [
    {
     "data": {
      "text/plain": "str"
     },
     "execution_count": 6,
     "metadata": {},
     "output_type": "execute_result"
    }
   ],
   "source": [
    "type(df1['meet_date'][0])"
   ],
   "metadata": {
    "collapsed": false,
    "ExecuteTime": {
     "end_time": "2024-02-07T04:33:19.933047500Z",
     "start_time": "2024-02-07T04:33:19.866047100Z"
    }
   }
  },
  {
   "cell_type": "markdown",
   "source": [],
   "metadata": {
    "collapsed": false
   }
  },
  {
   "cell_type": "code",
   "execution_count": 6,
   "outputs": [
    {
     "name": "stdout",
     "output_type": "stream",
     "text": [
      "[datetime.date(2024, 2, 7), datetime.date(2023, 10, 18)]\n"
     ]
    }
   ],
   "source": [
    "dt = get_wirp( [['SOFR_DC'], [datetime.date(2024, 2, 7), datetime.date(2023, 10, 18)]] )"
   ],
   "metadata": {
    "collapsed": false,
    "ExecuteTime": {
     "end_time": "2024-02-08T23:14:37.782570400Z",
     "start_time": "2024-02-08T23:14:19.666410900Z"
    }
   }
  },
  {
   "cell_type": "code",
   "execution_count": 15,
   "outputs": [],
   "source": [
    "\n",
    "def plot_wirp(dt1, chg=0, sprd=0):\n",
    "#    dt1 = dt\n",
    "    n_crv = len(dt1.keys())\n",
    "    crv = list(dt1.keys())\n",
    "    n_dates = len(dt1[crv[0]])\n",
    "\n",
    "    month = dict()\n",
    "    step = dict()\n",
    "    cum = dict()\n",
    "    fwd_base = dict()\n",
    "    month_chg = dict()\n",
    "    step_chg = dict()\n",
    "    cum_chg = dict()\n",
    "#    print('n_crv:',n_crv)\n",
    "#    print('crv:',crv)\n",
    "\n",
    "    for j in crv:\n",
    "#        print('j:', j)\n",
    "#        print('crv[0]:', crv[0])\n",
    "#        print('dt1[crv[0]]:', dt1[crv[0]])\n",
    "        month[j] = [dt1[j][i]['meet_date'].tolist() for i in np.arange(n_dates)]\n",
    "        step[j] =  [np.around(dt1[j][i]['step'],1).tolist() for i in np.arange(n_dates)]\n",
    "        cum[j] =   [np.around(dt1[j][i]['cum'],0).tolist() for i in np.arange(n_dates)]\n",
    "        fwd_base[j] = [dt1[j][i]['cb'].tolist() for i in np.arange(n_dates)]\n",
    "\n",
    "    if n_dates >1:\n",
    "        for j in crv:\n",
    "            cut_off = month[j][1].index(month[j][0][0])\n",
    "            month_chg[j] = [month[j][m][:cut_off]+month[j][0] for m in np.arange(1,n_dates)]\n",
    "            step_chg[j] = [(np.round(100 * (5.5 - np.array(fwd_base[j][m][:cut_off])), 1)).tolist() +\n",
    "                           (np.array(step[j][0][:-cut_off])-np.array(step[j][m][cut_off:])).tolist() +\n",
    "                           cut_off*[0] for m in np.arange(1,n_dates)]\n",
    "\n",
    "            cum_chg[j] = [list(accumulate(step_chg[j][m])) for m in np.arange(n_dates-1)]\n",
    "\n",
    "    if n_crv != 1:\n",
    "        itr = [max([len(step[j][0]) for j in crv]) - len(step[j][0]) for j in crv]\n",
    "        for j in np.arange(len(itr)):\n",
    "            for k in np.arange(n_dates):\n",
    "                month[crv[j]][k] = month[crv[j]][k] + itr[j]*['n/a']\n",
    "                step[crv[j]][k] = step[crv[j]][k] + itr[j]*[0]\n",
    "                cum[crv[j]][k] = cum[crv[j]][k] + itr[j]*[cum[crv[j]][k][-1]]\n",
    "                fwd_base[crv[j]][k] = fwd_base[crv[j]][k] + itr[j]*[fwd_base[crv[j]][k][-1]]\n",
    "\n",
    "        itr2 = [max([len(step_chg[j][0]) for j in crv]) - len(step_chg[j][0]) for j in crv]\n",
    "        for j in np.arange(len(itr2)):\n",
    "            for k in np.arange(n_dates-1):\n",
    "                month_chg[crv[j]][k] = month_chg[crv[j]][k] + itr2[j] * ['n/a']\n",
    "                step_chg[crv[j]][k] = step_chg[crv[j]][k] + itr2[j] * [0]\n",
    "                cum_chg[crv[j]][k] = cum_chg[crv[j]][k] + itr2[j] * [cum_chg[crv[j]][k][-1]]\n",
    "\n",
    "    ### plot step only:\n",
    "    if n_crv == 1:\n",
    "        _month = month[crv[0]][0]\n",
    "        _step = step[crv[0]][0]\n",
    "        _cum = cum[crv[0]][0]\n",
    "        _fwd_base = fwd_base[crv[0]][0]\n",
    "        x_range_var = _month\n",
    "        s1_source = ColumnDataSource(data=dict(x=_month, y=_step, z=_cum, k=_fwd_base))\n",
    "\n",
    "        if chg == 1:\n",
    "            print('in')\n",
    "            _month_chg = month_chg[crv[0]][0]\n",
    "            _step_chg = step_chg[crv[0]][0]\n",
    "            _cum_chg = cum_chg[crv[0]][0]\n",
    "            x_range_var = _month_chg\n",
    "            itr3 = len(_step_chg)-len(_step)\n",
    "            _month = ['1','2','3'] + _month\n",
    "            _step = itr3*[0] + _step\n",
    "            _cum = itr3*[0] + _cum\n",
    "            _fwd_base = itr3*[5.5] + _fwd_base\n",
    "            print('*******_ month',_month)\n",
    "            print('*******_ step', _step)\n",
    "            print('*******_ step_chg', _step_chg)\n",
    "            s1_source = ColumnDataSource(data=dict(x=_month, y=_step, z=_cum, k=_fwd_base, x2=_month_chg, y2=_step_chg, z2=_cum_chg))\n",
    "\n",
    "#        s_plot = []\n",
    "        print('out')\n",
    "        s1 = figure(x_range=x_range_var, width=525, height=400, tools=[\"pan\", \"wheel_zoom\", \"box_zoom\", \"save\", \"reset\", \"help\"], toolbar_location='right')\n",
    "        s1.xgrid.visible = False\n",
    "        s1.ygrid.visible = False\n",
    "        s1.vbar(x='x', top='y', width=0.7, source=s1_source, color='lightsteelblue')\n",
    "        zero_line = Span(location=0, dimension='width', line_color='darkseagreen', line_width=1)\n",
    "        s1.renderers.extend([zero_line])\n",
    "        labels_1 = LabelSet(x='x', y='y', text='y', level='glyph', text_align='center', y_offset=-16, source=s1_source,\n",
    "                            text_font_size='10px', text_color='midnightblue')\n",
    "        s1.add_layout((labels_1))\n",
    "        s1.xaxis.major_label_orientation = math.pi / 4\n",
    "        s1.y_range = Range1d(min(_step) - 5, max(_step) + 5)\n",
    "#        s1.circle(x='x2', y='y2', size=10, source=s1_source, color='firebrick', alpha=0.7, legend_label='chg')\n",
    "#        show(s1)\n",
    "\n",
    "\n",
    "        if chg == 1:\n",
    "#            s2 = figure(x_range=_month_chg, width=525, height=400, tools=[\"pan\", \"wheel_zoom\", \"box_zoom\", \"save\", \"reset\", \"help\"], toolbar_location='right')\n",
    "#            print('_month_chg:',_month_chg)\n",
    "#            print('_step_chg:', _step_chg)\n",
    "#            s2_source = ColumnDataSource(data=dict(x=_month_chg, y=_step_chg, z=_cum_chg))\n",
    "#            s2.xgrid.visible = False\n",
    "#            s2.ygrid.visible = False\n",
    "            s1.circle(x='x2', y='y2', size=10, source=s1_source, color = 'firebrick', alpha=0.7, legend_label = 'chg')\n",
    "#            zero_line = Span(location=0, dimension='width', line_color='darkseagreen', line_width=1)\n",
    "#            s2.renderers.extend([zero_line])\n",
    "            labels_1a = LabelSet(x='x2', y='y2', text='y2', level='glyph', text_align='center', y_offset=-16, source=s1_source, text_font_size='8px', text_color='midnightblue')\n",
    "            s1.add_layout((labels_1a))\n",
    "#            s2.xaxis.major_label_orientation = math.pi / 4\n",
    "#            s2.y_range = Range1d(min(_step) - 5, max(_step) + 5)\n",
    "#            s_plot.append(s2)\n",
    "            s1.legend.location = 'bottom_right'\n",
    "            s1.legend.label_text_font = \"calibri\"\n",
    "            s1.legend.label_text_font_size = \"9pt\"\n",
    "            s1.legend.spacing = 1\n",
    "            s1.legend.click_policy = \"mute\"\n",
    "#        s_plot.append(s1)\n",
    "#        show(s1)\n",
    "\n",
    "        s3 = figure(x_range=_month, width=525, height=400, tools=[\"pan\", \"hover\", \"wheel_zoom\", \"box_zoom\", \"save\", \"reset\", \"help\"], toolbar_location='right')\n",
    "        s3.xgrid.visible = False\n",
    "        s3.ygrid.visible = False\n",
    "        s3.vbar(x='x', top='z', width=0.7, source=s1_source, color='lightsteelblue')\n",
    "        zero_line = Span(location=0, dimension='width', line_color='darkseagreen', line_width=1)\n",
    "        s3.renderers.extend([zero_line])\n",
    "        labels_1 = LabelSet(x='x', y='z', text='z', level='glyph', text_align='center', y_offset=-16, source=s1_source,\n",
    "                            text_font_size='10px', text_color='midnightblue')\n",
    "        s3.add_layout((labels_1))\n",
    "        s3.xaxis.major_label_orientation = math.pi / 4\n",
    "        s3.y_range = Range1d(min(_cum) - 15, max(_cum) + 15)\n",
    "\n",
    "        tab1 = TabPanel(child=s1, title=\"step\")\n",
    "        tab2 = TabPanel(child=s3, title=\"cum\")\n",
    "        tabs = Tabs(tabs=[tab1, tab2])\n",
    "    else:\n",
    "        print(n_crv, crv, month)\n",
    "        n_grps = max([ len(month[crv[i]][0]) for i in np.arange(n_crv)])\n",
    "        grps = np.arange(1,n_grps+1)\n",
    "        step_data = pd.DataFrame()\n",
    "        cum_data = pd.DataFrame()\n",
    "        fwd_data = pd.DataFrame()\n",
    "        for j in crv:\n",
    "            step_data[j] =  step[j][0]\n",
    "            cum_data[j] = cum[j][0]\n",
    "            fwd_data[j] = fwd_base[j][0]\n",
    "        step_data2 = dict([(key, list(step_data[key])) for key in crv])\n",
    "        cum_data2 = dict([(key, list(cum_data[key])) for key in crv])\n",
    "        fwd_data2 = dict([(key, list(fwd_data[key])) for key in crv])\n",
    "\n",
    "        x_lab = [( str(grps[i]), j[:-3].ljust(10)+' '+month[j][0][i] ) for i in np.arange(len(grps))  for j in crv]\n",
    "        counts = sum(zip(*step_data2.values()),())  # like an hstack\n",
    "        color_schem = n_grps*['cornflowerblue','lightcoral','darkseagreen', 'khaki'][:n_crv]\n",
    "        legend_names = n_grps*[crv[i][:-3] for i in np.arange(n_crv)]\n",
    "\n",
    "        s1_source = ColumnDataSource(data=dict(x=(x_lab), counts=counts, colors=color_schem, legend_name=legend_names))\n",
    "        s1 = figure(x_range=FactorRange(*x_lab), width=800, height=500,tools=[\"pan\", \"wheel_zoom\", \"box_zoom\", \"save\", \"reset\", \"help\"], toolbar_location='right')\n",
    "        s1.xgrid.visible = False\n",
    "        s1.ygrid.visible = False\n",
    "        s1.vbar(x='x', top='counts', width=0.7, source=s1_source, fill_color='colors', line_color='colors', legend_field='legend_name')\n",
    "        labels_1 = LabelSet(x='x', y='counts', text='counts', level='glyph', text_align='center', y_offset=-14, source=s1_source, text_font_size='10px', text_color='midnightblue')\n",
    "        s1.add_layout((labels_1))\n",
    "        zero_line = Span(location=0, dimension='width', line_color='darkseagreen', line_width=1)\n",
    "        s1.renderers.extend([zero_line])\n",
    "\n",
    "        s1.legend.location = 'bottom_right'\n",
    "        s1.legend.label_text_font = \"calibri\"\n",
    "        s1.legend.label_text_font_size = \"9pt\"\n",
    "        s1.legend.spacing = 1\n",
    "        s1.legend.click_policy = \"mute\"\n",
    "        s1.xaxis.major_label_orientation = math.pi / 2\n",
    "        s1.xaxis.axis_label_text_font_size = \"2pt\"\n",
    "\n",
    "        cum_counts = sum(zip(*cum_data2.values()),())# like an hstack\n",
    "        fwd_counts = sum(zip(*fwd_data2.values()), ())\n",
    "#        color_schem = n_grps*['cornflowerblue','lightcoral','darkseagreen', 'khaki'][:n_crv]\n",
    "#        legend_names = n_grps*[crv[i][:-3] for i in np.arange(n_crv)]\n",
    "        x_lab2 = [(str(grps[i]), j[:-3].ljust(10) + str(fwd_base[j][0][i]).rjust(5) + month[j][0][i].rjust(17-len(month[j][0][i]))) for i in np.arange(len(grps)) for j in crv]\n",
    "        s2_source = ColumnDataSource(data=dict(x=(x_lab2), counts=cum_counts, colors=color_schem, legend_name=legend_names))\n",
    "        s2 = figure(x_range=FactorRange(*x_lab2), width=800, height=500, tools=[\"pan\", \"wheel_zoom\", \"box_zoom\", \"save\", \"reset\", \"help\"], toolbar_location='right')\n",
    "        s2.xgrid.visible = False\n",
    "        s2.ygrid.visible = False\n",
    "        s2.vbar(x='x', top='counts', width=0.7, source=s2_source, fill_color='colors', line_color='colors', legend_field='legend_name')\n",
    "        labels_2 = LabelSet(x='x', y='counts', text='counts', level='glyph', text_align='center', y_offset=-14, x_offset=-3, source=s2_source, text_font_size='10px', text_color='midnightblue')\n",
    "        s2.add_layout((labels_2))\n",
    "        s2.renderers.extend([zero_line])\n",
    "\n",
    "        s2.y_range = Range1d(min(cum_counts) - 15, max(cum_counts) + 15)\n",
    "        s2.legend.location = 'bottom_left'\n",
    "        s2.legend.label_text_font = \"calibri\"\n",
    "        s2.legend.label_text_font_size = \"9pt\"\n",
    "        s2.legend.spacing = 1\n",
    "        s2.legend.click_policy = \"mute\"\n",
    "        s2.xaxis.major_label_orientation = math.pi / 2\n",
    "        s2.xaxis.axis_label_text_font_size = \"2pt\"\n",
    "\n",
    "        tab1 = TabPanel(child=s1, title=\"step\")\n",
    "        tab2 = TabPanel(child=s2, title=\"cum\")\n",
    "        tabs = Tabs(tabs=[tab1, tab2])\n",
    "\n",
    "    show(tabs)\n",
    "\n",
    "    return [tabs]\n",
    "\n"
   ],
   "metadata": {
    "collapsed": false,
    "ExecuteTime": {
     "end_time": "2024-02-08T23:20:09.314639700Z",
     "start_time": "2024-02-08T23:20:09.216991Z"
    }
   }
  },
  {
   "cell_type": "code",
   "execution_count": 16,
   "outputs": [
    {
     "name": "stdout",
     "output_type": "stream",
     "text": [
      "in\n",
      "*******_ month ['1', '2', '3', 'Mar-24', 'May-24', 'Jun-24', 'Jul-24', 'Sep-24', 'Nov-24', 'Dec-24', 'Jan-25', 'Mar-25', 'May-25', 'Jun-25', 'Aug-25', 'Oct-25', 'Nov-25', 'Jan-26']\n",
      "*******_ step [0, 0, 0, -1.0, -16.0, -21.0, -20.0, -23.0, -16.0, -16.0, -17.0, -13.0, -15.0, -16.0, 3.0, -14.0, -6.0, -1.0]\n",
      "*******_ step_chg [-3.0, -13.0, -16.0, 2.0, -8.0, -12.0, -11.0, -11.0, -4.0, -6.0, -6.0, -2.0, -4.0, -13.0, 12.0, 0, 0, 0]\n",
      "out\n"
     ]
    },
    {
     "data": {
      "text/plain": "[Tabs(id='p1407', ...)]"
     },
     "execution_count": 16,
     "metadata": {},
     "output_type": "execute_result"
    }
   ],
   "source": [
    "plot_wirp(dt, chg=1)"
   ],
   "metadata": {
    "collapsed": false,
    "ExecuteTime": {
     "end_time": "2024-02-08T23:20:11.711125200Z",
     "start_time": "2024-02-08T23:20:11.277174600Z"
    }
   }
  },
  {
   "cell_type": "code",
   "execution_count": null,
   "outputs": [],
   "source": [],
   "metadata": {
    "collapsed": false
   }
  },
  {
   "cell_type": "code",
   "execution_count": 2,
   "outputs": [],
   "source": [
    "import numpy as np\n",
    "import pandas as pd\n",
    "\n",
    "from bokeh.models import ColumnDataSource, TapTool\n",
    "from bokeh.events import Tap\n",
    "\n",
    "from bokeh.plotting import figure\n",
    "from bokeh.layouts import column\n",
    "\n",
    "from bokeh.io import curdoc\n",
    "from bokeh.client import push_session, pull_session\n",
    "\n",
    "x = np.random.randn(1001)\n",
    "y = np.random.randn(1001)\n",
    "\n",
    "cat1 = np.random.rand(1001) * 10.0\n",
    "cat2 = np.random.rand(1001) * 10.0\n",
    "\n",
    "data = np.column_stack((x,y,cat1,cat2))\n",
    "\n",
    "df = pd.DataFrame(data=data, columns=('x','y','cat1','cat2'))\n",
    "SRC = ColumnDataSource(df)\n",
    "\n",
    "\n",
    "TOOLTIPS = [\n",
    "    (\"x\", \"@x\"),\n",
    "    (\"y\", \"@y\"),\n",
    "    (\"Category 1\", \"@cat1\"),\n",
    "    (\"Category 2\", \"@cat2\")]\n",
    "\n",
    "TOOLS=\"pan,wheel_zoom,zoom_in,zoom_out,box_zoom,reset,tap\"\n",
    "cplot = figure(tools = TOOLS, tooltips=TOOLTIPS)\n",
    "cplot.circle(\"x\", \"y\", source=SRC)\n",
    "\n",
    "bSource = ColumnDataSource(dict(x=['cat1','cat2'], top=[None]*2))\n",
    "bplot = figure(x_range=('cat1','cat2'))\n",
    "bplot.vbar(x='x', top='top', source=bSource)\n",
    "\n",
    "def callback(event):\n",
    "    SELECTED = SRC.selected.indices\n",
    "    print(\"SELECTED {:}\".format(SELECTED))\n",
    "    if len(SELECTED) > 1:\n",
    "        SELECTED = SELECTED[-1] # last point in case of multiselect\n",
    "    bSource.patch(dict(top=[(slice(2),[SRC.data['cat1'][SELECTED],SRC.data['cat2'][SELECTED]])]))\n",
    "\n",
    "taptool = cplot.select(type=TapTool)\n",
    "cplot.on_event(Tap, callback)\n",
    "\n",
    "curdoc().add_root(column(cplot, bplot))\n",
    "\n"
   ],
   "metadata": {
    "collapsed": false,
    "ExecuteTime": {
     "end_time": "2024-02-11T18:23:43.660211600Z",
     "start_time": "2024-02-11T18:23:43.562384500Z"
    }
   }
  },
  {
   "cell_type": "code",
   "execution_count": 3,
   "outputs": [
    {
     "ename": "RuntimeError",
     "evalue": "Cannot run the event loop while another loop is running",
     "output_type": "error",
     "traceback": [
      "\u001B[1;31m---------------------------------------------------------------------------\u001B[0m",
      "\u001B[1;31mRuntimeError\u001B[0m                              Traceback (most recent call last)",
      "Cell \u001B[1;32mIn[3], line 1\u001B[0m\n\u001B[1;32m----> 1\u001B[0m session \u001B[38;5;241m=\u001B[39m \u001B[43mpush_session\u001B[49m\u001B[43m(\u001B[49m\u001B[43mcurdoc\u001B[49m\u001B[43m(\u001B[49m\u001B[43m)\u001B[49m\u001B[43m)\u001B[49m\n\u001B[0;32m      2\u001B[0m session\u001B[38;5;241m.\u001B[39mshow()\n\u001B[0;32m      3\u001B[0m session\u001B[38;5;241m.\u001B[39mloop_until_closed()\n",
      "File \u001B[1;32mC:\\winapp\\Anaconda\\envs\\pythonProject\\lib\\site-packages\\bokeh\\client\\session.py:191\u001B[0m, in \u001B[0;36mpush_session\u001B[1;34m(document, session_id, url, io_loop, max_message_size)\u001B[0m\n\u001B[0;32m    189\u001B[0m coords \u001B[38;5;241m=\u001B[39m SessionCoordinates(session_id\u001B[38;5;241m=\u001B[39msession_id, url\u001B[38;5;241m=\u001B[39murl)\n\u001B[0;32m    190\u001B[0m session \u001B[38;5;241m=\u001B[39m ClientSession(session_id\u001B[38;5;241m=\u001B[39mcoords\u001B[38;5;241m.\u001B[39msession_id, websocket_url\u001B[38;5;241m=\u001B[39mwebsocket_url_for_server_url(coords\u001B[38;5;241m.\u001B[39murl), io_loop\u001B[38;5;241m=\u001B[39mio_loop, max_message_size\u001B[38;5;241m=\u001B[39mmax_message_size)\n\u001B[1;32m--> 191\u001B[0m \u001B[43msession\u001B[49m\u001B[38;5;241;43m.\u001B[39;49m\u001B[43mpush\u001B[49m\u001B[43m(\u001B[49m\u001B[43mdocument\u001B[49m\u001B[43m)\u001B[49m\n\u001B[0;32m    192\u001B[0m \u001B[38;5;28;01mreturn\u001B[39;00m session\n",
      "File \u001B[1;32mC:\\winapp\\Anaconda\\envs\\pythonProject\\lib\\site-packages\\bokeh\\client\\session.py:460\u001B[0m, in \u001B[0;36mClientSession.push\u001B[1;34m(self, document)\u001B[0m\n\u001B[0;32m    457\u001B[0m     \u001B[38;5;28;01melse\u001B[39;00m:\n\u001B[0;32m    458\u001B[0m         \u001B[38;5;28;01mraise\u001B[39;00m \u001B[38;5;167;01mValueError\u001B[39;00m(\u001B[38;5;124m\"\u001B[39m\u001B[38;5;124mCannot push() a different document from existing session.document\u001B[39m\u001B[38;5;124m\"\u001B[39m)\n\u001B[1;32m--> 460\u001B[0m \u001B[38;5;28;43mself\u001B[39;49m\u001B[38;5;241;43m.\u001B[39;49m\u001B[43mconnect\u001B[49m\u001B[43m(\u001B[49m\u001B[43m)\u001B[49m\n\u001B[0;32m    461\u001B[0m \u001B[38;5;28mself\u001B[39m\u001B[38;5;241m.\u001B[39mcheck_connection_errors()\n\u001B[0;32m    462\u001B[0m \u001B[38;5;28mself\u001B[39m\u001B[38;5;241m.\u001B[39m_connection\u001B[38;5;241m.\u001B[39mpush_doc(doc)\n",
      "File \u001B[1;32mC:\\winapp\\Anaconda\\envs\\pythonProject\\lib\\site-packages\\bokeh\\client\\session.py:378\u001B[0m, in \u001B[0;36mClientSession.connect\u001B[1;34m(self)\u001B[0m\n\u001B[0;32m    376\u001B[0m \u001B[38;5;28;01mdef\u001B[39;00m \u001B[38;5;21mconnect\u001B[39m(\u001B[38;5;28mself\u001B[39m) \u001B[38;5;241m-\u001B[39m\u001B[38;5;241m>\u001B[39m \u001B[38;5;28;01mNone\u001B[39;00m:\n\u001B[0;32m    377\u001B[0m \u001B[38;5;250m    \u001B[39m\u001B[38;5;124;03m''' Connect to a Bokeh server at the configured URL. '''\u001B[39;00m\n\u001B[1;32m--> 378\u001B[0m     \u001B[38;5;28;43mself\u001B[39;49m\u001B[38;5;241;43m.\u001B[39;49m\u001B[43m_connection\u001B[49m\u001B[38;5;241;43m.\u001B[39;49m\u001B[43mconnect\u001B[49m\u001B[43m(\u001B[49m\u001B[43m)\u001B[49m\n",
      "File \u001B[1;32mC:\\winapp\\Anaconda\\envs\\pythonProject\\lib\\site-packages\\bokeh\\client\\connection.py:158\u001B[0m, in \u001B[0;36mClientConnection.connect\u001B[1;34m(self)\u001B[0m\n\u001B[0;32m    154\u001B[0m \u001B[38;5;28;01mdef\u001B[39;00m \u001B[38;5;21mconnected_or_closed\u001B[39m() \u001B[38;5;241m-\u001B[39m\u001B[38;5;241m>\u001B[39m \u001B[38;5;28mbool\u001B[39m:\n\u001B[0;32m    155\u001B[0m     \u001B[38;5;66;03m# we should be looking at the same state here as the 'connected' property above, so connected\u001B[39;00m\n\u001B[0;32m    156\u001B[0m     \u001B[38;5;66;03m# means both connected and that we did our initial message exchange\u001B[39;00m\n\u001B[0;32m    157\u001B[0m     \u001B[38;5;28;01mreturn\u001B[39;00m \u001B[38;5;28misinstance\u001B[39m(\u001B[38;5;28mself\u001B[39m\u001B[38;5;241m.\u001B[39m_state, (CONNECTED_AFTER_ACK, DISCONNECTED))\n\u001B[1;32m--> 158\u001B[0m \u001B[38;5;28;43mself\u001B[39;49m\u001B[38;5;241;43m.\u001B[39;49m\u001B[43m_loop_until\u001B[49m\u001B[43m(\u001B[49m\u001B[43mconnected_or_closed\u001B[49m\u001B[43m)\u001B[49m\n",
      "File \u001B[1;32mC:\\winapp\\Anaconda\\envs\\pythonProject\\lib\\site-packages\\bokeh\\client\\connection.py:320\u001B[0m, in \u001B[0;36mClientConnection._loop_until\u001B[1;34m(self, predicate)\u001B[0m\n\u001B[0;32m    315\u001B[0m \u001B[38;5;28;01mtry\u001B[39;00m:\n\u001B[0;32m    316\u001B[0m     \u001B[38;5;66;03m# this runs self._next ONE time, but\u001B[39;00m\n\u001B[0;32m    317\u001B[0m     \u001B[38;5;66;03m# self._next re-runs itself until\u001B[39;00m\n\u001B[0;32m    318\u001B[0m     \u001B[38;5;66;03m# the predicate says to quit.\u001B[39;00m\n\u001B[0;32m    319\u001B[0m     \u001B[38;5;28mself\u001B[39m\u001B[38;5;241m.\u001B[39m_loop\u001B[38;5;241m.\u001B[39madd_callback(\u001B[38;5;28mself\u001B[39m\u001B[38;5;241m.\u001B[39m_next)\n\u001B[1;32m--> 320\u001B[0m     \u001B[38;5;28;43mself\u001B[39;49m\u001B[38;5;241;43m.\u001B[39;49m\u001B[43m_loop\u001B[49m\u001B[38;5;241;43m.\u001B[39;49m\u001B[43mstart\u001B[49m\u001B[43m(\u001B[49m\u001B[43m)\u001B[49m\n\u001B[0;32m    321\u001B[0m \u001B[38;5;28;01mexcept\u001B[39;00m \u001B[38;5;167;01mKeyboardInterrupt\u001B[39;00m:\n\u001B[0;32m    322\u001B[0m     \u001B[38;5;28mself\u001B[39m\u001B[38;5;241m.\u001B[39mclose(\u001B[38;5;124m\"\u001B[39m\u001B[38;5;124muser interruption\u001B[39m\u001B[38;5;124m\"\u001B[39m)\n",
      "File \u001B[1;32mC:\\winapp\\Anaconda\\envs\\pythonProject\\lib\\site-packages\\tornado\\platform\\asyncio.py:215\u001B[0m, in \u001B[0;36mBaseAsyncIOLoop.start\u001B[1;34m(self)\u001B[0m\n\u001B[0;32m    213\u001B[0m \u001B[38;5;28;01mtry\u001B[39;00m:\n\u001B[0;32m    214\u001B[0m     asyncio\u001B[38;5;241m.\u001B[39mset_event_loop(\u001B[38;5;28mself\u001B[39m\u001B[38;5;241m.\u001B[39masyncio_loop)\n\u001B[1;32m--> 215\u001B[0m     \u001B[38;5;28;43mself\u001B[39;49m\u001B[38;5;241;43m.\u001B[39;49m\u001B[43masyncio_loop\u001B[49m\u001B[38;5;241;43m.\u001B[39;49m\u001B[43mrun_forever\u001B[49m\u001B[43m(\u001B[49m\u001B[43m)\u001B[49m\n\u001B[0;32m    216\u001B[0m \u001B[38;5;28;01mfinally\u001B[39;00m:\n\u001B[0;32m    217\u001B[0m     asyncio\u001B[38;5;241m.\u001B[39mset_event_loop(old_loop)\n",
      "File \u001B[1;32mC:\\winapp\\Anaconda\\envs\\pythonProject\\lib\\asyncio\\base_events.py:592\u001B[0m, in \u001B[0;36mBaseEventLoop.run_forever\u001B[1;34m(self)\u001B[0m\n\u001B[0;32m    590\u001B[0m \u001B[38;5;250m\u001B[39m\u001B[38;5;124;03m\"\"\"Run until stop() is called.\"\"\"\u001B[39;00m\n\u001B[0;32m    591\u001B[0m \u001B[38;5;28mself\u001B[39m\u001B[38;5;241m.\u001B[39m_check_closed()\n\u001B[1;32m--> 592\u001B[0m \u001B[38;5;28;43mself\u001B[39;49m\u001B[38;5;241;43m.\u001B[39;49m\u001B[43m_check_running\u001B[49m\u001B[43m(\u001B[49m\u001B[43m)\u001B[49m\n\u001B[0;32m    593\u001B[0m \u001B[38;5;28mself\u001B[39m\u001B[38;5;241m.\u001B[39m_set_coroutine_origin_tracking(\u001B[38;5;28mself\u001B[39m\u001B[38;5;241m.\u001B[39m_debug)\n\u001B[0;32m    595\u001B[0m old_agen_hooks \u001B[38;5;241m=\u001B[39m sys\u001B[38;5;241m.\u001B[39mget_asyncgen_hooks()\n",
      "File \u001B[1;32mC:\\winapp\\Anaconda\\envs\\pythonProject\\lib\\asyncio\\base_events.py:586\u001B[0m, in \u001B[0;36mBaseEventLoop._check_running\u001B[1;34m(self)\u001B[0m\n\u001B[0;32m    584\u001B[0m     \u001B[38;5;28;01mraise\u001B[39;00m \u001B[38;5;167;01mRuntimeError\u001B[39;00m(\u001B[38;5;124m'\u001B[39m\u001B[38;5;124mThis event loop is already running\u001B[39m\u001B[38;5;124m'\u001B[39m)\n\u001B[0;32m    585\u001B[0m \u001B[38;5;28;01mif\u001B[39;00m events\u001B[38;5;241m.\u001B[39m_get_running_loop() \u001B[38;5;129;01mis\u001B[39;00m \u001B[38;5;129;01mnot\u001B[39;00m \u001B[38;5;28;01mNone\u001B[39;00m:\n\u001B[1;32m--> 586\u001B[0m     \u001B[38;5;28;01mraise\u001B[39;00m \u001B[38;5;167;01mRuntimeError\u001B[39;00m(\n\u001B[0;32m    587\u001B[0m         \u001B[38;5;124m'\u001B[39m\u001B[38;5;124mCannot run the event loop while another loop is running\u001B[39m\u001B[38;5;124m'\u001B[39m)\n",
      "\u001B[1;31mRuntimeError\u001B[0m: Cannot run the event loop while another loop is running"
     ]
    }
   ],
   "source": [
    "session = push_session(curdoc())\n",
    "session.show()\n",
    "session.loop_until_closed()"
   ],
   "metadata": {
    "collapsed": false,
    "ExecuteTime": {
     "end_time": "2024-02-11T18:23:51.656938100Z",
     "start_time": "2024-02-11T18:23:44.542643300Z"
    }
   }
  },
  {
   "cell_type": "code",
   "execution_count": null,
   "outputs": [],
   "source": [
    "def plot_opt_vol_surf(v, opt_type = 'P', x_ax = 'delta' ):\n",
    "    mpl.rcParams.update(mpl.rcParamsDefault)\n",
    "    fig = plt.figure(figsize=[8,6])\n",
    "    ax1 = fig.add_subplot(111)\n",
    "    ax1.set_ylabel('bp vol')\n",
    "    ax1.set_xlabel(x_ax)\n",
    "    ax1.set_title(v[0].ticker[:4]+' '+opt_type)\n",
    "\n",
    "    if opt_type == 'P':\n",
    "        opt_type_conv = -1\n",
    "    else:\n",
    "        opt_type_conv = 1\n",
    "\n",
    "    for s in v:\n",
    "        df = s.tab\n",
    "        df1 = df[df['opt_type']==opt_type_conv]\n",
    "        df2 = df1[df1['strikes'] == s.center][['strikes','iv','delta']]\n",
    "        ax1.plot(df1[x_ax],df1['iv'], marker='.',  label = s.ref_date)\n",
    "        ax1.annotate( str(s.center), xy=(df2[x_ax].tolist()[0], df2['iv'].tolist()[0]), fontsize = 8, horizontalalignment='center', verticalalignment='top')\n",
    "\n",
    "    ax1.legend(prop={\"size\":9},  loc='best')\n",
    "#    plt.tight_layout()\n",
    "    return fig\n"
   ],
   "metadata": {
    "collapsed": false
   }
  },
  {
   "cell_type": "code",
   "execution_count": 6,
   "outputs": [
    {
     "name": "stdout",
     "output_type": "stream",
     "text": [
      "0 RXJ4P 127.5 Comdty\n",
      "1 RXJ4P 128.0 Comdty\n",
      "2 RXJ4P 128.5 Comdty\n",
      "3 RXJ4P 129.0 Comdty\n",
      "4 RXJ4P 129.5 Comdty\n",
      "5 RXJ4P 130.0 Comdty\n",
      "6 RXJ4P 130.5 Comdty\n",
      "7 RXJ4P 131.0 Comdty\n",
      "8 RXJ4P 131.5 Comdty\n",
      "9 RXJ4P 132.0 Comdty\n",
      "10 RXJ4P 132.5 Comdty\n",
      "11 RXJ4P 133.0 Comdty\n",
      "12 RXJ4P 133.5 Comdty\n",
      "13 RXJ4P 134.0 Comdty\n",
      "14 RXJ4P 134.5 Comdty\n",
      "15 RXJ4P 135.0 Comdty\n",
      "16 RXJ4P 135.5 Comdty\n",
      "17 RXJ4P 136.0 Comdty\n",
      "18 RXJ4C 131.0 Comdty\n",
      "19 RXJ4C 131.5 Comdty\n",
      "20 RXJ4C 132.0 Comdty\n",
      "21 RXJ4C 132.5 Comdty\n",
      "22 RXJ4C 133.0 Comdty\n",
      "23 RXJ4C 133.5 Comdty\n",
      "24 RXJ4C 134.0 Comdty\n",
      "25 RXJ4C 134.5 Comdty\n",
      "26 RXJ4C 135.0 Comdty\n",
      "27 RXJ4C 135.5 Comdty\n",
      "28 RXJ4C 136.0 Comdty\n",
      "29 RXJ4C 136.5 Comdty\n",
      "30 RXJ4C 137.0 Comdty\n",
      "31 RXJ4C 137.5 Comdty\n",
      "32 RXJ4C 138.0 Comdty\n",
      "33 RXJ4C 138.5 Comdty\n",
      "34 RXJ4C 139.0 Comdty\n",
      "35 RXJ4C 139.5 Comdty\n",
      "36 RXJ4C 140.0 Comdty\n",
      "*** !!! listed_vol surf built !!! ***\n"
     ]
    }
   ],
   "source": [
    "#v2 = build_stir_vol_surf(['SFRM4P 96'], chain_len=[20,20], b=0)\n",
    "#v3 = build_vol_surf(['FVH4P 111'], chain_len=[12,12], b=0)\n",
    "v2 = build_vol_surf(['RXJ4P 133'], chain_len=[12,12], b=0)"
   ],
   "metadata": {
    "collapsed": false,
    "ExecuteTime": {
     "end_time": "2024-02-15T09:52:10.184838200Z",
     "start_time": "2024-02-15T09:52:04.278549400Z"
    }
   }
  },
  {
   "cell_type": "code",
   "execution_count": 7,
   "outputs": [
    {
     "data": {
      "text/plain": "                ticker  strikes  opt_type                   px px_64                Yld               ATM_K                bs_px                 iv               delta                gamma               theta               vega\n0   RXJ4P 127.5 Comdty    127.5        -1                 0.05  0'03 2.7897898438141993   59.45445033396486 0.050001386885864446  8.246907019583748 -3.6018433799028164 0.022858420544551762  -1.384021744948639 3.3151612005415423\n1   RXJ4P 128.0 Comdty    128.0        -1                0.065  0'04 2.7392410843874417   54.39957439128911  0.06500039632354883  8.067762233172093  -4.610701452063795 0.028547464974346053 -1.6539959466758074  4.050307289799925\n2   RXJ4P 128.5 Comdty    128.5        -1  0.08499999999999999  0'05 2.6889248734194986    49.3679532944948  0.08503539344594736  7.900001798249148  -5.914670043201423  0.03552612063345331 -1.9733246845749426  4.935626764660327\n3   RXJ4P 129.0 Comdty    129.0        -1                 0.11  0'07  2.638839207913102   44.35938674385511  0.11001423590118359  7.714711350490612  -7.512096680659347  0.04376821153102787  -2.318037681550001  5.938076884298909\n4   RXJ4P 129.5 Comdty    129.5        -1  0.14500000000000002  0'09 2.5889821100541175   39.37367695795668  0.14515560906405983  7.570548124670186   -9.62871205692037  0.05371298692495643 -2.7388129795133436  7.151118299948438\n5   RXJ4P 130.0 Comdty    130.0        -1                0.195  0'12   2.53935162679633   34.41062863217792  0.19492079832104298  7.477237709116535  -12.40456106966079  0.06522330503675418 -3.2433460296281487  8.576524325258955\n6   RXJ4P 130.5 Comdty    130.5        -1                0.255  0'16   2.48994582945466  29.470048898010948   0.2549752993126219  7.343707241993763 -15.642299051838393  0.07774049675559784 -3.7277389653334025 10.039914192073695\n7   RXJ4P 131.0 Comdty    131.0        -1  0.33999999999999997  0'21  2.440762813306624  24.551747283207348   0.3402282011465978  7.288333977838231 -19.769033339977966  0.09082020734105523   -4.28766673359136 11.640672977607828\n8   RXJ4P 131.5 Comdty    131.5        -1                0.445  0'28 2.3918006972018584   19.65553567273077   0.4448510394145305  7.214493485406372  -24.49508264931744  0.10371038863746686  -4.795001178898218 13.158168441144342\n9   RXJ4P 132.0 Comdty    132.0        -1                 0.58  0'37 2.3430576231795244   14.78122827049737   0.5799428463425398  7.181554853657418 -29.959377708786572  0.11513546549889951  -5.271194716687895 14.541022201004902\n10  RXJ4P 132.5 Comdty    132.5        -1                 0.74  0'47 2.2945317560933445   9.928641561879381   0.7398809758166034  7.124760200040716  -35.90617509241924  0.12478596285259544  -5.618273285309874 15.635195662393324\n11  RXJ4P 133.0 Comdty    133.0        -1                 0.94  0'60 2.2462212832441515   5.097594276960082   0.9398440749420679  7.125735981140324 -42.344705187390794   0.1306388922690183  -5.876947553487309 16.370786723348154\n12  RXJ4P 133.5 Comdty    133.5        -1   1.1749999999999998  1'11  2.198124414019756  0.2879073545205113    1.175000001016928  7.140744637187719  -48.96377713149751   0.1326813083644552  -5.985533533805238 16.661748783278828\n13  RXJ4P 134.0 Comdty    134.0        -1   1.4449999999999998  1'28 2.1502393795419565 -4.5005960932594125   1.4449311711260588  7.165752254798159 -55.544999059114254  0.13086739482602322   -5.93425999792862 16.491515995137163\n14  RXJ4P 134.5 Comdty    134.5        -1                 1.75  1'48  2.102564432320519  -9.268090815403163    1.749946304338801  7.208770396980679  -61.87154870979634  0.12535407394837422  -5.739050550276999 15.891576411110444\n15  RXJ4P 135.0 Comdty    135.0        -1   2.0949999999999998  2'06 2.0550978459139135 -14.014749456063713    2.094984209299301  7.317856454067489  -67.63869002632194  0.11623403827594254  -5.467245026381055  14.95837949462696\n16  RXJ4P 135.5 Comdty    135.5        -1                2.465  2'29  2.007837914596757  -18.74074258777938   2.4649778495208214  7.419165211892781   -72.8535632924846  0.10559806630237507  -5.085551087864207 13.777751328805072\n17  RXJ4P 136.0 Comdty    136.0        -1   2.8600000000000003  2'55  1.960782953033709  -23.44623874408416   2.8599744675207117  7.536663635123793  -77.41375384063687  0.09401773955929016  -4.649120001792259 12.461096883375669\n18  RXJ4C 131.0 Comdty    131.0         1   2.8600000000000003  2'55  2.440762813306624  24.551747283207348   2.8602246114344037  7.286073520027424   79.85306495171496  0.09082870167494005  -4.186844233236915 11.638151057391438\n19  RXJ4C 131.5 Comdty    131.5         1   2.4699999999999998  2'30 2.3918006972018584   19.65553567273077    2.469861567312573   7.23595620977789     75.058007571166  0.10354282824824508 -4.7366573431641985  13.17599094587488\n20  RXJ4C 132.0 Comdty    132.0         1                2.105  2'06 2.3430576231795244   14.78122827049737    2.104943708385977  7.187684094215211   69.64084654686799   0.1150628755776648  -5.217248765573738 14.544256963777073\n21  RXJ4C 132.5 Comdty    132.5         1   1.7650000000000001  1'48 2.2945317560933445   9.928641561879381   1.7648799030324525 7.1181364501987945    63.7204436595499  0.12488817083978991     -5.572307100862 15.633454285011995\n22  RXJ4C 133.0 Comdty    133.0         1                 1.47  1'30 2.2462212832441515   5.097594276960082   1.4698458244508295 7.1382105824824436   57.25893567315836  0.13041775335178266  -5.866897349593557  16.37168593022327\n23  RXJ4C 133.5 Comdty    133.5         1                1.205  1'13  2.198124414019756  0.2879073545205113    1.205000001018739  7.141437840728486  50.651228040359634  0.13266842895733888  -5.984945738938565 16.661748742257775\n24  RXJ4C 134.0 Comdty    134.0         1                 0.97  0'62 2.1502393795419565 -4.5005960932594125   0.9699283462186038   7.12444130896313   44.03185065962659   0.1316076650129367  -5.917460286681559  16.48919034440415\n25  RXJ4C 134.5 Comdty    134.5         1                 0.78  0'49  2.102564432320519  -9.268090815403163   0.7799445465337232   7.18525557132806   37.70241001309857  0.12572223531430193  -5.756106680669385 15.886259356589697\n26  RXJ4C 135.0 Comdty    135.0         1                 0.62  0'39 2.0550978459139135 -14.014749456063713   0.6199810985680847  7.246495011366309  31.805162666855786  0.11711549215784545  -5.458497510852381 14.924839850531237\n27  RXJ4C 135.5 Comdty    135.5         1                0.485  0'31  2.007837914596757  -18.74074258777938  0.48496468541870164  7.290996169767479  26.393089333505337  0.10670441401895327  -5.037926768021285 13.681590564005754\n28  RXJ4C 136.0 Comdty    136.0         1                 0.38  0'24  1.960782953033709  -23.44623874408416   0.3799458398297902  7.378863516472648  21.705010852200456  0.09479204677864798  -4.586419216703474  12.30066844461967\n29  RXJ4C 136.5 Comdty    136.5         1                  0.3  0'19 1.9139312959597032  -28.13140445148474   0.3002057111629159  7.512819092464892    17.7951284300292    0.082571344314252   -4.14318138328321 10.909368727270657\n30  RXJ4C 137.0 Comdty    137.0         1  0.22999999999999998  0'14  1.867281297866405  -32.79640426081456  0.22999271136488642  7.580342492950458  14.271944094507576  0.07084790197104153 -3.6203842421833468  9.444591023119527\n31  RXJ4C 137.5 Comdty    137.5         1                 0.18  0'11 1.8208313326947103 -37.441400777984036  0.17980547825176496 7.7121158519640725  11.510533984419057  0.05998905091530561 -3.1738441294300737  8.136036163521208\n32  RXJ4C 138.0 Comdty    138.0         1                 0.14  0'08  1.774579793533129  -42.06655469414218  0.13988454003302545  7.839245277028348   9.220477922854142  0.05024154158859519 -2.7471041402357343  6.926351763391453\n33  RXJ4C 138.5 Comdty    138.5         1  0.11499999999999999  0'07 1.7285250923219964  -46.67202481525543  0.11500421601562373  8.074914392189857   7.629963222199229  0.04231442226218938 -2.4552578617493315  6.008882015498843\n34  RXJ4C 139.0 Comdty    139.0         1                 0.09  0'05 1.6826656595632907 -51.257968091125996  0.09002150724118554   8.21206536600625    6.10820865992135  0.03504825675194136 -2.1036460790486022  5.061580561433722\n35  RXJ4C 139.5 Comdty    139.5         1  0.07500000000000001  0'04 1.6369999440359955 -55.824539643855516  0.07498619980178464   8.45469901519972   5.093503725108288  0.02949823977258939 -1.8769039143487056 4.3859289009604225\n36  RXJ4C 140.0 Comdty    140.0         1 0.060000000000000005  0'03 1.5915264126467374  -60.37189278278132   0.0599873088052504  8.620931272248997   4.129057239430903  0.02444064975608438 -1.6170340611655676 3.7053928965317584",
      "text/html": "<div>\n<style scoped>\n    .dataframe tbody tr th:only-of-type {\n        vertical-align: middle;\n    }\n\n    .dataframe tbody tr th {\n        vertical-align: top;\n    }\n\n    .dataframe thead th {\n        text-align: right;\n    }\n</style>\n<table border=\"1\" class=\"dataframe\">\n  <thead>\n    <tr style=\"text-align: right;\">\n      <th></th>\n      <th>ticker</th>\n      <th>strikes</th>\n      <th>opt_type</th>\n      <th>px</th>\n      <th>px_64</th>\n      <th>Yld</th>\n      <th>ATM_K</th>\n      <th>bs_px</th>\n      <th>iv</th>\n      <th>delta</th>\n      <th>gamma</th>\n      <th>theta</th>\n      <th>vega</th>\n    </tr>\n  </thead>\n  <tbody>\n    <tr>\n      <th>0</th>\n      <td>RXJ4P 127.5 Comdty</td>\n      <td>127.5</td>\n      <td>-1</td>\n      <td>0.05</td>\n      <td>0'03</td>\n      <td>2.7897898438141993</td>\n      <td>59.45445033396486</td>\n      <td>0.050001386885864446</td>\n      <td>8.246907019583748</td>\n      <td>-3.6018433799028164</td>\n      <td>0.022858420544551762</td>\n      <td>-1.384021744948639</td>\n      <td>3.3151612005415423</td>\n    </tr>\n    <tr>\n      <th>1</th>\n      <td>RXJ4P 128.0 Comdty</td>\n      <td>128.0</td>\n      <td>-1</td>\n      <td>0.065</td>\n      <td>0'04</td>\n      <td>2.7392410843874417</td>\n      <td>54.39957439128911</td>\n      <td>0.06500039632354883</td>\n      <td>8.067762233172093</td>\n      <td>-4.610701452063795</td>\n      <td>0.028547464974346053</td>\n      <td>-1.6539959466758074</td>\n      <td>4.050307289799925</td>\n    </tr>\n    <tr>\n      <th>2</th>\n      <td>RXJ4P 128.5 Comdty</td>\n      <td>128.5</td>\n      <td>-1</td>\n      <td>0.08499999999999999</td>\n      <td>0'05</td>\n      <td>2.6889248734194986</td>\n      <td>49.3679532944948</td>\n      <td>0.08503539344594736</td>\n      <td>7.900001798249148</td>\n      <td>-5.914670043201423</td>\n      <td>0.03552612063345331</td>\n      <td>-1.9733246845749426</td>\n      <td>4.935626764660327</td>\n    </tr>\n    <tr>\n      <th>3</th>\n      <td>RXJ4P 129.0 Comdty</td>\n      <td>129.0</td>\n      <td>-1</td>\n      <td>0.11</td>\n      <td>0'07</td>\n      <td>2.638839207913102</td>\n      <td>44.35938674385511</td>\n      <td>0.11001423590118359</td>\n      <td>7.714711350490612</td>\n      <td>-7.512096680659347</td>\n      <td>0.04376821153102787</td>\n      <td>-2.318037681550001</td>\n      <td>5.938076884298909</td>\n    </tr>\n    <tr>\n      <th>4</th>\n      <td>RXJ4P 129.5 Comdty</td>\n      <td>129.5</td>\n      <td>-1</td>\n      <td>0.14500000000000002</td>\n      <td>0'09</td>\n      <td>2.5889821100541175</td>\n      <td>39.37367695795668</td>\n      <td>0.14515560906405983</td>\n      <td>7.570548124670186</td>\n      <td>-9.62871205692037</td>\n      <td>0.05371298692495643</td>\n      <td>-2.7388129795133436</td>\n      <td>7.151118299948438</td>\n    </tr>\n    <tr>\n      <th>5</th>\n      <td>RXJ4P 130.0 Comdty</td>\n      <td>130.0</td>\n      <td>-1</td>\n      <td>0.195</td>\n      <td>0'12</td>\n      <td>2.53935162679633</td>\n      <td>34.41062863217792</td>\n      <td>0.19492079832104298</td>\n      <td>7.477237709116535</td>\n      <td>-12.40456106966079</td>\n      <td>0.06522330503675418</td>\n      <td>-3.2433460296281487</td>\n      <td>8.576524325258955</td>\n    </tr>\n    <tr>\n      <th>6</th>\n      <td>RXJ4P 130.5 Comdty</td>\n      <td>130.5</td>\n      <td>-1</td>\n      <td>0.255</td>\n      <td>0'16</td>\n      <td>2.48994582945466</td>\n      <td>29.470048898010948</td>\n      <td>0.2549752993126219</td>\n      <td>7.343707241993763</td>\n      <td>-15.642299051838393</td>\n      <td>0.07774049675559784</td>\n      <td>-3.7277389653334025</td>\n      <td>10.039914192073695</td>\n    </tr>\n    <tr>\n      <th>7</th>\n      <td>RXJ4P 131.0 Comdty</td>\n      <td>131.0</td>\n      <td>-1</td>\n      <td>0.33999999999999997</td>\n      <td>0'21</td>\n      <td>2.440762813306624</td>\n      <td>24.551747283207348</td>\n      <td>0.3402282011465978</td>\n      <td>7.288333977838231</td>\n      <td>-19.769033339977966</td>\n      <td>0.09082020734105523</td>\n      <td>-4.28766673359136</td>\n      <td>11.640672977607828</td>\n    </tr>\n    <tr>\n      <th>8</th>\n      <td>RXJ4P 131.5 Comdty</td>\n      <td>131.5</td>\n      <td>-1</td>\n      <td>0.445</td>\n      <td>0'28</td>\n      <td>2.3918006972018584</td>\n      <td>19.65553567273077</td>\n      <td>0.4448510394145305</td>\n      <td>7.214493485406372</td>\n      <td>-24.49508264931744</td>\n      <td>0.10371038863746686</td>\n      <td>-4.795001178898218</td>\n      <td>13.158168441144342</td>\n    </tr>\n    <tr>\n      <th>9</th>\n      <td>RXJ4P 132.0 Comdty</td>\n      <td>132.0</td>\n      <td>-1</td>\n      <td>0.58</td>\n      <td>0'37</td>\n      <td>2.3430576231795244</td>\n      <td>14.78122827049737</td>\n      <td>0.5799428463425398</td>\n      <td>7.181554853657418</td>\n      <td>-29.959377708786572</td>\n      <td>0.11513546549889951</td>\n      <td>-5.271194716687895</td>\n      <td>14.541022201004902</td>\n    </tr>\n    <tr>\n      <th>10</th>\n      <td>RXJ4P 132.5 Comdty</td>\n      <td>132.5</td>\n      <td>-1</td>\n      <td>0.74</td>\n      <td>0'47</td>\n      <td>2.2945317560933445</td>\n      <td>9.928641561879381</td>\n      <td>0.7398809758166034</td>\n      <td>7.124760200040716</td>\n      <td>-35.90617509241924</td>\n      <td>0.12478596285259544</td>\n      <td>-5.618273285309874</td>\n      <td>15.635195662393324</td>\n    </tr>\n    <tr>\n      <th>11</th>\n      <td>RXJ4P 133.0 Comdty</td>\n      <td>133.0</td>\n      <td>-1</td>\n      <td>0.94</td>\n      <td>0'60</td>\n      <td>2.2462212832441515</td>\n      <td>5.097594276960082</td>\n      <td>0.9398440749420679</td>\n      <td>7.125735981140324</td>\n      <td>-42.344705187390794</td>\n      <td>0.1306388922690183</td>\n      <td>-5.876947553487309</td>\n      <td>16.370786723348154</td>\n    </tr>\n    <tr>\n      <th>12</th>\n      <td>RXJ4P 133.5 Comdty</td>\n      <td>133.5</td>\n      <td>-1</td>\n      <td>1.1749999999999998</td>\n      <td>1'11</td>\n      <td>2.198124414019756</td>\n      <td>0.2879073545205113</td>\n      <td>1.175000001016928</td>\n      <td>7.140744637187719</td>\n      <td>-48.96377713149751</td>\n      <td>0.1326813083644552</td>\n      <td>-5.985533533805238</td>\n      <td>16.661748783278828</td>\n    </tr>\n    <tr>\n      <th>13</th>\n      <td>RXJ4P 134.0 Comdty</td>\n      <td>134.0</td>\n      <td>-1</td>\n      <td>1.4449999999999998</td>\n      <td>1'28</td>\n      <td>2.1502393795419565</td>\n      <td>-4.5005960932594125</td>\n      <td>1.4449311711260588</td>\n      <td>7.165752254798159</td>\n      <td>-55.544999059114254</td>\n      <td>0.13086739482602322</td>\n      <td>-5.93425999792862</td>\n      <td>16.491515995137163</td>\n    </tr>\n    <tr>\n      <th>14</th>\n      <td>RXJ4P 134.5 Comdty</td>\n      <td>134.5</td>\n      <td>-1</td>\n      <td>1.75</td>\n      <td>1'48</td>\n      <td>2.102564432320519</td>\n      <td>-9.268090815403163</td>\n      <td>1.749946304338801</td>\n      <td>7.208770396980679</td>\n      <td>-61.87154870979634</td>\n      <td>0.12535407394837422</td>\n      <td>-5.739050550276999</td>\n      <td>15.891576411110444</td>\n    </tr>\n    <tr>\n      <th>15</th>\n      <td>RXJ4P 135.0 Comdty</td>\n      <td>135.0</td>\n      <td>-1</td>\n      <td>2.0949999999999998</td>\n      <td>2'06</td>\n      <td>2.0550978459139135</td>\n      <td>-14.014749456063713</td>\n      <td>2.094984209299301</td>\n      <td>7.317856454067489</td>\n      <td>-67.63869002632194</td>\n      <td>0.11623403827594254</td>\n      <td>-5.467245026381055</td>\n      <td>14.95837949462696</td>\n    </tr>\n    <tr>\n      <th>16</th>\n      <td>RXJ4P 135.5 Comdty</td>\n      <td>135.5</td>\n      <td>-1</td>\n      <td>2.465</td>\n      <td>2'29</td>\n      <td>2.007837914596757</td>\n      <td>-18.74074258777938</td>\n      <td>2.4649778495208214</td>\n      <td>7.419165211892781</td>\n      <td>-72.8535632924846</td>\n      <td>0.10559806630237507</td>\n      <td>-5.085551087864207</td>\n      <td>13.777751328805072</td>\n    </tr>\n    <tr>\n      <th>17</th>\n      <td>RXJ4P 136.0 Comdty</td>\n      <td>136.0</td>\n      <td>-1</td>\n      <td>2.8600000000000003</td>\n      <td>2'55</td>\n      <td>1.960782953033709</td>\n      <td>-23.44623874408416</td>\n      <td>2.8599744675207117</td>\n      <td>7.536663635123793</td>\n      <td>-77.41375384063687</td>\n      <td>0.09401773955929016</td>\n      <td>-4.649120001792259</td>\n      <td>12.461096883375669</td>\n    </tr>\n    <tr>\n      <th>18</th>\n      <td>RXJ4C 131.0 Comdty</td>\n      <td>131.0</td>\n      <td>1</td>\n      <td>2.8600000000000003</td>\n      <td>2'55</td>\n      <td>2.440762813306624</td>\n      <td>24.551747283207348</td>\n      <td>2.8602246114344037</td>\n      <td>7.286073520027424</td>\n      <td>79.85306495171496</td>\n      <td>0.09082870167494005</td>\n      <td>-4.186844233236915</td>\n      <td>11.638151057391438</td>\n    </tr>\n    <tr>\n      <th>19</th>\n      <td>RXJ4C 131.5 Comdty</td>\n      <td>131.5</td>\n      <td>1</td>\n      <td>2.4699999999999998</td>\n      <td>2'30</td>\n      <td>2.3918006972018584</td>\n      <td>19.65553567273077</td>\n      <td>2.469861567312573</td>\n      <td>7.23595620977789</td>\n      <td>75.058007571166</td>\n      <td>0.10354282824824508</td>\n      <td>-4.7366573431641985</td>\n      <td>13.17599094587488</td>\n    </tr>\n    <tr>\n      <th>20</th>\n      <td>RXJ4C 132.0 Comdty</td>\n      <td>132.0</td>\n      <td>1</td>\n      <td>2.105</td>\n      <td>2'06</td>\n      <td>2.3430576231795244</td>\n      <td>14.78122827049737</td>\n      <td>2.104943708385977</td>\n      <td>7.187684094215211</td>\n      <td>69.64084654686799</td>\n      <td>0.1150628755776648</td>\n      <td>-5.217248765573738</td>\n      <td>14.544256963777073</td>\n    </tr>\n    <tr>\n      <th>21</th>\n      <td>RXJ4C 132.5 Comdty</td>\n      <td>132.5</td>\n      <td>1</td>\n      <td>1.7650000000000001</td>\n      <td>1'48</td>\n      <td>2.2945317560933445</td>\n      <td>9.928641561879381</td>\n      <td>1.7648799030324525</td>\n      <td>7.1181364501987945</td>\n      <td>63.7204436595499</td>\n      <td>0.12488817083978991</td>\n      <td>-5.572307100862</td>\n      <td>15.633454285011995</td>\n    </tr>\n    <tr>\n      <th>22</th>\n      <td>RXJ4C 133.0 Comdty</td>\n      <td>133.0</td>\n      <td>1</td>\n      <td>1.47</td>\n      <td>1'30</td>\n      <td>2.2462212832441515</td>\n      <td>5.097594276960082</td>\n      <td>1.4698458244508295</td>\n      <td>7.1382105824824436</td>\n      <td>57.25893567315836</td>\n      <td>0.13041775335178266</td>\n      <td>-5.866897349593557</td>\n      <td>16.37168593022327</td>\n    </tr>\n    <tr>\n      <th>23</th>\n      <td>RXJ4C 133.5 Comdty</td>\n      <td>133.5</td>\n      <td>1</td>\n      <td>1.205</td>\n      <td>1'13</td>\n      <td>2.198124414019756</td>\n      <td>0.2879073545205113</td>\n      <td>1.205000001018739</td>\n      <td>7.141437840728486</td>\n      <td>50.651228040359634</td>\n      <td>0.13266842895733888</td>\n      <td>-5.984945738938565</td>\n      <td>16.661748742257775</td>\n    </tr>\n    <tr>\n      <th>24</th>\n      <td>RXJ4C 134.0 Comdty</td>\n      <td>134.0</td>\n      <td>1</td>\n      <td>0.97</td>\n      <td>0'62</td>\n      <td>2.1502393795419565</td>\n      <td>-4.5005960932594125</td>\n      <td>0.9699283462186038</td>\n      <td>7.12444130896313</td>\n      <td>44.03185065962659</td>\n      <td>0.1316076650129367</td>\n      <td>-5.917460286681559</td>\n      <td>16.48919034440415</td>\n    </tr>\n    <tr>\n      <th>25</th>\n      <td>RXJ4C 134.5 Comdty</td>\n      <td>134.5</td>\n      <td>1</td>\n      <td>0.78</td>\n      <td>0'49</td>\n      <td>2.102564432320519</td>\n      <td>-9.268090815403163</td>\n      <td>0.7799445465337232</td>\n      <td>7.18525557132806</td>\n      <td>37.70241001309857</td>\n      <td>0.12572223531430193</td>\n      <td>-5.756106680669385</td>\n      <td>15.886259356589697</td>\n    </tr>\n    <tr>\n      <th>26</th>\n      <td>RXJ4C 135.0 Comdty</td>\n      <td>135.0</td>\n      <td>1</td>\n      <td>0.62</td>\n      <td>0'39</td>\n      <td>2.0550978459139135</td>\n      <td>-14.014749456063713</td>\n      <td>0.6199810985680847</td>\n      <td>7.246495011366309</td>\n      <td>31.805162666855786</td>\n      <td>0.11711549215784545</td>\n      <td>-5.458497510852381</td>\n      <td>14.924839850531237</td>\n    </tr>\n    <tr>\n      <th>27</th>\n      <td>RXJ4C 135.5 Comdty</td>\n      <td>135.5</td>\n      <td>1</td>\n      <td>0.485</td>\n      <td>0'31</td>\n      <td>2.007837914596757</td>\n      <td>-18.74074258777938</td>\n      <td>0.48496468541870164</td>\n      <td>7.290996169767479</td>\n      <td>26.393089333505337</td>\n      <td>0.10670441401895327</td>\n      <td>-5.037926768021285</td>\n      <td>13.681590564005754</td>\n    </tr>\n    <tr>\n      <th>28</th>\n      <td>RXJ4C 136.0 Comdty</td>\n      <td>136.0</td>\n      <td>1</td>\n      <td>0.38</td>\n      <td>0'24</td>\n      <td>1.960782953033709</td>\n      <td>-23.44623874408416</td>\n      <td>0.3799458398297902</td>\n      <td>7.378863516472648</td>\n      <td>21.705010852200456</td>\n      <td>0.09479204677864798</td>\n      <td>-4.586419216703474</td>\n      <td>12.30066844461967</td>\n    </tr>\n    <tr>\n      <th>29</th>\n      <td>RXJ4C 136.5 Comdty</td>\n      <td>136.5</td>\n      <td>1</td>\n      <td>0.3</td>\n      <td>0'19</td>\n      <td>1.9139312959597032</td>\n      <td>-28.13140445148474</td>\n      <td>0.3002057111629159</td>\n      <td>7.512819092464892</td>\n      <td>17.7951284300292</td>\n      <td>0.082571344314252</td>\n      <td>-4.14318138328321</td>\n      <td>10.909368727270657</td>\n    </tr>\n    <tr>\n      <th>30</th>\n      <td>RXJ4C 137.0 Comdty</td>\n      <td>137.0</td>\n      <td>1</td>\n      <td>0.22999999999999998</td>\n      <td>0'14</td>\n      <td>1.867281297866405</td>\n      <td>-32.79640426081456</td>\n      <td>0.22999271136488642</td>\n      <td>7.580342492950458</td>\n      <td>14.271944094507576</td>\n      <td>0.07084790197104153</td>\n      <td>-3.6203842421833468</td>\n      <td>9.444591023119527</td>\n    </tr>\n    <tr>\n      <th>31</th>\n      <td>RXJ4C 137.5 Comdty</td>\n      <td>137.5</td>\n      <td>1</td>\n      <td>0.18</td>\n      <td>0'11</td>\n      <td>1.8208313326947103</td>\n      <td>-37.441400777984036</td>\n      <td>0.17980547825176496</td>\n      <td>7.7121158519640725</td>\n      <td>11.510533984419057</td>\n      <td>0.05998905091530561</td>\n      <td>-3.1738441294300737</td>\n      <td>8.136036163521208</td>\n    </tr>\n    <tr>\n      <th>32</th>\n      <td>RXJ4C 138.0 Comdty</td>\n      <td>138.0</td>\n      <td>1</td>\n      <td>0.14</td>\n      <td>0'08</td>\n      <td>1.774579793533129</td>\n      <td>-42.06655469414218</td>\n      <td>0.13988454003302545</td>\n      <td>7.839245277028348</td>\n      <td>9.220477922854142</td>\n      <td>0.05024154158859519</td>\n      <td>-2.7471041402357343</td>\n      <td>6.926351763391453</td>\n    </tr>\n    <tr>\n      <th>33</th>\n      <td>RXJ4C 138.5 Comdty</td>\n      <td>138.5</td>\n      <td>1</td>\n      <td>0.11499999999999999</td>\n      <td>0'07</td>\n      <td>1.7285250923219964</td>\n      <td>-46.67202481525543</td>\n      <td>0.11500421601562373</td>\n      <td>8.074914392189857</td>\n      <td>7.629963222199229</td>\n      <td>0.04231442226218938</td>\n      <td>-2.4552578617493315</td>\n      <td>6.008882015498843</td>\n    </tr>\n    <tr>\n      <th>34</th>\n      <td>RXJ4C 139.0 Comdty</td>\n      <td>139.0</td>\n      <td>1</td>\n      <td>0.09</td>\n      <td>0'05</td>\n      <td>1.6826656595632907</td>\n      <td>-51.257968091125996</td>\n      <td>0.09002150724118554</td>\n      <td>8.21206536600625</td>\n      <td>6.10820865992135</td>\n      <td>0.03504825675194136</td>\n      <td>-2.1036460790486022</td>\n      <td>5.061580561433722</td>\n    </tr>\n    <tr>\n      <th>35</th>\n      <td>RXJ4C 139.5 Comdty</td>\n      <td>139.5</td>\n      <td>1</td>\n      <td>0.07500000000000001</td>\n      <td>0'04</td>\n      <td>1.6369999440359955</td>\n      <td>-55.824539643855516</td>\n      <td>0.07498619980178464</td>\n      <td>8.45469901519972</td>\n      <td>5.093503725108288</td>\n      <td>0.02949823977258939</td>\n      <td>-1.8769039143487056</td>\n      <td>4.3859289009604225</td>\n    </tr>\n    <tr>\n      <th>36</th>\n      <td>RXJ4C 140.0 Comdty</td>\n      <td>140.0</td>\n      <td>1</td>\n      <td>0.060000000000000005</td>\n      <td>0'03</td>\n      <td>1.5915264126467374</td>\n      <td>-60.37189278278132</td>\n      <td>0.0599873088052504</td>\n      <td>8.620931272248997</td>\n      <td>4.129057239430903</td>\n      <td>0.02444064975608438</td>\n      <td>-1.6170340611655676</td>\n      <td>3.7053928965317584</td>\n    </tr>\n  </tbody>\n</table>\n</div>"
     },
     "execution_count": 7,
     "metadata": {},
     "output_type": "execute_result"
    }
   ],
   "source": [
    "v2.tab"
   ],
   "metadata": {
    "collapsed": false,
    "ExecuteTime": {
     "end_time": "2024-02-15T09:52:28.835334Z",
     "start_time": "2024-02-15T09:52:28.562977600Z"
    }
   }
  },
  {
   "cell_type": "code",
   "execution_count": 15,
   "outputs": [
    {
     "data": {
      "text/plain": "                 ticker  strikes  opt_type         px px_64                Yld                ATM_K                 bs_px                 iv               delta                gamma               theta               vega\n0    FVH4P 103.5 Comdty    103.5        -1  0.0078125  0'00 5.0952958805907205     81.1057792032849  0.007815612779134437  9.032313528372638 -1.4541649419239235  0.02435112067223368 -1.1313575589247957 0.6179307387023195\n1   FVH4P 103.75 Comdty   103.75        -1  0.0078125  0'00  5.031705156139907    74.74670675820354  0.007813786455786726  8.420394387381409  -1.548489405446285  0.02757050274383166  -1.113242862778134 0.6522272819716894\n2    FVH4P 104.0 Comdty    104.0        -1  0.0078125  0'00  4.968293501410954    68.40554128530823  0.007813099117971359  7.804642156914303 -1.6575406919642928 0.031532304875717225 -1.0938032626695087 0.6914018778629654\n3   FVH4P 104.25 Comdty   104.25        -1  0.0078125  0'00  4.905059970861826    62.08218823039546  0.007826521548126329   7.18615977246604 -1.7874547379127537   0.0365265970588038  -1.074180246960405 0.7374420955832744\n4    FVH4P 104.5 Comdty    104.5        -1  0.0078125  0'00  4.842003626252476    55.77655376946042    0.0077991721721465  6.556839780171135  -1.933934654647564 0.042808613016731924 -1.0480715406210899 0.7885832915288319\n5   FVH4P 104.75 Comdty   104.75        -1  0.0078125  0'00  4.779123536570772    49.48854480129006 0.0078123975865380104  5.926383803928358 -2.1194452633803618  0.05118706759273415 -1.0237786249050451 0.8522595305977394\n6    FVH4P 105.0 Comdty    105.0        -1   0.015625  0'01 4.7164187779593245     43.2180689401453   0.01562524143557749  5.956425096425526 -3.8807946492207464  0.08419438287252168  -1.700923943858895 1.4089339857815986\n7   FVH4P 105.25 Comdty   105.25        -1 0.01953125  0'01 4.6538884336432496    36.96503450853781   0.01953374195121336  5.485518256111755 -5.0574870981338735  0.11316742149177131 -1.9389503486603503 1.7440580165378345\n8    FVH4P 105.5 Comdty    105.5        -1 0.03515625  0'02  4.591531593858778    30.72935053009065  0.035159523327610694  5.429652235712191  -8.411844329936073  0.16959499397668376 -2.8465217618652097 2.5870622894983715\n9   FVH4P 105.75 Comdty   105.75        -1 0.05078125  0'03   4.52934735578292   24.510926722504855   0.05078227268436603   5.09108949479754 -12.041134716126782  0.23489577156225502 -3.4657808174343767   3.35975626746475\n10   FVH4P 106.0 Comdty    106.0        -1 0.08203125  0'05 4.4673348234637205     18.3096734905849   0.08202845834898646  4.921711343754196  -18.20485902016476  0.32018654678505565  -4.414171764182631  4.427321512076241\n11  FVH4P 106.25 Comdty   106.25        -1 0.13671875  0'08  4.405493107751648    12.12550191937769   0.13673938590584428  4.879409352661781 -27.156201990696015   0.4051814049659449  -5.488479619313613  5.554418550243621\n12   FVH4P 106.5 Comdty    106.5        -1 0.21484375  0'13   4.34382132623172    5.958323767384854   0.21483446354156902  4.818119985740378  -38.00605002504634  0.47106747514944874  -6.218484653105731 6.3765030655416535\n13  FVH4P 106.75 Comdty   106.75        -1  0.3203125  0'20   4.28231860315645 -0.19194854014212837   0.32033690383023616  4.738024494023762  -50.17829245567976   0.5016780381390566  -6.398953752579074 6.6779664575898785\n14   FVH4P 107.0 Comdty    107.0        -1  0.4609375  0'29  4.220984069379665   -6.325401917820628   0.46091762304933565   4.72037763063715  -62.53595930774025   0.4781608737229805  -6.045260201885033  6.341217104125133\n15  FVH4P 107.25 Comdty   107.25        -1   0.640625  0'41  4.159816862291071  -12.442122626680074    0.6406218249188946  4.873782621870166  -73.02020851058056  0.40334859187324085  -5.424253511821855  5.522917330555035\n16   FVH4P 107.5 Comdty    107.5        -1 0.83984375  0'53  4.098816125751751   -18.54219628061209    0.8398404282088623  4.973615494972721  -81.53805108833264   0.3182145395399021   -4.43982813657157  4.446456714073629\n17  FVH4P 107.75 Comdty   107.75        -1     1.0625  1'04 4.0379810100302755  -24.625707852759593    1.0625008275427468  5.251361464894583  -87.07726256485941  0.23756693411582425 -3.6758423253957386  3.504933224743974\n18   FVH4P 108.0 Comdty    108.0        -1 1.29296875  1'18 3.9773106717397555  -30.692741681811597     1.292976788322678  5.479742648353449  -91.14371247389876  0.17271245001663565 -2.8858577471855176  2.658922321690594\n19  FVH4P 108.25 Comdty   108.25        -1    1.53125  1'34 3.9168042737755218   -36.74338147823497    1.5312647052901225   5.76533537692306  -93.75826578449069  0.12501374896838258  -2.285967138271493  2.024902876755613\n20   FVH4P 108.5 Comdty    108.5        -1 1.77734375  1'49 3.8564609852537046   -42.77771033041668    1.7773801161098863  6.299003906390813  -94.89160925437525  0.09730872946263734  -2.105190971448485 1.7220490683457699\n21  FVH4P 108.75 Comdty   108.75        -1 2.01953125  2'01  3.796279981450411   -48.79581071074605     2.019531470651915   6.47283637775014  -96.49871534439811  0.06903074109491403 -1.5404471482521578 1.2553331778489851\n22   FVH4P 109.0 Comdty    109.0        -1 2.26953125  2'17 3.7362604437417715      -54.79776448161     2.269556889315436  7.153167891600809  -96.71389054750216  0.05915777029269986  -1.603937437340095  1.188863674638164\n23  FVH4P 109.25 Comdty   109.25        -1 2.51953125  2'33  3.676401559544584  -60.783652901328765    2.5195287591398654 7.8216127150206844  -96.89895114733757 0.051460817199429264 -1.6597547976056262 1.1308235102920086\n24   FVH4P 109.5 Comdty    109.5        -1   2.765625  2'49 3.6167025223159985    -66.7535566241873    2.7656156644758005  8.091319596552339  -97.60399567746033  0.03965632602754268 -1.3322316818431257 0.9014749732075786\n25  FVH4P 109.75 Comdty   109.75        -1   3.015625  3'01  3.557162531204522   -72.70755573533494    3.0156238388375183  8.735828833985673  -97.69711428829835  0.03545229606221749 -1.3811974277939765 0.8701023184509882\n26   FVH4C 103.5 Comdty    103.5         1 3.24609375  3'15 5.0952958805907205     81.1057792032849    3.2460897443279904  9.084815281361474   98.36817199912235 0.024879272415346772 -0.9974338812681997 0.6350027690969835\n27  FVH4C 103.75 Comdty   103.75         1 2.99609375  2'63  5.031705156139907    74.74670675820354     2.996094787517319  8.421720681070049   98.31935059316957 0.027586239923348823 -0.9555518665871968 0.6527023625577993\n28   FVH4C 104.0 Comdty    104.0         1 2.74609375  2'47  4.968293501410954    68.40554128530823    2.7460922426336434  7.757678033539745    98.2637752482404 0.030866293321340034 -0.9124371458075851 0.6727257823935283\n29  FVH4C 104.25 Comdty   104.25         1 2.49609375  2'31  4.905059970861826    62.08218823039546     2.496105273497987  7.095839043848183   98.19541682142771  0.03497182342893602 -0.8706116900487059 0.6971783225952992\n30   FVH4C 104.5 Comdty    104.5         1 2.24609375  2'15  4.842003626252476    55.77655376946042      2.24610661507544  6.431820776969024   98.11570694537211  0.04014709224757365 -0.8268908288406518 0.7254539880966835\n31  FVH4C 104.75 Comdty   104.75         1        2.0  2'00  4.779123536570772    49.48854480129006     2.000020705978877   6.20701798708031   97.24036695278483 0.058576576629764794 -1.1794768525742196 1.0214775661682747\n32   FVH4C 105.0 Comdty    105.0         1 1.75390625  1'48 4.7164187779593245     43.2180689401453    1.7538918970446635  5.836181525328947   96.28271885674789  0.08056690941825426 -1.4702193155874095 1.3210137500378356\n33  FVH4C 105.25 Comdty   105.25         1 1.51171875  1'32 4.6538884336432496    36.96503450853781    1.5117117346326443  5.594060904993657    94.4739664776175  0.11681597733544294  -2.002294373324305 1.8359095443348605\n34   FVH4C 105.5 Comdty    105.5         1 1.26953125  1'17  4.591531593858778    30.72935053009065     1.269504651506727 5.1781778717507985   92.43708735913462  0.16191550354421042  -2.405933541944603 2.3555224167919917\n35  FVH4C 105.75 Comdty   105.75         1 1.04296875  1'02   4.52934735578292   24.510926722504855    1.0429697250475383  5.129531622758654   87.65225057101661  0.23552273233225107 -3.4750714825682074 3.3941605772143313\n36   FVH4C 106.0 Comdty    106.0         1 0.82421875  0'52 4.4673348234637205     18.3096734905849    0.8242164764396978  4.943618174583284   81.55888612287393   0.3199185514703575  -4.410452086751906  4.443305633470501\n37  FVH4C 106.25 Comdty   106.25         1      0.625  0'40  4.405493107751648    12.12550191937769    0.6249979658747072  4.820136417065373   72.95666134868442   0.4083217104988352  -5.371409820611095 5.5294717546496654\n38   FVH4C 106.5 Comdty    106.5         1   0.453125  0'29   4.34382132623172    5.958323767384854   0.45311471900074707  4.761783985964655   61.99647773775164  0.47612965512137423 -6.1263884969585884  6.369667525781392\n39  FVH4C 106.75 Comdty   106.75         1     0.3125  0'20   4.28231860315645 -0.19194854014212837   0.31252440529224723  4.737871440419126   49.69084426697476   0.5016942431511702  -6.399161322565563  6.677966439699228\n40   FVH4C 107.0 Comdty    107.0         1   0.203125  0'13  4.220984069379665   -6.325401917820628     0.203104928515302  4.715054494551853    37.3191369449094   0.4786434356461639  -6.051379975165444  6.340458524616851\n41  FVH4C 107.25 Comdty   107.25         1 0.12890625  0'08  4.159816862291071  -12.442122626680074   0.12890126461045687  4.790714680056764  26.493677125892606   0.4075916983936084  -5.322430506070423  5.485894845442808\n42   FVH4C 107.5 Comdty    107.5         1 0.08203125  0'05  4.098816125751751   -18.54219628061209   0.08202717668664564  4.951257084970243  18.222329244641873   0.3184666868770348  -4.443361552807501  4.429975547407295\n43  FVH4C 107.75 Comdty   107.75         1 0.05078125  0'03 4.0379810100302755  -24.625707852759593    0.0507823096285868  5.099391485450877  12.092972998818933  0.23522346083953918  -3.481956526375972  3.369929631116258\n44   FVH4C 108.0 Comdty    108.0         1 0.03515625  0'02 3.9773106717397555  -30.692741681811597   0.03515849465635305 5.4169581008726135   8.477030776774264  0.17097964810038227  -2.856365717656562  2.602086548882275\n45  FVH4C 108.25 Comdty   108.25         1 0.02734375  0'01 3.9168042737755218   -36.74338147823497   0.02734003828352657   5.85811768785882   6.413920447936851   0.1277632584740325   -2.49638680462509 2.1027416359179023\n46   FVH4C 108.5 Comdty    108.5         1 0.01953125  0'01 3.8564609852537046   -42.77771033041668  0.019523422958370732  6.158599545127723   4.601525171211293  0.09346186958065217  -2.018448145304348 1.6171051946067712\n47  FVH4C 108.75 Comdty   108.75         1  0.0078125  0'00  3.796279981450411   -48.79581071074605  0.007809224967721135 5.8545509787335455   2.153623537059464 0.052520680875824684 -1.0251421649722552 0.8638648076750362\n48   FVH4C 109.0 Comdty    109.0         1  0.0078125  0'00 3.7362604437417715      -54.79776448161  0.007799699837980093  6.458109833178738  1.9722674216455474  0.04419361532952771 -1.0496421397454292 0.8018383068968503\n49  FVH4C 109.25 Comdty   109.25         1  0.0078125  0'00  3.676401559544584  -60.783652901328765  0.007801555249574063  7.053969374972442  1.8241142535380568 0.037860700516516146 -1.0728285447385406 0.7503157405341596\n50   FVH4C 109.5 Comdty    109.5         1  0.0078125  0'00 3.6167025223159985    -66.7535566241873  0.007812732478030361  7.643117648991195  1.7007785085316947  0.03291572811761862 -1.0950205085201092 0.7067988812513548\n51  FVH4C 109.75 Comdty   109.75         1  0.0078125  0'00  3.557162531204522   -72.70755573533494  0.007805168403322096  8.222368343937033  1.5923436805644156 0.028919071439007474  -1.113419370554467 0.6680409958792772",
      "text/html": "<div>\n<style scoped>\n    .dataframe tbody tr th:only-of-type {\n        vertical-align: middle;\n    }\n\n    .dataframe tbody tr th {\n        vertical-align: top;\n    }\n\n    .dataframe thead th {\n        text-align: right;\n    }\n</style>\n<table border=\"1\" class=\"dataframe\">\n  <thead>\n    <tr style=\"text-align: right;\">\n      <th></th>\n      <th>ticker</th>\n      <th>strikes</th>\n      <th>opt_type</th>\n      <th>px</th>\n      <th>px_64</th>\n      <th>Yld</th>\n      <th>ATM_K</th>\n      <th>bs_px</th>\n      <th>iv</th>\n      <th>delta</th>\n      <th>gamma</th>\n      <th>theta</th>\n      <th>vega</th>\n    </tr>\n  </thead>\n  <tbody>\n    <tr>\n      <th>0</th>\n      <td>FVH4P 103.5 Comdty</td>\n      <td>103.5</td>\n      <td>-1</td>\n      <td>0.0078125</td>\n      <td>0'00</td>\n      <td>5.0952958805907205</td>\n      <td>81.1057792032849</td>\n      <td>0.007815612779134437</td>\n      <td>9.032313528372638</td>\n      <td>-1.4541649419239235</td>\n      <td>0.02435112067223368</td>\n      <td>-1.1313575589247957</td>\n      <td>0.6179307387023195</td>\n    </tr>\n    <tr>\n      <th>1</th>\n      <td>FVH4P 103.75 Comdty</td>\n      <td>103.75</td>\n      <td>-1</td>\n      <td>0.0078125</td>\n      <td>0'00</td>\n      <td>5.031705156139907</td>\n      <td>74.74670675820354</td>\n      <td>0.007813786455786726</td>\n      <td>8.420394387381409</td>\n      <td>-1.548489405446285</td>\n      <td>0.02757050274383166</td>\n      <td>-1.113242862778134</td>\n      <td>0.6522272819716894</td>\n    </tr>\n    <tr>\n      <th>2</th>\n      <td>FVH4P 104.0 Comdty</td>\n      <td>104.0</td>\n      <td>-1</td>\n      <td>0.0078125</td>\n      <td>0'00</td>\n      <td>4.968293501410954</td>\n      <td>68.40554128530823</td>\n      <td>0.007813099117971359</td>\n      <td>7.804642156914303</td>\n      <td>-1.6575406919642928</td>\n      <td>0.031532304875717225</td>\n      <td>-1.0938032626695087</td>\n      <td>0.6914018778629654</td>\n    </tr>\n    <tr>\n      <th>3</th>\n      <td>FVH4P 104.25 Comdty</td>\n      <td>104.25</td>\n      <td>-1</td>\n      <td>0.0078125</td>\n      <td>0'00</td>\n      <td>4.905059970861826</td>\n      <td>62.08218823039546</td>\n      <td>0.007826521548126329</td>\n      <td>7.18615977246604</td>\n      <td>-1.7874547379127537</td>\n      <td>0.0365265970588038</td>\n      <td>-1.074180246960405</td>\n      <td>0.7374420955832744</td>\n    </tr>\n    <tr>\n      <th>4</th>\n      <td>FVH4P 104.5 Comdty</td>\n      <td>104.5</td>\n      <td>-1</td>\n      <td>0.0078125</td>\n      <td>0'00</td>\n      <td>4.842003626252476</td>\n      <td>55.77655376946042</td>\n      <td>0.0077991721721465</td>\n      <td>6.556839780171135</td>\n      <td>-1.933934654647564</td>\n      <td>0.042808613016731924</td>\n      <td>-1.0480715406210899</td>\n      <td>0.7885832915288319</td>\n    </tr>\n    <tr>\n      <th>5</th>\n      <td>FVH4P 104.75 Comdty</td>\n      <td>104.75</td>\n      <td>-1</td>\n      <td>0.0078125</td>\n      <td>0'00</td>\n      <td>4.779123536570772</td>\n      <td>49.48854480129006</td>\n      <td>0.0078123975865380104</td>\n      <td>5.926383803928358</td>\n      <td>-2.1194452633803618</td>\n      <td>0.05118706759273415</td>\n      <td>-1.0237786249050451</td>\n      <td>0.8522595305977394</td>\n    </tr>\n    <tr>\n      <th>6</th>\n      <td>FVH4P 105.0 Comdty</td>\n      <td>105.0</td>\n      <td>-1</td>\n      <td>0.015625</td>\n      <td>0'01</td>\n      <td>4.7164187779593245</td>\n      <td>43.2180689401453</td>\n      <td>0.01562524143557749</td>\n      <td>5.956425096425526</td>\n      <td>-3.8807946492207464</td>\n      <td>0.08419438287252168</td>\n      <td>-1.700923943858895</td>\n      <td>1.4089339857815986</td>\n    </tr>\n    <tr>\n      <th>7</th>\n      <td>FVH4P 105.25 Comdty</td>\n      <td>105.25</td>\n      <td>-1</td>\n      <td>0.01953125</td>\n      <td>0'01</td>\n      <td>4.6538884336432496</td>\n      <td>36.96503450853781</td>\n      <td>0.01953374195121336</td>\n      <td>5.485518256111755</td>\n      <td>-5.0574870981338735</td>\n      <td>0.11316742149177131</td>\n      <td>-1.9389503486603503</td>\n      <td>1.7440580165378345</td>\n    </tr>\n    <tr>\n      <th>8</th>\n      <td>FVH4P 105.5 Comdty</td>\n      <td>105.5</td>\n      <td>-1</td>\n      <td>0.03515625</td>\n      <td>0'02</td>\n      <td>4.591531593858778</td>\n      <td>30.72935053009065</td>\n      <td>0.035159523327610694</td>\n      <td>5.429652235712191</td>\n      <td>-8.411844329936073</td>\n      <td>0.16959499397668376</td>\n      <td>-2.8465217618652097</td>\n      <td>2.5870622894983715</td>\n    </tr>\n    <tr>\n      <th>9</th>\n      <td>FVH4P 105.75 Comdty</td>\n      <td>105.75</td>\n      <td>-1</td>\n      <td>0.05078125</td>\n      <td>0'03</td>\n      <td>4.52934735578292</td>\n      <td>24.510926722504855</td>\n      <td>0.05078227268436603</td>\n      <td>5.09108949479754</td>\n      <td>-12.041134716126782</td>\n      <td>0.23489577156225502</td>\n      <td>-3.4657808174343767</td>\n      <td>3.35975626746475</td>\n    </tr>\n    <tr>\n      <th>10</th>\n      <td>FVH4P 106.0 Comdty</td>\n      <td>106.0</td>\n      <td>-1</td>\n      <td>0.08203125</td>\n      <td>0'05</td>\n      <td>4.4673348234637205</td>\n      <td>18.3096734905849</td>\n      <td>0.08202845834898646</td>\n      <td>4.921711343754196</td>\n      <td>-18.20485902016476</td>\n      <td>0.32018654678505565</td>\n      <td>-4.414171764182631</td>\n      <td>4.427321512076241</td>\n    </tr>\n    <tr>\n      <th>11</th>\n      <td>FVH4P 106.25 Comdty</td>\n      <td>106.25</td>\n      <td>-1</td>\n      <td>0.13671875</td>\n      <td>0'08</td>\n      <td>4.405493107751648</td>\n      <td>12.12550191937769</td>\n      <td>0.13673938590584428</td>\n      <td>4.879409352661781</td>\n      <td>-27.156201990696015</td>\n      <td>0.4051814049659449</td>\n      <td>-5.488479619313613</td>\n      <td>5.554418550243621</td>\n    </tr>\n    <tr>\n      <th>12</th>\n      <td>FVH4P 106.5 Comdty</td>\n      <td>106.5</td>\n      <td>-1</td>\n      <td>0.21484375</td>\n      <td>0'13</td>\n      <td>4.34382132623172</td>\n      <td>5.958323767384854</td>\n      <td>0.21483446354156902</td>\n      <td>4.818119985740378</td>\n      <td>-38.00605002504634</td>\n      <td>0.47106747514944874</td>\n      <td>-6.218484653105731</td>\n      <td>6.3765030655416535</td>\n    </tr>\n    <tr>\n      <th>13</th>\n      <td>FVH4P 106.75 Comdty</td>\n      <td>106.75</td>\n      <td>-1</td>\n      <td>0.3203125</td>\n      <td>0'20</td>\n      <td>4.28231860315645</td>\n      <td>-0.19194854014212837</td>\n      <td>0.32033690383023616</td>\n      <td>4.738024494023762</td>\n      <td>-50.17829245567976</td>\n      <td>0.5016780381390566</td>\n      <td>-6.398953752579074</td>\n      <td>6.6779664575898785</td>\n    </tr>\n    <tr>\n      <th>14</th>\n      <td>FVH4P 107.0 Comdty</td>\n      <td>107.0</td>\n      <td>-1</td>\n      <td>0.4609375</td>\n      <td>0'29</td>\n      <td>4.220984069379665</td>\n      <td>-6.325401917820628</td>\n      <td>0.46091762304933565</td>\n      <td>4.72037763063715</td>\n      <td>-62.53595930774025</td>\n      <td>0.4781608737229805</td>\n      <td>-6.045260201885033</td>\n      <td>6.341217104125133</td>\n    </tr>\n    <tr>\n      <th>15</th>\n      <td>FVH4P 107.25 Comdty</td>\n      <td>107.25</td>\n      <td>-1</td>\n      <td>0.640625</td>\n      <td>0'41</td>\n      <td>4.159816862291071</td>\n      <td>-12.442122626680074</td>\n      <td>0.6406218249188946</td>\n      <td>4.873782621870166</td>\n      <td>-73.02020851058056</td>\n      <td>0.40334859187324085</td>\n      <td>-5.424253511821855</td>\n      <td>5.522917330555035</td>\n    </tr>\n    <tr>\n      <th>16</th>\n      <td>FVH4P 107.5 Comdty</td>\n      <td>107.5</td>\n      <td>-1</td>\n      <td>0.83984375</td>\n      <td>0'53</td>\n      <td>4.098816125751751</td>\n      <td>-18.54219628061209</td>\n      <td>0.8398404282088623</td>\n      <td>4.973615494972721</td>\n      <td>-81.53805108833264</td>\n      <td>0.3182145395399021</td>\n      <td>-4.43982813657157</td>\n      <td>4.446456714073629</td>\n    </tr>\n    <tr>\n      <th>17</th>\n      <td>FVH4P 107.75 Comdty</td>\n      <td>107.75</td>\n      <td>-1</td>\n      <td>1.0625</td>\n      <td>1'04</td>\n      <td>4.0379810100302755</td>\n      <td>-24.625707852759593</td>\n      <td>1.0625008275427468</td>\n      <td>5.251361464894583</td>\n      <td>-87.07726256485941</td>\n      <td>0.23756693411582425</td>\n      <td>-3.6758423253957386</td>\n      <td>3.504933224743974</td>\n    </tr>\n    <tr>\n      <th>18</th>\n      <td>FVH4P 108.0 Comdty</td>\n      <td>108.0</td>\n      <td>-1</td>\n      <td>1.29296875</td>\n      <td>1'18</td>\n      <td>3.9773106717397555</td>\n      <td>-30.692741681811597</td>\n      <td>1.292976788322678</td>\n      <td>5.479742648353449</td>\n      <td>-91.14371247389876</td>\n      <td>0.17271245001663565</td>\n      <td>-2.8858577471855176</td>\n      <td>2.658922321690594</td>\n    </tr>\n    <tr>\n      <th>19</th>\n      <td>FVH4P 108.25 Comdty</td>\n      <td>108.25</td>\n      <td>-1</td>\n      <td>1.53125</td>\n      <td>1'34</td>\n      <td>3.9168042737755218</td>\n      <td>-36.74338147823497</td>\n      <td>1.5312647052901225</td>\n      <td>5.76533537692306</td>\n      <td>-93.75826578449069</td>\n      <td>0.12501374896838258</td>\n      <td>-2.285967138271493</td>\n      <td>2.024902876755613</td>\n    </tr>\n    <tr>\n      <th>20</th>\n      <td>FVH4P 108.5 Comdty</td>\n      <td>108.5</td>\n      <td>-1</td>\n      <td>1.77734375</td>\n      <td>1'49</td>\n      <td>3.8564609852537046</td>\n      <td>-42.77771033041668</td>\n      <td>1.7773801161098863</td>\n      <td>6.299003906390813</td>\n      <td>-94.89160925437525</td>\n      <td>0.09730872946263734</td>\n      <td>-2.105190971448485</td>\n      <td>1.7220490683457699</td>\n    </tr>\n    <tr>\n      <th>21</th>\n      <td>FVH4P 108.75 Comdty</td>\n      <td>108.75</td>\n      <td>-1</td>\n      <td>2.01953125</td>\n      <td>2'01</td>\n      <td>3.796279981450411</td>\n      <td>-48.79581071074605</td>\n      <td>2.019531470651915</td>\n      <td>6.47283637775014</td>\n      <td>-96.49871534439811</td>\n      <td>0.06903074109491403</td>\n      <td>-1.5404471482521578</td>\n      <td>1.2553331778489851</td>\n    </tr>\n    <tr>\n      <th>22</th>\n      <td>FVH4P 109.0 Comdty</td>\n      <td>109.0</td>\n      <td>-1</td>\n      <td>2.26953125</td>\n      <td>2'17</td>\n      <td>3.7362604437417715</td>\n      <td>-54.79776448161</td>\n      <td>2.269556889315436</td>\n      <td>7.153167891600809</td>\n      <td>-96.71389054750216</td>\n      <td>0.05915777029269986</td>\n      <td>-1.603937437340095</td>\n      <td>1.188863674638164</td>\n    </tr>\n    <tr>\n      <th>23</th>\n      <td>FVH4P 109.25 Comdty</td>\n      <td>109.25</td>\n      <td>-1</td>\n      <td>2.51953125</td>\n      <td>2'33</td>\n      <td>3.676401559544584</td>\n      <td>-60.783652901328765</td>\n      <td>2.5195287591398654</td>\n      <td>7.8216127150206844</td>\n      <td>-96.89895114733757</td>\n      <td>0.051460817199429264</td>\n      <td>-1.6597547976056262</td>\n      <td>1.1308235102920086</td>\n    </tr>\n    <tr>\n      <th>24</th>\n      <td>FVH4P 109.5 Comdty</td>\n      <td>109.5</td>\n      <td>-1</td>\n      <td>2.765625</td>\n      <td>2'49</td>\n      <td>3.6167025223159985</td>\n      <td>-66.7535566241873</td>\n      <td>2.7656156644758005</td>\n      <td>8.091319596552339</td>\n      <td>-97.60399567746033</td>\n      <td>0.03965632602754268</td>\n      <td>-1.3322316818431257</td>\n      <td>0.9014749732075786</td>\n    </tr>\n    <tr>\n      <th>25</th>\n      <td>FVH4P 109.75 Comdty</td>\n      <td>109.75</td>\n      <td>-1</td>\n      <td>3.015625</td>\n      <td>3'01</td>\n      <td>3.557162531204522</td>\n      <td>-72.70755573533494</td>\n      <td>3.0156238388375183</td>\n      <td>8.735828833985673</td>\n      <td>-97.69711428829835</td>\n      <td>0.03545229606221749</td>\n      <td>-1.3811974277939765</td>\n      <td>0.8701023184509882</td>\n    </tr>\n    <tr>\n      <th>26</th>\n      <td>FVH4C 103.5 Comdty</td>\n      <td>103.5</td>\n      <td>1</td>\n      <td>3.24609375</td>\n      <td>3'15</td>\n      <td>5.0952958805907205</td>\n      <td>81.1057792032849</td>\n      <td>3.2460897443279904</td>\n      <td>9.084815281361474</td>\n      <td>98.36817199912235</td>\n      <td>0.024879272415346772</td>\n      <td>-0.9974338812681997</td>\n      <td>0.6350027690969835</td>\n    </tr>\n    <tr>\n      <th>27</th>\n      <td>FVH4C 103.75 Comdty</td>\n      <td>103.75</td>\n      <td>1</td>\n      <td>2.99609375</td>\n      <td>2'63</td>\n      <td>5.031705156139907</td>\n      <td>74.74670675820354</td>\n      <td>2.996094787517319</td>\n      <td>8.421720681070049</td>\n      <td>98.31935059316957</td>\n      <td>0.027586239923348823</td>\n      <td>-0.9555518665871968</td>\n      <td>0.6527023625577993</td>\n    </tr>\n    <tr>\n      <th>28</th>\n      <td>FVH4C 104.0 Comdty</td>\n      <td>104.0</td>\n      <td>1</td>\n      <td>2.74609375</td>\n      <td>2'47</td>\n      <td>4.968293501410954</td>\n      <td>68.40554128530823</td>\n      <td>2.7460922426336434</td>\n      <td>7.757678033539745</td>\n      <td>98.2637752482404</td>\n      <td>0.030866293321340034</td>\n      <td>-0.9124371458075851</td>\n      <td>0.6727257823935283</td>\n    </tr>\n    <tr>\n      <th>29</th>\n      <td>FVH4C 104.25 Comdty</td>\n      <td>104.25</td>\n      <td>1</td>\n      <td>2.49609375</td>\n      <td>2'31</td>\n      <td>4.905059970861826</td>\n      <td>62.08218823039546</td>\n      <td>2.496105273497987</td>\n      <td>7.095839043848183</td>\n      <td>98.19541682142771</td>\n      <td>0.03497182342893602</td>\n      <td>-0.8706116900487059</td>\n      <td>0.6971783225952992</td>\n    </tr>\n    <tr>\n      <th>30</th>\n      <td>FVH4C 104.5 Comdty</td>\n      <td>104.5</td>\n      <td>1</td>\n      <td>2.24609375</td>\n      <td>2'15</td>\n      <td>4.842003626252476</td>\n      <td>55.77655376946042</td>\n      <td>2.24610661507544</td>\n      <td>6.431820776969024</td>\n      <td>98.11570694537211</td>\n      <td>0.04014709224757365</td>\n      <td>-0.8268908288406518</td>\n      <td>0.7254539880966835</td>\n    </tr>\n    <tr>\n      <th>31</th>\n      <td>FVH4C 104.75 Comdty</td>\n      <td>104.75</td>\n      <td>1</td>\n      <td>2.0</td>\n      <td>2'00</td>\n      <td>4.779123536570772</td>\n      <td>49.48854480129006</td>\n      <td>2.000020705978877</td>\n      <td>6.20701798708031</td>\n      <td>97.24036695278483</td>\n      <td>0.058576576629764794</td>\n      <td>-1.1794768525742196</td>\n      <td>1.0214775661682747</td>\n    </tr>\n    <tr>\n      <th>32</th>\n      <td>FVH4C 105.0 Comdty</td>\n      <td>105.0</td>\n      <td>1</td>\n      <td>1.75390625</td>\n      <td>1'48</td>\n      <td>4.7164187779593245</td>\n      <td>43.2180689401453</td>\n      <td>1.7538918970446635</td>\n      <td>5.836181525328947</td>\n      <td>96.28271885674789</td>\n      <td>0.08056690941825426</td>\n      <td>-1.4702193155874095</td>\n      <td>1.3210137500378356</td>\n    </tr>\n    <tr>\n      <th>33</th>\n      <td>FVH4C 105.25 Comdty</td>\n      <td>105.25</td>\n      <td>1</td>\n      <td>1.51171875</td>\n      <td>1'32</td>\n      <td>4.6538884336432496</td>\n      <td>36.96503450853781</td>\n      <td>1.5117117346326443</td>\n      <td>5.594060904993657</td>\n      <td>94.4739664776175</td>\n      <td>0.11681597733544294</td>\n      <td>-2.002294373324305</td>\n      <td>1.8359095443348605</td>\n    </tr>\n    <tr>\n      <th>34</th>\n      <td>FVH4C 105.5 Comdty</td>\n      <td>105.5</td>\n      <td>1</td>\n      <td>1.26953125</td>\n      <td>1'17</td>\n      <td>4.591531593858778</td>\n      <td>30.72935053009065</td>\n      <td>1.269504651506727</td>\n      <td>5.1781778717507985</td>\n      <td>92.43708735913462</td>\n      <td>0.16191550354421042</td>\n      <td>-2.405933541944603</td>\n      <td>2.3555224167919917</td>\n    </tr>\n    <tr>\n      <th>35</th>\n      <td>FVH4C 105.75 Comdty</td>\n      <td>105.75</td>\n      <td>1</td>\n      <td>1.04296875</td>\n      <td>1'02</td>\n      <td>4.52934735578292</td>\n      <td>24.510926722504855</td>\n      <td>1.0429697250475383</td>\n      <td>5.129531622758654</td>\n      <td>87.65225057101661</td>\n      <td>0.23552273233225107</td>\n      <td>-3.4750714825682074</td>\n      <td>3.3941605772143313</td>\n    </tr>\n    <tr>\n      <th>36</th>\n      <td>FVH4C 106.0 Comdty</td>\n      <td>106.0</td>\n      <td>1</td>\n      <td>0.82421875</td>\n      <td>0'52</td>\n      <td>4.4673348234637205</td>\n      <td>18.3096734905849</td>\n      <td>0.8242164764396978</td>\n      <td>4.943618174583284</td>\n      <td>81.55888612287393</td>\n      <td>0.3199185514703575</td>\n      <td>-4.410452086751906</td>\n      <td>4.443305633470501</td>\n    </tr>\n    <tr>\n      <th>37</th>\n      <td>FVH4C 106.25 Comdty</td>\n      <td>106.25</td>\n      <td>1</td>\n      <td>0.625</td>\n      <td>0'40</td>\n      <td>4.405493107751648</td>\n      <td>12.12550191937769</td>\n      <td>0.6249979658747072</td>\n      <td>4.820136417065373</td>\n      <td>72.95666134868442</td>\n      <td>0.4083217104988352</td>\n      <td>-5.371409820611095</td>\n      <td>5.5294717546496654</td>\n    </tr>\n    <tr>\n      <th>38</th>\n      <td>FVH4C 106.5 Comdty</td>\n      <td>106.5</td>\n      <td>1</td>\n      <td>0.453125</td>\n      <td>0'29</td>\n      <td>4.34382132623172</td>\n      <td>5.958323767384854</td>\n      <td>0.45311471900074707</td>\n      <td>4.761783985964655</td>\n      <td>61.99647773775164</td>\n      <td>0.47612965512137423</td>\n      <td>-6.1263884969585884</td>\n      <td>6.369667525781392</td>\n    </tr>\n    <tr>\n      <th>39</th>\n      <td>FVH4C 106.75 Comdty</td>\n      <td>106.75</td>\n      <td>1</td>\n      <td>0.3125</td>\n      <td>0'20</td>\n      <td>4.28231860315645</td>\n      <td>-0.19194854014212837</td>\n      <td>0.31252440529224723</td>\n      <td>4.737871440419126</td>\n      <td>49.69084426697476</td>\n      <td>0.5016942431511702</td>\n      <td>-6.399161322565563</td>\n      <td>6.677966439699228</td>\n    </tr>\n    <tr>\n      <th>40</th>\n      <td>FVH4C 107.0 Comdty</td>\n      <td>107.0</td>\n      <td>1</td>\n      <td>0.203125</td>\n      <td>0'13</td>\n      <td>4.220984069379665</td>\n      <td>-6.325401917820628</td>\n      <td>0.203104928515302</td>\n      <td>4.715054494551853</td>\n      <td>37.3191369449094</td>\n      <td>0.4786434356461639</td>\n      <td>-6.051379975165444</td>\n      <td>6.340458524616851</td>\n    </tr>\n    <tr>\n      <th>41</th>\n      <td>FVH4C 107.25 Comdty</td>\n      <td>107.25</td>\n      <td>1</td>\n      <td>0.12890625</td>\n      <td>0'08</td>\n      <td>4.159816862291071</td>\n      <td>-12.442122626680074</td>\n      <td>0.12890126461045687</td>\n      <td>4.790714680056764</td>\n      <td>26.493677125892606</td>\n      <td>0.4075916983936084</td>\n      <td>-5.322430506070423</td>\n      <td>5.485894845442808</td>\n    </tr>\n    <tr>\n      <th>42</th>\n      <td>FVH4C 107.5 Comdty</td>\n      <td>107.5</td>\n      <td>1</td>\n      <td>0.08203125</td>\n      <td>0'05</td>\n      <td>4.098816125751751</td>\n      <td>-18.54219628061209</td>\n      <td>0.08202717668664564</td>\n      <td>4.951257084970243</td>\n      <td>18.222329244641873</td>\n      <td>0.3184666868770348</td>\n      <td>-4.443361552807501</td>\n      <td>4.429975547407295</td>\n    </tr>\n    <tr>\n      <th>43</th>\n      <td>FVH4C 107.75 Comdty</td>\n      <td>107.75</td>\n      <td>1</td>\n      <td>0.05078125</td>\n      <td>0'03</td>\n      <td>4.0379810100302755</td>\n      <td>-24.625707852759593</td>\n      <td>0.0507823096285868</td>\n      <td>5.099391485450877</td>\n      <td>12.092972998818933</td>\n      <td>0.23522346083953918</td>\n      <td>-3.481956526375972</td>\n      <td>3.369929631116258</td>\n    </tr>\n    <tr>\n      <th>44</th>\n      <td>FVH4C 108.0 Comdty</td>\n      <td>108.0</td>\n      <td>1</td>\n      <td>0.03515625</td>\n      <td>0'02</td>\n      <td>3.9773106717397555</td>\n      <td>-30.692741681811597</td>\n      <td>0.03515849465635305</td>\n      <td>5.4169581008726135</td>\n      <td>8.477030776774264</td>\n      <td>0.17097964810038227</td>\n      <td>-2.856365717656562</td>\n      <td>2.602086548882275</td>\n    </tr>\n    <tr>\n      <th>45</th>\n      <td>FVH4C 108.25 Comdty</td>\n      <td>108.25</td>\n      <td>1</td>\n      <td>0.02734375</td>\n      <td>0'01</td>\n      <td>3.9168042737755218</td>\n      <td>-36.74338147823497</td>\n      <td>0.02734003828352657</td>\n      <td>5.85811768785882</td>\n      <td>6.413920447936851</td>\n      <td>0.1277632584740325</td>\n      <td>-2.49638680462509</td>\n      <td>2.1027416359179023</td>\n    </tr>\n    <tr>\n      <th>46</th>\n      <td>FVH4C 108.5 Comdty</td>\n      <td>108.5</td>\n      <td>1</td>\n      <td>0.01953125</td>\n      <td>0'01</td>\n      <td>3.8564609852537046</td>\n      <td>-42.77771033041668</td>\n      <td>0.019523422958370732</td>\n      <td>6.158599545127723</td>\n      <td>4.601525171211293</td>\n      <td>0.09346186958065217</td>\n      <td>-2.018448145304348</td>\n      <td>1.6171051946067712</td>\n    </tr>\n    <tr>\n      <th>47</th>\n      <td>FVH4C 108.75 Comdty</td>\n      <td>108.75</td>\n      <td>1</td>\n      <td>0.0078125</td>\n      <td>0'00</td>\n      <td>3.796279981450411</td>\n      <td>-48.79581071074605</td>\n      <td>0.007809224967721135</td>\n      <td>5.8545509787335455</td>\n      <td>2.153623537059464</td>\n      <td>0.052520680875824684</td>\n      <td>-1.0251421649722552</td>\n      <td>0.8638648076750362</td>\n    </tr>\n    <tr>\n      <th>48</th>\n      <td>FVH4C 109.0 Comdty</td>\n      <td>109.0</td>\n      <td>1</td>\n      <td>0.0078125</td>\n      <td>0'00</td>\n      <td>3.7362604437417715</td>\n      <td>-54.79776448161</td>\n      <td>0.007799699837980093</td>\n      <td>6.458109833178738</td>\n      <td>1.9722674216455474</td>\n      <td>0.04419361532952771</td>\n      <td>-1.0496421397454292</td>\n      <td>0.8018383068968503</td>\n    </tr>\n    <tr>\n      <th>49</th>\n      <td>FVH4C 109.25 Comdty</td>\n      <td>109.25</td>\n      <td>1</td>\n      <td>0.0078125</td>\n      <td>0'00</td>\n      <td>3.676401559544584</td>\n      <td>-60.783652901328765</td>\n      <td>0.007801555249574063</td>\n      <td>7.053969374972442</td>\n      <td>1.8241142535380568</td>\n      <td>0.037860700516516146</td>\n      <td>-1.0728285447385406</td>\n      <td>0.7503157405341596</td>\n    </tr>\n    <tr>\n      <th>50</th>\n      <td>FVH4C 109.5 Comdty</td>\n      <td>109.5</td>\n      <td>1</td>\n      <td>0.0078125</td>\n      <td>0'00</td>\n      <td>3.6167025223159985</td>\n      <td>-66.7535566241873</td>\n      <td>0.007812732478030361</td>\n      <td>7.643117648991195</td>\n      <td>1.7007785085316947</td>\n      <td>0.03291572811761862</td>\n      <td>-1.0950205085201092</td>\n      <td>0.7067988812513548</td>\n    </tr>\n    <tr>\n      <th>51</th>\n      <td>FVH4C 109.75 Comdty</td>\n      <td>109.75</td>\n      <td>1</td>\n      <td>0.0078125</td>\n      <td>0'00</td>\n      <td>3.557162531204522</td>\n      <td>-72.70755573533494</td>\n      <td>0.007805168403322096</td>\n      <td>8.222368343937033</td>\n      <td>1.5923436805644156</td>\n      <td>0.028919071439007474</td>\n      <td>-1.113419370554467</td>\n      <td>0.6680409958792772</td>\n    </tr>\n  </tbody>\n</table>\n</div>"
     },
     "execution_count": 15,
     "metadata": {},
     "output_type": "execute_result"
    }
   ],
   "source": [
    "v3.tab"
   ],
   "metadata": {
    "collapsed": false,
    "ExecuteTime": {
     "end_time": "2024-02-14T18:51:56.922464300Z",
     "start_time": "2024-02-14T18:51:56.546786900Z"
    }
   }
  },
  {
   "cell_type": "code",
   "execution_count": 7,
   "outputs": [],
   "source": [
    "vol_surf = [v2]\n",
    "\n",
    "df_call = [vol_surf[i].tab[vol_surf[i].tab['opt_type'] == 1] for i in np.arange(len(vol_surf))]\n",
    "df_put = [vol_surf[i].tab[vol_surf[i].tab['opt_type'] == -1] for i in np.arange(len(vol_surf))]"
   ],
   "metadata": {
    "collapsed": false,
    "ExecuteTime": {
     "end_time": "2024-02-14T18:48:27.275476500Z",
     "start_time": "2024-02-14T18:48:27.019940900Z"
    }
   }
  },
  {
   "cell_type": "code",
   "execution_count": 8,
   "outputs": [],
   "source": [
    "\n",
    "s1 = figure(width=550, height=400,tools=[\"pan\", \"crosshair\", \"wheel_zoom\", \"box_zoom\", \"save\", \"reset\", \"help\"], toolbar_location='right')\n",
    "s1.add_tools(HoverTool(tooltips=[('x', '$x'), ('y', '$y')]))\n",
    "s1.xgrid.visible = False\n",
    "s1.ygrid.visible = False\n",
    "for i in np.arange(len(df_call)):\n",
    "    s1.line(x=df_call[i]['delta'] , y=df_call[i]['iv'] , width=0.7, color='royalblue', legend_label=\"opt_test\")\n",
    "    s1.scatter(x=df_call[i]['delta'] , y=df_call[i]['iv'] , width=0.7, color='navy', size=10, marker=\"dot\")\n",
    "    live_line = Span(location=50, dimension='height', line_color='goldenrod', line_width=1)\n",
    "    s1.add_layout(live_line)\n",
    "s1.legend.location = 'bottom_right'\n",
    "s1.legend.label_text_font = \"calibri\"\n",
    "s1.legend.label_text_font_size = \"9pt\"\n",
    "s1.legend.spacing = 1\n",
    "s1.legend.click_policy = \"mute\"\n",
    "s1.legend.background_fill_alpha = 0.0\n",
    "s1.yaxis.axis_label = 'imp. vol.'\n",
    "s1.xaxis.axis_label = 'delta'\n",
    "\n",
    "s2 = figure(width=550, height=400,tools=[\"pan\", \"crosshair\", \"wheel_zoom\", \"box_zoom\", \"save\", \"reset\", \"help\"], toolbar_location='right')\n",
    "s2.add_tools(HoverTool(tooltips=[('x', '$x'), ('y', '$y')]))\n",
    "s2.xgrid.visible = False\n",
    "s2.ygrid.visible = False\n",
    "for i in np.arange(len(df_call)):\n",
    "    s2.line(x=df_call[i]['strikes'] , y=df_call[i]['iv'] , width=0.7, color='royalblue', legend_label=\"opt_test\")\n",
    "    s2.scatter(x=df_call[i]['strikes'] , y=df_call[i]['iv'] , width=0.7, color='navy', size=10, marker=\"dot\")\n",
    "    live_line = Span(location=110, dimension='height', line_color='goldenrod', line_width=1)\n",
    "    s2.add_layout(live_line)\n",
    "s2.legend.location = 'bottom_right'\n",
    "s2.legend.label_text_font = \"calibri\"\n",
    "s2.legend.label_text_font_size = \"9pt\"\n",
    "s2.legend.spacing = 1\n",
    "s2.legend.click_policy = \"mute\"\n",
    "s2.legend.background_fill_alpha = 0.0\n",
    "s2.yaxis.axis_label = 'imp. vol.'\n",
    "s2.xaxis.axis_label = 'K'\n",
    "\n",
    "s3 = figure(width=550, height=400,tools=[\"pan\", \"crosshair\", \"wheel_zoom\", \"box_zoom\", \"save\", \"reset\", \"help\"], toolbar_location='right')\n",
    "s3.add_tools(HoverTool(tooltips=[('x', '$x'), ('y', '$y')]))\n",
    "s3.xgrid.visible = False\n",
    "s3.ygrid.visible = False\n",
    "for i in np.arange(len(df_put)):\n",
    "    s3.line(x=df_put[i]['delta'] , y=df_put[i]['iv'] , width=0.7, color='palevioletred', legend_label=\"opt_test\")\n",
    "    s3.scatter(x=df_put[i]['delta'] , y=df_put[i]['iv'] , width=0.7, color='red', size=10, marker=\"dot\")\n",
    "    live_line = Span(location=-50, dimension='height', line_color='goldenrod', line_width=1)\n",
    "    s3.add_layout(live_line)\n",
    "s3.legend.location = 'bottom_right'\n",
    "s3.legend.label_text_font = \"calibri\"\n",
    "s3.legend.label_text_font_size = \"9pt\"\n",
    "s3.legend.spacing = 1\n",
    "s3.legend.click_policy = \"mute\"\n",
    "s3.legend.background_fill_alpha = 0.0\n",
    "s3.yaxis.axis_label = 'imp. vol.'\n",
    "s3.xaxis.axis_label = 'delta'\n",
    "\n",
    "s4 = figure(width=550, height=400,tools=[\"pan\", \"crosshair\", \"wheel_zoom\", \"box_zoom\", \"save\", \"reset\", \"help\"], toolbar_location='right')\n",
    "s4.add_tools(HoverTool(tooltips=[('x', '$x'), ('y', '$y')]))\n",
    "s4.xgrid.visible = False\n",
    "s4.ygrid.visible = False\n",
    "for i in np.arange(len(df_put)):\n",
    "    s4.line(x=df_put[i]['strikes'] , y=df_put[i]['iv'] , width=0.7, color='palevioletred', legend_label=\"opt_test\")\n",
    "    s4.scatter(x=df_put[i]['strikes'] , y=df_put[i]['iv'] , width=0.7, color='red', size=10, marker=\"dot\")\n",
    "    live_line = Span(location=110, dimension='height', line_color='goldenrod', line_width=1)\n",
    "    s4.add_layout(live_line)\n",
    "s4.legend.location = 'bottom_right'\n",
    "s4.legend.label_text_font = \"calibri\"\n",
    "s4.legend.label_text_font_size = \"9pt\"\n",
    "s4.legend.spacing = 1\n",
    "s4.legend.click_policy = \"mute\"\n",
    "s4.legend.background_fill_alpha = 0.0\n",
    "s4.yaxis.axis_label = 'imp. vol.'\n",
    "s4.xaxis.axis_label = 'K'\n",
    "\n",
    "\n",
    "tab1 = TabPanel(child=s2, title=\"call strikes\")\n",
    "tab2 = TabPanel(child=s1, title=\"call delta\")\n",
    "tab3 = TabPanel(child=s3, title=\"put delta\")\n",
    "tab4 = TabPanel(child=s4, title=\"put strikes\")\n",
    "\n",
    "tabs = Tabs(tabs=[tab1, tab2, tab3, tab4])\n",
    "\n",
    "show(tabs)\n",
    "\n"
   ],
   "metadata": {
    "collapsed": false,
    "ExecuteTime": {
     "end_time": "2024-02-14T18:48:37.990172400Z",
     "start_time": "2024-02-14T18:48:29.191341Z"
    }
   }
  },
  {
   "cell_type": "code",
   "execution_count": 9,
   "outputs": [
    {
     "data": {
      "text/plain": "Empty DataFrame\nColumns: [ticker, strikes, opt_type, px, px_64, Yld, ATM_K, bs_px, iv, delta, gamma, theta, vega]\nIndex: []",
      "text/html": "<div>\n<style scoped>\n    .dataframe tbody tr th:only-of-type {\n        vertical-align: middle;\n    }\n\n    .dataframe tbody tr th {\n        vertical-align: top;\n    }\n\n    .dataframe thead th {\n        text-align: right;\n    }\n</style>\n<table border=\"1\" class=\"dataframe\">\n  <thead>\n    <tr style=\"text-align: right;\">\n      <th></th>\n      <th>ticker</th>\n      <th>strikes</th>\n      <th>opt_type</th>\n      <th>px</th>\n      <th>px_64</th>\n      <th>Yld</th>\n      <th>ATM_K</th>\n      <th>bs_px</th>\n      <th>iv</th>\n      <th>delta</th>\n      <th>gamma</th>\n      <th>theta</th>\n      <th>vega</th>\n    </tr>\n  </thead>\n  <tbody>\n  </tbody>\n</table>\n</div>"
     },
     "execution_count": 9,
     "metadata": {},
     "output_type": "execute_result"
    }
   ],
   "source": [
    "df_call[0]"
   ],
   "metadata": {
    "collapsed": false,
    "ExecuteTime": {
     "end_time": "2024-02-14T18:49:14.795612Z",
     "start_time": "2024-02-14T18:49:14.563504200Z"
    }
   }
  },
  {
   "cell_type": "code",
   "execution_count": null,
   "outputs": [],
   "source": [
    "def plt_opt_strat(st, add_delta = [0] , payoff_increm_calc = 100, strat_pv_increm = 0.25):\n",
    "    mpl.rcParams.update(mpl.rcParamsDefault)\n",
    "#    st = bond_fut_opt_strat(['RXH2'],['P','P'],[170.5,169.5],[1,-1], s_range = [-1,1], increm = 0.5, chain_len = [6,6])\n",
    "#    add_delta = [0]\n",
    "\n",
    "    spot_idx = st.strat.loc[st.strat['ATM_K'] == 0].index[0]\n",
    "    if st.currency == 'USD':\n",
    "        px_label = px_dec_to_opt_frac(st.strat_px)\n",
    "    else:\n",
    "        px_label = str(np.round(st.strat_px,3))\n",
    "#    plt.rcParams['axes.labelpad'] = 4.00\n",
    "    fig = plt.figure(figsize=[8,6])\n",
    "    #fig.subplots_adjust(top=0.8)\n",
    "    ax1 = fig.add_subplot(211)\n",
    "    ax1.set_ylabel('strat_px')\n",
    "    ax1.set_title(st.strat_name+'       px:'+px_label+'       delta:'+str(np.round(st.strat['strat_delta'][spot_idx],1)))\n",
    "\n",
    "    x_spot = st.strat['fut_px'][spot_idx]\n",
    "    #### payoff at expiry\n",
    "    x1 = np.linspace(min(st.strat['fut_px']),max(st.strat['fut_px']), num = payoff_increm_calc)\n",
    "    if len(add_delta) > 1:\n",
    "        d_payoff1 = fut_payoff(x1, [st.fut], add_delta)\n",
    "        y1 = opt_payoff(x1, st.opt_dets, st.strat_px) + d_payoff1\n",
    "    else:\n",
    "        y1 = opt_payoff(x1, st.opt_dets, st.strat_px)\n",
    "\n",
    "    #### strategy px\n",
    "    x2 = st.strat['fut_px']\n",
    "    y2 = st.strat['strat_px']\n",
    "\n",
    "    sc1 = ax1.plot(x1, y1, lw=0.5, color = 'k')\n",
    "    sc2 = ax1.plot(x2, y2, marker = 'x', markersize = 5, lw=0.5)\n",
    "    sc_spot = ax1.axvline(x_spot, lw=0.5, color = 'y')\n",
    "    sc_be = ax1.axhline(0, lw=0.5, color = 'k')\n",
    "\n",
    "    ax1.tick_params(axis='both', which='major', labelsize=9)\n",
    "    new_labels = [str(st.strat['fut_px'][i])+'\\n\\n'+str(np.round(st.strat['ATM_K'][i],1))+'\\n\\n'+str(np.round(st.strat['strat_delta'][i],1)) for i in np.arange(len(st.strat))]\n",
    "    new_labels.pop(spot_idx )\n",
    "    ax1.set_xticks(x2[x2.index != spot_idx].tolist())\n",
    "    ax1.set_xticklabels(new_labels)\n",
    "\n",
    "    payoff_ticks = np.arange(round_nearest(min(min(y2),min(y1)),strat_pv_increm), round_nearest(max(max(y2),max(y1))+strat_pv_increm,strat_pv_increm), strat_pv_increm)\n",
    "    ax1.set_yticks(payoff_ticks)\n",
    "    if st.currency == 'USD':\n",
    "        ax1.set_yticklabels([px_dec_to_opt_frac(payoff_ticks[i]) for i in np.arange(len(payoff_ticks))])\n",
    "    else:\n",
    "        ax1.set_yticklabels([payoff_ticks[i] for i in np.arange(len(payoff_ticks))])\n",
    "\n",
    "\n",
    "    ### delta sub_plot\n",
    "    ax2 = fig.add_subplot(212)\n",
    "    ax2.set_ylabel('strat_delta')\n",
    "    plt.subplots_adjust(left=None, bottom=None, right=None, top=None, wspace=None, hspace=0.25)\n",
    "\n",
    "    x3 = st.strat['fut_px']\n",
    "    y3 = st.strat['strat_delta']/100\n",
    "\n",
    "    sc3 = ax2.plot(x3, y3, marker = 'x', markersize = 5, lw=0.5, color = 'g')\n",
    "    sc_spot_2 = ax2.axvline(x_spot, lw=0.5, color = 'y')\n",
    "\n",
    "    if len(add_delta) > 1:\n",
    "        sc3 = ax2.plot(x3, y3+add_delta[0] , marker = 'x', markersize = 5, lw=0.5, color = 'k', ls ='dashed')\n",
    "        st.strat['strat_delta_updt'] = y3+add_delta[0]\n",
    "\n",
    "    #plt.show()\n",
    "    plt.tight_layout()\n",
    "    return fig\n"
   ],
   "metadata": {
    "collapsed": false
   }
  },
  {
   "cell_type": "code",
   "execution_count": 121,
   "outputs": [
    {
     "name": "stdout",
     "output_type": "stream",
     "text": [
      "*** !!! listed_vol surf built !!! ***\n"
     ]
    }
   ],
   "source": [
    "v1 = build_vol_surf(['FVH4P 107'], chain_len=[15,15], b=0)\n"
   ],
   "metadata": {
    "collapsed": false,
    "ExecuteTime": {
     "end_time": "2024-02-14T14:02:14.143025500Z",
     "start_time": "2024-02-14T14:02:01.494468800Z"
    }
   }
  },
  {
   "cell_type": "code",
   "execution_count": 9,
   "outputs": [],
   "source": [
    "st = bond_fut_opt_strat(['RXJ4'],['C','C'],[135,136.5],[1,-1], s_range = [-1,1], increm = 0.5, built_surf=v2)"
   ],
   "metadata": {
    "collapsed": false,
    "ExecuteTime": {
     "end_time": "2024-02-15T09:54:37.164521500Z",
     "start_time": "2024-02-15T09:54:33.351287500Z"
    }
   }
  },
  {
   "cell_type": "code",
   "execution_count": 10,
   "outputs": [
    {
     "ename": "ValueError",
     "evalue": "could not convert string to float: '1-05.2'",
     "output_type": "error",
     "traceback": [
      "\u001B[1;31m---------------------------------------------------------------------------\u001B[0m",
      "\u001B[1;31mValueError\u001B[0m                                Traceback (most recent call last)",
      "Cell \u001B[1;32mIn[10], line 1\u001B[0m\n\u001B[1;32m----> 1\u001B[0m [\u001B[38;5;28mfloat\u001B[39m(st\u001B[38;5;241m.\u001B[39mstrat[\u001B[38;5;124m'\u001B[39m\u001B[38;5;124mstrat_px_fmt\u001B[39m\u001B[38;5;124m'\u001B[39m][i]) \u001B[38;5;28;01mfor\u001B[39;00m i \u001B[38;5;129;01min\u001B[39;00m np\u001B[38;5;241m.\u001B[39marange(\u001B[38;5;28mlen\u001B[39m(st\u001B[38;5;241m.\u001B[39mstrat))]\n",
      "Cell \u001B[1;32mIn[10], line 1\u001B[0m, in \u001B[0;36m<listcomp>\u001B[1;34m(.0)\u001B[0m\n\u001B[1;32m----> 1\u001B[0m [\u001B[38;5;28;43mfloat\u001B[39;49m\u001B[43m(\u001B[49m\u001B[43mst\u001B[49m\u001B[38;5;241;43m.\u001B[39;49m\u001B[43mstrat\u001B[49m\u001B[43m[\u001B[49m\u001B[38;5;124;43m'\u001B[39;49m\u001B[38;5;124;43mstrat_px_fmt\u001B[39;49m\u001B[38;5;124;43m'\u001B[39;49m\u001B[43m]\u001B[49m\u001B[43m[\u001B[49m\u001B[43mi\u001B[49m\u001B[43m]\u001B[49m\u001B[43m)\u001B[49m \u001B[38;5;28;01mfor\u001B[39;00m i \u001B[38;5;129;01min\u001B[39;00m np\u001B[38;5;241m.\u001B[39marange(\u001B[38;5;28mlen\u001B[39m(st\u001B[38;5;241m.\u001B[39mstrat))]\n",
      "\u001B[1;31mValueError\u001B[0m: could not convert string to float: '1-05.2'"
     ]
    }
   ],
   "source": [
    "[float(st.strat['strat_px_fmt'][i]) for i in np.arange(len(st.strat))]"
   ],
   "metadata": {
    "collapsed": false,
    "ExecuteTime": {
     "end_time": "2024-02-15T09:54:41.027718500Z",
     "start_time": "2024-02-15T09:54:40.931179Z"
    }
   }
  },
  {
   "cell_type": "code",
   "execution_count": 11,
   "outputs": [
    {
     "data": {
      "text/plain": "[['12.5'],\n ['16.0'],\n ['20.2'],\n ['20.5'],\n ['25.3'],\n ['30.8'],\n ['37.1'],\n ['43.8'],\n ['50.4'],\n ['57.0'],\n ['63.2'],\n ['1', '05.2']]"
     },
     "execution_count": 11,
     "metadata": {},
     "output_type": "execute_result"
    }
   ],
   "source": [
    "[st.strat['strat_px_fmt'][i].split('-') for i in np.arange(len(st.strat))]"
   ],
   "metadata": {
    "collapsed": false,
    "ExecuteTime": {
     "end_time": "2024-02-15T09:54:43.319545800Z",
     "start_time": "2024-02-15T09:54:43.174151800Z"
    }
   }
  },
  {
   "cell_type": "code",
   "execution_count": 133,
   "outputs": [
    {
     "data": {
      "text/plain": "0     -1-16.8\n1     -1-01.6\n2       -50.6\n3       -36.1\n4       -22.1\n5        -9.7\n6        -0.1\n7         6.5\n8        10.2\n9        11.4\n10       10.5\n11        8.9\n12        6.5\n13        6.4\n14        4.9\n15        2.7\n16        1.5\n17        0.2\nName: strat_px_fmt, dtype: object"
     },
     "execution_count": 133,
     "metadata": {},
     "output_type": "execute_result"
    }
   ],
   "source": [
    "st.strat['strat_px_fmt']"
   ],
   "metadata": {
    "collapsed": false,
    "ExecuteTime": {
     "end_time": "2024-02-14T14:14:13.920443400Z",
     "start_time": "2024-02-14T14:14:13.654747300Z"
    }
   }
  },
  {
   "cell_type": "code",
   "execution_count": 12,
   "outputs": [
    {
     "ename": "ValueError",
     "evalue": "could not convert string to float: '1-01.2'",
     "output_type": "error",
     "traceback": [
      "\u001B[1;31m---------------------------------------------------------------------------\u001B[0m",
      "\u001B[1;31mValueError\u001B[0m                                Traceback (most recent call last)",
      "Cell \u001B[1;32mIn[12], line 21\u001B[0m\n\u001B[0;32m     19\u001B[0m \u001B[38;5;28;01melse\u001B[39;00m:\n\u001B[0;32m     20\u001B[0m     y1 \u001B[38;5;241m=\u001B[39m opt_payoff(x1, st\u001B[38;5;241m.\u001B[39mopt_dets, st\u001B[38;5;241m.\u001B[39mstrat_px)\n\u001B[1;32m---> 21\u001B[0m     y1_fmt \u001B[38;5;241m=\u001B[39m [ \u001B[38;5;28mfloat\u001B[39m(px_dec_to_opt_frac(y1[i])) \u001B[38;5;28;01mfor\u001B[39;00m i \u001B[38;5;129;01min\u001B[39;00m np\u001B[38;5;241m.\u001B[39marange(\u001B[38;5;28mlen\u001B[39m(y1))]\n",
      "Cell \u001B[1;32mIn[12], line 21\u001B[0m, in \u001B[0;36m<listcomp>\u001B[1;34m(.0)\u001B[0m\n\u001B[0;32m     19\u001B[0m \u001B[38;5;28;01melse\u001B[39;00m:\n\u001B[0;32m     20\u001B[0m     y1 \u001B[38;5;241m=\u001B[39m opt_payoff(x1, st\u001B[38;5;241m.\u001B[39mopt_dets, st\u001B[38;5;241m.\u001B[39mstrat_px)\n\u001B[1;32m---> 21\u001B[0m     y1_fmt \u001B[38;5;241m=\u001B[39m [ \u001B[38;5;28;43mfloat\u001B[39;49m\u001B[43m(\u001B[49m\u001B[43mpx_dec_to_opt_frac\u001B[49m\u001B[43m(\u001B[49m\u001B[43my1\u001B[49m\u001B[43m[\u001B[49m\u001B[43mi\u001B[49m\u001B[43m]\u001B[49m\u001B[43m)\u001B[49m\u001B[43m)\u001B[49m \u001B[38;5;28;01mfor\u001B[39;00m i \u001B[38;5;129;01min\u001B[39;00m np\u001B[38;5;241m.\u001B[39marange(\u001B[38;5;28mlen\u001B[39m(y1))]\n",
      "\u001B[1;31mValueError\u001B[0m: could not convert string to float: '1-01.2'"
     ]
    }
   ],
   "source": [
    "add_delta = [0]\n",
    "payoff_increm_calc = 100    ### stick diagram increment\n",
    "strat_pv_increm = 0.25\n",
    "\n",
    "\n",
    "spot_idx = st.strat.loc[st.strat['ATM_K'] == 0].index[0]\n",
    "if st.currency == 'USD':\n",
    "    px_label = px_dec_to_opt_frac(st.strat_px)\n",
    "else:\n",
    "    px_label = str(np.round(st.strat_px,3))\n",
    "\n",
    "x_spot = st.strat['fut_px'][spot_idx]\n",
    "#### payoff at expiry\n",
    "x1 = np.linspace(min(st.strat['fut_px']),max(st.strat['fut_px']), num = payoff_increm_calc)\n",
    "if len(add_delta) > 1:\n",
    "    d_payoff1 = fut_payoff(x1, [st.fut], add_delta)\n",
    "    y1 = opt_payoff(x1, st.opt_dets, st.strat_px) + d_payoff1\n",
    "    y1_fmt = [ float(px_dec_to_opt_frac(y1[i])) for i in np.arange(len(y1))]\n",
    "else:\n",
    "    y1 = opt_payoff(x1, st.opt_dets, st.strat_px)\n",
    "    y1_fmt = [ float(px_dec_to_opt_frac(y1[i])) for i in np.arange(len(y1))]\n",
    "\n"
   ],
   "metadata": {
    "collapsed": false,
    "ExecuteTime": {
     "end_time": "2024-02-15T09:54:51.385249600Z",
     "start_time": "2024-02-15T09:54:51.195744400Z"
    }
   }
  },
  {
   "cell_type": "code",
   "execution_count": 119,
   "outputs": [],
   "source": [
    "s1 = figure(width=700, height=350,tools=[\"pan\", \"crosshair\", \"wheel_zoom\", \"box_zoom\", \"save\", \"reset\", \"help\"], toolbar_location='right')\n",
    "main_source = ColumnDataSource(data={'x2':st.strat['fut_px'], 'y2':st.strat['strat_px'], 'k_dist':st.strat['ATM_K'], 'y2_fmt': [float(st.strat['strat_px_fmt'][i]) for i in np.arange(len(st.strat))]} )\n",
    "s1.add_tools(HoverTool(tooltips=[('fut', '$x{0.00}'), ('px', '@y2{0.00}'), ('px_fmt', '$y{0.0}')]))\n",
    "s1.xgrid.visible = False\n",
    "s1.ygrid.visible = False\n",
    "if st.currency == 'USD':\n",
    "    s1.line(x=x1, y=y1_fmt , width=0.7, color='black', alpha=1.0, muted_alpha=0.1, legend_label=\"@expiry\")\n",
    "    s1.line(x='x2', y='y2_fmt' , width=0.7, color='navy', alpha=1.0, muted_alpha=0.1, legend_label=\"opt_px: \"+str(px_dec_to_opt_frac(st.strat_px)), source = main_source)\n",
    "    s1.yaxis.axis_label = 'strat_px (64th)'\n",
    "else:\n",
    "    s1.line(x=x1, y=y1 , width=0.7, color='black', alpha=1.0, muted_alpha=0.1, legend_label=\"@expiry\")\n",
    "    s1.line(x='x2', y='y2' , width=0.7, color='navy', alpha=1.0, muted_alpha=0.1, legend_label=\"opt_px: \"+str(st.strat_px), source = main_source)\n",
    "    s1.yaxis.axis_label = 'strat_px'\n",
    "live_line = Span(location=x_spot, dimension='height', line_color='goldenrod', line_width=1)\n",
    "zero_line = Span(location=0, dimension='width', line_color='darkseagreen', line_width=1)\n",
    "s1.add_layout(live_line)\n",
    "s1.add_layout(zero_line)\n",
    "s1_source = ColumnDataSource(data=dict(x= np.round(st.strat['fut_px'][::int(len(st.strat)/6)],1).tolist(), z= np.round(st.strat['ATM_K'][::int(len(st.strat)/6)],1).tolist()))\n",
    "labels_yld = LabelSet(x='x', y=5, y_units='screen', text='z', source=s1_source, text_font='calibri', text_color='firebrick', text_font_size='9px', text_align='center', x_offset=0)\n",
    "s1.add_layout(labels_yld)\n",
    "s1.xaxis.ticker = np.round(st.strat['fut_px'][::int(len(st.strat)/6)],2)\n",
    "s1.legend.location = 'top_left'\n",
    "s1.legend.label_text_font = \"calibri\"\n",
    "s1.legend.label_text_font_size = \"9pt\"\n",
    "s1.legend.spacing = 1\n",
    "s1.legend.click_policy = \"mute\"\n",
    "s1.legend.background_fill_alpha = 0.0\n",
    "\n",
    "s2_source = ColumnDataSource(data=dict(x= np.round(st.strat['fut_px'][::int(len(st.strat)/6)],1).tolist(), z= np.round(0.01*st.strat['strat_delta'][::int(len(st.strat)/6)],2).tolist()))\n",
    "s2 = figure(width=700, height=275,tools=[\"pan\", \"crosshair\", \"wheel_zoom\", \"box_zoom\", \"save\", \"reset\", \"help\"], toolbar_location='right')\n",
    "s2.add_tools(HoverTool(tooltips=[('x{0.00}', '$x'), ('y', '$y{0.00}')]))\n",
    "s2.xgrid.visible = False\n",
    "s2.ygrid.visible = False\n",
    "s2.line(x=st.strat['fut_px'] , y=st.strat['strat_delta']/100 , width=0.7, color='green', alpha=1.0, muted_alpha=0.1, legend_label=\"delta\")\n",
    "live_line = Span(location=x_spot, dimension='height', line_color='goldenrod', line_width=1)\n",
    "labels_delta = LabelSet(x='x', y=5, y_units='screen', text='z', source=s2_source, text_font='calibri', text_color='firebrick', text_font_size='9px', text_align='center', x_offset=0)\n",
    "s2.xaxis.ticker = np.round(st.strat['fut_px'][::int(len(st.strat)/6)],2)\n",
    "s2.add_layout(live_line)\n",
    "s2.add_layout(labels_delta)\n",
    "s2.legend.location = 'top_left'\n",
    "s2.legend.label_text_font = \"calibri\"\n",
    "s2.legend.label_text_font_size = \"9pt\"\n",
    "s2.legend.spacing = 1\n",
    "s2.legend.click_policy = \"mute\"\n",
    "s2.legend.background_fill_alpha = 0.0\n",
    "s2.yaxis.axis_label = 'strat_delta'\n",
    "\n",
    "grid = gridplot([[s1],[s2]])\n",
    "\n",
    "show(grid)\n",
    "\n"
   ],
   "metadata": {
    "collapsed": false,
    "ExecuteTime": {
     "end_time": "2024-02-14T10:00:58.577673700Z",
     "start_time": "2024-02-14T10:00:56.774788200Z"
    }
   }
  },
  {
   "cell_type": "code",
   "execution_count": 120,
   "outputs": [
    {
     "data": {
      "text/plain": "'TYH4 Comdty'"
     },
     "execution_count": 120,
     "metadata": {},
     "output_type": "execute_result"
    }
   ],
   "source": [
    "st.fut"
   ],
   "metadata": {
    "collapsed": false,
    "ExecuteTime": {
     "end_time": "2024-02-14T10:10:18.215299200Z",
     "start_time": "2024-02-14T10:10:17.778446300Z"
    }
   }
  },
  {
   "cell_type": "code",
   "execution_count": 116,
   "outputs": [
    {
     "data": {
      "text/plain": "0    0.025886545195285944\n1     0.06741572261384512\n2     0.10168093105603315\n3      0.1403577022358249\n4      0.1832162291957082\n5     0.19514433336346385\n6     0.22284995299706178\n7      0.2615440850619258\n8      0.2785514314045184\n9     0.26914799073914997\n10    0.21961467580622762\n11    0.14450287120867777\n12    0.04382004322900612\n13   -0.08827897515301752\n14    -0.2502951638508377\nName: strat_px, dtype: float64"
     },
     "execution_count": 116,
     "metadata": {},
     "output_type": "execute_result"
    }
   ],
   "source": [
    "st.strat['strat_px']"
   ],
   "metadata": {
    "collapsed": false,
    "ExecuteTime": {
     "end_time": "2024-02-14T09:50:00.729310Z",
     "start_time": "2024-02-14T09:50:00.662309400Z"
    }
   }
  },
  {
   "cell_type": "code",
   "execution_count": null,
   "outputs": [],
   "source": [
    "\n"
   ],
   "metadata": {
    "collapsed": false
   }
  }
 ],
 "metadata": {
  "kernelspec": {
   "display_name": "Python 3",
   "language": "python",
   "name": "python3"
  },
  "language_info": {
   "codemirror_mode": {
    "name": "ipython",
    "version": 2
   },
   "file_extension": ".py",
   "mimetype": "text/x-python",
   "name": "python",
   "nbconvert_exporter": "python",
   "pygments_lexer": "ipython2",
   "version": "2.7.6"
  }
 },
 "nbformat": 4,
 "nbformat_minor": 0
}
