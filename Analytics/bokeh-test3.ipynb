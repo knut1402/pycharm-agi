{
 "cells": [
  {
   "cell_type": "code",
   "execution_count": 1,
   "metadata": {
    "collapsed": true,
    "ExecuteTime": {
     "end_time": "2024-03-19T17:10:22.815653900Z",
     "start_time": "2024-03-19T17:09:44.018719500Z"
    }
   },
   "outputs": [],
   "source": [
    "import os\n",
    "from importlib import reload\n",
    "import warnings\n",
    "warnings.simplefilter(action='ignore', category=FutureWarning)\n",
    "import pandas as pd\n",
    "import numpy as np\n",
    "import math\n",
    "import datetime\n",
    "import pdblp\n",
    "import runpy\n",
    "import QuantLib as ql\n",
    "import matplotlib as mpl\n",
    "#import matplotlib\n",
    "mpl.get_backend()\n",
    "import matplotlib.pyplot as plt\n",
    "plt.interactive(False)\n",
    "import seaborn as sns\n",
    "from tabulate import tabulate\n",
    "from sklearn.preprocessing import minmax_scale\n",
    "from sklearn.mixture import GaussianMixture\n",
    "from scipy.stats import zscore\n",
    "import pickle\n",
    "import re\n",
    "import concurrent.futures\n",
    "import time\n",
    "from datetime import datetime, timedelta, time\n",
    "from scipy import stats\n",
    "pd.set_option('display.max_columns', 10000)\n",
    "pd.set_option('display.width', 10000)\n",
    "pd.options.display.float_format = '{:,}'.format\n",
    "pd.options.mode.chained_assignment = None\n",
    "\n",
    "## BBG API\n",
    "con = pdblp.BCon(debug=False, port=8194, timeout=50000)\n",
    "con.start()\n",
    "\n",
    "from Utilities import *\n",
    "from Conventions import FUT_CT, FUT_CT_Q, ccy, ccy_infl, hist\n",
    "from OIS_DC_BUILD import ois_dc_build, get_wirp, ois_from_nodes\n",
    "from SWAP_BUILD import swap_build, libor_from_nodes\n",
    "from SWAP_PRICER import Swap_Pricer, Swap_curve_fwd, quick_swap\n",
    "from SWAP_TABLE import swap_table, swap_table2, curve_hmap\n",
    "from INF_ZC_BUILD import infl_zc_swap_build, Infl_ZC_Pricer, inf_swap_table\n",
    "from BOND_CURVES import bond_curve_build\n",
    "from VOL_BUILD import build_vol_surf, build_vol_spline, bond_fut_opt_strat, get_sim_option_px, build_stir_vol_surf, stir_opt_strat\n",
    "from PLOT import plt_curve, plt_inf_curve, plt_opt_strat, rates_hm, curve_hm, plt_ois_curve, plot_opt_vol_surf, plt_stir_opt_strat, plotool, ecfc_plot\n",
    "\n",
    "# bokeh imports\n",
    "from bokeh.plotting import figure, show\n",
    "from bokeh.models import HoverTool, BoxZoomTool, ResetTool, Legend, DatetimeTickFormatter, SingleIntervalTicker, LinearAxis, FuncTickFormatter\n",
    "from bokeh.models import ColumnDataSource, TabPanel, Tabs, LabelSet, Span, Range1d, FactorRange, Range, Label, LinearColorMapper\n",
    "from bokeh.layouts import row, column, gridplot, layout\n",
    "from bokeh.palettes import Category10, brewer, Category20, Bright6, Blues8, Blues4, Cividis256\n",
    "from bokeh.transform import factor_cmap\n",
    "from bokeh.models.renderers import GlyphRenderer\n",
    "from itertools import accumulate\n",
    "from bokeh.colors import RGB\n",
    "from matplotlib import cm"
   ]
  },
  {
   "cell_type": "code",
   "execution_count": null,
   "outputs": [],
   "source": [],
   "metadata": {
    "collapsed": false
   }
  },
  {
   "cell_type": "code",
   "execution_count": 7,
   "outputs": [],
   "source": [
    "\n",
    "linkers = ['GB00BYY5F144', 'GB00B128DH60', 'GB00BZ1NTB69', 'GB00B3Y1JG82', 'GB0008932666', 'GB00BNNGP551', 'GB00B3D4VD98', 'GB00BMF9LJ15', 'GB00B46CGH68', 'GB0031790826', 'GB00BYZW3J87',\n",
    "           'GB00B1L6W962', 'GB00BLH38265', 'GB00B3LZBF68', 'GB00BGDYHF49', 'GB00B3MYD345', 'GB00B7RN0G65', 'GB00BMF9LH90', 'GB00BYMWG366', 'GB00B24FFM16', 'GB00BZ13DV40', 'GB00B421JZ66',\n",
    "           'GB00BNNGP882', 'GB00B73ZYW09', 'GB00B0CNHZ09', 'GB00BYVP4K94', 'GB00BP9DLZ64', 'GB00B4PTCY75', 'GB00BD9MZZ71', 'GB00BDX8CX86', 'GB00BM8Z2W66']\n",
    "\n",
    "comparators = ['GB00BL68HJ26', 'GB00BDRHNP05', 'GB00BMBL1G81', 'GB00BLPK7227', 'GB00B24FF097', 'GB0004893086', 'GB0004893086', 'GB0004893086', 'GB00B52WS153', 'GB0032452392', 'GB0032452392',\n",
    "               'GB00BZB26Y51', 'GB00BJQWYH73', 'GB00BJQWYH73', 'GB00BJQWYH73', 'GB00B1VWPJ53', 'GB00B84Z9V04', 'GB00BNNGP775', 'GB00BDCHBW80', 'GB00BDCHBW80', 'GB00BMBL1F74', 'GB00BMBL1F74',\n",
    "               'GB00BLH38158', 'GB00B6RNH572', 'GB00B06YGN05', 'GB00BD0XH204', 'GB00B54QLM75', 'GB00BMBL1D50', 'GB00BYYMZX75', 'GB00BFMCN652', 'GB00BLBDX619']\n",
    "\n",
    "\n",
    "\n",
    "linkers = [linkers[i] + ' Govt' for i in np.arange(len(linkers))]\n",
    "comparators = [comparators[i] + ' Govt' for i in np.arange(len(comparators))]\n",
    "\n",
    "today = ql.Date(datetime.datetime.now().day, datetime.datetime.now().month, datetime.datetime.now().year)\n",
    "start_dt = bbg_date_str(ql.UnitedKingdom().advance(today, ql.Period('-1Y')))\n",
    "latest = bbg_date_str(today)\n",
    "\n",
    "linker_feed = list(np.array(linkers)[[5,10,15]])\n",
    "feed = [linkers.index(linker_feed[i]) for i in np.arange(len(linker_feed))]\n",
    "comp_feed = list(np.array(comparators)[feed])\n",
    "\n",
    "\n",
    "df1 = con.bdh( linker_feed, ['YLD_YTM_MID', 'Z_SPRD_MID'], start_dt, latest)\n",
    "df2 = con.bdh( comp_feed, ['YLD_YTM_MID', 'Z_SPRD_MID'], start_dt, latest)\n",
    "\n",
    "ry = get_linker_metrics(df1, linker_feed, m='fly')\n",
    "nom = get_linker_metrics(df2, comp_feed, m='fly')\n",
    "\n",
    "comb = pd.DataFrame()\n",
    "comb['fly'] = nom['fly'] - ry['fly']\n",
    "comb['z_sprd'] = nom['flyz_sprd'] - ry['flyz_sprd']\n",
    "comb['z_score_1m'] = roll_zscore(comb['fly'], 20)\n",
    "comb['z_score_3m'] = roll_zscore(comb['fly'], 60)\n",
    "comb['z_score_6m'] = roll_zscore(comb['fly'], 180)\n",
    "\n",
    "comb['rel_z_z_score_1m'] = roll_zscore(comb['z_sprd'], 20)\n",
    "comb['rel_z_z_score_3m'] = roll_zscore(comb['z_sprd'], 60)\n",
    "comb['rel_z_z_score_6m'] = roll_zscore(comb['z_sprd'], 180)\n",
    "\n",
    "\n"
   ],
   "metadata": {
    "collapsed": false,
    "ExecuteTime": {
     "end_time": "2024-03-18T14:46:24.290134200Z",
     "start_time": "2024-03-18T14:46:22.491814Z"
    }
   }
  },
  {
   "cell_type": "code",
   "execution_count": 8,
   "outputs": [
    {
     "data": {
      "text/plain": "                    fly             z_sprd         z_score_1m         z_score_3m           z_score_6m   rel_z_z_score_1m     rel_z_z_score_3m    rel_z_z_score_6m\n0    -1.200000000000001  4.651000000000001                NaN                NaN                  NaN                NaN                  NaN                 NaN\n1   -3.7000000000000366 2.4239999999999995                NaN                NaN                  NaN                NaN                  NaN                 NaN\n2    -5.600000000000049 1.4179999999999993                NaN                NaN                  NaN                NaN                  NaN                 NaN\n3    -5.499999999999994              1.258                NaN                NaN                  NaN                NaN                  NaN                 NaN\n4   -1.5999999999999792  4.679999999999999                NaN                NaN                  NaN                NaN                  NaN                 NaN\n..                  ...                ...                ...                ...                  ...                ...                  ...                 ...\n772 -13.700000000000001  2.999999999999993 0.5798730004531703 0.7749378792049656  -0.7013598248257789 0.5552783721885529  0.12601254783929827 -0.2890243623219565\n773 -14.100000000000023 2.4199999999999875 0.4572271739278077 0.5502446510187725  -0.7737879857636367 0.3406659965031252 -0.14979881680542775 -0.4849392648407529\n774 -11.999999999999966  7.049999999999997  2.098249213313573 1.6763700548830687   -0.335777030892035  3.855092443356965     1.96279922866612  1.0027530031186065\n775  -11.89999999999991 6.1980000000000075 1.8784455273512155 1.6605024171062135  -0.3062929634546851  2.358701659650999   1.4907726817599627  0.7167182569203951\n776 -12.499999999999979                NaN 1.2651707616359607 1.2826870044874643 -0.42173322931186813                NaN                  NaN                 NaN\n\n[777 rows x 8 columns]",
      "text/html": "<div>\n<style scoped>\n    .dataframe tbody tr th:only-of-type {\n        vertical-align: middle;\n    }\n\n    .dataframe tbody tr th {\n        vertical-align: top;\n    }\n\n    .dataframe thead th {\n        text-align: right;\n    }\n</style>\n<table border=\"1\" class=\"dataframe\">\n  <thead>\n    <tr style=\"text-align: right;\">\n      <th></th>\n      <th>fly</th>\n      <th>z_sprd</th>\n      <th>z_score_1m</th>\n      <th>z_score_3m</th>\n      <th>z_score_6m</th>\n      <th>rel_z_z_score_1m</th>\n      <th>rel_z_z_score_3m</th>\n      <th>rel_z_z_score_6m</th>\n    </tr>\n  </thead>\n  <tbody>\n    <tr>\n      <th>0</th>\n      <td>-1.200000000000001</td>\n      <td>4.651000000000001</td>\n      <td>NaN</td>\n      <td>NaN</td>\n      <td>NaN</td>\n      <td>NaN</td>\n      <td>NaN</td>\n      <td>NaN</td>\n    </tr>\n    <tr>\n      <th>1</th>\n      <td>-3.7000000000000366</td>\n      <td>2.4239999999999995</td>\n      <td>NaN</td>\n      <td>NaN</td>\n      <td>NaN</td>\n      <td>NaN</td>\n      <td>NaN</td>\n      <td>NaN</td>\n    </tr>\n    <tr>\n      <th>2</th>\n      <td>-5.600000000000049</td>\n      <td>1.4179999999999993</td>\n      <td>NaN</td>\n      <td>NaN</td>\n      <td>NaN</td>\n      <td>NaN</td>\n      <td>NaN</td>\n      <td>NaN</td>\n    </tr>\n    <tr>\n      <th>3</th>\n      <td>-5.499999999999994</td>\n      <td>1.258</td>\n      <td>NaN</td>\n      <td>NaN</td>\n      <td>NaN</td>\n      <td>NaN</td>\n      <td>NaN</td>\n      <td>NaN</td>\n    </tr>\n    <tr>\n      <th>4</th>\n      <td>-1.5999999999999792</td>\n      <td>4.679999999999999</td>\n      <td>NaN</td>\n      <td>NaN</td>\n      <td>NaN</td>\n      <td>NaN</td>\n      <td>NaN</td>\n      <td>NaN</td>\n    </tr>\n    <tr>\n      <th>...</th>\n      <td>...</td>\n      <td>...</td>\n      <td>...</td>\n      <td>...</td>\n      <td>...</td>\n      <td>...</td>\n      <td>...</td>\n      <td>...</td>\n    </tr>\n    <tr>\n      <th>772</th>\n      <td>-13.700000000000001</td>\n      <td>2.999999999999993</td>\n      <td>0.5798730004531703</td>\n      <td>0.7749378792049656</td>\n      <td>-0.7013598248257789</td>\n      <td>0.5552783721885529</td>\n      <td>0.12601254783929827</td>\n      <td>-0.2890243623219565</td>\n    </tr>\n    <tr>\n      <th>773</th>\n      <td>-14.100000000000023</td>\n      <td>2.4199999999999875</td>\n      <td>0.4572271739278077</td>\n      <td>0.5502446510187725</td>\n      <td>-0.7737879857636367</td>\n      <td>0.3406659965031252</td>\n      <td>-0.14979881680542775</td>\n      <td>-0.4849392648407529</td>\n    </tr>\n    <tr>\n      <th>774</th>\n      <td>-11.999999999999966</td>\n      <td>7.049999999999997</td>\n      <td>2.098249213313573</td>\n      <td>1.6763700548830687</td>\n      <td>-0.335777030892035</td>\n      <td>3.855092443356965</td>\n      <td>1.96279922866612</td>\n      <td>1.0027530031186065</td>\n    </tr>\n    <tr>\n      <th>775</th>\n      <td>-11.89999999999991</td>\n      <td>6.1980000000000075</td>\n      <td>1.8784455273512155</td>\n      <td>1.6605024171062135</td>\n      <td>-0.3062929634546851</td>\n      <td>2.358701659650999</td>\n      <td>1.4907726817599627</td>\n      <td>0.7167182569203951</td>\n    </tr>\n    <tr>\n      <th>776</th>\n      <td>-12.499999999999979</td>\n      <td>NaN</td>\n      <td>1.2651707616359607</td>\n      <td>1.2826870044874643</td>\n      <td>-0.42173322931186813</td>\n      <td>NaN</td>\n      <td>NaN</td>\n      <td>NaN</td>\n    </tr>\n  </tbody>\n</table>\n<p>777 rows × 8 columns</p>\n</div>"
     },
     "execution_count": 8,
     "metadata": {},
     "output_type": "execute_result"
    }
   ],
   "source": [
    "comb"
   ],
   "metadata": {
    "collapsed": false,
    "ExecuteTime": {
     "end_time": "2024-03-18T13:02:31.555418300Z",
     "start_time": "2024-03-18T13:02:31.526257600Z"
    }
   }
  },
  {
   "cell_type": "code",
   "execution_count": 13,
   "outputs": [],
   "source": [
    "s_plot = []\n",
    "#s1_source = ColumnDataSource(data=dict(x=fix_months, y=fixings, z=fixings_chg, b=barcap_f ))\n",
    "\n",
    "s1 = figure(title = 'Yield', width=550, height=300, tools=[\"pan\", \"tap\", \"wheel_zoom\", \"box_zoom\", \"save\", \"reset\", \"help\"], toolbar_location='right')\n",
    "s1.xaxis.formatter = DatetimeTickFormatter(days=\"%d-%b-%y\", months=\"%d-%b-%y\")\n",
    "s1.add_tools(HoverTool(tooltips=[('date', '$x{%d.%b.%y}'), ('y', '$y{0.0}')], formatters={'$x': 'datetime'}))\n",
    "s1.xgrid.visible = False\n",
    "s1.ygrid.visible = False\n",
    "s1.line(x= ry['date'], y=ry['fly'], line_width=0.9, color='lightsteelblue', muted_alpha=0.1, legend_label=\"RY Fly\")\n",
    "s1.line(x= nom['date'], y=nom['fly'], line_width=0.9, color='sandybrown', muted_alpha=0.1, legend_label=\"Nom Fly\")\n",
    "s1.xaxis.visible = False\n",
    "s1.legend.location = 'top_left'\n",
    "s1.legend.label_text_font = \"calibri\"\n",
    "s1.legend.label_text_font_size = \"9pt\"\n",
    "s1.legend.spacing = 1\n",
    "s1.legend.click_policy = \"mute\"\n",
    "s1.legend.background_fill_alpha = 0.0\n",
    "\n",
    "\n",
    "s2 = figure(title = 'Spread', width=550, height=300, tools=[\"pan\", \"tap\", \"wheel_zoom\", \"box_zoom\", \"save\", \"reset\", \"help\"], toolbar_location='right')\n",
    "s2.xaxis.formatter = DatetimeTickFormatter(days=\"%d-%b-%y\", months=\"%d-%b-%y\")\n",
    "s2.add_tools(HoverTool(tooltips=[('date', '$x{%d.%b.%y}'), ('y', '$y{0.0}')], formatters={'$x': 'datetime'}))\n",
    "s2.xgrid.visible = False\n",
    "s2.ygrid.visible = False\n",
    "s2.line(x=ry['date'], y=comb['fly'], line_width=0.7, color='firebrick', alpha=0.8)\n",
    "s2.xaxis.major_label_orientation = math.pi / 2\n",
    "\n",
    "\n",
    "s3 = figure(title = 'Z-Scores Relative', width=550, height=200, tools=[\"pan\", \"tap\", \"wheel_zoom\", \"box_zoom\", \"save\", \"reset\", \"help\"], toolbar_location='right')\n",
    "s3.xaxis.formatter = DatetimeTickFormatter(days=\"%d-%b-%y\", months=\"%d-%b-%y\")\n",
    "s3.add_tools(HoverTool(tooltips=[('date', '$x{%d.%b.%y}'), ('y', '$y{0.0}')], formatters={'$x': 'datetime'}))\n",
    "s3.xgrid.visible = False\n",
    "s3.ygrid.visible = False\n",
    "s3.line(x=ry['date'], y=comb['z_score_3m'], line_width=0.6, color='indigo', alpha=0.8, legend_label=\"z_score: 3m\")\n",
    "s3.line(x=ry['date'], y=comb['z_score_6m'], line_width=0.6, color='green', alpha=0.8, legend_label=\"z_score: 6m\")\n",
    "zero_line = Span(location=0, dimension='width', line_color='darkslategray', line_width=1)\n",
    "s3.renderers.extend([zero_line])\n",
    "s3.xaxis.visible = False\n",
    "s3.legend.location = 'top_left'\n",
    "s3.legend.label_text_font = \"calibri\"\n",
    "s3.legend.label_text_font_size = \"9pt\"\n",
    "s3.legend.spacing = 1\n",
    "s3.legend.click_policy = \"mute\"\n",
    "s3.legend.background_fill_alpha = 0.0\n",
    "\n",
    "\n",
    "s4 = figure(title = 'Z-Spread', width=550, height=300, tools=[\"pan\", \"tap\", \"wheel_zoom\", \"box_zoom\", \"save\", \"reset\", \"help\"], toolbar_location='right')\n",
    "s4.xaxis.formatter = DatetimeTickFormatter(days=\"%d-%b-%y\", months=\"%d-%b-%y\")\n",
    "s4.add_tools(HoverTool(tooltips=[('date', '$x{%d.%b.%y}'), ('y', '$y{0.0}')], formatters={'$x': 'datetime'}))\n",
    "s4.xgrid.visible = False\n",
    "s4.ygrid.visible = False\n",
    "s4.line(x= ry['date'], y=ry['flyz_sprd'], line_width=0.9, color='lightsteelblue', legend_label=\"UKTi Z-Sprd Fly\")\n",
    "s4.line(x= nom['date'], y=nom['flyz_sprd'], line_width=0.8, color='sandybrown', legend_label=\"UKT Z-Sprd Fly\")\n",
    "s4.xaxis.visible = False\n",
    "s4.legend.location = 'top_left'\n",
    "s4.legend.label_text_font = \"calibri\"\n",
    "s4.legend.label_text_font_size = \"9pt\"\n",
    "s4.legend.spacing = 1\n",
    "s4.legend.click_policy = \"mute\"\n",
    "s4.legend.background_fill_alpha = 0.0\n",
    "\n",
    "\n",
    "s5 = figure(title = 'Relative Z-Spread', width=550, height=300, tools=[\"pan\", \"tap\", \"wheel_zoom\", \"box_zoom\", \"save\", \"reset\", \"help\"], toolbar_location='right')\n",
    "s5.xaxis.formatter = DatetimeTickFormatter(days=\"%d-%b-%y\", months=\"%d-%b-%y\")\n",
    "s5.add_tools(HoverTool(tooltips=[('date', '$x{%d.%b.%y}'), ('y', '$y{0.0}')], formatters={'$x': 'datetime'}))\n",
    "s5.xgrid.visible = False\n",
    "s5.ygrid.visible = False\n",
    "s5.line(x=ry['date'], y=comb['z_sprd'], line_width=0.7, color='firebrick', alpha=0.8)\n",
    "s5.xaxis.major_label_orientation = math.pi / 2\n",
    "\n",
    "\n",
    "s6 = figure(title = 'Z-Scores Relative', width=550, height=200, tools=[\"pan\", \"tap\", \"wheel_zoom\", \"box_zoom\", \"save\", \"reset\", \"help\"], toolbar_location='right')\n",
    "s6.xaxis.formatter = DatetimeTickFormatter(days=\"%d-%b-%y\", months=\"%d-%b-%y\")\n",
    "s6.add_tools(HoverTool(tooltips=[('date', '$x{%d.%b.%y}'), ('y', '$y{0.0}')], formatters={'$x': 'datetime'}))\n",
    "s6.xgrid.visible = False\n",
    "s6.ygrid.visible = False\n",
    "s6.line(x=ry['date'], y=comb['rel_z_z_score_3m'], line_width=0.6, color='indigo', alpha=0.8, muted_alpha=0.1, legend_label=\"z_score: 3m\")\n",
    "s6.line(x=ry['date'], y=comb['rel_z_z_score_6m'], line_width=0.6, color='green', alpha=0.8, muted_alpha=0.1, legend_label=\"z_score: 6m\")\n",
    "zero_line = Span(location=0, dimension='width', line_color='darkslategray', line_width=1)\n",
    "s6.renderers.extend([zero_line])\n",
    "s6.xaxis.visible = False\n",
    "s6.legend.location = 'top_left'\n",
    "s6.legend.label_text_font = \"calibri\"\n",
    "s6.legend.label_text_font_size = \"9pt\"\n",
    "s6.legend.spacing = 1\n",
    "s6.legend.click_policy = \"mute\"\n",
    "s6.legend.background_fill_alpha = 0.0\n",
    "\n",
    "\n",
    "\n",
    "\n",
    "p=layout(children=[[s1, s4], [s2, s5], [s3, s6]])\n",
    "show(p)\n",
    "\n",
    "\n",
    "#s_plot.append(s1)\n",
    "#s_plot.append(s2)\n",
    "#s_plot.append(s3)\n",
    "\n",
    "#layout = column(*s_plot)\n",
    "#show(layout)\n"
   ],
   "metadata": {
    "collapsed": false,
    "ExecuteTime": {
     "end_time": "2024-03-18T14:51:18.886916700Z",
     "start_time": "2024-03-18T14:51:17.759669100Z"
    }
   }
  },
  {
   "cell_type": "code",
   "execution_count": 1,
   "outputs": [],
   "source": [],
   "metadata": {
    "collapsed": false,
    "ExecuteTime": {
     "end_time": "2024-03-19T14:52:59.554065100Z",
     "start_time": "2024-03-19T14:52:59.541030200Z"
    }
   }
  },
  {
   "cell_type": "code",
   "execution_count": 79,
   "outputs": [
    {
     "name": "stdout",
     "output_type": "stream",
     "text": [
      "EURUSD\n",
      "GBPUSD\n",
      "USDJPY\n",
      "USDCAD\n",
      "AUDUSD\n",
      "USDCHF\n",
      "USDSEK\n",
      "USDNOK\n",
      "NZDUSD\n",
      "USDBRL\n",
      "USDMXN\n",
      "USDZAR\n",
      "EURCHF\n",
      "EURHUF\n",
      "EURPLN\n",
      "EURJPY\n",
      "GBPJPY\n",
      "AUDJPY\n",
      "USDKRW\n",
      "EURSEK\n",
      "EURNOK\n",
      "USDIDR\n",
      "USDCLP\n",
      "AUDNZD\n",
      "USDSGD\n"
     ]
    }
   ],
   "source": [
    "###### fx flies vs realised\n",
    "start = '20061201'\n",
    "today = ql.Date(datetime.datetime.now().day, datetime.datetime.now().month, datetime.datetime.now().year)\n",
    "latest = bbg_date_str(today)\n",
    "\n",
    "pair = ['EURUSD', 'GBPUSD', 'USDJPY', 'USDCAD', 'AUDUSD', 'USDCHF', 'USDSEK', 'USDNOK', 'NZDUSD', 'USDBRL', 'USDMXN', 'USDZAR', 'EURCHF','EURHUF', 'EURPLN',\n",
    "        'EURJPY', 'GBPJPY', 'AUDJPY', 'USDKRW', 'EURSEK', 'EURNOK', 'USDIDR', 'USDCLP', 'AUDNZD', 'USDSGD']\n",
    "tenor = '6M'\n",
    "real_tenor = '3M'\n",
    "bfl_delta = 10\n",
    "\n",
    "implied_pre = []\n",
    "realised_post = []\n",
    "implied_post = []\n",
    "bfly_pre = []\n",
    "bfly_post = []\n",
    "\n",
    "for i in np.arange(len(pair)):\n",
    "    print(pair[i])\n",
    "    impl_v_ticker = pair[i]+'V'+tenor+' Curncy'\n",
    "    bfly_ticker = pair[i]+str(bfl_delta)+'B'+tenor+' Curncy'\n",
    "    real_v_ticker = pair[i]+'H'+real_tenor+' Curncy'\n",
    "\n",
    "    implv = con.bdh([impl_v_ticker] , 'PX_LAST', start, latest, longdata = True)\n",
    "    bflv = con.bdh([bfly_ticker] , 'PX_LAST', start, latest, longdata = True)\n",
    "    realv = con.bdh([real_v_ticker] , 'PX_LAST', start, latest, longdata = True)\n",
    "\n",
    "    start = max(bflv['date'][0],implv['date'][0],realv['date'][0]).strftime('%Y%m%d')\n",
    "    start2 = ql.Date(int(start[6:8]),int(start[4:6]),int(start[:4]))\n",
    "    bflv['date'] = [datetime_to_ql(bflv['date'][i]) for i in np.arange(len(bflv))]\n",
    "    implv['date'] = [datetime_to_ql(implv['date'][i]) for i in np.arange(len(implv))]\n",
    "    realv['date'] = [datetime_to_ql(realv['date'][i]) for i in np.arange(len(realv))]\n",
    "\n",
    "    bflv = bflv[bflv['date'] >= start2 ]\n",
    "    implv = implv[implv['date'] >= start2]\n",
    "    realv = realv[realv['date'] >= start2]\n",
    "    quantiles = bflv.quantile([.2, .4, 0.6, 0.8])\n",
    "\n",
    "    for i in np.arange(len(quantiles)+1):\n",
    "        if i == 0:\n",
    "            con1 = bflv[bflv['value'] < quantiles.iloc[0].value]['date'].tolist()\n",
    "        elif i == len(quantiles):\n",
    "            con1 = bflv[bflv['value'] > quantiles.iloc[-1].value]['date'].tolist()\n",
    "        else:\n",
    "            con1 = bflv[ (bflv['value'] < quantiles.iloc[i].value) & (bflv['value'] > quantiles.iloc[i-1].value)  ]['date'].tolist()\n",
    "\n",
    "        con2 = [con1[i] + ql.Period(real_tenor) for i in np.arange(len(con1))]\n",
    "        con3 = [con2[i] for i in np.arange(len(con2)) if con2[i] < today]\n",
    "\n",
    "        implied_pre.append(implv[implv['date'].isin(con1)]['value'].mean())\n",
    "        bfly_pre.append(bflv[bflv['date'].isin(con1)]['value'].mean())\n",
    "\n",
    "        realised_post.append(realv[realv['date'].isin(con3)]['value'].mean())\n",
    "        implied_post.append(implv[implv['date'].isin(con3)]['value'].mean())\n",
    "        bfly_post.append(bflv[bflv['date'].isin(con3)]['value'].mean())\n",
    "\n",
    "df = pd.DataFrame()\n",
    "df['pair'] = flat_lst([[pair[i]]*5 for i in np.arange(len(pair))])\n",
    "df['implied_tenor'] = [tenor]*len(realised_post)\n",
    "df['realised_tenor'] = [real_tenor]*len(realised_post)\n",
    "df['quantile'] = [1,2,3,4,5]*len(pair)\n",
    "#df['q_value'] = ['<' + str(quantiles['value'].tolist()[0])]+ quantiles['value'].tolist()[1:]+['>' + str(quantiles['value'].tolist()[-1])]\n",
    "df['impl_pre'] = implied_pre\n",
    "df['impl_post'] = implied_post\n",
    "df['imp_chg'] = np.array(implied_post) - np.array(implied_pre)\n",
    "df['bfl_pre'] = bfly_pre\n",
    "df['bfl_post'] = bfly_post\n",
    "df['bfl_chg'] = np.array(bfly_post) - np.array(bfly_pre)\n",
    "df['real'] = realised_post\n",
    "df['value'] = np.array(realised_post) - np.array(implied_pre)\n",
    "\n",
    "df.round(3)\n",
    "\n",
    "df1 = df[(df['quantile'] == 1) | (df['quantile'] == 5)]\n",
    "df2 = df1[df1['pair'].isin(['EURUSD','GBPUSD','USDJPY','AUDUSD','USDMXN'])]\n",
    "\n"
   ],
   "metadata": {
    "collapsed": false,
    "ExecuteTime": {
     "end_time": "2024-03-19T20:55:58.582282600Z",
     "start_time": "2024-03-19T20:54:33.259107700Z"
    }
   }
  },
  {
   "cell_type": "code",
   "execution_count": 80,
   "outputs": [
    {
     "data": {
      "text/plain": "       pair implied_tenor realised_tenor  quantile           impl_pre          impl_post             imp_chg            bfl_pre            bfl_post              bfl_chg               real                value\n0    EURUSD            6M             3M         1  6.313561028571429  6.692728571428572 0.37916754285714305 0.6506766857142858  0.8639162202380952   0.2132395345238094  6.747901339285715    0.434340310714286\n4    EURUSD            6M             3M         5 13.767701371428569 12.885451586206896 -0.8822497852216724 2.0657042285714287   1.788450896551724  -0.2772533320197046 11.640440137931035   -2.127261233497533\n5    GBPUSD            6M             3M         1  7.103511825487945  7.643728767123288  0.5402169416353431 0.7538838117106773  0.9119412480974125   0.1580574363867352  7.414046270928462    0.310534445440517\n9    GBPUSD            6M             3M         5  13.67753444316877 12.277659279778394 -1.3998751633903765 2.0851809414466134  1.7675519390581715 -0.31762900238844183  12.51210886426593  -1.1654255789028412\n10   USDJPY            6M             3M         1  7.059592360319271  7.265267727930536 0.20567536761126526 0.9158010262257698  1.1106367583212735  0.19483573209550376  6.566493632416788   -0.493098727902483\n14   USDJPY            6M             3M         5  12.44255102739726 12.133149796472185  -0.309401230925074 2.4157183789954333   1.990759972862958  -0.4249584061324754 12.292026322930802  -0.1505247044664575\n15   USDCAD            6M             3M         1  6.229998853211009  6.513501335311573  0.2835024821005643 0.5724253440366972  0.7097833827893175  0.13735803875262032  6.834768991097922   0.6047701378869137\n19   USDCAD            6M             3M         5  13.08094857142857 11.720090403337968 -1.3608581680906013             1.7722  1.5889986091794162 -0.18320139082058384 11.713471627260084  -1.3674769441684855\n20   AUDUSD            6M             3M         1  8.486587285223367  9.115680625931445  0.6290933407080779 0.8153432989690722   1.026967213114754  0.21162391414568182  9.980840238450076   1.4942529532267095\n24   AUDUSD            6M             3M         5 16.505179794520547 15.195114902506965 -1.3100648920135818 2.7487157534246576  2.4247040389972145 -0.32401171442744303 15.553380222841227  -0.9517995716793202\n25   USDCHF            6M             3M         1  6.602287571265678  7.047879613095239  0.4455920418295607 0.6523986316989737  0.8957714285714286  0.24337279687245483  7.467463244047619   0.8651756727819411\n29   USDCHF            6M             3M         5 13.098699885452463 12.190177576601672 -0.9085223088507917  2.069998510882016   1.724775348189415  -0.3452231626926008 12.318583426183842  -0.7801164592686209\n30   USDSEK            6M             3M         1  8.929105691056911  9.466830890804598  0.5377251997476868 0.7891018583042974  0.9579689910979229  0.16886713279362553 10.153612769010044   1.2245070779531328\n34   USDSEK            6M             3M         5 16.379800115074797  15.28827489481066 -1.0915252202641366 2.0309767548906787  1.7144301542776998  -0.3165466006129789  16.12853921568627  -0.2512608993885266\n35   USDNOK            6M             3M         1  8.797439540229885  9.691989804469275  0.8945502642393901 0.7882096551724138   1.004893083573487  0.21668342840107324 11.081633751743375   2.2841942115134906\n39   USDNOK            6M             3M         5 15.305566127167632 14.395570487106015 -0.9099956400616165 1.9435131791907514   1.680687249283668  -0.2628259299070834 16.311545350500715   1.0059792233330835\n40   NZDUSD            6M             3M         1  8.886223536165327   9.41789640718563  0.5316728710203034 0.8224081515499426  1.0364949101796408  0.21408675862969817 10.450276946107785   1.5640534099424581\n44   NZDUSD            6M             3M         5 17.134541438356163   16.1453625698324 -0.9891788685237621   2.89641906392694  2.6022201117318438  -0.2941989521950963 16.743848603351957  -0.3906928350042058\n45   USDBRL            6M             3M         1 14.418334894613583  14.97360923076923  0.5552743361556463 1.4162324355971896  1.6313653846153846  0.21513294901819502 13.646596923076924   -0.771737971536659\n49   USDBRL            6M             3M         5 17.783237762237764  15.75903142857143  -2.024206333666335  4.170407925407925  3.6938892857142855 -0.47651863969363983 15.212147142857143  -2.5710906193806213\n50   USDMXN            6M             3M         1  9.570803030303031 12.459367605633803   2.888564575330772 1.3191414918414919  1.9622019718309862   0.6430604799894943  13.37603943661972   3.8052364063166895\n54   USDMXN            6M             3M         5  17.28529487179487 14.880302556818181   -2.40499231497669 3.7220308857808857  3.2123153409090905  -0.5097155448717952 14.278401988636364   -3.006892883158507\n55   USDZAR            6M             3M         1 15.352876184834123 16.328783151326054  0.9759069664919302 1.3966254739336492  1.7100281847133758   0.3134027107797266 16.902540405616225   1.5496642207821019\n59   USDZAR            6M             3M         5  19.90310668229777  17.89491867043847    -2.0081880118593  3.520685814771395  3.1652868271954677 -0.35539898757592736 19.120574717514124  -0.7825319647836473\n60   EURCHF            6M             3M         1  4.953627369668246  5.246318140243902 0.29269077057565607 0.8076837677725117  1.0645352134146342   0.2568514456421225  5.672391476407915   0.7187641067396688\n64   EURCHF            6M             3M         5  7.233498824911868  6.777937589670014 -0.4555612352418539  3.179715041128085   2.765200860832138 -0.41451418029594667  7.762134289813486   0.5286354649016181\n65   EURHUF            6M             3M         1  5.618345442536327  6.192698347107438  0.5743529045711107 1.1417569352708057  1.2864834710743802  0.14472653580357453  6.522168925619836   0.9038234830835083\n69   EURHUF            6M             3M         5 13.300605569948187  12.23755905511811 -1.0630465148300772  2.479844559585492   2.238805205047319 -0.24103935453817327 11.932511338582678  -1.3680942313655091\n70   EURPLN            6M             3M         1 5.3764692101740295  5.862224137931035 0.48575492775700546 1.0723460508701472  1.2303706896551725  0.15802463878502526  6.169206206896552   0.7927369967225228\n74   EURPLN            6M             3M         5 11.703116840731072 10.574358161648178 -1.1287586790828943 2.2191612271540473   1.979742472266244  -0.2394187548878033 11.002882884310619  -0.7002339564204529\n75   EURJPY            6M             3M         1  7.423119325551233  7.846602891156462  0.4234835656052294 0.9845946822308691   1.155752551020408  0.17115786878953898  7.152915136054422  -0.2702041894968108\n79   EURJPY            6M             3M         5  14.82259067357513 13.796756230529596 -1.0258344430455342  2.519621113989637  2.2611020249221183 -0.25851908906751886 12.601257788161993   -2.221332885413137\n80   GBPJPY            6M             3M         1  8.878237971391417   9.86840206185567   0.990164090464253 1.1430591677503252  1.3346134020618554  0.19155423431153018  8.958746219931273  0.08050824853985539\n84   GBPJPY            6M             3M         5 15.522927461139897 14.218982059282371 -1.3039454018575256  2.631803756476684  2.2920748829953195  -0.3397288734813646 14.087255694227768  -1.4356717669121295\n85   AUDJPY            6M             3M         1  9.711981070496083 10.437581335616438  0.7256002651203541  1.339376631853786  1.5889169520547946  0.24954032020100847 10.565166438356165   0.8531853678600818\n89   AUDJPY            6M             3M         5 16.577955729166664  14.92264274691358 -1.6553129822530845 2.9159309895833334   2.455628858024691  -0.4603021315586422 15.285192438271606  -1.2927632908950581\n90   USDKRW            6M             3M         1  7.915579188481676  8.333528119507909   0.417948931026233 0.9957395287958115  1.2060940246045693  0.21035449580875776 7.5473265377855885 -0.36825265069608726\n94   USDKRW            6M             3M         5 13.920172077922079 12.701812106918238 -1.2183599710038404 3.4408214285714283  3.0840487421383647  -0.3567726864330636  8.846096069182389    -5.07407600873969\n95   EURSEK            6M             3M         1  6.003404947916667  6.298132377740304  0.2947274298236371     0.580634765625  0.7087268128161889  0.12809204719118883 6.9202284991568295   0.9168235512401628\n99   EURSEK            6M             3M         5  8.730218098958334           7.949908  -0.780310098958334 1.4465592447916666            1.279464  -0.1670952447916667         8.01038496  -0.7198331389583341\n100  EURNOK            6M             3M         1  6.952292207792207 7.5600557461406535  0.6077635383484461 0.6537188311688312  0.8382032590051457  0.18448442783631447  8.856601372212694   1.9043091644204866\n104  EURNOK            6M             3M         5  9.402071805006587  8.582979838709678 -0.8190919662969094 1.5005237154150197   1.299584677419355 -0.20093903799566482   9.33197435483871 -0.07009745016787683\n105  USDIDR            6M             3M         1   8.16592654986523  8.604516274864377  0.4385897249991473 1.2702830188679244  1.6300587703435805   0.3597757514756561  5.931748643761302  -2.2341779061039277\n109  USDIDR            6M             3M         5 12.720045751633986 12.018662140575078 -0.7013836110589082  4.546915032679739   3.965065789473684  -0.5818492432060554  17.47424089456869    4.754195142934705\n110  USDCLP            6M             3M         1 14.133671232876711 14.738358714043992  0.6046874811672804 0.8874486301369864  1.1105849220103987  0.22313629187341233  15.19279187817259    1.059120645295879\n114  USDCLP            6M             3M         5 13.088599735799207 12.142693548387095 -0.9459061874121115  3.099346103038309   2.748701612903226 -0.35064449013508314  9.821564516129031  -3.2670352196701753\n115  AUDNZD            6M             3M         1  5.694416775884666  5.873395061728394  0.1789782858437281 0.3096068152031455 0.36128747795414456 0.051680662750999085  5.951004761904762  0.25658798602009547\n119  AUDNZD            6M             3M         5  8.351199609882965  8.085897943037976  -0.265301666844989 1.0405136540962288   0.976934335443038 -0.06357931865319078  8.718823575949367    0.367623966066402\n120  USDSGD            6M             3M         1  4.393618508655126  4.505297297297297 0.11167878864217062 0.5258322237017311  0.6022747747747749  0.07644255107304376  4.127718378378378 -0.26590013027674786\n124  USDSGD            6M             3M         5  7.548029411764706  6.938053797468355  -0.609975614296351 1.5372581699346406            1.398125 -0.13913316993464053  5.920949525316456    -1.62707988644825",
      "text/html": "<div>\n<style scoped>\n    .dataframe tbody tr th:only-of-type {\n        vertical-align: middle;\n    }\n\n    .dataframe tbody tr th {\n        vertical-align: top;\n    }\n\n    .dataframe thead th {\n        text-align: right;\n    }\n</style>\n<table border=\"1\" class=\"dataframe\">\n  <thead>\n    <tr style=\"text-align: right;\">\n      <th></th>\n      <th>pair</th>\n      <th>implied_tenor</th>\n      <th>realised_tenor</th>\n      <th>quantile</th>\n      <th>impl_pre</th>\n      <th>impl_post</th>\n      <th>imp_chg</th>\n      <th>bfl_pre</th>\n      <th>bfl_post</th>\n      <th>bfl_chg</th>\n      <th>real</th>\n      <th>value</th>\n    </tr>\n  </thead>\n  <tbody>\n    <tr>\n      <th>0</th>\n      <td>EURUSD</td>\n      <td>6M</td>\n      <td>3M</td>\n      <td>1</td>\n      <td>6.313561028571429</td>\n      <td>6.692728571428572</td>\n      <td>0.37916754285714305</td>\n      <td>0.6506766857142858</td>\n      <td>0.8639162202380952</td>\n      <td>0.2132395345238094</td>\n      <td>6.747901339285715</td>\n      <td>0.434340310714286</td>\n    </tr>\n    <tr>\n      <th>4</th>\n      <td>EURUSD</td>\n      <td>6M</td>\n      <td>3M</td>\n      <td>5</td>\n      <td>13.767701371428569</td>\n      <td>12.885451586206896</td>\n      <td>-0.8822497852216724</td>\n      <td>2.0657042285714287</td>\n      <td>1.788450896551724</td>\n      <td>-0.2772533320197046</td>\n      <td>11.640440137931035</td>\n      <td>-2.127261233497533</td>\n    </tr>\n    <tr>\n      <th>5</th>\n      <td>GBPUSD</td>\n      <td>6M</td>\n      <td>3M</td>\n      <td>1</td>\n      <td>7.103511825487945</td>\n      <td>7.643728767123288</td>\n      <td>0.5402169416353431</td>\n      <td>0.7538838117106773</td>\n      <td>0.9119412480974125</td>\n      <td>0.1580574363867352</td>\n      <td>7.414046270928462</td>\n      <td>0.310534445440517</td>\n    </tr>\n    <tr>\n      <th>9</th>\n      <td>GBPUSD</td>\n      <td>6M</td>\n      <td>3M</td>\n      <td>5</td>\n      <td>13.67753444316877</td>\n      <td>12.277659279778394</td>\n      <td>-1.3998751633903765</td>\n      <td>2.0851809414466134</td>\n      <td>1.7675519390581715</td>\n      <td>-0.31762900238844183</td>\n      <td>12.51210886426593</td>\n      <td>-1.1654255789028412</td>\n    </tr>\n    <tr>\n      <th>10</th>\n      <td>USDJPY</td>\n      <td>6M</td>\n      <td>3M</td>\n      <td>1</td>\n      <td>7.059592360319271</td>\n      <td>7.265267727930536</td>\n      <td>0.20567536761126526</td>\n      <td>0.9158010262257698</td>\n      <td>1.1106367583212735</td>\n      <td>0.19483573209550376</td>\n      <td>6.566493632416788</td>\n      <td>-0.493098727902483</td>\n    </tr>\n    <tr>\n      <th>14</th>\n      <td>USDJPY</td>\n      <td>6M</td>\n      <td>3M</td>\n      <td>5</td>\n      <td>12.44255102739726</td>\n      <td>12.133149796472185</td>\n      <td>-0.309401230925074</td>\n      <td>2.4157183789954333</td>\n      <td>1.990759972862958</td>\n      <td>-0.4249584061324754</td>\n      <td>12.292026322930802</td>\n      <td>-0.1505247044664575</td>\n    </tr>\n    <tr>\n      <th>15</th>\n      <td>USDCAD</td>\n      <td>6M</td>\n      <td>3M</td>\n      <td>1</td>\n      <td>6.229998853211009</td>\n      <td>6.513501335311573</td>\n      <td>0.2835024821005643</td>\n      <td>0.5724253440366972</td>\n      <td>0.7097833827893175</td>\n      <td>0.13735803875262032</td>\n      <td>6.834768991097922</td>\n      <td>0.6047701378869137</td>\n    </tr>\n    <tr>\n      <th>19</th>\n      <td>USDCAD</td>\n      <td>6M</td>\n      <td>3M</td>\n      <td>5</td>\n      <td>13.08094857142857</td>\n      <td>11.720090403337968</td>\n      <td>-1.3608581680906013</td>\n      <td>1.7722</td>\n      <td>1.5889986091794162</td>\n      <td>-0.18320139082058384</td>\n      <td>11.713471627260084</td>\n      <td>-1.3674769441684855</td>\n    </tr>\n    <tr>\n      <th>20</th>\n      <td>AUDUSD</td>\n      <td>6M</td>\n      <td>3M</td>\n      <td>1</td>\n      <td>8.486587285223367</td>\n      <td>9.115680625931445</td>\n      <td>0.6290933407080779</td>\n      <td>0.8153432989690722</td>\n      <td>1.026967213114754</td>\n      <td>0.21162391414568182</td>\n      <td>9.980840238450076</td>\n      <td>1.4942529532267095</td>\n    </tr>\n    <tr>\n      <th>24</th>\n      <td>AUDUSD</td>\n      <td>6M</td>\n      <td>3M</td>\n      <td>5</td>\n      <td>16.505179794520547</td>\n      <td>15.195114902506965</td>\n      <td>-1.3100648920135818</td>\n      <td>2.7487157534246576</td>\n      <td>2.4247040389972145</td>\n      <td>-0.32401171442744303</td>\n      <td>15.553380222841227</td>\n      <td>-0.9517995716793202</td>\n    </tr>\n    <tr>\n      <th>25</th>\n      <td>USDCHF</td>\n      <td>6M</td>\n      <td>3M</td>\n      <td>1</td>\n      <td>6.602287571265678</td>\n      <td>7.047879613095239</td>\n      <td>0.4455920418295607</td>\n      <td>0.6523986316989737</td>\n      <td>0.8957714285714286</td>\n      <td>0.24337279687245483</td>\n      <td>7.467463244047619</td>\n      <td>0.8651756727819411</td>\n    </tr>\n    <tr>\n      <th>29</th>\n      <td>USDCHF</td>\n      <td>6M</td>\n      <td>3M</td>\n      <td>5</td>\n      <td>13.098699885452463</td>\n      <td>12.190177576601672</td>\n      <td>-0.9085223088507917</td>\n      <td>2.069998510882016</td>\n      <td>1.724775348189415</td>\n      <td>-0.3452231626926008</td>\n      <td>12.318583426183842</td>\n      <td>-0.7801164592686209</td>\n    </tr>\n    <tr>\n      <th>30</th>\n      <td>USDSEK</td>\n      <td>6M</td>\n      <td>3M</td>\n      <td>1</td>\n      <td>8.929105691056911</td>\n      <td>9.466830890804598</td>\n      <td>0.5377251997476868</td>\n      <td>0.7891018583042974</td>\n      <td>0.9579689910979229</td>\n      <td>0.16886713279362553</td>\n      <td>10.153612769010044</td>\n      <td>1.2245070779531328</td>\n    </tr>\n    <tr>\n      <th>34</th>\n      <td>USDSEK</td>\n      <td>6M</td>\n      <td>3M</td>\n      <td>5</td>\n      <td>16.379800115074797</td>\n      <td>15.28827489481066</td>\n      <td>-1.0915252202641366</td>\n      <td>2.0309767548906787</td>\n      <td>1.7144301542776998</td>\n      <td>-0.3165466006129789</td>\n      <td>16.12853921568627</td>\n      <td>-0.2512608993885266</td>\n    </tr>\n    <tr>\n      <th>35</th>\n      <td>USDNOK</td>\n      <td>6M</td>\n      <td>3M</td>\n      <td>1</td>\n      <td>8.797439540229885</td>\n      <td>9.691989804469275</td>\n      <td>0.8945502642393901</td>\n      <td>0.7882096551724138</td>\n      <td>1.004893083573487</td>\n      <td>0.21668342840107324</td>\n      <td>11.081633751743375</td>\n      <td>2.2841942115134906</td>\n    </tr>\n    <tr>\n      <th>39</th>\n      <td>USDNOK</td>\n      <td>6M</td>\n      <td>3M</td>\n      <td>5</td>\n      <td>15.305566127167632</td>\n      <td>14.395570487106015</td>\n      <td>-0.9099956400616165</td>\n      <td>1.9435131791907514</td>\n      <td>1.680687249283668</td>\n      <td>-0.2628259299070834</td>\n      <td>16.311545350500715</td>\n      <td>1.0059792233330835</td>\n    </tr>\n    <tr>\n      <th>40</th>\n      <td>NZDUSD</td>\n      <td>6M</td>\n      <td>3M</td>\n      <td>1</td>\n      <td>8.886223536165327</td>\n      <td>9.41789640718563</td>\n      <td>0.5316728710203034</td>\n      <td>0.8224081515499426</td>\n      <td>1.0364949101796408</td>\n      <td>0.21408675862969817</td>\n      <td>10.450276946107785</td>\n      <td>1.5640534099424581</td>\n    </tr>\n    <tr>\n      <th>44</th>\n      <td>NZDUSD</td>\n      <td>6M</td>\n      <td>3M</td>\n      <td>5</td>\n      <td>17.134541438356163</td>\n      <td>16.1453625698324</td>\n      <td>-0.9891788685237621</td>\n      <td>2.89641906392694</td>\n      <td>2.6022201117318438</td>\n      <td>-0.2941989521950963</td>\n      <td>16.743848603351957</td>\n      <td>-0.3906928350042058</td>\n    </tr>\n    <tr>\n      <th>45</th>\n      <td>USDBRL</td>\n      <td>6M</td>\n      <td>3M</td>\n      <td>1</td>\n      <td>14.418334894613583</td>\n      <td>14.97360923076923</td>\n      <td>0.5552743361556463</td>\n      <td>1.4162324355971896</td>\n      <td>1.6313653846153846</td>\n      <td>0.21513294901819502</td>\n      <td>13.646596923076924</td>\n      <td>-0.771737971536659</td>\n    </tr>\n    <tr>\n      <th>49</th>\n      <td>USDBRL</td>\n      <td>6M</td>\n      <td>3M</td>\n      <td>5</td>\n      <td>17.783237762237764</td>\n      <td>15.75903142857143</td>\n      <td>-2.024206333666335</td>\n      <td>4.170407925407925</td>\n      <td>3.6938892857142855</td>\n      <td>-0.47651863969363983</td>\n      <td>15.212147142857143</td>\n      <td>-2.5710906193806213</td>\n    </tr>\n    <tr>\n      <th>50</th>\n      <td>USDMXN</td>\n      <td>6M</td>\n      <td>3M</td>\n      <td>1</td>\n      <td>9.570803030303031</td>\n      <td>12.459367605633803</td>\n      <td>2.888564575330772</td>\n      <td>1.3191414918414919</td>\n      <td>1.9622019718309862</td>\n      <td>0.6430604799894943</td>\n      <td>13.37603943661972</td>\n      <td>3.8052364063166895</td>\n    </tr>\n    <tr>\n      <th>54</th>\n      <td>USDMXN</td>\n      <td>6M</td>\n      <td>3M</td>\n      <td>5</td>\n      <td>17.28529487179487</td>\n      <td>14.880302556818181</td>\n      <td>-2.40499231497669</td>\n      <td>3.7220308857808857</td>\n      <td>3.2123153409090905</td>\n      <td>-0.5097155448717952</td>\n      <td>14.278401988636364</td>\n      <td>-3.006892883158507</td>\n    </tr>\n    <tr>\n      <th>55</th>\n      <td>USDZAR</td>\n      <td>6M</td>\n      <td>3M</td>\n      <td>1</td>\n      <td>15.352876184834123</td>\n      <td>16.328783151326054</td>\n      <td>0.9759069664919302</td>\n      <td>1.3966254739336492</td>\n      <td>1.7100281847133758</td>\n      <td>0.3134027107797266</td>\n      <td>16.902540405616225</td>\n      <td>1.5496642207821019</td>\n    </tr>\n    <tr>\n      <th>59</th>\n      <td>USDZAR</td>\n      <td>6M</td>\n      <td>3M</td>\n      <td>5</td>\n      <td>19.90310668229777</td>\n      <td>17.89491867043847</td>\n      <td>-2.0081880118593</td>\n      <td>3.520685814771395</td>\n      <td>3.1652868271954677</td>\n      <td>-0.35539898757592736</td>\n      <td>19.120574717514124</td>\n      <td>-0.7825319647836473</td>\n    </tr>\n    <tr>\n      <th>60</th>\n      <td>EURCHF</td>\n      <td>6M</td>\n      <td>3M</td>\n      <td>1</td>\n      <td>4.953627369668246</td>\n      <td>5.246318140243902</td>\n      <td>0.29269077057565607</td>\n      <td>0.8076837677725117</td>\n      <td>1.0645352134146342</td>\n      <td>0.2568514456421225</td>\n      <td>5.672391476407915</td>\n      <td>0.7187641067396688</td>\n    </tr>\n    <tr>\n      <th>64</th>\n      <td>EURCHF</td>\n      <td>6M</td>\n      <td>3M</td>\n      <td>5</td>\n      <td>7.233498824911868</td>\n      <td>6.777937589670014</td>\n      <td>-0.4555612352418539</td>\n      <td>3.179715041128085</td>\n      <td>2.765200860832138</td>\n      <td>-0.41451418029594667</td>\n      <td>7.762134289813486</td>\n      <td>0.5286354649016181</td>\n    </tr>\n    <tr>\n      <th>65</th>\n      <td>EURHUF</td>\n      <td>6M</td>\n      <td>3M</td>\n      <td>1</td>\n      <td>5.618345442536327</td>\n      <td>6.192698347107438</td>\n      <td>0.5743529045711107</td>\n      <td>1.1417569352708057</td>\n      <td>1.2864834710743802</td>\n      <td>0.14472653580357453</td>\n      <td>6.522168925619836</td>\n      <td>0.9038234830835083</td>\n    </tr>\n    <tr>\n      <th>69</th>\n      <td>EURHUF</td>\n      <td>6M</td>\n      <td>3M</td>\n      <td>5</td>\n      <td>13.300605569948187</td>\n      <td>12.23755905511811</td>\n      <td>-1.0630465148300772</td>\n      <td>2.479844559585492</td>\n      <td>2.238805205047319</td>\n      <td>-0.24103935453817327</td>\n      <td>11.932511338582678</td>\n      <td>-1.3680942313655091</td>\n    </tr>\n    <tr>\n      <th>70</th>\n      <td>EURPLN</td>\n      <td>6M</td>\n      <td>3M</td>\n      <td>1</td>\n      <td>5.3764692101740295</td>\n      <td>5.862224137931035</td>\n      <td>0.48575492775700546</td>\n      <td>1.0723460508701472</td>\n      <td>1.2303706896551725</td>\n      <td>0.15802463878502526</td>\n      <td>6.169206206896552</td>\n      <td>0.7927369967225228</td>\n    </tr>\n    <tr>\n      <th>74</th>\n      <td>EURPLN</td>\n      <td>6M</td>\n      <td>3M</td>\n      <td>5</td>\n      <td>11.703116840731072</td>\n      <td>10.574358161648178</td>\n      <td>-1.1287586790828943</td>\n      <td>2.2191612271540473</td>\n      <td>1.979742472266244</td>\n      <td>-0.2394187548878033</td>\n      <td>11.002882884310619</td>\n      <td>-0.7002339564204529</td>\n    </tr>\n    <tr>\n      <th>75</th>\n      <td>EURJPY</td>\n      <td>6M</td>\n      <td>3M</td>\n      <td>1</td>\n      <td>7.423119325551233</td>\n      <td>7.846602891156462</td>\n      <td>0.4234835656052294</td>\n      <td>0.9845946822308691</td>\n      <td>1.155752551020408</td>\n      <td>0.17115786878953898</td>\n      <td>7.152915136054422</td>\n      <td>-0.2702041894968108</td>\n    </tr>\n    <tr>\n      <th>79</th>\n      <td>EURJPY</td>\n      <td>6M</td>\n      <td>3M</td>\n      <td>5</td>\n      <td>14.82259067357513</td>\n      <td>13.796756230529596</td>\n      <td>-1.0258344430455342</td>\n      <td>2.519621113989637</td>\n      <td>2.2611020249221183</td>\n      <td>-0.25851908906751886</td>\n      <td>12.601257788161993</td>\n      <td>-2.221332885413137</td>\n    </tr>\n    <tr>\n      <th>80</th>\n      <td>GBPJPY</td>\n      <td>6M</td>\n      <td>3M</td>\n      <td>1</td>\n      <td>8.878237971391417</td>\n      <td>9.86840206185567</td>\n      <td>0.990164090464253</td>\n      <td>1.1430591677503252</td>\n      <td>1.3346134020618554</td>\n      <td>0.19155423431153018</td>\n      <td>8.958746219931273</td>\n      <td>0.08050824853985539</td>\n    </tr>\n    <tr>\n      <th>84</th>\n      <td>GBPJPY</td>\n      <td>6M</td>\n      <td>3M</td>\n      <td>5</td>\n      <td>15.522927461139897</td>\n      <td>14.218982059282371</td>\n      <td>-1.3039454018575256</td>\n      <td>2.631803756476684</td>\n      <td>2.2920748829953195</td>\n      <td>-0.3397288734813646</td>\n      <td>14.087255694227768</td>\n      <td>-1.4356717669121295</td>\n    </tr>\n    <tr>\n      <th>85</th>\n      <td>AUDJPY</td>\n      <td>6M</td>\n      <td>3M</td>\n      <td>1</td>\n      <td>9.711981070496083</td>\n      <td>10.437581335616438</td>\n      <td>0.7256002651203541</td>\n      <td>1.339376631853786</td>\n      <td>1.5889169520547946</td>\n      <td>0.24954032020100847</td>\n      <td>10.565166438356165</td>\n      <td>0.8531853678600818</td>\n    </tr>\n    <tr>\n      <th>89</th>\n      <td>AUDJPY</td>\n      <td>6M</td>\n      <td>3M</td>\n      <td>5</td>\n      <td>16.577955729166664</td>\n      <td>14.92264274691358</td>\n      <td>-1.6553129822530845</td>\n      <td>2.9159309895833334</td>\n      <td>2.455628858024691</td>\n      <td>-0.4603021315586422</td>\n      <td>15.285192438271606</td>\n      <td>-1.2927632908950581</td>\n    </tr>\n    <tr>\n      <th>90</th>\n      <td>USDKRW</td>\n      <td>6M</td>\n      <td>3M</td>\n      <td>1</td>\n      <td>7.915579188481676</td>\n      <td>8.333528119507909</td>\n      <td>0.417948931026233</td>\n      <td>0.9957395287958115</td>\n      <td>1.2060940246045693</td>\n      <td>0.21035449580875776</td>\n      <td>7.5473265377855885</td>\n      <td>-0.36825265069608726</td>\n    </tr>\n    <tr>\n      <th>94</th>\n      <td>USDKRW</td>\n      <td>6M</td>\n      <td>3M</td>\n      <td>5</td>\n      <td>13.920172077922079</td>\n      <td>12.701812106918238</td>\n      <td>-1.2183599710038404</td>\n      <td>3.4408214285714283</td>\n      <td>3.0840487421383647</td>\n      <td>-0.3567726864330636</td>\n      <td>8.846096069182389</td>\n      <td>-5.07407600873969</td>\n    </tr>\n    <tr>\n      <th>95</th>\n      <td>EURSEK</td>\n      <td>6M</td>\n      <td>3M</td>\n      <td>1</td>\n      <td>6.003404947916667</td>\n      <td>6.298132377740304</td>\n      <td>0.2947274298236371</td>\n      <td>0.580634765625</td>\n      <td>0.7087268128161889</td>\n      <td>0.12809204719118883</td>\n      <td>6.9202284991568295</td>\n      <td>0.9168235512401628</td>\n    </tr>\n    <tr>\n      <th>99</th>\n      <td>EURSEK</td>\n      <td>6M</td>\n      <td>3M</td>\n      <td>5</td>\n      <td>8.730218098958334</td>\n      <td>7.949908</td>\n      <td>-0.780310098958334</td>\n      <td>1.4465592447916666</td>\n      <td>1.279464</td>\n      <td>-0.1670952447916667</td>\n      <td>8.01038496</td>\n      <td>-0.7198331389583341</td>\n    </tr>\n    <tr>\n      <th>100</th>\n      <td>EURNOK</td>\n      <td>6M</td>\n      <td>3M</td>\n      <td>1</td>\n      <td>6.952292207792207</td>\n      <td>7.5600557461406535</td>\n      <td>0.6077635383484461</td>\n      <td>0.6537188311688312</td>\n      <td>0.8382032590051457</td>\n      <td>0.18448442783631447</td>\n      <td>8.856601372212694</td>\n      <td>1.9043091644204866</td>\n    </tr>\n    <tr>\n      <th>104</th>\n      <td>EURNOK</td>\n      <td>6M</td>\n      <td>3M</td>\n      <td>5</td>\n      <td>9.402071805006587</td>\n      <td>8.582979838709678</td>\n      <td>-0.8190919662969094</td>\n      <td>1.5005237154150197</td>\n      <td>1.299584677419355</td>\n      <td>-0.20093903799566482</td>\n      <td>9.33197435483871</td>\n      <td>-0.07009745016787683</td>\n    </tr>\n    <tr>\n      <th>105</th>\n      <td>USDIDR</td>\n      <td>6M</td>\n      <td>3M</td>\n      <td>1</td>\n      <td>8.16592654986523</td>\n      <td>8.604516274864377</td>\n      <td>0.4385897249991473</td>\n      <td>1.2702830188679244</td>\n      <td>1.6300587703435805</td>\n      <td>0.3597757514756561</td>\n      <td>5.931748643761302</td>\n      <td>-2.2341779061039277</td>\n    </tr>\n    <tr>\n      <th>109</th>\n      <td>USDIDR</td>\n      <td>6M</td>\n      <td>3M</td>\n      <td>5</td>\n      <td>12.720045751633986</td>\n      <td>12.018662140575078</td>\n      <td>-0.7013836110589082</td>\n      <td>4.546915032679739</td>\n      <td>3.965065789473684</td>\n      <td>-0.5818492432060554</td>\n      <td>17.47424089456869</td>\n      <td>4.754195142934705</td>\n    </tr>\n    <tr>\n      <th>110</th>\n      <td>USDCLP</td>\n      <td>6M</td>\n      <td>3M</td>\n      <td>1</td>\n      <td>14.133671232876711</td>\n      <td>14.738358714043992</td>\n      <td>0.6046874811672804</td>\n      <td>0.8874486301369864</td>\n      <td>1.1105849220103987</td>\n      <td>0.22313629187341233</td>\n      <td>15.19279187817259</td>\n      <td>1.059120645295879</td>\n    </tr>\n    <tr>\n      <th>114</th>\n      <td>USDCLP</td>\n      <td>6M</td>\n      <td>3M</td>\n      <td>5</td>\n      <td>13.088599735799207</td>\n      <td>12.142693548387095</td>\n      <td>-0.9459061874121115</td>\n      <td>3.099346103038309</td>\n      <td>2.748701612903226</td>\n      <td>-0.35064449013508314</td>\n      <td>9.821564516129031</td>\n      <td>-3.2670352196701753</td>\n    </tr>\n    <tr>\n      <th>115</th>\n      <td>AUDNZD</td>\n      <td>6M</td>\n      <td>3M</td>\n      <td>1</td>\n      <td>5.694416775884666</td>\n      <td>5.873395061728394</td>\n      <td>0.1789782858437281</td>\n      <td>0.3096068152031455</td>\n      <td>0.36128747795414456</td>\n      <td>0.051680662750999085</td>\n      <td>5.951004761904762</td>\n      <td>0.25658798602009547</td>\n    </tr>\n    <tr>\n      <th>119</th>\n      <td>AUDNZD</td>\n      <td>6M</td>\n      <td>3M</td>\n      <td>5</td>\n      <td>8.351199609882965</td>\n      <td>8.085897943037976</td>\n      <td>-0.265301666844989</td>\n      <td>1.0405136540962288</td>\n      <td>0.976934335443038</td>\n      <td>-0.06357931865319078</td>\n      <td>8.718823575949367</td>\n      <td>0.367623966066402</td>\n    </tr>\n    <tr>\n      <th>120</th>\n      <td>USDSGD</td>\n      <td>6M</td>\n      <td>3M</td>\n      <td>1</td>\n      <td>4.393618508655126</td>\n      <td>4.505297297297297</td>\n      <td>0.11167878864217062</td>\n      <td>0.5258322237017311</td>\n      <td>0.6022747747747749</td>\n      <td>0.07644255107304376</td>\n      <td>4.127718378378378</td>\n      <td>-0.26590013027674786</td>\n    </tr>\n    <tr>\n      <th>124</th>\n      <td>USDSGD</td>\n      <td>6M</td>\n      <td>3M</td>\n      <td>5</td>\n      <td>7.548029411764706</td>\n      <td>6.938053797468355</td>\n      <td>-0.609975614296351</td>\n      <td>1.5372581699346406</td>\n      <td>1.398125</td>\n      <td>-0.13913316993464053</td>\n      <td>5.920949525316456</td>\n      <td>-1.62707988644825</td>\n    </tr>\n  </tbody>\n</table>\n</div>"
     },
     "execution_count": 80,
     "metadata": {},
     "output_type": "execute_result"
    }
   ],
   "source": [
    "df1"
   ],
   "metadata": {
    "collapsed": false,
    "ExecuteTime": {
     "end_time": "2024-03-19T20:56:22.971133100Z",
     "start_time": "2024-03-19T20:56:22.926098500Z"
    }
   }
  },
  {
   "cell_type": "code",
   "execution_count": 84,
   "outputs": [],
   "source": [
    "s1_source = ColumnDataSource(data=dict(x1=df1['bfl_pre'], x2=df1['bfl_chg'], y1=df1['imp_chg'], z1=df1['real'], z2=df1['value'],\n",
    "                                       color_schem = ['blue','red']*len(pair), ccy_pair = df1['pair'],  legend_schem = ['20%','80%']*len(pair)))\n",
    "\n",
    "#s1_source = ColumnDataSource(data=dict(x1=df['bfl_pre'], x2=df['bfl_chg'], y1=df['imp_chg'], z1=df['real'], z2=df['value'], color_schem = ['blue','red','green', 'gold', 'purple']*len(pair),\n",
    "#                                       ccy_pair = df['pair'],  legend_schem = ['<20%','20-40%', '40-60%','60-80%', '>80%']*len(pair)))\n",
    "\n",
    "s2_source = ColumnDataSource(data=dict(x1=df2['bfl_pre'], x2=df2['bfl_chg'], y1=df2['imp_chg'], z1=df2['real'], z2=df2['value'], ccy_pair = df2['pair']))\n",
    "\n",
    "legend_schem = ['20%','80%']*len(pair)\n",
    "\n",
    "#s1 = figure(title = 'Realised', width=550, height=300, tools=[\"pan\", \"tap\", \"wheel_zoom\", \"box_zoom\", \"save\", \"reset\", \"help\"], toolbar_location='right')\n",
    "#s1.xaxis.formatter = DatetimeTickFormatter(days=\"%d-%b-%y\", months=\"%d-%b-%y\")\n",
    "#s1.add_tools(HoverTool(tooltips=[('date', '$x{%d.%b.%y}'), ('y', '$y{0.0}')], formatters={'$x': 'datetime'}))\n",
    "#s1.xgrid.visible = False\n",
    "#s1.ygrid.visible = False\n",
    "#s1.circle(x= 'x1', y='z1', size=5, source=s1_source, color='color_schem', muted_alpha=0.1, legend_label='realised')\n",
    "#s1.xaxis.visible = True\n",
    "#s1.legend.location = 'top_right'\n",
    "#s1.legend.label_text_font = \"calibri\"\n",
    "#s1.legend.label_text_font_size = \"9pt\"\n",
    "#s1.legend.spacing = 1\n",
    "#s1.legend.click_policy = \"mute\"\n",
    "#s1.legend.background_fill_alpha = 0.0\n",
    "\n",
    "s2 = figure(title = 'Realised - Ex-Ante Implied', width=800, height=700, tools=[\"pan\", \"tap\", \"wheel_zoom\", \"box_zoom\", \"save\", \"reset\", \"help\"], toolbar_location='right')\n",
    "s2.toolbar.autohide=True\n",
    "#s2.add_layout(Legend(), 'right')\n",
    "#s1.xaxis.formatter = DatetimeTickFormatter(days=\"%d-%b-%y\", months=\"%d-%b-%y\")\n",
    "#s1.add_tools(HoverTool(tooltips=[('date', '$x{%d.%b.%y}'), ('y', '$y{0.0}')], formatters={'$x': 'datetime'}))\n",
    "s2.xgrid.visible = False\n",
    "s2.ygrid.visible = False\n",
    "s2.circle(0, 0, size=0.00000001, color= \"#ffffff\", legend_label='Flies by Quantiles')\n",
    "s2.circle(x= 'x1', y='z2', size=5, source=s1_source, color='color_schem', muted_alpha=0.1,  legend_field='legend_schem')\n",
    "zero_line = Span(location=0, dimension='width', line_color='darkseagreen', line_width=1)\n",
    "s2.renderers.extend([zero_line])\n",
    "\n",
    "s2.vspan(x=[0.48],line_width=[1], line_color=\"red\", line_dash='dotted', legend_label = 'eurusd')\n",
    "s2.vspan(x=[0.495],line_width=[1], line_color=\"green\", line_dash='dotted', legend_label = 'gbpusd')\n",
    "s2.vspan(x=[0.375],line_width=[1], line_color=\"blue\", line_dash='dotted', legend_label = 'usdcad')\n",
    "\n",
    "labels_1 = LabelSet(x='x1', y='z2', text='ccy_pair', level='glyph', text_align='center', y_offset=-15, source=s2_source, text_font_size='8px', text_color='black')\n",
    "s2.add_layout((labels_1))\n",
    "\n",
    "s2.xaxis.visible = True\n",
    "s2.xaxis.axis_label = '6m-expiry 10-delta fx flies'\n",
    "s2.xaxis.axis_label_text_font_size = \"10pt\"\n",
    "s2.xaxis.major_label_text_font_size = \"8pt\"\n",
    "s2.yaxis.axis_label = 'realised vs ex-ante implied vol diff over next 3m'\n",
    "s2.yaxis.axis_label_text_font_size = \"10pt\"\n",
    "s2.yaxis.major_label_text_font_size = \"8pt\"\n",
    "s2.legend.location = 'top_right'\n",
    "s2.legend.label_text_font = \"calibri\"\n",
    "s2.legend.label_text_font_size = \"9pt\"\n",
    "s2.legend.spacing = 1\n",
    "s2.legend.click_policy = \"mute\"\n",
    "s2.legend.background_fill_alpha = 0.0\n",
    "\n",
    "#s3 = figure(title = 'Butterfly Chg', width=500, height=400, tools=[\"pan\", \"tap\", \"wheel_zoom\", \"box_zoom\", \"save\", \"reset\", \"help\"], toolbar_location='right')\n",
    "#s1.xaxis.formatter = DatetimeTickFormatter(days=\"%d-%b-%y\", months=\"%d-%b-%y\")\n",
    "#s1.add_tools(HoverTool(tooltips=[('date', '$x{%d.%b.%y}'), ('y', '$y{0.0}')], formatters={'$x': 'datetime'}))\n",
    "#s3.xgrid.visible = False\n",
    "#s3.ygrid.visible = False\n",
    "#s3.circle(0, 0, size=0.00000001, color= \"#ffffff\", legend_label='Quantiles')\n",
    "#s3.circle(x= 'x1', y='x2', size=5, source=s1_source, color='color_schem', muted_alpha=0.1, legend_field='legend_schem')\n",
    "#zero_line = Span(location=0, dimension='width', line_color='darkseagreen', line_width=1)\n",
    "#s3.renderers.extend([zero_line])\n",
    "#s3.xaxis.visible = True\n",
    "#s3.legend.location = 'top_right'\n",
    "#s3.legend.label_text_font = \"calibri\"\n",
    "#s3.legend.label_text_font_size = \"9pt\"\n",
    "#s3.legend.spacing = 1\n",
    "#s3.legend.click_policy = \"mute\"\n",
    "#s3.legend.background_fill_alpha = 0.0\n",
    "\n",
    "s4 = figure(title = 'Implied Vol Chg', width=800, height=700)\n",
    "s4.toolbar.autohide=True\n",
    "#s4.add_layout(Legend(), 'right')\n",
    "#s1.xaxis.formatter = DatetimeTickFormatter(days=\"%d-%b-%y\", months=\"%d-%b-%y\")\n",
    "#s1.add_tools(HoverTool(tooltips=[('date', '$x{%d.%b.%y}'), ('y', '$y{0.0}')], formatters={'$x': 'datetime'}))\n",
    "s4.xgrid.visible = False\n",
    "s4.ygrid.visible = False\n",
    "s4.circle(0, 0, size=0.00000001, color= \"#ffffff\", legend_label='Flies by Quantiles')\n",
    "s4.circle(x= 'x1', y='y1', size=5, source=s1_source, color='color_schem', muted_alpha=0.1, legend_field='legend_schem')\n",
    "zero_line = Span(location=0, dimension='width', line_color='darkseagreen', line_width=1)\n",
    "s4.renderers.extend([zero_line])\n",
    "\n",
    "s4.vspan(x=[1.3],line_width=[1], line_color=\"red\", line_dash='dotted', legend_label = 'usdmxn')\n",
    "s4.vspan(x=[0.63],line_width=[1], line_color=\"green\", line_dash='dotted', legend_label = 'eurchf')\n",
    "\n",
    "labels_2 = LabelSet(x='x1', y='y1', text='ccy_pair', level='glyph', text_align='center', y_offset=-15, source=s2_source, text_font_size='8px', text_color='black')\n",
    "s4.add_layout((labels_2))\n",
    "\n",
    "s4.xaxis.visible = True\n",
    "s4.xaxis.axis_label = '6m-expiry 10-delta fx flies'\n",
    "s4.xaxis.axis_label_text_font_size = \"10pt\"\n",
    "s4.xaxis.major_label_text_font_size = \"8pt\"\n",
    "s4.yaxis.axis_label = 'chg in implied vol over next 3m'\n",
    "s4.yaxis.axis_label_text_font_size = \"10pt\"\n",
    "s4.yaxis.major_label_text_font_size = \"8pt\"\n",
    "s4.legend.location = 'top_right'\n",
    "s4.legend.label_text_font = \"calibri\"\n",
    "s4.legend.label_text_font_size = \"9pt\"\n",
    "s4.legend.spacing = 1\n",
    "s4.legend.click_policy = \"mute\"\n",
    "s4.legend.background_fill_alpha = 0.0\n",
    "\n",
    "\n",
    "p=layout(children=[[s2, s4]])\n",
    "#p=layout(children=[[s2], [s4]])\n",
    "show(p)\n",
    "\n"
   ],
   "metadata": {
    "collapsed": false,
    "ExecuteTime": {
     "end_time": "2024-03-19T21:00:32.273931100Z",
     "start_time": "2024-03-19T21:00:31.880611400Z"
    }
   }
  },
  {
   "cell_type": "code",
   "execution_count": 55,
   "outputs": [],
   "source": [
    "color_schem = ['blue','red']*len(pair)\n",
    "legend_schem = ['20%','80%']*len(pair)\n",
    "\n",
    "items = [(color_schem[i], legend_schem[i]) for i in np.arange(len(color_schem))]\n",
    "\n",
    "#items = []\n",
    "#for i in range(2):\n",
    "#    items += [(names[i],[fig.circle(i,i,color=colors[i],size=20)])]\n",
    "#fig.add_layout(Legend(items=items),'right')"
   ],
   "metadata": {
    "collapsed": false,
    "ExecuteTime": {
     "end_time": "2024-03-19T15:43:41.801164300Z",
     "start_time": "2024-03-19T15:43:41.787165600Z"
    }
   }
  },
  {
   "cell_type": "code",
   "execution_count": 53,
   "outputs": [
    {
     "data": {
      "text/plain": "      pair implied_tenor realised_tenor  quantile           impl_pre          impl_post             imp_chg            bfl_pre           bfl_post              bfl_chg               real               value\n0   EURUSD            6M             3M         1  6.234244754464285  6.522676502732241 0.28843174826795615 0.6303487723214286 0.8643461748633878  0.23399740254195922   8.10554918032787  1.8713044258635847\n4   EURUSD            6M             3M         5 13.715898442714126 13.011587764182424 -0.7043106785317015 2.0500454949944382 1.8093646273637374 -0.24068086763070085  10.43747274749722 -3.2784256952169066\n5   GBPUSD            6M             3M         1  6.959884960718295  7.306957435197817 0.34707247447952216 0.7109822671156004 0.8479139154160982  0.13693164830049775  8.522042428376535  1.5621574676582402\n9   GBPUSD            6M             3M         5 13.551002214839423 12.332022369878183 -1.2189798449612397  2.065883388704319 1.7782875968992249   -0.287595791805094 10.432702547065338 -3.1182996677740853\n10  USDJPY            6M             3M         1 7.0114821111111105  7.129895903614457 0.11841379250334683 0.8994555555555556 1.0973732530120481  0.19791769745649257  8.525290963855422  1.5138088527443117\n14  USDJPY            6M             3M         5 12.419338555555555 12.168630555555556 -0.2507079999999995 2.3996353333333333 2.0201765555555555  -0.3794587777777778 11.430402444444445 -0.9889361111111103\n20  AUDUSD            6M             3M         1  8.280873806881244  8.789982978723403  0.5091091718421588 0.7751552719200888 0.9820999999999999  0.20694472807991104 11.489566223404255   3.208692416523011\n24  AUDUSD            6M             3M         5 16.425910099889013 15.272494450610433   -1.15341564927858 2.7302830188679246  2.441836847946726  -0.2884461709211985 12.799480799112096  -3.626429300776916\n50  USDMXN            6M             3M         1            8.57173   10.9341462585034  2.3624162585033996 1.1949306666666666 1.7413643990929708   0.5464337324263042 13.867930839002266   5.296200839002266\n54  USDMXN            6M             3M         5  17.12360975609756 14.956843680709534 -2.1667660753880273 3.6667738359201776 3.1964467849223945 -0.47032705099778305 11.861972283813747  -5.261637472283814",
      "text/html": "<div>\n<style scoped>\n    .dataframe tbody tr th:only-of-type {\n        vertical-align: middle;\n    }\n\n    .dataframe tbody tr th {\n        vertical-align: top;\n    }\n\n    .dataframe thead th {\n        text-align: right;\n    }\n</style>\n<table border=\"1\" class=\"dataframe\">\n  <thead>\n    <tr style=\"text-align: right;\">\n      <th></th>\n      <th>pair</th>\n      <th>implied_tenor</th>\n      <th>realised_tenor</th>\n      <th>quantile</th>\n      <th>impl_pre</th>\n      <th>impl_post</th>\n      <th>imp_chg</th>\n      <th>bfl_pre</th>\n      <th>bfl_post</th>\n      <th>bfl_chg</th>\n      <th>real</th>\n      <th>value</th>\n    </tr>\n  </thead>\n  <tbody>\n    <tr>\n      <th>0</th>\n      <td>EURUSD</td>\n      <td>6M</td>\n      <td>3M</td>\n      <td>1</td>\n      <td>6.234244754464285</td>\n      <td>6.522676502732241</td>\n      <td>0.28843174826795615</td>\n      <td>0.6303487723214286</td>\n      <td>0.8643461748633878</td>\n      <td>0.23399740254195922</td>\n      <td>8.10554918032787</td>\n      <td>1.8713044258635847</td>\n    </tr>\n    <tr>\n      <th>4</th>\n      <td>EURUSD</td>\n      <td>6M</td>\n      <td>3M</td>\n      <td>5</td>\n      <td>13.715898442714126</td>\n      <td>13.011587764182424</td>\n      <td>-0.7043106785317015</td>\n      <td>2.0500454949944382</td>\n      <td>1.8093646273637374</td>\n      <td>-0.24068086763070085</td>\n      <td>10.43747274749722</td>\n      <td>-3.2784256952169066</td>\n    </tr>\n    <tr>\n      <th>5</th>\n      <td>GBPUSD</td>\n      <td>6M</td>\n      <td>3M</td>\n      <td>1</td>\n      <td>6.959884960718295</td>\n      <td>7.306957435197817</td>\n      <td>0.34707247447952216</td>\n      <td>0.7109822671156004</td>\n      <td>0.8479139154160982</td>\n      <td>0.13693164830049775</td>\n      <td>8.522042428376535</td>\n      <td>1.5621574676582402</td>\n    </tr>\n    <tr>\n      <th>9</th>\n      <td>GBPUSD</td>\n      <td>6M</td>\n      <td>3M</td>\n      <td>5</td>\n      <td>13.551002214839423</td>\n      <td>12.332022369878183</td>\n      <td>-1.2189798449612397</td>\n      <td>2.065883388704319</td>\n      <td>1.7782875968992249</td>\n      <td>-0.287595791805094</td>\n      <td>10.432702547065338</td>\n      <td>-3.1182996677740853</td>\n    </tr>\n    <tr>\n      <th>10</th>\n      <td>USDJPY</td>\n      <td>6M</td>\n      <td>3M</td>\n      <td>1</td>\n      <td>7.0114821111111105</td>\n      <td>7.129895903614457</td>\n      <td>0.11841379250334683</td>\n      <td>0.8994555555555556</td>\n      <td>1.0973732530120481</td>\n      <td>0.19791769745649257</td>\n      <td>8.525290963855422</td>\n      <td>1.5138088527443117</td>\n    </tr>\n    <tr>\n      <th>14</th>\n      <td>USDJPY</td>\n      <td>6M</td>\n      <td>3M</td>\n      <td>5</td>\n      <td>12.419338555555555</td>\n      <td>12.168630555555556</td>\n      <td>-0.2507079999999995</td>\n      <td>2.3996353333333333</td>\n      <td>2.0201765555555555</td>\n      <td>-0.3794587777777778</td>\n      <td>11.430402444444445</td>\n      <td>-0.9889361111111103</td>\n    </tr>\n    <tr>\n      <th>20</th>\n      <td>AUDUSD</td>\n      <td>6M</td>\n      <td>3M</td>\n      <td>1</td>\n      <td>8.280873806881244</td>\n      <td>8.789982978723403</td>\n      <td>0.5091091718421588</td>\n      <td>0.7751552719200888</td>\n      <td>0.9820999999999999</td>\n      <td>0.20694472807991104</td>\n      <td>11.489566223404255</td>\n      <td>3.208692416523011</td>\n    </tr>\n    <tr>\n      <th>24</th>\n      <td>AUDUSD</td>\n      <td>6M</td>\n      <td>3M</td>\n      <td>5</td>\n      <td>16.425910099889013</td>\n      <td>15.272494450610433</td>\n      <td>-1.15341564927858</td>\n      <td>2.7302830188679246</td>\n      <td>2.441836847946726</td>\n      <td>-0.2884461709211985</td>\n      <td>12.799480799112096</td>\n      <td>-3.626429300776916</td>\n    </tr>\n    <tr>\n      <th>50</th>\n      <td>USDMXN</td>\n      <td>6M</td>\n      <td>3M</td>\n      <td>1</td>\n      <td>8.57173</td>\n      <td>10.9341462585034</td>\n      <td>2.3624162585033996</td>\n      <td>1.1949306666666666</td>\n      <td>1.7413643990929708</td>\n      <td>0.5464337324263042</td>\n      <td>13.867930839002266</td>\n      <td>5.296200839002266</td>\n    </tr>\n    <tr>\n      <th>54</th>\n      <td>USDMXN</td>\n      <td>6M</td>\n      <td>3M</td>\n      <td>5</td>\n      <td>17.12360975609756</td>\n      <td>14.956843680709534</td>\n      <td>-2.1667660753880273</td>\n      <td>3.6667738359201776</td>\n      <td>3.1964467849223945</td>\n      <td>-0.47032705099778305</td>\n      <td>11.861972283813747</td>\n      <td>-5.261637472283814</td>\n    </tr>\n  </tbody>\n</table>\n</div>"
     },
     "execution_count": 53,
     "metadata": {},
     "output_type": "execute_result"
    }
   ],
   "source": [
    "df1[df1['pair'].isin(['EURUSD','GBPUSD','USDJPY','AUDUSD','USDMXN'])]"
   ],
   "metadata": {
    "collapsed": false,
    "ExecuteTime": {
     "end_time": "2024-03-19T18:14:09.786158500Z",
     "start_time": "2024-03-19T18:14:09.728159Z"
    }
   }
  },
  {
   "cell_type": "code",
   "execution_count": 65,
   "outputs": [
    {
     "data": {
      "text/plain": "25"
     },
     "execution_count": 65,
     "metadata": {},
     "output_type": "execute_result"
    }
   ],
   "source": [
    "len(pair)"
   ],
   "metadata": {
    "collapsed": false,
    "ExecuteTime": {
     "end_time": "2024-03-19T18:27:58.496578200Z",
     "start_time": "2024-03-19T18:27:58.430611600Z"
    }
   }
  },
  {
   "cell_type": "code",
   "execution_count": null,
   "outputs": [],
   "source": [],
   "metadata": {
    "collapsed": false
   }
  }
 ],
 "metadata": {
  "kernelspec": {
   "display_name": "Python 3",
   "language": "python",
   "name": "python3"
  },
  "language_info": {
   "codemirror_mode": {
    "name": "ipython",
    "version": 2
   },
   "file_extension": ".py",
   "mimetype": "text/x-python",
   "name": "python",
   "nbconvert_exporter": "python",
   "pygments_lexer": "ipython2",
   "version": "2.7.6"
  }
 },
 "nbformat": 4,
 "nbformat_minor": 0
}
