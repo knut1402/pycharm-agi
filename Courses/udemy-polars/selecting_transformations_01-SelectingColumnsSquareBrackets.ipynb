{
 "cells": [
  {
   "cell_type": "markdown",
   "id": "b06a7473-8d52-4c0d-b469-37add3272a53",
   "metadata": {},
   "source": [
    "# Selecting columns 1: using `[]`\n",
    "By the end of this lecture you will be able to:\n",
    "- select a column or columns with `[]` indexing\n",
    "- select rows and columns with `[]` indexing"
   ]
  },
  {
   "cell_type": "code",
   "execution_count": 1,
   "id": "9fd758ec-0727-4c1e-87ae-04fd47b267b6",
   "metadata": {
    "tags": [],
    "ExecuteTime": {
     "end_time": "2024-03-04T13:33:18.906523600Z",
     "start_time": "2024-03-04T13:33:18.671036100Z"
    }
   },
   "outputs": [],
   "source": [
    "import polars as pl"
   ]
  },
  {
   "cell_type": "code",
   "execution_count": 2,
   "id": "43c1d48b-a1cc-4374-bfd5-83817c491923",
   "metadata": {
    "tags": [],
    "ExecuteTime": {
     "end_time": "2024-03-04T13:33:20.725393700Z",
     "start_time": "2024-03-04T13:33:20.708357900Z"
    }
   },
   "outputs": [],
   "source": [
    "csv_file = \"data_titanic.csv\""
   ]
  },
  {
   "cell_type": "code",
   "execution_count": 3,
   "id": "23ec4b89-5819-4654-a3c8-d43a7a7b31fd",
   "metadata": {
    "tags": [],
    "ExecuteTime": {
     "end_time": "2024-03-04T13:33:23.253711500Z",
     "start_time": "2024-03-04T13:33:22.115132500Z"
    }
   },
   "outputs": [
    {
     "data": {
      "text/plain": "shape: (3, 12)\n┌─────────────┬──────────┬────────┬───────────────────┬───┬───────────┬─────────┬───────┬──────────┐\n│ PassengerId ┆ Survived ┆ Pclass ┆ Name              ┆ … ┆ Ticket    ┆ Fare    ┆ Cabin ┆ Embarked │\n│ ---         ┆ ---      ┆ ---    ┆ ---               ┆   ┆ ---       ┆ ---     ┆ ---   ┆ ---      │\n│ i64         ┆ i64      ┆ i64    ┆ str               ┆   ┆ str       ┆ f64     ┆ str   ┆ str      │\n╞═════════════╪══════════╪════════╪═══════════════════╪═══╪═══════════╪═════════╪═══════╪══════════╡\n│ 1           ┆ 0        ┆ 3      ┆ Braund, Mr. Owen  ┆ … ┆ A/5 21171 ┆ 7.25    ┆ null  ┆ S        │\n│             ┆          ┆        ┆ Harris            ┆   ┆           ┆         ┆       ┆          │\n│ 2           ┆ 1        ┆ 1      ┆ Cumings, Mrs.     ┆ … ┆ PC 17599  ┆ 71.2833 ┆ C85   ┆ C        │\n│             ┆          ┆        ┆ John Bradley      ┆   ┆           ┆         ┆       ┆          │\n│             ┆          ┆        ┆ (Flor…            ┆   ┆           ┆         ┆       ┆          │\n│ 3           ┆ 1        ┆ 3      ┆ Heikkinen, Miss.  ┆ … ┆ STON/O2.  ┆ 7.925   ┆ null  ┆ S        │\n│             ┆          ┆        ┆ Laina             ┆   ┆ 3101282   ┆         ┆       ┆          │\n└─────────────┴──────────┴────────┴───────────────────┴───┴───────────┴─────────┴───────┴──────────┘",
      "text/html": "<div><style>\n.dataframe > thead > tr,\n.dataframe > tbody > tr {\n  text-align: right;\n  white-space: pre-wrap;\n}\n</style>\n<small>shape: (3, 12)</small><table border=\"1\" class=\"dataframe\"><thead><tr><th>PassengerId</th><th>Survived</th><th>Pclass</th><th>Name</th><th>Sex</th><th>Age</th><th>SibSp</th><th>Parch</th><th>Ticket</th><th>Fare</th><th>Cabin</th><th>Embarked</th></tr><tr><td>i64</td><td>i64</td><td>i64</td><td>str</td><td>str</td><td>f64</td><td>i64</td><td>i64</td><td>str</td><td>f64</td><td>str</td><td>str</td></tr></thead><tbody><tr><td>1</td><td>0</td><td>3</td><td>&quot;Braund, Mr. Ow…</td><td>&quot;male&quot;</td><td>22.0</td><td>1</td><td>0</td><td>&quot;A/5 21171&quot;</td><td>7.25</td><td>null</td><td>&quot;S&quot;</td></tr><tr><td>2</td><td>1</td><td>1</td><td>&quot;Cumings, Mrs. …</td><td>&quot;female&quot;</td><td>38.0</td><td>1</td><td>0</td><td>&quot;PC 17599&quot;</td><td>71.2833</td><td>&quot;C85&quot;</td><td>&quot;C&quot;</td></tr><tr><td>3</td><td>1</td><td>3</td><td>&quot;Heikkinen, Mis…</td><td>&quot;female&quot;</td><td>26.0</td><td>0</td><td>0</td><td>&quot;STON/O2. 31012…</td><td>7.925</td><td>null</td><td>&quot;S&quot;</td></tr></tbody></table></div>"
     },
     "execution_count": 3,
     "metadata": {},
     "output_type": "execute_result"
    }
   ],
   "source": [
    "df = pl.read_csv(csv_file)\n",
    "df.head(3)"
   ]
  },
  {
   "cell_type": "markdown",
   "id": "5273bbee-4c37-4847-985b-f28b949dcdd6",
   "metadata": {},
   "source": [
    "## Choosing columns with square brackets\n",
    "\n",
    "We can choose a column with a string in `[]`"
   ]
  },
  {
   "cell_type": "code",
   "execution_count": 4,
   "id": "947a7318-66b7-4116-920f-c2b50d118045",
   "metadata": {
    "tags": [],
    "ExecuteTime": {
     "end_time": "2024-03-04T13:33:40.168954200Z",
     "start_time": "2024-03-04T13:33:40.158951900Z"
    }
   },
   "outputs": [
    {
     "data": {
      "text/plain": "shape: (3,)\nSeries: 'Age' [f64]\n[\n\t22.0\n\t38.0\n\t26.0\n]",
      "text/html": "<div><style>\n.dataframe > thead > tr,\n.dataframe > tbody > tr {\n  text-align: right;\n  white-space: pre-wrap;\n}\n</style>\n<small>shape: (3,)</small><table border=\"1\" class=\"dataframe\"><thead><tr><th>Age</th></tr><tr><td>f64</td></tr></thead><tbody><tr><td>22.0</td></tr><tr><td>38.0</td></tr><tr><td>26.0</td></tr></tbody></table></div>"
     },
     "execution_count": 4,
     "metadata": {},
     "output_type": "execute_result"
    }
   ],
   "source": [
    "df['Age'].head(3)"
   ]
  },
  {
   "cell_type": "markdown",
   "id": "585cd76c-4245-41ae-8160-f8e93c54bb3a",
   "metadata": {},
   "source": [
    "The output is a `Series`."
   ]
  },
  {
   "cell_type": "markdown",
   "id": "60d9915c-f4e6-4191-aae5-b9055066df1b",
   "metadata": {},
   "source": [
    "We can choose a column with a list of strings in `[]` - the output is a `DataFrame`"
   ]
  },
  {
   "cell_type": "code",
   "execution_count": 5,
   "id": "b9c3de88-109a-4ff4-9fe0-90c0fd8bd7f2",
   "metadata": {
    "tags": [],
    "ExecuteTime": {
     "end_time": "2024-03-04T13:33:52.802430900Z",
     "start_time": "2024-03-04T13:33:52.755737300Z"
    }
   },
   "outputs": [
    {
     "data": {
      "text/plain": "shape: (3, 2)\n┌──────────┬──────┐\n│ Survived ┆ Age  │\n│ ---      ┆ ---  │\n│ i64      ┆ f64  │\n╞══════════╪══════╡\n│ 0        ┆ 22.0 │\n│ 1        ┆ 38.0 │\n│ 1        ┆ 26.0 │\n└──────────┴──────┘",
      "text/html": "<div><style>\n.dataframe > thead > tr,\n.dataframe > tbody > tr {\n  text-align: right;\n  white-space: pre-wrap;\n}\n</style>\n<small>shape: (3, 2)</small><table border=\"1\" class=\"dataframe\"><thead><tr><th>Survived</th><th>Age</th></tr><tr><td>i64</td><td>f64</td></tr></thead><tbody><tr><td>0</td><td>22.0</td></tr><tr><td>1</td><td>38.0</td></tr><tr><td>1</td><td>26.0</td></tr></tbody></table></div>"
     },
     "execution_count": 5,
     "metadata": {},
     "output_type": "execute_result"
    }
   ],
   "source": [
    "df[['Survived','Age']].head(3)"
   ]
  },
  {
   "cell_type": "markdown",
   "id": "0aea62e1-efe2-4f6e-b85a-d3590c07086b",
   "metadata": {},
   "source": [
    "## Choosing rows and columns with `[]`\n",
    "We can choose rows and columns together with `[]`"
   ]
  },
  {
   "cell_type": "code",
   "execution_count": 6,
   "id": "6422fa9e-c96a-4867-87c6-024059051620",
   "metadata": {
    "tags": [],
    "ExecuteTime": {
     "end_time": "2024-03-04T13:33:55.824885500Z",
     "start_time": "2024-03-04T13:33:55.736795900Z"
    }
   },
   "outputs": [
    {
     "data": {
      "text/plain": "22.0"
     },
     "execution_count": 6,
     "metadata": {},
     "output_type": "execute_result"
    }
   ],
   "source": [
    "df[0,\"Age\"]"
   ]
  },
  {
   "cell_type": "markdown",
   "id": "16e97e5e-0fa1-49fd-9f65-f5171d8d925a",
   "metadata": {},
   "source": [
    "Python interprets values separate by a comma as a `tuple`"
   ]
  },
  {
   "cell_type": "code",
   "execution_count": 7,
   "id": "59c3f02f-e70d-46fc-a696-a6e34ee06351",
   "metadata": {
    "tags": [],
    "ExecuteTime": {
     "end_time": "2024-03-04T13:34:11.625316500Z",
     "start_time": "2024-03-04T13:34:11.591314200Z"
    }
   },
   "outputs": [
    {
     "data": {
      "text/plain": "(0, 'Age')"
     },
     "execution_count": 7,
     "metadata": {},
     "output_type": "execute_result"
    }
   ],
   "source": [
    "0,\"Age\""
   ]
  },
  {
   "cell_type": "markdown",
   "id": "5271c579-04cb-41a0-9914-72cbc16446b5",
   "metadata": {},
   "source": [
    "So underneath the hood this case with two elements is really passing a `tuple` inside `[]`"
   ]
  },
  {
   "cell_type": "code",
   "execution_count": 8,
   "id": "b3cb494d-d5c6-4e9a-abf2-e005d1e32587",
   "metadata": {
    "tags": [],
    "ExecuteTime": {
     "end_time": "2024-03-04T13:34:13.183885200Z",
     "start_time": "2024-03-04T13:34:13.060884500Z"
    }
   },
   "outputs": [
    {
     "data": {
      "text/plain": "22.0"
     },
     "execution_count": 8,
     "metadata": {},
     "output_type": "execute_result"
    }
   ],
   "source": [
    "df[(0,\"Age\")]"
   ]
  },
  {
   "cell_type": "markdown",
   "id": "89d79f9a-fde5-46f5-9b8d-3be1a0803e3e",
   "metadata": {},
   "source": [
    "We can still pass lists for either element inside `[]`"
   ]
  },
  {
   "cell_type": "code",
   "execution_count": 9,
   "id": "a2cb1410-cae1-4ccd-bd01-46e633a234b6",
   "metadata": {
    "tags": [],
    "ExecuteTime": {
     "end_time": "2024-03-04T13:34:22.377597700Z",
     "start_time": "2024-03-04T13:34:22.353565400Z"
    }
   },
   "outputs": [
    {
     "data": {
      "text/plain": "shape: (2, 2)\n┌──────┬─────────┐\n│ Age  ┆ Fare    │\n│ ---  ┆ ---     │\n│ f64  ┆ f64     │\n╞══════╪═════════╡\n│ 22.0 ┆ 7.25    │\n│ 38.0 ┆ 71.2833 │\n└──────┴─────────┘",
      "text/html": "<div><style>\n.dataframe > thead > tr,\n.dataframe > tbody > tr {\n  text-align: right;\n  white-space: pre-wrap;\n}\n</style>\n<small>shape: (2, 2)</small><table border=\"1\" class=\"dataframe\"><thead><tr><th>Age</th><th>Fare</th></tr><tr><td>f64</td><td>f64</td></tr></thead><tbody><tr><td>22.0</td><td>7.25</td></tr><tr><td>38.0</td><td>71.2833</td></tr></tbody></table></div>"
     },
     "execution_count": 9,
     "metadata": {},
     "output_type": "execute_result"
    }
   ],
   "source": [
    "df[[0,1],[\"Age\",\"Fare\"]]"
   ]
  },
  {
   "cell_type": "markdown",
   "id": "e7becb02-8a9b-4d13-a8b0-4368c945a7b5",
   "metadata": {},
   "source": [
    "The basic rules are:\n",
    "- if we pass just numeric values we select rows\n",
    "- if we pass just strings we select columns\n",
    "- if we pass a tuple like `[numeric,string`] we select rows and columns"
   ]
  },
  {
   "cell_type": "markdown",
   "id": "a782d218-b525-40cf-b052-07ab4713c84f",
   "metadata": {},
   "source": [
    "### Numeric indexing\n",
    "We can use numeric indexing for columns when we pass a `tuple`"
   ]
  },
  {
   "cell_type": "code",
   "execution_count": 10,
   "id": "cc250efd-a74b-4944-a77e-c91955933731",
   "metadata": {
    "tags": [],
    "ExecuteTime": {
     "end_time": "2024-03-04T13:35:20.559610800Z",
     "start_time": "2024-03-04T13:35:20.507608400Z"
    }
   },
   "outputs": [
    {
     "data": {
      "text/plain": "shape: (2, 5)\n┌──────────┬────────┬───────────────────────────────────┬────────┬──────┐\n│ Survived ┆ Pclass ┆ Name                              ┆ Sex    ┆ Age  │\n│ ---      ┆ ---    ┆ ---                               ┆ ---    ┆ ---  │\n│ i64      ┆ i64    ┆ str                               ┆ str    ┆ f64  │\n╞══════════╪════════╪═══════════════════════════════════╪════════╪══════╡\n│ 0        ┆ 3      ┆ Braund, Mr. Owen Harris           ┆ male   ┆ 22.0 │\n│ 1        ┆ 1      ┆ Cumings, Mrs. John Bradley (Flor… ┆ female ┆ 38.0 │\n└──────────┴────────┴───────────────────────────────────┴────────┴──────┘",
      "text/html": "<div><style>\n.dataframe > thead > tr,\n.dataframe > tbody > tr {\n  text-align: right;\n  white-space: pre-wrap;\n}\n</style>\n<small>shape: (2, 5)</small><table border=\"1\" class=\"dataframe\"><thead><tr><th>Survived</th><th>Pclass</th><th>Name</th><th>Sex</th><th>Age</th></tr><tr><td>i64</td><td>i64</td><td>str</td><td>str</td><td>f64</td></tr></thead><tbody><tr><td>0</td><td>3</td><td>&quot;Braund, Mr. Ow…</td><td>&quot;male&quot;</td><td>22.0</td></tr><tr><td>1</td><td>1</td><td>&quot;Cumings, Mrs. …</td><td>&quot;female&quot;</td><td>38.0</td></tr></tbody></table></div>"
     },
     "execution_count": 10,
     "metadata": {},
     "output_type": "execute_result"
    }
   ],
   "source": [
    "df[:, 1:6].head(2)"
   ]
  },
  {
   "cell_type": "markdown",
   "id": "19ce6a19-b5d1-4ccb-8005-e62e0a5770ee",
   "metadata": {},
   "source": [
    "### Slice\n",
    "We can choose columns with a `slice` into the list in `df.columns` "
   ]
  },
  {
   "cell_type": "code",
   "execution_count": 11,
   "id": "daee6d9b-73ca-4de8-b8b3-bf423b68769a",
   "metadata": {
    "tags": [],
    "ExecuteTime": {
     "end_time": "2024-03-04T13:35:29.452171100Z",
     "start_time": "2024-03-04T13:35:29.419106300Z"
    }
   },
   "outputs": [
    {
     "data": {
      "text/plain": "shape: (2, 5)\n┌──────────┬────────┬───────────────────────────────────┬────────┬──────┐\n│ Survived ┆ Pclass ┆ Name                              ┆ Sex    ┆ Age  │\n│ ---      ┆ ---    ┆ ---                               ┆ ---    ┆ ---  │\n│ i64      ┆ i64    ┆ str                               ┆ str    ┆ f64  │\n╞══════════╪════════╪═══════════════════════════════════╪════════╪══════╡\n│ 0        ┆ 3      ┆ Braund, Mr. Owen Harris           ┆ male   ┆ 22.0 │\n│ 1        ┆ 1      ┆ Cumings, Mrs. John Bradley (Flor… ┆ female ┆ 38.0 │\n└──────────┴────────┴───────────────────────────────────┴────────┴──────┘",
      "text/html": "<div><style>\n.dataframe > thead > tr,\n.dataframe > tbody > tr {\n  text-align: right;\n  white-space: pre-wrap;\n}\n</style>\n<small>shape: (2, 5)</small><table border=\"1\" class=\"dataframe\"><thead><tr><th>Survived</th><th>Pclass</th><th>Name</th><th>Sex</th><th>Age</th></tr><tr><td>i64</td><td>i64</td><td>str</td><td>str</td><td>f64</td></tr></thead><tbody><tr><td>0</td><td>3</td><td>&quot;Braund, Mr. Ow…</td><td>&quot;male&quot;</td><td>22.0</td></tr><tr><td>1</td><td>1</td><td>&quot;Cumings, Mrs. …</td><td>&quot;female&quot;</td><td>38.0</td></tr></tbody></table></div>"
     },
     "execution_count": 11,
     "metadata": {},
     "output_type": "execute_result"
    }
   ],
   "source": [
    "df[:2, \"Survived\":\"Age\"]"
   ]
  },
  {
   "cell_type": "markdown",
   "id": "c7ee8c91-cfd2-42a4-8c15-cc0e6a2215f7",
   "metadata": {},
   "source": [
    "## Creating a column with `[]`?\n",
    "We can't create a column with `[]`"
   ]
  },
  {
   "cell_type": "code",
   "execution_count": 12,
   "id": "565f8f0e-b6de-4f03-8bba-e347eb96588b",
   "metadata": {
    "tags": [],
    "ExecuteTime": {
     "end_time": "2024-03-04T13:35:45.480824400Z",
     "start_time": "2024-03-04T13:35:44.033410700Z"
    }
   },
   "outputs": [
    {
     "ename": "TypeError",
     "evalue": "DataFrame object does not support `Series` assignment by index\n\nUse `DataFrame.with_columns`.",
     "output_type": "error",
     "traceback": [
      "\u001B[1;31m---------------------------------------------------------------------------\u001B[0m",
      "\u001B[1;31mTypeError\u001B[0m                                 Traceback (most recent call last)",
      "Cell \u001B[1;32mIn[12], line 1\u001B[0m\n\u001B[1;32m----> 1\u001B[0m df[\u001B[38;5;124m\"\u001B[39m\u001B[38;5;124mconstant\u001B[39m\u001B[38;5;124m\"\u001B[39m] \u001B[38;5;241m=\u001B[39m \u001B[38;5;241m3\u001B[39m\n",
      "File \u001B[1;32mC:\\winapp\\Anaconda\\envs\\pythonProject\\lib\\site-packages\\polars\\dataframe\\frame.py:1740\u001B[0m, in \u001B[0;36mDataFrame.__setitem__\u001B[1;34m(self, key, value)\u001B[0m\n\u001B[0;32m   1735\u001B[0m \u001B[38;5;28;01mif\u001B[39;00m \u001B[38;5;28misinstance\u001B[39m(key, \u001B[38;5;28mstr\u001B[39m):\n\u001B[0;32m   1736\u001B[0m     msg \u001B[38;5;241m=\u001B[39m (\n\u001B[0;32m   1737\u001B[0m         \u001B[38;5;124m\"\u001B[39m\u001B[38;5;124mDataFrame object does not support `Series` assignment by index\u001B[39m\u001B[38;5;124m\"\u001B[39m\n\u001B[0;32m   1738\u001B[0m         \u001B[38;5;124m\"\u001B[39m\u001B[38;5;130;01m\\n\u001B[39;00m\u001B[38;5;130;01m\\n\u001B[39;00m\u001B[38;5;124mUse `DataFrame.with_columns`.\u001B[39m\u001B[38;5;124m\"\u001B[39m\n\u001B[0;32m   1739\u001B[0m     )\n\u001B[1;32m-> 1740\u001B[0m     \u001B[38;5;28;01mraise\u001B[39;00m \u001B[38;5;167;01mTypeError\u001B[39;00m(msg)\n\u001B[0;32m   1742\u001B[0m \u001B[38;5;66;03m# df[[\"C\", \"D\"]]\u001B[39;00m\n\u001B[0;32m   1743\u001B[0m \u001B[38;5;28;01melif\u001B[39;00m \u001B[38;5;28misinstance\u001B[39m(key, \u001B[38;5;28mlist\u001B[39m):\n\u001B[0;32m   1744\u001B[0m     \u001B[38;5;66;03m# TODO: Use python sequence constructors\u001B[39;00m\n",
      "\u001B[1;31mTypeError\u001B[0m: DataFrame object does not support `Series` assignment by index\n\nUse `DataFrame.with_columns`."
     ]
    }
   ],
   "source": [
    " df[\"constant\"] = 3"
   ]
  },
  {
   "cell_type": "markdown",
   "id": "7db8249f-f94e-4df1-9499-c3a65ce8fae4",
   "metadata": {},
   "source": [
    "To create a column we use the `with_columns` method which we will meet later in this section."
   ]
  },
  {
   "cell_type": "markdown",
   "id": "7f478e9c-3955-4f66-adb3-d0dc9afddea0",
   "metadata": {},
   "source": [
    "# Exercises\n",
    "\n",
    "In the exercises you will develop your understanding of:\n",
    "- selecting columns using `[]`\n",
    "- selecing rows and columns using `[]`\n"
   ]
  },
  {
   "cell_type": "markdown",
   "id": "c6ff209d-eb8d-479c-bcea-d29ec24fd392",
   "metadata": {},
   "source": [
    "### Exercise 1\n",
    "\n",
    "Choose the `Name` column as a `Series`"
   ]
  },
  {
   "cell_type": "code",
   "execution_count": 14,
   "id": "e26d45cc-dba2-4437-a99b-8a981c1370ac",
   "metadata": {
    "tags": [],
    "ExecuteTime": {
     "end_time": "2024-03-04T13:36:20.198015800Z",
     "start_time": "2024-03-04T13:36:20.105016Z"
    }
   },
   "outputs": [
    {
     "data": {
      "text/plain": "shape: (3,)\nSeries: 'Name' [str]\n[\n\t\"Braund, Mr. Ow…\n\t\"Cumings, Mrs. …\n\t\"Heikkinen, Mis…\n]",
      "text/html": "<div><style>\n.dataframe > thead > tr,\n.dataframe > tbody > tr {\n  text-align: right;\n  white-space: pre-wrap;\n}\n</style>\n<small>shape: (3,)</small><table border=\"1\" class=\"dataframe\"><thead><tr><th>Name</th></tr><tr><td>str</td></tr></thead><tbody><tr><td>&quot;Braund, Mr. Ow…</td></tr><tr><td>&quot;Cumings, Mrs. …</td></tr><tr><td>&quot;Heikkinen, Mis…</td></tr></tbody></table></div>"
     },
     "execution_count": 14,
     "metadata": {},
     "output_type": "execute_result"
    }
   ],
   "source": [
    "df = pl.read_csv(csv_file)\n",
    "df['Name'].head(3)"
   ]
  },
  {
   "cell_type": "markdown",
   "id": "1c4d58ab-b292-486e-97b7-a875606ce329",
   "metadata": {},
   "source": [
    "Choose the `Name` and `Fare` columns"
   ]
  },
  {
   "cell_type": "code",
   "execution_count": 15,
   "id": "7de51f7f-3144-4cdf-9c4e-d40340ff6e88",
   "metadata": {
    "tags": [],
    "ExecuteTime": {
     "end_time": "2024-03-04T13:36:37.890113600Z",
     "start_time": "2024-03-04T13:36:37.851115500Z"
    }
   },
   "outputs": [
    {
     "data": {
      "text/plain": "shape: (3, 2)\n┌───────────────────────────────────┬─────────┐\n│ Name                              ┆ Fare    │\n│ ---                               ┆ ---     │\n│ str                               ┆ f64     │\n╞═══════════════════════════════════╪═════════╡\n│ Braund, Mr. Owen Harris           ┆ 7.25    │\n│ Cumings, Mrs. John Bradley (Flor… ┆ 71.2833 │\n│ Heikkinen, Miss. Laina            ┆ 7.925   │\n└───────────────────────────────────┴─────────┘",
      "text/html": "<div><style>\n.dataframe > thead > tr,\n.dataframe > tbody > tr {\n  text-align: right;\n  white-space: pre-wrap;\n}\n</style>\n<small>shape: (3, 2)</small><table border=\"1\" class=\"dataframe\"><thead><tr><th>Name</th><th>Fare</th></tr><tr><td>str</td><td>f64</td></tr></thead><tbody><tr><td>&quot;Braund, Mr. Ow…</td><td>7.25</td></tr><tr><td>&quot;Cumings, Mrs. …</td><td>71.2833</td></tr><tr><td>&quot;Heikkinen, Mis…</td><td>7.925</td></tr></tbody></table></div>"
     },
     "execution_count": 15,
     "metadata": {},
     "output_type": "execute_result"
    }
   ],
   "source": [
    "df = pl.read_csv(csv_file)\n",
    "df[['Name','Fare']].head(3)"
   ]
  },
  {
   "cell_type": "markdown",
   "id": "4695bad9-b4ea-4d9c-95fa-b63bfc7aeeed",
   "metadata": {},
   "source": [
    "Choose all columns from `Name` to `Fare`"
   ]
  },
  {
   "cell_type": "code",
   "execution_count": 21,
   "id": "bd42e0e4-7d5f-4802-afd7-6aebc0f900cf",
   "metadata": {
    "tags": [],
    "ExecuteTime": {
     "end_time": "2024-03-04T13:38:45.086105Z",
     "start_time": "2024-03-04T13:38:44.903865400Z"
    }
   },
   "outputs": [
    {
     "data": {
      "text/plain": "shape: (3, 7)\n┌───────────────────────────────────┬────────┬──────┬───────┬───────┬──────────────────┬─────────┐\n│ Name                              ┆ Sex    ┆ Age  ┆ SibSp ┆ Parch ┆ Ticket           ┆ Fare    │\n│ ---                               ┆ ---    ┆ ---  ┆ ---   ┆ ---   ┆ ---              ┆ ---     │\n│ str                               ┆ str    ┆ f64  ┆ i64   ┆ i64   ┆ str              ┆ f64     │\n╞═══════════════════════════════════╪════════╪══════╪═══════╪═══════╪══════════════════╪═════════╡\n│ Braund, Mr. Owen Harris           ┆ male   ┆ 22.0 ┆ 1     ┆ 0     ┆ A/5 21171        ┆ 7.25    │\n│ Cumings, Mrs. John Bradley (Flor… ┆ female ┆ 38.0 ┆ 1     ┆ 0     ┆ PC 17599         ┆ 71.2833 │\n│ Heikkinen, Miss. Laina            ┆ female ┆ 26.0 ┆ 0     ┆ 0     ┆ STON/O2. 3101282 ┆ 7.925   │\n└───────────────────────────────────┴────────┴──────┴───────┴───────┴──────────────────┴─────────┘",
      "text/html": "<div><style>\n.dataframe > thead > tr,\n.dataframe > tbody > tr {\n  text-align: right;\n  white-space: pre-wrap;\n}\n</style>\n<small>shape: (3, 7)</small><table border=\"1\" class=\"dataframe\"><thead><tr><th>Name</th><th>Sex</th><th>Age</th><th>SibSp</th><th>Parch</th><th>Ticket</th><th>Fare</th></tr><tr><td>str</td><td>str</td><td>f64</td><td>i64</td><td>i64</td><td>str</td><td>f64</td></tr></thead><tbody><tr><td>&quot;Braund, Mr. Ow…</td><td>&quot;male&quot;</td><td>22.0</td><td>1</td><td>0</td><td>&quot;A/5 21171&quot;</td><td>7.25</td></tr><tr><td>&quot;Cumings, Mrs. …</td><td>&quot;female&quot;</td><td>38.0</td><td>1</td><td>0</td><td>&quot;PC 17599&quot;</td><td>71.2833</td></tr><tr><td>&quot;Heikkinen, Mis…</td><td>&quot;female&quot;</td><td>26.0</td><td>0</td><td>0</td><td>&quot;STON/O2. 31012…</td><td>7.925</td></tr></tbody></table></div>"
     },
     "execution_count": 21,
     "metadata": {},
     "output_type": "execute_result"
    }
   ],
   "source": [
    "df = pl.read_csv(csv_file)\n",
    "df[:,'Name':'Fare'].head(3)"
   ]
  },
  {
   "cell_type": "markdown",
   "id": "c1c15c07-a563-4368-9e8a-ae2b6628ed49",
   "metadata": {},
   "source": [
    "### Exercise 2\n",
    "Choose the first 3 rows from the `Name` column as a `Series`"
   ]
  },
  {
   "cell_type": "code",
   "execution_count": 17,
   "id": "3979c416-8da6-44cc-8408-a5930159bdd4",
   "metadata": {
    "tags": [],
    "ExecuteTime": {
     "end_time": "2024-03-04T13:37:53.235839900Z",
     "start_time": "2024-03-04T13:37:53.181731200Z"
    }
   },
   "outputs": [
    {
     "data": {
      "text/plain": "shape: (3, 2)\n┌───────────────────────────────────┬─────────┐\n│ Name                              ┆ Fare    │\n│ ---                               ┆ ---     │\n│ str                               ┆ f64     │\n╞═══════════════════════════════════╪═════════╡\n│ Braund, Mr. Owen Harris           ┆ 7.25    │\n│ Cumings, Mrs. John Bradley (Flor… ┆ 71.2833 │\n│ Heikkinen, Miss. Laina            ┆ 7.925   │\n└───────────────────────────────────┴─────────┘",
      "text/html": "<div><style>\n.dataframe > thead > tr,\n.dataframe > tbody > tr {\n  text-align: right;\n  white-space: pre-wrap;\n}\n</style>\n<small>shape: (3, 2)</small><table border=\"1\" class=\"dataframe\"><thead><tr><th>Name</th><th>Fare</th></tr><tr><td>str</td><td>f64</td></tr></thead><tbody><tr><td>&quot;Braund, Mr. Ow…</td><td>7.25</td></tr><tr><td>&quot;Cumings, Mrs. …</td><td>71.2833</td></tr><tr><td>&quot;Heikkinen, Mis…</td><td>7.925</td></tr></tbody></table></div>"
     },
     "execution_count": 17,
     "metadata": {},
     "output_type": "execute_result"
    }
   ],
   "source": [
    "df = pl.read_csv(csv_file)\n",
    "df[:3, ['Name','Fare']]"
   ]
  },
  {
   "cell_type": "markdown",
   "id": "ef5db3f0-1ad1-44cb-b263-a3ed25d3bb9e",
   "metadata": {},
   "source": [
    "Choose the second and third rows of all columns from `Name` to `Fare`"
   ]
  },
  {
   "cell_type": "code",
   "execution_count": null,
   "id": "10e5c421-b201-4654-aa48-0e1e8205688a",
   "metadata": {
    "tags": []
   },
   "outputs": [],
   "source": [
    "df = pl.read_csv(csv_file)\n",
    "df<blank>"
   ]
  },
  {
   "cell_type": "markdown",
   "id": "84205876-bba5-4967-81c9-1fc26b3722e1",
   "metadata": {},
   "source": [
    "## Solutions\n",
    "\n",
    "### Solution to Exercise 1\n",
    "Choose the `Name` column as a `Series`"
   ]
  },
  {
   "cell_type": "code",
   "execution_count": null,
   "id": "5777e105-4862-439b-ae94-81a57dd4487b",
   "metadata": {
    "jupyter": {
     "source_hidden": true
    },
    "tags": []
   },
   "outputs": [],
   "source": [
    "df = pl.read_csv(csv_file)\n",
    "df[\"Name\"].head(3)\n"
   ]
  },
  {
   "cell_type": "markdown",
   "id": "3cc84ad0-993b-472f-b0d2-f8532ff10f9b",
   "metadata": {},
   "source": [
    "Choose the `Name` and `Fare` columns"
   ]
  },
  {
   "cell_type": "code",
   "execution_count": null,
   "id": "c7fb045e-c24b-41e5-8a41-e3a3fdef75c6",
   "metadata": {
    "jupyter": {
     "source_hidden": true
    },
    "tags": []
   },
   "outputs": [],
   "source": [
    "df = pl.read_csv(csv_file)\n",
    "df[[\"Name\",\"Fare\"]].head(3)\n"
   ]
  },
  {
   "cell_type": "markdown",
   "id": "12ff9426-f7b8-4577-a47c-5ba7a544b5a1",
   "metadata": {},
   "source": [
    "### Solution to Exercise 2\n",
    "Choose the first 3 rows from the `Name` column as a `Series`"
   ]
  },
  {
   "cell_type": "code",
   "execution_count": null,
   "id": "45a80476-a66c-49c9-ab11-e25cef9eb925",
   "metadata": {
    "jupyter": {
     "source_hidden": true
    },
    "tags": []
   },
   "outputs": [],
   "source": [
    "df = pl.read_csv(csv_file)\n",
    "df[:3,\"Name\":\"Fare\"]\n"
   ]
  },
  {
   "cell_type": "markdown",
   "id": "1f482157-52b5-4a3d-81d7-364b2000e939",
   "metadata": {},
   "source": [
    "Choose the second and third rows of all columns from `Name` to `Fare`"
   ]
  },
  {
   "cell_type": "code",
   "execution_count": 18,
   "id": "2051e3d8-8534-4b9f-b2e8-5c4752a4a92d",
   "metadata": {
    "jupyter": {
     "source_hidden": true
    },
    "ExecuteTime": {
     "end_time": "2024-03-04T13:38:19.346001500Z",
     "start_time": "2024-03-04T13:38:19.297001800Z"
    }
   },
   "outputs": [
    {
     "data": {
      "text/plain": "shape: (2, 7)\n┌───────────────────────────────────┬────────┬──────┬───────┬───────┬──────────────────┬─────────┐\n│ Name                              ┆ Sex    ┆ Age  ┆ SibSp ┆ Parch ┆ Ticket           ┆ Fare    │\n│ ---                               ┆ ---    ┆ ---  ┆ ---   ┆ ---   ┆ ---              ┆ ---     │\n│ str                               ┆ str    ┆ f64  ┆ i64   ┆ i64   ┆ str              ┆ f64     │\n╞═══════════════════════════════════╪════════╪══════╪═══════╪═══════╪══════════════════╪═════════╡\n│ Cumings, Mrs. John Bradley (Flor… ┆ female ┆ 38.0 ┆ 1     ┆ 0     ┆ PC 17599         ┆ 71.2833 │\n│ Heikkinen, Miss. Laina            ┆ female ┆ 26.0 ┆ 0     ┆ 0     ┆ STON/O2. 3101282 ┆ 7.925   │\n└───────────────────────────────────┴────────┴──────┴───────┴───────┴──────────────────┴─────────┘",
      "text/html": "<div><style>\n.dataframe > thead > tr,\n.dataframe > tbody > tr {\n  text-align: right;\n  white-space: pre-wrap;\n}\n</style>\n<small>shape: (2, 7)</small><table border=\"1\" class=\"dataframe\"><thead><tr><th>Name</th><th>Sex</th><th>Age</th><th>SibSp</th><th>Parch</th><th>Ticket</th><th>Fare</th></tr><tr><td>str</td><td>str</td><td>f64</td><td>i64</td><td>i64</td><td>str</td><td>f64</td></tr></thead><tbody><tr><td>&quot;Cumings, Mrs. …</td><td>&quot;female&quot;</td><td>38.0</td><td>1</td><td>0</td><td>&quot;PC 17599&quot;</td><td>71.2833</td></tr><tr><td>&quot;Heikkinen, Mis…</td><td>&quot;female&quot;</td><td>26.0</td><td>0</td><td>0</td><td>&quot;STON/O2. 31012…</td><td>7.925</td></tr></tbody></table></div>"
     },
     "execution_count": 18,
     "metadata": {},
     "output_type": "execute_result"
    }
   ],
   "source": [
    "df = pl.read_csv(csv_file)\n",
    "df[1:3,\"Name\":\"Fare\"]\n"
   ]
  },
  {
   "cell_type": "code",
   "execution_count": null,
   "outputs": [],
   "source": [],
   "metadata": {
    "collapsed": false
   }
  }
 ],
 "metadata": {
  "kernelspec": {
   "display_name": "Python 3 (ipykernel)",
   "language": "python",
   "name": "python3"
  },
  "language_info": {
   "codemirror_mode": {
    "name": "ipython",
    "version": 3
   },
   "file_extension": ".py",
   "mimetype": "text/x-python",
   "name": "python",
   "nbconvert_exporter": "python",
   "pygments_lexer": "ipython3",
   "version": "3.10.1"
  }
 },
 "nbformat": 4,
 "nbformat_minor": 5
}
