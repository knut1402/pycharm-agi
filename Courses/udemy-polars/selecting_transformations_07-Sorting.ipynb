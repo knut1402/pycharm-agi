{
 "cells": [
  {
   "cell_type": "markdown",
   "id": "63d0d72d-f59c-4197-8e44-05cbe61a8d65",
   "metadata": {},
   "source": [
    "# Sorting and fast-track alogorithms\n",
    "By the end of this lecture you will be able to:\n",
    "- sort a `DataFrame`\n",
    "- sort a column with an expression \n",
    "- take advantage of fast-track algorithms with `set_sorted`\n",
    "\n",
    "In this lecture we learn how to sort both on a `DataFrame` and within an expression. We also introduce the fast-track algorithms on sorted data. The fast-track algorithims are optimisations separate from those of the built-in query optimiser. We see how to take advantage of them here."
   ]
  },
  {
   "cell_type": "code",
   "execution_count": 1,
   "id": "80c3f69f-5f69-4164-b799-807eb155f1e4",
   "metadata": {
    "tags": [],
    "ExecuteTime": {
     "end_time": "2024-03-04T15:40:29.335592200Z",
     "start_time": "2024-03-04T15:40:29.069925700Z"
    }
   },
   "outputs": [],
   "source": [
    "import polars as pl"
   ]
  },
  {
   "cell_type": "markdown",
   "id": "33e76722-4f18-47f4-ae2a-593220e74878",
   "metadata": {},
   "source": [
    "Check out my short youtube video on this topic below"
   ]
  },
  {
   "cell_type": "code",
   "execution_count": 2,
   "id": "abc762f9-a349-4449-a142-4f30e7b3c116",
   "metadata": {
    "ExecuteTime": {
     "end_time": "2024-03-04T15:40:29.349592400Z",
     "start_time": "2024-03-04T15:40:29.320592200Z"
    }
   },
   "outputs": [
    {
     "data": {
      "text/plain": "<IPython.core.display.HTML object>",
      "text/html": "<iframe width=\"560\" height=\"315\" src=\"https://www.youtube.com/embed/oRv1ANrW020?si=LbV4gQpaX--d2106\" title=\"YouTube video player\" frameborder=\"0\" allow=\"accelerometer; autoplay; clipboard-write; encrypted-media; gyroscope; picture-in-picture; web-share\" allowfullscreen></iframe>\n"
     },
     "metadata": {},
     "output_type": "display_data"
    }
   ],
   "source": [
    "%%html\n",
    "<iframe width=\"560\" height=\"315\" src=\"https://www.youtube.com/embed/oRv1ANrW020?si=LbV4gQpaX--d2106\" title=\"YouTube video player\" frameborder=\"0\" allow=\"accelerometer; autoplay; clipboard-write; encrypted-media; gyroscope; picture-in-picture; web-share\" allowfullscreen></iframe>"
   ]
  },
  {
   "cell_type": "code",
   "execution_count": 3,
   "id": "d4c4bc4d-45dc-49a5-a5fa-89741257a246",
   "metadata": {
    "tags": [],
    "ExecuteTime": {
     "end_time": "2024-03-04T15:40:39.906132800Z",
     "start_time": "2024-03-04T15:40:39.873135700Z"
    }
   },
   "outputs": [],
   "source": [
    "csv_file = \"data_titanic.csv\""
   ]
  },
  {
   "cell_type": "code",
   "execution_count": 4,
   "id": "4a4be14f-3e2d-4a7f-b8f2-5d02368828bf",
   "metadata": {
    "tags": [],
    "ExecuteTime": {
     "end_time": "2024-03-04T15:40:44.244107800Z",
     "start_time": "2024-03-04T15:40:44.027604100Z"
    }
   },
   "outputs": [
    {
     "data": {
      "text/plain": "shape: (3, 12)\n┌─────────────┬──────────┬────────┬───────────────────┬───┬───────────┬─────────┬───────┬──────────┐\n│ PassengerId ┆ Survived ┆ Pclass ┆ Name              ┆ … ┆ Ticket    ┆ Fare    ┆ Cabin ┆ Embarked │\n│ ---         ┆ ---      ┆ ---    ┆ ---               ┆   ┆ ---       ┆ ---     ┆ ---   ┆ ---      │\n│ i64         ┆ i64      ┆ i64    ┆ str               ┆   ┆ str       ┆ f64     ┆ str   ┆ str      │\n╞═════════════╪══════════╪════════╪═══════════════════╪═══╪═══════════╪═════════╪═══════╪══════════╡\n│ 1           ┆ 0        ┆ 3      ┆ Braund, Mr. Owen  ┆ … ┆ A/5 21171 ┆ 7.25    ┆ null  ┆ S        │\n│             ┆          ┆        ┆ Harris            ┆   ┆           ┆         ┆       ┆          │\n│ 2           ┆ 1        ┆ 1      ┆ Cumings, Mrs.     ┆ … ┆ PC 17599  ┆ 71.2833 ┆ C85   ┆ C        │\n│             ┆          ┆        ┆ John Bradley      ┆   ┆           ┆         ┆       ┆          │\n│             ┆          ┆        ┆ (Flor…            ┆   ┆           ┆         ┆       ┆          │\n│ 3           ┆ 1        ┆ 3      ┆ Heikkinen, Miss.  ┆ … ┆ STON/O2.  ┆ 7.925   ┆ null  ┆ S        │\n│             ┆          ┆        ┆ Laina             ┆   ┆ 3101282   ┆         ┆       ┆          │\n└─────────────┴──────────┴────────┴───────────────────┴───┴───────────┴─────────┴───────┴──────────┘",
      "text/html": "<div><style>\n.dataframe > thead > tr,\n.dataframe > tbody > tr {\n  text-align: right;\n  white-space: pre-wrap;\n}\n</style>\n<small>shape: (3, 12)</small><table border=\"1\" class=\"dataframe\"><thead><tr><th>PassengerId</th><th>Survived</th><th>Pclass</th><th>Name</th><th>Sex</th><th>Age</th><th>SibSp</th><th>Parch</th><th>Ticket</th><th>Fare</th><th>Cabin</th><th>Embarked</th></tr><tr><td>i64</td><td>i64</td><td>i64</td><td>str</td><td>str</td><td>f64</td><td>i64</td><td>i64</td><td>str</td><td>f64</td><td>str</td><td>str</td></tr></thead><tbody><tr><td>1</td><td>0</td><td>3</td><td>&quot;Braund, Mr. Ow…</td><td>&quot;male&quot;</td><td>22.0</td><td>1</td><td>0</td><td>&quot;A/5 21171&quot;</td><td>7.25</td><td>null</td><td>&quot;S&quot;</td></tr><tr><td>2</td><td>1</td><td>1</td><td>&quot;Cumings, Mrs. …</td><td>&quot;female&quot;</td><td>38.0</td><td>1</td><td>0</td><td>&quot;PC 17599&quot;</td><td>71.2833</td><td>&quot;C85&quot;</td><td>&quot;C&quot;</td></tr><tr><td>3</td><td>1</td><td>3</td><td>&quot;Heikkinen, Mis…</td><td>&quot;female&quot;</td><td>26.0</td><td>0</td><td>0</td><td>&quot;STON/O2. 31012…</td><td>7.925</td><td>null</td><td>&quot;S&quot;</td></tr></tbody></table></div>"
     },
     "execution_count": 4,
     "metadata": {},
     "output_type": "execute_result"
    }
   ],
   "source": [
    "df = pl.read_csv(csv_file)\n",
    "df.head(3)"
   ]
  },
  {
   "cell_type": "markdown",
   "id": "d81cfbd2-c2fc-4416-8037-88ebdf21cd05",
   "metadata": {},
   "source": [
    "We use `pl.Config` to adjust the default so that only 4 rows of a `DataFrame` are printed in this notebook"
   ]
  },
  {
   "cell_type": "code",
   "execution_count": 5,
   "id": "7ebbd0a6-22b2-4d46-bbbf-2be0b6db0419",
   "metadata": {
    "tags": [],
    "ExecuteTime": {
     "end_time": "2024-03-04T15:40:50.374688800Z",
     "start_time": "2024-03-04T15:40:50.259610400Z"
    }
   },
   "outputs": [
    {
     "data": {
      "text/plain": "polars.config.Config"
     },
     "execution_count": 5,
     "metadata": {},
     "output_type": "execute_result"
    }
   ],
   "source": [
    "pl.Config.set_tbl_rows(4)"
   ]
  },
  {
   "cell_type": "markdown",
   "id": "63930f0c-f173-4fdc-9523-f16776dbce1d",
   "metadata": {},
   "source": [
    "## Sorting a `DataFrame`\n",
    "\n",
    "### Using the `sort` method on `DataFrame`\n",
    "\n",
    "We can sort a `DataFrame` on a column with the `sort` method"
   ]
  },
  {
   "cell_type": "code",
   "execution_count": 6,
   "id": "64980609-2c8d-4740-94c7-c21b0f3aca4a",
   "metadata": {
    "tags": [],
    "ExecuteTime": {
     "end_time": "2024-03-04T15:41:02.181140300Z",
     "start_time": "2024-03-04T15:41:02.058176200Z"
    }
   },
   "outputs": [
    {
     "data": {
      "text/plain": "shape: (891, 12)\n┌─────────────┬──────────┬────────┬───────────────────────┬───┬────────┬────────┬───────┬──────────┐\n│ PassengerId ┆ Survived ┆ Pclass ┆ Name                  ┆ … ┆ Ticket ┆ Fare   ┆ Cabin ┆ Embarked │\n│ ---         ┆ ---      ┆ ---    ┆ ---                   ┆   ┆ ---    ┆ ---    ┆ ---   ┆ ---      │\n│ i64         ┆ i64      ┆ i64    ┆ str                   ┆   ┆ str    ┆ f64    ┆ str   ┆ str      │\n╞═════════════╪══════════╪════════╪═══════════════════════╪═══╪════════╪════════╪═══════╪══════════╡\n│ 6           ┆ 0        ┆ 3      ┆ Moran, Mr. James      ┆ … ┆ 330877 ┆ 8.4583 ┆ null  ┆ Q        │\n│ 18          ┆ 1        ┆ 2      ┆ Williams, Mr. Charles ┆ … ┆ 244373 ┆ 13.0   ┆ null  ┆ S        │\n│             ┆          ┆        ┆ Eugene                ┆   ┆        ┆        ┆       ┆          │\n│ …           ┆ …        ┆ …      ┆ …                     ┆ … ┆ …      ┆ …      ┆ …     ┆ …        │\n│ 852         ┆ 0        ┆ 3      ┆ Svensson, Mr. Johan   ┆ … ┆ 347060 ┆ 7.775  ┆ null  ┆ S        │\n│ 631         ┆ 1        ┆ 1      ┆ Barkworth, Mr.        ┆ … ┆ 27042  ┆ 30.0   ┆ A23   ┆ S        │\n│             ┆          ┆        ┆ Algernon Henry Wi…    ┆   ┆        ┆        ┆       ┆          │\n└─────────────┴──────────┴────────┴───────────────────────┴───┴────────┴────────┴───────┴──────────┘",
      "text/html": "<div><style>\n.dataframe > thead > tr,\n.dataframe > tbody > tr {\n  text-align: right;\n  white-space: pre-wrap;\n}\n</style>\n<small>shape: (891, 12)</small><table border=\"1\" class=\"dataframe\"><thead><tr><th>PassengerId</th><th>Survived</th><th>Pclass</th><th>Name</th><th>Sex</th><th>Age</th><th>SibSp</th><th>Parch</th><th>Ticket</th><th>Fare</th><th>Cabin</th><th>Embarked</th></tr><tr><td>i64</td><td>i64</td><td>i64</td><td>str</td><td>str</td><td>f64</td><td>i64</td><td>i64</td><td>str</td><td>f64</td><td>str</td><td>str</td></tr></thead><tbody><tr><td>6</td><td>0</td><td>3</td><td>&quot;Moran, Mr. Jam…</td><td>&quot;male&quot;</td><td>null</td><td>0</td><td>0</td><td>&quot;330877&quot;</td><td>8.4583</td><td>null</td><td>&quot;Q&quot;</td></tr><tr><td>18</td><td>1</td><td>2</td><td>&quot;Williams, Mr. …</td><td>&quot;male&quot;</td><td>null</td><td>0</td><td>0</td><td>&quot;244373&quot;</td><td>13.0</td><td>null</td><td>&quot;S&quot;</td></tr><tr><td>&hellip;</td><td>&hellip;</td><td>&hellip;</td><td>&hellip;</td><td>&hellip;</td><td>&hellip;</td><td>&hellip;</td><td>&hellip;</td><td>&hellip;</td><td>&hellip;</td><td>&hellip;</td><td>&hellip;</td></tr><tr><td>852</td><td>0</td><td>3</td><td>&quot;Svensson, Mr. …</td><td>&quot;male&quot;</td><td>74.0</td><td>0</td><td>0</td><td>&quot;347060&quot;</td><td>7.775</td><td>null</td><td>&quot;S&quot;</td></tr><tr><td>631</td><td>1</td><td>1</td><td>&quot;Barkworth, Mr.…</td><td>&quot;male&quot;</td><td>80.0</td><td>0</td><td>0</td><td>&quot;27042&quot;</td><td>30.0</td><td>&quot;A23&quot;</td><td>&quot;S&quot;</td></tr></tbody></table></div>"
     },
     "execution_count": 6,
     "metadata": {},
     "output_type": "execute_result"
    }
   ],
   "source": [
    "df.sort(\"Age\")"
   ]
  },
  {
   "cell_type": "markdown",
   "id": "a5e13fc0-8c56-4ce4-87ce-5761c2fa82d7",
   "metadata": {},
   "source": [
    "By default `null` values are at the start of the sort. We can move the `nulls` to the end of the sort by setting the `nulls_last` argument to `True`"
   ]
  },
  {
   "cell_type": "code",
   "execution_count": 7,
   "id": "7f3643ea-b9ca-4903-b63c-0f141138c205",
   "metadata": {
    "ExecuteTime": {
     "end_time": "2024-03-04T15:41:15.348397900Z",
     "start_time": "2024-03-04T15:41:15.248401700Z"
    }
   },
   "outputs": [
    {
     "data": {
      "text/plain": "shape: (891, 12)\n┌─────────────┬──────────┬────────┬───────────────────┬───┬────────────┬────────┬───────┬──────────┐\n│ PassengerId ┆ Survived ┆ Pclass ┆ Name              ┆ … ┆ Ticket     ┆ Fare   ┆ Cabin ┆ Embarked │\n│ ---         ┆ ---      ┆ ---    ┆ ---               ┆   ┆ ---        ┆ ---    ┆ ---   ┆ ---      │\n│ i64         ┆ i64      ┆ i64    ┆ str               ┆   ┆ str        ┆ f64    ┆ str   ┆ str      │\n╞═════════════╪══════════╪════════╪═══════════════════╪═══╪════════════╪════════╪═══════╪══════════╡\n│ 804         ┆ 1        ┆ 3      ┆ Thomas, Master.   ┆ … ┆ 2625       ┆ 8.5167 ┆ null  ┆ C        │\n│             ┆          ┆        ┆ Assad Alexander   ┆   ┆            ┆        ┆       ┆          │\n│ 756         ┆ 1        ┆ 2      ┆ Hamalainen,       ┆ … ┆ 250649     ┆ 14.5   ┆ null  ┆ S        │\n│             ┆          ┆        ┆ Master. Viljo     ┆   ┆            ┆        ┆       ┆          │\n│ …           ┆ …        ┆ …      ┆ …                 ┆ … ┆ …          ┆ …      ┆ …     ┆ …        │\n│ 879         ┆ 0        ┆ 3      ┆ Laleff, Mr.       ┆ … ┆ 349217     ┆ 7.8958 ┆ null  ┆ S        │\n│             ┆          ┆        ┆ Kristo            ┆   ┆            ┆        ┆       ┆          │\n│ 889         ┆ 0        ┆ 3      ┆ Johnston, Miss.   ┆ … ┆ W./C. 6607 ┆ 23.45  ┆ null  ┆ S        │\n│             ┆          ┆        ┆ Catherine Helen … ┆   ┆            ┆        ┆       ┆          │\n└─────────────┴──────────┴────────┴───────────────────┴───┴────────────┴────────┴───────┴──────────┘",
      "text/html": "<div><style>\n.dataframe > thead > tr,\n.dataframe > tbody > tr {\n  text-align: right;\n  white-space: pre-wrap;\n}\n</style>\n<small>shape: (891, 12)</small><table border=\"1\" class=\"dataframe\"><thead><tr><th>PassengerId</th><th>Survived</th><th>Pclass</th><th>Name</th><th>Sex</th><th>Age</th><th>SibSp</th><th>Parch</th><th>Ticket</th><th>Fare</th><th>Cabin</th><th>Embarked</th></tr><tr><td>i64</td><td>i64</td><td>i64</td><td>str</td><td>str</td><td>f64</td><td>i64</td><td>i64</td><td>str</td><td>f64</td><td>str</td><td>str</td></tr></thead><tbody><tr><td>804</td><td>1</td><td>3</td><td>&quot;Thomas, Master…</td><td>&quot;male&quot;</td><td>0.42</td><td>0</td><td>1</td><td>&quot;2625&quot;</td><td>8.5167</td><td>null</td><td>&quot;C&quot;</td></tr><tr><td>756</td><td>1</td><td>2</td><td>&quot;Hamalainen, Ma…</td><td>&quot;male&quot;</td><td>0.67</td><td>1</td><td>1</td><td>&quot;250649&quot;</td><td>14.5</td><td>null</td><td>&quot;S&quot;</td></tr><tr><td>&hellip;</td><td>&hellip;</td><td>&hellip;</td><td>&hellip;</td><td>&hellip;</td><td>&hellip;</td><td>&hellip;</td><td>&hellip;</td><td>&hellip;</td><td>&hellip;</td><td>&hellip;</td><td>&hellip;</td></tr><tr><td>879</td><td>0</td><td>3</td><td>&quot;Laleff, Mr. Kr…</td><td>&quot;male&quot;</td><td>null</td><td>0</td><td>0</td><td>&quot;349217&quot;</td><td>7.8958</td><td>null</td><td>&quot;S&quot;</td></tr><tr><td>889</td><td>0</td><td>3</td><td>&quot;Johnston, Miss…</td><td>&quot;female&quot;</td><td>null</td><td>1</td><td>2</td><td>&quot;W./C. 6607&quot;</td><td>23.45</td><td>null</td><td>&quot;S&quot;</td></tr></tbody></table></div>"
     },
     "execution_count": 7,
     "metadata": {},
     "output_type": "execute_result"
    }
   ],
   "source": [
    "df.sort(\"Age\",nulls_last=True)"
   ]
  },
  {
   "cell_type": "markdown",
   "id": "0b6eb77d-17ad-4e44-baf7-0300d0ce7cba",
   "metadata": {},
   "source": [
    "We can sort in reverse order with the `descending` argument - note that the `nulls_last` argument is set to the default of `True` so the `null` rows are first"
   ]
  },
  {
   "cell_type": "code",
   "execution_count": 8,
   "id": "9dabda67-7555-4d3a-bf92-5121bc0db1d1",
   "metadata": {
    "ExecuteTime": {
     "end_time": "2024-03-04T15:41:30.251870500Z",
     "start_time": "2024-03-04T15:41:30.159448800Z"
    }
   },
   "outputs": [
    {
     "data": {
      "text/plain": "shape: (891, 12)\n┌─────────────┬──────────┬────────┬───────────────────┬───┬────────────┬────────┬───────┬──────────┐\n│ PassengerId ┆ Survived ┆ Pclass ┆ Name              ┆ … ┆ Ticket     ┆ Fare   ┆ Cabin ┆ Embarked │\n│ ---         ┆ ---      ┆ ---    ┆ ---               ┆   ┆ ---        ┆ ---    ┆ ---   ┆ ---      │\n│ i64         ┆ i64      ┆ i64    ┆ str               ┆   ┆ str        ┆ f64    ┆ str   ┆ str      │\n╞═════════════╪══════════╪════════╪═══════════════════╪═══╪════════════╪════════╪═══════╪══════════╡\n│ 889         ┆ 0        ┆ 3      ┆ Johnston, Miss.   ┆ … ┆ W./C. 6607 ┆ 23.45  ┆ null  ┆ S        │\n│             ┆          ┆        ┆ Catherine Helen … ┆   ┆            ┆        ┆       ┆          │\n│ 879         ┆ 0        ┆ 3      ┆ Laleff, Mr.       ┆ … ┆ 349217     ┆ 7.8958 ┆ null  ┆ S        │\n│             ┆          ┆        ┆ Kristo            ┆   ┆            ┆        ┆       ┆          │\n│ …           ┆ …        ┆ …      ┆ …                 ┆ … ┆ …          ┆ …      ┆ …     ┆ …        │\n│ 756         ┆ 1        ┆ 2      ┆ Hamalainen,       ┆ … ┆ 250649     ┆ 14.5   ┆ null  ┆ S        │\n│             ┆          ┆        ┆ Master. Viljo     ┆   ┆            ┆        ┆       ┆          │\n│ 804         ┆ 1        ┆ 3      ┆ Thomas, Master.   ┆ … ┆ 2625       ┆ 8.5167 ┆ null  ┆ C        │\n│             ┆          ┆        ┆ Assad Alexander   ┆   ┆            ┆        ┆       ┆          │\n└─────────────┴──────────┴────────┴───────────────────┴───┴────────────┴────────┴───────┴──────────┘",
      "text/html": "<div><style>\n.dataframe > thead > tr,\n.dataframe > tbody > tr {\n  text-align: right;\n  white-space: pre-wrap;\n}\n</style>\n<small>shape: (891, 12)</small><table border=\"1\" class=\"dataframe\"><thead><tr><th>PassengerId</th><th>Survived</th><th>Pclass</th><th>Name</th><th>Sex</th><th>Age</th><th>SibSp</th><th>Parch</th><th>Ticket</th><th>Fare</th><th>Cabin</th><th>Embarked</th></tr><tr><td>i64</td><td>i64</td><td>i64</td><td>str</td><td>str</td><td>f64</td><td>i64</td><td>i64</td><td>str</td><td>f64</td><td>str</td><td>str</td></tr></thead><tbody><tr><td>889</td><td>0</td><td>3</td><td>&quot;Johnston, Miss…</td><td>&quot;female&quot;</td><td>null</td><td>1</td><td>2</td><td>&quot;W./C. 6607&quot;</td><td>23.45</td><td>null</td><td>&quot;S&quot;</td></tr><tr><td>879</td><td>0</td><td>3</td><td>&quot;Laleff, Mr. Kr…</td><td>&quot;male&quot;</td><td>null</td><td>0</td><td>0</td><td>&quot;349217&quot;</td><td>7.8958</td><td>null</td><td>&quot;S&quot;</td></tr><tr><td>&hellip;</td><td>&hellip;</td><td>&hellip;</td><td>&hellip;</td><td>&hellip;</td><td>&hellip;</td><td>&hellip;</td><td>&hellip;</td><td>&hellip;</td><td>&hellip;</td><td>&hellip;</td><td>&hellip;</td></tr><tr><td>756</td><td>1</td><td>2</td><td>&quot;Hamalainen, Ma…</td><td>&quot;male&quot;</td><td>0.67</td><td>1</td><td>1</td><td>&quot;250649&quot;</td><td>14.5</td><td>null</td><td>&quot;S&quot;</td></tr><tr><td>804</td><td>1</td><td>3</td><td>&quot;Thomas, Master…</td><td>&quot;male&quot;</td><td>0.42</td><td>0</td><td>1</td><td>&quot;2625&quot;</td><td>8.5167</td><td>null</td><td>&quot;C&quot;</td></tr></tbody></table></div>"
     },
     "execution_count": 8,
     "metadata": {},
     "output_type": "execute_result"
    }
   ],
   "source": [
    "df.sort(\"Age\",descending=True)"
   ]
  },
  {
   "cell_type": "markdown",
   "id": "b8303e4c-c1bf-47e1-8e7c-9b1c10e55a5a",
   "metadata": {},
   "source": [
    "We get the largest values first by setting `nulls_last=True`"
   ]
  },
  {
   "cell_type": "code",
   "execution_count": 9,
   "id": "a51de409-2e84-4ae5-8704-14ce941317bd",
   "metadata": {
    "ExecuteTime": {
     "end_time": "2024-03-04T15:41:35.834361900Z",
     "start_time": "2024-03-04T15:41:35.763911100Z"
    }
   },
   "outputs": [
    {
     "data": {
      "text/plain": "shape: (891, 12)\n┌─────────────┬──────────┬────────┬───────────────────────┬───┬────────┬────────┬───────┬──────────┐\n│ PassengerId ┆ Survived ┆ Pclass ┆ Name                  ┆ … ┆ Ticket ┆ Fare   ┆ Cabin ┆ Embarked │\n│ ---         ┆ ---      ┆ ---    ┆ ---                   ┆   ┆ ---    ┆ ---    ┆ ---   ┆ ---      │\n│ i64         ┆ i64      ┆ i64    ┆ str                   ┆   ┆ str    ┆ f64    ┆ str   ┆ str      │\n╞═════════════╪══════════╪════════╪═══════════════════════╪═══╪════════╪════════╪═══════╪══════════╡\n│ 631         ┆ 1        ┆ 1      ┆ Barkworth, Mr.        ┆ … ┆ 27042  ┆ 30.0   ┆ A23   ┆ S        │\n│             ┆          ┆        ┆ Algernon Henry Wi…    ┆   ┆        ┆        ┆       ┆          │\n│ 852         ┆ 0        ┆ 3      ┆ Svensson, Mr. Johan   ┆ … ┆ 347060 ┆ 7.775  ┆ null  ┆ S        │\n│ …           ┆ …        ┆ …      ┆ …                     ┆ … ┆ …      ┆ …      ┆ …     ┆ …        │\n│ 18          ┆ 1        ┆ 2      ┆ Williams, Mr. Charles ┆ … ┆ 244373 ┆ 13.0   ┆ null  ┆ S        │\n│             ┆          ┆        ┆ Eugene                ┆   ┆        ┆        ┆       ┆          │\n│ 6           ┆ 0        ┆ 3      ┆ Moran, Mr. James      ┆ … ┆ 330877 ┆ 8.4583 ┆ null  ┆ Q        │\n└─────────────┴──────────┴────────┴───────────────────────┴───┴────────┴────────┴───────┴──────────┘",
      "text/html": "<div><style>\n.dataframe > thead > tr,\n.dataframe > tbody > tr {\n  text-align: right;\n  white-space: pre-wrap;\n}\n</style>\n<small>shape: (891, 12)</small><table border=\"1\" class=\"dataframe\"><thead><tr><th>PassengerId</th><th>Survived</th><th>Pclass</th><th>Name</th><th>Sex</th><th>Age</th><th>SibSp</th><th>Parch</th><th>Ticket</th><th>Fare</th><th>Cabin</th><th>Embarked</th></tr><tr><td>i64</td><td>i64</td><td>i64</td><td>str</td><td>str</td><td>f64</td><td>i64</td><td>i64</td><td>str</td><td>f64</td><td>str</td><td>str</td></tr></thead><tbody><tr><td>631</td><td>1</td><td>1</td><td>&quot;Barkworth, Mr.…</td><td>&quot;male&quot;</td><td>80.0</td><td>0</td><td>0</td><td>&quot;27042&quot;</td><td>30.0</td><td>&quot;A23&quot;</td><td>&quot;S&quot;</td></tr><tr><td>852</td><td>0</td><td>3</td><td>&quot;Svensson, Mr. …</td><td>&quot;male&quot;</td><td>74.0</td><td>0</td><td>0</td><td>&quot;347060&quot;</td><td>7.775</td><td>null</td><td>&quot;S&quot;</td></tr><tr><td>&hellip;</td><td>&hellip;</td><td>&hellip;</td><td>&hellip;</td><td>&hellip;</td><td>&hellip;</td><td>&hellip;</td><td>&hellip;</td><td>&hellip;</td><td>&hellip;</td><td>&hellip;</td><td>&hellip;</td></tr><tr><td>18</td><td>1</td><td>2</td><td>&quot;Williams, Mr. …</td><td>&quot;male&quot;</td><td>null</td><td>0</td><td>0</td><td>&quot;244373&quot;</td><td>13.0</td><td>null</td><td>&quot;S&quot;</td></tr><tr><td>6</td><td>0</td><td>3</td><td>&quot;Moran, Mr. Jam…</td><td>&quot;male&quot;</td><td>null</td><td>0</td><td>0</td><td>&quot;330877&quot;</td><td>8.4583</td><td>null</td><td>&quot;Q&quot;</td></tr></tbody></table></div>"
     },
     "execution_count": 9,
     "metadata": {},
     "output_type": "execute_result"
    }
   ],
   "source": [
    "df.sort(\"Age\",descending=True,nulls_last=True)"
   ]
  },
  {
   "cell_type": "markdown",
   "id": "bf6fed9f-9638-4633-922e-d6931c8893f7",
   "metadata": {},
   "source": [
    "## Sort on multiple columns\n",
    "We can sort based on multiple columns with either a list..."
   ]
  },
  {
   "cell_type": "code",
   "execution_count": 10,
   "id": "23083dba-75d3-41a4-89f1-f6b7cca7ed0e",
   "metadata": {
    "tags": [],
    "ExecuteTime": {
     "end_time": "2024-03-04T15:41:47.448990900Z",
     "start_time": "2024-03-04T15:41:47.392122Z"
    }
   },
   "outputs": [
    {
     "data": {
      "text/plain": "shape: (891, 12)\n┌─────────────┬──────────┬────────┬───────────────────┬───┬──────────┬──────────┬───────┬──────────┐\n│ PassengerId ┆ Survived ┆ Pclass ┆ Name              ┆ … ┆ Ticket   ┆ Fare     ┆ Cabin ┆ Embarked │\n│ ---         ┆ ---      ┆ ---    ┆ ---               ┆   ┆ ---      ┆ ---      ┆ ---   ┆ ---      │\n│ i64         ┆ i64      ┆ i64    ┆ str               ┆   ┆ str      ┆ f64      ┆ str   ┆ str      │\n╞═════════════╪══════════╪════════╪═══════════════════╪═══╪══════════╪══════════╪═══════╪══════════╡\n│ 32          ┆ 1        ┆ 1      ┆ Spencer, Mrs.     ┆ … ┆ PC 17569 ┆ 146.5208 ┆ B78   ┆ C        │\n│             ┆          ┆        ┆ William Augustus  ┆   ┆          ┆          ┆       ┆          │\n│             ┆          ┆        ┆ (…                ┆   ┆          ┆          ┆       ┆          │\n│ 56          ┆ 1        ┆ 1      ┆ Woolner, Mr. Hugh ┆ … ┆ 19947    ┆ 35.5     ┆ C52   ┆ S        │\n│ …           ┆ …        ┆ …      ┆ …                 ┆ … ┆ …        ┆ …        ┆ …     ┆ …        │\n│ 117         ┆ 0        ┆ 3      ┆ Connors, Mr.      ┆ … ┆ 370369   ┆ 7.75     ┆ null  ┆ Q        │\n│             ┆          ┆        ┆ Patrick           ┆   ┆          ┆          ┆       ┆          │\n│ 852         ┆ 0        ┆ 3      ┆ Svensson, Mr.     ┆ … ┆ 347060   ┆ 7.775    ┆ null  ┆ S        │\n│             ┆          ┆        ┆ Johan             ┆   ┆          ┆          ┆       ┆          │\n└─────────────┴──────────┴────────┴───────────────────┴───┴──────────┴──────────┴───────┴──────────┘",
      "text/html": "<div><style>\n.dataframe > thead > tr,\n.dataframe > tbody > tr {\n  text-align: right;\n  white-space: pre-wrap;\n}\n</style>\n<small>shape: (891, 12)</small><table border=\"1\" class=\"dataframe\"><thead><tr><th>PassengerId</th><th>Survived</th><th>Pclass</th><th>Name</th><th>Sex</th><th>Age</th><th>SibSp</th><th>Parch</th><th>Ticket</th><th>Fare</th><th>Cabin</th><th>Embarked</th></tr><tr><td>i64</td><td>i64</td><td>i64</td><td>str</td><td>str</td><td>f64</td><td>i64</td><td>i64</td><td>str</td><td>f64</td><td>str</td><td>str</td></tr></thead><tbody><tr><td>32</td><td>1</td><td>1</td><td>&quot;Spencer, Mrs. …</td><td>&quot;female&quot;</td><td>null</td><td>1</td><td>0</td><td>&quot;PC 17569&quot;</td><td>146.5208</td><td>&quot;B78&quot;</td><td>&quot;C&quot;</td></tr><tr><td>56</td><td>1</td><td>1</td><td>&quot;Woolner, Mr. H…</td><td>&quot;male&quot;</td><td>null</td><td>0</td><td>0</td><td>&quot;19947&quot;</td><td>35.5</td><td>&quot;C52&quot;</td><td>&quot;S&quot;</td></tr><tr><td>&hellip;</td><td>&hellip;</td><td>&hellip;</td><td>&hellip;</td><td>&hellip;</td><td>&hellip;</td><td>&hellip;</td><td>&hellip;</td><td>&hellip;</td><td>&hellip;</td><td>&hellip;</td><td>&hellip;</td></tr><tr><td>117</td><td>0</td><td>3</td><td>&quot;Connors, Mr. P…</td><td>&quot;male&quot;</td><td>70.5</td><td>0</td><td>0</td><td>&quot;370369&quot;</td><td>7.75</td><td>null</td><td>&quot;Q&quot;</td></tr><tr><td>852</td><td>0</td><td>3</td><td>&quot;Svensson, Mr. …</td><td>&quot;male&quot;</td><td>74.0</td><td>0</td><td>0</td><td>&quot;347060&quot;</td><td>7.775</td><td>null</td><td>&quot;S&quot;</td></tr></tbody></table></div>"
     },
     "execution_count": 10,
     "metadata": {},
     "output_type": "execute_result"
    }
   ],
   "source": [
    "df.sort([\"Pclass\",\"Age\"])"
   ]
  },
  {
   "cell_type": "markdown",
   "id": "f3b891ab-27fb-4699-895a-0e5eeb71e146",
   "metadata": {},
   "source": [
    "...or with comma-separated strings"
   ]
  },
  {
   "cell_type": "code",
   "execution_count": 11,
   "id": "b8710a6b-5052-4dd5-94af-68b877694526",
   "metadata": {
    "ExecuteTime": {
     "end_time": "2024-03-04T15:41:56.597421700Z",
     "start_time": "2024-03-04T15:41:56.546687500Z"
    }
   },
   "outputs": [
    {
     "data": {
      "text/plain": "shape: (891, 12)\n┌─────────────┬──────────┬────────┬───────────────────┬───┬──────────┬──────────┬───────┬──────────┐\n│ PassengerId ┆ Survived ┆ Pclass ┆ Name              ┆ … ┆ Ticket   ┆ Fare     ┆ Cabin ┆ Embarked │\n│ ---         ┆ ---      ┆ ---    ┆ ---               ┆   ┆ ---      ┆ ---      ┆ ---   ┆ ---      │\n│ i64         ┆ i64      ┆ i64    ┆ str               ┆   ┆ str      ┆ f64      ┆ str   ┆ str      │\n╞═════════════╪══════════╪════════╪═══════════════════╪═══╪══════════╪══════════╪═══════╪══════════╡\n│ 32          ┆ 1        ┆ 1      ┆ Spencer, Mrs.     ┆ … ┆ PC 17569 ┆ 146.5208 ┆ B78   ┆ C        │\n│             ┆          ┆        ┆ William Augustus  ┆   ┆          ┆          ┆       ┆          │\n│             ┆          ┆        ┆ (…                ┆   ┆          ┆          ┆       ┆          │\n│ 56          ┆ 1        ┆ 1      ┆ Woolner, Mr. Hugh ┆ … ┆ 19947    ┆ 35.5     ┆ C52   ┆ S        │\n│ …           ┆ …        ┆ …      ┆ …                 ┆ … ┆ …        ┆ …        ┆ …     ┆ …        │\n│ 117         ┆ 0        ┆ 3      ┆ Connors, Mr.      ┆ … ┆ 370369   ┆ 7.75     ┆ null  ┆ Q        │\n│             ┆          ┆        ┆ Patrick           ┆   ┆          ┆          ┆       ┆          │\n│ 852         ┆ 0        ┆ 3      ┆ Svensson, Mr.     ┆ … ┆ 347060   ┆ 7.775    ┆ null  ┆ S        │\n│             ┆          ┆        ┆ Johan             ┆   ┆          ┆          ┆       ┆          │\n└─────────────┴──────────┴────────┴───────────────────┴───┴──────────┴──────────┴───────┴──────────┘",
      "text/html": "<div><style>\n.dataframe > thead > tr,\n.dataframe > tbody > tr {\n  text-align: right;\n  white-space: pre-wrap;\n}\n</style>\n<small>shape: (891, 12)</small><table border=\"1\" class=\"dataframe\"><thead><tr><th>PassengerId</th><th>Survived</th><th>Pclass</th><th>Name</th><th>Sex</th><th>Age</th><th>SibSp</th><th>Parch</th><th>Ticket</th><th>Fare</th><th>Cabin</th><th>Embarked</th></tr><tr><td>i64</td><td>i64</td><td>i64</td><td>str</td><td>str</td><td>f64</td><td>i64</td><td>i64</td><td>str</td><td>f64</td><td>str</td><td>str</td></tr></thead><tbody><tr><td>32</td><td>1</td><td>1</td><td>&quot;Spencer, Mrs. …</td><td>&quot;female&quot;</td><td>null</td><td>1</td><td>0</td><td>&quot;PC 17569&quot;</td><td>146.5208</td><td>&quot;B78&quot;</td><td>&quot;C&quot;</td></tr><tr><td>56</td><td>1</td><td>1</td><td>&quot;Woolner, Mr. H…</td><td>&quot;male&quot;</td><td>null</td><td>0</td><td>0</td><td>&quot;19947&quot;</td><td>35.5</td><td>&quot;C52&quot;</td><td>&quot;S&quot;</td></tr><tr><td>&hellip;</td><td>&hellip;</td><td>&hellip;</td><td>&hellip;</td><td>&hellip;</td><td>&hellip;</td><td>&hellip;</td><td>&hellip;</td><td>&hellip;</td><td>&hellip;</td><td>&hellip;</td><td>&hellip;</td></tr><tr><td>117</td><td>0</td><td>3</td><td>&quot;Connors, Mr. P…</td><td>&quot;male&quot;</td><td>70.5</td><td>0</td><td>0</td><td>&quot;370369&quot;</td><td>7.75</td><td>null</td><td>&quot;Q&quot;</td></tr><tr><td>852</td><td>0</td><td>3</td><td>&quot;Svensson, Mr. …</td><td>&quot;male&quot;</td><td>74.0</td><td>0</td><td>0</td><td>&quot;347060&quot;</td><td>7.775</td><td>null</td><td>&quot;S&quot;</td></tr></tbody></table></div>"
     },
     "execution_count": 11,
     "metadata": {},
     "output_type": "execute_result"
    }
   ],
   "source": [
    "df.sort(\"Pclass\",\"Age\")"
   ]
  },
  {
   "cell_type": "markdown",
   "id": "5d423775-7750-4336-92b2-aa58b1955f98",
   "metadata": {},
   "source": [
    "## Sorting a column with an expression\n",
    "\n",
    "We can transform a column into sorted order within an expression."
   ]
  },
  {
   "cell_type": "markdown",
   "id": "782f841c-b495-44df-823a-327293adf465",
   "metadata": {},
   "source": [
    "In this example we sort the values in every column independent of other columns"
   ]
  },
  {
   "cell_type": "code",
   "execution_count": 12,
   "id": "e70d3d3c-4b82-4c97-b603-75397bce0128",
   "metadata": {
    "tags": [],
    "ExecuteTime": {
     "end_time": "2024-03-04T15:42:15.219843600Z",
     "start_time": "2024-03-04T15:42:15.200848600Z"
    }
   },
   "outputs": [
    {
     "data": {
      "text/plain": "shape: (891, 12)\n┌─────────────┬──────────┬────────┬──────────────────┬───┬───────────┬──────────┬───────┬──────────┐\n│ PassengerId ┆ Survived ┆ Pclass ┆ Name             ┆ … ┆ Ticket    ┆ Fare     ┆ Cabin ┆ Embarked │\n│ ---         ┆ ---      ┆ ---    ┆ ---              ┆   ┆ ---       ┆ ---      ┆ ---   ┆ ---      │\n│ i64         ┆ i64      ┆ i64    ┆ str              ┆   ┆ str       ┆ f64      ┆ str   ┆ str      │\n╞═════════════╪══════════╪════════╪══════════════════╪═══╪═══════════╪══════════╪═══════╪══════════╡\n│ 1           ┆ 0        ┆ 1      ┆ Abbing, Mr.      ┆ … ┆ 110152    ┆ 0.0      ┆ null  ┆ null     │\n│             ┆          ┆        ┆ Anthony          ┆   ┆           ┆          ┆       ┆          │\n│ 2           ┆ 0        ┆ 1      ┆ Abbott, Mr.      ┆ … ┆ 110152    ┆ 0.0      ┆ null  ┆ null     │\n│             ┆          ┆        ┆ Rossmore Edward  ┆   ┆           ┆          ┆       ┆          │\n│ …           ┆ …        ┆ …      ┆ …                ┆ … ┆ …         ┆ …        ┆ …     ┆ …        │\n│ 890         ┆ 1        ┆ 3      ┆ van Billiard,    ┆ … ┆ WE/P 5735 ┆ 512.3292 ┆ G6    ┆ S        │\n│             ┆          ┆        ┆ Mr. Austin       ┆   ┆           ┆          ┆       ┆          │\n│             ┆          ┆        ┆ Blyler           ┆   ┆           ┆          ┆       ┆          │\n│ 891         ┆ 1        ┆ 3      ┆ van Melkebeke,   ┆ … ┆ WE/P 5735 ┆ 512.3292 ┆ T     ┆ S        │\n│             ┆          ┆        ┆ Mr. Philemon     ┆   ┆           ┆          ┆       ┆          │\n└─────────────┴──────────┴────────┴──────────────────┴───┴───────────┴──────────┴───────┴──────────┘",
      "text/html": "<div><style>\n.dataframe > thead > tr,\n.dataframe > tbody > tr {\n  text-align: right;\n  white-space: pre-wrap;\n}\n</style>\n<small>shape: (891, 12)</small><table border=\"1\" class=\"dataframe\"><thead><tr><th>PassengerId</th><th>Survived</th><th>Pclass</th><th>Name</th><th>Sex</th><th>Age</th><th>SibSp</th><th>Parch</th><th>Ticket</th><th>Fare</th><th>Cabin</th><th>Embarked</th></tr><tr><td>i64</td><td>i64</td><td>i64</td><td>str</td><td>str</td><td>f64</td><td>i64</td><td>i64</td><td>str</td><td>f64</td><td>str</td><td>str</td></tr></thead><tbody><tr><td>1</td><td>0</td><td>1</td><td>&quot;Abbing, Mr. An…</td><td>&quot;female&quot;</td><td>null</td><td>0</td><td>0</td><td>&quot;110152&quot;</td><td>0.0</td><td>null</td><td>null</td></tr><tr><td>2</td><td>0</td><td>1</td><td>&quot;Abbott, Mr. Ro…</td><td>&quot;female&quot;</td><td>null</td><td>0</td><td>0</td><td>&quot;110152&quot;</td><td>0.0</td><td>null</td><td>null</td></tr><tr><td>&hellip;</td><td>&hellip;</td><td>&hellip;</td><td>&hellip;</td><td>&hellip;</td><td>&hellip;</td><td>&hellip;</td><td>&hellip;</td><td>&hellip;</td><td>&hellip;</td><td>&hellip;</td><td>&hellip;</td></tr><tr><td>890</td><td>1</td><td>3</td><td>&quot;van Billiard, …</td><td>&quot;male&quot;</td><td>74.0</td><td>8</td><td>5</td><td>&quot;WE/P 5735&quot;</td><td>512.3292</td><td>&quot;G6&quot;</td><td>&quot;S&quot;</td></tr><tr><td>891</td><td>1</td><td>3</td><td>&quot;van Melkebeke,…</td><td>&quot;male&quot;</td><td>80.0</td><td>8</td><td>6</td><td>&quot;WE/P 5735&quot;</td><td>512.3292</td><td>&quot;T&quot;</td><td>&quot;S&quot;</td></tr></tbody></table></div>"
     },
     "execution_count": 12,
     "metadata": {},
     "output_type": "execute_result"
    }
   ],
   "source": [
    "(\n",
    "    df\n",
    "    .select(\n",
    "        pl.all().sort()\n",
    "    )\n",
    ")"
   ]
  },
  {
   "cell_type": "markdown",
   "id": "c3230e29-b339-4658-bc1f-9350b90181a5",
   "metadata": {},
   "source": [
    "Within an expression we can also sort all columns with respect to another column using `sort_by`"
   ]
  },
  {
   "cell_type": "code",
   "execution_count": 13,
   "id": "51da7ab1-cbad-4a8a-83e1-09820e356b91",
   "metadata": {
    "ExecuteTime": {
     "end_time": "2024-03-04T15:42:38.171361500Z",
     "start_time": "2024-03-04T15:42:38.056313100Z"
    }
   },
   "outputs": [
    {
     "data": {
      "text/plain": "shape: (891, 12)\n┌─────────────┬──────────┬────────┬───────────────────────┬───┬────────┬────────┬───────┬──────────┐\n│ PassengerId ┆ Survived ┆ Pclass ┆ Name                  ┆ … ┆ Ticket ┆ Fare   ┆ Cabin ┆ Embarked │\n│ ---         ┆ ---      ┆ ---    ┆ ---                   ┆   ┆ ---    ┆ ---    ┆ ---   ┆ ---      │\n│ i64         ┆ i64      ┆ i64    ┆ str                   ┆   ┆ str    ┆ f64    ┆ str   ┆ str      │\n╞═════════════╪══════════╪════════╪═══════════════════════╪═══╪════════╪════════╪═══════╪══════════╡\n│ 6           ┆ 0        ┆ 3      ┆ Moran, Mr. James      ┆ … ┆ 330877 ┆ 8.4583 ┆ null  ┆ Q        │\n│ 18          ┆ 1        ┆ 2      ┆ Williams, Mr. Charles ┆ … ┆ 244373 ┆ 13.0   ┆ null  ┆ S        │\n│             ┆          ┆        ┆ Eugene                ┆   ┆        ┆        ┆       ┆          │\n│ …           ┆ …        ┆ …      ┆ …                     ┆ … ┆ …      ┆ …      ┆ …     ┆ …        │\n│ 852         ┆ 0        ┆ 3      ┆ Svensson, Mr. Johan   ┆ … ┆ 347060 ┆ 7.775  ┆ null  ┆ S        │\n│ 631         ┆ 1        ┆ 1      ┆ Barkworth, Mr.        ┆ … ┆ 27042  ┆ 30.0   ┆ A23   ┆ S        │\n│             ┆          ┆        ┆ Algernon Henry Wi…    ┆   ┆        ┆        ┆       ┆          │\n└─────────────┴──────────┴────────┴───────────────────────┴───┴────────┴────────┴───────┴──────────┘",
      "text/html": "<div><style>\n.dataframe > thead > tr,\n.dataframe > tbody > tr {\n  text-align: right;\n  white-space: pre-wrap;\n}\n</style>\n<small>shape: (891, 12)</small><table border=\"1\" class=\"dataframe\"><thead><tr><th>PassengerId</th><th>Survived</th><th>Pclass</th><th>Name</th><th>Sex</th><th>Age</th><th>SibSp</th><th>Parch</th><th>Ticket</th><th>Fare</th><th>Cabin</th><th>Embarked</th></tr><tr><td>i64</td><td>i64</td><td>i64</td><td>str</td><td>str</td><td>f64</td><td>i64</td><td>i64</td><td>str</td><td>f64</td><td>str</td><td>str</td></tr></thead><tbody><tr><td>6</td><td>0</td><td>3</td><td>&quot;Moran, Mr. Jam…</td><td>&quot;male&quot;</td><td>null</td><td>0</td><td>0</td><td>&quot;330877&quot;</td><td>8.4583</td><td>null</td><td>&quot;Q&quot;</td></tr><tr><td>18</td><td>1</td><td>2</td><td>&quot;Williams, Mr. …</td><td>&quot;male&quot;</td><td>null</td><td>0</td><td>0</td><td>&quot;244373&quot;</td><td>13.0</td><td>null</td><td>&quot;S&quot;</td></tr><tr><td>&hellip;</td><td>&hellip;</td><td>&hellip;</td><td>&hellip;</td><td>&hellip;</td><td>&hellip;</td><td>&hellip;</td><td>&hellip;</td><td>&hellip;</td><td>&hellip;</td><td>&hellip;</td><td>&hellip;</td></tr><tr><td>852</td><td>0</td><td>3</td><td>&quot;Svensson, Mr. …</td><td>&quot;male&quot;</td><td>74.0</td><td>0</td><td>0</td><td>&quot;347060&quot;</td><td>7.775</td><td>null</td><td>&quot;S&quot;</td></tr><tr><td>631</td><td>1</td><td>1</td><td>&quot;Barkworth, Mr.…</td><td>&quot;male&quot;</td><td>80.0</td><td>0</td><td>0</td><td>&quot;27042&quot;</td><td>30.0</td><td>&quot;A23&quot;</td><td>&quot;S&quot;</td></tr></tbody></table></div>"
     },
     "execution_count": 13,
     "metadata": {},
     "output_type": "execute_result"
    }
   ],
   "source": [
    "(\n",
    "    df\n",
    "    .select(\n",
    "        pl.all().sort_by(\"Age\")\n",
    "    )\n",
    ")"
   ]
  },
  {
   "cell_type": "markdown",
   "id": "f182fec3-c46d-40f2-ab5a-cd60b23e17a2",
   "metadata": {},
   "source": [
    "It seems like `sort_by` in this case has just replicated the functionality of \n",
    "```python\n",
    "df.sort(\"Age\")\n",
    "```\n",
    "However, as we can use `sort_by` in an expression it can be used in other contexts such as in a `groupby` aggregation.  For example, if we wanted to get the name and age of the oldest passenger in each class we can do the following"
   ]
  },
  {
   "cell_type": "code",
   "execution_count": 14,
   "id": "8d7f2519-52dd-4670-a80f-6cd9c273faee",
   "metadata": {
    "ExecuteTime": {
     "end_time": "2024-03-04T15:43:29.949440100Z",
     "start_time": "2024-03-04T15:43:29.853407300Z"
    }
   },
   "outputs": [
    {
     "data": {
      "text/plain": "shape: (3, 3)\n┌────────┬──────────────────────────────────────┬──────┐\n│ Pclass ┆ Name                                 ┆ Age  │\n│ ---    ┆ ---                                  ┆ ---  │\n│ i64    ┆ str                                  ┆ f64  │\n╞════════╪══════════════════════════════════════╪══════╡\n│ 2      ┆ Mitchell, Mr. Henry Michael          ┆ 70.0 │\n│ 1      ┆ Barkworth, Mr. Algernon Henry Wilson ┆ 80.0 │\n│ 3      ┆ Svensson, Mr. Johan                  ┆ 74.0 │\n└────────┴──────────────────────────────────────┴──────┘",
      "text/html": "<div><style>\n.dataframe > thead > tr,\n.dataframe > tbody > tr {\n  text-align: right;\n  white-space: pre-wrap;\n}\n</style>\n<small>shape: (3, 3)</small><table border=\"1\" class=\"dataframe\"><thead><tr><th>Pclass</th><th>Name</th><th>Age</th></tr><tr><td>i64</td><td>str</td><td>f64</td></tr></thead><tbody><tr><td>2</td><td>&quot;Mitchell, Mr. Henry Michael&quot;</td><td>70.0</td></tr><tr><td>1</td><td>&quot;Barkworth, Mr. Algernon Henry Wilson&quot;</td><td>80.0</td></tr><tr><td>3</td><td>&quot;Svensson, Mr. Johan&quot;</td><td>74.0</td></tr></tbody></table></div>"
     },
     "execution_count": 14,
     "metadata": {},
     "output_type": "execute_result"
    }
   ],
   "source": [
    "pl.Config.set_fmt_str_lengths(100)\n",
    "(\n",
    "    df\n",
    "    .group_by(\"Pclass\")\n",
    "    .agg(\n",
    "        pl.col(\"Name\").sort_by(\"Age\").last(),\n",
    "        pl.col(\"Age\").sort_by(\"Age\").last()\n",
    "        \n",
    "    )\n",
    ")"
   ]
  },
  {
   "cell_type": "markdown",
   "id": "b34bb961-51af-4103-9654-18fef73b90b2",
   "metadata": {},
   "source": [
    "### Filtering for the largest/smallest values\n",
    "If we just want to find the largest or smallest values we could do `sort` followed by `head` or `tail`. For example here we find the oldest passengers"
   ]
  },
  {
   "cell_type": "code",
   "execution_count": 15,
   "id": "58ad11ca-99eb-45da-818d-5f427d57340e",
   "metadata": {
    "ExecuteTime": {
     "end_time": "2024-03-04T15:44:40.763530700Z",
     "start_time": "2024-03-04T15:44:40.714494300Z"
    }
   },
   "outputs": [
    {
     "data": {
      "text/plain": "shape: (3, 12)\n┌─────────────┬──────────┬────────┬────────────────────┬───┬──────────┬─────────┬───────┬──────────┐\n│ PassengerId ┆ Survived ┆ Pclass ┆ Name               ┆ … ┆ Ticket   ┆ Fare    ┆ Cabin ┆ Embarked │\n│ ---         ┆ ---      ┆ ---    ┆ ---                ┆   ┆ ---      ┆ ---     ┆ ---   ┆ ---      │\n│ i64         ┆ i64      ┆ i64    ┆ str                ┆   ┆ str      ┆ f64     ┆ str   ┆ str      │\n╞═════════════╪══════════╪════════╪════════════════════╪═══╪══════════╪═════════╪═══════╪══════════╡\n│ 494         ┆ 0        ┆ 1      ┆ Artagaveytia, Mr.  ┆ … ┆ PC 17609 ┆ 49.5042 ┆ null  ┆ C        │\n│             ┆          ┆        ┆ Ramon              ┆   ┆          ┆         ┆       ┆          │\n│ 852         ┆ 0        ┆ 3      ┆ Svensson, Mr.      ┆ … ┆ 347060   ┆ 7.775   ┆ null  ┆ S        │\n│             ┆          ┆        ┆ Johan              ┆   ┆          ┆         ┆       ┆          │\n│ 631         ┆ 1        ┆ 1      ┆ Barkworth, Mr.     ┆ … ┆ 27042    ┆ 30.0    ┆ A23   ┆ S        │\n│             ┆          ┆        ┆ Algernon Henry     ┆   ┆          ┆         ┆       ┆          │\n│             ┆          ┆        ┆ Wilson             ┆   ┆          ┆         ┆       ┆          │\n└─────────────┴──────────┴────────┴────────────────────┴───┴──────────┴─────────┴───────┴──────────┘",
      "text/html": "<div><style>\n.dataframe > thead > tr,\n.dataframe > tbody > tr {\n  text-align: right;\n  white-space: pre-wrap;\n}\n</style>\n<small>shape: (3, 12)</small><table border=\"1\" class=\"dataframe\"><thead><tr><th>PassengerId</th><th>Survived</th><th>Pclass</th><th>Name</th><th>Sex</th><th>Age</th><th>SibSp</th><th>Parch</th><th>Ticket</th><th>Fare</th><th>Cabin</th><th>Embarked</th></tr><tr><td>i64</td><td>i64</td><td>i64</td><td>str</td><td>str</td><td>f64</td><td>i64</td><td>i64</td><td>str</td><td>f64</td><td>str</td><td>str</td></tr></thead><tbody><tr><td>494</td><td>0</td><td>1</td><td>&quot;Artagaveytia, Mr. Ramon&quot;</td><td>&quot;male&quot;</td><td>71.0</td><td>0</td><td>0</td><td>&quot;PC 17609&quot;</td><td>49.5042</td><td>null</td><td>&quot;C&quot;</td></tr><tr><td>852</td><td>0</td><td>3</td><td>&quot;Svensson, Mr. Johan&quot;</td><td>&quot;male&quot;</td><td>74.0</td><td>0</td><td>0</td><td>&quot;347060&quot;</td><td>7.775</td><td>null</td><td>&quot;S&quot;</td></tr><tr><td>631</td><td>1</td><td>1</td><td>&quot;Barkworth, Mr. Algernon Henry Wilson&quot;</td><td>&quot;male&quot;</td><td>80.0</td><td>0</td><td>0</td><td>&quot;27042&quot;</td><td>30.0</td><td>&quot;A23&quot;</td><td>&quot;S&quot;</td></tr></tbody></table></div>"
     },
     "execution_count": 15,
     "metadata": {},
     "output_type": "execute_result"
    }
   ],
   "source": [
    "(\n",
    "    df\n",
    "    .sort(\"Age\")\n",
    "    .tail(3)\n",
    ")"
   ]
  },
  {
   "cell_type": "markdown",
   "id": "88a34245-b04d-4da5-a106-c6db647aa236",
   "metadata": {},
   "source": [
    "A faster approach is to use `top_k` which does not sort the full `DataFrame` but instead just searches through the rows to filter for the largest/smallest values and then sorts this small subset of rows"
   ]
  },
  {
   "cell_type": "code",
   "execution_count": 16,
   "id": "470b7154-0ae7-4e7a-9a4c-604f0b5f84d9",
   "metadata": {
    "ExecuteTime": {
     "end_time": "2024-03-04T15:44:55.290877800Z",
     "start_time": "2024-03-04T15:44:55.183879100Z"
    }
   },
   "outputs": [
    {
     "data": {
      "text/plain": "shape: (5, 12)\n┌─────────────┬──────────┬────────┬────────────────────┬───┬──────────┬─────────┬───────┬──────────┐\n│ PassengerId ┆ Survived ┆ Pclass ┆ Name               ┆ … ┆ Ticket   ┆ Fare    ┆ Cabin ┆ Embarked │\n│ ---         ┆ ---      ┆ ---    ┆ ---                ┆   ┆ ---      ┆ ---     ┆ ---   ┆ ---      │\n│ i64         ┆ i64      ┆ i64    ┆ str                ┆   ┆ str      ┆ f64     ┆ str   ┆ str      │\n╞═════════════╪══════════╪════════╪════════════════════╪═══╪══════════╪═════════╪═══════╪══════════╡\n│ 631         ┆ 1        ┆ 1      ┆ Barkworth, Mr.     ┆ … ┆ 27042    ┆ 30.0    ┆ A23   ┆ S        │\n│             ┆          ┆        ┆ Algernon Henry     ┆   ┆          ┆         ┆       ┆          │\n│             ┆          ┆        ┆ Wilson             ┆   ┆          ┆         ┆       ┆          │\n│ 852         ┆ 0        ┆ 3      ┆ Svensson, Mr.      ┆ … ┆ 347060   ┆ 7.775   ┆ null  ┆ S        │\n│             ┆          ┆        ┆ Johan              ┆   ┆          ┆         ┆       ┆          │\n│ …           ┆ …        ┆ …      ┆ …                  ┆ … ┆ …        ┆ …       ┆ …     ┆ …        │\n│ 97          ┆ 0        ┆ 1      ┆ Goldschmidt, Mr.   ┆ … ┆ PC 17754 ┆ 34.6542 ┆ A5    ┆ C        │\n│             ┆          ┆        ┆ George B           ┆   ┆          ┆         ┆       ┆          │\n│ 117         ┆ 0        ┆ 3      ┆ Connors, Mr.       ┆ … ┆ 370369   ┆ 7.75    ┆ null  ┆ Q        │\n│             ┆          ┆        ┆ Patrick            ┆   ┆          ┆         ┆       ┆          │\n└─────────────┴──────────┴────────┴────────────────────┴───┴──────────┴─────────┴───────┴──────────┘",
      "text/html": "<div><style>\n.dataframe > thead > tr,\n.dataframe > tbody > tr {\n  text-align: right;\n  white-space: pre-wrap;\n}\n</style>\n<small>shape: (5, 12)</small><table border=\"1\" class=\"dataframe\"><thead><tr><th>PassengerId</th><th>Survived</th><th>Pclass</th><th>Name</th><th>Sex</th><th>Age</th><th>SibSp</th><th>Parch</th><th>Ticket</th><th>Fare</th><th>Cabin</th><th>Embarked</th></tr><tr><td>i64</td><td>i64</td><td>i64</td><td>str</td><td>str</td><td>f64</td><td>i64</td><td>i64</td><td>str</td><td>f64</td><td>str</td><td>str</td></tr></thead><tbody><tr><td>631</td><td>1</td><td>1</td><td>&quot;Barkworth, Mr. Algernon Henry Wilson&quot;</td><td>&quot;male&quot;</td><td>80.0</td><td>0</td><td>0</td><td>&quot;27042&quot;</td><td>30.0</td><td>&quot;A23&quot;</td><td>&quot;S&quot;</td></tr><tr><td>852</td><td>0</td><td>3</td><td>&quot;Svensson, Mr. Johan&quot;</td><td>&quot;male&quot;</td><td>74.0</td><td>0</td><td>0</td><td>&quot;347060&quot;</td><td>7.775</td><td>null</td><td>&quot;S&quot;</td></tr><tr><td>&hellip;</td><td>&hellip;</td><td>&hellip;</td><td>&hellip;</td><td>&hellip;</td><td>&hellip;</td><td>&hellip;</td><td>&hellip;</td><td>&hellip;</td><td>&hellip;</td><td>&hellip;</td><td>&hellip;</td></tr><tr><td>97</td><td>0</td><td>1</td><td>&quot;Goldschmidt, Mr. George B&quot;</td><td>&quot;male&quot;</td><td>71.0</td><td>0</td><td>0</td><td>&quot;PC 17754&quot;</td><td>34.6542</td><td>&quot;A5&quot;</td><td>&quot;C&quot;</td></tr><tr><td>117</td><td>0</td><td>3</td><td>&quot;Connors, Mr. Patrick&quot;</td><td>&quot;male&quot;</td><td>70.5</td><td>0</td><td>0</td><td>&quot;370369&quot;</td><td>7.75</td><td>null</td><td>&quot;Q&quot;</td></tr></tbody></table></div>"
     },
     "execution_count": 16,
     "metadata": {},
     "output_type": "execute_result"
    }
   ],
   "source": [
    "(\n",
    "    df\n",
    "    .top_k(\n",
    "        # Number of records to return\n",
    "        k=5,\n",
    "        # Column/expression to sort by\n",
    "        by=\"Age\",\n",
    "        # Return the largest records\n",
    "        descending=False,\n",
    "        # Ensure the nulls are at the end\n",
    "        nulls_last=True\n",
    "    )\n",
    ")"
   ]
  },
  {
   "cell_type": "markdown",
   "id": "e4cfc3a0-31cf-4f67-aab2-50a8c08df8ce",
   "metadata": {},
   "source": [
    "Some good news: if you do .`sort.head/tail` in lazy mode Polars applies a `top_k` optimization under the hood"
   ]
  },
  {
   "cell_type": "code",
   "execution_count": 17,
   "id": "9b12779f-5643-486c-8be9-4bf6396c3d7c",
   "metadata": {
    "ExecuteTime": {
     "end_time": "2024-03-04T15:45:54.421874600Z",
     "start_time": "2024-03-04T15:45:54.358018300Z"
    }
   },
   "outputs": [
    {
     "data": {
      "text/plain": "shape: (3, 12)\n┌─────────────┬──────────┬────────┬────────────────────┬───┬──────────┬─────────┬───────┬──────────┐\n│ PassengerId ┆ Survived ┆ Pclass ┆ Name               ┆ … ┆ Ticket   ┆ Fare    ┆ Cabin ┆ Embarked │\n│ ---         ┆ ---      ┆ ---    ┆ ---                ┆   ┆ ---      ┆ ---     ┆ ---   ┆ ---      │\n│ i64         ┆ i64      ┆ i64    ┆ str                ┆   ┆ str      ┆ f64     ┆ str   ┆ str      │\n╞═════════════╪══════════╪════════╪════════════════════╪═══╪══════════╪═════════╪═══════╪══════════╡\n│ 494         ┆ 0        ┆ 1      ┆ Artagaveytia, Mr.  ┆ … ┆ PC 17609 ┆ 49.5042 ┆ null  ┆ C        │\n│             ┆          ┆        ┆ Ramon              ┆   ┆          ┆         ┆       ┆          │\n│ 852         ┆ 0        ┆ 3      ┆ Svensson, Mr.      ┆ … ┆ 347060   ┆ 7.775   ┆ null  ┆ S        │\n│             ┆          ┆        ┆ Johan              ┆   ┆          ┆         ┆       ┆          │\n│ 631         ┆ 1        ┆ 1      ┆ Barkworth, Mr.     ┆ … ┆ 27042    ┆ 30.0    ┆ A23   ┆ S        │\n│             ┆          ┆        ┆ Algernon Henry     ┆   ┆          ┆         ┆       ┆          │\n│             ┆          ┆        ┆ Wilson             ┆   ┆          ┆         ┆       ┆          │\n└─────────────┴──────────┴────────┴────────────────────┴───┴──────────┴─────────┴───────┴──────────┘",
      "text/html": "<div><style>\n.dataframe > thead > tr,\n.dataframe > tbody > tr {\n  text-align: right;\n  white-space: pre-wrap;\n}\n</style>\n<small>shape: (3, 12)</small><table border=\"1\" class=\"dataframe\"><thead><tr><th>PassengerId</th><th>Survived</th><th>Pclass</th><th>Name</th><th>Sex</th><th>Age</th><th>SibSp</th><th>Parch</th><th>Ticket</th><th>Fare</th><th>Cabin</th><th>Embarked</th></tr><tr><td>i64</td><td>i64</td><td>i64</td><td>str</td><td>str</td><td>f64</td><td>i64</td><td>i64</td><td>str</td><td>f64</td><td>str</td><td>str</td></tr></thead><tbody><tr><td>494</td><td>0</td><td>1</td><td>&quot;Artagaveytia, Mr. Ramon&quot;</td><td>&quot;male&quot;</td><td>71.0</td><td>0</td><td>0</td><td>&quot;PC 17609&quot;</td><td>49.5042</td><td>null</td><td>&quot;C&quot;</td></tr><tr><td>852</td><td>0</td><td>3</td><td>&quot;Svensson, Mr. Johan&quot;</td><td>&quot;male&quot;</td><td>74.0</td><td>0</td><td>0</td><td>&quot;347060&quot;</td><td>7.775</td><td>null</td><td>&quot;S&quot;</td></tr><tr><td>631</td><td>1</td><td>1</td><td>&quot;Barkworth, Mr. Algernon Henry Wilson&quot;</td><td>&quot;male&quot;</td><td>80.0</td><td>0</td><td>0</td><td>&quot;27042&quot;</td><td>30.0</td><td>&quot;A23&quot;</td><td>&quot;S&quot;</td></tr></tbody></table></div>"
     },
     "execution_count": 17,
     "metadata": {},
     "output_type": "execute_result"
    }
   ],
   "source": [
    "(\n",
    "    df\n",
    "    .lazy()\n",
    "    .sort(\"Age\")\n",
    "    .tail(3)\n",
    "    .collect()\n",
    ")"
   ]
  },
  {
   "cell_type": "markdown",
   "id": "7b4d6ff9-6b06-40c7-9eee-c71c7b29f1d6",
   "metadata": {},
   "source": [
    "## Taking advantage of sorted data\n",
    "\n",
    "For some operations Polars can use a fast track algorithm if it knows the data in a column is sorted.\n",
    "\n",
    "For example, if we want the `max` value on a sorted column a fast-track algorithm would just take the last (non-`null`) value.\n",
    "\n",
    "See my blog post for more background on this: https://www.rhosignal.com/posts/polars-loves-sorted-data-1-statistics/\n",
    "\n",
    "### Checking the sorted status\n",
    "You can check if Polars **thinks** a column is sorted with the `flags` attribute on a column or a `Series`"
   ]
  },
  {
   "cell_type": "code",
   "execution_count": 22,
   "id": "4340f5f2-2fa8-470c-9247-677111e00111",
   "metadata": {
    "tags": [],
    "ExecuteTime": {
     "end_time": "2024-03-04T15:46:44.144121400Z",
     "start_time": "2024-03-04T15:46:44.051088300Z"
    }
   },
   "outputs": [
    {
     "data": {
      "text/plain": "{'SORTED_ASC': False, 'SORTED_DESC': False}"
     },
     "execution_count": 22,
     "metadata": {},
     "output_type": "execute_result"
    }
   ],
   "source": [
    "df[\"PassengerId\"].flags"
   ]
  },
  {
   "cell_type": "markdown",
   "id": "6734a1f9-c8cd-48ac-b79f-4dbc9af15749",
   "metadata": {},
   "source": [
    "In this case as both the ASC and DESC values are `False` Polars doesn't think the `PassengerID` column is sorted (although we know that is sorted)."
   ]
  },
  {
   "cell_type": "markdown",
   "id": "7c142664-f0f8-4f91-843c-ce5865425c52",
   "metadata": {},
   "source": [
    "You can check the status of all columns at once with the `flags` attribute on a `DataFrame`"
   ]
  },
  {
   "cell_type": "code",
   "execution_count": 23,
   "id": "05e8ba5a-9968-428d-a89a-ee802c6164c7",
   "metadata": {
    "ExecuteTime": {
     "end_time": "2024-03-04T15:46:46.632777900Z",
     "start_time": "2024-03-04T15:46:46.467774200Z"
    }
   },
   "outputs": [
    {
     "data": {
      "text/plain": "{'PassengerId': {'SORTED_ASC': False, 'SORTED_DESC': False},\n 'Survived': {'SORTED_ASC': False, 'SORTED_DESC': False},\n 'Pclass': {'SORTED_ASC': False, 'SORTED_DESC': False},\n 'Name': {'SORTED_ASC': False, 'SORTED_DESC': False},\n 'Sex': {'SORTED_ASC': False, 'SORTED_DESC': False},\n 'Age': {'SORTED_ASC': False, 'SORTED_DESC': False},\n 'SibSp': {'SORTED_ASC': False, 'SORTED_DESC': False},\n 'Parch': {'SORTED_ASC': False, 'SORTED_DESC': False},\n 'Ticket': {'SORTED_ASC': False, 'SORTED_DESC': False},\n 'Fare': {'SORTED_ASC': False, 'SORTED_DESC': False},\n 'Cabin': {'SORTED_ASC': False, 'SORTED_DESC': False},\n 'Embarked': {'SORTED_ASC': False, 'SORTED_DESC': False}}"
     },
     "execution_count": 23,
     "metadata": {},
     "output_type": "execute_result"
    }
   ],
   "source": [
    "df.flags"
   ]
  },
  {
   "cell_type": "markdown",
   "id": "76510111-813a-40cd-a76a-0f1bdef9ed36",
   "metadata": {},
   "source": [
    "We can check if a column is actually sorted with the `is_sorted` method:"
   ]
  },
  {
   "cell_type": "code",
   "execution_count": 24,
   "id": "84db168a-bd7d-4b5b-acb4-f65d124315aa",
   "metadata": {
    "ExecuteTime": {
     "end_time": "2024-03-04T15:46:52.892732700Z",
     "start_time": "2024-03-04T15:46:52.847733100Z"
    }
   },
   "outputs": [
    {
     "data": {
      "text/plain": "True"
     },
     "execution_count": 24,
     "metadata": {},
     "output_type": "execute_result"
    }
   ],
   "source": [
    "df[\"PassengerId\"].is_sorted()"
   ]
  },
  {
   "cell_type": "markdown",
   "id": "91aebfac-dc69-474d-bd37-735f19ff3bf8",
   "metadata": {},
   "source": [
    "### Setting the sorted status\n",
    "If we know that a column is sorted then we can let Polars know using `set_sorted`"
   ]
  },
  {
   "cell_type": "code",
   "execution_count": 26,
   "id": "4aec3b92-3f85-4728-a1d0-5c5da6bceb60",
   "metadata": {
    "tags": [],
    "ExecuteTime": {
     "end_time": "2024-03-04T15:47:05.213526300Z",
     "start_time": "2024-03-04T15:47:05.173737800Z"
    }
   },
   "outputs": [
    {
     "data": {
      "text/plain": "{'SORTED_ASC': True, 'SORTED_DESC': False}"
     },
     "execution_count": 26,
     "metadata": {},
     "output_type": "execute_result"
    }
   ],
   "source": [
    "df = (\n",
    "    pl.read_csv(csv_file)\n",
    "    .with_columns(\n",
    "        pl.col(\"PassengerId\").set_sorted()\n",
    "    )\n",
    ")\n",
    "df[\"PassengerId\"].flags"
   ]
  },
  {
   "cell_type": "markdown",
   "id": "22f10bbc-84d9-41e4-a731-2bd74400f7c6",
   "metadata": {},
   "source": [
    "Looking at the output of `flags` we now see `'SORTED_ASC': True`\n",
    "\n",
    "In the exercises we see the major effect `set_sorted` can have on performance.\n",
    "\n",
    "If we transform a column with a sorting operation Polars will automatically update the `flags` attribute for that column"
   ]
  },
  {
   "cell_type": "code",
   "execution_count": 27,
   "id": "1db9ec2e-f306-4f54-aa8b-518657da75df",
   "metadata": {
    "tags": [],
    "ExecuteTime": {
     "end_time": "2024-03-04T15:47:12.829262300Z",
     "start_time": "2024-03-04T15:47:12.699733600Z"
    }
   },
   "outputs": [
    {
     "data": {
      "text/plain": "{'SORTED_ASC': True, 'SORTED_DESC': False}"
     },
     "execution_count": 27,
     "metadata": {},
     "output_type": "execute_result"
    }
   ],
   "source": [
    "df = (\n",
    "    pl.read_csv(csv_file)\n",
    "    .sort(\"PassengerId\")\n",
    ")\n",
    "df[\"PassengerId\"].flags"
   ]
  },
  {
   "cell_type": "markdown",
   "id": "06fc5d0a-c7cb-43dd-9827-f5c1d5f17b25",
   "metadata": {},
   "source": [
    "If the data is sorted descending we tell Polars this by passing the `descending` argument:\n",
    "```python\n",
    "pl.col(\"PassengerId\").set_sorted(descending=True)\n",
    "```\n",
    "\n",
    "### `set_sorted` in an expression\n",
    "We can use `set_sorted` within an expression. \n",
    "\n",
    "For example, if we have a sorted column we can use `set_sorted` to find the `max`"
   ]
  },
  {
   "cell_type": "code",
   "execution_count": 28,
   "id": "4898de85-a208-4f47-a787-dadc14276a31",
   "metadata": {
    "tags": [],
    "ExecuteTime": {
     "end_time": "2024-03-04T15:47:42.446829100Z",
     "start_time": "2024-03-04T15:47:42.400827500Z"
    }
   },
   "outputs": [
    {
     "data": {
      "text/plain": "shape: (1, 1)\n┌─────────────┐\n│ PassengerId │\n│ ---         │\n│ i64         │\n╞═════════════╡\n│ 891         │\n└─────────────┘",
      "text/html": "<div><style>\n.dataframe > thead > tr,\n.dataframe > tbody > tr {\n  text-align: right;\n  white-space: pre-wrap;\n}\n</style>\n<small>shape: (1, 1)</small><table border=\"1\" class=\"dataframe\"><thead><tr><th>PassengerId</th></tr><tr><td>i64</td></tr></thead><tbody><tr><td>891</td></tr></tbody></table></div>"
     },
     "execution_count": 28,
     "metadata": {},
     "output_type": "execute_result"
    }
   ],
   "source": [
    "(\n",
    "    df\n",
    "    .select(\n",
    "        pl.col(\"PassengerId\").set_sorted().max()\n",
    "    )\n",
    ")"
   ]
  },
  {
   "cell_type": "markdown",
   "id": "38b7bcac-3178-4c8b-a85e-e61836952fc8",
   "metadata": {},
   "source": [
    "### Operations with fast-track algorithms\n",
    "The set of operations that have sorted fast-track algorithms is evolving but includes:\n",
    "- min\n",
    "- max\n",
    "- quantile\n",
    "- median (a special case of quantile)\n",
    "- filter\n",
    "- group_by (see the groupby lectures)\n",
    "- join (see the join lectures)"
   ]
  },
  {
   "cell_type": "markdown",
   "id": "608926c6-3527-40ab-9aab-07a78885ab92",
   "metadata": {},
   "source": [
    "## Exercises\n",
    "In the exercises you will develop your understanding of:\n",
    "- sorting a `DataFrame`\n",
    "- sorting in an expression\n",
    "- using fast-track algorithms with `set_sorted`\n",
    "\n",
    "## Exercise 1: Sorting a `DataFrame`\n",
    "Sort the `DataFrame` by whether passengers survived and the alphabetical order of the passenger names.\n",
    "\n",
    "Configure the output to print 10 lines using `pl.Config`"
   ]
  },
  {
   "cell_type": "code",
   "execution_count": 30,
   "id": "58c6e670-aa47-4529-a061-8f2a57d70f23",
   "metadata": {
    "tags": [],
    "ExecuteTime": {
     "end_time": "2024-03-04T15:49:32.928487300Z",
     "start_time": "2024-03-04T15:49:32.849451500Z"
    }
   },
   "outputs": [
    {
     "ename": "SyntaxError",
     "evalue": "invalid syntax (798370332.py, line 1)",
     "output_type": "error",
     "traceback": [
      "\u001B[1;36m  Cell \u001B[1;32mIn[30], line 1\u001B[1;36m\u001B[0m\n\u001B[1;33m    pl.Config<blank>\u001B[0m\n\u001B[1;37m                    ^\u001B[0m\n\u001B[1;31mSyntaxError\u001B[0m\u001B[1;31m:\u001B[0m invalid syntax\n"
     ]
    }
   ],
   "source": [
    "pl.Config<blank>\n",
    "(\n",
    "    pl.read_csv(csv_file)\n",
    ")"
   ]
  },
  {
   "cell_type": "markdown",
   "id": "169a869c-f705-4bdb-9cdd-7963359a79f1",
   "metadata": {},
   "source": [
    "Add a column for the `familySize` which is the sum of the number of siblings (`SibSp` columns), the number of parents or children (`Parch` columns) plus one for the passenger themself.\n",
    "\n",
    "Then sort all of the columns by `familySize` inside an expression"
   ]
  },
  {
   "cell_type": "code",
   "execution_count": null,
   "id": "d90805f3-a707-44d9-8a05-fdee597e8627",
   "metadata": {},
   "outputs": [],
   "source": [
    "(\n",
    "    pl.read_csv(csv_file)\n",
    "    <blank>\n",
    ")"
   ]
  },
  {
   "cell_type": "markdown",
   "id": "cfe21b61-5210-4e08-83f8-35179d2a76b4",
   "metadata": {},
   "source": [
    "## Exercise 2: Using `set_sorted`\n",
    "\n",
    "For this exercise we first create a random array in Numpy and then sort it.\n",
    "\n",
    "We populate a `DataFrame` with the same array in 2 columns:\n",
    "- a column that we **will** tell Polars is sorted called `known_sorted`\n",
    "- a column that we **will not** tell Polars is sorted called `unknown_sorted`"
   ]
  },
  {
   "cell_type": "code",
   "execution_count": 34,
   "id": "8174d7f6-835f-4ac4-b300-081b21ae2cc3",
   "metadata": {
    "tags": [],
    "ExecuteTime": {
     "end_time": "2024-03-04T15:51:12.678667700Z",
     "start_time": "2024-03-04T15:51:11.073529600Z"
    }
   },
   "outputs": [
    {
     "data": {
      "text/plain": "shape: (3, 2)\n┌──────────────┬────────────────┐\n│ known_sorted ┆ unknown_sorted │\n│ ---          ┆ ---            │\n│ f64          ┆ f64            │\n╞══════════════╪════════════════╡\n│ -5.294323    ┆ -5.294323      │\n│ -5.057108    ┆ -5.057108      │\n│ -5.052246    ┆ -5.052246      │\n└──────────────┴────────────────┘",
      "text/html": "<div><style>\n.dataframe > thead > tr,\n.dataframe > tbody > tr {\n  text-align: right;\n  white-space: pre-wrap;\n}\n</style>\n<small>shape: (3, 2)</small><table border=\"1\" class=\"dataframe\"><thead><tr><th>known_sorted</th><th>unknown_sorted</th></tr><tr><td>f64</td><td>f64</td></tr></thead><tbody><tr><td>-5.294323</td><td>-5.294323</td></tr><tr><td>-5.057108</td><td>-5.057108</td></tr><tr><td>-5.052246</td><td>-5.052246</td></tr></tbody></table></div>"
     },
     "execution_count": 34,
     "metadata": {},
     "output_type": "execute_result"
    }
   ],
   "source": [
    "# Create the sorted array\n",
    "import numpy as np\n",
    "\n",
    "N = 10_000_000\n",
    "sorted_array = np.sort(np.random.standard_normal(N))\n",
    "# Create the DataFrame\n",
    "df_sort = pl.DataFrame({\"known_sorted\": sorted_array, \"unknown_sorted\": sorted_array})\n",
    "\n",
    "df_sort.head(3)"
   ]
  },
  {
   "cell_type": "markdown",
   "id": "613ce00c-f3a4-4de2-8c47-5c78be17d8b1",
   "metadata": {},
   "source": [
    "Check to see if Polars thinks the `known_sorted` column is sorted yet"
   ]
  },
  {
   "cell_type": "code",
   "execution_count": 35,
   "id": "08288f1c-86fd-497e-86eb-74e0d1269897",
   "metadata": {
    "tags": [],
    "ExecuteTime": {
     "end_time": "2024-03-04T15:51:17.440881400Z",
     "start_time": "2024-03-04T15:51:17.312356400Z"
    }
   },
   "outputs": [
    {
     "data": {
      "text/plain": "{'known_sorted': {'SORTED_ASC': False, 'SORTED_DESC': False},\n 'unknown_sorted': {'SORTED_ASC': False, 'SORTED_DESC': False}}"
     },
     "execution_count": 35,
     "metadata": {},
     "output_type": "execute_result"
    }
   ],
   "source": [
    "df_sort.flags"
   ]
  },
  {
   "cell_type": "markdown",
   "id": "54a49f4c-a000-4055-8f51-09851765fccf",
   "metadata": {},
   "source": [
    "Tell polars that the `known_sorted` column is sorted"
   ]
  },
  {
   "cell_type": "code",
   "execution_count": 36,
   "id": "00a49aff-8892-4c30-8093-a9fe032abb2e",
   "metadata": {
    "tags": [],
    "ExecuteTime": {
     "end_time": "2024-03-04T15:51:56.501889900Z",
     "start_time": "2024-03-04T15:51:56.437889500Z"
    }
   },
   "outputs": [
    {
     "data": {
      "text/plain": "{'SORTED_ASC': True, 'SORTED_DESC': False}"
     },
     "execution_count": 36,
     "metadata": {},
     "output_type": "execute_result"
    }
   ],
   "source": [
    "df_sort = (\n",
    "    df_sort['known_sorted'].set_sorted()\n",
    ")\n",
    "df_sort.flags"
   ]
  },
  {
   "cell_type": "markdown",
   "id": "edb58eca-e2a6-4600-a729-a79b8a2281a7",
   "metadata": {},
   "source": [
    "Confirm that Polars knows the `known_sorted` column is sorted"
   ]
  },
  {
   "cell_type": "code",
   "execution_count": 37,
   "id": "1747d571-d5b4-448d-b4e3-d23e1f66a1ba",
   "metadata": {
    "tags": [],
    "ExecuteTime": {
     "end_time": "2024-03-04T15:52:18.131508300Z",
     "start_time": "2024-03-04T15:52:18.007507Z"
    }
   },
   "outputs": [
    {
     "data": {
      "text/plain": "{'SORTED_ASC': True, 'SORTED_DESC': False}"
     },
     "execution_count": 37,
     "metadata": {},
     "output_type": "execute_result"
    }
   ],
   "source": [
    "df_sort.flags"
   ]
  },
  {
   "cell_type": "markdown",
   "id": "06ff7129-9da7-496a-91c2-f1b1ad129abb",
   "metadata": {},
   "source": [
    "Compare how long it takes to find the median of each column. \n",
    "\n",
    "> Ignore any you get a message saying that one run took much longer than the others and intermediate values might be cached. This variability in run time is just due to natural variability in runtime. Generally I run it again until i get a stable timing"
   ]
  },
  {
   "cell_type": "code",
   "execution_count": 40,
   "id": "64054d7b-864e-49bd-bc26-fbb9d9b47dd1",
   "metadata": {
    "tags": [],
    "ExecuteTime": {
     "end_time": "2024-03-04T15:54:18.994686700Z",
     "start_time": "2024-03-04T15:54:17.859060800Z"
    }
   },
   "outputs": [
    {
     "ename": "TypeError",
     "evalue": "cannot use `__getitem__` on Series of dtype Float64 with argument 'known_sorted' of type 'str'",
     "output_type": "error",
     "traceback": [
      "\u001B[1;31m---------------------------------------------------------------------------\u001B[0m",
      "\u001B[1;31mTypeError\u001B[0m                                 Traceback (most recent call last)",
      "Cell \u001B[1;32mIn[40], line 1\u001B[0m\n\u001B[1;32m----> 1\u001B[0m \u001B[43mget_ipython\u001B[49m\u001B[43m(\u001B[49m\u001B[43m)\u001B[49m\u001B[38;5;241;43m.\u001B[39;49m\u001B[43mrun_cell_magic\u001B[49m\u001B[43m(\u001B[49m\u001B[38;5;124;43m'\u001B[39;49m\u001B[38;5;124;43mtimeit\u001B[39;49m\u001B[38;5;124;43m'\u001B[39;49m\u001B[43m,\u001B[49m\u001B[43m \u001B[49m\u001B[38;5;124;43m'\u001B[39;49m\u001B[38;5;124;43m-n1 -r5\u001B[39;49m\u001B[38;5;124;43m'\u001B[39;49m\u001B[43m,\u001B[49m\u001B[43m \u001B[49m\u001B[38;5;124;43m\"\u001B[39;49m\u001B[38;5;124;43m(\u001B[39;49m\u001B[38;5;130;43;01m\\n\u001B[39;49;00m\u001B[38;5;124;43m    df_sort[\u001B[39;49m\u001B[38;5;124;43m'\u001B[39;49m\u001B[38;5;124;43mknown_sorted\u001B[39;49m\u001B[38;5;124;43m'\u001B[39;49m\u001B[38;5;124;43m].median()\u001B[39;49m\u001B[38;5;130;43;01m\\n\u001B[39;49;00m\u001B[38;5;124;43m)\u001B[39;49m\u001B[38;5;130;43;01m\\n\u001B[39;49;00m\u001B[38;5;124;43m\"\u001B[39;49m\u001B[43m)\u001B[49m\n",
      "File \u001B[1;32mC:\\winapp\\Anaconda\\envs\\pythonProject\\lib\\site-packages\\IPython\\core\\interactiveshell.py:2475\u001B[0m, in \u001B[0;36mInteractiveShell.run_cell_magic\u001B[1;34m(self, magic_name, line, cell)\u001B[0m\n\u001B[0;32m   2473\u001B[0m \u001B[38;5;28;01mwith\u001B[39;00m \u001B[38;5;28mself\u001B[39m\u001B[38;5;241m.\u001B[39mbuiltin_trap:\n\u001B[0;32m   2474\u001B[0m     args \u001B[38;5;241m=\u001B[39m (magic_arg_s, cell)\n\u001B[1;32m-> 2475\u001B[0m     result \u001B[38;5;241m=\u001B[39m fn(\u001B[38;5;241m*\u001B[39margs, \u001B[38;5;241m*\u001B[39m\u001B[38;5;241m*\u001B[39mkwargs)\n\u001B[0;32m   2477\u001B[0m \u001B[38;5;66;03m# The code below prevents the output from being displayed\u001B[39;00m\n\u001B[0;32m   2478\u001B[0m \u001B[38;5;66;03m# when using magics with decodator @output_can_be_silenced\u001B[39;00m\n\u001B[0;32m   2479\u001B[0m \u001B[38;5;66;03m# when the last Python token in the expression is a ';'.\u001B[39;00m\n\u001B[0;32m   2480\u001B[0m \u001B[38;5;28;01mif\u001B[39;00m \u001B[38;5;28mgetattr\u001B[39m(fn, magic\u001B[38;5;241m.\u001B[39mMAGIC_OUTPUT_CAN_BE_SILENCED, \u001B[38;5;28;01mFalse\u001B[39;00m):\n",
      "File \u001B[1;32mC:\\winapp\\Anaconda\\envs\\pythonProject\\lib\\site-packages\\IPython\\core\\magics\\execution.py:1174\u001B[0m, in \u001B[0;36mExecutionMagics.timeit\u001B[1;34m(self, line, cell, local_ns)\u001B[0m\n\u001B[0;32m   1171\u001B[0m         \u001B[38;5;28;01mif\u001B[39;00m time_number \u001B[38;5;241m>\u001B[39m\u001B[38;5;241m=\u001B[39m \u001B[38;5;241m0.2\u001B[39m:\n\u001B[0;32m   1172\u001B[0m             \u001B[38;5;28;01mbreak\u001B[39;00m\n\u001B[1;32m-> 1174\u001B[0m all_runs \u001B[38;5;241m=\u001B[39m \u001B[43mtimer\u001B[49m\u001B[38;5;241;43m.\u001B[39;49m\u001B[43mrepeat\u001B[49m\u001B[43m(\u001B[49m\u001B[43mrepeat\u001B[49m\u001B[43m,\u001B[49m\u001B[43m \u001B[49m\u001B[43mnumber\u001B[49m\u001B[43m)\u001B[49m\n\u001B[0;32m   1175\u001B[0m best \u001B[38;5;241m=\u001B[39m \u001B[38;5;28mmin\u001B[39m(all_runs) \u001B[38;5;241m/\u001B[39m number\n\u001B[0;32m   1176\u001B[0m worst \u001B[38;5;241m=\u001B[39m \u001B[38;5;28mmax\u001B[39m(all_runs) \u001B[38;5;241m/\u001B[39m number\n",
      "File \u001B[1;32mC:\\winapp\\Anaconda\\envs\\pythonProject\\lib\\timeit.py:206\u001B[0m, in \u001B[0;36mTimer.repeat\u001B[1;34m(self, repeat, number)\u001B[0m\n\u001B[0;32m    204\u001B[0m r \u001B[38;5;241m=\u001B[39m []\n\u001B[0;32m    205\u001B[0m \u001B[38;5;28;01mfor\u001B[39;00m i \u001B[38;5;129;01min\u001B[39;00m \u001B[38;5;28mrange\u001B[39m(repeat):\n\u001B[1;32m--> 206\u001B[0m     t \u001B[38;5;241m=\u001B[39m \u001B[38;5;28;43mself\u001B[39;49m\u001B[38;5;241;43m.\u001B[39;49m\u001B[43mtimeit\u001B[49m\u001B[43m(\u001B[49m\u001B[43mnumber\u001B[49m\u001B[43m)\u001B[49m\n\u001B[0;32m    207\u001B[0m     r\u001B[38;5;241m.\u001B[39mappend(t)\n\u001B[0;32m    208\u001B[0m \u001B[38;5;28;01mreturn\u001B[39;00m r\n",
      "File \u001B[1;32mC:\\winapp\\Anaconda\\envs\\pythonProject\\lib\\site-packages\\IPython\\core\\magics\\execution.py:158\u001B[0m, in \u001B[0;36mTimer.timeit\u001B[1;34m(self, number)\u001B[0m\n\u001B[0;32m    156\u001B[0m gc\u001B[38;5;241m.\u001B[39mdisable()\n\u001B[0;32m    157\u001B[0m \u001B[38;5;28;01mtry\u001B[39;00m:\n\u001B[1;32m--> 158\u001B[0m     timing \u001B[38;5;241m=\u001B[39m \u001B[38;5;28;43mself\u001B[39;49m\u001B[38;5;241;43m.\u001B[39;49m\u001B[43minner\u001B[49m\u001B[43m(\u001B[49m\u001B[43mit\u001B[49m\u001B[43m,\u001B[49m\u001B[43m \u001B[49m\u001B[38;5;28;43mself\u001B[39;49m\u001B[38;5;241;43m.\u001B[39;49m\u001B[43mtimer\u001B[49m\u001B[43m)\u001B[49m\n\u001B[0;32m    159\u001B[0m \u001B[38;5;28;01mfinally\u001B[39;00m:\n\u001B[0;32m    160\u001B[0m     \u001B[38;5;28;01mif\u001B[39;00m gcold:\n",
      "File \u001B[1;32m<magic-timeit>:2\u001B[0m, in \u001B[0;36minner\u001B[1;34m(_it, _timer)\u001B[0m\n",
      "File \u001B[1;32mC:\\winapp\\Anaconda\\envs\\pythonProject\\lib\\site-packages\\polars\\series\\series.py:1353\u001B[0m, in \u001B[0;36mSeries.__getitem__\u001B[1;34m(self, item)\u001B[0m\n\u001B[0;32m   1347\u001B[0m     \u001B[38;5;28;01mreturn\u001B[39;00m \u001B[38;5;28mself\u001B[39m\u001B[38;5;241m.\u001B[39m_take_with_series(idx_series)\n\u001B[0;32m   1349\u001B[0m msg \u001B[38;5;241m=\u001B[39m (\n\u001B[0;32m   1350\u001B[0m     \u001B[38;5;124mf\u001B[39m\u001B[38;5;124m\"\u001B[39m\u001B[38;5;124mcannot use `__getitem__` on Series of dtype \u001B[39m\u001B[38;5;132;01m{\u001B[39;00m\u001B[38;5;28mself\u001B[39m\u001B[38;5;241m.\u001B[39mdtype\u001B[38;5;132;01m!r}\u001B[39;00m\u001B[38;5;124m\"\u001B[39m\n\u001B[0;32m   1351\u001B[0m     \u001B[38;5;124mf\u001B[39m\u001B[38;5;124m\"\u001B[39m\u001B[38;5;124m with argument \u001B[39m\u001B[38;5;132;01m{\u001B[39;00mitem\u001B[38;5;132;01m!r}\u001B[39;00m\u001B[38;5;124m of type \u001B[39m\u001B[38;5;132;01m{\u001B[39;00m\u001B[38;5;28mtype\u001B[39m(item)\u001B[38;5;241m.\u001B[39m\u001B[38;5;18m__name__\u001B[39m\u001B[38;5;132;01m!r}\u001B[39;00m\u001B[38;5;124m\"\u001B[39m\n\u001B[0;32m   1352\u001B[0m )\n\u001B[1;32m-> 1353\u001B[0m \u001B[38;5;28;01mraise\u001B[39;00m \u001B[38;5;167;01mTypeError\u001B[39;00m(msg)\n",
      "\u001B[1;31mTypeError\u001B[0m: cannot use `__getitem__` on Series of dtype Float64 with argument 'known_sorted' of type 'str'"
     ]
    }
   ],
   "source": [
    "%%timeit -n1 -r5\n",
    "(\n",
    "    df_sort['known_sorted'].median()\n",
    ")"
   ]
  },
  {
   "cell_type": "code",
   "execution_count": null,
   "id": "b982d266-7225-4591-9b07-99a7864a6373",
   "metadata": {
    "tags": []
   },
   "outputs": [],
   "source": [
    "%%timeit -n1 -r5\n",
    "(\n",
    "    df_sort\n",
    "    <blank>\n",
    ")"
   ]
  },
  {
   "cell_type": "markdown",
   "id": "1190f5ca-d250-4972-8bec-a87d1579095d",
   "metadata": {},
   "source": [
    "We want to filter each `DataFrame` to find values less than -2. Compare how long it takes when we apply the filter to the `known_sorted` column compared to the `unknown_sorted` column"
   ]
  },
  {
   "cell_type": "code",
   "execution_count": null,
   "id": "645f4f00-06d0-4356-a513-00c711c26fcf",
   "metadata": {},
   "outputs": [],
   "source": [
    "%%timeit -n1 -r5\n",
    "(\n",
    "    df_sort\n",
    "    <blank>\n",
    ")"
   ]
  },
  {
   "cell_type": "code",
   "execution_count": null,
   "id": "7a23ad1f-5d88-4448-83f0-1b73794f589c",
   "metadata": {},
   "outputs": [],
   "source": []
  },
  {
   "cell_type": "markdown",
   "id": "ec5a814b-abad-450c-8c19-1b1c5f29c53c",
   "metadata": {},
   "source": [
    "The size of the performance difference varies depending on where in the sorted range we are looking for values. To explore this you can comapare performance for e.g. >-2 or <4\n",
    "\n",
    "You can also vary `N` to see how the difference changes with length."
   ]
  },
  {
   "cell_type": "markdown",
   "id": "8953b08b-9aa6-4443-b933-7066f7f78d0e",
   "metadata": {},
   "source": [
    "## Solutions\n",
    "\n",
    "## Solution to Exercise 1\n",
    "Sort the `DataFrame` by survival and alphabetical order of the passenger names"
   ]
  },
  {
   "cell_type": "code",
   "execution_count": 29,
   "id": "8b597b46-5798-46a6-b850-588ea6236239",
   "metadata": {
    "jupyter": {
     "source_hidden": true
    },
    "tags": [],
    "ExecuteTime": {
     "end_time": "2024-03-04T15:48:43.731175100Z",
     "start_time": "2024-03-04T15:48:43.682191100Z"
    }
   },
   "outputs": [
    {
     "data": {
      "text/plain": "shape: (891, 12)\n┌─────────────┬──────────┬────────┬──────────────────┬───┬───────────┬──────────┬───────┬──────────┐\n│ PassengerId ┆ Survived ┆ Pclass ┆ Name             ┆ … ┆ Ticket    ┆ Fare     ┆ Cabin ┆ Embarked │\n│ ---         ┆ ---      ┆ ---    ┆ ---              ┆   ┆ ---       ┆ ---      ┆ ---   ┆ ---      │\n│ i64         ┆ i64      ┆ i64    ┆ str              ┆   ┆ str       ┆ f64      ┆ str   ┆ str      │\n╞═════════════╪══════════╪════════╪══════════════════╪═══╪═══════════╪══════════╪═══════╪══════════╡\n│ 846         ┆ 0        ┆ 3      ┆ Abbing, Mr.      ┆ … ┆ C.A. 5547 ┆ 7.55     ┆ null  ┆ S        │\n│             ┆          ┆        ┆ Anthony          ┆   ┆           ┆          ┆       ┆          │\n│ 747         ┆ 0        ┆ 3      ┆ Abbott, Mr.      ┆ … ┆ C.A. 2673 ┆ 20.25    ┆ null  ┆ S        │\n│             ┆          ┆        ┆ Rossmore Edward  ┆   ┆           ┆          ┆       ┆          │\n│ 309         ┆ 0        ┆ 2      ┆ Abelson, Mr.     ┆ … ┆ P/PP 3381 ┆ 24.0     ┆ null  ┆ C        │\n│             ┆          ┆        ┆ Samuel           ┆   ┆           ┆          ┆       ┆          │\n│ 366         ┆ 0        ┆ 3      ┆ Adahl, Mr.       ┆ … ┆ C 7076    ┆ 7.25     ┆ null  ┆ S        │\n│             ┆          ┆        ┆ Mauritz Nils     ┆   ┆           ┆          ┆       ┆          │\n│             ┆          ┆        ┆ Martin           ┆   ┆           ┆          ┆       ┆          │\n│ 402         ┆ 0        ┆ 3      ┆ Adams, Mr. John  ┆ … ┆ 341826    ┆ 8.05     ┆ null  ┆ S        │\n│ …           ┆ …        ┆ …      ┆ …                ┆ … ┆ …         ┆ …        ┆ …     ┆ …        │\n│ 56          ┆ 1        ┆ 1      ┆ Woolner, Mr.     ┆ … ┆ 19947     ┆ 35.5     ┆ C52   ┆ S        │\n│             ┆          ┆        ┆ Hugh             ┆   ┆           ┆          ┆       ┆          │\n│ 831         ┆ 1        ┆ 3      ┆ Yasbeck, Mrs.    ┆ … ┆ 2659      ┆ 14.4542  ┆ null  ┆ C        │\n│             ┆          ┆        ┆ Antoni (Selini   ┆   ┆           ┆          ┆       ┆          │\n│             ┆          ┆        ┆ Alexander)       ┆   ┆           ┆          ┆       ┆          │\n│ 326         ┆ 1        ┆ 1      ┆ Young, Miss.     ┆ … ┆ PC 17760  ┆ 135.6333 ┆ C32   ┆ C        │\n│             ┆          ┆        ┆ Marie Grice      ┆   ┆           ┆          ┆       ┆          │\n│ 560         ┆ 1        ┆ 3      ┆ de Messemaeker,  ┆ … ┆ 345572    ┆ 17.4     ┆ null  ┆ S        │\n│             ┆          ┆        ┆ Mrs. Guillaume   ┆   ┆           ┆          ┆       ┆          │\n│             ┆          ┆        ┆ Joseph (Emma)    ┆   ┆           ┆          ┆       ┆          │\n│ 287         ┆ 1        ┆ 3      ┆ de Mulder, Mr.   ┆ … ┆ 345774    ┆ 9.5      ┆ null  ┆ S        │\n│             ┆          ┆        ┆ Theodore         ┆   ┆           ┆          ┆       ┆          │\n└─────────────┴──────────┴────────┴──────────────────┴───┴───────────┴──────────┴───────┴──────────┘",
      "text/html": "<div><style>\n.dataframe > thead > tr,\n.dataframe > tbody > tr {\n  text-align: right;\n  white-space: pre-wrap;\n}\n</style>\n<small>shape: (891, 12)</small><table border=\"1\" class=\"dataframe\"><thead><tr><th>PassengerId</th><th>Survived</th><th>Pclass</th><th>Name</th><th>Sex</th><th>Age</th><th>SibSp</th><th>Parch</th><th>Ticket</th><th>Fare</th><th>Cabin</th><th>Embarked</th></tr><tr><td>i64</td><td>i64</td><td>i64</td><td>str</td><td>str</td><td>f64</td><td>i64</td><td>i64</td><td>str</td><td>f64</td><td>str</td><td>str</td></tr></thead><tbody><tr><td>846</td><td>0</td><td>3</td><td>&quot;Abbing, Mr. Anthony&quot;</td><td>&quot;male&quot;</td><td>42.0</td><td>0</td><td>0</td><td>&quot;C.A. 5547&quot;</td><td>7.55</td><td>null</td><td>&quot;S&quot;</td></tr><tr><td>747</td><td>0</td><td>3</td><td>&quot;Abbott, Mr. Rossmore Edward&quot;</td><td>&quot;male&quot;</td><td>16.0</td><td>1</td><td>1</td><td>&quot;C.A. 2673&quot;</td><td>20.25</td><td>null</td><td>&quot;S&quot;</td></tr><tr><td>309</td><td>0</td><td>2</td><td>&quot;Abelson, Mr. Samuel&quot;</td><td>&quot;male&quot;</td><td>30.0</td><td>1</td><td>0</td><td>&quot;P/PP 3381&quot;</td><td>24.0</td><td>null</td><td>&quot;C&quot;</td></tr><tr><td>366</td><td>0</td><td>3</td><td>&quot;Adahl, Mr. Mauritz Nils Martin&quot;</td><td>&quot;male&quot;</td><td>30.0</td><td>0</td><td>0</td><td>&quot;C 7076&quot;</td><td>7.25</td><td>null</td><td>&quot;S&quot;</td></tr><tr><td>402</td><td>0</td><td>3</td><td>&quot;Adams, Mr. John&quot;</td><td>&quot;male&quot;</td><td>26.0</td><td>0</td><td>0</td><td>&quot;341826&quot;</td><td>8.05</td><td>null</td><td>&quot;S&quot;</td></tr><tr><td>&hellip;</td><td>&hellip;</td><td>&hellip;</td><td>&hellip;</td><td>&hellip;</td><td>&hellip;</td><td>&hellip;</td><td>&hellip;</td><td>&hellip;</td><td>&hellip;</td><td>&hellip;</td><td>&hellip;</td></tr><tr><td>56</td><td>1</td><td>1</td><td>&quot;Woolner, Mr. Hugh&quot;</td><td>&quot;male&quot;</td><td>null</td><td>0</td><td>0</td><td>&quot;19947&quot;</td><td>35.5</td><td>&quot;C52&quot;</td><td>&quot;S&quot;</td></tr><tr><td>831</td><td>1</td><td>3</td><td>&quot;Yasbeck, Mrs. Antoni (Selini Alexander)&quot;</td><td>&quot;female&quot;</td><td>15.0</td><td>1</td><td>0</td><td>&quot;2659&quot;</td><td>14.4542</td><td>null</td><td>&quot;C&quot;</td></tr><tr><td>326</td><td>1</td><td>1</td><td>&quot;Young, Miss. Marie Grice&quot;</td><td>&quot;female&quot;</td><td>36.0</td><td>0</td><td>0</td><td>&quot;PC 17760&quot;</td><td>135.6333</td><td>&quot;C32&quot;</td><td>&quot;C&quot;</td></tr><tr><td>560</td><td>1</td><td>3</td><td>&quot;de Messemaeker, Mrs. Guillaume Joseph (Emma)&quot;</td><td>&quot;female&quot;</td><td>36.0</td><td>1</td><td>0</td><td>&quot;345572&quot;</td><td>17.4</td><td>null</td><td>&quot;S&quot;</td></tr><tr><td>287</td><td>1</td><td>3</td><td>&quot;de Mulder, Mr. Theodore&quot;</td><td>&quot;male&quot;</td><td>30.0</td><td>0</td><td>0</td><td>&quot;345774&quot;</td><td>9.5</td><td>null</td><td>&quot;S&quot;</td></tr></tbody></table></div>"
     },
     "execution_count": 29,
     "metadata": {},
     "output_type": "execute_result"
    }
   ],
   "source": [
    "pl.Config.set_tbl_rows(10)\n",
    "(\n",
    "    pl.read_csv(csv_file)\n",
    "    .sort(\n",
    "        [\"Survived\",\"Name\"]\n",
    "    )\n",
    ")"
   ]
  },
  {
   "cell_type": "markdown",
   "id": "4d63c938-e509-48e1-96f1-b572bc7fe2f6",
   "metadata": {},
   "source": [
    "Add a column for the `familySize` which is the sum of the number of siblings (`SibSp` columns), the number of parents or children (`Parch` columns) plus one for the passenger themself.\n",
    "\n",
    "Then sort all of the columns by `familySize` inside an expression"
   ]
  },
  {
   "cell_type": "code",
   "execution_count": 31,
   "id": "7bbebe46-af91-47b3-94d0-b1d3ffe1a039",
   "metadata": {
    "jupyter": {
     "source_hidden": true
    },
    "tags": [],
    "ExecuteTime": {
     "end_time": "2024-03-04T15:50:01.005597900Z",
     "start_time": "2024-03-04T15:50:00.893049300Z"
    }
   },
   "outputs": [
    {
     "data": {
      "text/plain": "shape: (891, 13)\n┌─────────────┬──────────┬────────┬──────────────────┬───┬─────────┬───────┬──────────┬────────────┐\n│ PassengerId ┆ Survived ┆ Pclass ┆ Name             ┆ … ┆ Fare    ┆ Cabin ┆ Embarked ┆ familySize │\n│ ---         ┆ ---      ┆ ---    ┆ ---              ┆   ┆ ---     ┆ ---   ┆ ---      ┆ ---        │\n│ i64         ┆ i64      ┆ i64    ┆ str              ┆   ┆ f64     ┆ str   ┆ str      ┆ i64        │\n╞═════════════╪══════════╪════════╪══════════════════╪═══╪═════════╪═══════╪══════════╪════════════╡\n│ 3           ┆ 1        ┆ 3      ┆ Heikkinen, Miss. ┆ … ┆ 7.925   ┆ null  ┆ S        ┆ 1          │\n│             ┆          ┆        ┆ Laina            ┆   ┆         ┆       ┆          ┆            │\n│ 5           ┆ 0        ┆ 3      ┆ Allen, Mr.       ┆ … ┆ 8.05    ┆ null  ┆ S        ┆ 1          │\n│             ┆          ┆        ┆ William Henry    ┆   ┆         ┆       ┆          ┆            │\n│ 6           ┆ 0        ┆ 3      ┆ Moran, Mr. James ┆ … ┆ 8.4583  ┆ null  ┆ Q        ┆ 1          │\n│ 7           ┆ 0        ┆ 1      ┆ McCarthy, Mr.    ┆ … ┆ 51.8625 ┆ E46   ┆ S        ┆ 1          │\n│             ┆          ┆        ┆ Timothy J        ┆   ┆         ┆       ┆          ┆            │\n│ 12          ┆ 1        ┆ 1      ┆ Bonnell, Miss.   ┆ … ┆ 26.55   ┆ C103  ┆ S        ┆ 1          │\n│             ┆          ┆        ┆ Elizabeth        ┆   ┆         ┆       ┆          ┆            │\n│ …           ┆ …        ┆ …      ┆ …                ┆ … ┆ …       ┆ …     ┆ …        ┆ …          │\n│ 202         ┆ 0        ┆ 3      ┆ Sage, Mr.        ┆ … ┆ 69.55   ┆ null  ┆ S        ┆ 11         │\n│             ┆          ┆        ┆ Frederick        ┆   ┆         ┆       ┆          ┆            │\n│ 325         ┆ 0        ┆ 3      ┆ Sage, Mr. George ┆ … ┆ 69.55   ┆ null  ┆ S        ┆ 11         │\n│             ┆          ┆        ┆ John Jr          ┆   ┆         ┆       ┆          ┆            │\n│ 793         ┆ 0        ┆ 3      ┆ Sage, Miss.      ┆ … ┆ 69.55   ┆ null  ┆ S        ┆ 11         │\n│             ┆          ┆        ┆ Stella Anna      ┆   ┆         ┆       ┆          ┆            │\n│ 847         ┆ 0        ┆ 3      ┆ Sage, Mr.        ┆ … ┆ 69.55   ┆ null  ┆ S        ┆ 11         │\n│             ┆          ┆        ┆ Douglas Bullen   ┆   ┆         ┆       ┆          ┆            │\n│ 864         ┆ 0        ┆ 3      ┆ Sage, Miss.      ┆ … ┆ 69.55   ┆ null  ┆ S        ┆ 11         │\n│             ┆          ┆        ┆ Dorothy Edith    ┆   ┆         ┆       ┆          ┆            │\n│             ┆          ┆        ┆ \"Dolly\"          ┆   ┆         ┆       ┆          ┆            │\n└─────────────┴──────────┴────────┴──────────────────┴───┴─────────┴───────┴──────────┴────────────┘",
      "text/html": "<div><style>\n.dataframe > thead > tr,\n.dataframe > tbody > tr {\n  text-align: right;\n  white-space: pre-wrap;\n}\n</style>\n<small>shape: (891, 13)</small><table border=\"1\" class=\"dataframe\"><thead><tr><th>PassengerId</th><th>Survived</th><th>Pclass</th><th>Name</th><th>Sex</th><th>Age</th><th>SibSp</th><th>Parch</th><th>Ticket</th><th>Fare</th><th>Cabin</th><th>Embarked</th><th>familySize</th></tr><tr><td>i64</td><td>i64</td><td>i64</td><td>str</td><td>str</td><td>f64</td><td>i64</td><td>i64</td><td>str</td><td>f64</td><td>str</td><td>str</td><td>i64</td></tr></thead><tbody><tr><td>3</td><td>1</td><td>3</td><td>&quot;Heikkinen, Miss. Laina&quot;</td><td>&quot;female&quot;</td><td>26.0</td><td>0</td><td>0</td><td>&quot;STON/O2. 3101282&quot;</td><td>7.925</td><td>null</td><td>&quot;S&quot;</td><td>1</td></tr><tr><td>5</td><td>0</td><td>3</td><td>&quot;Allen, Mr. William Henry&quot;</td><td>&quot;male&quot;</td><td>35.0</td><td>0</td><td>0</td><td>&quot;373450&quot;</td><td>8.05</td><td>null</td><td>&quot;S&quot;</td><td>1</td></tr><tr><td>6</td><td>0</td><td>3</td><td>&quot;Moran, Mr. James&quot;</td><td>&quot;male&quot;</td><td>null</td><td>0</td><td>0</td><td>&quot;330877&quot;</td><td>8.4583</td><td>null</td><td>&quot;Q&quot;</td><td>1</td></tr><tr><td>7</td><td>0</td><td>1</td><td>&quot;McCarthy, Mr. Timothy J&quot;</td><td>&quot;male&quot;</td><td>54.0</td><td>0</td><td>0</td><td>&quot;17463&quot;</td><td>51.8625</td><td>&quot;E46&quot;</td><td>&quot;S&quot;</td><td>1</td></tr><tr><td>12</td><td>1</td><td>1</td><td>&quot;Bonnell, Miss. Elizabeth&quot;</td><td>&quot;female&quot;</td><td>58.0</td><td>0</td><td>0</td><td>&quot;113783&quot;</td><td>26.55</td><td>&quot;C103&quot;</td><td>&quot;S&quot;</td><td>1</td></tr><tr><td>&hellip;</td><td>&hellip;</td><td>&hellip;</td><td>&hellip;</td><td>&hellip;</td><td>&hellip;</td><td>&hellip;</td><td>&hellip;</td><td>&hellip;</td><td>&hellip;</td><td>&hellip;</td><td>&hellip;</td><td>&hellip;</td></tr><tr><td>202</td><td>0</td><td>3</td><td>&quot;Sage, Mr. Frederick&quot;</td><td>&quot;male&quot;</td><td>null</td><td>8</td><td>2</td><td>&quot;CA. 2343&quot;</td><td>69.55</td><td>null</td><td>&quot;S&quot;</td><td>11</td></tr><tr><td>325</td><td>0</td><td>3</td><td>&quot;Sage, Mr. George John Jr&quot;</td><td>&quot;male&quot;</td><td>null</td><td>8</td><td>2</td><td>&quot;CA. 2343&quot;</td><td>69.55</td><td>null</td><td>&quot;S&quot;</td><td>11</td></tr><tr><td>793</td><td>0</td><td>3</td><td>&quot;Sage, Miss. Stella Anna&quot;</td><td>&quot;female&quot;</td><td>null</td><td>8</td><td>2</td><td>&quot;CA. 2343&quot;</td><td>69.55</td><td>null</td><td>&quot;S&quot;</td><td>11</td></tr><tr><td>847</td><td>0</td><td>3</td><td>&quot;Sage, Mr. Douglas Bullen&quot;</td><td>&quot;male&quot;</td><td>null</td><td>8</td><td>2</td><td>&quot;CA. 2343&quot;</td><td>69.55</td><td>null</td><td>&quot;S&quot;</td><td>11</td></tr><tr><td>864</td><td>0</td><td>3</td><td>&quot;Sage, Miss. Dorothy Edith &quot;Dolly&quot;&quot;</td><td>&quot;female&quot;</td><td>null</td><td>8</td><td>2</td><td>&quot;CA. 2343&quot;</td><td>69.55</td><td>null</td><td>&quot;S&quot;</td><td>11</td></tr></tbody></table></div>"
     },
     "execution_count": 31,
     "metadata": {},
     "output_type": "execute_result"
    }
   ],
   "source": [
    "(\n",
    "    pl.read_csv(csv_file)\n",
    "    .with_columns( \n",
    "        (\n",
    "            pl.col('SibSp') + pl.col('Parch') + 1\n",
    "        ).alias('familySize')\n",
    "    )\n",
    "    .select(\n",
    "        pl.all().sort_by(\"familySize\")\n",
    "    )\n",
    ")"
   ]
  },
  {
   "cell_type": "markdown",
   "id": "98d92ab6-06d5-4b42-b31e-7eb71cbebd1a",
   "metadata": {
    "collapsed": true,
    "jupyter": {
     "outputs_hidden": true
    },
    "tags": []
   },
   "source": [
    "## Solution to exercise 2\n"
   ]
  },
  {
   "cell_type": "markdown",
   "id": "37696406-8caa-40ad-b1e4-058ec0079af7",
   "metadata": {},
   "source": [
    "Create the `DataFrame`"
   ]
  },
  {
   "cell_type": "code",
   "execution_count": 43,
   "id": "923dbbcc-8dc1-4027-9b9b-880df49e06de",
   "metadata": {
    "tags": [],
    "ExecuteTime": {
     "end_time": "2024-03-04T15:54:44.748275400Z",
     "start_time": "2024-03-04T15:54:42.783447400Z"
    }
   },
   "outputs": [
    {
     "data": {
      "text/plain": "shape: (3, 2)\n┌──────────────┬────────────────┐\n│ known_sorted ┆ unknown_sorted │\n│ ---          ┆ ---            │\n│ f64          ┆ f64            │\n╞══════════════╪════════════════╡\n│ -5.405904    ┆ -5.405904      │\n│ -5.264049    ┆ -5.264049      │\n│ -4.975963    ┆ -4.975963      │\n└──────────────┴────────────────┘",
      "text/html": "<div><style>\n.dataframe > thead > tr,\n.dataframe > tbody > tr {\n  text-align: right;\n  white-space: pre-wrap;\n}\n</style>\n<small>shape: (3, 2)</small><table border=\"1\" class=\"dataframe\"><thead><tr><th>known_sorted</th><th>unknown_sorted</th></tr><tr><td>f64</td><td>f64</td></tr></thead><tbody><tr><td>-5.405904</td><td>-5.405904</td></tr><tr><td>-5.264049</td><td>-5.264049</td></tr><tr><td>-4.975963</td><td>-4.975963</td></tr></tbody></table></div>"
     },
     "execution_count": 43,
     "metadata": {},
     "output_type": "execute_result"
    }
   ],
   "source": [
    "import numpy as np\n",
    "\n",
    "N = 10_000_000\n",
    "sorted_array = np.sort(np.random.standard_normal(N))\n",
    "df_sort = pl.DataFrame({\"known_sorted\": sorted_array, \"unknown_sorted\": sorted_array})\n",
    "\n",
    "df_sort.head(3)"
   ]
  },
  {
   "cell_type": "markdown",
   "id": "e20ebcd9-ac72-41fe-9d27-dbad15548046",
   "metadata": {},
   "source": [
    "Check to see if Polars thinks the `known_sorted` column is sorted yet"
   ]
  },
  {
   "cell_type": "code",
   "execution_count": 44,
   "id": "1ef6025c-ad78-4704-ba2a-12c4b507c3a9",
   "metadata": {
    "jupyter": {
     "source_hidden": true
    },
    "tags": [],
    "ExecuteTime": {
     "end_time": "2024-03-04T15:54:45.832555700Z",
     "start_time": "2024-03-04T15:54:45.656032500Z"
    }
   },
   "outputs": [
    {
     "data": {
      "text/plain": "{'SORTED_ASC': False, 'SORTED_DESC': False}"
     },
     "execution_count": 44,
     "metadata": {},
     "output_type": "execute_result"
    }
   ],
   "source": [
    "df_sort[\"known_sorted\"].flags"
   ]
  },
  {
   "cell_type": "markdown",
   "id": "b3932b07-32f2-43df-81ce-9871a8f0468e",
   "metadata": {
    "collapsed": true,
    "jupyter": {
     "outputs_hidden": true
    },
    "tags": []
   },
   "source": [
    "Tell polars that the `known_sorted` column is sorted"
   ]
  },
  {
   "cell_type": "code",
   "execution_count": 45,
   "id": "9493ad27-f6dd-441f-b0e8-53b6e52e5b38",
   "metadata": {
    "ExecuteTime": {
     "end_time": "2024-03-04T15:54:47.593918300Z",
     "start_time": "2024-03-04T15:54:47.533863100Z"
    }
   },
   "outputs": [],
   "source": [
    "df_sort = (\n",
    "    df_sort\n",
    "    .with_columns(\n",
    "        pl.col('known_sorted').set_sorted()\n",
    "    )\n",
    ")"
   ]
  },
  {
   "cell_type": "markdown",
   "id": "6f346be7-39f6-46ac-899b-f6745aedc922",
   "metadata": {},
   "source": [
    "Confirm that Polars knows the `known_sorted` column is sorted"
   ]
  },
  {
   "cell_type": "code",
   "execution_count": 46,
   "id": "4e23da6f-8859-4196-bba8-8aacf1bbc9b7",
   "metadata": {
    "tags": [],
    "ExecuteTime": {
     "end_time": "2024-03-04T15:54:49.297866500Z",
     "start_time": "2024-03-04T15:54:49.237869100Z"
    }
   },
   "outputs": [
    {
     "data": {
      "text/plain": "{'SORTED_ASC': True, 'SORTED_DESC': False}"
     },
     "execution_count": 46,
     "metadata": {},
     "output_type": "execute_result"
    }
   ],
   "source": [
    "df_sort[\"known_sorted\"].flags"
   ]
  },
  {
   "cell_type": "markdown",
   "id": "04e65c1d-d2ad-4694-ae6a-5c2df866b125",
   "metadata": {},
   "source": [
    "Compare how long it takes to find the median of each column.  Ignore any you get a message saying that one run took much longer than the others and intermediate values might be cached. This variability in run time is just something that can happen"
   ]
  },
  {
   "cell_type": "code",
   "execution_count": 47,
   "id": "3e5ade4e-da93-4caa-86e0-af2170f67102",
   "metadata": {
    "tags": [],
    "ExecuteTime": {
     "end_time": "2024-03-04T15:54:50.666090100Z",
     "start_time": "2024-03-04T15:54:50.618091100Z"
    }
   },
   "outputs": [
    {
     "name": "stdout",
     "output_type": "stream",
     "text": [
      "The slowest run took 6.63 times longer than the fastest. This could mean that an intermediate result is being cached.\n",
      "309 µs ± 198 µs per loop (mean ± std. dev. of 5 runs, 1 loop each)\n"
     ]
    }
   ],
   "source": [
    "%%timeit -n1 -r5\n",
    "(\n",
    "    df_sort\n",
    "    .select(\n",
    "        pl.col(\"known_sorted\").median()\n",
    "    )\n",
    ")"
   ]
  },
  {
   "cell_type": "code",
   "execution_count": 48,
   "id": "e4de19e9-2a39-4357-9c14-10afbd87193c",
   "metadata": {
    "tags": [],
    "ExecuteTime": {
     "end_time": "2024-03-04T15:54:52.284246100Z",
     "start_time": "2024-03-04T15:54:51.924550200Z"
    }
   },
   "outputs": [
    {
     "name": "stdout",
     "output_type": "stream",
     "text": [
      "69.4 ms ± 14.6 ms per loop (mean ± std. dev. of 5 runs, 1 loop each)\n"
     ]
    }
   ],
   "source": [
    "%%timeit -n1 -r5\n",
    "(\n",
    "    df_sort\n",
    "    .select(\n",
    "        pl.col(\"unknown_sorted\").median()\n",
    "    )\n",
    ")"
   ]
  },
  {
   "cell_type": "markdown",
   "id": "3968d0a4-1cfd-4c54-99b1-4db52fecb9a0",
   "metadata": {},
   "source": [
    "We want to filter the `DataFrame` by the `known_sorted` and `unknown_sorted` columns to find values less than -2. Compare how long it takes when we apply the filter to the `known_sorted` column compared to the `unknown_sorted` column"
   ]
  },
  {
   "cell_type": "code",
   "execution_count": 49,
   "id": "ad1d30ab-5c8a-41ed-bcbb-902d49bbb67a",
   "metadata": {
    "ExecuteTime": {
     "end_time": "2024-03-04T15:54:53.682910400Z",
     "start_time": "2024-03-04T15:54:53.576907300Z"
    }
   },
   "outputs": [
    {
     "name": "stdout",
     "output_type": "stream",
     "text": [
      "3.47 ms ± 764 µs per loop (mean ± std. dev. of 5 runs, 1 loop each)\n"
     ]
    }
   ],
   "source": [
    "%%timeit -n1 -r5\n",
    "(\n",
    "    df_sort\n",
    "    .filter(\n",
    "        pl.col(\"known_sorted\") < -2\n",
    "    )\n",
    ")"
   ]
  },
  {
   "cell_type": "code",
   "execution_count": 50,
   "id": "aea30ace-d5a5-4417-ad3f-272d172dc496",
   "metadata": {
    "ExecuteTime": {
     "end_time": "2024-03-04T15:55:02.561603900Z",
     "start_time": "2024-03-04T15:55:02.464605700Z"
    }
   },
   "outputs": [
    {
     "name": "stdout",
     "output_type": "stream",
     "text": [
      "7.85 ms ± 1.01 ms per loop (mean ± std. dev. of 5 runs, 1 loop each)\n"
     ]
    }
   ],
   "source": [
    "%%timeit -n1 -r5\n",
    "(\n",
    "    df_sort\n",
    "    .filter(\n",
    "        pl.col(\"unknown_sorted\") < -2\n",
    "    )\n",
    ")"
   ]
  },
  {
   "cell_type": "code",
   "execution_count": null,
   "outputs": [],
   "source": [],
   "metadata": {
    "collapsed": false
   }
  }
 ],
 "metadata": {
  "kernelspec": {
   "display_name": "Python 3 (ipykernel)",
   "language": "python",
   "name": "python3"
  },
  "language_info": {
   "codemirror_mode": {
    "name": "ipython",
    "version": 3
   },
   "file_extension": ".py",
   "mimetype": "text/x-python",
   "name": "python",
   "nbconvert_exporter": "python",
   "pygments_lexer": "ipython3",
   "version": "3.10.1"
  }
 },
 "nbformat": 4,
 "nbformat_minor": 5
}
