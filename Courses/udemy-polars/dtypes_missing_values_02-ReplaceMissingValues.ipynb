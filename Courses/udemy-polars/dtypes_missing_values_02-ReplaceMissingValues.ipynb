{
 "cells": [
  {
   "cell_type": "markdown",
   "id": "37402c9b-9b3b-42ee-b99e-a4486562f068",
   "metadata": {},
   "source": [
    "## Replacing missing values\n",
    "By the end of this lecture you will be able to:\n",
    "- replace missing values with a constant\n",
    "- replace missing values with a strategy"
   ]
  },
  {
   "cell_type": "code",
   "execution_count": 1,
   "id": "c6eeec38-daf3-4680-b36d-9ad03c782454",
   "metadata": {
    "tags": [],
    "ExecuteTime": {
     "end_time": "2024-03-05T08:11:13.001224500Z",
     "start_time": "2024-03-05T08:11:12.743706100Z"
    }
   },
   "outputs": [],
   "source": [
    "import polars as pl"
   ]
  },
  {
   "cell_type": "markdown",
   "id": "cfb3d8d0-f405-432f-ac0e-813196f0e024",
   "metadata": {},
   "source": [
    "We create a simple `DataFrame` for this lecture"
   ]
  },
  {
   "cell_type": "code",
   "execution_count": 2,
   "id": "e26a300f-5120-4a2d-81a1-645a9655a421",
   "metadata": {
    "tags": [],
    "ExecuteTime": {
     "end_time": "2024-03-05T08:11:13.017224900Z",
     "start_time": "2024-03-05T08:11:13.010225600Z"
    }
   },
   "outputs": [
    {
     "data": {
      "text/plain": "shape: (4, 3)\n┌──────┬──────┬─────────┐\n│ col1 ┆ col2 ┆ strings │\n│ ---  ┆ ---  ┆ ---     │\n│ i64  ┆ i64  ┆ str     │\n╞══════╪══════╪═════════╡\n│ 0    ┆ 0    ┆ a       │\n│ null ┆ null ┆ null    │\n│ 2    ┆ null ┆ c       │\n│ 3    ┆ 3    ┆ d       │\n└──────┴──────┴─────────┘",
      "text/html": "<div><style>\n.dataframe > thead > tr,\n.dataframe > tbody > tr {\n  text-align: right;\n  white-space: pre-wrap;\n}\n</style>\n<small>shape: (4, 3)</small><table border=\"1\" class=\"dataframe\"><thead><tr><th>col1</th><th>col2</th><th>strings</th></tr><tr><td>i64</td><td>i64</td><td>str</td></tr></thead><tbody><tr><td>0</td><td>0</td><td>&quot;a&quot;</td></tr><tr><td>null</td><td>null</td><td>null</td></tr><tr><td>2</td><td>null</td><td>&quot;c&quot;</td></tr><tr><td>3</td><td>3</td><td>&quot;d&quot;</td></tr></tbody></table></div>"
     },
     "execution_count": 2,
     "metadata": {},
     "output_type": "execute_result"
    }
   ],
   "source": [
    "df = pl.DataFrame(\n",
    "    {\n",
    "        \"col1\":[0,None,2,3],\n",
    "        \"col2\":[0,None,None,3],\n",
    "        \"strings\":[\"a\",None,\"c\",\"d\"]\n",
    "    }\n",
    ")\n",
    "df"
   ]
  },
  {
   "cell_type": "markdown",
   "id": "7be1ad8b-db72-4bb4-9aab-88369f943a28",
   "metadata": {},
   "source": [
    "## Replace missing values with a constant\n",
    "We replace missing values in an expression using `fill_null`"
   ]
  },
  {
   "cell_type": "code",
   "execution_count": 3,
   "id": "28488f4f-c692-4883-9f84-e77b2614924a",
   "metadata": {
    "tags": [],
    "ExecuteTime": {
     "end_time": "2024-03-05T08:11:18.280713700Z",
     "start_time": "2024-03-05T08:11:18.236718800Z"
    }
   },
   "outputs": [
    {
     "data": {
      "text/plain": "shape: (4, 6)\n┌──────┬──────┬─────────┬──────────┬──────────┬─────────────┐\n│ col1 ┆ col2 ┆ strings ┆ col1_new ┆ col2_new ┆ strings_new │\n│ ---  ┆ ---  ┆ ---     ┆ ---      ┆ ---      ┆ ---         │\n│ i64  ┆ i64  ┆ str     ┆ i64      ┆ i64      ┆ str         │\n╞══════╪══════╪═════════╪══════════╪══════════╪═════════════╡\n│ 0    ┆ 0    ┆ a       ┆ 0        ┆ 0        ┆ a           │\n│ null ┆ null ┆ null    ┆ 0        ┆ 0        ┆ 0           │\n│ 2    ┆ null ┆ c       ┆ 2        ┆ 0        ┆ c           │\n│ 3    ┆ 3    ┆ d       ┆ 3        ┆ 3        ┆ d           │\n└──────┴──────┴─────────┴──────────┴──────────┴─────────────┘",
      "text/html": "<div><style>\n.dataframe > thead > tr,\n.dataframe > tbody > tr {\n  text-align: right;\n  white-space: pre-wrap;\n}\n</style>\n<small>shape: (4, 6)</small><table border=\"1\" class=\"dataframe\"><thead><tr><th>col1</th><th>col2</th><th>strings</th><th>col1_new</th><th>col2_new</th><th>strings_new</th></tr><tr><td>i64</td><td>i64</td><td>str</td><td>i64</td><td>i64</td><td>str</td></tr></thead><tbody><tr><td>0</td><td>0</td><td>&quot;a&quot;</td><td>0</td><td>0</td><td>&quot;a&quot;</td></tr><tr><td>null</td><td>null</td><td>null</td><td>0</td><td>0</td><td>&quot;0&quot;</td></tr><tr><td>2</td><td>null</td><td>&quot;c&quot;</td><td>2</td><td>0</td><td>&quot;c&quot;</td></tr><tr><td>3</td><td>3</td><td>&quot;d&quot;</td><td>3</td><td>3</td><td>&quot;d&quot;</td></tr></tbody></table></div>"
     },
     "execution_count": 3,
     "metadata": {},
     "output_type": "execute_result"
    }
   ],
   "source": [
    "(\n",
    "    df\n",
    "    .with_columns(\n",
    "        pl.all().fill_null(0).name.suffix(\"_new\")\n",
    "    )\n",
    ")"
   ]
  },
  {
   "cell_type": "markdown",
   "id": "2b36237e-62d2-4b7c-94e2-fc4ddc8cc2e5",
   "metadata": {},
   "source": [
    "Note that `fill_null` replaced `null` with a string `\"0\"` in `strings_new`\n",
    "\n",
    "We can also replace the missing values with a string "
   ]
  },
  {
   "cell_type": "code",
   "execution_count": 4,
   "id": "0a9aa86c-5197-4429-b611-9ed06b1c0401",
   "metadata": {
    "tags": [],
    "ExecuteTime": {
     "end_time": "2024-03-05T08:12:19.624897900Z",
     "start_time": "2024-03-05T08:12:19.593895900Z"
    }
   },
   "outputs": [
    {
     "data": {
      "text/plain": "shape: (4, 6)\n┌──────┬──────┬─────────┬──────────┬──────────┬─────────────┐\n│ col1 ┆ col2 ┆ strings ┆ col1_new ┆ col2_new ┆ strings_new │\n│ ---  ┆ ---  ┆ ---     ┆ ---      ┆ ---      ┆ ---         │\n│ i64  ┆ i64  ┆ str     ┆ str      ┆ str      ┆ str         │\n╞══════╪══════╪═════════╪══════════╪══════════╪═════════════╡\n│ 0    ┆ 0    ┆ a       ┆ 0        ┆ 0        ┆ a           │\n│ null ┆ null ┆ null    ┆ missing  ┆ missing  ┆ missing     │\n│ 2    ┆ null ┆ c       ┆ 2        ┆ missing  ┆ c           │\n│ 3    ┆ 3    ┆ d       ┆ 3        ┆ 3        ┆ d           │\n└──────┴──────┴─────────┴──────────┴──────────┴─────────────┘",
      "text/html": "<div><style>\n.dataframe > thead > tr,\n.dataframe > tbody > tr {\n  text-align: right;\n  white-space: pre-wrap;\n}\n</style>\n<small>shape: (4, 6)</small><table border=\"1\" class=\"dataframe\"><thead><tr><th>col1</th><th>col2</th><th>strings</th><th>col1_new</th><th>col2_new</th><th>strings_new</th></tr><tr><td>i64</td><td>i64</td><td>str</td><td>str</td><td>str</td><td>str</td></tr></thead><tbody><tr><td>0</td><td>0</td><td>&quot;a&quot;</td><td>&quot;0&quot;</td><td>&quot;0&quot;</td><td>&quot;a&quot;</td></tr><tr><td>null</td><td>null</td><td>null</td><td>&quot;missing&quot;</td><td>&quot;missing&quot;</td><td>&quot;missing&quot;</td></tr><tr><td>2</td><td>null</td><td>&quot;c&quot;</td><td>&quot;2&quot;</td><td>&quot;missing&quot;</td><td>&quot;c&quot;</td></tr><tr><td>3</td><td>3</td><td>&quot;d&quot;</td><td>&quot;3&quot;</td><td>&quot;3&quot;</td><td>&quot;d&quot;</td></tr></tbody></table></div>"
     },
     "execution_count": 4,
     "metadata": {},
     "output_type": "execute_result"
    }
   ],
   "source": [
    "(\n",
    "    df\n",
    "    .with_columns(\n",
    "        pl.all().fill_null(\"missing\").name.suffix(\"_new\")\n",
    "    )\n",
    ")"
   ]
  },
  {
   "cell_type": "markdown",
   "id": "3ec033fe-1f33-46c1-b543-83e30dbbc405",
   "metadata": {},
   "source": [
    "In this case `fill_null` has `cast` the columns from integer to string dtype!\n",
    "\n",
    "\n",
    "\n",
    "## Replace missing values with a strategy\n",
    "We can also replace missing values with a stragegy including:\n",
    "- forward: replace with the previous non-`null` value\n",
    "- backward: replace with the next non-`null` value\n",
    "- min: replace with the smallest value in the `Series`\n",
    "- max: replace with the largest value in the `Series`\n",
    "- mean: replace with the mean value in the `Series`\n",
    "- zero: replace with `0`\n",
    "- one: replace with `1`\n",
    "\n",
    "### Forward strategy\n",
    "In the forward strategy the missing values are replaced with the previous non-`null` values"
   ]
  },
  {
   "cell_type": "code",
   "execution_count": 5,
   "id": "243c3bc1-b41a-4e86-9fe4-c0eb06c25ed1",
   "metadata": {
    "tags": [],
    "ExecuteTime": {
     "end_time": "2024-03-05T08:13:10.165144Z",
     "start_time": "2024-03-05T08:13:10.144148700Z"
    }
   },
   "outputs": [
    {
     "data": {
      "text/plain": "shape: (4, 6)\n┌──────┬──────┬─────────┬──────────┬──────────┬─────────────┐\n│ col1 ┆ col2 ┆ strings ┆ col1_new ┆ col2_new ┆ strings_new │\n│ ---  ┆ ---  ┆ ---     ┆ ---      ┆ ---      ┆ ---         │\n│ i64  ┆ i64  ┆ str     ┆ i64      ┆ i64      ┆ str         │\n╞══════╪══════╪═════════╪══════════╪══════════╪═════════════╡\n│ 0    ┆ 0    ┆ a       ┆ 0        ┆ 0        ┆ a           │\n│ null ┆ null ┆ null    ┆ 0        ┆ 0        ┆ a           │\n│ 2    ┆ null ┆ c       ┆ 2        ┆ 0        ┆ c           │\n│ 3    ┆ 3    ┆ d       ┆ 3        ┆ 3        ┆ d           │\n└──────┴──────┴─────────┴──────────┴──────────┴─────────────┘",
      "text/html": "<div><style>\n.dataframe > thead > tr,\n.dataframe > tbody > tr {\n  text-align: right;\n  white-space: pre-wrap;\n}\n</style>\n<small>shape: (4, 6)</small><table border=\"1\" class=\"dataframe\"><thead><tr><th>col1</th><th>col2</th><th>strings</th><th>col1_new</th><th>col2_new</th><th>strings_new</th></tr><tr><td>i64</td><td>i64</td><td>str</td><td>i64</td><td>i64</td><td>str</td></tr></thead><tbody><tr><td>0</td><td>0</td><td>&quot;a&quot;</td><td>0</td><td>0</td><td>&quot;a&quot;</td></tr><tr><td>null</td><td>null</td><td>null</td><td>0</td><td>0</td><td>&quot;a&quot;</td></tr><tr><td>2</td><td>null</td><td>&quot;c&quot;</td><td>2</td><td>0</td><td>&quot;c&quot;</td></tr><tr><td>3</td><td>3</td><td>&quot;d&quot;</td><td>3</td><td>3</td><td>&quot;d&quot;</td></tr></tbody></table></div>"
     },
     "execution_count": 5,
     "metadata": {},
     "output_type": "execute_result"
    }
   ],
   "source": [
    "(\n",
    "    df\n",
    "    .with_columns(\n",
    "        pl.all().fill_null(strategy=\"forward\").name.suffix(\"_new\")\n",
    "    )\n",
    ")"
   ]
  },
  {
   "cell_type": "markdown",
   "id": "de9b1dbd-e01b-459f-bd3a-7ddb93831524",
   "metadata": {},
   "source": [
    "We can set a limit on how many rows to fill-forward or backward with `limit`"
   ]
  },
  {
   "cell_type": "code",
   "execution_count": 6,
   "id": "930a5567-0d5f-4c78-a288-39fd70e9281f",
   "metadata": {
    "ExecuteTime": {
     "end_time": "2024-03-05T08:13:20.282894500Z",
     "start_time": "2024-03-05T08:13:20.207894400Z"
    }
   },
   "outputs": [
    {
     "data": {
      "text/plain": "shape: (4, 6)\n┌──────┬──────┬─────────┬──────────┬──────────┬─────────────┐\n│ col1 ┆ col2 ┆ strings ┆ col1_new ┆ col2_new ┆ strings_new │\n│ ---  ┆ ---  ┆ ---     ┆ ---      ┆ ---      ┆ ---         │\n│ i64  ┆ i64  ┆ str     ┆ i64      ┆ i64      ┆ str         │\n╞══════╪══════╪═════════╪══════════╪══════════╪═════════════╡\n│ 0    ┆ 0    ┆ a       ┆ 0        ┆ 0        ┆ a           │\n│ null ┆ null ┆ null    ┆ 0        ┆ 0        ┆ a           │\n│ 2    ┆ null ┆ c       ┆ 2        ┆ null     ┆ c           │\n│ 3    ┆ 3    ┆ d       ┆ 3        ┆ 3        ┆ d           │\n└──────┴──────┴─────────┴──────────┴──────────┴─────────────┘",
      "text/html": "<div><style>\n.dataframe > thead > tr,\n.dataframe > tbody > tr {\n  text-align: right;\n  white-space: pre-wrap;\n}\n</style>\n<small>shape: (4, 6)</small><table border=\"1\" class=\"dataframe\"><thead><tr><th>col1</th><th>col2</th><th>strings</th><th>col1_new</th><th>col2_new</th><th>strings_new</th></tr><tr><td>i64</td><td>i64</td><td>str</td><td>i64</td><td>i64</td><td>str</td></tr></thead><tbody><tr><td>0</td><td>0</td><td>&quot;a&quot;</td><td>0</td><td>0</td><td>&quot;a&quot;</td></tr><tr><td>null</td><td>null</td><td>null</td><td>0</td><td>0</td><td>&quot;a&quot;</td></tr><tr><td>2</td><td>null</td><td>&quot;c&quot;</td><td>2</td><td>null</td><td>&quot;c&quot;</td></tr><tr><td>3</td><td>3</td><td>&quot;d&quot;</td><td>3</td><td>3</td><td>&quot;d&quot;</td></tr></tbody></table></div>"
     },
     "execution_count": 6,
     "metadata": {},
     "output_type": "execute_result"
    }
   ],
   "source": [
    "(\n",
    "    df\n",
    "    .with_columns(\n",
    "        pl.all().fill_null(strategy=\"forward\",limit=1).name.suffix(\"_new\")\n",
    "    )\n",
    ")"
   ]
  },
  {
   "cell_type": "markdown",
   "id": "d6a1115e-7e17-4f25-a144-74c177b53caf",
   "metadata": {},
   "source": [
    "## Replacing missing values by group\n",
    "In this example we have missing values in `col1` and we want to fill them with a fill-forward strategy. \n",
    "\n",
    "However, we want to fill forward with respect to the groups in the `group` column."
   ]
  },
  {
   "cell_type": "code",
   "execution_count": 7,
   "id": "320c2673-22da-4c7b-be61-d26619d10d8b",
   "metadata": {
    "tags": [],
    "ExecuteTime": {
     "end_time": "2024-03-05T08:13:34.028583400Z",
     "start_time": "2024-03-05T08:13:33.972065900Z"
    }
   },
   "outputs": [
    {
     "data": {
      "text/plain": "shape: (6, 2)\n┌───────┬──────┐\n│ group ┆ col1 │\n│ ---   ┆ ---  │\n│ str   ┆ i64  │\n╞═══════╪══════╡\n│ A     ┆ 0    │\n│ B     ┆ 1    │\n│ A     ┆ null │\n│ B     ┆ 1    │\n│ A     ┆ 2    │\n│ B     ┆ null │\n└───────┴──────┘",
      "text/html": "<div><style>\n.dataframe > thead > tr,\n.dataframe > tbody > tr {\n  text-align: right;\n  white-space: pre-wrap;\n}\n</style>\n<small>shape: (6, 2)</small><table border=\"1\" class=\"dataframe\"><thead><tr><th>group</th><th>col1</th></tr><tr><td>str</td><td>i64</td></tr></thead><tbody><tr><td>&quot;A&quot;</td><td>0</td></tr><tr><td>&quot;B&quot;</td><td>1</td></tr><tr><td>&quot;A&quot;</td><td>null</td></tr><tr><td>&quot;B&quot;</td><td>1</td></tr><tr><td>&quot;A&quot;</td><td>2</td></tr><tr><td>&quot;B&quot;</td><td>null</td></tr></tbody></table></div>"
     },
     "execution_count": 7,
     "metadata": {},
     "output_type": "execute_result"
    }
   ],
   "source": [
    "df = pl.DataFrame(\n",
    "    {\n",
    "        \"group\":[\"A\",\"B\",\"A\",\"B\",\"A\",\"B\"],\n",
    "        \"col1\":[0,1,None,1,2,None],\n",
    "    }\n",
    ")\n",
    "df"
   ]
  },
  {
   "cell_type": "markdown",
   "id": "ac2ff14d-3c86-4209-9a46-9c5f07eee213",
   "metadata": {},
   "source": [
    "We can do this using a *window expression* with `over`"
   ]
  },
  {
   "cell_type": "code",
   "execution_count": 8,
   "id": "2b74467b-b0d8-46c3-a04e-0ca63d77bd0f",
   "metadata": {
    "ExecuteTime": {
     "end_time": "2024-03-05T08:14:52.152582500Z",
     "start_time": "2024-03-05T08:14:52.130367800Z"
    }
   },
   "outputs": [
    {
     "data": {
      "text/plain": "shape: (6, 3)\n┌───────┬──────┬─────────────┐\n│ group ┆ col1 ┆ col1_filled │\n│ ---   ┆ ---  ┆ ---         │\n│ str   ┆ i64  ┆ i64         │\n╞═══════╪══════╪═════════════╡\n│ A     ┆ 0    ┆ 0           │\n│ B     ┆ 1    ┆ 1           │\n│ A     ┆ null ┆ 0           │\n│ B     ┆ 1    ┆ 1           │\n│ A     ┆ 2    ┆ 2           │\n│ B     ┆ null ┆ 1           │\n└───────┴──────┴─────────────┘",
      "text/html": "<div><style>\n.dataframe > thead > tr,\n.dataframe > tbody > tr {\n  text-align: right;\n  white-space: pre-wrap;\n}\n</style>\n<small>shape: (6, 3)</small><table border=\"1\" class=\"dataframe\"><thead><tr><th>group</th><th>col1</th><th>col1_filled</th></tr><tr><td>str</td><td>i64</td><td>i64</td></tr></thead><tbody><tr><td>&quot;A&quot;</td><td>0</td><td>0</td></tr><tr><td>&quot;B&quot;</td><td>1</td><td>1</td></tr><tr><td>&quot;A&quot;</td><td>null</td><td>0</td></tr><tr><td>&quot;B&quot;</td><td>1</td><td>1</td></tr><tr><td>&quot;A&quot;</td><td>2</td><td>2</td></tr><tr><td>&quot;B&quot;</td><td>null</td><td>1</td></tr></tbody></table></div>"
     },
     "execution_count": 8,
     "metadata": {},
     "output_type": "execute_result"
    }
   ],
   "source": [
    "(\n",
    "    df\n",
    "    .with_columns(\n",
    "        pl.col(\"col1\").fill_null(strategy=\"forward\").over(\"group\").name.suffix(\"_filled\")\n",
    "    )\n",
    ")"
   ]
  },
  {
   "cell_type": "markdown",
   "id": "5b62a3cf-f3ea-4c12-aa74-7521d885e361",
   "metadata": {},
   "source": [
    "We see more of window expressions in the statistics and grouping Section."
   ]
  },
  {
   "cell_type": "markdown",
   "id": "32a40ac6-32f2-4585-9c97-c3a7ae7d9c9d",
   "metadata": {},
   "source": [
    "## Exercises\n",
    "In the exercises you will develop your understanding of:\n",
    "- replacing missing values with a constant\n",
    "- replacing missing values with a strategy\n",
    "- replacing missing values by group"
   ]
  },
  {
   "cell_type": "markdown",
   "id": "c7d1f974-96f1-4633-8f3f-adbf3f3694c6",
   "metadata": {},
   "source": [
    "### Exercise 1\n",
    "Filter the `DataFrame` to have only the two rows with missing values in the `Embarked` column and then replace the missing values in the `Embarked` column with the string `\"unknown\"`"
   ]
  },
  {
   "cell_type": "code",
   "execution_count": null,
   "id": "aadfe1d3-e150-4196-90c0-6e337dee98d6",
   "metadata": {},
   "outputs": [],
   "source": [
    "csv_file = \"../data/titanic.csv\"\n",
    "(\n",
    "    pl.read_csv(csv_file)\n",
    "   <blank>\n",
    ")"
   ]
  },
  {
   "cell_type": "markdown",
   "id": "b5865d7c-4479-4f20-af32-baf78d6d06d5",
   "metadata": {},
   "source": [
    "### Exercise 2\n",
    "Add a new column called `Age_filled` where missing values are replaced with the  value from the following row."
   ]
  },
  {
   "cell_type": "code",
   "execution_count": null,
   "id": "00512f96-6466-4f5c-98f1-4cf81d96abda",
   "metadata": {},
   "outputs": [],
   "source": [
    "csv_file = \"../data/titanic.csv\"\n",
    "(\n",
    "    pl.read_csv(csv_file)\n",
    "    <blank>\n",
    "    .select([\"Age\",\"Age_filled\"])\n",
    ")"
   ]
  },
  {
   "cell_type": "markdown",
   "id": "da08e75d-a987-4e12-8731-8378b6c4c51e",
   "metadata": {},
   "source": [
    "Do the same but this time with respect to the following row from the same passenger class "
   ]
  },
  {
   "cell_type": "code",
   "execution_count": null,
   "id": "d56b3a06-b406-4d6a-9204-7a8ada345ba3",
   "metadata": {},
   "outputs": [],
   "source": [
    "csv_file = \"../data/titanic.csv\"\n",
    "(\n",
    "    pl.read_csv(csv_file)\n",
    "    <blank>\n",
    "    .select([\"Pclass\",\"Age\",\"Age_filled\"])\n",
    ")"
   ]
  },
  {
   "cell_type": "markdown",
   "id": "0361bba1-258b-4e6d-a8f7-12940ebdfc86",
   "metadata": {},
   "source": [
    "Add three new columns called `Age_mean`, `Age_median` and `Age_interpolated` where missing values are replaced with the:\n",
    "- mean\n",
    "- median and\n",
    "- interpolated values"
   ]
  },
  {
   "cell_type": "code",
   "execution_count": null,
   "id": "1ea4ed60-98fb-4a00-bd46-06a7a7c59f2c",
   "metadata": {},
   "outputs": [],
   "source": [
    "csv_file = \"../data/titanic.csv\"\n",
    "(\n",
    "    pl.read_csv(csv_file)\n",
    "    <blank>\n",
    "    .select([\"Age\",\"Age_mean\",\"Age_median\",\"Age_interpolated\"])\n",
    "    .filter(pl.col(\"Age\").is_null())\n",
    ")"
   ]
  },
  {
   "cell_type": "markdown",
   "id": "6aedabb7-d2ea-4265-b3a9-2c141f363929",
   "metadata": {},
   "source": [
    "## Solutions\n",
    "\n",
    "### Solution to Exercise 1\n",
    "Filter the `DataFrame` to have only the two rows with missing values in the `Embarked` column and then replace the missing values in the `Embarked` column with `\"unknown\"`"
   ]
  },
  {
   "cell_type": "code",
   "execution_count": null,
   "id": "98f1df41-8194-441a-a9fd-1bac7a9685c7",
   "metadata": {
    "jupyter": {
     "source_hidden": true
    },
    "tags": []
   },
   "outputs": [],
   "source": [
    "csv_file = \"../data/titanic.csv\"\n",
    "(\n",
    "    pl.read_csv(csv_file)\n",
    "    .filter(\n",
    "        pl.col(\"Embarked\").is_null()\n",
    "    )\n",
    "    .with_columns(\n",
    "        pl.col(\"Embarked\").fill_null(\"unknown\")\n",
    "    )\n",
    ")"
   ]
  },
  {
   "cell_type": "markdown",
   "id": "9c661c26-3a05-421f-890f-6f786b27eae0",
   "metadata": {},
   "source": [
    "### Solution to Exercise 2\n",
    "Add a new column called `Age_filled` where missing values are replaced with the  value from the following row."
   ]
  },
  {
   "cell_type": "code",
   "execution_count": null,
   "id": "198d8bd6-bfb6-40b0-a570-337308cf8b1b",
   "metadata": {
    "jupyter": {
     "source_hidden": true
    },
    "tags": []
   },
   "outputs": [],
   "source": [
    "csv_file = \"../data/titanic.csv\"\n",
    "(\n",
    "    pl.read_csv(csv_file)\n",
    "    .with_columns(\n",
    "        pl.col(\"Age\").fill_null(strategy=\"backward\").alias(\"Age_filled\")\n",
    "    )\n",
    "    .select([\"Age\",\"Age_filled\"])\n",
    ")"
   ]
  },
  {
   "cell_type": "markdown",
   "id": "247c4116-a120-4746-a79c-1bf9a58751f2",
   "metadata": {},
   "source": [
    "Do the same but this time with respect to the following row from the same passenger class "
   ]
  },
  {
   "cell_type": "code",
   "execution_count": null,
   "id": "5596ad0c-a22c-4393-9b0e-a168c0445fe6",
   "metadata": {
    "jupyter": {
     "source_hidden": true
    }
   },
   "outputs": [],
   "source": [
    "csv_file = \"../data/titanic.csv\"\n",
    "(\n",
    "    pl.read_csv(csv_file)\n",
    "    .with_columns(\n",
    "        pl.col(\"Age\").fill_null(strategy=\"backward\").over(\"Pclass\").alias(\"Age_filled\")\n",
    "    )\n",
    "    .select([\"Pclass\",\"Age\",\"Age_filled\"])\n",
    ")"
   ]
  },
  {
   "cell_type": "markdown",
   "id": "12c98d41-25e0-43b9-b9f5-6b2a10f42b44",
   "metadata": {},
   "source": [
    "Add three new columns called `Age_mean`, `Age_median` and `Age_interpolated` where missing values are replaced with the mean, median and interpolated values."
   ]
  },
  {
   "cell_type": "code",
   "execution_count": null,
   "id": "a3b9f481-9d88-44f1-9305-609b55446b6c",
   "metadata": {
    "jupyter": {
     "source_hidden": true
    },
    "tags": []
   },
   "outputs": [],
   "source": [
    "csv_file = \"../data/titanic.csv\"\n",
    "(\n",
    "    pl.read_csv(csv_file)\n",
    "    .with_columns(\n",
    "        [\n",
    "            pl.col(\"Age\").fill_null(strategy=\"mean\").alias(\"Age_mean\"),\n",
    "            pl.col(\"Age\").fill_null(pl.col(\"Age\").median()).alias(\"Age_median\"),\n",
    "            pl.col(\"Age\").interpolate().alias(\"Age_interpolated\"),\n",
    "\n",
    "        ]\n",
    "            )\n",
    "    .select([\"Age\",\"Age_mean\",\"Age_median\",\"Age_interpolated\"])\n",
    "    .filter(pl.col(\"Age\").is_null())\n",
    ")"
   ]
  }
 ],
 "metadata": {
  "kernelspec": {
   "display_name": "Python 3 (ipykernel)",
   "language": "python",
   "name": "python3"
  },
  "language_info": {
   "codemirror_mode": {
    "name": "ipython",
    "version": 3
   },
   "file_extension": ".py",
   "mimetype": "text/x-python",
   "name": "python",
   "nbconvert_exporter": "python",
   "pygments_lexer": "ipython3",
   "version": "3.10.1"
  }
 },
 "nbformat": 4,
 "nbformat_minor": 5
}
