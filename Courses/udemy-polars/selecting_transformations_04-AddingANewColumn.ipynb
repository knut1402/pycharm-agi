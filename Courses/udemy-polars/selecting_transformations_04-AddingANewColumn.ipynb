{
 "cells": [
  {
   "cell_type": "markdown",
   "id": "3eec8164-8b94-4866-b8aa-0c1cc4936a8f",
   "metadata": {},
   "source": [
    "## Selecting columns 4: Transforming and adding a column\n",
    "By the end of this lecture you will be able to:\n",
    "- transform an existing column in place using `with_columns`\n",
    "- add a new column with an expression\n",
    "- add a new column with column arithmetic\n",
    "- add a column with constant values using `pl.lit`"
   ]
  },
  {
   "cell_type": "code",
   "execution_count": 1,
   "id": "d1adc172-fe22-401e-a538-1e8e3fafe8d3",
   "metadata": {
    "tags": [],
    "ExecuteTime": {
     "end_time": "2024-03-04T15:01:02.321379900Z",
     "start_time": "2024-03-04T15:01:02.075381900Z"
    }
   },
   "outputs": [],
   "source": [
    "import polars as pl"
   ]
  },
  {
   "cell_type": "code",
   "execution_count": 2,
   "id": "c5939bea-b4f8-4007-8ad9-8786e029ea3b",
   "metadata": {
    "tags": [],
    "ExecuteTime": {
     "end_time": "2024-03-04T15:01:07.168439100Z",
     "start_time": "2024-03-04T15:01:07.133400500Z"
    }
   },
   "outputs": [],
   "source": [
    "csv_file = \"data_titanic.csv\""
   ]
  },
  {
   "cell_type": "code",
   "execution_count": 3,
   "id": "a3626abb-3d5a-44c6-85e1-fcd9f3826a63",
   "metadata": {
    "tags": [],
    "ExecuteTime": {
     "end_time": "2024-03-04T15:01:08.471269200Z",
     "start_time": "2024-03-04T15:01:08.143271200Z"
    }
   },
   "outputs": [
    {
     "data": {
      "text/plain": "shape: (3, 12)\n┌─────────────┬──────────┬────────┬───────────────────┬───┬───────────┬─────────┬───────┬──────────┐\n│ PassengerId ┆ Survived ┆ Pclass ┆ Name              ┆ … ┆ Ticket    ┆ Fare    ┆ Cabin ┆ Embarked │\n│ ---         ┆ ---      ┆ ---    ┆ ---               ┆   ┆ ---       ┆ ---     ┆ ---   ┆ ---      │\n│ i64         ┆ i64      ┆ i64    ┆ str               ┆   ┆ str       ┆ f64     ┆ str   ┆ str      │\n╞═════════════╪══════════╪════════╪═══════════════════╪═══╪═══════════╪═════════╪═══════╪══════════╡\n│ 1           ┆ 0        ┆ 3      ┆ Braund, Mr. Owen  ┆ … ┆ A/5 21171 ┆ 7.25    ┆ null  ┆ S        │\n│             ┆          ┆        ┆ Harris            ┆   ┆           ┆         ┆       ┆          │\n│ 2           ┆ 1        ┆ 1      ┆ Cumings, Mrs.     ┆ … ┆ PC 17599  ┆ 71.2833 ┆ C85   ┆ C        │\n│             ┆          ┆        ┆ John Bradley      ┆   ┆           ┆         ┆       ┆          │\n│             ┆          ┆        ┆ (Flor…            ┆   ┆           ┆         ┆       ┆          │\n│ 3           ┆ 1        ┆ 3      ┆ Heikkinen, Miss.  ┆ … ┆ STON/O2.  ┆ 7.925   ┆ null  ┆ S        │\n│             ┆          ┆        ┆ Laina             ┆   ┆ 3101282   ┆         ┆       ┆          │\n└─────────────┴──────────┴────────┴───────────────────┴───┴───────────┴─────────┴───────┴──────────┘",
      "text/html": "<div><style>\n.dataframe > thead > tr,\n.dataframe > tbody > tr {\n  text-align: right;\n  white-space: pre-wrap;\n}\n</style>\n<small>shape: (3, 12)</small><table border=\"1\" class=\"dataframe\"><thead><tr><th>PassengerId</th><th>Survived</th><th>Pclass</th><th>Name</th><th>Sex</th><th>Age</th><th>SibSp</th><th>Parch</th><th>Ticket</th><th>Fare</th><th>Cabin</th><th>Embarked</th></tr><tr><td>i64</td><td>i64</td><td>i64</td><td>str</td><td>str</td><td>f64</td><td>i64</td><td>i64</td><td>str</td><td>f64</td><td>str</td><td>str</td></tr></thead><tbody><tr><td>1</td><td>0</td><td>3</td><td>&quot;Braund, Mr. Ow…</td><td>&quot;male&quot;</td><td>22.0</td><td>1</td><td>0</td><td>&quot;A/5 21171&quot;</td><td>7.25</td><td>null</td><td>&quot;S&quot;</td></tr><tr><td>2</td><td>1</td><td>1</td><td>&quot;Cumings, Mrs. …</td><td>&quot;female&quot;</td><td>38.0</td><td>1</td><td>0</td><td>&quot;PC 17599&quot;</td><td>71.2833</td><td>&quot;C85&quot;</td><td>&quot;C&quot;</td></tr><tr><td>3</td><td>1</td><td>3</td><td>&quot;Heikkinen, Mis…</td><td>&quot;female&quot;</td><td>26.0</td><td>0</td><td>0</td><td>&quot;STON/O2. 31012…</td><td>7.925</td><td>null</td><td>&quot;S&quot;</td></tr></tbody></table></div>"
     },
     "execution_count": 3,
     "metadata": {},
     "output_type": "execute_result"
    }
   ],
   "source": [
    "df = pl.read_csv(csv_file)\n",
    "df.head(3)"
   ]
  },
  {
   "cell_type": "markdown",
   "id": "5c3111de-803f-4dfe-8168-34c40392ba8d",
   "metadata": {},
   "source": [
    "## Transforming an existing column\n",
    "\n",
    "We can transform an existing column by passing the column to `with_columns`.\n",
    "\n",
    "In this example we round `Fare` to 0 significant figures."
   ]
  },
  {
   "cell_type": "code",
   "execution_count": 4,
   "id": "9d1160a0-6e7c-4dd4-b11d-53ccb06d978e",
   "metadata": {
    "tags": [],
    "ExecuteTime": {
     "end_time": "2024-03-04T15:02:10.042460900Z",
     "start_time": "2024-03-04T15:02:09.964462300Z"
    }
   },
   "outputs": [
    {
     "data": {
      "text/plain": "shape: (3, 12)\n┌─────────────┬──────────┬────────┬──────────────────────┬───┬───────────┬──────┬───────┬──────────┐\n│ PassengerId ┆ Survived ┆ Pclass ┆ Name                 ┆ … ┆ Ticket    ┆ Fare ┆ Cabin ┆ Embarked │\n│ ---         ┆ ---      ┆ ---    ┆ ---                  ┆   ┆ ---       ┆ ---  ┆ ---   ┆ ---      │\n│ i64         ┆ i64      ┆ i64    ┆ str                  ┆   ┆ str       ┆ f64  ┆ str   ┆ str      │\n╞═════════════╪══════════╪════════╪══════════════════════╪═══╪═══════════╪══════╪═══════╪══════════╡\n│ 1           ┆ 0        ┆ 3      ┆ Braund, Mr. Owen     ┆ … ┆ A/5 21171 ┆ 7.0  ┆ null  ┆ S        │\n│             ┆          ┆        ┆ Harris               ┆   ┆           ┆      ┆       ┆          │\n│ 2           ┆ 1        ┆ 1      ┆ Cumings, Mrs. John   ┆ … ┆ PC 17599  ┆ 71.0 ┆ C85   ┆ C        │\n│             ┆          ┆        ┆ Bradley (Flor…       ┆   ┆           ┆      ┆       ┆          │\n│ 3           ┆ 1        ┆ 3      ┆ Heikkinen, Miss.     ┆ … ┆ STON/O2.  ┆ 8.0  ┆ null  ┆ S        │\n│             ┆          ┆        ┆ Laina                ┆   ┆ 3101282   ┆      ┆       ┆          │\n└─────────────┴──────────┴────────┴──────────────────────┴───┴───────────┴──────┴───────┴──────────┘",
      "text/html": "<div><style>\n.dataframe > thead > tr,\n.dataframe > tbody > tr {\n  text-align: right;\n  white-space: pre-wrap;\n}\n</style>\n<small>shape: (3, 12)</small><table border=\"1\" class=\"dataframe\"><thead><tr><th>PassengerId</th><th>Survived</th><th>Pclass</th><th>Name</th><th>Sex</th><th>Age</th><th>SibSp</th><th>Parch</th><th>Ticket</th><th>Fare</th><th>Cabin</th><th>Embarked</th></tr><tr><td>i64</td><td>i64</td><td>i64</td><td>str</td><td>str</td><td>f64</td><td>i64</td><td>i64</td><td>str</td><td>f64</td><td>str</td><td>str</td></tr></thead><tbody><tr><td>1</td><td>0</td><td>3</td><td>&quot;Braund, Mr. Ow…</td><td>&quot;male&quot;</td><td>22.0</td><td>1</td><td>0</td><td>&quot;A/5 21171&quot;</td><td>7.0</td><td>null</td><td>&quot;S&quot;</td></tr><tr><td>2</td><td>1</td><td>1</td><td>&quot;Cumings, Mrs. …</td><td>&quot;female&quot;</td><td>38.0</td><td>1</td><td>0</td><td>&quot;PC 17599&quot;</td><td>71.0</td><td>&quot;C85&quot;</td><td>&quot;C&quot;</td></tr><tr><td>3</td><td>1</td><td>3</td><td>&quot;Heikkinen, Mis…</td><td>&quot;female&quot;</td><td>26.0</td><td>0</td><td>0</td><td>&quot;STON/O2. 31012…</td><td>8.0</td><td>null</td><td>&quot;S&quot;</td></tr></tbody></table></div>"
     },
     "execution_count": 4,
     "metadata": {},
     "output_type": "execute_result"
    }
   ],
   "source": [
    "(\n",
    "    pl.read_csv(csv_file)\n",
    "    .with_columns(\n",
    "        pl.col(\"Fare\").round(0)\n",
    "        )\n",
    "    .head(3)\n",
    ")"
   ]
  },
  {
   "cell_type": "markdown",
   "id": "b45f6cb6-b15e-4727-8834-9938ff91ae9d",
   "metadata": {},
   "source": [
    "## Adding a new column from an existing column\n",
    "We can create a new column from an existing column by renaming it with `alias`"
   ]
  },
  {
   "cell_type": "code",
   "execution_count": 5,
   "id": "ae20907f-8ba2-452b-b5bd-c1cbee1fab3b",
   "metadata": {
    "tags": [],
    "ExecuteTime": {
     "end_time": "2024-03-04T15:02:53.052830500Z",
     "start_time": "2024-03-04T15:02:52.975835900Z"
    }
   },
   "outputs": [
    {
     "data": {
      "text/plain": "shape: (3, 13)\n┌─────────────┬──────────┬────────┬───────────────────┬───┬─────────┬───────┬──────────┬───────────┐\n│ PassengerId ┆ Survived ┆ Pclass ┆ Name              ┆ … ┆ Fare    ┆ Cabin ┆ Embarked ┆ roundFare │\n│ ---         ┆ ---      ┆ ---    ┆ ---               ┆   ┆ ---     ┆ ---   ┆ ---      ┆ ---       │\n│ i64         ┆ i64      ┆ i64    ┆ str               ┆   ┆ f64     ┆ str   ┆ str      ┆ f64       │\n╞═════════════╪══════════╪════════╪═══════════════════╪═══╪═════════╪═══════╪══════════╪═══════════╡\n│ 1           ┆ 0        ┆ 3      ┆ Braund, Mr. Owen  ┆ … ┆ 7.25    ┆ null  ┆ S        ┆ 7.0       │\n│             ┆          ┆        ┆ Harris            ┆   ┆         ┆       ┆          ┆           │\n│ 2           ┆ 1        ┆ 1      ┆ Cumings, Mrs.     ┆ … ┆ 71.2833 ┆ C85   ┆ C        ┆ 71.0      │\n│             ┆          ┆        ┆ John Bradley      ┆   ┆         ┆       ┆          ┆           │\n│             ┆          ┆        ┆ (Flor…            ┆   ┆         ┆       ┆          ┆           │\n│ 3           ┆ 1        ┆ 3      ┆ Heikkinen, Miss.  ┆ … ┆ 7.925   ┆ null  ┆ S        ┆ 8.0       │\n│             ┆          ┆        ┆ Laina             ┆   ┆         ┆       ┆          ┆           │\n└─────────────┴──────────┴────────┴───────────────────┴───┴─────────┴───────┴──────────┴───────────┘",
      "text/html": "<div><style>\n.dataframe > thead > tr,\n.dataframe > tbody > tr {\n  text-align: right;\n  white-space: pre-wrap;\n}\n</style>\n<small>shape: (3, 13)</small><table border=\"1\" class=\"dataframe\"><thead><tr><th>PassengerId</th><th>Survived</th><th>Pclass</th><th>Name</th><th>Sex</th><th>Age</th><th>SibSp</th><th>Parch</th><th>Ticket</th><th>Fare</th><th>Cabin</th><th>Embarked</th><th>roundFare</th></tr><tr><td>i64</td><td>i64</td><td>i64</td><td>str</td><td>str</td><td>f64</td><td>i64</td><td>i64</td><td>str</td><td>f64</td><td>str</td><td>str</td><td>f64</td></tr></thead><tbody><tr><td>1</td><td>0</td><td>3</td><td>&quot;Braund, Mr. Ow…</td><td>&quot;male&quot;</td><td>22.0</td><td>1</td><td>0</td><td>&quot;A/5 21171&quot;</td><td>7.25</td><td>null</td><td>&quot;S&quot;</td><td>7.0</td></tr><tr><td>2</td><td>1</td><td>1</td><td>&quot;Cumings, Mrs. …</td><td>&quot;female&quot;</td><td>38.0</td><td>1</td><td>0</td><td>&quot;PC 17599&quot;</td><td>71.2833</td><td>&quot;C85&quot;</td><td>&quot;C&quot;</td><td>71.0</td></tr><tr><td>3</td><td>1</td><td>3</td><td>&quot;Heikkinen, Mis…</td><td>&quot;female&quot;</td><td>26.0</td><td>0</td><td>0</td><td>&quot;STON/O2. 31012…</td><td>7.925</td><td>null</td><td>&quot;S&quot;</td><td>8.0</td></tr></tbody></table></div>"
     },
     "execution_count": 5,
     "metadata": {},
     "output_type": "execute_result"
    }
   ],
   "source": [
    "(\n",
    "    pl.read_csv(csv_file)\n",
    "    .with_columns(\n",
    "        pl.col('Fare').round(0).alias('roundFare')\n",
    "    )\n",
    "    .head(3)\n",
    ")"
   ]
  },
  {
   "cell_type": "markdown",
   "id": "54f42343-51e6-466a-946b-b15c81fada78",
   "metadata": {},
   "source": [
    "Instead of using `alias` we can also create the new column by assigning the column name equal to the expression (this approach in Polars is referred to as kwargs assignment) "
   ]
  },
  {
   "cell_type": "code",
   "execution_count": 6,
   "id": "2de88e52-b770-4eb6-b8c1-5df2fcce86dd",
   "metadata": {
    "tags": [],
    "ExecuteTime": {
     "end_time": "2024-03-04T15:03:40.965237100Z",
     "start_time": "2024-03-04T15:03:40.899466800Z"
    }
   },
   "outputs": [
    {
     "data": {
      "text/plain": "shape: (3, 13)\n┌─────────────┬──────────┬────────┬───────────────────┬───┬─────────┬───────┬──────────┬───────────┐\n│ PassengerId ┆ Survived ┆ Pclass ┆ Name              ┆ … ┆ Fare    ┆ Cabin ┆ Embarked ┆ roundFare │\n│ ---         ┆ ---      ┆ ---    ┆ ---               ┆   ┆ ---     ┆ ---   ┆ ---      ┆ ---       │\n│ i64         ┆ i64      ┆ i64    ┆ str               ┆   ┆ f64     ┆ str   ┆ str      ┆ f64       │\n╞═════════════╪══════════╪════════╪═══════════════════╪═══╪═════════╪═══════╪══════════╪═══════════╡\n│ 1           ┆ 0        ┆ 3      ┆ Braund, Mr. Owen  ┆ … ┆ 7.25    ┆ null  ┆ S        ┆ 7.0       │\n│             ┆          ┆        ┆ Harris            ┆   ┆         ┆       ┆          ┆           │\n│ 2           ┆ 1        ┆ 1      ┆ Cumings, Mrs.     ┆ … ┆ 71.2833 ┆ C85   ┆ C        ┆ 71.0      │\n│             ┆          ┆        ┆ John Bradley      ┆   ┆         ┆       ┆          ┆           │\n│             ┆          ┆        ┆ (Flor…            ┆   ┆         ┆       ┆          ┆           │\n│ 3           ┆ 1        ┆ 3      ┆ Heikkinen, Miss.  ┆ … ┆ 7.925   ┆ null  ┆ S        ┆ 8.0       │\n│             ┆          ┆        ┆ Laina             ┆   ┆         ┆       ┆          ┆           │\n└─────────────┴──────────┴────────┴───────────────────┴───┴─────────┴───────┴──────────┴───────────┘",
      "text/html": "<div><style>\n.dataframe > thead > tr,\n.dataframe > tbody > tr {\n  text-align: right;\n  white-space: pre-wrap;\n}\n</style>\n<small>shape: (3, 13)</small><table border=\"1\" class=\"dataframe\"><thead><tr><th>PassengerId</th><th>Survived</th><th>Pclass</th><th>Name</th><th>Sex</th><th>Age</th><th>SibSp</th><th>Parch</th><th>Ticket</th><th>Fare</th><th>Cabin</th><th>Embarked</th><th>roundFare</th></tr><tr><td>i64</td><td>i64</td><td>i64</td><td>str</td><td>str</td><td>f64</td><td>i64</td><td>i64</td><td>str</td><td>f64</td><td>str</td><td>str</td><td>f64</td></tr></thead><tbody><tr><td>1</td><td>0</td><td>3</td><td>&quot;Braund, Mr. Ow…</td><td>&quot;male&quot;</td><td>22.0</td><td>1</td><td>0</td><td>&quot;A/5 21171&quot;</td><td>7.25</td><td>null</td><td>&quot;S&quot;</td><td>7.0</td></tr><tr><td>2</td><td>1</td><td>1</td><td>&quot;Cumings, Mrs. …</td><td>&quot;female&quot;</td><td>38.0</td><td>1</td><td>0</td><td>&quot;PC 17599&quot;</td><td>71.2833</td><td>&quot;C85&quot;</td><td>&quot;C&quot;</td><td>71.0</td></tr><tr><td>3</td><td>1</td><td>3</td><td>&quot;Heikkinen, Mis…</td><td>&quot;female&quot;</td><td>26.0</td><td>0</td><td>0</td><td>&quot;STON/O2. 31012…</td><td>7.925</td><td>null</td><td>&quot;S&quot;</td><td>8.0</td></tr></tbody></table></div>"
     },
     "execution_count": 6,
     "metadata": {},
     "output_type": "execute_result"
    }
   ],
   "source": [
    "(\n",
    "    pl.read_csv(csv_file)\n",
    "    .with_columns(\n",
    "        roundFare = pl.col('Fare').round(0)\n",
    "    )\n",
    "    .head(3)\n",
    ")"
   ]
  },
  {
   "cell_type": "markdown",
   "id": "7c59f9d6-8e62-4fe4-9b45-604fa82d8af5",
   "metadata": {},
   "source": [
    "## Difference between `with_columns` and `select`\n",
    "- The `select` method returns a subset of the columns but `with_columns` method returns all of the columns\n",
    "- `with_columns` accepts expressions only - no strings"
   ]
  },
  {
   "cell_type": "markdown",
   "id": "98c37e9f-44ef-4be5-844e-0db6adc40bb7",
   "metadata": {},
   "source": [
    "## Adding or transforming a column with column arithmetic\n",
    "\n",
    "We can transform columns with arithmetic in an expression.\n",
    "\n",
    "In this example we double the values in the `Fare` column in a new column called `doubleFare`"
   ]
  },
  {
   "cell_type": "code",
   "execution_count": 7,
   "id": "5416a720-675f-4ab5-b93f-990c6ccf6598",
   "metadata": {
    "tags": [],
    "ExecuteTime": {
     "end_time": "2024-03-04T15:04:14.368868700Z",
     "start_time": "2024-03-04T15:04:14.315834500Z"
    }
   },
   "outputs": [
    {
     "data": {
      "text/plain": "shape: (3, 13)\n┌─────────────┬──────────┬────────┬──────────────────┬───┬─────────┬───────┬──────────┬────────────┐\n│ PassengerId ┆ Survived ┆ Pclass ┆ Name             ┆ … ┆ Fare    ┆ Cabin ┆ Embarked ┆ doubleFare │\n│ ---         ┆ ---      ┆ ---    ┆ ---              ┆   ┆ ---     ┆ ---   ┆ ---      ┆ ---        │\n│ i64         ┆ i64      ┆ i64    ┆ str              ┆   ┆ f64     ┆ str   ┆ str      ┆ f64        │\n╞═════════════╪══════════╪════════╪══════════════════╪═══╪═════════╪═══════╪══════════╪════════════╡\n│ 1           ┆ 0        ┆ 3      ┆ Braund, Mr. Owen ┆ … ┆ 7.25    ┆ null  ┆ S        ┆ 14.5       │\n│             ┆          ┆        ┆ Harris           ┆   ┆         ┆       ┆          ┆            │\n│ 2           ┆ 1        ┆ 1      ┆ Cumings, Mrs.    ┆ … ┆ 71.2833 ┆ C85   ┆ C        ┆ 142.5666   │\n│             ┆          ┆        ┆ John Bradley     ┆   ┆         ┆       ┆          ┆            │\n│             ┆          ┆        ┆ (Flor…           ┆   ┆         ┆       ┆          ┆            │\n│ 3           ┆ 1        ┆ 3      ┆ Heikkinen, Miss. ┆ … ┆ 7.925   ┆ null  ┆ S        ┆ 15.85      │\n│             ┆          ┆        ┆ Laina            ┆   ┆         ┆       ┆          ┆            │\n└─────────────┴──────────┴────────┴──────────────────┴───┴─────────┴───────┴──────────┴────────────┘",
      "text/html": "<div><style>\n.dataframe > thead > tr,\n.dataframe > tbody > tr {\n  text-align: right;\n  white-space: pre-wrap;\n}\n</style>\n<small>shape: (3, 13)</small><table border=\"1\" class=\"dataframe\"><thead><tr><th>PassengerId</th><th>Survived</th><th>Pclass</th><th>Name</th><th>Sex</th><th>Age</th><th>SibSp</th><th>Parch</th><th>Ticket</th><th>Fare</th><th>Cabin</th><th>Embarked</th><th>doubleFare</th></tr><tr><td>i64</td><td>i64</td><td>i64</td><td>str</td><td>str</td><td>f64</td><td>i64</td><td>i64</td><td>str</td><td>f64</td><td>str</td><td>str</td><td>f64</td></tr></thead><tbody><tr><td>1</td><td>0</td><td>3</td><td>&quot;Braund, Mr. Ow…</td><td>&quot;male&quot;</td><td>22.0</td><td>1</td><td>0</td><td>&quot;A/5 21171&quot;</td><td>7.25</td><td>null</td><td>&quot;S&quot;</td><td>14.5</td></tr><tr><td>2</td><td>1</td><td>1</td><td>&quot;Cumings, Mrs. …</td><td>&quot;female&quot;</td><td>38.0</td><td>1</td><td>0</td><td>&quot;PC 17599&quot;</td><td>71.2833</td><td>&quot;C85&quot;</td><td>&quot;C&quot;</td><td>142.5666</td></tr><tr><td>3</td><td>1</td><td>3</td><td>&quot;Heikkinen, Mis…</td><td>&quot;female&quot;</td><td>26.0</td><td>0</td><td>0</td><td>&quot;STON/O2. 31012…</td><td>7.925</td><td>null</td><td>&quot;S&quot;</td><td>15.85</td></tr></tbody></table></div>"
     },
     "execution_count": 7,
     "metadata": {},
     "output_type": "execute_result"
    }
   ],
   "source": [
    "(\n",
    "    pl.read_csv(csv_file)\n",
    "    .with_columns(\n",
    "        (pl.col(\"Fare\") * 2).alias(\"doubleFare\")\n",
    "    )\n",
    "    .head(3)\n",
    ")"
   ]
  },
  {
   "cell_type": "markdown",
   "id": "3c8f0883-4232-4f70-9daf-fb0d3ae09358",
   "metadata": {},
   "source": [
    "We can also do arithmetic multiple columns in an expression.\n",
    "\n",
    "In this examle we add the values in the `Fare` and `Age` column"
   ]
  },
  {
   "cell_type": "code",
   "execution_count": 10,
   "id": "a377a583-1918-4109-bc7c-23053fb8e919",
   "metadata": {
    "tags": [],
    "ExecuteTime": {
     "end_time": "2024-03-04T15:05:04.350439100Z",
     "start_time": "2024-03-04T15:05:04.258921500Z"
    }
   },
   "outputs": [
    {
     "data": {
      "text/plain": "shape: (5, 13)\n┌─────────────┬──────────┬────────┬─────────────────┬───┬─────────┬───────┬──────────┬─────────────┐\n│ PassengerId ┆ Survived ┆ Pclass ┆ Name            ┆ … ┆ Fare    ┆ Cabin ┆ Embarked ┆ farePlusAge │\n│ ---         ┆ ---      ┆ ---    ┆ ---             ┆   ┆ ---     ┆ ---   ┆ ---      ┆ ---         │\n│ i64         ┆ i64      ┆ i64    ┆ str             ┆   ┆ f64     ┆ str   ┆ str      ┆ f64         │\n╞═════════════╪══════════╪════════╪═════════════════╪═══╪═════════╪═══════╪══════════╪═════════════╡\n│ 1           ┆ 0        ┆ 3      ┆ Braund, Mr.     ┆ … ┆ 7.25    ┆ null  ┆ S        ┆ 29.25       │\n│             ┆          ┆        ┆ Owen Harris     ┆   ┆         ┆       ┆          ┆             │\n│ 2           ┆ 1        ┆ 1      ┆ Cumings, Mrs.   ┆ … ┆ 71.2833 ┆ C85   ┆ C        ┆ 109.2833    │\n│             ┆          ┆        ┆ John Bradley    ┆   ┆         ┆       ┆          ┆             │\n│             ┆          ┆        ┆ (Flor…          ┆   ┆         ┆       ┆          ┆             │\n│ 3           ┆ 1        ┆ 3      ┆ Heikkinen,      ┆ … ┆ 7.925   ┆ null  ┆ S        ┆ 33.925      │\n│             ┆          ┆        ┆ Miss. Laina     ┆   ┆         ┆       ┆          ┆             │\n│ 4           ┆ 1        ┆ 1      ┆ Futrelle, Mrs.  ┆ … ┆ 53.1    ┆ C123  ┆ S        ┆ 88.1        │\n│             ┆          ┆        ┆ Jacques Heath   ┆   ┆         ┆       ┆          ┆             │\n│             ┆          ┆        ┆ (Li…            ┆   ┆         ┆       ┆          ┆             │\n│ 5           ┆ 0        ┆ 3      ┆ Allen, Mr.      ┆ … ┆ 8.05    ┆ null  ┆ S        ┆ 43.05       │\n│             ┆          ┆        ┆ William Henry   ┆   ┆         ┆       ┆          ┆             │\n└─────────────┴──────────┴────────┴─────────────────┴───┴─────────┴───────┴──────────┴─────────────┘",
      "text/html": "<div><style>\n.dataframe > thead > tr,\n.dataframe > tbody > tr {\n  text-align: right;\n  white-space: pre-wrap;\n}\n</style>\n<small>shape: (5, 13)</small><table border=\"1\" class=\"dataframe\"><thead><tr><th>PassengerId</th><th>Survived</th><th>Pclass</th><th>Name</th><th>Sex</th><th>Age</th><th>SibSp</th><th>Parch</th><th>Ticket</th><th>Fare</th><th>Cabin</th><th>Embarked</th><th>farePlusAge</th></tr><tr><td>i64</td><td>i64</td><td>i64</td><td>str</td><td>str</td><td>f64</td><td>i64</td><td>i64</td><td>str</td><td>f64</td><td>str</td><td>str</td><td>f64</td></tr></thead><tbody><tr><td>1</td><td>0</td><td>3</td><td>&quot;Braund, Mr. Ow…</td><td>&quot;male&quot;</td><td>22.0</td><td>1</td><td>0</td><td>&quot;A/5 21171&quot;</td><td>7.25</td><td>null</td><td>&quot;S&quot;</td><td>29.25</td></tr><tr><td>2</td><td>1</td><td>1</td><td>&quot;Cumings, Mrs. …</td><td>&quot;female&quot;</td><td>38.0</td><td>1</td><td>0</td><td>&quot;PC 17599&quot;</td><td>71.2833</td><td>&quot;C85&quot;</td><td>&quot;C&quot;</td><td>109.2833</td></tr><tr><td>3</td><td>1</td><td>3</td><td>&quot;Heikkinen, Mis…</td><td>&quot;female&quot;</td><td>26.0</td><td>0</td><td>0</td><td>&quot;STON/O2. 31012…</td><td>7.925</td><td>null</td><td>&quot;S&quot;</td><td>33.925</td></tr><tr><td>4</td><td>1</td><td>1</td><td>&quot;Futrelle, Mrs.…</td><td>&quot;female&quot;</td><td>35.0</td><td>1</td><td>0</td><td>&quot;113803&quot;</td><td>53.1</td><td>&quot;C123&quot;</td><td>&quot;S&quot;</td><td>88.1</td></tr><tr><td>5</td><td>0</td><td>3</td><td>&quot;Allen, Mr. Wil…</td><td>&quot;male&quot;</td><td>35.0</td><td>0</td><td>0</td><td>&quot;373450&quot;</td><td>8.05</td><td>null</td><td>&quot;S&quot;</td><td>43.05</td></tr></tbody></table></div>"
     },
     "execution_count": 10,
     "metadata": {},
     "output_type": "execute_result"
    }
   ],
   "source": [
    "(\n",
    "    pl.read_csv(csv_file)\n",
    "    .with_columns(\n",
    "        (pl.col(\"Fare\") + pl.col(\"Age\")).alias(\"farePlusAge\")\n",
    "    )\n",
    "    .head(5)\n",
    ")"
   ]
  },
  {
   "cell_type": "markdown",
   "id": "2a75dd82-ecdb-4ba2-9ede-88b646d38aac",
   "metadata": {},
   "source": [
    "Some people feel text arithmetic expressions are more readable. \n",
    "\n",
    "We do the same example as above but with the `.add` operator rather than `+` "
   ]
  },
  {
   "cell_type": "code",
   "execution_count": 11,
   "id": "a21ae3ad-421e-4051-b60a-9505d56330f3",
   "metadata": {
    "tags": [],
    "ExecuteTime": {
     "end_time": "2024-03-04T15:05:18.830457200Z",
     "start_time": "2024-03-04T15:05:18.795890500Z"
    }
   },
   "outputs": [
    {
     "data": {
      "text/plain": "shape: (2, 13)\n┌─────────────┬──────────┬────────┬─────────────────┬───┬─────────┬───────┬──────────┬─────────────┐\n│ PassengerId ┆ Survived ┆ Pclass ┆ Name            ┆ … ┆ Fare    ┆ Cabin ┆ Embarked ┆ farePlusAge │\n│ ---         ┆ ---      ┆ ---    ┆ ---             ┆   ┆ ---     ┆ ---   ┆ ---      ┆ ---         │\n│ i64         ┆ i64      ┆ i64    ┆ str             ┆   ┆ f64     ┆ str   ┆ str      ┆ f64         │\n╞═════════════╪══════════╪════════╪═════════════════╪═══╪═════════╪═══════╪══════════╪═════════════╡\n│ 1           ┆ 0        ┆ 3      ┆ Braund, Mr.     ┆ … ┆ 7.25    ┆ null  ┆ S        ┆ 29.25       │\n│             ┆          ┆        ┆ Owen Harris     ┆   ┆         ┆       ┆          ┆             │\n│ 2           ┆ 1        ┆ 1      ┆ Cumings, Mrs.   ┆ … ┆ 71.2833 ┆ C85   ┆ C        ┆ 109.2833    │\n│             ┆          ┆        ┆ John Bradley    ┆   ┆         ┆       ┆          ┆             │\n│             ┆          ┆        ┆ (Flor…          ┆   ┆         ┆       ┆          ┆             │\n└─────────────┴──────────┴────────┴─────────────────┴───┴─────────┴───────┴──────────┴─────────────┘",
      "text/html": "<div><style>\n.dataframe > thead > tr,\n.dataframe > tbody > tr {\n  text-align: right;\n  white-space: pre-wrap;\n}\n</style>\n<small>shape: (2, 13)</small><table border=\"1\" class=\"dataframe\"><thead><tr><th>PassengerId</th><th>Survived</th><th>Pclass</th><th>Name</th><th>Sex</th><th>Age</th><th>SibSp</th><th>Parch</th><th>Ticket</th><th>Fare</th><th>Cabin</th><th>Embarked</th><th>farePlusAge</th></tr><tr><td>i64</td><td>i64</td><td>i64</td><td>str</td><td>str</td><td>f64</td><td>i64</td><td>i64</td><td>str</td><td>f64</td><td>str</td><td>str</td><td>f64</td></tr></thead><tbody><tr><td>1</td><td>0</td><td>3</td><td>&quot;Braund, Mr. Ow…</td><td>&quot;male&quot;</td><td>22.0</td><td>1</td><td>0</td><td>&quot;A/5 21171&quot;</td><td>7.25</td><td>null</td><td>&quot;S&quot;</td><td>29.25</td></tr><tr><td>2</td><td>1</td><td>1</td><td>&quot;Cumings, Mrs. …</td><td>&quot;female&quot;</td><td>38.0</td><td>1</td><td>0</td><td>&quot;PC 17599&quot;</td><td>71.2833</td><td>&quot;C85&quot;</td><td>&quot;C&quot;</td><td>109.2833</td></tr></tbody></table></div>"
     },
     "execution_count": 11,
     "metadata": {},
     "output_type": "execute_result"
    }
   ],
   "source": [
    "(\n",
    "    pl.read_csv(csv_file)\n",
    "    .with_columns(\n",
    "        pl.col('Fare').add(pl.col('Age')).alias('farePlusAge')\n",
    "    )\n",
    "    .head(2)\n",
    ")\n"
   ]
  },
  {
   "cell_type": "markdown",
   "id": "32060b94-9548-47ce-81e7-9469bdd9be39",
   "metadata": {},
   "source": [
    "The mapping from python operators to expressions are:\n",
    "- `==` to `eq`\n",
    "- `//` to `floordiv`\n",
    "- `> ` to `gt`\n",
    "- `>=` to `ge`\n",
    "- `< ` to `lt`\n",
    "- `<=` to `le`\n",
    "- `% ` to `mod`\n",
    "- `!=` to `ne`\n",
    "- `- ` to `sub`\n",
    "- `/ ` to `truediv`\n",
    "- `^ ` to `xor`\n",
    "- `* ` to `mul`"
   ]
  },
  {
   "cell_type": "markdown",
   "id": "bd5e4efd-c2f0-48ff-b19d-b0c050c836da",
   "metadata": {},
   "source": [
    "## Adding a new column with a constant value\n",
    "\n",
    "Use the literal function `pl.lit` to specify a constant value in Polars.\n",
    "\n",
    "Here we add a new column called `Aboard` with a value `yes` for all passengers "
   ]
  },
  {
   "cell_type": "code",
   "execution_count": 13,
   "id": "2b8a4c10-bc6c-476d-b7e2-5bde96a2e5b0",
   "metadata": {
    "tags": [],
    "ExecuteTime": {
     "end_time": "2024-03-04T15:05:49.789163500Z",
     "start_time": "2024-03-04T15:05:49.763164900Z"
    }
   },
   "outputs": [
    {
     "data": {
      "text/plain": "shape: (10, 2)\n┌───────────────────────────────────┬────────┐\n│ Name                              ┆ Aboard │\n│ ---                               ┆ ---    │\n│ str                               ┆ str    │\n╞═══════════════════════════════════╪════════╡\n│ Braund, Mr. Owen Harris           ┆ yes    │\n│ Cumings, Mrs. John Bradley (Flor… ┆ yes    │\n│ Heikkinen, Miss. Laina            ┆ yes    │\n│ Futrelle, Mrs. Jacques Heath (Li… ┆ yes    │\n│ Allen, Mr. William Henry          ┆ yes    │\n│ Moran, Mr. James                  ┆ yes    │\n│ McCarthy, Mr. Timothy J           ┆ yes    │\n│ Palsson, Master. Gosta Leonard    ┆ yes    │\n│ Johnson, Mrs. Oscar W (Elisabeth… ┆ yes    │\n│ Nasser, Mrs. Nicholas (Adele Ach… ┆ yes    │\n└───────────────────────────────────┴────────┘",
      "text/html": "<div><style>\n.dataframe > thead > tr,\n.dataframe > tbody > tr {\n  text-align: right;\n  white-space: pre-wrap;\n}\n</style>\n<small>shape: (10, 2)</small><table border=\"1\" class=\"dataframe\"><thead><tr><th>Name</th><th>Aboard</th></tr><tr><td>str</td><td>str</td></tr></thead><tbody><tr><td>&quot;Braund, Mr. Ow…</td><td>&quot;yes&quot;</td></tr><tr><td>&quot;Cumings, Mrs. …</td><td>&quot;yes&quot;</td></tr><tr><td>&quot;Heikkinen, Mis…</td><td>&quot;yes&quot;</td></tr><tr><td>&quot;Futrelle, Mrs.…</td><td>&quot;yes&quot;</td></tr><tr><td>&quot;Allen, Mr. Wil…</td><td>&quot;yes&quot;</td></tr><tr><td>&quot;Moran, Mr. Jam…</td><td>&quot;yes&quot;</td></tr><tr><td>&quot;McCarthy, Mr. …</td><td>&quot;yes&quot;</td></tr><tr><td>&quot;Palsson, Maste…</td><td>&quot;yes&quot;</td></tr><tr><td>&quot;Johnson, Mrs. …</td><td>&quot;yes&quot;</td></tr><tr><td>&quot;Nasser, Mrs. N…</td><td>&quot;yes&quot;</td></tr></tbody></table></div>"
     },
     "execution_count": 13,
     "metadata": {},
     "output_type": "execute_result"
    }
   ],
   "source": [
    "(\n",
    "    pl.read_csv(csv_file)\n",
    "    .with_columns(\n",
    "        pl.lit('yes').alias('Aboard')\n",
    "    )\n",
    "    .select(['Name','Aboard'])\n",
    "    .head(10)\n",
    ")"
   ]
  },
  {
   "cell_type": "markdown",
   "id": "bb0df250-a7c6-4c68-be2a-d7d7e7651edb",
   "metadata": {
    "tags": []
   },
   "source": [
    "## Exercises\n",
    "\n",
    "In the exercises you will develop your understanding of:\n",
    "- transforming an existing column\n",
    "- adding a new column from existing columns\n",
    "- adding a new column with a constant value\n",
    "\n",
    "### Exercise 1\n",
    "\n",
    "Add a new column called `familySize` which is the sum of the number of siblings (`SibSp` columns), the number of parents or children (`Parch` columns) plus one for the passenger themself.\n",
    "\n",
    "Print out the first 3 rows.\n",
    "\n",
    "Hint: Add the two columns inside `()` and then apply `.alias`"
   ]
  },
  {
   "cell_type": "code",
   "execution_count": 14,
   "id": "42f98196-410e-4934-95fb-5d8a670f2d72",
   "metadata": {
    "tags": [],
    "ExecuteTime": {
     "end_time": "2024-03-04T15:07:48.078198200Z",
     "start_time": "2024-03-04T15:07:47.961140100Z"
    }
   },
   "outputs": [
    {
     "data": {
      "text/plain": "shape: (10, 13)\n┌─────────────┬──────────┬────────┬──────────────────┬───┬─────────┬───────┬──────────┬────────────┐\n│ PassengerId ┆ Survived ┆ Pclass ┆ Name             ┆ … ┆ Fare    ┆ Cabin ┆ Embarked ┆ familySize │\n│ ---         ┆ ---      ┆ ---    ┆ ---              ┆   ┆ ---     ┆ ---   ┆ ---      ┆ ---        │\n│ i64         ┆ i64      ┆ i64    ┆ str              ┆   ┆ f64     ┆ str   ┆ str      ┆ i64        │\n╞═════════════╪══════════╪════════╪══════════════════╪═══╪═════════╪═══════╪══════════╪════════════╡\n│ 1           ┆ 0        ┆ 3      ┆ Braund, Mr. Owen ┆ … ┆ 7.25    ┆ null  ┆ S        ┆ 2          │\n│             ┆          ┆        ┆ Harris           ┆   ┆         ┆       ┆          ┆            │\n│ 2           ┆ 1        ┆ 1      ┆ Cumings, Mrs.    ┆ … ┆ 71.2833 ┆ C85   ┆ C        ┆ 2          │\n│             ┆          ┆        ┆ John Bradley     ┆   ┆         ┆       ┆          ┆            │\n│             ┆          ┆        ┆ (Flor…           ┆   ┆         ┆       ┆          ┆            │\n│ 3           ┆ 1        ┆ 3      ┆ Heikkinen, Miss. ┆ … ┆ 7.925   ┆ null  ┆ S        ┆ 1          │\n│             ┆          ┆        ┆ Laina            ┆   ┆         ┆       ┆          ┆            │\n│ 4           ┆ 1        ┆ 1      ┆ Futrelle, Mrs.   ┆ … ┆ 53.1    ┆ C123  ┆ S        ┆ 2          │\n│             ┆          ┆        ┆ Jacques Heath    ┆   ┆         ┆       ┆          ┆            │\n│             ┆          ┆        ┆ (Li…             ┆   ┆         ┆       ┆          ┆            │\n│ 5           ┆ 0        ┆ 3      ┆ Allen, Mr.       ┆ … ┆ 8.05    ┆ null  ┆ S        ┆ 1          │\n│             ┆          ┆        ┆ William Henry    ┆   ┆         ┆       ┆          ┆            │\n│ 6           ┆ 0        ┆ 3      ┆ Moran, Mr. James ┆ … ┆ 8.4583  ┆ null  ┆ Q        ┆ 1          │\n│ 7           ┆ 0        ┆ 1      ┆ McCarthy, Mr.    ┆ … ┆ 51.8625 ┆ E46   ┆ S        ┆ 1          │\n│             ┆          ┆        ┆ Timothy J        ┆   ┆         ┆       ┆          ┆            │\n│ 8           ┆ 0        ┆ 3      ┆ Palsson, Master. ┆ … ┆ 21.075  ┆ null  ┆ S        ┆ 5          │\n│             ┆          ┆        ┆ Gosta Leonard    ┆   ┆         ┆       ┆          ┆            │\n│ 9           ┆ 1        ┆ 3      ┆ Johnson, Mrs.    ┆ … ┆ 11.1333 ┆ null  ┆ S        ┆ 3          │\n│             ┆          ┆        ┆ Oscar W          ┆   ┆         ┆       ┆          ┆            │\n│             ┆          ┆        ┆ (Elisabeth…      ┆   ┆         ┆       ┆          ┆            │\n│ 10          ┆ 1        ┆ 2      ┆ Nasser, Mrs.     ┆ … ┆ 30.0708 ┆ null  ┆ C        ┆ 2          │\n│             ┆          ┆        ┆ Nicholas (Adele  ┆   ┆         ┆       ┆          ┆            │\n│             ┆          ┆        ┆ Ach…             ┆   ┆         ┆       ┆          ┆            │\n└─────────────┴──────────┴────────┴──────────────────┴───┴─────────┴───────┴──────────┴────────────┘",
      "text/html": "<div><style>\n.dataframe > thead > tr,\n.dataframe > tbody > tr {\n  text-align: right;\n  white-space: pre-wrap;\n}\n</style>\n<small>shape: (10, 13)</small><table border=\"1\" class=\"dataframe\"><thead><tr><th>PassengerId</th><th>Survived</th><th>Pclass</th><th>Name</th><th>Sex</th><th>Age</th><th>SibSp</th><th>Parch</th><th>Ticket</th><th>Fare</th><th>Cabin</th><th>Embarked</th><th>familySize</th></tr><tr><td>i64</td><td>i64</td><td>i64</td><td>str</td><td>str</td><td>f64</td><td>i64</td><td>i64</td><td>str</td><td>f64</td><td>str</td><td>str</td><td>i64</td></tr></thead><tbody><tr><td>1</td><td>0</td><td>3</td><td>&quot;Braund, Mr. Ow…</td><td>&quot;male&quot;</td><td>22.0</td><td>1</td><td>0</td><td>&quot;A/5 21171&quot;</td><td>7.25</td><td>null</td><td>&quot;S&quot;</td><td>2</td></tr><tr><td>2</td><td>1</td><td>1</td><td>&quot;Cumings, Mrs. …</td><td>&quot;female&quot;</td><td>38.0</td><td>1</td><td>0</td><td>&quot;PC 17599&quot;</td><td>71.2833</td><td>&quot;C85&quot;</td><td>&quot;C&quot;</td><td>2</td></tr><tr><td>3</td><td>1</td><td>3</td><td>&quot;Heikkinen, Mis…</td><td>&quot;female&quot;</td><td>26.0</td><td>0</td><td>0</td><td>&quot;STON/O2. 31012…</td><td>7.925</td><td>null</td><td>&quot;S&quot;</td><td>1</td></tr><tr><td>4</td><td>1</td><td>1</td><td>&quot;Futrelle, Mrs.…</td><td>&quot;female&quot;</td><td>35.0</td><td>1</td><td>0</td><td>&quot;113803&quot;</td><td>53.1</td><td>&quot;C123&quot;</td><td>&quot;S&quot;</td><td>2</td></tr><tr><td>5</td><td>0</td><td>3</td><td>&quot;Allen, Mr. Wil…</td><td>&quot;male&quot;</td><td>35.0</td><td>0</td><td>0</td><td>&quot;373450&quot;</td><td>8.05</td><td>null</td><td>&quot;S&quot;</td><td>1</td></tr><tr><td>6</td><td>0</td><td>3</td><td>&quot;Moran, Mr. Jam…</td><td>&quot;male&quot;</td><td>null</td><td>0</td><td>0</td><td>&quot;330877&quot;</td><td>8.4583</td><td>null</td><td>&quot;Q&quot;</td><td>1</td></tr><tr><td>7</td><td>0</td><td>1</td><td>&quot;McCarthy, Mr. …</td><td>&quot;male&quot;</td><td>54.0</td><td>0</td><td>0</td><td>&quot;17463&quot;</td><td>51.8625</td><td>&quot;E46&quot;</td><td>&quot;S&quot;</td><td>1</td></tr><tr><td>8</td><td>0</td><td>3</td><td>&quot;Palsson, Maste…</td><td>&quot;male&quot;</td><td>2.0</td><td>3</td><td>1</td><td>&quot;349909&quot;</td><td>21.075</td><td>null</td><td>&quot;S&quot;</td><td>5</td></tr><tr><td>9</td><td>1</td><td>3</td><td>&quot;Johnson, Mrs. …</td><td>&quot;female&quot;</td><td>27.0</td><td>0</td><td>2</td><td>&quot;347742&quot;</td><td>11.1333</td><td>null</td><td>&quot;S&quot;</td><td>3</td></tr><tr><td>10</td><td>1</td><td>2</td><td>&quot;Nasser, Mrs. N…</td><td>&quot;female&quot;</td><td>14.0</td><td>1</td><td>0</td><td>&quot;237736&quot;</td><td>30.0708</td><td>null</td><td>&quot;C&quot;</td><td>2</td></tr></tbody></table></div>"
     },
     "execution_count": 14,
     "metadata": {},
     "output_type": "execute_result"
    }
   ],
   "source": [
    "(\n",
    "    pl.read_csv(csv_file)\n",
    "    .with_columns(\n",
    "        (pl.col('SibSp')+pl.col('Parch')+1).alias('familySize')\n",
    "    )\n",
    ").head(10)"
   ]
  },
  {
   "cell_type": "markdown",
   "id": "c087e751-e097-48ac-ac41-b4213b6764c1",
   "metadata": {},
   "source": [
    "### Exercise 2 \n",
    "\n",
    "Add a new column called `decade` that converts the `Age` column to the passengers age in decades e.g. 15.2 goes to 10, where 10 is an integer. Add the new column using the kwargs approach.\n",
    "\n",
    "Print out the first 3 rows.\n",
    "\n",
    "Hint: use `cast` to convert the dtype"
   ]
  },
  {
   "cell_type": "code",
   "execution_count": 17,
   "id": "3de6c9dd-0baa-4a73-b0b4-360e7c629278",
   "metadata": {
    "tags": [],
    "ExecuteTime": {
     "end_time": "2024-03-04T15:10:27.366445Z",
     "start_time": "2024-03-04T15:10:27.324446Z"
    }
   },
   "outputs": [
    {
     "data": {
      "text/plain": "shape: (10, 13)\n┌─────────────┬──────────┬────────┬──────────────────────┬───┬─────────┬───────┬──────────┬────────┐\n│ PassengerId ┆ Survived ┆ Pclass ┆ Name                 ┆ … ┆ Fare    ┆ Cabin ┆ Embarked ┆ decade │\n│ ---         ┆ ---      ┆ ---    ┆ ---                  ┆   ┆ ---     ┆ ---   ┆ ---      ┆ ---    │\n│ i64         ┆ i64      ┆ i64    ┆ str                  ┆   ┆ f64     ┆ str   ┆ str      ┆ i32    │\n╞═════════════╪══════════╪════════╪══════════════════════╪═══╪═════════╪═══════╪══════════╪════════╡\n│ 1           ┆ 0        ┆ 3      ┆ Braund, Mr. Owen     ┆ … ┆ 7.25    ┆ null  ┆ S        ┆ 20     │\n│             ┆          ┆        ┆ Harris               ┆   ┆         ┆       ┆          ┆        │\n│ 2           ┆ 1        ┆ 1      ┆ Cumings, Mrs. John   ┆ … ┆ 71.2833 ┆ C85   ┆ C        ┆ 30     │\n│             ┆          ┆        ┆ Bradley (Flor…       ┆   ┆         ┆       ┆          ┆        │\n│ 3           ┆ 1        ┆ 3      ┆ Heikkinen, Miss.     ┆ … ┆ 7.925   ┆ null  ┆ S        ┆ 20     │\n│             ┆          ┆        ┆ Laina                ┆   ┆         ┆       ┆          ┆        │\n│ 4           ┆ 1        ┆ 1      ┆ Futrelle, Mrs.       ┆ … ┆ 53.1    ┆ C123  ┆ S        ┆ 30     │\n│             ┆          ┆        ┆ Jacques Heath (Li…   ┆   ┆         ┆       ┆          ┆        │\n│ 5           ┆ 0        ┆ 3      ┆ Allen, Mr. William   ┆ … ┆ 8.05    ┆ null  ┆ S        ┆ 30     │\n│             ┆          ┆        ┆ Henry                ┆   ┆         ┆       ┆          ┆        │\n│ 6           ┆ 0        ┆ 3      ┆ Moran, Mr. James     ┆ … ┆ 8.4583  ┆ null  ┆ Q        ┆ null   │\n│ 7           ┆ 0        ┆ 1      ┆ McCarthy, Mr.        ┆ … ┆ 51.8625 ┆ E46   ┆ S        ┆ 50     │\n│             ┆          ┆        ┆ Timothy J            ┆   ┆         ┆       ┆          ┆        │\n│ 8           ┆ 0        ┆ 3      ┆ Palsson, Master.     ┆ … ┆ 21.075  ┆ null  ┆ S        ┆ 0      │\n│             ┆          ┆        ┆ Gosta Leonard        ┆   ┆         ┆       ┆          ┆        │\n│ 9           ┆ 1        ┆ 3      ┆ Johnson, Mrs. Oscar  ┆ … ┆ 11.1333 ┆ null  ┆ S        ┆ 20     │\n│             ┆          ┆        ┆ W (Elisabeth…        ┆   ┆         ┆       ┆          ┆        │\n│ 10          ┆ 1        ┆ 2      ┆ Nasser, Mrs.         ┆ … ┆ 30.0708 ┆ null  ┆ C        ┆ 10     │\n│             ┆          ┆        ┆ Nicholas (Adele Ach… ┆   ┆         ┆       ┆          ┆        │\n└─────────────┴──────────┴────────┴──────────────────────┴───┴─────────┴───────┴──────────┴────────┘",
      "text/html": "<div><style>\n.dataframe > thead > tr,\n.dataframe > tbody > tr {\n  text-align: right;\n  white-space: pre-wrap;\n}\n</style>\n<small>shape: (10, 13)</small><table border=\"1\" class=\"dataframe\"><thead><tr><th>PassengerId</th><th>Survived</th><th>Pclass</th><th>Name</th><th>Sex</th><th>Age</th><th>SibSp</th><th>Parch</th><th>Ticket</th><th>Fare</th><th>Cabin</th><th>Embarked</th><th>decade</th></tr><tr><td>i64</td><td>i64</td><td>i64</td><td>str</td><td>str</td><td>f64</td><td>i64</td><td>i64</td><td>str</td><td>f64</td><td>str</td><td>str</td><td>i32</td></tr></thead><tbody><tr><td>1</td><td>0</td><td>3</td><td>&quot;Braund, Mr. Ow…</td><td>&quot;male&quot;</td><td>22.0</td><td>1</td><td>0</td><td>&quot;A/5 21171&quot;</td><td>7.25</td><td>null</td><td>&quot;S&quot;</td><td>20</td></tr><tr><td>2</td><td>1</td><td>1</td><td>&quot;Cumings, Mrs. …</td><td>&quot;female&quot;</td><td>38.0</td><td>1</td><td>0</td><td>&quot;PC 17599&quot;</td><td>71.2833</td><td>&quot;C85&quot;</td><td>&quot;C&quot;</td><td>30</td></tr><tr><td>3</td><td>1</td><td>3</td><td>&quot;Heikkinen, Mis…</td><td>&quot;female&quot;</td><td>26.0</td><td>0</td><td>0</td><td>&quot;STON/O2. 31012…</td><td>7.925</td><td>null</td><td>&quot;S&quot;</td><td>20</td></tr><tr><td>4</td><td>1</td><td>1</td><td>&quot;Futrelle, Mrs.…</td><td>&quot;female&quot;</td><td>35.0</td><td>1</td><td>0</td><td>&quot;113803&quot;</td><td>53.1</td><td>&quot;C123&quot;</td><td>&quot;S&quot;</td><td>30</td></tr><tr><td>5</td><td>0</td><td>3</td><td>&quot;Allen, Mr. Wil…</td><td>&quot;male&quot;</td><td>35.0</td><td>0</td><td>0</td><td>&quot;373450&quot;</td><td>8.05</td><td>null</td><td>&quot;S&quot;</td><td>30</td></tr><tr><td>6</td><td>0</td><td>3</td><td>&quot;Moran, Mr. Jam…</td><td>&quot;male&quot;</td><td>null</td><td>0</td><td>0</td><td>&quot;330877&quot;</td><td>8.4583</td><td>null</td><td>&quot;Q&quot;</td><td>null</td></tr><tr><td>7</td><td>0</td><td>1</td><td>&quot;McCarthy, Mr. …</td><td>&quot;male&quot;</td><td>54.0</td><td>0</td><td>0</td><td>&quot;17463&quot;</td><td>51.8625</td><td>&quot;E46&quot;</td><td>&quot;S&quot;</td><td>50</td></tr><tr><td>8</td><td>0</td><td>3</td><td>&quot;Palsson, Maste…</td><td>&quot;male&quot;</td><td>2.0</td><td>3</td><td>1</td><td>&quot;349909&quot;</td><td>21.075</td><td>null</td><td>&quot;S&quot;</td><td>0</td></tr><tr><td>9</td><td>1</td><td>3</td><td>&quot;Johnson, Mrs. …</td><td>&quot;female&quot;</td><td>27.0</td><td>0</td><td>2</td><td>&quot;347742&quot;</td><td>11.1333</td><td>null</td><td>&quot;S&quot;</td><td>20</td></tr><tr><td>10</td><td>1</td><td>2</td><td>&quot;Nasser, Mrs. N…</td><td>&quot;female&quot;</td><td>14.0</td><td>1</td><td>0</td><td>&quot;237736&quot;</td><td>30.0708</td><td>null</td><td>&quot;C&quot;</td><td>10</td></tr></tbody></table></div>"
     },
     "execution_count": 17,
     "metadata": {},
     "output_type": "execute_result"
    }
   ],
   "source": [
    "(\n",
    "    pl.read_csv(csv_file)\n",
    "    .with_columns(\n",
    "        ((pl.col('Age')/10).cast(pl.Int32)*10).alias('decade')\n",
    "    )\n",
    ").head(10)"
   ]
  },
  {
   "cell_type": "markdown",
   "id": "6c8a38c0-a771-47c1-a361-ff4263dd70b4",
   "metadata": {},
   "source": [
    "### Exercise 3\n",
    "Create a new literal column\n",
    "\n",
    "Add a new binary column called `Aboard` that has the value `1` for all passengers.\n",
    "\n",
    "Print out the first 3 rows"
   ]
  },
  {
   "cell_type": "code",
   "execution_count": 18,
   "id": "69550fff-77ee-4def-9807-5d2daed60247",
   "metadata": {
    "ExecuteTime": {
     "end_time": "2024-03-04T15:11:31.450091700Z",
     "start_time": "2024-03-04T15:11:31.413093400Z"
    }
   },
   "outputs": [
    {
     "data": {
      "text/plain": "shape: (891, 13)\n┌─────────────┬──────────┬────────┬──────────────────────┬───┬─────────┬───────┬──────────┬────────┐\n│ PassengerId ┆ Survived ┆ Pclass ┆ Name                 ┆ … ┆ Fare    ┆ Cabin ┆ Embarked ┆ Aboard │\n│ ---         ┆ ---      ┆ ---    ┆ ---                  ┆   ┆ ---     ┆ ---   ┆ ---      ┆ ---    │\n│ i64         ┆ i64      ┆ i64    ┆ str                  ┆   ┆ f64     ┆ str   ┆ str      ┆ i32    │\n╞═════════════╪══════════╪════════╪══════════════════════╪═══╪═════════╪═══════╪══════════╪════════╡\n│ 1           ┆ 0        ┆ 3      ┆ Braund, Mr. Owen     ┆ … ┆ 7.25    ┆ null  ┆ S        ┆ 1      │\n│             ┆          ┆        ┆ Harris               ┆   ┆         ┆       ┆          ┆        │\n│ 2           ┆ 1        ┆ 1      ┆ Cumings, Mrs. John   ┆ … ┆ 71.2833 ┆ C85   ┆ C        ┆ 1      │\n│             ┆          ┆        ┆ Bradley (Flor…       ┆   ┆         ┆       ┆          ┆        │\n│ 3           ┆ 1        ┆ 3      ┆ Heikkinen, Miss.     ┆ … ┆ 7.925   ┆ null  ┆ S        ┆ 1      │\n│             ┆          ┆        ┆ Laina                ┆   ┆         ┆       ┆          ┆        │\n│ 4           ┆ 1        ┆ 1      ┆ Futrelle, Mrs.       ┆ … ┆ 53.1    ┆ C123  ┆ S        ┆ 1      │\n│             ┆          ┆        ┆ Jacques Heath (Li…   ┆   ┆         ┆       ┆          ┆        │\n│ 5           ┆ 0        ┆ 3      ┆ Allen, Mr. William   ┆ … ┆ 8.05    ┆ null  ┆ S        ┆ 1      │\n│             ┆          ┆        ┆ Henry                ┆   ┆         ┆       ┆          ┆        │\n│ …           ┆ …        ┆ …      ┆ …                    ┆ … ┆ …       ┆ …     ┆ …        ┆ …      │\n│ 887         ┆ 0        ┆ 2      ┆ Montvila, Rev.       ┆ … ┆ 13.0    ┆ null  ┆ S        ┆ 1      │\n│             ┆          ┆        ┆ Juozas               ┆   ┆         ┆       ┆          ┆        │\n│ 888         ┆ 1        ┆ 1      ┆ Graham, Miss.        ┆ … ┆ 30.0    ┆ B42   ┆ S        ┆ 1      │\n│             ┆          ┆        ┆ Margaret Edith       ┆   ┆         ┆       ┆          ┆        │\n│ 889         ┆ 0        ┆ 3      ┆ Johnston, Miss.      ┆ … ┆ 23.45   ┆ null  ┆ S        ┆ 1      │\n│             ┆          ┆        ┆ Catherine Helen …    ┆   ┆         ┆       ┆          ┆        │\n│ 890         ┆ 1        ┆ 1      ┆ Behr, Mr. Karl       ┆ … ┆ 30.0    ┆ C148  ┆ C        ┆ 1      │\n│             ┆          ┆        ┆ Howell               ┆   ┆         ┆       ┆          ┆        │\n│ 891         ┆ 0        ┆ 3      ┆ Dooley, Mr. Patrick  ┆ … ┆ 7.75    ┆ null  ┆ Q        ┆ 1      │\n└─────────────┴──────────┴────────┴──────────────────────┴───┴─────────┴───────┴──────────┴────────┘",
      "text/html": "<div><style>\n.dataframe > thead > tr,\n.dataframe > tbody > tr {\n  text-align: right;\n  white-space: pre-wrap;\n}\n</style>\n<small>shape: (891, 13)</small><table border=\"1\" class=\"dataframe\"><thead><tr><th>PassengerId</th><th>Survived</th><th>Pclass</th><th>Name</th><th>Sex</th><th>Age</th><th>SibSp</th><th>Parch</th><th>Ticket</th><th>Fare</th><th>Cabin</th><th>Embarked</th><th>Aboard</th></tr><tr><td>i64</td><td>i64</td><td>i64</td><td>str</td><td>str</td><td>f64</td><td>i64</td><td>i64</td><td>str</td><td>f64</td><td>str</td><td>str</td><td>i32</td></tr></thead><tbody><tr><td>1</td><td>0</td><td>3</td><td>&quot;Braund, Mr. Ow…</td><td>&quot;male&quot;</td><td>22.0</td><td>1</td><td>0</td><td>&quot;A/5 21171&quot;</td><td>7.25</td><td>null</td><td>&quot;S&quot;</td><td>1</td></tr><tr><td>2</td><td>1</td><td>1</td><td>&quot;Cumings, Mrs. …</td><td>&quot;female&quot;</td><td>38.0</td><td>1</td><td>0</td><td>&quot;PC 17599&quot;</td><td>71.2833</td><td>&quot;C85&quot;</td><td>&quot;C&quot;</td><td>1</td></tr><tr><td>3</td><td>1</td><td>3</td><td>&quot;Heikkinen, Mis…</td><td>&quot;female&quot;</td><td>26.0</td><td>0</td><td>0</td><td>&quot;STON/O2. 31012…</td><td>7.925</td><td>null</td><td>&quot;S&quot;</td><td>1</td></tr><tr><td>4</td><td>1</td><td>1</td><td>&quot;Futrelle, Mrs.…</td><td>&quot;female&quot;</td><td>35.0</td><td>1</td><td>0</td><td>&quot;113803&quot;</td><td>53.1</td><td>&quot;C123&quot;</td><td>&quot;S&quot;</td><td>1</td></tr><tr><td>5</td><td>0</td><td>3</td><td>&quot;Allen, Mr. Wil…</td><td>&quot;male&quot;</td><td>35.0</td><td>0</td><td>0</td><td>&quot;373450&quot;</td><td>8.05</td><td>null</td><td>&quot;S&quot;</td><td>1</td></tr><tr><td>&hellip;</td><td>&hellip;</td><td>&hellip;</td><td>&hellip;</td><td>&hellip;</td><td>&hellip;</td><td>&hellip;</td><td>&hellip;</td><td>&hellip;</td><td>&hellip;</td><td>&hellip;</td><td>&hellip;</td><td>&hellip;</td></tr><tr><td>887</td><td>0</td><td>2</td><td>&quot;Montvila, Rev.…</td><td>&quot;male&quot;</td><td>27.0</td><td>0</td><td>0</td><td>&quot;211536&quot;</td><td>13.0</td><td>null</td><td>&quot;S&quot;</td><td>1</td></tr><tr><td>888</td><td>1</td><td>1</td><td>&quot;Graham, Miss. …</td><td>&quot;female&quot;</td><td>19.0</td><td>0</td><td>0</td><td>&quot;112053&quot;</td><td>30.0</td><td>&quot;B42&quot;</td><td>&quot;S&quot;</td><td>1</td></tr><tr><td>889</td><td>0</td><td>3</td><td>&quot;Johnston, Miss…</td><td>&quot;female&quot;</td><td>null</td><td>1</td><td>2</td><td>&quot;W./C. 6607&quot;</td><td>23.45</td><td>null</td><td>&quot;S&quot;</td><td>1</td></tr><tr><td>890</td><td>1</td><td>1</td><td>&quot;Behr, Mr. Karl…</td><td>&quot;male&quot;</td><td>26.0</td><td>0</td><td>0</td><td>&quot;111369&quot;</td><td>30.0</td><td>&quot;C148&quot;</td><td>&quot;C&quot;</td><td>1</td></tr><tr><td>891</td><td>0</td><td>3</td><td>&quot;Dooley, Mr. Pa…</td><td>&quot;male&quot;</td><td>32.0</td><td>0</td><td>0</td><td>&quot;370376&quot;</td><td>7.75</td><td>null</td><td>&quot;Q&quot;</td><td>1</td></tr></tbody></table></div>"
     },
     "execution_count": 18,
     "metadata": {},
     "output_type": "execute_result"
    }
   ],
   "source": [
    "(\n",
    "    pl.read_csv(csv_file)\n",
    "    .with_columns(\n",
    "        pl.lit(1).alias('Aboard')\n",
    "    )\n",
    ")"
   ]
  },
  {
   "cell_type": "markdown",
   "id": "78e031ea-355d-4072-bdc3-876e7c2766e7",
   "metadata": {},
   "source": [
    "### Exercise 4\n",
    "\n",
    "Add a new Boolean column `overThirty` that captures whether a passenger's age is 30 years or older"
   ]
  },
  {
   "cell_type": "code",
   "execution_count": null,
   "id": "87ad7227-a382-447e-a7d0-e4fa745ab07c",
   "metadata": {
    "tags": []
   },
   "outputs": [],
   "source": [
    "(\n",
    "    pl.read_csv(csv_file)\n",
    "    <blank>\n",
    ")"
   ]
  },
  {
   "cell_type": "markdown",
   "id": "006972d9-b4b0-41da-81c6-e2596c5a1bac",
   "metadata": {},
   "source": [
    "## Solutions\n",
    "\n",
    "### Solution to exercise 1\n",
    "\n",
    "Add a new column for family size"
   ]
  },
  {
   "cell_type": "code",
   "execution_count": 19,
   "id": "f1a4943b-50e8-44a2-bc0b-f21a193787af",
   "metadata": {
    "tags": [],
    "ExecuteTime": {
     "end_time": "2024-03-04T15:11:43.156468300Z",
     "start_time": "2024-03-04T15:11:43.091339900Z"
    }
   },
   "outputs": [
    {
     "data": {
      "text/plain": "shape: (3, 13)\n┌─────────────┬──────────┬────────┬──────────────────┬───┬─────────┬───────┬──────────┬────────────┐\n│ PassengerId ┆ Survived ┆ Pclass ┆ Name             ┆ … ┆ Fare    ┆ Cabin ┆ Embarked ┆ familySize │\n│ ---         ┆ ---      ┆ ---    ┆ ---              ┆   ┆ ---     ┆ ---   ┆ ---      ┆ ---        │\n│ i64         ┆ i64      ┆ i64    ┆ str              ┆   ┆ f64     ┆ str   ┆ str      ┆ i64        │\n╞═════════════╪══════════╪════════╪══════════════════╪═══╪═════════╪═══════╪══════════╪════════════╡\n│ 1           ┆ 0        ┆ 3      ┆ Braund, Mr. Owen ┆ … ┆ 7.25    ┆ null  ┆ S        ┆ 2          │\n│             ┆          ┆        ┆ Harris           ┆   ┆         ┆       ┆          ┆            │\n│ 2           ┆ 1        ┆ 1      ┆ Cumings, Mrs.    ┆ … ┆ 71.2833 ┆ C85   ┆ C        ┆ 2          │\n│             ┆          ┆        ┆ John Bradley     ┆   ┆         ┆       ┆          ┆            │\n│             ┆          ┆        ┆ (Flor…           ┆   ┆         ┆       ┆          ┆            │\n│ 3           ┆ 1        ┆ 3      ┆ Heikkinen, Miss. ┆ … ┆ 7.925   ┆ null  ┆ S        ┆ 1          │\n│             ┆          ┆        ┆ Laina            ┆   ┆         ┆       ┆          ┆            │\n└─────────────┴──────────┴────────┴──────────────────┴───┴─────────┴───────┴──────────┴────────────┘",
      "text/html": "<div><style>\n.dataframe > thead > tr,\n.dataframe > tbody > tr {\n  text-align: right;\n  white-space: pre-wrap;\n}\n</style>\n<small>shape: (3, 13)</small><table border=\"1\" class=\"dataframe\"><thead><tr><th>PassengerId</th><th>Survived</th><th>Pclass</th><th>Name</th><th>Sex</th><th>Age</th><th>SibSp</th><th>Parch</th><th>Ticket</th><th>Fare</th><th>Cabin</th><th>Embarked</th><th>familySize</th></tr><tr><td>i64</td><td>i64</td><td>i64</td><td>str</td><td>str</td><td>f64</td><td>i64</td><td>i64</td><td>str</td><td>f64</td><td>str</td><td>str</td><td>i64</td></tr></thead><tbody><tr><td>1</td><td>0</td><td>3</td><td>&quot;Braund, Mr. Ow…</td><td>&quot;male&quot;</td><td>22.0</td><td>1</td><td>0</td><td>&quot;A/5 21171&quot;</td><td>7.25</td><td>null</td><td>&quot;S&quot;</td><td>2</td></tr><tr><td>2</td><td>1</td><td>1</td><td>&quot;Cumings, Mrs. …</td><td>&quot;female&quot;</td><td>38.0</td><td>1</td><td>0</td><td>&quot;PC 17599&quot;</td><td>71.2833</td><td>&quot;C85&quot;</td><td>&quot;C&quot;</td><td>2</td></tr><tr><td>3</td><td>1</td><td>3</td><td>&quot;Heikkinen, Mis…</td><td>&quot;female&quot;</td><td>26.0</td><td>0</td><td>0</td><td>&quot;STON/O2. 31012…</td><td>7.925</td><td>null</td><td>&quot;S&quot;</td><td>1</td></tr></tbody></table></div>"
     },
     "execution_count": 19,
     "metadata": {},
     "output_type": "execute_result"
    }
   ],
   "source": [
    "(\n",
    "    pl.read_csv(csv_file)\n",
    "    .with_columns( \n",
    "        (\n",
    "        pl.col('SibSp') + pl.col('Parch') + 1\n",
    "        ).alias('familySize')\n",
    "    )\n",
    "    .head(3)\n",
    ")"
   ]
  },
  {
   "cell_type": "markdown",
   "id": "eb5c8a7b-e788-413c-9c6f-4d036e3068f8",
   "metadata": {},
   "source": [
    "### Solution to exercise 2\n",
    "\n",
    "Create a decades column"
   ]
  },
  {
   "cell_type": "code",
   "execution_count": 20,
   "id": "b918114b-66fa-4ceb-9209-474e421ac949",
   "metadata": {
    "jupyter": {
     "source_hidden": true
    },
    "tags": [],
    "ExecuteTime": {
     "end_time": "2024-03-04T15:11:51.947955500Z",
     "start_time": "2024-03-04T15:11:51.870223Z"
    }
   },
   "outputs": [
    {
     "data": {
      "text/plain": "shape: (3, 2)\n┌──────┬────────┐\n│ Age  ┆ decade │\n│ ---  ┆ ---    │\n│ f64  ┆ i64    │\n╞══════╪════════╡\n│ 22.0 ┆ 2      │\n│ 38.0 ┆ 3      │\n│ 26.0 ┆ 2      │\n└──────┴────────┘",
      "text/html": "<div><style>\n.dataframe > thead > tr,\n.dataframe > tbody > tr {\n  text-align: right;\n  white-space: pre-wrap;\n}\n</style>\n<small>shape: (3, 2)</small><table border=\"1\" class=\"dataframe\"><thead><tr><th>Age</th><th>decade</th></tr><tr><td>f64</td><td>i64</td></tr></thead><tbody><tr><td>22.0</td><td>2</td></tr><tr><td>38.0</td><td>3</td></tr><tr><td>26.0</td><td>2</td></tr></tbody></table></div>"
     },
     "execution_count": 20,
     "metadata": {},
     "output_type": "execute_result"
    }
   ],
   "source": [
    "(\n",
    "    pl.read_csv(csv_file)\n",
    "    .with_columns( \n",
    "        decade = ((pl.col('Age')/10).floor()).cast(pl.Int64)\n",
    "    )\n",
    "    .select(['Age','decade'])\n",
    "    .head(3)\n",
    ")\n"
   ]
  },
  {
   "cell_type": "markdown",
   "id": "248ae068-a5de-410a-963f-aaf03a3af91b",
   "metadata": {},
   "source": [
    "### Solution to exercise 3\n",
    "\n",
    "Create a new literal column"
   ]
  },
  {
   "cell_type": "code",
   "execution_count": 21,
   "id": "39258f98-ebc4-4b9b-bee8-9aafc49180a3",
   "metadata": {
    "jupyter": {
     "source_hidden": true
    },
    "tags": [],
    "ExecuteTime": {
     "end_time": "2024-03-04T15:12:04.418408Z",
     "start_time": "2024-03-04T15:12:04.347411800Z"
    }
   },
   "outputs": [
    {
     "data": {
      "text/plain": "shape: (3, 13)\n┌─────────────┬──────────┬────────┬──────────────────────┬───┬─────────┬───────┬──────────┬────────┐\n│ PassengerId ┆ Survived ┆ Pclass ┆ Name                 ┆ … ┆ Fare    ┆ Cabin ┆ Embarked ┆ Aboard │\n│ ---         ┆ ---      ┆ ---    ┆ ---                  ┆   ┆ ---     ┆ ---   ┆ ---      ┆ ---    │\n│ i64         ┆ i64      ┆ i64    ┆ str                  ┆   ┆ f64     ┆ str   ┆ str      ┆ i32    │\n╞═════════════╪══════════╪════════╪══════════════════════╪═══╪═════════╪═══════╪══════════╪════════╡\n│ 1           ┆ 0        ┆ 3      ┆ Braund, Mr. Owen     ┆ … ┆ 7.25    ┆ null  ┆ S        ┆ 1      │\n│             ┆          ┆        ┆ Harris               ┆   ┆         ┆       ┆          ┆        │\n│ 2           ┆ 1        ┆ 1      ┆ Cumings, Mrs. John   ┆ … ┆ 71.2833 ┆ C85   ┆ C        ┆ 1      │\n│             ┆          ┆        ┆ Bradley (Flor…       ┆   ┆         ┆       ┆          ┆        │\n│ 3           ┆ 1        ┆ 3      ┆ Heikkinen, Miss.     ┆ … ┆ 7.925   ┆ null  ┆ S        ┆ 1      │\n│             ┆          ┆        ┆ Laina                ┆   ┆         ┆       ┆          ┆        │\n└─────────────┴──────────┴────────┴──────────────────────┴───┴─────────┴───────┴──────────┴────────┘",
      "text/html": "<div><style>\n.dataframe > thead > tr,\n.dataframe > tbody > tr {\n  text-align: right;\n  white-space: pre-wrap;\n}\n</style>\n<small>shape: (3, 13)</small><table border=\"1\" class=\"dataframe\"><thead><tr><th>PassengerId</th><th>Survived</th><th>Pclass</th><th>Name</th><th>Sex</th><th>Age</th><th>SibSp</th><th>Parch</th><th>Ticket</th><th>Fare</th><th>Cabin</th><th>Embarked</th><th>Aboard</th></tr><tr><td>i64</td><td>i64</td><td>i64</td><td>str</td><td>str</td><td>f64</td><td>i64</td><td>i64</td><td>str</td><td>f64</td><td>str</td><td>str</td><td>i32</td></tr></thead><tbody><tr><td>1</td><td>0</td><td>3</td><td>&quot;Braund, Mr. Ow…</td><td>&quot;male&quot;</td><td>22.0</td><td>1</td><td>0</td><td>&quot;A/5 21171&quot;</td><td>7.25</td><td>null</td><td>&quot;S&quot;</td><td>1</td></tr><tr><td>2</td><td>1</td><td>1</td><td>&quot;Cumings, Mrs. …</td><td>&quot;female&quot;</td><td>38.0</td><td>1</td><td>0</td><td>&quot;PC 17599&quot;</td><td>71.2833</td><td>&quot;C85&quot;</td><td>&quot;C&quot;</td><td>1</td></tr><tr><td>3</td><td>1</td><td>3</td><td>&quot;Heikkinen, Mis…</td><td>&quot;female&quot;</td><td>26.0</td><td>0</td><td>0</td><td>&quot;STON/O2. 31012…</td><td>7.925</td><td>null</td><td>&quot;S&quot;</td><td>1</td></tr></tbody></table></div>"
     },
     "execution_count": 21,
     "metadata": {},
     "output_type": "execute_result"
    }
   ],
   "source": [
    "(\n",
    "    pl.read_csv(csv_file)\n",
    "    .with_columns(\n",
    "        pl.lit(1).alias('Aboard')\n",
    "    )\n",
    "    .head(3)\n",
    ")"
   ]
  },
  {
   "cell_type": "markdown",
   "id": "294a0ce3-5595-4295-ab78-5c18a697cacb",
   "metadata": {
    "collapsed": true,
    "jupyter": {
     "outputs_hidden": true
    },
    "tags": []
   },
   "source": [
    "### Solution to Exercise 4\n",
    "\n",
    "Add a new Boolean column based on an expression"
   ]
  },
  {
   "cell_type": "code",
   "execution_count": 22,
   "id": "7ab35381-12f8-4194-bdd2-6a3e44151cad",
   "metadata": {
    "jupyter": {
     "source_hidden": true
    },
    "tags": [],
    "ExecuteTime": {
     "end_time": "2024-03-04T15:12:09.534991700Z",
     "start_time": "2024-03-04T15:12:09.452826800Z"
    }
   },
   "outputs": [
    {
     "data": {
      "text/plain": "shape: (3, 13)\n┌─────────────┬──────────┬────────┬──────────────────┬───┬─────────┬───────┬──────────┬────────────┐\n│ PassengerId ┆ Survived ┆ Pclass ┆ Name             ┆ … ┆ Fare    ┆ Cabin ┆ Embarked ┆ overThirty │\n│ ---         ┆ ---      ┆ ---    ┆ ---              ┆   ┆ ---     ┆ ---   ┆ ---      ┆ ---        │\n│ i64         ┆ i64      ┆ i64    ┆ str              ┆   ┆ f64     ┆ str   ┆ str      ┆ bool       │\n╞═════════════╪══════════╪════════╪══════════════════╪═══╪═════════╪═══════╪══════════╪════════════╡\n│ 1           ┆ 0        ┆ 3      ┆ Braund, Mr. Owen ┆ … ┆ 7.25    ┆ null  ┆ S        ┆ false      │\n│             ┆          ┆        ┆ Harris           ┆   ┆         ┆       ┆          ┆            │\n│ 2           ┆ 1        ┆ 1      ┆ Cumings, Mrs.    ┆ … ┆ 71.2833 ┆ C85   ┆ C        ┆ true       │\n│             ┆          ┆        ┆ John Bradley     ┆   ┆         ┆       ┆          ┆            │\n│             ┆          ┆        ┆ (Flor…           ┆   ┆         ┆       ┆          ┆            │\n│ 3           ┆ 1        ┆ 3      ┆ Heikkinen, Miss. ┆ … ┆ 7.925   ┆ null  ┆ S        ┆ false      │\n│             ┆          ┆        ┆ Laina            ┆   ┆         ┆       ┆          ┆            │\n└─────────────┴──────────┴────────┴──────────────────┴───┴─────────┴───────┴──────────┴────────────┘",
      "text/html": "<div><style>\n.dataframe > thead > tr,\n.dataframe > tbody > tr {\n  text-align: right;\n  white-space: pre-wrap;\n}\n</style>\n<small>shape: (3, 13)</small><table border=\"1\" class=\"dataframe\"><thead><tr><th>PassengerId</th><th>Survived</th><th>Pclass</th><th>Name</th><th>Sex</th><th>Age</th><th>SibSp</th><th>Parch</th><th>Ticket</th><th>Fare</th><th>Cabin</th><th>Embarked</th><th>overThirty</th></tr><tr><td>i64</td><td>i64</td><td>i64</td><td>str</td><td>str</td><td>f64</td><td>i64</td><td>i64</td><td>str</td><td>f64</td><td>str</td><td>str</td><td>bool</td></tr></thead><tbody><tr><td>1</td><td>0</td><td>3</td><td>&quot;Braund, Mr. Ow…</td><td>&quot;male&quot;</td><td>22.0</td><td>1</td><td>0</td><td>&quot;A/5 21171&quot;</td><td>7.25</td><td>null</td><td>&quot;S&quot;</td><td>false</td></tr><tr><td>2</td><td>1</td><td>1</td><td>&quot;Cumings, Mrs. …</td><td>&quot;female&quot;</td><td>38.0</td><td>1</td><td>0</td><td>&quot;PC 17599&quot;</td><td>71.2833</td><td>&quot;C85&quot;</td><td>&quot;C&quot;</td><td>true</td></tr><tr><td>3</td><td>1</td><td>3</td><td>&quot;Heikkinen, Mis…</td><td>&quot;female&quot;</td><td>26.0</td><td>0</td><td>0</td><td>&quot;STON/O2. 31012…</td><td>7.925</td><td>null</td><td>&quot;S&quot;</td><td>false</td></tr></tbody></table></div>"
     },
     "execution_count": 22,
     "metadata": {},
     "output_type": "execute_result"
    }
   ],
   "source": [
    "(\n",
    "    pl.read_csv(csv_file)\n",
    "    .with_columns(\n",
    "        (pl.col(\"Age\") >= 30).alias(\"overThirty\")\n",
    "    )\n",
    "    .head(3)\n",
    ")"
   ]
  },
  {
   "cell_type": "code",
   "execution_count": null,
   "outputs": [],
   "source": [],
   "metadata": {
    "collapsed": false
   }
  }
 ],
 "metadata": {
  "kernelspec": {
   "display_name": "Python 3 (ipykernel)",
   "language": "python",
   "name": "python3"
  },
  "language_info": {
   "codemirror_mode": {
    "name": "ipython",
    "version": 3
   },
   "file_extension": ".py",
   "mimetype": "text/x-python",
   "name": "python",
   "nbconvert_exporter": "python",
   "pygments_lexer": "ipython3",
   "version": "3.10.1"
  }
 },
 "nbformat": 4,
 "nbformat_minor": 5
}
