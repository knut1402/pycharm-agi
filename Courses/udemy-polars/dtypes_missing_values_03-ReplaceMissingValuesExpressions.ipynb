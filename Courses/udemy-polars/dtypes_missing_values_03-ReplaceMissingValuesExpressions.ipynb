{
 "cells": [
  {
   "cell_type": "markdown",
   "id": "37402c9b-9b3b-42ee-b99e-a4486562f068",
   "metadata": {},
   "source": [
    "## Replacing missing values with expressions\n",
    "By the end of this lecture you will be able to:\n",
    "- replace missing values with an expression on the same column\n",
    "- replace missing values based on other columns\n",
    "- replace missing values based on a condition\n",
    "- replace missing values with interpolation"
   ]
  },
  {
   "cell_type": "code",
   "execution_count": 1,
   "id": "c6eeec38-daf3-4680-b36d-9ad03c782454",
   "metadata": {
    "ExecuteTime": {
     "end_time": "2024-03-05T08:15:35.909828500Z",
     "start_time": "2024-03-05T08:15:35.681229Z"
    }
   },
   "outputs": [],
   "source": [
    "import polars as pl"
   ]
  },
  {
   "cell_type": "markdown",
   "id": "1e4169d3-e0bd-4ac0-a07b-36eadb5ae19a",
   "metadata": {},
   "source": [
    "We again create a simple `DataFrame` for this lecture"
   ]
  },
  {
   "cell_type": "code",
   "execution_count": 2,
   "id": "e26a300f-5120-4a2d-81a1-645a9655a421",
   "metadata": {
    "ExecuteTime": {
     "end_time": "2024-03-05T08:15:42.149799900Z",
     "start_time": "2024-03-05T08:15:42.076752400Z"
    }
   },
   "outputs": [
    {
     "data": {
      "text/plain": "shape: (4, 3)\n┌──────┬──────┬──────┐\n│ col1 ┆ col2 ┆ col3 │\n│ ---  ┆ ---  ┆ ---  │\n│ i64  ┆ i64  ┆ i64  │\n╞══════╪══════╪══════╡\n│ 0    ┆ 0    ┆ 4    │\n│ null ┆ null ┆ 5    │\n│ 2    ┆ null ┆ 6    │\n│ 3    ┆ 3    ┆ 7    │\n└──────┴──────┴──────┘",
      "text/html": "<div><style>\n.dataframe > thead > tr,\n.dataframe > tbody > tr {\n  text-align: right;\n  white-space: pre-wrap;\n}\n</style>\n<small>shape: (4, 3)</small><table border=\"1\" class=\"dataframe\"><thead><tr><th>col1</th><th>col2</th><th>col3</th></tr><tr><td>i64</td><td>i64</td><td>i64</td></tr></thead><tbody><tr><td>0</td><td>0</td><td>4</td></tr><tr><td>null</td><td>null</td><td>5</td></tr><tr><td>2</td><td>null</td><td>6</td></tr><tr><td>3</td><td>3</td><td>7</td></tr></tbody></table></div>"
     },
     "execution_count": 2,
     "metadata": {},
     "output_type": "execute_result"
    }
   ],
   "source": [
    "df = pl.DataFrame(\n",
    "    {\n",
    "        'col1':[0,None,2,3],\n",
    "        \"col2\":[0,None,None,3],\n",
    "        \"col3\":[4,5,6,7]\n",
    "    }\n",
    ")\n",
    "df"
   ]
  },
  {
   "cell_type": "markdown",
   "id": "a0d95795-5aa4-46b1-9b61-1365afcee496",
   "metadata": {},
   "source": [
    "We are not limited to the built-in strategies as we can also use expressions to replace missing values.\n",
    "\n",
    "### Replace missing values using an expression from the same column\n",
    "For example we can replace the missing values with the median of the non-`null` values for that column"
   ]
  },
  {
   "cell_type": "code",
   "execution_count": 5,
   "id": "88df4edf-1854-4474-b1c9-79d9c7ba4aab",
   "metadata": {
    "ExecuteTime": {
     "end_time": "2024-03-05T08:17:17.750431900Z",
     "start_time": "2024-03-05T08:17:17.688202Z"
    }
   },
   "outputs": [
    {
     "data": {
      "text/plain": "shape: (4, 4)\n┌──────┬──────┬──────┬──────────┐\n│ col1 ┆ col2 ┆ col3 ┆ col1_new │\n│ ---  ┆ ---  ┆ ---  ┆ ---      │\n│ i64  ┆ i64  ┆ i64  ┆ f64      │\n╞══════╪══════╪══════╪══════════╡\n│ 0    ┆ 0    ┆ 4    ┆ 0.0      │\n│ null ┆ null ┆ 5    ┆ 2.0      │\n│ 2    ┆ null ┆ 6    ┆ 2.0      │\n│ 3    ┆ 3    ┆ 7    ┆ 3.0      │\n└──────┴──────┴──────┴──────────┘",
      "text/html": "<div><style>\n.dataframe > thead > tr,\n.dataframe > tbody > tr {\n  text-align: right;\n  white-space: pre-wrap;\n}\n</style>\n<small>shape: (4, 4)</small><table border=\"1\" class=\"dataframe\"><thead><tr><th>col1</th><th>col2</th><th>col3</th><th>col1_new</th></tr><tr><td>i64</td><td>i64</td><td>i64</td><td>f64</td></tr></thead><tbody><tr><td>0</td><td>0</td><td>4</td><td>0.0</td></tr><tr><td>null</td><td>null</td><td>5</td><td>2.0</td></tr><tr><td>2</td><td>null</td><td>6</td><td>2.0</td></tr><tr><td>3</td><td>3</td><td>7</td><td>3.0</td></tr></tbody></table></div>"
     },
     "execution_count": 5,
     "metadata": {},
     "output_type": "execute_result"
    }
   ],
   "source": [
    "(\n",
    "    df\n",
    "    .with_columns(\n",
    "        pl.col(\"col1\").fill_null(pl.median(\"col1\")).name.suffix(\"_new\"),\n",
    "    )\n",
    ")\n"
   ]
  },
  {
   "cell_type": "markdown",
   "id": "6da0a216-405f-4e0d-b5a3-1b9a2cdf4cb1",
   "metadata": {},
   "source": [
    "### Interpolation\n",
    "We can replace missing values with linear interpolation"
   ]
  },
  {
   "cell_type": "code",
   "execution_count": 6,
   "id": "2e069c09-9ed0-4a08-8baa-ff15c20ed000",
   "metadata": {
    "ExecuteTime": {
     "end_time": "2024-03-05T08:17:22.957531700Z",
     "start_time": "2024-03-05T08:17:22.937034100Z"
    }
   },
   "outputs": [
    {
     "data": {
      "text/plain": "shape: (4, 6)\n┌──────┬──────┬──────┬──────────┬──────────┬──────────┐\n│ col1 ┆ col2 ┆ col3 ┆ col1_new ┆ col2_new ┆ col3_new │\n│ ---  ┆ ---  ┆ ---  ┆ ---      ┆ ---      ┆ ---      │\n│ i64  ┆ i64  ┆ i64  ┆ f64      ┆ f64      ┆ f64      │\n╞══════╪══════╪══════╪══════════╪══════════╪══════════╡\n│ 0    ┆ 0    ┆ 4    ┆ 0.0      ┆ 0.0      ┆ 4.0      │\n│ null ┆ null ┆ 5    ┆ 1.0      ┆ 1.0      ┆ 5.0      │\n│ 2    ┆ null ┆ 6    ┆ 2.0      ┆ 2.0      ┆ 6.0      │\n│ 3    ┆ 3    ┆ 7    ┆ 3.0      ┆ 3.0      ┆ 7.0      │\n└──────┴──────┴──────┴──────────┴──────────┴──────────┘",
      "text/html": "<div><style>\n.dataframe > thead > tr,\n.dataframe > tbody > tr {\n  text-align: right;\n  white-space: pre-wrap;\n}\n</style>\n<small>shape: (4, 6)</small><table border=\"1\" class=\"dataframe\"><thead><tr><th>col1</th><th>col2</th><th>col3</th><th>col1_new</th><th>col2_new</th><th>col3_new</th></tr><tr><td>i64</td><td>i64</td><td>i64</td><td>f64</td><td>f64</td><td>f64</td></tr></thead><tbody><tr><td>0</td><td>0</td><td>4</td><td>0.0</td><td>0.0</td><td>4.0</td></tr><tr><td>null</td><td>null</td><td>5</td><td>1.0</td><td>1.0</td><td>5.0</td></tr><tr><td>2</td><td>null</td><td>6</td><td>2.0</td><td>2.0</td><td>6.0</td></tr><tr><td>3</td><td>3</td><td>7</td><td>3.0</td><td>3.0</td><td>7.0</td></tr></tbody></table></div>"
     },
     "execution_count": 6,
     "metadata": {},
     "output_type": "execute_result"
    }
   ],
   "source": [
    "(\n",
    "    df\n",
    "    .with_columns(\n",
    "        pl.all().interpolate().name.suffix(\"_new\"),\n",
    "    )\n",
    ")"
   ]
  },
  {
   "cell_type": "markdown",
   "id": "7aaeb8fe-b90e-4723-a6a0-9d3411546efa",
   "metadata": {},
   "source": [
    "### Replace missing values using a different column\n",
    "\n",
    "We can also replace missing values with the values from another column"
   ]
  },
  {
   "cell_type": "code",
   "execution_count": 7,
   "id": "d032d2a0-3185-402f-b146-576ce599eebc",
   "metadata": {
    "ExecuteTime": {
     "end_time": "2024-03-05T08:18:21.803185300Z",
     "start_time": "2024-03-05T08:18:21.772188300Z"
    }
   },
   "outputs": [
    {
     "data": {
      "text/plain": "shape: (4, 4)\n┌──────┬──────┬──────┬──────────┐\n│ col1 ┆ col2 ┆ col3 ┆ col2_new │\n│ ---  ┆ ---  ┆ ---  ┆ ---      │\n│ i64  ┆ i64  ┆ i64  ┆ i64      │\n╞══════╪══════╪══════╪══════════╡\n│ 0    ┆ 0    ┆ 4    ┆ 0        │\n│ null ┆ null ┆ 5    ┆ 5        │\n│ 2    ┆ null ┆ 6    ┆ 6        │\n│ 3    ┆ 3    ┆ 7    ┆ 3        │\n└──────┴──────┴──────┴──────────┘",
      "text/html": "<div><style>\n.dataframe > thead > tr,\n.dataframe > tbody > tr {\n  text-align: right;\n  white-space: pre-wrap;\n}\n</style>\n<small>shape: (4, 4)</small><table border=\"1\" class=\"dataframe\"><thead><tr><th>col1</th><th>col2</th><th>col3</th><th>col2_new</th></tr><tr><td>i64</td><td>i64</td><td>i64</td><td>i64</td></tr></thead><tbody><tr><td>0</td><td>0</td><td>4</td><td>0</td></tr><tr><td>null</td><td>null</td><td>5</td><td>5</td></tr><tr><td>2</td><td>null</td><td>6</td><td>6</td></tr><tr><td>3</td><td>3</td><td>7</td><td>3</td></tr></tbody></table></div>"
     },
     "execution_count": 7,
     "metadata": {},
     "output_type": "execute_result"
    }
   ],
   "source": [
    "(\n",
    "    df\n",
    "    .with_columns(\n",
    "        pl.col(\"col2\").fill_null(pl.col(\"col3\")).name.suffix(\"_new\"),\n",
    "    )\n",
    ")"
   ]
  },
  {
   "cell_type": "markdown",
   "id": "b05aeaad-e9f9-4225-8765-0ffc98b5bb62",
   "metadata": {},
   "source": [
    "## Replacing missing values based on a sequence of columns\n",
    "We can replace missing values based on a sequence of columns with `coalesce`.\n",
    "\n",
    "In this example we have 3 columns `a`,`b` and `c`"
   ]
  },
  {
   "cell_type": "code",
   "execution_count": 8,
   "id": "369b3e39-2133-4b38-91a7-87b2fc7c7fa9",
   "metadata": {
    "ExecuteTime": {
     "end_time": "2024-03-05T08:18:29.382250500Z",
     "start_time": "2024-03-05T08:18:29.355710600Z"
    }
   },
   "outputs": [
    {
     "data": {
      "text/plain": "shape: (4, 3)\n┌──────┬──────┬──────┐\n│ a    ┆ b    ┆ c    │\n│ ---  ┆ ---  ┆ ---  │\n│ f64  ┆ f64  ┆ f64  │\n╞══════╪══════╪══════╡\n│ null ┆ 1.0  ┆ 1.0  │\n│ null ┆ 2.0  ┆ 2.0  │\n│ null ┆ null ┆ 3.0  │\n│ null ┆ null ┆ null │\n└──────┴──────┴──────┘",
      "text/html": "<div><style>\n.dataframe > thead > tr,\n.dataframe > tbody > tr {\n  text-align: right;\n  white-space: pre-wrap;\n}\n</style>\n<small>shape: (4, 3)</small><table border=\"1\" class=\"dataframe\"><thead><tr><th>a</th><th>b</th><th>c</th></tr><tr><td>f64</td><td>f64</td><td>f64</td></tr></thead><tbody><tr><td>null</td><td>1.0</td><td>1.0</td></tr><tr><td>null</td><td>2.0</td><td>2.0</td></tr><tr><td>null</td><td>null</td><td>3.0</td></tr><tr><td>null</td><td>null</td><td>null</td></tr></tbody></table></div>"
     },
     "execution_count": 8,
     "metadata": {},
     "output_type": "execute_result"
    }
   ],
   "source": [
    "df_coalesce = pl.DataFrame(\n",
    "    data=[\n",
    "        (None, 1.0, 1.0),\n",
    "        (None, 2.0, 2.0),\n",
    "        (None, None, 3.0),\n",
    "        (None, None, None),\n",
    "    ],\n",
    "    schema=[(\"a\", pl.Float64), (\"b\", pl.Float64), (\"c\", pl.Float64)],\n",
    ")\n",
    "df_coalesce"
   ]
  },
  {
   "cell_type": "markdown",
   "id": "d8941034-d667-4b5f-bddc-3fb367ce6728",
   "metadata": {},
   "source": [
    "We want to create a new column that has the first non-`null` value as we go through a sequence of columns in order. \n",
    "\n",
    "We do this with `pl.coalesce` where we can also specify a fill value if all of the columns are `null`"
   ]
  },
  {
   "cell_type": "code",
   "execution_count": 14,
   "id": "1edf69e7-a5a5-4c8c-9e07-1a423bb6cafe",
   "metadata": {
    "ExecuteTime": {
     "end_time": "2024-03-05T08:23:53.602597400Z",
     "start_time": "2024-03-05T08:23:53.574597400Z"
    }
   },
   "outputs": [
    {
     "data": {
      "text/plain": "shape: (4, 3)\n┌─────┬──────┬──────┐\n│ a   ┆ b    ┆ c    │\n│ --- ┆ ---  ┆ ---  │\n│ f64 ┆ f64  ┆ f64  │\n╞═════╪══════╪══════╡\n│ 1.0 ┆ 1.0  ┆ 1.0  │\n│ 2.0 ┆ 2.0  ┆ 2.0  │\n│ 3.0 ┆ null ┆ 3.0  │\n│ 9.0 ┆ null ┆ null │\n└─────┴──────┴──────┘",
      "text/html": "<div><style>\n.dataframe > thead > tr,\n.dataframe > tbody > tr {\n  text-align: right;\n  white-space: pre-wrap;\n}\n</style>\n<small>shape: (4, 3)</small><table border=\"1\" class=\"dataframe\"><thead><tr><th>a</th><th>b</th><th>c</th></tr><tr><td>f64</td><td>f64</td><td>f64</td></tr></thead><tbody><tr><td>1.0</td><td>1.0</td><td>1.0</td></tr><tr><td>2.0</td><td>2.0</td><td>2.0</td></tr><tr><td>3.0</td><td>null</td><td>3.0</td></tr><tr><td>9.0</td><td>null</td><td>null</td></tr></tbody></table></div>"
     },
     "execution_count": 14,
     "metadata": {},
     "output_type": "execute_result"
    }
   ],
   "source": [
    "(\n",
    "    df_coalesce\n",
    "    .with_columns(\n",
    "        pl.coalesce([\"a\", \"b\", \"c\", 9.0]).alias(\"a\")\n",
    "    )\n",
    ")"
   ]
  },
  {
   "cell_type": "markdown",
   "id": "32a40ac6-32f2-4585-9c97-c3a7ae7d9c9d",
   "metadata": {},
   "source": [
    "## Exercises\n",
    "In the exercises you will develop your understanding of:\n",
    "- replacing missing values with an expression\n",
    "- replacing missing values with interpolation\n",
    "- replacing missing values with `coalesce`"
   ]
  },
  {
   "cell_type": "markdown",
   "id": "c7d1f974-96f1-4633-8f3f-adbf3f3694c6",
   "metadata": {},
   "source": [
    "### Exercise 1\n",
    "Replace `null` values in the `Age` column to have the `median` of the `Age` column"
   ]
  },
  {
   "cell_type": "code",
   "execution_count": null,
   "id": "aadfe1d3-e150-4196-90c0-6e337dee98d6",
   "metadata": {},
   "outputs": [],
   "source": [
    "csv_file = \"../data/titanic.csv\"\n",
    "(\n",
    "    pl.read_csv(csv_file)\n",
    "   <blank>\n",
    ")"
   ]
  },
  {
   "cell_type": "markdown",
   "id": "1dc96514-1758-486e-9398-d6f4ec636ae8",
   "metadata": {},
   "source": [
    "Replace `null` values in the `Age` column to have the `median` of the `Age` column **based on whether the passenger is `male` or `female` in the `Sex` column**.\n",
    "\n",
    "Expand the following cell if you want a hint"
   ]
  },
  {
   "cell_type": "code",
   "execution_count": null,
   "id": "6976abd3-8373-4670-be0f-328658bfe49e",
   "metadata": {
    "tags": []
   },
   "outputs": [],
   "source": [
    "#Hint: in each fill_null call you need to apply a filter to the `Sex` column before you can call median"
   ]
  },
  {
   "cell_type": "code",
   "execution_count": null,
   "id": "a5b61880-2c86-4eef-acc6-172acf5b4912",
   "metadata": {},
   "outputs": [],
   "source": [
    "csv_file = \"../data/titanic.csv\"\n",
    "(\n",
    "    pl.read_csv(csv_file)\n",
    "    .with_columns(\n",
    "        <blank>\n",
    "        .alias(\"Age_filled\")\n",
    "    )\n",
    "    .select([\"Sex\",\"Age\",\"Age_filled\"])\n",
    "    .filter(pl.col(\"Age\").is_null())\n",
    "    .head()\n",
    ")"
   ]
  },
  {
   "cell_type": "markdown",
   "id": "b5865d7c-4479-4f20-af32-baf78d6d06d5",
   "metadata": {},
   "source": [
    "### Exercise 2\n",
    "We have the following `DataFrame` with 3 columns"
   ]
  },
  {
   "cell_type": "code",
   "execution_count": null,
   "id": "00512f96-6466-4f5c-98f1-4cf81d96abda",
   "metadata": {},
   "outputs": [],
   "source": [
    "df = pl.DataFrame(\n",
    "    {\n",
    "        \"a\":[10,None,22,1],\n",
    "        \"b\":[8,12,19,None],        \n",
    "        \"c\":[5,None,19,None],\n",
    "    }\n",
    ")"
   ]
  },
  {
   "cell_type": "markdown",
   "id": "675245fa-0030-4ed3-8e69-29c8f18f9b99",
   "metadata": {},
   "source": [
    "Add a new column with values from column `c`. If `c` is `null` then use the value from column `b` and if `b` is also `null` use the value from column `a`"
   ]
  },
  {
   "cell_type": "code",
   "execution_count": null,
   "id": "e9d82523-8f6a-489d-8733-7e1c4f61a0c2",
   "metadata": {},
   "outputs": [],
   "source": [
    "(\n",
    "    df\n",
    "    <blank>\n",
    ")"
   ]
  },
  {
   "cell_type": "markdown",
   "id": "6aedabb7-d2ea-4265-b3a9-2c141f363929",
   "metadata": {},
   "source": [
    "## Solutions\n",
    "\n",
    "### Solution to Exercise 1\n",
    "Replace `null` values in the `Age` column to have the `median` of the `Age` column"
   ]
  },
  {
   "cell_type": "code",
   "execution_count": 12,
   "id": "98f1df41-8194-441a-a9fd-1bac7a9685c7",
   "metadata": {
    "jupyter": {
     "source_hidden": true
    },
    "tags": [],
    "ExecuteTime": {
     "end_time": "2024-03-05T08:19:42.408627300Z",
     "start_time": "2024-03-05T08:19:42.345083600Z"
    }
   },
   "outputs": [
    {
     "data": {
      "text/plain": "shape: (10, 12)\n┌─────────────┬──────────┬────────┬───────────────────┬───┬───────────┬─────────┬───────┬──────────┐\n│ PassengerId ┆ Survived ┆ Pclass ┆ Name              ┆ … ┆ Ticket    ┆ Fare    ┆ Cabin ┆ Embarked │\n│ ---         ┆ ---      ┆ ---    ┆ ---               ┆   ┆ ---       ┆ ---     ┆ ---   ┆ ---      │\n│ i64         ┆ i64      ┆ i64    ┆ str               ┆   ┆ str       ┆ f64     ┆ str   ┆ str      │\n╞═════════════╪══════════╪════════╪═══════════════════╪═══╪═══════════╪═════════╪═══════╪══════════╡\n│ 1           ┆ 0        ┆ 3      ┆ Braund, Mr. Owen  ┆ … ┆ A/5 21171 ┆ 7.25    ┆ null  ┆ S        │\n│             ┆          ┆        ┆ Harris            ┆   ┆           ┆         ┆       ┆          │\n│ 2           ┆ 1        ┆ 1      ┆ Cumings, Mrs.     ┆ … ┆ PC 17599  ┆ 71.2833 ┆ C85   ┆ C        │\n│             ┆          ┆        ┆ John Bradley      ┆   ┆           ┆         ┆       ┆          │\n│             ┆          ┆        ┆ (Flor…            ┆   ┆           ┆         ┆       ┆          │\n│ 3           ┆ 1        ┆ 3      ┆ Heikkinen, Miss.  ┆ … ┆ STON/O2.  ┆ 7.925   ┆ null  ┆ S        │\n│             ┆          ┆        ┆ Laina             ┆   ┆ 3101282   ┆         ┆       ┆          │\n│ 4           ┆ 1        ┆ 1      ┆ Futrelle, Mrs.    ┆ … ┆ 113803    ┆ 53.1    ┆ C123  ┆ S        │\n│             ┆          ┆        ┆ Jacques Heath     ┆   ┆           ┆         ┆       ┆          │\n│             ┆          ┆        ┆ (Li…              ┆   ┆           ┆         ┆       ┆          │\n│ 5           ┆ 0        ┆ 3      ┆ Allen, Mr.        ┆ … ┆ 373450    ┆ 8.05    ┆ null  ┆ S        │\n│             ┆          ┆        ┆ William Henry     ┆   ┆           ┆         ┆       ┆          │\n│ 6           ┆ 0        ┆ 3      ┆ Moran, Mr. James  ┆ … ┆ 330877    ┆ 8.4583  ┆ null  ┆ Q        │\n│ 7           ┆ 0        ┆ 1      ┆ McCarthy, Mr.     ┆ … ┆ 17463     ┆ 51.8625 ┆ E46   ┆ S        │\n│             ┆          ┆        ┆ Timothy J         ┆   ┆           ┆         ┆       ┆          │\n│ 8           ┆ 0        ┆ 3      ┆ Palsson, Master.  ┆ … ┆ 349909    ┆ 21.075  ┆ null  ┆ S        │\n│             ┆          ┆        ┆ Gosta Leonard     ┆   ┆           ┆         ┆       ┆          │\n│ 9           ┆ 1        ┆ 3      ┆ Johnson, Mrs.     ┆ … ┆ 347742    ┆ 11.1333 ┆ null  ┆ S        │\n│             ┆          ┆        ┆ Oscar W           ┆   ┆           ┆         ┆       ┆          │\n│             ┆          ┆        ┆ (Elisabeth…       ┆   ┆           ┆         ┆       ┆          │\n│ 10          ┆ 1        ┆ 2      ┆ Nasser, Mrs.      ┆ … ┆ 237736    ┆ 30.0708 ┆ null  ┆ C        │\n│             ┆          ┆        ┆ Nicholas (Adele   ┆   ┆           ┆         ┆       ┆          │\n│             ┆          ┆        ┆ Ach…              ┆   ┆           ┆         ┆       ┆          │\n└─────────────┴──────────┴────────┴───────────────────┴───┴───────────┴─────────┴───────┴──────────┘",
      "text/html": "<div><style>\n.dataframe > thead > tr,\n.dataframe > tbody > tr {\n  text-align: right;\n  white-space: pre-wrap;\n}\n</style>\n<small>shape: (10, 12)</small><table border=\"1\" class=\"dataframe\"><thead><tr><th>PassengerId</th><th>Survived</th><th>Pclass</th><th>Name</th><th>Sex</th><th>Age</th><th>SibSp</th><th>Parch</th><th>Ticket</th><th>Fare</th><th>Cabin</th><th>Embarked</th></tr><tr><td>i64</td><td>i64</td><td>i64</td><td>str</td><td>str</td><td>f64</td><td>i64</td><td>i64</td><td>str</td><td>f64</td><td>str</td><td>str</td></tr></thead><tbody><tr><td>1</td><td>0</td><td>3</td><td>&quot;Braund, Mr. Ow…</td><td>&quot;male&quot;</td><td>22.0</td><td>1</td><td>0</td><td>&quot;A/5 21171&quot;</td><td>7.25</td><td>null</td><td>&quot;S&quot;</td></tr><tr><td>2</td><td>1</td><td>1</td><td>&quot;Cumings, Mrs. …</td><td>&quot;female&quot;</td><td>38.0</td><td>1</td><td>0</td><td>&quot;PC 17599&quot;</td><td>71.2833</td><td>&quot;C85&quot;</td><td>&quot;C&quot;</td></tr><tr><td>3</td><td>1</td><td>3</td><td>&quot;Heikkinen, Mis…</td><td>&quot;female&quot;</td><td>26.0</td><td>0</td><td>0</td><td>&quot;STON/O2. 31012…</td><td>7.925</td><td>null</td><td>&quot;S&quot;</td></tr><tr><td>4</td><td>1</td><td>1</td><td>&quot;Futrelle, Mrs.…</td><td>&quot;female&quot;</td><td>35.0</td><td>1</td><td>0</td><td>&quot;113803&quot;</td><td>53.1</td><td>&quot;C123&quot;</td><td>&quot;S&quot;</td></tr><tr><td>5</td><td>0</td><td>3</td><td>&quot;Allen, Mr. Wil…</td><td>&quot;male&quot;</td><td>35.0</td><td>0</td><td>0</td><td>&quot;373450&quot;</td><td>8.05</td><td>null</td><td>&quot;S&quot;</td></tr><tr><td>6</td><td>0</td><td>3</td><td>&quot;Moran, Mr. Jam…</td><td>&quot;male&quot;</td><td>28.0</td><td>0</td><td>0</td><td>&quot;330877&quot;</td><td>8.4583</td><td>null</td><td>&quot;Q&quot;</td></tr><tr><td>7</td><td>0</td><td>1</td><td>&quot;McCarthy, Mr. …</td><td>&quot;male&quot;</td><td>54.0</td><td>0</td><td>0</td><td>&quot;17463&quot;</td><td>51.8625</td><td>&quot;E46&quot;</td><td>&quot;S&quot;</td></tr><tr><td>8</td><td>0</td><td>3</td><td>&quot;Palsson, Maste…</td><td>&quot;male&quot;</td><td>2.0</td><td>3</td><td>1</td><td>&quot;349909&quot;</td><td>21.075</td><td>null</td><td>&quot;S&quot;</td></tr><tr><td>9</td><td>1</td><td>3</td><td>&quot;Johnson, Mrs. …</td><td>&quot;female&quot;</td><td>27.0</td><td>0</td><td>2</td><td>&quot;347742&quot;</td><td>11.1333</td><td>null</td><td>&quot;S&quot;</td></tr><tr><td>10</td><td>1</td><td>2</td><td>&quot;Nasser, Mrs. N…</td><td>&quot;female&quot;</td><td>14.0</td><td>1</td><td>0</td><td>&quot;237736&quot;</td><td>30.0708</td><td>null</td><td>&quot;C&quot;</td></tr></tbody></table></div>"
     },
     "execution_count": 12,
     "metadata": {},
     "output_type": "execute_result"
    }
   ],
   "source": [
    "csv_file = \"data_titanic.csv\"\n",
    "(\n",
    "    pl.read_csv(csv_file)\n",
    "    .with_columns(\n",
    "        pl.col(\"Age\").fill_null(pl.col(\"Age\").median())\n",
    "    )\n",
    "    .head(10)\n",
    ")"
   ]
  },
  {
   "cell_type": "markdown",
   "id": "c38975d3-2694-445d-ab00-9652a1fe4623",
   "metadata": {},
   "source": [
    "Replace `null` values in the `Age` column to have the `median` of the `Age` column **based on whether the passenger is `male` or `female` in the `Sex` column**.\n",
    "\n",
    "Expand the following cell if you want a hint"
   ]
  },
  {
   "cell_type": "code",
   "execution_count": 13,
   "id": "7ed60514-fd4c-4301-bda7-1934b0b23dcb",
   "metadata": {
    "jupyter": {
     "source_hidden": true
    },
    "tags": [],
    "ExecuteTime": {
     "end_time": "2024-03-05T08:20:12.812130200Z",
     "start_time": "2024-03-05T08:20:12.771604700Z"
    }
   },
   "outputs": [],
   "source": [
    "#Hint: in each fill_null call you need to apply a filter to the `Sex` column before you can call median"
   ]
  },
  {
   "cell_type": "code",
   "execution_count": 15,
   "id": "7ed92d9c-f141-44c7-a108-9cc265f4052b",
   "metadata": {
    "jupyter": {
     "source_hidden": true
    },
    "tags": [],
    "ExecuteTime": {
     "end_time": "2024-03-05T08:27:10.810286300Z",
     "start_time": "2024-03-05T08:27:10.745571900Z"
    }
   },
   "outputs": [
    {
     "data": {
      "text/plain": "shape: (5, 3)\n┌────────┬──────┬────────────┐\n│ Sex    ┆ Age  ┆ Age_filled │\n│ ---    ┆ ---  ┆ ---        │\n│ str    ┆ f64  ┆ f64        │\n╞════════╪══════╪════════════╡\n│ male   ┆ null ┆ 29.0       │\n│ male   ┆ null ┆ 29.0       │\n│ female ┆ null ┆ 27.0       │\n│ male   ┆ null ┆ 29.0       │\n│ female ┆ null ┆ 27.0       │\n└────────┴──────┴────────────┘",
      "text/html": "<div><style>\n.dataframe > thead > tr,\n.dataframe > tbody > tr {\n  text-align: right;\n  white-space: pre-wrap;\n}\n</style>\n<small>shape: (5, 3)</small><table border=\"1\" class=\"dataframe\"><thead><tr><th>Sex</th><th>Age</th><th>Age_filled</th></tr><tr><td>str</td><td>f64</td><td>f64</td></tr></thead><tbody><tr><td>&quot;male&quot;</td><td>null</td><td>29.0</td></tr><tr><td>&quot;male&quot;</td><td>null</td><td>29.0</td></tr><tr><td>&quot;female&quot;</td><td>null</td><td>27.0</td></tr><tr><td>&quot;male&quot;</td><td>null</td><td>29.0</td></tr><tr><td>&quot;female&quot;</td><td>null</td><td>27.0</td></tr></tbody></table></div>"
     },
     "execution_count": 15,
     "metadata": {},
     "output_type": "execute_result"
    }
   ],
   "source": [
    "csv_file = \"data_titanic.csv\"\n",
    "(\n",
    "    pl.read_csv(csv_file)\n",
    "    .with_columns(\n",
    "        pl.when(\n",
    "            pl.col(\"Sex\") == \"female\"\n",
    "        )\n",
    "        .then(\n",
    "            pl.col(\"Age\").fill_null(pl.col(\"Age\").filter(pl.col(\"Sex\") == \"female\").median())\n",
    "        )\n",
    "        .otherwise(\n",
    "            pl.col(\"Age\").fill_null(pl.col(\"Age\").filter(pl.col(\"Sex\") == \"male\").median())\n",
    "        )\n",
    "        .alias(\"Age_filled\")\n",
    "    )\n",
    "    .select([\"Sex\",\"Age\",\"Age_filled\"])\n",
    "    .filter(pl.col(\"Age\").is_null())\n",
    "    .head()\n",
    ")"
   ]
  },
  {
   "cell_type": "markdown",
   "id": "9c661c26-3a05-421f-890f-6f786b27eae0",
   "metadata": {},
   "source": [
    "### Solution to Exercise 2\n",
    "We have the following `DataFrame` with 3 columns"
   ]
  },
  {
   "cell_type": "code",
   "execution_count": 16,
   "id": "0b38d34b-1989-493b-9fef-0357975850f7",
   "metadata": {
    "tags": [],
    "ExecuteTime": {
     "end_time": "2024-03-05T08:27:18.301571600Z",
     "start_time": "2024-03-05T08:27:18.289404800Z"
    }
   },
   "outputs": [],
   "source": [
    "df = pl.DataFrame(\n",
    "    {\n",
    "        \"a\":[10,None,22,1],\n",
    "        \"b\":[8,12,19,None],        \n",
    "        \"c\":[5,None,19,None],\n",
    "    }\n",
    ")"
   ]
  },
  {
   "cell_type": "markdown",
   "id": "9686128e-7ca4-42fe-8335-d901c9648e35",
   "metadata": {},
   "source": [
    "Add a new column with values from column `c`. If `c` is `null` then use the value from column `b` and if `b` is also `null` use the value from column `a`"
   ]
  },
  {
   "cell_type": "code",
   "execution_count": 17,
   "id": "3572747f-b6fd-4f8e-862b-320efb68ad52",
   "metadata": {
    "tags": [],
    "ExecuteTime": {
     "end_time": "2024-03-05T08:27:34.803224500Z",
     "start_time": "2024-03-05T08:27:34.783475Z"
    }
   },
   "outputs": [
    {
     "data": {
      "text/plain": "shape: (4, 4)\n┌──────┬──────┬──────┬─────┐\n│ a    ┆ b    ┆ c    ┆ d   │\n│ ---  ┆ ---  ┆ ---  ┆ --- │\n│ i64  ┆ i64  ┆ i64  ┆ i64 │\n╞══════╪══════╪══════╪═════╡\n│ 10   ┆ 8    ┆ 5    ┆ 5   │\n│ null ┆ 12   ┆ null ┆ 12  │\n│ 22   ┆ 19   ┆ 19   ┆ 19  │\n│ 1    ┆ null ┆ null ┆ 1   │\n└──────┴──────┴──────┴─────┘",
      "text/html": "<div><style>\n.dataframe > thead > tr,\n.dataframe > tbody > tr {\n  text-align: right;\n  white-space: pre-wrap;\n}\n</style>\n<small>shape: (4, 4)</small><table border=\"1\" class=\"dataframe\"><thead><tr><th>a</th><th>b</th><th>c</th><th>d</th></tr><tr><td>i64</td><td>i64</td><td>i64</td><td>i64</td></tr></thead><tbody><tr><td>10</td><td>8</td><td>5</td><td>5</td></tr><tr><td>null</td><td>12</td><td>null</td><td>12</td></tr><tr><td>22</td><td>19</td><td>19</td><td>19</td></tr><tr><td>1</td><td>null</td><td>null</td><td>1</td></tr></tbody></table></div>"
     },
     "execution_count": 17,
     "metadata": {},
     "output_type": "execute_result"
    }
   ],
   "source": [
    "(\n",
    "    df\n",
    "    .with_columns(\n",
    "        pl.coalesce([\"c\",\"b\",\"a\"]).alias(\"d\")\n",
    "    )\n",
    ")"
   ]
  },
  {
   "cell_type": "code",
   "execution_count": null,
   "id": "3e991c83-c8ad-4eb8-b067-452c0b812af0",
   "metadata": {},
   "outputs": [],
   "source": []
  }
 ],
 "metadata": {
  "kernelspec": {
   "display_name": "Python 3 (ipykernel)",
   "language": "python",
   "name": "python3"
  },
  "language_info": {
   "codemirror_mode": {
    "name": "ipython",
    "version": 3
   },
   "file_extension": ".py",
   "mimetype": "text/x-python",
   "name": "python",
   "nbconvert_exporter": "python",
   "pygments_lexer": "ipython3",
   "version": "3.10.1"
  }
 },
 "nbformat": 4,
 "nbformat_minor": 5
}
