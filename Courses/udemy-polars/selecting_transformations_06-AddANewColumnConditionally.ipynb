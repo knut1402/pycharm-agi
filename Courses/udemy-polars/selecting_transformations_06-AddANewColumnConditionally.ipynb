{
 "cells": [
  {
   "cell_type": "markdown",
   "id": "55f2b433-7df5-4877-aadb-c5a089645d88",
   "metadata": {},
   "source": [
    "## Selecting columns 6: Adding a new column based on a mapping or condition\n",
    "In this lecture we learn how to:\n",
    "- add a new column with a dict mapping from an existing column\n",
    "- add a new column with an `if-else` condition using `pl.when`\n",
    "- add a new column with a condition on multiple columns\n",
    "- add a new column with multiple `if-elif` conditions"
   ]
  },
  {
   "cell_type": "code",
   "execution_count": 1,
   "id": "4caa50b5-4448-4722-92f9-faa718e3db6c",
   "metadata": {
    "tags": [],
    "ExecuteTime": {
     "end_time": "2024-03-04T15:27:12.018821400Z",
     "start_time": "2024-03-04T15:27:11.757791400Z"
    }
   },
   "outputs": [],
   "source": [
    "import polars as pl"
   ]
  },
  {
   "cell_type": "code",
   "execution_count": 2,
   "id": "c14406ef-16b4-4e86-bd86-ef6efc93ddd3",
   "metadata": {
    "tags": [],
    "ExecuteTime": {
     "end_time": "2024-03-04T15:27:12.495653500Z",
     "start_time": "2024-03-04T15:27:12.480655Z"
    }
   },
   "outputs": [],
   "source": [
    "csv_file = \"data_titanic.csv\""
   ]
  },
  {
   "cell_type": "code",
   "execution_count": 3,
   "id": "a3a85d75-a64c-4108-add6-072a4e2da172",
   "metadata": {
    "tags": [],
    "ExecuteTime": {
     "end_time": "2024-03-04T15:27:13.979379700Z",
     "start_time": "2024-03-04T15:27:12.690862500Z"
    }
   },
   "outputs": [
    {
     "data": {
      "text/plain": "shape: (3, 12)\n┌─────────────┬──────────┬────────┬───────────────────┬───┬───────────┬─────────┬───────┬──────────┐\n│ PassengerId ┆ Survived ┆ Pclass ┆ Name              ┆ … ┆ Ticket    ┆ Fare    ┆ Cabin ┆ Embarked │\n│ ---         ┆ ---      ┆ ---    ┆ ---               ┆   ┆ ---       ┆ ---     ┆ ---   ┆ ---      │\n│ i64         ┆ i64      ┆ i64    ┆ str               ┆   ┆ str       ┆ f64     ┆ str   ┆ str      │\n╞═════════════╪══════════╪════════╪═══════════════════╪═══╪═══════════╪═════════╪═══════╪══════════╡\n│ 1           ┆ 0        ┆ 3      ┆ Braund, Mr. Owen  ┆ … ┆ A/5 21171 ┆ 7.25    ┆ null  ┆ S        │\n│             ┆          ┆        ┆ Harris            ┆   ┆           ┆         ┆       ┆          │\n│ 2           ┆ 1        ┆ 1      ┆ Cumings, Mrs.     ┆ … ┆ PC 17599  ┆ 71.2833 ┆ C85   ┆ C        │\n│             ┆          ┆        ┆ John Bradley      ┆   ┆           ┆         ┆       ┆          │\n│             ┆          ┆        ┆ (Flor…            ┆   ┆           ┆         ┆       ┆          │\n│ 3           ┆ 1        ┆ 3      ┆ Heikkinen, Miss.  ┆ … ┆ STON/O2.  ┆ 7.925   ┆ null  ┆ S        │\n│             ┆          ┆        ┆ Laina             ┆   ┆ 3101282   ┆         ┆       ┆          │\n└─────────────┴──────────┴────────┴───────────────────┴───┴───────────┴─────────┴───────┴──────────┘",
      "text/html": "<div><style>\n.dataframe > thead > tr,\n.dataframe > tbody > tr {\n  text-align: right;\n  white-space: pre-wrap;\n}\n</style>\n<small>shape: (3, 12)</small><table border=\"1\" class=\"dataframe\"><thead><tr><th>PassengerId</th><th>Survived</th><th>Pclass</th><th>Name</th><th>Sex</th><th>Age</th><th>SibSp</th><th>Parch</th><th>Ticket</th><th>Fare</th><th>Cabin</th><th>Embarked</th></tr><tr><td>i64</td><td>i64</td><td>i64</td><td>str</td><td>str</td><td>f64</td><td>i64</td><td>i64</td><td>str</td><td>f64</td><td>str</td><td>str</td></tr></thead><tbody><tr><td>1</td><td>0</td><td>3</td><td>&quot;Braund, Mr. Ow…</td><td>&quot;male&quot;</td><td>22.0</td><td>1</td><td>0</td><td>&quot;A/5 21171&quot;</td><td>7.25</td><td>null</td><td>&quot;S&quot;</td></tr><tr><td>2</td><td>1</td><td>1</td><td>&quot;Cumings, Mrs. …</td><td>&quot;female&quot;</td><td>38.0</td><td>1</td><td>0</td><td>&quot;PC 17599&quot;</td><td>71.2833</td><td>&quot;C85&quot;</td><td>&quot;C&quot;</td></tr><tr><td>3</td><td>1</td><td>3</td><td>&quot;Heikkinen, Mis…</td><td>&quot;female&quot;</td><td>26.0</td><td>0</td><td>0</td><td>&quot;STON/O2. 31012…</td><td>7.925</td><td>null</td><td>&quot;S&quot;</td></tr></tbody></table></div>"
     },
     "execution_count": 3,
     "metadata": {},
     "output_type": "execute_result"
    }
   ],
   "source": [
    "df = pl.read_csv(csv_file)\n",
    "df.head(3)"
   ]
  },
  {
   "cell_type": "markdown",
   "id": "8c596506-38fb-4b8f-8090-7f9d9cce8748",
   "metadata": {},
   "source": [
    "## Add a new column based on a mapping from another column\n",
    "We can add a new column based on a Python `dict` that maps values in an existing column to an new value with the `map_dict` expression.\n",
    "\n",
    "In the example we map the class number to a class name"
   ]
  },
  {
   "cell_type": "code",
   "execution_count": 4,
   "id": "21f0cab1-7fe0-4789-805a-d89de84990b9",
   "metadata": {
    "tags": [],
    "ExecuteTime": {
     "end_time": "2024-03-04T15:27:51.702330200Z",
     "start_time": "2024-03-04T15:27:51.645335400Z"
    }
   },
   "outputs": [
    {
     "data": {
      "text/plain": "shape: (2, 2)\n┌────────┬───────────┐\n│ Pclass ┆ className │\n│ ---    ┆ ---       │\n│ i64    ┆ str       │\n╞════════╪═══════════╡\n│ 3      ┆ third     │\n│ 1      ┆ first     │\n└────────┴───────────┘",
      "text/html": "<div><style>\n.dataframe > thead > tr,\n.dataframe > tbody > tr {\n  text-align: right;\n  white-space: pre-wrap;\n}\n</style>\n<small>shape: (2, 2)</small><table border=\"1\" class=\"dataframe\"><thead><tr><th>Pclass</th><th>className</th></tr><tr><td>i64</td><td>str</td></tr></thead><tbody><tr><td>3</td><td>&quot;third&quot;</td></tr><tr><td>1</td><td>&quot;first&quot;</td></tr></tbody></table></div>"
     },
     "execution_count": 4,
     "metadata": {},
     "output_type": "execute_result"
    }
   ],
   "source": [
    "(\n",
    "    df\n",
    "    .with_columns(\n",
    "        className = pl.col(\"Pclass\").replace(\n",
    "            {\n",
    "                1:'first',\n",
    "                2:'second',\n",
    "                3:'third'\n",
    "            }\n",
    "        )\n",
    "    )\n",
    "    .select('Pclass','className')\n",
    "    .head(2)\n",
    ")"
   ]
  },
  {
   "cell_type": "markdown",
   "id": "a2ad0342-6c51-4abb-86de-7f7ca1f9eb7c",
   "metadata": {},
   "source": [
    "We can think of `replace` as a left join (see the section on combining `DataFrames` if you are not familiar with joins) and in fact Polars implements this as a join by converting the mapping dictionary to a `DataFrame` under-the-hood."
   ]
  },
  {
   "cell_type": "markdown",
   "id": "704bfc0c-cfac-4844-9b8b-511bc60a58a9",
   "metadata": {},
   "source": [
    "## Add a new column based on a condition on another column\n",
    "\n",
    "We want to add a new binary column called `firstClass` based on the `Pclass` column where the value is `1` for first class passengers and `0` for second and third class passengers:\n",
    "\n",
    "`firstClass = 1 if Pclass == 1`,`otherwise = 0`\n"
   ]
  },
  {
   "cell_type": "code",
   "execution_count": 7,
   "id": "eca0f119-1607-40eb-b985-865cdbaea26b",
   "metadata": {
    "tags": [],
    "ExecuteTime": {
     "end_time": "2024-03-04T15:29:13.757066200Z",
     "start_time": "2024-03-04T15:29:13.663546900Z"
    }
   },
   "outputs": [
    {
     "data": {
      "text/plain": "shape: (10, 2)\n┌────────┬────────────┐\n│ Pclass ┆ firstClass │\n│ ---    ┆ ---        │\n│ i64    ┆ i32        │\n╞════════╪════════════╡\n│ 3      ┆ 0          │\n│ 1      ┆ 1          │\n│ 3      ┆ 0          │\n│ 1      ┆ 1          │\n│ 3      ┆ 0          │\n│ 3      ┆ 0          │\n│ 1      ┆ 1          │\n│ 3      ┆ 0          │\n│ 3      ┆ 0          │\n│ 2      ┆ 0          │\n└────────┴────────────┘",
      "text/html": "<div><style>\n.dataframe > thead > tr,\n.dataframe > tbody > tr {\n  text-align: right;\n  white-space: pre-wrap;\n}\n</style>\n<small>shape: (10, 2)</small><table border=\"1\" class=\"dataframe\"><thead><tr><th>Pclass</th><th>firstClass</th></tr><tr><td>i64</td><td>i32</td></tr></thead><tbody><tr><td>3</td><td>0</td></tr><tr><td>1</td><td>1</td></tr><tr><td>3</td><td>0</td></tr><tr><td>1</td><td>1</td></tr><tr><td>3</td><td>0</td></tr><tr><td>3</td><td>0</td></tr><tr><td>1</td><td>1</td></tr><tr><td>3</td><td>0</td></tr><tr><td>3</td><td>0</td></tr><tr><td>2</td><td>0</td></tr></tbody></table></div>"
     },
     "execution_count": 7,
     "metadata": {},
     "output_type": "execute_result"
    }
   ],
   "source": [
    "(\n",
    "    df\n",
    "    .with_columns(\n",
    "        firstClass = pl.when(\n",
    "                         pl.col(\"Pclass\") == 1\n",
    "                      )\n",
    "                      .then(1)\n",
    "                      .otherwise(0)\n",
    "    )\n",
    "    .select('Pclass','firstClass')\n",
    "    .head(10)\n",
    ")"
   ]
  },
  {
   "cell_type": "markdown",
   "id": "2cbe255c-98d8-4bfe-b159-dbda9170707e",
   "metadata": {},
   "source": [
    "## Syntax of `pl.when`\n",
    "\n",
    "The syntax is:\n",
    "```python\n",
    "\n",
    "    pl.when(**Boolean Expression**)\n",
    "    .then(**Value if True**)\n",
    "    .otherwise(**Value if False)\n",
    "    .alias(**New Column Name**)\n",
    "    \n",
    "```\n",
    "\n",
    "## Add a new column based on a condition on multiple other columns\n",
    "\n",
    "We want to add a new binary column called `youngFirstClass` where first class passengers with age under 30 are `1` and all other passengers are 0. \n",
    "\n",
    "`youngFirstClass = 1 if (Pclass == 1 and Age < 30) otherwise = 0`\n",
    "\n",
    "\n",
    "We do this with a combined filter using `() & ()` in `pl.when`"
   ]
  },
  {
   "cell_type": "code",
   "execution_count": 8,
   "id": "e8f7ab8b-5eba-4e5b-b89a-de807b3b24b8",
   "metadata": {
    "tags": [],
    "ExecuteTime": {
     "end_time": "2024-03-04T15:29:52.885077300Z",
     "start_time": "2024-03-04T15:29:52.857076100Z"
    }
   },
   "outputs": [
    {
     "data": {
      "text/plain": "shape: (5, 3)\n┌────────┬──────┬─────────────────┐\n│ Pclass ┆ Age  ┆ youngFirstClass │\n│ ---    ┆ ---  ┆ ---             │\n│ i64    ┆ f64  ┆ i32             │\n╞════════╪══════╪═════════════════╡\n│ 2      ┆ 27.0 ┆ 0               │\n│ 1      ┆ 19.0 ┆ 1               │\n│ 3      ┆ null ┆ 0               │\n│ 1      ┆ 26.0 ┆ 1               │\n│ 3      ┆ 32.0 ┆ 0               │\n└────────┴──────┴─────────────────┘",
      "text/html": "<div><style>\n.dataframe > thead > tr,\n.dataframe > tbody > tr {\n  text-align: right;\n  white-space: pre-wrap;\n}\n</style>\n<small>shape: (5, 3)</small><table border=\"1\" class=\"dataframe\"><thead><tr><th>Pclass</th><th>Age</th><th>youngFirstClass</th></tr><tr><td>i64</td><td>f64</td><td>i32</td></tr></thead><tbody><tr><td>2</td><td>27.0</td><td>0</td></tr><tr><td>1</td><td>19.0</td><td>1</td></tr><tr><td>3</td><td>null</td><td>0</td></tr><tr><td>1</td><td>26.0</td><td>1</td></tr><tr><td>3</td><td>32.0</td><td>0</td></tr></tbody></table></div>"
     },
     "execution_count": 8,
     "metadata": {},
     "output_type": "execute_result"
    }
   ],
   "source": [
    "(\n",
    "    df\n",
    "    .select(\n",
    "        [\n",
    "            pl.col(\"Pclass\"),\n",
    "            pl.col(\"Age\"),\n",
    "            pl.when(\n",
    "                (pl.col(\"Pclass\") == 1) & (pl.col(\"Age\") < 30)\n",
    "            )\n",
    "            .then(1)\n",
    "            .otherwise(0)\n",
    "            .alias(\"youngFirstClass\")\n",
    "        ]\n",
    "    )\n",
    "    .tail(5)\n",
    ")"
   ]
  },
  {
   "cell_type": "markdown",
   "id": "b8b97544-d872-4310-b84a-58adcc6d1a4b",
   "metadata": {},
   "source": [
    "## Add a new column based on an `if-elif-else` condition\n",
    "We are not limited to a single `if-else` condition. \n",
    "\n",
    "For example we want to create 3 categories with:\n",
    "- `1` for young first class passengers \n",
    "- `2` for older first class passengers and \n",
    "- `0` for all other passengers\n",
    "\n",
    "`ageClass == 1 if (Pclass == 1 and Age < 30) or\n",
    "ageClass == 2 if (Pclass == 1 and Age > 30) or\n",
    "otherwise 0`\n",
    "\n",
    "We do this by repeating the `.when.then` cycle for each subsequent condition.\n",
    "\n",
    "The syntax here for a single extra condition is:\n",
    "```python\n",
    "\n",
    "    pl.when(**Boolean Expression**)\n",
    "    .then(**Value if True**)\n",
    "    .when(**Boolean Expression**)\n",
    "    .then(**Value if True**)\n",
    "    .otherwise(**Value if False)\n",
    "    .alias(**New Column Name**)\n",
    "    \n",
    "```\n"
   ]
  },
  {
   "cell_type": "code",
   "execution_count": 9,
   "id": "4e0b6923-d61a-446f-a2e8-77f1d21196c5",
   "metadata": {
    "tags": [],
    "ExecuteTime": {
     "end_time": "2024-03-04T15:31:55.681686500Z",
     "start_time": "2024-03-04T15:31:55.620650300Z"
    }
   },
   "outputs": [
    {
     "data": {
      "text/plain": "shape: (10, 3)\n┌────────┬──────┬──────────┐\n│ Pclass ┆ Age  ┆ ageClass │\n│ ---    ┆ ---  ┆ ---      │\n│ i64    ┆ f64  ┆ i32      │\n╞════════╪══════╪══════════╡\n│ 3      ┆ 22.0 ┆ 0        │\n│ 1      ┆ 38.0 ┆ 2        │\n│ 3      ┆ 26.0 ┆ 0        │\n│ 1      ┆ 35.0 ┆ 2        │\n│ 3      ┆ 35.0 ┆ 0        │\n│ 3      ┆ null ┆ 0        │\n│ 1      ┆ 54.0 ┆ 2        │\n│ 3      ┆ 2.0  ┆ 0        │\n│ 3      ┆ 27.0 ┆ 0        │\n│ 2      ┆ 14.0 ┆ 0        │\n└────────┴──────┴──────────┘",
      "text/html": "<div><style>\n.dataframe > thead > tr,\n.dataframe > tbody > tr {\n  text-align: right;\n  white-space: pre-wrap;\n}\n</style>\n<small>shape: (10, 3)</small><table border=\"1\" class=\"dataframe\"><thead><tr><th>Pclass</th><th>Age</th><th>ageClass</th></tr><tr><td>i64</td><td>f64</td><td>i32</td></tr></thead><tbody><tr><td>3</td><td>22.0</td><td>0</td></tr><tr><td>1</td><td>38.0</td><td>2</td></tr><tr><td>3</td><td>26.0</td><td>0</td></tr><tr><td>1</td><td>35.0</td><td>2</td></tr><tr><td>3</td><td>35.0</td><td>0</td></tr><tr><td>3</td><td>null</td><td>0</td></tr><tr><td>1</td><td>54.0</td><td>2</td></tr><tr><td>3</td><td>2.0</td><td>0</td></tr><tr><td>3</td><td>27.0</td><td>0</td></tr><tr><td>2</td><td>14.0</td><td>0</td></tr></tbody></table></div>"
     },
     "execution_count": 9,
     "metadata": {},
     "output_type": "execute_result"
    }
   ],
   "source": [
    "(\n",
    "    df\n",
    "    .select(\n",
    "        [\n",
    "            pl.col(\"Pclass\"),\n",
    "            pl.col(\"Age\"),\n",
    "            pl.when(\n",
    "                (pl.col(\"Pclass\") == 1) & (pl.col(\"Age\")<30)\n",
    "            )\n",
    "            .then(1)\n",
    "            .when(\n",
    "                (pl.col(\"Pclass\") == 1) & (pl.col(\"Age\")>=30)\n",
    "            )\n",
    "            .then(2)\n",
    "            .otherwise(0)\n",
    "            .alias(\"ageClass\")\n",
    "        ]\n",
    "    )\n",
    "    .head(10)\n",
    ")"
   ]
  },
  {
   "cell_type": "markdown",
   "id": "baadc0cb-c151-4fa1-9ada-25b587471046",
   "metadata": {},
   "source": [
    "The cycles of `.when.then` can be repeated indefinitely."
   ]
  },
  {
   "cell_type": "markdown",
   "id": "faf01d53-8149-44eb-9d60-0de99781ed6e",
   "metadata": {},
   "source": [
    "## Exercises\n",
    "\n",
    "In the exercises you will develop your understanding of:\n",
    "- adding a column based on a mapping of another column\n",
    "- adding a binary column based on a condition on multiple columns\n",
    "- adding a column based on a nested `if-elif` condition on another column\n",
    "\n",
    "### Exercise 1 \n",
    "Create a binary column for whether a passenger is female or male.\n",
    "\n",
    "Add a column called `isFemale` that maps rows with a female passenger to 1 and rows with a male passenger to 0. Ensure the column has an integer dtype"
   ]
  },
  {
   "cell_type": "code",
   "execution_count": 11,
   "id": "4f5e0508-3fc5-46d3-ab16-111c1b19e68b",
   "metadata": {
    "tags": [],
    "ExecuteTime": {
     "end_time": "2024-03-04T15:34:31.935656900Z",
     "start_time": "2024-03-04T15:34:31.888607400Z"
    }
   },
   "outputs": [
    {
     "data": {
      "text/plain": "shape: (10, 2)\n┌────────┬──────────┐\n│ Sex    ┆ isFemale │\n│ ---    ┆ ---      │\n│ str    ┆ i32      │\n╞════════╪══════════╡\n│ male   ┆ 0        │\n│ female ┆ 1        │\n│ female ┆ 1        │\n│ female ┆ 1        │\n│ male   ┆ 0        │\n│ male   ┆ 0        │\n│ male   ┆ 0        │\n│ male   ┆ 0        │\n│ female ┆ 1        │\n│ female ┆ 1        │\n└────────┴──────────┘",
      "text/html": "<div><style>\n.dataframe > thead > tr,\n.dataframe > tbody > tr {\n  text-align: right;\n  white-space: pre-wrap;\n}\n</style>\n<small>shape: (10, 2)</small><table border=\"1\" class=\"dataframe\"><thead><tr><th>Sex</th><th>isFemale</th></tr><tr><td>str</td><td>i32</td></tr></thead><tbody><tr><td>&quot;male&quot;</td><td>0</td></tr><tr><td>&quot;female&quot;</td><td>1</td></tr><tr><td>&quot;female&quot;</td><td>1</td></tr><tr><td>&quot;female&quot;</td><td>1</td></tr><tr><td>&quot;male&quot;</td><td>0</td></tr><tr><td>&quot;male&quot;</td><td>0</td></tr><tr><td>&quot;male&quot;</td><td>0</td></tr><tr><td>&quot;male&quot;</td><td>0</td></tr><tr><td>&quot;female&quot;</td><td>1</td></tr><tr><td>&quot;female&quot;</td><td>1</td></tr></tbody></table></div>"
     },
     "execution_count": 11,
     "metadata": {},
     "output_type": "execute_result"
    }
   ],
   "source": [
    "(\n",
    "    pl.read_csv(csv_file)\n",
    "    .select(['Sex',\n",
    "            pl.when(\n",
    "                pl.col('Sex') == 'female'\n",
    "            )\n",
    "             .then(1)\n",
    "             .otherwise(0)\n",
    "             .cast(pl.Int32)\n",
    "             .alias('isFemale')])\n",
    "    .head(10)\n",
    ")"
   ]
  },
  {
   "cell_type": "markdown",
   "id": "c96fb3d6-e279-4f4d-ae2d-aab0c537378a",
   "metadata": {},
   "source": [
    "### Exercise 2 \n",
    "Create a binary column for whether a passenger is female and has relatives aboard\n",
    "\n",
    "Add a binary column called `femaleRelatives` to indicate whether a passenger is female and is travelling with no relatives (use the parents & children `Parch` column and the siblings column `SibSp`."
   ]
  },
  {
   "cell_type": "code",
   "execution_count": 13,
   "id": "1d5c1c53-ff92-413c-84e5-5698bafe8bbc",
   "metadata": {
    "tags": [],
    "ExecuteTime": {
     "end_time": "2024-03-04T15:38:26.133189700Z",
     "start_time": "2024-03-04T15:38:26.104190900Z"
    }
   },
   "outputs": [
    {
     "data": {
      "text/plain": "shape: (5, 3)\n┌───────────────────────────────────┬────────┬─────────────────┐\n│ Name                              ┆ Sex    ┆ femaleRelatives │\n│ ---                               ┆ ---    ┆ ---             │\n│ str                               ┆ str    ┆ i32             │\n╞═══════════════════════════════════╪════════╪═════════════════╡\n│ Braund, Mr. Owen Harris           ┆ male   ┆ 0               │\n│ Cumings, Mrs. John Bradley (Flor… ┆ female ┆ 0               │\n│ Heikkinen, Miss. Laina            ┆ female ┆ 1               │\n│ Futrelle, Mrs. Jacques Heath (Li… ┆ female ┆ 0               │\n│ Allen, Mr. William Henry          ┆ male   ┆ 0               │\n└───────────────────────────────────┴────────┴─────────────────┘",
      "text/html": "<div><style>\n.dataframe > thead > tr,\n.dataframe > tbody > tr {\n  text-align: right;\n  white-space: pre-wrap;\n}\n</style>\n<small>shape: (5, 3)</small><table border=\"1\" class=\"dataframe\"><thead><tr><th>Name</th><th>Sex</th><th>femaleRelatives</th></tr><tr><td>str</td><td>str</td><td>i32</td></tr></thead><tbody><tr><td>&quot;Braund, Mr. Ow…</td><td>&quot;male&quot;</td><td>0</td></tr><tr><td>&quot;Cumings, Mrs. …</td><td>&quot;female&quot;</td><td>0</td></tr><tr><td>&quot;Heikkinen, Mis…</td><td>&quot;female&quot;</td><td>1</td></tr><tr><td>&quot;Futrelle, Mrs.…</td><td>&quot;female&quot;</td><td>0</td></tr><tr><td>&quot;Allen, Mr. Wil…</td><td>&quot;male&quot;</td><td>0</td></tr></tbody></table></div>"
     },
     "execution_count": 13,
     "metadata": {},
     "output_type": "execute_result"
    }
   ],
   "source": [
    "(\n",
    "    pl.read_csv(csv_file)\n",
    "    .select('Name', 'Sex',\n",
    "            pl.when(\n",
    "                (pl.col('Sex') == 'female') & ((pl.col('Parch') + pl.col('SibSp')) == 0))\n",
    "                .then(1)\n",
    "                .otherwise(0)\n",
    "                .alias('femaleRelatives')\n",
    "            )\n",
    "    .head()\n",
    ")"
   ]
  },
  {
   "cell_type": "markdown",
   "id": "53df78ae-b800-4ce1-8872-9ffe3b9f3257",
   "metadata": {},
   "source": [
    "### Exercise 3 \n",
    "Create a column for whether a passenger is female and has parents & children, siblings or both aboard\n",
    "\n",
    "Add a column called `femaleRelatives` where: \n",
    "- `1` indicates a female passenger with no relatives\n",
    "- `2` indicates a female passenger with parents/children but no siblings\n",
    "- `3` indicates a female passenger with siblings but no parents/children\n",
    "- `4` indicates a female passenger with parents/children and siblings\n",
    "- `5` indicates a male passenger"
   ]
  },
  {
   "cell_type": "code",
   "execution_count": null,
   "id": "b5a722f8-81d7-4ae7-9f1a-1b2ded17513b",
   "metadata": {
    "tags": []
   },
   "outputs": [],
   "source": [
    "(\n",
    "    pl.read_csv(csv_file)\n",
    "    .select(\n",
    "        [\n",
    "            'Sex',\n",
    "            \"SibSp\",\n",
    "            \"Parch\", \n",
    "            <blank>\n",
    "          ]\n",
    "    )\n",
    "    .head()\n",
    ")"
   ]
  },
  {
   "cell_type": "markdown",
   "id": "24d44129-b261-485e-a51e-0285fe46c0b3",
   "metadata": {},
   "source": [
    "## Solutions\n",
    "\n",
    "### Solution to Exercise 1 \n",
    "\n",
    "Add a column called `isFemale` that maps rows with a female passenger to 1 and rows with a male passenger to 0. Ensure the column has an integer dtype"
   ]
  },
  {
   "cell_type": "code",
   "execution_count": 14,
   "id": "4e6db5f7-767b-40de-bd9c-f939c17c08b4",
   "metadata": {
    "jupyter": {
     "source_hidden": true
    },
    "tags": [],
    "ExecuteTime": {
     "end_time": "2024-03-04T15:38:39.196755100Z",
     "start_time": "2024-03-04T15:38:39.151189900Z"
    }
   },
   "outputs": [
    {
     "data": {
      "text/plain": "shape: (5, 2)\n┌────────┬──────────┐\n│ Sex    ┆ isFemale │\n│ ---    ┆ ---      │\n│ str    ┆ i32      │\n╞════════╪══════════╡\n│ male   ┆ 0        │\n│ female ┆ 1        │\n│ female ┆ 1        │\n│ female ┆ 1        │\n│ male   ┆ 0        │\n└────────┴──────────┘",
      "text/html": "<div><style>\n.dataframe > thead > tr,\n.dataframe > tbody > tr {\n  text-align: right;\n  white-space: pre-wrap;\n}\n</style>\n<small>shape: (5, 2)</small><table border=\"1\" class=\"dataframe\"><thead><tr><th>Sex</th><th>isFemale</th></tr><tr><td>str</td><td>i32</td></tr></thead><tbody><tr><td>&quot;male&quot;</td><td>0</td></tr><tr><td>&quot;female&quot;</td><td>1</td></tr><tr><td>&quot;female&quot;</td><td>1</td></tr><tr><td>&quot;female&quot;</td><td>1</td></tr><tr><td>&quot;male&quot;</td><td>0</td></tr></tbody></table></div>"
     },
     "execution_count": 14,
     "metadata": {},
     "output_type": "execute_result"
    }
   ],
   "source": [
    "(\n",
    "    pl.read_csv(csv_file)\n",
    "    .select(\n",
    "        [\n",
    "            'Sex',\n",
    "            pl.col(\"Sex\").replace({\"female\":1,\"male\":0}).cast(pl.Int32).alias(\"isFemale\")\n",
    "        ]\n",
    "    )\n",
    "    .head()\n",
    ")"
   ]
  },
  {
   "cell_type": "markdown",
   "id": "59795145-d5d5-4d78-9700-b536fa0ab5c5",
   "metadata": {},
   "source": [
    "### Solution to Exercise 2 \n",
    "Create a binary column for whether a passenger is female and has relatives aboard"
   ]
  },
  {
   "cell_type": "code",
   "execution_count": 15,
   "id": "4121e6ba-2e87-47e1-b6b2-104b30c19ae8",
   "metadata": {
    "jupyter": {
     "source_hidden": true
    },
    "tags": [],
    "ExecuteTime": {
     "end_time": "2024-03-04T15:38:51.500835900Z",
     "start_time": "2024-03-04T15:38:51.478834Z"
    }
   },
   "outputs": [
    {
     "data": {
      "text/plain": "shape: (5, 2)\n┌────────┬─────────────────┐\n│ Sex    ┆ femaleRelatives │\n│ ---    ┆ ---             │\n│ str    ┆ i32             │\n╞════════╪═════════════════╡\n│ male   ┆ 0               │\n│ female ┆ 0               │\n│ female ┆ 1               │\n│ female ┆ 0               │\n│ male   ┆ 0               │\n└────────┴─────────────────┘",
      "text/html": "<div><style>\n.dataframe > thead > tr,\n.dataframe > tbody > tr {\n  text-align: right;\n  white-space: pre-wrap;\n}\n</style>\n<small>shape: (5, 2)</small><table border=\"1\" class=\"dataframe\"><thead><tr><th>Sex</th><th>femaleRelatives</th></tr><tr><td>str</td><td>i32</td></tr></thead><tbody><tr><td>&quot;male&quot;</td><td>0</td></tr><tr><td>&quot;female&quot;</td><td>0</td></tr><tr><td>&quot;female&quot;</td><td>1</td></tr><tr><td>&quot;female&quot;</td><td>0</td></tr><tr><td>&quot;male&quot;</td><td>0</td></tr></tbody></table></div>"
     },
     "execution_count": 15,
     "metadata": {},
     "output_type": "execute_result"
    }
   ],
   "source": [
    "(\n",
    "    pl.read_csv(csv_file)\n",
    "    .select(\n",
    "        [\n",
    "            'Sex',\n",
    "            pl.when(\n",
    "                (pl.col(\"Sex\")==\"female\") & (pl.col(\"SibSp\")==0) & (pl.col(\"Parch\") == 0)\n",
    "            )\n",
    "            .then(1)\n",
    "            .otherwise(0)\n",
    "            .alias(\"femaleRelatives\")\n",
    "\n",
    "        ]\n",
    "    )\n",
    "    .head()\n",
    ")"
   ]
  },
  {
   "cell_type": "markdown",
   "id": "d11af8c6-45c8-4dd5-8114-70e3b26177cf",
   "metadata": {},
   "source": [
    "### Solution to Exercise 3 \n",
    "\n",
    "Create a column for whether a passenger is female and has parents & children, siblings or both aboard"
   ]
  },
  {
   "cell_type": "code",
   "execution_count": 16,
   "id": "05d5f278-9c5a-4af0-b7ee-0c0d058a4d92",
   "metadata": {
    "jupyter": {
     "source_hidden": true
    },
    "tags": [],
    "ExecuteTime": {
     "end_time": "2024-03-04T15:39:15.804495Z",
     "start_time": "2024-03-04T15:39:15.755804200Z"
    }
   },
   "outputs": [
    {
     "data": {
      "text/plain": "shape: (5, 4)\n┌────────┬───────┬───────┬─────────────────┐\n│ Sex    ┆ SibSp ┆ Parch ┆ femaleRelatives │\n│ ---    ┆ ---   ┆ ---   ┆ ---             │\n│ str    ┆ i64   ┆ i64   ┆ i32             │\n╞════════╪═══════╪═══════╪═════════════════╡\n│ male   ┆ 1     ┆ 0     ┆ 0               │\n│ female ┆ 1     ┆ 0     ┆ 3               │\n│ female ┆ 0     ┆ 0     ┆ 1               │\n│ female ┆ 1     ┆ 0     ┆ 3               │\n│ male   ┆ 0     ┆ 0     ┆ 0               │\n└────────┴───────┴───────┴─────────────────┘",
      "text/html": "<div><style>\n.dataframe > thead > tr,\n.dataframe > tbody > tr {\n  text-align: right;\n  white-space: pre-wrap;\n}\n</style>\n<small>shape: (5, 4)</small><table border=\"1\" class=\"dataframe\"><thead><tr><th>Sex</th><th>SibSp</th><th>Parch</th><th>femaleRelatives</th></tr><tr><td>str</td><td>i64</td><td>i64</td><td>i32</td></tr></thead><tbody><tr><td>&quot;male&quot;</td><td>1</td><td>0</td><td>0</td></tr><tr><td>&quot;female&quot;</td><td>1</td><td>0</td><td>3</td></tr><tr><td>&quot;female&quot;</td><td>0</td><td>0</td><td>1</td></tr><tr><td>&quot;female&quot;</td><td>1</td><td>0</td><td>3</td></tr><tr><td>&quot;male&quot;</td><td>0</td><td>0</td><td>0</td></tr></tbody></table></div>"
     },
     "execution_count": 16,
     "metadata": {},
     "output_type": "execute_result"
    }
   ],
   "source": [
    "(\n",
    "    pl.read_csv(csv_file)\n",
    "    .select(\n",
    "        [\n",
    "            'Sex',\n",
    "            \"SibSp\",\n",
    "            \"Parch\", \n",
    "            pl.when(\n",
    "                (pl.col(\"Sex\")==\"female\") & (pl.col(\"SibSp\")==0) & (pl.col(\"Parch\") == 0)\n",
    "            )\n",
    "            .then(1)\n",
    "            .when(\n",
    "                (pl.col(\"Sex\")==\"female\") & (pl.col(\"SibSp\")==0) & (pl.col(\"Parch\") > 0)\n",
    "            )\n",
    "            .then(2)\n",
    "            .when(\n",
    "                (pl.col(\"Sex\")==\"female\") & (pl.col(\"SibSp\") > 0) & (pl.col(\"Parch\") == 0)\n",
    "            )\n",
    "            .then(3)\n",
    "            .when(\n",
    "                (pl.col(\"Sex\")==\"female\") & (pl.col(\"SibSp\") > 0) & (pl.col(\"Parch\") > 0)\n",
    "            )\n",
    "            .then(4)\n",
    "            .otherwise(0)\n",
    "            .alias(\"femaleRelatives\")\n",
    "          ]\n",
    "    ).head()\n",
    ")"
   ]
  },
  {
   "cell_type": "code",
   "execution_count": null,
   "id": "1a98f321-0b21-450a-970c-e0bc5f2918cb",
   "metadata": {
    "jupyter": {
     "source_hidden": true
    }
   },
   "outputs": [],
   "source": []
  }
 ],
 "metadata": {
  "kernelspec": {
   "display_name": "Python 3 (ipykernel)",
   "language": "python",
   "name": "python3"
  },
  "language_info": {
   "codemirror_mode": {
    "name": "ipython",
    "version": 3
   },
   "file_extension": ".py",
   "mimetype": "text/x-python",
   "name": "python",
   "nbconvert_exporter": "python",
   "pygments_lexer": "ipython3",
   "version": "3.10.1"
  }
 },
 "nbformat": 4,
 "nbformat_minor": 5
}
