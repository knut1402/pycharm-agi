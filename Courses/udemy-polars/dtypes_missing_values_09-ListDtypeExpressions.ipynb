{
 "cells": [
  {
   "cell_type": "markdown",
   "id": "2bf5718e-7cf0-49ba-8898-6ec9645fc09b",
   "metadata": {},
   "source": [
    "## List dtype 2: using expressions on List columns\n",
    "\n",
    "By the end of this lecture you will be able to:\n",
    "- use expressions on list columns\n",
    "- do set operations on list columns\n",
    "- call expressions on each row in a `pl.List` column\n"
   ]
  },
  {
   "cell_type": "code",
   "execution_count": 1,
   "id": "6773a7b8-738d-4848-b17d-452e3e3029be",
   "metadata": {
    "ExecuteTime": {
     "end_time": "2024-03-05T10:55:44.258670500Z",
     "start_time": "2024-03-05T10:55:43.989355300Z"
    }
   },
   "outputs": [],
   "source": [
    "import polars as pl"
   ]
  },
  {
   "cell_type": "markdown",
   "id": "c9abc1a6-8fc6-4864-94b0-ea256e5f0a12",
   "metadata": {},
   "source": [
    "We create a `DataFrame` with a `pl.List` column"
   ]
  },
  {
   "cell_type": "code",
   "execution_count": 3,
   "id": "6a7e7280-53e0-49c2-aceb-42fe778145c0",
   "metadata": {
    "ExecuteTime": {
     "end_time": "2024-03-05T10:56:54.086246600Z",
     "start_time": "2024-03-05T10:56:54.068244Z"
    }
   },
   "outputs": [
    {
     "data": {
      "text/plain": "shape: (3, 1)\n┌─────────────┐\n│ values      │\n│ ---         │\n│ list[i64]   │\n╞═════════════╡\n│ [0, 1]      │\n│ [2, 3, 4]   │\n│ [4, 5, … 8] │\n└─────────────┘",
      "text/html": "<div><style>\n.dataframe > thead > tr,\n.dataframe > tbody > tr {\n  text-align: right;\n  white-space: pre-wrap;\n}\n</style>\n<small>shape: (3, 1)</small><table border=\"1\" class=\"dataframe\"><thead><tr><th>values</th></tr><tr><td>list[i64]</td></tr></thead><tbody><tr><td>[0, 1]</td></tr><tr><td>[2, 3, 4]</td></tr><tr><td>[4, 5, … 8]</td></tr></tbody></table></div>"
     },
     "execution_count": 3,
     "metadata": {},
     "output_type": "execute_result"
    }
   ],
   "source": [
    "df = (\n",
    "    pl.DataFrame(\n",
    "        {\n",
    "            'values':[ \n",
    "                [0,1], \n",
    "                [2,3,4],\n",
    "                [4,5,6,7,8]\n",
    "            ],\n",
    "        }\n",
    "    )\n",
    ")\n",
    "df"
   ]
  },
  {
   "cell_type": "markdown",
   "id": "63e4fa2e-f79e-45c9-b110-eec5a46a223d",
   "metadata": {},
   "source": [
    "## The list expression namespace\n",
    "Polars has a `.list` namespace for expressions that work on `pl.List` columns\n",
    "https://pola-rs.github.io/polars/py-polars/html/reference/expressions/list.html\n",
    "\n",
    "## Selecting data in lists\n",
    "We can use list expressions from the `list` namespace to select data from:\n",
    "- the start and end of the list on each row with `first`,`last`,`head` and `tail`\n",
    "- slices with `slice`"
   ]
  },
  {
   "cell_type": "code",
   "execution_count": 4,
   "id": "0a1c9cbe-a3c7-4cce-acb0-a57f2e4f91fb",
   "metadata": {
    "ExecuteTime": {
     "end_time": "2024-03-05T10:57:09.070792500Z",
     "start_time": "2024-03-05T10:57:09.053600900Z"
    }
   },
   "outputs": [
    {
     "data": {
      "text/plain": "shape: (3, 6)\n┌─────────────┬───────┬──────┬───────────┬───────────┬───────────┐\n│ values      ┆ first ┆ last ┆ head      ┆ tail      ┆ slice     │\n│ ---         ┆ ---   ┆ ---  ┆ ---       ┆ ---       ┆ ---       │\n│ list[i64]   ┆ i64   ┆ i64  ┆ list[i64] ┆ list[i64] ┆ list[i64] │\n╞═════════════╪═══════╪══════╪═══════════╪═══════════╪═══════════╡\n│ [0, 1]      ┆ 0     ┆ 1    ┆ [0, 1]    ┆ [0, 1]    ┆ [1]       │\n│ [2, 3, 4]   ┆ 2     ┆ 4    ┆ [2, 3]    ┆ [3, 4]    ┆ [3, 4]    │\n│ [4, 5, … 8] ┆ 4     ┆ 8    ┆ [4, 5]    ┆ [7, 8]    ┆ [5, 6]    │\n└─────────────┴───────┴──────┴───────────┴───────────┴───────────┘",
      "text/html": "<div><style>\n.dataframe > thead > tr,\n.dataframe > tbody > tr {\n  text-align: right;\n  white-space: pre-wrap;\n}\n</style>\n<small>shape: (3, 6)</small><table border=\"1\" class=\"dataframe\"><thead><tr><th>values</th><th>first</th><th>last</th><th>head</th><th>tail</th><th>slice</th></tr><tr><td>list[i64]</td><td>i64</td><td>i64</td><td>list[i64]</td><td>list[i64]</td><td>list[i64]</td></tr></thead><tbody><tr><td>[0, 1]</td><td>0</td><td>1</td><td>[0, 1]</td><td>[0, 1]</td><td>[1]</td></tr><tr><td>[2, 3, 4]</td><td>2</td><td>4</td><td>[2, 3]</td><td>[3, 4]</td><td>[3, 4]</td></tr><tr><td>[4, 5, … 8]</td><td>4</td><td>8</td><td>[4, 5]</td><td>[7, 8]</td><td>[5, 6]</td></tr></tbody></table></div>"
     },
     "execution_count": 4,
     "metadata": {},
     "output_type": "execute_result"
    }
   ],
   "source": [
    "(\n",
    "    df\n",
    "    .with_columns(\n",
    "        [\n",
    "            pl.col(\"values\").list.first().alias(\"first\"),\n",
    "            pl.col(\"values\").list.last().alias(\"last\"),\n",
    "            pl.col(\"values\").list.head(2).alias(\"head\"),\n",
    "            pl.col(\"values\").list.tail(2).alias(\"tail\"),\n",
    "            pl.col(\"values\").list.slice(1,2).alias(\"slice\"),\n",
    "\n",
    "        ]\n",
    "    )\n",
    ")"
   ]
  },
  {
   "cell_type": "markdown",
   "id": "9c39da0d-56dd-4b07-a196-4dbcb020d997",
   "metadata": {},
   "source": [
    "To get a specific row we use `list.get` to select a value by a position index in each list"
   ]
  },
  {
   "cell_type": "code",
   "execution_count": 5,
   "id": "2485a04f-defb-4b6f-8ebb-04b80c619bc6",
   "metadata": {
    "ExecuteTime": {
     "end_time": "2024-03-05T10:57:32.669156600Z",
     "start_time": "2024-03-05T10:57:32.642327500Z"
    }
   },
   "outputs": [
    {
     "data": {
      "text/plain": "shape: (3, 4)\n┌─────────────┬───────┬────────┬──────┐\n│ values      ┆ first ┆ second ┆ last │\n│ ---         ┆ ---   ┆ ---    ┆ ---  │\n│ list[i64]   ┆ i64   ┆ i64    ┆ i64  │\n╞═════════════╪═══════╪════════╪══════╡\n│ [0, 1]      ┆ 0     ┆ 1      ┆ 1    │\n│ [2, 3, 4]   ┆ 2     ┆ 3      ┆ 4    │\n│ [4, 5, … 8] ┆ 4     ┆ 5      ┆ 8    │\n└─────────────┴───────┴────────┴──────┘",
      "text/html": "<div><style>\n.dataframe > thead > tr,\n.dataframe > tbody > tr {\n  text-align: right;\n  white-space: pre-wrap;\n}\n</style>\n<small>shape: (3, 4)</small><table border=\"1\" class=\"dataframe\"><thead><tr><th>values</th><th>first</th><th>second</th><th>last</th></tr><tr><td>list[i64]</td><td>i64</td><td>i64</td><td>i64</td></tr></thead><tbody><tr><td>[0, 1]</td><td>0</td><td>1</td><td>1</td></tr><tr><td>[2, 3, 4]</td><td>2</td><td>3</td><td>4</td></tr><tr><td>[4, 5, … 8]</td><td>4</td><td>5</td><td>8</td></tr></tbody></table></div>"
     },
     "execution_count": 5,
     "metadata": {},
     "output_type": "execute_result"
    }
   ],
   "source": [
    "(\n",
    "    df\n",
    "    .with_columns(\n",
    "        [\n",
    "            pl.col(\"values\").list.get(0).alias(\"first\"),\n",
    "            pl.col(\"values\").list.get(1).alias(\"second\"),\n",
    "            pl.col(\"values\").list.get(-1).alias(\"last\"),\n",
    "\n",
    "        ]\n",
    "    )\n",
    ")"
   ]
  },
  {
   "cell_type": "markdown",
   "id": "f7c6a06f-d598-48be-aa80-11c53aac14f1",
   "metadata": {},
   "source": [
    "We can check whether each list contains a value with `list.contains`"
   ]
  },
  {
   "cell_type": "code",
   "execution_count": 10,
   "id": "4e595894-3bed-4e63-95c1-2b97564b7277",
   "metadata": {
    "ExecuteTime": {
     "end_time": "2024-03-05T10:59:35.134501100Z",
     "start_time": "2024-03-05T10:59:35.071501100Z"
    }
   },
   "outputs": [
    {
     "data": {
      "text/plain": "shape: (3, 4)\n┌─────────────┬───────┬───────┬───────┐\n│ values      ┆ 0     ┆ 1     ┆ 2     │\n│ ---         ┆ ---   ┆ ---   ┆ ---   │\n│ list[i64]   ┆ bool  ┆ bool  ┆ bool  │\n╞═════════════╪═══════╪═══════╪═══════╡\n│ [0, 1]      ┆ true  ┆ true  ┆ false │\n│ [2, 3, 4]   ┆ false ┆ false ┆ true  │\n│ [4, 5, … 8] ┆ false ┆ false ┆ false │\n└─────────────┴───────┴───────┴───────┘",
      "text/html": "<div><style>\n.dataframe > thead > tr,\n.dataframe > tbody > tr {\n  text-align: right;\n  white-space: pre-wrap;\n}\n</style>\n<small>shape: (3, 4)</small><table border=\"1\" class=\"dataframe\"><thead><tr><th>values</th><th>0</th><th>1</th><th>2</th></tr><tr><td>list[i64]</td><td>bool</td><td>bool</td><td>bool</td></tr></thead><tbody><tr><td>[0, 1]</td><td>true</td><td>true</td><td>false</td></tr><tr><td>[2, 3, 4]</td><td>false</td><td>false</td><td>true</td></tr><tr><td>[4, 5, … 8]</td><td>false</td><td>false</td><td>false</td></tr></tbody></table></div>"
     },
     "execution_count": 10,
     "metadata": {},
     "output_type": "execute_result"
    }
   ],
   "source": [
    "(\n",
    "    df\n",
    "    .with_columns(\n",
    "        # Check whether the list contains 0,1,2 in new columns\n",
    "        [\n",
    "            pl.col(\"values\").list.contains(i).alias(str(i)) for i in range(3)\n",
    "        ]\n",
    "    )\n",
    ")"
   ]
  },
  {
   "cell_type": "markdown",
   "id": "2ca24ae2-b682-4bcc-8190-1f908b879145",
   "metadata": {},
   "source": [
    "In the example above `list.contains` takes a scalar value but it can also be expression based on another column.\n",
    "\n",
    "In this example we add a column called `four` that has the constant value of 4. We then test each row of the list to see if it contains the expression from column `four`"
   ]
  },
  {
   "cell_type": "code",
   "execution_count": 11,
   "id": "1fbb6c94-b712-4231-a899-f189f37fa9c6",
   "metadata": {
    "ExecuteTime": {
     "end_time": "2024-03-05T12:04:53.732556900Z",
     "start_time": "2024-03-05T12:04:53.676557600Z"
    }
   },
   "outputs": [
    {
     "data": {
      "text/plain": "shape: (3, 3)\n┌─────────────┬──────┬──────────┐\n│ values      ┆ four ┆ has_four │\n│ ---         ┆ ---  ┆ ---      │\n│ list[i64]   ┆ i32  ┆ bool     │\n╞═════════════╪══════╪══════════╡\n│ [0, 1]      ┆ 4    ┆ false    │\n│ [2, 3, 4]   ┆ 4    ┆ true     │\n│ [4, 5, … 8] ┆ 4    ┆ true     │\n└─────────────┴──────┴──────────┘",
      "text/html": "<div><style>\n.dataframe > thead > tr,\n.dataframe > tbody > tr {\n  text-align: right;\n  white-space: pre-wrap;\n}\n</style>\n<small>shape: (3, 3)</small><table border=\"1\" class=\"dataframe\"><thead><tr><th>values</th><th>four</th><th>has_four</th></tr><tr><td>list[i64]</td><td>i32</td><td>bool</td></tr></thead><tbody><tr><td>[0, 1]</td><td>4</td><td>false</td></tr><tr><td>[2, 3, 4]</td><td>4</td><td>true</td></tr><tr><td>[4, 5, … 8]</td><td>4</td><td>true</td></tr></tbody></table></div>"
     },
     "execution_count": 11,
     "metadata": {},
     "output_type": "execute_result"
    }
   ],
   "source": [
    "  (\n",
    "    df\n",
    "    .with_columns(\n",
    "        four = pl.lit(4)\n",
    "    )\n",
    "    .with_columns(\n",
    "        pl.col(\"values\").list.contains(pl.col(\"four\")).alias(\"has_four\")\n",
    "    )\n",
    ")"
   ]
  },
  {
   "cell_type": "markdown",
   "id": "3375c2a4-a360-40da-96e6-da5bc7c04ba3",
   "metadata": {},
   "source": [
    "### Set operations on lists\n",
    "We define a new `DataFrame` with two list columns that have some similarities and some differences"
   ]
  },
  {
   "cell_type": "code",
   "execution_count": 12,
   "id": "8080ae12-d697-4eae-9c80-4158cc89ede6",
   "metadata": {
    "ExecuteTime": {
     "end_time": "2024-03-05T12:05:17.221512300Z",
     "start_time": "2024-03-05T12:05:17.156090900Z"
    }
   },
   "outputs": [
    {
     "data": {
      "text/plain": "shape: (3, 2)\n┌─────────────┬───────────┐\n│ values      ┆ values_2  │\n│ ---         ┆ ---       │\n│ list[i64]   ┆ list[i64] │\n╞═════════════╪═══════════╡\n│ [0, 1, 0]   ┆ [0]       │\n│ [2, 3]      ┆ [2, 3, 4] │\n│ [4, 5, … 8] ┆ [4, 5, 9] │\n└─────────────┴───────────┘",
      "text/html": "<div><style>\n.dataframe > thead > tr,\n.dataframe > tbody > tr {\n  text-align: right;\n  white-space: pre-wrap;\n}\n</style>\n<small>shape: (3, 2)</small><table border=\"1\" class=\"dataframe\"><thead><tr><th>values</th><th>values_2</th></tr><tr><td>list[i64]</td><td>list[i64]</td></tr></thead><tbody><tr><td>[0, 1, 0]</td><td>[0]</td></tr><tr><td>[2, 3]</td><td>[2, 3, 4]</td></tr><tr><td>[4, 5, … 8]</td><td>[4, 5, 9]</td></tr></tbody></table></div>"
     },
     "execution_count": 12,
     "metadata": {},
     "output_type": "execute_result"
    }
   ],
   "source": [
    "df2 = (\n",
    "    pl.DataFrame(\n",
    "        {\n",
    "            'values':[ \n",
    "                [0,1,0], \n",
    "                [2,3],\n",
    "                [4,5,6,7,8]\n",
    "            ],\n",
    "            'values_2':[ \n",
    "                [0], \n",
    "                [2,3,4],\n",
    "                [4,5,9]\n",
    "            ],\n",
    "\n",
    "        }\n",
    "    )\n",
    ")\n",
    "df2"
   ]
  },
  {
   "cell_type": "markdown",
   "id": "5c752ff0-d836-4714-9166-525c59ecbebe",
   "metadata": {},
   "source": [
    "We can find all unique values in an list with `list.unique`"
   ]
  },
  {
   "cell_type": "code",
   "execution_count": 15,
   "id": "1d2a47d8-d798-456b-837e-edeab92c9eaf",
   "metadata": {
    "ExecuteTime": {
     "end_time": "2024-03-05T12:08:35.977723400Z",
     "start_time": "2024-03-05T12:08:35.934361100Z"
    }
   },
   "outputs": [
    {
     "data": {
      "text/plain": "shape: (3, 3)\n┌─────────────┬───────────┬─────────────┐\n│ values      ┆ values_2  ┆ unique      │\n│ ---         ┆ ---       ┆ ---         │\n│ list[i64]   ┆ list[i64] ┆ list[i64]   │\n╞═════════════╪═══════════╪═════════════╡\n│ [0, 1, 0]   ┆ [0]       ┆ [0, 1]      │\n│ [2, 3]      ┆ [2, 3, 4] ┆ [2, 3]      │\n│ [4, 5, … 8] ┆ [4, 5, 9] ┆ [4, 5, … 8] │\n└─────────────┴───────────┴─────────────┘",
      "text/html": "<div><style>\n.dataframe > thead > tr,\n.dataframe > tbody > tr {\n  text-align: right;\n  white-space: pre-wrap;\n}\n</style>\n<small>shape: (3, 3)</small><table border=\"1\" class=\"dataframe\"><thead><tr><th>values</th><th>values_2</th><th>unique</th></tr><tr><td>list[i64]</td><td>list[i64]</td><td>list[i64]</td></tr></thead><tbody><tr><td>[0, 1, 0]</td><td>[0]</td><td>[0, 1]</td></tr><tr><td>[2, 3]</td><td>[2, 3, 4]</td><td>[2, 3]</td></tr><tr><td>[4, 5, … 8]</td><td>[4, 5, 9]</td><td>[4, 5, … 8]</td></tr></tbody></table></div>"
     },
     "execution_count": 15,
     "metadata": {},
     "output_type": "execute_result"
    }
   ],
   "source": [
    "(\n",
    "    df2\n",
    "    .with_columns(\n",
    "#        \"values\",\n",
    "        pl.col(\"values\").list.unique().alias(\"unique\")\n",
    "    )\n",
    ")"
   ]
  },
  {
   "cell_type": "markdown",
   "id": "94571ccb-2177-4eaf-9d10-c97bfdd8fc5d",
   "metadata": {},
   "source": [
    "We can do set operations on two list columns with the `list.set_` expressions to produce a new list where:\n",
    "- `set_intersection` gets the common values between lists\n",
    "- `set_difference` gets values that are in the left list but not in the right list\n",
    "- `set_symmetric_difference` gets values that are not in both lists\n",
    "- `union` gets the unique values from both lists"
   ]
  },
  {
   "cell_type": "code",
   "execution_count": 16,
   "id": "dd25a5af-801a-4466-96a4-4ac3e0dc0ad8",
   "metadata": {
    "ExecuteTime": {
     "end_time": "2024-03-05T12:10:08.994384300Z",
     "start_time": "2024-03-05T12:10:08.946448100Z"
    }
   },
   "outputs": [
    {
     "data": {
      "text/plain": "shape: (3, 6)\n┌─────────────────┬───────────┬──────────────┬────────────┬────────────────────┬───────────────────┐\n│ values          ┆ values_2  ┆ intersection ┆ difference ┆ symmetric_differen ┆ union             │\n│ ---             ┆ ---       ┆ ---          ┆ ---        ┆ ce                 ┆ ---               │\n│ list[i64]       ┆ list[i64] ┆ list[i64]    ┆ list[i64]  ┆ ---                ┆ list[i64]         │\n│                 ┆           ┆              ┆            ┆ list[i64]          ┆                   │\n╞═════════════════╪═══════════╪══════════════╪════════════╪════════════════════╪═══════════════════╡\n│ [0, 1, 0]       ┆ [0]       ┆ [0]          ┆ [1]        ┆ [1]                ┆ [0, 1]            │\n│ [2, 3]          ┆ [2, 3, 4] ┆ [2, 3]       ┆ []         ┆ [4]                ┆ [2, 3, 4]         │\n│ [4, 5, 6, 7, 8] ┆ [4, 5, 9] ┆ [4, 5]       ┆ [8, 7, 6]  ┆ [6, 7, 8, 9]       ┆ [4, 5, 6, 7, 8,   │\n│                 ┆           ┆              ┆            ┆                    ┆ 9]                │\n└─────────────────┴───────────┴──────────────┴────────────┴────────────────────┴───────────────────┘",
      "text/html": "<div><style>\n.dataframe > thead > tr,\n.dataframe > tbody > tr {\n  text-align: right;\n  white-space: pre-wrap;\n}\n</style>\n<small>shape: (3, 6)</small><table border=\"1\" class=\"dataframe\"><thead><tr><th>values</th><th>values_2</th><th>intersection</th><th>difference</th><th>symmetric_difference</th><th>union</th></tr><tr><td>list[i64]</td><td>list[i64]</td><td>list[i64]</td><td>list[i64]</td><td>list[i64]</td><td>list[i64]</td></tr></thead><tbody><tr><td>[0, 1, 0]</td><td>[0]</td><td>[0]</td><td>[1]</td><td>[1]</td><td>[0, 1]</td></tr><tr><td>[2, 3]</td><td>[2, 3, 4]</td><td>[2, 3]</td><td>[]</td><td>[4]</td><td>[2, 3, 4]</td></tr><tr><td>[4, 5, 6, 7, 8]</td><td>[4, 5, 9]</td><td>[4, 5]</td><td>[8, 7, 6]</td><td>[6, 7, 8, 9]</td><td>[4, 5, 6, 7, 8, 9]</td></tr></tbody></table></div>"
     },
     "execution_count": 16,
     "metadata": {},
     "output_type": "execute_result"
    }
   ],
   "source": [
    "pl.Config.set_fmt_table_cell_list_len(6)\n",
    "(\n",
    "    df2\n",
    "    .with_columns(\n",
    "        pl.col(\"values\").list.set_intersection(pl.col(\"values_2\")).alias(\"intersection\"),\n",
    "        pl.col(\"values\").list.set_difference(pl.col(\"values_2\")).alias(\"difference\"),\n",
    "        pl.col(\"values\").list.set_symmetric_difference(pl.col(\"values_2\")).alias(\"symmetric_difference\"),\n",
    "        pl.col(\"values\").list.set_union(pl.col(\"values_2\")).alias(\"union\")\n",
    "\n",
    "    )\n",
    ")"
   ]
  },
  {
   "cell_type": "markdown",
   "id": "418292a9-eb00-44a6-b278-00c287445d74",
   "metadata": {},
   "source": [
    "Note that in the second row the `difference` column is empty but the `symmetric_difference` has one element"
   ]
  },
  {
   "cell_type": "markdown",
   "id": "8d121633-85b9-43e7-bdeb-f23f54c136f9",
   "metadata": {},
   "source": [
    "### Re-ordering values in each list\n",
    "\n",
    "We return to the initial `DataFrame` with one list column for the following examples\n",
    "We can re-order values in each list:\n",
    "- `reverse` reverses the order of the list\n",
    "- `sort` sorts each list\n",
    "- `shift` moves values in each list (in a non-periodic way) so the first values are `null`"
   ]
  },
  {
   "cell_type": "code",
   "execution_count": 17,
   "id": "8a8ab882-7ddd-4196-a4f3-cf00121e8cca",
   "metadata": {
    "ExecuteTime": {
     "end_time": "2024-03-05T12:13:35.010290100Z",
     "start_time": "2024-03-05T12:13:34.987289Z"
    }
   },
   "outputs": [
    {
     "data": {
      "text/plain": "shape: (3, 4)\n┌─────────────────┬─────────────────┬─────────────────┬────────────────────┐\n│ values          ┆ reverse         ┆ sort            ┆ shift              │\n│ ---             ┆ ---             ┆ ---             ┆ ---                │\n│ list[i64]       ┆ list[i64]       ┆ list[i64]       ┆ list[i64]          │\n╞═════════════════╪═════════════════╪═════════════════╪════════════════════╡\n│ [0, 1]          ┆ [1, 0]          ┆ [0, 1]          ┆ [null, 0]          │\n│ [2, 3, 4]       ┆ [4, 3, 2]       ┆ [2, 3, 4]       ┆ [null, 2, 3]       │\n│ [4, 5, 6, 7, 8] ┆ [8, 7, 6, 5, 4] ┆ [4, 5, 6, 7, 8] ┆ [null, 4, 5, 6, 7] │\n└─────────────────┴─────────────────┴─────────────────┴────────────────────┘",
      "text/html": "<div><style>\n.dataframe > thead > tr,\n.dataframe > tbody > tr {\n  text-align: right;\n  white-space: pre-wrap;\n}\n</style>\n<small>shape: (3, 4)</small><table border=\"1\" class=\"dataframe\"><thead><tr><th>values</th><th>reverse</th><th>sort</th><th>shift</th></tr><tr><td>list[i64]</td><td>list[i64]</td><td>list[i64]</td><td>list[i64]</td></tr></thead><tbody><tr><td>[0, 1]</td><td>[1, 0]</td><td>[0, 1]</td><td>[null, 0]</td></tr><tr><td>[2, 3, 4]</td><td>[4, 3, 2]</td><td>[2, 3, 4]</td><td>[null, 2, 3]</td></tr><tr><td>[4, 5, 6, 7, 8]</td><td>[8, 7, 6, 5, 4]</td><td>[4, 5, 6, 7, 8]</td><td>[null, 4, 5, 6, 7]</td></tr></tbody></table></div>"
     },
     "execution_count": 17,
     "metadata": {},
     "output_type": "execute_result"
    }
   ],
   "source": [
    "(\n",
    "    df\n",
    "    .with_columns(\n",
    "        pl.col(\"values\").list.reverse().alias(\"reverse\"),\n",
    "        pl.col(\"values\").list.sort().alias(\"sort\"),\n",
    "        pl.col(\"values\").list.shift(1).alias(\"shift\"),\n",
    "    )\n",
    ")"
   ]
  },
  {
   "cell_type": "markdown",
   "id": "915f2bc9-cd36-4f2a-939f-28f89db32300",
   "metadata": {},
   "source": [
    "### List aggregations\n",
    "We can use list expressions like `len` or `mean` to aggregate lists"
   ]
  },
  {
   "cell_type": "code",
   "execution_count": 22,
   "id": "5f93911b-0dbf-4753-b8b8-f8baf17ef1af",
   "metadata": {
    "ExecuteTime": {
     "end_time": "2024-03-05T12:16:16.121318500Z",
     "start_time": "2024-03-05T12:16:16.077321200Z"
    }
   },
   "outputs": [
    {
     "data": {
      "text/plain": "shape: (3, 5)\n┌─────────────────┬─────────┬─────┬──────┬─────┐\n│ values          ┆ lengths ┆ min ┆ mean ┆ max │\n│ ---             ┆ ---     ┆ --- ┆ ---  ┆ --- │\n│ list[i64]       ┆ u32     ┆ i64 ┆ f64  ┆ i64 │\n╞═════════════════╪═════════╪═════╪══════╪═════╡\n│ [0, 1]          ┆ 2       ┆ 0   ┆ 0.5  ┆ 1   │\n│ [2, 3, 4]       ┆ 3       ┆ 2   ┆ 3.0  ┆ 4   │\n│ [4, 5, 6, 7, 8] ┆ 5       ┆ 4   ┆ 6.0  ┆ 8   │\n└─────────────────┴─────────┴─────┴──────┴─────┘",
      "text/html": "<div><style>\n.dataframe > thead > tr,\n.dataframe > tbody > tr {\n  text-align: right;\n  white-space: pre-wrap;\n}\n</style>\n<small>shape: (3, 5)</small><table border=\"1\" class=\"dataframe\"><thead><tr><th>values</th><th>lengths</th><th>min</th><th>mean</th><th>max</th></tr><tr><td>list[i64]</td><td>u32</td><td>i64</td><td>f64</td><td>i64</td></tr></thead><tbody><tr><td>[0, 1]</td><td>2</td><td>0</td><td>0.5</td><td>1</td></tr><tr><td>[2, 3, 4]</td><td>3</td><td>2</td><td>3.0</td><td>4</td></tr><tr><td>[4, 5, 6, 7, 8]</td><td>5</td><td>4</td><td>6.0</td><td>8</td></tr></tbody></table></div>"
     },
     "execution_count": 22,
     "metadata": {},
     "output_type": "execute_result"
    }
   ],
   "source": [
    "(\n",
    "    df\n",
    "    .with_columns(\n",
    "        pl.col(\"values\").list.len().alias(\"lengths\"),\n",
    "        pl.col(\"values\").list.min().alias(\"min\"),\n",
    "        pl.col(\"values\").list.mean().alias(\"mean\"),\n",
    "        pl.col(\"values\").list.max().alias(\"max\"),\n",
    "    )\n",
    ")"
   ]
  },
  {
   "cell_type": "markdown",
   "id": "ff06f192-a895-4b91-8fee-e47399ab590d",
   "metadata": {},
   "source": [
    "## Calling expressions on each list\n",
    "Each row in a `pl.List` column is a `Series`. We can call the same expressions on each `Series` that we would call on a standalone `Series` or column in a `DataFrame`.\n",
    "\n",
    "To do this we:\n",
    "- call `list.eval` on the `pl.List` column and inside this \n",
    "- call `pl.element` to select the list on each row and then call expressions\n",
    "\n",
    "The call to `pl.element` inside `list.eval` is like calling `pl.col` on a column in a `DataFrame`\n",
    "\n",
    "In this example we `rank` the elements of each list"
   ]
  },
  {
   "cell_type": "code",
   "execution_count": 23,
   "id": "75df3479-68da-40a2-b253-4df05c532c33",
   "metadata": {
    "ExecuteTime": {
     "end_time": "2024-03-05T12:39:45.577589600Z",
     "start_time": "2024-03-05T12:39:45.527592900Z"
    }
   },
   "outputs": [
    {
     "data": {
      "text/plain": "shape: (2, 2)\n┌───────────┬───────────┐\n│ values    ┆ eval      │\n│ ---       ┆ ---       │\n│ list[i64] ┆ list[u32] │\n╞═══════════╪═══════════╡\n│ [0, 1]    ┆ [1, 2]    │\n│ [4, 3, 2] ┆ [3, 2, 1] │\n└───────────┴───────────┘",
      "text/html": "<div><style>\n.dataframe > thead > tr,\n.dataframe > tbody > tr {\n  text-align: right;\n  white-space: pre-wrap;\n}\n</style>\n<small>shape: (2, 2)</small><table border=\"1\" class=\"dataframe\"><thead><tr><th>values</th><th>eval</th></tr><tr><td>list[i64]</td><td>list[u32]</td></tr></thead><tbody><tr><td>[0, 1]</td><td>[1, 2]</td></tr><tr><td>[4, 3, 2]</td><td>[3, 2, 1]</td></tr></tbody></table></div>"
     },
     "execution_count": 23,
     "metadata": {},
     "output_type": "execute_result"
    }
   ],
   "source": [
    "(\n",
    "    pl.DataFrame(\n",
    "        {\n",
    "            'values':[ \n",
    "                [0,1], \n",
    "                [4,3,2]\n",
    "            ],\n",
    "        }\n",
    "    )\n",
    "    .with_columns(\n",
    "        pl.col(\"values\").list.eval(\n",
    "            pl.element().rank(method=\"ordinal\")\n",
    "        ).alias(\"eval\")\n",
    "    )\n",
    ")"
   ]
  },
  {
   "cell_type": "markdown",
   "id": "9c019ad7-823a-45a1-afbb-75fa861effb0",
   "metadata": {},
   "source": [
    "If we call `pl.element` with no further expressions it returns the full list on each row"
   ]
  },
  {
   "cell_type": "code",
   "execution_count": 24,
   "id": "f5ed0482-4f4f-4c3b-abb1-71f5655939cc",
   "metadata": {
    "ExecuteTime": {
     "end_time": "2024-03-05T12:40:11.908345Z",
     "start_time": "2024-03-05T12:40:11.839723800Z"
    }
   },
   "outputs": [
    {
     "data": {
      "text/plain": "shape: (2, 2)\n┌───────────┬───────────┐\n│ values    ┆ eval      │\n│ ---       ┆ ---       │\n│ list[i64] ┆ list[i64] │\n╞═══════════╪═══════════╡\n│ [0, 1]    ┆ [0, 1]    │\n│ [4, 3, 2] ┆ [4, 3, 2] │\n└───────────┴───────────┘",
      "text/html": "<div><style>\n.dataframe > thead > tr,\n.dataframe > tbody > tr {\n  text-align: right;\n  white-space: pre-wrap;\n}\n</style>\n<small>shape: (2, 2)</small><table border=\"1\" class=\"dataframe\"><thead><tr><th>values</th><th>eval</th></tr><tr><td>list[i64]</td><td>list[i64]</td></tr></thead><tbody><tr><td>[0, 1]</td><td>[0, 1]</td></tr><tr><td>[4, 3, 2]</td><td>[4, 3, 2]</td></tr></tbody></table></div>"
     },
     "execution_count": 24,
     "metadata": {},
     "output_type": "execute_result"
    }
   ],
   "source": [
    "(\n",
    "    pl.DataFrame(\n",
    "        {\n",
    "            'values':[ \n",
    "                [0,1], \n",
    "                [4,3,2]\n",
    "            ],\n",
    "        }\n",
    "    )\n",
    "    .with_columns(\n",
    "        pl.col(\"values\").list.eval(\n",
    "            pl.element()\n",
    "        ).alias(\"eval\")\n",
    "    )\n",
    ")"
   ]
  },
  {
   "cell_type": "markdown",
   "id": "5f5b0438-8e0d-41c0-90cb-4285c6a73271",
   "metadata": {},
   "source": [
    "We can do more complicated operations with repeated calls to `pl.element`\n",
    "\n",
    "In this example we want to remove `null` values in the lists using a `filter` inside `list.eval`"
   ]
  },
  {
   "cell_type": "code",
   "execution_count": 26,
   "id": "957242e8-da1f-44fc-afdd-32ed922bbdb5",
   "metadata": {
    "ExecuteTime": {
     "end_time": "2024-03-05T12:41:09.448605400Z",
     "start_time": "2024-03-05T12:41:09.421602700Z"
    }
   },
   "outputs": [
    {
     "data": {
      "text/plain": "shape: (2, 2)\n┌──────────────┬───────────┐\n│ values       ┆ eval      │\n│ ---          ┆ ---       │\n│ list[i64]    ┆ list[i64] │\n╞══════════════╪═══════════╡\n│ [0, null, 1] ┆ [0, 1]    │\n│ [2, 3, null] ┆ [2, 3]    │\n└──────────────┴───────────┘",
      "text/html": "<div><style>\n.dataframe > thead > tr,\n.dataframe > tbody > tr {\n  text-align: right;\n  white-space: pre-wrap;\n}\n</style>\n<small>shape: (2, 2)</small><table border=\"1\" class=\"dataframe\"><thead><tr><th>values</th><th>eval</th></tr><tr><td>list[i64]</td><td>list[i64]</td></tr></thead><tbody><tr><td>[0, null, 1]</td><td>[0, 1]</td></tr><tr><td>[2, 3, null]</td><td>[2, 3]</td></tr></tbody></table></div>"
     },
     "execution_count": 26,
     "metadata": {},
     "output_type": "execute_result"
    }
   ],
   "source": [
    "(\n",
    "    pl.DataFrame(\n",
    "        {\n",
    "            'values':[ \n",
    "                [0,None,1], \n",
    "                [2,3,None]\n",
    "            ],\n",
    "        }\n",
    "    )\n",
    "    .with_columns(\n",
    "        pl.col(\"values\").list.eval(\n",
    "            pl.element().filter(\n",
    "                pl.element().is_not_null()\n",
    "            )\n",
    "        ).alias(\"eval\")\n",
    "    )\n",
    ")"
   ]
  },
  {
   "cell_type": "markdown",
   "id": "cf0b5136-58a1-4aaf-b701-fbed74aae89b",
   "metadata": {},
   "source": [
    "As noted in the previous lecture using `explode` may be easier to write and faster to run than a `list.eval` approach!"
   ]
  },
  {
   "cell_type": "markdown",
   "id": "6e6b18fe-8afb-4c21-9266-484b42a18bb2",
   "metadata": {},
   "source": [
    "## Exercises\n",
    "In the exercises you will develop your understanding of:\n",
    "- splitting a string into an list\n",
    "- extracting elements of an list\n",
    "- slicing an list\n",
    "- indexing into an list using expressions\n",
    "\n",
    "### Exercise 1\n",
    "We need to parse the following address strings to get columns with the:\n",
    "- number\n",
    "- street\n",
    "- city\n",
    "- state\n",
    "- zipcode"
   ]
  },
  {
   "cell_type": "code",
   "execution_count": null,
   "id": "8af1b97b-ef34-4d95-bacf-843293776b8c",
   "metadata": {},
   "outputs": [],
   "source": [
    "pl.Config.set_fmt_str_lengths(150)\n",
    "addresses = [\n",
    "    '93 NORTH 9TH STREET, BROOKLYN NY 11211',\n",
    "    '380 WESTMINSTER ST, PROVIDENCE RI 02903',\n",
    "    '177 MAIN STREET, LITTLETON NH 03561'\n",
    "]\n",
    "df = (\n",
    "    pl.DataFrame(\n",
    "        {\"address\":addresses}\n",
    "    )\n",
    ")\n",
    "df"
   ]
  },
  {
   "cell_type": "markdown",
   "id": "3679c756-b6bf-4259-b20f-839b70ae723e",
   "metadata": {},
   "source": [
    "Add a column called `split` with the string split by whitespace (using `str.split`) into a list column"
   ]
  },
  {
   "cell_type": "code",
   "execution_count": null,
   "id": "d146d965-86e4-4cb3-9dca-e55184803836",
   "metadata": {},
   "outputs": [],
   "source": [
    "(\n",
    "    df\n",
    "    .with_columns(\n",
    "        <blank>\n",
    "    )\n",
    ")"
   ]
  },
  {
   "cell_type": "markdown",
   "id": "b2390086-1e07-4b3f-a5b0-1271ef3e0345",
   "metadata": {},
   "source": [
    "In an additional `with_column` statement add a 32-bit integer column called `number` using the `first` element of each list"
   ]
  },
  {
   "cell_type": "code",
   "execution_count": null,
   "id": "c743984d-7c8f-4cc2-a2cb-c24260bccfca",
   "metadata": {},
   "outputs": [],
   "source": []
  },
  {
   "cell_type": "markdown",
   "id": "3b406b9c-3498-493d-9f0b-4f1e376d73d4",
   "metadata": {},
   "source": [
    "The street component of the address runs from the second element of the list to the element of the list that contains a comma.\n",
    "\n",
    "Add a list column called `contains_comma` where we check if each element in the lists in `split` contain a comma. Use `eval` to run the `str.contains` expression on each element in the list"
   ]
  },
  {
   "cell_type": "code",
   "execution_count": null,
   "id": "6a13e9b5-f42e-4ad0-b87e-1aa5ca2ef545",
   "metadata": {},
   "outputs": [],
   "source": []
  },
  {
   "cell_type": "markdown",
   "id": "1b3a16b7-3ce4-4b4a-8027-e72ad718d897",
   "metadata": {},
   "source": [
    "With a new call to `with_column` slice each list in `split` from the second element to the index of the element that contains a comma.\n",
    "\n",
    "Hint 1: there is an `list.arg_max` expression that finds the index of the largest value in an list. Use this to find the index of the `True` value in `contains_comma`"
   ]
  },
  {
   "cell_type": "code",
   "execution_count": null,
   "id": "3f5a1701-63b5-4b59-a7f4-e83f6bc2498b",
   "metadata": {},
   "outputs": [],
   "source": [
    "(\n",
    "    pl.DataFrame(\n",
    "        {\n",
    "            \"values\":\n",
    "            [\n",
    "                [0,1],\n",
    "                [3,2]\n",
    "            ]\n",
    "        }\n",
    "    )\n",
    "    .with_columns(\n",
    "        pl.col(\"values\").list.arg_max().alias(\"arg_max\")\n",
    "    )\n",
    ")"
   ]
  },
  {
   "cell_type": "markdown",
   "id": "d66a8356-6486-4f2c-a72f-7979b4c35531",
   "metadata": {},
   "source": [
    "Hint 2: you can pass an expression to `list.slice` if you want the `slice` to depend on values in another column"
   ]
  },
  {
   "cell_type": "markdown",
   "id": "16cd2c52-c070-4baa-93d4-d0aec2934900",
   "metadata": {},
   "source": [
    "Python has a `join` method to combine a list of strings into a single string"
   ]
  },
  {
   "cell_type": "code",
   "execution_count": null,
   "id": "c3ae0064-2608-4f98-ba35-ea8306e65c71",
   "metadata": {},
   "outputs": [],
   "source": [
    "';'.join(['a','b'])"
   ]
  },
  {
   "cell_type": "markdown",
   "id": "1daa7dbb-2f77-41f7-bf28-a1b0163a5156",
   "metadata": {},
   "source": [
    "Polars has a similar method called `list.join`.\n",
    "\n",
    "Join the string lists in `street` using `list.join` (with a \" \" separating the strings)"
   ]
  },
  {
   "cell_type": "code",
   "execution_count": null,
   "id": "e170ad13-666e-42f3-a7ab-5040f03d4330",
   "metadata": {},
   "outputs": [],
   "source": []
  },
  {
   "cell_type": "markdown",
   "id": "3aa06b16-e87f-47cb-98ca-dba7c71f1be3",
   "metadata": {},
   "source": [
    "Extract the `city` from `split` by slicing. The slice should start from the `arg_max` value in `contains_command` and have a length of 1 (here we are taking advantage of 3 one word city names!)"
   ]
  },
  {
   "cell_type": "code",
   "execution_count": null,
   "id": "30494dcc-a3f3-4653-bb73-3c4d0da2df1f",
   "metadata": {},
   "outputs": [],
   "source": []
  },
  {
   "cell_type": "markdown",
   "id": "97745ec9-a280-442e-ac55-52c7fd9144dc",
   "metadata": {},
   "source": [
    "Get the `zipcode` as the last element in `split`"
   ]
  },
  {
   "cell_type": "code",
   "execution_count": null,
   "id": "ecc2d2b2-ae46-4d2e-aae5-91edbfcd5c28",
   "metadata": {},
   "outputs": [],
   "source": []
  },
  {
   "cell_type": "markdown",
   "id": "a2ff64ca-8fb7-4390-b074-55145ccf80e3",
   "metadata": {},
   "source": [
    "### Exercise 2\n",
    "\n",
    "Create a `DataFrame` from the Spotify data"
   ]
  },
  {
   "cell_type": "code",
   "execution_count": null,
   "id": "ee82026a-2462-4700-aba9-5c5ab3655bf2",
   "metadata": {},
   "outputs": [],
   "source": [
    "pl.Config.set_fmt_str_lengths(100)\n",
    "pl.Config.set_tbl_rows(10)\n",
    "spotify_csv = \"../data/spotify-charts-2017-2021-global-top200.csv.gz\"\n",
    "spotify_df = pl.read_csv(spotify_csv,try_parse_dates=True)\n",
    "spotify_df.head(3)"
   ]
  },
  {
   "cell_type": "markdown",
   "id": "68967c70-f3d6-4298-b104-1e2710a9656e",
   "metadata": {},
   "source": [
    "- Keep one row for each unique track (with uniqueness defined by the title and artist columns)\n",
    "- Create a list column called `artists` by splitting the `artist` column"
   ]
  },
  {
   "cell_type": "code",
   "execution_count": null,
   "id": "2564b439-0ac0-432d-9594-23a81f43ae8d",
   "metadata": {},
   "outputs": [],
   "source": [
    "(\n",
    "    spotify_df\n",
    "    .unique(<blank>)\n",
    "    .with_columns(<blank>)\n",
    "    .select(\"title\",\"rank\",\"date\",\"artist\",\"artists\",\"streams\")\n",
    ")"
   ]
  },
  {
   "cell_type": "markdown",
   "id": "b2e8cb38-e2d1-43a4-920c-8a701de7dbad",
   "metadata": {},
   "source": [
    "Continue by finding the 10 tracks with the most number of artists \n",
    "\n",
    "This can be done with a `sort` but recall a faster method to find the largest values introduced in the Sorting lecture in Section 3"
   ]
  },
  {
   "cell_type": "code",
   "execution_count": null,
   "id": "98189772-cae3-48b8-b704-c33393096a63",
   "metadata": {},
   "outputs": [],
   "source": []
  },
  {
   "cell_type": "markdown",
   "id": "a1c0e4d9-3179-4082-ae98-9049d2809125",
   "metadata": {},
   "source": [
    "Apply a `pl.Config` setting to ensure we can read all of the list elements and then display the results again"
   ]
  },
  {
   "cell_type": "code",
   "execution_count": null,
   "id": "ee0b974b-632e-48e4-b48c-8d2df8107dd6",
   "metadata": {},
   "outputs": [],
   "source": []
  },
  {
   "cell_type": "markdown",
   "id": "eeb4406d-5d40-45f9-9c0c-8bce8b69d8d7",
   "metadata": {},
   "source": [
    "Create a new column called `lead_artist` with the first listed artist from each list. Return only the `title`,`artist` and `lead_artist` columns"
   ]
  },
  {
   "cell_type": "code",
   "execution_count": null,
   "id": "0603a0c7-2b69-4301-b3d8-f711921776fc",
   "metadata": {},
   "outputs": [],
   "source": [
    "(\n",
    "    spotify_df\n",
    "    <blank>\n",
    ")"
   ]
  },
  {
   "cell_type": "markdown",
   "id": "f980bf86-a9ae-4ba8-b3fb-61fa4c81dc55",
   "metadata": {},
   "source": [
    "Get the top 10 artists ranked by their maximum number of streams for a track\n",
    "- Explode the `artists` list column so each artist is on their own row\n",
    "- Group by the exploded artists\n",
    "- Aggregate to get the maximum of the `streams`\n",
    "\n",
    "If you are not familar with `group_by` then come back to this exercise after Section 5 of the course"
   ]
  },
  {
   "cell_type": "code",
   "execution_count": null,
   "id": "825155dc-4dae-4fa4-8e26-32f4add2f880",
   "metadata": {},
   "outputs": [],
   "source": []
  },
  {
   "cell_type": "markdown",
   "id": "d6f567dd-0be8-4f8e-9d01-b3679b013ad9",
   "metadata": {},
   "source": [
    "## Solutions\n",
    "### Solution to exercise 1\n",
    "We need to parse the following address strings to get columns with the:\n",
    "- number\n",
    "- street\n",
    "- city\n",
    "- state\n",
    "- zipcode"
   ]
  },
  {
   "cell_type": "code",
   "execution_count": 27,
   "id": "799027fd-a906-4ab5-b083-0aee5a2bfa3f",
   "metadata": {
    "ExecuteTime": {
     "end_time": "2024-03-05T12:41:42.683928600Z",
     "start_time": "2024-03-05T12:41:42.630926100Z"
    }
   },
   "outputs": [
    {
     "data": {
      "text/plain": "shape: (3, 1)\n┌─────────────────────────────────────────┐\n│ address                                 │\n│ ---                                     │\n│ str                                     │\n╞═════════════════════════════════════════╡\n│ 93 NORTH 9TH STREET, BROOKLYN NY 11211  │\n│ 380 WESTMINSTER ST, PROVIDENCE RI 02903 │\n│ 177 MAIN STREET, LITTLETON NH 03561     │\n└─────────────────────────────────────────┘",
      "text/html": "<div><style>\n.dataframe > thead > tr,\n.dataframe > tbody > tr {\n  text-align: right;\n  white-space: pre-wrap;\n}\n</style>\n<small>shape: (3, 1)</small><table border=\"1\" class=\"dataframe\"><thead><tr><th>address</th></tr><tr><td>str</td></tr></thead><tbody><tr><td>&quot;93 NORTH 9TH STREET, BROOKLYN NY 11211&quot;</td></tr><tr><td>&quot;380 WESTMINSTER ST, PROVIDENCE RI 02903&quot;</td></tr><tr><td>&quot;177 MAIN STREET, LITTLETON NH 03561&quot;</td></tr></tbody></table></div>"
     },
     "execution_count": 27,
     "metadata": {},
     "output_type": "execute_result"
    }
   ],
   "source": [
    "pl.Config.set_fmt_str_lengths(150)\n",
    "addresses = [\n",
    "    '93 NORTH 9TH STREET, BROOKLYN NY 11211',\n",
    "    '380 WESTMINSTER ST, PROVIDENCE RI 02903',\n",
    "    '177 MAIN STREET, LITTLETON NH 03561'\n",
    "]\n",
    "df = (\n",
    "    pl.DataFrame(\n",
    "        {\"address\":addresses}\n",
    "    )\n",
    ")\n",
    "df"
   ]
  },
  {
   "cell_type": "markdown",
   "id": "d84184ff-6643-43dd-bd44-7375f429cb9c",
   "metadata": {},
   "source": [
    "Add a column called `split` with the string split by whitespace (using `str.split`) into a list column"
   ]
  },
  {
   "cell_type": "code",
   "execution_count": 28,
   "id": "cd02c547-04b4-476f-8675-4c06231e8e60",
   "metadata": {
    "jupyter": {
     "source_hidden": true
    },
    "tags": [],
    "ExecuteTime": {
     "end_time": "2024-03-05T12:41:55.755555200Z",
     "start_time": "2024-03-05T12:41:55.725557200Z"
    }
   },
   "outputs": [
    {
     "data": {
      "text/plain": "shape: (3, 2)\n┌─────────────────────────────────────────┬────────────────────────────────────────────────────────┐\n│ address                                 ┆ split                                                  │\n│ ---                                     ┆ ---                                                    │\n│ str                                     ┆ list[str]                                              │\n╞═════════════════════════════════════════╪════════════════════════════════════════════════════════╡\n│ 93 NORTH 9TH STREET, BROOKLYN NY 11211  ┆ [\"93\", \"NORTH\", \"9TH\", \"STREET,\", \"BROOKLYN\", …        │\n│                                         ┆ \"11211\"]                                               │\n│ 380 WESTMINSTER ST, PROVIDENCE RI 02903 ┆ [\"380\", \"WESTMINSTER\", \"ST,\", \"PROVIDENCE\", \"RI\",      │\n│                                         ┆ \"02903\"]                                               │\n│ 177 MAIN STREET, LITTLETON NH 03561     ┆ [\"177\", \"MAIN\", \"STREET,\", \"LITTLETON\", \"NH\", \"03561\"] │\n└─────────────────────────────────────────┴────────────────────────────────────────────────────────┘",
      "text/html": "<div><style>\n.dataframe > thead > tr,\n.dataframe > tbody > tr {\n  text-align: right;\n  white-space: pre-wrap;\n}\n</style>\n<small>shape: (3, 2)</small><table border=\"1\" class=\"dataframe\"><thead><tr><th>address</th><th>split</th></tr><tr><td>str</td><td>list[str]</td></tr></thead><tbody><tr><td>&quot;93 NORTH 9TH STREET, BROOKLYN NY 11211&quot;</td><td>[&quot;93&quot;, &quot;NORTH&quot;, &quot;9TH&quot;, &quot;STREET,&quot;, &quot;BROOKLYN&quot;, … &quot;11211&quot;]</td></tr><tr><td>&quot;380 WESTMINSTER ST, PROVIDENCE RI 02903&quot;</td><td>[&quot;380&quot;, &quot;WESTMINSTER&quot;, &quot;ST,&quot;, &quot;PROVIDENCE&quot;, &quot;RI&quot;, &quot;02903&quot;]</td></tr><tr><td>&quot;177 MAIN STREET, LITTLETON NH 03561&quot;</td><td>[&quot;177&quot;, &quot;MAIN&quot;, &quot;STREET,&quot;, &quot;LITTLETON&quot;, &quot;NH&quot;, &quot;03561&quot;]</td></tr></tbody></table></div>"
     },
     "execution_count": 28,
     "metadata": {},
     "output_type": "execute_result"
    }
   ],
   "source": [
    "(\n",
    "    df\n",
    "    .with_columns(\n",
    "        pl.col(\"address\").str.split(\" \").alias(\"split\")\n",
    "    )\n",
    ")"
   ]
  },
  {
   "cell_type": "markdown",
   "id": "8369ea43-2538-4c6a-b01c-bb9410817403",
   "metadata": {},
   "source": [
    "Add a 32-bit integer column called `number` using the `first` element of each list"
   ]
  },
  {
   "cell_type": "code",
   "execution_count": 29,
   "id": "33ae204c-ee55-4b43-a4a0-151533302383",
   "metadata": {
    "jupyter": {
     "source_hidden": true
    },
    "tags": [],
    "ExecuteTime": {
     "end_time": "2024-03-05T12:42:02.229450100Z",
     "start_time": "2024-03-05T12:42:02.132453800Z"
    }
   },
   "outputs": [
    {
     "data": {
      "text/plain": "shape: (3, 3)\n┌─────────────────────────────────────────┬───────────────────────────────────────────────┬────────┐\n│ address                                 ┆ split                                         ┆ number │\n│ ---                                     ┆ ---                                           ┆ ---    │\n│ str                                     ┆ list[str]                                     ┆ i32    │\n╞═════════════════════════════════════════╪═══════════════════════════════════════════════╪════════╡\n│ 93 NORTH 9TH STREET, BROOKLYN NY 11211  ┆ [\"93\", \"NORTH\", \"9TH\", \"STREET,\", \"BROOKLYN\", ┆ 93     │\n│                                         ┆ … \"11211\"]                                    ┆        │\n│ 380 WESTMINSTER ST, PROVIDENCE RI 02903 ┆ [\"380\", \"WESTMINSTER\", \"ST,\", \"PROVIDENCE\",   ┆ 380    │\n│                                         ┆ \"RI\", \"02903\"]                                ┆        │\n│ 177 MAIN STREET, LITTLETON NH 03561     ┆ [\"177\", \"MAIN\", \"STREET,\", \"LITTLETON\", \"NH\", ┆ 177    │\n│                                         ┆ \"03561\"]                                      ┆        │\n└─────────────────────────────────────────┴───────────────────────────────────────────────┴────────┘",
      "text/html": "<div><style>\n.dataframe > thead > tr,\n.dataframe > tbody > tr {\n  text-align: right;\n  white-space: pre-wrap;\n}\n</style>\n<small>shape: (3, 3)</small><table border=\"1\" class=\"dataframe\"><thead><tr><th>address</th><th>split</th><th>number</th></tr><tr><td>str</td><td>list[str]</td><td>i32</td></tr></thead><tbody><tr><td>&quot;93 NORTH 9TH STREET, BROOKLYN NY 11211&quot;</td><td>[&quot;93&quot;, &quot;NORTH&quot;, &quot;9TH&quot;, &quot;STREET,&quot;, &quot;BROOKLYN&quot;, … &quot;11211&quot;]</td><td>93</td></tr><tr><td>&quot;380 WESTMINSTER ST, PROVIDENCE RI 02903&quot;</td><td>[&quot;380&quot;, &quot;WESTMINSTER&quot;, &quot;ST,&quot;, &quot;PROVIDENCE&quot;, &quot;RI&quot;, &quot;02903&quot;]</td><td>380</td></tr><tr><td>&quot;177 MAIN STREET, LITTLETON NH 03561&quot;</td><td>[&quot;177&quot;, &quot;MAIN&quot;, &quot;STREET,&quot;, &quot;LITTLETON&quot;, &quot;NH&quot;, &quot;03561&quot;]</td><td>177</td></tr></tbody></table></div>"
     },
     "execution_count": 29,
     "metadata": {},
     "output_type": "execute_result"
    }
   ],
   "source": [
    "(\n",
    "    df\n",
    "    .with_columns(\n",
    "        pl.col(\"address\").str.split(\" \").alias(\"split\")\n",
    "    )\n",
    "    .with_columns(\n",
    "        pl.col(\"split\").list.first().cast(pl.Int32).alias(\"number\")\n",
    "    )\n",
    ")"
   ]
  },
  {
   "cell_type": "markdown",
   "id": "0f8dacc1-4c2e-4112-a45c-c1e401a38744",
   "metadata": {},
   "source": [
    "The street component of the address runs from the second element of the list to the element of the list that contains a comma.\n",
    "\n",
    "Add a list column called `contains_comma` where we check if each element in the lists in `split` contain a comma. Use `eval` to run the `str.contains` expression on each element in the list"
   ]
  },
  {
   "cell_type": "code",
   "execution_count": 30,
   "id": "111278cc-3f60-49d2-93b5-ac707af84001",
   "metadata": {
    "jupyter": {
     "source_hidden": true
    },
    "tags": [],
    "ExecuteTime": {
     "end_time": "2024-03-05T12:42:15.215907400Z",
     "start_time": "2024-03-05T12:42:15.155874400Z"
    }
   },
   "outputs": [
    {
     "data": {
      "text/plain": "shape: (3, 4)\n┌─────────────────────────────┬─────────────────────────────┬────────┬─────────────────────────────┐\n│ address                     ┆ split                       ┆ number ┆ contains_comma              │\n│ ---                         ┆ ---                         ┆ ---    ┆ ---                         │\n│ str                         ┆ list[str]                   ┆ i64    ┆ list[bool]                  │\n╞═════════════════════════════╪═════════════════════════════╪════════╪═════════════════════════════╡\n│ 93 NORTH 9TH STREET,        ┆ [\"93\", \"NORTH\", \"9TH\",      ┆ 93     ┆ [false, false, false, true, │\n│ BROOKLYN NY 11211           ┆ \"STREET,\", \"BROOKLYN\", …    ┆        ┆ false, … false]             │\n│                             ┆ \"11211\"]                    ┆        ┆                             │\n│ 380 WESTMINSTER ST,         ┆ [\"380\", \"WESTMINSTER\",      ┆ 380    ┆ [false, false, true, false, │\n│ PROVIDENCE RI 02903         ┆ \"ST,\", \"PROVIDENCE\", \"RI\",  ┆        ┆ false, false]               │\n│                             ┆ \"02903\"]                    ┆        ┆                             │\n│ 177 MAIN STREET, LITTLETON  ┆ [\"177\", \"MAIN\", \"STREET,\",  ┆ 177    ┆ [false, false, true, false, │\n│ NH 03561                    ┆ \"LITTLETON\", \"NH\", \"03561\"] ┆        ┆ false, false]               │\n└─────────────────────────────┴─────────────────────────────┴────────┴─────────────────────────────┘",
      "text/html": "<div><style>\n.dataframe > thead > tr,\n.dataframe > tbody > tr {\n  text-align: right;\n  white-space: pre-wrap;\n}\n</style>\n<small>shape: (3, 4)</small><table border=\"1\" class=\"dataframe\"><thead><tr><th>address</th><th>split</th><th>number</th><th>contains_comma</th></tr><tr><td>str</td><td>list[str]</td><td>i64</td><td>list[bool]</td></tr></thead><tbody><tr><td>&quot;93 NORTH 9TH STREET, BROOKLYN NY 11211&quot;</td><td>[&quot;93&quot;, &quot;NORTH&quot;, &quot;9TH&quot;, &quot;STREET,&quot;, &quot;BROOKLYN&quot;, … &quot;11211&quot;]</td><td>93</td><td>[false, false, false, true, false, … false]</td></tr><tr><td>&quot;380 WESTMINSTER ST, PROVIDENCE RI 02903&quot;</td><td>[&quot;380&quot;, &quot;WESTMINSTER&quot;, &quot;ST,&quot;, &quot;PROVIDENCE&quot;, &quot;RI&quot;, &quot;02903&quot;]</td><td>380</td><td>[false, false, true, false, false, false]</td></tr><tr><td>&quot;177 MAIN STREET, LITTLETON NH 03561&quot;</td><td>[&quot;177&quot;, &quot;MAIN&quot;, &quot;STREET,&quot;, &quot;LITTLETON&quot;, &quot;NH&quot;, &quot;03561&quot;]</td><td>177</td><td>[false, false, true, false, false, false]</td></tr></tbody></table></div>"
     },
     "execution_count": 30,
     "metadata": {},
     "output_type": "execute_result"
    }
   ],
   "source": [
    "(\n",
    "    df\n",
    "    .with_columns(\n",
    "        pl.col(\"address\").str.split(\" \").alias(\"split\")\n",
    "    )\n",
    "    .with_columns(\n",
    "        [\n",
    "            pl.col(\"split\").list.first().cast(pl.Int64).alias(\"number\"),\n",
    "            pl.col(\"split\").list.eval(\n",
    "                pl.element().str.contains(\",\")\n",
    "            ).alias(\"contains_comma\")\n",
    "        ]\n",
    "    )\n",
    ")"
   ]
  },
  {
   "cell_type": "markdown",
   "id": "455ccd5a-47e8-44aa-b09a-1395d49437c3",
   "metadata": {},
   "source": [
    "With a new call to `with_column` slice each list in `split` from the second element to the index of the element that contains a comma.\n",
    "\n",
    "Hint 1: there is an `list.arg_max` expression that finds the index of the largest value in an list. Use this to find the index of the `True` value in `contains_comma`"
   ]
  },
  {
   "cell_type": "code",
   "execution_count": 31,
   "id": "4ca5596d-f8d5-4f1c-8b9e-57456296918e",
   "metadata": {
    "jupyter": {
     "source_hidden": true
    },
    "ExecuteTime": {
     "end_time": "2024-03-05T12:42:48.757218Z",
     "start_time": "2024-03-05T12:42:48.736183200Z"
    }
   },
   "outputs": [
    {
     "data": {
      "text/plain": "shape: (2, 2)\n┌───────────┬─────────┐\n│ values    ┆ arg_max │\n│ ---       ┆ ---     │\n│ list[i64] ┆ u32     │\n╞═══════════╪═════════╡\n│ [0, 1]    ┆ 1       │\n│ [3, 2]    ┆ 0       │\n└───────────┴─────────┘",
      "text/html": "<div><style>\n.dataframe > thead > tr,\n.dataframe > tbody > tr {\n  text-align: right;\n  white-space: pre-wrap;\n}\n</style>\n<small>shape: (2, 2)</small><table border=\"1\" class=\"dataframe\"><thead><tr><th>values</th><th>arg_max</th></tr><tr><td>list[i64]</td><td>u32</td></tr></thead><tbody><tr><td>[0, 1]</td><td>1</td></tr><tr><td>[3, 2]</td><td>0</td></tr></tbody></table></div>"
     },
     "execution_count": 31,
     "metadata": {},
     "output_type": "execute_result"
    }
   ],
   "source": [
    "(\n",
    "    pl.DataFrame(\n",
    "        {\n",
    "            \"values\":\n",
    "            [\n",
    "                [0,1],\n",
    "                [3,2]\n",
    "            ]\n",
    "        }\n",
    "    )\n",
    "    .with_columns(\n",
    "        pl.col(\"values\").list.arg_max().alias(\"arg_max\")\n",
    "    )\n",
    ")"
   ]
  },
  {
   "cell_type": "markdown",
   "id": "8ea760cc-979f-4cda-8275-02afa2baaad3",
   "metadata": {},
   "source": [
    "Hint 2: you can pass an expression to `list.slice` if you want the `slice` to depend on values in another column"
   ]
  },
  {
   "cell_type": "code",
   "execution_count": 32,
   "id": "5fa8bff5-99df-44a4-909b-aaefacc75d80",
   "metadata": {
    "jupyter": {
     "source_hidden": true
    },
    "tags": [],
    "ExecuteTime": {
     "end_time": "2024-03-05T12:43:18.806186400Z",
     "start_time": "2024-03-05T12:43:18.784187Z"
    }
   },
   "outputs": [
    {
     "data": {
      "text/plain": "shape: (3, 5)\n┌──────────────────────┬──────────────────────┬────────┬─────────────────────┬─────────────────────┐\n│ address              ┆ split                ┆ number ┆ contains_comma      ┆ street              │\n│ ---                  ┆ ---                  ┆ ---    ┆ ---                 ┆ ---                 │\n│ str                  ┆ list[str]            ┆ i32    ┆ list[bool]          ┆ list[str]           │\n╞══════════════════════╪══════════════════════╪════════╪═════════════════════╪═════════════════════╡\n│ 93 NORTH 9TH STREET, ┆ [\"93\", \"NORTH\",      ┆ 93     ┆ [false, false,      ┆ [\"NORTH\", \"9TH\",    │\n│ BROOKLYN NY 11211    ┆ \"9TH\", \"STREET,\",    ┆        ┆ false, true, false, ┆ \"STREET,\"]          │\n│                      ┆ \"BROOKLYN\", …        ┆        ┆ … false]            ┆                     │\n│                      ┆ \"11211\"]             ┆        ┆                     ┆                     │\n│ 380 WESTMINSTER ST,  ┆ [\"380\",              ┆ 380    ┆ [false, false,      ┆ [\"WESTMINSTER\",     │\n│ PROVIDENCE RI 02903  ┆ \"WESTMINSTER\",       ┆        ┆ true, false, false, ┆ \"ST,\"]              │\n│                      ┆ \"ST,\", \"PROVIDENCE\", ┆        ┆ false]              ┆                     │\n│                      ┆ \"RI\", \"02903\"]       ┆        ┆                     ┆                     │\n│ 177 MAIN STREET,     ┆ [\"177\", \"MAIN\",      ┆ 177    ┆ [false, false,      ┆ [\"MAIN\", \"STREET,\"] │\n│ LITTLETON NH 03561   ┆ \"STREET,\",           ┆        ┆ true, false, false, ┆                     │\n│                      ┆ \"LITTLETON\", \"NH\",   ┆        ┆ false]              ┆                     │\n│                      ┆ \"03561\"]             ┆        ┆                     ┆                     │\n└──────────────────────┴──────────────────────┴────────┴─────────────────────┴─────────────────────┘",
      "text/html": "<div><style>\n.dataframe > thead > tr,\n.dataframe > tbody > tr {\n  text-align: right;\n  white-space: pre-wrap;\n}\n</style>\n<small>shape: (3, 5)</small><table border=\"1\" class=\"dataframe\"><thead><tr><th>address</th><th>split</th><th>number</th><th>contains_comma</th><th>street</th></tr><tr><td>str</td><td>list[str]</td><td>i32</td><td>list[bool]</td><td>list[str]</td></tr></thead><tbody><tr><td>&quot;93 NORTH 9TH STREET, BROOKLYN NY 11211&quot;</td><td>[&quot;93&quot;, &quot;NORTH&quot;, &quot;9TH&quot;, &quot;STREET,&quot;, &quot;BROOKLYN&quot;, … &quot;11211&quot;]</td><td>93</td><td>[false, false, false, true, false, … false]</td><td>[&quot;NORTH&quot;, &quot;9TH&quot;, &quot;STREET,&quot;]</td></tr><tr><td>&quot;380 WESTMINSTER ST, PROVIDENCE RI 02903&quot;</td><td>[&quot;380&quot;, &quot;WESTMINSTER&quot;, &quot;ST,&quot;, &quot;PROVIDENCE&quot;, &quot;RI&quot;, &quot;02903&quot;]</td><td>380</td><td>[false, false, true, false, false, false]</td><td>[&quot;WESTMINSTER&quot;, &quot;ST,&quot;]</td></tr><tr><td>&quot;177 MAIN STREET, LITTLETON NH 03561&quot;</td><td>[&quot;177&quot;, &quot;MAIN&quot;, &quot;STREET,&quot;, &quot;LITTLETON&quot;, &quot;NH&quot;, &quot;03561&quot;]</td><td>177</td><td>[false, false, true, false, false, false]</td><td>[&quot;MAIN&quot;, &quot;STREET,&quot;]</td></tr></tbody></table></div>"
     },
     "execution_count": 32,
     "metadata": {},
     "output_type": "execute_result"
    }
   ],
   "source": [
    "(\n",
    "    df\n",
    "    .with_columns(\n",
    "        pl.col(\"address\").str.split(\" \").alias(\"split\")\n",
    "    )\n",
    "    .with_columns(\n",
    "        [\n",
    "            pl.col(\"split\").list.first().cast(pl.Int32).alias(\"number\"),\n",
    "            pl.col(\"split\").list.eval(pl.element().str.contains(\",\")).alias(\"contains_comma\")\n",
    "        ]\n",
    "    )\n",
    "    .with_columns(\n",
    "        pl.col(\"split\").list.slice(1,pl.col(\"contains_comma\").list.arg_max()).alias(\"street\")\n",
    "    )\n",
    "    \n",
    ")"
   ]
  },
  {
   "cell_type": "markdown",
   "id": "b76db936-248b-4829-84be-ec9a0b9b5c09",
   "metadata": {},
   "source": [
    "Join the string lists in `street` using `list.join` (with a \" \" separating the strings)"
   ]
  },
  {
   "cell_type": "code",
   "execution_count": 33,
   "id": "c788d9c5-b61c-4a54-913c-3caec0dd8d07",
   "metadata": {
    "jupyter": {
     "source_hidden": true
    },
    "tags": [],
    "ExecuteTime": {
     "end_time": "2024-03-05T12:44:18.825230500Z",
     "start_time": "2024-03-05T12:44:18.750090800Z"
    }
   },
   "outputs": [
    {
     "data": {
      "text/plain": "shape: (3, 5)\n┌───────────────────────┬──────────────────────┬────────┬──────────────────────┬───────────────────┐\n│ address               ┆ split                ┆ number ┆ contains_comma       ┆ street            │\n│ ---                   ┆ ---                  ┆ ---    ┆ ---                  ┆ ---               │\n│ str                   ┆ list[str]            ┆ i32    ┆ list[bool]           ┆ str               │\n╞═══════════════════════╪══════════════════════╪════════╪══════════════════════╪═══════════════════╡\n│ 93 NORTH 9TH STREET,  ┆ [\"93\", \"NORTH\",      ┆ 93     ┆ [false, false,       ┆ NORTH 9TH STREET, │\n│ BROOKLYN NY 11211     ┆ \"9TH\", \"STREET,\",    ┆        ┆ false, true, false,  ┆                   │\n│                       ┆ \"BROOKLYN\", …        ┆        ┆ … false]             ┆                   │\n│                       ┆ \"11211\"]             ┆        ┆                      ┆                   │\n│ 380 WESTMINSTER ST,   ┆ [\"380\",              ┆ 380    ┆ [false, false, true, ┆ WESTMINSTER ST,   │\n│ PROVIDENCE RI 02903   ┆ \"WESTMINSTER\",       ┆        ┆ false, false, false] ┆                   │\n│                       ┆ \"ST,\", \"PROVIDENCE\", ┆        ┆                      ┆                   │\n│                       ┆ \"RI\", \"02903\"]       ┆        ┆                      ┆                   │\n│ 177 MAIN STREET,      ┆ [\"177\", \"MAIN\",      ┆ 177    ┆ [false, false, true, ┆ MAIN STREET,      │\n│ LITTLETON NH 03561    ┆ \"STREET,\",           ┆        ┆ false, false, false] ┆                   │\n│                       ┆ \"LITTLETON\", \"NH\",   ┆        ┆                      ┆                   │\n│                       ┆ \"03561\"]             ┆        ┆                      ┆                   │\n└───────────────────────┴──────────────────────┴────────┴──────────────────────┴───────────────────┘",
      "text/html": "<div><style>\n.dataframe > thead > tr,\n.dataframe > tbody > tr {\n  text-align: right;\n  white-space: pre-wrap;\n}\n</style>\n<small>shape: (3, 5)</small><table border=\"1\" class=\"dataframe\"><thead><tr><th>address</th><th>split</th><th>number</th><th>contains_comma</th><th>street</th></tr><tr><td>str</td><td>list[str]</td><td>i32</td><td>list[bool]</td><td>str</td></tr></thead><tbody><tr><td>&quot;93 NORTH 9TH STREET, BROOKLYN NY 11211&quot;</td><td>[&quot;93&quot;, &quot;NORTH&quot;, &quot;9TH&quot;, &quot;STREET,&quot;, &quot;BROOKLYN&quot;, … &quot;11211&quot;]</td><td>93</td><td>[false, false, false, true, false, … false]</td><td>&quot;NORTH 9TH STREET,&quot;</td></tr><tr><td>&quot;380 WESTMINSTER ST, PROVIDENCE RI 02903&quot;</td><td>[&quot;380&quot;, &quot;WESTMINSTER&quot;, &quot;ST,&quot;, &quot;PROVIDENCE&quot;, &quot;RI&quot;, &quot;02903&quot;]</td><td>380</td><td>[false, false, true, false, false, false]</td><td>&quot;WESTMINSTER ST,&quot;</td></tr><tr><td>&quot;177 MAIN STREET, LITTLETON NH 03561&quot;</td><td>[&quot;177&quot;, &quot;MAIN&quot;, &quot;STREET,&quot;, &quot;LITTLETON&quot;, &quot;NH&quot;, &quot;03561&quot;]</td><td>177</td><td>[false, false, true, false, false, false]</td><td>&quot;MAIN STREET,&quot;</td></tr></tbody></table></div>"
     },
     "execution_count": 33,
     "metadata": {},
     "output_type": "execute_result"
    }
   ],
   "source": [
    "(\n",
    "    df\n",
    "    .with_columns(\n",
    "        pl.col(\"address\").str.split(\" \").alias(\"split\")\n",
    "    )\n",
    "    .with_columns(\n",
    "        [\n",
    "            pl.col(\"split\").list.first().cast(pl.Int32).alias(\"number\"),\n",
    "            pl.col(\"split\").list.eval(pl.element().str.contains(\",\")).alias(\"contains_comma\")\n",
    "        ]\n",
    "    )\n",
    "    .with_columns(\n",
    "        pl.col(\"split\").list.slice(1,pl.col(\"contains_comma\").list.arg_max()).list.join(\" \").alias(\"street\")\n",
    "    )\n",
    "    \n",
    ")"
   ]
  },
  {
   "cell_type": "markdown",
   "id": "4a976cfb-fb1e-42d7-b1fd-e1226eea91bc",
   "metadata": {},
   "source": [
    "Extract the `city` from `split` by slicing. The slice should start from the `arg_max` value in `contains_command` and have a length of 1 (here we are taking advantage of 3 one word city names!)"
   ]
  },
  {
   "cell_type": "code",
   "execution_count": 34,
   "id": "b45b351b-6438-48f3-b2ef-8b24a070ec28",
   "metadata": {
    "jupyter": {
     "source_hidden": true
    },
    "tags": [],
    "ExecuteTime": {
     "end_time": "2024-03-05T12:44:49.312268200Z",
     "start_time": "2024-03-05T12:44:49.188114Z"
    }
   },
   "outputs": [
    {
     "data": {
      "text/plain": "shape: (3, 6)\n┌──────────────────┬─────────────────┬────────┬─────────────────┬─────────────────┬────────────────┐\n│ address          ┆ split           ┆ number ┆ contains_comma  ┆ street          ┆ city           │\n│ ---              ┆ ---             ┆ ---    ┆ ---             ┆ ---             ┆ ---            │\n│ str              ┆ list[str]       ┆ i32    ┆ list[bool]      ┆ str             ┆ list[str]      │\n╞══════════════════╪═════════════════╪════════╪═════════════════╪═════════════════╪════════════════╡\n│ 93 NORTH 9TH     ┆ [\"93\", \"NORTH\", ┆ 93     ┆ [false, false,  ┆ NORTH 9TH       ┆ [\"BROOKLYN\"]   │\n│ STREET, BROOKLYN ┆ \"9TH\",          ┆        ┆ false, true,    ┆ STREET,         ┆                │\n│ NY 11211         ┆ \"STREET,\",      ┆        ┆ false, … false] ┆                 ┆                │\n│                  ┆ \"BROOKLYN\", …   ┆        ┆                 ┆                 ┆                │\n│                  ┆ \"11211\"]        ┆        ┆                 ┆                 ┆                │\n│ 380 WESTMINSTER  ┆ [\"380\",         ┆ 380    ┆ [false, false,  ┆ WESTMINSTER ST, ┆ [\"PROVIDENCE\"] │\n│ ST, PROVIDENCE   ┆ \"WESTMINSTER\",  ┆        ┆ true, false,    ┆                 ┆                │\n│ RI 02903         ┆ \"ST,\",          ┆        ┆ false, false]   ┆                 ┆                │\n│                  ┆ \"PROVIDENCE\",   ┆        ┆                 ┆                 ┆                │\n│                  ┆ \"RI\", \"02903\"]  ┆        ┆                 ┆                 ┆                │\n│ 177 MAIN STREET, ┆ [\"177\", \"MAIN\", ┆ 177    ┆ [false, false,  ┆ MAIN STREET,    ┆ [\"LITTLETON\"]  │\n│ LITTLETON NH     ┆ \"STREET,\",      ┆        ┆ true, false,    ┆                 ┆                │\n│ 03561            ┆ \"LITTLETON\",    ┆        ┆ false, false]   ┆                 ┆                │\n│                  ┆ \"NH\", \"03561\"]  ┆        ┆                 ┆                 ┆                │\n└──────────────────┴─────────────────┴────────┴─────────────────┴─────────────────┴────────────────┘",
      "text/html": "<div><style>\n.dataframe > thead > tr,\n.dataframe > tbody > tr {\n  text-align: right;\n  white-space: pre-wrap;\n}\n</style>\n<small>shape: (3, 6)</small><table border=\"1\" class=\"dataframe\"><thead><tr><th>address</th><th>split</th><th>number</th><th>contains_comma</th><th>street</th><th>city</th></tr><tr><td>str</td><td>list[str]</td><td>i32</td><td>list[bool]</td><td>str</td><td>list[str]</td></tr></thead><tbody><tr><td>&quot;93 NORTH 9TH STREET, BROOKLYN NY 11211&quot;</td><td>[&quot;93&quot;, &quot;NORTH&quot;, &quot;9TH&quot;, &quot;STREET,&quot;, &quot;BROOKLYN&quot;, … &quot;11211&quot;]</td><td>93</td><td>[false, false, false, true, false, … false]</td><td>&quot;NORTH 9TH STREET,&quot;</td><td>[&quot;BROOKLYN&quot;]</td></tr><tr><td>&quot;380 WESTMINSTER ST, PROVIDENCE RI 02903&quot;</td><td>[&quot;380&quot;, &quot;WESTMINSTER&quot;, &quot;ST,&quot;, &quot;PROVIDENCE&quot;, &quot;RI&quot;, &quot;02903&quot;]</td><td>380</td><td>[false, false, true, false, false, false]</td><td>&quot;WESTMINSTER ST,&quot;</td><td>[&quot;PROVIDENCE&quot;]</td></tr><tr><td>&quot;177 MAIN STREET, LITTLETON NH 03561&quot;</td><td>[&quot;177&quot;, &quot;MAIN&quot;, &quot;STREET,&quot;, &quot;LITTLETON&quot;, &quot;NH&quot;, &quot;03561&quot;]</td><td>177</td><td>[false, false, true, false, false, false]</td><td>&quot;MAIN STREET,&quot;</td><td>[&quot;LITTLETON&quot;]</td></tr></tbody></table></div>"
     },
     "execution_count": 34,
     "metadata": {},
     "output_type": "execute_result"
    }
   ],
   "source": [
    "(\n",
    "    df\n",
    "    .with_columns(\n",
    "        pl.col(\"address\").str.split(\" \").alias(\"split\")\n",
    "    )\n",
    "    .with_columns(\n",
    "        [\n",
    "            pl.col(\"split\").list.first().cast(pl.Int32).alias(\"number\"),\n",
    "            pl.col(\"split\").list.eval(pl.element().str.contains(\",\")).alias(\"contains_comma\")\n",
    "        ]\n",
    "    )\n",
    "    .with_columns(\n",
    "        pl.col(\"split\").list.slice(1,pl.col(\"contains_comma\").list.arg_max()).list.join(\" \").alias(\"street\")\n",
    "    )\n",
    "    .with_columns(\n",
    "        pl.col(\"split\").list.slice(\n",
    "            pl.col(\"contains_comma\").list.arg_max()+1,1\n",
    "        ).alias(\"city\")\n",
    "    )\n",
    ")"
   ]
  },
  {
   "cell_type": "markdown",
   "id": "5fbabd3c-c2db-4998-9f59-17d1800a0074",
   "metadata": {},
   "source": [
    "Get the `zipcode` as the last element in `split`"
   ]
  },
  {
   "cell_type": "code",
   "execution_count": 36,
   "id": "b66180b2-f58e-4211-b0ba-85214cc85195",
   "metadata": {
    "jupyter": {
     "source_hidden": true
    },
    "tags": [],
    "ExecuteTime": {
     "end_time": "2024-03-05T12:45:56.491471300Z",
     "start_time": "2024-03-05T12:45:56.440464200Z"
    }
   },
   "outputs": [
    {
     "data": {
      "text/plain": "shape: (3, 7)\n┌───────────────┬───────────────┬────────┬───────────────┬───────────────┬───────────────┬─────────┐\n│ address       ┆ split         ┆ number ┆ contains_comm ┆ street        ┆ city          ┆ zipcode │\n│ ---           ┆ ---           ┆ ---    ┆ a             ┆ ---           ┆ ---           ┆ ---     │\n│ str           ┆ list[str]     ┆ i32    ┆ ---           ┆ str           ┆ list[str]     ┆ i32     │\n│               ┆               ┆        ┆ list[bool]    ┆               ┆               ┆         │\n╞═══════════════╪═══════════════╪════════╪═══════════════╪═══════════════╪═══════════════╪═════════╡\n│ 93 NORTH 9TH  ┆ [\"93\",        ┆ 93     ┆ [false,       ┆ NORTH 9TH     ┆ [\"BROOKLYN\"]  ┆ 11211   │\n│ STREET,       ┆ \"NORTH\",      ┆        ┆ false, false, ┆ STREET,       ┆               ┆         │\n│ BROOKLYN NY   ┆ \"9TH\",        ┆        ┆ true, false,  ┆               ┆               ┆         │\n│ 11211         ┆ \"STREET,\",    ┆        ┆ … false]      ┆               ┆               ┆         │\n│               ┆ \"BROOKLYN\", … ┆        ┆               ┆               ┆               ┆         │\n│               ┆ \"11211\"]      ┆        ┆               ┆               ┆               ┆         │\n│ 380           ┆ [\"380\", \"WEST ┆ 380    ┆ [false,       ┆ WESTMINSTER   ┆ [\"PROVIDENCE\" ┆ 2903    │\n│ WESTMINSTER   ┆ MINSTER\",     ┆        ┆ false, true,  ┆ ST,           ┆ ]             ┆         │\n│ ST,           ┆ \"ST,\",        ┆        ┆ false, false, ┆               ┆               ┆         │\n│ PROVIDENCE RI ┆ \"PROVIDENCE\", ┆        ┆ false]        ┆               ┆               ┆         │\n│ 02903         ┆ \"RI\",         ┆        ┆               ┆               ┆               ┆         │\n│               ┆ \"02903\"]      ┆        ┆               ┆               ┆               ┆         │\n│ 177 MAIN      ┆ [\"177\",       ┆ 177    ┆ [false,       ┆ MAIN STREET,  ┆ [\"LITTLETON\"] ┆ 3561    │\n│ STREET,       ┆ \"MAIN\",       ┆        ┆ false, true,  ┆               ┆               ┆         │\n│ LITTLETON NH  ┆ \"STREET,\",    ┆        ┆ false, false, ┆               ┆               ┆         │\n│ 03561         ┆ \"LITTLETON\",  ┆        ┆ false]        ┆               ┆               ┆         │\n│               ┆ \"NH\",         ┆        ┆               ┆               ┆               ┆         │\n│               ┆ \"03561\"]      ┆        ┆               ┆               ┆               ┆         │\n└───────────────┴───────────────┴────────┴───────────────┴───────────────┴───────────────┴─────────┘",
      "text/html": "<div><style>\n.dataframe > thead > tr,\n.dataframe > tbody > tr {\n  text-align: right;\n  white-space: pre-wrap;\n}\n</style>\n<small>shape: (3, 7)</small><table border=\"1\" class=\"dataframe\"><thead><tr><th>address</th><th>split</th><th>number</th><th>contains_comma</th><th>street</th><th>city</th><th>zipcode</th></tr><tr><td>str</td><td>list[str]</td><td>i32</td><td>list[bool]</td><td>str</td><td>list[str]</td><td>i32</td></tr></thead><tbody><tr><td>&quot;93 NORTH 9TH STREET, BROOKLYN NY 11211&quot;</td><td>[&quot;93&quot;, &quot;NORTH&quot;, &quot;9TH&quot;, &quot;STREET,&quot;, &quot;BROOKLYN&quot;, … &quot;11211&quot;]</td><td>93</td><td>[false, false, false, true, false, … false]</td><td>&quot;NORTH 9TH STREET,&quot;</td><td>[&quot;BROOKLYN&quot;]</td><td>11211</td></tr><tr><td>&quot;380 WESTMINSTER ST, PROVIDENCE RI 02903&quot;</td><td>[&quot;380&quot;, &quot;WESTMINSTER&quot;, &quot;ST,&quot;, &quot;PROVIDENCE&quot;, &quot;RI&quot;, &quot;02903&quot;]</td><td>380</td><td>[false, false, true, false, false, false]</td><td>&quot;WESTMINSTER ST,&quot;</td><td>[&quot;PROVIDENCE&quot;]</td><td>2903</td></tr><tr><td>&quot;177 MAIN STREET, LITTLETON NH 03561&quot;</td><td>[&quot;177&quot;, &quot;MAIN&quot;, &quot;STREET,&quot;, &quot;LITTLETON&quot;, &quot;NH&quot;, &quot;03561&quot;]</td><td>177</td><td>[false, false, true, false, false, false]</td><td>&quot;MAIN STREET,&quot;</td><td>[&quot;LITTLETON&quot;]</td><td>3561</td></tr></tbody></table></div>"
     },
     "execution_count": 36,
     "metadata": {},
     "output_type": "execute_result"
    }
   ],
   "source": [
    "(\n",
    "    df\n",
    "    .with_columns(\n",
    "        pl.col(\"address\").str.split(\" \").alias(\"split\")\n",
    "    )\n",
    "    .with_columns(\n",
    "        [\n",
    "            pl.col(\"split\").list.first().cast(pl.Int32).alias(\"number\"),\n",
    "            pl.col(\"split\").list.eval(pl.element().str.contains(\",\")).alias(\"contains_comma\")\n",
    "        ]\n",
    "    )\n",
    "    .with_columns(\n",
    "        pl.col(\"split\").list.slice(1,pl.col(\"contains_comma\").list.arg_max()).list.join(\" \").alias(\"street\")\n",
    "    )\n",
    "    .with_columns(\n",
    "        [\n",
    "            pl.col(\"split\").list.slice(\n",
    "                pl.col(\"contains_comma\").list.arg_max()+1,1\n",
    "            ).alias(\"city\"),\n",
    "            pl.col(\"split\").list.last().cast(pl.Int32).alias(\"zipcode\")\n",
    "        ]\n",
    "    )\n",
    ")"
   ]
  },
  {
   "cell_type": "markdown",
   "id": "a903e68f-adfa-46cf-acb4-0d8d6ac5f57e",
   "metadata": {},
   "source": [
    "### Solution to exercise 2\n",
    "\n",
    "Create a `DataFrame` from the Spotify data"
   ]
  },
  {
   "cell_type": "code",
   "execution_count": null,
   "id": "a09380b7-ddff-4749-8e92-5f956a0a4bb4",
   "metadata": {},
   "outputs": [],
   "source": [
    "pl.Config.set_fmt_str_lengths(100)\n",
    "pl.Config.set_tbl_rows(10)\n",
    "spotify_csv = \"../data/spotify-charts-2017-2021-global-top200.csv.gz\"\n",
    "spotify_df = pl.read_csv(spotify_csv,try_parse_dates=True)\n",
    "spotify_df.head(3)"
   ]
  },
  {
   "cell_type": "markdown",
   "id": "1a4f85cf-476c-41e8-9d81-4c9841992875",
   "metadata": {},
   "source": [
    "- Keep one row for each unique track (defined by the title and artist column)\n",
    "- Create a list column called `artists` by splitting the `artist` column"
   ]
  },
  {
   "cell_type": "code",
   "execution_count": null,
   "id": "361e9779-5ddc-424b-a00f-34eded39fdc8",
   "metadata": {
    "jupyter": {
     "source_hidden": true
    }
   },
   "outputs": [],
   "source": [
    "(\n",
    "    spotify_df\n",
    "    .unique(subset=[\"title\", \"artist\"])\n",
    "    .with_columns(\n",
    "        artists = pl.col(\"artist\").str.split(\",\")\n",
    "    )\n",
    "    .select(\"title\",\"rank\",\"date\",\"artist\",\"artists\",\"streams\")\n",
    ")"
   ]
  },
  {
   "cell_type": "markdown",
   "id": "0dcee35c-d5bc-4652-8899-ab5148371b9c",
   "metadata": {},
   "source": [
    "Continue by finding the 10 tracks with the most number of artists (this can be done with a `sort` but recall a faster method introduced in the Sorting lecture in Section 3)"
   ]
  },
  {
   "cell_type": "code",
   "execution_count": null,
   "id": "4010ef63-7c58-424c-845a-4ddf1e68a708",
   "metadata": {
    "jupyter": {
     "source_hidden": true
    }
   },
   "outputs": [],
   "source": [
    "(\n",
    "    spotify_df\n",
    "    .unique(\"title\")\n",
    "    .with_columns(\n",
    "        artists = pl.col(\"artist\").str.split(\",\")\n",
    "    )\n",
    "    .select(\"title\",\"rank\",\"date\",\"artist\",\"artists\",\"streams\")\n",
    "    .top_k(\n",
    "        k=10,\n",
    "        by=pl.col(\"artists\").list.len()\n",
    "    )\n",
    ")"
   ]
  },
  {
   "cell_type": "markdown",
   "id": "2e748912-d2d9-46f9-8944-06d3dee8a8de",
   "metadata": {},
   "source": [
    "Apply a `pl.Config` setting to ensure we can read all of the list elements and then display the results again"
   ]
  },
  {
   "cell_type": "code",
   "execution_count": null,
   "id": "1c8d859f-34ea-40a1-b0d0-ab0b3b2c6528",
   "metadata": {
    "jupyter": {
     "source_hidden": true
    }
   },
   "outputs": [],
   "source": [
    "pl.Config.set_fmt_table_cell_list_len(20)"
   ]
  },
  {
   "cell_type": "code",
   "execution_count": null,
   "id": "c0fb7051-abab-4431-8821-cacd194bf83b",
   "metadata": {
    "jupyter": {
     "source_hidden": true
    }
   },
   "outputs": [],
   "source": [
    "(\n",
    "    spotify_df\n",
    "    .unique(\"title\")\n",
    "    .with_columns(\n",
    "        artists = pl.col(\"artist\").str.split(\",\")\n",
    "    )\n",
    "    .select(\"title\",\"rank\",\"date\",\"artist\",\"artists\",\"streams\")\n",
    "    .top_k(\n",
    "        k=10,\n",
    "        by=pl.col(\"artists\").list.len()\n",
    "    )\n",
    ")"
   ]
  },
  {
   "cell_type": "markdown",
   "id": "8a83359b-4497-4f16-a18e-9458c065e3f0",
   "metadata": {},
   "source": [
    "Create a new column called `lead_artist` with the first listed artist from each list"
   ]
  },
  {
   "cell_type": "code",
   "execution_count": null,
   "id": "7e047de9-04ba-4e95-8679-70bb91f6e79a",
   "metadata": {
    "jupyter": {
     "source_hidden": true
    }
   },
   "outputs": [],
   "source": [
    "(\n",
    "    spotify_df\n",
    "    .select(\"title\",\"artist\",pl.col(\"artist\").str.split(\",\").list.get(0).alias(\"lead_artist\"))\n",
    ")"
   ]
  },
  {
   "cell_type": "markdown",
   "id": "ed78a96c-872a-48ab-ad0b-073f64401823",
   "metadata": {},
   "source": [
    "Get the top 10 artists ranked by their maximum number of streams for a track\n",
    "- Explode the `artists` list column so each artist is on their own row\n",
    "- Group by the exploded artists\n",
    "- Aggregate to get the maximum of the `streams`\n",
    "\n",
    "If you are not familar with `group_by` then come back to this exercise after Section 5 of the course"
   ]
  },
  {
   "cell_type": "code",
   "execution_count": null,
   "id": "91d0a0b5-44e8-41fa-9b26-49987a7ae927",
   "metadata": {
    "jupyter": {
     "source_hidden": true
    }
   },
   "outputs": [],
   "source": [
    "(\n",
    "    spotify_df\n",
    "    .with_columns(\n",
    "        artists = pl.col(\"artist\").str.split(\",\")\n",
    "    )\n",
    "    .select(\"artists\",\"streams\")\n",
    "    .explode(\"artists\")\n",
    "    .group_by(\"artists\")\n",
    "    .agg(\n",
    "        pl.col(\"streams\").max()\n",
    "    )\n",
    "    .top_k(k=10,by=\"streams\")\n",
    ")"
   ]
  }
 ],
 "metadata": {
  "kernelspec": {
   "display_name": "Python 3 (ipykernel)",
   "language": "python",
   "name": "python3"
  },
  "language_info": {
   "codemirror_mode": {
    "name": "ipython",
    "version": 3
   },
   "file_extension": ".py",
   "mimetype": "text/x-python",
   "name": "python",
   "nbconvert_exporter": "python",
   "pygments_lexer": "ipython3",
   "version": "3.10.1"
  }
 },
 "nbformat": 4,
 "nbformat_minor": 5
}
