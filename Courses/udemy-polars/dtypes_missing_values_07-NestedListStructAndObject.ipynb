{
 "cells": [
  {
   "cell_type": "markdown",
   "id": "674913ae-6d37-4d8f-882c-ae2a95292a43",
   "metadata": {},
   "source": [
    "# Introduction to nested dtypes: List, Array, Object and Struct\n",
    "By the end of this lecture you will be able to:\n",
    "- create columns with List, Array, Struct and Object dtypes\n",
    "- explain the difference between the List, Array, Struct and Object dtypes\n",
    "- unnest the fields in a Struct dtype"
   ]
  },
  {
   "cell_type": "code",
   "execution_count": 1,
   "id": "a350b0f1-ff14-4097-94a2-a4f937b89fcd",
   "metadata": {
    "tags": [],
    "ExecuteTime": {
     "end_time": "2024-03-05T08:52:31.176395300Z",
     "start_time": "2024-03-05T08:52:30.976397800Z"
    }
   },
   "outputs": [],
   "source": [
    "import polars as pl"
   ]
  },
  {
   "cell_type": "markdown",
   "id": "1ff42bce-6d9b-4635-ac5c-5844256c527e",
   "metadata": {},
   "source": [
    "### `pl.List` dtype\n",
    "With a `pl.List` dtype each row is a `Series` and each `Series` has the same dtype.\n",
    "\n",
    "We can create a `pl.List` column manually with a Python `list` *where all elements of the `list` have the same type or can be cast to the same type e.g. `int` to `float`*"
   ]
  },
  {
   "cell_type": "code",
   "execution_count": 2,
   "id": "46320a2a-c0fa-42ed-b647-3b0da5dd9179",
   "metadata": {
    "tags": [],
    "ExecuteTime": {
     "end_time": "2024-03-05T08:53:09.555402900Z",
     "start_time": "2024-03-05T08:53:09.535434100Z"
    }
   },
   "outputs": [
    {
     "data": {
      "text/plain": "shape: (2, 3)\n┌───────────┬────────────┬────────────┐\n│ ints      ┆ floats     ┆ strings    │\n│ ---       ┆ ---        ┆ ---        │\n│ list[i64] ┆ list[f64]  ┆ list[str]  │\n╞═══════════╪════════════╪════════════╡\n│ [0, 1]    ┆ [0.0, 1.0] ┆ [\"0\", \"1\"] │\n│ [2, 3]    ┆ [2.0, 3.0] ┆ [\"2\", \"3\"] │\n└───────────┴────────────┴────────────┘",
      "text/html": "<div><style>\n.dataframe > thead > tr,\n.dataframe > tbody > tr {\n  text-align: right;\n  white-space: pre-wrap;\n}\n</style>\n<small>shape: (2, 3)</small><table border=\"1\" class=\"dataframe\"><thead><tr><th>ints</th><th>floats</th><th>strings</th></tr><tr><td>list[i64]</td><td>list[f64]</td><td>list[str]</td></tr></thead><tbody><tr><td>[0, 1]</td><td>[0.0, 1.0]</td><td>[&quot;0&quot;, &quot;1&quot;]</td></tr><tr><td>[2, 3]</td><td>[2.0, 3.0]</td><td>[&quot;2&quot;, &quot;3&quot;]</td></tr></tbody></table></div>"
     },
     "execution_count": 2,
     "metadata": {},
     "output_type": "execute_result"
    }
   ],
   "source": [
    "df_lists = pl.DataFrame({\n",
    "    'ints':[ \n",
    "        [0,1], \n",
    "        [2,3]\n",
    "    ],\n",
    "    'floats':[ \n",
    "        [0.0,1], \n",
    "        [2,3]\n",
    "    ],\n",
    "    'strings':[ \n",
    "        [\"0\",\"1\"],\n",
    "        [\"2\",\"3\"]\n",
    "    ]\n",
    "})\n",
    "df_lists"
   ]
  },
  {
   "cell_type": "markdown",
   "id": "b494609c-0754-41cd-b89c-2af9ec5cf6cc",
   "metadata": {},
   "source": [
    "We cover the `pl.List` dtype in more detail in the lectures that follow.\n",
    "\n",
    "The `pl.List` dtype can have a variable number of elements per row. There is also a `pl.Array` dtype optimised for cases where all rows have the same number of elements"
   ]
  },
  {
   "cell_type": "code",
   "execution_count": 3,
   "id": "cc7ac87b-736a-4c7b-89db-8084185898e7",
   "metadata": {
    "ExecuteTime": {
     "end_time": "2024-03-05T08:55:36.137615Z",
     "start_time": "2024-03-05T08:55:36.118991900Z"
    }
   },
   "outputs": [
    {
     "data": {
      "text/plain": "shape: (2, 4)\n┌───────────┬────────────┬────────────┬───────────────┐\n│ ints      ┆ floats     ┆ strings    ┆ ints_array    │\n│ ---       ┆ ---        ┆ ---        ┆ ---           │\n│ list[i64] ┆ list[f64]  ┆ list[str]  ┆ array[i64, 2] │\n╞═══════════╪════════════╪════════════╪═══════════════╡\n│ [0, 1]    ┆ [0.0, 1.0] ┆ [\"0\", \"1\"] ┆ [0, 1]        │\n│ [2, 3]    ┆ [2.0, 3.0] ┆ [\"2\", \"3\"] ┆ [2, 3]        │\n└───────────┴────────────┴────────────┴───────────────┘",
      "text/html": "<div><style>\n.dataframe > thead > tr,\n.dataframe > tbody > tr {\n  text-align: right;\n  white-space: pre-wrap;\n}\n</style>\n<small>shape: (2, 4)</small><table border=\"1\" class=\"dataframe\"><thead><tr><th>ints</th><th>floats</th><th>strings</th><th>ints_array</th></tr><tr><td>list[i64]</td><td>list[f64]</td><td>list[str]</td><td>array[i64, 2]</td></tr></thead><tbody><tr><td>[0, 1]</td><td>[0.0, 1.0]</td><td>[&quot;0&quot;, &quot;1&quot;]</td><td>[0, 1]</td></tr><tr><td>[2, 3]</td><td>[2.0, 3.0]</td><td>[&quot;2&quot;, &quot;3&quot;]</td><td>[2, 3]</td></tr></tbody></table></div>"
     },
     "execution_count": 3,
     "metadata": {},
     "output_type": "execute_result"
    }
   ],
   "source": [
    "(\n",
    "    df_lists\n",
    "    .with_columns(\n",
    "        ints_array = pl.col(\"ints\").cast(pl.Array(width=2,inner=pl.Int64))\n",
    "    )\n",
    ")"
   ]
  },
  {
   "cell_type": "markdown",
   "id": "04c44e67-3aa5-41b8-9181-c10460e2fb76",
   "metadata": {},
   "source": [
    "Functionality for the `pl.Array` dtype is still limited so our focus will be on the `pl.List` dtype."
   ]
  },
  {
   "cell_type": "markdown",
   "id": "692bcb62-42e5-45b4-9122-06f645e40ecd",
   "metadata": {},
   "source": [
    "## Object dtype\n",
    "We create a column with an object dtype when the lists cannot be cast to a homogenous type"
   ]
  },
  {
   "cell_type": "code",
   "execution_count": 5,
   "id": "4aa74ae2-26cd-4134-9907-86c36d046e58",
   "metadata": {
    "tags": [],
    "ExecuteTime": {
     "end_time": "2024-03-05T10:27:54.384487800Z",
     "start_time": "2024-03-05T10:27:54.360485900Z"
    }
   },
   "outputs": [
    {
     "data": {
      "text/plain": "shape: (2, 1)\n┌──────────┐\n│ mixed    │\n│ ---      │\n│ object   │\n╞══════════╡\n│ ['a', 0] │\n│ ['b', 1] │\n└──────────┘",
      "text/html": "<div><style>\n.dataframe > thead > tr,\n.dataframe > tbody > tr {\n  text-align: right;\n  white-space: pre-wrap;\n}\n</style>\n<small>shape: (2, 1)</small><table border=\"1\" class=\"dataframe\"><thead><tr><th>mixed</th></tr><tr><td>object</td></tr></thead><tbody><tr><td>[&#x27;a&#x27;, 0]</td></tr><tr><td>[&#x27;b&#x27;, 1]</td></tr></tbody></table></div>"
     },
     "execution_count": 5,
     "metadata": {},
     "output_type": "execute_result"
    }
   ],
   "source": [
    "df_object = pl.DataFrame({\n",
    "    'mixed':[ \n",
    "        ['a',0],\n",
    "        ['b',1]\n",
    "    ]\n",
    "})\n",
    "df_object"
   ]
  },
  {
   "cell_type": "markdown",
   "id": "8fbd34b3-536c-438e-9449-26c6eec556db",
   "metadata": {},
   "source": [
    "The \"list\" on each row in a **`pl.Object`** column is a standard python `list` under the hood."
   ]
  },
  {
   "cell_type": "code",
   "execution_count": 6,
   "id": "2414b21f-1c5b-4e18-b3a8-264ed8168560",
   "metadata": {
    "tags": [],
    "ExecuteTime": {
     "end_time": "2024-03-05T10:27:57.874190100Z",
     "start_time": "2024-03-05T10:27:57.849186100Z"
    }
   },
   "outputs": [
    {
     "data": {
      "text/plain": "['a', 0]"
     },
     "execution_count": 6,
     "metadata": {},
     "output_type": "execute_result"
    }
   ],
   "source": [
    "df_object[0,0]"
   ]
  },
  {
   "cell_type": "code",
   "execution_count": 7,
   "id": "f54466e1-46e9-4a27-810e-d534f73b2c1c",
   "metadata": {
    "tags": [],
    "ExecuteTime": {
     "end_time": "2024-03-05T10:27:58.650345900Z",
     "start_time": "2024-03-05T10:27:58.639345200Z"
    }
   },
   "outputs": [
    {
     "data": {
      "text/plain": "list"
     },
     "execution_count": 7,
     "metadata": {},
     "output_type": "execute_result"
    }
   ],
   "source": [
    "type(df_object[0,0])"
   ]
  },
  {
   "cell_type": "markdown",
   "id": "126e9c0a-862c-43ec-a58f-d220936feb18",
   "metadata": {},
   "source": [
    "Operations on a `pl.Object` column are slow as the operations are working with slow Python `lists` rather than fast Polars `Series`.\n",
    "\n",
    "We generally want to avoid working with a `pl.Object` dtype if possible. For example, it may be better to cast integers to strings to have a string `pl.List` column rather than a `pl.Object` column."
   ]
  },
  {
   "cell_type": "markdown",
   "id": "cb592c46-afdd-4199-9847-a1802a050268",
   "metadata": {},
   "source": [
    "## `pl.Struct` dtype\n",
    "The `pl.Struct` dtype also has a collection of data on each row. The fields of a `pl.Struct` dtype are similar to regular columns of a `DataFrame` but are accessed with nested column titles.\n",
    "\n",
    "We create a `pl.Struct` column by passing a list of `dicts` where:\n",
    "- the `dict` on each row has the same keys\n",
    "- the values for each key on each row have the same dtype"
   ]
  },
  {
   "cell_type": "code",
   "execution_count": 8,
   "id": "9f9012da-8799-4cb4-a54c-2e36b2881c9a",
   "metadata": {
    "tags": [],
    "ExecuteTime": {
     "end_time": "2024-03-05T10:28:35.672995300Z",
     "start_time": "2024-03-05T10:28:35.653583300Z"
    }
   },
   "outputs": [
    {
     "data": {
      "text/plain": "shape: (2, 2)\n┌──────┬─────────────────────┐\n│ year ┆ trades              │\n│ ---  ┆ ---                 │\n│ i64  ┆ struct[3]           │\n╞══════╪═════════════════════╡\n│ 2020 ┆ {\"India\",\"USA\",0.0} │\n│ 2021 ┆ {\"India\",\"USA\",1.5} │\n└──────┴─────────────────────┘",
      "text/html": "<div><style>\n.dataframe > thead > tr,\n.dataframe > tbody > tr {\n  text-align: right;\n  white-space: pre-wrap;\n}\n</style>\n<small>shape: (2, 2)</small><table border=\"1\" class=\"dataframe\"><thead><tr><th>year</th><th>trades</th></tr><tr><td>i64</td><td>struct[3]</td></tr></thead><tbody><tr><td>2020</td><td>{&quot;India&quot;,&quot;USA&quot;,0.0}</td></tr><tr><td>2021</td><td>{&quot;India&quot;,&quot;USA&quot;,1.5}</td></tr></tbody></table></div>"
     },
     "execution_count": 8,
     "metadata": {},
     "output_type": "execute_result"
    }
   ],
   "source": [
    "df_struct = (\n",
    "    pl.DataFrame(\n",
    "        {\n",
    "            \"year\":[2020,2021],\n",
    "            \"trades\":[\n",
    "                {\"exporter\":\"India\",\"importer\":\"USA\",\"quantity\":0.0},\n",
    "                {\"exporter\":\"India\",\"importer\":\"USA\",\"quantity\":1.5},\n",
    "            ]\n",
    "          }\n",
    "    )\n",
    ")\n",
    "df_struct"
   ]
  },
  {
   "cell_type": "markdown",
   "id": "f9a10da1-8586-461e-b638-5791904effa0",
   "metadata": {},
   "source": [
    "The keys in a struct column are called `fields`.\n",
    "\n",
    "We can list the keys with `struct.fields` on a `Series`"
   ]
  },
  {
   "cell_type": "code",
   "execution_count": 9,
   "id": "70029c50-e6a5-452b-abdd-26d0558d0989",
   "metadata": {
    "tags": [],
    "ExecuteTime": {
     "end_time": "2024-03-05T10:28:57.114500300Z",
     "start_time": "2024-03-05T10:28:57.068415900Z"
    }
   },
   "outputs": [
    {
     "data": {
      "text/plain": "['exporter', 'importer', 'quantity']"
     },
     "execution_count": 9,
     "metadata": {},
     "output_type": "execute_result"
    }
   ],
   "source": [
    "df_struct[\"trades\"].struct.fields"
   ]
  },
  {
   "cell_type": "markdown",
   "id": "3b550c6e-dcc2-468f-8346-a611321050f6",
   "metadata": {},
   "source": [
    "## Accessing  `pl.Struct` fields\n",
    "\n",
    "We access fields within a struct column in an expression"
   ]
  },
  {
   "cell_type": "code",
   "execution_count": 10,
   "id": "445af974-1d13-496e-9407-6519705d92ba",
   "metadata": {
    "tags": [],
    "ExecuteTime": {
     "end_time": "2024-03-05T10:29:10.585062100Z",
     "start_time": "2024-03-05T10:29:10.566019500Z"
    }
   },
   "outputs": [
    {
     "data": {
      "text/plain": "shape: (2, 1)\n┌──────────┐\n│ exporter │\n│ ---      │\n│ str      │\n╞══════════╡\n│ India    │\n│ India    │\n└──────────┘",
      "text/html": "<div><style>\n.dataframe > thead > tr,\n.dataframe > tbody > tr {\n  text-align: right;\n  white-space: pre-wrap;\n}\n</style>\n<small>shape: (2, 1)</small><table border=\"1\" class=\"dataframe\"><thead><tr><th>exporter</th></tr><tr><td>str</td></tr></thead><tbody><tr><td>&quot;India&quot;</td></tr><tr><td>&quot;India&quot;</td></tr></tbody></table></div>"
     },
     "execution_count": 10,
     "metadata": {},
     "output_type": "execute_result"
    }
   ],
   "source": [
    "(\n",
    "    df_struct\n",
    "    .select(\n",
    "        pl.col(\"trades\").struct.field(\"exporter\")\n",
    "    )\n",
    ")"
   ]
  },
  {
   "cell_type": "markdown",
   "id": "4276da94-55fb-4c24-8b8d-7f200858b749",
   "metadata": {},
   "source": [
    "## Extracting data from a `pl.Struct`\n",
    "\n",
    "We can convert a struct `Series` to be its own multi-column `DataFrame`"
   ]
  },
  {
   "cell_type": "code",
   "execution_count": 11,
   "id": "87720964-927d-4e33-b62e-2a4309fb7182",
   "metadata": {
    "tags": [],
    "ExecuteTime": {
     "end_time": "2024-03-05T10:29:30.683843600Z",
     "start_time": "2024-03-05T10:29:30.673845200Z"
    }
   },
   "outputs": [
    {
     "data": {
      "text/plain": "shape: (2, 3)\n┌──────────┬──────────┬──────────┐\n│ exporter ┆ importer ┆ quantity │\n│ ---      ┆ ---      ┆ ---      │\n│ str      ┆ str      ┆ f64      │\n╞══════════╪══════════╪══════════╡\n│ India    ┆ USA      ┆ 0.0      │\n│ India    ┆ USA      ┆ 1.5      │\n└──────────┴──────────┴──────────┘",
      "text/html": "<div><style>\n.dataframe > thead > tr,\n.dataframe > tbody > tr {\n  text-align: right;\n  white-space: pre-wrap;\n}\n</style>\n<small>shape: (2, 3)</small><table border=\"1\" class=\"dataframe\"><thead><tr><th>exporter</th><th>importer</th><th>quantity</th></tr><tr><td>str</td><td>str</td><td>f64</td></tr></thead><tbody><tr><td>&quot;India&quot;</td><td>&quot;USA&quot;</td><td>0.0</td></tr><tr><td>&quot;India&quot;</td><td>&quot;USA&quot;</td><td>1.5</td></tr></tbody></table></div>"
     },
     "execution_count": 11,
     "metadata": {},
     "output_type": "execute_result"
    }
   ],
   "source": [
    "df_struct[\"trades\"].struct.unnest()"
   ]
  },
  {
   "cell_type": "markdown",
   "id": "36c6fce8-9587-42e3-bd17-8dd6fdcabad3",
   "metadata": {},
   "source": [
    "We can also un-nest a `pl.Struct` column to become columns in the `DataFrame`"
   ]
  },
  {
   "cell_type": "code",
   "execution_count": 12,
   "id": "738178ca-91c1-4c76-97cd-b71fbd67f9dd",
   "metadata": {
    "ExecuteTime": {
     "end_time": "2024-03-05T10:29:46.852261300Z",
     "start_time": "2024-03-05T10:29:46.792224900Z"
    }
   },
   "outputs": [
    {
     "data": {
      "text/plain": "shape: (2, 4)\n┌──────┬──────────┬──────────┬──────────┐\n│ year ┆ exporter ┆ importer ┆ quantity │\n│ ---  ┆ ---      ┆ ---      ┆ ---      │\n│ i64  ┆ str      ┆ str      ┆ f64      │\n╞══════╪══════════╪══════════╪══════════╡\n│ 2020 ┆ India    ┆ USA      ┆ 0.0      │\n│ 2021 ┆ India    ┆ USA      ┆ 1.5      │\n└──────┴──────────┴──────────┴──────────┘",
      "text/html": "<div><style>\n.dataframe > thead > tr,\n.dataframe > tbody > tr {\n  text-align: right;\n  white-space: pre-wrap;\n}\n</style>\n<small>shape: (2, 4)</small><table border=\"1\" class=\"dataframe\"><thead><tr><th>year</th><th>exporter</th><th>importer</th><th>quantity</th></tr><tr><td>i64</td><td>str</td><td>str</td><td>f64</td></tr></thead><tbody><tr><td>2020</td><td>&quot;India&quot;</td><td>&quot;USA&quot;</td><td>0.0</td></tr><tr><td>2021</td><td>&quot;India&quot;</td><td>&quot;USA&quot;</td><td>1.5</td></tr></tbody></table></div>"
     },
     "execution_count": 12,
     "metadata": {},
     "output_type": "execute_result"
    }
   ],
   "source": [
    "df_struct.unnest(\"trades\")"
   ]
  },
  {
   "cell_type": "markdown",
   "id": "67196701-0e60-4c42-9f77-180442146fea",
   "metadata": {},
   "source": [
    "We can have more than one level of nesting in a struct columns.\n",
    "\n",
    "In this example we keep the `quantity` field at the top level of the `pl.Struct` but move the `importer`/`exporter` fields into a second nested level within the `pl.Struct`"
   ]
  },
  {
   "cell_type": "code",
   "execution_count": 13,
   "id": "1e091b2e-7630-4a8b-bc80-faa5ad733969",
   "metadata": {
    "ExecuteTime": {
     "end_time": "2024-03-05T10:30:07.518169700Z",
     "start_time": "2024-03-05T10:30:07.498171200Z"
    }
   },
   "outputs": [
    {
     "data": {
      "text/plain": "shape: (2, 1)\n┌───────────────────────┐\n│ trades                │\n│ ---                   │\n│ struct[2]             │\n╞═══════════════════════╡\n│ {{\"India\",\"USA\"},0.0} │\n│ {{\"India\",\"USA\"},1.5} │\n└───────────────────────┘",
      "text/html": "<div><style>\n.dataframe > thead > tr,\n.dataframe > tbody > tr {\n  text-align: right;\n  white-space: pre-wrap;\n}\n</style>\n<small>shape: (2, 1)</small><table border=\"1\" class=\"dataframe\"><thead><tr><th>trades</th></tr><tr><td>struct[2]</td></tr></thead><tbody><tr><td>{{&quot;India&quot;,&quot;USA&quot;},0.0}</td></tr><tr><td>{{&quot;India&quot;,&quot;USA&quot;},1.5}</td></tr></tbody></table></div>"
     },
     "execution_count": 13,
     "metadata": {},
     "output_type": "execute_result"
    }
   ],
   "source": [
    "df_struct_deep = pl.DataFrame({'trades':[\n",
    "        {\n",
    "            \"countries\":{\"exporter\":\"India\",\"importer\":\"USA\"},\n",
    "            \"quantity\":0.0\n",
    "        },\n",
    "        {\n",
    "            \"countries\":{\"exporter\":\"India\",\"importer\":\"USA\"},\n",
    "            \"quantity\":1.5\n",
    "        },\n",
    "    ]\n",
    "  })\n",
    "df_struct_deep"
   ]
  },
  {
   "cell_type": "code",
   "execution_count": 15,
   "outputs": [
    {
     "data": {
      "text/plain": "shape: (2, 3)\n┌──────────┬──────────┬──────────┐\n│ exporter ┆ importer ┆ quantity │\n│ ---      ┆ ---      ┆ ---      │\n│ str      ┆ str      ┆ f64      │\n╞══════════╪══════════╪══════════╡\n│ India    ┆ USA      ┆ 0.0      │\n│ India    ┆ USA      ┆ 1.5      │\n└──────────┴──────────┴──────────┘",
      "text/html": "<div><style>\n.dataframe > thead > tr,\n.dataframe > tbody > tr {\n  text-align: right;\n  white-space: pre-wrap;\n}\n</style>\n<small>shape: (2, 3)</small><table border=\"1\" class=\"dataframe\"><thead><tr><th>exporter</th><th>importer</th><th>quantity</th></tr><tr><td>str</td><td>str</td><td>f64</td></tr></thead><tbody><tr><td>&quot;India&quot;</td><td>&quot;USA&quot;</td><td>0.0</td></tr><tr><td>&quot;India&quot;</td><td>&quot;USA&quot;</td><td>1.5</td></tr></tbody></table></div>"
     },
     "execution_count": 15,
     "metadata": {},
     "output_type": "execute_result"
    }
   ],
   "source": [
    "df_struct_deep.unnest(\"trades\").unnest(\"countries\")"
   ],
   "metadata": {
    "collapsed": false,
    "ExecuteTime": {
     "end_time": "2024-03-05T10:30:51.585931Z",
     "start_time": "2024-03-05T10:30:51.548932100Z"
    }
   }
  },
  {
   "cell_type": "markdown",
   "id": "515398fe-8d97-401f-b655-47436ad9fbb3",
   "metadata": {},
   "source": [
    "We can do fast operations on a `pl.Struct` dtype because we are working with Polars objects rather than python `lists`."
   ]
  },
  {
   "cell_type": "markdown",
   "id": "79e3ba51-b738-4c99-9186-39b5104e9f30",
   "metadata": {
    "collapsed": true,
    "jupyter": {
     "outputs_hidden": true
    },
    "tags": []
   },
   "source": [
    "## Exercises\n",
    "In the quiz in this Section you will develop your understanding of:\n",
    "- creating `pl.List` columns\n",
    "- creating `pl.Object` columns\n",
    "- creating `pl.Struct` columns"
   ]
  },
  {
   "cell_type": "code",
   "execution_count": null,
   "id": "ef5f6d63-1c03-4486-9645-d131d4b9121b",
   "metadata": {},
   "outputs": [],
   "source": []
  }
 ],
 "metadata": {
  "kernelspec": {
   "display_name": "Python 3 (ipykernel)",
   "language": "python",
   "name": "python3"
  },
  "language_info": {
   "codemirror_mode": {
    "name": "ipython",
    "version": 3
   },
   "file_extension": ".py",
   "mimetype": "text/x-python",
   "name": "python",
   "nbconvert_exporter": "python",
   "pygments_lexer": "ipython3",
   "version": "3.10.1"
  }
 },
 "nbformat": 4,
 "nbformat_minor": 5
}
