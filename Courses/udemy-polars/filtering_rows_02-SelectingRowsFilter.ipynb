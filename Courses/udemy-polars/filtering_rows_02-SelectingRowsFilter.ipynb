{
 "cells": [
  {
   "cell_type": "markdown",
   "id": "b06a7473-8d52-4c0d-b469-37add3272a53",
   "metadata": {},
   "source": [
    "# Filtering rows 2: Using `filter` and the Expression API\n",
    "\n",
    "By the end of this lecture you will be able to:\n",
    "- apply conditions with the `filter` method\n",
    "- add a row number column\n",
    "- parition a `DataFrame`\n",
    "\n",
    "The `filter` method is our first example of the *Expression API*.\n",
    "\n",
    "_**Learning to use the *Expression API* is the most important step to writing high performance queries in Polars**_\n"
   ]
  },
  {
   "cell_type": "code",
   "execution_count": 1,
   "id": "9fd758ec-0727-4c1e-87ae-04fd47b267b6",
   "metadata": {
    "tags": [],
    "ExecuteTime": {
     "end_time": "2024-03-04T12:46:12.484374900Z",
     "start_time": "2024-03-04T12:46:12.278940800Z"
    }
   },
   "outputs": [],
   "source": [
    "import polars as pl"
   ]
  },
  {
   "cell_type": "code",
   "execution_count": 2,
   "id": "43c1d48b-a1cc-4374-bfd5-83817c491923",
   "metadata": {
    "tags": [],
    "ExecuteTime": {
     "end_time": "2024-03-04T12:46:14.139647700Z",
     "start_time": "2024-03-04T12:46:14.120611Z"
    }
   },
   "outputs": [],
   "source": [
    "csv_file = \"data_titanic.csv\""
   ]
  },
  {
   "cell_type": "code",
   "execution_count": 3,
   "id": "23ec4b89-5819-4654-a3c8-d43a7a7b31fd",
   "metadata": {
    "tags": [],
    "ExecuteTime": {
     "end_time": "2024-03-04T12:46:15.358091100Z",
     "start_time": "2024-03-04T12:46:14.988092700Z"
    }
   },
   "outputs": [
    {
     "data": {
      "text/plain": "shape: (3, 12)\n┌─────────────┬──────────┬────────┬───────────────────┬───┬───────────┬─────────┬───────┬──────────┐\n│ PassengerId ┆ Survived ┆ Pclass ┆ Name              ┆ … ┆ Ticket    ┆ Fare    ┆ Cabin ┆ Embarked │\n│ ---         ┆ ---      ┆ ---    ┆ ---               ┆   ┆ ---       ┆ ---     ┆ ---   ┆ ---      │\n│ i64         ┆ i64      ┆ i64    ┆ str               ┆   ┆ str       ┆ f64     ┆ str   ┆ str      │\n╞═════════════╪══════════╪════════╪═══════════════════╪═══╪═══════════╪═════════╪═══════╪══════════╡\n│ 1           ┆ 0        ┆ 3      ┆ Braund, Mr. Owen  ┆ … ┆ A/5 21171 ┆ 7.25    ┆ null  ┆ S        │\n│             ┆          ┆        ┆ Harris            ┆   ┆           ┆         ┆       ┆          │\n│ 2           ┆ 1        ┆ 1      ┆ Cumings, Mrs.     ┆ … ┆ PC 17599  ┆ 71.2833 ┆ C85   ┆ C        │\n│             ┆          ┆        ┆ John Bradley      ┆   ┆           ┆         ┆       ┆          │\n│             ┆          ┆        ┆ (Flor…            ┆   ┆           ┆         ┆       ┆          │\n│ 3           ┆ 1        ┆ 3      ┆ Heikkinen, Miss.  ┆ … ┆ STON/O2.  ┆ 7.925   ┆ null  ┆ S        │\n│             ┆          ┆        ┆ Laina             ┆   ┆ 3101282   ┆         ┆       ┆          │\n└─────────────┴──────────┴────────┴───────────────────┴───┴───────────┴─────────┴───────┴──────────┘",
      "text/html": "<div><style>\n.dataframe > thead > tr,\n.dataframe > tbody > tr {\n  text-align: right;\n  white-space: pre-wrap;\n}\n</style>\n<small>shape: (3, 12)</small><table border=\"1\" class=\"dataframe\"><thead><tr><th>PassengerId</th><th>Survived</th><th>Pclass</th><th>Name</th><th>Sex</th><th>Age</th><th>SibSp</th><th>Parch</th><th>Ticket</th><th>Fare</th><th>Cabin</th><th>Embarked</th></tr><tr><td>i64</td><td>i64</td><td>i64</td><td>str</td><td>str</td><td>f64</td><td>i64</td><td>i64</td><td>str</td><td>f64</td><td>str</td><td>str</td></tr></thead><tbody><tr><td>1</td><td>0</td><td>3</td><td>&quot;Braund, Mr. Ow…</td><td>&quot;male&quot;</td><td>22.0</td><td>1</td><td>0</td><td>&quot;A/5 21171&quot;</td><td>7.25</td><td>null</td><td>&quot;S&quot;</td></tr><tr><td>2</td><td>1</td><td>1</td><td>&quot;Cumings, Mrs. …</td><td>&quot;female&quot;</td><td>38.0</td><td>1</td><td>0</td><td>&quot;PC 17599&quot;</td><td>71.2833</td><td>&quot;C85&quot;</td><td>&quot;C&quot;</td></tr><tr><td>3</td><td>1</td><td>3</td><td>&quot;Heikkinen, Mis…</td><td>&quot;female&quot;</td><td>26.0</td><td>0</td><td>0</td><td>&quot;STON/O2. 31012…</td><td>7.925</td><td>null</td><td>&quot;S&quot;</td></tr></tbody></table></div>"
     },
     "execution_count": 3,
     "metadata": {},
     "output_type": "execute_result"
    }
   ],
   "source": [
    "df = pl.read_csv(csv_file)\n",
    "df.head(3)"
   ]
  },
  {
   "cell_type": "markdown",
   "id": "c7ee8c91-cfd2-42a4-8c15-cc0e6a2215f7",
   "metadata": {},
   "source": [
    "## Applying conditions with `filter`\n",
    "\n",
    "We use the `filter` method to filter rows according to a condition.\n",
    "\n",
    "> In Pandas we often use a boolean mask to filter rows but in Polars we use `filter`. Note also that the `filter` method in Polars is quite different from the filter method in Pandas.\n",
    "\n",
    "We first use an *expression* in the `filter` method before we examine the syntax in more detail.\n",
    "\n",
    "In this example we want to keep all rows with the first class passengers"
   ]
  },
  {
   "cell_type": "code",
   "execution_count": 4,
   "id": "565f8f0e-b6de-4f03-8bba-e347eb96588b",
   "metadata": {
    "tags": [],
    "ExecuteTime": {
     "end_time": "2024-03-04T12:46:24.006845600Z",
     "start_time": "2024-03-04T12:46:23.887153200Z"
    }
   },
   "outputs": [
    {
     "data": {
      "text/plain": "shape: (2, 12)\n┌─────────────┬──────────┬────────┬────────────────────┬───┬──────────┬─────────┬───────┬──────────┐\n│ PassengerId ┆ Survived ┆ Pclass ┆ Name               ┆ … ┆ Ticket   ┆ Fare    ┆ Cabin ┆ Embarked │\n│ ---         ┆ ---      ┆ ---    ┆ ---                ┆   ┆ ---      ┆ ---     ┆ ---   ┆ ---      │\n│ i64         ┆ i64      ┆ i64    ┆ str                ┆   ┆ str      ┆ f64     ┆ str   ┆ str      │\n╞═════════════╪══════════╪════════╪════════════════════╪═══╪══════════╪═════════╪═══════╪══════════╡\n│ 2           ┆ 1        ┆ 1      ┆ Cumings, Mrs. John ┆ … ┆ PC 17599 ┆ 71.2833 ┆ C85   ┆ C        │\n│             ┆          ┆        ┆ Bradley (Flor…     ┆   ┆          ┆         ┆       ┆          │\n│ 4           ┆ 1        ┆ 1      ┆ Futrelle, Mrs.     ┆ … ┆ 113803   ┆ 53.1    ┆ C123  ┆ S        │\n│             ┆          ┆        ┆ Jacques Heath (Li… ┆   ┆          ┆         ┆       ┆          │\n└─────────────┴──────────┴────────┴────────────────────┴───┴──────────┴─────────┴───────┴──────────┘",
      "text/html": "<div><style>\n.dataframe > thead > tr,\n.dataframe > tbody > tr {\n  text-align: right;\n  white-space: pre-wrap;\n}\n</style>\n<small>shape: (2, 12)</small><table border=\"1\" class=\"dataframe\"><thead><tr><th>PassengerId</th><th>Survived</th><th>Pclass</th><th>Name</th><th>Sex</th><th>Age</th><th>SibSp</th><th>Parch</th><th>Ticket</th><th>Fare</th><th>Cabin</th><th>Embarked</th></tr><tr><td>i64</td><td>i64</td><td>i64</td><td>str</td><td>str</td><td>f64</td><td>i64</td><td>i64</td><td>str</td><td>f64</td><td>str</td><td>str</td></tr></thead><tbody><tr><td>2</td><td>1</td><td>1</td><td>&quot;Cumings, Mrs. …</td><td>&quot;female&quot;</td><td>38.0</td><td>1</td><td>0</td><td>&quot;PC 17599&quot;</td><td>71.2833</td><td>&quot;C85&quot;</td><td>&quot;C&quot;</td></tr><tr><td>4</td><td>1</td><td>1</td><td>&quot;Futrelle, Mrs.…</td><td>&quot;female&quot;</td><td>35.0</td><td>1</td><td>0</td><td>&quot;113803&quot;</td><td>53.1</td><td>&quot;C123&quot;</td><td>&quot;S&quot;</td></tr></tbody></table></div>"
     },
     "execution_count": 4,
     "metadata": {},
     "output_type": "execute_result"
    }
   ],
   "source": [
    "(\n",
    "    df\n",
    "    .filter(\n",
    "        pl.col('Pclass') == 1\n",
    "    )\n",
    "    .head(2)\n",
    ")"
   ]
  },
  {
   "cell_type": "markdown",
   "id": "4bcfcb0f-cf3e-4103-90a9-7091f4fc4052",
   "metadata": {},
   "source": [
    "## Syntax of `filter`\n",
    "Inside the `filter` method we pass an _**expression**_ and apply a Boolean condition to it:\n",
    "\n",
    "`pl.col('Pclass') == 1`\n",
    "\n",
    "This expression has two parts:\n",
    "- `pl.col('Pclass')` expression selects the `Pclass` column from `df`\n",
    "- `== 1` applies a Boolean condition to this expression\n",
    "\n",
    "In this example we choose all rows with the number of parents & children (`Parch`) is greater than 1"
   ]
  },
  {
   "cell_type": "code",
   "execution_count": 5,
   "id": "0ed1dc92-b8e0-42f2-b624-14c354bc6455",
   "metadata": {
    "tags": [],
    "ExecuteTime": {
     "end_time": "2024-03-04T12:47:15.025768700Z",
     "start_time": "2024-03-04T12:47:14.958296400Z"
    }
   },
   "outputs": [
    {
     "data": {
      "text/plain": "shape: (2, 12)\n┌─────────────┬──────────┬────────┬──────────────────────┬───┬────────┬─────────┬───────┬──────────┐\n│ PassengerId ┆ Survived ┆ Pclass ┆ Name                 ┆ … ┆ Ticket ┆ Fare    ┆ Cabin ┆ Embarked │\n│ ---         ┆ ---      ┆ ---    ┆ ---                  ┆   ┆ ---    ┆ ---     ┆ ---   ┆ ---      │\n│ i64         ┆ i64      ┆ i64    ┆ str                  ┆   ┆ str    ┆ f64     ┆ str   ┆ str      │\n╞═════════════╪══════════╪════════╪══════════════════════╪═══╪════════╪═════════╪═══════╪══════════╡\n│ 9           ┆ 1        ┆ 3      ┆ Johnson, Mrs. Oscar  ┆ … ┆ 347742 ┆ 11.1333 ┆ null  ┆ S        │\n│             ┆          ┆        ┆ W (Elisabeth…        ┆   ┆        ┆         ┆       ┆          │\n│ 14          ┆ 0        ┆ 3      ┆ Andersson, Mr.       ┆ … ┆ 347082 ┆ 31.275  ┆ null  ┆ S        │\n│             ┆          ┆        ┆ Anders Johan         ┆   ┆        ┆         ┆       ┆          │\n└─────────────┴──────────┴────────┴──────────────────────┴───┴────────┴─────────┴───────┴──────────┘",
      "text/html": "<div><style>\n.dataframe > thead > tr,\n.dataframe > tbody > tr {\n  text-align: right;\n  white-space: pre-wrap;\n}\n</style>\n<small>shape: (2, 12)</small><table border=\"1\" class=\"dataframe\"><thead><tr><th>PassengerId</th><th>Survived</th><th>Pclass</th><th>Name</th><th>Sex</th><th>Age</th><th>SibSp</th><th>Parch</th><th>Ticket</th><th>Fare</th><th>Cabin</th><th>Embarked</th></tr><tr><td>i64</td><td>i64</td><td>i64</td><td>str</td><td>str</td><td>f64</td><td>i64</td><td>i64</td><td>str</td><td>f64</td><td>str</td><td>str</td></tr></thead><tbody><tr><td>9</td><td>1</td><td>3</td><td>&quot;Johnson, Mrs. …</td><td>&quot;female&quot;</td><td>27.0</td><td>0</td><td>2</td><td>&quot;347742&quot;</td><td>11.1333</td><td>null</td><td>&quot;S&quot;</td></tr><tr><td>14</td><td>0</td><td>3</td><td>&quot;Andersson, Mr.…</td><td>&quot;male&quot;</td><td>39.0</td><td>1</td><td>5</td><td>&quot;347082&quot;</td><td>31.275</td><td>null</td><td>&quot;S&quot;</td></tr></tbody></table></div>"
     },
     "execution_count": 5,
     "metadata": {},
     "output_type": "execute_result"
    }
   ],
   "source": [
    "(\n",
    "    df\n",
    "    .filter(\n",
    "        pl.col('Parch') > 1\n",
    "    )\n",
    "    .head(2)\n",
    ")"
   ]
  },
  {
   "cell_type": "markdown",
   "id": "35866eff-f510-4e13-a430-4993bc9150f1",
   "metadata": {},
   "source": [
    "As well as the mathemtical operators such as `==`,`>`,`<` there are corresponding text operators that some people find more readable"
   ]
  },
  {
   "cell_type": "code",
   "execution_count": 7,
   "id": "b32bd407-96b9-455e-a247-0154e7755846",
   "metadata": {
    "ExecuteTime": {
     "end_time": "2024-03-04T12:48:24.789993400Z",
     "start_time": "2024-03-04T12:48:24.748027700Z"
    }
   },
   "outputs": [
    {
     "data": {
      "text/plain": "shape: (5, 3)\n┌─────────────┬───────┬───────┐\n│ PassengerId ┆ Parch ┆ SibSp │\n│ ---         ┆ ---   ┆ ---   │\n│ i64         ┆ i64   ┆ i64   │\n╞═════════════╪═══════╪═══════╡\n│ 9           ┆ 2     ┆ 0     │\n│ 14          ┆ 5     ┆ 1     │\n│ 26          ┆ 5     ┆ 1     │\n│ 28          ┆ 2     ┆ 3     │\n│ 44          ┆ 2     ┆ 1     │\n└─────────────┴───────┴───────┘",
      "text/html": "<div><style>\n.dataframe > thead > tr,\n.dataframe > tbody > tr {\n  text-align: right;\n  white-space: pre-wrap;\n}\n</style>\n<small>shape: (5, 3)</small><table border=\"1\" class=\"dataframe\"><thead><tr><th>PassengerId</th><th>Parch</th><th>SibSp</th></tr><tr><td>i64</td><td>i64</td><td>i64</td></tr></thead><tbody><tr><td>9</td><td>2</td><td>0</td></tr><tr><td>14</td><td>5</td><td>1</td></tr><tr><td>26</td><td>5</td><td>1</td></tr><tr><td>28</td><td>2</td><td>3</td></tr><tr><td>44</td><td>2</td><td>1</td></tr></tbody></table></div>"
     },
     "execution_count": 7,
     "metadata": {},
     "output_type": "execute_result"
    }
   ],
   "source": [
    "(\n",
    "    df\n",
    "    .filter(\n",
    "        pl.col('Parch').gt(1)\n",
    "    )\n",
    "    .select(\"PassengerId\",\"Parch\",\"SibSp\")\n",
    "    .head(5)\n",
    ")"
   ]
  },
  {
   "cell_type": "markdown",
   "id": "3ccf15f0-7180-4cd1-b743-39b3caa0deb4",
   "metadata": {},
   "source": [
    "You can see the full set of operators here: https://pola-rs.github.io/polars/py-polars/html/reference/expressions/operators.html"
   ]
  },
  {
   "cell_type": "markdown",
   "id": "5ee8d893-8e3e-4981-ab92-559312702ae9",
   "metadata": {},
   "source": [
    "We can make a filter condition based on two expressions (i.e. comparing data in one column to another) rather than one expression and a constant. In this example we find rows where the number of parents & children (`Parch`) is greater than the number of siblings (`SibSp`)"
   ]
  },
  {
   "cell_type": "code",
   "execution_count": 8,
   "id": "24e191c0-e93a-443a-853c-50bcabfba60c",
   "metadata": {
    "ExecuteTime": {
     "end_time": "2024-03-04T12:48:49.642219100Z",
     "start_time": "2024-03-04T12:48:49.544089800Z"
    }
   },
   "outputs": [
    {
     "data": {
      "text/plain": "shape: (5, 3)\n┌─────────────┬───────┬───────┐\n│ PassengerId ┆ Parch ┆ SibSp │\n│ ---         ┆ ---   ┆ ---   │\n│ i64         ┆ i64   ┆ i64   │\n╞═════════════╪═══════╪═══════╡\n│ 9           ┆ 2     ┆ 0     │\n│ 14          ┆ 5     ┆ 1     │\n│ 26          ┆ 5     ┆ 1     │\n│ 44          ┆ 2     ┆ 1     │\n│ 55          ┆ 1     ┆ 0     │\n└─────────────┴───────┴───────┘",
      "text/html": "<div><style>\n.dataframe > thead > tr,\n.dataframe > tbody > tr {\n  text-align: right;\n  white-space: pre-wrap;\n}\n</style>\n<small>shape: (5, 3)</small><table border=\"1\" class=\"dataframe\"><thead><tr><th>PassengerId</th><th>Parch</th><th>SibSp</th></tr><tr><td>i64</td><td>i64</td><td>i64</td></tr></thead><tbody><tr><td>9</td><td>2</td><td>0</td></tr><tr><td>14</td><td>5</td><td>1</td></tr><tr><td>26</td><td>5</td><td>1</td></tr><tr><td>44</td><td>2</td><td>1</td></tr><tr><td>55</td><td>1</td><td>0</td></tr></tbody></table></div>"
     },
     "execution_count": 8,
     "metadata": {},
     "output_type": "execute_result"
    }
   ],
   "source": [
    "(\n",
    "    df\n",
    "    .filter(\n",
    "        pl.col('Parch').gt(pl.col(\"SibSp\"))\n",
    "    )\n",
    "    .select(\"PassengerId\",\"Parch\",\"SibSp\")\n",
    "    .head(5)\n",
    ")"
   ]
  },
  {
   "cell_type": "markdown",
   "id": "8bfb4097-ccce-49b2-8e45-775b425f9ec6",
   "metadata": {},
   "source": [
    "To save a bit of typing we can also apply a filter to a column by passing the column name directly"
   ]
  },
  {
   "cell_type": "code",
   "execution_count": 9,
   "id": "df42e978-4433-4217-ad7a-5a6044376208",
   "metadata": {
    "ExecuteTime": {
     "end_time": "2024-03-04T12:49:06.030904100Z",
     "start_time": "2024-03-04T12:49:05.883342400Z"
    }
   },
   "outputs": [
    {
     "data": {
      "text/plain": "shape: (5, 3)\n┌─────────────┬───────┬───────┐\n│ PassengerId ┆ Parch ┆ SibSp │\n│ ---         ┆ ---   ┆ ---   │\n│ i64         ┆ i64   ┆ i64   │\n╞═════════════╪═══════╪═══════╡\n│ 87          ┆ 3     ┆ 1     │\n│ 438         ┆ 3     ┆ 2     │\n│ 737         ┆ 3     ┆ 1     │\n│ 775         ┆ 3     ┆ 1     │\n│ 859         ┆ 3     ┆ 0     │\n└─────────────┴───────┴───────┘",
      "text/html": "<div><style>\n.dataframe > thead > tr,\n.dataframe > tbody > tr {\n  text-align: right;\n  white-space: pre-wrap;\n}\n</style>\n<small>shape: (5, 3)</small><table border=\"1\" class=\"dataframe\"><thead><tr><th>PassengerId</th><th>Parch</th><th>SibSp</th></tr><tr><td>i64</td><td>i64</td><td>i64</td></tr></thead><tbody><tr><td>87</td><td>3</td><td>1</td></tr><tr><td>438</td><td>3</td><td>2</td></tr><tr><td>737</td><td>3</td><td>1</td></tr><tr><td>775</td><td>3</td><td>1</td></tr><tr><td>859</td><td>3</td><td>0</td></tr></tbody></table></div>"
     },
     "execution_count": 9,
     "metadata": {},
     "output_type": "execute_result"
    }
   ],
   "source": [
    "(\n",
    "    df\n",
    "    .filter(\n",
    "        Parch = 3,\n",
    "    )\n",
    "    .select(\"PassengerId\",\"Parch\",\"SibSp\")\n",
    "    .head(5)\n",
    ")"
   ]
  },
  {
   "cell_type": "markdown",
   "id": "fc441a6c-e018-45b2-be5a-0f7d632161f9",
   "metadata": {},
   "source": [
    "This approach only works for equality conditions (i.e. not for >,< etc). \n",
    "\n",
    "Why does this simple approach only work for equalities? Because in this approach Polars takes advantage of Python keyword arguments - we are basically \"pretending\" we are calling `filter` with an argument called `Parch` equal to 3 which Polars internally converts to `pl.col(\"Parch\") == 3`. Python only lets us use this trick with the `=` operator"
   ]
  },
  {
   "cell_type": "markdown",
   "id": "981c0392-3dbe-4f89-b0ae-d71d92f782ba",
   "metadata": {},
   "source": [
    "### Conditions based on row numbers with `filter`\n",
    "\n",
    "We can add an explicit row number column using `with_row_index` on a `DataFrame`"
   ]
  },
  {
   "cell_type": "code",
   "execution_count": 10,
   "id": "37a1d007-a652-4e0c-9685-18821d7b6e89",
   "metadata": {
    "tags": [],
    "ExecuteTime": {
     "end_time": "2024-03-04T12:50:24.470389600Z",
     "start_time": "2024-03-04T12:50:24.411103400Z"
    }
   },
   "outputs": [
    {
     "data": {
      "text/plain": "shape: (3, 13)\n┌───────┬─────────────┬──────────┬────────┬───┬──────────────────┬─────────┬───────┬──────────┐\n│ index ┆ PassengerId ┆ Survived ┆ Pclass ┆ … ┆ Ticket           ┆ Fare    ┆ Cabin ┆ Embarked │\n│ ---   ┆ ---         ┆ ---      ┆ ---    ┆   ┆ ---              ┆ ---     ┆ ---   ┆ ---      │\n│ u32   ┆ i64         ┆ i64      ┆ i64    ┆   ┆ str              ┆ f64     ┆ str   ┆ str      │\n╞═══════╪═════════════╪══════════╪════════╪═══╪══════════════════╪═════════╪═══════╪══════════╡\n│ 0     ┆ 1           ┆ 0        ┆ 3      ┆ … ┆ A/5 21171        ┆ 7.25    ┆ null  ┆ S        │\n│ 1     ┆ 2           ┆ 1        ┆ 1      ┆ … ┆ PC 17599         ┆ 71.2833 ┆ C85   ┆ C        │\n│ 2     ┆ 3           ┆ 1        ┆ 3      ┆ … ┆ STON/O2. 3101282 ┆ 7.925   ┆ null  ┆ S        │\n└───────┴─────────────┴──────────┴────────┴───┴──────────────────┴─────────┴───────┴──────────┘",
      "text/html": "<div><style>\n.dataframe > thead > tr,\n.dataframe > tbody > tr {\n  text-align: right;\n  white-space: pre-wrap;\n}\n</style>\n<small>shape: (3, 13)</small><table border=\"1\" class=\"dataframe\"><thead><tr><th>index</th><th>PassengerId</th><th>Survived</th><th>Pclass</th><th>Name</th><th>Sex</th><th>Age</th><th>SibSp</th><th>Parch</th><th>Ticket</th><th>Fare</th><th>Cabin</th><th>Embarked</th></tr><tr><td>u32</td><td>i64</td><td>i64</td><td>i64</td><td>str</td><td>str</td><td>f64</td><td>i64</td><td>i64</td><td>str</td><td>f64</td><td>str</td><td>str</td></tr></thead><tbody><tr><td>0</td><td>1</td><td>0</td><td>3</td><td>&quot;Braund, Mr. Ow…</td><td>&quot;male&quot;</td><td>22.0</td><td>1</td><td>0</td><td>&quot;A/5 21171&quot;</td><td>7.25</td><td>null</td><td>&quot;S&quot;</td></tr><tr><td>1</td><td>2</td><td>1</td><td>1</td><td>&quot;Cumings, Mrs. …</td><td>&quot;female&quot;</td><td>38.0</td><td>1</td><td>0</td><td>&quot;PC 17599&quot;</td><td>71.2833</td><td>&quot;C85&quot;</td><td>&quot;C&quot;</td></tr><tr><td>2</td><td>3</td><td>1</td><td>3</td><td>&quot;Heikkinen, Mis…</td><td>&quot;female&quot;</td><td>26.0</td><td>0</td><td>0</td><td>&quot;STON/O2. 31012…</td><td>7.925</td><td>null</td><td>&quot;S&quot;</td></tr></tbody></table></div>"
     },
     "execution_count": 10,
     "metadata": {},
     "output_type": "execute_result"
    }
   ],
   "source": [
    "df = pl.read_csv(csv_file)\n",
    "df = df.with_row_index(name='index')\n",
    "df.head(3)"
   ]
  },
  {
   "cell_type": "markdown",
   "id": "db593ef1-e1c0-4480-93cb-75a3ff3779ef",
   "metadata": {},
   "source": [
    "We can then use `filter` to apply a condition based on row number"
   ]
  },
  {
   "cell_type": "code",
   "execution_count": 11,
   "id": "570a7939-eb47-4723-968e-1e0ce0b618fe",
   "metadata": {
    "tags": [],
    "ExecuteTime": {
     "end_time": "2024-03-04T12:50:43.258710600Z",
     "start_time": "2024-03-04T12:50:43.201541200Z"
    }
   },
   "outputs": [
    {
     "data": {
      "text/plain": "shape: (4, 13)\n┌───────┬─────────────┬──────────┬────────┬───┬──────────────────┬─────────┬───────┬──────────┐\n│ index ┆ PassengerId ┆ Survived ┆ Pclass ┆ … ┆ Ticket           ┆ Fare    ┆ Cabin ┆ Embarked │\n│ ---   ┆ ---         ┆ ---      ┆ ---    ┆   ┆ ---              ┆ ---     ┆ ---   ┆ ---      │\n│ u32   ┆ i64         ┆ i64      ┆ i64    ┆   ┆ str              ┆ f64     ┆ str   ┆ str      │\n╞═══════╪═════════════╪══════════╪════════╪═══╪══════════════════╪═════════╪═══════╪══════════╡\n│ 0     ┆ 1           ┆ 0        ┆ 3      ┆ … ┆ A/5 21171        ┆ 7.25    ┆ null  ┆ S        │\n│ 1     ┆ 2           ┆ 1        ┆ 1      ┆ … ┆ PC 17599         ┆ 71.2833 ┆ C85   ┆ C        │\n│ 2     ┆ 3           ┆ 1        ┆ 3      ┆ … ┆ STON/O2. 3101282 ┆ 7.925   ┆ null  ┆ S        │\n│ 3     ┆ 4           ┆ 1        ┆ 1      ┆ … ┆ 113803           ┆ 53.1    ┆ C123  ┆ S        │\n└───────┴─────────────┴──────────┴────────┴───┴──────────────────┴─────────┴───────┴──────────┘",
      "text/html": "<div><style>\n.dataframe > thead > tr,\n.dataframe > tbody > tr {\n  text-align: right;\n  white-space: pre-wrap;\n}\n</style>\n<small>shape: (4, 13)</small><table border=\"1\" class=\"dataframe\"><thead><tr><th>index</th><th>PassengerId</th><th>Survived</th><th>Pclass</th><th>Name</th><th>Sex</th><th>Age</th><th>SibSp</th><th>Parch</th><th>Ticket</th><th>Fare</th><th>Cabin</th><th>Embarked</th></tr><tr><td>u32</td><td>i64</td><td>i64</td><td>i64</td><td>str</td><td>str</td><td>f64</td><td>i64</td><td>i64</td><td>str</td><td>f64</td><td>str</td><td>str</td></tr></thead><tbody><tr><td>0</td><td>1</td><td>0</td><td>3</td><td>&quot;Braund, Mr. Ow…</td><td>&quot;male&quot;</td><td>22.0</td><td>1</td><td>0</td><td>&quot;A/5 21171&quot;</td><td>7.25</td><td>null</td><td>&quot;S&quot;</td></tr><tr><td>1</td><td>2</td><td>1</td><td>1</td><td>&quot;Cumings, Mrs. …</td><td>&quot;female&quot;</td><td>38.0</td><td>1</td><td>0</td><td>&quot;PC 17599&quot;</td><td>71.2833</td><td>&quot;C85&quot;</td><td>&quot;C&quot;</td></tr><tr><td>2</td><td>3</td><td>1</td><td>3</td><td>&quot;Heikkinen, Mis…</td><td>&quot;female&quot;</td><td>26.0</td><td>0</td><td>0</td><td>&quot;STON/O2. 31012…</td><td>7.925</td><td>null</td><td>&quot;S&quot;</td></tr><tr><td>3</td><td>4</td><td>1</td><td>1</td><td>&quot;Futrelle, Mrs.…</td><td>&quot;female&quot;</td><td>35.0</td><td>1</td><td>0</td><td>&quot;113803&quot;</td><td>53.1</td><td>&quot;C123&quot;</td><td>&quot;S&quot;</td></tr></tbody></table></div>"
     },
     "execution_count": 11,
     "metadata": {},
     "output_type": "execute_result"
    }
   ],
   "source": [
    "(\n",
    "    df\n",
    "    .filter(\n",
    "        pl.col('index') < 4\n",
    "    )\n",
    ")"
   ]
  },
  {
   "cell_type": "markdown",
   "id": "745b96eb-c0bf-49d8-aaa1-b5f37a70b0e5",
   "metadata": {},
   "source": [
    "However, a simpler way to do this is with `slice`"
   ]
  },
  {
   "cell_type": "code",
   "execution_count": 12,
   "id": "40486a32-f350-4204-ba3a-50817a28949f",
   "metadata": {
    "ExecuteTime": {
     "end_time": "2024-03-04T12:50:54.302166600Z",
     "start_time": "2024-03-04T12:50:54.270177900Z"
    }
   },
   "outputs": [
    {
     "data": {
      "text/plain": "shape: (4, 13)\n┌───────┬─────────────┬──────────┬────────┬───┬──────────────────┬─────────┬───────┬──────────┐\n│ index ┆ PassengerId ┆ Survived ┆ Pclass ┆ … ┆ Ticket           ┆ Fare    ┆ Cabin ┆ Embarked │\n│ ---   ┆ ---         ┆ ---      ┆ ---    ┆   ┆ ---              ┆ ---     ┆ ---   ┆ ---      │\n│ u32   ┆ i64         ┆ i64      ┆ i64    ┆   ┆ str              ┆ f64     ┆ str   ┆ str      │\n╞═══════╪═════════════╪══════════╪════════╪═══╪══════════════════╪═════════╪═══════╪══════════╡\n│ 0     ┆ 1           ┆ 0        ┆ 3      ┆ … ┆ A/5 21171        ┆ 7.25    ┆ null  ┆ S        │\n│ 1     ┆ 2           ┆ 1        ┆ 1      ┆ … ┆ PC 17599         ┆ 71.2833 ┆ C85   ┆ C        │\n│ 2     ┆ 3           ┆ 1        ┆ 3      ┆ … ┆ STON/O2. 3101282 ┆ 7.925   ┆ null  ┆ S        │\n│ 3     ┆ 4           ┆ 1        ┆ 1      ┆ … ┆ 113803           ┆ 53.1    ┆ C123  ┆ S        │\n└───────┴─────────────┴──────────┴────────┴───┴──────────────────┴─────────┴───────┴──────────┘",
      "text/html": "<div><style>\n.dataframe > thead > tr,\n.dataframe > tbody > tr {\n  text-align: right;\n  white-space: pre-wrap;\n}\n</style>\n<small>shape: (4, 13)</small><table border=\"1\" class=\"dataframe\"><thead><tr><th>index</th><th>PassengerId</th><th>Survived</th><th>Pclass</th><th>Name</th><th>Sex</th><th>Age</th><th>SibSp</th><th>Parch</th><th>Ticket</th><th>Fare</th><th>Cabin</th><th>Embarked</th></tr><tr><td>u32</td><td>i64</td><td>i64</td><td>i64</td><td>str</td><td>str</td><td>f64</td><td>i64</td><td>i64</td><td>str</td><td>f64</td><td>str</td><td>str</td></tr></thead><tbody><tr><td>0</td><td>1</td><td>0</td><td>3</td><td>&quot;Braund, Mr. Ow…</td><td>&quot;male&quot;</td><td>22.0</td><td>1</td><td>0</td><td>&quot;A/5 21171&quot;</td><td>7.25</td><td>null</td><td>&quot;S&quot;</td></tr><tr><td>1</td><td>2</td><td>1</td><td>1</td><td>&quot;Cumings, Mrs. …</td><td>&quot;female&quot;</td><td>38.0</td><td>1</td><td>0</td><td>&quot;PC 17599&quot;</td><td>71.2833</td><td>&quot;C85&quot;</td><td>&quot;C&quot;</td></tr><tr><td>2</td><td>3</td><td>1</td><td>3</td><td>&quot;Heikkinen, Mis…</td><td>&quot;female&quot;</td><td>26.0</td><td>0</td><td>0</td><td>&quot;STON/O2. 31012…</td><td>7.925</td><td>null</td><td>&quot;S&quot;</td></tr><tr><td>3</td><td>4</td><td>1</td><td>1</td><td>&quot;Futrelle, Mrs.…</td><td>&quot;female&quot;</td><td>35.0</td><td>1</td><td>0</td><td>&quot;113803&quot;</td><td>53.1</td><td>&quot;C123&quot;</td><td>&quot;S&quot;</td></tr></tbody></table></div>"
     },
     "execution_count": 12,
     "metadata": {},
     "output_type": "execute_result"
    }
   ],
   "source": [
    "(\n",
    "    df\n",
    "    .slice(0,4)\n",
    ")"
   ]
  },
  {
   "cell_type": "markdown",
   "id": "3273d154-5e53-4bc4-9257-6abc976e028a",
   "metadata": {},
   "source": [
    "### Filtering on a Boolean column\n",
    "We can filter for `True` values on a Boolean column by passing the column as an expression to `filter` without a condition"
   ]
  },
  {
   "cell_type": "code",
   "execution_count": 13,
   "id": "e064b1ec-7326-4ae3-8ca3-32d5222ad019",
   "metadata": {
    "ExecuteTime": {
     "end_time": "2024-03-04T12:51:54.363830900Z",
     "start_time": "2024-03-04T12:51:54.303808100Z"
    }
   },
   "outputs": [
    {
     "data": {
      "text/plain": "shape: (2, 14)\n┌───────┬─────────────┬──────────┬────────┬───┬───────┬───────┬──────────┬──────────────┐\n│ index ┆ PassengerId ┆ Survived ┆ Pclass ┆ … ┆ Fare  ┆ Cabin ┆ Embarked ┆ less_than_30 │\n│ ---   ┆ ---         ┆ ---      ┆ ---    ┆   ┆ ---   ┆ ---   ┆ ---      ┆ ---          │\n│ u32   ┆ i64         ┆ i64      ┆ i64    ┆   ┆ f64   ┆ str   ┆ str      ┆ bool         │\n╞═══════╪═════════════╪══════════╪════════╪═══╪═══════╪═══════╪══════════╪══════════════╡\n│ 0     ┆ 1           ┆ 0        ┆ 3      ┆ … ┆ 7.25  ┆ null  ┆ S        ┆ true         │\n│ 2     ┆ 3           ┆ 1        ┆ 3      ┆ … ┆ 7.925 ┆ null  ┆ S        ┆ true         │\n└───────┴─────────────┴──────────┴────────┴───┴───────┴───────┴──────────┴──────────────┘",
      "text/html": "<div><style>\n.dataframe > thead > tr,\n.dataframe > tbody > tr {\n  text-align: right;\n  white-space: pre-wrap;\n}\n</style>\n<small>shape: (2, 14)</small><table border=\"1\" class=\"dataframe\"><thead><tr><th>index</th><th>PassengerId</th><th>Survived</th><th>Pclass</th><th>Name</th><th>Sex</th><th>Age</th><th>SibSp</th><th>Parch</th><th>Ticket</th><th>Fare</th><th>Cabin</th><th>Embarked</th><th>less_than_30</th></tr><tr><td>u32</td><td>i64</td><td>i64</td><td>i64</td><td>str</td><td>str</td><td>f64</td><td>i64</td><td>i64</td><td>str</td><td>f64</td><td>str</td><td>str</td><td>bool</td></tr></thead><tbody><tr><td>0</td><td>1</td><td>0</td><td>3</td><td>&quot;Braund, Mr. Ow…</td><td>&quot;male&quot;</td><td>22.0</td><td>1</td><td>0</td><td>&quot;A/5 21171&quot;</td><td>7.25</td><td>null</td><td>&quot;S&quot;</td><td>true</td></tr><tr><td>2</td><td>3</td><td>1</td><td>3</td><td>&quot;Heikkinen, Mis…</td><td>&quot;female&quot;</td><td>26.0</td><td>0</td><td>0</td><td>&quot;STON/O2. 31012…</td><td>7.925</td><td>null</td><td>&quot;S&quot;</td><td>true</td></tr></tbody></table></div>"
     },
     "execution_count": 13,
     "metadata": {},
     "output_type": "execute_result"
    }
   ],
   "source": [
    "(\n",
    "    df\n",
    "    .with_columns(\n",
    "        less_than_30 = pl.col(\"Age\") < 30\n",
    "    )\n",
    "    .filter(\n",
    "        pl.col(\"less_than_30\")\n",
    "    )\n",
    "    .head(2)\n",
    ")"
   ]
  },
  {
   "cell_type": "markdown",
   "id": "bd3ae2e0-32df-404e-9718-f9856a1feb98",
   "metadata": {},
   "source": [
    "We can negate a filter condition with `~`"
   ]
  },
  {
   "cell_type": "code",
   "execution_count": 14,
   "id": "58adc663-d33b-42e0-879e-37018fd1c45c",
   "metadata": {
    "ExecuteTime": {
     "end_time": "2024-03-04T12:52:02.593912500Z",
     "start_time": "2024-03-04T12:52:02.573880Z"
    }
   },
   "outputs": [
    {
     "data": {
      "text/plain": "shape: (2, 14)\n┌───────┬─────────────┬──────────┬────────┬───┬─────────┬───────┬──────────┬──────────────┐\n│ index ┆ PassengerId ┆ Survived ┆ Pclass ┆ … ┆ Fare    ┆ Cabin ┆ Embarked ┆ less_than_30 │\n│ ---   ┆ ---         ┆ ---      ┆ ---    ┆   ┆ ---     ┆ ---   ┆ ---      ┆ ---          │\n│ u32   ┆ i64         ┆ i64      ┆ i64    ┆   ┆ f64     ┆ str   ┆ str      ┆ bool         │\n╞═══════╪═════════════╪══════════╪════════╪═══╪═════════╪═══════╪══════════╪══════════════╡\n│ 1     ┆ 2           ┆ 1        ┆ 1      ┆ … ┆ 71.2833 ┆ C85   ┆ C        ┆ false        │\n│ 3     ┆ 4           ┆ 1        ┆ 1      ┆ … ┆ 53.1    ┆ C123  ┆ S        ┆ false        │\n└───────┴─────────────┴──────────┴────────┴───┴─────────┴───────┴──────────┴──────────────┘",
      "text/html": "<div><style>\n.dataframe > thead > tr,\n.dataframe > tbody > tr {\n  text-align: right;\n  white-space: pre-wrap;\n}\n</style>\n<small>shape: (2, 14)</small><table border=\"1\" class=\"dataframe\"><thead><tr><th>index</th><th>PassengerId</th><th>Survived</th><th>Pclass</th><th>Name</th><th>Sex</th><th>Age</th><th>SibSp</th><th>Parch</th><th>Ticket</th><th>Fare</th><th>Cabin</th><th>Embarked</th><th>less_than_30</th></tr><tr><td>u32</td><td>i64</td><td>i64</td><td>i64</td><td>str</td><td>str</td><td>f64</td><td>i64</td><td>i64</td><td>str</td><td>f64</td><td>str</td><td>str</td><td>bool</td></tr></thead><tbody><tr><td>1</td><td>2</td><td>1</td><td>1</td><td>&quot;Cumings, Mrs. …</td><td>&quot;female&quot;</td><td>38.0</td><td>1</td><td>0</td><td>&quot;PC 17599&quot;</td><td>71.2833</td><td>&quot;C85&quot;</td><td>&quot;C&quot;</td><td>false</td></tr><tr><td>3</td><td>4</td><td>1</td><td>1</td><td>&quot;Futrelle, Mrs.…</td><td>&quot;female&quot;</td><td>35.0</td><td>1</td><td>0</td><td>&quot;113803&quot;</td><td>53.1</td><td>&quot;C123&quot;</td><td>&quot;S&quot;</td><td>false</td></tr></tbody></table></div>"
     },
     "execution_count": 14,
     "metadata": {},
     "output_type": "execute_result"
    }
   ],
   "source": [
    "(\n",
    "    df\n",
    "    .with_columns(\n",
    "        less_than_30 = pl.col(\"Age\") < 30\n",
    "    )\n",
    "    .filter(\n",
    "        ~pl.col(\"less_than_30\")\n",
    "    )\n",
    "    .head(2)\n",
    ")"
   ]
  },
  {
   "cell_type": "markdown",
   "id": "3d4e9055-624a-4044-9cac-8f925b9cf4f4",
   "metadata": {},
   "source": [
    "or with the `not_` expression"
   ]
  },
  {
   "cell_type": "code",
   "execution_count": 15,
   "id": "f309c538-0971-486a-9046-db5f4cf52fe5",
   "metadata": {
    "ExecuteTime": {
     "end_time": "2024-03-04T12:52:16.878997800Z",
     "start_time": "2024-03-04T12:52:16.858961800Z"
    }
   },
   "outputs": [
    {
     "data": {
      "text/plain": "shape: (2, 14)\n┌───────┬─────────────┬──────────┬────────┬───┬─────────┬───────┬──────────┬──────────────┐\n│ index ┆ PassengerId ┆ Survived ┆ Pclass ┆ … ┆ Fare    ┆ Cabin ┆ Embarked ┆ less_than_30 │\n│ ---   ┆ ---         ┆ ---      ┆ ---    ┆   ┆ ---     ┆ ---   ┆ ---      ┆ ---          │\n│ u32   ┆ i64         ┆ i64      ┆ i64    ┆   ┆ f64     ┆ str   ┆ str      ┆ bool         │\n╞═══════╪═════════════╪══════════╪════════╪═══╪═════════╪═══════╪══════════╪══════════════╡\n│ 1     ┆ 2           ┆ 1        ┆ 1      ┆ … ┆ 71.2833 ┆ C85   ┆ C        ┆ false        │\n│ 3     ┆ 4           ┆ 1        ┆ 1      ┆ … ┆ 53.1    ┆ C123  ┆ S        ┆ false        │\n└───────┴─────────────┴──────────┴────────┴───┴─────────┴───────┴──────────┴──────────────┘",
      "text/html": "<div><style>\n.dataframe > thead > tr,\n.dataframe > tbody > tr {\n  text-align: right;\n  white-space: pre-wrap;\n}\n</style>\n<small>shape: (2, 14)</small><table border=\"1\" class=\"dataframe\"><thead><tr><th>index</th><th>PassengerId</th><th>Survived</th><th>Pclass</th><th>Name</th><th>Sex</th><th>Age</th><th>SibSp</th><th>Parch</th><th>Ticket</th><th>Fare</th><th>Cabin</th><th>Embarked</th><th>less_than_30</th></tr><tr><td>u32</td><td>i64</td><td>i64</td><td>i64</td><td>str</td><td>str</td><td>f64</td><td>i64</td><td>i64</td><td>str</td><td>f64</td><td>str</td><td>str</td><td>bool</td></tr></thead><tbody><tr><td>1</td><td>2</td><td>1</td><td>1</td><td>&quot;Cumings, Mrs. …</td><td>&quot;female&quot;</td><td>38.0</td><td>1</td><td>0</td><td>&quot;PC 17599&quot;</td><td>71.2833</td><td>&quot;C85&quot;</td><td>&quot;C&quot;</td><td>false</td></tr><tr><td>3</td><td>4</td><td>1</td><td>1</td><td>&quot;Futrelle, Mrs.…</td><td>&quot;female&quot;</td><td>35.0</td><td>1</td><td>0</td><td>&quot;113803&quot;</td><td>53.1</td><td>&quot;C123&quot;</td><td>&quot;S&quot;</td><td>false</td></tr></tbody></table></div>"
     },
     "execution_count": 15,
     "metadata": {},
     "output_type": "execute_result"
    }
   ],
   "source": [
    "(\n",
    "    df\n",
    "    .with_columns(\n",
    "        less_than_30 = pl.col(\"Age\") < 30\n",
    "    )\n",
    "    .filter(\n",
    "        pl.col(\"less_than_30\").not_()\n",
    "    )\n",
    "    .head(2)\n",
    ")"
   ]
  },
  {
   "cell_type": "markdown",
   "id": "cab5457b-d2cb-4d73-9e06-be8d7ac55a31",
   "metadata": {},
   "source": [
    "## Partitioning a `DataFrame`\n",
    "In some cases we want to get the different subsets of the `DataFrame` that result from a single condition. \n",
    "\n",
    "We can do this partition into sub-`DataFrames` with the `partition_by` method.\n",
    "\n",
    "In this example we partition by the `Pclass` column"
   ]
  },
  {
   "cell_type": "code",
   "execution_count": 16,
   "id": "235df744-0515-4432-9be8-03dd26fb3a54",
   "metadata": {
    "ExecuteTime": {
     "end_time": "2024-03-04T12:52:26.539597700Z",
     "start_time": "2024-03-04T12:52:26.517601700Z"
    }
   },
   "outputs": [],
   "source": [
    "df_pclass_dict = (\n",
    "    df\n",
    "    .partition_by(by=[\"Pclass\"],as_dict=True)\n",
    ")"
   ]
  },
  {
   "cell_type": "markdown",
   "id": "7b1bcef4-aa01-4d44-b051-e83edceaa232",
   "metadata": {},
   "source": [
    "The output is a python `dict` mapping from the unique values in `Pclass` to the sub-`DataFrame` for each class. This partition requires copying the data in `df` to new sub-`DataFrames`.\n",
    "\n",
    "Note that the keys of this `dict` are always tuples even if there is just one element in the tuple for each key"
   ]
  },
  {
   "cell_type": "code",
   "execution_count": 17,
   "id": "da59c99e-dbe0-4045-a384-cbd16fb1e94b",
   "metadata": {
    "ExecuteTime": {
     "end_time": "2024-03-04T12:53:17.935177200Z",
     "start_time": "2024-03-04T12:53:17.856120400Z"
    }
   },
   "outputs": [
    {
     "data": {
      "text/plain": "dict_keys([(3,), (1,), (2,)])"
     },
     "execution_count": 17,
     "metadata": {},
     "output_type": "execute_result"
    }
   ],
   "source": [
    "df_pclass_dict.keys()"
   ]
  },
  {
   "cell_type": "markdown",
   "id": "6c62dd53-d977-4c7d-89f8-a4defbfd81eb",
   "metadata": {},
   "source": [
    "Note that if we don't pass the `as_dict=True` argument we instead get a python `list` of sub-`DataFrames`.\n",
    "\n",
    "We can get the rows with first class passengers from this `dict` (note the `,` which turns `1` into the tuple `(1,)`"
   ]
  },
  {
   "cell_type": "code",
   "execution_count": 18,
   "id": "581ee34b-c1d8-43f7-b67a-5ba0cd2b52d7",
   "metadata": {
    "ExecuteTime": {
     "end_time": "2024-03-04T12:53:37.714294800Z",
     "start_time": "2024-03-04T12:53:37.692259700Z"
    }
   },
   "outputs": [
    {
     "data": {
      "text/plain": "shape: (2, 13)\n┌───────┬─────────────┬──────────┬────────┬───┬──────────┬─────────┬───────┬──────────┐\n│ index ┆ PassengerId ┆ Survived ┆ Pclass ┆ … ┆ Ticket   ┆ Fare    ┆ Cabin ┆ Embarked │\n│ ---   ┆ ---         ┆ ---      ┆ ---    ┆   ┆ ---      ┆ ---     ┆ ---   ┆ ---      │\n│ u32   ┆ i64         ┆ i64      ┆ i64    ┆   ┆ str      ┆ f64     ┆ str   ┆ str      │\n╞═══════╪═════════════╪══════════╪════════╪═══╪══════════╪═════════╪═══════╪══════════╡\n│ 1     ┆ 2           ┆ 1        ┆ 1      ┆ … ┆ PC 17599 ┆ 71.2833 ┆ C85   ┆ C        │\n│ 3     ┆ 4           ┆ 1        ┆ 1      ┆ … ┆ 113803   ┆ 53.1    ┆ C123  ┆ S        │\n└───────┴─────────────┴──────────┴────────┴───┴──────────┴─────────┴───────┴──────────┘",
      "text/html": "<div><style>\n.dataframe > thead > tr,\n.dataframe > tbody > tr {\n  text-align: right;\n  white-space: pre-wrap;\n}\n</style>\n<small>shape: (2, 13)</small><table border=\"1\" class=\"dataframe\"><thead><tr><th>index</th><th>PassengerId</th><th>Survived</th><th>Pclass</th><th>Name</th><th>Sex</th><th>Age</th><th>SibSp</th><th>Parch</th><th>Ticket</th><th>Fare</th><th>Cabin</th><th>Embarked</th></tr><tr><td>u32</td><td>i64</td><td>i64</td><td>i64</td><td>str</td><td>str</td><td>f64</td><td>i64</td><td>i64</td><td>str</td><td>f64</td><td>str</td><td>str</td></tr></thead><tbody><tr><td>1</td><td>2</td><td>1</td><td>1</td><td>&quot;Cumings, Mrs. …</td><td>&quot;female&quot;</td><td>38.0</td><td>1</td><td>0</td><td>&quot;PC 17599&quot;</td><td>71.2833</td><td>&quot;C85&quot;</td><td>&quot;C&quot;</td></tr><tr><td>3</td><td>4</td><td>1</td><td>1</td><td>&quot;Futrelle, Mrs.…</td><td>&quot;female&quot;</td><td>35.0</td><td>1</td><td>0</td><td>&quot;113803&quot;</td><td>53.1</td><td>&quot;C123&quot;</td><td>&quot;S&quot;</td></tr></tbody></table></div>"
     },
     "execution_count": 18,
     "metadata": {},
     "output_type": "execute_result"
    }
   ],
   "source": [
    "df_pclass_dict[1,].head(2)"
   ]
  },
  {
   "cell_type": "markdown",
   "id": "ac2d8ad6-7078-4053-a08d-1b768a687a58",
   "metadata": {},
   "source": [
    "## Filter in lazy mode\n",
    "We create a `LazyFrame` by scanning the CSV and adding a `filter` operation"
   ]
  },
  {
   "cell_type": "code",
   "execution_count": 19,
   "id": "96975434-b32b-4413-b2d7-7b9ed9dedd7e",
   "metadata": {
    "ExecuteTime": {
     "end_time": "2024-03-04T12:54:22.557577400Z",
     "start_time": "2024-03-04T12:54:22.497069400Z"
    }
   },
   "outputs": [
    {
     "data": {
      "text/plain": "<LazyFrame [12 cols, {\"PassengerId\": Int64 … \"Embarked\": String}] at 0x25A96B625F0>",
      "text/html": "<i>naive plan: (run <b>LazyFrame.explain(optimized=True)</b> to see the optimized plan)</i>\n    <p></p>\n    <div>FILTER [(col(\"Age\")) > (30)] FROM<p></p><p></p>  Csv SCAN data_titanic.csv<p></p>  PROJECT */12 COLUMNS</div>"
     },
     "execution_count": 19,
     "metadata": {},
     "output_type": "execute_result"
    }
   ],
   "source": [
    "(\n",
    "    pl.scan_csv(csv_file)\n",
    "    .filter(pl.col(\"Age\") > 30)\n",
    ")"
   ]
  },
  {
   "cell_type": "markdown",
   "id": "d41c6c91-e075-424e-a62b-4eec700c6b92",
   "metadata": {},
   "source": [
    "When we print the optimized plan we see the `filter` operation is part of the `SELECTION`. This query optimisation is called **predicate pushdown**. With predicate pushdown Polars tries to apply a `filter` as early as possible in a query plan to reduce the amount of data that must be processed"
   ]
  },
  {
   "cell_type": "code",
   "execution_count": 21,
   "id": "80cf265d-9076-4b80-bce3-ef630da8ec4d",
   "metadata": {
    "ExecuteTime": {
     "end_time": "2024-03-04T12:55:07.019122300Z",
     "start_time": "2024-03-04T12:55:06.949068200Z"
    }
   },
   "outputs": [
    {
     "name": "stdout",
     "output_type": "stream",
     "text": [
      "\n",
      "  Csv SCAN data_titanic.csv\n",
      "  PROJECT */12 COLUMNS\n",
      "  SELECTION: [(col(\"Age\")) > (30.0)]\n"
     ]
    }
   ],
   "source": [
    "print(\n",
    "    pl.scan_csv(csv_file)\n",
    "    .filter(pl.col(\"Age\") > 30)\n",
    "    .explain()\n",
    ")"
   ]
  },
  {
   "cell_type": "markdown",
   "id": "e08bbc59-4f18-4711-9b40-647ac8fee415",
   "metadata": {},
   "source": [
    "In this case of a `filter` applied on a query like this from a CSV on our local machine the query optimisation will not have much impact: Polars just reads the CSV, makes a `DataFrame` in memory and then filters the `DataFrame`. The result would probably be similar to doing the query in eager mode.\n",
    "\n",
    "However, if we are reading a file from cloud storage then Polars tries to apply the condition in `SELECTION` in the cloud storage and so reduces the amount of data that must be transferred across the network. The transfer across the network is typically the slowest and most expensive part of the query.\n"
   ]
  },
  {
   "cell_type": "markdown",
   "id": "2ec62383-f9d4-4aab-babe-06af0b794449",
   "metadata": {},
   "source": [
    "\n",
    "If we set `streaming=True` in `explain` we see that the `filter` operation is inside the \n",
    "```\n",
    "--- STREAMING\n",
    "--- END STREAMING\n",
    "```\n",
    "part of the query plan - this means that Polars can do this filter operation in streaming mode if we evaluate the lazy query with `.collect(streaming=True)`"
   ]
  },
  {
   "cell_type": "code",
   "execution_count": 22,
   "id": "f99ac8e6-cf58-4a2a-aa5b-5f748ae50ef9",
   "metadata": {
    "ExecuteTime": {
     "end_time": "2024-03-04T12:55:37.677605600Z",
     "start_time": "2024-03-04T12:55:37.630605200Z"
    }
   },
   "outputs": [
    {
     "name": "stdout",
     "output_type": "stream",
     "text": [
      "--- STREAMING\n",
      "\n",
      "  Csv SCAN data_titanic.csv\n",
      "  PROJECT */12 COLUMNS\n",
      "  SELECTION: [(col(\"Age\")) > (30.0)]  --- END STREAMING\n",
      "\n",
      "  DF []; PROJECT */0 COLUMNS; SELECTION: \"None\"\n"
     ]
    },
    {
     "name": "stderr",
     "output_type": "stream",
     "text": [
      "C:\\Users\\A00007579\\AppData\\Local\\Temp\\ipykernel_44212\\2627333246.py:2: UserWarning: Cannot combine 'streaming' with 'comm_subplan_elim'. CSE will be turned off.\n",
      "  pl.scan_csv(csv_file)\n"
     ]
    }
   ],
   "source": [
    "print(\n",
    "    pl.scan_csv(csv_file)\n",
    "    .filter(pl.col(\"Age\") > 30)\n",
    "    .explain(streaming=True)\n",
    ")"
   ]
  },
  {
   "cell_type": "markdown",
   "id": "94787c49-833d-4b79-9efe-301d49511ec1",
   "metadata": {},
   "source": [
    "# Exercises\n",
    "In the exercises you will develop your understanding of\n",
    "- using the `filter` method\n",
    "- adding a row number column\n",
    "- partitioning a `DataFrame`"
   ]
  },
  {
   "cell_type": "markdown",
   "id": "7e114028-cf26-4773-9078-1e68d9221b50",
   "metadata": {},
   "source": [
    "### Exercise 1 \n",
    "Select all rows where `Age` is greater than 30"
   ]
  },
  {
   "cell_type": "code",
   "execution_count": 25,
   "id": "3979c416-8da6-44cc-8408-a5930159bdd4",
   "metadata": {
    "tags": [],
    "ExecuteTime": {
     "end_time": "2024-03-04T12:57:38.251384900Z",
     "start_time": "2024-03-04T12:57:38.127284600Z"
    }
   },
   "outputs": [
    {
     "data": {
      "text/plain": "shape: (305, 12)\n┌─────────────┬──────────┬────────┬────────────────────┬───┬──────────┬─────────┬───────┬──────────┐\n│ PassengerId ┆ Survived ┆ Pclass ┆ Name               ┆ … ┆ Ticket   ┆ Fare    ┆ Cabin ┆ Embarked │\n│ ---         ┆ ---      ┆ ---    ┆ ---                ┆   ┆ ---      ┆ ---     ┆ ---   ┆ ---      │\n│ i64         ┆ i64      ┆ i64    ┆ str                ┆   ┆ str      ┆ f64     ┆ str   ┆ str      │\n╞═════════════╪══════════╪════════╪════════════════════╪═══╪══════════╪═════════╪═══════╪══════════╡\n│ 2           ┆ 1        ┆ 1      ┆ Cumings, Mrs. John ┆ … ┆ PC 17599 ┆ 71.2833 ┆ C85   ┆ C        │\n│             ┆          ┆        ┆ Bradley (Flor…     ┆   ┆          ┆         ┆       ┆          │\n│ 4           ┆ 1        ┆ 1      ┆ Futrelle, Mrs.     ┆ … ┆ 113803   ┆ 53.1    ┆ C123  ┆ S        │\n│             ┆          ┆        ┆ Jacques Heath (Li… ┆   ┆          ┆         ┆       ┆          │\n│ 5           ┆ 0        ┆ 3      ┆ Allen, Mr. William ┆ … ┆ 373450   ┆ 8.05    ┆ null  ┆ S        │\n│             ┆          ┆        ┆ Henry              ┆   ┆          ┆         ┆       ┆          │\n│ 7           ┆ 0        ┆ 1      ┆ McCarthy, Mr.      ┆ … ┆ 17463    ┆ 51.8625 ┆ E46   ┆ S        │\n│             ┆          ┆        ┆ Timothy J          ┆   ┆          ┆         ┆       ┆          │\n│ 12          ┆ 1        ┆ 1      ┆ Bonnell, Miss.     ┆ … ┆ 113783   ┆ 26.55   ┆ C103  ┆ S        │\n│             ┆          ┆        ┆ Elizabeth          ┆   ┆          ┆         ┆       ┆          │\n│ …           ┆ …        ┆ …      ┆ …                  ┆ … ┆ …        ┆ …       ┆ …     ┆ …        │\n│ 874         ┆ 0        ┆ 3      ┆ Vander Cruyssen,   ┆ … ┆ 345765   ┆ 9.0     ┆ null  ┆ S        │\n│             ┆          ┆        ┆ Mr. Victor         ┆   ┆          ┆         ┆       ┆          │\n│ 880         ┆ 1        ┆ 1      ┆ Potter, Mrs.       ┆ … ┆ 11767    ┆ 83.1583 ┆ C50   ┆ C        │\n│             ┆          ┆        ┆ Thomas Jr (Lily    ┆   ┆          ┆         ┆       ┆          │\n│             ┆          ┆        ┆ Ale…               ┆   ┆          ┆         ┆       ┆          │\n│ 882         ┆ 0        ┆ 3      ┆ Markun, Mr. Johann ┆ … ┆ 349257   ┆ 7.8958  ┆ null  ┆ S        │\n│ 886         ┆ 0        ┆ 3      ┆ Rice, Mrs. William ┆ … ┆ 382652   ┆ 29.125  ┆ null  ┆ Q        │\n│             ┆          ┆        ┆ (Margaret Nor…     ┆   ┆          ┆         ┆       ┆          │\n│ 891         ┆ 0        ┆ 3      ┆ Dooley, Mr.        ┆ … ┆ 370376   ┆ 7.75    ┆ null  ┆ Q        │\n│             ┆          ┆        ┆ Patrick            ┆   ┆          ┆         ┆       ┆          │\n└─────────────┴──────────┴────────┴────────────────────┴───┴──────────┴─────────┴───────┴──────────┘",
      "text/html": "<div><style>\n.dataframe > thead > tr,\n.dataframe > tbody > tr {\n  text-align: right;\n  white-space: pre-wrap;\n}\n</style>\n<small>shape: (305, 12)</small><table border=\"1\" class=\"dataframe\"><thead><tr><th>PassengerId</th><th>Survived</th><th>Pclass</th><th>Name</th><th>Sex</th><th>Age</th><th>SibSp</th><th>Parch</th><th>Ticket</th><th>Fare</th><th>Cabin</th><th>Embarked</th></tr><tr><td>i64</td><td>i64</td><td>i64</td><td>str</td><td>str</td><td>f64</td><td>i64</td><td>i64</td><td>str</td><td>f64</td><td>str</td><td>str</td></tr></thead><tbody><tr><td>2</td><td>1</td><td>1</td><td>&quot;Cumings, Mrs. …</td><td>&quot;female&quot;</td><td>38.0</td><td>1</td><td>0</td><td>&quot;PC 17599&quot;</td><td>71.2833</td><td>&quot;C85&quot;</td><td>&quot;C&quot;</td></tr><tr><td>4</td><td>1</td><td>1</td><td>&quot;Futrelle, Mrs.…</td><td>&quot;female&quot;</td><td>35.0</td><td>1</td><td>0</td><td>&quot;113803&quot;</td><td>53.1</td><td>&quot;C123&quot;</td><td>&quot;S&quot;</td></tr><tr><td>5</td><td>0</td><td>3</td><td>&quot;Allen, Mr. Wil…</td><td>&quot;male&quot;</td><td>35.0</td><td>0</td><td>0</td><td>&quot;373450&quot;</td><td>8.05</td><td>null</td><td>&quot;S&quot;</td></tr><tr><td>7</td><td>0</td><td>1</td><td>&quot;McCarthy, Mr. …</td><td>&quot;male&quot;</td><td>54.0</td><td>0</td><td>0</td><td>&quot;17463&quot;</td><td>51.8625</td><td>&quot;E46&quot;</td><td>&quot;S&quot;</td></tr><tr><td>12</td><td>1</td><td>1</td><td>&quot;Bonnell, Miss.…</td><td>&quot;female&quot;</td><td>58.0</td><td>0</td><td>0</td><td>&quot;113783&quot;</td><td>26.55</td><td>&quot;C103&quot;</td><td>&quot;S&quot;</td></tr><tr><td>&hellip;</td><td>&hellip;</td><td>&hellip;</td><td>&hellip;</td><td>&hellip;</td><td>&hellip;</td><td>&hellip;</td><td>&hellip;</td><td>&hellip;</td><td>&hellip;</td><td>&hellip;</td><td>&hellip;</td></tr><tr><td>874</td><td>0</td><td>3</td><td>&quot;Vander Cruysse…</td><td>&quot;male&quot;</td><td>47.0</td><td>0</td><td>0</td><td>&quot;345765&quot;</td><td>9.0</td><td>null</td><td>&quot;S&quot;</td></tr><tr><td>880</td><td>1</td><td>1</td><td>&quot;Potter, Mrs. T…</td><td>&quot;female&quot;</td><td>56.0</td><td>0</td><td>1</td><td>&quot;11767&quot;</td><td>83.1583</td><td>&quot;C50&quot;</td><td>&quot;C&quot;</td></tr><tr><td>882</td><td>0</td><td>3</td><td>&quot;Markun, Mr. Jo…</td><td>&quot;male&quot;</td><td>33.0</td><td>0</td><td>0</td><td>&quot;349257&quot;</td><td>7.8958</td><td>null</td><td>&quot;S&quot;</td></tr><tr><td>886</td><td>0</td><td>3</td><td>&quot;Rice, Mrs. Wil…</td><td>&quot;female&quot;</td><td>39.0</td><td>0</td><td>5</td><td>&quot;382652&quot;</td><td>29.125</td><td>null</td><td>&quot;Q&quot;</td></tr><tr><td>891</td><td>0</td><td>3</td><td>&quot;Dooley, Mr. Pa…</td><td>&quot;male&quot;</td><td>32.0</td><td>0</td><td>0</td><td>&quot;370376&quot;</td><td>7.75</td><td>null</td><td>&quot;Q&quot;</td></tr></tbody></table></div>"
     },
     "execution_count": 25,
     "metadata": {},
     "output_type": "execute_result"
    }
   ],
   "source": [
    "(\n",
    "    pl.read_csv(csv_file)\n",
    "    .filter(\n",
    "        pl.col('Age') > 30\n",
    "    )\n",
    ")"
   ]
  },
  {
   "cell_type": "markdown",
   "id": "01b9ce69-d2da-4e35-9d50-fdacde1bbde7",
   "metadata": {},
   "source": [
    "Select all rows where `Embarked` is equal to \"C\" - using the keyword approach"
   ]
  },
  {
   "cell_type": "code",
   "execution_count": 26,
   "id": "79638fdf-c2dc-45c7-91a7-c49fbd471c99",
   "metadata": {
    "ExecuteTime": {
     "end_time": "2024-03-04T12:58:11.596185400Z",
     "start_time": "2024-03-04T12:58:11.503155700Z"
    }
   },
   "outputs": [
    {
     "data": {
      "text/plain": "shape: (168, 12)\n┌─────────────┬──────────┬────────┬───────────────┬───┬───────────────┬─────────┬───────┬──────────┐\n│ PassengerId ┆ Survived ┆ Pclass ┆ Name          ┆ … ┆ Ticket        ┆ Fare    ┆ Cabin ┆ Embarked │\n│ ---         ┆ ---      ┆ ---    ┆ ---           ┆   ┆ ---           ┆ ---     ┆ ---   ┆ ---      │\n│ i64         ┆ i64      ┆ i64    ┆ str           ┆   ┆ str           ┆ f64     ┆ str   ┆ str      │\n╞═════════════╪══════════╪════════╪═══════════════╪═══╪═══════════════╪═════════╪═══════╪══════════╡\n│ 2           ┆ 1        ┆ 1      ┆ Cumings, Mrs. ┆ … ┆ PC 17599      ┆ 71.2833 ┆ C85   ┆ C        │\n│             ┆          ┆        ┆ John Bradley  ┆   ┆               ┆         ┆       ┆          │\n│             ┆          ┆        ┆ (Flor…        ┆   ┆               ┆         ┆       ┆          │\n│ 10          ┆ 1        ┆ 2      ┆ Nasser, Mrs.  ┆ … ┆ 237736        ┆ 30.0708 ┆ null  ┆ C        │\n│             ┆          ┆        ┆ Nicholas      ┆   ┆               ┆         ┆       ┆          │\n│             ┆          ┆        ┆ (Adele Ach…   ┆   ┆               ┆         ┆       ┆          │\n│ 20          ┆ 1        ┆ 3      ┆ Masselmani,   ┆ … ┆ 2649          ┆ 7.225   ┆ null  ┆ C        │\n│             ┆          ┆        ┆ Mrs. Fatima   ┆   ┆               ┆         ┆       ┆          │\n│ 27          ┆ 0        ┆ 3      ┆ Emir, Mr.     ┆ … ┆ 2631          ┆ 7.225   ┆ null  ┆ C        │\n│             ┆          ┆        ┆ Farred Chehab ┆   ┆               ┆         ┆       ┆          │\n│ 31          ┆ 0        ┆ 1      ┆ Uruchurtu,    ┆ … ┆ PC 17601      ┆ 27.7208 ┆ null  ┆ C        │\n│             ┆          ┆        ┆ Don. Manuel E ┆   ┆               ┆         ┆       ┆          │\n│ …           ┆ …        ┆ …      ┆ …             ┆ … ┆ …             ┆ …       ┆ …     ┆ …        │\n│ 867         ┆ 1        ┆ 2      ┆ Duran y More, ┆ … ┆ SC/PARIS 2149 ┆ 13.8583 ┆ null  ┆ C        │\n│             ┆          ┆        ┆ Miss.         ┆   ┆               ┆         ┆       ┆          │\n│             ┆          ┆        ┆ Asuncion      ┆   ┆               ┆         ┆       ┆          │\n│ 875         ┆ 1        ┆ 2      ┆ Abelson, Mrs. ┆ … ┆ P/PP 3381     ┆ 24.0    ┆ null  ┆ C        │\n│             ┆          ┆        ┆ Samuel        ┆   ┆               ┆         ┆       ┆          │\n│             ┆          ┆        ┆ (Hannah Wiz…  ┆   ┆               ┆         ┆       ┆          │\n│ 876         ┆ 1        ┆ 3      ┆ Najib, Miss.  ┆ … ┆ 2667          ┆ 7.225   ┆ null  ┆ C        │\n│             ┆          ┆        ┆ Adele Kiamie  ┆   ┆               ┆         ┆       ┆          │\n│             ┆          ┆        ┆ \"Jane\"        ┆   ┆               ┆         ┆       ┆          │\n│ 880         ┆ 1        ┆ 1      ┆ Potter, Mrs.  ┆ … ┆ 11767         ┆ 83.1583 ┆ C50   ┆ C        │\n│             ┆          ┆        ┆ Thomas Jr     ┆   ┆               ┆         ┆       ┆          │\n│             ┆          ┆        ┆ (Lily Ale…    ┆   ┆               ┆         ┆       ┆          │\n│ 890         ┆ 1        ┆ 1      ┆ Behr, Mr.     ┆ … ┆ 111369        ┆ 30.0    ┆ C148  ┆ C        │\n│             ┆          ┆        ┆ Karl Howell   ┆   ┆               ┆         ┆       ┆          │\n└─────────────┴──────────┴────────┴───────────────┴───┴───────────────┴─────────┴───────┴──────────┘",
      "text/html": "<div><style>\n.dataframe > thead > tr,\n.dataframe > tbody > tr {\n  text-align: right;\n  white-space: pre-wrap;\n}\n</style>\n<small>shape: (168, 12)</small><table border=\"1\" class=\"dataframe\"><thead><tr><th>PassengerId</th><th>Survived</th><th>Pclass</th><th>Name</th><th>Sex</th><th>Age</th><th>SibSp</th><th>Parch</th><th>Ticket</th><th>Fare</th><th>Cabin</th><th>Embarked</th></tr><tr><td>i64</td><td>i64</td><td>i64</td><td>str</td><td>str</td><td>f64</td><td>i64</td><td>i64</td><td>str</td><td>f64</td><td>str</td><td>str</td></tr></thead><tbody><tr><td>2</td><td>1</td><td>1</td><td>&quot;Cumings, Mrs. …</td><td>&quot;female&quot;</td><td>38.0</td><td>1</td><td>0</td><td>&quot;PC 17599&quot;</td><td>71.2833</td><td>&quot;C85&quot;</td><td>&quot;C&quot;</td></tr><tr><td>10</td><td>1</td><td>2</td><td>&quot;Nasser, Mrs. N…</td><td>&quot;female&quot;</td><td>14.0</td><td>1</td><td>0</td><td>&quot;237736&quot;</td><td>30.0708</td><td>null</td><td>&quot;C&quot;</td></tr><tr><td>20</td><td>1</td><td>3</td><td>&quot;Masselmani, Mr…</td><td>&quot;female&quot;</td><td>null</td><td>0</td><td>0</td><td>&quot;2649&quot;</td><td>7.225</td><td>null</td><td>&quot;C&quot;</td></tr><tr><td>27</td><td>0</td><td>3</td><td>&quot;Emir, Mr. Farr…</td><td>&quot;male&quot;</td><td>null</td><td>0</td><td>0</td><td>&quot;2631&quot;</td><td>7.225</td><td>null</td><td>&quot;C&quot;</td></tr><tr><td>31</td><td>0</td><td>1</td><td>&quot;Uruchurtu, Don…</td><td>&quot;male&quot;</td><td>40.0</td><td>0</td><td>0</td><td>&quot;PC 17601&quot;</td><td>27.7208</td><td>null</td><td>&quot;C&quot;</td></tr><tr><td>&hellip;</td><td>&hellip;</td><td>&hellip;</td><td>&hellip;</td><td>&hellip;</td><td>&hellip;</td><td>&hellip;</td><td>&hellip;</td><td>&hellip;</td><td>&hellip;</td><td>&hellip;</td><td>&hellip;</td></tr><tr><td>867</td><td>1</td><td>2</td><td>&quot;Duran y More, …</td><td>&quot;female&quot;</td><td>27.0</td><td>1</td><td>0</td><td>&quot;SC/PARIS 2149&quot;</td><td>13.8583</td><td>null</td><td>&quot;C&quot;</td></tr><tr><td>875</td><td>1</td><td>2</td><td>&quot;Abelson, Mrs. …</td><td>&quot;female&quot;</td><td>28.0</td><td>1</td><td>0</td><td>&quot;P/PP 3381&quot;</td><td>24.0</td><td>null</td><td>&quot;C&quot;</td></tr><tr><td>876</td><td>1</td><td>3</td><td>&quot;Najib, Miss. A…</td><td>&quot;female&quot;</td><td>15.0</td><td>0</td><td>0</td><td>&quot;2667&quot;</td><td>7.225</td><td>null</td><td>&quot;C&quot;</td></tr><tr><td>880</td><td>1</td><td>1</td><td>&quot;Potter, Mrs. T…</td><td>&quot;female&quot;</td><td>56.0</td><td>0</td><td>1</td><td>&quot;11767&quot;</td><td>83.1583</td><td>&quot;C50&quot;</td><td>&quot;C&quot;</td></tr><tr><td>890</td><td>1</td><td>1</td><td>&quot;Behr, Mr. Karl…</td><td>&quot;male&quot;</td><td>26.0</td><td>0</td><td>0</td><td>&quot;111369&quot;</td><td>30.0</td><td>&quot;C148&quot;</td><td>&quot;C&quot;</td></tr></tbody></table></div>"
     },
     "execution_count": 26,
     "metadata": {},
     "output_type": "execute_result"
    }
   ],
   "source": [
    "(\n",
    "    pl.read_csv(csv_file)\n",
    "    .filter(\n",
    "        Embarked = 'C'\n",
    "    )\n",
    ")"
   ]
  },
  {
   "cell_type": "markdown",
   "id": "cb7e9d33-78c0-4dc5-bc1c-e5216aa32538",
   "metadata": {},
   "source": [
    "Select all rows where `Embarked` is equal to \"C\" - use `pl.col` with the text operator rather than the mathematical operator this time"
   ]
  },
  {
   "cell_type": "code",
   "execution_count": null,
   "id": "ce5acd5f-ac19-45e2-9d1c-611ce2b7b289",
   "metadata": {},
   "outputs": [],
   "source": []
  },
  {
   "cell_type": "markdown",
   "id": "8fa99782-ce3b-4b68-9f6c-fd0e0c55dadf",
   "metadata": {},
   "source": [
    "Select all rows where `Embarked` is **not** equal to \"C\" "
   ]
  },
  {
   "cell_type": "code",
   "execution_count": null,
   "id": "38a42971-f1c7-43d6-896b-b1448bf099ef",
   "metadata": {},
   "outputs": [],
   "source": []
  },
  {
   "cell_type": "markdown",
   "id": "638d7719-579c-421d-8643-13fc3c43c7d0",
   "metadata": {},
   "source": [
    "### Exercise 2 \n",
    "\n",
    "In this exercise we filter on row numbers.\n",
    "\n",
    "First add a row number column"
   ]
  },
  {
   "cell_type": "code",
   "execution_count": 27,
   "id": "1ba4e8a1-981d-44ed-b34e-1b54d889c5d1",
   "metadata": {
    "tags": [],
    "ExecuteTime": {
     "end_time": "2024-03-04T13:00:43.958367300Z",
     "start_time": "2024-03-04T13:00:43.863370700Z"
    }
   },
   "outputs": [
    {
     "data": {
      "text/plain": "shape: (891, 13)\n┌───────┬─────────────┬──────────┬────────┬───┬──────────────────┬─────────┬───────┬──────────┐\n│ index ┆ PassengerId ┆ Survived ┆ Pclass ┆ … ┆ Ticket           ┆ Fare    ┆ Cabin ┆ Embarked │\n│ ---   ┆ ---         ┆ ---      ┆ ---    ┆   ┆ ---              ┆ ---     ┆ ---   ┆ ---      │\n│ u32   ┆ i64         ┆ i64      ┆ i64    ┆   ┆ str              ┆ f64     ┆ str   ┆ str      │\n╞═══════╪═════════════╪══════════╪════════╪═══╪══════════════════╪═════════╪═══════╪══════════╡\n│ 0     ┆ 1           ┆ 0        ┆ 3      ┆ … ┆ A/5 21171        ┆ 7.25    ┆ null  ┆ S        │\n│ 1     ┆ 2           ┆ 1        ┆ 1      ┆ … ┆ PC 17599         ┆ 71.2833 ┆ C85   ┆ C        │\n│ 2     ┆ 3           ┆ 1        ┆ 3      ┆ … ┆ STON/O2. 3101282 ┆ 7.925   ┆ null  ┆ S        │\n│ 3     ┆ 4           ┆ 1        ┆ 1      ┆ … ┆ 113803           ┆ 53.1    ┆ C123  ┆ S        │\n│ 4     ┆ 5           ┆ 0        ┆ 3      ┆ … ┆ 373450           ┆ 8.05    ┆ null  ┆ S        │\n│ …     ┆ …           ┆ …        ┆ …      ┆ … ┆ …                ┆ …       ┆ …     ┆ …        │\n│ 886   ┆ 887         ┆ 0        ┆ 2      ┆ … ┆ 211536           ┆ 13.0    ┆ null  ┆ S        │\n│ 887   ┆ 888         ┆ 1        ┆ 1      ┆ … ┆ 112053           ┆ 30.0    ┆ B42   ┆ S        │\n│ 888   ┆ 889         ┆ 0        ┆ 3      ┆ … ┆ W./C. 6607       ┆ 23.45   ┆ null  ┆ S        │\n│ 889   ┆ 890         ┆ 1        ┆ 1      ┆ … ┆ 111369           ┆ 30.0    ┆ C148  ┆ C        │\n│ 890   ┆ 891         ┆ 0        ┆ 3      ┆ … ┆ 370376           ┆ 7.75    ┆ null  ┆ Q        │\n└───────┴─────────────┴──────────┴────────┴───┴──────────────────┴─────────┴───────┴──────────┘",
      "text/html": "<div><style>\n.dataframe > thead > tr,\n.dataframe > tbody > tr {\n  text-align: right;\n  white-space: pre-wrap;\n}\n</style>\n<small>shape: (891, 13)</small><table border=\"1\" class=\"dataframe\"><thead><tr><th>index</th><th>PassengerId</th><th>Survived</th><th>Pclass</th><th>Name</th><th>Sex</th><th>Age</th><th>SibSp</th><th>Parch</th><th>Ticket</th><th>Fare</th><th>Cabin</th><th>Embarked</th></tr><tr><td>u32</td><td>i64</td><td>i64</td><td>i64</td><td>str</td><td>str</td><td>f64</td><td>i64</td><td>i64</td><td>str</td><td>f64</td><td>str</td><td>str</td></tr></thead><tbody><tr><td>0</td><td>1</td><td>0</td><td>3</td><td>&quot;Braund, Mr. Ow…</td><td>&quot;male&quot;</td><td>22.0</td><td>1</td><td>0</td><td>&quot;A/5 21171&quot;</td><td>7.25</td><td>null</td><td>&quot;S&quot;</td></tr><tr><td>1</td><td>2</td><td>1</td><td>1</td><td>&quot;Cumings, Mrs. …</td><td>&quot;female&quot;</td><td>38.0</td><td>1</td><td>0</td><td>&quot;PC 17599&quot;</td><td>71.2833</td><td>&quot;C85&quot;</td><td>&quot;C&quot;</td></tr><tr><td>2</td><td>3</td><td>1</td><td>3</td><td>&quot;Heikkinen, Mis…</td><td>&quot;female&quot;</td><td>26.0</td><td>0</td><td>0</td><td>&quot;STON/O2. 31012…</td><td>7.925</td><td>null</td><td>&quot;S&quot;</td></tr><tr><td>3</td><td>4</td><td>1</td><td>1</td><td>&quot;Futrelle, Mrs.…</td><td>&quot;female&quot;</td><td>35.0</td><td>1</td><td>0</td><td>&quot;113803&quot;</td><td>53.1</td><td>&quot;C123&quot;</td><td>&quot;S&quot;</td></tr><tr><td>4</td><td>5</td><td>0</td><td>3</td><td>&quot;Allen, Mr. Wil…</td><td>&quot;male&quot;</td><td>35.0</td><td>0</td><td>0</td><td>&quot;373450&quot;</td><td>8.05</td><td>null</td><td>&quot;S&quot;</td></tr><tr><td>&hellip;</td><td>&hellip;</td><td>&hellip;</td><td>&hellip;</td><td>&hellip;</td><td>&hellip;</td><td>&hellip;</td><td>&hellip;</td><td>&hellip;</td><td>&hellip;</td><td>&hellip;</td><td>&hellip;</td><td>&hellip;</td></tr><tr><td>886</td><td>887</td><td>0</td><td>2</td><td>&quot;Montvila, Rev.…</td><td>&quot;male&quot;</td><td>27.0</td><td>0</td><td>0</td><td>&quot;211536&quot;</td><td>13.0</td><td>null</td><td>&quot;S&quot;</td></tr><tr><td>887</td><td>888</td><td>1</td><td>1</td><td>&quot;Graham, Miss. …</td><td>&quot;female&quot;</td><td>19.0</td><td>0</td><td>0</td><td>&quot;112053&quot;</td><td>30.0</td><td>&quot;B42&quot;</td><td>&quot;S&quot;</td></tr><tr><td>888</td><td>889</td><td>0</td><td>3</td><td>&quot;Johnston, Miss…</td><td>&quot;female&quot;</td><td>null</td><td>1</td><td>2</td><td>&quot;W./C. 6607&quot;</td><td>23.45</td><td>null</td><td>&quot;S&quot;</td></tr><tr><td>889</td><td>890</td><td>1</td><td>1</td><td>&quot;Behr, Mr. Karl…</td><td>&quot;male&quot;</td><td>26.0</td><td>0</td><td>0</td><td>&quot;111369&quot;</td><td>30.0</td><td>&quot;C148&quot;</td><td>&quot;C&quot;</td></tr><tr><td>890</td><td>891</td><td>0</td><td>3</td><td>&quot;Dooley, Mr. Pa…</td><td>&quot;male&quot;</td><td>32.0</td><td>0</td><td>0</td><td>&quot;370376&quot;</td><td>7.75</td><td>null</td><td>&quot;Q&quot;</td></tr></tbody></table></div>"
     },
     "execution_count": 27,
     "metadata": {},
     "output_type": "execute_result"
    }
   ],
   "source": [
    "(\n",
    "    pl.read_csv(csv_file)\n",
    "    .with_row_index(name='index')\n",
    ")\n"
   ]
  },
  {
   "cell_type": "markdown",
   "id": "f5ad5471-a7dd-4771-8a4d-40868b27e15f",
   "metadata": {},
   "source": [
    "Continue by selecting the first 5 rows using `filter` on the row number column"
   ]
  },
  {
   "cell_type": "code",
   "execution_count": 29,
   "id": "6a660dae-bf35-4958-83d8-5a629cf55fd7",
   "metadata": {
    "tags": [],
    "ExecuteTime": {
     "end_time": "2024-03-04T13:01:41.247791200Z",
     "start_time": "2024-03-04T13:01:41.201871300Z"
    }
   },
   "outputs": [
    {
     "data": {
      "text/plain": "shape: (5, 13)\n┌───────┬─────────────┬──────────┬────────┬───┬──────────────────┬─────────┬───────┬──────────┐\n│ index ┆ PassengerId ┆ Survived ┆ Pclass ┆ … ┆ Ticket           ┆ Fare    ┆ Cabin ┆ Embarked │\n│ ---   ┆ ---         ┆ ---      ┆ ---    ┆   ┆ ---              ┆ ---     ┆ ---   ┆ ---      │\n│ u32   ┆ i64         ┆ i64      ┆ i64    ┆   ┆ str              ┆ f64     ┆ str   ┆ str      │\n╞═══════╪═════════════╪══════════╪════════╪═══╪══════════════════╪═════════╪═══════╪══════════╡\n│ 0     ┆ 1           ┆ 0        ┆ 3      ┆ … ┆ A/5 21171        ┆ 7.25    ┆ null  ┆ S        │\n│ 1     ┆ 2           ┆ 1        ┆ 1      ┆ … ┆ PC 17599         ┆ 71.2833 ┆ C85   ┆ C        │\n│ 2     ┆ 3           ┆ 1        ┆ 3      ┆ … ┆ STON/O2. 3101282 ┆ 7.925   ┆ null  ┆ S        │\n│ 3     ┆ 4           ┆ 1        ┆ 1      ┆ … ┆ 113803           ┆ 53.1    ┆ C123  ┆ S        │\n│ 4     ┆ 5           ┆ 0        ┆ 3      ┆ … ┆ 373450           ┆ 8.05    ┆ null  ┆ S        │\n└───────┴─────────────┴──────────┴────────┴───┴──────────────────┴─────────┴───────┴──────────┘",
      "text/html": "<div><style>\n.dataframe > thead > tr,\n.dataframe > tbody > tr {\n  text-align: right;\n  white-space: pre-wrap;\n}\n</style>\n<small>shape: (5, 13)</small><table border=\"1\" class=\"dataframe\"><thead><tr><th>index</th><th>PassengerId</th><th>Survived</th><th>Pclass</th><th>Name</th><th>Sex</th><th>Age</th><th>SibSp</th><th>Parch</th><th>Ticket</th><th>Fare</th><th>Cabin</th><th>Embarked</th></tr><tr><td>u32</td><td>i64</td><td>i64</td><td>i64</td><td>str</td><td>str</td><td>f64</td><td>i64</td><td>i64</td><td>str</td><td>f64</td><td>str</td><td>str</td></tr></thead><tbody><tr><td>0</td><td>1</td><td>0</td><td>3</td><td>&quot;Braund, Mr. Ow…</td><td>&quot;male&quot;</td><td>22.0</td><td>1</td><td>0</td><td>&quot;A/5 21171&quot;</td><td>7.25</td><td>null</td><td>&quot;S&quot;</td></tr><tr><td>1</td><td>2</td><td>1</td><td>1</td><td>&quot;Cumings, Mrs. …</td><td>&quot;female&quot;</td><td>38.0</td><td>1</td><td>0</td><td>&quot;PC 17599&quot;</td><td>71.2833</td><td>&quot;C85&quot;</td><td>&quot;C&quot;</td></tr><tr><td>2</td><td>3</td><td>1</td><td>3</td><td>&quot;Heikkinen, Mis…</td><td>&quot;female&quot;</td><td>26.0</td><td>0</td><td>0</td><td>&quot;STON/O2. 31012…</td><td>7.925</td><td>null</td><td>&quot;S&quot;</td></tr><tr><td>3</td><td>4</td><td>1</td><td>1</td><td>&quot;Futrelle, Mrs.…</td><td>&quot;female&quot;</td><td>35.0</td><td>1</td><td>0</td><td>&quot;113803&quot;</td><td>53.1</td><td>&quot;C123&quot;</td><td>&quot;S&quot;</td></tr><tr><td>4</td><td>5</td><td>0</td><td>3</td><td>&quot;Allen, Mr. Wil…</td><td>&quot;male&quot;</td><td>35.0</td><td>0</td><td>0</td><td>&quot;373450&quot;</td><td>8.05</td><td>null</td><td>&quot;S&quot;</td></tr></tbody></table></div>"
     },
     "execution_count": 29,
     "metadata": {},
     "output_type": "execute_result"
    }
   ],
   "source": [
    "(\n",
    "    pl.read_csv(csv_file)\n",
    "    .with_row_index(name='index')\n",
    "    .filter(\n",
    "        pl.col('index') < 5\n",
    "    )\n",
    ")"
   ]
  },
  {
   "cell_type": "markdown",
   "id": "a0e033ec-772a-4dd5-9f05-9726b6462dc6",
   "metadata": {},
   "source": [
    "### Exercise 3\n",
    "Partition the `DataFrame` by the `Survived` and `Pclass` columns as a `dict` (you may want to check the API docs for help: https://pola-rs.github.io/polars/py-polars/html/reference/dataframe/api/polars.DataFrame.partition_by.html#polars.DataFrame.partition_by)"
   ]
  },
  {
   "cell_type": "code",
   "execution_count": null,
   "id": "0069c78d-855e-48ae-a8e6-601f5e07d28d",
   "metadata": {},
   "outputs": [],
   "source": [
    "survived_pclass_dict = (\n",
    "    pl.read_csv(csv_file)\n",
    "    <blank>\n",
    ")"
   ]
  },
  {
   "cell_type": "markdown",
   "id": "bdaa4dbb-fd67-4c99-af7d-cd59b64097ea",
   "metadata": {},
   "source": [
    "Return the sub-`DataFrame` with the passengers who did not survive from the third class"
   ]
  },
  {
   "cell_type": "code",
   "execution_count": null,
   "id": "dfeaf8f4-0ec1-433e-84ef-b4cfaca01778",
   "metadata": {},
   "outputs": [],
   "source": []
  },
  {
   "cell_type": "markdown",
   "id": "3915dcd5-9ae5-46a3-930f-4f7c7c501567",
   "metadata": {},
   "source": [
    "### Exercise 4\n",
    "In this exercise we load data from the Spotify charts"
   ]
  },
  {
   "cell_type": "code",
   "execution_count": null,
   "id": "dd952f42-c01b-4974-96cf-4104ff8ea693",
   "metadata": {},
   "outputs": [],
   "source": [
    "spotify_csv = \"../data/spotify-charts-2017-2021-global-top200.csv.gz\"\n",
    "spotify_df = pl.read_csv(spotify_csv)\n",
    "spotify_df.head()"
   ]
  },
  {
   "cell_type": "markdown",
   "id": "556a0973-3a48-413d-95fc-8e924aded9e7",
   "metadata": {},
   "source": [
    "Filter the `DataFrame` to find all rows with artist Post Malone"
   ]
  },
  {
   "cell_type": "code",
   "execution_count": null,
   "id": "e596ce00-1c77-473d-8491-9a6e502c8b7a",
   "metadata": {},
   "outputs": [],
   "source": [
    "(\n",
    "    spotify_df\n",
    "    <blank>\n",
    ")"
   ]
  },
  {
   "cell_type": "markdown",
   "id": "acd99200-37a9-4b7c-a2d8-25625290a26c",
   "metadata": {},
   "source": [
    "## Solutions\n",
    "\n",
    "### Solution to Exercise 1\n",
    "Select all rows with `Age` greater than 30"
   ]
  },
  {
   "cell_type": "code",
   "execution_count": null,
   "id": "76586b11-4e98-4d97-a043-71932d85de84",
   "metadata": {
    "jupyter": {
     "source_hidden": true
    },
    "tags": []
   },
   "outputs": [],
   "source": [
    "(\n",
    "    pl.read_csv(csv_file)\n",
    "    .filter(pl.col('Age') > 30)\n",
    "    .head(3)\n",
    ")"
   ]
  },
  {
   "cell_type": "markdown",
   "id": "a96a08e2-08ea-4e78-a9f7-8f064e9e708c",
   "metadata": {},
   "source": [
    "Select all rows where `Embarked` is equal to \"C\" - using the keyword approach"
   ]
  },
  {
   "cell_type": "code",
   "execution_count": null,
   "id": "740be880-c1fa-4e6a-8dac-f5e6daaffadc",
   "metadata": {
    "jupyter": {
     "source_hidden": true
    }
   },
   "outputs": [],
   "source": [
    "(\n",
    "    pl.read_csv(csv_file)\n",
    "    .filter(Embarked = \"C\")\n",
    "    .head(3)\n",
    ")"
   ]
  },
  {
   "cell_type": "markdown",
   "id": "15df3934-538b-4007-8291-982ecedd9c8b",
   "metadata": {},
   "source": [
    "Select all rows where `Embarked` is equal to \"C\" - use `pl.col` with the text operator rather than the mathematical operator this time"
   ]
  },
  {
   "cell_type": "code",
   "execution_count": null,
   "id": "ee7524e2-ce39-47c3-a0e3-8950513f2b4e",
   "metadata": {
    "jupyter": {
     "source_hidden": true
    }
   },
   "outputs": [],
   "source": [
    "(\n",
    "    pl.read_csv(csv_file)\n",
    "    .filter(pl.col(\"Embarked\").eq(\"C\"))\n",
    "    .head(3)\n",
    ")"
   ]
  },
  {
   "cell_type": "markdown",
   "id": "f18eac26-5dbe-4dc6-920f-3e50b0c93456",
   "metadata": {},
   "source": [
    "Select all rows where `Embarked` is **not** equal to \"C\" "
   ]
  },
  {
   "cell_type": "code",
   "execution_count": null,
   "id": "6714ce09-b3a6-4ae8-9878-982e37ddd30f",
   "metadata": {
    "jupyter": {
     "source_hidden": true
    }
   },
   "outputs": [],
   "source": [
    "(\n",
    "    pl.read_csv(csv_file)\n",
    "    .filter(~pl.col(\"Embarked\").eq(\"C\"))\n",
    "    .head(3)\n",
    ")"
   ]
  },
  {
   "cell_type": "markdown",
   "id": "bc49cd90-a8e6-41b7-951b-2c752fc00c36",
   "metadata": {},
   "source": [
    "### Solution to Exercise 2\n",
    "Add a row number column"
   ]
  },
  {
   "cell_type": "code",
   "execution_count": null,
   "id": "d40af2d5-1553-4553-8b83-079a7969bdea",
   "metadata": {
    "jupyter": {
     "source_hidden": true
    },
    "tags": []
   },
   "outputs": [],
   "source": [
    "(\n",
    "    pl.read_csv(csv_file)\n",
    "    .with_row_index(\"row_nr\")\n",
    ")"
   ]
  },
  {
   "cell_type": "markdown",
   "id": "e597abf1-29dc-47e9-8431-0c2179f7c9ed",
   "metadata": {},
   "source": [
    "Continue by selecting the first 5 rows using `filter` on the row number column"
   ]
  },
  {
   "cell_type": "code",
   "execution_count": null,
   "id": "6181aa22-0bf3-4f7b-b9a4-edcfbd6ba237",
   "metadata": {
    "jupyter": {
     "source_hidden": true
    },
    "tags": []
   },
   "outputs": [],
   "source": [
    "(\n",
    "    pl.read_csv(csv_file)\n",
    "    .with_row_index(\"row_nr\")\n",
    "    .filter(pl.col(\"row_nr\")<5)\n",
    ")"
   ]
  },
  {
   "cell_type": "markdown",
   "id": "767da988-98d6-40b3-b01b-02e196fcbe37",
   "metadata": {},
   "source": [
    "### Solution to Exercise 3\n",
    "Partition the `DataFrame` by the `Survived` and `Pclass` columns as a `dict`"
   ]
  },
  {
   "cell_type": "code",
   "execution_count": 30,
   "id": "fc8a0aa1-7209-40b9-b122-d49ae5c29960",
   "metadata": {
    "jupyter": {
     "source_hidden": true
    },
    "ExecuteTime": {
     "end_time": "2024-03-04T13:02:37.241085900Z",
     "start_time": "2024-03-04T13:02:37.217085100Z"
    }
   },
   "outputs": [],
   "source": [
    "survived_pclass_dict = (\n",
    "    pl.read_csv(csv_file)\n",
    "    .partition_by(\"Survived\",\"Pclass\",as_dict=True)\n",
    ")"
   ]
  },
  {
   "cell_type": "code",
   "execution_count": 31,
   "id": "f9b32085-75c7-47e2-a807-c3bb2bcf7267",
   "metadata": {
    "jupyter": {
     "source_hidden": true
    },
    "ExecuteTime": {
     "end_time": "2024-03-04T13:02:37.965388100Z",
     "start_time": "2024-03-04T13:02:37.943385400Z"
    }
   },
   "outputs": [
    {
     "data": {
      "text/plain": "dict_keys([(0, 3), (1, 1), (1, 3), (0, 1), (1, 2), (0, 2)])"
     },
     "execution_count": 31,
     "metadata": {},
     "output_type": "execute_result"
    }
   ],
   "source": [
    "survived_pclass_dict.keys()"
   ]
  },
  {
   "cell_type": "markdown",
   "id": "1a247bed-d736-4dc1-9026-6b0039b21261",
   "metadata": {},
   "source": [
    "Return the sub-`DataFrame` with the passengers who did not survive from the third class"
   ]
  },
  {
   "cell_type": "code",
   "execution_count": 32,
   "id": "99104b75-24a0-4670-8829-2b75f8ab7b77",
   "metadata": {
    "jupyter": {
     "source_hidden": true
    },
    "ExecuteTime": {
     "end_time": "2024-03-04T13:02:56.400169100Z",
     "start_time": "2024-03-04T13:02:56.309171800Z"
    }
   },
   "outputs": [
    {
     "data": {
      "text/plain": "shape: (2, 12)\n┌─────────────┬──────────┬────────┬──────────────────────┬───┬───────────┬──────┬───────┬──────────┐\n│ PassengerId ┆ Survived ┆ Pclass ┆ Name                 ┆ … ┆ Ticket    ┆ Fare ┆ Cabin ┆ Embarked │\n│ ---         ┆ ---      ┆ ---    ┆ ---                  ┆   ┆ ---       ┆ ---  ┆ ---   ┆ ---      │\n│ i64         ┆ i64      ┆ i64    ┆ str                  ┆   ┆ str       ┆ f64  ┆ str   ┆ str      │\n╞═════════════╪══════════╪════════╪══════════════════════╪═══╪═══════════╪══════╪═══════╪══════════╡\n│ 1           ┆ 0        ┆ 3      ┆ Braund, Mr. Owen     ┆ … ┆ A/5 21171 ┆ 7.25 ┆ null  ┆ S        │\n│             ┆          ┆        ┆ Harris               ┆   ┆           ┆      ┆       ┆          │\n│ 5           ┆ 0        ┆ 3      ┆ Allen, Mr. William   ┆ … ┆ 373450    ┆ 8.05 ┆ null  ┆ S        │\n│             ┆          ┆        ┆ Henry                ┆   ┆           ┆      ┆       ┆          │\n└─────────────┴──────────┴────────┴──────────────────────┴───┴───────────┴──────┴───────┴──────────┘",
      "text/html": "<div><style>\n.dataframe > thead > tr,\n.dataframe > tbody > tr {\n  text-align: right;\n  white-space: pre-wrap;\n}\n</style>\n<small>shape: (2, 12)</small><table border=\"1\" class=\"dataframe\"><thead><tr><th>PassengerId</th><th>Survived</th><th>Pclass</th><th>Name</th><th>Sex</th><th>Age</th><th>SibSp</th><th>Parch</th><th>Ticket</th><th>Fare</th><th>Cabin</th><th>Embarked</th></tr><tr><td>i64</td><td>i64</td><td>i64</td><td>str</td><td>str</td><td>f64</td><td>i64</td><td>i64</td><td>str</td><td>f64</td><td>str</td><td>str</td></tr></thead><tbody><tr><td>1</td><td>0</td><td>3</td><td>&quot;Braund, Mr. Ow…</td><td>&quot;male&quot;</td><td>22.0</td><td>1</td><td>0</td><td>&quot;A/5 21171&quot;</td><td>7.25</td><td>null</td><td>&quot;S&quot;</td></tr><tr><td>5</td><td>0</td><td>3</td><td>&quot;Allen, Mr. Wil…</td><td>&quot;male&quot;</td><td>35.0</td><td>0</td><td>0</td><td>&quot;373450&quot;</td><td>8.05</td><td>null</td><td>&quot;S&quot;</td></tr></tbody></table></div>"
     },
     "execution_count": 32,
     "metadata": {},
     "output_type": "execute_result"
    }
   ],
   "source": [
    "(\n",
    "    survived_pclass_dict[(0,3)]\n",
    "    .head(2)\n",
    ")"
   ]
  },
  {
   "cell_type": "markdown",
   "id": "5428a5b3-f6e2-47d1-afab-887741857179",
   "metadata": {},
   "source": [
    "### Solution to Exercise 4\n",
    "In this exercise we load data from the Spotify charts in a compressed CSV"
   ]
  },
  {
   "cell_type": "code",
   "execution_count": null,
   "id": "a25cb3f3-9bd5-4c8c-b973-417cb131f0ad",
   "metadata": {},
   "outputs": [],
   "source": [
    "spotify_csv = \"../data/spotify-charts-2017-2021-global-top200.csv.gz\"\n",
    "spotify_df = pl.read_csv(spotify_csv)\n",
    "spotify_df.head()"
   ]
  },
  {
   "cell_type": "markdown",
   "id": "fd680f63-4c80-47f8-b8dc-77a0bdfbb3b4",
   "metadata": {},
   "source": [
    "Filter the `DataFrame` to find all rows with artist Post Malone"
   ]
  },
  {
   "cell_type": "code",
   "execution_count": null,
   "id": "8cc85748-6796-4a52-a27b-7f9da420ee71",
   "metadata": {
    "jupyter": {
     "source_hidden": true
    }
   },
   "outputs": [],
   "source": [
    "(\n",
    "    spotify_df\n",
    "    .filter(\n",
    "        pl.col(\"artist\") == \"Post Malone\"\n",
    "    )\n",
    ")"
   ]
  },
  {
   "cell_type": "code",
   "execution_count": null,
   "id": "5db5eea1-9ae6-4c6c-850c-ed52a1f6156b",
   "metadata": {},
   "outputs": [],
   "source": []
  }
 ],
 "metadata": {
  "kernelspec": {
   "display_name": "Python 3 (ipykernel)",
   "language": "python",
   "name": "python3"
  },
  "language_info": {
   "codemirror_mode": {
    "name": "ipython",
    "version": 3
   },
   "file_extension": ".py",
   "mimetype": "text/x-python",
   "name": "python",
   "nbconvert_exporter": "python",
   "pygments_lexer": "ipython3",
   "version": "3.10.1"
  }
 },
 "nbformat": 4,
 "nbformat_minor": 5
}
