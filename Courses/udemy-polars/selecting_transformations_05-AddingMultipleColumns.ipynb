{
 "cells": [
  {
   "cell_type": "markdown",
   "id": "3eec8164-8b94-4866-b8aa-0c1cc4936a8f",
   "metadata": {},
   "source": [
    "## Selecting columns 5: Transforming and adding multiple columns\n",
    "By the end of this lesson you will be able to:\n",
    "- transform multiple columns in-place\n",
    "- add multiple columns\n",
    "- transform and add multiple columns is less verbose ways"
   ]
  },
  {
   "cell_type": "code",
   "execution_count": 1,
   "id": "d1adc172-fe22-401e-a538-1e8e3fafe8d3",
   "metadata": {
    "tags": [],
    "ExecuteTime": {
     "end_time": "2024-03-04T15:12:41.100098300Z",
     "start_time": "2024-03-04T15:12:40.845060200Z"
    }
   },
   "outputs": [],
   "source": [
    "import polars as pl\n",
    "import polars.selectors as cs"
   ]
  },
  {
   "cell_type": "code",
   "execution_count": 2,
   "id": "c5939bea-b4f8-4007-8ad9-8786e029ea3b",
   "metadata": {
    "tags": [],
    "ExecuteTime": {
     "end_time": "2024-03-04T15:12:41.557621500Z",
     "start_time": "2024-03-04T15:12:41.543636500Z"
    }
   },
   "outputs": [],
   "source": [
    "csv_file = \"data_titanic.csv\""
   ]
  },
  {
   "cell_type": "code",
   "execution_count": 3,
   "id": "a3626abb-3d5a-44c6-85e1-fcd9f3826a63",
   "metadata": {
    "tags": [],
    "ExecuteTime": {
     "end_time": "2024-03-04T15:12:43.380854Z",
     "start_time": "2024-03-04T15:12:42.087838100Z"
    }
   },
   "outputs": [
    {
     "data": {
      "text/plain": "shape: (3, 12)\n┌─────────────┬──────────┬────────┬───────────────────┬───┬───────────┬─────────┬───────┬──────────┐\n│ PassengerId ┆ Survived ┆ Pclass ┆ Name              ┆ … ┆ Ticket    ┆ Fare    ┆ Cabin ┆ Embarked │\n│ ---         ┆ ---      ┆ ---    ┆ ---               ┆   ┆ ---       ┆ ---     ┆ ---   ┆ ---      │\n│ i64         ┆ i64      ┆ i64    ┆ str               ┆   ┆ str       ┆ f64     ┆ str   ┆ str      │\n╞═════════════╪══════════╪════════╪═══════════════════╪═══╪═══════════╪═════════╪═══════╪══════════╡\n│ 1           ┆ 0        ┆ 3      ┆ Braund, Mr. Owen  ┆ … ┆ A/5 21171 ┆ 7.25    ┆ null  ┆ S        │\n│             ┆          ┆        ┆ Harris            ┆   ┆           ┆         ┆       ┆          │\n│ 2           ┆ 1        ┆ 1      ┆ Cumings, Mrs.     ┆ … ┆ PC 17599  ┆ 71.2833 ┆ C85   ┆ C        │\n│             ┆          ┆        ┆ John Bradley      ┆   ┆           ┆         ┆       ┆          │\n│             ┆          ┆        ┆ (Flor…            ┆   ┆           ┆         ┆       ┆          │\n│ 3           ┆ 1        ┆ 3      ┆ Heikkinen, Miss.  ┆ … ┆ STON/O2.  ┆ 7.925   ┆ null  ┆ S        │\n│             ┆          ┆        ┆ Laina             ┆   ┆ 3101282   ┆         ┆       ┆          │\n└─────────────┴──────────┴────────┴───────────────────┴───┴───────────┴─────────┴───────┴──────────┘",
      "text/html": "<div><style>\n.dataframe > thead > tr,\n.dataframe > tbody > tr {\n  text-align: right;\n  white-space: pre-wrap;\n}\n</style>\n<small>shape: (3, 12)</small><table border=\"1\" class=\"dataframe\"><thead><tr><th>PassengerId</th><th>Survived</th><th>Pclass</th><th>Name</th><th>Sex</th><th>Age</th><th>SibSp</th><th>Parch</th><th>Ticket</th><th>Fare</th><th>Cabin</th><th>Embarked</th></tr><tr><td>i64</td><td>i64</td><td>i64</td><td>str</td><td>str</td><td>f64</td><td>i64</td><td>i64</td><td>str</td><td>f64</td><td>str</td><td>str</td></tr></thead><tbody><tr><td>1</td><td>0</td><td>3</td><td>&quot;Braund, Mr. Ow…</td><td>&quot;male&quot;</td><td>22.0</td><td>1</td><td>0</td><td>&quot;A/5 21171&quot;</td><td>7.25</td><td>null</td><td>&quot;S&quot;</td></tr><tr><td>2</td><td>1</td><td>1</td><td>&quot;Cumings, Mrs. …</td><td>&quot;female&quot;</td><td>38.0</td><td>1</td><td>0</td><td>&quot;PC 17599&quot;</td><td>71.2833</td><td>&quot;C85&quot;</td><td>&quot;C&quot;</td></tr><tr><td>3</td><td>1</td><td>3</td><td>&quot;Heikkinen, Mis…</td><td>&quot;female&quot;</td><td>26.0</td><td>0</td><td>0</td><td>&quot;STON/O2. 31012…</td><td>7.925</td><td>null</td><td>&quot;S&quot;</td></tr></tbody></table></div>"
     },
     "execution_count": 3,
     "metadata": {},
     "output_type": "execute_result"
    }
   ],
   "source": [
    "df = pl.read_csv(csv_file)\n",
    "df.head(3)"
   ]
  },
  {
   "cell_type": "markdown",
   "id": "5c3111de-803f-4dfe-8168-34c40392ba8d",
   "metadata": {},
   "source": [
    "## Transforming existing columns\n",
    "\n",
    "We can transform multiple existing columns by either passing a `list` of expressions to `with_columns` or comma-separated expressions.\n",
    "\n",
    "Here we pass comma-separated expressions to round the floating columns to 0 decimal places"
   ]
  },
  {
   "cell_type": "code",
   "execution_count": 4,
   "id": "9d1160a0-6e7c-4dd4-b11d-53ccb06d978e",
   "metadata": {
    "tags": [],
    "ExecuteTime": {
     "end_time": "2024-03-04T15:13:08.937820700Z",
     "start_time": "2024-03-04T15:13:08.865786200Z"
    }
   },
   "outputs": [
    {
     "data": {
      "text/plain": "shape: (3, 12)\n┌─────────────┬──────────┬────────┬──────────────────────┬───┬───────────┬──────┬───────┬──────────┐\n│ PassengerId ┆ Survived ┆ Pclass ┆ Name                 ┆ … ┆ Ticket    ┆ Fare ┆ Cabin ┆ Embarked │\n│ ---         ┆ ---      ┆ ---    ┆ ---                  ┆   ┆ ---       ┆ ---  ┆ ---   ┆ ---      │\n│ i64         ┆ i64      ┆ i64    ┆ str                  ┆   ┆ str       ┆ f64  ┆ str   ┆ str      │\n╞═════════════╪══════════╪════════╪══════════════════════╪═══╪═══════════╪══════╪═══════╪══════════╡\n│ 1           ┆ 0        ┆ 3      ┆ Braund, Mr. Owen     ┆ … ┆ A/5 21171 ┆ 7.0  ┆ null  ┆ S        │\n│             ┆          ┆        ┆ Harris               ┆   ┆           ┆      ┆       ┆          │\n│ 2           ┆ 1        ┆ 1      ┆ Cumings, Mrs. John   ┆ … ┆ PC 17599  ┆ 71.0 ┆ C85   ┆ C        │\n│             ┆          ┆        ┆ Bradley (Flor…       ┆   ┆           ┆      ┆       ┆          │\n│ 3           ┆ 1        ┆ 3      ┆ Heikkinen, Miss.     ┆ … ┆ STON/O2.  ┆ 8.0  ┆ null  ┆ S        │\n│             ┆          ┆        ┆ Laina                ┆   ┆ 3101282   ┆      ┆       ┆          │\n└─────────────┴──────────┴────────┴──────────────────────┴───┴───────────┴──────┴───────┴──────────┘",
      "text/html": "<div><style>\n.dataframe > thead > tr,\n.dataframe > tbody > tr {\n  text-align: right;\n  white-space: pre-wrap;\n}\n</style>\n<small>shape: (3, 12)</small><table border=\"1\" class=\"dataframe\"><thead><tr><th>PassengerId</th><th>Survived</th><th>Pclass</th><th>Name</th><th>Sex</th><th>Age</th><th>SibSp</th><th>Parch</th><th>Ticket</th><th>Fare</th><th>Cabin</th><th>Embarked</th></tr><tr><td>i64</td><td>i64</td><td>i64</td><td>str</td><td>str</td><td>f64</td><td>i64</td><td>i64</td><td>str</td><td>f64</td><td>str</td><td>str</td></tr></thead><tbody><tr><td>1</td><td>0</td><td>3</td><td>&quot;Braund, Mr. Ow…</td><td>&quot;male&quot;</td><td>22.0</td><td>1</td><td>0</td><td>&quot;A/5 21171&quot;</td><td>7.0</td><td>null</td><td>&quot;S&quot;</td></tr><tr><td>2</td><td>1</td><td>1</td><td>&quot;Cumings, Mrs. …</td><td>&quot;female&quot;</td><td>38.0</td><td>1</td><td>0</td><td>&quot;PC 17599&quot;</td><td>71.0</td><td>&quot;C85&quot;</td><td>&quot;C&quot;</td></tr><tr><td>3</td><td>1</td><td>3</td><td>&quot;Heikkinen, Mis…</td><td>&quot;female&quot;</td><td>26.0</td><td>0</td><td>0</td><td>&quot;STON/O2. 31012…</td><td>8.0</td><td>null</td><td>&quot;S&quot;</td></tr></tbody></table></div>"
     },
     "execution_count": 4,
     "metadata": {},
     "output_type": "execute_result"
    }
   ],
   "source": [
    "(\n",
    "    pl.read_csv(csv_file)\n",
    "    .with_columns(\n",
    "        pl.col('Age').round(0),\n",
    "        pl.col('Fare').round(0),\n",
    "    )\n",
    "    .head(3)\n",
    ")"
   ]
  },
  {
   "cell_type": "markdown",
   "id": "fb7a1702-0fba-48c1-b4e7-4b9c8097124a",
   "metadata": {},
   "source": [
    "We can make this less verbose, however.\n",
    "\n",
    "As we are applying the same transformation to the `Age` and `Fare` columns we can pass them both to the same `pl.col` as comma-separated column names"
   ]
  },
  {
   "cell_type": "code",
   "execution_count": 5,
   "id": "e019b8ca-89cd-4b3a-bb27-ca65be2c4610",
   "metadata": {
    "ExecuteTime": {
     "end_time": "2024-03-04T15:13:51.173150200Z",
     "start_time": "2024-03-04T15:13:51.133026100Z"
    }
   },
   "outputs": [
    {
     "data": {
      "text/plain": "shape: (5, 12)\n┌─────────────┬──────────┬────────┬──────────────────────┬───┬───────────┬──────┬───────┬──────────┐\n│ PassengerId ┆ Survived ┆ Pclass ┆ Name                 ┆ … ┆ Ticket    ┆ Fare ┆ Cabin ┆ Embarked │\n│ ---         ┆ ---      ┆ ---    ┆ ---                  ┆   ┆ ---       ┆ ---  ┆ ---   ┆ ---      │\n│ i64         ┆ i64      ┆ i64    ┆ str                  ┆   ┆ str       ┆ f64  ┆ str   ┆ str      │\n╞═════════════╪══════════╪════════╪══════════════════════╪═══╪═══════════╪══════╪═══════╪══════════╡\n│ 1           ┆ 0        ┆ 3      ┆ Braund, Mr. Owen     ┆ … ┆ A/5 21171 ┆ 7.0  ┆ null  ┆ S        │\n│             ┆          ┆        ┆ Harris               ┆   ┆           ┆      ┆       ┆          │\n│ 2           ┆ 1        ┆ 1      ┆ Cumings, Mrs. John   ┆ … ┆ PC 17599  ┆ 71.0 ┆ C85   ┆ C        │\n│             ┆          ┆        ┆ Bradley (Flor…       ┆   ┆           ┆      ┆       ┆          │\n│ 3           ┆ 1        ┆ 3      ┆ Heikkinen, Miss.     ┆ … ┆ STON/O2.  ┆ 8.0  ┆ null  ┆ S        │\n│             ┆          ┆        ┆ Laina                ┆   ┆ 3101282   ┆      ┆       ┆          │\n│ 4           ┆ 1        ┆ 1      ┆ Futrelle, Mrs.       ┆ … ┆ 113803    ┆ 53.0 ┆ C123  ┆ S        │\n│             ┆          ┆        ┆ Jacques Heath (Li…   ┆   ┆           ┆      ┆       ┆          │\n│ 5           ┆ 0        ┆ 3      ┆ Allen, Mr. William   ┆ … ┆ 373450    ┆ 8.0  ┆ null  ┆ S        │\n│             ┆          ┆        ┆ Henry                ┆   ┆           ┆      ┆       ┆          │\n└─────────────┴──────────┴────────┴──────────────────────┴───┴───────────┴──────┴───────┴──────────┘",
      "text/html": "<div><style>\n.dataframe > thead > tr,\n.dataframe > tbody > tr {\n  text-align: right;\n  white-space: pre-wrap;\n}\n</style>\n<small>shape: (5, 12)</small><table border=\"1\" class=\"dataframe\"><thead><tr><th>PassengerId</th><th>Survived</th><th>Pclass</th><th>Name</th><th>Sex</th><th>Age</th><th>SibSp</th><th>Parch</th><th>Ticket</th><th>Fare</th><th>Cabin</th><th>Embarked</th></tr><tr><td>i64</td><td>i64</td><td>i64</td><td>str</td><td>str</td><td>f64</td><td>i64</td><td>i64</td><td>str</td><td>f64</td><td>str</td><td>str</td></tr></thead><tbody><tr><td>1</td><td>0</td><td>3</td><td>&quot;Braund, Mr. Ow…</td><td>&quot;male&quot;</td><td>22.0</td><td>1</td><td>0</td><td>&quot;A/5 21171&quot;</td><td>7.0</td><td>null</td><td>&quot;S&quot;</td></tr><tr><td>2</td><td>1</td><td>1</td><td>&quot;Cumings, Mrs. …</td><td>&quot;female&quot;</td><td>38.0</td><td>1</td><td>0</td><td>&quot;PC 17599&quot;</td><td>71.0</td><td>&quot;C85&quot;</td><td>&quot;C&quot;</td></tr><tr><td>3</td><td>1</td><td>3</td><td>&quot;Heikkinen, Mis…</td><td>&quot;female&quot;</td><td>26.0</td><td>0</td><td>0</td><td>&quot;STON/O2. 31012…</td><td>8.0</td><td>null</td><td>&quot;S&quot;</td></tr><tr><td>4</td><td>1</td><td>1</td><td>&quot;Futrelle, Mrs.…</td><td>&quot;female&quot;</td><td>35.0</td><td>1</td><td>0</td><td>&quot;113803&quot;</td><td>53.0</td><td>&quot;C123&quot;</td><td>&quot;S&quot;</td></tr><tr><td>5</td><td>0</td><td>3</td><td>&quot;Allen, Mr. Wil…</td><td>&quot;male&quot;</td><td>35.0</td><td>0</td><td>0</td><td>&quot;373450&quot;</td><td>8.0</td><td>null</td><td>&quot;S&quot;</td></tr></tbody></table></div>"
     },
     "execution_count": 5,
     "metadata": {},
     "output_type": "execute_result"
    }
   ],
   "source": [
    "(\n",
    "    pl.read_csv(csv_file)\n",
    "    .with_columns(\n",
    "        pl.col('Age','Fare').round(0),\n",
    "    )\n",
    "    .head(5)\n",
    ")"
   ]
  },
  {
   "cell_type": "markdown",
   "id": "eac0eec0-dbd8-45aa-b819-75c4f53593d0",
   "metadata": {},
   "source": [
    "In this example `Age` and `Fare` are the only float columns. This means that we can instead pass their dtype to `pl.col` to apply the `round` expression to all float columns"
   ]
  },
  {
   "cell_type": "code",
   "execution_count": 6,
   "id": "815fab8a-cee6-47e2-8143-3dcb8ac19df4",
   "metadata": {
    "ExecuteTime": {
     "end_time": "2024-03-04T15:13:58.151743Z",
     "start_time": "2024-03-04T15:13:58.050199600Z"
    }
   },
   "outputs": [
    {
     "data": {
      "text/plain": "shape: (3, 12)\n┌─────────────┬──────────┬────────┬──────────────────────┬───┬───────────┬──────┬───────┬──────────┐\n│ PassengerId ┆ Survived ┆ Pclass ┆ Name                 ┆ … ┆ Ticket    ┆ Fare ┆ Cabin ┆ Embarked │\n│ ---         ┆ ---      ┆ ---    ┆ ---                  ┆   ┆ ---       ┆ ---  ┆ ---   ┆ ---      │\n│ i64         ┆ i64      ┆ i64    ┆ str                  ┆   ┆ str       ┆ f64  ┆ str   ┆ str      │\n╞═════════════╪══════════╪════════╪══════════════════════╪═══╪═══════════╪══════╪═══════╪══════════╡\n│ 1           ┆ 0        ┆ 3      ┆ Braund, Mr. Owen     ┆ … ┆ A/5 21171 ┆ 7.0  ┆ null  ┆ S        │\n│             ┆          ┆        ┆ Harris               ┆   ┆           ┆      ┆       ┆          │\n│ 2           ┆ 1        ┆ 1      ┆ Cumings, Mrs. John   ┆ … ┆ PC 17599  ┆ 71.0 ┆ C85   ┆ C        │\n│             ┆          ┆        ┆ Bradley (Flor…       ┆   ┆           ┆      ┆       ┆          │\n│ 3           ┆ 1        ┆ 3      ┆ Heikkinen, Miss.     ┆ … ┆ STON/O2.  ┆ 8.0  ┆ null  ┆ S        │\n│             ┆          ┆        ┆ Laina                ┆   ┆ 3101282   ┆      ┆       ┆          │\n└─────────────┴──────────┴────────┴──────────────────────┴───┴───────────┴──────┴───────┴──────────┘",
      "text/html": "<div><style>\n.dataframe > thead > tr,\n.dataframe > tbody > tr {\n  text-align: right;\n  white-space: pre-wrap;\n}\n</style>\n<small>shape: (3, 12)</small><table border=\"1\" class=\"dataframe\"><thead><tr><th>PassengerId</th><th>Survived</th><th>Pclass</th><th>Name</th><th>Sex</th><th>Age</th><th>SibSp</th><th>Parch</th><th>Ticket</th><th>Fare</th><th>Cabin</th><th>Embarked</th></tr><tr><td>i64</td><td>i64</td><td>i64</td><td>str</td><td>str</td><td>f64</td><td>i64</td><td>i64</td><td>str</td><td>f64</td><td>str</td><td>str</td></tr></thead><tbody><tr><td>1</td><td>0</td><td>3</td><td>&quot;Braund, Mr. Ow…</td><td>&quot;male&quot;</td><td>22.0</td><td>1</td><td>0</td><td>&quot;A/5 21171&quot;</td><td>7.0</td><td>null</td><td>&quot;S&quot;</td></tr><tr><td>2</td><td>1</td><td>1</td><td>&quot;Cumings, Mrs. …</td><td>&quot;female&quot;</td><td>38.0</td><td>1</td><td>0</td><td>&quot;PC 17599&quot;</td><td>71.0</td><td>&quot;C85&quot;</td><td>&quot;C&quot;</td></tr><tr><td>3</td><td>1</td><td>3</td><td>&quot;Heikkinen, Mis…</td><td>&quot;female&quot;</td><td>26.0</td><td>0</td><td>0</td><td>&quot;STON/O2. 31012…</td><td>8.0</td><td>null</td><td>&quot;S&quot;</td></tr></tbody></table></div>"
     },
     "execution_count": 6,
     "metadata": {},
     "output_type": "execute_result"
    }
   ],
   "source": [
    "(\n",
    "    pl.read_csv(csv_file)\n",
    "    .with_columns(\n",
    "        pl.col(pl.Float64).round(0),\n",
    "    )\n",
    "    .head(3)\n",
    ")"
   ]
  },
  {
   "cell_type": "markdown",
   "id": "9aa9be9c-b80e-479e-a3e8-4d98deb7ca51",
   "metadata": {},
   "source": [
    "Or we can use selectors to select the columns that we want to round"
   ]
  },
  {
   "cell_type": "code",
   "execution_count": 7,
   "id": "ae4af071-02ca-431e-9966-fe42e254756a",
   "metadata": {
    "ExecuteTime": {
     "end_time": "2024-03-04T15:14:02.424663300Z",
     "start_time": "2024-03-04T15:14:02.403665500Z"
    }
   },
   "outputs": [
    {
     "data": {
      "text/plain": "shape: (3, 12)\n┌─────────────┬──────────┬────────┬──────────────────────┬───┬───────────┬──────┬───────┬──────────┐\n│ PassengerId ┆ Survived ┆ Pclass ┆ Name                 ┆ … ┆ Ticket    ┆ Fare ┆ Cabin ┆ Embarked │\n│ ---         ┆ ---      ┆ ---    ┆ ---                  ┆   ┆ ---       ┆ ---  ┆ ---   ┆ ---      │\n│ i64         ┆ i64      ┆ i64    ┆ str                  ┆   ┆ str       ┆ f64  ┆ str   ┆ str      │\n╞═════════════╪══════════╪════════╪══════════════════════╪═══╪═══════════╪══════╪═══════╪══════════╡\n│ 1           ┆ 0        ┆ 3      ┆ Braund, Mr. Owen     ┆ … ┆ A/5 21171 ┆ 7.0  ┆ null  ┆ S        │\n│             ┆          ┆        ┆ Harris               ┆   ┆           ┆      ┆       ┆          │\n│ 2           ┆ 1        ┆ 1      ┆ Cumings, Mrs. John   ┆ … ┆ PC 17599  ┆ 71.0 ┆ C85   ┆ C        │\n│             ┆          ┆        ┆ Bradley (Flor…       ┆   ┆           ┆      ┆       ┆          │\n│ 3           ┆ 1        ┆ 3      ┆ Heikkinen, Miss.     ┆ … ┆ STON/O2.  ┆ 8.0  ┆ null  ┆ S        │\n│             ┆          ┆        ┆ Laina                ┆   ┆ 3101282   ┆      ┆       ┆          │\n└─────────────┴──────────┴────────┴──────────────────────┴───┴───────────┴──────┴───────┴──────────┘",
      "text/html": "<div><style>\n.dataframe > thead > tr,\n.dataframe > tbody > tr {\n  text-align: right;\n  white-space: pre-wrap;\n}\n</style>\n<small>shape: (3, 12)</small><table border=\"1\" class=\"dataframe\"><thead><tr><th>PassengerId</th><th>Survived</th><th>Pclass</th><th>Name</th><th>Sex</th><th>Age</th><th>SibSp</th><th>Parch</th><th>Ticket</th><th>Fare</th><th>Cabin</th><th>Embarked</th></tr><tr><td>i64</td><td>i64</td><td>i64</td><td>str</td><td>str</td><td>f64</td><td>i64</td><td>i64</td><td>str</td><td>f64</td><td>str</td><td>str</td></tr></thead><tbody><tr><td>1</td><td>0</td><td>3</td><td>&quot;Braund, Mr. Ow…</td><td>&quot;male&quot;</td><td>22.0</td><td>1</td><td>0</td><td>&quot;A/5 21171&quot;</td><td>7.0</td><td>null</td><td>&quot;S&quot;</td></tr><tr><td>2</td><td>1</td><td>1</td><td>&quot;Cumings, Mrs. …</td><td>&quot;female&quot;</td><td>38.0</td><td>1</td><td>0</td><td>&quot;PC 17599&quot;</td><td>71.0</td><td>&quot;C85&quot;</td><td>&quot;C&quot;</td></tr><tr><td>3</td><td>1</td><td>3</td><td>&quot;Heikkinen, Mis…</td><td>&quot;female&quot;</td><td>26.0</td><td>0</td><td>0</td><td>&quot;STON/O2. 31012…</td><td>8.0</td><td>null</td><td>&quot;S&quot;</td></tr></tbody></table></div>"
     },
     "execution_count": 7,
     "metadata": {},
     "output_type": "execute_result"
    }
   ],
   "source": [
    "(\n",
    "    pl.read_csv(csv_file)\n",
    "    .with_columns(\n",
    "        cs.float().round(0),\n",
    "    )\n",
    "    .head(3)\n",
    ")"
   ]
  },
  {
   "cell_type": "markdown",
   "id": "b45f6cb6-b15e-4727-8834-9938ff91ae9d",
   "metadata": {},
   "source": [
    "## Adding new columns from existing columns\n",
    "Above we overwrite the existing `Age` and `Fare` columns in the `with_columns` statements\n",
    "\n",
    "We can instead create new columns from existing columns with `alias`. \n",
    "\n",
    "In this example we add the rounded `Age` and `Fare` as new columns"
   ]
  },
  {
   "cell_type": "code",
   "execution_count": 8,
   "id": "ae20907f-8ba2-452b-b5bd-c1cbee1fab3b",
   "metadata": {
    "tags": [],
    "ExecuteTime": {
     "end_time": "2024-03-04T15:14:13.852638500Z",
     "start_time": "2024-03-04T15:14:13.784784700Z"
    }
   },
   "outputs": [
    {
     "data": {
      "text/plain": "shape: (3, 4)\n┌──────┬───────────┬─────────┬────────────┐\n│ Age  ┆ Age_round ┆ Fare    ┆ Fare_round │\n│ ---  ┆ ---       ┆ ---     ┆ ---        │\n│ f64  ┆ f64       ┆ f64     ┆ f64        │\n╞══════╪═══════════╪═════════╪════════════╡\n│ 22.0 ┆ 22.0      ┆ 7.25    ┆ 7.0        │\n│ 38.0 ┆ 38.0      ┆ 71.2833 ┆ 71.0       │\n│ 26.0 ┆ 26.0      ┆ 7.925   ┆ 8.0        │\n└──────┴───────────┴─────────┴────────────┘",
      "text/html": "<div><style>\n.dataframe > thead > tr,\n.dataframe > tbody > tr {\n  text-align: right;\n  white-space: pre-wrap;\n}\n</style>\n<small>shape: (3, 4)</small><table border=\"1\" class=\"dataframe\"><thead><tr><th>Age</th><th>Age_round</th><th>Fare</th><th>Fare_round</th></tr><tr><td>f64</td><td>f64</td><td>f64</td><td>f64</td></tr></thead><tbody><tr><td>22.0</td><td>22.0</td><td>7.25</td><td>7.0</td></tr><tr><td>38.0</td><td>38.0</td><td>71.2833</td><td>71.0</td></tr><tr><td>26.0</td><td>26.0</td><td>7.925</td><td>8.0</td></tr></tbody></table></div>"
     },
     "execution_count": 8,
     "metadata": {},
     "output_type": "execute_result"
    }
   ],
   "source": [
    "(\n",
    "    pl.read_csv(csv_file)\n",
    "    .with_columns(\n",
    "        pl.col('Age').round(0).alias('Age_round'),\n",
    "        pl.col('Fare').round(0).alias('Fare_round')\n",
    "    )\n",
    "    .select(\n",
    "        'Age','Age_round','Fare','Fare_round',\n",
    "    )\n",
    "    .head(3)\n",
    ")"
   ]
  },
  {
   "cell_type": "markdown",
   "id": "62bea05c-cddf-4a94-940a-66ab3e1ee4b2",
   "metadata": {},
   "source": [
    "As an alternative to `alias` we can use comma-separated keyword assignments"
   ]
  },
  {
   "cell_type": "code",
   "execution_count": 9,
   "id": "0eb212fb-c80c-46e3-ba0f-81ae25b35b29",
   "metadata": {
    "ExecuteTime": {
     "end_time": "2024-03-04T15:14:40.558630700Z",
     "start_time": "2024-03-04T15:14:40.462631600Z"
    }
   },
   "outputs": [
    {
     "data": {
      "text/plain": "shape: (3, 4)\n┌──────┬───────────┬─────────┬────────────┐\n│ Age  ┆ Age_round ┆ Fare    ┆ Fare_round │\n│ ---  ┆ ---       ┆ ---     ┆ ---        │\n│ f64  ┆ f64       ┆ f64     ┆ f64        │\n╞══════╪═══════════╪═════════╪════════════╡\n│ 22.0 ┆ 22.0      ┆ 7.25    ┆ 7.0        │\n│ 38.0 ┆ 38.0      ┆ 71.2833 ┆ 71.0       │\n│ 26.0 ┆ 26.0      ┆ 7.925   ┆ 8.0        │\n└──────┴───────────┴─────────┴────────────┘",
      "text/html": "<div><style>\n.dataframe > thead > tr,\n.dataframe > tbody > tr {\n  text-align: right;\n  white-space: pre-wrap;\n}\n</style>\n<small>shape: (3, 4)</small><table border=\"1\" class=\"dataframe\"><thead><tr><th>Age</th><th>Age_round</th><th>Fare</th><th>Fare_round</th></tr><tr><td>f64</td><td>f64</td><td>f64</td><td>f64</td></tr></thead><tbody><tr><td>22.0</td><td>22.0</td><td>7.25</td><td>7.0</td></tr><tr><td>38.0</td><td>38.0</td><td>71.2833</td><td>71.0</td></tr><tr><td>26.0</td><td>26.0</td><td>7.925</td><td>8.0</td></tr></tbody></table></div>"
     },
     "execution_count": 9,
     "metadata": {},
     "output_type": "execute_result"
    }
   ],
   "source": [
    "(\n",
    "    pl.read_csv(csv_file)\n",
    "    .with_columns(\n",
    "        Age_round = pl.col('Age').round(0),\n",
    "        Fare_round = pl.col('Fare').round(0),\n",
    "    )\n",
    "    .select(\n",
    "        'Age','Age_round','Fare','Fare_round',\n",
    "    )\n",
    "    .head(3)\n",
    ")"
   ]
  },
  {
   "cell_type": "markdown",
   "id": "4300ad50-9aaf-4d33-a71d-24c72e73d23b",
   "metadata": {},
   "source": [
    "Note that if you mix the `alias` and keyword assignment approach in the same `with_columns` the keyword assignments must come after the `alias` expressions.\n",
    "\n",
    "When should you use `alias` and when should you use the keyword approach?\n",
    "- There is no performance difference between the `alias` and keyword approach\n",
    "- You might find the keyword approach more readable in some cases\n",
    "- You can use python variables inside an `alias` but not with keyword assignment\n",
    "\n",
    "## Creating new columns when working with multiple expressions\n",
    "We can still use the less verbose multi-expression approaches we saw above when we want to create new columns.\n",
    "\n",
    "In this example we round the float columns as new columns by adding the `_round` using `name.suffix`"
   ]
  },
  {
   "cell_type": "code",
   "execution_count": 10,
   "id": "30e169f8-7ddb-4dcf-a545-67e0a91a59e9",
   "metadata": {
    "ExecuteTime": {
     "end_time": "2024-03-04T15:16:39.173279600Z",
     "start_time": "2024-03-04T15:16:39.154756600Z"
    }
   },
   "outputs": [
    {
     "data": {
      "text/plain": "shape: (3, 4)\n┌──────┬───────────┬─────────┬────────────┐\n│ Age  ┆ Age_round ┆ Fare    ┆ Fare_round │\n│ ---  ┆ ---       ┆ ---     ┆ ---        │\n│ f64  ┆ f64       ┆ f64     ┆ f64        │\n╞══════╪═══════════╪═════════╪════════════╡\n│ 22.0 ┆ 22.0      ┆ 7.25    ┆ 7.0        │\n│ 38.0 ┆ 38.0      ┆ 71.2833 ┆ 71.0       │\n│ 26.0 ┆ 26.0      ┆ 7.925   ┆ 8.0        │\n└──────┴───────────┴─────────┴────────────┘",
      "text/html": "<div><style>\n.dataframe > thead > tr,\n.dataframe > tbody > tr {\n  text-align: right;\n  white-space: pre-wrap;\n}\n</style>\n<small>shape: (3, 4)</small><table border=\"1\" class=\"dataframe\"><thead><tr><th>Age</th><th>Age_round</th><th>Fare</th><th>Fare_round</th></tr><tr><td>f64</td><td>f64</td><td>f64</td><td>f64</td></tr></thead><tbody><tr><td>22.0</td><td>22.0</td><td>7.25</td><td>7.0</td></tr><tr><td>38.0</td><td>38.0</td><td>71.2833</td><td>71.0</td></tr><tr><td>26.0</td><td>26.0</td><td>7.925</td><td>8.0</td></tr></tbody></table></div>"
     },
     "execution_count": 10,
     "metadata": {},
     "output_type": "execute_result"
    }
   ],
   "source": [
    "(\n",
    "    pl.read_csv(csv_file)\n",
    "    .with_columns(\n",
    "        pl.col(pl.Float64).round(0).name.suffix(\"_round\"),\n",
    "    )\n",
    "    .select(\n",
    "        'Age','Age_round','Fare','Fare_round',\n",
    "    )\n",
    "    .head(3)\n",
    ")"
   ]
  },
  {
   "cell_type": "markdown",
   "id": "b663d89e-a36d-4319-8a1c-7dbb771ddbd7",
   "metadata": {},
   "source": [
    "Using `name.suffix` (or `name.prefix`) is particularly useful when doing aggregations on lots of columns in a `groupby.agg`, as we see later in the course."
   ]
  },
  {
   "cell_type": "markdown",
   "id": "0264b761-de31-4abe-8aba-608727bce09d",
   "metadata": {},
   "source": [
    "## Exercises\n",
    "\n",
    "In the exercises you will develop your understanding of:\n",
    "- overwriting existing columns\n",
    "- adding multiple columns\n",
    "- transforming multiple columns based on dtype\n",
    "\n",
    "## Exercise 1\n",
    "Convert the 64-bit integer and float columns to their 32-bit equivalents"
   ]
  },
  {
   "cell_type": "code",
   "execution_count": 11,
   "id": "59efa5d2-5c03-48de-b3a6-464ff628097c",
   "metadata": {
    "ExecuteTime": {
     "end_time": "2024-03-04T15:18:00.046510200Z",
     "start_time": "2024-03-04T15:17:59.967282500Z"
    }
   },
   "outputs": [
    {
     "data": {
      "text/plain": "shape: (10, 12)\n┌─────────────┬──────────┬────────┬──────────────────────┬───┬───────────┬──────┬───────┬──────────┐\n│ PassengerId ┆ Survived ┆ Pclass ┆ Name                 ┆ … ┆ Ticket    ┆ Fare ┆ Cabin ┆ Embarked │\n│ ---         ┆ ---      ┆ ---    ┆ ---                  ┆   ┆ ---       ┆ ---  ┆ ---   ┆ ---      │\n│ i32         ┆ i32      ┆ i32    ┆ str                  ┆   ┆ str       ┆ i32  ┆ str   ┆ str      │\n╞═════════════╪══════════╪════════╪══════════════════════╪═══╪═══════════╪══════╪═══════╪══════════╡\n│ 1           ┆ 0        ┆ 3      ┆ Braund, Mr. Owen     ┆ … ┆ A/5 21171 ┆ 7    ┆ null  ┆ S        │\n│             ┆          ┆        ┆ Harris               ┆   ┆           ┆      ┆       ┆          │\n│ 2           ┆ 1        ┆ 1      ┆ Cumings, Mrs. John   ┆ … ┆ PC 17599  ┆ 71   ┆ C85   ┆ C        │\n│             ┆          ┆        ┆ Bradley (Flor…       ┆   ┆           ┆      ┆       ┆          │\n│ 3           ┆ 1        ┆ 3      ┆ Heikkinen, Miss.     ┆ … ┆ STON/O2.  ┆ 7    ┆ null  ┆ S        │\n│             ┆          ┆        ┆ Laina                ┆   ┆ 3101282   ┆      ┆       ┆          │\n│ 4           ┆ 1        ┆ 1      ┆ Futrelle, Mrs.       ┆ … ┆ 113803    ┆ 53   ┆ C123  ┆ S        │\n│             ┆          ┆        ┆ Jacques Heath (Li…   ┆   ┆           ┆      ┆       ┆          │\n│ 5           ┆ 0        ┆ 3      ┆ Allen, Mr. William   ┆ … ┆ 373450    ┆ 8    ┆ null  ┆ S        │\n│             ┆          ┆        ┆ Henry                ┆   ┆           ┆      ┆       ┆          │\n│ 6           ┆ 0        ┆ 3      ┆ Moran, Mr. James     ┆ … ┆ 330877    ┆ 8    ┆ null  ┆ Q        │\n│ 7           ┆ 0        ┆ 1      ┆ McCarthy, Mr.        ┆ … ┆ 17463     ┆ 51   ┆ E46   ┆ S        │\n│             ┆          ┆        ┆ Timothy J            ┆   ┆           ┆      ┆       ┆          │\n│ 8           ┆ 0        ┆ 3      ┆ Palsson, Master.     ┆ … ┆ 349909    ┆ 21   ┆ null  ┆ S        │\n│             ┆          ┆        ┆ Gosta Leonard        ┆   ┆           ┆      ┆       ┆          │\n│ 9           ┆ 1        ┆ 3      ┆ Johnson, Mrs. Oscar  ┆ … ┆ 347742    ┆ 11   ┆ null  ┆ S        │\n│             ┆          ┆        ┆ W (Elisabeth…        ┆   ┆           ┆      ┆       ┆          │\n│ 10          ┆ 1        ┆ 2      ┆ Nasser, Mrs.         ┆ … ┆ 237736    ┆ 30   ┆ null  ┆ C        │\n│             ┆          ┆        ┆ Nicholas (Adele Ach… ┆   ┆           ┆      ┆       ┆          │\n└─────────────┴──────────┴────────┴──────────────────────┴───┴───────────┴──────┴───────┴──────────┘",
      "text/html": "<div><style>\n.dataframe > thead > tr,\n.dataframe > tbody > tr {\n  text-align: right;\n  white-space: pre-wrap;\n}\n</style>\n<small>shape: (10, 12)</small><table border=\"1\" class=\"dataframe\"><thead><tr><th>PassengerId</th><th>Survived</th><th>Pclass</th><th>Name</th><th>Sex</th><th>Age</th><th>SibSp</th><th>Parch</th><th>Ticket</th><th>Fare</th><th>Cabin</th><th>Embarked</th></tr><tr><td>i32</td><td>i32</td><td>i32</td><td>str</td><td>str</td><td>i32</td><td>i32</td><td>i32</td><td>str</td><td>i32</td><td>str</td><td>str</td></tr></thead><tbody><tr><td>1</td><td>0</td><td>3</td><td>&quot;Braund, Mr. Ow…</td><td>&quot;male&quot;</td><td>22</td><td>1</td><td>0</td><td>&quot;A/5 21171&quot;</td><td>7</td><td>null</td><td>&quot;S&quot;</td></tr><tr><td>2</td><td>1</td><td>1</td><td>&quot;Cumings, Mrs. …</td><td>&quot;female&quot;</td><td>38</td><td>1</td><td>0</td><td>&quot;PC 17599&quot;</td><td>71</td><td>&quot;C85&quot;</td><td>&quot;C&quot;</td></tr><tr><td>3</td><td>1</td><td>3</td><td>&quot;Heikkinen, Mis…</td><td>&quot;female&quot;</td><td>26</td><td>0</td><td>0</td><td>&quot;STON/O2. 31012…</td><td>7</td><td>null</td><td>&quot;S&quot;</td></tr><tr><td>4</td><td>1</td><td>1</td><td>&quot;Futrelle, Mrs.…</td><td>&quot;female&quot;</td><td>35</td><td>1</td><td>0</td><td>&quot;113803&quot;</td><td>53</td><td>&quot;C123&quot;</td><td>&quot;S&quot;</td></tr><tr><td>5</td><td>0</td><td>3</td><td>&quot;Allen, Mr. Wil…</td><td>&quot;male&quot;</td><td>35</td><td>0</td><td>0</td><td>&quot;373450&quot;</td><td>8</td><td>null</td><td>&quot;S&quot;</td></tr><tr><td>6</td><td>0</td><td>3</td><td>&quot;Moran, Mr. Jam…</td><td>&quot;male&quot;</td><td>null</td><td>0</td><td>0</td><td>&quot;330877&quot;</td><td>8</td><td>null</td><td>&quot;Q&quot;</td></tr><tr><td>7</td><td>0</td><td>1</td><td>&quot;McCarthy, Mr. …</td><td>&quot;male&quot;</td><td>54</td><td>0</td><td>0</td><td>&quot;17463&quot;</td><td>51</td><td>&quot;E46&quot;</td><td>&quot;S&quot;</td></tr><tr><td>8</td><td>0</td><td>3</td><td>&quot;Palsson, Maste…</td><td>&quot;male&quot;</td><td>2</td><td>3</td><td>1</td><td>&quot;349909&quot;</td><td>21</td><td>null</td><td>&quot;S&quot;</td></tr><tr><td>9</td><td>1</td><td>3</td><td>&quot;Johnson, Mrs. …</td><td>&quot;female&quot;</td><td>27</td><td>0</td><td>2</td><td>&quot;347742&quot;</td><td>11</td><td>null</td><td>&quot;S&quot;</td></tr><tr><td>10</td><td>1</td><td>2</td><td>&quot;Nasser, Mrs. N…</td><td>&quot;female&quot;</td><td>14</td><td>1</td><td>0</td><td>&quot;237736&quot;</td><td>30</td><td>null</td><td>&quot;C&quot;</td></tr></tbody></table></div>"
     },
     "execution_count": 11,
     "metadata": {},
     "output_type": "execute_result"
    }
   ],
   "source": [
    "(\n",
    "    pl.read_csv(csv_file)\n",
    "    .with_columns(\n",
    "        pl.col(pl.NUMERIC_DTYPES).cast(pl.Int32)\n",
    "    ).head(10)\n",
    ")"
   ]
  },
  {
   "cell_type": "markdown",
   "id": "4c658755-4a7a-4c89-899a-6a7deed4c121",
   "metadata": {},
   "source": [
    "Continue by adding \n",
    "- a `family_size` column as the sum of the siblings, parents and the passenger\n",
    "- a Boolean `over_thirty` column showing if a passenger is aged 30 or over\n",
    "\n",
    "Add these columns using keyword assignment"
   ]
  },
  {
   "cell_type": "code",
   "execution_count": null,
   "id": "da1a13a3-101c-4488-ab2a-87bd0efa1a71",
   "metadata": {},
   "outputs": [],
   "source": []
  },
  {
   "cell_type": "markdown",
   "id": "0fc747fa-b39a-4ca7-b20c-e7faaaaa3dd3",
   "metadata": {},
   "source": [
    "### Exercise 2\n",
    "We have the following fictitious dataset with sales figures of bikes in different countries."
   ]
  },
  {
   "cell_type": "code",
   "execution_count": 12,
   "id": "25aad981-ee5e-4228-a6dd-54b9bc9f5a29",
   "metadata": {
    "ExecuteTime": {
     "end_time": "2024-03-04T15:18:38.980594Z",
     "start_time": "2024-03-04T15:18:38.904560900Z"
    }
   },
   "outputs": [
    {
     "data": {
      "text/plain": "shape: (5, 10)\n┌────────────┬──────────┬──────────┬───────────┬───┬───────────┬────────────┬──────┬─────────┐\n│ date       ┆ customer ┆ customer ┆ country   ┆ … ┆ unit cost ┆ unit price ┆ cost ┆ revenue │\n│ ---        ┆ age      ┆ gender   ┆ ---       ┆   ┆ ---       ┆ ---        ┆ ---  ┆ ---     │\n│ date       ┆ ---      ┆ ---      ┆ str       ┆   ┆ i64       ┆ i64        ┆ i64  ┆ i64     │\n│            ┆ i64      ┆ str      ┆           ┆   ┆           ┆            ┆      ┆         │\n╞════════════╪══════════╪══════════╪═══════════╪═══╪═══════════╪════════════╪══════╪═════════╡\n│ 2013-01-28 ┆ 31       ┆ M        ┆ Australia ┆ … ┆ 1912      ┆ 3400       ┆ 1912 ┆ 2856    │\n│ 2015-01-28 ┆ 31       ┆ M        ┆ Australia ┆ … ┆ 1912      ┆ 3400       ┆ 1912 ┆ 2856    │\n│ 2013-07-22 ┆ 31       ┆ M        ┆ Australia ┆ … ┆ 1912      ┆ 3400       ┆ 1912 ┆ 2856    │\n│ 2015-07-22 ┆ 31       ┆ M        ┆ Australia ┆ … ┆ 1912      ┆ 3400       ┆ 3824 ┆ 5712    │\n│ 2013-12-25 ┆ 31       ┆ M        ┆ Australia ┆ … ┆ 1912      ┆ 3400       ┆ 1912 ┆ 2856    │\n└────────────┴──────────┴──────────┴───────────┴───┴───────────┴────────────┴──────┴─────────┘",
      "text/html": "<div><style>\n.dataframe > thead > tr,\n.dataframe > tbody > tr {\n  text-align: right;\n  white-space: pre-wrap;\n}\n</style>\n<small>shape: (5, 10)</small><table border=\"1\" class=\"dataframe\"><thead><tr><th>date</th><th>customer age</th><th>customer gender</th><th>country</th><th>sub category</th><th>order quantity</th><th>unit cost</th><th>unit price</th><th>cost</th><th>revenue</th></tr><tr><td>date</td><td>i64</td><td>str</td><td>str</td><td>str</td><td>i64</td><td>i64</td><td>i64</td><td>i64</td><td>i64</td></tr></thead><tbody><tr><td>2013-01-28</td><td>31</td><td>&quot;M&quot;</td><td>&quot;Australia&quot;</td><td>&quot;Mountain Bikes…</td><td>1</td><td>1912</td><td>3400</td><td>1912</td><td>2856</td></tr><tr><td>2015-01-28</td><td>31</td><td>&quot;M&quot;</td><td>&quot;Australia&quot;</td><td>&quot;Mountain Bikes…</td><td>1</td><td>1912</td><td>3400</td><td>1912</td><td>2856</td></tr><tr><td>2013-07-22</td><td>31</td><td>&quot;M&quot;</td><td>&quot;Australia&quot;</td><td>&quot;Mountain Bikes…</td><td>1</td><td>1912</td><td>3400</td><td>1912</td><td>2856</td></tr><tr><td>2015-07-22</td><td>31</td><td>&quot;M&quot;</td><td>&quot;Australia&quot;</td><td>&quot;Mountain Bikes…</td><td>2</td><td>1912</td><td>3400</td><td>3824</td><td>5712</td></tr><tr><td>2013-12-25</td><td>31</td><td>&quot;M&quot;</td><td>&quot;Australia&quot;</td><td>&quot;Mountain Bikes…</td><td>1</td><td>1912</td><td>3400</td><td>1912</td><td>2856</td></tr></tbody></table></div>"
     },
     "execution_count": 12,
     "metadata": {},
     "output_type": "execute_result"
    }
   ],
   "source": [
    "dfb = pl.read_parquet(\"data_bike_sales.parquet\")\n",
    "dfb.head()"
   ]
  },
  {
   "cell_type": "markdown",
   "id": "5a953310-7d9e-4f21-9fb5-216c3ed89f9f",
   "metadata": {},
   "source": [
    "The monetary values are in the local currency but we want to compare them in US dollars. \n",
    "\n",
    "In order to do this we join the following `DataFrame` with the foreign-exchange rates to US dollars"
   ]
  },
  {
   "cell_type": "code",
   "execution_count": 13,
   "id": "153fefe7-eab3-4560-9348-3a3283cc1f99",
   "metadata": {
    "ExecuteTime": {
     "end_time": "2024-03-04T15:18:53.988457400Z",
     "start_time": "2024-03-04T15:18:53.935063600Z"
    }
   },
   "outputs": [
    {
     "data": {
      "text/plain": "shape: (5, 11)\n┌────────────┬──────────────┬──────────┬───────────┬───┬────────────┬──────┬─────────┬─────────┐\n│ date       ┆ customer age ┆ customer ┆ country   ┆ … ┆ unit price ┆ cost ┆ revenue ┆ fx_rate │\n│ ---        ┆ ---          ┆ gender   ┆ ---       ┆   ┆ ---        ┆ ---  ┆ ---     ┆ ---     │\n│ date       ┆ i64          ┆ ---      ┆ str       ┆   ┆ i64        ┆ i64  ┆ i64     ┆ f64     │\n│            ┆              ┆ str      ┆           ┆   ┆            ┆      ┆         ┆         │\n╞════════════╪══════════════╪══════════╪═══════════╪═══╪════════════╪══════╪═════════╪═════════╡\n│ 2013-01-28 ┆ 31           ┆ M        ┆ Australia ┆ … ┆ 3400       ┆ 1912 ┆ 2856    ┆ 2.5     │\n│ 2015-01-28 ┆ 31           ┆ M        ┆ Australia ┆ … ┆ 3400       ┆ 1912 ┆ 2856    ┆ 2.5     │\n│ 2013-07-22 ┆ 31           ┆ M        ┆ Australia ┆ … ┆ 3400       ┆ 1912 ┆ 2856    ┆ 2.5     │\n│ 2015-07-22 ┆ 31           ┆ M        ┆ Australia ┆ … ┆ 3400       ┆ 3824 ┆ 5712    ┆ 2.5     │\n│ 2013-12-25 ┆ 31           ┆ M        ┆ Australia ┆ … ┆ 3400       ┆ 1912 ┆ 2856    ┆ 2.5     │\n└────────────┴──────────────┴──────────┴───────────┴───┴────────────┴──────┴─────────┴─────────┘",
      "text/html": "<div><style>\n.dataframe > thead > tr,\n.dataframe > tbody > tr {\n  text-align: right;\n  white-space: pre-wrap;\n}\n</style>\n<small>shape: (5, 11)</small><table border=\"1\" class=\"dataframe\"><thead><tr><th>date</th><th>customer age</th><th>customer gender</th><th>country</th><th>sub category</th><th>order quantity</th><th>unit cost</th><th>unit price</th><th>cost</th><th>revenue</th><th>fx_rate</th></tr><tr><td>date</td><td>i64</td><td>str</td><td>str</td><td>str</td><td>i64</td><td>i64</td><td>i64</td><td>i64</td><td>i64</td><td>f64</td></tr></thead><tbody><tr><td>2013-01-28</td><td>31</td><td>&quot;M&quot;</td><td>&quot;Australia&quot;</td><td>&quot;Mountain Bikes…</td><td>1</td><td>1912</td><td>3400</td><td>1912</td><td>2856</td><td>2.5</td></tr><tr><td>2015-01-28</td><td>31</td><td>&quot;M&quot;</td><td>&quot;Australia&quot;</td><td>&quot;Mountain Bikes…</td><td>1</td><td>1912</td><td>3400</td><td>1912</td><td>2856</td><td>2.5</td></tr><tr><td>2013-07-22</td><td>31</td><td>&quot;M&quot;</td><td>&quot;Australia&quot;</td><td>&quot;Mountain Bikes…</td><td>1</td><td>1912</td><td>3400</td><td>1912</td><td>2856</td><td>2.5</td></tr><tr><td>2015-07-22</td><td>31</td><td>&quot;M&quot;</td><td>&quot;Australia&quot;</td><td>&quot;Mountain Bikes…</td><td>2</td><td>1912</td><td>3400</td><td>3824</td><td>5712</td><td>2.5</td></tr><tr><td>2013-12-25</td><td>31</td><td>&quot;M&quot;</td><td>&quot;Australia&quot;</td><td>&quot;Mountain Bikes…</td><td>1</td><td>1912</td><td>3400</td><td>1912</td><td>2856</td><td>2.5</td></tr></tbody></table></div>"
     },
     "execution_count": 13,
     "metadata": {},
     "output_type": "execute_result"
    }
   ],
   "source": [
    "fx_df = (\n",
    "    pl.DataFrame(\n",
    "        {\n",
    "            \"country\":['Germany', 'Canada', 'Australia', 'United States', 'United Kingdom', 'France'],\n",
    "            \"fx_rate\":[1.25,2.0,2.5,1.0,1.5,1.25]\n",
    "        }\n",
    "    )\n",
    ")\n",
    "\n",
    "dfb = (\n",
    "    dfb\n",
    "    .join(fx_df,on=\"country\",how=\"left\")\n",
    ")\n",
    "dfb.head()"
   ]
  },
  {
   "cell_type": "markdown",
   "id": "cd940a5f-50ad-4fb8-bf7e-31f7b42f7daf",
   "metadata": {},
   "source": [
    "We now have a column called `fx_rate`.\n",
    "\n",
    "We learn more about `joins` later in the course\n",
    "Convert the monetary columns to a float dtype. \n",
    "\n",
    "Note that the some column names have whitespace (I recommend printing them out)"
   ]
  },
  {
   "cell_type": "code",
   "execution_count": 15,
   "id": "f11bd038-361a-49e1-b95b-0af3fcf124a8",
   "metadata": {
    "ExecuteTime": {
     "end_time": "2024-03-04T15:21:35.374200600Z",
     "start_time": "2024-03-04T15:21:35.331201100Z"
    }
   },
   "outputs": [
    {
     "data": {
      "text/plain": "['date',\n 'customer age',\n 'customer gender',\n 'country',\n 'sub category',\n 'order quantity',\n 'unit cost',\n 'unit price',\n 'cost',\n 'revenue',\n 'fx_rate']"
     },
     "execution_count": 15,
     "metadata": {},
     "output_type": "execute_result"
    }
   ],
   "source": [
    "dfb.columns"
   ]
  },
  {
   "cell_type": "markdown",
   "id": "e2da78a2-4d36-4288-acc7-045ec17fa6a3",
   "metadata": {},
   "source": [
    "Do this conversion to float dtype in a single expression"
   ]
  },
  {
   "cell_type": "code",
   "execution_count": 21,
   "id": "b671e8ef-7796-4a39-a5db-8061480b3a83",
   "metadata": {
    "ExecuteTime": {
     "end_time": "2024-03-04T15:26:02.858164800Z",
     "start_time": "2024-03-04T15:26:02.828166Z"
    }
   },
   "outputs": [
    {
     "data": {
      "text/plain": "shape: (10, 15)\n┌───────────┬───────────┬───────────┬───────────┬───┬──────────┬───────────┬───────────┬───────────┐\n│ date      ┆ customer  ┆ customer  ┆ country   ┆ … ┆ cost_usd ┆ unit_cost ┆ unit_pric ┆ revenue_u │\n│ ---       ┆ age       ┆ gender    ┆ ---       ┆   ┆ ---      ┆ _usd      ┆ e_usd     ┆ sd        │\n│ date      ┆ ---       ┆ ---       ┆ str       ┆   ┆ f64      ┆ ---       ┆ ---       ┆ ---       │\n│           ┆ i64       ┆ str       ┆           ┆   ┆          ┆ f64       ┆ f64       ┆ f64       │\n╞═══════════╪═══════════╪═══════════╪═══════════╪═══╪══════════╪═══════════╪═══════════╪═══════════╡\n│ 2013-01-2 ┆ 31        ┆ M         ┆ Australia ┆ … ┆ 4780.0   ┆ 4780.0    ┆ 8500.0    ┆ 7140.0    │\n│ 8         ┆           ┆           ┆           ┆   ┆          ┆           ┆           ┆           │\n│ 2015-01-2 ┆ 31        ┆ M         ┆ Australia ┆ … ┆ 4780.0   ┆ 4780.0    ┆ 8500.0    ┆ 7140.0    │\n│ 8         ┆           ┆           ┆           ┆   ┆          ┆           ┆           ┆           │\n│ 2013-07-2 ┆ 31        ┆ M         ┆ Australia ┆ … ┆ 4780.0   ┆ 4780.0    ┆ 8500.0    ┆ 7140.0    │\n│ 2         ┆           ┆           ┆           ┆   ┆          ┆           ┆           ┆           │\n│ 2015-07-2 ┆ 31        ┆ M         ┆ Australia ┆ … ┆ 9560.0   ┆ 4780.0    ┆ 8500.0    ┆ 14280.0   │\n│ 2         ┆           ┆           ┆           ┆   ┆          ┆           ┆           ┆           │\n│ 2013-12-2 ┆ 31        ┆ M         ┆ Australia ┆ … ┆ 4780.0   ┆ 4780.0    ┆ 8500.0    ┆ 7140.0    │\n│ 5         ┆           ┆           ┆           ┆   ┆          ┆           ┆           ┆           │\n│ 2015-12-2 ┆ 31        ┆ M         ┆ Australia ┆ … ┆ 14340.0  ┆ 4780.0    ┆ 8500.0    ┆ 21420.0   │\n│ 5         ┆           ┆           ┆           ┆   ┆          ┆           ┆           ┆           │\n│ 2014-02-1 ┆ 31        ┆ M         ┆ Australia ┆ … ┆ 4780.0   ┆ 4780.0    ┆ 8500.0    ┆ 7140.0    │\n│ 3         ┆           ┆           ┆           ┆   ┆          ┆           ┆           ┆           │\n│ 2016-02-1 ┆ 31        ┆ M         ┆ Australia ┆ … ┆ 9560.0   ┆ 4780.0    ┆ 8500.0    ┆ 14280.0   │\n│ 3         ┆           ┆           ┆           ┆   ┆          ┆           ┆           ┆           │\n│ 2013-07-0 ┆ 32        ┆ M         ┆ Australia ┆ … ┆ 4780.0   ┆ 4780.0    ┆ 8500.0    ┆ 6885.0    │\n│ 4         ┆           ┆           ┆           ┆   ┆          ┆           ┆           ┆           │\n│ 2015-07-0 ┆ 32        ┆ M         ┆ Australia ┆ … ┆ 4780.0   ┆ 4780.0    ┆ 8500.0    ┆ 6885.0    │\n│ 4         ┆           ┆           ┆           ┆   ┆          ┆           ┆           ┆           │\n└───────────┴───────────┴───────────┴───────────┴───┴──────────┴───────────┴───────────┴───────────┘",
      "text/html": "<div><style>\n.dataframe > thead > tr,\n.dataframe > tbody > tr {\n  text-align: right;\n  white-space: pre-wrap;\n}\n</style>\n<small>shape: (10, 15)</small><table border=\"1\" class=\"dataframe\"><thead><tr><th>date</th><th>customer age</th><th>customer gender</th><th>country</th><th>sub category</th><th>order quantity</th><th>unit cost</th><th>unit price</th><th>cost</th><th>revenue</th><th>fx_rate</th><th>cost_usd</th><th>unit_cost_usd</th><th>unit_price_usd</th><th>revenue_usd</th></tr><tr><td>date</td><td>i64</td><td>str</td><td>str</td><td>str</td><td>i64</td><td>f64</td><td>f64</td><td>f64</td><td>f64</td><td>f64</td><td>f64</td><td>f64</td><td>f64</td><td>f64</td></tr></thead><tbody><tr><td>2013-01-28</td><td>31</td><td>&quot;M&quot;</td><td>&quot;Australia&quot;</td><td>&quot;Mountain Bikes…</td><td>1</td><td>1912.0</td><td>3400.0</td><td>1912.0</td><td>2856.0</td><td>2.5</td><td>4780.0</td><td>4780.0</td><td>8500.0</td><td>7140.0</td></tr><tr><td>2015-01-28</td><td>31</td><td>&quot;M&quot;</td><td>&quot;Australia&quot;</td><td>&quot;Mountain Bikes…</td><td>1</td><td>1912.0</td><td>3400.0</td><td>1912.0</td><td>2856.0</td><td>2.5</td><td>4780.0</td><td>4780.0</td><td>8500.0</td><td>7140.0</td></tr><tr><td>2013-07-22</td><td>31</td><td>&quot;M&quot;</td><td>&quot;Australia&quot;</td><td>&quot;Mountain Bikes…</td><td>1</td><td>1912.0</td><td>3400.0</td><td>1912.0</td><td>2856.0</td><td>2.5</td><td>4780.0</td><td>4780.0</td><td>8500.0</td><td>7140.0</td></tr><tr><td>2015-07-22</td><td>31</td><td>&quot;M&quot;</td><td>&quot;Australia&quot;</td><td>&quot;Mountain Bikes…</td><td>2</td><td>1912.0</td><td>3400.0</td><td>3824.0</td><td>5712.0</td><td>2.5</td><td>9560.0</td><td>4780.0</td><td>8500.0</td><td>14280.0</td></tr><tr><td>2013-12-25</td><td>31</td><td>&quot;M&quot;</td><td>&quot;Australia&quot;</td><td>&quot;Mountain Bikes…</td><td>1</td><td>1912.0</td><td>3400.0</td><td>1912.0</td><td>2856.0</td><td>2.5</td><td>4780.0</td><td>4780.0</td><td>8500.0</td><td>7140.0</td></tr><tr><td>2015-12-25</td><td>31</td><td>&quot;M&quot;</td><td>&quot;Australia&quot;</td><td>&quot;Mountain Bikes…</td><td>3</td><td>1912.0</td><td>3400.0</td><td>5736.0</td><td>8568.0</td><td>2.5</td><td>14340.0</td><td>4780.0</td><td>8500.0</td><td>21420.0</td></tr><tr><td>2014-02-13</td><td>31</td><td>&quot;M&quot;</td><td>&quot;Australia&quot;</td><td>&quot;Mountain Bikes…</td><td>1</td><td>1912.0</td><td>3400.0</td><td>1912.0</td><td>2856.0</td><td>2.5</td><td>4780.0</td><td>4780.0</td><td>8500.0</td><td>7140.0</td></tr><tr><td>2016-02-13</td><td>31</td><td>&quot;M&quot;</td><td>&quot;Australia&quot;</td><td>&quot;Mountain Bikes…</td><td>2</td><td>1912.0</td><td>3400.0</td><td>3824.0</td><td>5712.0</td><td>2.5</td><td>9560.0</td><td>4780.0</td><td>8500.0</td><td>14280.0</td></tr><tr><td>2013-07-04</td><td>32</td><td>&quot;M&quot;</td><td>&quot;Australia&quot;</td><td>&quot;Mountain Bikes…</td><td>1</td><td>1912.0</td><td>3400.0</td><td>1912.0</td><td>2754.0</td><td>2.5</td><td>4780.0</td><td>4780.0</td><td>8500.0</td><td>6885.0</td></tr><tr><td>2015-07-04</td><td>32</td><td>&quot;M&quot;</td><td>&quot;Australia&quot;</td><td>&quot;Mountain Bikes…</td><td>1</td><td>1912.0</td><td>3400.0</td><td>1912.0</td><td>2754.0</td><td>2.5</td><td>4780.0</td><td>4780.0</td><td>8500.0</td><td>6885.0</td></tr></tbody></table></div>"
     },
     "execution_count": 21,
     "metadata": {},
     "output_type": "execute_result"
    }
   ],
   "source": [
    "(\n",
    "    dfb\n",
    "    .with_columns(\n",
    "        pl.col('cost').cast(pl.Float64),\n",
    "        (pl.col('cost')*pl.col('fx_rate')).alias('cost_usd'),\n",
    "        pl.col('unit cost').cast(pl.Float64),\n",
    "        (pl.col('unit cost')*pl.col('fx_rate')).alias('unit_cost_usd'),\n",
    "        pl.col('unit price').cast(pl.Float64),\n",
    "        (pl.col('unit price')*pl.col('fx_rate')).alias('unit_price_usd'),\n",
    "        pl.col('revenue').cast(pl.Float64),\n",
    "        (pl.col('revenue')*pl.col('fx_rate')).alias('revenue_usd'),\n",
    "\n",
    "    )\n",
    "    .head(10)\n",
    ")"
   ]
  },
  {
   "cell_type": "markdown",
   "id": "95d20699-1f76-45bc-884b-3c9ab644c01f",
   "metadata": {},
   "source": [
    "Continue by adding a new `with_columns` statement where for each monetary column we add a column that has the US Dollar equivlent amount. We do this conversion by multiplying the monetary columns by `fx_rate`.\n",
    "\n",
    "- Select the monetary columns using `cs.matches`\n",
    "- Add `\"_usd\"` to the new column name\n",
    "- Ensure you enclose the conversion in `()` before renaming the expressions"
   ]
  },
  {
   "cell_type": "markdown",
   "id": "30183c45-b96b-450d-a375-6a764adbcc71",
   "metadata": {},
   "source": [
    "## Solutions\n",
    "\n",
    "### Solution to Exercise 1\n",
    "Convert the 64-bit integer and float columns to their 32-bit equivalents"
   ]
  },
  {
   "cell_type": "code",
   "execution_count": null,
   "id": "105e805e-b637-4e0c-8d43-fcd5163214f4",
   "metadata": {
    "jupyter": {
     "source_hidden": true
    }
   },
   "outputs": [],
   "source": [
    "(\n",
    "    pl.read_csv(csv_file)\n",
    "    .with_columns(\n",
    "        pl.col(pl.Float64).cast(pl.Float32),\n",
    "        pl.col(pl.Int64).cast(pl.Int32),\n",
    "    )\n",
    "    .head()\n",
    ")"
   ]
  },
  {
   "cell_type": "markdown",
   "id": "3255d734-e896-4524-bd8d-2cea3ee051ae",
   "metadata": {},
   "source": [
    "Continue by adding\n",
    "- a `family_size` column as the sum of the siblings, parents and the passenger\n",
    "- a Boolean `over_thirty` column showing if a passenger is aged 30 or over\n",
    "\n",
    "Do this using keyword assignment"
   ]
  },
  {
   "cell_type": "code",
   "execution_count": null,
   "id": "a3a3e5c3-d089-4599-8cba-31653262a8c6",
   "metadata": {
    "jupyter": {
     "source_hidden": true
    },
    "tags": []
   },
   "outputs": [],
   "source": [
    "(\n",
    "    pl.read_csv(csv_file)\n",
    "    .with_columns(\n",
    "        pl.col(pl.Float64).cast(pl.Float32),\n",
    "        pl.col(pl.Int64).cast(pl.Int32),\n",
    "    )\n",
    "    .with_columns(\n",
    "        family_size = pl.col(\"SibSp\")+pl.col(\"Parch\")+1,\n",
    "        over_thirty = pl.col(\"Age\")>=30\n",
    "    )\n",
    "    .head()\n",
    ")"
   ]
  },
  {
   "cell_type": "markdown",
   "id": "d74b7191-c9c8-43ad-9ad9-a1367ba56456",
   "metadata": {},
   "source": [
    "### Solution to Exercise 2\n",
    "We have the following fictitious dataset with sales figures of bikes in different countries."
   ]
  },
  {
   "cell_type": "code",
   "execution_count": null,
   "id": "1e37eb6b-d922-43ba-a910-3688e08b0e5a",
   "metadata": {},
   "outputs": [],
   "source": [
    "dfb = pl.read_parquet(\"../data/bike_sales.parquet\")\n",
    "dfb.head()"
   ]
  },
  {
   "cell_type": "markdown",
   "id": "794edf2c-6f1d-4113-9c7d-a2eb09ad09fb",
   "metadata": {},
   "source": [
    "The monetary values are in the local currency but we want to compare them in US dollars. \n",
    "\n",
    "In order to do this we join the following `DataFrame` with the foreign-exchange rates to US dollars"
   ]
  },
  {
   "cell_type": "code",
   "execution_count": null,
   "id": "47174a75-1394-45e5-a91d-d8ec2f45d0d4",
   "metadata": {},
   "outputs": [],
   "source": [
    "fx_df = (\n",
    "    pl.DataFrame(\n",
    "        {\n",
    "            \"country\":['Germany', 'Canada', 'Australia', 'United States', 'United Kingdom', 'France'],\n",
    "            \"fx_rate\":[1.25,2.0,2.5,1.0,1.5,1.25]\n",
    "        }\n",
    "    )\n",
    ")\n",
    "\n",
    "dfb = (\n",
    "    dfb\n",
    "    .join(fx_df,on=\"country\",how=\"left\")\n",
    ")\n",
    "dfb.head()"
   ]
  },
  {
   "cell_type": "markdown",
   "id": "362f93d9-eb93-4507-a3cd-b2a7374bea89",
   "metadata": {},
   "source": [
    "We now have a column called `fx_rate`.\n",
    "\n",
    "We learn more about `joins` later in the course\n",
    "Convert the monetary columns to a float dtype. \n",
    "\n",
    "Note that the some column names have whitespace (I recommend printing them out)"
   ]
  },
  {
   "cell_type": "code",
   "execution_count": 22,
   "id": "4ead0098-9a62-49e0-a89b-ca69034e188e",
   "metadata": {
    "ExecuteTime": {
     "end_time": "2024-03-04T15:26:18.637054900Z",
     "start_time": "2024-03-04T15:26:18.575054800Z"
    }
   },
   "outputs": [
    {
     "data": {
      "text/plain": "['date',\n 'customer age',\n 'customer gender',\n 'country',\n 'sub category',\n 'order quantity',\n 'unit cost',\n 'unit price',\n 'cost',\n 'revenue',\n 'fx_rate']"
     },
     "execution_count": 22,
     "metadata": {},
     "output_type": "execute_result"
    }
   ],
   "source": [
    "dfb.columns"
   ]
  },
  {
   "cell_type": "markdown",
   "id": "cd04f96b-5fa1-4c9c-ae0e-826652ebdf43",
   "metadata": {},
   "source": [
    "Do this conversion to float dtype in a single expression"
   ]
  },
  {
   "cell_type": "code",
   "execution_count": 23,
   "id": "eeb27b55-fb56-46e5-be6d-244115abb84d",
   "metadata": {
    "jupyter": {
     "source_hidden": true
    },
    "ExecuteTime": {
     "end_time": "2024-03-04T15:26:20.996174900Z",
     "start_time": "2024-03-04T15:26:20.968146300Z"
    }
   },
   "outputs": [
    {
     "data": {
      "text/plain": "shape: (5, 11)\n┌────────────┬──────────┬──────────┬───────────┬───┬────────────┬────────┬─────────┬─────────┐\n│ date       ┆ customer ┆ customer ┆ country   ┆ … ┆ unit price ┆ cost   ┆ revenue ┆ fx_rate │\n│ ---        ┆ age      ┆ gender   ┆ ---       ┆   ┆ ---        ┆ ---    ┆ ---     ┆ ---     │\n│ date       ┆ ---      ┆ ---      ┆ str       ┆   ┆ f64        ┆ f64    ┆ f64     ┆ f64     │\n│            ┆ i64      ┆ str      ┆           ┆   ┆            ┆        ┆         ┆         │\n╞════════════╪══════════╪══════════╪═══════════╪═══╪════════════╪════════╪═════════╪═════════╡\n│ 2013-01-28 ┆ 31       ┆ M        ┆ Australia ┆ … ┆ 3400.0     ┆ 1912.0 ┆ 2856.0  ┆ 2.5     │\n│ 2015-01-28 ┆ 31       ┆ M        ┆ Australia ┆ … ┆ 3400.0     ┆ 1912.0 ┆ 2856.0  ┆ 2.5     │\n│ 2013-07-22 ┆ 31       ┆ M        ┆ Australia ┆ … ┆ 3400.0     ┆ 1912.0 ┆ 2856.0  ┆ 2.5     │\n│ 2015-07-22 ┆ 31       ┆ M        ┆ Australia ┆ … ┆ 3400.0     ┆ 3824.0 ┆ 5712.0  ┆ 2.5     │\n│ 2013-12-25 ┆ 31       ┆ M        ┆ Australia ┆ … ┆ 3400.0     ┆ 1912.0 ┆ 2856.0  ┆ 2.5     │\n└────────────┴──────────┴──────────┴───────────┴───┴────────────┴────────┴─────────┴─────────┘",
      "text/html": "<div><style>\n.dataframe > thead > tr,\n.dataframe > tbody > tr {\n  text-align: right;\n  white-space: pre-wrap;\n}\n</style>\n<small>shape: (5, 11)</small><table border=\"1\" class=\"dataframe\"><thead><tr><th>date</th><th>customer age</th><th>customer gender</th><th>country</th><th>sub category</th><th>order quantity</th><th>unit cost</th><th>unit price</th><th>cost</th><th>revenue</th><th>fx_rate</th></tr><tr><td>date</td><td>i64</td><td>str</td><td>str</td><td>str</td><td>i64</td><td>f64</td><td>f64</td><td>f64</td><td>f64</td><td>f64</td></tr></thead><tbody><tr><td>2013-01-28</td><td>31</td><td>&quot;M&quot;</td><td>&quot;Australia&quot;</td><td>&quot;Mountain Bikes…</td><td>1</td><td>1912.0</td><td>3400.0</td><td>1912.0</td><td>2856.0</td><td>2.5</td></tr><tr><td>2015-01-28</td><td>31</td><td>&quot;M&quot;</td><td>&quot;Australia&quot;</td><td>&quot;Mountain Bikes…</td><td>1</td><td>1912.0</td><td>3400.0</td><td>1912.0</td><td>2856.0</td><td>2.5</td></tr><tr><td>2013-07-22</td><td>31</td><td>&quot;M&quot;</td><td>&quot;Australia&quot;</td><td>&quot;Mountain Bikes…</td><td>1</td><td>1912.0</td><td>3400.0</td><td>1912.0</td><td>2856.0</td><td>2.5</td></tr><tr><td>2015-07-22</td><td>31</td><td>&quot;M&quot;</td><td>&quot;Australia&quot;</td><td>&quot;Mountain Bikes…</td><td>2</td><td>1912.0</td><td>3400.0</td><td>3824.0</td><td>5712.0</td><td>2.5</td></tr><tr><td>2013-12-25</td><td>31</td><td>&quot;M&quot;</td><td>&quot;Australia&quot;</td><td>&quot;Mountain Bikes…</td><td>1</td><td>1912.0</td><td>3400.0</td><td>1912.0</td><td>2856.0</td><td>2.5</td></tr></tbody></table></div>"
     },
     "execution_count": 23,
     "metadata": {},
     "output_type": "execute_result"
    }
   ],
   "source": [
    "(\n",
    "    dfb\n",
    "    .with_columns(\n",
    "        pl.col('unit cost','unit price','cost','revenue').cast(pl.Float64)\n",
    "    )\n",
    "    .head()\n",
    ")"
   ]
  },
  {
   "cell_type": "markdown",
   "id": "c6647d91-853a-4e64-9818-5380d20bd361",
   "metadata": {},
   "source": [
    "Continue by adding a new `with_columns` statement where for each monetary column we add a column that has the US Dollar equivlent amount. We do this conversion by multiplying the monetary columns by `fx_rate`.\n",
    "\n",
    "- Select the monetary columns using `cs.matches`\n",
    "- Add `\"_usd\"` to the new column name\n",
    "- Ensure you enclose the conversion in `()` before renaming the expressions"
   ]
  },
  {
   "cell_type": "code",
   "execution_count": 24,
   "id": "2cee15cd-110f-462d-93a7-84a9e9545aeb",
   "metadata": {
    "jupyter": {
     "source_hidden": true
    },
    "ExecuteTime": {
     "end_time": "2024-03-04T15:26:26.932897500Z",
     "start_time": "2024-03-04T15:26:26.911443800Z"
    }
   },
   "outputs": [
    {
     "data": {
      "text/plain": "shape: (5, 15)\n┌───────────┬───────────┬───────────┬───────────┬───┬───────────┬───────────┬──────────┬───────────┐\n│ date      ┆ customer  ┆ customer  ┆ country   ┆ … ┆ unit      ┆ unit      ┆ cost_usd ┆ revenue_u │\n│ ---       ┆ age       ┆ gender    ┆ ---       ┆   ┆ cost_usd  ┆ price_usd ┆ ---      ┆ sd        │\n│ date      ┆ ---       ┆ ---       ┆ str       ┆   ┆ ---       ┆ ---       ┆ f64      ┆ ---       │\n│           ┆ i64       ┆ str       ┆           ┆   ┆ f64       ┆ f64       ┆          ┆ f64       │\n╞═══════════╪═══════════╪═══════════╪═══════════╪═══╪═══════════╪═══════════╪══════════╪═══════════╡\n│ 2013-01-2 ┆ 31        ┆ M         ┆ Australia ┆ … ┆ 4780.0    ┆ 8500.0    ┆ 4780.0   ┆ 7140.0    │\n│ 8         ┆           ┆           ┆           ┆   ┆           ┆           ┆          ┆           │\n│ 2015-01-2 ┆ 31        ┆ M         ┆ Australia ┆ … ┆ 4780.0    ┆ 8500.0    ┆ 4780.0   ┆ 7140.0    │\n│ 8         ┆           ┆           ┆           ┆   ┆           ┆           ┆          ┆           │\n│ 2013-07-2 ┆ 31        ┆ M         ┆ Australia ┆ … ┆ 4780.0    ┆ 8500.0    ┆ 4780.0   ┆ 7140.0    │\n│ 2         ┆           ┆           ┆           ┆   ┆           ┆           ┆          ┆           │\n│ 2015-07-2 ┆ 31        ┆ M         ┆ Australia ┆ … ┆ 4780.0    ┆ 8500.0    ┆ 9560.0   ┆ 14280.0   │\n│ 2         ┆           ┆           ┆           ┆   ┆           ┆           ┆          ┆           │\n│ 2013-12-2 ┆ 31        ┆ M         ┆ Australia ┆ … ┆ 4780.0    ┆ 8500.0    ┆ 4780.0   ┆ 7140.0    │\n│ 5         ┆           ┆           ┆           ┆   ┆           ┆           ┆          ┆           │\n└───────────┴───────────┴───────────┴───────────┴───┴───────────┴───────────┴──────────┴───────────┘",
      "text/html": "<div><style>\n.dataframe > thead > tr,\n.dataframe > tbody > tr {\n  text-align: right;\n  white-space: pre-wrap;\n}\n</style>\n<small>shape: (5, 15)</small><table border=\"1\" class=\"dataframe\"><thead><tr><th>date</th><th>customer age</th><th>customer gender</th><th>country</th><th>sub category</th><th>order quantity</th><th>unit cost</th><th>unit price</th><th>cost</th><th>revenue</th><th>fx_rate</th><th>unit cost_usd</th><th>unit price_usd</th><th>cost_usd</th><th>revenue_usd</th></tr><tr><td>date</td><td>i64</td><td>str</td><td>str</td><td>str</td><td>i64</td><td>f64</td><td>f64</td><td>f64</td><td>f64</td><td>f64</td><td>f64</td><td>f64</td><td>f64</td><td>f64</td></tr></thead><tbody><tr><td>2013-01-28</td><td>31</td><td>&quot;M&quot;</td><td>&quot;Australia&quot;</td><td>&quot;Mountain Bikes…</td><td>1</td><td>1912.0</td><td>3400.0</td><td>1912.0</td><td>2856.0</td><td>2.5</td><td>4780.0</td><td>8500.0</td><td>4780.0</td><td>7140.0</td></tr><tr><td>2015-01-28</td><td>31</td><td>&quot;M&quot;</td><td>&quot;Australia&quot;</td><td>&quot;Mountain Bikes…</td><td>1</td><td>1912.0</td><td>3400.0</td><td>1912.0</td><td>2856.0</td><td>2.5</td><td>4780.0</td><td>8500.0</td><td>4780.0</td><td>7140.0</td></tr><tr><td>2013-07-22</td><td>31</td><td>&quot;M&quot;</td><td>&quot;Australia&quot;</td><td>&quot;Mountain Bikes…</td><td>1</td><td>1912.0</td><td>3400.0</td><td>1912.0</td><td>2856.0</td><td>2.5</td><td>4780.0</td><td>8500.0</td><td>4780.0</td><td>7140.0</td></tr><tr><td>2015-07-22</td><td>31</td><td>&quot;M&quot;</td><td>&quot;Australia&quot;</td><td>&quot;Mountain Bikes…</td><td>2</td><td>1912.0</td><td>3400.0</td><td>3824.0</td><td>5712.0</td><td>2.5</td><td>4780.0</td><td>8500.0</td><td>9560.0</td><td>14280.0</td></tr><tr><td>2013-12-25</td><td>31</td><td>&quot;M&quot;</td><td>&quot;Australia&quot;</td><td>&quot;Mountain Bikes…</td><td>1</td><td>1912.0</td><td>3400.0</td><td>1912.0</td><td>2856.0</td><td>2.5</td><td>4780.0</td><td>8500.0</td><td>4780.0</td><td>7140.0</td></tr></tbody></table></div>"
     },
     "execution_count": 24,
     "metadata": {},
     "output_type": "execute_result"
    }
   ],
   "source": [
    "(\n",
    "    dfb\n",
    "    .with_columns(\n",
    "        pl.col('unit cost','unit price','cost','revenue').cast(pl.Float64)\n",
    "    )\n",
    "\n",
    "    .with_columns(\n",
    "        (cs.matches(\"cost|price|revenue\")*pl.col(\"fx_rate\")).name.suffix(\"_usd\")\n",
    "    )\n",
    "    .head()\n",
    ")"
   ]
  },
  {
   "cell_type": "code",
   "execution_count": null,
   "id": "39c30a1c-907e-4792-b049-14746266548f",
   "metadata": {},
   "outputs": [],
   "source": []
  }
 ],
 "metadata": {
  "kernelspec": {
   "display_name": "Python 3 (ipykernel)",
   "language": "python",
   "name": "python3"
  },
  "language_info": {
   "codemirror_mode": {
    "name": "ipython",
    "version": 3
   },
   "file_extension": ".py",
   "mimetype": "text/x-python",
   "name": "python",
   "nbconvert_exporter": "python",
   "pygments_lexer": "ipython3",
   "version": "3.10.1"
  }
 },
 "nbformat": 4,
 "nbformat_minor": 5
}
