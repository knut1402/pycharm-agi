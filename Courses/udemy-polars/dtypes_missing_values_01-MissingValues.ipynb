{
 "cells": [
  {
   "cell_type": "markdown",
   "id": "84241041-15b1-4d83-871a-f0fc39a5150d",
   "metadata": {},
   "source": [
    "## Missing values\n",
    "By the end of this lecture you will be able to:\n",
    "- identify missing values in a `DataFrame`\n",
    "- count the number of missing values in a column\n",
    "- find and drop `null` or non-`null` values"
   ]
  },
  {
   "cell_type": "code",
   "execution_count": 1,
   "id": "50da2ceb-72fb-400a-8ef5-982f231120c8",
   "metadata": {
    "ExecuteTime": {
     "end_time": "2024-03-05T07:58:59.091872500Z",
     "start_time": "2024-03-05T07:58:58.603545800Z"
    }
   },
   "outputs": [],
   "source": [
    "import polars as pl\n",
    "import polars.selectors as cs"
   ]
  },
  {
   "cell_type": "markdown",
   "id": "bfcae499-dc59-44c9-a6eb-9f2c9731303f",
   "metadata": {},
   "source": [
    "### Missing values in Polars\n",
    "Missing values in Polars are represented with a `null` value for all dtypes. We can create them manually with `None` value.\n",
    "\n",
    "We create a simple `DataFrame` where the rows have:\n",
    "- all `null` values\n",
    "- some `null` values\n",
    "- one `null` value"
   ]
  },
  {
   "cell_type": "code",
   "execution_count": 2,
   "id": "cbb109b9-3ace-469d-8d0f-1d79202d63b7",
   "metadata": {
    "ExecuteTime": {
     "end_time": "2024-03-05T07:58:59.124872500Z",
     "start_time": "2024-03-05T07:58:59.089871700Z"
    }
   },
   "outputs": [
    {
     "data": {
      "text/plain": "shape: (4, 3)\n┌──────┬──────┬──────┐\n│ col1 ┆ col2 ┆ col3 │\n│ ---  ┆ ---  ┆ ---  │\n│ i64  ┆ i64  ┆ i64  │\n╞══════╪══════╪══════╡\n│ null ┆ null ┆ null │\n│ 2    ┆ null ┆ null │\n│ 3    ┆ 5    ┆ null │\n│ 4    ┆ 6    ┆ 7    │\n└──────┴──────┴──────┘",
      "text/html": "<div><style>\n.dataframe > thead > tr,\n.dataframe > tbody > tr {\n  text-align: right;\n  white-space: pre-wrap;\n}\n</style>\n<small>shape: (4, 3)</small><table border=\"1\" class=\"dataframe\"><thead><tr><th>col1</th><th>col2</th><th>col3</th></tr><tr><td>i64</td><td>i64</td><td>i64</td></tr></thead><tbody><tr><td>null</td><td>null</td><td>null</td></tr><tr><td>2</td><td>null</td><td>null</td></tr><tr><td>3</td><td>5</td><td>null</td></tr><tr><td>4</td><td>6</td><td>7</td></tr></tbody></table></div>"
     },
     "execution_count": 2,
     "metadata": {},
     "output_type": "execute_result"
    }
   ],
   "source": [
    "df = pl.DataFrame(\n",
    "    {\n",
    "        'col1':[None,2,3,4],\n",
    "        \"col2\":[None,None,5,6],\n",
    "        \"col3\":[None,None,None,7]\n",
    "    }\n",
    ")\n",
    "df"
   ]
  },
  {
   "cell_type": "markdown",
   "id": "43142210-016e-45eb-8bd5-fde23fa1ad81",
   "metadata": {},
   "source": [
    "> In Pandas a missing value can be represented with a `null`,`NaN` or `None` value depending on the dtype of the column. Polars also allows `NaN` values for floating point columns to represent non-numberic values (e.g. where division by zero has occurred). This use of `NaN` is distinct from missing values. \n",
    "\n",
    "### Metadata on `null` values\n",
    "Polars stores metadata about `null` values for each column in a `DataFrame`.\n",
    "\n",
    "#### Null count\n",
    "Polars stores a count of how many `null` values there are. We can access this with the `null_count` method on a single column or on all the columns"
   ]
  },
  {
   "cell_type": "code",
   "execution_count": 3,
   "id": "a8534431-f5fd-4531-8b69-cb881dc9f112",
   "metadata": {
    "ExecuteTime": {
     "end_time": "2024-03-05T07:59:11.288881900Z",
     "start_time": "2024-03-05T07:59:11.173885800Z"
    }
   },
   "outputs": [
    {
     "data": {
      "text/plain": "shape: (1, 3)\n┌──────┬──────┬──────┐\n│ col1 ┆ col2 ┆ col3 │\n│ ---  ┆ ---  ┆ ---  │\n│ u32  ┆ u32  ┆ u32  │\n╞══════╪══════╪══════╡\n│ 1    ┆ 2    ┆ 3    │\n└──────┴──────┴──────┘",
      "text/html": "<div><style>\n.dataframe > thead > tr,\n.dataframe > tbody > tr {\n  text-align: right;\n  white-space: pre-wrap;\n}\n</style>\n<small>shape: (1, 3)</small><table border=\"1\" class=\"dataframe\"><thead><tr><th>col1</th><th>col2</th><th>col3</th></tr><tr><td>u32</td><td>u32</td><td>u32</td></tr></thead><tbody><tr><td>1</td><td>2</td><td>3</td></tr></tbody></table></div>"
     },
     "execution_count": 3,
     "metadata": {},
     "output_type": "execute_result"
    }
   ],
   "source": [
    "df.null_count()"
   ]
  },
  {
   "cell_type": "markdown",
   "id": "683d5580-1479-41b8-923d-74ac8ac3fea6",
   "metadata": {},
   "source": [
    "Polars keeps track of the `null_count` at all times so this is a cheap operation regardless of the size of the column."
   ]
  },
  {
   "cell_type": "markdown",
   "id": "8c2f5d9a-5d25-4d24-bc9c-d5ab25975951",
   "metadata": {},
   "source": [
    "### Finding `null` values\n",
    "\n",
    "We use the `is_null` expression to find out whether each value is `null` and `is_not_null` for the converse"
   ]
  },
  {
   "cell_type": "code",
   "execution_count": 5,
   "id": "b9f48986-5846-499c-9140-f9b3e8e0e3f4",
   "metadata": {
    "ExecuteTime": {
     "end_time": "2024-03-05T08:00:22.669126Z",
     "start_time": "2024-03-05T08:00:22.616078400Z"
    }
   },
   "outputs": [
    {
     "data": {
      "text/plain": "shape: (4, 3)\n┌──────┬─────────┬─────────────┐\n│ col1 ┆ is_null ┆ is_not_null │\n│ ---  ┆ ---     ┆ ---         │\n│ i64  ┆ bool    ┆ bool        │\n╞══════╪═════════╪═════════════╡\n│ null ┆ true    ┆ false       │\n│ 2    ┆ false   ┆ true        │\n│ 3    ┆ false   ┆ true        │\n│ 4    ┆ false   ┆ true        │\n└──────┴─────────┴─────────────┘",
      "text/html": "<div><style>\n.dataframe > thead > tr,\n.dataframe > tbody > tr {\n  text-align: right;\n  white-space: pre-wrap;\n}\n</style>\n<small>shape: (4, 3)</small><table border=\"1\" class=\"dataframe\"><thead><tr><th>col1</th><th>is_null</th><th>is_not_null</th></tr><tr><td>i64</td><td>bool</td><td>bool</td></tr></thead><tbody><tr><td>null</td><td>true</td><td>false</td></tr><tr><td>2</td><td>false</td><td>true</td></tr><tr><td>3</td><td>false</td><td>true</td></tr><tr><td>4</td><td>false</td><td>true</td></tr></tbody></table></div>"
     },
     "execution_count": 5,
     "metadata": {},
     "output_type": "execute_result"
    }
   ],
   "source": [
    "(\n",
    "    df\n",
    "    .select(\n",
    "        [\n",
    "            pl.col(\"col1\"),\n",
    "            pl.col(\"col1\").is_null().alias(\"is_null\"),\n",
    "            pl.col(\"col1\").is_not_null().alias(\"is_not_null\")\n",
    "        ]\n",
    "    )\n",
    ")"
   ]
  },
  {
   "cell_type": "markdown",
   "id": "841cf23d-9f4a-4f3e-ba59-6fb82b45a310",
   "metadata": {},
   "source": [
    "### Filtering by `null` values\n",
    "\n",
    "#### Filtering on a single column\n",
    "We can use these methods to filter by `null` or non-`null` values on a single column.\n",
    "\n",
    "In this example we want all rows where the values in `col1` are not `null`"
   ]
  },
  {
   "cell_type": "code",
   "execution_count": 6,
   "id": "f52d2f7d-ffbf-4db0-b35d-430e70042cd0",
   "metadata": {
    "ExecuteTime": {
     "end_time": "2024-03-05T08:00:30.225846700Z",
     "start_time": "2024-03-05T08:00:30.159053200Z"
    }
   },
   "outputs": [
    {
     "data": {
      "text/plain": "shape: (3, 3)\n┌──────┬──────┬──────┐\n│ col1 ┆ col2 ┆ col3 │\n│ ---  ┆ ---  ┆ ---  │\n│ i64  ┆ i64  ┆ i64  │\n╞══════╪══════╪══════╡\n│ 2    ┆ null ┆ null │\n│ 3    ┆ 5    ┆ null │\n│ 4    ┆ 6    ┆ 7    │\n└──────┴──────┴──────┘",
      "text/html": "<div><style>\n.dataframe > thead > tr,\n.dataframe > tbody > tr {\n  text-align: right;\n  white-space: pre-wrap;\n}\n</style>\n<small>shape: (3, 3)</small><table border=\"1\" class=\"dataframe\"><thead><tr><th>col1</th><th>col2</th><th>col3</th></tr><tr><td>i64</td><td>i64</td><td>i64</td></tr></thead><tbody><tr><td>2</td><td>null</td><td>null</td></tr><tr><td>3</td><td>5</td><td>null</td></tr><tr><td>4</td><td>6</td><td>7</td></tr></tbody></table></div>"
     },
     "execution_count": 6,
     "metadata": {},
     "output_type": "execute_result"
    }
   ],
   "source": [
    "(\n",
    "    df\n",
    "    .filter(\n",
    "        pl.col(\"col1\").is_not_null(),\n",
    "    )\n",
    ")"
   ]
  },
  {
   "cell_type": "markdown",
   "id": "143301e5-8ae4-462c-a768-46e81b95b08d",
   "metadata": {},
   "source": [
    "#### Filtering by `null` values in multiple columns\n",
    "\n",
    "In this example we want to remove rows where **all** values are `null`. We can do this using:\n",
    "- `pl.all().is_not_null()` to give `True` values where we get non-`null` values\n",
    "- `pl.any_horizontal` to find if there is at least one `True` value in a row"
   ]
  },
  {
   "cell_type": "code",
   "execution_count": 7,
   "id": "c1fad325-1d12-4ffe-874e-63c9a6418643",
   "metadata": {
    "ExecuteTime": {
     "end_time": "2024-03-05T08:01:06.951986200Z",
     "start_time": "2024-03-05T08:01:06.929949600Z"
    }
   },
   "outputs": [
    {
     "data": {
      "text/plain": "shape: (4, 3)\n┌──────┬──────┬──────┐\n│ col1 ┆ col2 ┆ col3 │\n│ ---  ┆ ---  ┆ ---  │\n│ i64  ┆ i64  ┆ i64  │\n╞══════╪══════╪══════╡\n│ null ┆ null ┆ null │\n│ 2    ┆ null ┆ null │\n│ 3    ┆ 5    ┆ null │\n│ 4    ┆ 6    ┆ 7    │\n└──────┴──────┴──────┘",
      "text/html": "<div><style>\n.dataframe > thead > tr,\n.dataframe > tbody > tr {\n  text-align: right;\n  white-space: pre-wrap;\n}\n</style>\n<small>shape: (4, 3)</small><table border=\"1\" class=\"dataframe\"><thead><tr><th>col1</th><th>col2</th><th>col3</th></tr><tr><td>i64</td><td>i64</td><td>i64</td></tr></thead><tbody><tr><td>null</td><td>null</td><td>null</td></tr><tr><td>2</td><td>null</td><td>null</td></tr><tr><td>3</td><td>5</td><td>null</td></tr><tr><td>4</td><td>6</td><td>7</td></tr></tbody></table></div>"
     },
     "execution_count": 7,
     "metadata": {},
     "output_type": "execute_result"
    }
   ],
   "source": [
    "df"
   ]
  },
  {
   "cell_type": "code",
   "execution_count": 8,
   "id": "7513f37c-f1e6-413d-bca2-ca23c585a927",
   "metadata": {
    "ExecuteTime": {
     "end_time": "2024-03-05T08:01:11.353820500Z",
     "start_time": "2024-03-05T08:01:11.335820900Z"
    }
   },
   "outputs": [
    {
     "data": {
      "text/plain": "shape: (3, 3)\n┌──────┬──────┬──────┐\n│ col1 ┆ col2 ┆ col3 │\n│ ---  ┆ ---  ┆ ---  │\n│ i64  ┆ i64  ┆ i64  │\n╞══════╪══════╪══════╡\n│ 2    ┆ null ┆ null │\n│ 3    ┆ 5    ┆ null │\n│ 4    ┆ 6    ┆ 7    │\n└──────┴──────┴──────┘",
      "text/html": "<div><style>\n.dataframe > thead > tr,\n.dataframe > tbody > tr {\n  text-align: right;\n  white-space: pre-wrap;\n}\n</style>\n<small>shape: (3, 3)</small><table border=\"1\" class=\"dataframe\"><thead><tr><th>col1</th><th>col2</th><th>col3</th></tr><tr><td>i64</td><td>i64</td><td>i64</td></tr></thead><tbody><tr><td>2</td><td>null</td><td>null</td></tr><tr><td>3</td><td>5</td><td>null</td></tr><tr><td>4</td><td>6</td><td>7</td></tr></tbody></table></div>"
     },
     "execution_count": 8,
     "metadata": {},
     "output_type": "execute_result"
    }
   ],
   "source": [
    "(\n",
    "    df\n",
    "    .filter(\n",
    "        pl.any_horizontal(pl.all().is_not_null())\n",
    "    )\n",
    ")"
   ]
  },
  {
   "cell_type": "markdown",
   "id": "140a311e-ba7f-49e9-bc97-b4b4a4d0c339",
   "metadata": {},
   "source": [
    "In this example we want to keep rows where there are no `null` values"
   ]
  },
  {
   "cell_type": "code",
   "execution_count": 9,
   "id": "e0c85dc2-de01-41a4-bf76-5faf542c709d",
   "metadata": {
    "ExecuteTime": {
     "end_time": "2024-03-05T08:02:21.552939700Z",
     "start_time": "2024-03-05T08:02:21.522340800Z"
    }
   },
   "outputs": [
    {
     "data": {
      "text/plain": "shape: (1, 3)\n┌──────┬──────┬──────┐\n│ col1 ┆ col2 ┆ col3 │\n│ ---  ┆ ---  ┆ ---  │\n│ i64  ┆ i64  ┆ i64  │\n╞══════╪══════╪══════╡\n│ 4    ┆ 6    ┆ 7    │\n└──────┴──────┴──────┘",
      "text/html": "<div><style>\n.dataframe > thead > tr,\n.dataframe > tbody > tr {\n  text-align: right;\n  white-space: pre-wrap;\n}\n</style>\n<small>shape: (1, 3)</small><table border=\"1\" class=\"dataframe\"><thead><tr><th>col1</th><th>col2</th><th>col3</th></tr><tr><td>i64</td><td>i64</td><td>i64</td></tr></thead><tbody><tr><td>4</td><td>6</td><td>7</td></tr></tbody></table></div>"
     },
     "execution_count": 9,
     "metadata": {},
     "output_type": "execute_result"
    }
   ],
   "source": [
    "(\n",
    "    df\n",
    "    .filter(\n",
    "        pl.all_horizontal(pl.all().is_not_null())\n",
    "    )\n",
    ")"
   ]
  },
  {
   "cell_type": "markdown",
   "id": "cb249a59-48ec-4013-91cd-3fdb94b78f52",
   "metadata": {},
   "source": [
    "### Using the `drop_nulls` method\n",
    "\n",
    "Polars has a convenience `drop_nulls` method for dropping rows where all values are `null`"
   ]
  },
  {
   "cell_type": "code",
   "execution_count": 11,
   "id": "f50b8ce4-97cf-4cd4-bbe0-db1a517cc771",
   "metadata": {
    "ExecuteTime": {
     "end_time": "2024-03-05T08:03:21.669461500Z",
     "start_time": "2024-03-05T08:03:21.651939Z"
    }
   },
   "outputs": [
    {
     "data": {
      "text/plain": "shape: (1, 3)\n┌──────┬──────┬──────┐\n│ col1 ┆ col2 ┆ col3 │\n│ ---  ┆ ---  ┆ ---  │\n│ i64  ┆ i64  ┆ i64  │\n╞══════╪══════╪══════╡\n│ 4    ┆ 6    ┆ 7    │\n└──────┴──────┴──────┘",
      "text/html": "<div><style>\n.dataframe > thead > tr,\n.dataframe > tbody > tr {\n  text-align: right;\n  white-space: pre-wrap;\n}\n</style>\n<small>shape: (1, 3)</small><table border=\"1\" class=\"dataframe\"><thead><tr><th>col1</th><th>col2</th><th>col3</th></tr><tr><td>i64</td><td>i64</td><td>i64</td></tr></thead><tbody><tr><td>4</td><td>6</td><td>7</td></tr></tbody></table></div>"
     },
     "execution_count": 11,
     "metadata": {},
     "output_type": "execute_result"
    }
   ],
   "source": [
    "(\n",
    "    df\n",
    "    .drop_nulls()\n",
    ")"
   ]
  },
  {
   "cell_type": "markdown",
   "id": "8616df73-20ef-49ab-95ca-5b01af95c4dd",
   "metadata": {},
   "source": [
    "We can also specify a subset of columns to apply the condition on"
   ]
  },
  {
   "cell_type": "code",
   "execution_count": 12,
   "id": "74d77a85-5b78-4a8e-97b3-f8ac592dbacc",
   "metadata": {
    "ExecuteTime": {
     "end_time": "2024-03-05T08:03:23.395650Z",
     "start_time": "2024-03-05T08:03:23.342626800Z"
    }
   },
   "outputs": [
    {
     "data": {
      "text/plain": "shape: (2, 3)\n┌──────┬──────┬──────┐\n│ col1 ┆ col2 ┆ col3 │\n│ ---  ┆ ---  ┆ ---  │\n│ i64  ┆ i64  ┆ i64  │\n╞══════╪══════╪══════╡\n│ 3    ┆ 5    ┆ null │\n│ 4    ┆ 6    ┆ 7    │\n└──────┴──────┴──────┘",
      "text/html": "<div><style>\n.dataframe > thead > tr,\n.dataframe > tbody > tr {\n  text-align: right;\n  white-space: pre-wrap;\n}\n</style>\n<small>shape: (2, 3)</small><table border=\"1\" class=\"dataframe\"><thead><tr><th>col1</th><th>col2</th><th>col3</th></tr><tr><td>i64</td><td>i64</td><td>i64</td></tr></thead><tbody><tr><td>3</td><td>5</td><td>null</td></tr><tr><td>4</td><td>6</td><td>7</td></tr></tbody></table></div>"
     },
     "execution_count": 12,
     "metadata": {},
     "output_type": "execute_result"
    }
   ],
   "source": [
    "(\n",
    "    df\n",
    "    .drop_nulls(subset=[\"col1\",\"col2\"])\n",
    ")"
   ]
  },
  {
   "cell_type": "markdown",
   "id": "cdc59801-d806-49b4-9860-6981ce1242ff",
   "metadata": {},
   "source": [
    "## Exercises\n",
    "In the exercises you will develop your understanding of:\n",
    "- counting the `null` values\n",
    "- filtering by `null` values\n",
    "\n",
    "### Exercise 1\n",
    "Count the number of `null` values in each row of the Titanic data"
   ]
  },
  {
   "cell_type": "code",
   "execution_count": 18,
   "id": "666b2726-c91b-46e8-90c2-e79d9eafe765",
   "metadata": {
    "ExecuteTime": {
     "end_time": "2024-03-05T08:05:02.509052300Z",
     "start_time": "2024-03-05T08:05:02.469049400Z"
    }
   },
   "outputs": [
    {
     "data": {
      "text/plain": "shape: (1, 891)\n┌──────────┬──────────┬──────────┬──────────┬───┬────────────┬────────────┬────────────┬───────────┐\n│ column_0 ┆ column_1 ┆ column_2 ┆ column_3 ┆ … ┆ column_887 ┆ column_888 ┆ column_889 ┆ column_89 │\n│ ---      ┆ ---      ┆ ---      ┆ ---      ┆   ┆ ---        ┆ ---        ┆ ---        ┆ 0         │\n│ u32      ┆ u32      ┆ u32      ┆ u32      ┆   ┆ u32        ┆ u32        ┆ u32        ┆ ---       │\n│          ┆          ┆          ┆          ┆   ┆            ┆            ┆            ┆ u32       │\n╞══════════╪══════════╪══════════╪══════════╪═══╪════════════╪════════════╪════════════╪═══════════╡\n│ 1        ┆ 0        ┆ 1        ┆ 0        ┆ … ┆ 0          ┆ 2          ┆ 0          ┆ 1         │\n└──────────┴──────────┴──────────┴──────────┴───┴────────────┴────────────┴────────────┴───────────┘",
      "text/html": "<div><style>\n.dataframe > thead > tr,\n.dataframe > tbody > tr {\n  text-align: right;\n  white-space: pre-wrap;\n}\n</style>\n<small>shape: (1, 891)</small><table border=\"1\" class=\"dataframe\"><thead><tr><th>column_0</th><th>column_1</th><th>column_2</th><th>column_3</th><th>column_4</th><th>column_5</th><th>column_6</th><th>column_7</th><th>column_8</th><th>column_9</th><th>column_10</th><th>column_11</th><th>column_12</th><th>column_13</th><th>column_14</th><th>column_15</th><th>column_16</th><th>column_17</th><th>column_18</th><th>column_19</th><th>column_20</th><th>column_21</th><th>column_22</th><th>column_23</th><th>column_24</th><th>column_25</th><th>column_26</th><th>column_27</th><th>column_28</th><th>column_29</th><th>column_30</th><th>column_31</th><th>column_32</th><th>column_33</th><th>column_34</th><th>column_35</th><th>column_36</th><th>&hellip;</th><th>column_854</th><th>column_855</th><th>column_856</th><th>column_857</th><th>column_858</th><th>column_859</th><th>column_860</th><th>column_861</th><th>column_862</th><th>column_863</th><th>column_864</th><th>column_865</th><th>column_866</th><th>column_867</th><th>column_868</th><th>column_869</th><th>column_870</th><th>column_871</th><th>column_872</th><th>column_873</th><th>column_874</th><th>column_875</th><th>column_876</th><th>column_877</th><th>column_878</th><th>column_879</th><th>column_880</th><th>column_881</th><th>column_882</th><th>column_883</th><th>column_884</th><th>column_885</th><th>column_886</th><th>column_887</th><th>column_888</th><th>column_889</th><th>column_890</th></tr><tr><td>u32</td><td>u32</td><td>u32</td><td>u32</td><td>u32</td><td>u32</td><td>u32</td><td>u32</td><td>u32</td><td>u32</td><td>u32</td><td>u32</td><td>u32</td><td>u32</td><td>u32</td><td>u32</td><td>u32</td><td>u32</td><td>u32</td><td>u32</td><td>u32</td><td>u32</td><td>u32</td><td>u32</td><td>u32</td><td>u32</td><td>u32</td><td>u32</td><td>u32</td><td>u32</td><td>u32</td><td>u32</td><td>u32</td><td>u32</td><td>u32</td><td>u32</td><td>u32</td><td>&hellip;</td><td>u32</td><td>u32</td><td>u32</td><td>u32</td><td>u32</td><td>u32</td><td>u32</td><td>u32</td><td>u32</td><td>u32</td><td>u32</td><td>u32</td><td>u32</td><td>u32</td><td>u32</td><td>u32</td><td>u32</td><td>u32</td><td>u32</td><td>u32</td><td>u32</td><td>u32</td><td>u32</td><td>u32</td><td>u32</td><td>u32</td><td>u32</td><td>u32</td><td>u32</td><td>u32</td><td>u32</td><td>u32</td><td>u32</td><td>u32</td><td>u32</td><td>u32</td><td>u32</td></tr></thead><tbody><tr><td>1</td><td>0</td><td>1</td><td>0</td><td>1</td><td>2</td><td>0</td><td>1</td><td>1</td><td>1</td><td>0</td><td>0</td><td>1</td><td>1</td><td>1</td><td>1</td><td>1</td><td>2</td><td>1</td><td>2</td><td>1</td><td>0</td><td>1</td><td>0</td><td>1</td><td>1</td><td>2</td><td>0</td><td>2</td><td>2</td><td>1</td><td>1</td><td>2</td><td>1</td><td>1</td><td>1</td><td>2</td><td>&hellip;</td><td>1</td><td>1</td><td>1</td><td>0</td><td>1</td><td>2</td><td>1</td><td>1</td><td>0</td><td>2</td><td>1</td><td>1</td><td>1</td><td>0</td><td>2</td><td>1</td><td>1</td><td>0</td><td>0</td><td>1</td><td>1</td><td>1</td><td>1</td><td>1</td><td>2</td><td>0</td><td>1</td><td>1</td><td>1</td><td>1</td><td>1</td><td>1</td><td>1</td><td>0</td><td>2</td><td>0</td><td>1</td></tr></tbody></table></div>"
     },
     "execution_count": 18,
     "metadata": {},
     "output_type": "execute_result"
    }
   ],
   "source": [
    "csv_file = \"data_titanic.csv\"\n",
    "(\n",
    "    pl.read_csv(csv_file)\n",
    "    .transpose()\n",
    "    .null_count()\n",
    ")"
   ]
  },
  {
   "cell_type": "markdown",
   "id": "05b07b74-68fa-4310-ac53-1764881b4027",
   "metadata": {},
   "source": [
    "Filter out the rows that are `null` from the `Cabin` column and count the null values for all columns again"
   ]
  },
  {
   "cell_type": "code",
   "execution_count": 19,
   "id": "3b5a9fb4-c5ef-4526-905b-940a4aafb6b1",
   "metadata": {
    "ExecuteTime": {
     "end_time": "2024-03-05T08:06:23.181449600Z",
     "start_time": "2024-03-05T08:06:23.134450300Z"
    }
   },
   "outputs": [
    {
     "data": {
      "text/plain": "shape: (1, 12)\n┌─────────────┬──────────┬────────┬──────┬───┬────────┬──────┬───────┬──────────┐\n│ PassengerId ┆ Survived ┆ Pclass ┆ Name ┆ … ┆ Ticket ┆ Fare ┆ Cabin ┆ Embarked │\n│ ---         ┆ ---      ┆ ---    ┆ ---  ┆   ┆ ---    ┆ ---  ┆ ---   ┆ ---      │\n│ u32         ┆ u32      ┆ u32    ┆ u32  ┆   ┆ u32    ┆ u32  ┆ u32   ┆ u32      │\n╞═════════════╪══════════╪════════╪══════╪═══╪════════╪══════╪═══════╪══════════╡\n│ 0           ┆ 0        ┆ 0      ┆ 0    ┆ … ┆ 0      ┆ 0    ┆ 0     ┆ 2        │\n└─────────────┴──────────┴────────┴──────┴───┴────────┴──────┴───────┴──────────┘",
      "text/html": "<div><style>\n.dataframe > thead > tr,\n.dataframe > tbody > tr {\n  text-align: right;\n  white-space: pre-wrap;\n}\n</style>\n<small>shape: (1, 12)</small><table border=\"1\" class=\"dataframe\"><thead><tr><th>PassengerId</th><th>Survived</th><th>Pclass</th><th>Name</th><th>Sex</th><th>Age</th><th>SibSp</th><th>Parch</th><th>Ticket</th><th>Fare</th><th>Cabin</th><th>Embarked</th></tr><tr><td>u32</td><td>u32</td><td>u32</td><td>u32</td><td>u32</td><td>u32</td><td>u32</td><td>u32</td><td>u32</td><td>u32</td><td>u32</td><td>u32</td></tr></thead><tbody><tr><td>0</td><td>0</td><td>0</td><td>0</td><td>0</td><td>19</td><td>0</td><td>0</td><td>0</td><td>0</td><td>0</td><td>2</td></tr></tbody></table></div>"
     },
     "execution_count": 19,
     "metadata": {},
     "output_type": "execute_result"
    }
   ],
   "source": [
    "(\n",
    "    pl.read_csv(csv_file)\n",
    "    .drop_nulls(subset=['Cabin'])\n",
    "    .null_count()\n",
    ")"
   ]
  },
  {
   "cell_type": "markdown",
   "id": "94f67824-f6a8-4b5d-8a94-4bf7c256bb73",
   "metadata": {},
   "source": [
    "### Exercise 2\n",
    "Find all the rows for which the `Age` is `null`"
   ]
  },
  {
   "cell_type": "code",
   "execution_count": 20,
   "id": "ce223dad-28dc-4c66-a5bd-c291f863eac2",
   "metadata": {
    "ExecuteTime": {
     "end_time": "2024-03-05T08:07:49.433594500Z",
     "start_time": "2024-03-05T08:07:49.346596200Z"
    }
   },
   "outputs": [
    {
     "data": {
      "text/plain": "shape: (177, 12)\n┌─────────────┬──────────┬────────┬───────────────────┬───┬────────────┬────────┬───────┬──────────┐\n│ PassengerId ┆ Survived ┆ Pclass ┆ Name              ┆ … ┆ Ticket     ┆ Fare   ┆ Cabin ┆ Embarked │\n│ ---         ┆ ---      ┆ ---    ┆ ---               ┆   ┆ ---        ┆ ---    ┆ ---   ┆ ---      │\n│ i64         ┆ i64      ┆ i64    ┆ str               ┆   ┆ str        ┆ f64    ┆ str   ┆ str      │\n╞═════════════╪══════════╪════════╪═══════════════════╪═══╪════════════╪════════╪═══════╪══════════╡\n│ 6           ┆ 0        ┆ 3      ┆ Moran, Mr. James  ┆ … ┆ 330877     ┆ 8.4583 ┆ null  ┆ Q        │\n│ 18          ┆ 1        ┆ 2      ┆ Williams, Mr.     ┆ … ┆ 244373     ┆ 13.0   ┆ null  ┆ S        │\n│             ┆          ┆        ┆ Charles Eugene    ┆   ┆            ┆        ┆       ┆          │\n│ 20          ┆ 1        ┆ 3      ┆ Masselmani, Mrs.  ┆ … ┆ 2649       ┆ 7.225  ┆ null  ┆ C        │\n│             ┆          ┆        ┆ Fatima            ┆   ┆            ┆        ┆       ┆          │\n│ 27          ┆ 0        ┆ 3      ┆ Emir, Mr. Farred  ┆ … ┆ 2631       ┆ 7.225  ┆ null  ┆ C        │\n│             ┆          ┆        ┆ Chehab            ┆   ┆            ┆        ┆       ┆          │\n│ 29          ┆ 1        ┆ 3      ┆ O'Dwyer, Miss.    ┆ … ┆ 330959     ┆ 7.8792 ┆ null  ┆ Q        │\n│             ┆          ┆        ┆ Ellen \"Nellie\"    ┆   ┆            ┆        ┆       ┆          │\n│ …           ┆ …        ┆ …      ┆ …                 ┆ … ┆ …          ┆ …      ┆ …     ┆ …        │\n│ 860         ┆ 0        ┆ 3      ┆ Razi, Mr. Raihed  ┆ … ┆ 2629       ┆ 7.2292 ┆ null  ┆ C        │\n│ 864         ┆ 0        ┆ 3      ┆ Sage, Miss.       ┆ … ┆ CA. 2343   ┆ 69.55  ┆ null  ┆ S        │\n│             ┆          ┆        ┆ Dorothy Edith     ┆   ┆            ┆        ┆       ┆          │\n│             ┆          ┆        ┆ \"Dolly…           ┆   ┆            ┆        ┆       ┆          │\n│ 869         ┆ 0        ┆ 3      ┆ van Melkebeke,    ┆ … ┆ 345777     ┆ 9.5    ┆ null  ┆ S        │\n│             ┆          ┆        ┆ Mr. Philemon      ┆   ┆            ┆        ┆       ┆          │\n│ 879         ┆ 0        ┆ 3      ┆ Laleff, Mr.       ┆ … ┆ 349217     ┆ 7.8958 ┆ null  ┆ S        │\n│             ┆          ┆        ┆ Kristo            ┆   ┆            ┆        ┆       ┆          │\n│ 889         ┆ 0        ┆ 3      ┆ Johnston, Miss.   ┆ … ┆ W./C. 6607 ┆ 23.45  ┆ null  ┆ S        │\n│             ┆          ┆        ┆ Catherine Helen … ┆   ┆            ┆        ┆       ┆          │\n└─────────────┴──────────┴────────┴───────────────────┴───┴────────────┴────────┴───────┴──────────┘",
      "text/html": "<div><style>\n.dataframe > thead > tr,\n.dataframe > tbody > tr {\n  text-align: right;\n  white-space: pre-wrap;\n}\n</style>\n<small>shape: (177, 12)</small><table border=\"1\" class=\"dataframe\"><thead><tr><th>PassengerId</th><th>Survived</th><th>Pclass</th><th>Name</th><th>Sex</th><th>Age</th><th>SibSp</th><th>Parch</th><th>Ticket</th><th>Fare</th><th>Cabin</th><th>Embarked</th></tr><tr><td>i64</td><td>i64</td><td>i64</td><td>str</td><td>str</td><td>f64</td><td>i64</td><td>i64</td><td>str</td><td>f64</td><td>str</td><td>str</td></tr></thead><tbody><tr><td>6</td><td>0</td><td>3</td><td>&quot;Moran, Mr. Jam…</td><td>&quot;male&quot;</td><td>null</td><td>0</td><td>0</td><td>&quot;330877&quot;</td><td>8.4583</td><td>null</td><td>&quot;Q&quot;</td></tr><tr><td>18</td><td>1</td><td>2</td><td>&quot;Williams, Mr. …</td><td>&quot;male&quot;</td><td>null</td><td>0</td><td>0</td><td>&quot;244373&quot;</td><td>13.0</td><td>null</td><td>&quot;S&quot;</td></tr><tr><td>20</td><td>1</td><td>3</td><td>&quot;Masselmani, Mr…</td><td>&quot;female&quot;</td><td>null</td><td>0</td><td>0</td><td>&quot;2649&quot;</td><td>7.225</td><td>null</td><td>&quot;C&quot;</td></tr><tr><td>27</td><td>0</td><td>3</td><td>&quot;Emir, Mr. Farr…</td><td>&quot;male&quot;</td><td>null</td><td>0</td><td>0</td><td>&quot;2631&quot;</td><td>7.225</td><td>null</td><td>&quot;C&quot;</td></tr><tr><td>29</td><td>1</td><td>3</td><td>&quot;O&#x27;Dwyer, Miss.…</td><td>&quot;female&quot;</td><td>null</td><td>0</td><td>0</td><td>&quot;330959&quot;</td><td>7.8792</td><td>null</td><td>&quot;Q&quot;</td></tr><tr><td>&hellip;</td><td>&hellip;</td><td>&hellip;</td><td>&hellip;</td><td>&hellip;</td><td>&hellip;</td><td>&hellip;</td><td>&hellip;</td><td>&hellip;</td><td>&hellip;</td><td>&hellip;</td><td>&hellip;</td></tr><tr><td>860</td><td>0</td><td>3</td><td>&quot;Razi, Mr. Raih…</td><td>&quot;male&quot;</td><td>null</td><td>0</td><td>0</td><td>&quot;2629&quot;</td><td>7.2292</td><td>null</td><td>&quot;C&quot;</td></tr><tr><td>864</td><td>0</td><td>3</td><td>&quot;Sage, Miss. Do…</td><td>&quot;female&quot;</td><td>null</td><td>8</td><td>2</td><td>&quot;CA. 2343&quot;</td><td>69.55</td><td>null</td><td>&quot;S&quot;</td></tr><tr><td>869</td><td>0</td><td>3</td><td>&quot;van Melkebeke,…</td><td>&quot;male&quot;</td><td>null</td><td>0</td><td>0</td><td>&quot;345777&quot;</td><td>9.5</td><td>null</td><td>&quot;S&quot;</td></tr><tr><td>879</td><td>0</td><td>3</td><td>&quot;Laleff, Mr. Kr…</td><td>&quot;male&quot;</td><td>null</td><td>0</td><td>0</td><td>&quot;349217&quot;</td><td>7.8958</td><td>null</td><td>&quot;S&quot;</td></tr><tr><td>889</td><td>0</td><td>3</td><td>&quot;Johnston, Miss…</td><td>&quot;female&quot;</td><td>null</td><td>1</td><td>2</td><td>&quot;W./C. 6607&quot;</td><td>23.45</td><td>null</td><td>&quot;S&quot;</td></tr></tbody></table></div>"
     },
     "execution_count": 20,
     "metadata": {},
     "output_type": "execute_result"
    }
   ],
   "source": [
    "(\n",
    "    pl.read_csv(csv_file)\n",
    "    .filter(\n",
    "        pl.any_horizontal(pl.col('Age').is_null())\n",
    "    )\n",
    "\n",
    ")"
   ]
  },
  {
   "cell_type": "markdown",
   "id": "5ad25833-20cb-49ab-9c41-c8ddf9de8226",
   "metadata": {},
   "source": [
    "Find all the rows for which neither the `Age` nor the `Cabin` is `null`.\n",
    "\n",
    "Use the Selectors API (imported above as `cs`) to select the columns"
   ]
  },
  {
   "cell_type": "code",
   "execution_count": null,
   "id": "9143267f-544a-4abe-8a46-a68b34771896",
   "metadata": {},
   "outputs": [],
   "source": []
  },
  {
   "cell_type": "markdown",
   "id": "0837d1af-8f57-40ee-bc2d-c8f8c0402019",
   "metadata": {},
   "source": [
    "## Solutions\n",
    "### Solution to Exercise 1\n",
    "Count the number of `null` values in each row of the Titanic data"
   ]
  },
  {
   "cell_type": "code",
   "execution_count": 25,
   "id": "adc00328-dd89-428c-b597-f1f285047692",
   "metadata": {
    "jupyter": {
     "source_hidden": true
    },
    "tags": [],
    "ExecuteTime": {
     "end_time": "2024-03-05T08:09:09.789728800Z",
     "start_time": "2024-03-05T08:09:09.746727200Z"
    }
   },
   "outputs": [
    {
     "data": {
      "text/plain": "shape: (1, 12)\n┌─────────────┬──────────┬────────┬──────┬───┬────────┬──────┬───────┬──────────┐\n│ PassengerId ┆ Survived ┆ Pclass ┆ Name ┆ … ┆ Ticket ┆ Fare ┆ Cabin ┆ Embarked │\n│ ---         ┆ ---      ┆ ---    ┆ ---  ┆   ┆ ---    ┆ ---  ┆ ---   ┆ ---      │\n│ u32         ┆ u32      ┆ u32    ┆ u32  ┆   ┆ u32    ┆ u32  ┆ u32   ┆ u32      │\n╞═════════════╪══════════╪════════╪══════╪═══╪════════╪══════╪═══════╪══════════╡\n│ 0           ┆ 0        ┆ 0      ┆ 0    ┆ … ┆ 0      ┆ 0    ┆ 687   ┆ 2        │\n└─────────────┴──────────┴────────┴──────┴───┴────────┴──────┴───────┴──────────┘",
      "text/html": "<div><style>\n.dataframe > thead > tr,\n.dataframe > tbody > tr {\n  text-align: right;\n  white-space: pre-wrap;\n}\n</style>\n<small>shape: (1, 12)</small><table border=\"1\" class=\"dataframe\"><thead><tr><th>PassengerId</th><th>Survived</th><th>Pclass</th><th>Name</th><th>Sex</th><th>Age</th><th>SibSp</th><th>Parch</th><th>Ticket</th><th>Fare</th><th>Cabin</th><th>Embarked</th></tr><tr><td>u32</td><td>u32</td><td>u32</td><td>u32</td><td>u32</td><td>u32</td><td>u32</td><td>u32</td><td>u32</td><td>u32</td><td>u32</td><td>u32</td></tr></thead><tbody><tr><td>0</td><td>0</td><td>0</td><td>0</td><td>0</td><td>177</td><td>0</td><td>0</td><td>0</td><td>0</td><td>687</td><td>2</td></tr></tbody></table></div>"
     },
     "execution_count": 25,
     "metadata": {},
     "output_type": "execute_result"
    }
   ],
   "source": [
    "csv_file = \"data_titanic.csv\"\n",
    "(\n",
    "    pl.read_csv(csv_file)\n",
    "    .null_count()\n",
    ")"
   ]
  },
  {
   "cell_type": "markdown",
   "id": "7d8e3fed-fe2e-4916-8da0-79061c387de1",
   "metadata": {},
   "source": [
    "Filter out the rows that are `null` from the `Cabin` column and count the null values for all columns again"
   ]
  },
  {
   "cell_type": "code",
   "execution_count": 26,
   "id": "5fb29ef2-0c32-4225-bb7f-5553a62bef23",
   "metadata": {
    "jupyter": {
     "source_hidden": true
    },
    "tags": [],
    "ExecuteTime": {
     "end_time": "2024-03-05T08:09:11.469931600Z",
     "start_time": "2024-03-05T08:09:11.437901300Z"
    }
   },
   "outputs": [
    {
     "data": {
      "text/plain": "shape: (1, 12)\n┌─────────────┬──────────┬────────┬──────┬───┬────────┬──────┬───────┬──────────┐\n│ PassengerId ┆ Survived ┆ Pclass ┆ Name ┆ … ┆ Ticket ┆ Fare ┆ Cabin ┆ Embarked │\n│ ---         ┆ ---      ┆ ---    ┆ ---  ┆   ┆ ---    ┆ ---  ┆ ---   ┆ ---      │\n│ u32         ┆ u32      ┆ u32    ┆ u32  ┆   ┆ u32    ┆ u32  ┆ u32   ┆ u32      │\n╞═════════════╪══════════╪════════╪══════╪═══╪════════╪══════╪═══════╪══════════╡\n│ 0           ┆ 0        ┆ 0      ┆ 0    ┆ … ┆ 0      ┆ 0    ┆ 0     ┆ 2        │\n└─────────────┴──────────┴────────┴──────┴───┴────────┴──────┴───────┴──────────┘",
      "text/html": "<div><style>\n.dataframe > thead > tr,\n.dataframe > tbody > tr {\n  text-align: right;\n  white-space: pre-wrap;\n}\n</style>\n<small>shape: (1, 12)</small><table border=\"1\" class=\"dataframe\"><thead><tr><th>PassengerId</th><th>Survived</th><th>Pclass</th><th>Name</th><th>Sex</th><th>Age</th><th>SibSp</th><th>Parch</th><th>Ticket</th><th>Fare</th><th>Cabin</th><th>Embarked</th></tr><tr><td>u32</td><td>u32</td><td>u32</td><td>u32</td><td>u32</td><td>u32</td><td>u32</td><td>u32</td><td>u32</td><td>u32</td><td>u32</td><td>u32</td></tr></thead><tbody><tr><td>0</td><td>0</td><td>0</td><td>0</td><td>0</td><td>19</td><td>0</td><td>0</td><td>0</td><td>0</td><td>0</td><td>2</td></tr></tbody></table></div>"
     },
     "execution_count": 26,
     "metadata": {},
     "output_type": "execute_result"
    }
   ],
   "source": [
    "(\n",
    "    pl.read_csv(csv_file)\n",
    "    .filter(pl.col(\"Cabin\").is_not_null())\n",
    "    .null_count()\n",
    ")"
   ]
  },
  {
   "cell_type": "markdown",
   "id": "34999fef-7299-40cf-b128-1534f2db5c7a",
   "metadata": {},
   "source": [
    "### Solution to Exercise 2\n",
    "Find all the rows for which the `Age` is `null`"
   ]
  },
  {
   "cell_type": "code",
   "execution_count": 28,
   "id": "2def0871-ad68-489e-823d-08025b656d79",
   "metadata": {
    "jupyter": {
     "source_hidden": true
    },
    "tags": [],
    "ExecuteTime": {
     "end_time": "2024-03-05T08:09:23.721039300Z",
     "start_time": "2024-03-05T08:09:23.691038300Z"
    }
   },
   "outputs": [
    {
     "data": {
      "text/plain": "shape: (5, 12)\n┌─────────────┬──────────┬────────┬───────────────────────┬───┬────────┬────────┬───────┬──────────┐\n│ PassengerId ┆ Survived ┆ Pclass ┆ Name                  ┆ … ┆ Ticket ┆ Fare   ┆ Cabin ┆ Embarked │\n│ ---         ┆ ---      ┆ ---    ┆ ---                   ┆   ┆ ---    ┆ ---    ┆ ---   ┆ ---      │\n│ i64         ┆ i64      ┆ i64    ┆ str                   ┆   ┆ str    ┆ f64    ┆ str   ┆ str      │\n╞═════════════╪══════════╪════════╪═══════════════════════╪═══╪════════╪════════╪═══════╪══════════╡\n│ 6           ┆ 0        ┆ 3      ┆ Moran, Mr. James      ┆ … ┆ 330877 ┆ 8.4583 ┆ null  ┆ Q        │\n│ 18          ┆ 1        ┆ 2      ┆ Williams, Mr. Charles ┆ … ┆ 244373 ┆ 13.0   ┆ null  ┆ S        │\n│             ┆          ┆        ┆ Eugene                ┆   ┆        ┆        ┆       ┆          │\n│ 20          ┆ 1        ┆ 3      ┆ Masselmani, Mrs.      ┆ … ┆ 2649   ┆ 7.225  ┆ null  ┆ C        │\n│             ┆          ┆        ┆ Fatima                ┆   ┆        ┆        ┆       ┆          │\n│ 27          ┆ 0        ┆ 3      ┆ Emir, Mr. Farred      ┆ … ┆ 2631   ┆ 7.225  ┆ null  ┆ C        │\n│             ┆          ┆        ┆ Chehab                ┆   ┆        ┆        ┆       ┆          │\n│ 29          ┆ 1        ┆ 3      ┆ O'Dwyer, Miss. Ellen  ┆ … ┆ 330959 ┆ 7.8792 ┆ null  ┆ Q        │\n│             ┆          ┆        ┆ \"Nellie\"              ┆   ┆        ┆        ┆       ┆          │\n└─────────────┴──────────┴────────┴───────────────────────┴───┴────────┴────────┴───────┴──────────┘",
      "text/html": "<div><style>\n.dataframe > thead > tr,\n.dataframe > tbody > tr {\n  text-align: right;\n  white-space: pre-wrap;\n}\n</style>\n<small>shape: (5, 12)</small><table border=\"1\" class=\"dataframe\"><thead><tr><th>PassengerId</th><th>Survived</th><th>Pclass</th><th>Name</th><th>Sex</th><th>Age</th><th>SibSp</th><th>Parch</th><th>Ticket</th><th>Fare</th><th>Cabin</th><th>Embarked</th></tr><tr><td>i64</td><td>i64</td><td>i64</td><td>str</td><td>str</td><td>f64</td><td>i64</td><td>i64</td><td>str</td><td>f64</td><td>str</td><td>str</td></tr></thead><tbody><tr><td>6</td><td>0</td><td>3</td><td>&quot;Moran, Mr. Jam…</td><td>&quot;male&quot;</td><td>null</td><td>0</td><td>0</td><td>&quot;330877&quot;</td><td>8.4583</td><td>null</td><td>&quot;Q&quot;</td></tr><tr><td>18</td><td>1</td><td>2</td><td>&quot;Williams, Mr. …</td><td>&quot;male&quot;</td><td>null</td><td>0</td><td>0</td><td>&quot;244373&quot;</td><td>13.0</td><td>null</td><td>&quot;S&quot;</td></tr><tr><td>20</td><td>1</td><td>3</td><td>&quot;Masselmani, Mr…</td><td>&quot;female&quot;</td><td>null</td><td>0</td><td>0</td><td>&quot;2649&quot;</td><td>7.225</td><td>null</td><td>&quot;C&quot;</td></tr><tr><td>27</td><td>0</td><td>3</td><td>&quot;Emir, Mr. Farr…</td><td>&quot;male&quot;</td><td>null</td><td>0</td><td>0</td><td>&quot;2631&quot;</td><td>7.225</td><td>null</td><td>&quot;C&quot;</td></tr><tr><td>29</td><td>1</td><td>3</td><td>&quot;O&#x27;Dwyer, Miss.…</td><td>&quot;female&quot;</td><td>null</td><td>0</td><td>0</td><td>&quot;330959&quot;</td><td>7.8792</td><td>null</td><td>&quot;Q&quot;</td></tr></tbody></table></div>"
     },
     "execution_count": 28,
     "metadata": {},
     "output_type": "execute_result"
    }
   ],
   "source": [
    "csv_file = \"data_titanic.csv\"\n",
    "(\n",
    "    pl.read_csv(csv_file)\n",
    "    .filter(pl.col(\"Age\").is_null())\n",
    "    .head()\n",
    ")"
   ]
  },
  {
   "cell_type": "markdown",
   "id": "13d76e29-cb75-4d80-8483-84d45c0a4f8a",
   "metadata": {},
   "source": [
    "Find all the rows for which either the `Age` or the `Cabin` is `null`\n",
    "\n",
    "Use the Selectors API (imported above as `cs`) to select the columns"
   ]
  },
  {
   "cell_type": "code",
   "execution_count": 29,
   "id": "e4092cc6-fb0d-4734-b47b-94567c8b0622",
   "metadata": {
    "jupyter": {
     "source_hidden": true
    },
    "tags": [],
    "ExecuteTime": {
     "end_time": "2024-03-05T08:09:34.345929300Z",
     "start_time": "2024-03-05T08:09:34.305881300Z"
    }
   },
   "outputs": [
    {
     "data": {
      "text/plain": "shape: (706, 2)\n┌──────┬───────┐\n│ Age  ┆ Cabin │\n│ ---  ┆ ---   │\n│ f64  ┆ str   │\n╞══════╪═══════╡\n│ 22.0 ┆ null  │\n│ 26.0 ┆ null  │\n│ 35.0 ┆ null  │\n│ null ┆ null  │\n│ 2.0  ┆ null  │\n│ …    ┆ …     │\n│ 25.0 ┆ null  │\n│ 39.0 ┆ null  │\n│ 27.0 ┆ null  │\n│ null ┆ null  │\n│ 32.0 ┆ null  │\n└──────┴───────┘",
      "text/html": "<div><style>\n.dataframe > thead > tr,\n.dataframe > tbody > tr {\n  text-align: right;\n  white-space: pre-wrap;\n}\n</style>\n<small>shape: (706, 2)</small><table border=\"1\" class=\"dataframe\"><thead><tr><th>Age</th><th>Cabin</th></tr><tr><td>f64</td><td>str</td></tr></thead><tbody><tr><td>22.0</td><td>null</td></tr><tr><td>26.0</td><td>null</td></tr><tr><td>35.0</td><td>null</td></tr><tr><td>null</td><td>null</td></tr><tr><td>2.0</td><td>null</td></tr><tr><td>&hellip;</td><td>&hellip;</td></tr><tr><td>25.0</td><td>null</td></tr><tr><td>39.0</td><td>null</td></tr><tr><td>27.0</td><td>null</td></tr><tr><td>null</td><td>null</td></tr><tr><td>32.0</td><td>null</td></tr></tbody></table></div>"
     },
     "execution_count": 29,
     "metadata": {},
     "output_type": "execute_result"
    }
   ],
   "source": [
    "(\n",
    "    pl.read_csv(csv_file)\n",
    "    .filter(\n",
    "        pl.any_horizontal(cs.matches(\"Age|Cabin\").is_null())\n",
    "    )\n",
    "    .select(\n",
    "        cs.matches(\"Age|Cabin\")\n",
    "    )       \n",
    ")"
   ]
  },
  {
   "cell_type": "code",
   "execution_count": null,
   "id": "8feeff28-186e-4d83-b980-84b2c14b1e27",
   "metadata": {},
   "outputs": [],
   "source": []
  }
 ],
 "metadata": {
  "kernelspec": {
   "display_name": "Python 3 (ipykernel)",
   "language": "python",
   "name": "python3"
  },
  "language_info": {
   "codemirror_mode": {
    "name": "ipython",
    "version": 3
   },
   "file_extension": ".py",
   "mimetype": "text/x-python",
   "name": "python",
   "nbconvert_exporter": "python",
   "pygments_lexer": "ipython3",
   "version": "3.10.1"
  }
 },
 "nbformat": 4,
 "nbformat_minor": 5
}
