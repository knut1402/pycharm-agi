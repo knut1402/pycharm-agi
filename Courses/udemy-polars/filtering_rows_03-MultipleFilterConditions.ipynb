{
 "cells": [
  {
   "cell_type": "markdown",
   "id": "b06a7473-8d52-4c0d-b469-37add3272a53",
   "metadata": {},
   "source": [
    "# Filtering rows 3: multiple filter conditions\n",
    "By the end of this lecture you will be able to:\n",
    "- use multiple AND conditions in `filter`\n",
    "- use multiple OR conditions in `filter`\n",
    "- optimise multiple conditions in lazy mode"
   ]
  },
  {
   "cell_type": "code",
   "execution_count": 1,
   "id": "9fd758ec-0727-4c1e-87ae-04fd47b267b6",
   "metadata": {
    "tags": [],
    "ExecuteTime": {
     "end_time": "2024-03-04T13:05:02.917832300Z",
     "start_time": "2024-03-04T13:05:02.601834500Z"
    }
   },
   "outputs": [],
   "source": [
    "import polars as pl"
   ]
  },
  {
   "cell_type": "code",
   "execution_count": 2,
   "id": "43c1d48b-a1cc-4374-bfd5-83817c491923",
   "metadata": {
    "tags": [],
    "ExecuteTime": {
     "end_time": "2024-03-04T13:05:03.700561100Z",
     "start_time": "2024-03-04T13:05:03.672563700Z"
    }
   },
   "outputs": [],
   "source": [
    "csv_file = \"data_titanic.csv\""
   ]
  },
  {
   "cell_type": "code",
   "execution_count": 4,
   "id": "44b5ec52-56cc-41a1-a678-5d207dc0ecac",
   "metadata": {
    "ExecuteTime": {
     "end_time": "2024-03-04T13:05:18.116107200Z",
     "start_time": "2024-03-04T13:05:18.094828500Z"
    }
   },
   "outputs": [],
   "source": [
    "df = pl.scan_csv(csv_file)"
   ]
  },
  {
   "cell_type": "markdown",
   "id": "0e928f73-529c-4629-84f8-86cdc7ea135c",
   "metadata": {},
   "source": [
    "## Multiple conditions\n",
    "\n",
    "### Apply `AND` conditions\n",
    "\n",
    "We can apply filter `AND` conditions where all conditions must be met in a number of ways.\n",
    "\n",
    "The first way is to **chaining** multiple calls to `filter`.\n",
    "\n",
    "In this example we keep all first class passengers that are over 70"
   ]
  },
  {
   "cell_type": "code",
   "execution_count": 5,
   "id": "e3f138f1-9c08-467f-ac03-275c64be1d3e",
   "metadata": {
    "ExecuteTime": {
     "end_time": "2024-03-04T13:06:07.486209Z",
     "start_time": "2024-03-04T13:06:07.411281200Z"
    }
   },
   "outputs": [
    {
     "data": {
      "text/plain": "<LazyFrame [12 cols, {\"PassengerId\": Int64 … \"Embarked\": String}] at 0x279DD52F610>",
      "text/html": "<i>naive plan: (run <b>LazyFrame.explain(optimized=True)</b> to see the optimized plan)</i>\n    <p></p>\n    <div>SLICE[offset: 0, len: 3]<p></p>  FILTER [(col(\"Age\")) > (70)] FROM<p></p><p></p>  FILTER [(col(\"Pclass\")) == (1)] FROM<p></p><p></p><p></p>    Csv SCAN data_titanic.csv<p></p>    PROJECT */12 COLUMNS</div>"
     },
     "execution_count": 5,
     "metadata": {},
     "output_type": "execute_result"
    }
   ],
   "source": [
    "(\n",
    "    df\n",
    "    .filter(\n",
    "        Pclass = 1\n",
    "    )\n",
    "    .filter(\n",
    "        pl.col('Age') > 70\n",
    "    )\n",
    "    .head(3)\n",
    ")"
   ]
  },
  {
   "cell_type": "markdown",
   "id": "63553e25-92e5-4023-b6c6-555c4aaa01da",
   "metadata": {},
   "source": [
    "In eager mode chaining is inefficient. For each call to `filter` Polars has to do a full pass through the rows of the `DataFrame`. It is better to combine everything into a single condition \n",
    "\n",
    "One way to do this is to **concatenate** multiple `AND` conditions in a single `filter` call using `&`"
   ]
  },
  {
   "cell_type": "code",
   "execution_count": 6,
   "id": "1d8ac535-9d42-48c1-8d15-6c77518195b0",
   "metadata": {
    "ExecuteTime": {
     "end_time": "2024-03-04T13:06:38.850441200Z",
     "start_time": "2024-03-04T13:06:38.791426100Z"
    }
   },
   "outputs": [
    {
     "data": {
      "text/plain": "<LazyFrame [12 cols, {\"PassengerId\": Int64 … \"Embarked\": String}] at 0x279DD52E560>",
      "text/html": "<i>naive plan: (run <b>LazyFrame.explain(optimized=True)</b> to see the optimized plan)</i>\n    <p></p>\n    <div>SLICE[offset: 0, len: 2]<p></p>  FILTER [([(col(\"Age\")) > (70)]) & ([(col(\"Pclass\")) == (1)])] FROM<p></p><p></p><p></p>    Csv SCAN data_titanic.csv<p></p>    PROJECT */12 COLUMNS</div>"
     },
     "execution_count": 6,
     "metadata": {},
     "output_type": "execute_result"
    }
   ],
   "source": [
    "(\n",
    "    df\n",
    "    .filter(\n",
    "        (pl.col('Age') > 70) & (pl.col('Pclass') == 1)\n",
    "    )\n",
    "    .head(2)\n",
    ")"
   ]
  },
  {
   "cell_type": "markdown",
   "id": "812e9ed3-87d5-44fb-b033-e122dab4e6d9",
   "metadata": {},
   "source": [
    "There is a less verbose way to do this by passing the predicates as a comma-separated list of expressions"
   ]
  },
  {
   "cell_type": "code",
   "execution_count": 12,
   "id": "efe2a9a8-983c-4747-b69f-cf03326e8a19",
   "metadata": {
    "ExecuteTime": {
     "end_time": "2024-03-04T13:22:20.545377600Z",
     "start_time": "2024-03-04T13:22:20.502384200Z"
    }
   },
   "outputs": [
    {
     "data": {
      "text/plain": "shape: (10, 12)\n┌─────────────┬──────────┬────────┬────────────────────┬───┬──────────┬─────────┬───────┬──────────┐\n│ PassengerId ┆ Survived ┆ Pclass ┆ Name               ┆ … ┆ Ticket   ┆ Fare    ┆ Cabin ┆ Embarked │\n│ ---         ┆ ---      ┆ ---    ┆ ---                ┆   ┆ ---      ┆ ---     ┆ ---   ┆ ---      │\n│ i64         ┆ i64      ┆ i64    ┆ str                ┆   ┆ str      ┆ f64     ┆ str   ┆ str      │\n╞═════════════╪══════════╪════════╪════════════════════╪═══╪══════════╪═════════╪═══════╪══════════╡\n│ 2           ┆ 1        ┆ 1      ┆ Cumings, Mrs. John ┆ … ┆ PC 17599 ┆ 71.2833 ┆ C85   ┆ C        │\n│             ┆          ┆        ┆ Bradley (Flor…     ┆   ┆          ┆         ┆       ┆          │\n│ 4           ┆ 1        ┆ 1      ┆ Futrelle, Mrs.     ┆ … ┆ 113803   ┆ 53.1    ┆ C123  ┆ S        │\n│             ┆          ┆        ┆ Jacques Heath (Li… ┆   ┆          ┆         ┆       ┆          │\n│ 7           ┆ 0        ┆ 1      ┆ McCarthy, Mr.      ┆ … ┆ 17463    ┆ 51.8625 ┆ E46   ┆ S        │\n│             ┆          ┆        ┆ Timothy J          ┆   ┆          ┆         ┆       ┆          │\n│ 12          ┆ 1        ┆ 1      ┆ Bonnell, Miss.     ┆ … ┆ 113783   ┆ 26.55   ┆ C103  ┆ S        │\n│             ┆          ┆        ┆ Elizabeth          ┆   ┆          ┆         ┆       ┆          │\n│ 31          ┆ 0        ┆ 1      ┆ Uruchurtu, Don.    ┆ … ┆ PC 17601 ┆ 27.7208 ┆ null  ┆ C        │\n│             ┆          ┆        ┆ Manuel E           ┆   ┆          ┆         ┆       ┆          │\n│ 36          ┆ 0        ┆ 1      ┆ Holverson, Mr.     ┆ … ┆ 113789   ┆ 52.0    ┆ null  ┆ S        │\n│             ┆          ┆        ┆ Alexander Oskar    ┆   ┆          ┆         ┆       ┆          │\n│ 53          ┆ 1        ┆ 1      ┆ Harper, Mrs. Henry ┆ … ┆ PC 17572 ┆ 76.7292 ┆ D33   ┆ C        │\n│             ┆          ┆        ┆ Sleeper (Myna…     ┆   ┆          ┆         ┆       ┆          │\n│ 55          ┆ 0        ┆ 1      ┆ Ostby, Mr.         ┆ … ┆ 113509   ┆ 61.9792 ┆ B30   ┆ C        │\n│             ┆          ┆        ┆ Engelhart          ┆   ┆          ┆         ┆       ┆          │\n│             ┆          ┆        ┆ Cornelius          ┆   ┆          ┆         ┆       ┆          │\n│ 62          ┆ 1        ┆ 1      ┆ Icard, Miss.       ┆ … ┆ 113572   ┆ 80.0    ┆ B28   ┆ null     │\n│             ┆          ┆        ┆ Amelie             ┆   ┆          ┆         ┆       ┆          │\n│ 63          ┆ 0        ┆ 1      ┆ Harris, Mr. Henry  ┆ … ┆ 36973    ┆ 83.475  ┆ C83   ┆ S        │\n│             ┆          ┆        ┆ Birkhardt          ┆   ┆          ┆         ┆       ┆          │\n└─────────────┴──────────┴────────┴────────────────────┴───┴──────────┴─────────┴───────┴──────────┘",
      "text/html": "<div><style>\n.dataframe > thead > tr,\n.dataframe > tbody > tr {\n  text-align: right;\n  white-space: pre-wrap;\n}\n</style>\n<small>shape: (10, 12)</small><table border=\"1\" class=\"dataframe\"><thead><tr><th>PassengerId</th><th>Survived</th><th>Pclass</th><th>Name</th><th>Sex</th><th>Age</th><th>SibSp</th><th>Parch</th><th>Ticket</th><th>Fare</th><th>Cabin</th><th>Embarked</th></tr><tr><td>i64</td><td>i64</td><td>i64</td><td>str</td><td>str</td><td>f64</td><td>i64</td><td>i64</td><td>str</td><td>f64</td><td>str</td><td>str</td></tr></thead><tbody><tr><td>2</td><td>1</td><td>1</td><td>&quot;Cumings, Mrs. …</td><td>&quot;female&quot;</td><td>38.0</td><td>1</td><td>0</td><td>&quot;PC 17599&quot;</td><td>71.2833</td><td>&quot;C85&quot;</td><td>&quot;C&quot;</td></tr><tr><td>4</td><td>1</td><td>1</td><td>&quot;Futrelle, Mrs.…</td><td>&quot;female&quot;</td><td>35.0</td><td>1</td><td>0</td><td>&quot;113803&quot;</td><td>53.1</td><td>&quot;C123&quot;</td><td>&quot;S&quot;</td></tr><tr><td>7</td><td>0</td><td>1</td><td>&quot;McCarthy, Mr. …</td><td>&quot;male&quot;</td><td>54.0</td><td>0</td><td>0</td><td>&quot;17463&quot;</td><td>51.8625</td><td>&quot;E46&quot;</td><td>&quot;S&quot;</td></tr><tr><td>12</td><td>1</td><td>1</td><td>&quot;Bonnell, Miss.…</td><td>&quot;female&quot;</td><td>58.0</td><td>0</td><td>0</td><td>&quot;113783&quot;</td><td>26.55</td><td>&quot;C103&quot;</td><td>&quot;S&quot;</td></tr><tr><td>31</td><td>0</td><td>1</td><td>&quot;Uruchurtu, Don…</td><td>&quot;male&quot;</td><td>40.0</td><td>0</td><td>0</td><td>&quot;PC 17601&quot;</td><td>27.7208</td><td>null</td><td>&quot;C&quot;</td></tr><tr><td>36</td><td>0</td><td>1</td><td>&quot;Holverson, Mr.…</td><td>&quot;male&quot;</td><td>42.0</td><td>1</td><td>0</td><td>&quot;113789&quot;</td><td>52.0</td><td>null</td><td>&quot;S&quot;</td></tr><tr><td>53</td><td>1</td><td>1</td><td>&quot;Harper, Mrs. H…</td><td>&quot;female&quot;</td><td>49.0</td><td>1</td><td>0</td><td>&quot;PC 17572&quot;</td><td>76.7292</td><td>&quot;D33&quot;</td><td>&quot;C&quot;</td></tr><tr><td>55</td><td>0</td><td>1</td><td>&quot;Ostby, Mr. Eng…</td><td>&quot;male&quot;</td><td>65.0</td><td>0</td><td>1</td><td>&quot;113509&quot;</td><td>61.9792</td><td>&quot;B30&quot;</td><td>&quot;C&quot;</td></tr><tr><td>62</td><td>1</td><td>1</td><td>&quot;Icard, Miss. A…</td><td>&quot;female&quot;</td><td>38.0</td><td>0</td><td>0</td><td>&quot;113572&quot;</td><td>80.0</td><td>&quot;B28&quot;</td><td>null</td></tr><tr><td>63</td><td>0</td><td>1</td><td>&quot;Harris, Mr. He…</td><td>&quot;male&quot;</td><td>45.0</td><td>1</td><td>0</td><td>&quot;36973&quot;</td><td>83.475</td><td>&quot;C83&quot;</td><td>&quot;S&quot;</td></tr></tbody></table></div>"
     },
     "execution_count": 12,
     "metadata": {},
     "output_type": "execute_result"
    }
   ],
   "source": [
    "(\n",
    "    df\n",
    "    .filter(\n",
    "        pl.col(\"Pclass\") == 1,\n",
    "        pl.col(\"Age\") > 30\n",
    "    )\n",
    "    .head(10)\n",
    ").collect()"
   ]
  },
  {
   "cell_type": "markdown",
   "id": "a5d6da1f-b6d7-454f-8840-82631e47da58",
   "metadata": {},
   "source": [
    "If we are applying multiple *equality* conditions we can do this with keywords (note the single `=` in this format)"
   ]
  },
  {
   "cell_type": "code",
   "execution_count": 13,
   "id": "aca48db4-a4de-4d6a-97e9-da4b90bdde0e",
   "metadata": {
    "ExecuteTime": {
     "end_time": "2024-03-04T13:22:31.453637500Z",
     "start_time": "2024-03-04T13:22:31.395556200Z"
    }
   },
   "outputs": [
    {
     "data": {
      "text/plain": "<LazyFrame [12 cols, {\"PassengerId\": Int64 … \"Embarked\": String}] at 0x279DD4D8820>",
      "text/html": "<i>naive plan: (run <b>LazyFrame.explain(optimized=True)</b> to see the optimized plan)</i>\n    <p></p>\n    <div>FILTER [([(col(\"Pclass\")) == (1)]) & ([(col(\"Age\")) == (70)])] FROM<p></p><p></p>  Csv SCAN data_titanic.csv<p></p>  PROJECT */12 COLUMNS</div>"
     },
     "execution_count": 13,
     "metadata": {},
     "output_type": "execute_result"
    }
   ],
   "source": [
    "(\n",
    "    df\n",
    "    .filter(\n",
    "        Pclass = 1,\n",
    "        Age = 70\n",
    "    )\n",
    ")"
   ]
  },
  {
   "cell_type": "markdown",
   "id": "5f5b53f8-5875-4870-868f-ecd22693ff4c",
   "metadata": {},
   "source": [
    "### Apply an AND condition using `pl.all_horizontal`\n",
    "Specifying multiple conditions in chained `filters` or using `&` is fine when we have a small number of conditions to apply. However, we can use the `pl.all_horizontal` method when we want to apply an AND condition on many columns.\n",
    "\n",
    "> The methods above with a comma-separate list of conditions are equivalent to `pl.all_horizontal`\n",
    "\n",
    "In this example we:\n",
    "- first call `pl.all().is_not_null()` to create a Boolean `DataFrame` where each call is True if the underlying value is not `null`\n",
    "- then call `pl.all_horizontal` to find rows where all values are `True` (i.e. all values are not `null`)"
   ]
  },
  {
   "cell_type": "code",
   "execution_count": 17,
   "id": "e576b93c-2852-4748-9c25-c6d1c0dfaaf8",
   "metadata": {
    "ExecuteTime": {
     "end_time": "2024-03-04T13:24:22.247478200Z",
     "start_time": "2024-03-04T13:24:22.208477600Z"
    }
   },
   "outputs": [
    {
     "data": {
      "text/plain": "shape: (10, 13)\n┌───────┬─────────────┬──────────┬────────┬───┬──────────┬─────────┬─────────────┬──────────┐\n│ index ┆ PassengerId ┆ Survived ┆ Pclass ┆ … ┆ Ticket   ┆ Fare    ┆ Cabin       ┆ Embarked │\n│ ---   ┆ ---         ┆ ---      ┆ ---    ┆   ┆ ---      ┆ ---     ┆ ---         ┆ ---      │\n│ u32   ┆ i64         ┆ i64      ┆ i64    ┆   ┆ str      ┆ f64     ┆ str         ┆ str      │\n╞═══════╪═════════════╪══════════╪════════╪═══╪══════════╪═════════╪═════════════╪══════════╡\n│ 1     ┆ 2           ┆ 1        ┆ 1      ┆ … ┆ PC 17599 ┆ 71.2833 ┆ C85         ┆ C        │\n│ 3     ┆ 4           ┆ 1        ┆ 1      ┆ … ┆ 113803   ┆ 53.1    ┆ C123        ┆ S        │\n│ 6     ┆ 7           ┆ 0        ┆ 1      ┆ … ┆ 17463    ┆ 51.8625 ┆ E46         ┆ S        │\n│ 10    ┆ 11          ┆ 1        ┆ 3      ┆ … ┆ PP 9549  ┆ 16.7    ┆ G6          ┆ S        │\n│ 11    ┆ 12          ┆ 1        ┆ 1      ┆ … ┆ 113783   ┆ 26.55   ┆ C103        ┆ S        │\n│ 21    ┆ 22          ┆ 1        ┆ 2      ┆ … ┆ 248698   ┆ 13.0    ┆ D56         ┆ S        │\n│ 23    ┆ 24          ┆ 1        ┆ 1      ┆ … ┆ 113788   ┆ 35.5    ┆ A6          ┆ S        │\n│ 27    ┆ 28          ┆ 0        ┆ 1      ┆ … ┆ 19950    ┆ 263.0   ┆ C23 C25 C27 ┆ S        │\n│ 52    ┆ 53          ┆ 1        ┆ 1      ┆ … ┆ PC 17572 ┆ 76.7292 ┆ D33         ┆ C        │\n│ 54    ┆ 55          ┆ 0        ┆ 1      ┆ … ┆ 113509   ┆ 61.9792 ┆ B30         ┆ C        │\n└───────┴─────────────┴──────────┴────────┴───┴──────────┴─────────┴─────────────┴──────────┘",
      "text/html": "<div><style>\n.dataframe > thead > tr,\n.dataframe > tbody > tr {\n  text-align: right;\n  white-space: pre-wrap;\n}\n</style>\n<small>shape: (10, 13)</small><table border=\"1\" class=\"dataframe\"><thead><tr><th>index</th><th>PassengerId</th><th>Survived</th><th>Pclass</th><th>Name</th><th>Sex</th><th>Age</th><th>SibSp</th><th>Parch</th><th>Ticket</th><th>Fare</th><th>Cabin</th><th>Embarked</th></tr><tr><td>u32</td><td>i64</td><td>i64</td><td>i64</td><td>str</td><td>str</td><td>f64</td><td>i64</td><td>i64</td><td>str</td><td>f64</td><td>str</td><td>str</td></tr></thead><tbody><tr><td>1</td><td>2</td><td>1</td><td>1</td><td>&quot;Cumings, Mrs. …</td><td>&quot;female&quot;</td><td>38.0</td><td>1</td><td>0</td><td>&quot;PC 17599&quot;</td><td>71.2833</td><td>&quot;C85&quot;</td><td>&quot;C&quot;</td></tr><tr><td>3</td><td>4</td><td>1</td><td>1</td><td>&quot;Futrelle, Mrs.…</td><td>&quot;female&quot;</td><td>35.0</td><td>1</td><td>0</td><td>&quot;113803&quot;</td><td>53.1</td><td>&quot;C123&quot;</td><td>&quot;S&quot;</td></tr><tr><td>6</td><td>7</td><td>0</td><td>1</td><td>&quot;McCarthy, Mr. …</td><td>&quot;male&quot;</td><td>54.0</td><td>0</td><td>0</td><td>&quot;17463&quot;</td><td>51.8625</td><td>&quot;E46&quot;</td><td>&quot;S&quot;</td></tr><tr><td>10</td><td>11</td><td>1</td><td>3</td><td>&quot;Sandstrom, Mis…</td><td>&quot;female&quot;</td><td>4.0</td><td>1</td><td>1</td><td>&quot;PP 9549&quot;</td><td>16.7</td><td>&quot;G6&quot;</td><td>&quot;S&quot;</td></tr><tr><td>11</td><td>12</td><td>1</td><td>1</td><td>&quot;Bonnell, Miss.…</td><td>&quot;female&quot;</td><td>58.0</td><td>0</td><td>0</td><td>&quot;113783&quot;</td><td>26.55</td><td>&quot;C103&quot;</td><td>&quot;S&quot;</td></tr><tr><td>21</td><td>22</td><td>1</td><td>2</td><td>&quot;Beesley, Mr. L…</td><td>&quot;male&quot;</td><td>34.0</td><td>0</td><td>0</td><td>&quot;248698&quot;</td><td>13.0</td><td>&quot;D56&quot;</td><td>&quot;S&quot;</td></tr><tr><td>23</td><td>24</td><td>1</td><td>1</td><td>&quot;Sloper, Mr. Wi…</td><td>&quot;male&quot;</td><td>28.0</td><td>0</td><td>0</td><td>&quot;113788&quot;</td><td>35.5</td><td>&quot;A6&quot;</td><td>&quot;S&quot;</td></tr><tr><td>27</td><td>28</td><td>0</td><td>1</td><td>&quot;Fortune, Mr. C…</td><td>&quot;male&quot;</td><td>19.0</td><td>3</td><td>2</td><td>&quot;19950&quot;</td><td>263.0</td><td>&quot;C23 C25 C27&quot;</td><td>&quot;S&quot;</td></tr><tr><td>52</td><td>53</td><td>1</td><td>1</td><td>&quot;Harper, Mrs. H…</td><td>&quot;female&quot;</td><td>49.0</td><td>1</td><td>0</td><td>&quot;PC 17572&quot;</td><td>76.7292</td><td>&quot;D33&quot;</td><td>&quot;C&quot;</td></tr><tr><td>54</td><td>55</td><td>0</td><td>1</td><td>&quot;Ostby, Mr. Eng…</td><td>&quot;male&quot;</td><td>65.0</td><td>0</td><td>1</td><td>&quot;113509&quot;</td><td>61.9792</td><td>&quot;B30&quot;</td><td>&quot;C&quot;</td></tr></tbody></table></div>"
     },
     "execution_count": 17,
     "metadata": {},
     "output_type": "execute_result"
    }
   ],
   "source": [
    "(\n",
    "    df\n",
    "    .with_row_index('index')\n",
    "    .filter(\n",
    "        pl.all_horizontal(\n",
    "            pl.all().is_not_null()\n",
    "        )\n",
    "    )\n",
    "    .head(10)\n",
    ").collect()"
   ]
  },
  {
   "cell_type": "markdown",
   "id": "313624e3-741e-4044-8c10-a5343624c262",
   "metadata": {},
   "source": [
    "### Apply `AND` condition on a range\n",
    "\n",
    "We use `in_between` to apply a condition on a range. In this case we are looking for values **greater than or equal to** 10 and **less than or equal to** 13"
   ]
  },
  {
   "cell_type": "code",
   "execution_count": 18,
   "id": "2bd4617e-21ea-4238-bf70-afcafa84cdf0",
   "metadata": {
    "ExecuteTime": {
     "end_time": "2024-03-04T13:25:10.161115900Z",
     "start_time": "2024-03-04T13:25:10.087116900Z"
    }
   },
   "outputs": [
    {
     "data": {
      "text/plain": "<LazyFrame [12 cols, {\"PassengerId\": Int64 … \"Embarked\": String}] at 0x279DD89FE20>",
      "text/html": "<i>naive plan: (run <b>LazyFrame.explain(optimized=True)</b> to see the optimized plan)</i>\n    <p></p>\n    <div>SLICE[offset: 0, len: 2]<p></p>  FILTER col(\"Age\").is_between([10, 13]) FROM<p></p><p></p><p></p>    Csv SCAN data_titanic.csv<p></p>    PROJECT */12 COLUMNS</div>"
     },
     "execution_count": 18,
     "metadata": {},
     "output_type": "execute_result"
    }
   ],
   "source": [
    "(\n",
    "    df\n",
    "    .filter(\n",
    "        pl.col(\"Age\").is_between(10,13)\n",
    "    )\n",
    "    .head(2)\n",
    ")"
   ]
  },
  {
   "cell_type": "markdown",
   "id": "142675e8-a439-4029-bb97-360aba0339ef",
   "metadata": {},
   "source": [
    "We use the `closed` argument to specify if we want the range to be open, closed on both sides or open on the left or right. The default is for the range to be closed (with a value of `\"both\"`). \n",
    "\n",
    "In this example we are looking for values from 10 to 13 exclusive of the boundaries"
   ]
  },
  {
   "cell_type": "code",
   "execution_count": 19,
   "id": "a2b79193-d329-4486-93b1-d4e4199630c5",
   "metadata": {
    "ExecuteTime": {
     "end_time": "2024-03-04T13:25:21.520132500Z",
     "start_time": "2024-03-04T13:25:21.475150900Z"
    }
   },
   "outputs": [
    {
     "data": {
      "text/plain": "<LazyFrame [12 cols, {\"PassengerId\": Int64 … \"Embarked\": String}] at 0x279DD8A0970>",
      "text/html": "<i>naive plan: (run <b>LazyFrame.explain(optimized=True)</b> to see the optimized plan)</i>\n    <p></p>\n    <div>SLICE[offset: 0, len: 2]<p></p>  FILTER col(\"Age\").is_between([10, 13]) FROM<p></p><p></p><p></p>    Csv SCAN data_titanic.csv<p></p>    PROJECT */12 COLUMNS</div>"
     },
     "execution_count": 19,
     "metadata": {},
     "output_type": "execute_result"
    }
   ],
   "source": [
    "(\n",
    "    df\n",
    "    .filter(\n",
    "        pl.col(\"Age\").is_between(10,13,closed=\"none\")\n",
    "    )\n",
    "    .head(2)\n",
    ")"
   ]
  },
  {
   "cell_type": "markdown",
   "id": "bbe05c69-50e9-46fe-8553-60a81e80dbe4",
   "metadata": {},
   "source": [
    "### Apply `OR` conditions\n",
    "\n",
    "We can apply an OR filter using the pipe `|` operator.\n",
    "\n",
    "In this example we look for rows where the passenger is over 70 OR the passenger is in first class"
   ]
  },
  {
   "cell_type": "code",
   "execution_count": 20,
   "id": "98c1b23a-0c92-4792-b81c-58b81b018c40",
   "metadata": {
    "ExecuteTime": {
     "end_time": "2024-03-04T13:25:35.575474300Z",
     "start_time": "2024-03-04T13:25:35.520025900Z"
    }
   },
   "outputs": [
    {
     "data": {
      "text/plain": "<LazyFrame [12 cols, {\"PassengerId\": Int64 … \"Embarked\": String}] at 0x279DD89FBB0>",
      "text/html": "<i>naive plan: (run <b>LazyFrame.explain(optimized=True)</b> to see the optimized plan)</i>\n    <p></p>\n    <div>SLICE[offset: 0, len: 2]<p></p>  FILTER [([(col(\"Age\")) > (70)]) | ([(col(\"Pclass\")) == (1)])] FROM<p></p><p></p><p></p>    Csv SCAN data_titanic.csv<p></p>    PROJECT */12 COLUMNS</div>"
     },
     "execution_count": 20,
     "metadata": {},
     "output_type": "execute_result"
    }
   ],
   "source": [
    "(\n",
    "    df\n",
    "    .filter(\n",
    "        (pl.col('Age') > 70) | (pl.col('Pclass') == 1)\n",
    "    )\n",
    "    .head(2)\n",
    ")"
   ]
  },
  {
   "cell_type": "markdown",
   "id": "5a3ea955-8860-4465-960d-d5870c89a5e5",
   "metadata": {},
   "source": [
    "One kind of OR condition is when we want to check if a row is equal to any value in a `list`. We can do this with `is_in`"
   ]
  },
  {
   "cell_type": "code",
   "execution_count": 21,
   "id": "e4df1f4a-d817-4fc2-b686-b10d796a99b6",
   "metadata": {
    "ExecuteTime": {
     "end_time": "2024-03-04T13:25:45.907862900Z",
     "start_time": "2024-03-04T13:25:45.851863200Z"
    }
   },
   "outputs": [
    {
     "data": {
      "text/plain": "<LazyFrame [12 cols, {\"PassengerId\": Int64 … \"Embarked\": String}] at 0x279DBE40E80>",
      "text/html": "<i>naive plan: (run <b>LazyFrame.explain(optimized=True)</b> to see the optimized plan)</i>\n    <p></p>\n    <div>SLICE[offset: 0, len: 3]<p></p>  FILTER col(\"Pclass\").is_in([Series]) FROM<p></p><p></p><p></p>    Csv SCAN data_titanic.csv<p></p>    PROJECT */12 COLUMNS</div>"
     },
     "execution_count": 21,
     "metadata": {},
     "output_type": "execute_result"
    }
   ],
   "source": [
    "(\n",
    "    df\n",
    "    .filter(\n",
    "        pl.col('Pclass').is_in([2,3])\n",
    "    )\n",
    "    .head(3)\n",
    ")"
   ]
  },
  {
   "cell_type": "markdown",
   "id": "3403a930-5f11-459f-bef1-e0220dbf7c11",
   "metadata": {},
   "source": [
    "### Multiple conditions in lazy mode\n",
    "In *lazy mode* if we pass multiple `filter` calls then the query optimizer combines these into a *single condition* inside `SELECTION`.\n",
    "\n",
    "In this example we filter for first class passengers over the age of 70."
   ]
  },
  {
   "cell_type": "code",
   "execution_count": 22,
   "id": "53c6558a-67a0-496f-b80f-2e17999f31d1",
   "metadata": {
    "tags": [],
    "ExecuteTime": {
     "end_time": "2024-03-04T13:26:04.001500900Z",
     "start_time": "2024-03-04T13:26:03.975846600Z"
    }
   },
   "outputs": [
    {
     "name": "stdout",
     "output_type": "stream",
     "text": [
      "\n",
      "  Csv SCAN data_titanic.csv\n",
      "  PROJECT */12 COLUMNS\n",
      "  SELECTION: [([(col(\"Age\")) > (70.0)]) & ([(col(\"Pclass\")) == (1)])]\n"
     ]
    }
   ],
   "source": [
    "df = (\n",
    "    pl.scan_csv(csv_file)\n",
    "    .filter(\n",
    "        pl.col('Pclass')==1\n",
    "    )\n",
    "    .filter(\n",
    "        (pl.col('Age') > 70)\n",
    "    )\n",
    ")\n",
    "print(df.explain())"
   ]
  },
  {
   "cell_type": "markdown",
   "id": "a60f326e-173a-4b1c-b359-8dddbd6f440b",
   "metadata": {},
   "source": [
    "In the query plan we see the conditionsa are combined to a single condition by the query optimiser"
   ]
  },
  {
   "cell_type": "markdown",
   "id": "11e79823-df64-4864-b6dc-b6fd9b45279e",
   "metadata": {},
   "source": [
    "## Exercises\n",
    "In the exercises you will develop your understanding of:\n",
    "- applying multiple AND conditions\n",
    "- applying multiple OR conditions"
   ]
  },
  {
   "cell_type": "markdown",
   "id": "3f4256c0-868c-4878-85a2-eaf501ce1289",
   "metadata": {},
   "source": [
    "### Exercise 1 \n",
    "Filter the `DataFrame` to find rows where `Age` is between 30 and 50 (including the lower bound) and the passenger is in 2nd class. Do this in eager mode in a single pass through the `DataFrame`"
   ]
  },
  {
   "cell_type": "code",
   "execution_count": 27,
   "id": "919561ac-e2ed-450c-aca8-c1a885e6652a",
   "metadata": {
    "tags": [],
    "ExecuteTime": {
     "end_time": "2024-03-04T13:30:01.387636800Z",
     "start_time": "2024-03-04T13:30:01.311637300Z"
    }
   },
   "outputs": [
    {
     "data": {
      "text/plain": "shape: (10, 12)\n┌─────────────┬──────────┬────────┬──────────────────┬───┬────────────┬─────────┬───────┬──────────┐\n│ PassengerId ┆ Survived ┆ Pclass ┆ Name             ┆ … ┆ Ticket     ┆ Fare    ┆ Cabin ┆ Embarked │\n│ ---         ┆ ---      ┆ ---    ┆ ---              ┆   ┆ ---        ┆ ---     ┆ ---   ┆ ---      │\n│ i64         ┆ i64      ┆ i64    ┆ str              ┆   ┆ str        ┆ f64     ┆ str   ┆ str      │\n╞═════════════╪══════════╪════════╪══════════════════╪═══╪════════════╪═════════╪═══════╪══════════╡\n│ 21          ┆ 0        ┆ 2      ┆ Fynney, Mr.      ┆ … ┆ 239865     ┆ 26.0    ┆ null  ┆ S        │\n│             ┆          ┆        ┆ Joseph J         ┆   ┆            ┆         ┆       ┆          │\n│ 22          ┆ 1        ┆ 2      ┆ Beesley, Mr.     ┆ … ┆ 248698     ┆ 13.0    ┆ D56   ┆ S        │\n│             ┆          ┆        ┆ Lawrence         ┆   ┆            ┆         ┆       ┆          │\n│ 71          ┆ 0        ┆ 2      ┆ Jenkin, Mr.      ┆ … ┆ C.A. 33111 ┆ 10.5    ┆ null  ┆ S        │\n│             ┆          ┆        ┆ Stephen Curnow   ┆   ┆            ┆         ┆       ┆          │\n│ 99          ┆ 1        ┆ 2      ┆ Doling, Mrs.     ┆ … ┆ 231919     ┆ 23.0    ┆ null  ┆ S        │\n│             ┆          ┆        ┆ John T (Ada      ┆   ┆            ┆         ┆       ┆          │\n│             ┆          ┆        ┆ Julia B…         ┆   ┆            ┆         ┆       ┆          │\n│ 100         ┆ 0        ┆ 2      ┆ Kantor, Mr.      ┆ … ┆ 244367     ┆ 26.0    ┆ null  ┆ S        │\n│             ┆          ┆        ┆ Sinai            ┆   ┆            ┆         ┆       ┆          │\n│ 123         ┆ 0        ┆ 2      ┆ Nasser, Mr.      ┆ … ┆ 237736     ┆ 30.0708 ┆ null  ┆ C        │\n│             ┆          ┆        ┆ Nicholas         ┆   ┆            ┆         ┆       ┆          │\n│ 124         ┆ 1        ┆ 2      ┆ Webber, Miss.    ┆ … ┆ 27267      ┆ 13.0    ┆ E101  ┆ S        │\n│             ┆          ┆        ┆ Susan            ┆   ┆            ┆         ┆       ┆          │\n│ 149         ┆ 0        ┆ 2      ┆ Navratil, Mr.    ┆ … ┆ 230080     ┆ 26.0    ┆ F2    ┆ S        │\n│             ┆          ┆        ┆ Michel (\"Louis M ┆   ┆            ┆         ┆       ┆          │\n│             ┆          ┆        ┆ H…               ┆   ┆            ┆         ┆       ┆          │\n│ 150         ┆ 0        ┆ 2      ┆ Byles, Rev.      ┆ … ┆ 244310     ┆ 13.0    ┆ null  ┆ S        │\n│             ┆          ┆        ┆ Thomas Roussel   ┆   ┆            ┆         ┆       ┆          │\n│             ┆          ┆        ┆ David…           ┆   ┆            ┆         ┆       ┆          │\n│ 162         ┆ 1        ┆ 2      ┆ Watt, Mrs. James ┆ … ┆ C.A. 33595 ┆ 15.75   ┆ null  ┆ S        │\n│             ┆          ┆        ┆ (Elizabeth \"Bes… ┆   ┆            ┆         ┆       ┆          │\n└─────────────┴──────────┴────────┴──────────────────┴───┴────────────┴─────────┴───────┴──────────┘",
      "text/html": "<div><style>\n.dataframe > thead > tr,\n.dataframe > tbody > tr {\n  text-align: right;\n  white-space: pre-wrap;\n}\n</style>\n<small>shape: (10, 12)</small><table border=\"1\" class=\"dataframe\"><thead><tr><th>PassengerId</th><th>Survived</th><th>Pclass</th><th>Name</th><th>Sex</th><th>Age</th><th>SibSp</th><th>Parch</th><th>Ticket</th><th>Fare</th><th>Cabin</th><th>Embarked</th></tr><tr><td>i64</td><td>i64</td><td>i64</td><td>str</td><td>str</td><td>f64</td><td>i64</td><td>i64</td><td>str</td><td>f64</td><td>str</td><td>str</td></tr></thead><tbody><tr><td>21</td><td>0</td><td>2</td><td>&quot;Fynney, Mr. Jo…</td><td>&quot;male&quot;</td><td>35.0</td><td>0</td><td>0</td><td>&quot;239865&quot;</td><td>26.0</td><td>null</td><td>&quot;S&quot;</td></tr><tr><td>22</td><td>1</td><td>2</td><td>&quot;Beesley, Mr. L…</td><td>&quot;male&quot;</td><td>34.0</td><td>0</td><td>0</td><td>&quot;248698&quot;</td><td>13.0</td><td>&quot;D56&quot;</td><td>&quot;S&quot;</td></tr><tr><td>71</td><td>0</td><td>2</td><td>&quot;Jenkin, Mr. St…</td><td>&quot;male&quot;</td><td>32.0</td><td>0</td><td>0</td><td>&quot;C.A. 33111&quot;</td><td>10.5</td><td>null</td><td>&quot;S&quot;</td></tr><tr><td>99</td><td>1</td><td>2</td><td>&quot;Doling, Mrs. J…</td><td>&quot;female&quot;</td><td>34.0</td><td>0</td><td>1</td><td>&quot;231919&quot;</td><td>23.0</td><td>null</td><td>&quot;S&quot;</td></tr><tr><td>100</td><td>0</td><td>2</td><td>&quot;Kantor, Mr. Si…</td><td>&quot;male&quot;</td><td>34.0</td><td>1</td><td>0</td><td>&quot;244367&quot;</td><td>26.0</td><td>null</td><td>&quot;S&quot;</td></tr><tr><td>123</td><td>0</td><td>2</td><td>&quot;Nasser, Mr. Ni…</td><td>&quot;male&quot;</td><td>32.5</td><td>1</td><td>0</td><td>&quot;237736&quot;</td><td>30.0708</td><td>null</td><td>&quot;C&quot;</td></tr><tr><td>124</td><td>1</td><td>2</td><td>&quot;Webber, Miss. …</td><td>&quot;female&quot;</td><td>32.5</td><td>0</td><td>0</td><td>&quot;27267&quot;</td><td>13.0</td><td>&quot;E101&quot;</td><td>&quot;S&quot;</td></tr><tr><td>149</td><td>0</td><td>2</td><td>&quot;Navratil, Mr. …</td><td>&quot;male&quot;</td><td>36.5</td><td>0</td><td>2</td><td>&quot;230080&quot;</td><td>26.0</td><td>&quot;F2&quot;</td><td>&quot;S&quot;</td></tr><tr><td>150</td><td>0</td><td>2</td><td>&quot;Byles, Rev. Th…</td><td>&quot;male&quot;</td><td>42.0</td><td>0</td><td>0</td><td>&quot;244310&quot;</td><td>13.0</td><td>null</td><td>&quot;S&quot;</td></tr><tr><td>162</td><td>1</td><td>2</td><td>&quot;Watt, Mrs. Jam…</td><td>&quot;female&quot;</td><td>40.0</td><td>0</td><td>0</td><td>&quot;C.A. 33595&quot;</td><td>15.75</td><td>null</td><td>&quot;S&quot;</td></tr></tbody></table></div>"
     },
     "execution_count": 27,
     "metadata": {},
     "output_type": "execute_result"
    }
   ],
   "source": [
    "(\n",
    "    pl.read_csv(csv_file)\n",
    "    .filter(pl.col('Age').is_between(30,50), pl.col(\"Pclass\") == 2)\n",
    "    .head(10)\n",
    ")"
   ]
  },
  {
   "cell_type": "markdown",
   "id": "f00aab75-13f4-428c-95d3-6e72286370a3",
   "metadata": {},
   "source": [
    "Do this again combining the range condition with the keyword approach for the 2nd class condition - does the order you pass the conditions matter?"
   ]
  },
  {
   "cell_type": "code",
   "execution_count": 28,
   "id": "d530acf8-c606-47cb-8a9b-ff17c37394f6",
   "metadata": {
    "ExecuteTime": {
     "end_time": "2024-03-04T13:30:35.274177100Z",
     "start_time": "2024-03-04T13:30:35.221177900Z"
    }
   },
   "outputs": [
    {
     "data": {
      "text/plain": "shape: (10, 12)\n┌─────────────┬──────────┬────────┬──────────────────┬───┬────────────┬─────────┬───────┬──────────┐\n│ PassengerId ┆ Survived ┆ Pclass ┆ Name             ┆ … ┆ Ticket     ┆ Fare    ┆ Cabin ┆ Embarked │\n│ ---         ┆ ---      ┆ ---    ┆ ---              ┆   ┆ ---        ┆ ---     ┆ ---   ┆ ---      │\n│ i64         ┆ i64      ┆ i64    ┆ str              ┆   ┆ str        ┆ f64     ┆ str   ┆ str      │\n╞═════════════╪══════════╪════════╪══════════════════╪═══╪════════════╪═════════╪═══════╪══════════╡\n│ 21          ┆ 0        ┆ 2      ┆ Fynney, Mr.      ┆ … ┆ 239865     ┆ 26.0    ┆ null  ┆ S        │\n│             ┆          ┆        ┆ Joseph J         ┆   ┆            ┆         ┆       ┆          │\n│ 22          ┆ 1        ┆ 2      ┆ Beesley, Mr.     ┆ … ┆ 248698     ┆ 13.0    ┆ D56   ┆ S        │\n│             ┆          ┆        ┆ Lawrence         ┆   ┆            ┆         ┆       ┆          │\n│ 71          ┆ 0        ┆ 2      ┆ Jenkin, Mr.      ┆ … ┆ C.A. 33111 ┆ 10.5    ┆ null  ┆ S        │\n│             ┆          ┆        ┆ Stephen Curnow   ┆   ┆            ┆         ┆       ┆          │\n│ 99          ┆ 1        ┆ 2      ┆ Doling, Mrs.     ┆ … ┆ 231919     ┆ 23.0    ┆ null  ┆ S        │\n│             ┆          ┆        ┆ John T (Ada      ┆   ┆            ┆         ┆       ┆          │\n│             ┆          ┆        ┆ Julia B…         ┆   ┆            ┆         ┆       ┆          │\n│ 100         ┆ 0        ┆ 2      ┆ Kantor, Mr.      ┆ … ┆ 244367     ┆ 26.0    ┆ null  ┆ S        │\n│             ┆          ┆        ┆ Sinai            ┆   ┆            ┆         ┆       ┆          │\n│ 123         ┆ 0        ┆ 2      ┆ Nasser, Mr.      ┆ … ┆ 237736     ┆ 30.0708 ┆ null  ┆ C        │\n│             ┆          ┆        ┆ Nicholas         ┆   ┆            ┆         ┆       ┆          │\n│ 124         ┆ 1        ┆ 2      ┆ Webber, Miss.    ┆ … ┆ 27267      ┆ 13.0    ┆ E101  ┆ S        │\n│             ┆          ┆        ┆ Susan            ┆   ┆            ┆         ┆       ┆          │\n│ 149         ┆ 0        ┆ 2      ┆ Navratil, Mr.    ┆ … ┆ 230080     ┆ 26.0    ┆ F2    ┆ S        │\n│             ┆          ┆        ┆ Michel (\"Louis M ┆   ┆            ┆         ┆       ┆          │\n│             ┆          ┆        ┆ H…               ┆   ┆            ┆         ┆       ┆          │\n│ 150         ┆ 0        ┆ 2      ┆ Byles, Rev.      ┆ … ┆ 244310     ┆ 13.0    ┆ null  ┆ S        │\n│             ┆          ┆        ┆ Thomas Roussel   ┆   ┆            ┆         ┆       ┆          │\n│             ┆          ┆        ┆ David…           ┆   ┆            ┆         ┆       ┆          │\n│ 162         ┆ 1        ┆ 2      ┆ Watt, Mrs. James ┆ … ┆ C.A. 33595 ┆ 15.75   ┆ null  ┆ S        │\n│             ┆          ┆        ┆ (Elizabeth \"Bes… ┆   ┆            ┆         ┆       ┆          │\n└─────────────┴──────────┴────────┴──────────────────┴───┴────────────┴─────────┴───────┴──────────┘",
      "text/html": "<div><style>\n.dataframe > thead > tr,\n.dataframe > tbody > tr {\n  text-align: right;\n  white-space: pre-wrap;\n}\n</style>\n<small>shape: (10, 12)</small><table border=\"1\" class=\"dataframe\"><thead><tr><th>PassengerId</th><th>Survived</th><th>Pclass</th><th>Name</th><th>Sex</th><th>Age</th><th>SibSp</th><th>Parch</th><th>Ticket</th><th>Fare</th><th>Cabin</th><th>Embarked</th></tr><tr><td>i64</td><td>i64</td><td>i64</td><td>str</td><td>str</td><td>f64</td><td>i64</td><td>i64</td><td>str</td><td>f64</td><td>str</td><td>str</td></tr></thead><tbody><tr><td>21</td><td>0</td><td>2</td><td>&quot;Fynney, Mr. Jo…</td><td>&quot;male&quot;</td><td>35.0</td><td>0</td><td>0</td><td>&quot;239865&quot;</td><td>26.0</td><td>null</td><td>&quot;S&quot;</td></tr><tr><td>22</td><td>1</td><td>2</td><td>&quot;Beesley, Mr. L…</td><td>&quot;male&quot;</td><td>34.0</td><td>0</td><td>0</td><td>&quot;248698&quot;</td><td>13.0</td><td>&quot;D56&quot;</td><td>&quot;S&quot;</td></tr><tr><td>71</td><td>0</td><td>2</td><td>&quot;Jenkin, Mr. St…</td><td>&quot;male&quot;</td><td>32.0</td><td>0</td><td>0</td><td>&quot;C.A. 33111&quot;</td><td>10.5</td><td>null</td><td>&quot;S&quot;</td></tr><tr><td>99</td><td>1</td><td>2</td><td>&quot;Doling, Mrs. J…</td><td>&quot;female&quot;</td><td>34.0</td><td>0</td><td>1</td><td>&quot;231919&quot;</td><td>23.0</td><td>null</td><td>&quot;S&quot;</td></tr><tr><td>100</td><td>0</td><td>2</td><td>&quot;Kantor, Mr. Si…</td><td>&quot;male&quot;</td><td>34.0</td><td>1</td><td>0</td><td>&quot;244367&quot;</td><td>26.0</td><td>null</td><td>&quot;S&quot;</td></tr><tr><td>123</td><td>0</td><td>2</td><td>&quot;Nasser, Mr. Ni…</td><td>&quot;male&quot;</td><td>32.5</td><td>1</td><td>0</td><td>&quot;237736&quot;</td><td>30.0708</td><td>null</td><td>&quot;C&quot;</td></tr><tr><td>124</td><td>1</td><td>2</td><td>&quot;Webber, Miss. …</td><td>&quot;female&quot;</td><td>32.5</td><td>0</td><td>0</td><td>&quot;27267&quot;</td><td>13.0</td><td>&quot;E101&quot;</td><td>&quot;S&quot;</td></tr><tr><td>149</td><td>0</td><td>2</td><td>&quot;Navratil, Mr. …</td><td>&quot;male&quot;</td><td>36.5</td><td>0</td><td>2</td><td>&quot;230080&quot;</td><td>26.0</td><td>&quot;F2&quot;</td><td>&quot;S&quot;</td></tr><tr><td>150</td><td>0</td><td>2</td><td>&quot;Byles, Rev. Th…</td><td>&quot;male&quot;</td><td>42.0</td><td>0</td><td>0</td><td>&quot;244310&quot;</td><td>13.0</td><td>null</td><td>&quot;S&quot;</td></tr><tr><td>162</td><td>1</td><td>2</td><td>&quot;Watt, Mrs. Jam…</td><td>&quot;female&quot;</td><td>40.0</td><td>0</td><td>0</td><td>&quot;C.A. 33595&quot;</td><td>15.75</td><td>null</td><td>&quot;S&quot;</td></tr></tbody></table></div>"
     },
     "execution_count": 28,
     "metadata": {},
     "output_type": "execute_result"
    }
   ],
   "source": [
    "(\n",
    "    pl.read_csv(csv_file)\n",
    "    .filter(pl.col('Age').is_between(30, 50), Pclass = 2)\n",
    "    .head(10)\n",
    ")"
   ]
  },
  {
   "cell_type": "markdown",
   "id": "318207a0-01a7-46fd-85a8-4d8f0756ebc3",
   "metadata": {},
   "source": [
    "### Exercise 2\n",
    "Return all the rows of the `DataFrame` where at least one column on the row is `null` (excluding the `Cabin` column with many `null` values)"
   ]
  },
  {
   "cell_type": "code",
   "execution_count": null,
   "id": "81fcc1ad-60b9-487d-8556-fa101748fc48",
   "metadata": {},
   "outputs": [],
   "source": [
    "(\n",
    "    pl.read_csv(csv_file)\n",
    "    .drop(\"Cabin\")\n",
    "    <blank>\n",
    ")"
   ]
  },
  {
   "cell_type": "markdown",
   "id": "37b21d3c-8373-4b39-99f0-9c0c90e7161f",
   "metadata": {},
   "source": [
    "### Exercise 3\n",
    "Create a `DataFrame` where the passengers got on in Cork (\"C\") or Southampton (\"S\") using the pipe operator"
   ]
  },
  {
   "cell_type": "code",
   "execution_count": null,
   "id": "9c72f72c-43c3-4475-9e78-0a65d68826a3",
   "metadata": {},
   "outputs": [],
   "source": [
    "(\n",
    "    pl.read_csv(csv_file)\n",
    "    <blank>\n",
    ")"
   ]
  },
  {
   "cell_type": "markdown",
   "id": "ee459927-5a61-42a9-be9d-4cacd4bae5c8",
   "metadata": {},
   "source": [
    "Do this again using the `is_in` approach"
   ]
  },
  {
   "cell_type": "code",
   "execution_count": null,
   "id": "1e022d24-6c42-47b8-b490-522035f7eec8",
   "metadata": {},
   "outputs": [],
   "source": []
  },
  {
   "cell_type": "markdown",
   "id": "d3ff25e0-ac53-4361-97df-9d2aa9e498f7",
   "metadata": {},
   "source": [
    "### Exercise 4\n",
    "Load the Spotify CSV data into a `DataFrame`"
   ]
  },
  {
   "cell_type": "code",
   "execution_count": null,
   "id": "1378fe5a-be10-4f1d-a6cc-fa4219840636",
   "metadata": {},
   "outputs": [],
   "source": [
    "pl.Config.set_fmt_str_lengths(30)\n",
    "spotify_csv = \"../data/spotify-charts-2017-2021-global-top200.csv.gz\"\n",
    "spotify_df = pl.read_csv(spotify_csv)\n",
    "spotify_df.head()"
   ]
  },
  {
   "cell_type": "markdown",
   "id": "4ed827f2-0940-42c4-b223-985199956db9",
   "metadata": {},
   "source": [
    "Find all rows where the number of streams is greater than 10 million and the trend is \"NEW_ENTRY\"  "
   ]
  },
  {
   "cell_type": "code",
   "execution_count": null,
   "id": "1488bc76-672f-491e-bd06-4b9fcf5169d4",
   "metadata": {},
   "outputs": [],
   "source": []
  },
  {
   "cell_type": "markdown",
   "id": "9e5a8bf8-d99f-47cd-b405-394cad1bac57",
   "metadata": {},
   "source": [
    "Find the rows where the artist is either Drake or Ed Sheeran and the rank is less than (better than) 5"
   ]
  },
  {
   "cell_type": "code",
   "execution_count": null,
   "id": "42b62879-f5b0-454c-88b8-13bcc7873703",
   "metadata": {},
   "outputs": [],
   "source": []
  },
  {
   "cell_type": "markdown",
   "id": "f08531e8-1030-42fd-9c55-36bf78faae63",
   "metadata": {},
   "source": [
    "## Solutions\n",
    "### Solution to Exercise 1\n",
    "Create a `DataFrame` where `Age` is between 30 and 50 (including the lower bound) and the passenger is in 2nd class. Do this in eager mode in a single pass through the `DataFrame`"
   ]
  },
  {
   "cell_type": "code",
   "execution_count": 29,
   "id": "80da22aa-ae65-4c10-890d-bee420195c49",
   "metadata": {
    "jupyter": {
     "source_hidden": true
    },
    "tags": [],
    "ExecuteTime": {
     "end_time": "2024-03-04T13:31:32.926006200Z",
     "start_time": "2024-03-04T13:31:32.876167Z"
    }
   },
   "outputs": [
    {
     "data": {
      "text/plain": "shape: (5, 12)\n┌─────────────┬──────────┬────────┬─────────────────────┬───┬────────────┬──────┬───────┬──────────┐\n│ PassengerId ┆ Survived ┆ Pclass ┆ Name                ┆ … ┆ Ticket     ┆ Fare ┆ Cabin ┆ Embarked │\n│ ---         ┆ ---      ┆ ---    ┆ ---                 ┆   ┆ ---        ┆ ---  ┆ ---   ┆ ---      │\n│ i64         ┆ i64      ┆ i64    ┆ str                 ┆   ┆ str        ┆ f64  ┆ str   ┆ str      │\n╞═════════════╪══════════╪════════╪═════════════════════╪═══╪════════════╪══════╪═══════╪══════════╡\n│ 21          ┆ 0        ┆ 2      ┆ Fynney, Mr. Joseph  ┆ … ┆ 239865     ┆ 26.0 ┆ null  ┆ S        │\n│             ┆          ┆        ┆ J                   ┆   ┆            ┆      ┆       ┆          │\n│ 22          ┆ 1        ┆ 2      ┆ Beesley, Mr.        ┆ … ┆ 248698     ┆ 13.0 ┆ D56   ┆ S        │\n│             ┆          ┆        ┆ Lawrence            ┆   ┆            ┆      ┆       ┆          │\n│ 71          ┆ 0        ┆ 2      ┆ Jenkin, Mr. Stephen ┆ … ┆ C.A. 33111 ┆ 10.5 ┆ null  ┆ S        │\n│             ┆          ┆        ┆ Curnow              ┆   ┆            ┆      ┆       ┆          │\n│ 99          ┆ 1        ┆ 2      ┆ Doling, Mrs. John T ┆ … ┆ 231919     ┆ 23.0 ┆ null  ┆ S        │\n│             ┆          ┆        ┆ (Ada Julia B…       ┆   ┆            ┆      ┆       ┆          │\n│ 100         ┆ 0        ┆ 2      ┆ Kantor, Mr. Sinai   ┆ … ┆ 244367     ┆ 26.0 ┆ null  ┆ S        │\n└─────────────┴──────────┴────────┴─────────────────────┴───┴────────────┴──────┴───────┴──────────┘",
      "text/html": "<div><style>\n.dataframe > thead > tr,\n.dataframe > tbody > tr {\n  text-align: right;\n  white-space: pre-wrap;\n}\n</style>\n<small>shape: (5, 12)</small><table border=\"1\" class=\"dataframe\"><thead><tr><th>PassengerId</th><th>Survived</th><th>Pclass</th><th>Name</th><th>Sex</th><th>Age</th><th>SibSp</th><th>Parch</th><th>Ticket</th><th>Fare</th><th>Cabin</th><th>Embarked</th></tr><tr><td>i64</td><td>i64</td><td>i64</td><td>str</td><td>str</td><td>f64</td><td>i64</td><td>i64</td><td>str</td><td>f64</td><td>str</td><td>str</td></tr></thead><tbody><tr><td>21</td><td>0</td><td>2</td><td>&quot;Fynney, Mr. Jo…</td><td>&quot;male&quot;</td><td>35.0</td><td>0</td><td>0</td><td>&quot;239865&quot;</td><td>26.0</td><td>null</td><td>&quot;S&quot;</td></tr><tr><td>22</td><td>1</td><td>2</td><td>&quot;Beesley, Mr. L…</td><td>&quot;male&quot;</td><td>34.0</td><td>0</td><td>0</td><td>&quot;248698&quot;</td><td>13.0</td><td>&quot;D56&quot;</td><td>&quot;S&quot;</td></tr><tr><td>71</td><td>0</td><td>2</td><td>&quot;Jenkin, Mr. St…</td><td>&quot;male&quot;</td><td>32.0</td><td>0</td><td>0</td><td>&quot;C.A. 33111&quot;</td><td>10.5</td><td>null</td><td>&quot;S&quot;</td></tr><tr><td>99</td><td>1</td><td>2</td><td>&quot;Doling, Mrs. J…</td><td>&quot;female&quot;</td><td>34.0</td><td>0</td><td>1</td><td>&quot;231919&quot;</td><td>23.0</td><td>null</td><td>&quot;S&quot;</td></tr><tr><td>100</td><td>0</td><td>2</td><td>&quot;Kantor, Mr. Si…</td><td>&quot;male&quot;</td><td>34.0</td><td>1</td><td>0</td><td>&quot;244367&quot;</td><td>26.0</td><td>null</td><td>&quot;S&quot;</td></tr></tbody></table></div>"
     },
     "execution_count": 29,
     "metadata": {},
     "output_type": "execute_result"
    }
   ],
   "source": [
    "(\n",
    "    pl.read_csv(csv_file)\n",
    "    .filter(\n",
    "        (pl.col('Age').is_between(30,50,closed=\"left\")) & (pl.col('Pclass')==2)\n",
    "    )\n",
    "    .head()\n",
    ")"
   ]
  },
  {
   "cell_type": "markdown",
   "id": "10f51855-bd0a-4f33-a404-40ff04be6923",
   "metadata": {},
   "source": [
    "Do this again combining the range condition with the keyword approach for the 2nd class condition - does the order you pass the conditions matter?"
   ]
  },
  {
   "cell_type": "code",
   "execution_count": 30,
   "id": "280ba7cd-0c67-4767-8199-b15d59beecb6",
   "metadata": {
    "jupyter": {
     "source_hidden": true
    },
    "ExecuteTime": {
     "end_time": "2024-03-04T13:31:35.311293Z",
     "start_time": "2024-03-04T13:31:35.248392900Z"
    }
   },
   "outputs": [
    {
     "data": {
      "text/plain": "shape: (5, 12)\n┌─────────────┬──────────┬────────┬─────────────────────┬───┬────────────┬──────┬───────┬──────────┐\n│ PassengerId ┆ Survived ┆ Pclass ┆ Name                ┆ … ┆ Ticket     ┆ Fare ┆ Cabin ┆ Embarked │\n│ ---         ┆ ---      ┆ ---    ┆ ---                 ┆   ┆ ---        ┆ ---  ┆ ---   ┆ ---      │\n│ i64         ┆ i64      ┆ i64    ┆ str                 ┆   ┆ str        ┆ f64  ┆ str   ┆ str      │\n╞═════════════╪══════════╪════════╪═════════════════════╪═══╪════════════╪══════╪═══════╪══════════╡\n│ 21          ┆ 0        ┆ 2      ┆ Fynney, Mr. Joseph  ┆ … ┆ 239865     ┆ 26.0 ┆ null  ┆ S        │\n│             ┆          ┆        ┆ J                   ┆   ┆            ┆      ┆       ┆          │\n│ 22          ┆ 1        ┆ 2      ┆ Beesley, Mr.        ┆ … ┆ 248698     ┆ 13.0 ┆ D56   ┆ S        │\n│             ┆          ┆        ┆ Lawrence            ┆   ┆            ┆      ┆       ┆          │\n│ 71          ┆ 0        ┆ 2      ┆ Jenkin, Mr. Stephen ┆ … ┆ C.A. 33111 ┆ 10.5 ┆ null  ┆ S        │\n│             ┆          ┆        ┆ Curnow              ┆   ┆            ┆      ┆       ┆          │\n│ 99          ┆ 1        ┆ 2      ┆ Doling, Mrs. John T ┆ … ┆ 231919     ┆ 23.0 ┆ null  ┆ S        │\n│             ┆          ┆        ┆ (Ada Julia B…       ┆   ┆            ┆      ┆       ┆          │\n│ 100         ┆ 0        ┆ 2      ┆ Kantor, Mr. Sinai   ┆ … ┆ 244367     ┆ 26.0 ┆ null  ┆ S        │\n└─────────────┴──────────┴────────┴─────────────────────┴───┴────────────┴──────┴───────┴──────────┘",
      "text/html": "<div><style>\n.dataframe > thead > tr,\n.dataframe > tbody > tr {\n  text-align: right;\n  white-space: pre-wrap;\n}\n</style>\n<small>shape: (5, 12)</small><table border=\"1\" class=\"dataframe\"><thead><tr><th>PassengerId</th><th>Survived</th><th>Pclass</th><th>Name</th><th>Sex</th><th>Age</th><th>SibSp</th><th>Parch</th><th>Ticket</th><th>Fare</th><th>Cabin</th><th>Embarked</th></tr><tr><td>i64</td><td>i64</td><td>i64</td><td>str</td><td>str</td><td>f64</td><td>i64</td><td>i64</td><td>str</td><td>f64</td><td>str</td><td>str</td></tr></thead><tbody><tr><td>21</td><td>0</td><td>2</td><td>&quot;Fynney, Mr. Jo…</td><td>&quot;male&quot;</td><td>35.0</td><td>0</td><td>0</td><td>&quot;239865&quot;</td><td>26.0</td><td>null</td><td>&quot;S&quot;</td></tr><tr><td>22</td><td>1</td><td>2</td><td>&quot;Beesley, Mr. L…</td><td>&quot;male&quot;</td><td>34.0</td><td>0</td><td>0</td><td>&quot;248698&quot;</td><td>13.0</td><td>&quot;D56&quot;</td><td>&quot;S&quot;</td></tr><tr><td>71</td><td>0</td><td>2</td><td>&quot;Jenkin, Mr. St…</td><td>&quot;male&quot;</td><td>32.0</td><td>0</td><td>0</td><td>&quot;C.A. 33111&quot;</td><td>10.5</td><td>null</td><td>&quot;S&quot;</td></tr><tr><td>99</td><td>1</td><td>2</td><td>&quot;Doling, Mrs. J…</td><td>&quot;female&quot;</td><td>34.0</td><td>0</td><td>1</td><td>&quot;231919&quot;</td><td>23.0</td><td>null</td><td>&quot;S&quot;</td></tr><tr><td>100</td><td>0</td><td>2</td><td>&quot;Kantor, Mr. Si…</td><td>&quot;male&quot;</td><td>34.0</td><td>1</td><td>0</td><td>&quot;244367&quot;</td><td>26.0</td><td>null</td><td>&quot;S&quot;</td></tr></tbody></table></div>"
     },
     "execution_count": 30,
     "metadata": {},
     "output_type": "execute_result"
    }
   ],
   "source": [
    "(\n",
    "    pl.read_csv(csv_file)\n",
    "    .filter(\n",
    "        pl.col('Age').is_between(30,50,closed=\"left\"),\n",
    "        Pclass=2,\n",
    "    )\n",
    "    .head()\n",
    ")"
   ]
  },
  {
   "cell_type": "markdown",
   "id": "3dc2a4dc-47ff-4fb8-98f8-719d4e7b5564",
   "metadata": {},
   "source": [
    "The order you do this matters - Python keyword arguments must be the last on the list"
   ]
  },
  {
   "cell_type": "markdown",
   "id": "6c6dd0d7-7c84-4553-87c4-dd2cbcac579d",
   "metadata": {},
   "source": [
    "### Solution to Exercise 2\n",
    "Return all the rows of the `DataFrame` where at least one column on the row is `null` (excluding the `Cabin` column with many `null` values)"
   ]
  },
  {
   "cell_type": "code",
   "execution_count": 31,
   "id": "f2fb4ec8-4a80-45a9-aa92-2c7f662b5a1f",
   "metadata": {
    "jupyter": {
     "source_hidden": true
    },
    "ExecuteTime": {
     "end_time": "2024-03-04T13:31:54.772132600Z",
     "start_time": "2024-03-04T13:31:54.754102800Z"
    }
   },
   "outputs": [
    {
     "data": {
      "text/plain": "shape: (5, 11)\n┌─────────────┬──────────┬────────┬───────────────────────┬───┬───────┬────────┬────────┬──────────┐\n│ PassengerId ┆ Survived ┆ Pclass ┆ Name                  ┆ … ┆ Parch ┆ Ticket ┆ Fare   ┆ Embarked │\n│ ---         ┆ ---      ┆ ---    ┆ ---                   ┆   ┆ ---   ┆ ---    ┆ ---    ┆ ---      │\n│ i64         ┆ i64      ┆ i64    ┆ str                   ┆   ┆ i64   ┆ str    ┆ f64    ┆ str      │\n╞═════════════╪══════════╪════════╪═══════════════════════╪═══╪═══════╪════════╪════════╪══════════╡\n│ 6           ┆ 0        ┆ 3      ┆ Moran, Mr. James      ┆ … ┆ 0     ┆ 330877 ┆ 8.4583 ┆ Q        │\n│ 18          ┆ 1        ┆ 2      ┆ Williams, Mr. Charles ┆ … ┆ 0     ┆ 244373 ┆ 13.0   ┆ S        │\n│             ┆          ┆        ┆ Eugene                ┆   ┆       ┆        ┆        ┆          │\n│ 20          ┆ 1        ┆ 3      ┆ Masselmani, Mrs.      ┆ … ┆ 0     ┆ 2649   ┆ 7.225  ┆ C        │\n│             ┆          ┆        ┆ Fatima                ┆   ┆       ┆        ┆        ┆          │\n│ 27          ┆ 0        ┆ 3      ┆ Emir, Mr. Farred      ┆ … ┆ 0     ┆ 2631   ┆ 7.225  ┆ C        │\n│             ┆          ┆        ┆ Chehab                ┆   ┆       ┆        ┆        ┆          │\n│ 29          ┆ 1        ┆ 3      ┆ O'Dwyer, Miss. Ellen  ┆ … ┆ 0     ┆ 330959 ┆ 7.8792 ┆ Q        │\n│             ┆          ┆        ┆ \"Nellie\"              ┆   ┆       ┆        ┆        ┆          │\n└─────────────┴──────────┴────────┴───────────────────────┴───┴───────┴────────┴────────┴──────────┘",
      "text/html": "<div><style>\n.dataframe > thead > tr,\n.dataframe > tbody > tr {\n  text-align: right;\n  white-space: pre-wrap;\n}\n</style>\n<small>shape: (5, 11)</small><table border=\"1\" class=\"dataframe\"><thead><tr><th>PassengerId</th><th>Survived</th><th>Pclass</th><th>Name</th><th>Sex</th><th>Age</th><th>SibSp</th><th>Parch</th><th>Ticket</th><th>Fare</th><th>Embarked</th></tr><tr><td>i64</td><td>i64</td><td>i64</td><td>str</td><td>str</td><td>f64</td><td>i64</td><td>i64</td><td>str</td><td>f64</td><td>str</td></tr></thead><tbody><tr><td>6</td><td>0</td><td>3</td><td>&quot;Moran, Mr. Jam…</td><td>&quot;male&quot;</td><td>null</td><td>0</td><td>0</td><td>&quot;330877&quot;</td><td>8.4583</td><td>&quot;Q&quot;</td></tr><tr><td>18</td><td>1</td><td>2</td><td>&quot;Williams, Mr. …</td><td>&quot;male&quot;</td><td>null</td><td>0</td><td>0</td><td>&quot;244373&quot;</td><td>13.0</td><td>&quot;S&quot;</td></tr><tr><td>20</td><td>1</td><td>3</td><td>&quot;Masselmani, Mr…</td><td>&quot;female&quot;</td><td>null</td><td>0</td><td>0</td><td>&quot;2649&quot;</td><td>7.225</td><td>&quot;C&quot;</td></tr><tr><td>27</td><td>0</td><td>3</td><td>&quot;Emir, Mr. Farr…</td><td>&quot;male&quot;</td><td>null</td><td>0</td><td>0</td><td>&quot;2631&quot;</td><td>7.225</td><td>&quot;C&quot;</td></tr><tr><td>29</td><td>1</td><td>3</td><td>&quot;O&#x27;Dwyer, Miss.…</td><td>&quot;female&quot;</td><td>null</td><td>0</td><td>0</td><td>&quot;330959&quot;</td><td>7.8792</td><td>&quot;Q&quot;</td></tr></tbody></table></div>"
     },
     "execution_count": 31,
     "metadata": {},
     "output_type": "execute_result"
    }
   ],
   "source": [
    "(\n",
    "    pl.read_csv(csv_file)\n",
    "    .drop(\"Cabin\")\n",
    "    .filter(\n",
    "        pl.any_horizontal(\n",
    "            pl.all().is_null()\n",
    "        )\n",
    "    )\n",
    "    .head()\n",
    ")"
   ]
  },
  {
   "cell_type": "markdown",
   "id": "d3a021b1-36af-4caf-a7e5-e6e482e7351b",
   "metadata": {},
   "source": [
    "### Solution to Exercise 3\n",
    "Create a `DataFrame` where the passengers got on in Cork (\"C\") or Southampton (\"S\") using the pipe operator"
   ]
  },
  {
   "cell_type": "code",
   "execution_count": 32,
   "id": "a483e251-0b77-4cdd-9e31-16a4e538f9a6",
   "metadata": {
    "tags": [],
    "ExecuteTime": {
     "end_time": "2024-03-04T13:32:10.573063Z",
     "start_time": "2024-03-04T13:32:10.513062200Z"
    }
   },
   "outputs": [
    {
     "data": {
      "text/plain": "shape: (3, 12)\n┌─────────────┬──────────┬────────┬───────────────────┬───┬───────────┬─────────┬───────┬──────────┐\n│ PassengerId ┆ Survived ┆ Pclass ┆ Name              ┆ … ┆ Ticket    ┆ Fare    ┆ Cabin ┆ Embarked │\n│ ---         ┆ ---      ┆ ---    ┆ ---               ┆   ┆ ---       ┆ ---     ┆ ---   ┆ ---      │\n│ i64         ┆ i64      ┆ i64    ┆ str               ┆   ┆ str       ┆ f64     ┆ str   ┆ str      │\n╞═════════════╪══════════╪════════╪═══════════════════╪═══╪═══════════╪═════════╪═══════╪══════════╡\n│ 1           ┆ 0        ┆ 3      ┆ Braund, Mr. Owen  ┆ … ┆ A/5 21171 ┆ 7.25    ┆ null  ┆ S        │\n│             ┆          ┆        ┆ Harris            ┆   ┆           ┆         ┆       ┆          │\n│ 2           ┆ 1        ┆ 1      ┆ Cumings, Mrs.     ┆ … ┆ PC 17599  ┆ 71.2833 ┆ C85   ┆ C        │\n│             ┆          ┆        ┆ John Bradley      ┆   ┆           ┆         ┆       ┆          │\n│             ┆          ┆        ┆ (Flor…            ┆   ┆           ┆         ┆       ┆          │\n│ 3           ┆ 1        ┆ 3      ┆ Heikkinen, Miss.  ┆ … ┆ STON/O2.  ┆ 7.925   ┆ null  ┆ S        │\n│             ┆          ┆        ┆ Laina             ┆   ┆ 3101282   ┆         ┆       ┆          │\n└─────────────┴──────────┴────────┴───────────────────┴───┴───────────┴─────────┴───────┴──────────┘",
      "text/html": "<div><style>\n.dataframe > thead > tr,\n.dataframe > tbody > tr {\n  text-align: right;\n  white-space: pre-wrap;\n}\n</style>\n<small>shape: (3, 12)</small><table border=\"1\" class=\"dataframe\"><thead><tr><th>PassengerId</th><th>Survived</th><th>Pclass</th><th>Name</th><th>Sex</th><th>Age</th><th>SibSp</th><th>Parch</th><th>Ticket</th><th>Fare</th><th>Cabin</th><th>Embarked</th></tr><tr><td>i64</td><td>i64</td><td>i64</td><td>str</td><td>str</td><td>f64</td><td>i64</td><td>i64</td><td>str</td><td>f64</td><td>str</td><td>str</td></tr></thead><tbody><tr><td>1</td><td>0</td><td>3</td><td>&quot;Braund, Mr. Ow…</td><td>&quot;male&quot;</td><td>22.0</td><td>1</td><td>0</td><td>&quot;A/5 21171&quot;</td><td>7.25</td><td>null</td><td>&quot;S&quot;</td></tr><tr><td>2</td><td>1</td><td>1</td><td>&quot;Cumings, Mrs. …</td><td>&quot;female&quot;</td><td>38.0</td><td>1</td><td>0</td><td>&quot;PC 17599&quot;</td><td>71.2833</td><td>&quot;C85&quot;</td><td>&quot;C&quot;</td></tr><tr><td>3</td><td>1</td><td>3</td><td>&quot;Heikkinen, Mis…</td><td>&quot;female&quot;</td><td>26.0</td><td>0</td><td>0</td><td>&quot;STON/O2. 31012…</td><td>7.925</td><td>null</td><td>&quot;S&quot;</td></tr></tbody></table></div>"
     },
     "execution_count": 32,
     "metadata": {},
     "output_type": "execute_result"
    }
   ],
   "source": [
    "(\n",
    "    pl.read_csv(csv_file)\n",
    "    .filter(\n",
    "        (pl.col('Embarked') == \"C\") | (pl.col('Embarked') == \"S\")\n",
    "    )\n",
    "    .head(3)\n",
    ")"
   ]
  },
  {
   "cell_type": "markdown",
   "id": "e41c0eab-a380-46be-a610-eccc2b2b47b9",
   "metadata": {},
   "source": [
    "\n",
    "Do this again using the `is_in` approach"
   ]
  },
  {
   "cell_type": "code",
   "execution_count": 33,
   "id": "afcb94e2-365f-4e4c-89e0-ed10d3041736",
   "metadata": {
    "ExecuteTime": {
     "end_time": "2024-03-04T13:32:15.528629900Z",
     "start_time": "2024-03-04T13:32:15.412631400Z"
    }
   },
   "outputs": [
    {
     "data": {
      "text/plain": "shape: (5, 12)\n┌─────────────┬──────────┬────────┬───────────────────┬───┬───────────┬─────────┬───────┬──────────┐\n│ PassengerId ┆ Survived ┆ Pclass ┆ Name              ┆ … ┆ Ticket    ┆ Fare    ┆ Cabin ┆ Embarked │\n│ ---         ┆ ---      ┆ ---    ┆ ---               ┆   ┆ ---       ┆ ---     ┆ ---   ┆ ---      │\n│ i64         ┆ i64      ┆ i64    ┆ str               ┆   ┆ str       ┆ f64     ┆ str   ┆ str      │\n╞═════════════╪══════════╪════════╪═══════════════════╪═══╪═══════════╪═════════╪═══════╪══════════╡\n│ 1           ┆ 0        ┆ 3      ┆ Braund, Mr. Owen  ┆ … ┆ A/5 21171 ┆ 7.25    ┆ null  ┆ S        │\n│             ┆          ┆        ┆ Harris            ┆   ┆           ┆         ┆       ┆          │\n│ 2           ┆ 1        ┆ 1      ┆ Cumings, Mrs.     ┆ … ┆ PC 17599  ┆ 71.2833 ┆ C85   ┆ C        │\n│             ┆          ┆        ┆ John Bradley      ┆   ┆           ┆         ┆       ┆          │\n│             ┆          ┆        ┆ (Flor…            ┆   ┆           ┆         ┆       ┆          │\n│ 3           ┆ 1        ┆ 3      ┆ Heikkinen, Miss.  ┆ … ┆ STON/O2.  ┆ 7.925   ┆ null  ┆ S        │\n│             ┆          ┆        ┆ Laina             ┆   ┆ 3101282   ┆         ┆       ┆          │\n│ 4           ┆ 1        ┆ 1      ┆ Futrelle, Mrs.    ┆ … ┆ 113803    ┆ 53.1    ┆ C123  ┆ S        │\n│             ┆          ┆        ┆ Jacques Heath     ┆   ┆           ┆         ┆       ┆          │\n│             ┆          ┆        ┆ (Li…              ┆   ┆           ┆         ┆       ┆          │\n│ 5           ┆ 0        ┆ 3      ┆ Allen, Mr.        ┆ … ┆ 373450    ┆ 8.05    ┆ null  ┆ S        │\n│             ┆          ┆        ┆ William Henry     ┆   ┆           ┆         ┆       ┆          │\n└─────────────┴──────────┴────────┴───────────────────┴───┴───────────┴─────────┴───────┴──────────┘",
      "text/html": "<div><style>\n.dataframe > thead > tr,\n.dataframe > tbody > tr {\n  text-align: right;\n  white-space: pre-wrap;\n}\n</style>\n<small>shape: (5, 12)</small><table border=\"1\" class=\"dataframe\"><thead><tr><th>PassengerId</th><th>Survived</th><th>Pclass</th><th>Name</th><th>Sex</th><th>Age</th><th>SibSp</th><th>Parch</th><th>Ticket</th><th>Fare</th><th>Cabin</th><th>Embarked</th></tr><tr><td>i64</td><td>i64</td><td>i64</td><td>str</td><td>str</td><td>f64</td><td>i64</td><td>i64</td><td>str</td><td>f64</td><td>str</td><td>str</td></tr></thead><tbody><tr><td>1</td><td>0</td><td>3</td><td>&quot;Braund, Mr. Ow…</td><td>&quot;male&quot;</td><td>22.0</td><td>1</td><td>0</td><td>&quot;A/5 21171&quot;</td><td>7.25</td><td>null</td><td>&quot;S&quot;</td></tr><tr><td>2</td><td>1</td><td>1</td><td>&quot;Cumings, Mrs. …</td><td>&quot;female&quot;</td><td>38.0</td><td>1</td><td>0</td><td>&quot;PC 17599&quot;</td><td>71.2833</td><td>&quot;C85&quot;</td><td>&quot;C&quot;</td></tr><tr><td>3</td><td>1</td><td>3</td><td>&quot;Heikkinen, Mis…</td><td>&quot;female&quot;</td><td>26.0</td><td>0</td><td>0</td><td>&quot;STON/O2. 31012…</td><td>7.925</td><td>null</td><td>&quot;S&quot;</td></tr><tr><td>4</td><td>1</td><td>1</td><td>&quot;Futrelle, Mrs.…</td><td>&quot;female&quot;</td><td>35.0</td><td>1</td><td>0</td><td>&quot;113803&quot;</td><td>53.1</td><td>&quot;C123&quot;</td><td>&quot;S&quot;</td></tr><tr><td>5</td><td>0</td><td>3</td><td>&quot;Allen, Mr. Wil…</td><td>&quot;male&quot;</td><td>35.0</td><td>0</td><td>0</td><td>&quot;373450&quot;</td><td>8.05</td><td>null</td><td>&quot;S&quot;</td></tr></tbody></table></div>"
     },
     "execution_count": 33,
     "metadata": {},
     "output_type": "execute_result"
    }
   ],
   "source": [
    "(\n",
    "    pl.read_csv(csv_file)\n",
    "    .filter(\n",
    "        pl.col('Embarked').is_in([\"C\",\"S\"])\n",
    "    )\n",
    "    .head()\n",
    ")"
   ]
  },
  {
   "cell_type": "markdown",
   "id": "b36fd92f-cbe5-4b85-a446-a4143f255b5c",
   "metadata": {},
   "source": [
    "### Solution to Exercise 4\n",
    "Load the Spotify CSV data into a `DataFrame`"
   ]
  },
  {
   "cell_type": "code",
   "execution_count": null,
   "id": "eeefcf53-6930-44dc-97ea-2b43616e1d14",
   "metadata": {},
   "outputs": [],
   "source": [
    "pl.Config.set_fmt_str_lengths(30)\n",
    "spotify_csv = \"../data/spotify-charts-2017-2021-global-top200.csv.gz\"\n",
    "spotify_df = pl.read_csv(spotify_csv)\n",
    "spotify_df.head()"
   ]
  },
  {
   "cell_type": "markdown",
   "id": "b2b9059a-4712-4587-8477-73df6581c39e",
   "metadata": {},
   "source": [
    "Find all rows where the number of streams is greater than 10 million and the trend is \"NEW_ENTRY\"  "
   ]
  },
  {
   "cell_type": "code",
   "execution_count": null,
   "id": "2959fa98-c15e-4199-b7a7-7b3b05692546",
   "metadata": {
    "jupyter": {
     "source_hidden": true
    }
   },
   "outputs": [],
   "source": [
    "(\n",
    "    spotify_df\n",
    "    .filter(\n",
    "        pl.col(\"streams\")>1e7,\n",
    "        trend = \"NEW_ENTRY\"\n",
    "    )\n",
    ")"
   ]
  },
  {
   "cell_type": "markdown",
   "id": "e15a0462-ca27-4699-b24e-4aa32a265141",
   "metadata": {},
   "source": [
    "Find the rows where the artist is either Drake or Ed Sheeran and the rank is less than (better than) 5"
   ]
  },
  {
   "cell_type": "code",
   "execution_count": null,
   "id": "7f1358d5-01f8-4b98-9cbc-2bc72b11bf83",
   "metadata": {
    "jupyter": {
     "source_hidden": true
    }
   },
   "outputs": [],
   "source": [
    "(\n",
    "    spotify_df\n",
    "    .filter(\n",
    "        pl.col(\"artist\").is_in([\"Drake\",\"Ed Sheeran\"])\n",
    "    )\n",
    "    .filter(pl.col(\"rank\")<5)\n",
    ")"
   ]
  }
 ],
 "metadata": {
  "kernelspec": {
   "display_name": "Python 3 (ipykernel)",
   "language": "python",
   "name": "python3"
  },
  "language_info": {
   "codemirror_mode": {
    "name": "ipython",
    "version": 3
   },
   "file_extension": ".py",
   "mimetype": "text/x-python",
   "name": "python",
   "nbconvert_exporter": "python",
   "pygments_lexer": "ipython3",
   "version": "3.10.1"
  }
 },
 "nbformat": 4,
 "nbformat_minor": 5
}
