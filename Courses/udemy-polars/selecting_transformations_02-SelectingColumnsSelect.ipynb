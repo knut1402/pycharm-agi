{
 "cells": [
  {
   "cell_type": "markdown",
   "id": "b06a7473-8d52-4c0d-b469-37add3272a53",
   "metadata": {},
   "source": [
    "# Selecting columns 2: using `select` and expressions\n",
    "By the end of this lecture you will be able to:\n",
    "- select a column or columns with `select`\n",
    "- transform a column while selecting it\n",
    "- select a column in lazy mode\n",
    "\n",
    "Selecting columns with expressions is key to performant analysis as:\n",
    "- this approach works in lazy mode\n",
    "- when we select and transform multiple columns Polars will run these selections in paralell\n",
    "\n",
    "We introduce the range of methods we can use to select columns with an expression in this lecture."
   ]
  },
  {
   "cell_type": "code",
   "execution_count": 1,
   "id": "9fd758ec-0727-4c1e-87ae-04fd47b267b6",
   "metadata": {
    "tags": [],
    "ExecuteTime": {
     "end_time": "2024-03-04T13:38:59.581083100Z",
     "start_time": "2024-03-04T13:38:59.361068900Z"
    }
   },
   "outputs": [],
   "source": [
    "import polars as pl"
   ]
  },
  {
   "cell_type": "code",
   "execution_count": 2,
   "id": "43c1d48b-a1cc-4374-bfd5-83817c491923",
   "metadata": {
    "tags": [],
    "ExecuteTime": {
     "end_time": "2024-03-04T13:39:00.884185200Z",
     "start_time": "2024-03-04T13:39:00.865182800Z"
    }
   },
   "outputs": [],
   "source": [
    "csv_file = \"data_titanic.csv\""
   ]
  },
  {
   "cell_type": "code",
   "execution_count": 3,
   "id": "23ec4b89-5819-4654-a3c8-d43a7a7b31fd",
   "metadata": {
    "tags": [],
    "ExecuteTime": {
     "end_time": "2024-03-04T13:39:03.162420Z",
     "start_time": "2024-03-04T13:39:01.862475900Z"
    }
   },
   "outputs": [
    {
     "data": {
      "text/plain": "shape: (3, 12)\n┌─────────────┬──────────┬────────┬───────────────────┬───┬───────────┬─────────┬───────┬──────────┐\n│ PassengerId ┆ Survived ┆ Pclass ┆ Name              ┆ … ┆ Ticket    ┆ Fare    ┆ Cabin ┆ Embarked │\n│ ---         ┆ ---      ┆ ---    ┆ ---               ┆   ┆ ---       ┆ ---     ┆ ---   ┆ ---      │\n│ i64         ┆ i64      ┆ i64    ┆ str               ┆   ┆ str       ┆ f64     ┆ str   ┆ str      │\n╞═════════════╪══════════╪════════╪═══════════════════╪═══╪═══════════╪═════════╪═══════╪══════════╡\n│ 1           ┆ 0        ┆ 3      ┆ Braund, Mr. Owen  ┆ … ┆ A/5 21171 ┆ 7.25    ┆ null  ┆ S        │\n│             ┆          ┆        ┆ Harris            ┆   ┆           ┆         ┆       ┆          │\n│ 2           ┆ 1        ┆ 1      ┆ Cumings, Mrs.     ┆ … ┆ PC 17599  ┆ 71.2833 ┆ C85   ┆ C        │\n│             ┆          ┆        ┆ John Bradley      ┆   ┆           ┆         ┆       ┆          │\n│             ┆          ┆        ┆ (Flor…            ┆   ┆           ┆         ┆       ┆          │\n│ 3           ┆ 1        ┆ 3      ┆ Heikkinen, Miss.  ┆ … ┆ STON/O2.  ┆ 7.925   ┆ null  ┆ S        │\n│             ┆          ┆        ┆ Laina             ┆   ┆ 3101282   ┆         ┆       ┆          │\n└─────────────┴──────────┴────────┴───────────────────┴───┴───────────┴─────────┴───────┴──────────┘",
      "text/html": "<div><style>\n.dataframe > thead > tr,\n.dataframe > tbody > tr {\n  text-align: right;\n  white-space: pre-wrap;\n}\n</style>\n<small>shape: (3, 12)</small><table border=\"1\" class=\"dataframe\"><thead><tr><th>PassengerId</th><th>Survived</th><th>Pclass</th><th>Name</th><th>Sex</th><th>Age</th><th>SibSp</th><th>Parch</th><th>Ticket</th><th>Fare</th><th>Cabin</th><th>Embarked</th></tr><tr><td>i64</td><td>i64</td><td>i64</td><td>str</td><td>str</td><td>f64</td><td>i64</td><td>i64</td><td>str</td><td>f64</td><td>str</td><td>str</td></tr></thead><tbody><tr><td>1</td><td>0</td><td>3</td><td>&quot;Braund, Mr. Ow…</td><td>&quot;male&quot;</td><td>22.0</td><td>1</td><td>0</td><td>&quot;A/5 21171&quot;</td><td>7.25</td><td>null</td><td>&quot;S&quot;</td></tr><tr><td>2</td><td>1</td><td>1</td><td>&quot;Cumings, Mrs. …</td><td>&quot;female&quot;</td><td>38.0</td><td>1</td><td>0</td><td>&quot;PC 17599&quot;</td><td>71.2833</td><td>&quot;C85&quot;</td><td>&quot;C&quot;</td></tr><tr><td>3</td><td>1</td><td>3</td><td>&quot;Heikkinen, Mis…</td><td>&quot;female&quot;</td><td>26.0</td><td>0</td><td>0</td><td>&quot;STON/O2. 31012…</td><td>7.925</td><td>null</td><td>&quot;S&quot;</td></tr></tbody></table></div>"
     },
     "execution_count": 3,
     "metadata": {},
     "output_type": "execute_result"
    }
   ],
   "source": [
    "df = pl.read_csv(csv_file)\n",
    "df.head(3)"
   ]
  },
  {
   "cell_type": "markdown",
   "id": "c7ee8c91-cfd2-42a4-8c15-cc0e6a2215f7",
   "metadata": {},
   "source": [
    "## Selecting a single column with a string\n",
    "\n",
    "We can choose a column with a string in the `select` method"
   ]
  },
  {
   "cell_type": "code",
   "execution_count": 4,
   "id": "565f8f0e-b6de-4f03-8bba-e347eb96588b",
   "metadata": {
    "tags": [],
    "ExecuteTime": {
     "end_time": "2024-03-04T13:39:27.699896900Z",
     "start_time": "2024-03-04T13:39:27.684863100Z"
    }
   },
   "outputs": [
    {
     "data": {
      "text/plain": "shape: (3, 1)\n┌──────┐\n│ Age  │\n│ ---  │\n│ f64  │\n╞══════╡\n│ 22.0 │\n│ 38.0 │\n│ 26.0 │\n└──────┘",
      "text/html": "<div><style>\n.dataframe > thead > tr,\n.dataframe > tbody > tr {\n  text-align: right;\n  white-space: pre-wrap;\n}\n</style>\n<small>shape: (3, 1)</small><table border=\"1\" class=\"dataframe\"><thead><tr><th>Age</th></tr><tr><td>f64</td></tr></thead><tbody><tr><td>22.0</td></tr><tr><td>38.0</td></tr><tr><td>26.0</td></tr></tbody></table></div>"
     },
     "execution_count": 4,
     "metadata": {},
     "output_type": "execute_result"
    }
   ],
   "source": [
    "(\n",
    "    df\n",
    "    .select('Age')\n",
    "    .head(3)\n",
    ")"
   ]
  },
  {
   "cell_type": "markdown",
   "id": "7db8249f-f94e-4df1-9499-c3a65ce8fae4",
   "metadata": {},
   "source": [
    "Note that the output of `select` is always a `DataFrame` rather than a `Series` even if just one column is selected.\n",
    "\n",
    "We can use `to_series` if we want a `Series`"
   ]
  },
  {
   "cell_type": "code",
   "execution_count": 6,
   "id": "cd98da7a-c935-42b0-a636-1cf2126c9be0",
   "metadata": {
    "tags": [],
    "ExecuteTime": {
     "end_time": "2024-03-04T13:40:00.432291900Z",
     "start_time": "2024-03-04T13:40:00.393447800Z"
    }
   },
   "outputs": [
    {
     "data": {
      "text/plain": "shape: (3,)\nSeries: 'Age' [f64]\n[\n\t22.0\n\t38.0\n\t26.0\n]",
      "text/html": "<div><style>\n.dataframe > thead > tr,\n.dataframe > tbody > tr {\n  text-align: right;\n  white-space: pre-wrap;\n}\n</style>\n<small>shape: (3,)</small><table border=\"1\" class=\"dataframe\"><thead><tr><th>Age</th></tr><tr><td>f64</td></tr></thead><tbody><tr><td>22.0</td></tr><tr><td>38.0</td></tr><tr><td>26.0</td></tr></tbody></table></div>"
     },
     "execution_count": 6,
     "metadata": {},
     "output_type": "execute_result"
    }
   ],
   "source": [
    "(\n",
    "    df\n",
    "    .select('Age')\n",
    "    .to_series()\n",
    "    .head(3)\n",
    ")"
   ]
  },
  {
   "cell_type": "markdown",
   "id": "fc5463aa-8688-4940-b730-b243b7ebcf4f",
   "metadata": {},
   "source": [
    "### Selecting multiple columns\n",
    "\n",
    "We can select multiple columns with comma-separated strings"
   ]
  },
  {
   "cell_type": "code",
   "execution_count": 7,
   "id": "ff9cce04-385e-49c8-8aa5-8a7a2f0e83a3",
   "metadata": {
    "tags": [],
    "ExecuteTime": {
     "end_time": "2024-03-04T13:40:11.001838700Z",
     "start_time": "2024-03-04T13:40:10.915821600Z"
    }
   },
   "outputs": [
    {
     "data": {
      "text/plain": "shape: (3, 2)\n┌──────────┬──────┐\n│ Survived ┆ Age  │\n│ ---      ┆ ---  │\n│ i64      ┆ f64  │\n╞══════════╪══════╡\n│ 0        ┆ 22.0 │\n│ 1        ┆ 38.0 │\n│ 1        ┆ 26.0 │\n└──────────┴──────┘",
      "text/html": "<div><style>\n.dataframe > thead > tr,\n.dataframe > tbody > tr {\n  text-align: right;\n  white-space: pre-wrap;\n}\n</style>\n<small>shape: (3, 2)</small><table border=\"1\" class=\"dataframe\"><thead><tr><th>Survived</th><th>Age</th></tr><tr><td>i64</td><td>f64</td></tr></thead><tbody><tr><td>0</td><td>22.0</td></tr><tr><td>1</td><td>38.0</td></tr><tr><td>1</td><td>26.0</td></tr></tbody></table></div>"
     },
     "execution_count": 7,
     "metadata": {},
     "output_type": "execute_result"
    }
   ],
   "source": [
    "(\n",
    "    df\n",
    "    .select(\n",
    "        'Survived','Age'\n",
    "    )\n",
    "    .head(3)\n",
    ")"
   ]
  },
  {
   "cell_type": "markdown",
   "id": "31645f89-a8c9-4321-829f-375b9937448a",
   "metadata": {},
   "source": [
    "Or we can pass a list of column names to `select`"
   ]
  },
  {
   "cell_type": "code",
   "execution_count": 8,
   "id": "ada2519b-2869-4ac1-991d-fc78849f9f38",
   "metadata": {
    "tags": [],
    "ExecuteTime": {
     "end_time": "2024-03-04T13:40:27.584646500Z",
     "start_time": "2024-03-04T13:40:27.555103900Z"
    }
   },
   "outputs": [
    {
     "data": {
      "text/plain": "shape: (3, 2)\n┌──────────┬──────┐\n│ Survived ┆ Age  │\n│ ---      ┆ ---  │\n│ i64      ┆ f64  │\n╞══════════╪══════╡\n│ 0        ┆ 22.0 │\n│ 1        ┆ 38.0 │\n│ 1        ┆ 26.0 │\n└──────────┴──────┘",
      "text/html": "<div><style>\n.dataframe > thead > tr,\n.dataframe > tbody > tr {\n  text-align: right;\n  white-space: pre-wrap;\n}\n</style>\n<small>shape: (3, 2)</small><table border=\"1\" class=\"dataframe\"><thead><tr><th>Survived</th><th>Age</th></tr><tr><td>i64</td><td>f64</td></tr></thead><tbody><tr><td>0</td><td>22.0</td></tr><tr><td>1</td><td>38.0</td></tr><tr><td>1</td><td>26.0</td></tr></tbody></table></div>"
     },
     "execution_count": 8,
     "metadata": {},
     "output_type": "execute_result"
    }
   ],
   "source": [
    "(\n",
    "    df\n",
    "    .select(\n",
    "        ['Survived','Age']\n",
    "    )\n",
    "    .head(3)\n",
    ")"
   ]
  },
  {
   "cell_type": "markdown",
   "id": "69ad6126-5f26-48af-ba4f-9369b87bcc56",
   "metadata": {},
   "source": [
    "There is no performance difference between using comma-separated column names or a list of column names."
   ]
  },
  {
   "cell_type": "markdown",
   "id": "c57752da-a1df-4b29-852f-e6cd8ff49f67",
   "metadata": {},
   "source": [
    "## Differences between using `select` and `[]`\n",
    "\n",
    "- `[]` indexing can only be used in eager mode, but **`select` can also be used in lazy mode**\n",
    "- expressions in `select` can be **optimised** in lazy mode by the query optimiser\n",
    "- multiple expressions in `select` can be run in *parallel*\n",
    "\n",
    "Get in the habit of using `select` as your default"
   ]
  },
  {
   "cell_type": "markdown",
   "id": "040099aa-a68d-48b9-885a-60f811315a4c",
   "metadata": {},
   "source": [
    "## Selecting columns with an expression\n",
    "\n",
    "We can select a column with an expression in the `select` method"
   ]
  },
  {
   "cell_type": "code",
   "execution_count": 9,
   "id": "087f185a-a348-470a-9440-35c0a3350d58",
   "metadata": {
    "tags": [],
    "ExecuteTime": {
     "end_time": "2024-03-04T13:42:48.299315600Z",
     "start_time": "2024-03-04T13:42:48.283315Z"
    }
   },
   "outputs": [
    {
     "data": {
      "text/plain": "shape: (3, 1)\n┌──────┐\n│ Age  │\n│ ---  │\n│ f64  │\n╞══════╡\n│ 22.0 │\n│ 38.0 │\n│ 26.0 │\n└──────┘",
      "text/html": "<div><style>\n.dataframe > thead > tr,\n.dataframe > tbody > tr {\n  text-align: right;\n  white-space: pre-wrap;\n}\n</style>\n<small>shape: (3, 1)</small><table border=\"1\" class=\"dataframe\"><thead><tr><th>Age</th></tr><tr><td>f64</td></tr></thead><tbody><tr><td>22.0</td></tr><tr><td>38.0</td></tr><tr><td>26.0</td></tr></tbody></table></div>"
     },
     "execution_count": 9,
     "metadata": {},
     "output_type": "execute_result"
    }
   ],
   "source": [
    "(\n",
    "    df\n",
    "    .select(\n",
    "        pl.col('Age')\n",
    "    )\n",
    "    .head(3)\n",
    ")"
   ]
  },
  {
   "cell_type": "markdown",
   "id": "58f5a243-65c7-4164-bd58-fe3abf41bfe8",
   "metadata": {},
   "source": [
    "In practice when we pass a string instead of an expression (as above) polars uses that string to create an expression internally."
   ]
  },
  {
   "cell_type": "markdown",
   "id": "be9923ea-8410-4f04-aa62-bdd865b0156c",
   "metadata": {},
   "source": [
    "## Selecting and transforming a column with an expression\n",
    "We can apply a transformation to a column before we output it.\n",
    "\n",
    "In this example we use the `round` expression to round the values of the `Fare` column"
   ]
  },
  {
   "cell_type": "code",
   "execution_count": 10,
   "id": "c8ee3aa2-c2d9-4dc5-85da-9d3f419ebd68",
   "metadata": {
    "tags": [],
    "ExecuteTime": {
     "end_time": "2024-03-04T13:43:15.865599600Z",
     "start_time": "2024-03-04T13:43:15.833599800Z"
    }
   },
   "outputs": [
    {
     "data": {
      "text/plain": "shape: (3, 1)\n┌──────┐\n│ Fare │\n│ ---  │\n│ f64  │\n╞══════╡\n│ 7.0  │\n│ 71.0 │\n│ 8.0  │\n└──────┘",
      "text/html": "<div><style>\n.dataframe > thead > tr,\n.dataframe > tbody > tr {\n  text-align: right;\n  white-space: pre-wrap;\n}\n</style>\n<small>shape: (3, 1)</small><table border=\"1\" class=\"dataframe\"><thead><tr><th>Fare</th></tr><tr><td>f64</td></tr></thead><tbody><tr><td>7.0</td></tr><tr><td>71.0</td></tr><tr><td>8.0</td></tr></tbody></table></div>"
     },
     "execution_count": 10,
     "metadata": {},
     "output_type": "execute_result"
    }
   ],
   "source": [
    "(\n",
    "    df\n",
    "    .select(\n",
    "        pl.col('Fare').round(0)\n",
    "    )\n",
    "    .head(3)\n",
    ")"
   ]
  },
  {
   "cell_type": "markdown",
   "id": "57b25bfb-853a-4845-8786-bd9a5c33ecca",
   "metadata": {},
   "source": [
    "We will see many more examples where we use expressions to transform data as we go through the course."
   ]
  },
  {
   "cell_type": "markdown",
   "id": "e7c2106f-d021-4bed-8b84-d41cafef0fa3",
   "metadata": {},
   "source": [
    "### Selecting multiple columns with a list of expressions\n",
    "\n",
    "We can also pass multiple expressions seperated by commas or in a `list`. \n",
    "\n",
    "In this case we use the `alias` expression to change the name of one column in the output"
   ]
  },
  {
   "cell_type": "code",
   "execution_count": 11,
   "id": "c7a3c61c-d875-4a52-8609-6a7eeb50f64b",
   "metadata": {
    "tags": [],
    "ExecuteTime": {
     "end_time": "2024-03-04T13:43:58.777350300Z",
     "start_time": "2024-03-04T13:43:58.760299300Z"
    }
   },
   "outputs": [
    {
     "data": {
      "text/plain": "shape: (3, 2)\n┌─────────┬─────────────┐\n│ Fare    ┆ roundedFare │\n│ ---     ┆ ---         │\n│ f64     ┆ f64         │\n╞═════════╪═════════════╡\n│ 7.25    ┆ 7.0         │\n│ 71.2833 ┆ 71.0        │\n│ 7.925   ┆ 8.0         │\n└─────────┴─────────────┘",
      "text/html": "<div><style>\n.dataframe > thead > tr,\n.dataframe > tbody > tr {\n  text-align: right;\n  white-space: pre-wrap;\n}\n</style>\n<small>shape: (3, 2)</small><table border=\"1\" class=\"dataframe\"><thead><tr><th>Fare</th><th>roundedFare</th></tr><tr><td>f64</td><td>f64</td></tr></thead><tbody><tr><td>7.25</td><td>7.0</td></tr><tr><td>71.2833</td><td>71.0</td></tr><tr><td>7.925</td><td>8.0</td></tr></tbody></table></div>"
     },
     "execution_count": 11,
     "metadata": {},
     "output_type": "execute_result"
    }
   ],
   "source": [
    "(\n",
    "    df\n",
    "    .select(\n",
    "        pl.col('Fare'),\n",
    "        pl.col('Fare').round(0).alias('roundedFare')\n",
    "    )\n",
    "    .head(3)\n",
    ")"
   ]
  },
  {
   "cell_type": "markdown",
   "id": "d2fa6106-a93c-4bbf-8ecb-3d27784cd2ce",
   "metadata": {},
   "source": [
    "Recall that when you have multiple expressions Polars runs them in parallel."
   ]
  },
  {
   "cell_type": "markdown",
   "id": "b7bf5c91-90f5-4282-b218-1d74dbff59b1",
   "metadata": {},
   "source": [
    "## Returning a single value\n",
    "If you have a `DataFrame` with a single value - that is a `DataFrame` with shape `[1,1]` you can\n",
    "return that value with square brackets or the `item` method"
   ]
  },
  {
   "cell_type": "code",
   "execution_count": 12,
   "id": "d9aad62d-1371-4d89-a87c-7ce4c2e14f7e",
   "metadata": {
    "tags": [],
    "ExecuteTime": {
     "end_time": "2024-03-04T13:44:44.312794600Z",
     "start_time": "2024-03-04T13:44:44.292798500Z"
    }
   },
   "outputs": [
    {
     "data": {
      "text/plain": "'Braund, Mr. Owen Harris'"
     },
     "execution_count": 12,
     "metadata": {},
     "output_type": "execute_result"
    }
   ],
   "source": [
    "(\n",
    "    pl.read_csv(csv_file)\n",
    "    .select(\n",
    "        pl.col('Name').first()\n",
    "    )\n",
    "    .item()\n",
    ")"
   ]
  },
  {
   "cell_type": "markdown",
   "id": "790937a3-d3e6-4114-851e-6d7311c8d032",
   "metadata": {},
   "source": [
    "## Selecting columns in lazy mode\n",
    "\n",
    "If we apply `select` in lazy mode it changes the `PROJECT` part of the optimised query plan"
   ]
  },
  {
   "cell_type": "code",
   "execution_count": 13,
   "id": "a0e82752-5133-4d2e-84f4-13905b262c17",
   "metadata": {
    "tags": [],
    "ExecuteTime": {
     "end_time": "2024-03-04T13:45:14.386719400Z",
     "start_time": "2024-03-04T13:45:14.364658900Z"
    }
   },
   "outputs": [
    {
     "name": "stdout",
     "output_type": "stream",
     "text": [
      "FAST_PROJECT: [Survived, Age]\n",
      "\n",
      "    Csv SCAN data_titanic.csv\n",
      "    PROJECT 2/12 COLUMNS\n"
     ]
    }
   ],
   "source": [
    "df = (\n",
    "    pl.scan_csv(csv_file)\n",
    "    .select(['Survived','Age'])\n",
    ")\n",
    "print(df.explain())"
   ]
  },
  {
   "cell_type": "markdown",
   "id": "794791b7-18a0-472c-8b9b-44453cf2a9d2",
   "metadata": {},
   "source": [
    "The optimized query plan now has:\n",
    "\n",
    "`PROJECT 2/12 COLUMNS`\n",
    "\n",
    "This means that Polars only loads the `Survived` and `Age` columns into memory when reading the CSV.\n",
    "\n",
    "Reducing the number of columns reduces time and memory usage \n",
    "\n",
    "The `FAST_PROJECT` part of the query plan doesn't have any implications for users but is described here if you are curious... \n",
    "\n",
    "> The `FAST_PROJECT` happens when `select` is applied to `scan_csv` but **no transformations are applied** to any columns.\n",
    "\n",
    "> In this simpler case with column selections and no transformations Polars modifies its standard parallel approach and does the column selection in serial. This is faster than the standard method in parallel and so it is called `FAST_PROJECT`."
   ]
  },
  {
   "cell_type": "markdown",
   "id": "7f478e9c-3955-4f66-adb3-d0dc9afddea0",
   "metadata": {},
   "source": [
    "## Exercises\n",
    "\n",
    "In the exercises you will develop your understanding of:\n",
    "- selecting columns using the `select` method\n",
    "- transforming columns within the `select` method\n",
    "- using `select` in lazy mode"
   ]
  },
  {
   "cell_type": "markdown",
   "id": "c6ff209d-eb8d-479c-bcea-d29ec24fd392",
   "metadata": {},
   "source": [
    "### Exercise 1\n",
    "\n",
    "Select the `Age` and `Survived` columns using the Expression API\n",
    "\n",
    "Do this twice:\n",
    "- once using strings\n",
    "- once using expressions"
   ]
  },
  {
   "cell_type": "code",
   "execution_count": 15,
   "id": "e26d45cc-dba2-4437-a99b-8a981c1370ac",
   "metadata": {
    "tags": [],
    "ExecuteTime": {
     "end_time": "2024-03-04T13:48:02.831539600Z",
     "start_time": "2024-03-04T13:48:02.804542700Z"
    }
   },
   "outputs": [
    {
     "data": {
      "text/plain": "shape: (3, 2)\n┌──────┬──────────┐\n│ Age  ┆ Survived │\n│ ---  ┆ ---      │\n│ f64  ┆ i64      │\n╞══════╪══════════╡\n│ 22.0 ┆ 0        │\n│ 38.0 ┆ 1        │\n│ 26.0 ┆ 1        │\n└──────┴──────────┘",
      "text/html": "<div><style>\n.dataframe > thead > tr,\n.dataframe > tbody > tr {\n  text-align: right;\n  white-space: pre-wrap;\n}\n</style>\n<small>shape: (3, 2)</small><table border=\"1\" class=\"dataframe\"><thead><tr><th>Age</th><th>Survived</th></tr><tr><td>f64</td><td>i64</td></tr></thead><tbody><tr><td>22.0</td><td>0</td></tr><tr><td>38.0</td><td>1</td></tr><tr><td>26.0</td><td>1</td></tr></tbody></table></div>"
     },
     "execution_count": 15,
     "metadata": {},
     "output_type": "execute_result"
    }
   ],
   "source": [
    "df = pl.read_csv(csv_file)\n",
    "df.select(pl.col('Age'),pl.col('Survived')).head(3)\n"
   ]
  },
  {
   "cell_type": "markdown",
   "id": "c1c15c07-a563-4368-9e8a-ae2b6628ed49",
   "metadata": {},
   "source": [
    "### Exercise 2\n",
    "Select all rows where `Age` is greater than 30 and output the `Age` and `Survived` columns"
   ]
  },
  {
   "cell_type": "code",
   "execution_count": 20,
   "id": "3979c416-8da6-44cc-8408-a5930159bdd4",
   "metadata": {
    "tags": [],
    "ExecuteTime": {
     "end_time": "2024-03-04T13:50:25.286386600Z",
     "start_time": "2024-03-04T13:50:25.260385500Z"
    }
   },
   "outputs": [
    {
     "data": {
      "text/plain": "shape: (3, 2)\n┌──────┬──────────┐\n│ Age  ┆ Survived │\n│ ---  ┆ ---      │\n│ f64  ┆ i64      │\n╞══════╪══════════╡\n│ 38.0 ┆ 1        │\n│ 35.0 ┆ 1        │\n│ 35.0 ┆ 0        │\n└──────┴──────────┘",
      "text/html": "<div><style>\n.dataframe > thead > tr,\n.dataframe > tbody > tr {\n  text-align: right;\n  white-space: pre-wrap;\n}\n</style>\n<small>shape: (3, 2)</small><table border=\"1\" class=\"dataframe\"><thead><tr><th>Age</th><th>Survived</th></tr><tr><td>f64</td><td>i64</td></tr></thead><tbody><tr><td>38.0</td><td>1</td></tr><tr><td>35.0</td><td>1</td></tr><tr><td>35.0</td><td>0</td></tr></tbody></table></div>"
     },
     "execution_count": 20,
     "metadata": {},
     "output_type": "execute_result"
    }
   ],
   "source": [
    "df = pl.read_csv(csv_file)\n",
    "df.filter(pl.col('Age')>30).select(['Age','Survived']).head(3)"
   ]
  },
  {
   "cell_type": "markdown",
   "id": "3f4256c0-868c-4878-85a2-eaf501ce1289",
   "metadata": {},
   "source": [
    "### Exercise 3\n",
    "Output a one-column DataFrame where the column is the `min` of the `Age` column"
   ]
  },
  {
   "cell_type": "code",
   "execution_count": 24,
   "id": "b0070d82-eb35-4e5c-8187-c8daeb651c38",
   "metadata": {
    "tags": [],
    "ExecuteTime": {
     "end_time": "2024-03-04T13:52:21.238427500Z",
     "start_time": "2024-03-04T13:52:21.196422100Z"
    }
   },
   "outputs": [
    {
     "data": {
      "text/plain": "shape: (891, 13)\n┌─────────────┬──────────┬────────┬─────────────────────┬───┬─────────┬───────┬──────────┬─────────┐\n│ PassengerId ┆ Survived ┆ Pclass ┆ Name                ┆ … ┆ Fare    ┆ Cabin ┆ Embarked ┆ min_age │\n│ ---         ┆ ---      ┆ ---    ┆ ---                 ┆   ┆ ---     ┆ ---   ┆ ---      ┆ ---     │\n│ i64         ┆ i64      ┆ i64    ┆ str                 ┆   ┆ f64     ┆ str   ┆ str      ┆ f64     │\n╞═════════════╪══════════╪════════╪═════════════════════╪═══╪═════════╪═══════╪══════════╪═════════╡\n│ 1           ┆ 0        ┆ 3      ┆ Braund, Mr. Owen    ┆ … ┆ 7.25    ┆ null  ┆ S        ┆ 0.42    │\n│             ┆          ┆        ┆ Harris              ┆   ┆         ┆       ┆          ┆         │\n│ 2           ┆ 1        ┆ 1      ┆ Cumings, Mrs. John  ┆ … ┆ 71.2833 ┆ C85   ┆ C        ┆ 0.42    │\n│             ┆          ┆        ┆ Bradley (Flor…      ┆   ┆         ┆       ┆          ┆         │\n│ 3           ┆ 1        ┆ 3      ┆ Heikkinen, Miss.    ┆ … ┆ 7.925   ┆ null  ┆ S        ┆ 0.42    │\n│             ┆          ┆        ┆ Laina               ┆   ┆         ┆       ┆          ┆         │\n│ 4           ┆ 1        ┆ 1      ┆ Futrelle, Mrs.      ┆ … ┆ 53.1    ┆ C123  ┆ S        ┆ 0.42    │\n│             ┆          ┆        ┆ Jacques Heath (Li…  ┆   ┆         ┆       ┆          ┆         │\n│ 5           ┆ 0        ┆ 3      ┆ Allen, Mr. William  ┆ … ┆ 8.05    ┆ null  ┆ S        ┆ 0.42    │\n│             ┆          ┆        ┆ Henry               ┆   ┆         ┆       ┆          ┆         │\n│ …           ┆ …        ┆ …      ┆ …                   ┆ … ┆ …       ┆ …     ┆ …        ┆ …       │\n│ 887         ┆ 0        ┆ 2      ┆ Montvila, Rev.      ┆ … ┆ 13.0    ┆ null  ┆ S        ┆ 0.42    │\n│             ┆          ┆        ┆ Juozas              ┆   ┆         ┆       ┆          ┆         │\n│ 888         ┆ 1        ┆ 1      ┆ Graham, Miss.       ┆ … ┆ 30.0    ┆ B42   ┆ S        ┆ 0.42    │\n│             ┆          ┆        ┆ Margaret Edith      ┆   ┆         ┆       ┆          ┆         │\n│ 889         ┆ 0        ┆ 3      ┆ Johnston, Miss.     ┆ … ┆ 23.45   ┆ null  ┆ S        ┆ 0.42    │\n│             ┆          ┆        ┆ Catherine Helen …   ┆   ┆         ┆       ┆          ┆         │\n│ 890         ┆ 1        ┆ 1      ┆ Behr, Mr. Karl      ┆ … ┆ 30.0    ┆ C148  ┆ C        ┆ 0.42    │\n│             ┆          ┆        ┆ Howell              ┆   ┆         ┆       ┆          ┆         │\n│ 891         ┆ 0        ┆ 3      ┆ Dooley, Mr. Patrick ┆ … ┆ 7.75    ┆ null  ┆ Q        ┆ 0.42    │\n└─────────────┴──────────┴────────┴─────────────────────┴───┴─────────┴───────┴──────────┴─────────┘",
      "text/html": "<div><style>\n.dataframe > thead > tr,\n.dataframe > tbody > tr {\n  text-align: right;\n  white-space: pre-wrap;\n}\n</style>\n<small>shape: (891, 13)</small><table border=\"1\" class=\"dataframe\"><thead><tr><th>PassengerId</th><th>Survived</th><th>Pclass</th><th>Name</th><th>Sex</th><th>Age</th><th>SibSp</th><th>Parch</th><th>Ticket</th><th>Fare</th><th>Cabin</th><th>Embarked</th><th>min_age</th></tr><tr><td>i64</td><td>i64</td><td>i64</td><td>str</td><td>str</td><td>f64</td><td>i64</td><td>i64</td><td>str</td><td>f64</td><td>str</td><td>str</td><td>f64</td></tr></thead><tbody><tr><td>1</td><td>0</td><td>3</td><td>&quot;Braund, Mr. Ow…</td><td>&quot;male&quot;</td><td>22.0</td><td>1</td><td>0</td><td>&quot;A/5 21171&quot;</td><td>7.25</td><td>null</td><td>&quot;S&quot;</td><td>0.42</td></tr><tr><td>2</td><td>1</td><td>1</td><td>&quot;Cumings, Mrs. …</td><td>&quot;female&quot;</td><td>38.0</td><td>1</td><td>0</td><td>&quot;PC 17599&quot;</td><td>71.2833</td><td>&quot;C85&quot;</td><td>&quot;C&quot;</td><td>0.42</td></tr><tr><td>3</td><td>1</td><td>3</td><td>&quot;Heikkinen, Mis…</td><td>&quot;female&quot;</td><td>26.0</td><td>0</td><td>0</td><td>&quot;STON/O2. 31012…</td><td>7.925</td><td>null</td><td>&quot;S&quot;</td><td>0.42</td></tr><tr><td>4</td><td>1</td><td>1</td><td>&quot;Futrelle, Mrs.…</td><td>&quot;female&quot;</td><td>35.0</td><td>1</td><td>0</td><td>&quot;113803&quot;</td><td>53.1</td><td>&quot;C123&quot;</td><td>&quot;S&quot;</td><td>0.42</td></tr><tr><td>5</td><td>0</td><td>3</td><td>&quot;Allen, Mr. Wil…</td><td>&quot;male&quot;</td><td>35.0</td><td>0</td><td>0</td><td>&quot;373450&quot;</td><td>8.05</td><td>null</td><td>&quot;S&quot;</td><td>0.42</td></tr><tr><td>&hellip;</td><td>&hellip;</td><td>&hellip;</td><td>&hellip;</td><td>&hellip;</td><td>&hellip;</td><td>&hellip;</td><td>&hellip;</td><td>&hellip;</td><td>&hellip;</td><td>&hellip;</td><td>&hellip;</td><td>&hellip;</td></tr><tr><td>887</td><td>0</td><td>2</td><td>&quot;Montvila, Rev.…</td><td>&quot;male&quot;</td><td>27.0</td><td>0</td><td>0</td><td>&quot;211536&quot;</td><td>13.0</td><td>null</td><td>&quot;S&quot;</td><td>0.42</td></tr><tr><td>888</td><td>1</td><td>1</td><td>&quot;Graham, Miss. …</td><td>&quot;female&quot;</td><td>19.0</td><td>0</td><td>0</td><td>&quot;112053&quot;</td><td>30.0</td><td>&quot;B42&quot;</td><td>&quot;S&quot;</td><td>0.42</td></tr><tr><td>889</td><td>0</td><td>3</td><td>&quot;Johnston, Miss…</td><td>&quot;female&quot;</td><td>null</td><td>1</td><td>2</td><td>&quot;W./C. 6607&quot;</td><td>23.45</td><td>null</td><td>&quot;S&quot;</td><td>0.42</td></tr><tr><td>890</td><td>1</td><td>1</td><td>&quot;Behr, Mr. Karl…</td><td>&quot;male&quot;</td><td>26.0</td><td>0</td><td>0</td><td>&quot;111369&quot;</td><td>30.0</td><td>&quot;C148&quot;</td><td>&quot;C&quot;</td><td>0.42</td></tr><tr><td>891</td><td>0</td><td>3</td><td>&quot;Dooley, Mr. Pa…</td><td>&quot;male&quot;</td><td>32.0</td><td>0</td><td>0</td><td>&quot;370376&quot;</td><td>7.75</td><td>null</td><td>&quot;Q&quot;</td><td>0.42</td></tr></tbody></table></div>"
     },
     "execution_count": 24,
     "metadata": {},
     "output_type": "execute_result"
    }
   ],
   "source": [
    "(\n",
    "    pl.read_csv(csv_file)\n",
    "    .with_columns(\n",
    "        pl.col('Age').min().alias('min_age')\n",
    "    )\n",
    ")"
   ]
  },
  {
   "cell_type": "markdown",
   "id": "884a29fc-f9cb-483a-97e1-d64b3d478d19",
   "metadata": {},
   "source": [
    "Add another line onto the query to output this single value as a float"
   ]
  },
  {
   "cell_type": "code",
   "execution_count": 31,
   "id": "607c2006-aab3-41ae-8a39-ddbdf46e8f53",
   "metadata": {
    "ExecuteTime": {
     "end_time": "2024-03-04T13:54:06.321919800Z",
     "start_time": "2024-03-04T13:54:06.298852100Z"
    }
   },
   "outputs": [
    {
     "data": {
      "text/plain": "0.42"
     },
     "execution_count": 31,
     "metadata": {},
     "output_type": "execute_result"
    }
   ],
   "source": [
    "df.select('Age').min().item()"
   ]
  },
  {
   "cell_type": "markdown",
   "id": "7b9fad2f-a5a2-47e3-8651-6bc0addb43ce",
   "metadata": {},
   "source": [
    "~Output a one-row DataFrame where the first column is the `min` of the `Age` column and the second column is the `max` of the `Age` column\n",
    "\n",
    "Expand the following cell if you want a hint"
   ]
  },
  {
   "cell_type": "code",
   "execution_count": null,
   "id": "afea77f6-8c47-4a16-a12f-dcc69697f0f1",
   "metadata": {
    "jupyter": {
     "source_hidden": true
    },
    "tags": []
   },
   "outputs": [],
   "source": [
    "#Hint: you cannot have two columns with the same name so you will have to use the `alias` expression "
   ]
  },
  {
   "cell_type": "code",
   "execution_count": 34,
   "id": "919561ac-e2ed-450c-aca8-c1a885e6652a",
   "metadata": {
    "tags": [],
    "ExecuteTime": {
     "end_time": "2024-03-04T13:55:54.054225600Z",
     "start_time": "2024-03-04T13:55:54.011228600Z"
    }
   },
   "outputs": [
    {
     "data": {
      "text/plain": "shape: (2, 1)\n┌──────────┐\n│ column_0 │\n│ ---      │\n│ f64      │\n╞══════════╡\n│ 0.42     │\n│ 80.0     │\n└──────────┘",
      "text/html": "<div><style>\n.dataframe > thead > tr,\n.dataframe > tbody > tr {\n  text-align: right;\n  white-space: pre-wrap;\n}\n</style>\n<small>shape: (2, 1)</small><table border=\"1\" class=\"dataframe\"><thead><tr><th>column_0</th></tr><tr><td>f64</td></tr></thead><tbody><tr><td>0.42</td></tr><tr><td>80.0</td></tr></tbody></table></div>"
     },
     "execution_count": 34,
     "metadata": {},
     "output_type": "execute_result"
    }
   ],
   "source": [
    "(\n",
    "    pl.read_csv(csv_file)\n",
    "    .select(\n",
    "        pl.col('Age').min().alias('min_age'),\n",
    "        pl.col('Age').max().alias('max_age')\n",
    "    ).transpose()\n",
    ")"
   ]
  },
  {
   "cell_type": "markdown",
   "id": "cb99b0c3-6060-4cfa-a501-91d03014328e",
   "metadata": {},
   "source": [
    "### Exercise 4 \n",
    "Using lazy mode, create a query that has the following query plan\n",
    "\n",
    "```\n",
    "FAST_PROJECT: [Age, Pclass, Survived]\n",
    "\n",
    "    CSV SCAN ../data/titanic.csv\n",
    "    PROJECT 3/12 COLUMNS\n",
    "```"
   ]
  },
  {
   "cell_type": "code",
   "execution_count": 37,
   "id": "eb120a48-a0ed-4f02-ac9d-97ae9fc42a3c",
   "metadata": {
    "tags": [],
    "ExecuteTime": {
     "end_time": "2024-03-04T13:57:22.826098Z",
     "start_time": "2024-03-04T13:57:22.782096200Z"
    }
   },
   "outputs": [
    {
     "name": "stdout",
     "output_type": "stream",
     "text": [
      "FAST_PROJECT: [Age, Pclass, Survived]\n",
      "\n",
      "    Csv SCAN data_titanic.csv\n",
      "    PROJECT 3/12 COLUMNS\n"
     ]
    }
   ],
   "source": [
    "print(\n",
    "     pl.scan_csv(csv_file)\n",
    "    .select(\n",
    "         pl.col(['Age','Pclass','Survived']\n",
    "                )\n",
    "     ).explain()\n",
    ")"
   ]
  },
  {
   "cell_type": "markdown",
   "id": "84205876-bba5-4967-81c9-1fc26b3722e1",
   "metadata": {},
   "source": [
    "## Solutions\n",
    "\n",
    "### Solution to Exercise 1\n",
    "Select the `Age` and `Survived` columns using the Expression API\n",
    "\n",
    "Do this twice:\n",
    "- once using strings\n",
    "- once using expressions"
   ]
  },
  {
   "cell_type": "code",
   "execution_count": null,
   "id": "5777e105-4862-439b-ae94-81a57dd4487b",
   "metadata": {
    "jupyter": {
     "source_hidden": true
    },
    "tags": []
   },
   "outputs": [],
   "source": [
    "df = pl.read_csv(csv_file)\n",
    "df.select(['Age','Survived']).head(3)\n",
    "df.select([pl.col('Age'),pl.col('Survived')]).head(3)"
   ]
  },
  {
   "cell_type": "markdown",
   "id": "12ff9426-f7b8-4577-a47c-5ba7a544b5a1",
   "metadata": {},
   "source": [
    "### Solution to Exercise 2\n",
    "Select all rows where `Age` is greater than 30 and output the `Age` and `Survived` columns"
   ]
  },
  {
   "cell_type": "code",
   "execution_count": null,
   "id": "45a80476-a66c-49c9-ab11-e25cef9eb925",
   "metadata": {
    "jupyter": {
     "source_hidden": true
    },
    "tags": []
   },
   "outputs": [],
   "source": [
    "df = pl.read_csv(csv_file)\n",
    "df.filter(pl.col('Age')>30).select(['Age','Survived']).head(3)"
   ]
  },
  {
   "cell_type": "markdown",
   "id": "9dd2ca4b-114e-470d-86c1-89b88ec31024",
   "metadata": {},
   "source": [
    "### Solution to Exercise 3\n",
    "Output a one-column DataFrame where the column is the `min` of the `Age` column"
   ]
  },
  {
   "cell_type": "code",
   "execution_count": 25,
   "id": "6719bb2c-d1cf-4492-afa3-84717b15e7e9",
   "metadata": {
    "jupyter": {
     "source_hidden": true
    },
    "tags": [],
    "ExecuteTime": {
     "end_time": "2024-03-04T13:52:41.327001500Z",
     "start_time": "2024-03-04T13:52:41.291002Z"
    }
   },
   "outputs": [
    {
     "data": {
      "text/plain": "shape: (1, 1)\n┌──────┐\n│ Age  │\n│ ---  │\n│ f64  │\n╞══════╡\n│ 0.42 │\n└──────┘",
      "text/html": "<div><style>\n.dataframe > thead > tr,\n.dataframe > tbody > tr {\n  text-align: right;\n  white-space: pre-wrap;\n}\n</style>\n<small>shape: (1, 1)</small><table border=\"1\" class=\"dataframe\"><thead><tr><th>Age</th></tr><tr><td>f64</td></tr></thead><tbody><tr><td>0.42</td></tr></tbody></table></div>"
     },
     "execution_count": 25,
     "metadata": {},
     "output_type": "execute_result"
    }
   ],
   "source": [
    "(\n",
    "    pl.read_csv(csv_file)\n",
    "    .select(\n",
    "        pl.col('Age').min()\n",
    "    )\n",
    ")"
   ]
  },
  {
   "cell_type": "markdown",
   "id": "b64eab44-ffd1-4694-bde2-a96254f9b0f4",
   "metadata": {},
   "source": [
    "Add another line onto the query to output this single value as a float"
   ]
  },
  {
   "cell_type": "code",
   "execution_count": null,
   "id": "1e8345f4-3dbe-4017-9068-6ad6710ef85a",
   "metadata": {
    "jupyter": {
     "source_hidden": true
    },
    "tags": []
   },
   "outputs": [],
   "source": [
    "(\n",
    "    pl.read_csv(csv_file)\n",
    "    .select(\n",
    "        pl.col('Age').min()\n",
    "    )\n",
    "    .item()\n",
    ")"
   ]
  },
  {
   "cell_type": "markdown",
   "id": "55a1d805-ded7-45f2-a071-9e6ad42a75fa",
   "metadata": {},
   "source": [
    "Output a one-row DataFrame where the first column is the `min` of the `Age` column and the second column is the `max` of the `Age` column\n"
   ]
  },
  {
   "cell_type": "code",
   "execution_count": 35,
   "id": "c9fb1dcb-ffae-4ca1-b91a-319aefcf9ff7",
   "metadata": {
    "jupyter": {
     "source_hidden": true
    },
    "tags": [],
    "ExecuteTime": {
     "end_time": "2024-03-04T13:56:04.528886Z",
     "start_time": "2024-03-04T13:56:04.491886400Z"
    }
   },
   "outputs": [
    {
     "data": {
      "text/plain": "shape: (1, 2)\n┌─────────┬─────────┐\n│ age_max ┆ age_min │\n│ ---     ┆ ---     │\n│ f64     ┆ f64     │\n╞═════════╪═════════╡\n│ 80.0    ┆ 0.42    │\n└─────────┴─────────┘",
      "text/html": "<div><style>\n.dataframe > thead > tr,\n.dataframe > tbody > tr {\n  text-align: right;\n  white-space: pre-wrap;\n}\n</style>\n<small>shape: (1, 2)</small><table border=\"1\" class=\"dataframe\"><thead><tr><th>age_max</th><th>age_min</th></tr><tr><td>f64</td><td>f64</td></tr></thead><tbody><tr><td>80.0</td><td>0.42</td></tr></tbody></table></div>"
     },
     "execution_count": 35,
     "metadata": {},
     "output_type": "execute_result"
    }
   ],
   "source": [
    "(\n",
    "    pl.read_csv(csv_file)\n",
    "    .select(\n",
    "        [\n",
    "            pl.col('Age').max().alias('age_max'),\n",
    "            pl.col('Age').min().alias('age_min')\n",
    "        ]\n",
    "    )\n",
    ")"
   ]
  },
  {
   "cell_type": "markdown",
   "id": "b94f7156-c6d9-4c08-8b12-1003992e6a10",
   "metadata": {},
   "source": [
    "### Solution to Exercise 4\n",
    "```\n",
    "  FAST_PROJECT: [Age, Pclass, Survived]\n",
    "    CSV SCAN ../data/titanic.csv\n",
    "    PROJECT 3/12 COLUMNS\n",
    "```"
   ]
  },
  {
   "cell_type": "code",
   "execution_count": 38,
   "id": "85085662-8982-4a73-98e1-163a9adcaec8",
   "metadata": {
    "jupyter": {
     "source_hidden": true
    },
    "tags": [],
    "ExecuteTime": {
     "end_time": "2024-03-04T13:57:33.668319800Z",
     "start_time": "2024-03-04T13:57:33.623658200Z"
    }
   },
   "outputs": [
    {
     "name": "stdout",
     "output_type": "stream",
     "text": [
      "FAST_PROJECT: [Age, Pclass, Survived]\n",
      "\n",
      "    Csv SCAN data_titanic.csv\n",
      "    PROJECT 3/12 COLUMNS\n"
     ]
    }
   ],
   "source": [
    "print(pl.scan_csv(csv_file).select(['Age','Pclass','Survived']).explain())"
   ]
  },
  {
   "cell_type": "code",
   "execution_count": null,
   "outputs": [],
   "source": [],
   "metadata": {
    "collapsed": false
   }
  }
 ],
 "metadata": {
  "kernelspec": {
   "display_name": "Python 3 (ipykernel)",
   "language": "python",
   "name": "python3"
  },
  "language_info": {
   "codemirror_mode": {
    "name": "ipython",
    "version": 3
   },
   "file_extension": ".py",
   "mimetype": "text/x-python",
   "name": "python",
   "nbconvert_exporter": "python",
   "pygments_lexer": "ipython3",
   "version": "3.10.1"
  }
 },
 "nbformat": 4,
 "nbformat_minor": 5
}
