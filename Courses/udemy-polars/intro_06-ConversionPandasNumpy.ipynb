{
 "cells": [
  {
   "cell_type": "markdown",
   "id": "674913ae-6d37-4d8f-882c-ae2a95292a43",
   "metadata": {},
   "source": [
    "# Conversion to & from Numpy and Pandas\n",
    "By the end of this lecture you will be able to:\n",
    "- convert between Polars and Numpy\n",
    "- convert between Polars and Pandas\n",
    "\n",
    "Key functionality in this notebook requires that your Pandas version is 1.5+, Polars is 0.16.4+ and PyArrow is 11+.\n",
    "\n",
    "Use `pl.show_versions()` to check your installation"
   ]
  },
  {
   "cell_type": "code",
   "execution_count": 1,
   "id": "a350b0f1-ff14-4097-94a2-a4f937b89fcd",
   "metadata": {
    "tags": [],
    "ExecuteTime": {
     "end_time": "2024-03-04T12:18:00.156940800Z",
     "start_time": "2024-03-04T12:17:57.179629200Z"
    }
   },
   "outputs": [],
   "source": [
    "import polars as pl\n",
    "import numpy as np\n",
    "import pandas as pd"
   ]
  },
  {
   "cell_type": "code",
   "execution_count": 2,
   "id": "ee7a4ca2-4a74-41c0-8640-501a2f16a6e6",
   "metadata": {
    "tags": [],
    "ExecuteTime": {
     "end_time": "2024-03-04T12:18:02.968441100Z",
     "start_time": "2024-03-04T12:18:02.935440800Z"
    }
   },
   "outputs": [],
   "source": [
    "csv_file = \"data_titanic.csv\""
   ]
  },
  {
   "cell_type": "code",
   "execution_count": 3,
   "id": "a1c1b14e-6642-43ec-8185-2e0924d8ca85",
   "metadata": {
    "tags": [],
    "ExecuteTime": {
     "end_time": "2024-03-04T12:18:26.471947800Z",
     "start_time": "2024-03-04T12:18:25.369246200Z"
    }
   },
   "outputs": [
    {
     "data": {
      "text/plain": "shape: (3, 12)\n┌─────────────┬──────────┬────────┬───────────────────┬───┬───────────┬─────────┬───────┬──────────┐\n│ PassengerId ┆ Survived ┆ Pclass ┆ Name              ┆ … ┆ Ticket    ┆ Fare    ┆ Cabin ┆ Embarked │\n│ ---         ┆ ---      ┆ ---    ┆ ---               ┆   ┆ ---       ┆ ---     ┆ ---   ┆ ---      │\n│ i64         ┆ i64      ┆ i64    ┆ str               ┆   ┆ str       ┆ f64     ┆ str   ┆ str      │\n╞═════════════╪══════════╪════════╪═══════════════════╪═══╪═══════════╪═════════╪═══════╪══════════╡\n│ 1           ┆ 0        ┆ 3      ┆ Braund, Mr. Owen  ┆ … ┆ A/5 21171 ┆ 7.25    ┆ null  ┆ S        │\n│             ┆          ┆        ┆ Harris            ┆   ┆           ┆         ┆       ┆          │\n│ 2           ┆ 1        ┆ 1      ┆ Cumings, Mrs.     ┆ … ┆ PC 17599  ┆ 71.2833 ┆ C85   ┆ C        │\n│             ┆          ┆        ┆ John Bradley      ┆   ┆           ┆         ┆       ┆          │\n│             ┆          ┆        ┆ (Flor…            ┆   ┆           ┆         ┆       ┆          │\n│ 3           ┆ 1        ┆ 3      ┆ Heikkinen, Miss.  ┆ … ┆ STON/O2.  ┆ 7.925   ┆ null  ┆ S        │\n│             ┆          ┆        ┆ Laina             ┆   ┆ 3101282   ┆         ┆       ┆          │\n└─────────────┴──────────┴────────┴───────────────────┴───┴───────────┴─────────┴───────┴──────────┘",
      "text/html": "<div><style>\n.dataframe > thead > tr,\n.dataframe > tbody > tr {\n  text-align: right;\n  white-space: pre-wrap;\n}\n</style>\n<small>shape: (3, 12)</small><table border=\"1\" class=\"dataframe\"><thead><tr><th>PassengerId</th><th>Survived</th><th>Pclass</th><th>Name</th><th>Sex</th><th>Age</th><th>SibSp</th><th>Parch</th><th>Ticket</th><th>Fare</th><th>Cabin</th><th>Embarked</th></tr><tr><td>i64</td><td>i64</td><td>i64</td><td>str</td><td>str</td><td>f64</td><td>i64</td><td>i64</td><td>str</td><td>f64</td><td>str</td><td>str</td></tr></thead><tbody><tr><td>1</td><td>0</td><td>3</td><td>&quot;Braund, Mr. Ow…</td><td>&quot;male&quot;</td><td>22.0</td><td>1</td><td>0</td><td>&quot;A/5 21171&quot;</td><td>7.25</td><td>null</td><td>&quot;S&quot;</td></tr><tr><td>2</td><td>1</td><td>1</td><td>&quot;Cumings, Mrs. …</td><td>&quot;female&quot;</td><td>38.0</td><td>1</td><td>0</td><td>&quot;PC 17599&quot;</td><td>71.2833</td><td>&quot;C85&quot;</td><td>&quot;C&quot;</td></tr><tr><td>3</td><td>1</td><td>3</td><td>&quot;Heikkinen, Mis…</td><td>&quot;female&quot;</td><td>26.0</td><td>0</td><td>0</td><td>&quot;STON/O2. 31012…</td><td>7.925</td><td>null</td><td>&quot;S&quot;</td></tr></tbody></table></div>"
     },
     "execution_count": 3,
     "metadata": {},
     "output_type": "execute_result"
    }
   ],
   "source": [
    "df = pl.read_csv(csv_file)\n",
    "df.head(3)"
   ]
  },
  {
   "cell_type": "markdown",
   "id": "5c2b3e34-d707-4f38-910c-6f01c220b612",
   "metadata": {},
   "source": [
    "## Convert a `DataFrame` to Numpy\n",
    "\n",
    "To convert a `DataFrame` to Numpy use the `to_numpy` method. This clones (copies) the data."
   ]
  },
  {
   "cell_type": "code",
   "execution_count": 4,
   "id": "72d5aa02-673d-4009-9c7c-32d1b6156e6d",
   "metadata": {
    "tags": [],
    "ExecuteTime": {
     "end_time": "2024-03-04T12:18:36.476186400Z",
     "start_time": "2024-03-04T12:18:36.399137300Z"
    }
   },
   "outputs": [
    {
     "data": {
      "text/plain": "array([[1, 0, 3, ..., 7.25, None, 'S'],\n       [2, 1, 1, ..., 71.2833, 'C85', 'C'],\n       [3, 1, 3, ..., 7.925, None, 'S'],\n       ...,\n       [889, 0, 3, ..., 23.45, None, 'S'],\n       [890, 1, 1, ..., 30.0, 'C148', 'C'],\n       [891, 0, 3, ..., 7.75, None, 'Q']], dtype=object)"
     },
     "execution_count": 4,
     "metadata": {},
     "output_type": "execute_result"
    }
   ],
   "source": [
    "arr = df.to_numpy()\n",
    "arr"
   ]
  },
  {
   "cell_type": "markdown",
   "id": "cec4f71e-88bf-4301-ae28-f3bf95ba94c6",
   "metadata": {},
   "source": [
    "This conversion turns each row into a Numpy `ndarray` and vertically stacks these row-arrays.\n",
    "\n",
    "As the `DataFrame` has a mix of types the Numpy array has an `object` dtype."
   ]
  },
  {
   "cell_type": "markdown",
   "id": "4a6ff6d3-db5d-44b5-bf20-3a96d52bb7f4",
   "metadata": {},
   "source": [
    "If the columns have uniform numeric dtype then the Numpy array has the corresponding dtype.\n",
    "\n",
    "In this example we use `select` to choose the 64-bit floating point columns only for conversion to Numpy. \n",
    "\n",
    "> We cover `select` in more detail in the Section on Selecting columns and transforming dataframes."
   ]
  },
  {
   "cell_type": "code",
   "execution_count": 5,
   "id": "25afb65b-f944-4587-9180-61ecf40e2257",
   "metadata": {
    "ExecuteTime": {
     "end_time": "2024-03-04T12:19:14.822652800Z",
     "start_time": "2024-03-04T12:19:14.791639300Z"
    }
   },
   "outputs": [
    {
     "data": {
      "text/plain": "array([[22.    ,  7.25  ],\n       [38.    , 71.2833],\n       [26.    ,  7.925 ],\n       ...,\n       [    nan, 23.45  ],\n       [26.    , 30.    ],\n       [32.    ,  7.75  ]])"
     },
     "execution_count": 5,
     "metadata": {},
     "output_type": "execute_result"
    }
   ],
   "source": [
    "floats_array = (\n",
    "    df\n",
    "    .select(\n",
    "        pl.col(pl.Float64)\n",
    "    )\n",
    "    .to_numpy()\n",
    ")\n",
    "floats_array"
   ]
  },
  {
   "cell_type": "code",
   "execution_count": 6,
   "id": "52ec4d84-519f-4c7c-aff0-90bc4cbf224c",
   "metadata": {
    "ExecuteTime": {
     "end_time": "2024-03-04T12:19:31.508469800Z",
     "start_time": "2024-03-04T12:19:31.494471400Z"
    }
   },
   "outputs": [
    {
     "data": {
      "text/plain": "dtype('float64')"
     },
     "execution_count": 6,
     "metadata": {},
     "output_type": "execute_result"
    }
   ],
   "source": [
    "floats_array.dtype"
   ]
  },
  {
   "cell_type": "markdown",
   "id": "9827837a-f8f5-4032-8a03-2aed5d46fcd9",
   "metadata": {},
   "source": [
    "Typically it is better to do the conversion to `Numpy` as late as possible in your data processing pipeline in `Polars` is often faster and more memory efficient."
   ]
  },
  {
   "cell_type": "markdown",
   "id": "c9282f92-23f2-4f90-8b5d-77624b931d4d",
   "metadata": {},
   "source": [
    "## Convert Numpy to a `DataFrame`\n",
    "\n",
    "We can create a Polars `DataFrame` from a Numpy array"
   ]
  },
  {
   "cell_type": "code",
   "execution_count": 7,
   "id": "982ba1d3-679d-482e-bd2a-1ba744b1a4e4",
   "metadata": {
    "ExecuteTime": {
     "end_time": "2024-03-04T12:20:46.694786500Z",
     "start_time": "2024-03-04T12:20:46.682784300Z"
    }
   },
   "outputs": [
    {
     "data": {
      "text/plain": "shape: (5, 3)\n┌───────────┬───────────┬───────────┐\n│ column_0  ┆ column_1  ┆ column_2  │\n│ ---       ┆ ---       ┆ ---       │\n│ f64       ┆ f64       ┆ f64       │\n╞═══════════╪═══════════╪═══════════╡\n│ -0.669349 ┆ 2.225443  ┆ 0.382977  │\n│ -1.83319  ┆ 0.027975  ┆ 1.118817  │\n│ -1.494478 ┆ -0.081568 ┆ 1.692512  │\n│ 1.230934  ┆ 0.953518  ┆ 1.069817  │\n│ 0.889615  ┆ -0.299069 ┆ -0.908479 │\n└───────────┴───────────┴───────────┘",
      "text/html": "<div><style>\n.dataframe > thead > tr,\n.dataframe > tbody > tr {\n  text-align: right;\n  white-space: pre-wrap;\n}\n</style>\n<small>shape: (5, 3)</small><table border=\"1\" class=\"dataframe\"><thead><tr><th>column_0</th><th>column_1</th><th>column_2</th></tr><tr><td>f64</td><td>f64</td><td>f64</td></tr></thead><tbody><tr><td>-0.669349</td><td>2.225443</td><td>0.382977</td></tr><tr><td>-1.83319</td><td>0.027975</td><td>1.118817</td></tr><tr><td>-1.494478</td><td>-0.081568</td><td>1.692512</td></tr><tr><td>1.230934</td><td>0.953518</td><td>1.069817</td></tr><tr><td>0.889615</td><td>-0.299069</td><td>-0.908479</td></tr></tbody></table></div>"
     },
     "execution_count": 7,
     "metadata": {},
     "output_type": "execute_result"
    }
   ],
   "source": [
    "rand_array = np.random.standard_normal((5,3))\n",
    "(\n",
    "    pl.DataFrame(\n",
    "        rand_array,\n",
    "    )\n",
    ")"
   ]
  },
  {
   "cell_type": "markdown",
   "id": "2b3cecc2-597c-4ed8-82b7-fab6f244f809",
   "metadata": {},
   "source": [
    "We can optionally pass a list of column names to `pl.DataFrame` if we want to specify these.\n",
    "\n",
    "If we have a **1D** Numpy array we can create a Polars `Series` or `DataFrame` with zero-copy. We start by creating a 1D array"
   ]
  },
  {
   "cell_type": "code",
   "execution_count": 8,
   "id": "6a75d91e-71d7-4f44-aba8-3bbaa1f17288",
   "metadata": {
    "ExecuteTime": {
     "end_time": "2024-03-04T12:21:46.137664600Z",
     "start_time": "2024-03-04T12:21:46.118665500Z"
    }
   },
   "outputs": [
    {
     "data": {
      "text/plain": "(1000,)"
     },
     "execution_count": 8,
     "metadata": {},
     "output_type": "execute_result"
    }
   ],
   "source": [
    "arr = np.ones(int(1e3))\n",
    "arr.shape"
   ]
  },
  {
   "cell_type": "markdown",
   "id": "58e6e410-61e2-4af7-ba7b-701bcd81c7db",
   "metadata": {},
   "source": [
    "We can then create a zero-copy `Series` or `DataFrame`"
   ]
  },
  {
   "cell_type": "code",
   "execution_count": 9,
   "id": "1c56363f-097b-426a-b9c3-6371f8551a3f",
   "metadata": {
    "ExecuteTime": {
     "end_time": "2024-03-04T12:21:51.974593Z",
     "start_time": "2024-03-04T12:21:51.885618600Z"
    }
   },
   "outputs": [
    {
     "data": {
      "text/plain": "shape: (1_000, 1)\n┌─────┐\n│ a   │\n│ --- │\n│ f64 │\n╞═════╡\n│ 1.0 │\n│ 1.0 │\n│ 1.0 │\n│ 1.0 │\n│ 1.0 │\n│ …   │\n│ 1.0 │\n│ 1.0 │\n│ 1.0 │\n│ 1.0 │\n│ 1.0 │\n└─────┘",
      "text/html": "<div><style>\n.dataframe > thead > tr,\n.dataframe > tbody > tr {\n  text-align: right;\n  white-space: pre-wrap;\n}\n</style>\n<small>shape: (1_000, 1)</small><table border=\"1\" class=\"dataframe\"><thead><tr><th>a</th></tr><tr><td>f64</td></tr></thead><tbody><tr><td>1.0</td></tr><tr><td>1.0</td></tr><tr><td>1.0</td></tr><tr><td>1.0</td></tr><tr><td>1.0</td></tr><tr><td>&hellip;</td></tr><tr><td>1.0</td></tr><tr><td>1.0</td></tr><tr><td>1.0</td></tr><tr><td>1.0</td></tr><tr><td>1.0</td></tr></tbody></table></div>"
     },
     "execution_count": 9,
     "metadata": {},
     "output_type": "execute_result"
    }
   ],
   "source": [
    "# zero copy series conversion\n",
    "pl.Series(\"a\", arr)\n",
    "\n",
    "# zero copy DataFrame conversion\n",
    "pl.DataFrame(\n",
    "    {\n",
    "       \"a\": arr,\n",
    "    }\n",
    ")"
   ]
  },
  {
   "cell_type": "markdown",
   "id": "3ee68560-83bc-4d45-a3c2-8345c58cbe0c",
   "metadata": {},
   "source": [
    "## Convert a `Series` to Numpy\n",
    "Converting a `Series` to Numpy has more options than converting an entire `DataFrame`.\n",
    "\n",
    "To do a simple conversion where the data is cloned use `to_numpy` on the `Series`"
   ]
  },
  {
   "cell_type": "code",
   "execution_count": 10,
   "id": "c8a05fa8-f4c5-44be-8e43-967bbe619216",
   "metadata": {
    "tags": [],
    "ExecuteTime": {
     "end_time": "2024-03-04T12:22:04.182046500Z",
     "start_time": "2024-03-04T12:22:04.109046Z"
    }
   },
   "outputs": [
    {
     "data": {
      "text/plain": "array([22., 38., 26., 35., 35., nan, 54.,  2., 27., 14.])"
     },
     "execution_count": 10,
     "metadata": {},
     "output_type": "execute_result"
    }
   ],
   "source": [
    "df['Age'].head().to_numpy()"
   ]
  },
  {
   "cell_type": "markdown",
   "id": "23fe66f4-a638-4669-b1ec-9325e00f093b",
   "metadata": {},
   "source": [
    "### Convert a `Series` to Numpy with zero-copy\n",
    "In some cases we can convert a `Series` to Numpy without copying (\"zero-copy\"). \n",
    "\n",
    "Zero-copy is only possible if there are no `null` or `NaN` values."
   ]
  },
  {
   "cell_type": "code",
   "execution_count": 11,
   "id": "b391eb3b-24d4-4076-9d10-af08f12bee2f",
   "metadata": {
    "tags": [],
    "ExecuteTime": {
     "end_time": "2024-03-04T12:22:58.738495Z",
     "start_time": "2024-03-04T12:22:58.727859500Z"
    }
   },
   "outputs": [
    {
     "name": "stderr",
     "output_type": "stream",
     "text": [
      "C:\\Users\\A00007579\\AppData\\Local\\Temp\\ipykernel_5660\\3633355554.py:2: DeprecationWarning: The `zero_copy_only` parameter for `Series.to_numpy` is deprecated. Use the `allow_copy` parameter instead, which is the inverse of `zero_copy_only`.\n",
      "  df['Survived']\n"
     ]
    },
    {
     "data": {
      "text/plain": "array([0, 1, 1, 1, 0, 0, 0, 0, 1, 1], dtype=int64)"
     },
     "execution_count": 11,
     "metadata": {},
     "output_type": "execute_result"
    }
   ],
   "source": [
    "arr = (\n",
    "    df['Survived']\n",
    "    .head()\n",
    "    .to_numpy(zero_copy_only=True)\n",
    ")\n",
    "arr"
   ]
  },
  {
   "cell_type": "markdown",
   "id": "436351d6-6a74-4023-87ea-aec8f6effecf",
   "metadata": {},
   "source": [
    "With zero-copy conversion the Numpy array is read-only so you cannot change the values in the Numpy array.\n",
    "\n",
    "In the following example we get an `Exception` when we try to change the values after a zero-copy operation"
   ]
  },
  {
   "cell_type": "code",
   "execution_count": 14,
   "id": "7f401c96-7b23-4efa-a9a6-292ef41f2304",
   "metadata": {
    "tags": [],
    "ExecuteTime": {
     "end_time": "2024-03-04T12:24:30.290877900Z",
     "start_time": "2024-03-04T12:24:30.250873300Z"
    }
   },
   "outputs": [
    {
     "data": {
      "text/plain": "array([0, 1, 1, 1, 0, 0, 0, 0, 1, 1], dtype=int64)"
     },
     "execution_count": 14,
     "metadata": {},
     "output_type": "execute_result"
    }
   ],
   "source": [
    "arr = (\n",
    "    df['Survived']\n",
    "    .head()\n",
    "    .to_numpy(allow_copy=False)\n",
    ")\n",
    "arr\n",
    "arr[0] = 100"
   ]
  },
  {
   "cell_type": "markdown",
   "id": "b6f1eff4-379e-4146-b12b-2a4bfbb0d894",
   "metadata": {},
   "source": [
    "## Convert a `DataFrame` to Pandas\n",
    "\n",
    "### Convert to a Numpy-backed Pandas DataFrame\n",
    "Pandas has historically used Numpy arrays to represent its data in memory.\n",
    "\n",
    "To convert a `DataFrame` to Pandas with Numpy array use the `to_pandas` method. This clones the data similar to calling `to_numpy` on a `DataFrame` above.\n",
    "\n",
    "> This conversion to Pandas requires that you have `PyArrow` installed with `pip` or `conda`."
   ]
  },
  {
   "cell_type": "code",
   "execution_count": 15,
   "id": "1baa03b6-c56c-497d-9d8d-a6709055b340",
   "metadata": {
    "tags": [],
    "ExecuteTime": {
     "end_time": "2024-03-04T12:25:35.121374500Z",
     "start_time": "2024-03-04T12:25:35.071339400Z"
    }
   },
   "outputs": [
    {
     "data": {
      "text/plain": "   PassengerId  Survived  Pclass  \\\n0            1         0       3   \n1            2         1       1   \n\n                                                Name     Sex   Age  SibSp  \\\n0                            Braund, Mr. Owen Harris    male  22.0      1   \n1  Cumings, Mrs. John Bradley (Florence Briggs Th...  female  38.0      1   \n\n   Parch     Ticket     Fare Cabin Embarked  \n0      0  A/5 21171   7.2500  None        S  \n1      0   PC 17599  71.2833   C85        C  ",
      "text/html": "<div>\n<style scoped>\n    .dataframe tbody tr th:only-of-type {\n        vertical-align: middle;\n    }\n\n    .dataframe tbody tr th {\n        vertical-align: top;\n    }\n\n    .dataframe thead th {\n        text-align: right;\n    }\n</style>\n<table border=\"1\" class=\"dataframe\">\n  <thead>\n    <tr style=\"text-align: right;\">\n      <th></th>\n      <th>PassengerId</th>\n      <th>Survived</th>\n      <th>Pclass</th>\n      <th>Name</th>\n      <th>Sex</th>\n      <th>Age</th>\n      <th>SibSp</th>\n      <th>Parch</th>\n      <th>Ticket</th>\n      <th>Fare</th>\n      <th>Cabin</th>\n      <th>Embarked</th>\n    </tr>\n  </thead>\n  <tbody>\n    <tr>\n      <th>0</th>\n      <td>1</td>\n      <td>0</td>\n      <td>3</td>\n      <td>Braund, Mr. Owen Harris</td>\n      <td>male</td>\n      <td>22.0</td>\n      <td>1</td>\n      <td>0</td>\n      <td>A/5 21171</td>\n      <td>7.2500</td>\n      <td>None</td>\n      <td>S</td>\n    </tr>\n    <tr>\n      <th>1</th>\n      <td>2</td>\n      <td>1</td>\n      <td>1</td>\n      <td>Cumings, Mrs. John Bradley (Florence Briggs Th...</td>\n      <td>female</td>\n      <td>38.0</td>\n      <td>1</td>\n      <td>0</td>\n      <td>PC 17599</td>\n      <td>71.2833</td>\n      <td>C85</td>\n      <td>C</td>\n    </tr>\n  </tbody>\n</table>\n</div>"
     },
     "execution_count": 15,
     "metadata": {},
     "output_type": "execute_result"
    }
   ],
   "source": [
    "(\n",
    "    df\n",
    "    .to_pandas()\n",
    "    .head(2)\n",
    ")"
   ]
  },
  {
   "cell_type": "markdown",
   "id": "ad9663cd-67cb-4441-97a2-93038f833ec9",
   "metadata": {},
   "source": [
    "### Convert to a PyArrow-backed Pandas `DataFrame`\n",
    "Since Pandas release 1.5.0 and Polars release 1.6.4 you can have a Pandas `DataFrame` backed by an Arrow Table. You can create a Pandas `DataFrame` that references the same Arrow Table as your Polars `DataFrame`. This means that you can use (some) Pandas code on your data without copying the data"
   ]
  },
  {
   "cell_type": "code",
   "execution_count": 16,
   "id": "fffbc1ec-8912-46c5-ba78-cb9425470dad",
   "metadata": {
    "tags": [],
    "ExecuteTime": {
     "end_time": "2024-03-04T12:26:20.582943300Z",
     "start_time": "2024-03-04T12:26:20.526000200Z"
    }
   },
   "outputs": [
    {
     "data": {
      "text/plain": "  PassengerId Survived Pclass  \\\n0           1        0      3   \n1           2        1      1   \n\n                                                Name     Sex  Age SibSp Parch  \\\n0                            Braund, Mr. Owen Harris    male 22.0     1     0   \n1  Cumings, Mrs. John Bradley (Florence Briggs Th...  female 38.0     1     0   \n\n      Ticket    Fare Cabin Embarked  \n0  A/5 21171    7.25  <NA>        S  \n1   PC 17599 71.2833   C85        C  ",
      "text/html": "<div>\n<style scoped>\n    .dataframe tbody tr th:only-of-type {\n        vertical-align: middle;\n    }\n\n    .dataframe tbody tr th {\n        vertical-align: top;\n    }\n\n    .dataframe thead th {\n        text-align: right;\n    }\n</style>\n<table border=\"1\" class=\"dataframe\">\n  <thead>\n    <tr style=\"text-align: right;\">\n      <th></th>\n      <th>PassengerId</th>\n      <th>Survived</th>\n      <th>Pclass</th>\n      <th>Name</th>\n      <th>Sex</th>\n      <th>Age</th>\n      <th>SibSp</th>\n      <th>Parch</th>\n      <th>Ticket</th>\n      <th>Fare</th>\n      <th>Cabin</th>\n      <th>Embarked</th>\n    </tr>\n  </thead>\n  <tbody>\n    <tr>\n      <th>0</th>\n      <td>1</td>\n      <td>0</td>\n      <td>3</td>\n      <td>Braund, Mr. Owen Harris</td>\n      <td>male</td>\n      <td>22.0</td>\n      <td>1</td>\n      <td>0</td>\n      <td>A/5 21171</td>\n      <td>7.25</td>\n      <td>&lt;NA&gt;</td>\n      <td>S</td>\n    </tr>\n    <tr>\n      <th>1</th>\n      <td>2</td>\n      <td>1</td>\n      <td>1</td>\n      <td>Cumings, Mrs. John Bradley (Florence Briggs Th...</td>\n      <td>female</td>\n      <td>38.0</td>\n      <td>1</td>\n      <td>0</td>\n      <td>PC 17599</td>\n      <td>71.2833</td>\n      <td>C85</td>\n      <td>C</td>\n    </tr>\n  </tbody>\n</table>\n</div>"
     },
     "execution_count": 16,
     "metadata": {},
     "output_type": "execute_result"
    }
   ],
   "source": [
    "(\n",
    "    df\n",
    "    .to_pandas(use_pyarrow_extension_array=True)\n",
    "    .head(2)\n",
    ")"
   ]
  },
  {
   "cell_type": "markdown",
   "id": "c135ccf4-85ac-42d4-b1db-58ab1c96bc6d",
   "metadata": {},
   "source": [
    "The advantage of using the pyarrow extension array is that creating the Pandas `DataFrame` is very cheap as it does not require copying data. \n",
    "\n",
    "If there is a function you want from Pandas you can do a quick transformation to Pandas, apply the function and revert back to Polars. This works in eager mode only of course.\n",
    "\n",
    "This PyArrow conversion is a new feature in both libraries to there may be bugs with trickier features such as categorical or nested columns.\n",
    "\n",
    "Note that when you do **not** use the PyArrow extension approach the dtypes of the columns in Pandas are the standard Pandas dtypes. When you do use the PyArrow extension approach the the dtypes of the columns in Pandas are PyArrow dtypes"
   ]
  },
  {
   "cell_type": "code",
   "execution_count": 17,
   "id": "b32948d2-be4f-4711-aa0d-2d0e944f0ad1",
   "metadata": {
    "tags": [],
    "ExecuteTime": {
     "end_time": "2024-03-04T12:27:22.759836800Z",
     "start_time": "2024-03-04T12:27:22.730810Z"
    }
   },
   "outputs": [
    {
     "data": {
      "text/plain": "PassengerId      int64\nSurvived         int64\nPclass           int64\nName            object\nSex             object\nAge            float64\nSibSp            int64\nParch            int64\nTicket          object\nFare           float64\nCabin           object\nEmbarked        object\ndtype: object"
     },
     "execution_count": 17,
     "metadata": {},
     "output_type": "execute_result"
    }
   ],
   "source": [
    "# Without PyArrow dtypes\n",
    "df.to_pandas(use_pyarrow_extension_array=False).dtypes"
   ]
  },
  {
   "cell_type": "code",
   "execution_count": 18,
   "id": "5a7f930a-a885-4916-9f49-feed0a44acdd",
   "metadata": {
    "tags": [],
    "ExecuteTime": {
     "end_time": "2024-03-04T12:27:24.220730500Z",
     "start_time": "2024-03-04T12:27:24.052750400Z"
    }
   },
   "outputs": [
    {
     "data": {
      "text/plain": "PassengerId           int64[pyarrow]\nSurvived              int64[pyarrow]\nPclass                int64[pyarrow]\nName           large_string[pyarrow]\nSex            large_string[pyarrow]\nAge                  double[pyarrow]\nSibSp                 int64[pyarrow]\nParch                 int64[pyarrow]\nTicket         large_string[pyarrow]\nFare                 double[pyarrow]\nCabin          large_string[pyarrow]\nEmbarked       large_string[pyarrow]\ndtype: object"
     },
     "execution_count": 18,
     "metadata": {},
     "output_type": "execute_result"
    }
   ],
   "source": [
    "# With PyArrow dtypes\n",
    "df.to_pandas(use_pyarrow_extension_array=True).dtypes"
   ]
  },
  {
   "cell_type": "markdown",
   "id": "ff6240e8-0320-406e-9597-dc9070301999",
   "metadata": {},
   "source": [
    "### Calling `pd.DataFrame` on a Polars `DataFrame`\n",
    "With an up-to-date version of Pandas you can call `pd.DataFrame` on a Polars `DataFrame`. But there may still be bugs such as the column names not being converted!"
   ]
  },
  {
   "cell_type": "code",
   "execution_count": 19,
   "id": "861bacdd-68a7-4c0d-83e9-ed3fdbbd4f05",
   "metadata": {
    "tags": [],
    "ExecuteTime": {
     "end_time": "2024-03-04T12:29:42.487722900Z",
     "start_time": "2024-03-04T12:29:42.467725300Z"
    }
   },
   "outputs": [],
   "source": [
    "dfp = (\n",
    "    pd.DataFrame(df)\n",
    "    .head()\n",
    ")"
   ]
  },
  {
   "cell_type": "code",
   "execution_count": 20,
   "id": "0c10d378-07d0-4f1b-a791-40d4a1305c8a",
   "metadata": {
    "ExecuteTime": {
     "end_time": "2024-03-04T12:29:48.058396Z",
     "start_time": "2024-03-04T12:29:47.979595300Z"
    }
   },
   "outputs": [
    {
     "data": {
      "text/plain": "  0  1  2                                                  3       4     5   \\\n0  1  0  3                            Braund, Mr. Owen Harris    male  22.0   \n1  2  1  1  Cumings, Mrs. John Bradley (Florence Briggs Th...  female  38.0   \n2  3  1  3                             Heikkinen, Miss. Laina  female  26.0   \n3  4  1  1       Futrelle, Mrs. Jacques Heath (Lily May Peel)  female  35.0   \n4  5  0  3                           Allen, Mr. William Henry    male  35.0   \n\n  6  7                 8        9     10 11  \n0  1  0         A/5 21171     7.25  None  S  \n1  1  0          PC 17599  71.2833   C85  C  \n2  0  0  STON/O2. 3101282    7.925  None  S  \n3  1  0            113803     53.1  C123  S  \n4  0  0            373450     8.05  None  S  ",
      "text/html": "<div>\n<style scoped>\n    .dataframe tbody tr th:only-of-type {\n        vertical-align: middle;\n    }\n\n    .dataframe tbody tr th {\n        vertical-align: top;\n    }\n\n    .dataframe thead th {\n        text-align: right;\n    }\n</style>\n<table border=\"1\" class=\"dataframe\">\n  <thead>\n    <tr style=\"text-align: right;\">\n      <th></th>\n      <th>0</th>\n      <th>1</th>\n      <th>2</th>\n      <th>3</th>\n      <th>4</th>\n      <th>5</th>\n      <th>6</th>\n      <th>7</th>\n      <th>8</th>\n      <th>9</th>\n      <th>10</th>\n      <th>11</th>\n    </tr>\n  </thead>\n  <tbody>\n    <tr>\n      <th>0</th>\n      <td>1</td>\n      <td>0</td>\n      <td>3</td>\n      <td>Braund, Mr. Owen Harris</td>\n      <td>male</td>\n      <td>22.0</td>\n      <td>1</td>\n      <td>0</td>\n      <td>A/5 21171</td>\n      <td>7.25</td>\n      <td>None</td>\n      <td>S</td>\n    </tr>\n    <tr>\n      <th>1</th>\n      <td>2</td>\n      <td>1</td>\n      <td>1</td>\n      <td>Cumings, Mrs. John Bradley (Florence Briggs Th...</td>\n      <td>female</td>\n      <td>38.0</td>\n      <td>1</td>\n      <td>0</td>\n      <td>PC 17599</td>\n      <td>71.2833</td>\n      <td>C85</td>\n      <td>C</td>\n    </tr>\n    <tr>\n      <th>2</th>\n      <td>3</td>\n      <td>1</td>\n      <td>3</td>\n      <td>Heikkinen, Miss. Laina</td>\n      <td>female</td>\n      <td>26.0</td>\n      <td>0</td>\n      <td>0</td>\n      <td>STON/O2. 3101282</td>\n      <td>7.925</td>\n      <td>None</td>\n      <td>S</td>\n    </tr>\n    <tr>\n      <th>3</th>\n      <td>4</td>\n      <td>1</td>\n      <td>1</td>\n      <td>Futrelle, Mrs. Jacques Heath (Lily May Peel)</td>\n      <td>female</td>\n      <td>35.0</td>\n      <td>1</td>\n      <td>0</td>\n      <td>113803</td>\n      <td>53.1</td>\n      <td>C123</td>\n      <td>S</td>\n    </tr>\n    <tr>\n      <th>4</th>\n      <td>5</td>\n      <td>0</td>\n      <td>3</td>\n      <td>Allen, Mr. William Henry</td>\n      <td>male</td>\n      <td>35.0</td>\n      <td>0</td>\n      <td>0</td>\n      <td>373450</td>\n      <td>8.05</td>\n      <td>None</td>\n      <td>S</td>\n    </tr>\n  </tbody>\n</table>\n</div>"
     },
     "execution_count": 20,
     "metadata": {},
     "output_type": "execute_result"
    }
   ],
   "source": [
    "dfp"
   ]
  },
  {
   "cell_type": "markdown",
   "id": "b60e4c86-8f08-42e3-988b-c5ad4f1065ae",
   "metadata": {},
   "source": [
    "Hopefully this conversion will be easier when both libraries have adopted the [dataframe interchange protocol](https://data-apis.org/dataframe-protocol/latest/index.html).\n",
    "\n",
    "### Conversion from Pandas to Polars\n",
    "You can convert from Pandas to Polars by calling `pl.DataFrame` on the Pandas `DataFrame`"
   ]
  },
  {
   "cell_type": "code",
   "execution_count": 21,
   "id": "f7fdd9b7-6f30-4412-a7d0-ea6e2654b0e6",
   "metadata": {
    "ExecuteTime": {
     "end_time": "2024-03-04T12:30:40.781224700Z",
     "start_time": "2024-03-04T12:30:40.713726800Z"
    }
   },
   "outputs": [
    {
     "data": {
      "text/plain": "shape: (3, 12)\n┌─────────────┬──────────┬────────┬───────────────────┬───┬───────────┬─────────┬───────┬──────────┐\n│ PassengerId ┆ Survived ┆ Pclass ┆ Name              ┆ … ┆ Ticket    ┆ Fare    ┆ Cabin ┆ Embarked │\n│ ---         ┆ ---      ┆ ---    ┆ ---               ┆   ┆ ---       ┆ ---     ┆ ---   ┆ ---      │\n│ i64         ┆ i64      ┆ i64    ┆ str               ┆   ┆ str       ┆ f64     ┆ str   ┆ str      │\n╞═════════════╪══════════╪════════╪═══════════════════╪═══╪═══════════╪═════════╪═══════╪══════════╡\n│ 1           ┆ 0        ┆ 3      ┆ Braund, Mr. Owen  ┆ … ┆ A/5 21171 ┆ 7.25    ┆ null  ┆ S        │\n│             ┆          ┆        ┆ Harris            ┆   ┆           ┆         ┆       ┆          │\n│ 2           ┆ 1        ┆ 1      ┆ Cumings, Mrs.     ┆ … ┆ PC 17599  ┆ 71.2833 ┆ C85   ┆ C        │\n│             ┆          ┆        ┆ John Bradley      ┆   ┆           ┆         ┆       ┆          │\n│             ┆          ┆        ┆ (Flor…            ┆   ┆           ┆         ┆       ┆          │\n│ 3           ┆ 1        ┆ 3      ┆ Heikkinen, Miss.  ┆ … ┆ STON/O2.  ┆ 7.925   ┆ null  ┆ S        │\n│             ┆          ┆        ┆ Laina             ┆   ┆ 3101282   ┆         ┆       ┆          │\n└─────────────┴──────────┴────────┴───────────────────┴───┴───────────┴─────────┴───────┴──────────┘",
      "text/html": "<div><style>\n.dataframe > thead > tr,\n.dataframe > tbody > tr {\n  text-align: right;\n  white-space: pre-wrap;\n}\n</style>\n<small>shape: (3, 12)</small><table border=\"1\" class=\"dataframe\"><thead><tr><th>PassengerId</th><th>Survived</th><th>Pclass</th><th>Name</th><th>Sex</th><th>Age</th><th>SibSp</th><th>Parch</th><th>Ticket</th><th>Fare</th><th>Cabin</th><th>Embarked</th></tr><tr><td>i64</td><td>i64</td><td>i64</td><td>str</td><td>str</td><td>f64</td><td>i64</td><td>i64</td><td>str</td><td>f64</td><td>str</td><td>str</td></tr></thead><tbody><tr><td>1</td><td>0</td><td>3</td><td>&quot;Braund, Mr. Ow…</td><td>&quot;male&quot;</td><td>22.0</td><td>1</td><td>0</td><td>&quot;A/5 21171&quot;</td><td>7.25</td><td>null</td><td>&quot;S&quot;</td></tr><tr><td>2</td><td>1</td><td>1</td><td>&quot;Cumings, Mrs. …</td><td>&quot;female&quot;</td><td>38.0</td><td>1</td><td>0</td><td>&quot;PC 17599&quot;</td><td>71.2833</td><td>&quot;C85&quot;</td><td>&quot;C&quot;</td></tr><tr><td>3</td><td>1</td><td>3</td><td>&quot;Heikkinen, Mis…</td><td>&quot;female&quot;</td><td>26.0</td><td>0</td><td>0</td><td>&quot;STON/O2. 31012…</td><td>7.925</td><td>null</td><td>&quot;S&quot;</td></tr></tbody></table></div>"
     },
     "execution_count": 21,
     "metadata": {},
     "output_type": "execute_result"
    }
   ],
   "source": [
    "(\n",
    "    pl.DataFrame(\n",
    "        df.to_pandas()\n",
    "    )\n",
    "    .head(3)\n",
    ")"
   ]
  },
  {
   "cell_type": "markdown",
   "id": "be8b9c82-4197-413f-8198-6fd308127ab4",
   "metadata": {},
   "source": [
    "Or by calling `pl.from_pandas` on the Pandas `DataFrame`"
   ]
  },
  {
   "cell_type": "code",
   "execution_count": 22,
   "id": "6b8a1748-2852-46d3-a522-d4fe92fb80eb",
   "metadata": {
    "ExecuteTime": {
     "end_time": "2024-03-04T12:31:02.411539800Z",
     "start_time": "2024-03-04T12:31:02.345007Z"
    }
   },
   "outputs": [
    {
     "data": {
      "text/plain": "shape: (3, 12)\n┌─────────────┬──────────┬────────┬───────────────────┬───┬───────────┬─────────┬───────┬──────────┐\n│ PassengerId ┆ Survived ┆ Pclass ┆ Name              ┆ … ┆ Ticket    ┆ Fare    ┆ Cabin ┆ Embarked │\n│ ---         ┆ ---      ┆ ---    ┆ ---               ┆   ┆ ---       ┆ ---     ┆ ---   ┆ ---      │\n│ i64         ┆ i64      ┆ i64    ┆ str               ┆   ┆ str       ┆ f64     ┆ str   ┆ str      │\n╞═════════════╪══════════╪════════╪═══════════════════╪═══╪═══════════╪═════════╪═══════╪══════════╡\n│ 1           ┆ 0        ┆ 3      ┆ Braund, Mr. Owen  ┆ … ┆ A/5 21171 ┆ 7.25    ┆ null  ┆ S        │\n│             ┆          ┆        ┆ Harris            ┆   ┆           ┆         ┆       ┆          │\n│ 2           ┆ 1        ┆ 1      ┆ Cumings, Mrs.     ┆ … ┆ PC 17599  ┆ 71.2833 ┆ C85   ┆ C        │\n│             ┆          ┆        ┆ John Bradley      ┆   ┆           ┆         ┆       ┆          │\n│             ┆          ┆        ┆ (Flor…            ┆   ┆           ┆         ┆       ┆          │\n│ 3           ┆ 1        ┆ 3      ┆ Heikkinen, Miss.  ┆ … ┆ STON/O2.  ┆ 7.925   ┆ null  ┆ S        │\n│             ┆          ┆        ┆ Laina             ┆   ┆ 3101282   ┆         ┆       ┆          │\n└─────────────┴──────────┴────────┴───────────────────┴───┴───────────┴─────────┴───────┴──────────┘",
      "text/html": "<div><style>\n.dataframe > thead > tr,\n.dataframe > tbody > tr {\n  text-align: right;\n  white-space: pre-wrap;\n}\n</style>\n<small>shape: (3, 12)</small><table border=\"1\" class=\"dataframe\"><thead><tr><th>PassengerId</th><th>Survived</th><th>Pclass</th><th>Name</th><th>Sex</th><th>Age</th><th>SibSp</th><th>Parch</th><th>Ticket</th><th>Fare</th><th>Cabin</th><th>Embarked</th></tr><tr><td>i64</td><td>i64</td><td>i64</td><td>str</td><td>str</td><td>f64</td><td>i64</td><td>i64</td><td>str</td><td>f64</td><td>str</td><td>str</td></tr></thead><tbody><tr><td>1</td><td>0</td><td>3</td><td>&quot;Braund, Mr. Ow…</td><td>&quot;male&quot;</td><td>22.0</td><td>1</td><td>0</td><td>&quot;A/5 21171&quot;</td><td>7.25</td><td>null</td><td>&quot;S&quot;</td></tr><tr><td>2</td><td>1</td><td>1</td><td>&quot;Cumings, Mrs. …</td><td>&quot;female&quot;</td><td>38.0</td><td>1</td><td>0</td><td>&quot;PC 17599&quot;</td><td>71.2833</td><td>&quot;C85&quot;</td><td>&quot;C&quot;</td></tr><tr><td>3</td><td>1</td><td>3</td><td>&quot;Heikkinen, Mis…</td><td>&quot;female&quot;</td><td>26.0</td><td>0</td><td>0</td><td>&quot;STON/O2. 31012…</td><td>7.925</td><td>null</td><td>&quot;S&quot;</td></tr></tbody></table></div>"
     },
     "execution_count": 22,
     "metadata": {},
     "output_type": "execute_result"
    }
   ],
   "source": [
    "(\n",
    "    pl.from_pandas(\n",
    "        df.to_pandas()\n",
    "    ).head(3)\n",
    ")"
   ]
  },
  {
   "cell_type": "markdown",
   "id": "0a01bf8e-7495-446b-acba-dce16645da77",
   "metadata": {},
   "source": [
    "## Convert a `Series` to Pandas\n",
    "You can convert a `Series` to Pandas with a call that clones the data"
   ]
  },
  {
   "cell_type": "code",
   "execution_count": 23,
   "id": "3139f054-e628-472b-b0f2-b6063605bccf",
   "metadata": {
    "tags": [],
    "ExecuteTime": {
     "end_time": "2024-03-04T12:31:10.544232500Z",
     "start_time": "2024-03-04T12:31:10.507094800Z"
    }
   },
   "outputs": [
    {
     "data": {
      "text/plain": "0    22.0\n1    38.0\n2    26.0\n3    35.0\n4    35.0\nName: Age, dtype: float64"
     },
     "execution_count": 23,
     "metadata": {},
     "output_type": "execute_result"
    }
   ],
   "source": [
    "(\n",
    "    df['Age']\n",
    "    .to_pandas()\n",
    "    .head()\n",
    ")"
   ]
  },
  {
   "cell_type": "markdown",
   "id": "3a842e99-dd4c-4d3c-8523-a9f3c59c8820",
   "metadata": {},
   "source": [
    "Or you can again use the PyArrow extension type in Pandas for a zero-copy operation"
   ]
  },
  {
   "cell_type": "code",
   "execution_count": 24,
   "id": "d55383dd-7aec-405c-a63b-f008e024fde2",
   "metadata": {
    "tags": [],
    "ExecuteTime": {
     "end_time": "2024-03-04T12:31:13.352621Z",
     "start_time": "2024-03-04T12:31:13.259277300Z"
    }
   },
   "outputs": [
    {
     "data": {
      "text/plain": "0   22.0\n1   38.0\n2   26.0\n3   35.0\n4   35.0\nName: Age, dtype: double[pyarrow]"
     },
     "execution_count": 24,
     "metadata": {},
     "output_type": "execute_result"
    }
   ],
   "source": [
    "(\n",
    "    df['Age']\n",
    "    .to_pandas(use_pyarrow_extension_array=True)\n",
    "    .head()\n",
    ")"
   ]
  },
  {
   "cell_type": "markdown",
   "id": "b3b50bc1-aa7f-4e05-ba6f-65808e0ea75e",
   "metadata": {},
   "source": [
    "## Exercises\n",
    "\n",
    "No exercises for this lecture!"
   ]
  },
  {
   "cell_type": "code",
   "execution_count": null,
   "outputs": [],
   "source": [],
   "metadata": {
    "collapsed": false
   }
  }
 ],
 "metadata": {
  "kernelspec": {
   "display_name": "Python 3 (ipykernel)",
   "language": "python",
   "name": "python3"
  },
  "language_info": {
   "codemirror_mode": {
    "name": "ipython",
    "version": 3
   },
   "file_extension": ".py",
   "mimetype": "text/x-python",
   "name": "python",
   "nbconvert_exporter": "python",
   "pygments_lexer": "ipython3",
   "version": "3.10.1"
  }
 },
 "nbformat": 4,
 "nbformat_minor": 5
}
