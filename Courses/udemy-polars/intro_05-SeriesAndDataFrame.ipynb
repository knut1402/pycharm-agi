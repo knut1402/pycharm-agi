{
 "cells": [
  {
   "cell_type": "markdown",
   "id": "5bac7fa1-eed0-4cd2-be59-36aade27dc6f",
   "metadata": {},
   "source": [
    "## `Series` and `DataFrame`\n",
    "By the end of this lecture you will be able to:\n",
    "- convert between a `Series` and a `DataFrame` column\n",
    "- convert back and forward from python `lists`, `dicts` to `Series` and `DataFrames`\n"
   ]
  },
  {
   "cell_type": "code",
   "execution_count": 1,
   "id": "38b44ad0-a5f4-426e-8c2d-e6ee6d0174c7",
   "metadata": {
    "tags": [],
    "ExecuteTime": {
     "end_time": "2024-03-04T10:48:30.172743200Z",
     "start_time": "2024-03-04T10:48:29.928728Z"
    }
   },
   "outputs": [],
   "source": [
    "import polars as pl"
   ]
  },
  {
   "cell_type": "code",
   "execution_count": 2,
   "id": "82757e51-df36-4fd8-ab62-ead5896221d3",
   "metadata": {
    "tags": [],
    "ExecuteTime": {
     "end_time": "2024-03-04T10:48:35.695987400Z",
     "start_time": "2024-03-04T10:48:35.679184300Z"
    }
   },
   "outputs": [],
   "source": [
    "csv_file = \"data_titanic.csv\""
   ]
  },
  {
   "cell_type": "code",
   "execution_count": 3,
   "id": "9678a1c2-f64e-42d7-aeb3-5df27e2a0560",
   "metadata": {
    "tags": [],
    "ExecuteTime": {
     "end_time": "2024-03-04T10:48:37.803869400Z",
     "start_time": "2024-03-04T10:48:36.418721100Z"
    }
   },
   "outputs": [
    {
     "data": {
      "text/plain": "shape: (3, 12)\n┌─────────────┬──────────┬────────┬───────────────────┬───┬───────────┬─────────┬───────┬──────────┐\n│ PassengerId ┆ Survived ┆ Pclass ┆ Name              ┆ … ┆ Ticket    ┆ Fare    ┆ Cabin ┆ Embarked │\n│ ---         ┆ ---      ┆ ---    ┆ ---               ┆   ┆ ---       ┆ ---     ┆ ---   ┆ ---      │\n│ i64         ┆ i64      ┆ i64    ┆ str               ┆   ┆ str       ┆ f64     ┆ str   ┆ str      │\n╞═════════════╪══════════╪════════╪═══════════════════╪═══╪═══════════╪═════════╪═══════╪══════════╡\n│ 1           ┆ 0        ┆ 3      ┆ Braund, Mr. Owen  ┆ … ┆ A/5 21171 ┆ 7.25    ┆ null  ┆ S        │\n│             ┆          ┆        ┆ Harris            ┆   ┆           ┆         ┆       ┆          │\n│ 2           ┆ 1        ┆ 1      ┆ Cumings, Mrs.     ┆ … ┆ PC 17599  ┆ 71.2833 ┆ C85   ┆ C        │\n│             ┆          ┆        ┆ John Bradley      ┆   ┆           ┆         ┆       ┆          │\n│             ┆          ┆        ┆ (Flor…            ┆   ┆           ┆         ┆       ┆          │\n│ 3           ┆ 1        ┆ 3      ┆ Heikkinen, Miss.  ┆ … ┆ STON/O2.  ┆ 7.925   ┆ null  ┆ S        │\n│             ┆          ┆        ┆ Laina             ┆   ┆ 3101282   ┆         ┆       ┆          │\n└─────────────┴──────────┴────────┴───────────────────┴───┴───────────┴─────────┴───────┴──────────┘",
      "text/html": "<div><style>\n.dataframe > thead > tr,\n.dataframe > tbody > tr {\n  text-align: right;\n  white-space: pre-wrap;\n}\n</style>\n<small>shape: (3, 12)</small><table border=\"1\" class=\"dataframe\"><thead><tr><th>PassengerId</th><th>Survived</th><th>Pclass</th><th>Name</th><th>Sex</th><th>Age</th><th>SibSp</th><th>Parch</th><th>Ticket</th><th>Fare</th><th>Cabin</th><th>Embarked</th></tr><tr><td>i64</td><td>i64</td><td>i64</td><td>str</td><td>str</td><td>f64</td><td>i64</td><td>i64</td><td>str</td><td>f64</td><td>str</td><td>str</td></tr></thead><tbody><tr><td>1</td><td>0</td><td>3</td><td>&quot;Braund, Mr. Ow…</td><td>&quot;male&quot;</td><td>22.0</td><td>1</td><td>0</td><td>&quot;A/5 21171&quot;</td><td>7.25</td><td>null</td><td>&quot;S&quot;</td></tr><tr><td>2</td><td>1</td><td>1</td><td>&quot;Cumings, Mrs. …</td><td>&quot;female&quot;</td><td>38.0</td><td>1</td><td>0</td><td>&quot;PC 17599&quot;</td><td>71.2833</td><td>&quot;C85&quot;</td><td>&quot;C&quot;</td></tr><tr><td>3</td><td>1</td><td>3</td><td>&quot;Heikkinen, Mis…</td><td>&quot;female&quot;</td><td>26.0</td><td>0</td><td>0</td><td>&quot;STON/O2. 31012…</td><td>7.925</td><td>null</td><td>&quot;S&quot;</td></tr></tbody></table></div>"
     },
     "execution_count": 3,
     "metadata": {},
     "output_type": "execute_result"
    }
   ],
   "source": [
    "df = pl.read_csv(csv_file)\n",
    "df.head(3)"
   ]
  },
  {
   "cell_type": "markdown",
   "id": "fc38e9d3-4b0b-4094-8e8e-8e0a37742996",
   "metadata": {},
   "source": [
    "## Converting between a `Series` and a `DataFrame` column\n",
    "\n",
    "We can create a `Series` from a `DataFrame` column with square brackets"
   ]
  },
  {
   "cell_type": "code",
   "execution_count": 4,
   "id": "ccfc0df5-6823-4258-9921-a0f1ca9eae3a",
   "metadata": {
    "tags": [],
    "ExecuteTime": {
     "end_time": "2024-03-04T10:48:50.056346600Z",
     "start_time": "2024-03-04T10:48:50.041834600Z"
    }
   },
   "outputs": [
    {
     "data": {
      "text/plain": "shape: (3,)\nSeries: 'Age' [f64]\n[\n\t22.0\n\t38.0\n\t26.0\n]",
      "text/html": "<div><style>\n.dataframe > thead > tr,\n.dataframe > tbody > tr {\n  text-align: right;\n  white-space: pre-wrap;\n}\n</style>\n<small>shape: (3,)</small><table border=\"1\" class=\"dataframe\"><thead><tr><th>Age</th></tr><tr><td>f64</td></tr></thead><tbody><tr><td>22.0</td></tr><tr><td>38.0</td></tr><tr><td>26.0</td></tr></tbody></table></div>"
     },
     "execution_count": 4,
     "metadata": {},
     "output_type": "execute_result"
    }
   ],
   "source": [
    "(\n",
    "    df[\"Age\"]\n",
    "    .head(3)\n",
    ")"
   ]
  },
  {
   "cell_type": "markdown",
   "id": "493380a4-5218-469b-8eca-46f555f6a754",
   "metadata": {},
   "source": [
    "Note that a `Series` has a name (`Age`) and a dtype (floating 64-bit)\n",
    "\n",
    "We can also create a `Series` from a one-column `DataFrame` using `to_series` (we learn more about the `select` method in the next section of the course)"
   ]
  },
  {
   "cell_type": "code",
   "execution_count": 5,
   "id": "32d5459a-522a-4b10-83e1-6173456d4feb",
   "metadata": {
    "ExecuteTime": {
     "end_time": "2024-03-04T10:48:59.193554900Z",
     "start_time": "2024-03-04T10:48:59.184312200Z"
    }
   },
   "outputs": [
    {
     "data": {
      "text/plain": "shape: (3,)\nSeries: 'Age' [f64]\n[\n\t22.0\n\t38.0\n\t26.0\n]",
      "text/html": "<div><style>\n.dataframe > thead > tr,\n.dataframe > tbody > tr {\n  text-align: right;\n  white-space: pre-wrap;\n}\n</style>\n<small>shape: (3,)</small><table border=\"1\" class=\"dataframe\"><thead><tr><th>Age</th></tr><tr><td>f64</td></tr></thead><tbody><tr><td>22.0</td></tr><tr><td>38.0</td></tr><tr><td>26.0</td></tr></tbody></table></div>"
     },
     "execution_count": 5,
     "metadata": {},
     "output_type": "execute_result"
    }
   ],
   "source": [
    "(\n",
    "    df\n",
    "    .select(\"Age\")\n",
    "    .to_series()\n",
    "    .head(3)\n",
    ")"
   ]
  },
  {
   "cell_type": "markdown",
   "id": "41ab3008-487b-4495-b7e6-e22ae449ff3a",
   "metadata": {},
   "source": [
    "We can convert a `Series` into a one-column `DataFrame` using `to_frame`"
   ]
  },
  {
   "cell_type": "code",
   "execution_count": 6,
   "id": "cd920bc2-32be-4db2-aa0c-6a8d3d69bab6",
   "metadata": {
    "ExecuteTime": {
     "end_time": "2024-03-04T10:49:22.144264Z",
     "start_time": "2024-03-04T10:49:22.133232700Z"
    }
   },
   "outputs": [
    {
     "data": {
      "text/plain": "shape: (3, 1)\n┌───────────────────────────────────┐\n│ Name                              │\n│ ---                               │\n│ str                               │\n╞═══════════════════════════════════╡\n│ Braund, Mr. Owen Harris           │\n│ Cumings, Mrs. John Bradley (Flor… │\n│ Heikkinen, Miss. Laina            │\n└───────────────────────────────────┘",
      "text/html": "<div><style>\n.dataframe > thead > tr,\n.dataframe > tbody > tr {\n  text-align: right;\n  white-space: pre-wrap;\n}\n</style>\n<small>shape: (3, 1)</small><table border=\"1\" class=\"dataframe\"><thead><tr><th>Name</th></tr><tr><td>str</td></tr></thead><tbody><tr><td>&quot;Braund, Mr. Ow…</td></tr><tr><td>&quot;Cumings, Mrs. …</td></tr><tr><td>&quot;Heikkinen, Mis…</td></tr></tbody></table></div>"
     },
     "execution_count": 6,
     "metadata": {},
     "output_type": "execute_result"
    }
   ],
   "source": [
    "s = df[\"Name\"]\n",
    "(\n",
    "    s\n",
    "    .to_frame()\n",
    "    .head(3)\n",
    ")"
   ]
  },
  {
   "cell_type": "markdown",
   "id": "ba6a1848-ed90-4998-9562-b96726f27a91",
   "metadata": {},
   "source": [
    "## Create a `Series` or `DataFrame` from a `list` or `dict`\n",
    "We can create a `Series` from a python `list`"
   ]
  },
  {
   "cell_type": "code",
   "execution_count": 7,
   "id": "121588a3-3023-4915-b7cf-fe3ed196bb2f",
   "metadata": {
    "tags": [],
    "ExecuteTime": {
     "end_time": "2024-03-04T10:49:53.164073100Z",
     "start_time": "2024-03-04T10:49:53.095565600Z"
    }
   },
   "outputs": [
    {
     "data": {
      "text/plain": "shape: (3,)\nSeries: '' [i64]\n[\n\t1\n\t2\n\t3\n]",
      "text/html": "<div><style>\n.dataframe > thead > tr,\n.dataframe > tbody > tr {\n  text-align: right;\n  white-space: pre-wrap;\n}\n</style>\n<small>shape: (3,)</small><table border=\"1\" class=\"dataframe\"><thead><tr><th></th></tr><tr><td>i64</td></tr></thead><tbody><tr><td>1</td></tr><tr><td>2</td></tr><tr><td>3</td></tr></tbody></table></div>"
     },
     "execution_count": 7,
     "metadata": {},
     "output_type": "execute_result"
    }
   ],
   "source": [
    "values = [1,2,3]\n",
    "pl.Series(values)"
   ]
  },
  {
   "cell_type": "markdown",
   "id": "ab1d1e20-e67c-49ca-b54f-ed54797c2deb",
   "metadata": {},
   "source": [
    "If the `name` argument is not set then it defaults to an empty string. The name can be passed as the **first** argument"
   ]
  },
  {
   "cell_type": "code",
   "execution_count": 8,
   "id": "0fb459b5-185c-4f52-9ecf-87eecac2dfb2",
   "metadata": {
    "tags": [],
    "ExecuteTime": {
     "end_time": "2024-03-04T10:50:05.384227400Z",
     "start_time": "2024-03-04T10:50:05.373191700Z"
    }
   },
   "outputs": [
    {
     "data": {
      "text/plain": "shape: (3,)\nSeries: 'vals' [i64]\n[\n\t1\n\t2\n\t3\n]",
      "text/html": "<div><style>\n.dataframe > thead > tr,\n.dataframe > tbody > tr {\n  text-align: right;\n  white-space: pre-wrap;\n}\n</style>\n<small>shape: (3,)</small><table border=\"1\" class=\"dataframe\"><thead><tr><th>vals</th></tr><tr><td>i64</td></tr></thead><tbody><tr><td>1</td></tr><tr><td>2</td></tr><tr><td>3</td></tr></tbody></table></div>"
     },
     "execution_count": 8,
     "metadata": {},
     "output_type": "execute_result"
    }
   ],
   "source": [
    "pl.Series('vals',values)"
   ]
  },
  {
   "cell_type": "markdown",
   "id": "e375a936-7d24-41fd-9f95-88e3bf404370",
   "metadata": {},
   "source": [
    "We can also convert a `Series` to a `list` with `to_list` "
   ]
  },
  {
   "cell_type": "code",
   "execution_count": 9,
   "id": "d4618bea-7275-464e-a46a-69ebd0611ba6",
   "metadata": {
    "ExecuteTime": {
     "end_time": "2024-03-04T10:50:13.906469100Z",
     "start_time": "2024-03-04T10:50:13.876474Z"
    }
   },
   "outputs": [
    {
     "data": {
      "text/plain": "[1, 2, 3]"
     },
     "execution_count": 9,
     "metadata": {},
     "output_type": "execute_result"
    }
   ],
   "source": [
    "pl.Series(name='vals',values=values).to_list()"
   ]
  },
  {
   "cell_type": "markdown",
   "id": "8bd3fe79-2418-4fd3-8efa-a2ca7963aeca",
   "metadata": {},
   "source": [
    "> In the section Selecting Columns and Transforming DataFrames we see how to add a column to a `DataFrame` from a list.\n",
    "\n",
    "We can create a `DataFrame` with:\n",
    "- a `list` of `lists` where each `list` is a column and\n",
    "- a list of string column names"
   ]
  },
  {
   "cell_type": "code",
   "execution_count": 10,
   "id": "4232e003-4d95-49ee-ad79-aa49a8333ad6",
   "metadata": {
    "tags": [],
    "ExecuteTime": {
     "end_time": "2024-03-04T10:50:34.798441900Z",
     "start_time": "2024-03-04T10:50:34.771696Z"
    }
   },
   "outputs": [
    {
     "data": {
      "text/plain": "shape: (3, 2)\n┌──────┬──────┐\n│ col0 ┆ col1 │\n│ ---  ┆ ---  │\n│ i64  ┆ i64  │\n╞══════╪══════╡\n│ 1    ┆ 4    │\n│ 2    ┆ 5    │\n│ 3    ┆ 6    │\n└──────┴──────┘",
      "text/html": "<div><style>\n.dataframe > thead > tr,\n.dataframe > tbody > tr {\n  text-align: right;\n  white-space: pre-wrap;\n}\n</style>\n<small>shape: (3, 2)</small><table border=\"1\" class=\"dataframe\"><thead><tr><th>col0</th><th>col1</th></tr><tr><td>i64</td><td>i64</td></tr></thead><tbody><tr><td>1</td><td>4</td></tr><tr><td>2</td><td>5</td></tr><tr><td>3</td><td>6</td></tr></tbody></table></div>"
     },
     "execution_count": 10,
     "metadata": {},
     "output_type": "execute_result"
    }
   ],
   "source": [
    "data = [\n",
    "    [1,2,3],\n",
    "    [4,5,6]\n",
    "]\n",
    "(\n",
    "    pl.DataFrame(\n",
    "        data,\n",
    "        schema=[\"col0\",\"col1\"]\n",
    "    )\n",
    ")"
   ]
  },
  {
   "cell_type": "markdown",
   "id": "bad11700-0ff4-4e35-801f-4ac979425a14",
   "metadata": {},
   "source": [
    "We can also create a `DataFrame` from a `dict`"
   ]
  },
  {
   "cell_type": "code",
   "execution_count": 11,
   "id": "0115006c-084c-4f7f-929e-b9e24ca8cb08",
   "metadata": {
    "tags": [],
    "ExecuteTime": {
     "end_time": "2024-03-04T10:50:57.995699600Z",
     "start_time": "2024-03-04T10:50:57.980169900Z"
    }
   },
   "outputs": [
    {
     "data": {
      "text/plain": "shape: (3, 2)\n┌──────┬──────┐\n│ col0 ┆ col1 │\n│ ---  ┆ ---  │\n│ i64  ┆ i64  │\n╞══════╪══════╡\n│ 1    ┆ 4    │\n│ 2    ┆ 5    │\n│ 3    ┆ 6    │\n└──────┴──────┘",
      "text/html": "<div><style>\n.dataframe > thead > tr,\n.dataframe > tbody > tr {\n  text-align: right;\n  white-space: pre-wrap;\n}\n</style>\n<small>shape: (3, 2)</small><table border=\"1\" class=\"dataframe\"><thead><tr><th>col0</th><th>col1</th></tr><tr><td>i64</td><td>i64</td></tr></thead><tbody><tr><td>1</td><td>4</td></tr><tr><td>2</td><td>5</td></tr><tr><td>3</td><td>6</td></tr></tbody></table></div>"
     },
     "execution_count": 11,
     "metadata": {},
     "output_type": "execute_result"
    }
   ],
   "source": [
    "data_dict = {\"col0\":[1,2,3],\"col1\":[4,5,6]}\n",
    "(\n",
    "    pl.DataFrame(\n",
    "        data_dict,\n",
    "    )\n",
    ")"
   ]
  },
  {
   "cell_type": "markdown",
   "id": "a4f9d9ff-2b1d-4db2-b0e6-b509b04b4249",
   "metadata": {},
   "source": [
    "We can specify dtypes by passing a `dict` to the `schema` argument. In this example we specify a 32-bit integer type for the `col1` column"
   ]
  },
  {
   "cell_type": "code",
   "execution_count": 12,
   "id": "89336b9c-f979-46e0-8c30-4494da2bcbb6",
   "metadata": {
    "ExecuteTime": {
     "end_time": "2024-03-04T10:51:12.129040900Z",
     "start_time": "2024-03-04T10:51:12.114020500Z"
    }
   },
   "outputs": [
    {
     "data": {
      "text/plain": "shape: (3, 2)\n┌──────┬──────┐\n│ col0 ┆ col1 │\n│ ---  ┆ ---  │\n│ i64  ┆ i32  │\n╞══════╪══════╡\n│ 1    ┆ 4    │\n│ 2    ┆ 5    │\n│ 3    ┆ 6    │\n└──────┴──────┘",
      "text/html": "<div><style>\n.dataframe > thead > tr,\n.dataframe > tbody > tr {\n  text-align: right;\n  white-space: pre-wrap;\n}\n</style>\n<small>shape: (3, 2)</small><table border=\"1\" class=\"dataframe\"><thead><tr><th>col0</th><th>col1</th></tr><tr><td>i64</td><td>i32</td></tr></thead><tbody><tr><td>1</td><td>4</td></tr><tr><td>2</td><td>5</td></tr><tr><td>3</td><td>6</td></tr></tbody></table></div>"
     },
     "execution_count": 12,
     "metadata": {},
     "output_type": "execute_result"
    }
   ],
   "source": [
    "data_dict = {\"col0\":[1,2,3],\"col1\":[4,5,6]}\n",
    "(\n",
    "    pl.DataFrame(\n",
    "        data_dict,\n",
    "        schema={\n",
    "            \"col0\":pl.Int64,\n",
    "            \"col1\":pl.Int32\n",
    "        }\n",
    "    )\n",
    ")"
   ]
  },
  {
   "cell_type": "markdown",
   "id": "16402536-d78b-4cac-8e97-39f5b1956ee2",
   "metadata": {},
   "source": [
    "Finally we can get a `DataFrame` as a `list` of `dicts` with `to_dicts`"
   ]
  },
  {
   "cell_type": "code",
   "execution_count": 13,
   "id": "d3b9e803-f691-4625-b88d-3acfaaab5ad4",
   "metadata": {
    "ExecuteTime": {
     "end_time": "2024-03-04T10:51:32.834403600Z",
     "start_time": "2024-03-04T10:51:32.823368600Z"
    }
   },
   "outputs": [
    {
     "data": {
      "text/plain": "[{'col0': 1, 'col1': 4}, {'col0': 2, 'col1': 5}, {'col0': 3, 'col1': 6}]"
     },
     "execution_count": 13,
     "metadata": {},
     "output_type": "execute_result"
    }
   ],
   "source": [
    "df = (\n",
    "    pl.DataFrame(\n",
    "        data_dict,\n",
    "    )\n",
    ")\n",
    "df.to_dicts()"
   ]
  },
  {
   "cell_type": "markdown",
   "id": "01cd0613-b9f5-4dcb-bbd6-38ed87b1318b",
   "metadata": {},
   "source": [
    "The output from `to_dicts` is useful for testing. In the automated tests for the Polars repo on GitHub (and the automated tests for this course material) the output of queries is often tested using `to_dicts` like this "
   ]
  },
  {
   "cell_type": "code",
   "execution_count": 14,
   "id": "c58e7888-07ff-4e86-b2ee-7b2a0ece6928",
   "metadata": {
    "ExecuteTime": {
     "end_time": "2024-03-04T10:52:21.215289400Z",
     "start_time": "2024-03-04T10:52:21.201292500Z"
    }
   },
   "outputs": [],
   "source": [
    "assert df.to_dicts() == [{'col0': 1, 'col1': 4}, {'col0': 2, 'col1': 5}, {'col0': 3, 'col1': 6}]"
   ]
  },
  {
   "cell_type": "markdown",
   "id": "5a90721e-a8d4-4669-b558-26e32d2d9cf9",
   "metadata": {},
   "source": [
    "In  the exercises we see how to create a `DataFrame` from a `dict`."
   ]
  },
  {
   "cell_type": "markdown",
   "id": "ff306a34-b0bd-4499-89eb-a27d4728e9d6",
   "metadata": {},
   "source": [
    "## Exercises\n",
    "In the exercises you will develop your understanding of:\n",
    "- extracting a `Series` from a `DataFrame`\n",
    "- getting metadata from a `Series`\n",
    "- creating a `Series` from a `list`\n",
    "- creating a `DataFrames` from `lists`\n",
    "\n",
    "### Exercise 1\n",
    "Extract the `Age` column as a `Series` and then find:\n",
    "- the `dtype` of the `Series`\n",
    "- the median of the `Series`"
   ]
  },
  {
   "cell_type": "code",
   "execution_count": 16,
   "id": "c3687a49-5511-4bdc-a20b-83a8e30afc44",
   "metadata": {
    "ExecuteTime": {
     "end_time": "2024-03-04T10:53:43.524183600Z",
     "start_time": "2024-03-04T10:53:43.498185600Z"
    }
   },
   "outputs": [
    {
     "data": {
      "text/plain": "shape: (5,)\nSeries: 'Age' [f64]\n[\n\t22.0\n\t38.0\n\t26.0\n\t35.0\n\t35.0\n]",
      "text/html": "<div><style>\n.dataframe > thead > tr,\n.dataframe > tbody > tr {\n  text-align: right;\n  white-space: pre-wrap;\n}\n</style>\n<small>shape: (5,)</small><table border=\"1\" class=\"dataframe\"><thead><tr><th>Age</th></tr><tr><td>f64</td></tr></thead><tbody><tr><td>22.0</td></tr><tr><td>38.0</td></tr><tr><td>26.0</td></tr><tr><td>35.0</td></tr><tr><td>35.0</td></tr></tbody></table></div>"
     },
     "execution_count": 16,
     "metadata": {},
     "output_type": "execute_result"
    }
   ],
   "source": [
    "df = pl.read_csv(csv_file)\n",
    "s = df['Age']\n",
    "s.head(5)"
   ]
  },
  {
   "cell_type": "code",
   "execution_count": 19,
   "id": "85e2633e-dcf4-4627-8b71-6b33baa07aaa",
   "metadata": {
    "ExecuteTime": {
     "end_time": "2024-03-04T10:54:19.069718500Z",
     "start_time": "2024-03-04T10:54:19.044798800Z"
    }
   },
   "outputs": [
    {
     "data": {
      "text/plain": "28.0"
     },
     "execution_count": 19,
     "metadata": {},
     "output_type": "execute_result"
    }
   ],
   "source": [
    "s.dtype\n",
    "\n",
    "s.median()"
   ]
  },
  {
   "cell_type": "markdown",
   "id": "49ce9afd-eb0b-466f-a519-d387b4315a72",
   "metadata": {},
   "source": [
    "### Exercise 2\n",
    "You have the following Python `lists` with data.  "
   ]
  },
  {
   "cell_type": "code",
   "execution_count": 22,
   "id": "010d1e16-0cd3-4bb7-b036-f2b956ca0298",
   "metadata": {
    "ExecuteTime": {
     "end_time": "2024-03-04T10:54:33.188965700Z",
     "start_time": "2024-03-04T10:54:33.169964700Z"
    }
   },
   "outputs": [],
   "source": [
    "groups = [\"a\",\"a\",\"b\",\"b\",\"c\"]\n",
    "values = [0,1,2,3,4]"
   ]
  },
  {
   "cell_type": "markdown",
   "id": "2693cc3f-d445-408b-a3b9-6a80f6a1361b",
   "metadata": {},
   "source": [
    "Create a `Series` called `groupsSeries` from the `groups` list. The name inside the `Series` should be `groups`"
   ]
  },
  {
   "cell_type": "code",
   "execution_count": 23,
   "id": "b3db5f48-5e26-42b0-9796-6832dce94717",
   "metadata": {
    "ExecuteTime": {
     "end_time": "2024-03-04T10:56:01.008445900Z",
     "start_time": "2024-03-04T10:56:00.954922600Z"
    }
   },
   "outputs": [
    {
     "data": {
      "text/plain": "shape: (5,)\nSeries: 'groupsSeries' [str]\n[\n\t\"a\"\n\t\"a\"\n\t\"b\"\n\t\"b\"\n\t\"c\"\n]",
      "text/html": "<div><style>\n.dataframe > thead > tr,\n.dataframe > tbody > tr {\n  text-align: right;\n  white-space: pre-wrap;\n}\n</style>\n<small>shape: (5,)</small><table border=\"1\" class=\"dataframe\"><thead><tr><th>groupsSeries</th></tr><tr><td>str</td></tr></thead><tbody><tr><td>&quot;a&quot;</td></tr><tr><td>&quot;a&quot;</td></tr><tr><td>&quot;b&quot;</td></tr><tr><td>&quot;b&quot;</td></tr><tr><td>&quot;c&quot;</td></tr></tbody></table></div>"
     },
     "execution_count": 23,
     "metadata": {},
     "output_type": "execute_result"
    }
   ],
   "source": [
    "pl.Series('groupsSeries', groups)"
   ]
  },
  {
   "cell_type": "markdown",
   "id": "0638ce9f-d575-4e94-b3f3-842f7ea63583",
   "metadata": {},
   "source": [
    "Create a `DataFrame` by passing these as a Python `dict` to `pl.DataFrame`"
   ]
  },
  {
   "cell_type": "code",
   "execution_count": null,
   "id": "b622fd45-1871-4a4d-b23c-4df8dcf0a30e",
   "metadata": {},
   "outputs": [],
   "source": []
  },
  {
   "cell_type": "markdown",
   "id": "f41e0e97-7fe8-4264-b873-c022872625d5",
   "metadata": {},
   "source": [
    "## Solutions\n",
    "\n",
    "### Solution to exercise 1\n",
    "Extract the `Age` column as a `Series` and find:\n",
    "- the `dtype` of the `Series`\n",
    "- the median of the `Series`"
   ]
  },
  {
   "cell_type": "code",
   "execution_count": 20,
   "id": "d365de99-d54d-4ec4-9cfa-9ab6723139fd",
   "metadata": {
    "jupyter": {
     "source_hidden": true
    },
    "tags": [],
    "ExecuteTime": {
     "end_time": "2024-03-04T10:54:23.355564300Z",
     "start_time": "2024-03-04T10:54:23.261569200Z"
    }
   },
   "outputs": [
    {
     "data": {
      "text/plain": "Float64"
     },
     "execution_count": 20,
     "metadata": {},
     "output_type": "execute_result"
    }
   ],
   "source": [
    "df = pl.read_csv(csv_file)\n",
    "s = df[\"Age\"]\n",
    "s.dtype"
   ]
  },
  {
   "cell_type": "code",
   "execution_count": 21,
   "id": "a644b9e4-1cdb-4774-b3b5-59d6f9464786",
   "metadata": {
    "jupyter": {
     "source_hidden": true
    },
    "tags": [],
    "ExecuteTime": {
     "end_time": "2024-03-04T10:54:24.163921Z",
     "start_time": "2024-03-04T10:54:24.090924400Z"
    }
   },
   "outputs": [
    {
     "data": {
      "text/plain": "28.0"
     },
     "execution_count": 21,
     "metadata": {},
     "output_type": "execute_result"
    }
   ],
   "source": [
    "df = pl.read_csv(csv_file)\n",
    "s = df[\"Age\"]\n",
    "s.median()"
   ]
  },
  {
   "cell_type": "markdown",
   "id": "21a98098-1e23-4bfb-b1e4-cab2b65b43c5",
   "metadata": {},
   "source": [
    "### Solution to exercise 2\n",
    "You have the following Python `lists` with data.  "
   ]
  },
  {
   "cell_type": "code",
   "execution_count": null,
   "id": "ea333f06-ff67-47ff-a0a9-1d1d8754fac7",
   "metadata": {
    "tags": []
   },
   "outputs": [],
   "source": [
    "groups = [\"a\",\"a\",\"b\",\"b\",\"c\"]\n",
    "values = [0,1,2,3,4]"
   ]
  },
  {
   "cell_type": "markdown",
   "id": "12bf52c5-8225-42bc-a6d8-a5207fa92049",
   "metadata": {},
   "source": [
    "Create a `Series` called `groupsSeries` from the `groups` list. The name inside the `Series` should be `groups`"
   ]
  },
  {
   "cell_type": "code",
   "execution_count": 24,
   "id": "69329a8f-ca31-43fc-9b59-a652e4bd4fde",
   "metadata": {
    "jupyter": {
     "source_hidden": true
    },
    "tags": [],
    "ExecuteTime": {
     "end_time": "2024-03-04T10:56:19.601687600Z",
     "start_time": "2024-03-04T10:56:19.568590700Z"
    }
   },
   "outputs": [],
   "source": [
    "groupsSeries = pl.Series(\"groups\",groups)"
   ]
  },
  {
   "cell_type": "markdown",
   "id": "bfb15a0e-d339-4441-82d0-d5ed2324921f",
   "metadata": {},
   "source": [
    "Create a `DataFrame` by passing these as a Python `dict` to `pl.DataFrame`"
   ]
  },
  {
   "cell_type": "code",
   "execution_count": 25,
   "id": "7be86390-6277-48ce-925d-f60227704732",
   "metadata": {
    "jupyter": {
     "source_hidden": true
    },
    "tags": [],
    "ExecuteTime": {
     "end_time": "2024-03-04T10:56:23.217663200Z",
     "start_time": "2024-03-04T10:56:23.195647700Z"
    }
   },
   "outputs": [
    {
     "data": {
      "text/plain": "shape: (5, 2)\n┌────────┬──────┐\n│ groups ┆ vals │\n│ ---    ┆ ---  │\n│ str    ┆ i64  │\n╞════════╪══════╡\n│ a      ┆ 0    │\n│ a      ┆ 1    │\n│ b      ┆ 2    │\n│ b      ┆ 3    │\n│ c      ┆ 4    │\n└────────┴──────┘",
      "text/html": "<div><style>\n.dataframe > thead > tr,\n.dataframe > tbody > tr {\n  text-align: right;\n  white-space: pre-wrap;\n}\n</style>\n<small>shape: (5, 2)</small><table border=\"1\" class=\"dataframe\"><thead><tr><th>groups</th><th>vals</th></tr><tr><td>str</td><td>i64</td></tr></thead><tbody><tr><td>&quot;a&quot;</td><td>0</td></tr><tr><td>&quot;a&quot;</td><td>1</td></tr><tr><td>&quot;b&quot;</td><td>2</td></tr><tr><td>&quot;b&quot;</td><td>3</td></tr><tr><td>&quot;c&quot;</td><td>4</td></tr></tbody></table></div>"
     },
     "execution_count": 25,
     "metadata": {},
     "output_type": "execute_result"
    }
   ],
   "source": [
    "pl.DataFrame(\n",
    "    {\n",
    "        \"groups\":groups,\n",
    "        \"vals\":values\n",
    "    }\n",
    ")"
   ]
  },
  {
   "cell_type": "code",
   "execution_count": null,
   "outputs": [],
   "source": [],
   "metadata": {
    "collapsed": false
   }
  }
 ],
 "metadata": {
  "kernelspec": {
   "display_name": "Python 3 (ipykernel)",
   "language": "python",
   "name": "python3"
  },
  "language_info": {
   "codemirror_mode": {
    "name": "ipython",
    "version": 3
   },
   "file_extension": ".py",
   "mimetype": "text/x-python",
   "name": "python",
   "nbconvert_exporter": "python",
   "pygments_lexer": "ipython3",
   "version": "3.10.1"
  }
 },
 "nbformat": 4,
 "nbformat_minor": 5
}
