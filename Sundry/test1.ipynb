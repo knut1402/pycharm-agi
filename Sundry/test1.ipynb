{
 "cells": [
  {
   "cell_type": "code",
   "execution_count": 2,
   "metadata": {},
   "outputs": [],
   "source": [
    "import pandas as pd\n",
    "import QuantLib as ql\n",
    "import meerkat as mk\n",
    "import os"
   ]
  },
  {
   "cell_type": "code",
   "execution_count": 10,
   "metadata": {},
   "outputs": [
    {
     "data": {
      "text/plain": [
       "'C:\\\\Users\\\\A00007579\\\\PycharmProjects\\\\pythonProject'"
      ]
     },
     "execution_count": 10,
     "metadata": {},
     "output_type": "execute_result"
    }
   ],
   "source": [
    "os.chdir('C:\\\\Users\\\\A00007579\\\\PycharmProjects\\\\pythonProject')\n",
    "os.getcwd()"
   ]
  },
  {
   "cell_type": "code",
   "execution_count": 18,
   "metadata": {},
   "outputs": [],
   "source": [
    "pdf_paths = [\"C://Users/A00007579/PycharmProjects/pythonProject/DataLake/pdf/barcap_grw_200423.pdf\"]"
   ]
  },
  {
   "cell_type": "code",
   "execution_count": 19,
   "metadata": {},
   "outputs": [
    {
     "data": {
      "text/plain": [
       "['C://Users/A00007579/PycharmProjects/pythonProject/DataLake/pdf/barcap_grw_200423.pdf']"
      ]
     },
     "execution_count": 19,
     "metadata": {},
     "output_type": "execute_result"
    }
   ],
   "source": [
    "pdf_paths"
   ]
  },
  {
   "cell_type": "code",
   "execution_count": 20,
   "metadata": {},
   "outputs": [],
   "source": [
    "df = mk.DataFrame({'pdf': mk.files(pdf_paths)})"
   ]
  },
  {
   "cell_type": "code",
   "execution_count": 24,
   "metadata": {},
   "outputs": [
    {
     "name": "stderr",
     "output_type": "stream",
     "text": [
      "ERROR:    [Errno 10048] error while attempting to bind on address ('127.0.0.1', 5000): only one usage of each socket address (protocol/network address/port) is normally permitted\n"
     ]
    },
    {
     "ename": "RuntimeError",
     "evalue": "Server failed to start. This is likely due to a port conflict, retry with another port.",
     "output_type": "error",
     "traceback": [
      "\u001B[1;31m---------------------------------------------------------------------------\u001B[0m",
      "\u001B[1;31mRuntimeError\u001B[0m                              Traceback (most recent call last)",
      "Cell \u001B[1;32mIn[24], line 1\u001B[0m\n\u001B[1;32m----> 1\u001B[0m \u001B[43mmk\u001B[49m\u001B[38;5;241;43m.\u001B[39;49m\u001B[43mgui\u001B[49m\u001B[38;5;241;43m.\u001B[39;49m\u001B[43mstart\u001B[49m\u001B[43m(\u001B[49m\u001B[43mapi_port\u001B[49m\u001B[38;5;241;43m=\u001B[39;49m\u001B[38;5;241;43m5000\u001B[39;49m\u001B[43m,\u001B[49m\u001B[43m \u001B[49m\u001B[43mfrontend_port\u001B[49m\u001B[38;5;241;43m=\u001B[39;49m\u001B[38;5;241;43m8194\u001B[39;49m\u001B[43m,\u001B[49m\u001B[43m \u001B[49m\u001B[43mdev\u001B[49m\u001B[38;5;241;43m=\u001B[39;49m\u001B[38;5;28;43;01mFalse\u001B[39;49;00m\u001B[43m)\u001B[49m\n\u001B[0;32m      2\u001B[0m mk\u001B[38;5;241m.\u001B[39mgui\u001B[38;5;241m.\u001B[39mGallery(df, main_column\u001B[38;5;241m=\u001B[39m\u001B[38;5;124m'\u001B[39m\u001B[38;5;124mpdf\u001B[39m\u001B[38;5;124m'\u001B[39m)\n",
      "File \u001B[1;32mC:\\winapp\\Anaconda\\envs\\pythonProject\\lib\\site-packages\\meerkat\\interactive\\startup.py:614\u001B[0m, in \u001B[0;36mstart\u001B[1;34m(package_manager, shareable, subdomain, api_server_name, api_port, frontend_port, dev, skip_build)\u001B[0m\n\u001B[0;32m    611\u001B[0m     \u001B[38;5;28;01mreturn\u001B[39;00m\n\u001B[0;32m    613\u001B[0m \u001B[38;5;66;03m# Run the API server\u001B[39;00m\n\u001B[1;32m--> 614\u001B[0m api_info \u001B[38;5;241m=\u001B[39m \u001B[43mrun_api_server\u001B[49m\u001B[43m(\u001B[49m\u001B[43mapi_server_name\u001B[49m\u001B[43m,\u001B[49m\u001B[43m \u001B[49m\u001B[43mapi_port\u001B[49m\u001B[43m,\u001B[49m\u001B[43m \u001B[49m\u001B[43mdev\u001B[49m\u001B[43m,\u001B[49m\u001B[43m \u001B[49m\u001B[43mshareable\u001B[49m\u001B[43m,\u001B[49m\u001B[43m \u001B[49m\u001B[43msubdomain\u001B[49m\u001B[43m)\u001B[49m\n\u001B[0;32m    616\u001B[0m \u001B[38;5;66;03m# Run the frontend server\u001B[39;00m\n\u001B[0;32m    617\u001B[0m frontend_info \u001B[38;5;241m=\u001B[39m run_frontend(\n\u001B[0;32m    618\u001B[0m     package_manager,\n\u001B[0;32m    619\u001B[0m     frontend_port,\n\u001B[1;32m   (...)\u001B[0m\n\u001B[0;32m    625\u001B[0m     skip_build\u001B[38;5;241m=\u001B[39mskip_build,\n\u001B[0;32m    626\u001B[0m )\n",
      "File \u001B[1;32mC:\\winapp\\Anaconda\\envs\\pythonProject\\lib\\site-packages\\meerkat\\interactive\\startup.py:230\u001B[0m, in \u001B[0;36mrun_api_server\u001B[1;34m(server_name, port, dev, shareable, subdomain)\u001B[0m\n\u001B[0;32m    218\u001B[0m \u001B[38;5;66;03m# Start the FastAPI server\u001B[39;00m\n\u001B[0;32m    219\u001B[0m \u001B[38;5;66;03m# Note: it isn't possible to support live reloading\u001B[39;00m\n\u001B[0;32m    220\u001B[0m \u001B[38;5;66;03m# via uvicorn with this method\u001B[39;00m\n\u001B[0;32m    221\u001B[0m server \u001B[38;5;241m=\u001B[39m Server(\n\u001B[0;32m    222\u001B[0m     Config(\n\u001B[0;32m    223\u001B[0m         \u001B[38;5;124m\"\u001B[39m\u001B[38;5;124mmeerkat.interactive.api.main:app\u001B[39m\u001B[38;5;124m\"\u001B[39m,\n\u001B[1;32m   (...)\u001B[0m\n\u001B[0;32m    228\u001B[0m     )\n\u001B[0;32m    229\u001B[0m )\n\u001B[1;32m--> 230\u001B[0m \u001B[43mserver\u001B[49m\u001B[38;5;241;43m.\u001B[39;49m\u001B[43mrun_in_thread\u001B[49m\u001B[43m(\u001B[49m\u001B[43m)\u001B[49m\n\u001B[0;32m    231\u001B[0m os\u001B[38;5;241m.\u001B[39mchdir(currdir)\n\u001B[0;32m    233\u001B[0m \u001B[38;5;66;03m# If shareable, start the tunnel\u001B[39;00m\n",
      "File \u001B[1;32mC:\\winapp\\Anaconda\\envs\\pythonProject\\lib\\site-packages\\meerkat\\interactive\\server.py:33\u001B[0m, in \u001B[0;36mServer.run_in_thread\u001B[1;34m(self)\u001B[0m\n\u001B[0;32m     31\u001B[0m \u001B[38;5;66;03m# Wait 3 seconds for the server to start, otherwise raise an error.\u001B[39;00m\n\u001B[0;32m     32\u001B[0m \u001B[38;5;28;01mif\u001B[39;00m time\u001B[38;5;241m.\u001B[39mtime() \u001B[38;5;241m-\u001B[39m start_time \u001B[38;5;241m>\u001B[39m \u001B[38;5;241m3\u001B[39m:\n\u001B[1;32m---> 33\u001B[0m     \u001B[38;5;28;01mraise\u001B[39;00m \u001B[38;5;167;01mRuntimeError\u001B[39;00m(\n\u001B[0;32m     34\u001B[0m         \u001B[38;5;124m\"\u001B[39m\u001B[38;5;124mServer failed to start. \u001B[39m\u001B[38;5;124m\"\u001B[39m\n\u001B[0;32m     35\u001B[0m         \u001B[38;5;124m\"\u001B[39m\u001B[38;5;124mThis is likely due to a port conflict, \u001B[39m\u001B[38;5;124m\"\u001B[39m\n\u001B[0;32m     36\u001B[0m         \u001B[38;5;124m\"\u001B[39m\u001B[38;5;124mretry with another port.\u001B[39m\u001B[38;5;124m\"\u001B[39m\n\u001B[0;32m     37\u001B[0m     )\n",
      "\u001B[1;31mRuntimeError\u001B[0m: Server failed to start. This is likely due to a port conflict, retry with another port."
     ]
    }
   ],
   "source": [
    "mk.gui.start(api_port=5000, frontend_port=8194, dev=False)\n",
    "mk.gui.Gallery(df, main_column='pdf')"
   ]
  }
 ],
 "metadata": {
  "kernelspec": {
   "display_name": "Python 3 (ipykernel)",
   "language": "python",
   "name": "python3"
  },
  "language_info": {
   "codemirror_mode": {
    "name": "ipython",
    "version": 3
   },
   "file_extension": ".py",
   "mimetype": "text/x-python",
   "name": "python",
   "nbconvert_exporter": "python",
   "pygments_lexer": "ipython3",
   "version": "3.10.10"
  }
 },
 "nbformat": 4,
 "nbformat_minor": 1
}
